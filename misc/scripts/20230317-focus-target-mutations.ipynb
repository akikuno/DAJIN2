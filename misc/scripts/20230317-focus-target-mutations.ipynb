{
 "cells": [
  {
   "attachments": {},
   "cell_type": "markdown",
   "metadata": {},
   "source": [
    "# 今回の取り組み"
   ]
  },
  {
   "attachments": {},
   "cell_type": "markdown",
   "metadata": {},
   "source": [
    "下記の2つについて、`correct_sequence_error`などで補正するときに、**変異候補の塩基配列のみを対象とする**ことで対応できる可能性がある\n",
    "\n",
    "+ [ ] cis変異の両端が欠失している場合に、Nで置き換えるとtransとなってしまうのをどうするか（`replace_n`）\n",
    "+ [ ] 短いリードの扱いをどうするべきか\n",
    "\n",
    "- 変異候補の塩基配列のみを対象とする\n",
    "    - 両端が欠失しているようなリードについて、変異候補部位を含まないリードは`uncategorized`といったカテゴリにできる\n",
    "    - よって**変異候補部位を含むか含まないか**を考えることで、短いリードや両端が欠失しているリードの分類が可能になる？"
   ]
  },
  {
   "cell_type": "markdown",
   "metadata": {},
   "source": [
    "## いつものセットアップ"
   ]
  },
  {
   "cell_type": "code",
   "execution_count": 4,
   "metadata": {},
   "outputs": [
    {
     "name": "stdout",
     "output_type": "stream",
     "text": [
      "/mnt/d/Research/DAJIN2\n"
     ]
    }
   ],
   "source": [
    "# ルートディレクトリをPathに含めるおまじない\n",
    "import sys, os\n",
    "from pathlib import Path\n",
    "if Path(os.getcwd()).stem != \"DAJIN2\":\n",
    "    parent_path = str(Path(os.path.dirname(os.path.abspath(\"__file__\"))).parent.parent)\n",
    "    sys.path.append(parent_path)\n",
    "    os.chdir(parent_path)\n",
    "print(os.getcwd())"
   ]
  },
  {
   "cell_type": "code",
   "execution_count": 6,
   "metadata": {},
   "outputs": [
    {
     "name": "stdout",
     "output_type": "stream",
     "text": [
      "Requirement already satisfied: pip in /home/kuno/miniconda/lib/python3.10/site-packages (23.0.1)\n",
      "Requirement already satisfied: numpy>=1.20.0 in /home/kuno/miniconda/lib/python3.10/site-packages (from -r requirements.txt (line 1)) (1.24.2)\n",
      "Requirement already satisfied: scipy>=1.6.0 in /home/kuno/miniconda/lib/python3.10/site-packages (from -r requirements.txt (line 2)) (1.10.1)\n",
      "Requirement already satisfied: pandas>=1.0.0 in /home/kuno/miniconda/lib/python3.10/site-packages (from -r requirements.txt (line 3)) (1.5.3)\n",
      "Requirement already satisfied: scikit-learn>=1.0.0 in /home/kuno/miniconda/lib/python3.10/site-packages (from -r requirements.txt (line 4)) (1.2.2)\n",
      "Requirement already satisfied: mappy>=2.0.0 in /home/kuno/miniconda/lib/python3.10/site-packages (from -r requirements.txt (line 5)) (2.24)\n",
      "Requirement already satisfied: pysam>=0.19.0 in /home/kuno/miniconda/lib/python3.10/site-packages (from -r requirements.txt (line 6)) (0.20.0)\n",
      "Requirement already satisfied: openpyxl>=3.0.0 in /home/kuno/miniconda/lib/python3.10/site-packages (from -r requirements.txt (line 7)) (3.1.2)\n",
      "Requirement already satisfied: cstag>=0.3.0 in /home/kuno/miniconda/lib/python3.10/site-packages (from -r requirements.txt (line 8)) (0.3.1)\n",
      "Requirement already satisfied: midsv>=0.7.1 in /home/kuno/miniconda/lib/python3.10/site-packages (from -r requirements.txt (line 9)) (0.9.0)\n",
      "Requirement already satisfied: wslPath>=0.3.0 in /home/kuno/miniconda/lib/python3.10/site-packages (from -r requirements.txt (line 10)) (0.3.1)\n",
      "Requirement already satisfied: Flask>=2.2.0 in /home/kuno/miniconda/lib/python3.10/site-packages (from -r requirements.txt (line 11)) (2.2.3)\n",
      "Requirement already satisfied: waitress>=2.1.0 in /home/kuno/miniconda/lib/python3.10/site-packages (from -r requirements.txt (line 12)) (2.1.2)\n",
      "Requirement already satisfied: Jinja2>=3.1.0 in /home/kuno/miniconda/lib/python3.10/site-packages (from -r requirements.txt (line 13)) (3.1.2)\n",
      "Requirement already satisfied: plotly>=5.0.0 in /home/kuno/miniconda/lib/python3.10/site-packages (from -r requirements.txt (line 14)) (5.13.1)\n",
      "Requirement already satisfied: kaleido>=0.2.0 in /home/kuno/miniconda/lib/python3.10/site-packages (from -r requirements.txt (line 15)) (0.2.1)\n",
      "Requirement already satisfied: pytz>=2020.1 in /home/kuno/miniconda/lib/python3.10/site-packages (from pandas>=1.0.0->-r requirements.txt (line 3)) (2022.1)\n",
      "Requirement already satisfied: python-dateutil>=2.8.1 in /home/kuno/miniconda/lib/python3.10/site-packages (from pandas>=1.0.0->-r requirements.txt (line 3)) (2.8.2)\n",
      "Requirement already satisfied: threadpoolctl>=2.0.0 in /home/kuno/miniconda/lib/python3.10/site-packages (from scikit-learn>=1.0.0->-r requirements.txt (line 4)) (3.1.0)\n",
      "Requirement already satisfied: joblib>=1.1.1 in /home/kuno/miniconda/lib/python3.10/site-packages (from scikit-learn>=1.0.0->-r requirements.txt (line 4)) (1.2.0)\n",
      "Requirement already satisfied: et-xmlfile in /home/kuno/miniconda/lib/python3.10/site-packages (from openpyxl>=3.0.0->-r requirements.txt (line 7)) (1.1.0)\n",
      "Requirement already satisfied: Werkzeug>=2.2.2 in /home/kuno/miniconda/lib/python3.10/site-packages (from Flask>=2.2.0->-r requirements.txt (line 11)) (2.2.2)\n",
      "Requirement already satisfied: click>=8.0 in /home/kuno/miniconda/lib/python3.10/site-packages (from Flask>=2.2.0->-r requirements.txt (line 11)) (8.1.3)\n",
      "Requirement already satisfied: itsdangerous>=2.0 in /home/kuno/miniconda/lib/python3.10/site-packages (from Flask>=2.2.0->-r requirements.txt (line 11)) (2.1.2)\n",
      "Requirement already satisfied: MarkupSafe>=2.0 in /home/kuno/miniconda/lib/python3.10/site-packages (from Jinja2>=3.1.0->-r requirements.txt (line 13)) (2.1.1)\n",
      "Requirement already satisfied: tenacity>=6.2.0 in /home/kuno/miniconda/lib/python3.10/site-packages (from plotly>=5.0.0->-r requirements.txt (line 14)) (8.1.0)\n",
      "Requirement already satisfied: six>=1.5 in /home/kuno/miniconda/lib/python3.10/site-packages (from python-dateutil>=2.8.1->pandas>=1.0.0->-r requirements.txt (line 3)) (1.16.0)\n"
     ]
    }
   ],
   "source": [
    "%%bash\n",
    "# pipの更新\n",
    "pip install -U pip\n",
    "pip install -U -r requirements.txt"
   ]
  },
  {
   "attachments": {},
   "cell_type": "markdown",
   "metadata": {},
   "source": [
    "# 実験"
   ]
  },
  {
   "attachments": {},
   "cell_type": "markdown",
   "metadata": {},
   "source": [
    "- `preprocess.correct_sequence_error`と`preprocess.correct_knockin`でシークエンスエラーではない変異箇所を抽出する\n",
    "- もしくは、コードを独立させたほうが良いかもしれません\n",
    "    - correctionが終わったあとに、sampleとcontrolと比べて変異のある塩基位置を抽出する\n",
    "    - correctionと独立させることで、correctionの方法が変わっても塩基位置を抽出するコードを変える必要がなくなる"
   ]
  },
  {
   "cell_type": "code",
   "execution_count": null,
   "metadata": {},
   "outputs": [],
   "source": []
  },
  {
   "cell_type": "code",
   "execution_count": null,
   "metadata": {},
   "outputs": [],
   "source": []
  },
  {
   "cell_type": "code",
   "execution_count": null,
   "metadata": {},
   "outputs": [],
   "source": []
  },
  {
   "cell_type": "code",
   "execution_count": null,
   "metadata": {},
   "outputs": [],
   "source": []
  },
  {
   "cell_type": "code",
   "execution_count": null,
   "metadata": {},
   "outputs": [],
   "source": []
  },
  {
   "cell_type": "code",
   "execution_count": null,
   "metadata": {},
   "outputs": [],
   "source": []
  },
  {
   "cell_type": "code",
   "execution_count": null,
   "metadata": {},
   "outputs": [],
   "source": []
  },
  {
   "attachments": {},
   "cell_type": "markdown",
   "metadata": {},
   "source": [
    "# 結果のまとめ\n"
   ]
  },
  {
   "attachments": {},
   "cell_type": "markdown",
   "metadata": {},
   "source": [
    "- MIDSVを更新することで、エラーをなくしてコードを実行できました"
   ]
  },
  {
   "attachments": {},
   "cell_type": "markdown",
   "metadata": {},
   "source": [
    "# 次に取り組むこと"
   ]
  },
  {
   "attachments": {},
   "cell_type": "markdown",
   "metadata": {},
   "source": [
    "### Lists\n",
    "\n",
    "+ [ ] cis変異の両端が欠失している場合に、Nで置き換えるとtransとなってしまうのをどうするか（`replace_n`）\n",
    "+ [ ] 短いリードの扱いをどうするべきか\n",
    "+ [ ] Insertionのなかにある変異を同定する手法を考案する\n",
    "+ [ ] Ayabe-taks1のright_loxpがいまいちな理由を考察する\n",
    "+ [ ] `preprocess.correct_sequence_error.replace_atmark`のコードがわかりにくい\n",
    "    + テストを用意してリファクタリングする"
   ]
  },
  {
   "attachments": {},
   "cell_type": "markdown",
   "metadata": {},
   "source": [
    "### Focus\n",
    "+ [ ] cis変異の両端が欠失している場合に、Nで置き換えるとtransとなってしまうのをどうするか（`replace_n`）\n",
    "+ [ ] 短いリードの扱いをどうするべきか\n",
    "\n",
    "両者については、`correct_sequence_error`などで補正するときに、**変異候補の塩基配列のみを対象とする**ことで対応できる可能性がある\n",
    "\n",
    "- 変異候補の塩基配列のみを対象とする\n",
    "    - 両端が欠失しているようなリードについて、変異候補部位を含まないリードは`uncategorized`といったカテゴリにできる\n",
    "    - よって**変異候補部位を含むか含まないか**を考えることで、短いリードや両端が欠失しているリードの分類が可能になる？"
   ]
  },
  {
   "cell_type": "markdown",
   "metadata": {},
   "source": []
  }
 ],
 "metadata": {
  "kernelspec": {
   "display_name": "base",
   "language": "python",
   "name": "python3"
  },
  "language_info": {
   "codemirror_mode": {
    "name": "ipython",
    "version": 3
   },
   "file_extension": ".py",
   "mimetype": "text/x-python",
   "name": "python",
   "nbconvert_exporter": "python",
   "pygments_lexer": "ipython3",
   "version": "3.10.6"
  },
  "orig_nbformat": 4,
  "vscode": {
   "interpreter": {
    "hash": "a09285d6cbc768c1977f96e8deb5ca1ec0d08675e9573ed6dfd37fd7d91de663"
   }
  }
 },
 "nbformat": 4,
 "nbformat_minor": 2
}
