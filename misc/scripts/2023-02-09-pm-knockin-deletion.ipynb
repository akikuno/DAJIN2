{
 "cells": [
  {
   "attachments": {},
   "cell_type": "markdown",
   "metadata": {},
   "source": [
    "# 取り組み\n",
    "現時点のDAJIN2において以下の問題を解決できるのか検証する\n",
    "+ [ ] Albino点変異の10%\n",
    "+ [ ] Albino点変異の1%\n",
    "+ [ ] Stx2大型欠失3アレル\n",
    "+ [ ] flox knockin"
   ]
  },
  {
   "cell_type": "code",
   "execution_count": 2,
   "metadata": {},
   "outputs": [
    {
     "name": "stdout",
     "output_type": "stream",
     "text": [
      "/mnt/d/Research/DAJIN2\n"
     ]
    }
   ],
   "source": [
    "# ルートディレクトリをPathに含めるおまじない\n",
    "import sys, os\n",
    "from pathlib import Path\n",
    "if os.getcwd() != \"/mnt/d/Research/DAJIN2\":\n",
    "    parent_path = str(Path(os.path.dirname(os.path.abspath(\"__file__\"))).parent.parent)\n",
    "    sys.path.append(parent_path)\n",
    "    os.chdir(parent_path)\n",
    "print(os.getcwd())"
   ]
  },
  {
   "attachments": {},
   "cell_type": "markdown",
   "metadata": {},
   "source": [
    "# 実験"
   ]
  },
  {
   "cell_type": "code",
   "execution_count": 11,
   "metadata": {},
   "outputs": [
    {
     "name": "stderr",
     "output_type": "stream",
     "text": [
      "Traceback (most recent call last):\n",
      "  File \"/mnt/d/Research/DAJIN2/misc/quickstart.py\", line 127, in <module>\n",
      "    preprocess.mappy_align.output_sam(\n",
      "  File \"/mnt/d/Research/DAJIN2/src/DAJIN2/core/preprocess/mappy_align.py\", line 100, in output_sam\n",
      "    output_sam.write_text(\"\\n\".join(sam))\n",
      "  File \"/home/kuno/miniconda/lib/python3.10/pathlib.py\", line 1154, in write_text\n",
      "    with self.open(mode='w', encoding=encoding, errors=errors, newline=newline) as f:\n",
      "  File \"/home/kuno/miniconda/lib/python3.10/pathlib.py\", line 1119, in open\n",
      "    return self._accessor.open(self, mode, buffering, encoding, errors,\n",
      "FileNotFoundError: [Errno 2] No such file or directory: 'DAJINResults/.tempdir/test-knockout/sam/test_barcode30_splice_inversion.sam'\n",
      "\n",
      "real\t0m24.159s\n",
      "user\t0m18.299s\n",
      "sys\t0m2.045s\n"
     ]
    }
   ],
   "source": [
    "%%bash\n",
    "rm -rf \"DAJINResults/.tempdir\"\n",
    "ls DAJINResults"
   ]
  },
  {
   "cell_type": "code",
   "execution_count": 13,
   "metadata": {},
   "outputs": [
    {
     "name": "stdout",
     "output_type": "stream",
     "text": [
      "processing test-tyr-albino_01%...\n"
     ]
    },
    {
     "name": "stderr",
     "output_type": "stream",
     "text": [
      "/home/kuno/miniconda/lib/python3.10/site-packages/sklearn/decomposition/_pca.py:595: RuntimeWarning: invalid value encountered in true_divide\n",
      "  self.explained_variance_ratio_ = self.explained_variance_ / total_var.sum()\n",
      "/home/kuno/miniconda/lib/python3.10/site-packages/sklearn/mixture/_base.py:146: ConvergenceWarning: Number of distinct clusters (1) found smaller than n_clusters (2). Possibly due to duplicate points in X.\n",
      "  .fit(X)\n",
      "/home/kuno/miniconda/lib/python3.10/site-packages/sklearn/mixture/_base.py:146: ConvergenceWarning: Number of distinct clusters (2) found smaller than n_clusters (3). Possibly due to duplicate points in X.\n",
      "  .fit(X)\n",
      "/home/kuno/miniconda/lib/python3.10/site-packages/sklearn/mixture/_base.py:146: ConvergenceWarning: Number of distinct clusters (2) found smaller than n_clusters (4). Possibly due to duplicate points in X.\n",
      "  .fit(X)\n",
      "/home/kuno/miniconda/lib/python3.10/site-packages/sklearn/mixture/_base.py:146: ConvergenceWarning: Number of distinct clusters (2) found smaller than n_clusters (5). Possibly due to duplicate points in X.\n",
      "  .fit(X)\n",
      "/home/kuno/miniconda/lib/python3.10/site-packages/sklearn/mixture/_base.py:146: ConvergenceWarning: Number of distinct clusters (2) found smaller than n_clusters (6). Possibly due to duplicate points in X.\n",
      "  .fit(X)\n",
      "/home/kuno/miniconda/lib/python3.10/site-packages/sklearn/mixture/_base.py:146: ConvergenceWarning: Number of distinct clusters (2) found smaller than n_clusters (7). Possibly due to duplicate points in X.\n",
      "  .fit(X)\n",
      "/home/kuno/miniconda/lib/python3.10/site-packages/sklearn/mixture/_base.py:146: ConvergenceWarning: Number of distinct clusters (2) found smaller than n_clusters (8). Possibly due to duplicate points in X.\n",
      "  .fit(X)\n",
      "/home/kuno/miniconda/lib/python3.10/site-packages/sklearn/mixture/_base.py:146: ConvergenceWarning: Number of distinct clusters (2) found smaller than n_clusters (9). Possibly due to duplicate points in X.\n",
      "  .fit(X)\n",
      "/home/kuno/miniconda/lib/python3.10/site-packages/sklearn/mixture/_base.py:146: ConvergenceWarning: Number of distinct clusters (2) found smaller than n_clusters (10). Possibly due to duplicate points in X.\n",
      "  .fit(X)\n",
      "/home/kuno/miniconda/lib/python3.10/site-packages/sklearn/mixture/_base.py:146: ConvergenceWarning: Number of distinct clusters (2) found smaller than n_clusters (11). Possibly due to duplicate points in X.\n",
      "  .fit(X)\n",
      "/home/kuno/miniconda/lib/python3.10/site-packages/sklearn/mixture/_base.py:146: ConvergenceWarning: Number of distinct clusters (2) found smaller than n_clusters (12). Possibly due to duplicate points in X.\n",
      "  .fit(X)\n",
      "/home/kuno/miniconda/lib/python3.10/site-packages/sklearn/mixture/_base.py:146: ConvergenceWarning: Number of distinct clusters (2) found smaller than n_clusters (13). Possibly due to duplicate points in X.\n",
      "  .fit(X)\n",
      "/home/kuno/miniconda/lib/python3.10/site-packages/sklearn/mixture/_base.py:146: ConvergenceWarning: Number of distinct clusters (2) found smaller than n_clusters (14). Possibly due to duplicate points in X.\n",
      "  .fit(X)\n",
      "/home/kuno/miniconda/lib/python3.10/site-packages/sklearn/mixture/_base.py:146: ConvergenceWarning: Number of distinct clusters (2) found smaller than n_clusters (15). Possibly due to duplicate points in X.\n",
      "  .fit(X)\n",
      "/home/kuno/miniconda/lib/python3.10/site-packages/sklearn/mixture/_base.py:146: ConvergenceWarning: Number of distinct clusters (2) found smaller than n_clusters (16). Possibly due to duplicate points in X.\n",
      "  .fit(X)\n",
      "/home/kuno/miniconda/lib/python3.10/site-packages/sklearn/mixture/_base.py:146: ConvergenceWarning: Number of distinct clusters (2) found smaller than n_clusters (17). Possibly due to duplicate points in X.\n",
      "  .fit(X)\n",
      "/home/kuno/miniconda/lib/python3.10/site-packages/sklearn/mixture/_base.py:146: ConvergenceWarning: Number of distinct clusters (2) found smaller than n_clusters (18). Possibly due to duplicate points in X.\n",
      "  .fit(X)\n",
      "/home/kuno/miniconda/lib/python3.10/site-packages/sklearn/mixture/_base.py:146: ConvergenceWarning: Number of distinct clusters (2) found smaller than n_clusters (19). Possibly due to duplicate points in X.\n",
      "  .fit(X)\n",
      "\n",
      "real\t6m15.846s\n",
      "user\t8m17.251s\n",
      "sys\t2m53.444s\n"
     ]
    }
   ],
   "source": [
    "%%bash\n",
    "# Tyr 01%\n",
    "time python misc/quickstart.py"
   ]
  },
  {
   "cell_type": "code",
   "execution_count": 12,
   "metadata": {},
   "outputs": [
    {
     "name": "stdout",
     "output_type": "stream",
     "text": [
      "processing test-tyr-albino_10%...\n"
     ]
    },
    {
     "name": "stderr",
     "output_type": "stream",
     "text": [
      "/home/kuno/miniconda/lib/python3.10/site-packages/sklearn/decomposition/_pca.py:595: RuntimeWarning: invalid value encountered in true_divide\n",
      "  self.explained_variance_ratio_ = self.explained_variance_ / total_var.sum()\n",
      "/home/kuno/miniconda/lib/python3.10/site-packages/sklearn/mixture/_base.py:146: ConvergenceWarning: Number of distinct clusters (1) found smaller than n_clusters (2). Possibly due to duplicate points in X.\n",
      "  .fit(X)\n",
      "/home/kuno/miniconda/lib/python3.10/site-packages/sklearn/mixture/_base.py:146: ConvergenceWarning: Number of distinct clusters (2) found smaller than n_clusters (3). Possibly due to duplicate points in X.\n",
      "  .fit(X)\n",
      "/home/kuno/miniconda/lib/python3.10/site-packages/sklearn/mixture/_base.py:146: ConvergenceWarning: Number of distinct clusters (2) found smaller than n_clusters (4). Possibly due to duplicate points in X.\n",
      "  .fit(X)\n",
      "/home/kuno/miniconda/lib/python3.10/site-packages/sklearn/mixture/_base.py:146: ConvergenceWarning: Number of distinct clusters (2) found smaller than n_clusters (5). Possibly due to duplicate points in X.\n",
      "  .fit(X)\n",
      "/home/kuno/miniconda/lib/python3.10/site-packages/sklearn/mixture/_base.py:146: ConvergenceWarning: Number of distinct clusters (2) found smaller than n_clusters (6). Possibly due to duplicate points in X.\n",
      "  .fit(X)\n",
      "/home/kuno/miniconda/lib/python3.10/site-packages/sklearn/mixture/_base.py:146: ConvergenceWarning: Number of distinct clusters (2) found smaller than n_clusters (7). Possibly due to duplicate points in X.\n",
      "  .fit(X)\n",
      "/home/kuno/miniconda/lib/python3.10/site-packages/sklearn/mixture/_base.py:146: ConvergenceWarning: Number of distinct clusters (2) found smaller than n_clusters (8). Possibly due to duplicate points in X.\n",
      "  .fit(X)\n",
      "/home/kuno/miniconda/lib/python3.10/site-packages/sklearn/mixture/_base.py:146: ConvergenceWarning: Number of distinct clusters (2) found smaller than n_clusters (9). Possibly due to duplicate points in X.\n",
      "  .fit(X)\n",
      "/home/kuno/miniconda/lib/python3.10/site-packages/sklearn/mixture/_base.py:146: ConvergenceWarning: Number of distinct clusters (2) found smaller than n_clusters (10). Possibly due to duplicate points in X.\n",
      "  .fit(X)\n",
      "/home/kuno/miniconda/lib/python3.10/site-packages/sklearn/mixture/_base.py:146: ConvergenceWarning: Number of distinct clusters (2) found smaller than n_clusters (11). Possibly due to duplicate points in X.\n",
      "  .fit(X)\n",
      "/home/kuno/miniconda/lib/python3.10/site-packages/sklearn/mixture/_base.py:146: ConvergenceWarning: Number of distinct clusters (2) found smaller than n_clusters (12). Possibly due to duplicate points in X.\n",
      "  .fit(X)\n",
      "/home/kuno/miniconda/lib/python3.10/site-packages/sklearn/mixture/_base.py:146: ConvergenceWarning: Number of distinct clusters (2) found smaller than n_clusters (13). Possibly due to duplicate points in X.\n",
      "  .fit(X)\n",
      "/home/kuno/miniconda/lib/python3.10/site-packages/sklearn/mixture/_base.py:146: ConvergenceWarning: Number of distinct clusters (2) found smaller than n_clusters (14). Possibly due to duplicate points in X.\n",
      "  .fit(X)\n",
      "/home/kuno/miniconda/lib/python3.10/site-packages/sklearn/mixture/_base.py:146: ConvergenceWarning: Number of distinct clusters (2) found smaller than n_clusters (15). Possibly due to duplicate points in X.\n",
      "  .fit(X)\n",
      "/home/kuno/miniconda/lib/python3.10/site-packages/sklearn/mixture/_base.py:146: ConvergenceWarning: Number of distinct clusters (2) found smaller than n_clusters (16). Possibly due to duplicate points in X.\n",
      "  .fit(X)\n",
      "/home/kuno/miniconda/lib/python3.10/site-packages/sklearn/mixture/_base.py:146: ConvergenceWarning: Number of distinct clusters (2) found smaller than n_clusters (17). Possibly due to duplicate points in X.\n",
      "  .fit(X)\n",
      "/home/kuno/miniconda/lib/python3.10/site-packages/sklearn/mixture/_base.py:146: ConvergenceWarning: Number of distinct clusters (2) found smaller than n_clusters (18). Possibly due to duplicate points in X.\n",
      "  .fit(X)\n",
      "/home/kuno/miniconda/lib/python3.10/site-packages/sklearn/mixture/_base.py:146: ConvergenceWarning: Number of distinct clusters (2) found smaller than n_clusters (19). Possibly due to duplicate points in X.\n",
      "  .fit(X)\n",
      "\n",
      "real\t6m12.889s\n",
      "user\t8m8.838s\n",
      "sys\t2m28.339s\n"
     ]
    }
   ],
   "source": [
    "%%bash\n",
    "# Tyr 10%\n",
    "time python misc/quickstart.py"
   ]
  },
  {
   "cell_type": "code",
   "execution_count": 14,
   "metadata": {},
   "outputs": [
    {
     "name": "stdout",
     "output_type": "stream",
     "text": [
      "processing test-knockout...\n"
     ]
    },
    {
     "name": "stderr",
     "output_type": "stream",
     "text": [
      "\n",
      "real\t5m24.403s\n",
      "user\t5m44.172s\n",
      "sys\t0m53.211s\n"
     ]
    }
   ],
   "source": [
    "%%bash\n",
    "# Stx2 deletion knockout\n",
    "time python misc/quickstart.py"
   ]
  },
  {
   "cell_type": "code",
   "execution_count": 16,
   "metadata": {},
   "outputs": [
    {
     "name": "stdout",
     "output_type": "stream",
     "text": [
      "processing test-ayabe-task1...\n"
     ]
    },
    {
     "name": "stderr",
     "output_type": "stream",
     "text": [
      "\n",
      "real\t1m28.161s\n",
      "user\t2m7.337s\n",
      "sys\t1m23.533s\n"
     ]
    }
   ],
   "source": [
    "%%bash\n",
    "# Ayabe-task1\n",
    "time python misc/quickstart.py"
   ]
  },
  {
   "attachments": {},
   "cell_type": "markdown",
   "metadata": {},
   "source": [
    "# 結果\n"
   ]
  },
  {
   "attachments": {},
   "cell_type": "markdown",
   "metadata": {},
   "source": [
    "+ [x] Albino点変異の10%\n",
    "+ [x] Albino点変異の1%\n",
    "+ [x] Stx2大型欠失3アレル\n",
    "+ [x] flox knockin\n",
    "\n",
    "どれもエラーなく終了した\n",
    "\n",
    "- Tyrアルビノ, Stx2はうまくいっている\n",
    "    - Clusteringのときの警告メッセージはlogに入れておきたい\n",
    "    - 短いリードがSVとして現れるのはどうにかしたい…\n",
    "- **flox knockinにおいて、right-loxpがどこにあるのかわからなかった**"
   ]
  },
  {
   "attachments": {
    "130021.png": {
     "image/png": "[encoded data removed]"
    }
   },
   "cell_type": "markdown",
   "metadata": {},
   "source": [
    "![130021.png](attachment:130021.png)"
   ]
  },
  {
   "cell_type": "code",
   "execution_count": null,
   "metadata": {},
   "outputs": [],
   "source": []
  },
  {
   "attachments": {},
   "cell_type": "markdown",
   "metadata": {},
   "source": [
    "# 次回の課題"
   ]
  },
  {
   "attachments": {},
   "cell_type": "markdown",
   "metadata": {},
   "source": [
    "+ [x] 点変異、欠失、ノックインのデザインで動くかを確認する\n",
    "+ [ ] `preprocess.correct_sequence_error.replace_atmark`のコードがわかりにくい\n",
    "    + テストを用意してリファクタリングする\n",
    "+ [ ] right_loxpがいまいちな理由を考察する\n",
    "+ [ ] Insertionのなかにある変異を同定する手法を考案する\n",
    "+ [ ] cis変異の両端が欠失している場合に、Nで置き換えるとtransとなってしまうのをどうするか（`replace_n`）\n",
    "+ [ ] 短いリードの扱いをどうするべきか\n",
    "+ [ ] Clusteringのときの警告メッセージを標準出力ではなくlogに入れておきたい"
   ]
  },
  {
   "cell_type": "markdown",
   "metadata": {},
   "source": []
  }
 ],
 "metadata": {
  "kernelspec": {
   "display_name": "base",
   "language": "python",
   "name": "python3"
  },
  "language_info": {
   "codemirror_mode": {
    "name": "ipython",
    "version": 3
   },
   "file_extension": ".py",
   "mimetype": "text/x-python",
   "name": "python",
   "nbconvert_exporter": "python",
   "pygments_lexer": "ipython3",
   "version": "3.10.6"
  },
  "orig_nbformat": 4,
  "vscode": {
   "interpreter": {
    "hash": "a09285d6cbc768c1977f96e8deb5ca1ec0d08675e9573ed6dfd37fd7d91de663"
   }
  }
 },
 "nbformat": 4,
 "nbformat_minor": 2
}
