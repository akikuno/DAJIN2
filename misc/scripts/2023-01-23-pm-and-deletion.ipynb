{
 "cells": [
  {
   "attachments": {},
   "cell_type": "markdown",
   "metadata": {},
   "source": [
    "# 取り組み\n",
    "2023-01-30時点のDAJIN2において以下の問題を解決できるのか検証する\n",
    "+ [ ] Albino点変異の10%\n",
    "+ [ ] Albino点変異の1%\n",
    "+ [ ] Stx2大型欠失3アレル"
   ]
  },
  {
   "cell_type": "code",
   "execution_count": 2,
   "metadata": {},
   "outputs": [
    {
     "name": "stdout",
     "output_type": "stream",
     "text": [
      "/mnt/d/Research/DAJIN2\n"
     ]
    }
   ],
   "source": [
    "# ルートディレクトリをPathに含めるおまじない\n",
    "import sys, os\n",
    "from pathlib import Path\n",
    "if os.getcwd() != \"/mnt/d/Research/DAJIN2\":\n",
    "    parent_path = str(Path(os.path.dirname(os.path.abspath(\"__file__\"))).parent.parent)\n",
    "    sys.path.append(parent_path)\n",
    "    os.chdir(parent_path)\n",
    "print(os.getcwd())"
   ]
  },
  {
   "attachments": {},
   "cell_type": "markdown",
   "metadata": {},
   "source": [
    "# 実験"
   ]
  },
  {
   "cell_type": "code",
   "execution_count": 6,
   "metadata": {},
   "outputs": [],
   "source": [
    "%%bash\n",
    "rm -rf DAJINResults/test-*\n",
    "ls DAJINResults"
   ]
  },
  {
   "cell_type": "code",
   "execution_count": 16,
   "metadata": {},
   "outputs": [
    {
     "name": "stdout",
     "output_type": "stream",
     "text": [
      "/mnt/d/Research/DAJIN2\n",
      "['/mnt/d/Research/DAJIN2/misc', '/home/kuno/miniconda/lib/python310.zip', '/home/kuno/miniconda/lib/python3.10', '/home/kuno/miniconda/lib/python3.10/lib-dynload', '/home/kuno/miniconda/lib/python3.10/site-packages', '/mnt/d/Research/DAJIN2']\n",
      "processing test-tyr-albino_01%...\n"
     ]
    },
    {
     "name": "stderr",
     "output_type": "stream",
     "text": [
      "/home/kuno/miniconda/lib/python3.10/site-packages/sklearn/decomposition/_pca.py:595: RuntimeWarning: invalid value encountered in true_divide\n",
      "  self.explained_variance_ratio_ = self.explained_variance_ / total_var.sum()\n",
      "/home/kuno/miniconda/lib/python3.10/site-packages/sklearn/mixture/_base.py:146: ConvergenceWarning: Number of distinct clusters (1) found smaller than n_clusters (2). Possibly due to duplicate points in X.\n",
      "  .fit(X)\n",
      "/home/kuno/miniconda/lib/python3.10/site-packages/sklearn/mixture/_base.py:146: ConvergenceWarning: Number of distinct clusters (2) found smaller than n_clusters (3). Possibly due to duplicate points in X.\n",
      "  .fit(X)\n",
      "/home/kuno/miniconda/lib/python3.10/site-packages/sklearn/mixture/_base.py:146: ConvergenceWarning: Number of distinct clusters (2) found smaller than n_clusters (4). Possibly due to duplicate points in X.\n",
      "  .fit(X)\n",
      "/home/kuno/miniconda/lib/python3.10/site-packages/sklearn/mixture/_base.py:146: ConvergenceWarning: Number of distinct clusters (2) found smaller than n_clusters (5). Possibly due to duplicate points in X.\n",
      "  .fit(X)\n",
      "/home/kuno/miniconda/lib/python3.10/site-packages/sklearn/mixture/_base.py:146: ConvergenceWarning: Number of distinct clusters (2) found smaller than n_clusters (6). Possibly due to duplicate points in X.\n",
      "  .fit(X)\n",
      "/home/kuno/miniconda/lib/python3.10/site-packages/sklearn/mixture/_base.py:146: ConvergenceWarning: Number of distinct clusters (2) found smaller than n_clusters (7). Possibly due to duplicate points in X.\n",
      "  .fit(X)\n",
      "/home/kuno/miniconda/lib/python3.10/site-packages/sklearn/mixture/_base.py:146: ConvergenceWarning: Number of distinct clusters (2) found smaller than n_clusters (8). Possibly due to duplicate points in X.\n",
      "  .fit(X)\n",
      "/home/kuno/miniconda/lib/python3.10/site-packages/sklearn/mixture/_base.py:146: ConvergenceWarning: Number of distinct clusters (2) found smaller than n_clusters (9). Possibly due to duplicate points in X.\n",
      "  .fit(X)\n",
      "/home/kuno/miniconda/lib/python3.10/site-packages/sklearn/mixture/_base.py:146: ConvergenceWarning: Number of distinct clusters (2) found smaller than n_clusters (10). Possibly due to duplicate points in X.\n",
      "  .fit(X)\n",
      "/home/kuno/miniconda/lib/python3.10/site-packages/sklearn/mixture/_base.py:146: ConvergenceWarning: Number of distinct clusters (2) found smaller than n_clusters (11). Possibly due to duplicate points in X.\n",
      "  .fit(X)\n",
      "/home/kuno/miniconda/lib/python3.10/site-packages/sklearn/mixture/_base.py:146: ConvergenceWarning: Number of distinct clusters (2) found smaller than n_clusters (12). Possibly due to duplicate points in X.\n",
      "  .fit(X)\n",
      "/home/kuno/miniconda/lib/python3.10/site-packages/sklearn/mixture/_base.py:146: ConvergenceWarning: Number of distinct clusters (2) found smaller than n_clusters (13). Possibly due to duplicate points in X.\n",
      "  .fit(X)\n",
      "/home/kuno/miniconda/lib/python3.10/site-packages/sklearn/mixture/_base.py:146: ConvergenceWarning: Number of distinct clusters (2) found smaller than n_clusters (14). Possibly due to duplicate points in X.\n",
      "  .fit(X)\n",
      "/home/kuno/miniconda/lib/python3.10/site-packages/sklearn/mixture/_base.py:146: ConvergenceWarning: Number of distinct clusters (2) found smaller than n_clusters (15). Possibly due to duplicate points in X.\n",
      "  .fit(X)\n",
      "/home/kuno/miniconda/lib/python3.10/site-packages/sklearn/mixture/_base.py:146: ConvergenceWarning: Number of distinct clusters (2) found smaller than n_clusters (16). Possibly due to duplicate points in X.\n",
      "  .fit(X)\n",
      "/home/kuno/miniconda/lib/python3.10/site-packages/sklearn/mixture/_base.py:146: ConvergenceWarning: Number of distinct clusters (2) found smaller than n_clusters (17). Possibly due to duplicate points in X.\n",
      "  .fit(X)\n",
      "/home/kuno/miniconda/lib/python3.10/site-packages/sklearn/mixture/_base.py:146: ConvergenceWarning: Number of distinct clusters (2) found smaller than n_clusters (18). Possibly due to duplicate points in X.\n",
      "  .fit(X)\n",
      "/home/kuno/miniconda/lib/python3.10/site-packages/sklearn/mixture/_base.py:146: ConvergenceWarning: Number of distinct clusters (2) found smaller than n_clusters (19). Possibly due to duplicate points in X.\n",
      "  .fit(X)\n",
      "\n",
      "real\t6m16.172s\n",
      "user\t8m19.842s\n",
      "sys\t3m15.867s\n"
     ]
    }
   ],
   "source": [
    "%%bash\n",
    "# Tyr 01%\n",
    "time python misc/quickstart.py"
   ]
  },
  {
   "cell_type": "code",
   "execution_count": 18,
   "metadata": {},
   "outputs": [
    {
     "name": "stdout",
     "output_type": "stream",
     "text": [
      "processing test-tyr-albino_10%...\n"
     ]
    },
    {
     "name": "stderr",
     "output_type": "stream",
     "text": [
      "/home/kuno/miniconda/lib/python3.10/site-packages/sklearn/decomposition/_pca.py:595: RuntimeWarning: invalid value encountered in true_divide\n",
      "  self.explained_variance_ratio_ = self.explained_variance_ / total_var.sum()\n",
      "/home/kuno/miniconda/lib/python3.10/site-packages/sklearn/mixture/_base.py:146: ConvergenceWarning: Number of distinct clusters (1) found smaller than n_clusters (2). Possibly due to duplicate points in X.\n",
      "  .fit(X)\n",
      "/home/kuno/miniconda/lib/python3.10/site-packages/sklearn/mixture/_base.py:146: ConvergenceWarning: Number of distinct clusters (2) found smaller than n_clusters (3). Possibly due to duplicate points in X.\n",
      "  .fit(X)\n",
      "/home/kuno/miniconda/lib/python3.10/site-packages/sklearn/mixture/_base.py:146: ConvergenceWarning: Number of distinct clusters (2) found smaller than n_clusters (4). Possibly due to duplicate points in X.\n",
      "  .fit(X)\n",
      "/home/kuno/miniconda/lib/python3.10/site-packages/sklearn/mixture/_base.py:146: ConvergenceWarning: Number of distinct clusters (2) found smaller than n_clusters (5). Possibly due to duplicate points in X.\n",
      "  .fit(X)\n",
      "/home/kuno/miniconda/lib/python3.10/site-packages/sklearn/mixture/_base.py:146: ConvergenceWarning: Number of distinct clusters (2) found smaller than n_clusters (6). Possibly due to duplicate points in X.\n",
      "  .fit(X)\n",
      "/home/kuno/miniconda/lib/python3.10/site-packages/sklearn/mixture/_base.py:146: ConvergenceWarning: Number of distinct clusters (2) found smaller than n_clusters (7). Possibly due to duplicate points in X.\n",
      "  .fit(X)\n",
      "/home/kuno/miniconda/lib/python3.10/site-packages/sklearn/mixture/_base.py:146: ConvergenceWarning: Number of distinct clusters (2) found smaller than n_clusters (8). Possibly due to duplicate points in X.\n",
      "  .fit(X)\n",
      "/home/kuno/miniconda/lib/python3.10/site-packages/sklearn/mixture/_base.py:146: ConvergenceWarning: Number of distinct clusters (2) found smaller than n_clusters (9). Possibly due to duplicate points in X.\n",
      "  .fit(X)\n",
      "/home/kuno/miniconda/lib/python3.10/site-packages/sklearn/mixture/_base.py:146: ConvergenceWarning: Number of distinct clusters (2) found smaller than n_clusters (10). Possibly due to duplicate points in X.\n",
      "  .fit(X)\n",
      "/home/kuno/miniconda/lib/python3.10/site-packages/sklearn/mixture/_base.py:146: ConvergenceWarning: Number of distinct clusters (2) found smaller than n_clusters (11). Possibly due to duplicate points in X.\n",
      "  .fit(X)\n",
      "/home/kuno/miniconda/lib/python3.10/site-packages/sklearn/mixture/_base.py:146: ConvergenceWarning: Number of distinct clusters (2) found smaller than n_clusters (12). Possibly due to duplicate points in X.\n",
      "  .fit(X)\n",
      "/home/kuno/miniconda/lib/python3.10/site-packages/sklearn/mixture/_base.py:146: ConvergenceWarning: Number of distinct clusters (2) found smaller than n_clusters (13). Possibly due to duplicate points in X.\n",
      "  .fit(X)\n",
      "/home/kuno/miniconda/lib/python3.10/site-packages/sklearn/mixture/_base.py:146: ConvergenceWarning: Number of distinct clusters (2) found smaller than n_clusters (14). Possibly due to duplicate points in X.\n",
      "  .fit(X)\n",
      "/home/kuno/miniconda/lib/python3.10/site-packages/sklearn/mixture/_base.py:146: ConvergenceWarning: Number of distinct clusters (2) found smaller than n_clusters (15). Possibly due to duplicate points in X.\n",
      "  .fit(X)\n",
      "/home/kuno/miniconda/lib/python3.10/site-packages/sklearn/mixture/_base.py:146: ConvergenceWarning: Number of distinct clusters (2) found smaller than n_clusters (16). Possibly due to duplicate points in X.\n",
      "  .fit(X)\n",
      "/home/kuno/miniconda/lib/python3.10/site-packages/sklearn/mixture/_base.py:146: ConvergenceWarning: Number of distinct clusters (2) found smaller than n_clusters (17). Possibly due to duplicate points in X.\n",
      "  .fit(X)\n",
      "/home/kuno/miniconda/lib/python3.10/site-packages/sklearn/mixture/_base.py:146: ConvergenceWarning: Number of distinct clusters (2) found smaller than n_clusters (18). Possibly due to duplicate points in X.\n",
      "  .fit(X)\n",
      "/home/kuno/miniconda/lib/python3.10/site-packages/sklearn/mixture/_base.py:146: ConvergenceWarning: Number of distinct clusters (2) found smaller than n_clusters (19). Possibly due to duplicate points in X.\n",
      "  .fit(X)\n",
      "\n",
      "real\t6m8.880s\n",
      "user\t8m10.311s\n",
      "sys\t2m57.894s\n"
     ]
    }
   ],
   "source": [
    "%%bash\n",
    "# Tyr 10%\n",
    "time python misc/quickstart.py"
   ]
  },
  {
   "cell_type": "code",
   "execution_count": null,
   "metadata": {},
   "outputs": [
    {
     "name": "stdout",
     "output_type": "stream",
     "text": [
      "processing test-knockout...\n"
     ]
    },
    {
     "name": "stderr",
     "output_type": "stream",
     "text": [
      "Traceback (most recent call last):\n",
      "  File \"/mnt/d/Research/DAJIN2/misc/quickstart.py\", line 145, in <module>\n",
      "    preprocess.correct_sequence_error.execute(TEMPDIR, FASTA_ALLELES, CONTROL_NAME, SAMPLE_NAME)\n",
      "  File \"/mnt/d/Research/DAJIN2/src/DAJIN2/core/preprocess/correct_sequence_error.py\", line 135, in execute\n",
      "    cssplits_sample_atmark_replaced = replace_atmark(cssplits_sample_error_replaced, sequence)\n",
      "  File \"/mnt/d/Research/DAJIN2/src/DAJIN2/core/preprocess/correct_sequence_error.py\", line 103, in replace_atmark\n",
      "    cssplits_replaced[idx][i] = random.choice(cssplits_sampling_all)\n",
      "  File \"/home/kuno/miniconda/lib/python3.10/random.py\", line 378, in choice\n",
      "    return seq[self._randbelow(len(seq))]\n",
      "IndexError: list index out of range\n",
      "\n",
      "real\t1m28.637s\n",
      "user\t1m12.450s\n",
      "sys\t0m3.868s\n"
     ]
    },
    {
     "ename": "CalledProcessError",
     "evalue": "Command 'b'# Stx2 deletion knockout\\ntime python misc/quickstart.py\\n'' returned non-zero exit status 1.",
     "output_type": "error",
     "traceback": [
      "\u001b[0;31m---------------------------------------------------------------------------\u001b[0m",
      "\u001b[0;31mCalledProcessError\u001b[0m                        Traceback (most recent call last)",
      "\u001b[1;32m/mnt/d/Research/DAJIN2/misc/scripts/2023-01-23-pm-and-deletion.ipynb Cell 7\u001b[0m in \u001b[0;36m<cell line: 1>\u001b[0;34m()\u001b[0m\n\u001b[0;32m----> <a href='vscode-notebook-cell://wsl%2Bubuntu-20.04/mnt/d/Research/DAJIN2/misc/scripts/2023-01-23-pm-and-deletion.ipynb#X13sdnNjb2RlLXJlbW90ZQ%3D%3D?line=0'>1</a>\u001b[0m get_ipython()\u001b[39m.\u001b[39;49mrun_cell_magic(\u001b[39m'\u001b[39;49m\u001b[39mbash\u001b[39;49m\u001b[39m'\u001b[39;49m, \u001b[39m'\u001b[39;49m\u001b[39m'\u001b[39;49m, \u001b[39m'\u001b[39;49m\u001b[39m# Stx2 deletion knockout\u001b[39;49m\u001b[39m\\n\u001b[39;49;00m\u001b[39mtime python misc/quickstart.py\u001b[39;49m\u001b[39m\\n\u001b[39;49;00m\u001b[39m'\u001b[39;49m)\n",
      "File \u001b[0;32m~/miniconda/lib/python3.10/site-packages/IPython/core/interactiveshell.py:2357\u001b[0m, in \u001b[0;36mInteractiveShell.run_cell_magic\u001b[0;34m(self, magic_name, line, cell)\u001b[0m\n\u001b[1;32m   2355\u001b[0m \u001b[39mwith\u001b[39;00m \u001b[39mself\u001b[39m\u001b[39m.\u001b[39mbuiltin_trap:\n\u001b[1;32m   2356\u001b[0m     args \u001b[39m=\u001b[39m (magic_arg_s, cell)\n\u001b[0;32m-> 2357\u001b[0m     result \u001b[39m=\u001b[39m fn(\u001b[39m*\u001b[39;49margs, \u001b[39m*\u001b[39;49m\u001b[39m*\u001b[39;49mkwargs)\n\u001b[1;32m   2358\u001b[0m \u001b[39mreturn\u001b[39;00m result\n",
      "File \u001b[0;32m~/miniconda/lib/python3.10/site-packages/IPython/core/magics/script.py:153\u001b[0m, in \u001b[0;36mScriptMagics._make_script_magic.<locals>.named_script_magic\u001b[0;34m(line, cell)\u001b[0m\n\u001b[1;32m    151\u001b[0m \u001b[39melse\u001b[39;00m:\n\u001b[1;32m    152\u001b[0m     line \u001b[39m=\u001b[39m script\n\u001b[0;32m--> 153\u001b[0m \u001b[39mreturn\u001b[39;00m \u001b[39mself\u001b[39;49m\u001b[39m.\u001b[39;49mshebang(line, cell)\n",
      "File \u001b[0;32m~/miniconda/lib/python3.10/site-packages/IPython/core/magics/script.py:305\u001b[0m, in \u001b[0;36mScriptMagics.shebang\u001b[0;34m(self, line, cell)\u001b[0m\n\u001b[1;32m    300\u001b[0m \u001b[39mif\u001b[39;00m args\u001b[39m.\u001b[39mraise_error \u001b[39mand\u001b[39;00m p\u001b[39m.\u001b[39mreturncode \u001b[39m!=\u001b[39m \u001b[39m0\u001b[39m:\n\u001b[1;32m    301\u001b[0m     \u001b[39m# If we get here and p.returncode is still None, we must have\u001b[39;00m\n\u001b[1;32m    302\u001b[0m     \u001b[39m# killed it but not yet seen its return code. We don't wait for it,\u001b[39;00m\n\u001b[1;32m    303\u001b[0m     \u001b[39m# in case it's stuck in uninterruptible sleep. -9 = SIGKILL\u001b[39;00m\n\u001b[1;32m    304\u001b[0m     rc \u001b[39m=\u001b[39m p\u001b[39m.\u001b[39mreturncode \u001b[39mor\u001b[39;00m \u001b[39m-\u001b[39m\u001b[39m9\u001b[39m\n\u001b[0;32m--> 305\u001b[0m     \u001b[39mraise\u001b[39;00m CalledProcessError(rc, cell)\n",
      "\u001b[0;31mCalledProcessError\u001b[0m: Command 'b'# Stx2 deletion knockout\\ntime python misc/quickstart.py\\n'' returned non-zero exit status 1."
     ]
    }
   ],
   "source": [
    "%%bash\n",
    "# Stx2 deletion knockout\n",
    "time python misc/quickstart.py"
   ]
  },
  {
   "attachments": {},
   "cell_type": "markdown",
   "metadata": {},
   "source": [
    "# 結果\n",
    "\n",
    "- Tyrアルビノはうまくいっている\n",
    "    - Clusteringのときの警告メッセージはlogに入れておきたい\n",
    "    - やはり短いリードがSVとして現れるのはどうにかしたい…\n",
    "- Stx2 knockoutはなぜかエラーで停止した\n",
    "    - 次回原因を探索する"
   ]
  },
  {
   "attachments": {},
   "cell_type": "markdown",
   "metadata": {},
   "source": [
    "# 次回の課題"
   ]
  },
  {
   "attachments": {},
   "cell_type": "markdown",
   "metadata": {},
   "source": [
    "+ [ ] 点変異、欠失のデザインで動くかを確認する\n",
    "    + 点変異はOK\n",
    "    + TODO **欠失はエラー**\n",
    "+ [ ] right_loxpがいまいちな理由を考察する\n",
    "+ [ ] Insertionのなかにある変異を同定する手法を考案する\n",
    "+ [ ] cis変異の両端が欠失している場合に、Nで置き換えるとtransとなってしまうのをどうするか（`replace_n`）\n",
    "+ [ ] 短いリードの扱いをどうするべきか"
   ]
  },
  {
   "cell_type": "markdown",
   "metadata": {},
   "source": []
  }
 ],
 "metadata": {
  "kernelspec": {
   "display_name": "base",
   "language": "python",
   "name": "python3"
  },
  "language_info": {
   "codemirror_mode": {
    "name": "ipython",
    "version": 3
   },
   "file_extension": ".py",
   "mimetype": "text/x-python",
   "name": "python",
   "nbconvert_exporter": "python",
   "pygments_lexer": "ipython3",
   "version": "3.10.6"
  },
  "orig_nbformat": 4,
  "vscode": {
   "interpreter": {
    "hash": "a09285d6cbc768c1977f96e8deb5ca1ec0d08675e9573ed6dfd37fd7d91de663"
   }
  }
 },
 "nbformat": 4,
 "nbformat_minor": 2
}
