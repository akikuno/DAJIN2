{
 "cells": [
  {
   "attachments": {},
   "cell_type": "markdown",
   "metadata": {},
   "source": [
    "# 今回の取り組み"
   ]
  },
  {
   "attachments": {},
   "cell_type": "markdown",
   "metadata": {},
   "source": [
    "- Nanoporeに最後まで読まれなかった（途中で切断された）リードがクラスタに分かれてしまうので、これを除去したい\n",
    "\n",
    "- これはControlにも存在するはずだが、現状ではクラスラリングの際にControlにおいて切断リードの大半が含まれるであろうSVを無視しているため、差分が効いていない\n",
    "\n",
    "- (1) SV判定をコンセンサスコールのあとにずらし、(2) クラスタリングの際にSampleとControlに同様に見られる切断リードを除く"
   ]
  },
  {
   "cell_type": "code",
   "execution_count": null,
   "metadata": {},
   "outputs": [],
   "source": []
  },
  {
   "cell_type": "markdown",
   "metadata": {},
   "source": [
    "## いつものセットアップ"
   ]
  },
  {
   "cell_type": "code",
   "execution_count": 1,
   "metadata": {},
   "outputs": [
    {
     "name": "stdout",
     "output_type": "stream",
     "text": [
      "/mnt/d/Research/DAJIN2\n"
     ]
    }
   ],
   "source": [
    "# ルートディレクトリをPathに含めるおまじない\n",
    "import sys, os\n",
    "from pathlib import Path\n",
    "if Path(os.getcwd()).stem != \"DAJIN2\":\n",
    "    parent_path = str(Path(os.path.dirname(os.path.abspath(\"__file__\"))).parent.parent)\n",
    "    sys.path.append(parent_path)\n",
    "    os.chdir(parent_path)\n",
    "print(os.getcwd())"
   ]
  },
  {
   "cell_type": "code",
   "execution_count": 2,
   "metadata": {},
   "outputs": [],
   "source": [
    "%%bash\n",
    "# pipの更新\n",
    "pip install -q -U pip\n",
    "pip install -q -U -r requirements.txt"
   ]
  },
  {
   "attachments": {},
   "cell_type": "markdown",
   "metadata": {},
   "source": [
    "# 実験"
   ]
  },
  {
   "attachments": {},
   "cell_type": "markdown",
   "metadata": {},
   "source": [
    "## clusteringにmutation_lociを加える"
   ]
  },
  {
   "cell_type": "code",
   "execution_count": 3,
   "metadata": {},
   "outputs": [
    {
     "name": "stdout",
     "output_type": "stream",
     "text": [
      "processing test-stx2-deletion...\n"
     ]
    }
   ],
   "source": [
    "from __future__ import annotations\n",
    "\n",
    "import sys, os\n",
    "from pathlib import Path\n",
    "\n",
    "import hashlib\n",
    "from collections import defaultdict\n",
    "from pathlib import Path\n",
    "from importlib import reload\n",
    "\n",
    "from src.DAJIN2.core import preprocess, classification, clustering, consensus, report\n",
    "from src.DAJIN2.core.clustering import clustering\n",
    "\n",
    "reload(preprocess)\n",
    "reload(classification)\n",
    "reload(clustering)\n",
    "reload(consensus)\n",
    "reload(report)\n",
    "\n",
    "\n",
    "#### #* 2-cut deletion\n",
    "SAMPLE, CONTROL, ALLELE, NAME, GENOME, DEBUG, THREADS = (\n",
    "    \"examples/del-stx2/barcode25.fq.gz\",\n",
    "    \"examples/del-stx2/barcode30.fq.gz\",\n",
    "    \"examples/del-stx2/design_stx2.fa\",\n",
    "    \"test-stx2-deletion\",\n",
    "    \"mm10\",\n",
    "    True,\n",
    "    14,\n",
    ")\n",
    "\n",
    "print(f\"processing {NAME}...\")\n",
    "\n",
    "##########################################################\n",
    "# Check inputs\n",
    "##########################################################\n",
    "preprocess.check_inputs.check_files(SAMPLE, CONTROL, ALLELE)\n",
    "TEMPDIR = Path(\"DAJINResults\", \".tempdir\", NAME)\n",
    "IS_CACHE_CONTROL = preprocess.check_inputs.exists_cached_control(CONTROL, TEMPDIR)\n",
    "IS_CACHE_GENOME = preprocess.check_inputs.exists_cached_genome(GENOME, TEMPDIR, IS_CACHE_CONTROL)\n",
    "UCSC_URL, GOLDENPATH_URL = None, None\n",
    "if GENOME and not IS_CACHE_GENOME:\n",
    "    UCSC_URL, GOLDENPATH_URL = preprocess.check_inputs.check_and_fetch_genome(GENOME)\n",
    "\n",
    "##########################################################\n",
    "# Format inputs\n",
    "##########################################################\n",
    "SAMPLE_NAME = preprocess.format_inputs.extract_basename(SAMPLE)\n",
    "CONTROL_NAME = preprocess.format_inputs.extract_basename(CONTROL)\n",
    "FASTA_ALLELES = preprocess.format_inputs.dictionize_allele(ALLELE)\n",
    "THREADS = min(THREADS, os.cpu_count()-1)\n",
    "\n",
    "preprocess.format_inputs.make_directories(TEMPDIR, SAMPLE_NAME, CONTROL_NAME)\n",
    "\n",
    "if GENOME:\n",
    "    GENOME_COODINATES = preprocess.format_inputs.fetch_coodinate(GENOME, UCSC_URL, FASTA_ALLELES[\"control\"])\n",
    "    CHROME_SIZE = preprocess.format_inputs.fetch_chrom_size(GENOME_COODINATES[\"chr\"], GENOME, GOLDENPATH_URL)\n",
    "    preprocess.format_inputs.cache_coodinates_and_chromsize(TEMPDIR, GENOME, GENOME_COODINATES, CHROME_SIZE)\n"
   ]
  },
  {
   "cell_type": "code",
   "execution_count": 4,
   "metadata": {},
   "outputs": [],
   "source": [
    "\n",
    "flag1 = Path(TEMPDIR, \"midsv\", f\"{CONTROL_NAME}_splice_control.jsonl\").exists()\n",
    "flag2 = Path(TEMPDIR, \"midsv\", f\"{SAMPLE_NAME}_splice_control.jsonl\").exists()\n",
    "flag = flag1 and flag2\n",
    "\n",
    "if not flag:\n",
    "    print(\"preprocessing...\")\n",
    "    ################################################################################\n",
    "    # Export fasta files as single-FASTA format\n",
    "    ################################################################################\n",
    "    # TODO: use yeild, not export\n",
    "    for identifier, sequence in FASTA_ALLELES.items():\n",
    "        contents = \"\\n\".join([\">\" + identifier, sequence]) + \"\\n\"\n",
    "        output_fasta = Path(TEMPDIR, \"fasta\", f\"{identifier}.fasta\")\n",
    "        output_fasta.write_text(contents)\n",
    "    ###############################################################################\n",
    "    # Mapping with mappy\n",
    "    ###############################################################################\n",
    "    for path_fasta in Path(TEMPDIR, \"fasta\").glob(\"*.fasta\"):\n",
    "        name_fasta = path_fasta.stem\n",
    "        preprocess.mappy_align.output_sam(TEMPDIR, path_fasta, name_fasta, CONTROL, CONTROL_NAME, threads=THREADS)\n",
    "        preprocess.mappy_align.output_sam(TEMPDIR, path_fasta, name_fasta, SAMPLE, SAMPLE_NAME, threads=THREADS)\n",
    "        preprocess.mappy_align.output_sam(\n",
    "            TEMPDIR, path_fasta, name_fasta, CONTROL, CONTROL_NAME, preset=\"splice\", threads=THREADS\n",
    "        )\n",
    "        preprocess.mappy_align.output_sam(\n",
    "            TEMPDIR, path_fasta, name_fasta, SAMPLE, SAMPLE_NAME, preset=\"splice\", threads=THREADS\n",
    "        )\n",
    "    ########################################################################\n",
    "    # MIDSV conversion\n",
    "    ########################################################################\n",
    "    for path_sam in Path(TEMPDIR, \"sam\").glob(f\"{CONTROL_NAME}_splice_*\"):\n",
    "        preprocess.calc_midsv.output_midsv(TEMPDIR, path_sam)\n",
    "    for path_sam in Path(TEMPDIR, \"sam\").glob(f\"{SAMPLE_NAME}_splice_*\"):\n",
    "        preprocess.calc_midsv.output_midsv(TEMPDIR, path_sam)\n",
    "    ###############################################################################\n",
    "    # CSSPLITS Error Correction\n",
    "    ###############################################################################\n",
    "    preprocess.correct_sequence_error.execute(TEMPDIR, FASTA_ALLELES, CONTROL_NAME, SAMPLE_NAME)\n",
    "    preprocess.correct_knockin.execute(TEMPDIR, FASTA_ALLELES, CONTROL_NAME, SAMPLE_NAME)\n",
    "    ###############################################################################\n",
    "    # Convert any `N` as deletions other than consecutive `N` from both ends\n",
    "    ###############################################################################\n",
    "    preprocess.replace_N_to_D.execute(TEMPDIR, FASTA_ALLELES, CONTROL_NAME)\n",
    "    preprocess.replace_N_to_D.execute(TEMPDIR, FASTA_ALLELES, SAMPLE_NAME)\n",
    "    ###############################################################################\n",
    "    # Cashe inputs (control)\n",
    "    ###############################################################################\n",
    "    if not IS_CACHE_CONTROL:\n",
    "        control_hash = Path(CONTROL).read_bytes()\n",
    "        control_hash = hashlib.sha256(control_hash).hexdigest()\n",
    "        PATH_CACHE_HASH = Path(TEMPDIR, \"cache\", \"control_hash.txt\")\n",
    "        PATH_CACHE_HASH.write_text(str(control_hash))\n"
   ]
  },
  {
   "cell_type": "code",
   "execution_count": 5,
   "metadata": {},
   "outputs": [],
   "source": [
    "MUTATION_LOCI = preprocess.extract_mutation_loci(TEMPDIR, FASTA_ALLELES, SAMPLE_NAME, CONTROL_NAME)"
   ]
  },
  {
   "cell_type": "code",
   "execution_count": 6,
   "metadata": {},
   "outputs": [
    {
     "data": {
      "text/plain": [
       "dict_keys(['target', 'control', 'inversion'])"
      ]
     },
     "execution_count": 6,
     "metadata": {},
     "output_type": "execute_result"
    }
   ],
   "source": [
    "MUTATION_LOCI.keys()"
   ]
  },
  {
   "cell_type": "code",
   "execution_count": 7,
   "metadata": {},
   "outputs": [
    {
     "name": "stdout",
     "output_type": "stream",
     "text": [
      "Classify...\n"
     ]
    }
   ],
   "source": [
    "########################################################################\n",
    "# Classify alleles\n",
    "########################################################################\n",
    "print(\"Classify...\")\n",
    "\n",
    "classif_sample = classification.classify_alleles(TEMPDIR, SAMPLE_NAME)\n"
   ]
  },
  {
   "cell_type": "code",
   "execution_count": 8,
   "metadata": {},
   "outputs": [
    {
     "data": {
      "text/plain": [
       "{'QNAME': '0013cef2-2bed-49c3-9253-0672c5f77a77',\n",
       " 'RNAME': 'target',\n",
       " 'CSSPLIT': 'N,N,N,=C,=C,=A,=G,=G,=G,=T,=G,=T,=C,=T,=C,=A,=T,=A,=G,=T,=G,=T,=T,=T,=G,=A,=A,=G,=G,=C,=T,=C,=C,=T,=A,=A,=A,=T,=T,=G,=C,=C,=C,=A,=G,=T,=G,=T,=T,=C,=A,=G,=C,=T,=G,=G,=G,=G,=A,=A,=A,=G,=A,=C,=C,=A,=T,=C,=A,=G,=C,=T,=A,=G,=G,=C,=A,=G,=G,=A,=T,=C,=C,=A,=A,=A,=G,=G,=A,=T,=A,=A,=T,=G,=A,=G,=T,=G,=T,=G,=C,=C,=C,=C,=A,=T,=G,=G,=G,=A,=C,=T,=C,=T,=G,=G,=C,=T,=T,=A,=G,=C,=C,=G,=C,=A,=G,=C,=T,=C,=T,=A,=C,=C,=C,=T,=A,=A,=G,=C,=C,=C,=A,=C,=A,=G,=T,=T,=G,=A,=G,=G,=G,=G,=T,=A,=G,=T,=G,=G,=A,=T,=C,=T,=T,=G,=T,=G,=T,=T,=T,=G,=A,=G,=G,=A,=C,=A,=T,=T,=A,=A,=C,=A,=A,=C,=A,=G,=G,=C,=T,=G,=A,=T,=T,=G,=G,=G,=A,=A,=A,=G,=T,=A,=G,=T,=G,=G,=T,=T,=G,=C,=T,=T,=G,=A,=T,=G,=G,=A,=G,=T,=T,=G,=G,=G,=C,=T,=A,=G,=C,=G,=A,=T,=G,=G,=A,=G,=G,=T,=G,=A,=G,=T,=G,=A,=G,=T,=C,=T,=G,=G,=A,=G,=G,=C,=C,=A,=G,=T,=T,=G,=T,=G,=T,=G,=C,=C,=G,=C,=A,=T,=A,=C,=T,=A,=A,=C,=A,=G,=A,=G,=G,=A,=G,=T,=A,=A,=G,=C,=A,=C,=C,=A,=G,=C,=T,=A,=G,=A,=T,=T,=T,=T,=C,=A,=T,=T,=T,=C,=C,=T,=T,=A,=G,=G,=A,=T,=A,=T,=C,=T,=T,=T,=C,=T,=A,=A,=A,=T,=C,=T,=C,=A,=G,=C,=T,=C,=T,=T,=T,=T,=T,=A,=G,=A,=A,=A,=T,=G,=T,=T,=A,=A,=A,=T,=G,=C,=C,=T,=T,=T,=G,=T,=T,=T,=A,=G,=A,=A,=A,=C,=T,=T,=T,=G,=A,=A,=T,=G,=T,=T,=G,=G,=C,=T,=G,=C,=C,=A,=C,=T,=T,=A,=C,=A,=T,=T,=A,=A,=A,=A,=A,=A,=A,=A,=A,=A,=A,=A,=A,=A,=A,=A,=A,=A,=A,=A,=C,=C,=T,=G,=G,=A,=A,=A,=C,=T,=A,=A,=G,=A,=C,=A,=G,=T,=G,=T,=C,=T,=G,=G,=T,=C,=A,=C,=T,=C,=C,=C,=A,=C,=A,=C,=A,=T,=C,=A,=G,=T,=T,=A,=C,=T,=G,=T,=G,=G,=A,=G,=C,=A,=G,=C,=T,=T,=G,=C,=T,=C,=A,=C,=C,=T,=G,=T,=G,=C,=T,=C,=A,=C,=T,=C,=C,=A,=C,=T,=G,=C,=C,=C,=T,=C,=A,=A,=G,=G,=A,=G,=C,=T,=A,=A,=T,=C,=T,=G,=C,=C,=T,=G,=T,=C,=T,=G,=C,=T,=G,=G,=C,=T,=G,=C,=A,=T,=A,=T,=T,=C,=T,=G,=C,=T,=T,=C,=C,=T,=C,=C,=T,=G,=G,=G,=G,=A,=G,=T,=C,=T,=C,=A,=T,=A,=G,=G,=G,=T,=C,=T,=C,=T,=G,=A,=G,=A,=T,=C,=A,=C,=A,=C,=T,=G,=T,=T,=T,=C,=T,=G,=G,=T,=C,=A,=C,=A,=C,=T,=G,=G,=G,=G,=T,=T,=T,=T,=G,=T,=A,=A,=G,=G,=C,=C,=T,=C,=C,=C,=T,=T,=A,=C,=A,=T,=C,=T,=G,=C,=C,=A,=G,=G,=T,=T,=C,=C,=A,=G,=T,=T,=T,=G,=C,=T,=T,=C,=A,=C,=C,=T,=C,=A,=T,=T,=G,=G,=G,=T,=G,=T,=T,=T,=T,=A,=A,=T,=G,=A,=C,=A,=T,=C,=A,=C,=A,=T,=C,=A,=G,=A,=T,=G,=G,=C,=A,=A,=G,=A,=A,=A,=G,=A,=C,=T,=C,=T,=G,=G,=G,=T,=G,=G,=A,=G,=T,=C,=C,=C,=C,=C,=A,=G,=A,=A,=T,=C,=T,=C,=C,=A,=T,=A,=G,=A,=T,=G,=C,=C,=A,=T,=A,=G,=A,=G,=G,=T,=A,=T,=A,=G,=A,=C,=A,=T,=G,=G,=C,=A,=G,=T,=G,=G,=A,=C,=T,=G,=C,=T,=G,=C,=T,=G,=T,=C,=A,=G,=T,=T,=A,=G,=C,=T,=G,=C,=A,=G,=C,=C,=A,=G,=T,=G,=A,=C,=C,=T,=T,=T,=T,=A,=C,=C,=C,=C,=G,=A,=G,=A,=A,=T,=G,=G,=C,=T,=G,=G,=G,=G,=C,=A,=C,=C,=A,=A,=A,=G,=T,=T,=G,=G,=C,=T,=C,=T,=G,=A,=A,=G,=G,=T,=C,=T,=A,=G,=A,=G,=C,=C,=A,=G,=G,=T,=C,=T,=C,=C,=A,=G,=G,=A,=G,=G,=G,=T,=G,=A,=C,=A,=T,=G,=C,=G,=T,=G,=G,=T,=A,=T,=G,=T,=C,=T,=G,=A,=T,=G,=G,=A,=G,=C,=A,=A,=C,=A,=G,=G,=G,=A,=C,=C,=A,=G,=G,=A,=A,=G,=A,=C,=A,=G,=C,=G,=A,=C,=A,=G,=C,=A,=G,=A,=A,=G,=G,=G,=A,=C,=T,=T,=C,=T,=G,=G,=C,=A,=G,=C,=T,=T,=C,=T,=T,=C,=C,=T,=G,=G,=G,=T,=G,=T,=G,=G,=T,=T,=G,=C,=A,=T,=G,=T,=A,=C,=T,=C,=T,=G,=T,=G,=T,=C,=C,=C,=A,=G,=T,=G,=A,=A,=G,=G,=T,=T,=A,=G,=C,=A,=T,=C,=A,=G,=A,=G,=A,=T,=C,=T,=G,=A,=T,=T,=G,=G,=G,=G,=T,=G,=A,=G,=C,=C,=T,=G,=C,=A,=G,=T,=G,=C,=T,=G,=G,=C,=T,=C,=A,=C,=C,=C,=C,=A,=G,=C,=T,=G,=T,=G,=T,=C,=T,=G,=G,=T,=A,=A,=C,=A,=C,=A,=G,=T,=T,=C,=G,=G,=G,=G,=T,=C,=T,=A,=C,=C,=A,=G,=G,=A,=G,=C,=T,=G,=G,=C,=C,=C,=G,=G,=A,=C,=A,=C,=G,=G,=C,=A,=C,=T,=G,=G,=T,=G,=G,=C,=T,=G,=G,=G,=G,=A,=G,=G,=T,=G,=A,=A,=C,=T,=T,=G,=G,=A,=C,=A,=G,=G,=C,=A,=C,=T,=G,=A,=G,=A,=A,=A,=A,=G,=A,=A,=G,=G,=C,=T,=G,=G,=T,=T,=G,=C,=T,=C,=C,=T,=T,=C,=T,=C,=T,=G,=T,=G,=C,=T,=T,=G,=G,=C,=C,=T,=G,=C,=A,=T,=G,=C,=C,=T,=G,=T,=A,=T,=C,=T,=G,=T,=A,=G,=T,=G,=T,=A,=A,=A,=G,=T,=G,=G,=T,=C,=C,=A,=T,=C,=T,=C,=A,=C,=A,=T,=G,=C,=T,=T,=C,=A,=T,=T,=T,=C,=C,=C,=C,=C,=T,=T,=T,=T,=A,=A,=A,=G,=A,=A,=A,=T,=A,=A,=A,=A,=G,=A,=A,=G,=A,=G,=C,=T,=G,=G,=A,=G,=G,=A,=C,=C,=T,=G,=A,=A,=C,=A,=A,=A,=G,=A,=G,=A,=T,=C,=A,=A,=G,=A,=A,=A,=A,=C,=T,=G,=C,=T,=A,=A,=C,=A,=G,=G,=A,=T,=C,=C,=G,=G,=G,=G,=C,=A,=A,=G,=C,=T,=G,=A,=A,=G,=T,=G,=T,=A,=A,=G,=T,=T,=T,=G,=C,=C,=T,=T,=C,=T,=T,=G,=G,=G,=T,=G,=C,=T,=G,=G,=T,=G,=G,=G,=G,=T,=G,=T,=G,=G,=A,=A,=G,=T,=T,=G,=G,=T,=A,=C,=C,=T,=T,=T,=T,=T,=C,=C,=T,=T,=A,=G,=A,=G,=T,=T,=T,=T,=A,=T,=T,=A,=T,=T,=A,=T,=A,=T,=T,=T,=C,=C,=C,=A,=A,=A,=A,=T,=G,=A,=A,=A,=A,=T,=T,=G,=A,=G,=A,=C,=T,=G,=C,=T,=T,=C,=T,=A,=A,=G,=T,=A,=G,=G,=T,=T,=G,=G,=T,=T,=A,=T,=C,=T,=G,=T,=A,=A,=T,=C,=C,=C,=G,=T,=G,=C,=T,=A,=T,=A,=T,=C,=T,=C,=A,=T,=T,=G,=T,=G,=A,=C,=T,=C,=A,=G,=T,=A,=G,=G,=T,=G,=A,=C,=A,=T,=T,=G,=G,=G,=C,=A,=G,=G,=T,=G,=T,=T,=T,=G,=A,=G,=A,=A,=A,=G,=T,=G,=G,=G,=G,=A,=T,=A,=G,=C,=T,=T,=T,=C,=C,=T,=A,=G,=T,=G,=A,=C,=T,=C,=G,=C,=C,=A,=A,=G,=C,=T,=C,=T,=C,=A,=G,=G,=C,=G,=G,=G,=C,=C,=T,=C,=T,=T,=A,=G,=C,=T,=A,=G,=A,=A,=T,=G,=T,=T,=C,=T,=T,=T,=C,=C,=A,=G,=C,=C,=C,=C,=T,=A,=G,=A,=A,=G,=C,=T,=C,=A,=G,=C,=T,=G,=A,=G,=A,=T,=C,=A,=T,=G,=G,=T,=C,=C,=T,=C,=T,=G,=T,=G,=T,=T,=C,=A,=G,=G,=A,=T,=G,=A,=C,=G,=C,=C,=T,=T,=G,=G,=C,=T,=G,=G,=G,=T,=T,=G,=A,=G,=G,=G,=T,=T,=G,=T,=G,=G,=C,=T,=T,=T,=T,=T,=G,=C,=A,=C,=A,=G,=T,=G,=C,=T,=T,=A,=A,=A,=C,=A,=G,=A,=A,=G,=T,=T,=G,=C,=T,=T,=T,=C,=C,=T,=T,=G,=A,=T,=C,=T,=G,=T,=G,=A,=G,=G,=A,=A,=G,=A,=C,=A,=T,=A,=T,=G,=T,=T,=T,=A,=A,=C,=T,=T,=T,=T,=T,=T,=A,=T,=T,=T,=T,=T,=T,=T,=C,=T,=G,=A,=G,=A,=C,=A,=G,=G,=G,=T,=T,=T,=C,=T,=C,=T,=G,=T,=G,=T,=A,=G,=C,=C,=C,=T,=G,=G,=C,=T,=G,=T,=C,=C,=T,=A,=G,=A,=A,=C,=T,=C,=A,=C,=T,=T,=T,=G,=T,=A,=G,=A,=C,=C,=A,=A,=G,=T,=T,=G,=G,=C,=C,=T,=C,=G,=A,=A,=C,=T,=C,=A,=G,=A,=A,=A,=T,=C,=C,=G,=C,=C,=T,=G,=C,=C,=T,=C,=T,=G,=C,=C,=T,=C,=C,=C,=G,=A,=G,=T,=G,=C,=T,=G,=G,=G,=A,=T,=T,=A,=A,=A,=G,=G,=C,=A,=T,=G,=C,=T,=C,=C,=A,=C,=C,=A,=C,=T,=G,=C,=C,=C,=A,=G,=C,=T,=G,=A,=C,=A,=T,=G,=T,=G,=T,=T,=T,=T,=A,=A,=C,=T,=T,=A,=C,=A,=G,=A,=G,=A,=C,=A,=C,=A,=T,=C,=A,=A,=A,=A,=G,=G,=A,=A,=T,=A,=A,=A,=T,=C,=T,=C,=A,=T,=C,=T,=C,=C,=G,=C,=A,=C,=A,=T,=A,=C,=C,=C,=T,=C,=T,=C,=C,=T,=C,=A,=G,=G,=A,=A,=C,=A,=G,=T,=G,=A,=C,=T,=C,=C,=C,=A,=G,=G,=T,=A,=G,=C,=A,=G,=G,=C,=A,=C,=T,=C,=T,=G,=C,=C,=C,=A,=G,=A,=T,=C,=C,=T,=A,=G,=T,=A,=G,=G,=C,=T,=C,=C,=T,=G,=G,=C,=A,=C,=T,=C,=C,=T,=C,=A,=C,=T,=G,=G,=G,=C,=T,=C,=A,=A,=G,=G,=C,=A,=G,=A,=C,=C,=T,=T,=A,=G,=A,=G,=A,=G,=T,=G,=T,=G,=C,=A,=C,=C,=T,=T,=A,=A,=A,=A,=A,=C,=A,=G,=C,=G,=T,=T,=G,=T,=T,=C,=C,=C,=A,=A,=G,=C,=C,=G,-A,-G,-C,-A,-T,-C,-A,-C,-A,-T,-C,-T,-G,-C,-C,-C,-T,-T,-A,-T,-G,-T,-A,-A,-T,-G,-T,-C,-T,-G,-T,-C,-T,-G,-C,-A,-G,-G,-G,-G,-G,-T,-G,-G,-G,-G,-G,-T,-G,-G,-G,-G,-C,-T,-G,-G,-G,-G,-G,-G,-C,-T,-G,-C,-A,-T,-C,-T,-C,-T,-T,-C,-C,-A,-T,-G,-T,-G,-A,-A,-G,-A,-G,-A,-T,-G,-A,-C,-T,-C,-A,-G,-C,-G,-A,-C,-T,-C,-G,-G,-C,-T,-A,-C,-C,-T,-A,-T,-A,-T,-G,-C,-T,-C,-T,-G,-T,-G,-C,-C,-T,-C,-A,-G,-A,-G,-T,-A,-G,-A,-G,-G,-A,-C,-T,-A,-G,-C,-C,-A,-G,-A,-C,-C,-A,-C,-C,-T,-A,-G,-A,-T,-G,-G,-T,-A,-G,-T,-G,-G,-T,-T,-T,-G,-G,-T,-T,-T,-T,-A,-A,-T,-C,-A,-G,-T,-T,-T,-T,-T,-T,-T,-T,-T,-T,-T,-A,-A,-A,-G,-A,-T,-T,-T,-A,-T,-T,-T,-A,-T,-T,-T,-A,-T,-T,-T,-T,-A,-T,-G,-T,-A,-T,-A,-T,-G,-T,-G,-T,-A,-C,-A,-C,-G,-G,-T,-C,-G,-C,-T,-G,-T,-C,-T,-T,-C,-A,-G,-A,-C,-A,-C,-A,-C,-C,-A,-A,-A,-A,-G,-A,-G,-G,-G,-C,-A,-T,-C,-A,-G,=A,=T,=C,=C,=C,=A,=T,=T,=A,=C,=A,=G,=A,=T,=G,=G,=T,=T,=G,=T,+G|=G,=A,=G,=C,=C,=A,=C,=C,=A,=T,=G,=T,=G,=G,=T,=T,=T,=G,=C,=T,=G,=G,=G,=A,=A,=T,=T,=G,=A,=A,=C,=T,=C,=A,=G,=G,=T,=C,=C,=T,=C,=T,=G,=G,=A,=A,=C,=A,=G,=C,=A,=G,=T,=C,=C,=A,=T,=G,=C,=T,=C,=T,=T,=A,=A,=C,=C,=A,=C,=T,=G,=A,=G,=C,=C,=A,=T,=C,=T,=C,=T,=C,=T,=A,=G,=C,=T,=G,=G,=G,=T,=T,=T,=T,=C,=A,=A,=C,=C,=T,=T,=C,=C,=T,=A,=A,=T,=G,=C,=T,=G,=T,=G,=A,=C,=C,=C,=T,=T,=T,=A,=A,=T,=A,=T,=A,=T,=A,=G,=T,=T,=T,=C,+T|=T,*CG,=A,=T,=G,=T,=T,=G,=T,=A,=A,=T,=G,=A,=C,=C,=C,=C,=A,=A,=T,=C,=A,=T,=A,=A,=T,=A,=T,=T,=A,=T,=C,=T,=T,=C,=A,=T,=T,=G,=C,=T,=A,=C,=T,=T,=T,=A,=T,=A,=A,=C,=T,=G,=T,=A,=A,=C,=T,=T,=T,=G,=C,=T,=T,=G,=T,=T,=A,=T,=G,=A,=A,=T,=T,=G,=T,=A,=A,=T,=A,=T,=A,=A,=A,=T,=G,=T,=C,=T,=G,=A,=C,=A,=T,=G,=C,=A,=G,=G,=A,=T,=A,=T,=C,=T,=G,=C,=T,=A,=T,=T,=T,=G,=A,=C,=C,=C,=C,=A,=A,=A,=G,=T,=G,=G,=T,=T,=G,=T,=T,=A,=C,=C,=A,=A,=A,=A,=G,=C,=C,=T,=T,=A,=A,=C,=T,=A,=T,=T,=A,=G,=C,=C,=T,=T,=A,=A,=C,=T,=A,=T,=T,=C,=A,=G,=G,=G,=T,=T,=T,=A,=T,=G,=G,=T,=T,=G,=A,=A,=A,=C,=T,=G,=G,=G,=A,=T,=G,=C,=T,=C,=A,=A,=C,=C,=C,=T,=G,=T,=T,=T,=G,=A,=C,=C,=A,=A,=G,=C,=C,=T,=G,=C,=C,=A,=G,=C,=T,=T,=A,=G,=G,=G,=C,=A,=G,=G,=C,=A,=G,=T,=C,=C,=A,=C,=G,=T,=G,=C,=C,=T,=G,=C,=C,=A,=G,=C,=T,=G,=G,=A,=T,=T,=C,=A,=A,=C,=C,=T,=G,=T,=G,=A,=T,=A,=A,=C,=G,=C,=C,=C,=T,=C,=C,=C,=T,=C,=T,=A,=G,=A,=G,=G,=T,=C,=A,=G,=C,=T,=G,=G,=C,=T,=G,=C,=T,=C,=C,=G,=G,=G,=C,=T,=C,=C,=A,=A,=C,=T,=T,=A,=T,=T,=T,=G,=T,=T,=G,=T,=T,=G,=T,=T,=A,=T,=T,=G,=G,=T,=G,=A,=T,=G,=G,=T,=G,=G,=T,=A,=T,=T,=T,=T,=G,=T,=T,=T,=T,=G,=T,=T,=G,=A,=G,=C,=C,=A,=G,=A,=A,=T,=C,=T,=T,=A,=C,=T,=C,=T,=G,=T,=A,=T,=C,=C,=C,=T,=G,=G,=C,=T,=G,=G,=C,=C,=T,=G,=G,=A,=G,=T,=G,=A,=G,=C,=T,=T,=G,=T,=T,=A,=C,=A,=T,=A,=G,=A,=C,=C,=A,=G,=G,=T,=C,=G,=A,=C,=C,=T,=T,=G,=A,=A,=C,=T,=C,=A,=C,=A,=G,=A,=G,=A,=T,=T,=T,=A,=T,=T,=T,=C,=C,=C,=T,=C,=T,=C,=C,=C,=T,=C,=T,=G,=T,=A,=T,=T,=G,=G,=A,=A,=T,=T,=G,=A,=A,=G,=G,=C,=A,=T,=G,=C,=G,=C,=C,=A,=C,=C,=G,=T,=C,=C,=T,=G,=G,=T,=G,=G,=C,=C,=C,=A,=G,=G,=T,=C,=A,=T,=G,=C,=A,=C,=C,=T,=C,=C,=C,=A,=T,=T,=G,=C,=C,=G,=C,=T,=C,=T,=T,=T,=C,=T,=C,=T,=T,=A,=C,=T,=T,=T,=C,=T,=T,=C,=T,=G,=G,=G,=A,=T,=G,=G,=A,=G,=T,=C,=A,=T,=G,=G,=T,=T,=G,=G,=G,=G,=C,=T,=T,=C,=T,=T,=A,=G,=T,=C,=G,=T,=C,=A,=G,=T,=T,=T,=T,=A,=C,=C,=T,=C,=T,=T,=T,=C,=A,=A,=A,=G,=G,=A,=A,=G,=G,=G,=G,=T,=T,=G,=C,=C,=C,=C,=C,=A,=C,=A,=T,=A,=G,=T,=A,=A,=C,=A,=C,=G,=G,=T,=A,=T,=T,=C,=T,=C,=C,=G,=T,=G,=T,=T,=C,*TC,=A,=G,=C,=A,=C,=T,=C,=G,=G,=T,=G,=C,=T,=G,=T,=C,=A,=C,=G,=G,=A,=A,=G,=T,=T,=T,=G,=T,=G,=G,=A,=C,=G,=T,=C,=A,=T,=G,=A,=C,=A,=G,=A,=A,=T,=A,=C,=A,=A,=T,=G,=A,=A,=G,=C,=G,=C,=A,=G,=A,=T,=C,=C,=T,=G,=T,=T,=C,=C,=G,=G,=G,=A,=G,=C,=G,=A,=A,=G,=C,=A,=A,=A,=G,=G,=C,=C,=G,=C,=A,=T,=C,=C,=A,=G,=C,=G,=C,=C,=A,=G,=C,=T,=G,=G,=A,=G,=A,=T,=C,=A,=G,=T,=G,=A,=G,=T,=A,=G,=G,=G,=C,=G,=C,=A,=T,=G,=C,=G,=G,=G,=A,=G,=A,=C,=G,=T,=G,=C,=T,=T,=C,=A,=G,=G,=A,=C,=C,=C,=A,=T,=C,=A,=G,=A,=T,=G,=G,=C,=A,=A,=G,=C,=G,=C,=C,=C,=C,=A,=C,=T,=T,=C,=T,=A,=A,=C,=T,=G,=C,=A,=G,=A,=G,=T,=A,=A,=A,=C,=C,=G,=A,=A,=A,=G,=G,=C,=C,=C,=T,=T,=T,=G,=C,=T,=G,=C,=A,=G,=C,=C,=T,=G,=T,=G,=C,=C,=T,=A,=G,=A,=G,=T,=C,=A,=G,=G,=C,=A,=G,=A,=T,=G,=T,=G,=T,=T,=A,=T,=G,=T,=G,=T,=C,=G,=T,=A,=A,=G,=C,=T,=T,=C,=A,=G,=A,=G,=T,=T,=C,=T,=G,=A,=G,=T,=G,=C,=G,=G,=G,=G,=C,=T,=G,=T,=A,=G,=T,=G,=G,=C,=T,=T,=G,=C,=G,=A,=T,=T,=G,=C,=T,=G,=G,=T,=G,=C,=T,=G,=C,=T,=A,=T,=T,=T,=C,=A,=C,=G,=C,=A,=T,=C,=C,=C,=G,=A,=A,=A,=T,=C,=T,=T,=G,=T,=G,=G,=T,=C,=C,=T,=G,=A,=T,=T,=T,=C,=T,=T,=A,=A,=G,=G,=C,=A,=T,=T,=T,=T,=C,=G,=T,=G,=T,=C,=C,=T,=G,=C,=A,=G,=C,=T,=G,=C,=T,=C,=C,=T,=A,=C,=C,=T,=G,=G,=C,=T,=G,=G,=G,=A,=G,=A,=G,=G,=A,=T,=C,=A,=T,=C,=C,=T,=C,=A,=T,=G,=T,=G,=C,=C,=T,=C,=C,=T,=T,=C,=A,=G,=C,=T,=T,=A,=A,=C,=T,=C,=C,=C,=T,=C,=T,=G,=G,=C,=T,=A,=G,=A,=A,=G,=C,=C,=C,=T,=G,=T,=G,=G,=G,=A,=C,=C,=C,=G,=A,=G,=C,=A,=T,=A,=G,=C,=T,=G,=C,=T,=C,=C,=T,=C,=T,=G,=T,=A,=A,=C,=A,=C,=C,=A,=G,=G,=G,=T,=A,=G,=G,=G,=T,=T,=G,=T,=G,=A,=C,=A,=C,=A,=T,=T,=G,=C,=A,=T,=C,=A,=C,=A,=T,=T,=T,=C,=T,=G,=C,=C,=A,=C,=A,=T,=T,=A,=C,=T,=G,=T,=G,=T',\n",
       " 'QSCORE': '-1,-1,-1,14,24,20,11,26,28,23,22,21,23,20,8,-1,-1,27,27,23,24,34,29,27,28,26,24,20,19,-1,3,3,3,2,7|8|27,28,24,26,24,28,35,35,35,33,29,28,23,26,22,14,31,29,13,16,14,16,24,17,37,32,32,26,26,11,4,4,9,18,26,19,19,20,18,26,25,20,17,20,19,19,29,22,19,24,10,8,9,8,8,24,28,26,26,28,27,12,11,19,17,17,10,11,8,5,5,6,18,21,19,18,15,13,-1,12,20,21,3,21,22,28,27,27,19,19,24,20,15,15,-1,8,4,4,8,4|13,24,18,27,34,33,37,33,23,22,21,30,30,27,27,27,17,4,8,10,16,17,12,-1,-1,19,7,7,12,6,-1,11,7,16,14,14,15,15,29,7,14,12,12,25,27,28,27,30,31,15,27|31,30,23,29,25,25,13,23,23,11,14,8,4,4,4,15,17,17,17,18,20,26,22,14,17,11,10,10,5|4,7,8,11,12,20,26,24,25,22,9,8,-1,10,10,7,3,12,4,4,24,8,11,23,12,11,8,8,7,24,10,2,6,26,12,24,21,21,21,-1,28,15,24,24,18,6,13,4,3,3,3,3,5,12,18,18,14,12,3,3,25,27,26,25,28,26,33,36,27,24,16,12,29,24,20,22,18,14,14,17,18,16,26,22,15,19,18,32,16,24,43,27,18,18,18,25,19,23,16,19,28,28,28,36,29,28,29,29,22,15,16,27,22,20,25,26,36,32,14,15,16,10,9,9,14|4,7,15,-1,7,26,27,26,18,26,29,27,24,34,21,19,19,38,40,35,34,31,32,27,19,39,40,22,16,24,17,8,23,29,31,27,31,21,25,23,27,22,24,24,10,7,7,10,10,13,19,15,19,20,20,24,29,28,26,28,28,26,26,-1,-1,-1,-1,-1,-1,-1,-1,32,34,39,36,35,33,32,34,37,40,38,35,26,36,33,-1,33,16,38,28,34,28,27,23,24,25,11,11,6,14,16,23,27,22,25,22,17,19,17,21,18,28,27,17,24,19,11,25,25,25,29,17,15,10,10,9,14,13,14,12,22,20,30,23,25,30,29,20,8,8|12|9|18,10,20,15,15,15,31,36,33,33,35,35,30,19,19,19,35,11,29,29,35,22,20,16,18,23,23,7,21,20,29,37,24,35,32,34,15,26,24,31,32,35,31,16,20,19,20,35,32,31,32,21,37,25,27,34,18,28,26,27,36,35,38,33,31,37,33,35,30,22,15,17,37,36,25,15,17,18,22,18,21,20,23,20,15,18,16,21,14,-1,20,19,25,25,19,-1,18,29,12,30,29,29,24,23,16,20,10,16,14,31,13,11,25,10,16,11,17,18,24,28,30,24,23,28,29,31,29,18,25,29,29,20,11,20,19,21,20,20,15,6,-1,14,12,6,5,14,14,20,14,32,30,30,34,38,36,34,32,39,40,41,37,40,34,21,24,22,28,15,29,22,22,22,6|11|20,19,21,18,19,19,19,16,16,17,18,24,33,39,36,34,28,26,25,31,31,22,23,26,26,25,32,32,33,30,28,27,22,16,5,3|3,3,-1,-1,-1,19,20,19,23,19,14,6,8,12,10,10,10,7,5,2,5,-1,5,9,5,6,10,7,7,21,26,25,4,4,24,24,26,23,18,19,30,30,34,29,21,15,15,23,24,24,21,15,15,9,9,15,30,25,25,17,22,24,21,22,24,33,28,27,-1,29,20,23,23,21,9,10,7,8,11,10,21,24,21,13,9,8,11,-1,-1,-1,-1,10,23,24,26,18,13,18,27,37,27,29,10,-1,-1,10,29,30,16,33,16,8,31,21,27,14,6,9,8,6,10,24,16|18,18,20,19,32,35,34,29,37,35,35,25,23,19,24,24,24,17,20,27,23,12,25,26,25,32,31,32,29,26,25,31,30,29,32,24,23,20,16,17,15,17,12,11,8,26,21,20,21,12,21,15,21,24,25,9,9,16,13,6,3,4,3,1|3,6,9,9,7,16,20,23,28,18,8,17,10,21,25,24,25,27,29,24,23,24,29,29,26,25,22,22,18,15,3,8,6,5,16,19,23,32,30,33,29,29,34,29,-1,29,26,25,26,22,27,26,27,29,26,23,30,22,15,20,21,18,17,24,17,25,8,16,19,8,16,15,22,27,24,4,3,24,24,30,26,21,25,24,17,7,10,25,14,36,32,41,34,24,16,15,14,15,27,25,30,30,28,18,17,33,25,20,20,27,29,23,28,19,27,22,25,12,12,29,11,20,20,27|27,27,18,26,13,22,17,26,23,8,5,5,11,22,22,18,22,18,25,22,13,13,13,13,13,10,25,17,12,21,20,23,13,13,13,13,17,34,30,28,22,22,31,30,21,19,18,18,17,-1,23,8,7,15,4,10,7,9,6|2|3,4,6,12,15,15,5,21,22,14,4,17,14,15,13,15,25,10,10,30,28,12,27,27,21,20,21,5,15,22,8,6,5,7,5,-1,15,21,17,29,17,24,28,35,27,7,19,3,7,6|16,16,3,14,26,27,26,27,31,23,4,10,30,31,42,38,37,35,24,18,11,26,24,21,26,25,26,19,19,27,22,7,19,13,23,24,25,13,34,28,30,26,31,36,36,33,27,27,28,28,17,16,23,31,19,26,18,31,30,26,6,17,22,5,5,4,5,12,20,12,18,19,24,30,29,15,15,22,21,23,20,27,27,35,23,28,26,16,20,24,33,34,24,34,29,32,30,41,7,3,-1,-1,11,27,10,37,39,34,34,16,19,12,11,27,18,16,16,-1,22,28,30,24,37,38,29,29,24,21,27,24,11,32,24,22,22,30,29,24,28|4,21,19,28,43,34,36,27,34,30,31,34,33,26,24,26,35,36,33,27,24,18,12,12,12,13,9,6,12,12,9,9,25,19,18,6,6,6,6,6,15,15,15,12,21,17,21,19,19,17,15,14,18,19,19,18,23,34,35,33,5,13,4|9,7,10,-1,-1,-1,10,10,10,8,-1,-1,-1,-1,3,3,6,7,11,10,10,7,4,13,10,9,11,10,12,5,7,9,15,8,-1,18,18,20,19,12,9,5,4,17,26,25,25,18,16,14,13,26,29,31,14,33,31,32,30,27,21,6,7,-1,10,5,5,4,4,2,3,2,4,3,6,5,2,3,2|2|4,5,12,8,5,6,3,5,7,4,8,7,5,3,4,-1,5,2,2,3,2,-1,-1,3,3,4,2,4,-1,-1,-1,7,6,6|3,3,5|6|6,3,2,-1,2,3,-1,-1,-1,6,5,4,11,19,20,23,28,30,20,28,12,19,12,11,33,30,22,23,24,24,30,24,22,4,4,5,4,10,10,10,12,28,23,24,31,21,31,26,18,27,26,24,34,35,34,29,21,-1,10,17,11,11,29,30,26,16,12,8,4,5,13|8|3|8,12,14,20,26,32,24,22,12,5,13,16,26,32,39,34,-1,-1,24,10,18,20,24,24,6,-1,16,16,18,10,4,15,15,14,27,28,23,23,17,15,22,21,27,27,32,30,22,26,27,25,30,33,25,29,23,31,25,16,10,11,11,11,10,10,24,4,16,27,31,31,29,37,25,35,35,32,32,30,25,19,30,37,31,35,26,34,29,33,31,25,30,32,32,22,37,32,29,33,27,24,7,3,11,22,22,21,29,31,30,34,35,36,35,33,31,33,22,35,31,30,17,15,20,16,13,28,19,20,26,29,32,31,33,30,29,34,32,25,25,23,22,29,28,32,36,37,27,27,22,21,21,18,13,13,14,13,15,17,23,21,30,15,14,24,12,19,11,-1,6,6,22,22,19,18,27,29,32,31,27,25,27,27,32,31,40,39,35,31,15,11,8,11,11,22,21,20,23,-1,27,28,32,50,31,30,16,29,23,24,36,33,26,21,26,33,31,20,24,24,25,14,24,31,29,16,13,22,21,22,23,28,19,30,22,23,24,24,21,17,6,5,5,9,13,21,21,23,23,21,21,12,10,22,21,20,14,12,12,18,15,20,16|7|4,5,4,6,6,6,6,9,8,4,-1,13,16,20,4,7,7,8,-1,11,11,10,4,9,3,4,8,8,5,6,6,11,9,17,13,13,20,31,24,34,16,8,23,27,36,21,21,26,28,36,27,24,19,-1,-1,3,3,3,4,4,4,13,17,28,25,23,28,27,27,28,33,31,32,10,10,14,18,24,26,27,25,34,30,24,24,24,11,11,20,22,31,29,25,26,33,15,14,9,10,7,7,7,13,7,17,5,12,9,16,24,10|13,9|3,5,-1,-1,-1,-1,14,8,7,8,11,19,17,12,19,6,9,9,29,34,20,27,19,13,18,20,12,11,25,10,5,19,34,13,5,18,24,19,12,12,22,14,7,32,33,25,29,25,20,27,19,8,5,5,4,13,17,16,20,14,19,26,29,18,18,18,24,27,29,19,32,25,25,29,17,21,10,6,10,12,28,14,18,8,21,10,17,28,27,24,9,24,18,8,12,10,6,6,11,-1,-1,-1,-1,16,16,26,23,28,32,32,36,24,26,28,29,31,31,32,30,31,30,29,5,15,14,8,8|3,22,14,7,4,14,4,14,22,18,27,12,11,23,22,27,33,34,31,31,28,37,30,24,22,28,27,33,25,21,25,19,12,13,20,4,4,4,23,-1,-1,-1,-1,-1,-1,-1,-1,-1,-1,-1,-1,-1,-1,-1,-1,-1,-1,-1,-1,-1,-1,-1,-1,-1,-1,-1,-1,-1,-1,-1,-1,-1,-1,-1,-1,-1,-1,-1,-1,-1,-1,-1,-1,-1,-1,-1,-1,-1,-1,-1,-1,-1,-1,-1,-1,-1,-1,-1,-1,-1,-1,-1,-1,-1,-1,-1,-1,-1,-1,-1,-1,-1,-1,-1,-1,-1,-1,-1,-1,-1,-1,-1,-1,-1,-1,-1,-1,-1,-1,-1,-1,-1,-1,-1,-1,-1,-1,-1,-1,-1,-1,-1,-1,-1,-1,-1,-1,-1,-1,-1,-1,-1,-1,-1,-1,-1,-1,-1,-1,-1,-1,-1,-1,-1,-1,-1,-1,-1,-1,-1,-1,-1,-1,-1,-1,-1,-1,-1,-1,-1,-1,-1,-1,-1,-1,-1,-1,-1,-1,-1,-1,-1,-1,-1,-1,-1,-1,-1,-1,-1,-1,-1,-1,-1,-1,-1,-1,-1,-1,-1,-1,-1,-1,-1,-1,-1,-1,-1,-1,-1,-1,-1,-1,-1,-1,-1,-1,-1,-1,-1,-1,-1,-1,-1,-1,-1,-1,-1,-1,-1,-1,-1,-1,-1,-1,-1,-1,-1,-1,-1,-1,-1,-1,-1,-1,-1,-1,-1,-1,-1,-1,-1,-1,-1,-1,-1,-1,-1,-1,-1,-1,-1,-1,-1,-1,-1,-1,-1,-1,-1,-1,-1,-1,-1,-1,-1,-1,-1,-1,-1,-1,-1,-1,-1,-1,-1,-1,-1,-1,4,14,31,30,26,26,31,33,28,24,27,29,33,37,28,26,3,9,11|10|10|6|8,8,9|9,25,25,20,17,17,27,20,23,21,22,19,14,12,26,28,27,18,14,19,27,22,21,34,24,26,26,27,31,35,28,14,15,24,8|24,23,32,29,39,26,27,28,28,7,31,30,32,33,31,35,37,32,31,32,16,29,27,27,26,-1,6,4,3,31,36,34,39,32,26,22,33,27,33,29,30,30,30,32,18,7,11,18,18,20,32,32,26,28,25,20,9,14,15,13,15,23,21,26,30,22,27,33,26,22,27,29,32,31,38,35,29,28,38,30,30,13,23,5,28,28,17,8,8,7,12,13,18,26,30,32,11,4,9,7|7,7,5,8,9,12,17,15,13,5,4,4,16,19,5,23,27,23,27,30,22,22,26,26,14,9,8,3,8,4,13,17,15,14,19,19,-1,-1,9,8,12,17,15,10,14,12,11,11,13,28,27,28,9,9,25,37,20,15,16,22,22,22,23,21,21,18,19,18,5,8,12,29,26,24,26,18,17,14,9,8,12,5,6,9,8,9,7,9,6,6,20,13,4,4,2|5,3,3,3,11,4,4,20,20,18,14,13,7,7,7,7,10,10,6,22,21,10,13,5,4,3,3,3,3,2,3,2,5,4,9,7,8,13,11,4,29|28,31,32,32,26,14,6,6,6,17,21,21,33,27,32,33,16,27,21,16,23,24,28,11,8,6,7,17,19,22,27,25,21,15,13,18,16,14,13,14,16,16,16,33,29,32,23,23,18,24,29,15,15,29,30,25,25,26,31,24,14,20,11,9,8,6,6,4,18,4,3,4|7,2,2,2,5,5,4,4,4,4,15,18,7,17,22,15,11,26,26,29,29,25,24,11,34,29,34,35,18,28,14,-1,-1,13,23,22,16,14,19,27,19,26,21,7,17,7,7,36,28,28,23,10,6,23,6,5,6,16,15,13,19,24,24,22,27,9,34,32,32,6,5,4,24,6,9,31,12,26,19,26,37,32,28,26,34,25,25,28,27,26,19,6,12,8,14,15,16,24,23,29,22,13,9,8,10,8,14,19,-1,-1,-1,26,25,21,16,17,4,4,3,4,3,3,18,17,22,33,31,32,32,30,30,25,25,25,25,26,28,25,17,8,9,4,13,13,23,25,25,33,31,29,26,22,10,3,14,15,15,19,17,16,18,19,8,10,18,16,20,24,25,27,14,16,25,23,30,27,33,32,33,26,22,21,28,14,29,22,28,33,27,26,10,9,8,12,10,11,9,14,21,26,28,35,33,10,21,26,26,25,18,21,15,21,24,25,5|40,41,31,25,30,26,17,30,26,30,19,30,18,28,31,38,37,5,27,37,32,24,-1,7,20,17,21,24,11,36,40,31,39,35,35,30,25,24,24,34,5,15,3,5,3,5,15,12,14,13,29,30,32,28,8,3,20,18,18,20,9,27,32,35,31,5|4,25,26,26,30,29,26,13,8,8,14,13,16,23,18,19,20,15,20,10,15,21,21,14,20,20,18,18,11,16,8,3|3,10,12,14,6,10,-1,-1,21,25,21,27,22,16,21,22,28,24,22,31,22,21,23,26,16,16,30,27,22,26,24,13,16,8,13,32,32,15,15,22,19,19,18,21,15,19,22,22,20,23,20,17,17,7,4,10,6,14,12,19,29,26,25,15,5|5,4,5,13,24,13,14,8,18,18,21,18,33,26,-1,-1,25,24,30,31,20,-1,20,10,14,9,9,24,25,28,33,29,27,32,31,28,30,27,28,28,16,16,7,-1,-1,17,18,16,18,15,17,22,23,18|18,4,5,6,15,24,20,16,30,29,30,27,26,22,6,7,18,21,25,12,20,18,31,30,29,29,26,20,12,7,9,8,8,25,24,12,12,9,5|5,27,25,27,32,28,26,22,24,23,22,19,15,15,29,27,26,16,14,19,21,23,27,26,27,27,26,16,16,20,-1,-1,15,14,26,9,31,28,17,30,28,26,19,13,26,6,4,5,4,9,11,11,11,15,19,13,9,5,4,8,10,26,26,24,33,30,26,-1,34,14,35,37,30,30,21,19,15,19,14,12,4,10,15,17,17,8,6,-1,-1,3,3,2,3,4,7|8|8|27,17,32,23,20,-1,-1,19,27,26,26,24,22,11,9,9,30,14,9,9,24,27,22,35,14,20,29,29,26,21,28,21,19,13,17,3|19,23,26,29,25,19,21,22,34,33,31,28,20,19,23,28,30,33,15,16,9|28,29,19,24,4,10,26|29,25,16,18,17,17,13,16,13,26,27,23,23,19,19,26,33,27,17,11,13,13,15,15,21,13,20,23,13|9,25,28,25,29,18,21,21,20,20,26,24,18,18,10,-1,2,4,5,10,8,13,17,13,17,17,11,22,22,21,5,-1,6,4,4|2|2,8,8,5,7,8,16,18,18,18,-1,-1,-1,-1,16,16,12,13,12,7,2,2,7,7,8,11,14,13,6,6,5,4,7|19,10,16,20,21,18,21,6,9,10,10,10,9,7,3,19,7,20|13,14,13,12,12,18,18,24,26,32,27,32,7,13,30,35,34,34,32,35,35,30,31,22,21,26,26,16,32,23,15,20,18,17,10,10|11,10,10,9,10,9,18,22,-1,19,19,9,3,8,5,9,6,12,15,6,6,14,16,18,22,25,25,25,15,20,31,30,25,14,5,21,22,22,18,30,27,30,9,24,5,17,7,6|23,8,6|7,6,6|6,14,21,10,9,17,19,21,22,25,24,27,22,13,6|31,26,22,18,22,25,23,19,21,23,27,24,29,17,12,13,26,10,16,16,14,13,11,9,-1,5,4,3,3,3,4|7,21,17,17,13,15,23,17,16,24,11,5,24,12,9,19,20,27,27,31,32,30,31,27,28,24,12,20,23,25,23,19,14,16,9,15,10,10,6,10,19,19,16,16,11,24,24,15,14,6,7|11,11,18,13,4,23,23,23,23,27,22,23,28,27,22,21,20,24,18,16,18,19,17,16,12,11,23,26,28,28,29,26,23,24,35,19,32',\n",
       " 'ALLELE': 'target',\n",
       " 'PRESET': 'splice'}"
      ]
     },
     "execution_count": 8,
     "metadata": {},
     "output_type": "execute_result"
    }
   ],
   "source": [
    "classif_sample[0]"
   ]
  },
  {
   "cell_type": "code",
   "execution_count": 9,
   "metadata": {},
   "outputs": [],
   "source": [
    "from __future__ import annotations\n",
    "from itertools import groupby\n",
    "from collections import defaultdict\n",
    "from pathlib import Path\n",
    "import midsv\n",
    "\n",
    "from src.DAJIN2.core.preprocess.correct_knockin import extract_knockin_loci\n",
    "from src.DAJIN2.core.clustering.preprocess import replace_both_ends_n, compress_insertion\n",
    "from src.DAJIN2.core.clustering.make_score import make_score\n",
    "from src.DAJIN2.core.clustering.return_labels import return_labels\n",
    "\n",
    "\n",
    "def extract_cssplits_in_mutation(cssplits_sample: list[list], mutation_loci: set) -> list[list]:\n",
    "    cssplits_mutation = []\n",
    "    for cssplits in cssplits_sample:\n",
    "        cs_mutation = []\n",
    "        for i, cs in enumerate(cssplits):\n",
    "            if i in mutation_loci:\n",
    "                cs_mutation.append(cs)\n",
    "        cssplits_mutation.append(cs_mutation)\n",
    "    return cssplits_mutation\n",
    "\n",
    "\n",
    "def annotate_score(cssplits: list[list], mutation_score: list[dict]):\n",
    "    scores = []\n",
    "    for cssplit in cssplits:\n",
    "        score = [0]\n",
    "        for i in range(1, len(cssplit) - 1):\n",
    "            if not mutation_score[i]:\n",
    "                score.append(0)\n",
    "                continue\n",
    "            kmer = \",\".join([cssplit[i - 1], cssplit[i], cssplit[i + 1]])\n",
    "            score.append(mutation_score[i].get(kmer, 0))\n",
    "        scores.append(score + [0])\n",
    "    return scores\n"
   ]
  },
  {
   "cell_type": "code",
   "execution_count": 10,
   "metadata": {},
   "outputs": [],
   "source": [
    "allele = \"target\"\n",
    "mutation_loci = MUTATION_LOCI[allele]\n",
    "knockin_alleles = extract_knockin_loci(TEMPDIR)"
   ]
  },
  {
   "cell_type": "code",
   "execution_count": 11,
   "metadata": {},
   "outputs": [],
   "source": [
    "# control\n",
    "midsv_control = midsv.read_jsonl((Path(TEMPDIR, \"midsv\", f\"{CONTROL_NAME}_splice_{allele}.jsonl\")))\n",
    "cssplits_control = [cs[\"CSSPLIT\"].split(\",\") for cs in midsv_control]\n",
    "# Sample\n",
    "cssplits_sample = [cs[\"CSSPLIT\"].split(\",\") for cs in classif_sample if cs[\"ALLELE\"] == allele]"
   ]
  },
  {
   "cell_type": "code",
   "execution_count": 31,
   "metadata": {},
   "outputs": [],
   "source": [
    "cssplits_control = compress_insertion(cssplits_control)\n",
    "cssplits_sample = compress_insertion(cssplits_sample)\n",
    "mutation_score = make_score(cssplits_control, cssplits_sample, knockin_alleles[allele])\n",
    "scores_control = annotate_score(cssplits_control, mutation_score)\n",
    "scores_sample = annotate_score(cssplits_sample, mutation_score)\n",
    "labels = return_labels(scores_sample, scores_control)\n"
   ]
  },
  {
   "cell_type": "code",
   "execution_count": 32,
   "metadata": {},
   "outputs": [
    {
     "data": {
      "text/plain": [
       "Counter({2: 1145, 3: 1191, 1: 1512, 4: 473})"
      ]
     },
     "execution_count": 32,
     "metadata": {},
     "output_type": "execute_result"
    }
   ],
   "source": [
    "from collections import Counter\n",
    "Counter(labels)"
   ]
  },
  {
   "cell_type": "code",
   "execution_count": 44,
   "metadata": {},
   "outputs": [
    {
     "name": "stdout",
     "output_type": "stream",
     "text": [
      "['=G', '=C', '=T', '=C', '=C', '=A', '=G', '=G', '=G', '=T']\n",
      "['N', 'N', 'N', 'N', 'N', 'N', 'N', 'N', 'N', 'N']\n",
      "=====================================\n",
      "['N', 'N', 'N', 'N', '=C', '=A', '=G', '=G', '=G', '=T']\n",
      "['N', 'N', 'N', 'N', 'N', 'N', 'N', 'N', 'N', 'N']\n",
      "=====================================\n",
      "['=G', '=C', '=T', '=C', '=C', '=A', '=G', '=G', '=G', '=T']\n",
      "['N', 'N', 'N', 'N', 'N', 'N', 'N', 'N', 'N', 'N']\n",
      "=====================================\n",
      "['=G', '=C', '=T', '=C', '=C', '=A', '=G', '=G', '=G', '=T']\n",
      "['N', 'N', 'N', 'N', 'N', 'N', 'N', 'N', 'N', 'N']\n",
      "=====================================\n",
      "['=G', '=C', '=T', '=C', '=C', '=A', '=G', '=G', '=G', '=T']\n",
      "['N', 'N', 'N', 'N', 'N', 'N', 'N', 'N', 'N', 'N']\n",
      "=====================================\n",
      "['=G', '=C', '=T', '=C', '=C', '=A', '=G', '=G', '=G', '=T']\n",
      "['N', 'N', 'N', 'N', 'N', 'N', 'N', 'N', 'N', 'N']\n",
      "=====================================\n",
      "['=G', '=C', '=T', '=C', '=C', '=A', '=G', '=G', '=G', '=T']\n",
      "['N', 'N', 'N', 'N', 'N', 'N', 'N', 'N', 'N', 'N']\n",
      "=====================================\n",
      "['=G', '=C', '=T', '=C', '=C', '=A', '=G', '=G', '=G', '=T']\n",
      "['N', 'N', 'N', 'N', 'N', 'N', 'N', 'N', 'N', 'N']\n",
      "=====================================\n",
      "['=G', '=C', '=T', '=C', '=C', '=A', '=G', '=G', '=G', '=T']\n",
      "['N', 'N', 'N', 'N', 'N', 'N', 'N', 'N', 'N', 'N']\n",
      "=====================================\n",
      "['=G', '=C', '=T', '=C', '=C', '=A', '=G', '=G', '=G', '=T']\n",
      "['N', 'N', 'N', 'N', 'N', 'N', 'N', 'N', 'N', 'N']\n",
      "=====================================\n"
     ]
    }
   ],
   "source": [
    "count = 0\n",
    "for cs, label in zip(cssplits_sample, labels):\n",
    "    if label == 4:\n",
    "        print(cs[:10])\n",
    "        print(cs[-10:])\n",
    "        print(\"=====================================\")\n",
    "        count += 1\n",
    "    if count == 10:\n",
    "        break"
   ]
  },
  {
   "cell_type": "markdown",
   "metadata": {},
   "source": [
    "### `return_labels`にてControlで切断リードのクラスタがあるか確認する"
   ]
  },
  {
   "cell_type": "code",
   "execution_count": 45,
   "metadata": {},
   "outputs": [],
   "source": [
    "from __future__ import annotations\n",
    "import numpy as np\n",
    "from sklearn.decomposition import PCA\n",
    "from sklearn.mixture import GaussianMixture\n",
    "from sklearn.exceptions import ConvergenceWarning\n",
    "from collections import Counter\n",
    "\n",
    "from src.DAJIN2.core.clustering.merge_clusters import merge_clusters\n",
    "\n",
    "import warnings\n",
    "\n",
    "warnings.filterwarnings(\"ignore\", category=RuntimeWarning)\n",
    "warnings.filterwarnings(\"ignore\", category=ConvergenceWarning)\n",
    "\n",
    "###############################################################################\n",
    "# Dimension reduction\n",
    "###############################################################################\n",
    "\n",
    "\n",
    "def reduce_dimension(scores_sample: list[list], scores_control_subset: list[list]) -> np.array:\n",
    "    scores = scores_sample + scores_control_subset\n",
    "    n_components = min(20, len(scores[0]))\n",
    "    pca = PCA(n_components=n_components).fit(scores)\n",
    "    return pca.transform(scores)\n",
    "\n",
    "\n",
    "def optimize_labels(X: np.array, scores_sample: list[list], scores_control_subset: list[list]) -> list[int]:\n",
    "    scores = scores_sample + scores_control_subset\n",
    "    n_components = min(20, len(scores))\n",
    "    labels_results = [1] * len(scores_sample)\n",
    "    for i in range(1, n_components):\n",
    "        np.random.seed(seed=1)\n",
    "        labels = GaussianMixture(n_components=i, random_state=1).fit_predict(X)\n",
    "        labels = labels.tolist()\n",
    "        labels_sample = labels[: len(scores_sample)]\n",
    "        labels_control = labels[len(scores_sample) :]\n",
    "        labels_merged = merge_clusters(labels_control, labels_sample)\n",
    "        # Reads < 1% in the control are considered clustering errors and are not counted\n",
    "        count_control = Counter(labels_control)\n",
    "        num_labels_control = sum(1 for reads in count_control.values() if reads / sum(count_control.values()) * 100 > 1)\n",
    "        if num_labels_control > 1:\n",
    "            return labels_results\n",
    "        labels_results = labels_merged\n",
    "    return labels_results\n",
    "\n",
    "\n",
    "###############################################################################\n",
    "# main\n",
    "###############################################################################\n",
    "\n",
    "\n",
    "def return_labels(scores_sample: list[list], scores_control: list[list]) -> list[int]:\n",
    "    np.random.seed(seed=1)\n",
    "    X_control = reduce_dimension([], scores_control)\n",
    "    labels = GaussianMixture(n_components=2, random_state=1).fit_predict(X_control)\n",
    "    label_most = Counter(labels).most_common()[0][0]\n",
    "    scores_control_subset = [s for l, s in zip(labels, scores_control) if l == label_most][:1000]\n",
    "    X = reduce_dimension(scores_sample, scores_control_subset)\n",
    "    labels = optimize_labels(X, scores_sample, scores_control_subset)\n",
    "    return labels\n"
   ]
  },
  {
   "cell_type": "code",
   "execution_count": 49,
   "metadata": {},
   "outputs": [
    {
     "data": {
      "text/plain": [
       "Counter({2: 696, 0: 1457, 1: 76, 3: 222})"
      ]
     },
     "execution_count": 49,
     "metadata": {},
     "output_type": "execute_result"
    }
   ],
   "source": [
    "X_control = reduce_dimension([], scores_control)\n",
    "labels = GaussianMixture(n_components=4, random_state=1).fit_predict(X_control)\n",
    "Counter(labels)"
   ]
  },
  {
   "cell_type": "code",
   "execution_count": 65,
   "metadata": {},
   "outputs": [
    {
     "name": "stdout",
     "output_type": "stream",
     "text": [
      "['N', 'N', 'N', 'N', 'N', 'N', 'N', 'N', 'N', 'N']\n",
      "[0, 0, 0, 0, 0, 0, 0, 0, 0, 0]\n",
      "=====================================\n",
      "['N', 'N', 'N', 'N', 'N', 'N', 'N', 'N', 'N', 'N']\n",
      "[0, 0, 0, 0, 0, 0, 0, 0, 0, 0]\n",
      "=====================================\n",
      "['N', 'N', 'N', 'N', 'N', 'N', 'N', 'N', 'N', 'N']\n",
      "[0, 0, 0, 0, 0, 0, 0, 0, 0, 0]\n",
      "=====================================\n",
      "['N', 'N', 'N', 'N', 'N', 'N', 'N', 'N', 'N', 'N']\n",
      "[0, 0, 0, 0, 0, 0, 0, 0, 0, 0]\n",
      "=====================================\n",
      "['N', 'N', 'N', 'N', 'N', 'N', 'N', 'N', 'N', 'N']\n",
      "[0, 0, 0, 0, 0, 0, 0, 0, 0, 0]\n",
      "=====================================\n"
     ]
    }
   ],
   "source": [
    "count = 0\n",
    "for cs, score, label in zip(cssplits_control, scores_control, labels):\n",
    "    if label == 3:\n",
    "        print(cs[-10:])\n",
    "        print(score[-10:])\n",
    "        print(\"=====================================\")\n",
    "        count += 1\n",
    "    if count == 5:\n",
    "        break"
   ]
  },
  {
   "cell_type": "markdown",
   "metadata": {},
   "source": [
    "### 末端から連続するNのスコアを反映させる"
   ]
  },
  {
   "cell_type": "code",
   "execution_count": 66,
   "metadata": {},
   "outputs": [],
   "source": [
    "from __future__ import annotations\n",
    "from collections import defaultdict\n",
    "from collections import Counter\n",
    "\n",
    "\n",
    "def call_count(cssplits: list[list[str]]) -> list[dict[str, int]]:\n",
    "    \"\"\"Count cssplits within 3-mer range.\n",
    "    Args:\n",
    "        cssplits (list[list[str]])\n",
    "    Returns:\n",
    "        list[dict[str, int]]: Both ends are counted as \"N\" to keep sequence length.\n",
    "    \"\"\"\n",
    "    count_kmer = defaultdict(Counter)\n",
    "    for cssplit in cssplits:\n",
    "        for i in range(1, len(cssplit) - 1):\n",
    "            kmer = \",\".join([cssplit[i - 1], cssplit[i], cssplit[i + 1]])\n",
    "            count_kmer[i] += Counter([kmer])\n",
    "    coverage = len(cssplits)\n",
    "    count_score = [{\"N\": coverage}]\n",
    "    count_score += [dict(count_kmer[i]) for i in range(1, len(cssplit) - 1)]\n",
    "    count_score += [{\"N\": coverage}]\n",
    "    return count_score\n",
    "\n",
    "\n",
    "def call_percent(counts: list[dict[str:int]]) -> list[dict[str:float]]:\n",
    "    cssplit_percent = []\n",
    "    coverage = sum(counts[0].values())\n",
    "    for count in counts:\n",
    "        percent = {k: v / coverage * 100 for k, v in count.items()}\n",
    "        cssplit_percent.append(percent)\n",
    "    return cssplit_percent\n",
    "\n",
    "\n",
    "def subtract_percentage(percent_control, percent_sample, knockin_loci) -> list[dict]:\n",
    "    sample_subtracted = []\n",
    "    for i, (cont, samp) in enumerate(zip(percent_control, percent_sample)):\n",
    "        if i in knockin_loci:\n",
    "            sample_subtracted.append(samp)\n",
    "            continue\n",
    "        samp = Counter(samp)\n",
    "        samp.subtract(Counter(cont))\n",
    "        sample_subtracted.append(dict(samp))\n",
    "    return sample_subtracted\n",
    "\n",
    "\n",
    "def discard_common_error(sample_subtracted, threshold=0.5):\n",
    "    sample_discarded = []\n",
    "    for samp in sample_subtracted:\n",
    "        remained = {k: v for k, v in samp.items() if v > threshold}\n",
    "        sample_discarded.append(remained)\n",
    "    return sample_discarded\n",
    "\n",
    "\n",
    "def discard_match(sample_subtracted):\n",
    "    sample_discarded = []\n",
    "    for samp in sample_subtracted:\n",
    "        remained = {k: v for k, v in samp.items() if not k.split(\",\")[1].startswith(\"=\")}\n",
    "        sample_discarded.append(remained)\n",
    "    return sample_discarded\n",
    "\n",
    "\n",
    "###############################################################################\n",
    "# main\n",
    "###############################################################################\n",
    "\n",
    "\n",
    "def make_score(cssplits_control, cssplits_sample, knockin_loci):\n",
    "    counts_control = call_count(cssplits_control)\n",
    "    counts_sample = call_count(cssplits_sample)\n",
    "    percent_control = call_percent(counts_control)\n",
    "    percent_sample = call_percent(counts_sample)\n",
    "    percent_subtraction = subtract_percentage(percent_control, percent_sample, knockin_loci)\n",
    "    percent_discarded = discard_common_error(percent_subtraction, 0.5)\n",
    "    mutation_score = discard_match(percent_discarded)\n",
    "    return mutation_score\n"
   ]
  },
  {
   "cell_type": "code",
   "execution_count": 86,
   "metadata": {},
   "outputs": [],
   "source": [
    "knockin_loci = knockin_alleles[allele]\n",
    "counts_control = call_count(cssplits_control)\n",
    "counts_sample = call_count(cssplits_sample)\n",
    "percent_control = call_percent(counts_control)\n",
    "percent_sample = call_percent(counts_sample)\n",
    "percent_subtraction = subtract_percentage(percent_control, percent_sample, knockin_loci)\n",
    "percent_discarded = discard_common_error(percent_subtraction, 0.5)\n",
    "mutation_score = discard_match(percent_discarded)"
   ]
  },
  {
   "cell_type": "code",
   "execution_count": null,
   "metadata": {},
   "outputs": [
    {
     "data": {
      "text/plain": [
       "[{}, {}, {}, {'=T,N,N': 0.50074730158928}, {}, {}, {}, {}, {}, {}]"
      ]
     },
     "execution_count": 69,
     "metadata": {},
     "output_type": "execute_result"
    }
   ],
   "source": [
    "mutation_score[-10:]"
   ]
  },
  {
   "cell_type": "code",
   "execution_count": 74,
   "metadata": {},
   "outputs": [
    {
     "name": "stdout",
     "output_type": "stream",
     "text": [
      "{'=T,=G,=T': 68.9514483884129, 'N,N,N': 25.336597307221542, '=T,N,N': 1.346389228886169, '=T,=G,N': 4.324765401876785, '=t,=g,=t': 0.04079967360261118}\n",
      "{'=T,=G,=T': 70.28465632955334, '=T,=G,N': 4.628558204119416, 'N,N,N': 23.999074288359175, '=T,N,N': 1.0645683869474658, '=t,=g,=t': 0.023142791020597086}\n",
      "{'=T,=G,=T': 1.3332079411404436, '=T,=G,N': 0.30379280224263105, 'N,N,N': -1.3375230188623668, '=T,N,N': -0.28182084193870316, '=t,=g,=t': -0.017656882582014092}\n",
      "{'=T,=G,=T': 1.3332079411404436}\n"
     ]
    }
   ],
   "source": [
    "print(percent_control[-2])\n",
    "print(percent_sample[-2])\n",
    "print(percent_subtraction[-2])\n",
    "print(percent_discarded[-2])"
   ]
  },
  {
   "cell_type": "markdown",
   "metadata": {},
   "source": [
    "- `discard_common_error`をすることでNの情報が消えている\n",
    "- `discard_common_error`を無くすとどうなる？"
   ]
  },
  {
   "cell_type": "code",
   "execution_count": 95,
   "metadata": {},
   "outputs": [],
   "source": [
    "def discard_match(sample_subtracted):\n",
    "    sample_discarded = []\n",
    "    for samp in sample_subtracted:\n",
    "        if samp.keys() == {\"N\"}:\n",
    "            sample_discarded.append(samp)\n",
    "            continue\n",
    "        remained = {k: v for k, v in samp.items() if not k.split(\",\")[1].startswith(\"=\")}\n",
    "        sample_discarded.append(remained)\n",
    "    return sample_discarded\n",
    "\n",
    "percent_subtraction = subtract_percentage(percent_control, percent_sample, knockin_loci)\n",
    "mutation_score = discard_match(percent_subtraction)"
   ]
  },
  {
   "cell_type": "code",
   "execution_count": 97,
   "metadata": {},
   "outputs": [
    {
     "name": "stdout",
     "output_type": "stream",
     "text": [
      "[{'N,N,N': -1.3375230188623668, '=T,N,N': -0.28182084193870316}, {'N': 0.0}]\n",
      "3582\n"
     ]
    }
   ],
   "source": [
    "print(mutation_score[-2:])\n",
    "print(len(mutation_score))"
   ]
  },
  {
   "cell_type": "code",
   "execution_count": 98,
   "metadata": {},
   "outputs": [],
   "source": [
    "allele = \"target\"\n",
    "mutation_loci = MUTATION_LOCI[allele]\n",
    "knockin_alleles = extract_knockin_loci(TEMPDIR)\n",
    "# control\n",
    "midsv_control = midsv.read_jsonl((Path(TEMPDIR, \"midsv\", f\"{CONTROL_NAME}_splice_{allele}.jsonl\")))\n",
    "cssplits_control = [cs[\"CSSPLIT\"].split(\",\") for cs in midsv_control]\n",
    "# Sample\n",
    "cssplits_sample = [cs[\"CSSPLIT\"].split(\",\") for cs in classif_sample if cs[\"ALLELE\"] == allele]\n",
    "cssplits_control = compress_insertion(cssplits_control)\n",
    "cssplits_sample = compress_insertion(cssplits_sample)\n",
    "\n",
    "scores_control = annotate_score(cssplits_control, mutation_score)\n",
    "scores_sample = annotate_score(cssplits_sample, mutation_score)"
   ]
  },
  {
   "cell_type": "code",
   "execution_count": 99,
   "metadata": {},
   "outputs": [
    {
     "name": "stdout",
     "output_type": "stream",
     "text": [
      "[[0, 0, 0, 0, 0, 0, 0, 0, 0, 0, 0, 0, 0, 0, 0, 0, 0, 0, 0, 0, 0, 0, 0, 0, 0, 0, 0, 0, 0, 0, 0, 0, 0, 0, 0, 0, 0, 0, 0, 0, 0, 0, 0, 0, 0, 0, 0, 0, 0, 0, 0, 0, 0, 0, 0, 0, 0, 0, 0, 0, 0, 0, 0, 0, 0, 0, 0, 0, 0, 0, 0, 0, 0, 0, 0, 0, 0, 0, 0, 0, 0, 0, 0, 0, 0, 0, 0, 0, 0, 0, 0, 0, 0, 0, 0, 0, 0, 0, 0, 0, 0, 0, 0, 0, 0, 0, 0, 0, 0, 0, 0, 0, 0, 0, 0, 0, 0, 0, 0, 0, 0, 0, 0, 0, 0, 0, 0, 0, 0, 0, 0, 0, 0, 0, 0, 0, 0, 0, 0, 0, 0, 0, 0, 0, 0, 0, 0, 0, 0, 0, 0, 0, 0, 0, 0, 0, 0, 0, 0, 0, 0, 0, 0, 0, 0, 0, 0, 0, 0, 0, 0, 0, 0, 0, 0, 0, 0, 0, 0, 0, 0, 0, 0, 0, 0, 0, 0, 0, 0, 0, 0, 0, 0, 0, 0, 0, 0, 0, 0, 0, 0, 0, 0, 0, 0, 0, 0, 0, 0, 0, 0, 0, 0, 0, 0, 0, 0, 0, 0, 0, 0, 0, 0, 0, 0, 0, 0, 0, 0, 0, 0, 0, 0, 0, 0, 0, 0, 0, 0, 0, 0, 0, 0, 0, 0, 0, 0, 0, 0, 0, 0, 0, 0, 0, 0, 0, 0, 0, 0, 0, 0, 0, 0, 0, 0, 0, 0, 0, 0, 0, 0, 0, 0, 0, 0, 0, 0, 0, 0, 0, 0, 0, 0, 0, 0, 0, 0, 0, 0, 0, 0, 0, 0, 0, 0, 0, 0, 0, 0, 0, 0, 0, 0, 0, 0, 0, 0, 0, 0, 0, 0, 0, 0, 0, 0, 0, 0, 0, 0, 0, 0, 0, 0, 0, 0, 0, 0, 0, 0, 0, 0, 0, 0, 0, 0, 0, 0, 0, 0, 0, 0, 0, 0, 0, 0, 0, 0, 0, 0, 0, 0, 0, 0, 0, 0, 0, 0, 0, 0, 0, 0, 0, 0, 0, 0, 0, 0, 0, 0, 0, 0, 0, 0, 0, 0, 0, 0, 0, 0, 0, 0, 0, 0, 0, 0, 0, 0, 0, 0, 0, 0, 0, 0, 0, 0, 0, 0, 0, 0, 0, 0, 0, 0, 0, 0, 0, 0, 0, 0, 0, 0, 0, 0, 0, 0, 0, 0, 0, 0, 0, 0, 0, 0, 0, 0, 0, 0, 0, 0, 0, 0, 0, 0, 0, 0, 0, 0, 0, 0, 0, 0, 0, 0, 0, 0, 0, 0, 0, 0, 0, 0, 0, 0, 0, 0, 0, 0, 0, 0, 0, 0, 0, 0, 0, 0, 0, 0, 0, 0, 0, 0, 0, 0, 0, 0, 0, 0, 0, 0, 0, 0, 0, 0, 0, 0, 0, 0, 0, 0, 0, 0, 0, 0, 0, 0, 0, 0, 0, 0, 0, 0, 0, 0, 0, 0, 0, 0, 0, 0, 0, 0, 0, 0, 0, 0, 0, 0, 0, 0, 0, 0, 0, 0, 0, 0, 0, 0, 0, 0, 0, 0, 0, 0, 0, 0, 0, 0, 0, 0, 0, 0, 0, 0, 0, 0, 0, 0, 0, 0, 0, 0, 0, 0, 0, 0, 0, 0, 0, 0, 0, 0, 0, 0, 0, 0, 0, 0, 0, 0, 0, 0, 0, 0, 0, 0, 0, 0, 0, 0, 0, 0, 0, 0, 0, 0, 0, 0, 0, 0, 0, 0, 0, 0, 0, 0, 0, 0, 0, 0, 0, 0, 0, 0, 0, 0, 0, 0, 0, 0, 0, 0, 0, 0, 0, 0, 0, 0, 0, 0, 0, 0, 0, 0, 0, 0, 0, 0, 0, 0, 0, 0, 0, 0, 0, 0, 0, 0, 0, 0, 0, 0, 0, 0, 0, 0, 0, 0, 0, 0, 0, 0, 0, 0, 0, 0, 0, 0, 0, 0, 0, 0, 0, 0, 0, 0, 0, 0, 0, 0, 0, 0, 0, 0, 0, 0, 0, 0, 0, 0, 0, 0, 0, 0, 0, 0, 0, 0, 0, 0, 0, 0, 0, 0, 0, 0, 0, 0, 0, 0, 0, 0, 0, 0, 0, 0, 0, 0, 0, 0, 0, 0, 0, 0, 0, 0, 0, 0, 0, 0, 0, 0, 0, 0, 0, 0, 0, 0, 0, 0, 0, 0, 0, 0, 0, 0, 0, 0, 0, 0, 0, 0, 0, 0, 0, 0, 0, 0, 0, 0, 0, 0, 0, 0, 0, 0, 0, 0, 0, 0, 0, 0, 0, 0, 0, 0, 0, 0, 0, 0, 0, 0, 0, 0, 0, 0, 0, 0, 0, 0, 0, 0, 0, 0, 0, 0, 0, 0, 0, 0, 0, 0, 0, 0, 0, 0, 0, 0, 0, 0, 0, 0, 0, 0, 0, 0, 0, 0, 0, 0, 0, 0, 0, 0, 0, 0, 0, 0, 0, 0, 0, 0, 0, 0, 0, 0, 0, 0, 0, 0, 0, 0, 0, 0, 0, 0, 0, 0, 0, 0, 0, 0, 0, 0, 0, 0, 0, 0, 0, 0, 0, 0, 0, 0, 0, 0, 0, 0, 0, 0, 0, 0, 0, 0, 0, 0, 0, 0, 0, 0, 0, 0, 0, 0, 0, 0, 0, 0, 0, 0, 0, 0, 0, 0, 0, 0, 0, 0, 0, 0, 0, 0, 0, 0, 0, 0, 0, 0, 0, 0, 0, 0, 0, 0, 0, 0, 0, 0, 0, 0, 0, 0, 0, 0, 0, 0, 0, 0, 0, 0, 0, 0, 0, 0, 0, 0, 0, 0, 0, 0, 0, 0, 0, 0, 0, 0, 0, 0, 0, 0, 0, 0, 0, 0, 0, 0, 0, 0, 0, 0, 0, 0, 0, 0, 0, 0, 0, 0, 0, 0, 0, 0, 0, 0, 0, 0, 0, 0, 0, 0, 0, 0, 0, 0, 0, 0, 0, 0, 0, 0, 0, 0, 0, 0, 0, 0, 0, 0, 0, 0, 0, 0, 0, 0, 0, 0, 0, 0, 0, 0, 0, 0, 0, 0, 0, 0, 0, 0, 0, 0, 0, 0, 0, 0, 0, 0, 0, 0, 0, 0, 0, 0, 0, 0, 0, 0, 0, 0, 0, 0, 0, 0, 0, 0, 0, 0, 0, 0, 0, 0, 0, 0, 0, 0, 0, 0, 0, 0, 0, 0, 0, 0, 0, 0, 0, 0, 0, 0, 0, 0, 0, 0, 0, 0, 0, 0, 0, 0, 0, 0, 0, 0, 0, 0, 0, 0, 0, 0, 0, 0, 0, 0, 0, 0, 0, 0, 0, 0, 0, 0, 0, 0, 0, 0, 0, 0, 0, 0, 0, 0, 0, 0, 0, 0, 0, 0, 0, 0, 0, 0, 0, 0, 0, 0, 0, 0, 0, 0, 0, 0, 0, 0, 0, 0, 0, 0, 0, 0, 0, 0, 0, 0, 0, 0, 0, 0, 0, 0, 0, 0, 0, 0, 0, 0, 0, 0, 0, 0, 0, 0, 0, 0, 0, 0, 0, 0, 0, 0, 0, 0, 0, 0, 0, 0, 0, 0, 0, 0, 0, 0, 0, 0, 0, 0, 0, 0, 0, 0, 0, 0, 0, 0, 0, 0, 0, 0, 0, 0, 0, 0, 0, 0, 0, 0, 0, 0, 0, 0, 0, 0, 0, 0, 0, 0, 0, 0, 0, 0, 0, 0, 0, 0, 0, 0, 0, 0, 0, 0, 0, 0, 0, 0, 0, 0, 0, 0, 0, 0, 0, 0, 0, 0, 0, 0, 0, 0, 0, 0, 0, 0, 0, 0, 0, 0, 0, 0, 0, 0, 0, 0, 0, 0, 0, 0, 0, 0, 0, 0, 0, 0, 0, 0, 0, 0, 0, 0, 0, 0, 0, 0, 0, 0, 0, 0, 0, 0, 0, 0, 0, 0, 0, 0, 0, 0, 0, 0, 0, 0, 0, 0, 0, 0, 0, 0, 0, 0, 0, 0, 0, 0, 0, 0, 0, 0, 0, 0, 0, 0, 0, 0, 0, 0, 0, 0, 0, 0, 0, 0, 0, 0, 0, 0, 0, 0, 0, 0, 0, 0, 0, 0, 0, 0, 0, 0, 0, 0, 0, 0, 0, 0, 0, 0, 0, 0, 0, 0, 0, 0, 0, 0, 0, 0, 0, 0, 0, 0, 0, 0, 0, 0, 0, 0, 0, 0, 0, 0, 0, 0, 0, 0, 0, 0, 0, 0, 0, 0, 0, 0, 0, 0, 0, 0, 0, 0, 0, 0, 0, 0, 0, 0, 0, 0, 0, 0, 0, 0, 0, 0, 0, 0, 0, 0, 0, 0, 0, 0, 0, 0, 0, 0, 0, 0, 0, 0, 0, 0, 0, 0, 0, 0, 0, 0, 0, 0, 0, 0, 0, 0, 0, 0, 0, 0, 0, 0, 0, 0, 0, 0, 0, 0, 0, 0, 0, 0, 0, 0, 0, 0, 0, 0, 0, 0, 0, 0, -0.07611343876663934, 23.949068486137605, 23.949068486137605, 23.949068486137605, 23.949068486137605, 23.972211277158202, 23.972211277158202, 23.972211277158202, 23.972211277158202, 23.972211277158202, 23.972211277158202, 23.972211277158202, 23.972211277158202, 23.9953540681788, 23.9953540681788, 23.9953540681788, 24.018496859199395, 24.018496859199395, 24.018496859199395, 23.97769718559678, 24.000839976617378, 24.023982767637975, 23.98318309403536, 23.98318309403536, 24.029468676076554, 24.05261146709715, 24.05261146709715, 24.075754258117747, 24.098897049138344, 24.098897049138344, 24.098897049138344, 24.098897049138344, 24.098897049138344, 24.098897049138344, 24.098897049138344, 24.122039840158948, 24.122039840158948, 24.145182631179544, 24.214611004241334, 24.23775379526193, 24.23775379526193, 24.23775379526193, 24.19695412165932, 24.19695412165932, 24.19695412165932, 24.15615444805671, 24.15615444805671, 24.15615444805671, 24.202440030097904, 24.2255828211185, 24.2255828211185, 24.2255828211185, 24.248725612139097, 24.271868403159694, 24.318153985200894, 24.364439567242087, 24.364439567242087, 24.364439567242087, 24.364439567242087, 24.364439567242087, 24.387582358262684, 24.41072514928328, 24.41072514928328, 24.393068266701263, 24.462496639763053, 24.462496639763053, 24.462496639763053, 24.48563943078365, 24.48563943078365, 24.48563943078365, 24.48563943078365, 24.48563943078365, 24.508782221804246, 24.508782221804246, 24.508782221804246, 24.467982548201636, 24.491125339222233, 24.51426813024283, 24.47346845664022, 24.432668783037606, 24.432668783037606, 24.432668783037606, 24.432668783037606, 24.4789543650788, 24.502097156099396, 24.502097156099396, 24.502097156099396, 24.502097156099396, 24.525239947119992, 24.525239947119992, 24.525239947119992, 24.54838273814059, 24.54838273814059, 24.571525529161192, 24.571525529161192, 24.571525529161192, 24.571525529161192, 24.571525529161192, 24.530725855558583, 24.51306897297657, 24.536211763997166, 24.536211763997166, 24.536211763997166, 24.536211763997166, 24.536211763997166, 24.536211763997166, 24.559354555017762, 24.559354555017762, 24.58249734603836, 24.58249734603836, 24.58249734603836, 24.628782928079552, 24.628782928079552, 24.59346916291552, 24.61661195393612, 24.61661195393612, 24.61661195393612, 24.639754744956722, 24.639754744956722, 24.639754744956722, 24.639754744956722, 24.61661195393612, 24.639754744956722, 24.686040326997915, 24.686040326997915, 24.73232590903911, 24.73232590903911, 24.650726561833885, 24.697012143875078, 24.720154934895675, 24.720154934895675, 24.720154934895675, 24.720154934895675, 24.720154934895675, 24.720154934895675, 24.74329772591627, 24.74329772591627, 24.74329772591627, 24.74329772591627, 24.766440516936868, 24.725640843334254, 24.74878363435485, 24.74878363435485, 24.74878363435485, 24.771926425375455, 24.79506921639605, 24.79506921639605, 24.81821200741664, 24.81821200741664, 24.81821200741664, 24.80055512483463, 24.80055512483463, 24.80055512483463, 24.823697915855227, 24.782898242252614, 24.80604103327321, 24.80604103327321, 24.80604103327321, 24.829183824293807, 24.875469406335007, 24.875469406335007, 24.875469406335007, 24.875469406335007, 24.898612197355604, 24.898612197355604, 24.898612197355604, 24.898612197355604, 24.898612197355604, 24.898612197355604, 24.898612197355604, 24.817012850150384, 24.817012850150384, 24.817012850150384, 24.84015564117098, 24.84015564117098, 24.799355967568367, 24.799355967568367, 24.799355967568367, 24.84564154960956, 24.84564154960956, 24.868784340630157, 24.868784340630157, 24.868784340630157, 24.868784340630157, 24.868784340630157, 24.868784340630157, 24.868784340630157, 24.827984667027543, 24.827984667027543, 24.827984667027543, 24.827984667027543, 24.827984667027543, 24.827984667027543, 24.827984667027543, 24.827984667027543, 24.827984667027543, 24.85112745804814, 24.85112745804814, 24.85112745804814, 24.85112745804814, 24.810327784445533, 24.83347057546613, 24.83347057546613, 24.856613366486727, 24.798156810302096, 24.798156810302096, 24.798156810302096, 24.798156810302096, 24.821299601322693, 24.821299601322693, 24.821299601322693, 24.821299601322693, 24.821299601322693, 24.821299601322693, 24.821299601322693, 24.844442392343296, 24.867585183363893, 24.826785509761287, 24.826785509761287, 24.849928300781883, 24.849928300781883, 24.849928300781883, 24.849928300781883, 24.87307109180248, 24.832271418199866, 24.832271418199866, 24.832271418199866, 24.832271418199866, 24.855414209220463, 24.855414209220463, 24.855414209220463, 24.87855700024106, 25.017413746364646, 25.017413746364646, 25.017413746364646, 25.017413746364646, 25.017413746364646, 25.017413746364646, 24.935814399159426, 24.935814399159426, 24.935814399159426, 24.935814399159426, 24.935814399159426, 24.958957190180023, 24.958957190180023, 24.958957190180023, 24.958957190180023, 24.958957190180023, 24.98209998120062, 24.98209998120062, 24.98209998120062, 24.98209998120062, 25.005242772221216, 25.005242772221216, 25.005242772221216, 25.005242772221216, 25.005242772221216, 25.005242772221216, 25.033871471680392, 25.016214589098368, 25.016214589098368, 25.021700497536962, 25.09112887059875, 25.09112887059875, 25.073471988016735, 25.073471988016735, 25.073471988016735, 25.09661477903733, 25.119757570057928, 25.038158222852704, 25.038158222852704, 25.038158222852704, 25.038158222852704, 24.997358549250094, 24.997358549250094, 25.02050134027069, 25.02050134027069, 24.979701666668078, 24.93890199306547, 24.93890199306547, 24.93890199306547, 24.898102319462858, 24.898102319462858, 24.898102319462858, 24.898102319462858, 24.898102319462858, 24.898102319462858, 24.816502972257634, 24.816502972257634, 24.83964576327823, 24.83964576327823, 24.83964576327823, 24.83964576327823, 24.862788554298834, 24.862788554298834, 24.862788554298834, 24.862788554298834, 24.862788554298834, 24.88593134531943, 24.88593134531943, 24.909074136340028, 24.909074136340028, 24.868274462737418, 24.786675115532194, 24.786675115532194, 24.786675115532194, 24.745875441929584, 24.745875441929584, 24.745875441929584, 24.62347642112175, 24.646619212142348, 24.646619212142348, 24.669762003162944, 24.593648564396304, 24.517535125629664, 24.517535125629664, 24.54067791665026, 24.54067791665026, 24.54067791665026, 24.563820707670857, 24.382965130678404, 24.342165457075794, 24.342165457075794, 24.26056610987057, 24.26056610987057, 24.26056610987057, 24.26056610987057, 24.283708900891167, 24.07971053287811, 24.102853323898707, 24.102853323898707, 24.102853323898707, 24.125996114919303, 24.085196441316693, 24.026739885132066, 24.026739885132066, 24.026739885132066, 24.295492745523436, 24.295492745523436, 24.054981455080085, 24.054981455080085, 24.054981455080085, 23.932582434272252, 23.891782760669642, 23.891782760669642, 23.85098308706703, 23.85098308706703, 23.85098308706703, 23.85098308706703, 23.85098308706703, 23.728584066259195, 23.728584066259195, 23.728584066259195, 23.728584066259195, 23.646984719053975, 23.23898798302786, 23.23898798302786, 22.953390267809585, 22.953390267809585, 22.953390267809585, 23.022818640871378, 22.982018967268765, 22.696421252050488, 22.696421252050488, 22.655621578447878, 22.49242288403743, 22.49242288403743, 22.49242288403743, 22.49242288403743, 22.41082353683221, 22.166025495216545, 22.166025495216545, 22.166025495216545, 22.166025495216545, 28.32677620921083, 28.373061791252024, 28.373061791252024, 28.373061791252024, 28.373061791252024, 28.373061791252024, 28.373061791252024, 28.373061791252024, 28.373061791252024, 28.39620458227262, 28.39620458227262, 28.39620458227262, 28.39620458227262, 28.39620458227262, 28.39620458227262, 28.39620458227262, 28.39620458227262, 28.39620458227262, 28.39620458227262, 28.39620458227262, 28.39620458227262, 28.39620458227262, 28.39620458227262, 28.39620458227262, 28.39620458227262, 28.39620458227262, 28.39620458227262, 28.39620458227262, 28.39620458227262, 28.39620458227262, 28.39620458227262, 28.39620458227262, 28.39620458227262, 28.39620458227262, 28.39620458227262, 28.39620458227262, 28.39620458227262, 28.39620458227262, 28.39620458227262, 28.39620458227262, 28.39620458227262, 28.39620458227262, 28.39620458227262, 28.39620458227262, 28.39620458227262, 28.39620458227262, 28.39620458227262, 28.39620458227262, 28.41934737329322, 28.41934737329322, 28.41934737329322, 28.41934737329322, 28.41934737329322, 28.41934737329322, 28.41934737329322, 28.41934737329322, 28.41934737329322, 28.41934737329322, 28.41934737329322, 28.41934737329322, 28.41934737329322, 28.41934737329322, 28.41934737329322, 28.41934737329322, 28.41934737329322, 28.41934737329322, 28.41934737329322, 28.41934737329322, 28.41934737329322, 28.41934737329322, 28.41934737329322, 28.41934737329322, 28.41934737329322, 28.41934737329322, 28.41934737329322, 28.41934737329322, 28.41934737329322, 28.41934737329322, 28.41934737329322, 28.41934737329322, 28.41934737329322, 28.41934737329322, 28.41934737329322, 28.627632492478593, 28.627632492478593, 28.627632492478593, 28.627632492478593, 28.627632492478593, 28.627632492478593, 28.627632492478593, 28.627632492478593, 28.627632492478593, 28.627632492478593, 28.627632492478593, 28.627632492478593, 28.697060865540386, 28.697060865540386, 28.697060865540386, 28.697060865540386, 28.697060865540386, 28.697060865540386, 28.697060865540386, 28.697060865540386, 28.697060865540386, 28.697060865540386, 28.697060865540386, 28.720203656560983, 28.720203656560983, 28.720203656560983, 28.812774820643373, 28.812774820643373, 28.812774820643373, 28.812774820643373, 28.812774820643373, 28.812774820643373, 28.812774820643373, 28.812774820643373, 28.859060402684566, 28.859060402684566, 28.859060402684566, 28.859060402684566, 28.859060402684566, 28.859060402684566, 28.859060402684566, 28.859060402684566, 28.859060402684566, 28.859060402684566, 28.859060402684566, 28.859060402684566, 28.859060402684566, 28.905345984725756, 28.905345984725756, 28.928488775746352, 28.928488775746352, 28.928488775746352, 28.95163156676695, 28.95163156676695, 28.95163156676695, 28.95163156676695, 28.95163156676695, 28.95163156676695, 28.95163156676695, 28.95163156676695, 28.95163156676695, 28.95163156676695, 28.95163156676695, 28.95163156676695, 29.021059939828742, 29.021059939828742, 29.021059939828742, 29.021059939828742, 29.021059939828742, 29.021059939828742, 29.021059939828742, 29.021059939828742, 29.877343207590833, 29.877343207590833, 30.1781994908586, 30.1781994908586, 30.1781994908586, 30.1781994908586, 30.1781994908586, 30.1781994908586, 30.59476972922934, 30.59476972922934, 30.733626475352928, 30.756769266373524, 30.77991205739412, 30.803054848414718, 30.849340430455914, 30.895626012497107, 30.9419115945383, 30.988197176579497, 30.988197176579497, 31.011339967600094, 62.57810691969452, 62.57810691969452, 62.57810691969452, 63.78153205276556, 63.85096042582735, 63.85096042582735, 64.38324461930108, 64.68410090256886, 65.077528349919, 66.09581115482527, 66.11895394584587, 71.30230650818528, 71.75967642015864, 71.80596200219983, 71.92167595730282, 74.75828719174459, 75.19251431269736, 77.64565016088063, 77.79119197270907, 77.77353509012706, 77.81433476372966, 82.05869997566751, 81.97710062846228, 82.34738528479183, 82.5733272865592, 84.48200796712534, 84.45886517610475, 84.46435108454332, 84.75543470820018, 84.68600633513839, 84.82486308126198, 84.80172029024138, 84.80172029024138, 84.80172029024138, 84.80172029024138, 84.96920573582415, 85.01000540942675, 84.98686261840615, 84.98686261840615, 84.98686261840615, 84.98686261840615, 84.98686261840615, 85.07943378248854, 85.07943378248854, 85.07943378248854, 85.07943378248854, 85.10257657350914, 85.10257657350914, 85.10257657350914, 85.10257657350914, 84.81697885829087, 82.85859452536553, 83.75618734462297, 84.00098538623864, 83.8785863654308, 84.32738277505953, 84.9393778790987, 83.68007390585633, 85.3473746151248, 85.38817428872743, 85.38817428872743, 85.43445987076862, 85.43445987076862, 85.43445987076862, 85.43445987076862, 83.10887847541977, 84.6184663987164, 85.0264631347425, 84.90406411393467, 80.13598821086774, 81.40077809254869, 84.23361245371088, 84.6184663987164, 85.47525954437123, 85.47525954437123, 85.51605921797383, 85.51605921797383, 85.51605921797383, 85.51605921797383, 85.51605921797383, 85.55685889157645, 85.55685889157645, 85.55685889157645, 85.58000168259704, 85.58000168259704, 85.58000168259704, 85.55685889157645, 85.55685889157645, 85.55685889157645, 85.55685889157645, 85.55685889157645, 85.55685889157645, 85.55685889157645, 85.55685889157645, 85.63845823878167, 85.63845823878167, 85.67925791238429, 85.67925791238429, 85.67925791238429, 85.67925791238429, 85.59765856517906, 85.63845823878167, 85.59765856517906, 85.63845823878167, 85.63845823878167, 85.63845823878167, 85.63845823878167, 85.63845823878167, 85.63845823878167, 85.63845823878167, 85.63845823878167, 85.63845823878167, 85.63845823878167, 85.63845823878167, 85.63845823878167, 85.63845823878167, 85.63845823878167, 85.7200575859869, 85.7200575859869, 85.7200575859869, 85.14886215555033, 85.10806248194773, 85.51605921797383, 85.7200575859869, 85.7200575859869, 85.7200575859869, 85.7200575859869, 85.7200575859869, 85.7200575859869, 85.74320037700748, 85.74320037700748, 85.74320037700748, 85.7200575859869, 85.7200575859869, 85.7200575859869, 85.7200575859869, 85.7200575859869, 85.7608572595895, 85.7608572595895, 85.7608572595895, 85.7608572595895, 85.7608572595895, 85.7608572595895, 85.7608572595895, 85.7608572595895, 85.7608572595895, 85.7608572595895, 85.7608572595895, 85.7608572595895, 85.7608572595895, 85.7608572595895, 85.7608572595895, 85.7608572595895, 85.7608572595895, 85.7608572595895, 85.7608572595895, 85.7608572595895, 85.7608572595895, 85.7608572595895, 85.80165693319212, 85.80165693319212, 85.8071428416307, 85.8071428416307, 85.8071428416307, 85.8071428416307, 85.8071428416307, 85.8071428416307, 85.8071428416307, 85.78948595904868, 85.78948595904868, 85.83028563265128, 85.83028563265128, 85.83028563265128, 85.83028563265128, 85.83028563265128, 85.78948595904868, 85.78948595904868, 85.62628726463824, 85.78948595904868, 85.62628726463824, 85.78948595904868, 85.78948595904868, 85.74868628544607, 85.78948595904868, 85.83028563265128, 85.83028563265128, 85.83028563265128, 85.83028563265128, 85.91188497985651, 85.92954186243853, 86.1841125636651, 86.06839860856212, 85.99897023550031, 85.97582744447972, 85.95268465345912, 85.92954186243853, 85.92954186243853, 85.95268465345912, 85.8710853062539, 85.46308857022778, 84.95034969597586, 85.8071428416307, 85.88874218883592, 85.92954186243853, 85.92954186243853, 85.92954186243853, 85.92954186243853, 85.92954186243853, 85.92954186243853, 85.92954186243853, 85.92954186243853, 85.92954186243853, 85.92954186243853, 85.92954186243853, 85.72554349442548, 85.52154512641242, 85.72554349442548, 85.88874218883592, 85.92954186243853, 85.92954186243853, 85.92954186243853, 85.95268465345912, 85.92954186243853, 85.92954186243853, 85.84794251523331, 85.8071428416307, 85.68474382082286, 85.58548759103562, 85.58548759103562, 85.68474382082286, 85.52154512641242, 85.68474382082286, 85.39914610560459, 85.88874218883592, 85.84245660679473, 85.84245660679473, 85.79617102475353, 85.79617102475353, 85.79617102475353, 85.79617102475353, 85.79617102475353, 85.79617102475353, 85.79617102475353, 85.79617102475353, 85.79617102475353, 85.79617102475353, 85.79617102475353, 85.79617102475353, 85.79617102475353, 85.79617102475353, 85.79617102475353, 85.28154371386181, 85.28154371386181, 85.28154371386181, 85.28154371386181, 85.18897254977942, 85.18897254977942, 83.38383485017285, 83.38383485017285, 83.38383485017285, 82.75418286355168, 82.71338318994907, 82.40961871425603, 84.99594599864353, 84.79074847336422, 84.5872599832439, 84.04469325226653, 84.51114654447726, 68.0809640771196, 68.05782128609901, 68.05782128609901, 68.05782128609901, 68.05782128609901, 62.428637159655324, 62.428637159655324, 62.30623813884749, 62.26543846524488, 62.17835320960108, 62.35920878659353, 62.35920878659353, 62.35920878659353, 62.35920878659353, 62.35920878659353, 59.83664456534845, 59.83664456534845, 59.697787819224864, 59.697787819224864, 59.697787819224864, 59.697787819224864, 59.697787819224864, 59.697787819224864, 59.697787819224864, 59.697787819224864, 59.697787819224864, 59.697787819224864, 59.697787819224864, 59.697787819224864, 59.697787819224864, 59.697787819224864, 59.697787819224864, 59.692301910786284, 59.692301910786284, 59.692301910786284, 59.692301910786284, 59.692301910786284, 59.692301910786284, 59.692301910786284, 59.692301910786284, 59.692301910786284, 59.692301910786284, 59.692301910786284, 59.692301910786284, 59.692301910786284, 59.692301910786284, 59.669159119765695, 59.669159119765695, 59.669159119765695, 59.669159119765695, 59.64601632874509, 59.669159119765695, 59.54676009895786, 59.62835944616308, 59.593045680999055, 59.63384535460166, 59.908471252942775, 59.908471252942775, 59.908471252942775, 59.908471252942775, 59.885328461922185, 59.885328461922185, 59.885328461922185, 59.885328461922185, 59.885328461922185, 59.885328461922185, 59.885328461922185, 59.885328461922185, 59.885328461922185, 59.885328461922185, 59.885328461922185, 59.885328461922185, 59.885328461922185, 59.885328461922185, 59.885328461922185, 59.885328461922185, 59.885328461922185, 59.885328461922185, 59.908471252942775, 59.908471252942775, 59.94927092654538, 59.94927092654538, 59.94927092654538, 59.94927092654538, 59.94927092654538, 59.94927092654538, 59.94927092654538, 59.94927092654538, 59.92612813552479, 59.92612813552479, 59.92612813552479, 59.92612813552479, 59.92612813552479, 59.92612813552479, 59.92612813552479, 59.8798425534836, 59.8798425534836, 59.8798425534836, 59.8798425534836, 59.8798425534836, 59.8798425534836, 59.8798425534836, 59.8798425534836, 59.8798425534836, 59.8798425534836, 59.8798425534836, 59.8798425534836, 59.8798425534836, 59.8798425534836, 59.8798425534836, 59.856699762462995, 59.856699762462995, 59.856699762462995, 59.856699762462995, 59.856699762462995, 59.856699762462995, 59.856699762462995, 59.856699762462995, 59.856699762462995, 59.856699762462995, 59.856699762462995, 59.856699762462995, 59.856699762462995, 59.856699762462995, 59.856699762462995, 59.83904287988099, 59.83904287988099, 59.83904287988099, 59.86218567090158, 59.86218567090158, 59.86218567090158, 59.86218567090158, 59.86218567090158, 59.86218567090158, 59.86218567090158, 59.86218567090158, 59.86218567090158, 59.82138599729897, 59.82138599729897, 59.82138599729897, 59.82138599729897, 59.82138599729897, 59.82138599729897, 59.82138599729897, 59.82138599729897, 59.82138599729897, 59.82138599729897, 59.82138599729897, 59.82138599729897, 59.82138599729897, 59.82138599729897, 59.82138599729897, 59.84452878831957, 59.89630027879934, 59.850014696758144, 59.86767157934016, 59.89081437036076, 59.82138599729897, 59.82138599729897, 59.82138599729897, 59.82138599729897, 59.82138599729897, 59.82138599729897, 59.82138599729897, 59.82138599729897, 59.82138599729897, 59.82138599729897, 59.82138599729897, 59.82138599729897, 59.82138599729897, 59.82138599729897, 59.82138599729897, 59.82138599729897, 59.82138599729897, 59.82138599729897, 59.82138599729897, 59.82138599729897, 59.82138599729897, 59.82138599729897, 59.82138599729897, 59.82138599729897, 59.82138599729897, 59.82138599729897, 59.82138599729897, 59.82138599729897, 59.79824320627838, 59.81590008886039, 59.856699762462995, 59.856699762462995, 59.856699762462995, 59.856699762462995, 59.856699762462995, 59.856699762462995, 59.856699762462995, 59.856699762462995, 59.856699762462995, 59.856699762462995, 59.856699762462995, 59.856699762462995, 59.856699762462995, 59.856699762462995, 59.856699762462995, 59.89749943606561, 59.89749943606561, 59.89749943606561, 59.89749943606561, 59.89749943606561, 59.89749943606561, 59.89749943606561, 59.89749943606561, 59.89749943606561, 59.89749943606561, 59.89749943606561, 59.89749943606561, 59.89749943606561, 59.89749943606561, 59.89749943606561, 59.89749943606561, 59.89749943606561, 59.89749943606561, 59.89749943606561, 59.89749943606561, 59.89749943606561, 59.89749943606561, 59.89749943606561, 59.89749943606561, 59.89749943606561, 59.89749943606561, 59.89749943606561, 59.89749943606561, 59.89749943606561, 59.89749943606561, 59.89749943606561, 59.93829910966822, 59.93829910966822, 59.961441900688826, 59.961441900688826, 59.961441900688826, 59.961441900688826, 59.961441900688826, 59.961441900688826, 59.961441900688826, 59.961441900688826, 59.961441900688826, 59.961441900688826, 59.961441900688826, 59.961441900688826, 59.961441900688826, 59.961441900688826, 59.961441900688826, 59.961441900688826, 59.961441900688826, 59.961441900688826, 59.961441900688826, 59.961441900688826, 59.961441900688826, 59.961441900688826, 59.93829910966822, 59.961441900688826, 59.961441900688826, 59.93829910966822, 59.93829910966822, 59.93829910966822, 59.93829910966822, 59.93829910966822, 59.93829910966822, 59.93829910966822, 59.93829910966822, 59.93829910966822, 59.93829910966822, 59.93829910966822, 59.93829910966822, 59.93829910966822, 59.93829910966822, 59.93829910966822, 59.93829910966822, 59.93829910966822, 59.93829910966822, 59.93829910966822, 59.93829910966822, 59.93829910966822, 59.91515631864763, 59.91515631864763, 59.91515631864763, 59.91515631864763, 59.91515631864763, 59.91515631864763, 59.91515631864763, 59.91515631864763, 59.91515631864763, 59.91515631864763, 59.79944236354464, 59.79944236354464, 59.79944236354464, 59.79944236354464, 59.79944236354464, 59.79944236354464, 59.79944236354464, 59.79944236354464, 59.79944236354464, 59.79944236354464, 59.79944236354464, 59.79944236354464, 59.79944236354464, 59.776299572524046, 59.776299572524046, 59.776299572524046, 59.776299572524046, 59.776299572524046, 59.776299572524046, 59.65509970898247, 59.65509970898247, 59.65509970898247, 59.65509970898247, 59.65509970898247, 59.65509970898247, 59.65509970898247, 59.65509970898247, 59.65509970898247, 59.65509970898247, 59.65509970898247, 59.65509970898247, 59.65509970898247, 59.65509970898247, 58.793330532781795, 58.793330532781795, 58.793330532781795, 58.793330532781795, 58.793330532781795, 58.793330532781795, 58.770187741761205, 58.770187741761205, 58.770187741761205, 58.770187741761205, 58.770187741761205, 58.723902159720005, 58.65447378665821, 58.63133099563762, 58.63133099563762, 58.63133099563762, 58.11121777630731, 58.17516024093052, 58.15201744990993, 58.08258907684814, 57.80487558460097, 57.48087651031261, 56.60145045152993, 56.184880213159175, 27.389762275097816, 27.13519157387125, 26.81119249958289, 26.7186213355005, 26.62605017141811, 26.325193888150352, 26.209479933047366, 26.093765977944383, 26.093765977944383, 26.093765977944383, 26.093765977944383, 26.093765977944383, 26.093765977944383, 26.093765977944383, 26.093765977944383, 26.02433760488259, 26.02433760488259, 26.02433760488259, 26.02433760488259, 25.978052022841396, 25.978052022841396, 25.978052022841396, 26.001194813861993, 26.001194813861993, 26.001194813861993, 26.001194813861993, 26.001194813861993, 25.954909231820796, 25.954909231820796, 25.954909231820796, 25.954909231820796, 25.954909231820796, 25.954909231820796, 25.954909231820796, 25.954909231820796, 25.954909231820796, 25.954909231820796, 25.908623649779603, 25.908623649779603, 25.908623649779603, 25.908623649779603, 25.86233806773841, 25.86233806773841, 25.86233806773841, 25.86233806773841, 25.885480858759006, 25.76976690365602, 25.746624112635423, 25.746624112635423, 25.746624112635423, 25.746624112635423, 25.746624112635423, 25.746624112635423, 25.746624112635423, 25.746624112635423, 25.746624112635423, 25.746624112635423, 25.723481321614827, 25.723481321614827, 25.723481321614827, 25.723481321614827, 25.723481321614827, 25.723481321614827, 25.723481321614827, 25.723481321614827, 25.723481321614827, 25.723481321614827, 25.723481321614827, 25.741138204196844, 25.741138204196844, 25.76428099521744, 25.76428099521744, 25.787423786238037, 25.787423786238037, 25.787423786238037, 25.787423786238037, 25.787423786238037, 25.787423786238037, 25.787423786238037, 25.787423786238037, 25.787423786238037, 25.787423786238037, 25.787423786238037, 25.787423786238037, 25.787423786238037, 25.787423786238037, 25.787423786238037, 25.787423786238037, 25.787423786238037, 25.810566577258633, 25.810566577258633, 25.741138204196844, 25.741138204196844, 25.741138204196844, 25.741138204196844, 25.741138204196844, 25.741138204196844, 25.741138204196844, 25.741138204196844, 25.741138204196844, 25.741138204196844, 25.741138204196844, 25.741138204196844, 25.741138204196844, 25.700338530594234, 25.700338530594234, 25.700338530594234, 25.700338530594234, 25.700338530594234, 25.700338530594234, 25.700338530594234, 25.700338530594234, 25.700338530594234, 25.700338530594234, 25.700338530594234, 25.700338530594234, 25.723481321614827, 25.723481321614827, 25.723481321614827, 25.723481321614827, 25.723481321614827, 25.723481321614827, 25.723481321614827, 25.723481321614827, 25.723481321614827, 25.723481321614827, 25.700338530594234, 25.700338530594234, 25.677195739573637, 25.677195739573637, 25.677195739573637, 25.677195739573637, 25.677195739573637, 25.677195739573637, 25.677195739573637, 25.677195739573637, 25.63091015753244, 25.63091015753244, 25.671709831135054, 25.671709831135054, 25.671709831135054, 25.671709831135054, 25.671709831135054, 25.671709831135054, 25.671709831135054, 25.671709831135054, 25.607767366511844, -0.04079967360261118, 0, 0, 0, 0, 0, 0, 0, 0, 0, 0, 0, 0, 0, 0, 0, 0, 0, 0, 0, 0, 0, 0, 0, 0, 0, 0, 0, 0, 0, 0, 0, 0, 0, 0, 0, 0, 0, 0, 0, 0, 0, 0, 0, 0, 0, 0, 0, 0, 0, 0, 0, 0, 0, 0, 0, 0, 0, 0, 0, 0, 0, 0, 0, 0, 0, 0, 0, 0, 0, 0, 0, 0, 0, 0, 0, 0, 0, 0, 0, 0, 0, 0, 0, 0, 0, 0, 0, 0, 0, 0, 0, 0, 0, 0, 0, 0, 0, 0, 0, 0, 0, 0, 0, 0, 0, 0, 0, 0, 0, 0, 0, 0, 0, 0, 0, 0, 0, 0, 0, 0, 0, 0, 0, 0, 0, 0, 0, 0, 0, 0, 0, 0, 0, 0, 0, 0, 0, 0, 0, 0, 0, 0, 0, 0, 0, 0, 0, 0, 0, 0, 0, 0, 0, 0, 0, 0, 0, 0, 0, 0, 0, 0, 0, 0, 0, 0, 0, 0, 0, 0, 0, 0, 0, 0, 0, 0, 0, 0, 0, 0, 0, 0, 0, 0, 0, 0, 0, 0, 0, 0, 0, 0, 0, 0, 0, 0, 0, 0, 0, 0, 0, 0, 0, 0, 0, 0, 0, 0, 0, 0, 0, 0, 0, 0, 0, 0, 0, 0, 0, 0, 0, 0, 0, 0, 0, 0, 0, 0, 0, 0, 0, 0, 0, 0, 0, 0, 0, 0, -0.04079967360261118, -2.691853123818845, -2.691853123818845, -2.691853123818845, -2.691853123818845, -2.691853123818845, -2.691853123818845, -2.691853123818845, -2.6687103327982467, -2.64556754177765, -2.64556754177765, -2.64556754177765, -2.64556754177765, -2.64556754177765, -2.6863672153802582, -2.6863672153802582, -2.6863672153802582, -2.6863672153802582, -2.6632244243596617, -2.6632244243596617, -2.6632244243596617, -2.6632244243596617, -2.6632244243596617, -2.6632244243596617, -2.6632244243596617, -2.6632244243596617, -2.6632244243596617, -2.6400816333390633, -2.6169388423184667, -2.6169388423184667, -2.6169388423184667, -2.6169388423184667, -2.6577385159210802, -2.6577385159210802, -2.6577385159210802, -2.6577385159210802, -2.69853818952369, -2.69853818952369, -2.69853818952369, -2.69853818952369, -2.69853818952369, -2.675395398503092, -2.675395398503092, -2.675395398503092, -2.675395398503092, -2.675395398503092, -2.675395398503092, -2.675395398503092, -2.675395398503092, -2.6522526074824953, -2.6522526074824953, -2.6522526074824953, -2.6291098164618987, -2.6059670254413003, -2.6059670254413003, -2.6059670254413003, -2.6059670254413003, -2.6059670254413003, -2.559681443400107, -2.559681443400107, -2.559681443400107, -2.559681443400107, -2.559681443400107, -2.559681443400107, -2.559681443400107, -2.536538652379509, -2.536538652379509, -2.5133958613589122, -2.5133958613589122, -2.5133958613589122, -2.490253070338314, -2.490253070338314, -2.490253070338314, -2.490253070338314, -2.490253070338314, -2.490253070338314, -2.4439674882971225, -2.4439674882971225, -2.4439674882971225, -2.4439674882971225, -2.4847671618997325, -2.4847671618997325, -2.4847671618997325, -2.4847671618997325, -2.4847671618997325, -2.525566835502346, -2.525566835502346, -2.525566835502346, -2.525566835502346, -2.525566835502346, -2.525566835502346, -2.525566835502346, -2.525566835502346, -2.5024240444817494, -2.479281253461153, -2.432995671419958, -2.432995671419958, -2.432995671419958, -2.432995671419958, -2.432995671419958, -2.432995671419958, -2.432995671419958, -2.4098528803993595, -2.4506525540019695, -2.4506525540019695, -2.4506525540019695, -2.4506525540019695, -2.4506525540019695, -2.4506525540019695, -2.4506525540019695, -2.4506525540019695, -2.4506525540019695, -2.4506525540019695, -2.427509762981373, -2.427509762981373, -2.4043669719607763, -2.4043669719607763, -2.4043669719607763, -2.381224180940178, -2.381224180940178, -2.3580813899195814, -2.3580813899195814, -2.28865301685779, -2.28865301685779, -2.28865301685779, -2.28865301685779, -2.28865301685779, -2.28865301685779, -2.28865301685779, -2.2655102258371915, -2.2655102258371915, -2.2655102258371915, -2.2655102258371915, -2.2655102258371915, -2.2655102258371915, -2.2655102258371915, -2.306309899439805, -2.306309899439805, -2.2831671084192084, -2.2831671084192084, -2.2831671084192084, -2.2831671084192084, -2.3239667820218184, -2.3239667820218184, -2.3239667820218184, -2.3239667820218184, -2.3239667820218184, -2.3239667820218184, -2.3239667820218184, -2.3239667820218184, -2.300823991001222, -2.300823991001222, -2.2953380825626386, -2.2953380825626386, -2.272195291542042, -2.2490525005214455, -2.2027669184802505, -2.2027669184802505, -2.2027669184802505, -2.1564813364390556, -2.1564813364390556, -2.1564813364390556, -2.1564813364390556, -2.1564813364390556, -2.1101957543978607, -2.1101957543978607, -2.1101957543978607, -2.1101957543978607, -2.150995428000474, -2.150995428000474, -2.1278526369798776, -2.1278526369798776, -2.104709845959281, -2.104709845959281, -2.104709845959281, -2.104709845959281, -2.104709845959281, -2.104709845959281, -2.104709845959281, -2.104709845959281, -2.104709845959281, -2.104709845959281, -2.0815670549386827, -2.0815670549386827, -2.0815670549386827, -2.0815670549386827, -2.0815670549386827, -2.0815670549386827, -2.0815670549386827, -2.0815670549386827, -2.058424263918086, -2.058424263918086, -2.058424263918086, -2.058424263918086, -2.058424263918086, -2.0352814728974895, -2.0352814728974895, -2.0352814728974895, -2.0352814728974895, -2.0352814728974895, -2.0352814728974895, -2.0352814728974895, -2.0352814728974895, -2.0352814728974895, -2.0352814728974895, -2.0352814728974895, -2.0760811465000995, -2.0760811465000995, -2.0760811465000995, -2.093738029082111, -2.093738029082111, -2.1345377026847245, -2.1345377026847245, -2.1345377026847245, -2.1345377026847245, -2.1345377026847245, -2.1345377026847245, -2.111394911664128, -2.111394911664128, -2.111394911664128, -2.111394911664128, -2.105909003225543, -2.105909003225543, -2.123565885807558, -2.123565885807558, -2.123565885807558, -2.123565885807558, -2.1004230947869615, -2.118079977368975, -2.0949371863483766, -2.0949371863483766, -2.0949371863483766, -2.0949371863483766, -2.0949371863483766, -2.07179439532778, -2.1125940689303935, -2.1125940689303935, -2.1125940689303935, -2.1125940689303935, -2.1125940689303935, -2.1125940689303935, -2.153393742533007, -2.1941934161356134, -2.171050625115015, -2.171050625115015, -2.171050625115015, -2.171050625115015, -2.171050625115015, -2.1479078340944184, -2.1479078340944184, -2.124765043073822, -2.124765043073822, -2.124765043073822, -2.124765043073822, -2.1016222520532235, -2.078479461032627, -2.078479461032627, -2.078479461032627, -2.1192791346352404, -2.096136343614642, -2.096136343614642, -2.096136343614642, -2.096136343614642, -2.096136343614642, -2.096136343614642, -2.096136343614642, -2.096136343614642, -2.096136343614642, -2.096136343614642, -2.096136343614642, -2.096136343614642, -2.096136343614642, -2.096136343614642, -2.096136343614642, -2.096136343614642, -2.096136343614642, -2.096136343614642, -2.096136343614642, -2.096136343614642, -2.096136343614642, -2.096136343614642, -2.096136343614642, -2.096136343614642, -2.096136343614642, -2.096136343614642, -2.136936017217252, -2.2185353644224755, -2.2185353644224755, -2.2185353644224755, -2.2185353644224755, -2.2185353644224755, -2.2185353644224755, -2.2185353644224755, -2.2593350380250854, -2.2593350380250854, -2.2130494559838922, -2.2130494559838922, -2.2130494559838922, -2.189906664963294, -2.1436210829221007, -2.1436210829221007, -2.1436210829221007, -2.1436210829221007, -2.1204782919015024, -2.161277965504116, -2.161277965504116, -2.161277965504116, -2.1381351744835193, -2.1149923834629245, -2.1149923834629245, -2.1149923834629245, -2.1557920570655345, -2.1557920570655345, -2.1557920570655345, -2.1557920570655345, -2.1557920570655345, -2.1095064750243395, -2.1095064750243395, -2.1503061486269495, -2.1503061486269495, -2.1503061486269495, -2.1503061486269495, -2.127163357606353, -2.127163357606353, -2.127163357606353, -2.127163357606353, -2.127163357606353, -2.1040205665857563, -2.1040205665857563, -2.1040205665857563, -2.1040205665857563, -2.1040205665857563, -2.1040205665857563, -2.1040205665857563, -2.1040205665857563, -2.0577349845445614, -2.0577349845445614, -2.0577349845445614, -2.034592193523963, -2.034592193523963, -2.034592193523963, -2.034592193523963, -2.0114494025033665, -2.05224907610598, -2.05224907610598, -2.005963494064785, -2.005963494064785, -2.005963494064785, -2.005963494064785, -2.005963494064785, -2.005963494064785, -2.005963494064785, -2.005963494064785, -2.005963494064785, -1.9828207030441884, -2.0236203766467984, -2.0236203766467984, -2.0236203766467984, -2.0236203766467984, -2.0236203766467984, -2.0236203766467984, -2.0236203766467984, -1.9773347946056035, -1.9773347946056035, -1.9773347946056035, -1.9773347946056035, -1.9541920035850069, -1.9541920035850069, -1.9541920035850069, -1.9541920035850069, -1.9541920035850069, -1.9541920035850069, -1.9541920035850069, -1.9541920035850069, -1.9541920035850069, -1.9310492125644085, -1.9310492125644085, -1.9310492125644085, -1.9310492125644085, -1.9310492125644085, -1.9310492125644085, -1.9310492125644085, -1.971848886167022, -1.971848886167022, -1.971848886167022, -1.971848886167022, -2.012648559769632, -2.012648559769632, -2.012648559769632, -2.012648559769632, -1.9895057687490354, -1.9895057687490354, -1.9895057687490354, -1.9895057687490354, -1.9895057687490354, -1.9895057687490354, -1.9895057687490354, -1.9663629777284406, -1.9663629777284406, -1.943220186707844, -1.943220186707844, -1.943220186707844, -1.943220186707844, -1.943220186707844, -1.9200773956872474, -1.9200773956872474, -1.9200773956872474, -1.9200773956872474, -1.896934604666649, -1.937734278269259, -1.937734278269259, -1.937734278269259, -1.937734278269259, -1.937734278269259, -1.9785339518718725, -1.9785339518718725, -1.9785339518718725, -1.9785339518718725, -1.9785339518718725, -1.955391160851276, -1.955391160851276, -1.955391160851276, -1.955391160851276, -1.996190834453886, -1.996190834453886, -1.996190834453886, -1.996190834453886, -2.036990508056496, -2.036990508056496, -2.0138477170358975, -2.0138477170358975, -2.0138477170358975, -2.0138477170358975, -2.0138477170358975, -1.990704926015301, -1.990704926015301, -1.990704926015301, -1.990704926015301, -1.9675621349947043, -1.9675621349947043, -1.9675621349947043, -1.9675621349947043, -1.9675621349947043, -1.9675621349947043, -1.9675621349947043, -1.9675621349947043, -1.9675621349947043, -1.9675621349947043, -1.944419343974106, -1.9212765529535094, -1.9212765529535094, -1.9212765529535094, -1.9212765529535094, -1.962076226556123, -1.915790644514928, -1.915790644514928, -1.915790644514928, -1.956590318117538, -1.956590318117538, -1.956590318117538, -1.9742472006995513, -1.9742472006995513, -1.9742472006995513, -1.9048188276377598, -1.9048188276377598, -1.8816760366171614, -1.8816760366171614, -1.8816760366171614, -1.83539045457597, -1.83539045457597, -1.7659620815141785, -1.7659620815141785, -1.7659620815141785, -1.742819290493582, -1.742819290493582, -1.7196764994729836, -1.7196764994729836, -1.696533708452387, -1.737333382054997, -1.737333382054997, -1.737333382054997, -1.7781330556576105, -1.8773892854448455, -1.8773892854448455, -1.8773892854448455, -1.854246494424249, -1.854246494424249, -1.854246494424249, -1.8950461680268589, -1.8950461680268589, -1.9358458416294724, -1.9358458416294724, -1.9766455152320823, -1.9303599331908874, -1.9303599331908874, -1.9303599331908874, -1.9303599331908874, -1.9303599331908874, -1.9072171421702908, -1.9480168157729008, -1.9480168157729008, -1.9480168157729008, -1.9888164893755143, -1.9193881163137227, -1.9370449988957361, -1.9139022078751395, -1.890759416854543, -1.890759416854543, -1.890759416854543, -1.8676166258339464, -1.8444738348133498, -1.8213310437927532, -1.8213310437927532, -1.8213310437927532, -1.8213310437927532, -1.8213310437927532, -1.8621307173953632, -1.8621307173953632, -1.7695595533129733, -1.7695595533129733, -1.7695595533129733, -1.7232739712717766, -1.717788062833197, -1.6891593633740136, -1.666016572353417, -1.666016572353417, -1.666016572353417, -1.5965881992916309, -1.6142450818736442, -1.6142450818736442, -1.6142450818736442, -1.5856163824144645, -1.5856163824144645, -1.5393308003732677, -1.4930452183320746, -1.469902427311478, -1.469902427311478, -1.4644165188728913, -1.5460158660781147, -1.5460158660781147, -1.5868155396807246, -1.5405299576395315, -1.5119012581803517, -1.4887584671597551, -1.4656156761391586, -1.442472885118562, -1.367558603618189, -1.3212730215769923, -1.2981302305563958, -1.2749874395357992, -1.3157871131384127, -1.2695015310972195, -1.2232159490560228, -1.2000731580354262, -1.2000731580354262, -1.2353869231994565, -1.0733873860552734, -0.9808162219728835, -1.0337868697189272, -1.0337868697189272, -1.1153862169241506, -1.1275571910675772, -1.1518991393544447, -1.2225266696824981, -1.026412524640559, -1.1025259634071958, -1.0221257734682396, -1.2041805077269636, -1.3874343992519549, -1.4945748520103024, -1.9469687334378243, -1.8897113345194612, -1.3889640329301791, -1.4961044856885337, -1.5483858540610527, -1.3424990494082074, -1.3375230188623668, 0], [0, 0, 0, 0, 0, 0, 0, 0, 0, 0, 0, 0, 0, 0, 0, 0, 0, 0, 0, 0, 0, 0, 0, 0, 0, 0, 0, 0, 0, 0, 0, 0, 0, 0, 0, 0, 0, 0, 0, 0, 0, 0, 0, 0, 0, 0, 0, 0, 0, 0, 0, 0, 0, 0, 0, 0, 0, 0, 0, 0, 0, 0, 0, 0, 0, 0, 0, 0, 0, 0, 0, 0, 0, 0, 0, 0, 0, 0, 0, 0, 0, 0, 0, 0, 0, 0, 0, 0, 0, 0, 0, 0, 0, 0, 0, 0, 0, 0, 0, 0, 0, 0, 0, 0, 0, 0, 0, 0, 0, 0, 0, 0, 0, 0, 0, 0, 0, 0, 0, 0, 0, 0, 0, 0, 0, 0, 0, 0, 0, 0, 0, 0, 0, 0, 0, 0, 0, 0, 0, 0, 0, 0, 0, 0, 0, 0, 0, 0, 0, 0, 0, 0, 0, 0, 0, 0, 0, 0, 0, 0, 0, 0, 0, 0, 0, 0, 0, 0, 0, 0, 0, 0, 0, 0, 0, 0, 0, 0, 0, 0, 0, 0, 0, 0, 0, 0, 0, 0, 0, 0, 0, 0, 0, 0, 0, 0, 0, 0, 0, 0, 0, 0, 0, 0, 0, 0, 0, 0, 0, 0, 0, 0, 0, 0, 0, 0, 0, 0, 0, 0, 0, 0, 0, 0, 0, 0, 0, 0, 0, 0, 0, 0, 0, 0, 0, 0, 0, 0, 0, 0, 0, 0, 0, 0, 0, 0, 0, 0, 0, 0, 0, 0, 0, 0, 0, 0, 0, 0, 0, 0, 0, 0, 0, 0, 0, 0, 0, 0, 0, 0, 0, 0, 0, 0, 0, 0, 0, 0, 0, 0, 0, 0, 0, 0, 0, 0, 0, 0, 0, 0, 0, 0, 0, 0, 0, 0, 0, 0, 0, 0, 0, 0, 0, 0, 0, 0, 0, 0, 0, 0, 0, 0, 0, 0, 0, 0, 0, 0, 0, 0, 0, 0, 0, 0, 0, 0, 0, 0, 0, 0, 0, 0, 0, 0, 0, 0, 0, 0, 0, 0, 0, 0, 0, 0, 0, 0, 0, 0, 0, 0, 0, 0, 0, 0, 0, 0, 0, 0, 0, 0, 0, 0, 0, 0, 0, 0, 0, 0, 0, 0, 0, 0, 0, 0, 0, 0, 0, 0, 0, 0, 0, 0, 0, 0, 0, 0, 0, 0, 0, 0, 0, 0, 0, 0, 0, 0, 0, 0, 0, 0, 0, 0, 0, 0, 0, 0, 0, 0, 0, 0, 0, 0, 0, 0, 0, 0, 0, 0, 0, 0, 0, 0, 0, 0, 0, 0, 0, 0, 0, 0, 0, 0, 0, 0, 0, 0, 0, 0, 0, 0, 0, 0, 0, 0, 0, 0, 0, 0, 0, 0, 0, 0, 0, 0, 0, 0, 0, 0, 0, 0, 0, 0, 0, 0, 0, 0, 0, 0, 0, 0, 0, 0, 0, 0, 0, 0, 0, 0, 0, 0, 0, 0, 0, 0, 0, 0, 0, 0, 0, 0, 0, 0, 0, 0, 0, 0, 0, 0, 0, 0, 0, 0, 0, 0, 0, 0, 0, 0, 0, 0, 0, 0, 0, 0, 0, 0, 0, 0, 0, 0, 0, 0, 0, 0, 0, 0, 0, 0, 0, 0, 0, 0, 0, 0, 0, 0, 0, 0, 0, 0, 0, 0, 0, 0, 0, 0, 0, 0, 0, 0, 0, 0, 0, 0, 0, 0, 0, 0, 0, 0, 0, 0, 0, 0, 0, 0, 0, 0, 0, 0, 0, 0, 0, 0, 0, 0, 0, 0, 0, 0, 0, 0, 0, 0, 0, 0, 0, 0, 0, 0, 0, 0, 0, 0, 0, 0, 0, 0, 0, 0, 0, 0, 0, 0, 0, 0, 0, 0, 0, 0, 0, 0, 0, 0, 0, 0, 0, 0, 0, 0, 0, 0, 0, 0, 0, 0, 0, 0, 0, 0, 0, 0, 0, 0, 0, 0, 0, 0, 0, 0, 0, 0, 0, 0, 0, 0, 0, 0, 0, 0, 0, 0, 0, 0, 0, 0, 0, 0, 0, 0, 0, 0, 0, 0, 0, 0, 0, 0, 0, 0, 0, 0, 0, 0, 0, 0, 0, 0, 0, 0, 0, 0, 0, 0, 0, 0, 0, 0, 0, 0, 0, 0, 0, 0, 0, 0, 0, 0, 0, 0, 0, 0, 0, 0, 0, 0, 0, 0, 0, 0, 0, 0, 0, 0, 0, 0, 0, 0, 0, 0, 0, 0, 0, 0, 0, 0, 0, 0, 0, 0, 0, 0, 0, 0, 0, 0, 0, 0, 0, 0, 0, 0, 0, 0, 0, 0, 0, 0, 0, 0, 0, 0, 0, 0, 0, 0, 0, 0, 0, 0, 0, 0, 0, 0, 0, 0, 0, 0, 0, 0, 0, 0, 0, 0, 0, 0, 0, 0, 0, 0, 0, 0, 0, 0, 0, 0, 0, 0, 0, 0, 0, 0, 0, 0, 0, 0, 0, 0, 0, 0, 0, 0, 0, 0, 0, 0, 0, 0, 0, 0, 0, 0, 0, 0, 0, 0, 0, 0, 0, 0, 0, 0, 0, 0, 0, 0, 0, 0, 0, 0, 0, 0, 0, 0, 0, 0, 0, 0, 0, 0, 0, 0, 0, 0, 0, 0, 0, 0, 0, 0, 0, 0, 0, 0, 0, 0, 0, 0, 0, 0, 0, 0, 0, 0, 0, 0, 0, 0, 0, 0, 0, 0, 0, 0, 0, 0, 0, 0, 0, 0, 0, 0, 0, 0, 0, 0, 0, 0, 0, 0, 0, 0, 0, 0, 0, 0, 0, 0, 0, 0, 0, 0, 0, 0, 0, 0, 0, 0, 0, 0, 0, 0, 0, 0, 0, 0, 0, 0, 0, 0, 0, 0, 0, 0, 0, 0, 0, 0, 0, 0, 0, 0, 0, 0, 0, 0, 0, 0, 0, 0, 0, 0, 0, 0, 0, 0, 0, 0, 0, 0, 0, 0, 0, 0, 0, 0, 0, 0, 0, 0, 0, 0, 0, 0, 0, 0, 0, 0, 0, 0, 0, 0, 0, 0, 0, 0, 0, 0, 0, 0, 0, 0, 0, 0, 0, 0, 0, 0, 0, 0, 0, 0, 0, 0, 0, 0, 0, 0, 0, 0, 0, 0, 0, 0, 0, 0, 0, 0, 0, 0, 0, 0, 0, 0, 0, 0, 0, 0, 0, 0, 0, 0, 0, 0, 0, 0, 0, 0, 0, 0, 0, 0, 0, 0, 0, 0, 0, 0, 0, 0, 0, 0, 0, 0, 0, 0, 0, 0, 0, 0, 0, 0, 0, 0, 0, 0, 0, 0, 0, 0, 0, 0, 0, 0, 0, 0, 0, 0, 0, 0, 0, 0, 0, 0, 0, 0, 0, 0, 0, 0, 0, 0, 0, 0, 0, 0, 0, 0, 0, 0, 0, 0, 0, 0, 0, 0, 0, 0, 0, 0, 0, 0, 0, 0, 0, 0, 0, 0, 0, 0, 0, 0, 0, 0, 0, 0, 0, 0, 0, 0, 0, 0, 0, 0, 0, 0, 0, 0, 0, 0, 0, 0, 0, 0, 0, 0, 0, 0, 0, 0, 0, 0, 0, 0, 0, 0, 0, 0, 0, 0, 0, 0, 0, 0, 0, 0, 0, 0, 0, 0, 0, 0, 0, 0, 0, 0, 0, 0, 0, 0, 0, 0, 0, 0, 0, 0, 0, 0, 0, 0, 0, 0, 0, 0, 0, 0, 0, 0, 0, 0, 0, 0, 0, 0, 0, 0, 0, 0, 0, 0, 0, 0, 0, 0, 0, 0, 0, 0, 0, 0, 0, 0, 0, 0, 0, 0, 0, 0, 0, 0, 0, 0, 0, 0, 0, 0, 0, 0, 0, 0, 0, 0, 0, 0, 0, 0, 0, 0, 0, 0, 0, 0, 0, 0, 0, 0, 0, 0, 0, 0, 0, 0, 0, 0, 0, 0, 0, 0, 0, 0, 0, 0, 0, 0, 0, 0, 0, 0, 0, 0, 0, 0, 0, 0, 0, 0, 0, 0, 0, 0, 0, 0, 0, 0, 0, 0, 0, 0, 0, 0, 0, 0, 0, 0, 0, 0, 0, 0, 0, 0, 0, 0, 0, 0, 0, 0, 0, 0, 0, 0, 0, 0, 0, 0, 0, 0, 0, 0, 0, 0, 0, 0, 0, 0, 0, 0, 0, 0, 0, 0, 0, 0, 0, 0, 0, 0, 0, 0, 0, 0, 0, 0, 0, 0, 0, 0, 0, 0, 0, 0, 0, 0, 0, 0, 0, 0, 0, 0, 0, 0, 0, 0, 0, 0, 0, 0, 0, 0, 0, 0, 0, 0, 0, 0, 0, 0, 0, 0, 0, 0, 0, 0, 0, 0, 0, 0, 0, 0, 0, 0, 0, 0, 0, 0, 0, 0, 0, 0, 0, 0, 0, 0, 0, 0, 0, 0, 0, 0, 0, 0, 0, 0, 0, 0, 0, 0, 0, 0, 0, 0, 0, 0, 0, 0, 0, 0, 0, 0, 0, 0, 0, 0, 0, 0, 0, 0, 0, 0, 0, 0, 0, 0, 0, 0, 0, 0, 0, 0, 0, 0, 0, 0, 0, 0, 0, 0, 0, 0, 0, 0, 0, 0, 0, 0, 0, 0, 0, 0, 0, 0, 0, 0, 0, 0, 0, 0, 0, 0, 0, 0, 0, 0, 0, 0, 0, 0, 0, 0, 0, 0, 0, 0, 0, 0, 0, 0, 0, 0, 0, 0, 0, 0, 0, 0, 0, 0, 0, 0, 0, 0, 0, 0, 0, 0, 0, 0, 0, 0, 0, 0, 0, 0, 0, 0, 0, 0, 0, 0, 0, 0, 0, 0, 0, 0, 0, 0, 0, 0, 0, 0, 0, 0, 0, 0, 0, 0, 0, 0, 0, 0, 0, 0, 0, 0, 0, 0, 0, 0, 0, 0, 0, 0, 0, 0, 0, 0, 0, 0, 0, 0, 0, 0, 0, 0, 0, 0, 0, 0, 0, 0, 0, 0, 0, 0, 0, 0, 0, 0, 0, 0, 0, 0, 0, 0, 0, 0, 0, 0, 0, 0, 0, 0, 0, 0, 0, 0, 0, 0, 0, 0, 0, 0, 0, 0, 0, 0, 0, 0, 0, 0, 0, 0, 0, 0, 0, 0, 0, 0, 0, 0, 0, 0, 0, 0, 0, 0, 0, 0, 0, 0, 0, 0, 0, 0, 0, 0, 0, 0, 0, 0, 0, 0, 0, 0, 0, 0, 0, 0, 0, 0, 0, 0, 0, 0, 0, 0, 0, 0, 0, 0, 0, 0, 0, 0, 0, 0, 0, 0, 0, 0, 0, 0, 0, 0, 0, 0, 0, 0, 0, 0, 0, 0, 0, 0, 0, 0, 0, 0, 0, 0, 0, 0, 0, 0, 0, 0, 0, 0, 0, 0, 0, 0, 0, 0, 0, 0, 0, 0, 0, 0, 0, 0, 0, 0, 0, 0, 0, 0, 0, 0, 0, 0, 0, 0, 0, 0, 0, 0, 0, 0, 0, 0, 0, 0, 0, 0, 0, 0, 0, 0, 0, 0, 0, 0, 0, 0, 0, 0, 0, 0, 0, 0, 0, 0, 0, 0, 0, 0, 0, 0, 0, 0, 0, 0, 0, 0, 0, 0, 0, 0, 0, 0, 0, 0, 0, 0, 0, 0, 0, 0, 0, 0, 0, 0, 0, 0, 0, 0, 0, 0, 0, 0, 0, 0, 0, 0, 0, 0, 0, 0, 0, 0, 0, 0, 0, 0, 0, 0, 0, 0, 0, 0, 0, 0, 0, 0, 0, 0, 0, 0, 0, 0, 0, 0, 0, 0, 0, 0, 0, 0, 0, 0, 0, 0, 0, 0, 0, 0, 0, 0, 0, 0, 0, 0, 0, 0, 0, 0, 0, 0, 0, 0, 0, 0, 0, 0, 0, 0, 0, 0, 0, 0, 0, 0, 0, 0, 0, 0, 0, 0, 0, 0, 0, 0, 0, 0, 0, 0, 0, 0, 0, 0, 0, 0, 0, 0, 0, 0, 0, 0, 0, 0, 0, 0, 0, 0, 0, 0, 0, 0, 0, 0, 0, 0, 0, 0, 0, 0, 0, 0, 0, 0, 0, 0, 0, 0, 0, 0, 0, 0, 0, 0, 0, 0, 0, 0, 0, 0, 0, 0, 0, 0, 0, 0, 0.04628558204119417, 0, 0, 0, 0, 0, 0, 0, 0, 0, 0, 0, 0, 0, 0, 0, 0, 0, 0, 0, 0, 0, 0, 0, 0, 0, 0, 0, 0, 0, 0, 0, 0, 0, 0, 0, 0, 0, 0, 0, 0, 0, 0, 0, 0, 0, 0, 0, 0, 0, 0, 0, 0, 0, 0, 0, 0, 0, 0, 0, 0, 0, 0, 0, 0, 0, 10.15968525804212, 10.15968525804212, 10.15968525804212, -0.9731397270321498, -2.890724386354874, -2.9315240599574857, -2.9315240599574857, -2.9315240599574857, -2.9315240599574857, -2.9315240599574857, -2.9315240599574857, -2.9315240599574857, -2.9315240599574857, -2.9315240599574857, -2.9315240599574857, -2.9315240599574857, -2.9315240599574857, -2.9315240599574857, -2.9315240599574857, -2.9315240599574857, -2.9315240599574857, -2.9315240599574857, -2.9315240599574857, -2.9315240599574857, -2.9315240599574857, -2.9315240599574857, -2.9315240599574857, -2.9315240599574857, -2.9315240599574857, -2.9315240599574857, -2.9315240599574857, -2.9315240599574857, -2.972323733560099, -2.972323733560099, -2.972323733560099, -2.972323733560099, -2.972323733560099, -2.972323733560099, -2.972323733560099, -2.972323733560099, -2.972323733560099, -2.972323733560099, -2.972323733560099, -2.972323733560099, -2.972323733560099, -2.972323733560099, -2.972323733560099, -2.972323733560099, -2.972323733560099, -2.972323733560099, -2.972323733560099, -2.972323733560099, -2.972323733560099, -2.972323733560099, -2.972323733560099, -2.972323733560099, -2.972323733560099, -2.972323733560099, -2.972323733560099, -2.972323733560099, -2.972323733560099, -2.972323733560099, -2.972323733560099, -2.972323733560099, -2.972323733560099, -2.972323733560099, -2.972323733560099, -2.972323733560099, -2.972323733560099, -2.972323733560099, -2.972323733560099, -2.972323733560099, -2.972323733560099, -2.972323733560099, -2.972323733560099, -2.972323733560099, -2.972323733560099, -2.972323733560099, -2.972323733560099, -2.972323733560099, -2.972323733560099, -2.972323733560099, -2.972323733560099, -2.972323733560099, -2.972323733560099, -2.972323733560099, -2.972323733560099, -2.972323733560099, -2.972323733560099, -2.972323733560099, -2.972323733560099, -2.972323733560099, -2.972323733560099, -3.0131234071627073, -3.0131234071627073, -3.0131234071627073, -3.0131234071627073, -3.0131234071627073, -3.0131234071627073, -3.0131234071627073, -3.0131234071627073, -3.0131234071627073, -3.0131234071627073, -3.0131234071627073, -3.0131234071627073, -3.0131234071627073, -3.0131234071627073, -3.0131234071627073, -3.0131234071627073, -3.0131234071627073, -3.0131234071627073, -3.0131234071627073, -3.053923080765321, -3.053923080765321, -3.053923080765321, -3.053923080765321, -3.053923080765321, -3.053923080765321, -3.053923080765321, -3.053923080765321, -3.053923080765321, -3.053923080765321, -3.053923080765321, -3.053923080765321, -3.053923080765321, -3.053923080765321, -3.053923080765321, -3.053923080765321, -3.053923080765321, -3.053923080765321, -3.053923080765321, -3.053923080765321, -3.053923080765321, -3.053923080765321, -3.053923080765321, -3.053923080765321, -3.053923080765321, -3.053923080765321, -3.053923080765321, -3.053923080765321, -3.053923080765321, -3.053923080765321, -3.053923080765321, -3.053923080765321, -3.053923080765321, -3.053923080765321, -3.053923080765321, -3.053923080765321, -3.053923080765321, -3.094722754367929, -3.094722754367929, -3.094722754367929, -3.094722754367929, -3.094722754367929, -3.094722754367929, -3.094722754367929, -3.094722754367929, -3.094722754367929, -3.094722754367929, -3.094722754367929, -3.094722754367929, -3.094722754367929, -3.094722754367929, -3.094722754367929, -3.094722754367929, -3.094722754367929, -3.094722754367929, -3.094722754367929, -3.094722754367929, -3.094722754367929, -3.094722754367929, -3.094722754367929, -3.094722754367929, -3.094722754367929, -3.094722754367929, -3.094722754367929, -3.1355224279705425, -3.1355224279705425, -3.1355224279705425, -3.1355224279705425, -3.1355224279705425, -3.1355224279705425, -3.1355224279705425, -3.1355224279705425, -3.1355224279705425, -3.1355224279705425, -3.1355224279705425, -3.1355224279705425, -3.1355224279705425, -3.1355224279705425, -3.1355224279705425, -3.1355224279705425, -3.1355224279705425, -3.1355224279705425, -3.1355224279705425, -3.1355224279705425, -3.1355224279705425, -3.1355224279705425, -3.1355224279705425, -3.1355224279705425, -3.1355224279705425, -3.1355224279705425, -3.1355224279705425, -3.1355224279705425, -3.176322101573154, -3.217121775175764, -3.217121775175764, -3.217121775175764, -3.217121775175764, -3.217121775175764, -3.217121775175764, -3.217121775175764, -3.217121775175764, -3.217121775175764, -3.217121775175764, -3.217121775175764, -3.217121775175764, -3.217121775175764, -3.217121775175764, -3.217121775175764, -3.217121775175764, -3.217121775175764, -3.257921448778376, -3.257921448778376, -3.257921448778376, -3.257921448778376, -3.257921448778376, -3.257921448778376, -3.257921448778376, -3.257921448778376, -3.257921448778376, -3.257921448778376, -3.257921448778376, -3.257921448778376, -3.257921448778376, -3.257921448778376, -3.257921448778376, -3.257921448778376, -3.257921448778376, -3.257921448778376, -3.257921448778376, -3.257921448778376, -3.257921448778376, -3.257921448778376, -3.257921448778376, -3.257921448778376, -3.257921448778376, -3.298721122380986, -3.298721122380986, -3.298721122380986, -3.3395207959835975, -3.3395207959835975, -3.3395207959835975, -3.3395207959835975, -3.3395207959835975, -3.3395207959835975, -3.3395207959835975, -3.3395207959835975, -3.3395207959835975, -3.3395207959835975, -3.3395207959835975, -3.3395207959835975, -3.3395207959835975, -3.3395207959835975, -3.3395207959835975, -3.3395207959835975, -3.3395207959835975, -3.3395207959835975, -3.3395207959835975, -3.3395207959835975, -3.3395207959835975, -3.3395207959835975, -3.3395207959835975, -3.3395207959835975, -3.3395207959835975, -3.3395207959835975, -3.3395207959835975, -3.3395207959835975, -3.3395207959835975, -3.3803204695862092, -3.3803204695862092, -3.3803204695862092, -3.3803204695862092, -3.421120143188819, -3.421120143188819, -3.421120143188819, -3.461919816791431, -3.461919816791431, -3.461919816791431, -3.461919816791431, -3.4387770257708326, -3.4387770257708326, -3.4795766993734425, -3.4795766993734425, -3.4795766993734425, -3.4795766993734425, -3.4795766993734425, -3.4795766993734425, -3.4795766993734425, -3.4795766993734425, -3.4795766993734425, -3.4795766993734425, -3.5611760465786677, -3.5611760465786677, -3.6019757201812777, -3.6019757201812777, -3.6019757201812777, -3.6019757201812777, -3.6019757201812777, -3.6019757201812777, -3.578832929160681, -3.578832929160681, -3.578832929160681, -3.578832929160681, -3.578832929160681, -3.578832929160681, -3.578832929160681, -3.578832929160681, -3.578832929160681, -3.578832929160681, -3.578832929160681, -3.619632602763293, -3.619632602763293, -3.619632602763293, -3.619632602763293, -3.619632602763293, -3.619632602763293, -3.619632602763293, -3.619632602763293, -3.619632602763293, -3.619632602763293, -3.619632602763293, -3.596489811742696, -3.637289485345306, -3.637289485345306, -3.637289485345306, -3.637289485345306, -3.6141466943247096, -3.6141466943247096, -3.6141466943247096, -3.6141466943247096, -3.6141466943247096, -3.6141466943247096, -3.6141466943247096, -3.6141466943247096, -3.6141466943247096, -3.6141466943247096, -3.6141466943247096, -3.591003903304113, -3.591003903304113, -3.591003903304113, -3.591003903304113, -3.591003903304113, -3.591003903304113, -3.591003903304113, -3.591003903304113, -3.6318035769067247, -3.6318035769067247, -3.6086607858861264, -3.6086607858861264, -3.58551799486553, -3.5623752038449314, -3.5623752038449314, -3.5623752038449314, -3.5623752038449314, -3.5623752038449314, -3.5623752038449314, -3.539232412824335, -3.539232412824335, -3.539232412824335, -3.5160896218037383, -3.49294683078314, -3.49294683078314, -3.49294683078314, -3.49294683078314, -3.5337465043857517, -3.5337465043857517, -3.5337465043857517, -3.5337465043857517, -3.5337465043857517, -3.5337465043857517, -3.5337465043857517, -3.5337465043857517, -3.5337465043857517, -3.5337465043857517, -3.510603713365157, -3.510603713365157, -3.510603713365157, -3.510603713365157, -3.510603713365157, -3.510603713365157, -3.510603713365157, -3.4874609223445585, -3.4874609223445585, -3.4874609223445585, -3.5282605959471685, -3.5282605959471685, -3.5282605959471685, -3.5282605959471685, -3.5282605959471685, -3.5282605959471685, -3.5282605959471685, -3.505117804926572, -3.4819750139059753, -3.4819750139059753, -3.4819750139059753, -3.4819750139059753, -3.4819750139059753, -3.4819750139059753, -3.4819750139059753, -3.4819750139059753, -3.4819750139059753, -3.4819750139059753, -3.4819750139059753, -3.4819750139059753, -3.458832222885377, -3.458832222885377, -3.458832222885377, -3.458832222885377, -3.458832222885377, -3.4356894318647804, -3.4356894318647804, -3.4533463144467937, -3.4533463144467937, -3.4533463144467937, -3.4941459880494037, -3.4941459880494037, -3.5349456616520154, -3.5349456616520154, -3.511802870631419, -3.4886600796108223, -3.4886600796108223, -3.4886600796108223, -3.4886600796108223, -3.4886600796108223, -3.4886600796108223, -3.4886600796108223, -3.4655172885902257, -3.4655172885902257, -3.4655172885902257, -3.4655172885902257, -3.4655172885902257, -3.4655172885902257, -3.4655172885902257, -3.4655172885902257, -3.4655172885902257, -3.4655172885902257, -3.4655172885902257, -3.4655172885902257, -3.4655172885902257, -3.4655172885902257, -3.4655172885902257, -3.4655172885902257, -3.4655172885902257, -3.4655172885902257, -3.4655172885902257, -3.4655172885902257, -3.4655172885902257, -3.4655172885902257, -3.4655172885902257, -3.4655172885902257, -3.4655172885902257, -3.442374497569629, -3.442374497569629, -3.442374497569629, -3.442374497569629, -3.442374497569629, -3.442374497569629, -3.442374497569629, -3.442374497569629, -3.442374497569629, -3.442374497569629, -3.442374497569629, -3.442374497569629, -3.442374497569629, -3.442374497569629, -3.442374497569629, -3.4192317065490307, -3.4192317065490307, -3.4192317065490307, -3.4192317065490307, -3.4192317065490307, -3.4600313801516442, -3.4600313801516442, -3.4600313801516442, -3.477688262733656, -3.477688262733656, -3.477688262733656, -3.431402680692461, -3.431402680692461, -3.431402680692461, -3.431402680692461, -3.431402680692461, -3.4082598896718643, -3.4082598896718643, -3.4082598896718643, -3.4082598896718643, -3.4082598896718643, -3.3851170986512678, -3.3851170986512678, -3.3851170986512678, -3.3851170986512678, -3.3851170986512678, -3.361974307630671, -3.361974307630671, -3.361974307630671, -3.361974307630671, -3.3156887255894762, -3.3156887255894762, -3.3156887255894762, -3.3156887255894762, -3.3156887255894762, -3.3156887255894762, -3.3156887255894762, -3.3156887255894762, -3.3156887255894762, -3.3564883991920897, -3.3564883991920897, -3.333345608171493, -3.333345608171493, -3.333345608171493, -3.333345608171493, -3.374145281774105, -3.374145281774105, -3.36865937333552, -3.36865937333552, -3.322373791294325, -3.322373791294325, -3.322373791294325, -3.322373791294325, -3.322373791294325, -3.322373791294325, -3.322373791294325, -3.322373791294325, -3.322373791294325, -3.2992310002737284, -3.34003067387634, -3.34003067387634, -3.34003067387634, -3.34003067387634, -3.3168878828557435, -3.3168878828557435, -3.293745091835147, -3.293745091835147, -3.293745091835147, -3.293745091835147, -3.293745091835147, -3.293745091835147, -3.2706023008145504, -3.2706023008145504, -3.2706023008145504, -3.2706023008145504, -3.2706023008145504, -3.2706023008145504, -3.2706023008145504, -3.2706023008145504, -3.2706023008145504, -3.2706023008145504, -3.2706023008145504, -3.2706023008145504, -3.247459509793952, -3.2243167187733555, -3.2243167187733555, -3.2243167187733555, -3.2243167187733555, -3.2651163923759654, -3.2651163923759654, -3.2651163923759654, -3.2651163923759654, -3.2651163923759654, -3.259630483937382, -3.2364876929167856, -3.2364876929167856, -3.231001784478204, -3.231001784478204, -3.231001784478204, -3.231001784478204, -3.271801458080814, -3.271801458080814, -3.271801458080814, -3.271801458080814, -3.271801458080814, -3.271801458080814, -3.271801458080814, -3.271801458080814, -3.271801458080814, -3.271801458080814, -3.271801458080814, -3.271801458080814, -3.2486586670602158, -3.225515876039619, -3.225515876039619, -3.225515876039619, -3.225515876039619, -3.225515876039619, -3.2663155496422327, -3.2663155496422327, -3.243172758621636, -3.243172758621636, -3.243172758621636, -3.243172758621636, -3.243172758621636, -3.243172758621636, -3.243172758621636, -3.2200299676010378, -3.2200299676010378, -3.260829641203646, -3.260829641203646, -3.3016293148062594, -3.3016293148062594, -3.3016293148062594, -3.3016293148062594, -3.278486523785663, -3.278486523785663, -3.278486523785663, -3.278486523785663, -3.278486523785663, -3.278486523785663, -3.278486523785663, -3.3192861973882746, -3.3192861973882746, -3.3192861973882746, -3.3192861973882746, -3.296143406367676, -3.296143406367676, -3.2730006153470796, -3.2730006153470796, -3.249857824326483, -3.2267150333058865, -3.2267150333058865, -3.2267150333058865, -3.2267150333058865, -3.2267150333058865, -3.20357224228529, -3.2443719158879, -3.2443719158879, -3.2620287984699132, -3.302828472072523, -3.302828472072523, -3.302828472072523, -3.302828472072523, -3.2796856810519266, -3.2796856810519266, -3.2796856810519266, -3.2796856810519266, -3.2796856810519266, -3.2796856810519266, -3.2796856810519266, -3.2796856810519266, -3.25654289003133, -3.2973425636339417, -3.2973425636339417, -3.2973425636339417, -3.2741997726133434, -3.2741997726133434, -3.251056981592747, -3.2279141905721502, -3.2047713995515537, -3.2047713995515537, -3.2047713995515537, -3.181628608530957, -3.1584858175103587, -3.1584858175103587, -3.1584858175103587, -3.1584858175103587, -3.1584858175103587, -3.1584858175103587, -3.1584858175103587, -3.1584858175103587, -3.135343026489762, -3.135343026489762, -3.135343026489762, -3.135343026489762, -3.135343026489762, -3.135343026489762, -3.0890574444485672, -3.0890574444485672, -3.0890574444485672, -3.0890574444485672, -3.1067143270305824, -3.1067143270305824, -3.1067143270305824, -3.1067143270305824, -3.1067143270305824, -3.083571536009984, -3.083571536009984, -3.083571536009984, -3.083571536009984, -3.083571536009984, -3.083571536009984, -3.083571536009984, -3.0604287449893874, -3.037285953968791, -3.037285953968791, -3.037285953968791, -3.037285953968791, -3.0141431629481943, -2.9910003719275977, -2.9678575809069994, -2.944714789886403, -2.944714789886403, -2.9855144634890127, -2.9855144634890127, -2.9623716724684144, -2.9623716724684144, -2.9623716724684144, -2.939228881447818, -2.939228881447818, -2.939228881447818, -2.939228881447818, -2.9160860904272212, -2.9160860904272212, -2.9160860904272212, -2.956885764029833, -2.956885764029833, -2.956885764029833, -2.997685437632443, -2.997685437632443, -2.997685437632443, -2.9745426466118445, -2.9745426466118445, -2.9745426466118445, -2.9745426466118445, -2.9745426466118445, -2.9745426466118445, -3.015342320214458, -3.015342320214458, -3.015342320214458, -3.015342320214458, -3.015342320214458, -3.015342320214458, -3.0561419938170697, -3.0561419938170697, -3.0561419938170697, -3.0561419938170697, -3.0969416674196797, -3.0969416674196797, -3.0969416674196797, -3.073798876399085, -3.073798876399085, -3.1145985500016966, -3.1145985500016966, -3.1145985500016966, -3.1145985500016966, -3.1145985500016966, -3.1145985500016966, -3.1145985500016966, -3.0914557589810983, -3.045170176939905, -3.045170176939905, -3.045170176939905, -3.045170176939905, -3.045170176939905, -3.0220273859193068, -3.0220273859193068, -3.0220273859193068, -3.0220273859193068, -3.0220273859193068, -3.0220273859193068, -3.0220273859193068, -3.0220273859193068, -3.0220273859193068, -2.99888459489871, -2.99888459489871, -2.99888459489871, -3.0165414774807218, -3.0165414774807218, -3.0165414774807218, -3.0165414774807218, -2.993398686460125, -2.993398686460125, -2.993398686460125, -2.9702558954395286, -2.947113104418932, -2.947113104418932, -2.947113104418932, -2.947113104418932, -2.947113104418932, -2.947113104418932, -2.9239703133983355, -2.9239703133983355, -2.9239703133983355, -2.8776847313571405, -2.8953416139391557, -2.8953416139391557, -2.8953416139391557, -2.8953416139391557, -2.8953416139391557, -2.8953416139391557, -2.8953416139391557, -2.8953416139391557, -2.8953416139391557, -2.8953416139391557, -2.8953416139391557, -2.8721988229185573, -2.8721988229185573, -2.8721988229185573, -2.912998496521169, -2.912998496521169, -2.912998496521169, -2.912998496521169, -2.912998496521169, -2.912998496521169, -2.912998496521169, -2.912998496521169, -2.912998496521169, -2.912998496521169, -2.9945978437263907, -2.9945978437263907, -3.0353975173290006, -3.0353975173290006, -3.0353975173290006, -3.0353975173290006, -3.0353975173290006, -3.0353975173290006, -3.0353975173290006, -3.0353975173290006, -3.0353975173290006, -3.012254726308404, -3.012254726308404, -3.012254726308404, -3.012254726308404, -2.9891119352878075, -3.029911608890419, -3.029911608890419, -3.006768817869821, -3.006768817869821, -3.006768817869821, -3.006768817869821, -3.006768817869821, -3.006768817869821, -3.006768817869821, -3.006768817869821, -2.983626026849226, -2.9604832358286277, -2.9604832358286277, -2.9604832358286277, -2.9604832358286277, -2.9604832358286277, -2.937340444808031, -2.937340444808031, -2.9781401184106446, -2.9781401184106446, -2.9781401184106446, -2.9781401184106446, -3.018939792013253, -3.018939792013253, -3.018939792013253, -3.018939792013253, -2.972654209972058, -2.9495114189514613, -2.9495114189514613, -2.9495114189514613, -2.9495114189514613, -2.9495114189514613, -2.9495114189514613, -2.9495114189514613, -2.9495114189514613, -2.9495114189514613, -2.9495114189514613, -2.990311092554075, -2.990311092554075, -2.990311092554075, -2.990311092554075, -2.990311092554075, -2.990311092554075, -2.990311092554075, -2.990311092554075, -2.990311092554075, -2.990311092554075, -2.990311092554075, -2.9671683015334764, -2.9671683015334764, -2.9671683015334764, -2.9671683015334764, -2.9671683015334764, -2.9671683015334764, -2.9671683015334764, -2.94402551051288, -2.9208827194922833, -2.897739928471685, -2.897739928471685, -2.897739928471685, -2.897739928471685, -2.897739928471685, -2.897739928471685, -2.897739928471685, -2.897739928471685, -2.897739928471685, -2.8745971374510884, -2.8745971374510884, -2.8745971374510884, -2.8745971374510884, -2.8745971374510884, -2.8691112290125016, -2.8691112290125016, -2.8691112290125016, -2.8691112290125016, -2.8691112290125016, -2.8691112290125016, -2.8691112290125016, -2.8691112290125016, -2.8691112290125016, -2.845968437991907, -2.845968437991907, -2.845968437991907, -2.845968437991907, -2.845968437991907, -2.82282564697131, -2.82282564697131, -2.82282564697131, -2.8636253205739237, -2.8636253205739237, -2.8636253205739237, -2.8636253205739237, -2.8636253205739237, -2.9044249941765354, -2.9044249941765354, -2.881282203155939, -2.881282203155939, -2.881282203155939, -2.881282203155939, -2.881282203155939, -2.881282203155939, -2.881282203155939, -2.881282203155939, -2.881282203155939, -2.881282203155939, -2.8581394121353405, -2.8581394121353405, -2.8581394121353405, -2.8581394121353405, -2.8581394121353405, -2.8581394121353405, -2.8581394121353405, -2.8581394121353405, -2.834996621114744, -2.834996621114744, -2.834996621114744, -2.834996621114744, -2.834996621114744, -2.834996621114744, -2.875796294717354, -2.8526535036967555, -2.8526535036967555, -2.783225130634964, -2.783225130634964, -2.783225130634964, -2.783225130634964, -2.7600823396143674, -2.7600823396143674, -2.7600823396143674, -2.7600823396143674, -2.736939548593769, -2.736939548593769, -2.736939548593769, -2.736939548593769, -2.777739222196381, -2.777739222196381, -2.777739222196381, -2.777739222196381, -2.7545964311757842, -2.7545964311757842, -2.7953961047783977, -2.7953961047783977, -2.7953961047783977, -2.7953961047783977, -2.7953961047783977, -2.772253313757801, -2.772253313757801, -2.772253313757801, -2.772253313757801, -2.772253313757801, -2.772253313757801, -2.7259677317166062, -2.7259677317166062, -2.7259677317166062, -2.7667674053192144, -2.743624614298618, -2.743624614298618, -2.743624614298618, -2.7204818232780195, -2.7204818232780195, -2.6973390322574247, -2.6973390322574247, -2.6973390322574247, -2.6973390322574247, -2.6973390322574247, -2.674196241236828, -2.674196241236828, -2.674196241236828, -2.6510534502162315, -2.6510534502162315, -2.6510534502162315, -2.6510534502162315, -2.691853123818845, -2.691853123818845, -2.691853123818845, -2.691853123818845, -2.691853123818845, -2.691853123818845, -2.691853123818845, -2.6687103327982467, -2.64556754177765, -2.64556754177765, -2.64556754177765, -2.64556754177765, -2.64556754177765, -2.6863672153802582, -2.6863672153802582, -2.6863672153802582, -2.6863672153802582, -2.6632244243596617, -2.6632244243596617, -2.6632244243596617, -2.6632244243596617, -2.6632244243596617, -2.6632244243596617, -2.6632244243596617, -2.6632244243596617, -2.6632244243596617, -2.6400816333390633, -2.6169388423184667, -2.6169388423184667, -2.6169388423184667, -2.6169388423184667, -2.6577385159210802, -2.6577385159210802, -2.6577385159210802, -2.6577385159210802, -2.69853818952369, -2.69853818952369, -2.69853818952369, -2.69853818952369, -2.69853818952369, -2.675395398503092, -2.675395398503092, -2.675395398503092, -2.675395398503092, -2.675395398503092, -2.675395398503092, -2.675395398503092, -2.675395398503092, -2.6522526074824953, -2.6522526074824953, -2.6522526074824953, -2.6291098164618987, -2.6059670254413003, -2.6059670254413003, -2.6059670254413003, -2.6059670254413003, -2.6059670254413003, -2.559681443400107, -2.559681443400107, -2.559681443400107, -2.559681443400107, -2.559681443400107, -2.559681443400107, -2.559681443400107, -2.536538652379509, -2.536538652379509, -2.5133958613589122, -2.5133958613589122, -2.5133958613589122, -2.490253070338314, -2.490253070338314, -2.490253070338314, -2.490253070338314, -2.490253070338314, -2.490253070338314, -2.4439674882971225, -2.4439674882971225, -2.4439674882971225, -2.4439674882971225, -2.4847671618997325, -2.4847671618997325, -2.4847671618997325, -2.4847671618997325, -2.4847671618997325, -2.525566835502346, -2.525566835502346, -2.525566835502346, -2.525566835502346, -2.525566835502346, -2.525566835502346, -2.525566835502346, -2.525566835502346, -2.5024240444817494, -2.479281253461153, -2.432995671419958, -2.432995671419958, -2.432995671419958, -2.432995671419958, -2.432995671419958, -2.432995671419958, -2.432995671419958, -2.4098528803993595, -2.4506525540019695, -2.4506525540019695, -2.4506525540019695, -2.4506525540019695, -2.4506525540019695, -2.4506525540019695, -2.4506525540019695, -2.4506525540019695, -2.4506525540019695, -2.4506525540019695, -2.427509762981373, -2.427509762981373, -2.4043669719607763, -2.4043669719607763, -2.4043669719607763, -2.381224180940178, -2.381224180940178, -2.3580813899195814, -2.3580813899195814, -2.28865301685779, -2.28865301685779, -2.28865301685779, -2.28865301685779, -2.28865301685779, -2.28865301685779, -2.28865301685779, -2.2655102258371915, -2.2655102258371915, -2.2655102258371915, -2.2655102258371915, -2.2655102258371915, -2.2655102258371915, -2.2655102258371915, -2.306309899439805, -2.306309899439805, -2.2831671084192084, -2.2831671084192084, -2.2831671084192084, -2.2831671084192084, -2.3239667820218184, -2.3239667820218184, -2.3239667820218184, -2.3239667820218184, -2.3239667820218184, -2.3239667820218184, -2.3239667820218184, -2.3239667820218184, -2.300823991001222, -2.300823991001222, -2.2953380825626386, -2.2953380825626386, -2.272195291542042, -2.2490525005214455, -2.2027669184802505, -2.2027669184802505, -2.2027669184802505, -2.1564813364390556, -2.1564813364390556, -2.1564813364390556, -2.1564813364390556, -2.1564813364390556, -2.1101957543978607, -2.1101957543978607, -2.1101957543978607, -2.1101957543978607, -2.150995428000474, -2.150995428000474, -2.1278526369798776, -2.1278526369798776, -2.104709845959281, -2.104709845959281, -2.104709845959281, -2.104709845959281, -2.104709845959281, -2.104709845959281, -2.104709845959281, -2.104709845959281, -2.104709845959281, -2.104709845959281, -2.0815670549386827, -2.0815670549386827, -2.0815670549386827, -2.0815670549386827, -2.0815670549386827, -2.0815670549386827, -2.0815670549386827, -2.0815670549386827, -2.058424263918086, -2.058424263918086, -2.058424263918086, -2.058424263918086, -2.058424263918086, -2.0352814728974895, -2.0352814728974895, -2.0352814728974895, -2.0352814728974895, -2.0352814728974895, -2.0352814728974895, -2.0352814728974895, -2.0352814728974895, -2.0352814728974895, -2.0352814728974895, -2.0352814728974895, -2.0760811465000995, -2.0760811465000995, -2.0760811465000995, -2.093738029082111, -2.093738029082111, -2.1345377026847245, -2.1345377026847245, -2.1345377026847245, -2.1345377026847245, -2.1345377026847245, -2.1345377026847245, -2.111394911664128, -2.111394911664128, -2.111394911664128, -2.111394911664128, -2.105909003225543, -2.105909003225543, -2.123565885807558, -2.123565885807558, -2.123565885807558, -2.123565885807558, -2.1004230947869615, -2.118079977368975, -2.0949371863483766, -2.0949371863483766, -2.0949371863483766, -2.0949371863483766, -2.0949371863483766, -2.07179439532778, -2.1125940689303935, -2.1125940689303935, -2.1125940689303935, -2.1125940689303935, -2.1125940689303935, -2.1125940689303935, -2.153393742533007, -2.1941934161356134, -2.171050625115015, -2.171050625115015, -2.171050625115015, -2.171050625115015, -2.171050625115015, -2.1479078340944184, -2.1479078340944184, -2.124765043073822, -2.124765043073822, -2.124765043073822, -2.124765043073822, -2.1016222520532235, -2.078479461032627, -2.078479461032627, -2.078479461032627, -2.1192791346352404, -2.096136343614642, -2.096136343614642, -2.096136343614642, -2.096136343614642, -2.096136343614642, -2.096136343614642, -2.096136343614642, -2.096136343614642, -2.096136343614642, -2.096136343614642, -2.096136343614642, -2.096136343614642, -2.096136343614642, -2.096136343614642, -2.096136343614642, -2.096136343614642, -2.096136343614642, -2.096136343614642, -2.096136343614642, -2.096136343614642, -2.096136343614642, -2.096136343614642, -2.096136343614642, -2.096136343614642, -2.096136343614642, -2.096136343614642, -2.136936017217252, -2.2185353644224755, -2.2185353644224755, -2.2185353644224755, -2.2185353644224755, -2.2185353644224755, -2.2185353644224755, -2.2185353644224755, -2.2593350380250854, -2.2593350380250854, -2.2130494559838922, -2.2130494559838922, -2.2130494559838922, -2.189906664963294, -2.1436210829221007, -2.1436210829221007, -2.1436210829221007, -2.1436210829221007, -2.1204782919015024, -2.161277965504116, -2.161277965504116, -2.161277965504116, -2.1381351744835193, -2.1149923834629245, -2.1149923834629245, -2.1149923834629245, -2.1557920570655345, -2.1557920570655345, -2.1557920570655345, -2.1557920570655345, -2.1557920570655345, -2.1095064750243395, -2.1095064750243395, -2.1503061486269495, -2.1503061486269495, -2.1503061486269495, -2.1503061486269495, -2.127163357606353, -2.127163357606353, -2.127163357606353, -2.127163357606353, -2.127163357606353, -2.1040205665857563, -2.1040205665857563, -2.1040205665857563, -2.1040205665857563, -2.1040205665857563, -2.1040205665857563, -2.1040205665857563, -2.1040205665857563, -2.0577349845445614, -2.0577349845445614, -2.0577349845445614, -2.034592193523963, -2.034592193523963, -2.034592193523963, -2.034592193523963, -2.0114494025033665, -2.05224907610598, -2.05224907610598, -2.005963494064785, -2.005963494064785, -2.005963494064785, -2.005963494064785, -2.005963494064785, -2.005963494064785, -2.005963494064785, -2.005963494064785, -2.005963494064785, -1.9828207030441884, -2.0236203766467984, -2.0236203766467984, -2.0236203766467984, -2.0236203766467984, -2.0236203766467984, -2.0236203766467984, -2.0236203766467984, -1.9773347946056035, -1.9773347946056035, -1.9773347946056035, -1.9773347946056035, -1.9541920035850069, -1.9541920035850069, -1.9541920035850069, -1.9541920035850069, -1.9541920035850069, -1.9541920035850069, -1.9541920035850069, -1.9541920035850069, -1.9541920035850069, -1.9310492125644085, -1.9310492125644085, -1.9310492125644085, -1.9310492125644085, -1.9310492125644085, -1.9310492125644085, -1.9310492125644085, -1.971848886167022, -1.971848886167022, -1.971848886167022, -1.971848886167022, -2.012648559769632, -2.012648559769632, -2.012648559769632, -2.012648559769632, -1.9895057687490354, -1.9895057687490354, -1.9895057687490354, -1.9895057687490354, -1.9895057687490354, -1.9895057687490354, -1.9895057687490354, -1.9663629777284406, -1.9663629777284406, -1.943220186707844, -1.943220186707844, -1.943220186707844, -1.943220186707844, -1.943220186707844, -1.9200773956872474, -1.9200773956872474, -1.9200773956872474, -1.9200773956872474, -1.896934604666649, -1.937734278269259, -1.937734278269259, -1.937734278269259, -1.937734278269259, -1.937734278269259, -1.9785339518718725, -1.9785339518718725, -1.9785339518718725, -1.9785339518718725, -1.9785339518718725, -1.955391160851276, -1.955391160851276, -1.955391160851276, -1.955391160851276, -1.996190834453886, -1.996190834453886, -1.996190834453886, -1.996190834453886, -2.036990508056496, -2.036990508056496, -2.0138477170358975, -2.0138477170358975, -2.0138477170358975, -2.0138477170358975, -2.0138477170358975, -1.990704926015301, -1.990704926015301, -1.990704926015301, -1.990704926015301, -1.9675621349947043, -1.9675621349947043, -1.9675621349947043, -1.9675621349947043, -1.9675621349947043, -1.9675621349947043, -1.9675621349947043, -1.9675621349947043, -1.9675621349947043, -1.9675621349947043, -1.944419343974106, -1.9212765529535094, -1.9212765529535094, -1.9212765529535094, -1.9212765529535094, -1.962076226556123, -1.915790644514928, -1.915790644514928, -1.915790644514928, -1.956590318117538, -1.956590318117538, -1.956590318117538, -1.9742472006995513, -1.9742472006995513, -1.9742472006995513, -1.9048188276377598, -1.9048188276377598, -1.8816760366171614, -1.8816760366171614, -1.8816760366171614, -1.83539045457597, -1.83539045457597, -1.7659620815141785, -1.7659620815141785, -1.7659620815141785, -1.742819290493582, -1.742819290493582, -1.7196764994729836, -1.7196764994729836, -1.696533708452387, -1.737333382054997, -1.737333382054997, -1.737333382054997, -1.7781330556576105, -1.8773892854448455, -1.8773892854448455, -1.8773892854448455, -1.854246494424249, -1.854246494424249, -1.854246494424249, -1.8950461680268589, -1.8950461680268589, -1.9358458416294724, -1.9358458416294724, -1.9766455152320823, -1.9303599331908874, -1.9303599331908874, -1.9303599331908874, -1.9303599331908874, -1.9303599331908874, -1.9072171421702908, -1.9480168157729008, -1.9480168157729008, -1.9480168157729008, -1.9888164893755143, -1.9193881163137227, -1.9370449988957361, -1.9139022078751395, -1.890759416854543, -1.890759416854543, -1.890759416854543, -1.8676166258339464, -1.8444738348133498, -1.8213310437927532, -1.8213310437927532, -1.8213310437927532, -1.8213310437927532, -1.8213310437927532, -1.8621307173953632, -1.8621307173953632, -1.7695595533129733, -1.7695595533129733, -1.7695595533129733, -1.7232739712717766, -1.717788062833197, -1.6891593633740136, -1.666016572353417, -1.666016572353417, -1.666016572353417, -1.5965881992916309, -1.6142450818736442, -1.6142450818736442, -1.6142450818736442, -1.5856163824144645, -1.5856163824144645, -1.5393308003732677, -1.4930452183320746, -1.469902427311478, -1.469902427311478, -1.4644165188728913, -1.5460158660781147, -1.5460158660781147, -1.5868155396807246, -1.5405299576395315, -1.5119012581803517, -1.4887584671597551, -1.4656156761391586, -1.442472885118562, -1.367558603618189, -1.3212730215769923, -1.2981302305563958, -1.2749874395357992, -1.3157871131384127, -1.2695015310972195, -1.2232159490560228, -1.2000731580354262, -1.2000731580354262, -1.2353869231994565, -1.0733873860552734, -0.9808162219728835, -1.0337868697189272, -1.0337868697189272, -1.1153862169241506, -1.1275571910675772, -1.1518991393544447, -1.2225266696824981, -1.026412524640559, -1.1025259634071958, -1.0221257734682396, -1.2041805077269636, -1.3874343992519549, -1.4945748520103024, -1.9469687334378243, -1.8897113345194612, -1.3889640329301791, -1.4961044856885337, -1.5483858540610527, -1.3424990494082074, -1.3375230188623668, 0]]\n",
      "[[0, 0, 0, 0, 0, 0, 0, 0, 0, 0, 0, 0, 0, 0, 0, 0, 0, 0, 0, 0, 0, 0, 0, 0, 0, 0, 0, 0, 0, 0, 0, 0, 0, 0, 0, 0, 0, 0, 0, 0, 0, 0, 0, 0, 0, 0, 0, 0, 0, 0, 0, 0, 0, 0, 0, 0, 0, 0, 0, 0, 0, 0, 0, 0, 0, 0, 0, 0, 0, 0, 0, 0, 0, 0, 0, 0, 0, 0, 0, 0, 0, 0, 0, 0, 0, 0, 0, 0, 0, 0, 0, 0, 0, 0, 0, 0, 0, 0, 0, 0, 0, 0, 0, 0, 0, 0, 0, 0, 0, 0, 0, 0, 0, 0, 0, 0, 0, 0, 0, 0, 0, 0, 0, 0, 0, 0, 0, 0, 0, 0, 0, 0, 0, 0, 0, 0, 0, 0, 0, 0, 0, 0, 0, 0, 0, 0, 0, 0, 0, 0, 0, 0, 0, 0, 0, 0, 0, 0, 0, 0, 0, 0, 0, 0, 0, 0, 0, 0, 0, 0, 0, 0, 0, 0, 0, 0, 0, 0, 0, 0, 0, 0, 0, 0, 0, 0, 0, 0, 0, 0, 0, 0, 0, 0, 0, 0, 0, 0, 0, 0, 0, 0, 0, 0, 0, 0, 0, 0, 0, 0, 0, 0, 0, 0, 0, 0, 0, 0, 0, 0, 0, 0, 0, 0, 0, 0, 0, 0, 0, 0, 0, 0, 0, 0, 0, 0, 0, 0, 0, 0, 0, 0, 0, 0, 0, 0, 0, 0, 0, 0, 0, 0, 0, 0, 0, 0, 0, 0, 0, 0, 0, 0, 0, 0, 0, 0, 0, 0, 0, 0, 0, 0, 0, 0, 0, 0, 0, 0, 0, 0, 0, 0, 0, 0, 0, 0, 0, 0, 0, 0, 0, 0, 0, 0, 0, 0, 0, 0, 0, 0, 0, 0, 0, 0, 0, 0, 0, 0, 0, 0, 0, 0, 0, 0, 0, 0, 0, 0, 0, 0, 0, 0, 0, 0, 0, 0, 0, 0, 0, 0, 0, 0, 0, 0, 0, 0, 0, 0, 0, 0, 0, 0, 0, 0, 0, 0, 0, 0, 0, 0, 0, 0, 0, 0, 0, 0, 0, 0, 0, 0, 0, 0, 0, 0, 0, 0, 0, 0, 0, 0, 0, 0, 0, 0, 0, 0, 0, 0, 0, 0, 0, 0, 0, 0, 0, 0, 0, 0, 0, 0, 0, 0, 0, 0, 0, 0, 0, 0, 0, 0, 0, 0, 0, 0, 0, 0, 0, 0, 0, 0, 0, 0, 0, 0, 0, 0, 0, 0, 0, 0, 0, 0, 0, 0, 0, 0, 0, 0, 0, 0, 0, 0, 0, 0, 0, 0, 0, 0, 0, 0, 0, 0, 0, 0, 0, 0, 0, 0, 0, 0, 0, 0, 0, 0, 0, 0, 0, 0, 0, 0, 0, 0, 0, 0, 0, 0, 0, 0, 0, 0, 0, 0, 0, 0, 0, 0, 0, 0, 0, 0, 0, 0, 0, 0, 0, 0, 0, 0, 0, 0, 0, 0, 0, 0, 0, 0, 0, 0, 0, 0, 0, 0, 0, 0, 0, 0, 0, 0, 0, 0, 0, 0, 0, 0, 0, 0, 0, 0, 0, 0, 0, 0, 0, 0, 0, 0, 0, 0, 0, 0, 0, 0, 0, 0, 0, 0, 0, 0, 0, 0, 0, 0, 0, 0, 0, 0, 0, 0, 0, 0, 0, 0, 0, 0, 0, 0, 0, 0, 0, 0, 0, 0, 0, 0, 0, 0, 0, 0, 0, 0, 0, 0, 0, 0, 0, 0, 0, 0, 0, 0, 0, 0, 0, 0, 0, 0, 0, 0, 0, 0, 0, 0, 0, 0, 0, 0, 0, 0, 0, 0, 0, 0, 0, 0, 0, 0, 0, 0, 0, 0, 0, 0, 0, 0, 0, 0, 0, 0, 0, 0, 0, 0, 0, 0, 0, 0, 0, 0, 0, 0, 0, 0, 0, 0, 0, 0, 0, 0, 0, 0, 0, 0, 0, 0, 0, 0, 0, 0, 0, 0, 0, 0, 0, 0, 0, 0, 0, 0, 0, 0, 0, 0, 0, 0, 0, 0, 0, 0, 0, 0, 0, 0, 0, 0, 0, 0, 0, 0, 0, 0, 0, 0, 0, 0, 0, 0, 0, 0, 0, 0, 0, 0, 0, 0, 0, 0, 0, 0, 0, 0, 0, 0, 0, 0, 0, 0, 0, 0, 0, 0, 0, 0, 0, 0, 0, 0, 0, 0, 0, 0, 0, 0, 0, 0, 0, 0, 0, 0, 0, 0, 0, 0, 0, 0, 0, 0, 0, 0, 0, 0, 0, 0, 0, 0, 0, 0, 0, 0, 0, 0, 0, 0, 0, 0, 0, 0, 0, 0, 0, 0, 0, 0, 0, 0, 0, 0, 0, 0, 0, 0, 0, 0, 0, 0, 0, 0, 0, 0, 0, 0, 0, 0, 0, 0, 0, 0, 0, 0, 0, 0, 0, 0, 0, 0, 0, 0, 0, 0, 0, 0, 0, 0, 0, 0, 0, 0, 0, 0, 0, 0, 0, 0, 0, 0, 0, 0, 0, 0, 0, 0, 0, 0, 0, 0, 0, 0, 0, 0, 0, 0, 0, 0, 0, 0, 0, 0, 0, 0, 0, 0, 0, 0, 0, 0, 0, 0, 0, 0, 0, 0, 0, 0, 0, 0, 0, 0, 0, 0, 0, 0, 0, 0, 0, 0, 0, 0, 0, 0, 0, 0, 0, 0, 0, 0, 0, 0, 0, 0, 0, 0, 0, 0, 0, 0, 0, 0, 0, 0, 0, 0, 0, 0, 0, 0, 0, 0, 0, 0, 0, 0, 0, 0, 0, 0, 0, 0, 0, 0, 0, 0, 0, 0, 0, 0, 0, 0, 0, 0, 0, 0, 0, 0, 0, 0, 0, 0, 0, 0, 0, 0, 0, 0, 0, 0, 0, 0, 0, 0, 0, 0, 0, 0, 0, 0, 0, 0, 0, 0, 0, 0, 0, 0, 0, 0, 0, 0, 0, 0, 0, 0, 0, 0, 0, 0, 0, 0, 0, 0, 0, 0, 0, 0, 0, 0, 0, 0, 0, 0, 0, 0, 0, 0, 0, 0, 0, 0, 0, 0, 0, 0, 0, 0, 0, 0, 0, 0, 0, 0, 0, 0, 0, 0, 0, 0, 0, 0, 0, 0, 0, 0, 0, 0, 0, 0, 0, 0, 0, 0, 0, 0, 0, 0, 0, 0, 0, 0, 0, 0, 0, 0, 0, 0, 0, 0, 0, 0, 0, 0, 0, 0, 0, 0, 0, 0, 0, 0, 0, 0, 0, 0, 0, 0, 0, 0, 0, 0, 0, 0, 0, 0, 0, 0, 0, 0, 0, 0, 0, 0, 0, 0, 0, 0, 0, 0, 0, 0, 0, 0, 0, 0, 0, 0, 0, 0, 0, 0, 0, 0, 0, 0, 0, 0, 0, 0, 0, 0, 0, 0, 0, 0, 0, 0, 0, 0, 0, 0, 0, 0, 0, 0, 0, 0, 0, 0, 0, 0, 0, 0, 0, 0, 0, 0, 0, 0, 0, 0, 0, 0, 0, 0, 0, 0, 0, 0, 0, 0, 0, 0, 0, 0, 0, 0, 0, 0, 0, 0, 0, 0, 0, 0, 0, 0, 0, 0, 0, 0, 0, 0, 0, 0, 0, 0, 0, 0, 0, 0, 0, 0, 0, 0, 0, 0, 0, 0, 0, 0, 0, 0, 0, 0, 0, 0, 0, 0, 0, 0, 0, 0, 0, 0, 0, 0, 0, 0, 0, 0, 0, 0, 0, 0, 0, 0, 0, 0, 0, 0, 0, 0, 0, 0, 0, 0, 0, 0, 0, 0, 0, 0, 0, 0, 0, 0, 0, 0, 0, 0, 0, 0, 0, 0, 0, 0, 0, 0, 0, 0, 0, 0, 0, 0, 0, 0, 0, 0.06942837306179125, -2.458234627110717, -2.458234627110717, -2.458234627110717, -2.4350918360901197, -2.4350918360901197, -2.411949045069523, -2.411949045069523, -2.452748718672135, -2.452748718672135, -2.452748718672135, -2.452748718672135, -2.452748718672135, -2.4296059276515374, -2.4296059276515374, -2.4296059276515374, -2.406463136630941, -2.424120019212955, -2.4009772281923576, -2.4009772281923576, -2.4009772281923576, -2.424120019212955, -2.4009772281923576, -2.4009772281923576, -2.4009772281923576, -2.4009772281923576, -2.4009772281923576, -2.377834437171761, -2.3546916461511636, -2.3546916461511636, -2.3546916461511636, -2.3546916461511636, -2.3546916461511636, -2.3546916461511636, -2.3546916461511636, -2.3954913197537735, -2.372348528733177, -2.4131482023357886, -2.4131482023357886, -2.4539478759383986, -2.477090666958995, -2.448461967499817, -2.448461967499817, -2.442976059061234, -2.442976059061234, -2.442976059061234, -2.442976059061234, -2.442976059061234, -2.442976059061234, -2.442976059061234, -2.460632941643249, -2.3912045685814567, -2.3912045685814567, -2.3912045685814567, -2.3912045685814567, -2.408861451163469, -2.3857186601428726, -2.3857186601428726, -2.3857186601428726, -2.362575869122275, -2.362575869122275, -2.2931474960604845, -2.2931474960604845, -2.2931474960604845, -1.8997200487103347, -1.8997200487103347, -1.9405197223129464, -1.333321247338839, -1.333321247338839, -1.333321247338839, -1.333321247338839, -1.333321247338839, 5.915858250546631, 5.915858250546631, 23.810721617906765, 23.775407852742727, 23.79855064376333, 23.79855064376333, 23.821693434783928, 23.821693434783928, 23.821693434783928, 23.821693434783928, 23.821693434783928, 23.821693434783928, 24.110378743908257, 24.133521534928853, 24.133521534928853, 24.133521534928853, 24.179807116970046, 24.179807116970046, 24.179807116970046, 24.179807116970046, 24.179807116970046, 24.098207769764826, 24.098207769764826, 24.144493351806027, 24.144493351806027, 24.103693678203413, 24.0628940046008, 23.998951539977593, 23.998951539977593, 24.02209433099819, 24.02209433099819, 24.02209433099819, 24.02209433099819, 24.02209433099819, 24.02209433099819, 24.045237122018786, 24.045237122018786, 24.045237122018786, 24.004437448416176, 24.004437448416176, 24.004437448416176, 24.004437448416176, 24.004437448416176, 24.004437448416176, 24.004437448416176, 24.004437448416176, 24.004437448416176, 24.004437448416176, 24.004437448416176, 24.027580239436773, 23.98678056583416, 24.033066147875353, 24.033066147875353, 24.033066147875353, 24.05620893889595, 24.05620893889595, 24.05620893889595, 24.079351729916546, 24.061694847334532, 24.08483763835513, 24.08483763835513, 24.08483763835513, 24.08483763835513, 24.08483763835513, 24.08483763835513, 24.08483763835513, 24.08483763835513, 24.04403796475252, 24.04403796475252, 24.04403796475252, 24.04403796475252, 24.04403796475252, 24.04403796475252, 24.04403796475252, 24.09032354679372, 24.09032354679372, 24.09032354679372, 24.11346633781431, 24.11346633781431, 24.11346633781431, 24.11346633781431, 24.072666664211695, 24.072666664211695, 24.072666664211695, 24.072666664211695, 24.072666664211695, 24.072666664211695, 24.072666664211695, 24.095809455232292, 24.095809455232292, 24.055009781629682, 24.055009781629682, 24.055009781629682, 24.055009781629682, 24.055009781629682, 24.055009781629682, 24.055009781629682, 24.055009781629682, 24.07815257265028, 24.07815257265028, 24.07815257265028, 24.07815257265028, 24.07815257265028, 24.07815257265028, 24.03735289904767, 24.03735289904767, 24.03735289904767, 24.03735289904767, 24.03735289904767, 24.060495690068265, 24.060495690068265, 24.060495690068265, 24.060495690068265, 24.060495690068265, 24.060495690068265, 24.060495690068265, 24.060495690068265, 24.01969601646565, 24.01969601646565, 24.01969601646565, 24.01969601646565, 24.04283880748625, 24.04283880748625, 24.065981598506845, 24.065981598506845, 24.04832471592483, 24.04832471592483, 24.04832471592483, 24.04832471592483, 24.071467506945435, 24.071467506945435, 24.071467506945435, 24.071467506945435, 24.071467506945435, 24.071467506945435, 24.071467506945435, 24.071467506945435, 24.025181924904235, 24.025181924904235, 23.949068486137605, 23.949068486137605, 23.949068486137605, 23.949068486137605, 23.972211277158202, 23.972211277158202, 23.972211277158202, 23.972211277158202, 23.972211277158202, 23.972211277158202, 23.972211277158202, 23.972211277158202, 23.9953540681788, 23.9953540681788, 23.9953540681788, 24.018496859199395, 24.018496859199395, 24.018496859199395, 23.97769718559678, 24.000839976617378, 24.023982767637975, 23.98318309403536, 23.98318309403536, 24.029468676076554, 24.05261146709715, 24.05261146709715, 24.075754258117747, 24.098897049138344, 24.098897049138344, 24.098897049138344, 24.098897049138344, 24.098897049138344, 24.098897049138344, 24.098897049138344, 24.122039840158948, 24.122039840158948, 24.145182631179544, 24.214611004241334, 24.23775379526193, 24.23775379526193, 24.23775379526193, 24.19695412165932, 24.19695412165932, 24.19695412165932, 24.15615444805671, 24.15615444805671, 24.15615444805671, 24.202440030097904, 24.2255828211185, 24.2255828211185, 24.2255828211185, 24.248725612139097, 24.271868403159694, 24.318153985200894, 24.364439567242087, 24.364439567242087, 24.364439567242087, 24.364439567242087, 24.364439567242087, 24.387582358262684, 24.41072514928328, 24.41072514928328, 24.393068266701263, 24.462496639763053, 24.462496639763053, 24.462496639763053, 24.48563943078365, 24.48563943078365, 24.48563943078365, 24.48563943078365, 24.48563943078365, 24.508782221804246, 24.508782221804246, 24.508782221804246, 24.467982548201636, 24.491125339222233, 24.51426813024283, 24.47346845664022, 24.432668783037606, 24.432668783037606, 24.432668783037606, 24.432668783037606, 24.4789543650788, 24.502097156099396, 24.502097156099396, 24.502097156099396, 24.502097156099396, 24.525239947119992, 24.525239947119992, 24.525239947119992, 24.54838273814059, 24.54838273814059, 24.571525529161192, 24.571525529161192, 24.571525529161192, 24.571525529161192, 24.571525529161192, 24.530725855558583, 24.51306897297657, 24.536211763997166, 24.536211763997166, 24.536211763997166, 24.536211763997166, 24.536211763997166, 24.536211763997166, 24.559354555017762, 24.559354555017762, 24.58249734603836, 24.58249734603836, 24.58249734603836, 24.628782928079552, 24.628782928079552, 24.59346916291552, 24.61661195393612, 24.61661195393612, 24.61661195393612, 24.639754744956722, 24.639754744956722, 24.639754744956722, 24.639754744956722, 24.61661195393612, 24.639754744956722, 24.686040326997915, 24.686040326997915, 24.73232590903911, 24.73232590903911, 24.650726561833885, 24.697012143875078, 24.720154934895675, 24.720154934895675, 24.720154934895675, 24.720154934895675, 24.720154934895675, 24.720154934895675, 24.74329772591627, 24.74329772591627, 24.74329772591627, 24.74329772591627, 24.766440516936868, 24.725640843334254, 24.74878363435485, 24.74878363435485, 24.74878363435485, 24.771926425375455, 24.79506921639605, 24.79506921639605, 24.81821200741664, 24.81821200741664, 24.81821200741664, 24.80055512483463, 24.80055512483463, 24.80055512483463, 24.823697915855227, 24.782898242252614, 24.80604103327321, 24.80604103327321, 24.80604103327321, 24.829183824293807, 24.875469406335007, 24.875469406335007, 24.875469406335007, 24.875469406335007, 24.898612197355604, 24.898612197355604, 24.898612197355604, 24.898612197355604, 24.898612197355604, 24.898612197355604, 24.898612197355604, 24.817012850150384, 24.817012850150384, 24.817012850150384, 24.84015564117098, 24.84015564117098, 24.799355967568367, 24.799355967568367, 24.799355967568367, 24.84564154960956, 24.84564154960956, 24.868784340630157, 24.868784340630157, 24.868784340630157, 24.868784340630157, 24.868784340630157, 24.868784340630157, 24.868784340630157, 24.827984667027543, 24.827984667027543, 24.827984667027543, 24.827984667027543, 24.827984667027543, 24.827984667027543, 24.827984667027543, 24.827984667027543, 24.827984667027543, 24.85112745804814, 24.85112745804814, 24.85112745804814, 24.85112745804814, 24.810327784445533, 24.83347057546613, 24.83347057546613, 24.856613366486727, 24.798156810302096, 24.798156810302096, 24.798156810302096, 24.798156810302096, 24.821299601322693, 24.821299601322693, 24.821299601322693, 24.821299601322693, 24.821299601322693, 24.821299601322693, 24.821299601322693, 24.844442392343296, 24.867585183363893, 24.826785509761287, 24.826785509761287, 24.849928300781883, 24.849928300781883, 24.849928300781883, 24.849928300781883, 24.87307109180248, 24.832271418199866, 24.832271418199866, 24.832271418199866, 24.832271418199866, 24.855414209220463, 24.855414209220463, 24.855414209220463, 24.87855700024106, 25.017413746364646, 25.017413746364646, 25.017413746364646, 25.017413746364646, 25.017413746364646, 25.017413746364646, 24.935814399159426, 24.935814399159426, 24.935814399159426, 24.935814399159426, 24.935814399159426, 24.958957190180023, 24.958957190180023, 24.958957190180023, 24.958957190180023, 24.958957190180023, 24.98209998120062, 24.98209998120062, 24.98209998120062, 24.98209998120062, 25.005242772221216, 25.005242772221216, 25.005242772221216, 25.005242772221216, 25.005242772221216, 25.005242772221216, 25.033871471680392, 25.016214589098368, 25.016214589098368, 25.021700497536962, 25.09112887059875, 25.09112887059875, 25.073471988016735, 25.073471988016735, 25.073471988016735, 25.09661477903733, 25.119757570057928, 25.038158222852704, 25.038158222852704, 25.038158222852704, 25.038158222852704, 24.997358549250094, 24.997358549250094, 25.02050134027069, 25.02050134027069, 24.979701666668078, 24.93890199306547, 24.93890199306547, 24.93890199306547, 24.898102319462858, 24.898102319462858, 24.898102319462858, 24.898102319462858, 24.898102319462858, 24.898102319462858, 24.816502972257634, 24.816502972257634, 24.83964576327823, 24.83964576327823, 24.83964576327823, 24.83964576327823, 24.862788554298834, 24.862788554298834, 24.862788554298834, 24.862788554298834, 24.862788554298834, 24.88593134531943, 24.88593134531943, 24.909074136340028, 24.909074136340028, 24.868274462737418, 24.786675115532194, 24.786675115532194, 24.786675115532194, 24.745875441929584, 24.745875441929584, 24.745875441929584, 24.62347642112175, 24.646619212142348, 24.646619212142348, 24.669762003162944, 24.593648564396304, 24.517535125629664, 24.517535125629664, 24.54067791665026, 24.54067791665026, 24.54067791665026, 24.563820707670857, 24.382965130678404, 24.342165457075794, 24.342165457075794, 24.26056610987057, 24.26056610987057, 24.26056610987057, 24.26056610987057, 24.283708900891167, 24.07971053287811, 24.102853323898707, 24.102853323898707, 24.102853323898707, 24.125996114919303, 24.085196441316693, 24.026739885132066, 24.026739885132066, 24.026739885132066, -0.39115188119920674, -0.39115188119920674, -0.39115188119920674, -0.39115188119920674, -0.39115188119920674, -0.39115188119920674, -0.39115188119920674, -0.39115188119920674, -0.3680090901786084, -0.3448662991580118, -0.3448662991580118, -0.3448662991580118, -0.3448662991580118, -0.3448662991580118, -0.3448662991580118, -0.3448662991580118, -0.32172350813741524, -0.32172350813741524, -0.32172350813741524, -0.32172350813741524, -0.32172350813741524, -0.32172350813741524, -0.32172350813741524, -0.32172350813741524, -0.2985807171168169, -0.2985807171168169, -0.2985807171168169, -0.2985807171168169, -0.2985807171168169, -0.2754379260962221, -0.25229513507562373, -0.25229513507562373, -0.25229513507562373, -0.25229513507562373, -0.20600955303443058, -0.20600955303443058, -0.20600955303443058, 8.933117333950474, 8.933117333950474, 8.933117333950474, 8.933117333950474, 8.933117333950474, 8.933117333950474, 8.933117333950474, 8.933117333950474, 8.933117333950474, 8.933117333950474, 8.933117333950474, 8.933117333950474, 8.933117333950474, 8.956260124971072, 8.956260124971072, 8.956260124971072, 8.979402915991669, 9.002545707012267, 9.002545707012267, 9.002545707012267, 9.002545707012267, 9.002545707012267, 9.002545707012267, 9.002545707012267, 9.025688498032864, 9.095116871094653, 9.095116871094653, 9.118259662115252, 9.118259662115252, 9.164545244156445, 9.164545244156445, 9.164545244156445, 9.164545244156445, 9.164545244156445, 9.164545244156445, 9.164545244156445, 9.187688035177043, 9.187688035177043, 9.187688035177043, 9.187688035177043, 9.187688035177043, 9.187688035177043, 9.257116408238833, 9.28025919925943, 9.28025919925943, 9.28025919925943, 9.303401990280028, 9.326544781300624, 9.37283036334182, 9.37283036334182, 9.37283036334182, 9.37283036334182, 9.37283036334182, 9.37283036334182, 9.395973154362416, 9.395973154362416, 9.395973154362416, 9.395973154362416, 9.395973154362416, 9.395973154362416, 9.395973154362416, 9.395973154362416, 9.395973154362416, 9.395973154362416, 9.419115945383014, 9.419115945383014, 9.419115945383014, 9.44225873640361, 9.44225873640361, 9.44225873640361, 9.465401527424207, 9.5116871094654, 9.5116871094654, 9.5116871094654, 9.5116871094654, 9.5116871094654, 9.5116871094654, 9.5116871094654, 9.5116871094654, 9.5116871094654, 9.5116871094654, 9.534829900485999, 9.534829900485999, 9.534829900485999, 9.534829900485999, 9.534829900485999, 9.557972691506595, 9.557972691506595, 9.557972691506595, 9.557972691506595, 9.557972691506595, 9.557972691506595, 9.557972691506595, 9.581115482527194, 9.581115482527194, 9.60425827354779, 9.60425827354779, 9.60425827354779, 9.60425827354779, 9.627401064568387, 9.627401064568387, 9.627401064568387, 9.650543855588985, 9.67368664660958, 9.67368664660958, 9.67368664660958, 9.696829437630178, 9.696829437630178, 9.743115019671372, 9.743115019671372, 9.743115019671372, 9.743115019671372, 9.743115019671372, 9.743115019671372, 9.743115019671372, 9.743115019671372, 9.743115019671372, 9.743115019671372, 9.743115019671372, 9.743115019671372, 9.743115019671372, 9.743115019671372, 9.743115019671372, 9.743115019671372, 9.743115019671372, 9.743115019671372, 9.743115019671372, 9.743115019671372, 9.743115019671372, 9.743115019671372, 9.76625781069197, 9.76625781069197, 9.76625781069197, 9.789400601712567, 9.812543392733165, 9.812543392733165, 9.812543392733165, 9.812543392733165, 9.812543392733165, 9.812543392733165, 9.812543392733165, 9.812543392733165, 9.835686183753761, 9.835686183753761, 9.835686183753761, 9.835686183753761, 9.835686183753761, 9.858828974774356, 9.881971765794955, 9.881971765794955, 9.881971765794955, 9.881971765794955, 9.881971765794955, 9.881971765794955, 9.905114556815551, 9.905114556815551, 9.905114556815551, 9.905114556815551, 9.905114556815551, 9.92825734783615, 9.92825734783615, 9.951400138856746, 9.951400138856746, 9.951400138856746, 9.974542929877343, 9.974542929877343, 9.997685720897941, 10.020828511918538, 10.020828511918538, 10.020828511918538, 10.043971302939134, 10.043971302939134, 10.06711409395973, 10.06711409395973, 10.06711409395973, 10.113399676000926, 10.113399676000926, 10.113399676000926, 10.113399676000926, 10.113399676000926, 10.113399676000926, 10.15968525804212, 10.15968525804212, 10.15968525804212, 10.15968525804212, 10.15968525804212, -0.9731397270321498, -2.890724386354874, -2.9315240599574857, -2.9315240599574857, -2.9315240599574857, -2.9315240599574857, -2.9315240599574857, -2.9315240599574857, -2.9315240599574857, -2.9315240599574857, -2.9315240599574857, -2.9315240599574857, -2.9315240599574857, -2.9315240599574857, -2.9315240599574857, -2.9315240599574857, -2.9315240599574857, -2.9315240599574857, -2.9315240599574857, -2.9315240599574857, -2.9315240599574857, -2.9315240599574857, -2.9315240599574857, -2.9315240599574857, -2.9315240599574857, -2.9315240599574857, -2.9315240599574857, -2.9315240599574857, -2.9315240599574857, -2.972323733560099, -2.972323733560099, -2.972323733560099, -2.972323733560099, -2.972323733560099, -2.972323733560099, -2.972323733560099, -2.972323733560099, -2.972323733560099, -2.972323733560099, -2.972323733560099, -2.972323733560099, -2.972323733560099, -2.972323733560099, -2.972323733560099, -2.972323733560099, -2.972323733560099, -2.972323733560099, -2.972323733560099, -2.972323733560099, -2.972323733560099, -2.972323733560099, -2.972323733560099, -2.972323733560099, -2.972323733560099, -2.972323733560099, -2.972323733560099, -2.972323733560099, -2.972323733560099, -2.972323733560099, -2.972323733560099, -2.972323733560099, -2.972323733560099, -2.972323733560099, -2.972323733560099, -2.972323733560099, -2.972323733560099, -2.972323733560099, -2.972323733560099, -2.972323733560099, -2.972323733560099, -2.972323733560099, -2.972323733560099, -2.972323733560099, -2.972323733560099, -2.972323733560099, -2.972323733560099, -2.972323733560099, -2.972323733560099, -2.972323733560099, -2.972323733560099, -2.972323733560099, -2.972323733560099, -2.972323733560099, -2.972323733560099, -2.972323733560099, -2.972323733560099, -2.972323733560099, -2.972323733560099, -2.972323733560099, -2.972323733560099, -3.0131234071627073, -3.0131234071627073, -3.0131234071627073, -3.0131234071627073, -3.0131234071627073, -3.0131234071627073, -3.0131234071627073, -3.0131234071627073, -3.0131234071627073, -3.0131234071627073, -3.0131234071627073, -3.0131234071627073, -3.0131234071627073, -3.0131234071627073, -3.0131234071627073, -3.0131234071627073, -3.0131234071627073, -3.0131234071627073, -3.0131234071627073, -3.053923080765321, -3.053923080765321, -3.053923080765321, -3.053923080765321, -3.053923080765321, -3.053923080765321, -3.053923080765321, -3.053923080765321, -3.053923080765321, -3.053923080765321, -3.053923080765321, -3.053923080765321, -3.053923080765321, -3.053923080765321, -3.053923080765321, -3.053923080765321, -3.053923080765321, -3.053923080765321, -3.053923080765321, -3.053923080765321, -3.053923080765321, -3.053923080765321, -3.053923080765321, -3.053923080765321, -3.053923080765321, -3.053923080765321, -3.053923080765321, -3.053923080765321, -3.053923080765321, -3.053923080765321, -3.053923080765321, -3.053923080765321, -3.053923080765321, -3.053923080765321, -3.053923080765321, -3.053923080765321, -3.053923080765321, -3.094722754367929, -3.094722754367929, -3.094722754367929, -3.094722754367929, -3.094722754367929, -3.094722754367929, -3.094722754367929, -3.094722754367929, -3.094722754367929, -3.094722754367929, -3.094722754367929, -3.094722754367929, -3.094722754367929, -3.094722754367929, -3.094722754367929, -3.094722754367929, -3.094722754367929, -3.094722754367929, -3.094722754367929, -3.094722754367929, -3.094722754367929, -3.094722754367929, -3.094722754367929, -3.094722754367929, -3.094722754367929, -3.094722754367929, -3.094722754367929, -3.1355224279705425, -3.1355224279705425, -3.1355224279705425, -3.1355224279705425, -3.1355224279705425, -3.1355224279705425, -3.1355224279705425, -3.1355224279705425, -3.1355224279705425, -3.1355224279705425, -3.1355224279705425, -3.1355224279705425, -3.1355224279705425, -3.1355224279705425, -3.1355224279705425, -3.1355224279705425, -3.1355224279705425, -3.1355224279705425, -3.1355224279705425, -3.1355224279705425, -3.1355224279705425, -3.1355224279705425, -3.1355224279705425, -3.1355224279705425, -3.1355224279705425, -3.1355224279705425, -3.1355224279705425, -3.1355224279705425, -3.176322101573154, -3.217121775175764, -3.217121775175764, -3.217121775175764, -3.217121775175764, -3.217121775175764, -3.217121775175764, -3.217121775175764, -3.217121775175764, -3.217121775175764, -3.217121775175764, -3.217121775175764, -3.217121775175764, -3.217121775175764, -3.217121775175764, -3.217121775175764, -3.217121775175764, -3.217121775175764, -3.257921448778376, -3.257921448778376, -3.257921448778376, -3.257921448778376, -3.257921448778376, -3.257921448778376, -3.257921448778376, -3.257921448778376, -3.257921448778376, -3.257921448778376, -3.257921448778376, -3.257921448778376, -3.257921448778376, -3.257921448778376, -3.257921448778376, -3.257921448778376, -3.257921448778376, -3.257921448778376, -3.257921448778376, -3.257921448778376, -3.257921448778376, -3.257921448778376, -3.257921448778376, -3.257921448778376, -3.257921448778376, -3.298721122380986, -3.298721122380986, -3.298721122380986, -3.3395207959835975, -3.3395207959835975, -3.3395207959835975, -3.3395207959835975, -3.3395207959835975, -3.3395207959835975, -3.3395207959835975, -3.3395207959835975, -3.3395207959835975, -3.3395207959835975, -3.3395207959835975, -3.3395207959835975, -3.3395207959835975, -3.3395207959835975, -3.3395207959835975, -3.3395207959835975, -3.3395207959835975, -3.3395207959835975, -3.3395207959835975, -3.3395207959835975, -3.3395207959835975, -3.3395207959835975, -3.3395207959835975, -3.3395207959835975, -3.3395207959835975, -3.3395207959835975, -3.3395207959835975, -3.3395207959835975, -3.3395207959835975, -3.3803204695862092, -3.3803204695862092, -3.3803204695862092, -3.3803204695862092, -3.421120143188819, -3.421120143188819, -3.421120143188819, -3.461919816791431, -3.461919816791431, -3.461919816791431, -3.461919816791431, -3.4387770257708326, -3.4387770257708326, -3.4795766993734425, -3.4795766993734425, -3.4795766993734425, -3.4795766993734425, -3.4795766993734425, -3.4795766993734425, -3.4795766993734425, -3.4795766993734425, -3.4795766993734425, -3.4795766993734425, -3.5611760465786677, -3.5611760465786677, -3.6019757201812777, -3.6019757201812777, -3.6019757201812777, -3.6019757201812777, -3.6019757201812777, -3.6019757201812777, -3.578832929160681, -3.578832929160681, -3.578832929160681, -3.578832929160681, -3.578832929160681, -3.578832929160681, -3.578832929160681, -3.578832929160681, -3.578832929160681, -3.578832929160681, -3.578832929160681, -3.619632602763293, -3.619632602763293, -3.619632602763293, -3.619632602763293, -3.619632602763293, -3.619632602763293, -3.619632602763293, -3.619632602763293, -3.619632602763293, -3.619632602763293, -3.619632602763293, -3.596489811742696, -3.637289485345306, -3.637289485345306, -3.637289485345306, -3.637289485345306, -3.6141466943247096, -3.6141466943247096, -3.6141466943247096, -3.6141466943247096, -3.6141466943247096, -3.6141466943247096, -3.6141466943247096, -3.6141466943247096, -3.6141466943247096, -3.6141466943247096, -3.6141466943247096, -3.591003903304113, -3.591003903304113, -3.591003903304113, -3.591003903304113, -3.591003903304113, -3.591003903304113, -3.591003903304113, -3.591003903304113, -3.6318035769067247, -3.6318035769067247, -3.6086607858861264, -3.6086607858861264, -3.58551799486553, -3.5623752038449314, -3.5623752038449314, -3.5623752038449314, -3.5623752038449314, -3.5623752038449314, -3.5623752038449314, -3.539232412824335, -3.539232412824335, -3.539232412824335, -3.5160896218037383, -3.49294683078314, -3.49294683078314, -3.49294683078314, -3.49294683078314, -3.5337465043857517, -3.5337465043857517, -3.5337465043857517, -3.5337465043857517, -3.5337465043857517, -3.5337465043857517, -3.5337465043857517, -3.5337465043857517, -3.5337465043857517, -3.5337465043857517, -3.510603713365157, -3.510603713365157, -3.510603713365157, -3.510603713365157, -3.510603713365157, -3.510603713365157, -3.510603713365157, -3.4874609223445585, -3.4874609223445585, -3.4874609223445585, -3.5282605959471685, -3.5282605959471685, -3.5282605959471685, -3.5282605959471685, -3.5282605959471685, -3.5282605959471685, -3.5282605959471685, -3.505117804926572, -3.4819750139059753, -3.4819750139059753, -3.4819750139059753, -3.4819750139059753, -3.4819750139059753, -3.4819750139059753, -3.4819750139059753, -3.4819750139059753, -3.4819750139059753, -3.4819750139059753, -3.4819750139059753, -3.4819750139059753, -3.458832222885377, -3.458832222885377, -3.458832222885377, -3.458832222885377, -3.458832222885377, -3.4356894318647804, -3.4356894318647804, -3.4533463144467937, -3.4533463144467937, -3.4533463144467937, -3.4941459880494037, -3.4941459880494037, -3.5349456616520154, -3.5349456616520154, -3.511802870631419, -3.4886600796108223, -3.4886600796108223, -3.4886600796108223, -3.4886600796108223, -3.4886600796108223, -3.4886600796108223, -3.4886600796108223, -3.4655172885902257, -3.4655172885902257, -3.4655172885902257, -3.4655172885902257, -3.4655172885902257, -3.4655172885902257, -3.4655172885902257, -3.4655172885902257, -3.4655172885902257, -3.4655172885902257, -3.4655172885902257, -3.4655172885902257, -3.4655172885902257, -3.4655172885902257, -3.4655172885902257, -3.4655172885902257, -3.4655172885902257, -3.4655172885902257, -3.4655172885902257, -3.4655172885902257, -3.4655172885902257, -3.4655172885902257, -3.4655172885902257, -3.4655172885902257, -3.4655172885902257, -3.442374497569629, -3.442374497569629, -3.442374497569629, -3.442374497569629, -3.442374497569629, -3.442374497569629, -3.442374497569629, -3.442374497569629, -3.442374497569629, -3.442374497569629, -3.442374497569629, -3.442374497569629, -3.442374497569629, -3.442374497569629, -3.442374497569629, -3.4192317065490307, -3.4192317065490307, -3.4192317065490307, -3.4192317065490307, -3.4192317065490307, -3.4600313801516442, -3.4600313801516442, -3.4600313801516442, -3.477688262733656, -3.477688262733656, -3.477688262733656, -3.431402680692461, -3.431402680692461, -3.431402680692461, -3.431402680692461, -3.431402680692461, -3.4082598896718643, -3.4082598896718643, -3.4082598896718643, -3.4082598896718643, -3.4082598896718643, -3.3851170986512678, -3.3851170986512678, -3.3851170986512678, -3.3851170986512678, -3.3851170986512678, -3.361974307630671, -3.361974307630671, -3.361974307630671, -3.361974307630671, -3.3156887255894762, -3.3156887255894762, -3.3156887255894762, -3.3156887255894762, -3.3156887255894762, -3.3156887255894762, -3.3156887255894762, -3.3156887255894762, -3.3156887255894762, -3.3564883991920897, -3.3564883991920897, -3.333345608171493, -3.333345608171493, -3.333345608171493, -3.333345608171493, -3.374145281774105, -3.374145281774105, -3.36865937333552, -3.36865937333552, -3.322373791294325, -3.322373791294325, -3.322373791294325, -3.322373791294325, -3.322373791294325, -3.322373791294325, -3.322373791294325, -3.322373791294325, -3.322373791294325, -3.2992310002737284, -3.34003067387634, -3.34003067387634, -3.34003067387634, -3.34003067387634, -3.3168878828557435, -3.3168878828557435, -3.293745091835147, -3.293745091835147, -3.293745091835147, -3.293745091835147, -3.293745091835147, -3.293745091835147, -3.2706023008145504, -3.2706023008145504, -3.2706023008145504, -3.2706023008145504, -3.2706023008145504, -3.2706023008145504, -3.2706023008145504, -3.2706023008145504, -3.2706023008145504, -3.2706023008145504, -3.2706023008145504, -3.2706023008145504, -3.247459509793952, -3.2243167187733555, -3.2243167187733555, -3.2243167187733555, -3.2243167187733555, -3.2651163923759654, -3.2651163923759654, -3.2651163923759654, -3.2651163923759654, -3.2651163923759654, -3.259630483937382, -3.2364876929167856, -3.2364876929167856, -3.231001784478204, -3.231001784478204, -3.231001784478204, -3.231001784478204, -3.271801458080814, -3.271801458080814, -3.271801458080814, -3.271801458080814, -3.271801458080814, -3.271801458080814, -3.271801458080814, -3.271801458080814, -3.271801458080814, -3.271801458080814, -3.271801458080814, -3.271801458080814, -3.2486586670602158, -3.225515876039619, -3.225515876039619, -3.225515876039619, -3.225515876039619, -3.225515876039619, -3.2663155496422327, -3.2663155496422327, -3.243172758621636, -3.243172758621636, -3.243172758621636, -3.243172758621636, -3.243172758621636, -3.243172758621636, -3.243172758621636, -3.2200299676010378, -3.2200299676010378, -3.260829641203646, -3.260829641203646, -3.3016293148062594, -3.3016293148062594, -3.3016293148062594, -3.3016293148062594, -3.278486523785663, -3.278486523785663, -3.278486523785663, -3.278486523785663, -3.278486523785663, -3.278486523785663, -3.278486523785663, -3.3192861973882746, -3.3192861973882746, -3.3192861973882746, -3.3192861973882746, -3.296143406367676, -3.296143406367676, -3.2730006153470796, -3.2730006153470796, -3.249857824326483, -3.2267150333058865, -3.2267150333058865, -3.2267150333058865, -3.2267150333058865, -3.2267150333058865, -3.20357224228529, -3.2443719158879, -3.2443719158879, -3.2620287984699132, -3.302828472072523, -3.302828472072523, -3.302828472072523, -3.302828472072523, -3.2796856810519266, -3.2796856810519266, -3.2796856810519266, -3.2796856810519266, -3.2796856810519266, -3.2796856810519266, -3.2796856810519266, -3.2796856810519266, -3.25654289003133, -3.2973425636339417, -3.2973425636339417, -3.2973425636339417, -3.2741997726133434, -3.2741997726133434, -3.251056981592747, -3.2279141905721502, -3.2047713995515537, -3.2047713995515537, -3.2047713995515537, -3.181628608530957, -3.1584858175103587, -3.1584858175103587, -3.1584858175103587, -3.1584858175103587, -3.1584858175103587, -3.1584858175103587, -3.1584858175103587, -3.1584858175103587, -3.135343026489762, -3.135343026489762, -3.135343026489762, -3.135343026489762, -3.135343026489762, -3.135343026489762, -3.0890574444485672, -3.0890574444485672, -3.0890574444485672, -3.0890574444485672, -3.1067143270305824, -3.1067143270305824, -3.1067143270305824, -3.1067143270305824, -3.1067143270305824, -3.083571536009984, -3.083571536009984, -3.083571536009984, -3.083571536009984, -3.083571536009984, -3.083571536009984, -3.083571536009984, -3.0604287449893874, -3.037285953968791, -3.037285953968791, -3.037285953968791, -3.037285953968791, -3.0141431629481943, -2.9910003719275977, -2.9678575809069994, -2.944714789886403, -2.944714789886403, -2.9855144634890127, -2.9855144634890127, -2.9623716724684144, -2.9623716724684144, -2.9623716724684144, -2.939228881447818, -2.939228881447818, -2.939228881447818, -2.939228881447818, -2.9160860904272212, -2.9160860904272212, -2.9160860904272212, -2.956885764029833, -2.956885764029833, -2.956885764029833, -2.997685437632443, -2.997685437632443, -2.997685437632443, -2.9745426466118445, -2.9745426466118445, -2.9745426466118445, -2.9745426466118445, -2.9745426466118445, -2.9745426466118445, -3.015342320214458, -3.015342320214458, -3.015342320214458, -3.015342320214458, -3.015342320214458, -3.015342320214458, -3.0561419938170697, -3.0561419938170697, -3.0561419938170697, -3.0561419938170697, -3.0969416674196797, -3.0969416674196797, -3.0969416674196797, -3.073798876399085, -3.073798876399085, -3.1145985500016966, -3.1145985500016966, -3.1145985500016966, -3.1145985500016966, -3.1145985500016966, -3.1145985500016966, -3.1145985500016966, -3.0914557589810983, -3.045170176939905, -3.045170176939905, -3.045170176939905, -3.045170176939905, -3.045170176939905, -3.0220273859193068, -3.0220273859193068, -3.0220273859193068, -3.0220273859193068, -3.0220273859193068, -3.0220273859193068, -3.0220273859193068, -3.0220273859193068, -3.0220273859193068, -2.99888459489871, -2.99888459489871, -2.99888459489871, -3.0165414774807218, -3.0165414774807218, -3.0165414774807218, -3.0165414774807218, -2.993398686460125, -2.993398686460125, -2.993398686460125, -2.9702558954395286, -2.947113104418932, -2.947113104418932, -2.947113104418932, -2.947113104418932, -2.947113104418932, -2.947113104418932, -2.9239703133983355, -2.9239703133983355, -2.9239703133983355, -2.8776847313571405, -2.8953416139391557, -2.8953416139391557, -2.8953416139391557, -2.8953416139391557, -2.8953416139391557, -2.8953416139391557, -2.8953416139391557, -2.8953416139391557, -2.8953416139391557, -2.8953416139391557, -2.8953416139391557, -2.8721988229185573, -2.8721988229185573, -2.8721988229185573, -2.912998496521169, -2.912998496521169, -2.912998496521169, -2.912998496521169, -2.912998496521169, -2.912998496521169, -2.912998496521169, -2.912998496521169, -2.912998496521169, -2.912998496521169, -2.9945978437263907, -2.9945978437263907, -3.0353975173290006, -3.0353975173290006, -3.0353975173290006, -3.0353975173290006, -3.0353975173290006, -3.0353975173290006, -3.0353975173290006, -3.0353975173290006, -3.0353975173290006, -3.012254726308404, -3.012254726308404, -3.012254726308404, -3.012254726308404, -2.9891119352878075, -3.029911608890419, -3.029911608890419, -3.006768817869821, -3.006768817869821, -3.006768817869821, -3.006768817869821, -3.006768817869821, -3.006768817869821, -3.006768817869821, -3.006768817869821, -2.983626026849226, -2.9604832358286277, -2.9604832358286277, -2.9604832358286277, -2.9604832358286277, -2.9604832358286277, -2.937340444808031, -2.937340444808031, -2.9781401184106446, -2.9781401184106446, -2.9781401184106446, -2.9781401184106446, -3.018939792013253, -3.018939792013253, -3.018939792013253, -3.018939792013253, -2.972654209972058, -2.9495114189514613, -2.9495114189514613, -2.9495114189514613, -2.9495114189514613, -2.9495114189514613, -2.9495114189514613, -2.9495114189514613, -2.9495114189514613, -2.9495114189514613, -2.9495114189514613, -2.990311092554075, -2.990311092554075, -2.990311092554075, -2.990311092554075, -2.990311092554075, -2.990311092554075, -2.990311092554075, -2.990311092554075, -2.990311092554075, -2.990311092554075, -2.990311092554075, -2.9671683015334764, -2.9671683015334764, -2.9671683015334764, -2.9671683015334764, -2.9671683015334764, -2.9671683015334764, -2.9671683015334764, -2.94402551051288, -2.9208827194922833, -2.897739928471685, -2.897739928471685, -2.897739928471685, -2.897739928471685, -2.897739928471685, -2.897739928471685, -2.897739928471685, -2.897739928471685, -2.897739928471685, -2.8745971374510884, -2.8745971374510884, -2.8745971374510884, -2.8745971374510884, -2.8745971374510884, -2.8691112290125016, -2.8691112290125016, -2.8691112290125016, -2.8691112290125016, -2.8691112290125016, -2.8691112290125016, -2.8691112290125016, -2.8691112290125016, -2.8691112290125016, -2.845968437991907, -2.845968437991907, -2.845968437991907, -2.845968437991907, -2.845968437991907, -2.82282564697131, -2.82282564697131, -2.82282564697131, -2.8636253205739237, -2.8636253205739237, -2.8636253205739237, -2.8636253205739237, -2.8636253205739237, -2.9044249941765354, -2.9044249941765354, -2.881282203155939, -2.881282203155939, -2.881282203155939, -2.881282203155939, -2.881282203155939, -2.881282203155939, -2.881282203155939, -2.881282203155939, -2.881282203155939, -2.881282203155939, -2.8581394121353405, -2.8581394121353405, -2.8581394121353405, -2.8581394121353405, -2.8581394121353405, -2.8581394121353405, -2.8581394121353405, -2.8581394121353405, -2.834996621114744, -2.834996621114744, -2.834996621114744, -2.834996621114744, -2.834996621114744, -2.834996621114744, -2.875796294717354, -2.8526535036967555, -2.8526535036967555, -2.783225130634964, -2.783225130634964, -2.783225130634964, -2.783225130634964, -2.7600823396143674, -2.7600823396143674, -2.7600823396143674, -2.7600823396143674, -2.736939548593769, -2.736939548593769, -2.736939548593769, -2.736939548593769, -2.777739222196381, -2.777739222196381, -2.777739222196381, -2.777739222196381, -2.7545964311757842, -2.7545964311757842, -2.7953961047783977, -2.7953961047783977, -2.7953961047783977, -2.7953961047783977, -2.7953961047783977, -2.772253313757801, -2.772253313757801, -2.772253313757801, -2.772253313757801, -2.772253313757801, -2.772253313757801, -2.7259677317166062, -2.7259677317166062, -2.7259677317166062, -2.7667674053192144, -2.743624614298618, -2.743624614298618, -2.743624614298618, -2.7204818232780195, -2.7204818232780195, -2.6973390322574247, -2.6973390322574247, -2.6973390322574247, -2.6973390322574247, -2.6973390322574247, -2.674196241236828, -2.674196241236828, -2.674196241236828, -2.6510534502162315, -2.6510534502162315, -2.6510534502162315, -2.6510534502162315, -2.691853123818845, -2.691853123818845, -2.691853123818845, -2.691853123818845, -2.691853123818845, -2.691853123818845, -2.691853123818845, -2.6687103327982467, -2.64556754177765, -2.64556754177765, -2.64556754177765, -2.64556754177765, -2.64556754177765, -2.6863672153802582, -2.6863672153802582, -2.6863672153802582, -2.6863672153802582, -2.6632244243596617, -2.6632244243596617, -2.6632244243596617, -2.6632244243596617, -2.6632244243596617, -2.6632244243596617, -2.6632244243596617, -2.6632244243596617, -2.6632244243596617, -2.6400816333390633, -2.6169388423184667, -2.6169388423184667, -2.6169388423184667, -2.6169388423184667, -2.6577385159210802, -2.6577385159210802, -2.6577385159210802, -2.6577385159210802, -2.69853818952369, -2.69853818952369, -2.69853818952369, -2.69853818952369, -2.69853818952369, -2.675395398503092, -2.675395398503092, -2.675395398503092, -2.675395398503092, -2.675395398503092, -2.675395398503092, -2.675395398503092, -2.675395398503092, -2.6522526074824953, -2.6522526074824953, -2.6522526074824953, -2.6291098164618987, -2.6059670254413003, -2.6059670254413003, -2.6059670254413003, -2.6059670254413003, -2.6059670254413003, -2.559681443400107, -2.559681443400107, -2.559681443400107, -2.559681443400107, -2.559681443400107, -2.559681443400107, -2.559681443400107, -2.536538652379509, -2.536538652379509, -2.5133958613589122, -2.5133958613589122, -2.5133958613589122, -2.490253070338314, -2.490253070338314, -2.490253070338314, -2.490253070338314, -2.490253070338314, -2.490253070338314, -2.4439674882971225, -2.4439674882971225, -2.4439674882971225, -2.4439674882971225, -2.4847671618997325, -2.4847671618997325, -2.4847671618997325, -2.4847671618997325, -2.4847671618997325, -2.525566835502346, -2.525566835502346, -2.525566835502346, -2.525566835502346, -2.525566835502346, -2.525566835502346, -2.525566835502346, -2.525566835502346, -2.5024240444817494, -2.479281253461153, -2.432995671419958, -2.432995671419958, -2.432995671419958, -2.432995671419958, -2.432995671419958, -2.432995671419958, -2.432995671419958, -2.4098528803993595, -2.4506525540019695, -2.4506525540019695, -2.4506525540019695, -2.4506525540019695, -2.4506525540019695, -2.4506525540019695, -2.4506525540019695, -2.4506525540019695, -2.4506525540019695, -2.4506525540019695, -2.427509762981373, -2.427509762981373, -2.4043669719607763, -2.4043669719607763, -2.4043669719607763, -2.381224180940178, -2.381224180940178, -2.3580813899195814, -2.3580813899195814, -2.28865301685779, -2.28865301685779, -2.28865301685779, -2.28865301685779, -2.28865301685779, -2.28865301685779, -2.28865301685779, -2.2655102258371915, -2.2655102258371915, -2.2655102258371915, -2.2655102258371915, -2.2655102258371915, -2.2655102258371915, -2.2655102258371915, -2.306309899439805, -2.306309899439805, -2.2831671084192084, -2.2831671084192084, -2.2831671084192084, -2.2831671084192084, -2.3239667820218184, -2.3239667820218184, -2.3239667820218184, -2.3239667820218184, -2.3239667820218184, -2.3239667820218184, -2.3239667820218184, -2.3239667820218184, -2.300823991001222, -2.300823991001222, -2.2953380825626386, -2.2953380825626386, -2.272195291542042, -2.2490525005214455, -2.2027669184802505, -2.2027669184802505, -2.2027669184802505, -2.1564813364390556, -2.1564813364390556, -2.1564813364390556, -2.1564813364390556, -2.1564813364390556, -2.1101957543978607, -2.1101957543978607, -2.1101957543978607, -2.1101957543978607, -2.150995428000474, -2.150995428000474, -2.1278526369798776, -2.1278526369798776, -2.104709845959281, -2.104709845959281, -2.104709845959281, -2.104709845959281, -2.104709845959281, -2.104709845959281, -2.104709845959281, -2.104709845959281, -2.104709845959281, -2.104709845959281, -2.0815670549386827, -2.0815670549386827, -2.0815670549386827, -2.0815670549386827, -2.0815670549386827, -2.0815670549386827, -2.0815670549386827, -2.0815670549386827, -2.058424263918086, -2.058424263918086, -2.058424263918086, -2.058424263918086, -2.058424263918086, -2.0352814728974895, -2.0352814728974895, -2.0352814728974895, -2.0352814728974895, -2.0352814728974895, -2.0352814728974895, -2.0352814728974895, -2.0352814728974895, -2.0352814728974895, -2.0352814728974895, -2.0352814728974895, -2.0760811465000995, -2.0760811465000995, -2.0760811465000995, -2.093738029082111, -2.093738029082111, -2.1345377026847245, -2.1345377026847245, -2.1345377026847245, -2.1345377026847245, -2.1345377026847245, -2.1345377026847245, -2.111394911664128, -2.111394911664128, -2.111394911664128, -2.111394911664128, -2.105909003225543, -2.105909003225543, -2.123565885807558, -2.123565885807558, -2.123565885807558, -2.123565885807558, -2.1004230947869615, -2.118079977368975, -2.0949371863483766, -2.0949371863483766, -2.0949371863483766, -2.0949371863483766, -2.0949371863483766, -2.07179439532778, -2.1125940689303935, -2.1125940689303935, -2.1125940689303935, -2.1125940689303935, -2.1125940689303935, -2.1125940689303935, -2.153393742533007, -2.1941934161356134, -2.171050625115015, -2.171050625115015, -2.171050625115015, -2.171050625115015, -2.171050625115015, -2.1479078340944184, -2.1479078340944184, -2.124765043073822, -2.124765043073822, -2.124765043073822, -2.124765043073822, -2.1016222520532235, -2.078479461032627, -2.078479461032627, -2.078479461032627, -2.1192791346352404, -2.096136343614642, -2.096136343614642, -2.096136343614642, -2.096136343614642, -2.096136343614642, -2.096136343614642, -2.096136343614642, -2.096136343614642, -2.096136343614642, -2.096136343614642, -2.096136343614642, -2.096136343614642, -2.096136343614642, -2.096136343614642, -2.096136343614642, -2.096136343614642, -2.096136343614642, -2.096136343614642, -2.096136343614642, -2.096136343614642, -2.096136343614642, -2.096136343614642, -2.096136343614642, -2.096136343614642, -2.096136343614642, -2.096136343614642, -2.136936017217252, -2.2185353644224755, -2.2185353644224755, -2.2185353644224755, -2.2185353644224755, -2.2185353644224755, -2.2185353644224755, -2.2185353644224755, -2.2593350380250854, -2.2593350380250854, -2.2130494559838922, -2.2130494559838922, -2.2130494559838922, -2.189906664963294, -2.1436210829221007, -2.1436210829221007, -2.1436210829221007, -2.1436210829221007, -2.1204782919015024, -2.161277965504116, -2.161277965504116, -2.161277965504116, -2.1381351744835193, -2.1149923834629245, -2.1149923834629245, -2.1149923834629245, -2.1557920570655345, -2.1557920570655345, -2.1557920570655345, -2.1557920570655345, -2.1557920570655345, -2.1095064750243395, -2.1095064750243395, -2.1503061486269495, -2.1503061486269495, -2.1503061486269495, -2.1503061486269495, -2.127163357606353, -2.127163357606353, -2.127163357606353, -2.127163357606353, -2.127163357606353, -2.1040205665857563, -2.1040205665857563, -2.1040205665857563, -2.1040205665857563, -2.1040205665857563, -2.1040205665857563, -2.1040205665857563, -2.1040205665857563, -2.0577349845445614, -2.0577349845445614, -2.0577349845445614, -2.034592193523963, -2.034592193523963, -2.034592193523963, -2.034592193523963, -2.0114494025033665, -2.05224907610598, -2.05224907610598, -2.005963494064785, -2.005963494064785, -2.005963494064785, -2.005963494064785, -2.005963494064785, -2.005963494064785, -2.005963494064785, -2.005963494064785, -2.005963494064785, -1.9828207030441884, -2.0236203766467984, -2.0236203766467984, -2.0236203766467984, -2.0236203766467984, -2.0236203766467984, -2.0236203766467984, -2.0236203766467984, -1.9773347946056035, -1.9773347946056035, -1.9773347946056035, -1.9773347946056035, -1.9541920035850069, -1.9541920035850069, -1.9541920035850069, -1.9541920035850069, -1.9541920035850069, -1.9541920035850069, -1.9541920035850069, -1.9541920035850069, -1.9541920035850069, -1.9310492125644085, -1.9310492125644085, -1.9310492125644085, -1.9310492125644085, -1.9310492125644085, -1.9310492125644085, -1.9310492125644085, -1.971848886167022, -1.971848886167022, -1.971848886167022, -1.971848886167022, -2.012648559769632, -2.012648559769632, -2.012648559769632, -2.012648559769632, -1.9895057687490354, -1.9895057687490354, -1.9895057687490354, -1.9895057687490354, -1.9895057687490354, -1.9895057687490354, -1.9895057687490354, -1.9663629777284406, -1.9663629777284406, -1.943220186707844, -1.943220186707844, -1.943220186707844, -1.943220186707844, -1.943220186707844, -1.9200773956872474, -1.9200773956872474, -1.9200773956872474, -1.9200773956872474, -1.896934604666649, -1.937734278269259, -1.937734278269259, -1.937734278269259, -1.937734278269259, -1.937734278269259, -1.9785339518718725, -1.9785339518718725, -1.9785339518718725, -1.9785339518718725, -1.9785339518718725, -1.955391160851276, -1.955391160851276, -1.955391160851276, -1.955391160851276, -1.996190834453886, -1.996190834453886, -1.996190834453886, -1.996190834453886, -2.036990508056496, -2.036990508056496, -2.0138477170358975, -2.0138477170358975, -2.0138477170358975, -2.0138477170358975, -2.0138477170358975, -1.990704926015301, -1.990704926015301, -1.990704926015301, -1.990704926015301, -1.9675621349947043, -1.9675621349947043, -1.9675621349947043, -1.9675621349947043, -1.9675621349947043, -1.9675621349947043, -1.9675621349947043, -1.9675621349947043, -1.9675621349947043, -1.9675621349947043, -1.944419343974106, -1.9212765529535094, -1.9212765529535094, -1.9212765529535094, -1.9212765529535094, -1.962076226556123, -1.915790644514928, -1.915790644514928, -1.915790644514928, -1.956590318117538, -1.956590318117538, -1.956590318117538, -1.9742472006995513, -1.9742472006995513, -1.9742472006995513, -1.9048188276377598, -1.9048188276377598, -1.8816760366171614, -1.8816760366171614, -1.8816760366171614, -1.83539045457597, -1.83539045457597, -1.7659620815141785, -1.7659620815141785, -1.7659620815141785, -1.742819290493582, -1.742819290493582, -1.7196764994729836, -1.7196764994729836, -1.696533708452387, -1.737333382054997, -1.737333382054997, -1.737333382054997, -1.7781330556576105, -1.8773892854448455, -1.8773892854448455, -1.8773892854448455, -1.854246494424249, -1.854246494424249, -1.854246494424249, -1.8950461680268589, -1.8950461680268589, -1.9358458416294724, -1.9358458416294724, -1.9766455152320823, -1.9303599331908874, -1.9303599331908874, -1.9303599331908874, -1.9303599331908874, -1.9303599331908874, -1.9072171421702908, -1.9480168157729008, -1.9480168157729008, -1.9480168157729008, -1.9888164893755143, -1.9193881163137227, -1.9370449988957361, -1.9139022078751395, -1.890759416854543, -1.890759416854543, -1.890759416854543, -1.8676166258339464, -1.8444738348133498, -1.8213310437927532, -1.8213310437927532, -1.8213310437927532, -1.8213310437927532, -1.8213310437927532, -1.8621307173953632, -1.8621307173953632, -1.7695595533129733, -1.7695595533129733, -1.7695595533129733, -1.7232739712717766, -1.717788062833197, -1.6891593633740136, -1.666016572353417, -1.666016572353417, -1.666016572353417, -1.5965881992916309, -1.6142450818736442, -1.6142450818736442, -1.6142450818736442, -1.5856163824144645, -1.5856163824144645, -1.5393308003732677, -1.4930452183320746, -1.469902427311478, -1.469902427311478, -1.4644165188728913, -1.5460158660781147, -1.5460158660781147, -1.5868155396807246, -1.5405299576395315, -1.5119012581803517, -1.4887584671597551, -1.4656156761391586, -1.442472885118562, -1.367558603618189, -1.3212730215769923, -1.2981302305563958, -1.2749874395357992, -1.3157871131384127, -1.2695015310972195, -1.2232159490560228, -1.2000731580354262, -1.2000731580354262, -1.2353869231994565, -1.0733873860552734, -0.9808162219728835, -1.0337868697189272, -1.0337868697189272, -1.1153862169241506, -1.1275571910675772, -1.1518991393544447, -1.2225266696824981, -1.026412524640559, -1.1025259634071958, -1.0221257734682396, -1.2041805077269636, -1.3874343992519549, -1.4945748520103024, -1.9469687334378243, -1.8897113345194612, -1.3889640329301791, -1.4961044856885337, -1.5483858540610527, -1.3424990494082074, -1.3375230188623668, 0], [0, 0, 0, 0, 0, 0, 0, 0, 0, 0, 0, 0, 0, 0, 0, 0, 0, 0, 0, 0, 0, 0, 0, 0, 0, 0, 0, 0, 0, 0, 0, 0, 0, 0, 0, 0, 0, 0, 0, 0, 0, 0, 0, 0, 0, 0, 0, 0, 0, 0, 0, 0, 0, 0, 0, 0, 0, 0, 0, 0, 0, 0, 0, 0, 0, 0, 0, 0, 0, 0, 0, 0, 0, 0, 0, 0, 0, 0, 0, 0, 0, 0, 0, 0, 0, 0, 0, 0, 0, 0, 0, 0, 0, 0, 0, 0, 0, 0, 0, 0, 0, 0, 0, 0, 0, 0, 0, 0, 0, 0, 0, 0, 0, 0, 0, 0, 0, 0, 0, 0, 0, 0, 0, 0, 0, 0, 0, 0, 0, 0, 0, 0, 0, 0, 0, 0, 0, 0, 0, 0, 0, 0, 0, 0, 0, 0, 0, 0, 0, 0, 0, 0, 0, 0, 0, 0, 0, 0, 0, 0, 0, 0, 0, 0, 0, 0, 0, 0, 0, 0, 0, 0, 0, 0, 0, 0, 0, 0, 0, 0, 0, 0, 0, 0, 0, 0, 0, 0, 0, 0, 0, 0, 0, 0, 0, 0, 0, 0, 0, 0, 0, 0, 0, 0, 0, 0, 0, 0, 0, 0, 0, 0, 0, 0, 0, 0, 0, 0, 0, 0, 0, 0, 0, 0, 0, 0, 0, 0, 0, 0, 0, 0, 0, 0, 0, 0, 0, 0, 0, 0, 0, 0, 0, 0, 0, 0, 0, 0, 0, 0, 0, 0, 0, 0, 0, 0, 0, 0, 0, 0, 0, 0, 0, 0, 0, 0, 0, 0, 0, 0, 0, 0, 0, 0, 0, 0, 0, 0, 0, 0, 0, 0, 0, 0, 0, 0, 0, 0, 0, 0, 0, 0, 0, 0, 0, 0, 0, 0, 0, 0, 0, 0, 0, 0, 0, 0, 0, 0, 0, 0, 0, 0, 0, 0, 0, 0, 0, 0, 0, 0, 0, 0, 0, 0, 0, 0, 0, 0, 0, 0, 0, 0, 0, 0, 0, 0, 0, 0, 0, 0, 0, 0, 0, 0, 0, 0, 0, 0, 0, 0, 0, 0, 0, 0, 0, 0, 0, 0, 0, 0, 0, 0, 0, 0, 0, 0, 0, 0, 0, 0, 0, 0, 0, 0, 0, 0, 0, 0, 0, 0, 0, 0, 0, 0, 0, 0, 0, 0, 0, 0, 0, 0, 0, 0, 0, 0, 0, 0, 0, 0, 0, 0, 0, 0, 0, 0, 0, 0, 0, 0, 0, 0, 0, 0, 0, 0, 0, 0, 0, 0, 0, 0, 0, 0, 0, 0, 0, 0, 0, 0, 0, 0, 0, 0, 0, 0, 0, 0, 0, 0, 0, 0, 0, 0, 0, 0, 0, 0, 0, 0, 0, 0, 0, 0, 0, 0, 0, 0, 0, 0, 0, 0, 0, 0, 0, 0, 0, 0, 0, 0, 0, 0, 0, 0, 0, 0, 0, 0, 0, 0, 0, 0, 0, 0, 0, 0, 0, 0, 0, 0, 0, 0, 0, 0, 0, 0, 0, 0, 0, 0, 0, 0, 0, 0, 0, 0, 0, 0, 0, 0, 0, 0, 0, 0, 0, 0, 0, 0, 0, 0, 0, 0, 0, 0, 0, 0, 0, 0, 0, 0, 0, 0, 0, 0, 0, 0, 0, 0, 0, 0, 0, 0, 0, 0, 0, 0, 0, 0, 0, 0, 0, 0, 0, 0, 0, 0, 0, 0, 0, 0, 0, 0, 0, 0, 0, 0, 0, 0, 0, 0, 0, 0, 0, 0, 0, 0, 0, 0, 0, 0, 0, 0, 0, 0, 0, 0, 0, 0, 0, 0, 0, 0, 0, 0, 0, 0, 0, 0, 0, 0, 0, 0, 0, 0, 0, 0, 0, 0, 0, 0, 0, 0, 0, 0, 0, 0, 0, 0, 0, 0, 0, 0, 0, 0, 0, 0, 0, 0, 0, 0, 0, 0, 0, 0, 0, 0, 0, 0, 0, 0, 0, 0, 0, 0, 0, 0, 0, 0, 0, 0, 0, 0, 0, 0, 0, 0, 0, 0, 0, 0, 0, 0, 0, 0, 0, 0, 0, 0, 0, 0, 0, 0, 0, 0, 0, 0, 0, 0, 0, 0, 0, 0, 0, 0, 0, 0, 0, 0, 0, 0, 0, 0, 0, 0, 0, 0, 0, 0, 0, 0, 0, 0, 0, 0, 0, 0, 0, 0, 0, 0, 0, 0, 0, 0, 0, 0, 0, 0, 0, 0, 0, 0, 0, 0, 0, 0, 0, 0, 0, 0, 0, 0, 0, 0, 0, 0, 0, 0, 0, 0, 0, 0, 0, 0, 0, 0, 0, 0, 0, 0, 0, 0, 0, 0, 0, 0, 0, 0, 0, 0, 0, 0, 0, 0, 0, 0, 0, 0, 0, 0, 0, 0, 0, 0, 0, 0, 0, 0, 0, 0, 0, 0, 0, 0, 0, 0, 0, 0, 0, 0, 0, 0, 0, 0, 0, 0, 0, 0, 0, 0, 0, 0, 0, 0, 0, 0, 0, 0, 0, 0, 0, 0, 0, 0, 0, 0, 0, 0, 0, 0, 0, 0, 0, 0, 0, 0, 0, 0, 0, 0, 0, 0, 0, 0, 0, 0, 0, 0, 0, 0, 0, 0, 0, 0, 0, 0, 0, 0, 0, 0, 0, 0, 0, 0, 0, 0, 0, 0, 0, 0, 0, 0, 0, 0, 0, 0, 0, 0, 0, 0, 0, 0, 0, 0, 0, 0, 0, 0, 0, 0, 0, 0, 0, 0, 0, 0, 0, 0, 0, 0, 0, 0, 0, 0, 0, 0, 0, 0, 0, 0, 0, 0, 0, 0, 0, 0, 0, 0, 0, 0, 0, 0, 0, 0, 0, 0, 0, 0, 0, 0, 0, 0, 0, 0, 0, 0, 0, 0, 0, 0, 0, 0, 0, 0, 0, 0, 0, 0, 0, 0, 0, 0, 0, 0, 0, 0, 0, 0, 0, 0, 0, 0, 0, 0, 0, 0, 0, 0, 0, 0, 0, 0, 0, 0, 0, 0, 0, 0, 0, 0, 0, 0, 0, 0, 0, 0, 0, 0, 0, 0, 0, 0, 0, 0, 0, 0, 0, 0, 0, 0, 0, 0, 0, 0, 0, 0, 0, 0, 0, 0, 0, 0, 0, 0, 0, 0, 0, 0, 0, 0, 0, 0, 0, 0, 0, 0, 0, 0, 0, 0, 0, 0, 0, 0, 0, 0, 0, 0, 0, 0, 0, 0, 0, 0, 0, 0, 0, 0, 0, 0, 0, 0, 0, 0, 0, 0, 0, 0, 0, 0, 0, 0, 0, 0, 0, 0, 0, 0, 0, 0, 0, 0, 0, 0, 0, 0, 0, 0, 0, 0, 0, 0, 0, 0, 0, 0, 0, 0, 0, 0, 0, 0, 0, 0, 0, 0, 0, 0, 0, 0, 0, 0, 0, 0, 0, 0, 0, 0, 0, 0, 0, 0, 0, 0, 0, 0, 0, 0, 0, 0, 0, 0, 0, 0, 0, 0, 0, 0, 0, 0, 0, 0, 0, 0, 0, 0, 0, 0, 0, 0, 0, 0, 0, 0, 0, 0, 0, 0, 0, 0, 0, 0, 0, 0, 0, 0, 0, 0, 0, 0, 0, 0, 0, 0, 0, 0, 0, 0, 0, 0, 0, 0, 0, 0, 0, 0, 0, 0, 0, 0, 0, 0, 0, 0, 0, 0, 0, 0, 0, 0, 0, 0, 0, 0, 0, 0, 0, 0, 0, 0, 0, 0, 0, 0, 0, 0, 0, 0, 0, 0, 0, 0, 0, 0, 0, 0, 0, 0, 0, 0, 0, 0, 0, 0, 0, 0, 0, 0, 0, 0, 0, 0, 0, 0, 0, 0, 0, 0, 0, 0, 0, 0, 0, 0, 0, 0, 0, 0, 0, 0, 0, 0, 0, 0, 0, 0, 0, 0, 0, 0, 0, 0, 0, 0, 0, 0, 0, 0, 0, 0, 0, 0, 0, 0, 0, 0, 0, 0, 0, 0, 0, 0, 0, 0, 0, 0, 0, 0, 0, 0, 0, 0, 0, 0, 0, 0, 0, 0, 0, 0, 0, 0, 0, 0, 0, 0, 0, 0, 0, 0, 0, 0, 0, 0, 0, 0, 0, 0, 0, 0, 0, 0, 0, 0, 0, 0, 0, 0, 0, 0, 0, 0, 0, 0, 0, 0, 0, 0, 0, 0, 0, 0, 0, 0, 0, 0, 0, 0, 0, 0, 0, 0, 0, 0, 0, 0, 0, 0, 0, 0, 0, 0, 0, 0, 0, 0, 0, 0, 0, 0, 0, 0, 0, 0, 0, 0, 0, 0, 0, 0, 0, 0, 0, 0, 0, 0, 0, 0, 0, 0, 0, 0, 0, 0, 0, 0, 0, 0, 0, 0, 0, 0, 0, 0, 0, 0, 0, 0, 0, 0, 0, 0, 0, 0, 0, 0, 0, 0, 0, 0, 0, 0, 0, 0, 0, 0, 0, 0, 0, 0, 0, 0, 0, 0, 0, 0, 0, 0, 0, 0, 0, 0, 0, 0, 0, 0, 0, 0, 0, 0, 0, 0, 0, 0, 0, 0, 0, 0, 0, 0, 0, 0, 0, 0, 0, 0, 0, 0, 0, 0, 0, 0, 0, 0, 0, 0, 0, 0, 0, 0, 0, 0, 0, 0, 0, 0, 0, 0, 0, 0, 0, 0, 0, 0, 0, 0, 0, 0, 0, 0, 0, 0, 0, 0, 0, 0, 0, 0, 0, 0, 0, 0, 0, 0, 0, 0, 0, 0, 0, 0, 0, 0, 0, 0, 0, 0, 0, 0, 0, 0, 0, 0, 0, 0, 0, 0, 0, 0, 0, 0, 0, 0, 0, 0, 0, 0, 0, 0, 0, 0, 0, 0, 0, 0, 0, 0, 0, 0, 0, 0, 0, 0, 0, 0, 0, 0, 0, 0, 0, 0, 0, 0, 0, 0, 0, 0, 0, 0, 0, 0, 0, 0, 0, 0, 0, 0, 0, 0, 0, 0, 0, 0, 0, 0, 0, 0, 0, 0, 0, 0, 0, 0, 0, 0, 0, 0, 0, 0, 0, 0, 0, 0, 0, 0, 0, 0, 0, 0, 0, 0, 0, 0, 0, 0, 0, 0, 0, 0, 0, 0, 0, 0, 0, 0, 0, 0, 0, 0, 0, 0, 0, 0, 0, 0, 0, 0, 0, 0, 0, 0, 0, 0, 0, 0, 0, 0, 0, 0, 0, 0, 0, 0, 0, 0, 0, 0, 0, 0, 0, 0, 0, 0, 0, 0, 0, 0, 0, 0, 0, 0, 0, 0, 0, 0, 0, 0, 0, 0, 0, 0, 0, 0, 0, 0, 0, 0, 0, 0, 0, 0, 0, 0, 0, 0, 0, 0, 0, 0, 0, 0, 0, 0, 0, 0, 0, 0, 0, 0, 0, 0, 0, 0, 0, 0, 0, 0, 0, 0, 0, 0, 0, 0, 0, 0, 0, 0, 0, 0, 0, 0, 0, 0, 0, 0, 0, 0, 0, 0, 0, 0, 0, 0, 0, 0, 0, 0, 0, 0, 0, 0, 0, 0, 0, 0, 0, 0, 0, 0, 0, 0, 0, 0, 0, 0, 0, 0, 0, 0, 0, 0, 0, 0, 0, 0, 0, 0, 0, 0, 0, 0, 0, 0, 0, 0, 0, 0, 0, 0, 0, 0, 0, 0, 0, 0, 0, 0, 0, 0, 0, 0, 0, 0, 0, 0, 0, 0, 0, 0, 0, 0, 0, 0, 0, 0, 0, 0, 0, 0, 0, 0, 0, 0, 0, 0, 0, 0, 0, 0, 0, 0, 0, 0, 0, 0, 0, 0, 0, 0, 0, 0, 0, 0, 0, 0, 0, 0, 0, 0, 0, 0, 0, 0, 0, 0, 0, 0, 0, 0, 0, 0, 0, 0, 0, 0, 0, 0, 0, 0, 0, 0, 0, 0, 0, 0, 0, 0, 0, 0, 0, 0, 0, 0, 0, 0, 0, 0, 0, 0, 0, 0, 0, 0, 0, 0, 0, 0, 0, 0, 0, 0, 0, 0, 0, 0, 0, 0, 0, 0, 0, 0, 0, 0, 0, 0, 0, 0, 0, 0, 0, 0, 0, 0, 0, 0, 0, 0, 0, 0, 0, 0, 0, 0, 0, 0, 0, 0, 0, 0, 0, 0, 0, 0, 0, 0, 0, 0, 0, 0, 0, 0, 0, 0, 0, 0, 0, 0, 0, 0, 0, 0, 0, 0, 0, 0, 0, 0, 0, 0, 0, 0, 0, 0, 0, 0, 0, 0, 0, 0, 0, 0, 0, 0, 0, 0, 0, 0, 0, 0, 0, 0, 0, 0, 0, 0, 0, 0, 0, 0, 0, 0, 0, 31.566766952094422, 62.57810691969452, 62.57810691969452, 62.57810691969452, 63.78153205276556, 63.85096042582735, 63.85096042582735, 64.38324461930108, 64.68410090256886, 65.077528349919, 66.09581115482527, 66.11895394584587, 71.30230650818528, 71.75967642015864, 71.80596200219983, 71.92167595730282, 74.75828719174459, 75.19251431269736, 77.64565016088063, 77.79119197270907, 77.77353509012706, 77.81433476372966, 82.05869997566751, 81.97710062846228, 82.34738528479183, 82.5733272865592, 84.48200796712534, 84.45886517610475, 84.46435108454332, 84.75543470820018, 84.68600633513839, 84.82486308126198, 84.80172029024138, 84.80172029024138, 84.80172029024138, 84.80172029024138, 84.96920573582415, 85.01000540942675, 84.98686261840615, 84.98686261840615, 84.98686261840615, 84.98686261840615, 84.98686261840615, 85.07943378248854, 85.07943378248854, 85.07943378248854, 85.07943378248854, 85.10257657350914, 85.10257657350914, 85.10257657350914, 85.10257657350914, 84.81697885829087, 82.85859452536553, 83.75618734462297, 84.00098538623864, 83.8785863654308, 84.32738277505953, 84.9393778790987, 83.68007390585633, 85.3473746151248, 85.38817428872743, 85.38817428872743, 85.43445987076862, 85.43445987076862, 85.43445987076862, 85.43445987076862, 83.10887847541977, 84.6184663987164, 85.0264631347425, 84.90406411393467, 80.13598821086774, 81.40077809254869, 84.23361245371088, 84.6184663987164, 85.47525954437123, 85.47525954437123, 85.51605921797383, 85.51605921797383, 85.51605921797383, 85.51605921797383, 85.51605921797383, 85.55685889157645, 85.55685889157645, 85.55685889157645, 85.58000168259704, 85.58000168259704, 85.58000168259704, 85.55685889157645, 85.55685889157645, 85.55685889157645, 85.55685889157645, 85.55685889157645, 85.55685889157645, 85.55685889157645, 85.55685889157645, 85.63845823878167, 85.63845823878167, 85.67925791238429, 85.67925791238429, 85.67925791238429, 85.67925791238429, 85.59765856517906, 85.63845823878167, 85.59765856517906, 85.63845823878167, 85.63845823878167, 85.63845823878167, 85.63845823878167, 85.63845823878167, 85.63845823878167, 85.63845823878167, 85.63845823878167, 85.63845823878167, 85.63845823878167, 85.63845823878167, 85.63845823878167, 85.63845823878167, 85.63845823878167, 85.7200575859869, 85.7200575859869, 85.7200575859869, 85.14886215555033, 85.10806248194773, 85.51605921797383, 85.7200575859869, 85.7200575859869, 85.7200575859869, 85.7200575859869, 85.7200575859869, 85.7200575859869, 85.74320037700748, 85.74320037700748, 85.74320037700748, 85.7200575859869, 85.7200575859869, 85.7200575859869, 85.7200575859869, 85.7200575859869, 85.7608572595895, 85.7608572595895, 85.7608572595895, 85.7608572595895, 85.7608572595895, 85.7608572595895, 85.7608572595895, 85.7608572595895, 85.7608572595895, 85.7608572595895, 85.7608572595895, 85.7608572595895, 85.7608572595895, 85.7608572595895, 85.7608572595895, 85.7608572595895, 85.7608572595895, 85.7608572595895, 85.7608572595895, 85.7608572595895, 85.7608572595895, 85.7608572595895, 85.80165693319212, 85.80165693319212, 85.8071428416307, 85.8071428416307, 85.8071428416307, 85.8071428416307, 85.8071428416307, 85.8071428416307, 85.8071428416307, 85.78948595904868, 85.78948595904868, 85.83028563265128, 85.83028563265128, 85.83028563265128, 85.83028563265128, 85.83028563265128, 85.78948595904868, 85.78948595904868, 85.62628726463824, 85.78948595904868, 85.62628726463824, 85.78948595904868, 85.78948595904868, 85.74868628544607, 85.78948595904868, 85.83028563265128, 85.83028563265128, 85.83028563265128, 85.83028563265128, 85.91188497985651, 85.92954186243853, 86.1841125636651, 86.06839860856212, 85.99897023550031, 85.97582744447972, 85.95268465345912, 85.92954186243853, 85.92954186243853, 85.95268465345912, 85.8710853062539, 85.46308857022778, 84.95034969597586, 85.8071428416307, 85.88874218883592, 85.92954186243853, 85.92954186243853, 85.92954186243853, 85.92954186243853, 85.92954186243853, 85.92954186243853, 85.92954186243853, 85.92954186243853, 85.92954186243853, 85.92954186243853, 85.92954186243853, 85.72554349442548, 85.52154512641242, 85.72554349442548, 85.88874218883592, 85.92954186243853, 85.92954186243853, 85.92954186243853, 85.95268465345912, 85.92954186243853, 85.92954186243853, 85.84794251523331, 85.8071428416307, 85.68474382082286, 85.58548759103562, 85.58548759103562, 85.68474382082286, 85.52154512641242, 85.68474382082286, 85.39914610560459, 85.88874218883592, 85.84245660679473, 85.84245660679473, 85.79617102475353, 85.79617102475353, 85.79617102475353, 85.79617102475353, 85.79617102475353, 85.79617102475353, 85.79617102475353, 85.79617102475353, 85.79617102475353, 85.79617102475353, 85.79617102475353, 85.79617102475353, 85.79617102475353, 85.79617102475353, 85.79617102475353, 85.28154371386181, 85.28154371386181, 85.28154371386181, 85.28154371386181, 85.18897254977942, 85.18897254977942, 83.38383485017285, 83.38383485017285, 83.38383485017285, 82.75418286355168, 82.71338318994907, 82.40961871425603, 84.99594599864353, 84.79074847336422, 84.5872599832439, 84.04469325226653, 84.51114654447726, 68.0809640771196, 68.05782128609901, 68.05782128609901, 68.05782128609901, 68.05782128609901, 62.428637159655324, 62.428637159655324, 62.30623813884749, 62.26543846524488, 62.17835320960108, 62.35920878659353, 62.35920878659353, 62.35920878659353, 62.35920878659353, 62.35920878659353, 59.83664456534845, 59.83664456534845, 59.697787819224864, 59.697787819224864, 59.697787819224864, 59.697787819224864, 59.697787819224864, 59.697787819224864, 59.697787819224864, 59.697787819224864, 59.697787819224864, 59.697787819224864, 59.697787819224864, 59.697787819224864, 59.697787819224864, 59.697787819224864, 59.697787819224864, 59.692301910786284, 59.692301910786284, 59.692301910786284, 59.692301910786284, 59.692301910786284, 59.692301910786284, 59.692301910786284, 59.692301910786284, 59.692301910786284, 59.692301910786284, 59.692301910786284, 59.692301910786284, 59.692301910786284, 59.692301910786284, 59.669159119765695, 59.669159119765695, 59.669159119765695, 59.669159119765695, 59.64601632874509, 59.669159119765695, 59.54676009895786, 59.62835944616308, 59.593045680999055, 59.63384535460166, 59.908471252942775, 59.908471252942775, 59.908471252942775, 59.908471252942775, 59.885328461922185, 59.885328461922185, 59.885328461922185, 59.885328461922185, 59.885328461922185, 59.885328461922185, 59.885328461922185, 59.885328461922185, 59.885328461922185, 59.885328461922185, 59.885328461922185, 59.885328461922185, 59.885328461922185, 59.885328461922185, 59.885328461922185, 59.885328461922185, 59.885328461922185, 59.885328461922185, 59.908471252942775, 59.908471252942775, 59.94927092654538, 59.94927092654538, 59.94927092654538, 59.94927092654538, 59.94927092654538, 59.94927092654538, 59.94927092654538, 59.94927092654538, 59.92612813552479, 59.92612813552479, 59.92612813552479, 59.92612813552479, 59.92612813552479, 59.92612813552479, 59.92612813552479, 59.8798425534836, 59.8798425534836, 59.8798425534836, 59.8798425534836, 59.8798425534836, 59.8798425534836, 59.8798425534836, 59.8798425534836, 59.8798425534836, 59.8798425534836, 59.8798425534836, 59.8798425534836, 59.8798425534836, 59.8798425534836, 59.8798425534836, 59.856699762462995, 59.856699762462995, 59.856699762462995, 59.856699762462995, 59.856699762462995, 59.856699762462995, 59.856699762462995, 59.856699762462995, 59.856699762462995, 59.856699762462995, 59.856699762462995, 59.856699762462995, 59.856699762462995, 59.856699762462995, 59.856699762462995, 59.83904287988099, 59.83904287988099, 59.83904287988099, 59.86218567090158, 59.86218567090158, 59.86218567090158, 59.86218567090158, 59.86218567090158, 59.86218567090158, 59.86218567090158, 59.86218567090158, 59.86218567090158, 59.82138599729897, 59.82138599729897, 59.82138599729897, 59.82138599729897, 59.82138599729897, 59.82138599729897, 59.82138599729897, 59.82138599729897, 59.82138599729897, 59.82138599729897, 59.82138599729897, 59.82138599729897, 59.82138599729897, 59.82138599729897, 59.82138599729897, 59.84452878831957, 59.89630027879934, 59.850014696758144, 59.86767157934016, 59.89081437036076, 59.82138599729897, 59.82138599729897, 59.82138599729897, 59.82138599729897, 59.82138599729897, 59.82138599729897, 59.82138599729897, 59.82138599729897, 59.82138599729897, 59.82138599729897, 59.82138599729897, 59.82138599729897, 59.82138599729897, 59.82138599729897, 59.82138599729897, 59.82138599729897, 59.82138599729897, 59.82138599729897, 59.82138599729897, 59.82138599729897, 59.82138599729897, 59.82138599729897, 59.82138599729897, 59.82138599729897, 59.82138599729897, 59.82138599729897, 59.82138599729897, 59.82138599729897, 59.79824320627838, 59.81590008886039, 59.856699762462995, 59.856699762462995, 59.856699762462995, 59.856699762462995, 59.856699762462995, 59.856699762462995, 59.856699762462995, 59.856699762462995, 59.856699762462995, 59.856699762462995, 59.856699762462995, 59.856699762462995, 59.856699762462995, 59.856699762462995, 59.856699762462995, 59.89749943606561, 59.89749943606561, 59.89749943606561, 59.89749943606561, 59.89749943606561, 59.89749943606561, 59.89749943606561, 59.89749943606561, 59.89749943606561, 59.89749943606561, 59.89749943606561, 59.89749943606561, 59.89749943606561, 59.89749943606561, 59.89749943606561, 59.89749943606561, 59.89749943606561, 59.89749943606561, 59.89749943606561, 59.89749943606561, 59.89749943606561, 59.89749943606561, 59.89749943606561, 59.89749943606561, 59.89749943606561, 59.89749943606561, 59.89749943606561, 59.89749943606561, 59.89749943606561, 59.89749943606561, 59.89749943606561, 59.93829910966822, 59.93829910966822, 59.961441900688826, 59.961441900688826, 59.961441900688826, 59.961441900688826, 59.961441900688826, 59.961441900688826, 59.961441900688826, 59.961441900688826, 59.961441900688826, 59.961441900688826, 59.961441900688826, 59.961441900688826, 59.961441900688826, 59.961441900688826, 59.961441900688826, 59.961441900688826, 59.961441900688826, 59.961441900688826, 59.961441900688826, 59.961441900688826, 59.961441900688826, 59.961441900688826, 59.93829910966822, 59.961441900688826, 59.961441900688826, 59.93829910966822, 59.93829910966822, 59.93829910966822, 59.93829910966822, 59.93829910966822, 59.93829910966822, 59.93829910966822, 59.93829910966822, 59.93829910966822, 59.93829910966822, 59.93829910966822, 59.93829910966822, 59.93829910966822, 59.93829910966822, 59.93829910966822, 59.93829910966822, 59.93829910966822, 59.93829910966822, 59.93829910966822, 59.93829910966822, 59.93829910966822, 59.91515631864763, 59.91515631864763, 59.91515631864763, 59.91515631864763, 59.91515631864763, 59.91515631864763, 59.91515631864763, 59.91515631864763, 59.91515631864763, 59.91515631864763, 59.79944236354464, 59.79944236354464, 59.79944236354464, 59.79944236354464, 59.79944236354464, 59.79944236354464, 59.79944236354464, 59.79944236354464, 59.79944236354464, 59.79944236354464, 59.79944236354464, 59.79944236354464, 59.79944236354464, 59.776299572524046, 59.776299572524046, 59.776299572524046, 59.776299572524046, 59.776299572524046, 59.776299572524046, 59.65509970898247, 59.65509970898247, 59.65509970898247, 59.65509970898247, 59.65509970898247, 59.65509970898247, 59.65509970898247, 59.65509970898247, 59.65509970898247, 59.65509970898247, 59.65509970898247, 59.65509970898247, 59.65509970898247, 59.65509970898247, 58.793330532781795, 58.793330532781795, 58.793330532781795, 58.793330532781795, 58.793330532781795, 58.793330532781795, 58.770187741761205, 58.770187741761205, 58.770187741761205, 58.770187741761205, 58.770187741761205, 58.723902159720005, 58.65447378665821, 58.63133099563762, 58.63133099563762, 58.63133099563762, 58.11121777630731, 58.17516024093052, 58.15201744990993, 58.08258907684814, 57.80487558460097, 57.48087651031261, 56.60145045152993, 56.184880213159175, 28.818260729081956, 0, 0, 0, 0, 0, 0, 0, 0, 0, 0, 0, 0, 0, 0, 0, 0, 0, 0, 0, 0, 0, 0, 0, 0, 0, 0, 0, 0, 0, 0, 0, 0, 0, 0, 0, 0, 0, 0, 0, 0, 0, 0, 0, 0, 0, 0, 0, 0, 0, 0, 0, 0, 0, 0, 0, 0, 0, 0, 0, 0, 0, 0, 0, 0, 0, 0, 0, 0, 0, 0, 0, 0, 0, 0, 0, 0, 0, 0, 0, 0, 0, 0, 0, 0, 0, 0, 0, 0, 0, 0, 0, 0, 0, 0, 0, 0, 0, 0, 0, 0, 0, 0, 0, 0, 0, 0, 0, 0, 0, 0, 0, 0, 0, 0, 0, 0, 0, 0, 0, 0, 0, 0, 0, 0, 0, 0, 0, 0, 0, 0, 0, 0, 0, 0, 0, 0, 0, 0, 0, 0, 0, 0, 0, 0, 0, 0, 0, 0, 0, 0, 0, 0, 0, 0, 0, 0, 0, 0, 0, 0, 0, 0, 0, 0, 0, 0, 0, 0, 0, 0, 0, 0, 0, 0, 0, 0, 0, 0, 0, 0, 0, 0, 0, 0, 0, 0, 0, 0, 0, 0, 0, 0, 0, 0, 0, 0, 0, 0, 0, 0, 0, 0, 0, 0, 0, 0, 0, 0, 0, 0, 0, 0, 0, 0, 0, 0, 0, 0, 0, 0, 0, 0, 0, 0, 0, 0, 0, 0, 0, 0, 0, 0, 0, 0, 0, 0, 0, 0, 0, 0, 0, 0, 0, 0, 0, 0, 0, 0, 0, 0, 0, 0, 0, 0, 0, 0, 0, 0, 0, 0, 0, 0, 0, 0, 0, 0, 0, 0, 0, 0, 0, 0, 0, 0, 0, 0, 0, 0, 0, 0, 0, 0, 0, 0, 0, 0, 0, 0, 0, 0, 0, 0, 0, 0, 0, 0, 0, 0, 0, 0, 0, 0, 0, 0, 0, 0, 0, 0, 0, 0, 0, 0, 0, 0, 0, 0, 0, 0, 0, 0, 0, 0, 0, 0, 0, 0, 0, 0, 0, 0, 0, 0, 0, 0, 0, 0, 0, 0, 0, 0, 0, 0, 0, 0, 0, 0, 0, 0, 0, 0, 0, 0, 0, 0, 0, 0, 0, 0, 0, 0, 0, 0, 0, 0, 0, 0, 0, 0, 0, 0, 0, 0, 0, 0, 0, 0, 0, 0, 0, 0, 0, 0, 0, 0, 0, 0, 0, 0, 0, 0, 0, 0, 0, 0, 0, 0, 0, 0, 0, 0, 0, 0, 0, 0, 0, 0, 0, 0, 0, 0, 0, 0, 0, 0, 0, 0, 0, 0, 0, 0, 0, 0, 0, 0, 0, 0, 0, 0, 0, 0, 0, 0, 0, 0, 0, 0, 0, 0, 0, 0, 0, 0, 0, 0, 0, 0, 0, 0, 0, 0, 0, 0, 0, 0, 0, 0, 0, 0, 0, 0, 0, 0, 0, 0, 0, 0, 0, 0, 0, 0, 0, 0, 0, 0, 0, 0, 0, 0, 0, 0, 0, 0, 0, 0, 0, 0, 0, 0, 0, 0, 0, 0, 0, 0, 0, 0, 0, 0, 0, 0, 0, 0, 0, 0, 0, 0, 0, 0, 0, 0, 0, 0, 0, 0, 0, 0, 0, 0, 0, 0, 0, 0, 0, 0, 0, 0, 0, 0, 0, 0, 0, 0, 0, 0, 0, 0, 0, 0, 0, 0, 0, 0, 0, 0, 0, 0, 0, 0, 0, 0, 0, 0, 0, 0, 0, 0, 0, 0, 0, 0, 0, 0, 0, 0, 0, 0, 0, 0, 0, 0, 0, 0, 0, 0, 0, 0, 0, 0, 0, 0, 0, 0, 0, 0, 0, 0, 0, 0, 0, 0, 0, 0, 0, 0, 0, 0, 0, 0, 0, 0, 0, 0, 0, 0, 0, 0, 0, 0, 0, 0, 0, 0, 0, 0, 0, 0, 0, 0, 0, 0, 0, 0, 0, 0, 0, 0, 0, 0, 0, 0, 0, 0, 0, 0, 0, 0, 0, 0, 0, 0, 0, 0, 0, 0, 0, 0, 0, 0, 0, 0, 0, 0, 0, 0, 0, 0, 0, 0, 0, 0, 0, 0, 0, 0, 0, 0, 0, 0, 0, 0, 0, 0, 0, 0, 0, 0, 0, 0, 0, 0, 0, 0, 0, 0, 0, 0, 0, 0, 0, 0, 0, 0, 0, 0, 0, 0, 0, 0, 0, 0, 0, 0, 0, 0, 0, 0, 0, 0, 0, 0, 0, 0, 0, 0, 0, 0, 0, 0, 0, 0, 0, 0, 0, 0, 0, 0, 0, 0, 0, 0, 0, 0, 0, 0, 0, 0, 0, 0, 0, 0, 0, 0, 0, 0, 0, 0, 0, 0, 0, 0, 0, 0, 0, 0, 0, 0, 0, 0, 0, 0, 0, 0, 0, 0, 0, 0, 0, 0, 0, 0, 0, 0, 0, 0, 0, 0, 0, 0, 0, 0, 0, 0, 0, 0, 0, 0, 0, 0, 0, 0, 0, 0, 0, 0, 0, 0, 0, 0, 0, 0, 0, 0, 0, 0, 0, 0, 0, 0, 0, 0, 0, 0, 0, 0, 0, 0, 0, 0, 0, 0, 0, 0, 0, 0, 0, 0, 0, 0, 0, 0, 0, 0, 0, 0, 0, 0, 0, 0, 0, 0, 0, 0, 0, 0, 0, 0, 0, 0, 0, 0, 0, 0, 0, 0, 0, 0, 0, 0, 0, 0, 0, 0, 0, 0, 0, 0, 0, 0, 0, 0, 0, 0, 0, 0, 0, 0, 0, 0, 0, 0, 0, 0, 0, 0, 0, 0, 0, 0, 0, 0, 0, 0, 0, 0, 0, 0, 0, 0, 0, 0, 0, 0, 0, 0, 0, 0, 0, 0, 0, 0, 0, 0, 0, 0, 0, 0, 0, 0, 0, 0, 0, 0, 0, 0, 0, 0, 0, 0, 0, 0, 0, 0, 0, 0, 0, 0, 0, 0, 0, 0, 0, 0, 0, 0, 0, 0, 0, 0, 0, 0, 0, 0, 0, 0, 0, 0, 0, 0, 0, 0, 0, 0, 0]]\n"
     ]
    }
   ],
   "source": [
    "print(scores_control[-2:])\n",
    "print(scores_sample[-2:])\n"
   ]
  },
  {
   "cell_type": "code",
   "execution_count": 107,
   "metadata": {},
   "outputs": [
    {
     "data": {
      "text/plain": [
       "Counter({2: 691, 0: 1462, 3: 37, 4: 222, 1: 39})"
      ]
     },
     "execution_count": 107,
     "metadata": {},
     "output_type": "execute_result"
    }
   ],
   "source": [
    "X_control = reduce_dimension([], scores_control)\n",
    "labels = GaussianMixture(n_components=5, random_state=1).fit_predict(X_control)\n",
    "Counter(labels)"
   ]
  },
  {
   "cell_type": "code",
   "execution_count": 109,
   "metadata": {},
   "outputs": [
    {
     "name": "stdout",
     "output_type": "stream",
     "text": [
      "['N', 'N', 'N', 'N', 'N', 'N', 'N', 'N', 'N', 'N']\n",
      "[-1.3874343992519549, -1.4945748520103024, -1.9469687334378243, -1.8897113345194612, -1.3889640329301791, -1.4961044856885337, -1.5483858540610527, -1.3424990494082074, -1.3375230188623668, 0]\n",
      "=====================================\n",
      "['N', 'N', 'N', 'N', 'N', 'N', 'N', 'N', 'N', 'N']\n",
      "[-1.3874343992519549, -1.4945748520103024, -1.9469687334378243, -1.8897113345194612, -1.3889640329301791, -1.4961044856885337, -1.5483858540610527, -1.3424990494082074, -1.3375230188623668, 0]\n",
      "=====================================\n",
      "['N', 'N', 'N', 'N', 'N', 'N', 'N', 'N', 'N', 'N']\n",
      "[-1.3874343992519549, -1.4945748520103024, -1.9469687334378243, -1.8897113345194612, -1.3889640329301791, -1.4961044856885337, -1.5483858540610527, -1.3424990494082074, -1.3375230188623668, 0]\n",
      "=====================================\n",
      "['N', 'N', 'N', 'N', 'N', 'N', 'N', 'N', 'N', 'N']\n",
      "[-1.3874343992519549, -1.4945748520103024, -1.9469687334378243, -1.8897113345194612, -1.3889640329301791, -1.4961044856885337, -1.5483858540610527, -1.3424990494082074, -1.3375230188623668, 0]\n",
      "=====================================\n",
      "['N', 'N', 'N', 'N', 'N', 'N', 'N', 'N', 'N', 'N']\n",
      "[-1.3874343992519549, -1.4945748520103024, -1.9469687334378243, -1.8897113345194612, -1.3889640329301791, -1.4961044856885337, -1.5483858540610527, -1.3424990494082074, -1.3375230188623668, 0]\n",
      "=====================================\n"
     ]
    }
   ],
   "source": [
    "count = 0\n",
    "for cs, score, label in zip(cssplits_control, scores_control, labels):\n",
    "    if label == 4:\n",
    "        print(cs[-10:])\n",
    "        print(score[-10:])\n",
    "        print(\"=====================================\")\n",
    "        count += 1\n",
    "    if count == 5:\n",
    "        break"
   ]
  },
  {
   "attachments": {},
   "cell_type": "markdown",
   "metadata": {},
   "source": [
    "- `N`のところだけを抽出しようとしても難しい\n",
    "- 逆に、いまの段階でもsampleにおいて切断リードのクラスタを検出できている\n",
    "- つまり、**sampleとcontrolを入れ替えれば、controlにおける切断リードのクラスタを検出できるかもしれない**"
   ]
  },
  {
   "cell_type": "code",
   "execution_count": 18,
   "metadata": {},
   "outputs": [],
   "source": [
    "from __future__ import annotations\n",
    "from collections import defaultdict\n",
    "from collections import Counter\n",
    "\n",
    "\n",
    "def call_count(cssplits: list[list[str]]) -> list[dict[str, int]]:\n",
    "    \"\"\"Count cssplits within 3-mer range.\n",
    "    Args:\n",
    "        cssplits (list[list[str]])\n",
    "    Returns:\n",
    "        list[dict[str, int]]: Both ends are counted as \"N\" to keep sequence length.\n",
    "    \"\"\"\n",
    "    count_kmer = defaultdict(Counter)\n",
    "    for cssplit in cssplits:\n",
    "        for i in range(1, len(cssplit) - 1):\n",
    "            kmer = \",\".join([cssplit[i - 1], cssplit[i], cssplit[i + 1]])\n",
    "            count_kmer[i] += Counter([kmer])\n",
    "    coverage = len(cssplits)\n",
    "    count_score = [{\"N,N,N\": coverage}]\n",
    "    count_score += [dict(count_kmer[i]) for i in range(1, len(cssplit) - 1)]\n",
    "    count_score += [{\"N,N,N\": coverage}]\n",
    "    return count_score\n",
    "\n",
    "\n",
    "def call_percent(counts: list[dict[str:int]]) -> list[dict[str:float]]:\n",
    "    cssplit_percent = []\n",
    "    coverage = sum(counts[0].values())\n",
    "    for count in counts:\n",
    "        percent = {k: v / coverage * 100 for k, v in count.items()}\n",
    "        cssplit_percent.append(percent)\n",
    "    return cssplit_percent\n",
    "\n",
    "\n",
    "def subtract_percentage(percent_control, percent_sample, knockin_loci) -> list[dict]:\n",
    "    sample_subtracted = []\n",
    "    for i, (cont, samp) in enumerate(zip(percent_control, percent_sample)):\n",
    "        if i in knockin_loci:\n",
    "            sample_subtracted.append(samp)\n",
    "            continue\n",
    "        samp = Counter(samp)\n",
    "        samp.subtract(Counter(cont))\n",
    "        sample_subtracted.append(dict(samp))\n",
    "    return sample_subtracted\n",
    "\n",
    "\n",
    "def discard_common_error(sample_subtracted, threshold=0.5):\n",
    "    sample_discarded = []\n",
    "    for samp in sample_subtracted:\n",
    "        remained = {k: v for k, v in samp.items() if v > threshold}\n",
    "        sample_discarded.append(remained)\n",
    "    return sample_discarded\n",
    "\n",
    "\n",
    "def discard_match(sample_subtracted):\n",
    "    sample_discarded = []\n",
    "    for samp in sample_subtracted:\n",
    "        remained = {k: v for k, v in samp.items() if not k.split(\",\")[1].startswith(\"=\")}\n",
    "        sample_discarded.append(remained)\n",
    "    return sample_discarded\n",
    "\n",
    "\n",
    "###############################################################################\n",
    "# main\n",
    "###############################################################################\n",
    "\n",
    "\n",
    "def make_score(cssplits_control, cssplits_sample, knockin_loci):\n",
    "    counts_control = call_count(cssplits_control)\n",
    "    counts_sample = call_count(cssplits_sample)\n",
    "    percent_control = call_percent(counts_control)\n",
    "    percent_sample = call_percent(counts_sample)\n",
    "    percent_subtraction = subtract_percentage(percent_control, percent_sample, knockin_loci)\n",
    "    percent_discarded = discard_common_error(percent_subtraction, 0.5)\n",
    "    mutation_score = discard_match(percent_discarded)\n",
    "    return mutation_score\n"
   ]
  },
  {
   "cell_type": "code",
   "execution_count": 132,
   "metadata": {},
   "outputs": [],
   "source": [
    "allele = \"target\"\n",
    "mutation_loci = MUTATION_LOCI[allele]\n",
    "knockin_alleles = extract_knockin_loci(TEMPDIR)\n",
    "# control\n",
    "midsv_control = midsv.read_jsonl((Path(TEMPDIR, \"midsv\", f\"{CONTROL_NAME}_splice_{allele}.jsonl\")))\n",
    "cssplits_control = [cs[\"CSSPLIT\"].split(\",\") for cs in midsv_control]\n",
    "# Sample\n",
    "cssplits_sample = [cs[\"CSSPLIT\"].split(\",\") for cs in classif_sample if cs[\"ALLELE\"] == allele]"
   ]
  },
  {
   "cell_type": "code",
   "execution_count": 19,
   "metadata": {},
   "outputs": [],
   "source": [
    "def extract_cssplits_in_mutation(cssplits_sample: list[list], mutation_loci: set) -> list[list]:\n",
    "    cssplits_mutation = []\n",
    "    for cssplits in cssplits_sample:\n",
    "        cs_mutation = []\n",
    "        for i, cs in enumerate(cssplits):\n",
    "            if i in mutation_loci:\n",
    "                cs_mutation.append(cs)\n",
    "        cssplits_mutation.append(cs_mutation)\n",
    "    return cssplits_mutation\n",
    "\n",
    "def annotate_score(cssplits: list[list], mutation_score: list[dict]):\n",
    "    scores = []\n",
    "    for cssplit in cssplits:\n",
    "        score = [0]\n",
    "        for i in range(1, len(cssplit) - 1):\n",
    "            if not mutation_score[i]:\n",
    "                score.append(0)\n",
    "                continue\n",
    "            kmer = \",\".join([cssplit[i - 1], cssplit[i], cssplit[i + 1]])\n",
    "            score.append(mutation_score[i].get(kmer, 0))\n",
    "        scores.append(score + [0])\n",
    "    return scores"
   ]
  },
  {
   "cell_type": "code",
   "execution_count": 135,
   "metadata": {},
   "outputs": [],
   "source": [
    "cssplits_control = extract_cssplits_in_mutation(cssplits_control, mutation_loci)\n",
    "cssplits_sample = extract_cssplits_in_mutation(cssplits_sample, mutation_loci)\n",
    "cssplits_control = compress_insertion(cssplits_control)\n",
    "cssplits_sample = compress_insertion(cssplits_sample)\n",
    "mutation_score = make_score(cssplits_control, cssplits_sample, knockin_alleles[allele])"
   ]
  },
  {
   "cell_type": "code",
   "execution_count": 136,
   "metadata": {},
   "outputs": [],
   "source": [
    "scores_control = annotate_score(cssplits_control, mutation_score)\n",
    "scores_sample = annotate_score(cssplits_sample, mutation_score)"
   ]
  },
  {
   "cell_type": "code",
   "execution_count": 137,
   "metadata": {},
   "outputs": [
    {
     "name": "stdout",
     "output_type": "stream",
     "text": [
      "CPU times: user 27.9 s, sys: 38.3 s, total: 1min 6s\n",
      "Wall time: 3.96 s\n"
     ]
    },
    {
     "data": {
      "text/plain": [
       "Counter({2: 1145, 3: 1190, 1: 1513, 4: 473})"
      ]
     },
     "execution_count": 137,
     "metadata": {},
     "output_type": "execute_result"
    }
   ],
   "source": [
    "%%time\n",
    "# 確認\n",
    "labels = return_labels(scores_sample, scores_control)\n",
    "Counter(labels)"
   ]
  },
  {
   "cell_type": "code",
   "execution_count": 138,
   "metadata": {},
   "outputs": [
    {
     "name": "stdout",
     "output_type": "stream",
     "text": [
      "CPU times: user 24.9 s, sys: 38 s, total: 1min 2s\n",
      "Wall time: 3.84 s\n"
     ]
    },
    {
     "data": {
      "text/plain": [
       "Counter({0: 2375, 2: 76})"
      ]
     },
     "execution_count": 138,
     "metadata": {},
     "output_type": "execute_result"
    }
   ],
   "source": [
    "%%time\n",
    "# sampleとcontrolを逆にして検証\n",
    "labels_control = return_labels(scores_control, scores_sample)\n",
    "Counter(labels_control)"
   ]
  },
  {
   "cell_type": "code",
   "execution_count": 115,
   "metadata": {},
   "outputs": [
    {
     "name": "stdout",
     "output_type": "stream",
     "text": [
      "['=A', '=T', '=T', '=A', '=C', '=T', '=G', '=T', '=G', '=T']\n",
      "[0, 0, 0, 0, 0, 0, 0, 0, 0, 0]\n",
      "=====================================\n",
      "['=A', '=T', '=T', '=A', '=C', '=T', '=G', '=T', '=G', '=T']\n",
      "[0, 0, 0, 0, 0, 0, 0, 0, 0, 0]\n",
      "=====================================\n",
      "['=A', '=T', '=T', '=A', '=C', '=T', '=G', '=T', 'N', 'N']\n",
      "[0, 0, 0, 0, 0, 0, 0, 0, -0.28182084193870316, 0]\n",
      "=====================================\n",
      "['=A', '=T', '=T', '=A', '=C', '=T', '=G', '=T', '=G', '=T']\n",
      "[0, 0, 0, 0, 0, 0, 0, 0, 0, 0]\n",
      "=====================================\n",
      "['=A', '=T', '=T', 'N', 'N', 'N', 'N', 'N', 'N', 'N']\n",
      "[0, 0, 0, 0.50074730158928, -1.3889640329301791, -1.4961044856885337, -1.5483858540610527, -1.3424990494082074, -1.3375230188623668, 0]\n",
      "=====================================\n"
     ]
    }
   ],
   "source": [
    "count = 0\n",
    "for cs, score, label in zip(cssplits_control, scores_control, labels_control):\n",
    "    if label == 2:\n",
    "        print(cs[-10:])\n",
    "        print(score[-10:])\n",
    "        print(\"=====================================\")\n",
    "        count += 1\n",
    "    if count == 5:\n",
    "        break"
   ]
  },
  {
   "attachments": {},
   "cell_type": "markdown",
   "metadata": {},
   "source": [
    "- ダメそうですね…\n",
    "\n",
    "- シンプルに、両端から`N`が続く場合にはたとえば`1`などの数値を当ててみるとどうでしょう？"
   ]
  },
  {
   "cell_type": "code",
   "execution_count": 20,
   "metadata": {},
   "outputs": [],
   "source": [
    "def annotate_score(cssplits: list[list], mutation_score: list[dict]):\n",
    "    scores = []\n",
    "    for cssplit in cssplits:\n",
    "        score = [0]\n",
    "        for i in range(1, len(cssplit) - 1):\n",
    "            if not mutation_score[i]:\n",
    "                score.append(0)\n",
    "                continue\n",
    "            kmer = \",\".join([cssplit[i - 1], cssplit[i], cssplit[i + 1]])\n",
    "            score.append(mutation_score[i].get(kmer, 0))\n",
    "        scores.append(score + [0])\n",
    "    return scores\n",
    "\n",
    "def update_score(scores: list[list], cssplits: list[list]):\n",
    "    # 両端からNが続くようであれば、その位置のスコアは`1`とする\n",
    "    for i, cssplit in enumerate(cssplits):\n",
    "        flag_n_start = True\n",
    "        flag_n_end = True\n",
    "        for j, (start, end) in enumerate(zip(cssplit, cssplit[::-1])):\n",
    "            if j == (len(cssplit) + 1) // 2:\n",
    "                break\n",
    "            if flag_n_start == False and flag_n_end == False:\n",
    "                break\n",
    "            if flag_n_start:\n",
    "                if start == \"N\":\n",
    "                    scores[i][j] = 1\n",
    "                else:\n",
    "                    flag_n_start = False\n",
    "            if flag_n_end:\n",
    "                if end == \"N\":\n",
    "                    j_reverse = len(cssplit) - j - 1\n",
    "                    scores[i][j_reverse] = 1\n",
    "                else:\n",
    "                    flag_n_end = False\n",
    "    return scores"
   ]
  },
  {
   "cell_type": "code",
   "execution_count": 192,
   "metadata": {},
   "outputs": [
    {
     "name": "stdout",
     "output_type": "stream",
     "text": [
      "[0, 0, 0, 0, 0, 0, 0, 0, 0, 0]\n",
      "[10, 10, 10, 10, 10, 10, 10, 10, 10, 10]\n"
     ]
    }
   ],
   "source": [
    "scores_control = annotate_score(cssplits_control, mutation_score)\n",
    "print(scores_control[4][-10:])\n",
    "scores_control = update_score(scores_control, cssplits_control)\n",
    "print(scores_control[4][-10:])"
   ]
  },
  {
   "cell_type": "code",
   "execution_count": 221,
   "metadata": {},
   "outputs": [
    {
     "name": "stdout",
     "output_type": "stream",
     "text": [
      "4\n",
      "13\n",
      "17\n",
      "21\n",
      "22\n",
      "----------\n",
      "403\n"
     ]
    }
   ],
   "source": [
    "count = 0\n",
    "for i, cssplits in enumerate(cssplits_control):\n",
    "    if all(cs == \"N\" for cs in cssplits[-100:]):\n",
    "        count += 1\n",
    "        if count <= 5:\n",
    "            print(i)\n",
    "print(\"----------\")\n",
    "print(count)"
   ]
  },
  {
   "cell_type": "code",
   "execution_count": 13,
   "metadata": {},
   "outputs": [],
   "source": [
    "allele = \"target\"\n",
    "mutation_loci = MUTATION_LOCI[allele]\n",
    "knockin_alleles = extract_knockin_loci(TEMPDIR)\n",
    "# control\n",
    "midsv_control = midsv.read_jsonl((Path(TEMPDIR, \"midsv\", f\"{CONTROL_NAME}_splice_{allele}.jsonl\")))\n",
    "cssplits_control = [cs[\"CSSPLIT\"].split(\",\") for cs in midsv_control]\n",
    "# Sample\n",
    "cssplits_sample = [cs[\"CSSPLIT\"].split(\",\") for cs in classif_sample if cs[\"ALLELE\"] == allele]"
   ]
  },
  {
   "cell_type": "code",
   "execution_count": 14,
   "metadata": {},
   "outputs": [],
   "source": [
    "cssplits_control = extract_cssplits_in_mutation(cssplits_control, mutation_loci)\n",
    "cssplits_sample = extract_cssplits_in_mutation(cssplits_sample, mutation_loci)\n",
    "cssplits_control = compress_insertion(cssplits_control)\n",
    "cssplits_sample = compress_insertion(cssplits_sample)\n",
    "mutation_score = make_score(cssplits_control, cssplits_sample, knockin_alleles[allele])\n",
    "scores_control = annotate_score(cssplits_control, mutation_score)\n",
    "scores_sample = annotate_score(cssplits_sample, mutation_score)\n",
    "scores_control = update_score(scores_control, cssplits_control)\n",
    "scores_sample = update_score(scores_sample, cssplits_sample)"
   ]
  },
  {
   "cell_type": "code",
   "execution_count": 21,
   "metadata": {},
   "outputs": [
    {
     "data": {
      "text/plain": [
       "Counter({2: 1145, 1: 1191, 3: 1512, 4: 473})"
      ]
     },
     "execution_count": 21,
     "metadata": {},
     "output_type": "execute_result"
    }
   ],
   "source": [
    "# まずはサンプルが4つに分かれているか確認\n",
    "from collections import Counter\n",
    "labels = return_labels(scores_sample, scores_control)\n",
    "Counter(labels)"
   ]
  },
  {
   "cell_type": "code",
   "execution_count": 24,
   "metadata": {},
   "outputs": [],
   "source": [
    "from __future__ import annotations\n",
    "import numpy as np\n",
    "from sklearn.decomposition import PCA\n",
    "from sklearn.mixture import GaussianMixture\n",
    "from sklearn.exceptions import ConvergenceWarning\n",
    "from collections import Counter\n",
    "\n",
    "from src.DAJIN2.core.clustering.merge_clusters import merge_clusters\n",
    "\n",
    "import warnings\n",
    "\n",
    "warnings.filterwarnings(\"ignore\", category=RuntimeWarning)\n",
    "warnings.filterwarnings(\"ignore\", category=ConvergenceWarning)\n",
    "\n",
    "###############################################################################\n",
    "# Dimension reduction\n",
    "###############################################################################\n",
    "\n",
    "\n",
    "def reduce_dimension(scores_sample: list[list], scores_control_subset: list[list]) -> np.array:\n",
    "    scores = scores_sample + scores_control_subset\n",
    "    n_components = min(20, len(scores[0]))\n",
    "    pca = PCA(n_components=n_components).fit(scores)\n",
    "    return pca.transform(scores)\n",
    "\n",
    "\n",
    "def optimize_labels(X: np.array, scores_sample: list[list], scores_control_subset: list[list]) -> list[int]:\n",
    "    scores = scores_sample + scores_control_subset\n",
    "    n_components = min(20, len(scores))\n",
    "    labels_results = [1] * len(scores_sample)\n",
    "    for i in range(1, n_components):\n",
    "        np.random.seed(seed=1)\n",
    "        labels = GaussianMixture(n_components=i, random_state=1).fit_predict(X)\n",
    "        labels = labels.tolist()\n",
    "        labels_sample = labels[: len(scores_sample)]\n",
    "        labels_control = labels[len(scores_sample) :]\n",
    "        labels_merged = merge_clusters(labels_control, labels_sample)\n",
    "        # Reads < 1% in the control are considered clustering errors and are not counted\n",
    "        count_control = Counter(labels_control)\n",
    "        num_labels_control = sum(1 for reads in count_control.values() if reads / sum(count_control.values()) * 100 > 1)\n",
    "        if num_labels_control > 1:\n",
    "            return labels_results\n",
    "        labels_results = labels_merged\n",
    "    return labels_results\n",
    "\n",
    "\n",
    "###############################################################################\n",
    "# main\n",
    "###############################################################################\n",
    "\n",
    "\n",
    "def return_labels(scores_sample: list[list], scores_control: list[list]) -> list[int]:\n",
    "    np.random.seed(seed=1)\n",
    "    X_control = reduce_dimension([], scores_control)\n",
    "    labels = GaussianMixture(n_components=2, random_state=1).fit_predict(X_control)\n",
    "    label_most = Counter(labels).most_common()[0][0]\n",
    "    scores_control_subset = [s for l, s in zip(labels, scores_control) if l == label_most][:1000]\n",
    "    X = reduce_dimension(scores_sample, scores_control_subset)\n",
    "    labels = optimize_labels(X, scores_sample, scores_control_subset)\n",
    "    return labels\n"
   ]
  },
  {
   "cell_type": "code",
   "execution_count": 25,
   "metadata": {},
   "outputs": [
    {
     "data": {
      "text/plain": [
       "Counter({0: 1450,\n",
       "         18: 153,\n",
       "         4: 330,\n",
       "         5: 35,\n",
       "         10: 106,\n",
       "         14: 71,\n",
       "         2: 207,\n",
       "         16: 49,\n",
       "         1: 18,\n",
       "         15: 16,\n",
       "         12: 16})"
      ]
     },
     "execution_count": 25,
     "metadata": {},
     "output_type": "execute_result"
    }
   ],
   "source": [
    "# sampleとcontrolを逆にして検証\n",
    "X_control = reduce_dimension(scores_control, [])\n",
    "labels_control = optimize_labels(X_control, scores_control, scores_sample)\n",
    "Counter(labels_control)\n",
    "# 悪くないですね"
   ]
  },
  {
   "cell_type": "code",
   "execution_count": 26,
   "metadata": {},
   "outputs": [
    {
     "data": {
      "text/plain": [
       "Counter({0: 2147, 1: 60, 2: 223, 3: 21})"
      ]
     },
     "execution_count": 26,
     "metadata": {},
     "output_type": "execute_result"
    }
   ],
   "source": [
    "# またはControlをSampleのラベル数に合わせてクラスタリングする\n",
    "X_control = reduce_dimension([], scores_control)\n",
    "np.random.seed(seed=1)\n",
    "labels_control = GaussianMixture(n_components=len(Counter(labels)), random_state=1).fit_predict(X_control)\n",
    "Counter(labels_control)"
   ]
  },
  {
   "cell_type": "code",
   "execution_count": 27,
   "metadata": {},
   "outputs": [
    {
     "name": "stdout",
     "output_type": "stream",
     "text": [
      "['N', 'N', 'N', 'N', 'N', 'N', 'N', 'N', 'N', 'N']\n",
      "[1, 1, 1, 1, 1, 1, 1, 1, 1, 1]\n",
      "=====================================\n",
      "['N', 'N', 'N', 'N', 'N', 'N', 'N', 'N', 'N', 'N']\n",
      "[1, 1, 1, 1, 1, 1, 1, 1, 1, 1]\n",
      "=====================================\n",
      "['N', 'N', 'N', 'N', 'N', 'N', 'N', 'N', 'N', 'N']\n",
      "[1, 1, 1, 1, 1, 1, 1, 1, 1, 1]\n",
      "=====================================\n",
      "['N', 'N', 'N', 'N', 'N', 'N', 'N', 'N', 'N', 'N']\n",
      "[1, 1, 1, 1, 1, 1, 1, 1, 1, 1]\n",
      "=====================================\n",
      "['N', 'N', 'N', 'N', 'N', 'N', 'N', 'N', 'N', 'N']\n",
      "[1, 1, 1, 1, 1, 1, 1, 1, 1, 1]\n",
      "=====================================\n"
     ]
    }
   ],
   "source": [
    "count = 0\n",
    "for cs, score, label in zip(cssplits_sample, scores_sample, labels):\n",
    "    if label == 4:\n",
    "        print(cs[-10:])\n",
    "        print(score[-10:])\n",
    "        print(\"=====================================\")\n",
    "        count += 1\n",
    "    if count == 5:\n",
    "        break"
   ]
  },
  {
   "cell_type": "code",
   "execution_count": 28,
   "metadata": {},
   "outputs": [
    {
     "name": "stdout",
     "output_type": "stream",
     "text": [
      "['N', 'N', 'N', 'N', 'N', 'N', 'N', 'N', 'N', 'N']\n",
      "[1, 1, 1, 1, 1, 1, 1, 1, 1, 1]\n",
      "=====================================\n",
      "['N', 'N', 'N', 'N', 'N', 'N', 'N', 'N', 'N', 'N']\n",
      "[1, 1, 1, 1, 1, 1, 1, 1, 1, 1]\n",
      "=====================================\n",
      "['N', 'N', 'N', 'N', 'N', 'N', 'N', 'N', 'N', 'N']\n",
      "[1, 1, 1, 1, 1, 1, 1, 1, 1, 1]\n",
      "=====================================\n",
      "['N', 'N', 'N', 'N', 'N', 'N', 'N', 'N', 'N', 'N']\n",
      "[1, 1, 1, 1, 1, 1, 1, 1, 1, 1]\n",
      "=====================================\n",
      "['N', 'N', 'N', 'N', 'N', 'N', 'N', 'N', 'N', 'N']\n",
      "[1, 1, 1, 1, 1, 1, 1, 1, 1, 1]\n",
      "=====================================\n"
     ]
    }
   ],
   "source": [
    "count = 0\n",
    "for cs, score, label in zip(cssplits_control, scores_control, labels_control):\n",
    "    if label == 2:\n",
    "        print(cs[-10:])\n",
    "        print(score[-10:])\n",
    "        print(\"=====================================\")\n",
    "        count += 1\n",
    "    if count == 5:\n",
    "        break"
   ]
  },
  {
   "attachments": {},
   "cell_type": "markdown",
   "metadata": {},
   "source": [
    "### labels=2とlabels_control=3が似ているということを示したい"
   ]
  },
  {
   "cell_type": "code",
   "execution_count": 31,
   "metadata": {},
   "outputs": [],
   "source": [
    "label_score = [[label,score] for label, score in zip(labels, scores_sample)]\n",
    "label_score.sort(key=lambda x: x[0])"
   ]
  },
  {
   "cell_type": "code",
   "execution_count": 34,
   "metadata": {},
   "outputs": [
    {
     "name": "stdout",
     "output_type": "stream",
     "text": [
      "1 1191\n",
      "2 1145\n",
      "3 1512\n",
      "4 473\n"
     ]
    }
   ],
   "source": [
    "for label, score in groupby(label_score, key=lambda x: x[0]):\n",
    "    score = list(score)\n",
    "    coverage = len(score)\n",
    "    print(label, coverage)\n",
    "    "
   ]
  },
  {
   "attachments": {},
   "cell_type": "markdown",
   "metadata": {},
   "source": [
    "### 小括：ちょっと休憩\n",
    "\n",
    "- 連続するNは一括して`1`のスコアを割り当てた (`update_score`: 名前を変更する必要あり)\n",
    "- ControlをSampleのラベル数に合わせてクラスタリングすることで、Nが連続するクラスタの抽出ができた\n",
    "\n",
    "次回は\n",
    "- サンプルとコントロールの各ラベルごとのスコアのまとめ値に対して類似度を測定する\n",
    "- あまりにも似ているクラスタの扱いをどうするか\n",
    "    - サンプルの中でほかにもっとも類似するクラスタに割り当てる？\n",
    "    - `control`とラベルを付ける？"
   ]
  },
  {
   "cell_type": "code",
   "execution_count": null,
   "metadata": {},
   "outputs": [],
   "source": []
  },
  {
   "cell_type": "code",
   "execution_count": null,
   "metadata": {},
   "outputs": [],
   "source": []
  },
  {
   "cell_type": "code",
   "execution_count": null,
   "metadata": {},
   "outputs": [],
   "source": []
  },
  {
   "cell_type": "code",
   "execution_count": null,
   "metadata": {},
   "outputs": [],
   "source": []
  },
  {
   "cell_type": "code",
   "execution_count": null,
   "metadata": {},
   "outputs": [],
   "source": []
  },
  {
   "attachments": {},
   "cell_type": "markdown",
   "metadata": {},
   "source": [
    "# まとめ\n"
   ]
  },
  {
   "attachments": {},
   "cell_type": "markdown",
   "metadata": {},
   "source": [
    "- `MUTATION_LOCI`を`clustering`に組み込みました\n",
    "    - 速度の向上が期待できる（はず）です"
   ]
  },
  {
   "attachments": {},
   "cell_type": "markdown",
   "metadata": {},
   "source": [
    "# 次に取り組むこと"
   ]
  },
  {
   "attachments": {},
   "cell_type": "markdown",
   "metadata": {},
   "source": [
    "### Lists\n",
    "\n",
    "+ [ ] 短いリードの扱いをどうするべきか\n",
    "+ [ ] `SV`の判定をconsensus callのあとにする\n",
    "+ [ ] cis変異の両端が欠失している場合に、Nで置き換えるとtransとなってしまうのをどうするか（`clustering.replace_both_ends_n`）\n",
    "+ [ ] Insertionのなかにある変異を同定する手法を考案する\n",
    "+ [ ] Ayabe-taks1のright_loxpがいまいちな理由を考察する\n",
    "+ [ ] `preprocess.correct_sequence_error.replace_atmark`のコードがわかりにくい\n",
    "    + テストを用意してリファクタリングする"
   ]
  },
  {
   "cell_type": "markdown",
   "metadata": {},
   "source": []
  }
 ],
 "metadata": {
  "kernelspec": {
   "display_name": "base",
   "language": "python",
   "name": "python3"
  },
  "language_info": {
   "codemirror_mode": {
    "name": "ipython",
    "version": 3
   },
   "file_extension": ".py",
   "mimetype": "text/x-python",
   "name": "python",
   "nbconvert_exporter": "python",
   "pygments_lexer": "ipython3",
   "version": "3.10.6"
  },
  "orig_nbformat": 4,
  "vscode": {
   "interpreter": {
    "hash": "a09285d6cbc768c1977f96e8deb5ca1ec0d08675e9573ed6dfd37fd7d91de663"
   }
  }
 },
 "nbformat": 4,
 "nbformat_minor": 2
}
