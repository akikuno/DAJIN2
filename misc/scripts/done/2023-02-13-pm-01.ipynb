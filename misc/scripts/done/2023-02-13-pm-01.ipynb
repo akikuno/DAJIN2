{
 "cells": [
  {
   "attachments": {},
   "cell_type": "markdown",
   "metadata": {},
   "source": [
    "# 取り組み\n",
    "現時点のDAJIN2において以下の問題を解決できるのか検証する\n",
    "+ [ ] Albino点変異の1%"
   ]
  },
  {
   "cell_type": "code",
   "execution_count": 1,
   "metadata": {},
   "outputs": [
    {
     "name": "stdout",
     "output_type": "stream",
     "text": [
      "/mnt/d/Research/DAJIN2\n"
     ]
    }
   ],
   "source": [
    "# ルートディレクトリをPathに含めるおまじない\n",
    "import sys, os\n",
    "from pathlib import Path\n",
    "if os.getcwd() != \"/mnt/d/Research/DAJIN2\":\n",
    "    parent_path = str(Path(os.path.dirname(os.path.abspath(\"__file__\"))).parent.parent)\n",
    "    sys.path.append(parent_path)\n",
    "    os.chdir(parent_path)\n",
    "print(os.getcwd())"
   ]
  },
  {
   "attachments": {},
   "cell_type": "markdown",
   "metadata": {},
   "source": [
    "# 実験"
   ]
  },
  {
   "cell_type": "code",
   "execution_count": 2,
   "metadata": {},
   "outputs": [],
   "source": [
    "%%bash\n",
    "rm -rf \"DAJINResults/.tempdir\"\n",
    "ls DAJINResults"
   ]
  },
  {
   "cell_type": "code",
   "execution_count": 3,
   "metadata": {},
   "outputs": [
    {
     "name": "stdout",
     "output_type": "stream",
     "text": [
      "processing test-tyr-albino_01%...\n"
     ]
    },
    {
     "name": "stderr",
     "output_type": "stream",
     "text": [
      "\n",
      "real\t6m14.751s\n",
      "user\t8m8.960s\n",
      "sys\t2m46.663s\n"
     ]
    }
   ],
   "source": [
    "%%bash\n",
    "# Tyr 01%\n",
    "time python misc/quickstart.py"
   ]
  },
  {
   "cell_type": "code",
   "execution_count": 6,
   "metadata": {},
   "outputs": [
    {
     "name": "stdout",
     "output_type": "stream",
     "text": [
      "tyr_albino_01%.bam\n",
      "tyr_albino_01%.bam.bai\n",
      "tyr_albino_01%_allele10_control_sv_0.304%.bam\n",
      "tyr_albino_01%_allele10_control_sv_0.304%.bam.bai\n",
      "tyr_albino_01%_allele11_control_sv_0.304%.bam\n",
      "tyr_albino_01%_allele11_control_sv_0.304%.bam.bai\n",
      "tyr_albino_01%_allele12_control_sv_0.293%.bam\n",
      "tyr_albino_01%_allele12_control_sv_0.293%.bam.bai\n",
      "tyr_albino_01%_allele13_control_sv_0.272%.bam\n",
      "tyr_albino_01%_allele13_control_sv_0.272%.bam.bai\n",
      "tyr_albino_01%_allele14_control_sv_0.25%.bam\n",
      "tyr_albino_01%_allele14_control_sv_0.25%.bam.bai\n",
      "tyr_albino_01%_allele15_control_sv_0.239%.bam\n",
      "tyr_albino_01%_allele15_control_sv_0.239%.bam.bai\n",
      "tyr_albino_01%_allele16_control_sv_0.196%.bam\n",
      "tyr_albino_01%_allele16_control_sv_0.196%.bam.bai\n",
      "tyr_albino_01%_allele17_control_sv_0.174%.bam\n",
      "tyr_albino_01%_allele17_control_sv_0.174%.bam.bai\n",
      "tyr_albino_01%_allele18_control_sv_0.12%.bam\n",
      "tyr_albino_01%_allele18_control_sv_0.12%.bam.bai\n",
      "tyr_albino_01%_allele19_control_sv_0.109%.bam\n",
      "tyr_albino_01%_allele19_control_sv_0.109%.bam.bai\n",
      "tyr_albino_01%_allele1_control_intact_93.36%.bam\n",
      "tyr_albino_01%_allele1_control_intact_93.36%.bam.bai\n",
      "tyr_albino_01%_allele20_control_sv_0.065%.bam\n",
      "tyr_albino_01%_allele20_control_sv_0.065%.bam.bai\n",
      "tyr_albino_01%_allele21_control_sv_0.054%.bam\n",
      "tyr_albino_01%_allele21_control_sv_0.054%.bam.bai\n",
      "tyr_albino_01%_allele2_control_sv_0.902%.bam\n",
      "tyr_albino_01%_allele2_control_sv_0.902%.bam.bai\n",
      "tyr_albino_01%_allele3_control_mutated_0.63%.bam\n",
      "tyr_albino_01%_allele3_control_mutated_0.63%.bam.bai\n",
      "tyr_albino_01%_allele4_control_sv_0.576%.bam\n",
      "tyr_albino_01%_allele4_control_sv_0.576%.bam.bai\n",
      "tyr_albino_01%_allele5_control_sv_0.543%.bam\n",
      "tyr_albino_01%_allele5_control_sv_0.543%.bam.bai\n",
      "tyr_albino_01%_allele6_control_sv_0.522%.bam\n",
      "tyr_albino_01%_allele6_control_sv_0.522%.bam.bai\n",
      "tyr_albino_01%_allele7_control_sv_0.456%.bam\n",
      "tyr_albino_01%_allele7_control_sv_0.456%.bam.bai\n",
      "tyr_albino_01%_allele8_control_sv_0.326%.bam\n",
      "tyr_albino_01%_allele8_control_sv_0.326%.bam.bai\n",
      "tyr_albino_01%_allele9_control_sv_0.304%.bam\n",
      "tyr_albino_01%_allele9_control_sv_0.304%.bam.bai\n"
     ]
    }
   ],
   "source": [
    "%%bash\n",
    "ls \"DAJINResults/.tempdir/test-tyr-albino_01%/report/BAM/tyr_albino_01%/\""
   ]
  },
  {
   "attachments": {},
   "cell_type": "markdown",
   "metadata": {},
   "source": [
    "# 結果\n"
   ]
  },
  {
   "attachments": {},
   "cell_type": "markdown",
   "metadata": {},
   "source": [
    "+ [x] Albino点変異の1%\n",
    "\n",
    "無事に1%のアレルを補足できていることがわかった"
   ]
  },
  {
   "cell_type": "code",
   "execution_count": null,
   "metadata": {},
   "outputs": [],
   "source": []
  },
  {
   "attachments": {},
   "cell_type": "markdown",
   "metadata": {},
   "source": [
    "# 次回の課題"
   ]
  },
  {
   "attachments": {},
   "cell_type": "markdown",
   "metadata": {},
   "source": [
    "+ [x] ~~点変異、欠失、ノックインのデザインで動くかを確認する~~\n",
    "+ [x] ~~Clusteringのときの警告メッセージは無害なので消去する~~\n",
    "+ [ ] right_loxpがいまいちな理由を考察する\n",
    "    +  ~~[x] Ayabe-task1のpreprocessにおいて、329と1280の補正がされていない理由を検討する~~\n",
    "+ [x] ~~distanceの閾値を下げた状態で、1%点変異が検出できるか~~\n",
    "+ [ ] Insertionのなかにある変異を同定する手法を考案する\n",
    "+ [ ] `preprocess.correct_sequence_error.replace_atmark`のコードがわかりにくい\n",
    "    + テストを用意してリファクタリングする\n",
    "+ [ ] cis変異の両端が欠失している場合に、Nで置き換えるとtransとなってしまうのをどうするか（`replace_n`）\n",
    "+ [ ] 短いリードの扱いをどうするべきか"
   ]
  },
  {
   "cell_type": "markdown",
   "metadata": {},
   "source": []
  }
 ],
 "metadata": {
  "kernelspec": {
   "display_name": "base",
   "language": "python",
   "name": "python3"
  },
  "language_info": {
   "codemirror_mode": {
    "name": "ipython",
    "version": 3
   },
   "file_extension": ".py",
   "mimetype": "text/x-python",
   "name": "python",
   "nbconvert_exporter": "python",
   "pygments_lexer": "ipython3",
   "version": "3.10.6"
  },
  "orig_nbformat": 4,
  "vscode": {
   "interpreter": {
    "hash": "a09285d6cbc768c1977f96e8deb5ca1ec0d08675e9573ed6dfd37fd7d91de663"
   }
  }
 },
 "nbformat": 4,
 "nbformat_minor": 2
}
