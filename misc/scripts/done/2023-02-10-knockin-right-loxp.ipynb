{
 "cells": [
  {
   "attachments": {},
   "cell_type": "markdown",
   "metadata": {},
   "source": [
    "# 取り組み"
   ]
  },
  {
   "attachments": {},
   "cell_type": "markdown",
   "metadata": {},
   "source": [
    "+ [ ] right_loxpがいまいちな理由を考察する\n",
    "left_loxpに比べてright_loxpのクラスタがはっきりしない"
   ]
  },
  {
   "cell_type": "code",
   "execution_count": 8,
   "metadata": {},
   "outputs": [
    {
     "name": "stdout",
     "output_type": "stream",
     "text": [
      "/mnt/d/Research/DAJIN2\n"
     ]
    }
   ],
   "source": [
    "# ルートディレクトリをPathに含めるおまじない\n",
    "import sys, os\n",
    "from pathlib import Path\n",
    "if os.getcwd() != \"/mnt/d/Research/DAJIN2\":\n",
    "    parent_path = str(Path(os.path.dirname(os.path.abspath(\"__file__\"))).parent.parent)\n",
    "    sys.path.append(parent_path)\n",
    "    os.chdir(parent_path)\n",
    "print(os.getcwd())"
   ]
  },
  {
   "attachments": {},
   "cell_type": "markdown",
   "metadata": {},
   "source": [
    "# 実験"
   ]
  },
  {
   "cell_type": "code",
   "execution_count": 9,
   "metadata": {},
   "outputs": [
    {
     "name": "stdout",
     "output_type": "stream",
     "text": [
      "processing test-ayabe-task1...\n"
     ]
    }
   ],
   "source": [
    "from __future__ import annotations\n",
    "\n",
    "import sys, os\n",
    "from pathlib import Path\n",
    "\n",
    "sys.path.append(\"/mnt/d/Research/DAJIN2\")\n",
    "os.chdir(\"/mnt/d/Research/DAJIN2\")\n",
    "\n",
    "import hashlib\n",
    "from collections import defaultdict\n",
    "from pathlib import Path\n",
    "from importlib import reload\n",
    "\n",
    "from src.DAJIN2.core import preprocess, classification, clustering, consensus, report\n",
    "from src.DAJIN2.core.clustering import clustering\n",
    "\n",
    "# # * flox insertion\n",
    "SAMPLE, CONTROL, ALLELE, NAME, GENOME, DEBUG, THREADS = (\n",
    "    \"examples/flox-cables2/AyabeTask1/barcode31.fq.gz\",\n",
    "    \"examples/flox-cables2/AyabeTask1/barcode42.fq.gz\",\n",
    "    \"examples/flox-cables2/AyabeTask1/design_cables2.fa\",\n",
    "    \"test-ayabe-task1\",\n",
    "    \"mm10\",\n",
    "    True,\n",
    "    14,\n",
    ")\n",
    "\n",
    "print(f\"processing {NAME}...\")\n",
    "\n",
    "##########################################################\n",
    "# Check inputs\n",
    "##########################################################\n",
    "preprocess.check_inputs.check_files(SAMPLE, CONTROL, ALLELE)\n",
    "TEMPDIR = Path(\"DAJINResults\", \".tempdir\", NAME)\n",
    "IS_CACHE_CONTROL = preprocess.check_inputs.exists_cached_control(CONTROL, TEMPDIR)\n",
    "IS_CACHE_GENOME = preprocess.check_inputs.exists_cached_genome(GENOME, TEMPDIR, IS_CACHE_CONTROL)\n",
    "UCSC_URL, GOLDENPATH_URL = None, None\n",
    "if GENOME and not IS_CACHE_GENOME:\n",
    "    UCSC_URL, GOLDENPATH_URL = preprocess.check_inputs.check_and_fetch_genome(GENOME)\n",
    "\n",
    "##########################################################\n",
    "# Format inputs\n",
    "##########################################################\n",
    "SAMPLE_NAME = preprocess.format_inputs.extract_basename(SAMPLE)\n",
    "CONTROL_NAME = preprocess.format_inputs.extract_basename(CONTROL)\n",
    "FASTA_ALLELES = preprocess.format_inputs.dictionize_allele(ALLELE)\n",
    "\n",
    "preprocess.format_inputs.make_directories(TEMPDIR, SAMPLE_NAME, CONTROL_NAME)\n",
    "\n",
    "if GENOME:\n",
    "    GENOME_COODINATES = preprocess.format_inputs.fetch_coodinate(GENOME, UCSC_URL, FASTA_ALLELES[\"control\"])\n",
    "    CHROME_SIZE = preprocess.format_inputs.fetch_chrom_size(GENOME_COODINATES[\"chr\"], GENOME, GOLDENPATH_URL)\n",
    "    preprocess.format_inputs.cache_coodinates_and_chromsize(TEMPDIR, GENOME, GENOME_COODINATES, CHROME_SIZE)"
   ]
  },
  {
   "cell_type": "code",
   "execution_count": 10,
   "metadata": {},
   "outputs": [],
   "source": [
    "########################################################################\n",
    "# Classify alleles\n",
    "########################################################################\n",
    "\n",
    "classif_sample = classification.classify_alleles(TEMPDIR, SAMPLE_NAME)\n",
    "\n",
    "for classif in classif_sample:\n",
    "    classif[\"SV\"] = classification.detect_sv(classif[\"CSSPLIT\"], threshold=50)"
   ]
  },
  {
   "cell_type": "code",
   "execution_count": 7,
   "metadata": {},
   "outputs": [],
   "source": [
    "clust_sample = clustering.add_labels(classif_sample, TEMPDIR, CONTROL_NAME, FASTA_ALLELES, THREADS)\n",
    "clust_sample = clustering.add_readnum(clust_sample)\n",
    "clust_sample = clustering.add_percent(clust_sample)\n",
    "clust_sample = clustering.update_labels(clust_sample)\n"
   ]
  },
  {
   "cell_type": "code",
   "execution_count": 15,
   "metadata": {},
   "outputs": [],
   "source": [
    "both_loxp = \"f855fb9b57ee\"\n",
    "no_loxp = \"54661f075dc2\"\n",
    "left_loxp = \"7089ae32a686\"\n",
    "right_loxp = \"af9e73c7f917\""
   ]
  },
  {
   "cell_type": "code",
   "execution_count": 16,
   "metadata": {},
   "outputs": [
    {
     "name": "stdout",
     "output_type": "stream",
     "text": [
      "both_loxp: 1\n",
      "right_loxp: 2\n",
      "no_loxp: 2\n",
      "left_loxp: 3\n"
     ]
    }
   ],
   "source": [
    "for samp in clust_sample:\n",
    "    if both_loxp in samp[\"QNAME\"]:\n",
    "        print(f\"both_loxp: {samp['LABEL']}\")\n",
    "    if left_loxp in samp[\"QNAME\"]:\n",
    "        print(f\"left_loxp: {samp['LABEL']}\")\n",
    "    if right_loxp in samp[\"QNAME\"]:\n",
    "        print(f\"right_loxp: {samp['LABEL']}\")\n",
    "    if no_loxp in samp[\"QNAME\"]:\n",
    "        print(f\"no_loxp: {samp['LABEL']}\")"
   ]
  },
  {
   "cell_type": "markdown",
   "metadata": {},
   "source": [
    "### right_loxpとno_loxpが分かれていない"
   ]
  },
  {
   "cell_type": "code",
   "execution_count": 18,
   "metadata": {},
   "outputs": [
    {
     "name": "stdout",
     "output_type": "stream",
     "text": [
      "right_loxp: 568 =G,=G,=C,=A,=A,=G,=A,=A,=C,=G,=A,=C,=C,=T,=G,=C,=T,=T,=T,=T,=T,=A,=C,=C,=T,=T,=A,=C,=A,=G,=A,=A,=C,=C,=A,=A,=G,=C,=A,=T,=G,=C,=A,=T,=C,=T,=G,=G,=A,=T,=C,=A,=C,=C,=A,=A,=G,=A,=C,=A,=C,=A,=A,=A,=G,=G,=C,=C,=T,=G,=A,=A,=G,=A,=A,=A,=A,=C,=C,=C,=A,=C,=T,=T,=C,=A,=T,=C,=A,=A,=G,=A,=A,=C,=A,=T,=G,=A,=G,=G,=C,=A,=G,=T,=A,=T,=G,=A,=C,=A,=C,=A,=A,=A,=G,=A,=A,=C,=A,=G,=C,=A,=G,=G,=T,=G,=A,=G,=T,=G,=A,=G,=T,=G,=T,=A,=G,=G,=G,=C,=C,=A,=G,=G,=C,=C,=C,=G,=G,=G,=A,=A,=G,=G,=C,=C,=A,=C,=T,=G,=T,=G,=C,=T,=C,=C,=C,=T,=G,=T,=A,=C,=T,=G,=T,=A,=G,=G,=A,=T,=C,=A,=G,=G,=C,=C,=G,=T,=G,=T,=C,=T,=C,=T,=G,=G,=G,=G,=G,=C,=C,=A,=A,=A,=A,+T|=A,=T,=A,=T,=G,=A,=G,=A,=C,+T|*CG,*CT,=A,=G,=G,=C,=C,=C,=T,=G,=C,=C,=C,=C,=T,=G,=T,=T,=G,=G,=C,=A,=G,=C,=A,=G,=C,=C,=C,=C,=T,=T,=C,=T,=C,=C,=A,=T,=C,=A,=C,=C,=C,=G,=T,=T,=G,=T,=C,=C,=C,=C,=T,=G,=A,=C,=C,=C,=T,=C,=T,=A,=T,=A,=T,=T,=G,=T,=T,=G,=A,=A,=C,=A,=C,=T,=G,=G,=C,=T,=A,=G,=C,=A,=T,=A,=G,=C,=C,=A,=G,=G,=C,=C,=A,=G,=C,=A,=A,=G,=C,=C,=A,=C,=C,=A,=C,=T,=G,=T,=A,=T,=A,=A,=T,=C,=C,=C,=A,=G,=G,=G,=A,=A,=G,=A,=G,=C,=C,+A|=A,=C,=C,=A,=G,=C,=T,=G,=G,=A,=C,=A,=C,=A,=A,=A,=T,=C,=T,=T,=A,=A,=G,=A,=A,=A,=A,=A,=G,=A,=G,=A,=C,=T,=A,=G,=G,=C,=A,=C,=C,=A,=C,=T,=G,=T,=A,=T,=A,=A,=T,=C,=C,=C,=A,=G,=G,=G,=A,=A,=G,=G,=G,=C,=C,=A,=G,=C,=A,=G,=C,=T,=G,=G,=A,=C,=A,=C,=A,=G,=A,=T,=C,=T,=T,=A,=A,=G,=A,=A,=A,=A,=A,=G,=A,=G,=A,=C,=T,=A,=G,=G,=G,=A,=A,=A,=G,=C,=A,=A,=A,=A,=A,=T,=G,=C,=C,=T,=C,=C,=C,=C,=C,=C,=T,=C,=C,=C,=C,=A,=A,=A,=T,=G,=T,=G,=C,=C,=C,=A,=G,=G,=A,=T,=A,=G,=A,=A,=G,=G,=T,=G,=C,=G,=A,=C,=C,=A,=T,=A,=T,=T,=T,=G,=G,=G,=G,=C,=A,=C,=A,=T,=A,=T,=A,=C,=A,=G,=G,=A,=T,-A,-A,-G,=G,=C,=A,=T,=G,=G,=C,=T,=A,=T,=A,=C,+T|=T,=T,=G,=T,=C,=A,=G,=C,=A,=C,=T,=A,=A,=G,=A,=G,=T,=T,=C,=C,+A|+T|+T|+A|=A,=T,=T,=G,=G,=G,=G,=A,=C,=A,=C,=A,=C,=A,=G,=A,=T,=G,=G,=A,=G,=A,=T,=G,=A,=G,=G,=T,=A,=T,=A,=T,=T,=G,=G,=G,=G,=G,=A,=C,=A,=T,=A,*TA,=G,=G,=G,=A,=G,=G,=C,=T,=T,=A,=A,=C,=T,=C,=A,=A,=A,=C,=T,+T|+G|*AG,=G,=T,=A,+T|=T,=T,=T,=G,=G,=G,=T,=C,=C,=C,=C,=A,=G,=A,=A,=C,=A,=G,=T,=G,=C,=T,=A,=G,=G,=C,=T,=A,=G,=A,=A,=T,=C,=T,=G,=G,=G,=C,=A,=G,=C,=T,=G,=C,=A,=T,=A,=T,=G,=C,=C,=T,=G,=C,=A,=C,=T,=G,=G,=T,=G,=C,=A,=A,=A,=C,=A,=C,=A,=C,=T,=A,=C,=C,=T,=G,=T,=C,=A,=C,=T,=C,=T,=G,=A,=T,=C,=T,=C,=A,=G,=T,=C,=C,=C,=T,=T,=C,=C,=C,=T,=G,=C,=T,=G,=T,=A,=G,=G,=T,=C,=A,=C,=C,=G,-T,=G,=A,=T,=A,=A,=G,=T,=A,=T,=C,=C,=C,=C,=A,=G,=G,=A,=A,=C,=T,=G,=T,=T,=G,=C,=T,=G,=C,=A,=G,=G,=A,=C,=C,=T,=G,=C,=A,=A,=A,=T,=C,=C,=T,=A,=A,=G,=T,=C,=C,=T,=G,=A,=G,=A,=C,=C,=A,+G|=C,+G|*AT,=G,=G,=G,=T,=G,=G,=C,=C,=T,=A,=T,=G,=G,=T,=T,=A,=T,=A,=G,=C,=T,=T,=T,=G,=A,=G,=C,=A,=T,=T,=C,*AT,=G,*GT,*GA,=G,=C,=C,=C,=C,=A,=G,=T,=C,=C,=T,=A,=A,=G,=C,=C,=C,=C,=C,=C,=T,=A,=G,=A,=T,=A,=G,=C,=T,=T,=A,=G,=T,=T,=C,=T,=G,=T,=A,=T,=T,=A,=T,=A,=T,=C,=T,=A,=G,=G,=T,=G,=T,=T,=C,=T,=C,=T,=A,=T,=T,=A,=G,=C,=A,=G,=T,=A,=A,=A,=C,=C,=T,=T,=G,=T,=G,=T,=T,=T,=G,=C,=C,=T,=G,=T,=A,=C,=T,=C,=T,=G,=T,=A,=G,=C,=C,=T,=G,=T,=T,=G,=C,=C,=A,=A,=T,=G,=A,=A,=C,=T,=T,=G,=G,*CT,=A,=G,=C,=T,=T,=C,=C,=T,=G,=T,=G,=C,=C,=C,=T,=C,=T,=C,=T,=T,=T,=G,=T,=G,=C,=G,=A,=A,=T,=G,=A,=A,=G,=C,=T,=G,=C,=C,=C,=T,=T,=T,=C,=C,=T,=G,=G,=G,=T,=A,=A,=C,=C,=T,=G,=T,=G,=C,=T,=C,=C,=T,=G,=G,=G,=A,=G,=C,=A,=G,=G,=G,=A,=G,=C,=T,=T,=C,=C,=T,=A,=A,=G,=C,=A,=G,=A,=T,=C,=T,=A,=G,=G,=G,=A,=A,=T,=C,=T,=G,=G,=C,=C,=C,*AT,*AT,=G,-T,=G,=C,=T,=A,=A,=G,=A,=T,=G,=C,=C,=A,=G,=A,=C,N,=T,=G,=G,=C,=T,=T,=C,=C,=G,=G,=A,=A,=T,=C,=C,=A,=A,=G,=T,=C,=C,=C,=C,=T,=T,=G,=G,=T,=G,=G,=C,=T,=C,=T,=G,=G,=C,=A,=G,=T,=T,=T,=C,=C,=C,=A,=T,=C,=A,=C,=C,=C,=A,=A,=A,=T,=G,=T,=A,=G,=A,+G|=C,=A,=G,=G,=A,=C,=A,=G,=A,=G,=T,=T,=C,=C,=T,=G,=C,*CT,=C,=T,=G,=C,=T,=C,=T,=G,=A,=C,=C,=T,=C,=G,=G,=C,=C,=T,=C,=C,=C,=A,=C,=A,=G,=G,=A,=T,-T,-G,-T,-A,=C,=T,-C,=A,=T,=C,=T,=G,=T,=G,=C,=C,=A,=A,=G,=C,=G,=G,=T,=C,=C,=C,=T,=G,=T,=G,=T,=G,=C,=G,=G,=C,=C,=T,=T,=C,=T,=C,=A,=G,=T,=C,=C,=T,=G,=C,*CT,=C,*TC,=A,=T,=G,=G,=A,=G,=A,=A,=G,=G,=C,=C,=T,=A,=C,=G,=G,=A,=T,=C,=A,=G,=G,=T,=A,=A,=G,=A,=A,=A,=C,=T,=G,=C,=C,=C,=A,=T,=G,=C,=T,=G,=C,=G,=A,=A,=C,=A,=C,=G,=G,=G,=T,=A,=A,=G,=C,=C,=C,=T,=G,=G,=T,=C,=C,=T,=G,=C,=T,=G,=A,=G,=C,=A,=C,=A,=A,=T,=C,=A,=G,=T,=G,=T,=G,=G,=C,=C,=T,=G,=C,=T,=C,=T,=T,=G,=A,=G,=T,=G,=T,=A,=G,=G,=C,=T,=G,=G,=G,=G,=C,=C,=T,=T,=A,+G|=G,=A,=C,=T,=C,=A,=T,=G,=G,=G,=G,=C,=C,=A,=G,=C,=A,=T,=A,=T,=C,=G,=T,=C,=T,=C,=C,=C,=T,=C,=C,=A,=C,=A,=G,=C,=C,=C,=A,=G,=G,=A,=G,=T,=T,=T,=G,=C,=A,=T,=T,*CT,=C,=A,=G,=G,=T,=T,=C,=T,=T,=A,=T,=C,=C,=C,=C,=G,=G,=A,=G,=C,=C,=A,=C,=G,=G,=G,=T,=T,=C,=T,=G,=T,=C,=C,=A,=G,=A,=C,=T,=A,=T,=C,=T,=A,=T,=A,=T,=G,=T,=G,=T,=G,=T,=G,=G,=G,=A,=T,=G,=T,=G,=T,=G,=T,=G,=T,=A,=G,=A,=T,=G,=G,=A,=T,=G,=G,=A,=T,=A,=G,=A,=T,=A,=G,=A,=T,=A,=G,=G,=C,=A,=G,=G,=C,=T,=A,=C,=A,=T,=A,=T,=A,=G,=G,=T,=T,=G,=G,=C,=T,=A,=T,=A,=T,=A,=T,=A,=G,=G,=T,=T,=A,=G,=C,=T,=A,=T,=A,=T,=A,=C,=A,=G,=G,=T,=A,=T,=G,=T,=A,=T,=C,=A,=G,=T,=A,-G,=G,=C,=T,=A,=T,=A,=T,=A,=T,=A,=G,=G,=T,=T,=G,=A,=C,=T,=G,=A,=G,=A,=T,=A,=T,=T,=C,=C,=T,=G,=A,=A,=C,=C,=T,=C,=T,=C,=T,=C,=A,=A,=A,=T,=A,=A,=G,=C,=T,=C,=C,=T,=A,=A,=A,=A,=C,=C,=T,=T,=G,=T,=G,=A,=C,=C,=A,=G,=C,=C,=C,=A,=G,=G,=C,=A,=A,=T,=T,=G,=T,=G,=T,=C,=C,=T,=G,=A,=G,=T,=A,=T,+A|=A,=A,=T,=T,=C,=A,=G,=G,=G,=A,=A,=G,=A,=A,=G,=G,=A,=A,=A,=C,=A,-G,*CA,=T,=G,=T,=T,=G,=G,=G,=G,=C,=G,=G,=G,=G,=C,=A,=G,=T,=G,=T,=T,=G,*TA,=G,=T,*GA,*TA,=G,=A,=C,=C,=C,=C,=A,+T|*CG,=A,=G,=A,=A,=C,=A,=A,=T,=A,=G,=T,=C,=G,=G,=C,=A,=C,=A,=G,=A,=A,=A,=A,*AC,=C,*CT,=T,=C,=C,=T,=G,=T,+T|+T|+C|+C|+A|+A|+C|+A|+T|+A|+A|+C|+T|+G|+C|+A|+T|+A|+T|+A|+C|+A|+T|+T|+A|+T|+A|+A|+T|+G|+A|+A|+G|+T|+T|+A|+T|+G|+G|+C|+G|+C|+G|+C|=C,=C,=A,=G,=A,=G,=T,=G,=G,=G,=A,=G,=A,=T,=A,=G,=C,=C,=A,=G,=T,=T,=C,=T,=C,=A,=G,=G,=A,=T,=C,=C,=C,=A,=G,=G,=C,=C,=A,=G,=C,=T,=G,=C,=T,=G,=A,=A,=C,=T,=G,=T,=G,=T,=G,=A,=C,=T,=A,=C,=A,=G,=G,=T,=G,=A,=A,=G,=G,=G,=A,=C,*TC,=G,=A,=G,=G,=C,=A,=C,=C,=T,=G,=G,=G,=A,=A,=G,=C,=G,=A,=A,=T,=T,=T,=A,=A,=G,=C,=C,=A,=A,=A,=G,=T,=C,=T,=G,=G,=T,=A,=A,=G,=T,=T,=T,=T,=C,=A,=G,=G,=G,=A,=T,=G,=T,=T,=C,=C,=A,=G,=A,=G,=T,=G,=G,=T,=G,=G,=C,=T,=C,=C,=C,=A,=G,=G,=T,=G,=C,=T,=A,=T,=G,=A,=C,=A,=G,=A,=T,=G,=A,=C,=A,=T,=C,=T,=A,=T,=C,=C,=T,=G,=T,=C,=A,=T,=C,=C,=A,=C,=A,=A,=G,=G,=C,=A,=G,=G,=A,=G,=T,=T,=A,=A,=G,=A,=T,=A,=C,=A,=G,=G,=C,=T,=G,=C,=C,=C,=T,=C,=A,=G,=G,=C,=T,=A,=A,=A,=C,=C,=T,=T,=C,=T,=G,=T,=C,=A,=T,=G,=T,=A,=C,=C,=T,=C,=C,=A,=A,=G,=G,=T,=C,=A,=T,=G,=C,=C,=C,=G,=C,=C,=C,=C,=C,=T,=T,=C,=T,=C,=C,=T,=G,=T,=T,=T,=T,=G,=A,=G,=G,=A,=C,=T,=T,=T,=G,=T,=G,=G,=C,=A,=G,=G,=A,=G,=C,=A,=C,=T,=C,=T,=G,=T,=G,=T,=G,=G,=G,=T,=G,=G,=A,=T,=T,=C,=C,=C,=G,=G,=T,=G,=G,=G,=C,=C,=G,=A,=G,=C,=A,=C,=C,=C,=A,=C,=C,=C,=A,=C,=T,=G,=A,=C,=C,=A,=C,=A,=G,=A,=C,=A,=G,=A,=G,=G,=G,=A,=C,=T,=A,=C,=A,=G,=C,=C,=C,=T,=C,=C,=C,=T,=C,=T,=C,=A,=T,=A,=T,=A,=C,=A,=T,=T,=G,=C,=A,=G,=T,=G,=A,=C,=C,=T,=G,=A,=G,=G,=G,=T,=G,=G,=A,=C,=A,=G,=C,=C,=A,=G,=A,=A,=G,=C,=A,=G,=A,=G,=G,=C,=A,=C,=C,=C,=A,=T,=C,=C,=G,=G,=C,=G,=G,=C,=G,=T,=T,=T,=C,+T|=T,=G,=T,=T,=T,=C,=T,=T,=C,=T,=G,=A,=G,=A,=T,=G,=G,=T,=C,=T,=T,=T,=G,=A,=A,=T,=T,=G,=G,=A,=A,=G,=G,=C,=G,=T,=T,=G,=A,=G,=C,=T,=G,=G,=G,=A,=G,=C,=A,=G,=A,=T,=G,=G,=A,=A,=A,=G,=G,=C,=A,=A,=G,=A,=G,=C,=C,=C,=T,=G,=T,=G,=G,=C,=C,=A,=G,=C,=C,=A,=T,=T,=G,=G,=C,=C,=A,=G,=C,=A,=G,=A,=G,=T,=T,=A,=G,=G,=C,=A,=G,=A,=C,=A,=G,=G,=T,=G,=C,=T,=G,=C,=A,=C,=A,=T,=T,=A,=A,=G,=G,=C,=A,=C,=A,=G,=T,=A,=T,=T,=G,=G,=G,=A,=G,=C,=A,=A,=G,=C,=C,=A,=C,=A,=C,=C,=C,=C,=G,=T,=T,=A,=C,=A,=C,=C,=T,=G,=T,=C,=A,=C,=T,=A,=G,=C,=T,=G,=G,=C,=T,=C,=A,=T,=G,=C,=C,=A,=C,=C,=C,=A,=G,=A,=G,=A,=A,=A,=G,=T,=G,=C,=C,=T,=A,=A,=G,=A,=G,=T,=A,=C,=A,=C,=C,=A,=T,=A,=C,=A,=C,=A,=G,=C,=C,=A,=C,=T,=G,=C,=T,=A,=G,=C,=T,=G,=T,=G,=G,=G,*TC,=A,=A,=C,+T|*CG,=C,=A,=A,=C,=T,=G,=C,=T,=C,=C,=C,=C,=T,=G,=G,=G,=T,=T,=C,=T,=C,=C,=A,=C,=A,=T,=A,=G,=A,=G,=C,=C,=T,=T,=G,=C,=T,=T,=C,=T,=G,=G,=A,=C,=C,=A,=G,*TC,=A,=A,+G|+G|=G,=T,=A,=G,=G,=C,=C,=A,=A,=G,=G,=G,=T,=C,=T,=T,=C,=C,=A,=A,=G,=A,=C,=A,=G,=A,=G,=A,=C,=T,=A,=G,=C,=C,=T,=G,=G,=C,=C,=A,=C,=A,=G,=A,=C,=C,=A,=C,=A,=G,=A,=T,=T,+G|*AT,=G,=G,=C,=A,=T,=G,=G,=A,=A,=G,=C,=T,=A,=G,=T,=G,=C,=T,=C,=T,=G,=A,=C,=C,=T,=T,=G,=A,=A,=A,=G,=T,=A,=C,=C,=C,=A,=C,=T,=C,=C,=G,=A,=C,=T,=G,=G,=G,=T,=A,=G,=C,=A,=G,=C,=A,=T,=G,=G,=C,=T,=T,=C,=A,=G,=G,=C,=T,=C,=C,=T,=C,=A,=C,=T,=G,=G,=A,=G,=G,=G,=C,=A,=G,=A,=G,=G,=G,=A,=A,=G,=C,=A,=G,=A,=A,=C,=T,=T,=G,=G,=T,=T,=G,=T,=A,=C,=T,=T,=T,=C,=T,=G,=G,=C,=C,=T,=G,=G,=G,=G,=A,=G,=C,=A,=G,=A,=A,=C,=T,=G,=A,=G,=C,=T,=A,=A,=T,=G,=T,=G,=A,=T,=T,=G,=C,=T,=T,=T,=T,=C,=C,=A,=G,=G,=T,=C,=G,=T,=G,=T,=C,=T,=T,=A,=T,=G,=C,=A,=A,=A,=G,=T,=T,=C,=C,=T,=G,=T,=A,=C,=C,=C,=T,=A,=C,=T,=A,=A,=T,=G,=C,=T,=C,=T,=G,=G,=T,=T,=A,=T,=A,=C,=A,=C,=A,=A,=G,=A,=A,=T,=G,=A,=C,=A,=G,=C,=C,=A,=T,=G,=G,=C\n",
      "no_loxp: 612 =G,=G,=C,=A,=A,=G,=A,=A,=C,=G,=A,=C,=C,=T,=G,=C,=T,=T,=T,=T,=T,=A,=C,=C,+A|=T,=T,=A,=C,=A,=G,=A,=A,=C,=C,=A,=A,=G,=C,=A,=T,=G,=C,=A,=T,=C,=T,=G,=G,=A,=T,=C,=A,+C|=C,=C,=A,=A,=G,=A,=C,=A,=C,=A,=A,=A,=G,=G,=C,=C,=T,=G,=A,=A,=G,=A,=A,=A,=A,=C,=C,=C,=A,=C,=T,=T,=C,=A,=T,=C,=A,=A,=G,=A,+A|+G|=A,=C,=A,=T,=G,=A,=G,=G,=C,=A,=G,=T,=A,=T,=G,=A,=C,=A,=C,=A,=A,=A,=G,=A,=A,=C,=A,=G,=C,=A,=G,=G,=T,=G,=A,=G,=T,=G,=A,=G,=T,=G,=T,=A,=G,=G,=G,=C,=C,=A,=G,=G,=C,=C,=C,=G,=G,=G,=A,=A,=G,=G,=C,-C,-A,=C,=T,=G,=T,=G,=C,=T,=C,=C,=C,=T,=G,=T,=A,=C,=T,=G,=T,=A,=G,=G,=A,=T,=C,=A,=G,=G,=C,=C,=G,=T,=G,=T,=C,=T,=C,=T,=G,=G,=G,=G,=G,=C,=C,=A,=A,=A,=A,=A,=T,=A,=T,=G,=A,=G,=A,=C,=C,=C,=A,=G,=G,=C,=C,=C,=T,=G,=C,=C,=C,=C,=T,=G,=T,=T,=G,=G,=C,=A,=G,=C,=A,=G,=C,=C,=C,=C,=T,=T,=C,=T,=C,=C,=A,=T,=C,=A,=C,=C,=C,=G,=T,=T,=G,=T,=C,=C,=C,=C,=T,=G,=A,=C,=C,=C,=T,=C,=T,=A,=T,=A,=T,=T,=G,=T,=T,*GA,*AG,=A,=C,=A,=C,=T,=G,=G,=C,=T,=A,=G,=C,=A,=T,=A,=G,=C,=C,=A,=G,=G,=C,=C,=A,=G,=C,=A,=A,=G,=C,=C,=A,=C,=C,=A,=C,=T,=G,=T,=A,=T,=A,=A,=T,-C,=C,=C,=A,=G,=G,=G,=A,=A,=G,=A,=G,=C,=C,=A,=C,=C,=A,=G,=C,=T,=G,=G,-A,-C,=A,=C,=A,=A,=A,=T,=C,=T,=T,=A,=A,=G,=A,=A,=A,=A,=A,=G,=A,=G,=A,=C,=T,=A,=G,+A|=G,=C,=A,=C,-C,-A,=C,=T,=G,=T,=A,=T,=A,=A,=T,=C,=C,=C,*AG,=G,=G,=G,=A,=A,=G,=G,=G,=C,=C,=A,=G,=C,=A,=G,=C,=T,=G,=G,=A,=C,=A,=C,=A,=G,=A,=T,=C,=T,=T,=A,=A,=G,=A,=A,=A,=A,=A,=G,=A,=G,=A,=C,=T,=A,=G,=G,=G,=A,=A,=A,=G,=C,=A,=A,=A,=A,=A,=T,=G,=C,=C,=T,=C,=C,=C,=C,=C,=C,=T,=C,=C,=C,=C,=A,=A,=A,=T,+A|*GT,=T,=G,=C,=C,=C,=A,=G,=G,=A,=T,=A,=G,=A,=A,=G,=G,=T,=G,=C,=G,=A,=C,=C,=A,=T,=A,=T,=T,=T,=G,=G,=G,=G,=C,=A,=C,=A,=T,=A,=T,=A,=C,=A,=G,=G,=A,=T,=A,=A,=G,=G,=C,=A,=T,=G,=G,=C,=T,=A,=T,=A,=C,=T,=T,=G,=T,=C,=A,=G,=C,=A,=C,=T,=A,=A,=G,=A,=G,=T,=T,=C,=C,=A,=T,=T,=G,=G,=G,=G,=A,=C,=A,=C,=A,=C,=A,=G,=A,=T,=G,=G,=A,=G,=A,=T,=G,=A,=G,=G,=T,=A,=T,=A,=T,=T,=G,=G,=G,=G,=G,=A,=C,=A,=T,=A,=T,=G,=G,=G,=A,=G,+A|+A|*GA,=C,=T,=T,=A,=A,=C,=T,=C,=A,=A,=A,=C,=T,=A,=G,=T,=A,=T,=T,=T,=G,=G,=G,=T,=C,=C,=C,=C,=A,=G,=A,=A,=C,=A,=G,=T,=G,=C,=T,=A,=G,=G,=C,=T,=A,=G,=A,=A,=T,=C,=T,=G,=G,=G,=C,=A,=G,=C,=T,=G,=C,=A,=T,=A,=T,=G,=C,=C,=T,=G,=C,=A,=C,=T,=G,=G,=T,=G,=C,=A,=A,=A,=C,=A,=C,=A,=C,=T,=A,=C,=C,=T,=G,=T,=C,=A,=C,=T,=C,=T,=G,=A,=T,=C,=T,=C,=A,=G,=T,=C,=C,=C,=T,=T,=C,=C,=C,=T,=G,-C,-T,-G,-T,-A,-G,-G,-T,-C,-A,=C,=C,-G,-T,=G,=A,=T,=A,=A,=G,=T,=A,=T,=C,=C,=C,=C,=A,=G,=G,=A,=A,=C,=T,=G,=T,=T,=G,=C,=T,=G,=C,=A,=G,=G,=A,=C,=C,=T,=G,=C,=A,=A,=A,=T,=C,=C,=T,=A,=A,=G,=T,=C,=C,=T,=G,=A,=G,=A,=C,=C,=A,=C,=A,=G,=G,=G,=T,=G,=G,=C,=C,=T,=A,=T,=G,=G,=T,=T,=A,=T,=A,*GA,=C,=T,=T,=T,=G,=A,=G,=C,=A,=T,=T,=C,=A,=G,=G,=G,=G,=C,=C,=C,=C,=A,=G,=T,=C,=C,=T,=A,=A,=G,=C,=C,=C,=C,=C,=C,=T,=A,=G,=A,=T,=A,=G,=C,=T,=T,=A,=G,=T,=T,=C,=T,=G,=T,=A,=T,=T,=A,=T,=A,=T,=C,=T,=A,=G,=G,=T,=G,=T,=T,=C,=T,=C,=T,=A,=T,=T,=A,=G,=C,=A,=G,=T,=A,=A,=A,=C,=C,=T,=T,=G,=T,=G,=T,=T,=T,=G,=C,=C,=T,=G,=T,=A,=C,=T,=C,=T,=G,=T,=A,=G,=C,=C,=T,=G,=T,=T,=G,=C,=C,=A,=A,=T,=G,=A,=A,=C,=T,=T,=G,=G,=C,=A,=G,=C,=T,=T,=C,=C,=T,=G,=T,=G,=C,=C,=C,=T,=C,=T,=C,=T,=T,=T,=G,=T,=G,=C,=G,=A,=A,=T,=G,=A,=A,=G,=C,=T,=G,=C,=C,=C,=T,=T,=T,=C,=C,=T,=G,=G,=G,=T,=A,=A,=C,=C,=T,=G,=T,=G,=C,=T,=C,=C,=T,=G,=G,=G,=A,=G,=C,=A,=G,=G,=G,=A,=G,=C,=T,=T,=C,=C,=T,=A,=A,=G,=C,=A,=G,=A,=T,=C,=T,=A,=G,=G,=G,=A,=A,=T,=C,=T,=G,=G,=C,=C,=C,=A,=A,=G,=T,=G,=C,=T,=A,=A,=G,=A,=T,=G,=C,=C,=A,=G,=A,=C,=C,=T,=G,=G,=C,=T,=T,=C,=C,=G,=G,=A,=A,=T,=C,=C,=A,=A,=G,=T,=C,=C,=C,=C,=T,=T,=G,=G,=T,=G,=G,=C,=T,=C,=T,=G,=G,=C,=A,=G,=T,=T,=T,=C,=C,=C,=A,=T,=C,=A,=C,=C,=C,=A,=A,=A,=T,=G,=T,=A,=G,=A,=C,=A,=G,=G,=A,=C,=A,=G,=A,=G,=T,=T,=C,=C,=T,=G,=C,=C,=C,=T,=G,=C,=T,=C,-T,*GC,=A,=C,*CG,*TA,*CT,=G,=G,=C,=C,=T,=C,=C,=C,=A,=C,=A,=G,=G,=A,=T,=T,=G,=T,=A,=C,=T,=C,=A,=T,=C,=T,=G,=T,=G,=C,=C,=A,=A,=G,=C,=G,=G,=T,=C,=C,=C,=T,=G,=T,=G,=T,=G,=C,=G,=G,=C,=C,=T,=T,=C,=T,=C,=A,=G,=T,*CT,=C,=T,=G,=C,=C,=C,=T,=A,=T,=G,=G,=A,=G,=A,=A,=G,=G,=C,=C,=T,=A,=C,=G,=G,=A,=T,=C,=A,=G,=G,=T,=A,=A,=G,=A,=A,=A,=C,=T,=G,=C,=C,=C,=A,=T,=G,=C,=T,=G,=C,+A|=G,=A,=A,=C,=A,=C,=G,=G,=G,=T,=A,=A,=G,=C,=C,=C,=T,=G,=G,=T,=C,=C,=T,=G,=C,=T,=G,=A,=G,=C,=A,=C,=A,=A,=T,=C,=A,=G,=T,=G,=T,=G,=G,=C,=C,=T,=G,=C,=T,=C,=T,=T,=G,=A,=G,=T,=G,=T,=A,=G,=G,=C,*TC,*GC,*GA,=G,*GA,=C,=C,=T,=T,=A,=G,=A,=C,=T,=C,=A,=T,=G,=G,=G,=G,=C,=C,=A,=G,=C,=A,=T,=A,=T,=C,=G,=T,=C,=T,=C,=C,=C,=T,=C,=C,=A,=C,=A,=G,=C,=C,=C,=A,=G,=G,=A,=G,=T,=T,=T,=G,=C,=A,=T,=T,=C,=C,=A,=G,=G,=T,=T,=C,=T,=T,=A,=T,=C,=C,=C,=C,=G,=G,=A,=G,=C,=C,=A,=C,=G,=G,=G,=T,=T,=C,=T,=G,=T,=C,=C,=A,=G,=A,=C,=T,=A,=T,=C,=T,=A,=T,=A,=T,=G,=T,=G,=T,=G,=T,=G,=G,=G,=A,=T,=G,=T,=G,=T,=G,=T,=G,=T,=A,=G,=A,=T,=G,=G,=A,=T,=G,=G,=A,=T,=A,=G,=A,=T,=A,=G,=A,=T,=A,=G,=G,=C,=A,=G,=G,=C,=T,=A,=C,=A,=T,=A,=T,=A,=G,=G,=T,=T,=G,=G,=C,=T,=A,=T,=A,=T,=A,=T,=A,=G,=G,=T,=T,=A,=G,=C,=T,=A,=T,=A,=T,=A,=C,=A,=G,=G,=T,=A,=T,=G,=T,=A,=T,=C,=A,=G,=T,=A,=G,=G,=C,=T,=A,=T,=A,=T,=A,=T,=A,+G|=G,=G,=T,=T,=G,=A,=C,=T,=G,=A,=G,=A,=T,=A,=T,=T,=C,=C,=T,=G,=A,+A|+G|+A|+C|=A,=C,=C,=T,=C,=T,=C,=T,=C,=A,=A,=A,=T,=A,=A,=G,=C,=T,=C,+A|=C,N,=A,=A,=A,=A,=C,=C,=T,=T,=G,=T,=G,=A,=C,=C,=A,=G,=C,=C,=C,=A,=G,=G,=C,=A,=A,=T,=T,=G,=T,=G,=T,=C,=C,=T,=G,=A,+A|+G|=G,=T,=A,=T,=A,=A,=T,=T,=C,=A,=G,=G,=G,=A,=A,=G,=A,=A,=G,=G,=A,=A,=A,=C,=A,=G,=C,=T,=G,=T,=T,=G,=G,=G,=G,=C,=G,=G,=G,=G,=C,=A,=G,=T,=G,=T,=T,=G,=T,=G,=T,=G,=T,=G,=A,=C,=C,=C,=C,=A,=C,=A,=G,=A,=A,=C,=A,=A,=T,=A,=G,=T,=C,=G,=G,=C,=A,=C,=A,=G,=A,=A,=A,=A,=A,=C,=C,=T,=C,=C,=T,=G,=T,=C,=C,=A,=G,=A,=G,=T,=G,=G,=G,=A,=G,=A,=T,=A,=G,=C,=C,=A,=G,=T,=T,=C,=T,=C,=A,=G,=G,=A,=T,=C,=C,=C,=A,=G,=G,=C,=C,=A,=G,=C,=T,=G,=C,=T,=G,=A,=A,=C,=T,=G,=T,=G,=T,=G,=A,=C,=T,=A,=C,=A,=G,+G|+T|=G,=T,=G,=A,=A,=G,=G,=G,=A,=C,-T,-G,=A,=G,=G,=C,=A,=C,=C,=T,=G,=G,=G,=A,=A,=G,=C,=G,=A,=A,=T,=T,=T,=A,=A,=G,=C,=C,=A,=A,=A,=G,=T,=C,=T,=G,=G,=T,=A,=A,=G,=T,=T,=T,=T,=C,=A,=G,=G,=G,=A,=T,=G,=T,=T,=C,=C,=A,=G,=A,=G,=T,=G,=G,=T,=G,=G,=C,=T,=C,=C,=C,=A,=G,=G,=T,=G,=C,=T,=A,=T,=G,=A,=C,=A,=G,=A,=T,=G,=A,=C,=A,=T,=C,=T,=A,=T,=C,=C,=T,=G,=T,=C,=A,=T,=C,=C,=A,=C,=A,=A,=G,=G,=C,=A,=G,=G,=A,=G,=T,=T,=A,=A,=G,=A,=T,=A,=C,=A,=G,=G,=C,=T,=G,=C,=C,=C,=T,=C,=A,=G,=G,=C,=T,=A,=A,=A,=C,=C,=T,=T,=C,=T,=G,=T,=C,=A,=T,=G,=T,=A,=C,=C,=T,=C,=C,=A,=A,=G,=G,=T,=C,=A,=T,=G,=C,=C,=C,=G,=C,=C,=C,=C,=C,=T,=T,=C,=T,=C,=C,=T,=G,=T,=T,=T,=T,=G,=A,=G,=G,=A,=C,=T,=T,=T,=G,=T,=G,=G,=C,=A,=G,=G,=A,=G,=C,=A,=C,=T,=C,=T,=G,=T,=G,=T,=G,=G,=G,=T,=G,=G,=A,=T,=T,=C,=C,=C,=G,=G,=T,=G,=G,=G,=C,=C,=G,=A,=G,=C,=A,=C,=C,=C,=A,=C,=C,=C,=A,=C,=T,=G,=A,=C,=C,=A,=C,=A,=G,=A,=C,=A,=G,=A,=G,=G,=G,=A,=C,=T,=A,=C,=A,=G,=C,=C,=C,=T,=C,=C,=C,=T,=C,=T,=C,=A,=T,=A,=T,*AG,=C,=A,=T,=T,=G,=C,=A,=G,=T,=G,=A,=C,=C,=T,=G,=A,=G,=G,=G,=T,=G,=G,=A,=C,=A,=G,=C,=C,=A,=G,=A,=A,=G,=C,=A,=G,=A,=G,=G,=C,=A,=C,=C,=C,=A,=T,=C,=C,=G,=G,=C,=G,=G,=C,=G,=T,=T,=T,=C,=T,=G,=T,=T,=T,=C,=T,=T,=C,=T,=G,=A,=G,=A,=T,=G,=G,=T,=C,=T,=T,=T,=G,=A,=A,=T,=T,=G,=G,=A,=A,=G,=G,=C,=G,=T,=T,=G,=A,=G,=C,=T,=G,=G,-G,=A,=G,=C,=A,=G,=A,=T,=G,=G,=A,=A,=A,=G,=G,=C,=A,=A,=G,=A,=G,=C,=C,=C,=T,=G,=T,=G,=G,=C,=C,=A,=G,=C,=C,=A,=T,=T,=G,=G,=C,=C,=A,=G,=C,=A,=G,=A,=G,=T,=T,=A,=G,=G,=C,=A,=G,=A,=C,=A,=G,=G,=T,=G,=C,=T,=G,=C,=A,=C,=A,=T,=T,=A,=A,=G,=G,=C,=A,=C,=A,=G,=T,=A,=T,=T,=G,=G,=G,=A,=G,=C,=A,=A,=G,=C,=C,=A,=C,*AG,=C,=C,=C,=C,=G,=T,=T,=A,=C,=A,=C,=C,=T,=G,=T,=C,=A,=C,=T,=A,=G,=C,=T,=G,=G,=C,=T,=C,=A,=T,=G,=C,=C,=A,=C,=C,=C,=A,=G,=A,=G,=A,=A,=A,=G,=T,=G,=C,=C,=T,=A,=A,=G,=A,=G,=T,=A,=C,=A,=C,=C,=A,=T,=A,=C,=A,=C,=A,=G,=C,=C,=A,=C,=T,=G,=C,=T,=A,=G,=C,=T,=G,=T,=G,=G,=G,=T,=A,=A,=C,=C,=C,=A,=A,=C,=T,=G,=C,=T,=C,=C,=C,=C,=T,=G,=G,=G,=T,=T,=C,=T,=C,=C,=A,=C,=A,=T,=A,=G,=A,+G|+G|+A|+G|=G,=C,=C,=T,=T,=G,=C,=T,=T,=C,=T,=G,=G,=A,=C,=C,=A,=G,=T,=A,=A,=G,=T,=A,=G,=G,=C,=C,=A,=A,=G,=G,=G,=T,=C,=T,=T,=C,=C,=A,=A,=G,=A,=C,=A,=G,=A,=G,=A,=C,=T,=A,=G,=C,=C,=T,=G,=G,=C,=C,=A,=C,=A,=G,=A,=C,=C,=A,=C,=A,=G,=A,=T,=T,=A,=G,=G,=C,=A,=T,=G,=G,=A,=A,=G,=C,=T,=A,=G,=T,=G,=C,=T,=C,=T,=G,=A,=C,=C,=T,=T,=G,=A,=A,=A,=G,=T,=A,=C,=C,=C,=A,=C,=T,=C,=C,=G,=A,=C,=T,=G,=G,=G,=T,=A,=G,=C,=A,=G,=C,=A,=T,=G,=G,=C,=T,=T,=C,=A,=G,=G,=C,=T,=C,=C,=T,=C,=A,=C,=T,=G,=G,=A,=G,=G,=G,=C,=A,=G,=A,=G,=G,=G,=A,=A,=G,=C,=A,=G,=A,=A,=C,=T,=T,=G,=G,=T,=T,=G,=T,=A,=C,=T,=T,=T,=C,=T,=G,=G,=C,=C,=T,=G,=G,=G,=G,=A,=G,=C,=A,=G,=A,=A,=C,=T,=G,=A,-G,=C,=T,=A,=A,=T,=G,=T,=G,=A,=T,=T,=G,=C,=T,=T,=T,=T,=C,=C,=A,=G,=G,=T,=C,=G,=T,=G,=T,=C,=T,=T,=A,=T,=G,=C,=A,=A,=A,=G,=T,=T,=C,=C,=T,=G,=T,*AG,=C,=C,=C,=T,=A,=C,=T,=A,=A,=T,=G,=C,=T,=C,=T,=G,=G,=T,=T,=A,=T,-A,-C,=A,=C,=A,=A,=G,=A,=A,=T,=G,=A,=C,=A,=G,=C,=C,=A,=T,=G,=G,=C\n"
     ]
    }
   ],
   "source": [
    "for i, samp in enumerate(clust_sample):\n",
    "    if right_loxp in samp[\"QNAME\"]:\n",
    "        print(f\"right_loxp: {i} {samp['CSSPLIT']}\")\n",
    "    if no_loxp in samp[\"QNAME\"]:\n",
    "        print(f\"no_loxp: {i} {samp['CSSPLIT']}\")"
   ]
  },
  {
   "cell_type": "code",
   "execution_count": 37,
   "metadata": {},
   "outputs": [
    {
     "data": {
      "text/plain": [
       "'.............................................................................................................................................................................................................+T|=A........+T|*CG*CT...............................................................................................................................+A|=A....................................................................................................................................................................................-A-A-G............+T|=T...................+A|+T|+T|+A|=A..........................................*TA...................+T|+G|*AG...+T|=T..................................................................................................................-T..........................................................+G|=C+G|*AT...............................*AT.*GT*GA...................................................................................................................*CT........................................................................................................*AT*AT.-T...............N.............................................................+G|=C................*CT............................-T-G-T-A..-C...........................................*CT.*TC...................................................................................................................+G|=G..................................................*CT..................................................................................................................................................-G............................................................................................+A|=A....................-G*CA.....................*TA..*GA*TA.......+T|*CG.......................*AC.*CT......+T|+T|+C|+C|+A|+A|+C|+A|+T|+A|+A|+C|+T|+G|+C|+A|+T|+A|+T|+A|+C|+A|+T|+T|+A|+T|+A|+A|+T|+G|+A|+A|+G|+T|+T|+A|+T|+G|+G|+C|+G|+C|+G|+C|=C.......................................................................*TC.....................................................................................................................................................................................................................................................................................................................................................................+T|=T.....................................................................................................................................................................................................................................*TC...+T|*CG...............................................*TC..+G|+G|=G....................................................+G|*AT...............................................................................................................................................................................................................................'"
      ]
     },
     "execution_count": 37,
     "metadata": {},
     "output_type": "execute_result"
    }
   ],
   "source": [
    "x = [\".\" if cs.startswith(\"=\") else cs for cs in clust_sample[568][\"CSSPLIT\"].split(\",\")]\n",
    "\"\".join(x)"
   ]
  },
  {
   "cell_type": "code",
   "execution_count": 39,
   "metadata": {},
   "outputs": [
    {
     "data": {
      "text/plain": [
       "[1732]"
      ]
     },
     "execution_count": 39,
     "metadata": {},
     "output_type": "execute_result"
    }
   ],
   "source": [
    "[i for i, xx in enumerate(x) if \"+T|+T|+C|+C|+A|+A\" in xx]"
   ]
  },
  {
   "cell_type": "code",
   "execution_count": 24,
   "metadata": {},
   "outputs": [
    {
     "data": {
      "text/plain": [
       "'........................+A|=T...........................+C|=C.......................................+A|+G|=A..............................................................-C-A..............................................................................................................................*GA*AG............................................-C......................-A-C.........................+A|=G...-C-A............*AG..............................................................................+A|*GT...................................................................................................................................+A|+A|*GA.......................................................................................................................-C-T-G-T-A-G-G-T-C-A..-G-T..............................................................................*GA.....................................................................................................................................................................................................................................................................................................................................................-T*GC..*CG*TA*CT............................................................*CT..................................................+A|=G.............................................................*TC*GC*GA.*GA......................................................................................................................................................................................................................+G|=G....................+A|+G|+A|+C|=A..................+A|=CN....................................+A|+G|=G..........................................................................................................................................................+G|+T|=G.........-T-G........................................................................................................................................................................................................................................................................................................*AG.......................................................................................................-G..................................................................................................*AG........................................................................................................................+G|+G|+A|+G|=G..............................................................................................................................................................................................................-G..............................................*AG.....................-A-C....................'"
      ]
     },
     "execution_count": 24,
     "metadata": {},
     "output_type": "execute_result"
    }
   ],
   "source": [
    "x = [\".\" if cs.startswith(\"=\") else cs for cs in clust_sample[612][\"CSSPLIT\"].split(\",\")]\n",
    "\"\".join(x)"
   ]
  },
  {
   "cell_type": "code",
   "execution_count": 25,
   "metadata": {},
   "outputs": [],
   "source": [
    "from __future__ import annotations\n",
    "from itertools import groupby\n",
    "from copy import deepcopy\n",
    "from collections import defaultdict\n",
    "from pathlib import Path\n",
    "import midsv\n",
    "\n",
    "from src.DAJIN2.core.preprocess.correct_knockin import extract_knockin_loci\n",
    "from src.DAJIN2.core.clustering.preprocess import replace_both_ends_n\n",
    "from src.DAJIN2.core.clustering.make_score import make_score\n",
    "from src.DAJIN2.core.clustering.annotate_score import annotate_score\n",
    "from src.DAJIN2.core.clustering.reorder_labels import reorder_labels\n",
    "from src.DAJIN2.core.clustering.return_labels import return_labels\n",
    "\n",
    "\n",
    "paths_midsv = list(Path(TEMPDIR, \"midsv\").glob(f\"{CONTROL_NAME}_splice_*\"))\n",
    "cssplits_control_by_alleles = defaultdict(list)\n",
    "for path_midsv in paths_midsv:\n",
    "    midsv_control = midsv.read_jsonl(path_midsv)\n",
    "    allele = path_midsv.stem.split(\"_\")[-1]\n",
    "    cssplits = [cs[\"CSSPLIT\"].split(\",\") for cs in midsv_control]\n",
    "    cssplits_control_by_alleles[allele] = cssplits\n",
    "knockin_alleles = extract_knockin_loci(TEMPDIR)\n",
    "labels_all = []\n",
    "max_label = 0\n",
    "classif_sample.sort(key=lambda x: (x[\"ALLELE\"], x[\"SV\"]))"
   ]
  },
  {
   "cell_type": "code",
   "execution_count": 26,
   "metadata": {},
   "outputs": [],
   "source": [
    "allele = \"control\"\n",
    "sv = False"
   ]
  },
  {
   "cell_type": "code",
   "execution_count": 27,
   "metadata": {},
   "outputs": [],
   "source": [
    "cssplits_control = cssplits_control_by_alleles[allele]\n",
    "cssplits_sample = [cs[\"CSSPLIT\"].split(\",\") for cs in classif_sample if cs[\"ALLELE\"] == allele and cs[\"SV\"] == sv]\n",
    "cssplits_control = replace_both_ends_n(cssplits_control)\n",
    "cssplits_sample = replace_both_ends_n(cssplits_sample)\n",
    "mutation_score = make_score(cssplits_control, cssplits_sample, knockin_alleles[allele])\n",
    "scores_control = annotate_score(cssplits_control, mutation_score)\n",
    "scores_sample = annotate_score(cssplits_sample, mutation_score)\n",
    "labels = return_labels(scores_sample, scores_control)"
   ]
  },
  {
   "cell_type": "code",
   "execution_count": 29,
   "metadata": {},
   "outputs": [
    {
     "data": {
      "text/plain": [
       "Counter({1: 372})"
      ]
     },
     "execution_count": 29,
     "metadata": {},
     "output_type": "execute_result"
    }
   ],
   "source": [
    "from collections import defaultdict\n",
    "from collections import Counter\n",
    "\n",
    "Counter(labels)"
   ]
  },
  {
   "cell_type": "code",
   "execution_count": 32,
   "metadata": {},
   "outputs": [
    {
     "name": "stdout",
     "output_type": "stream",
     "text": [
      "right_loxp: 74\n",
      "no_loxp: 118\n"
     ]
    }
   ],
   "source": [
    "x = [cs for cs in classif_sample if cs[\"ALLELE\"] == allele and cs[\"SV\"] == sv]\n",
    "for i, samp in enumerate(x):\n",
    "    if right_loxp in samp[\"QNAME\"]:\n",
    "        print(f\"right_loxp: {i}\")\n",
    "    if no_loxp in samp[\"QNAME\"]:\n",
    "        print(f\"no_loxp: {i}\")"
   ]
  },
  {
   "cell_type": "code",
   "execution_count": 44,
   "metadata": {},
   "outputs": [
    {
     "name": "stdout",
     "output_type": "stream",
     "text": [
      "+T|+T|+C|+C|+A|+A|+C|+A|+T|+A|+A|+C|+T|+G|+C|+A|+T|+A|+T|+A|+C|+A|+T|+T|+A|+T|+A|+A|+T|+G|+A|+A|+G|+T|+T|+A|+T|+G|+G|+C|+G|+C|+G|+C|=C\n",
      "0\n"
     ]
    }
   ],
   "source": [
    "print(cssplits_sample[74][1732])\n",
    "print(scores_sample[74][1732])"
   ]
  },
  {
   "cell_type": "code",
   "execution_count": 43,
   "metadata": {},
   "outputs": [
    {
     "name": "stdout",
     "output_type": "stream",
     "text": [
      "{'=T,+T|+A|+T|+G|+G|+C|+G|+C|+G|+C|=C,=C': 2.1505376344086025, '=T,+C|+A|+A|+A|+C|+A|+T|+A|+A|+C|+T|+T|+C|+G|+T|+A|+T|+G|+C|+G|+A|+T|+A|+C|+A|+T|+T|+A|+T|+A|+C|+G|+A|+A|+G|+T|+T|+A|+T|+G|+G|+C|+G|+C|+G|+C|=C,=C': 0.5376344086021506}\n"
     ]
    }
   ],
   "source": [
    "print(mutation_score[1732])\n"
   ]
  },
  {
   "cell_type": "code",
   "execution_count": 46,
   "metadata": {},
   "outputs": [],
   "source": [
    "from __future__ import annotations\n",
    "from itertools import groupby\n",
    "from copy import deepcopy\n",
    "from collections import defaultdict\n",
    "from pathlib import Path\n",
    "import midsv\n",
    "\n",
    "from src.DAJIN2.core.preprocess.correct_knockin import extract_knockin_loci\n",
    "from src.DAJIN2.core.clustering.preprocess import replace_both_ends_n, compress_insertion\n",
    "from src.DAJIN2.core.clustering.make_score import make_score\n",
    "from src.DAJIN2.core.clustering.annotate_score import annotate_score\n",
    "from src.DAJIN2.core.clustering.reorder_labels import reorder_labels\n",
    "from src.DAJIN2.core.clustering.return_labels import return_labels\n",
    "\n",
    "cssplits_control = cssplits_control_by_alleles[allele]\n",
    "cssplits_sample = [cs[\"CSSPLIT\"].split(\",\") for cs in classif_sample if cs[\"ALLELE\"] == allele and cs[\"SV\"] == sv]\n",
    "cssplits_control = replace_both_ends_n(cssplits_control)\n",
    "cssplits_sample = replace_both_ends_n(cssplits_sample)\n",
    "cssplits_control = compress_insertion(cssplits_control)\n",
    "cssplits_sample = compress_insertion(cssplits_sample)\n",
    "mutation_score = make_score(cssplits_control, cssplits_sample, knockin_alleles[allele])\n",
    "scores_control = annotate_score(cssplits_control, mutation_score)\n",
    "scores_sample = annotate_score(cssplits_sample, mutation_score)\n",
    "labels = return_labels(scores_sample, scores_control)"
   ]
  },
  {
   "cell_type": "code",
   "execution_count": 47,
   "metadata": {},
   "outputs": [
    {
     "name": "stdout",
     "output_type": "stream",
     "text": [
      "{'=T,+I=C,=C': 6.349417932995646}\n"
     ]
    }
   ],
   "source": [
    "print(mutation_score[1732])\n"
   ]
  },
  {
   "cell_type": "code",
   "execution_count": 51,
   "metadata": {},
   "outputs": [
    {
     "name": "stdout",
     "output_type": "stream",
     "text": [
      "right_loxp:---------------------\n",
      "+I=C\n",
      "6.349417932995646\n",
      "control:---------------------\n",
      "=C\n",
      "0\n"
     ]
    }
   ],
   "source": [
    "print(\"right_loxp:---------------------\")\n",
    "print(cssplits_sample[74][1732])\n",
    "print(scores_sample[74][1732])\n",
    "\n",
    "print(\"control:---------------------\")\n",
    "print(cssplits_sample[118][1732])\n",
    "print(scores_sample[118][1732])"
   ]
  },
  {
   "cell_type": "code",
   "execution_count": 49,
   "metadata": {},
   "outputs": [
    {
     "data": {
      "text/plain": [
       "Counter({1: 372})"
      ]
     },
     "execution_count": 49,
     "metadata": {},
     "output_type": "execute_result"
    }
   ],
   "source": [
    "Counter(labels)"
   ]
  },
  {
   "cell_type": "markdown",
   "metadata": {},
   "source": [
    "### `compress_insertion`を入れることでscores_sampleには挿入が反映されたが、依然としてクラスタには分かれていない"
   ]
  },
  {
   "cell_type": "code",
   "execution_count": 53,
   "metadata": {},
   "outputs": [],
   "source": [
    "from __future__ import annotations\n",
    "import numpy as np\n",
    "from sklearn.preprocessing import StandardScaler\n",
    "from sklearn.decomposition import PCA\n",
    "from sklearn.mixture import GaussianMixture\n",
    "from sklearn.exceptions import ConvergenceWarning\n",
    "from collections import Counter\n",
    "\n",
    "from src.DAJIN2.core.clustering.merge_clusters import merge_clusters\n",
    "from src.DAJIN2.core.clustering.reorder_labels import reorder_labels\n",
    "\n",
    "import warnings\n",
    "warnings.filterwarnings(\"ignore\", category=RuntimeWarning)\n",
    "warnings.filterwarnings(\"ignore\", category=ConvergenceWarning)\n",
    "\n",
    "###############################################################################\n",
    "# Dimension reduction\n",
    "###############################################################################\n",
    "\n",
    "\n",
    "def reduce_dimension(scores_sample: list[list], scores_control_subset: list[list]) -> np.array:\n",
    "    scores = scores_sample + scores_control_subset\n",
    "    n_components = min(20, len(scores[0]))\n",
    "    pca = PCA(n_components=n_components).fit(scores)\n",
    "    return pca.transform(scores)\n",
    "\n",
    "\n",
    "def optimize_labels(X: np.array, scores_sample: list[list], scores_control_subset: list[list]) -> list[int]:\n",
    "    scores = scores_sample + scores_control_subset\n",
    "    n_components = min(20, len(scores))\n",
    "    labels_results = [1] * len(scores_sample)\n",
    "    for i in range(1, n_components):\n",
    "        np.random.seed(seed=1)\n",
    "        labels = GaussianMixture(n_components=i, random_state=1).fit_predict(X)\n",
    "        labels = labels.tolist()\n",
    "        labels_sample = labels[: len(scores_sample)]\n",
    "        labels_control = labels[len(scores_sample) :]\n",
    "        labels_merged = merge_clusters(labels_control, labels_sample)\n",
    "        labels_reorder = reorder_labels(labels_merged)\n",
    "        # Reads < 1% in the control are considered clustering errors and are not counted\n",
    "        count_control = Counter(labels_control)\n",
    "        num_labels_control = sum(1 for reads in count_control.values() if reads/sum(count_control.values())*100 > 1)\n",
    "        if num_labels_control > 1:\n",
    "            return labels_results\n",
    "        labels_results = labels_reorder\n",
    "    return labels_results\n",
    "\n",
    "\n",
    "###############################################################################\n",
    "# main\n",
    "###############################################################################\n",
    "\n",
    "\n",
    "def return_labels(scores_sample: list[list], scores_control: list[list]) -> list[int]:\n",
    "    np.random.seed(seed=1)\n",
    "    X_control = reduce_dimension([], scores_control)\n",
    "    labels = GaussianMixture(n_components=2, random_state=1).fit_predict(X_control)\n",
    "    label_most = Counter(labels).most_common()[0][0]\n",
    "    scores_control_subset = [s for l, s in zip(labels, scores_control) if l == label_most][:1000]\n",
    "    X = reduce_dimension(scores_sample, scores_control_subset)\n",
    "    labels = optimize_labels(X, scores_sample, scores_control_subset)\n",
    "    return labels\n"
   ]
  },
  {
   "cell_type": "code",
   "execution_count": 54,
   "metadata": {},
   "outputs": [],
   "source": [
    "np.random.seed(seed=1)\n",
    "X_control = reduce_dimension([], scores_control)\n",
    "labels = GaussianMixture(n_components=2, random_state=1).fit_predict(X_control)\n",
    "label_most = Counter(labels).most_common()[0][0]\n",
    "scores_control_subset = [s for l, s in zip(labels, scores_control) if l == label_most][:1000]\n",
    "X = reduce_dimension(scores_sample, scores_control_subset)\n",
    "labels = optimize_labels(X, scores_sample, scores_control_subset)\n"
   ]
  },
  {
   "cell_type": "code",
   "execution_count": 55,
   "metadata": {},
   "outputs": [
    {
     "data": {
      "text/plain": [
       "Counter({1: 372})"
      ]
     },
     "execution_count": 55,
     "metadata": {},
     "output_type": "execute_result"
    }
   ],
   "source": [
    "Counter(labels)"
   ]
  },
  {
   "cell_type": "code",
   "execution_count": 56,
   "metadata": {},
   "outputs": [
    {
     "name": "stdout",
     "output_type": "stream",
     "text": [
      "Counter({0: 372}) Counter({0: 934})\n",
      "Counter({0: 193, 1: 179}) Counter({0: 777, 1: 157})\n",
      "Counter({0: 176, 1: 166, 2: 30}) Counter({0: 734, 1: 152, 2: 48})\n",
      "Counter({0: 165, 1: 144, 3: 38, 2: 25}) Counter({0: 700, 1: 139, 3: 54, 2: 41})\n",
      "Counter({0: 153, 1: 131, 4: 33, 3: 32, 2: 23}) Counter({0: 682, 1: 157, 3: 54, 2: 41})\n",
      "Counter({0: 151, 1: 110, 4: 32, 5: 29, 3: 28, 2: 22}) Counter({0: 682, 1: 148, 3: 52, 2: 39, 5: 13})\n",
      "Counter({0: 133, 1: 116, 4: 30, 5: 29, 3: 27, 2: 21, 6: 16}) Counter({0: 644, 1: 182, 3: 52, 2: 39, 5: 13, 6: 4})\n",
      "Counter({0: 137, 1: 126, 3: 32, 4: 25, 7: 22, 5: 14, 6: 12, 2: 4}) Counter({0: 659, 1: 148, 3: 52, 7: 39, 5: 16, 4: 11, 6: 7, 2: 2})\n",
      "Counter({0: 132, 1: 121, 3: 32, 4: 25, 7: 22, 5: 14, 6: 12, 8: 10, 2: 4}) Counter({0: 649, 1: 148, 3: 52, 7: 39, 5: 16, 4: 11, 8: 10, 6: 7, 2: 2})\n",
      "Counter({0: 117, 1: 116, 9: 32, 3: 27, 4: 25, 7: 21, 5: 12, 8: 10, 6: 8, 2: 4}) Counter({0: 623, 1: 174, 3: 52, 7: 39, 5: 16, 4: 11, 8: 10, 6: 7, 2: 2})\n",
      "Counter({0: 127, 1: 96, 9: 30, 3: 26, 4: 25, 7: 20, 10: 15, 5: 12, 8: 10, 6: 7, 2: 4}) Counter({0: 629, 1: 164, 3: 52, 7: 39, 5: 16, 4: 11, 8: 10, 6: 7, 10: 4, 2: 2})\n",
      "Counter({0: 127, 1: 96, 9: 30, 4: 25, 3: 21, 7: 20, 10: 15, 5: 12, 8: 10, 6: 7, 11: 5, 2: 4}) Counter({0: 629, 1: 164, 3: 45, 7: 39, 5: 16, 4: 11, 8: 10, 11: 7, 6: 7, 10: 4, 2: 2})\n",
      "Counter({0: 127, 1: 96, 9: 29, 4: 25, 3: 21, 7: 20, 10: 15, 5: 12, 8: 10, 6: 7, 11: 5, 2: 4, 12: 1}) Counter({0: 629, 1: 164, 3: 45, 7: 39, 5: 16, 4: 11, 8: 10, 11: 7, 6: 7, 10: 4, 2: 2})\n",
      "Counter({0: 127, 1: 96, 9: 29, 4: 25, 3: 21, 7: 20, 5: 12, 10: 11, 8: 10, 6: 7, 11: 5, 2: 4, 13: 4, 12: 1}) Counter({0: 629, 1: 164, 3: 45, 7: 39, 5: 16, 4: 11, 8: 10, 11: 7, 6: 7, 13: 4, 2: 2})\n",
      "Counter({0: 127, 1: 96, 9: 29, 4: 25, 14: 20, 7: 20, 5: 12, 10: 11, 8: 10, 6: 6, 11: 5, 2: 4, 13: 4, 3: 2, 12: 1}) Counter({0: 629, 1: 164, 14: 43, 7: 39, 5: 16, 4: 11, 8: 10, 11: 7, 6: 7, 13: 4, 2: 2, 3: 2})\n",
      "Counter({1: 119, 0: 95, 9: 29, 4: 25, 14: 20, 7: 20, 5: 12, 10: 11, 8: 10, 15: 9, 6: 6, 11: 5, 2: 4, 13: 4, 3: 2, 12: 1}) Counter({1: 623, 0: 153, 14: 43, 7: 39, 15: 17, 5: 16, 4: 11, 8: 10, 11: 7, 6: 7, 13: 4, 2: 2, 3: 2})\n",
      "Counter({1: 116, 0: 91, 9: 29, 4: 25, 14: 20, 7: 20, 5: 12, 10: 11, 8: 10, 15: 9, 16: 7, 6: 6, 11: 5, 2: 4, 13: 4, 3: 2, 12: 1}) Counter({1: 614, 0: 156, 14: 43, 7: 39, 15: 17, 5: 16, 4: 11, 8: 10, 11: 7, 6: 7, 16: 6, 13: 4, 2: 2, 3: 2})\n",
      "Counter({1: 103, 0: 95, 9: 29, 4: 25, 14: 20, 7: 20, 5: 12, 10: 11, 8: 10, 15: 9, 17: 9, 16: 7, 6: 6, 11: 5, 2: 4, 13: 4, 3: 2, 12: 1}) Counter({1: 596, 0: 149, 14: 43, 7: 39, 17: 25, 15: 17, 5: 16, 4: 11, 8: 10, 11: 7, 6: 7, 16: 6, 13: 4, 2: 2, 3: 2})\n",
      "Counter({1: 103, 0: 95, 9: 29, 4: 25, 14: 20, 7: 20, 5: 12, 8: 10, 10: 9, 15: 9, 17: 9, 16: 7, 6: 6, 11: 5, 2: 4, 13: 4, 18: 2, 3: 2, 12: 1}) Counter({1: 596, 0: 149, 14: 43, 7: 39, 17: 25, 15: 17, 5: 16, 4: 11, 8: 10, 11: 7, 6: 7, 16: 6, 13: 4, 2: 2, 3: 2})\n"
     ]
    }
   ],
   "source": [
    "scores = scores_sample + scores_control_subset\n",
    "n_components = min(20, len(scores))\n",
    "labels_results = [1] * len(scores_sample)\n",
    "for i in range(1, n_components):\n",
    "    np.random.seed(seed=1)\n",
    "    labels = GaussianMixture(n_components=i, random_state=1).fit_predict(X)\n",
    "    labels = labels.tolist()\n",
    "    labels_sample = labels[: len(scores_sample)]\n",
    "    labels_control = labels[len(scores_sample) :]\n",
    "    labels_merged = merge_clusters(labels_control, labels_sample)\n",
    "    labels_reorder = reorder_labels(labels_merged)\n",
    "    print(Counter(labels_sample), Counter(labels_control)) # ! ========================\n",
    "    # # Reads < 1% in the control are considered clustering errors and are not counted\n",
    "    # count_control = Counter(labels_control)\n",
    "    # num_labels_control = sum(1 for reads in count_control.values() if reads/sum(count_control.values())*100 > 1)\n",
    "    # if num_labels_control > 1:\n",
    "    #     return labels_results\n",
    "    # labels_results = labels_reorder\n"
   ]
  },
  {
   "cell_type": "code",
   "execution_count": 58,
   "metadata": {},
   "outputs": [
    {
     "name": "stdout",
     "output_type": "stream",
     "text": [
      "Counter({0: 193, 1: 179}) Counter({0: 777, 1: 157})\n"
     ]
    }
   ],
   "source": [
    "i = 2\n",
    "np.random.seed(seed=1)\n",
    "labels = GaussianMixture(n_components=i, random_state=1).fit_predict(X)\n",
    "labels = labels.tolist()\n",
    "labels_sample = labels[: len(scores_sample)]\n",
    "labels_control = labels[len(scores_sample) :]\n",
    "labels_merged = merge_clusters(labels_control, labels_sample)\n",
    "labels_reorder = reorder_labels(labels_merged)\n",
    "print(Counter(labels_sample), Counter(labels_control)) # ! ========================\n"
   ]
  },
  {
   "cell_type": "code",
   "execution_count": 61,
   "metadata": {},
   "outputs": [
    {
     "name": "stdout",
     "output_type": "stream",
     "text": [
      "1\n",
      "1\n"
     ]
    }
   ],
   "source": [
    "# right_loxp: 74\n",
    "# no_loxp: 118\n",
    "print(labels_sample[74])\n",
    "print(labels_sample[118])"
   ]
  },
  {
   "cell_type": "code",
   "execution_count": 63,
   "metadata": {},
   "outputs": [
    {
     "name": "stdout",
     "output_type": "stream",
     "text": [
      "11.792410912645519\n",
      "18.268461743535056\n"
     ]
    }
   ],
   "source": [
    "print(sum(scores_sample[74]))\n",
    "print(sum(scores_sample[118]))"
   ]
  },
  {
   "cell_type": "code",
   "execution_count": 64,
   "metadata": {},
   "outputs": [
    {
     "data": {
      "text/plain": [
       "[<matplotlib.lines.Line2D at 0x7f6ac1baaad0>]"
      ]
     },
     "execution_count": 64,
     "metadata": {},
     "output_type": "execute_result"
    },
    {
     "data": {
      "image/png": "[encoded data removed]",
      "text/plain": [
       "<Figure size 432x288 with 1 Axes>"
      ]
     },
     "metadata": {
      "needs_background": "light"
     },
     "output_type": "display_data"
    }
   ],
   "source": [
    "%matplotlib inline\n",
    "import matplotlib.pyplot as plt\n",
    "plt.plot(scores_sample[74])\n",
    "plt.plot(scores_sample[118])"
   ]
  },
  {
   "cell_type": "code",
   "execution_count": 65,
   "metadata": {},
   "outputs": [
    {
     "name": "stdout",
     "output_type": "stream",
     "text": [
      "329\n",
      "1280\n"
     ]
    }
   ],
   "source": [
    "for i,s in enumerate(scores_sample[118]):\n",
    "    if s > 4:\n",
    "        print(i)"
   ]
  },
  {
   "cell_type": "code",
   "execution_count": 67,
   "metadata": {},
   "outputs": [
    {
     "name": "stdout",
     "output_type": "stream",
     "text": [
      "{'=T,-C,=C': 5.358571047720607, '-T,-C,=C': 0.9719630320803343}\n",
      "{'=C,+I=G,=A': 4.533235581622678, '=C,-G,-A': 1.0963743001866169}\n"
     ]
    }
   ],
   "source": [
    "print(mutation_score[329])\n",
    "print(mutation_score[1280])"
   ]
  },
  {
   "cell_type": "code",
   "execution_count": 74,
   "metadata": {},
   "outputs": [
    {
     "name": "stdout",
     "output_type": "stream",
     "text": [
      "=====================\n",
      "control @ 329\n",
      "defaultdict(<class 'int'>, {'=C': 824, '-C': 125, 'N': 8, '+I*CA': 3, '+I=C': 7, '+I*CT': 1})\n",
      "=====================\n",
      "sample @ 329\n",
      "defaultdict(<class 'int'>, {'=C': 319, '-C': 50, '+I=C': 3})\n"
     ]
    }
   ],
   "source": [
    "count = defaultdict(int)\n",
    "for cs in cssplits_control:\n",
    "    count[cs[329]] += 1\n",
    "print(\"=====================\")\n",
    "print(\"control @ 329\")\n",
    "print(count)\n",
    "\n",
    "count = defaultdict(int)\n",
    "for cs in cssplits_sample:\n",
    "    count[cs[329]] += 1\n",
    "print(\"=====================\")\n",
    "print(\"sample @ 329\")\n",
    "print(count)"
   ]
  },
  {
   "cell_type": "code",
   "execution_count": 76,
   "metadata": {},
   "outputs": [],
   "source": [
    "from __future__ import annotations\n",
    "from collections import defaultdict\n",
    "from collections import Counter\n",
    "\n",
    "knockin_alleles = extract_knockin_loci(TEMPDIR)\n",
    "knockin_loci = knockin_alleles[allele]\n",
    "\n",
    "def call_count(cssplits: list[list[str]]) -> list[dict[str, int]]:\n",
    "    \"\"\"Count cssplits within 3-mer range.\n",
    "    Args:\n",
    "        cssplits (list[list[str]])\n",
    "    Returns:\n",
    "        list[dict[str, int]]: Both ends are counted as \"N\" to keep sequence length.\n",
    "    \"\"\"\n",
    "    count_kmer = defaultdict(Counter)\n",
    "    for cssplit in cssplits:\n",
    "        for i in range(1, len(cssplit) - 1):\n",
    "            kmer = \",\".join([cssplit[i - 1], cssplit[i], cssplit[i + 1]])\n",
    "            count_kmer[i] += Counter([kmer])\n",
    "    coverage = len(cssplits)\n",
    "    count_score = [{\"N\": coverage}]\n",
    "    count_score += [dict(count_kmer[i]) for i in range(1, len(cssplit) - 1)]\n",
    "    count_score += [{\"N\": coverage}]\n",
    "    return count_score\n",
    "\n",
    "\n",
    "def call_percent(counts: list[dict[str:int]]) -> list[dict[str:float]]:\n",
    "    cssplit_percent = []\n",
    "    coverage = sum(counts[0].values())\n",
    "    for count in counts:\n",
    "        percent = {k: v / coverage * 100 for k, v in count.items()}\n",
    "        cssplit_percent.append(percent)\n",
    "    return cssplit_percent\n",
    "\n",
    "\n",
    "def subtract_percentage(percent_control, percent_sample, knockin_loci) -> list[dict]:\n",
    "    sample_subtracted = []\n",
    "    for i, (cont, samp) in enumerate(zip(percent_control, percent_sample)):\n",
    "        if i in knockin_loci:\n",
    "            sample_subtracted.append(samp)\n",
    "            continue\n",
    "        samp = Counter(samp)\n",
    "        samp.subtract(Counter(cont))\n",
    "        sample_subtracted.append(dict(samp))\n",
    "    return sample_subtracted\n",
    "\n",
    "\n",
    "def discard_common_error(sample_subtracted, threshold=0.5):\n",
    "    sample_discarded = []\n",
    "    for samp in sample_subtracted:\n",
    "        remained = {k: v for k, v in samp.items() if v > threshold}\n",
    "        sample_discarded.append(remained)\n",
    "    return sample_discarded\n",
    "\n",
    "\n",
    "def discard_match(sample_subtracted):\n",
    "    sample_discarded = []\n",
    "    for samp in sample_subtracted:\n",
    "        remained = {k: v for k, v in samp.items() if not k.split(\",\")[1].startswith(\"=\")}\n",
    "        sample_discarded.append(remained)\n",
    "    return sample_discarded\n",
    "\n",
    "\n",
    "counts_control = call_count(cssplits_control)\n",
    "counts_sample = call_count(cssplits_sample)\n",
    "percent_control = call_percent(counts_control)\n",
    "percent_sample = call_percent(counts_sample)\n",
    "percent_subtraction = subtract_percentage(percent_control, percent_sample, knockin_loci)\n",
    "percent_discarded = discard_common_error(percent_subtraction, 0.5)\n",
    "mutation_score = discard_match(percent_discarded)\n"
   ]
  },
  {
   "cell_type": "code",
   "execution_count": 77,
   "metadata": {},
   "outputs": [
    {
     "ename": "KeyError",
     "evalue": "329",
     "output_type": "error",
     "traceback": [
      "\u001b[0;31m---------------------------------------------------------------------------\u001b[0m",
      "\u001b[0;31mKeyError\u001b[0m                                  Traceback (most recent call last)",
      "\u001b[1;32m/mnt/d/Research/DAJIN2/misc/scripts/2023-02-10-knockin-right-loxp.ipynb Cell 39\u001b[0m in \u001b[0;36m<cell line: 2>\u001b[0;34m()\u001b[0m\n\u001b[1;32m      <a href='vscode-notebook-cell://wsl%2Bubuntu-20.04/mnt/d/Research/DAJIN2/misc/scripts/2023-02-10-knockin-right-loxp.ipynb#Y100sdnNjb2RlLXJlbW90ZQ%3D%3D?line=0'>1</a>\u001b[0m count \u001b[39m=\u001b[39m defaultdict(\u001b[39mint\u001b[39m)\n\u001b[1;32m      <a href='vscode-notebook-cell://wsl%2Bubuntu-20.04/mnt/d/Research/DAJIN2/misc/scripts/2023-02-10-knockin-right-loxp.ipynb#Y100sdnNjb2RlLXJlbW90ZQ%3D%3D?line=1'>2</a>\u001b[0m \u001b[39mfor\u001b[39;00m cs \u001b[39min\u001b[39;00m percent_control:\n\u001b[0;32m----> <a href='vscode-notebook-cell://wsl%2Bubuntu-20.04/mnt/d/Research/DAJIN2/misc/scripts/2023-02-10-knockin-right-loxp.ipynb#Y100sdnNjb2RlLXJlbW90ZQ%3D%3D?line=2'>3</a>\u001b[0m     count[cs[\u001b[39m329\u001b[39;49m]] \u001b[39m+\u001b[39m\u001b[39m=\u001b[39m \u001b[39m1\u001b[39m\n\u001b[1;32m      <a href='vscode-notebook-cell://wsl%2Bubuntu-20.04/mnt/d/Research/DAJIN2/misc/scripts/2023-02-10-knockin-right-loxp.ipynb#Y100sdnNjb2RlLXJlbW90ZQ%3D%3D?line=3'>4</a>\u001b[0m \u001b[39mprint\u001b[39m(\u001b[39m\"\u001b[39m\u001b[39m=====================\u001b[39m\u001b[39m\"\u001b[39m)\n\u001b[1;32m      <a href='vscode-notebook-cell://wsl%2Bubuntu-20.04/mnt/d/Research/DAJIN2/misc/scripts/2023-02-10-knockin-right-loxp.ipynb#Y100sdnNjb2RlLXJlbW90ZQ%3D%3D?line=4'>5</a>\u001b[0m \u001b[39mprint\u001b[39m(\u001b[39m\"\u001b[39m\u001b[39mcontrol @ 329\u001b[39m\u001b[39m\"\u001b[39m)\n",
      "\u001b[0;31mKeyError\u001b[0m: 329"
     ]
    }
   ],
   "source": [
    "count = defaultdict(int)\n",
    "for cs in percent_control:\n",
    "    count[cs[329]] += 1\n",
    "print(\"=====================\")\n",
    "print(\"control @ 329\")\n",
    "print(count)\n",
    "\n",
    "count = defaultdict(int)\n",
    "for cs in percent_sample:\n",
    "    count[cs[329]] += 1\n",
    "print(\"=====================\")\n",
    "print(\"sample @ 329\")\n",
    "print(count)"
   ]
  },
  {
   "cell_type": "code",
   "execution_count": 85,
   "metadata": {},
   "outputs": [
    {
     "data": {
      "text/plain": [
       "[('=T,=C,=C', 83.16115702479338),\n",
       " ('=T,-C,-C', 9.297520661157025),\n",
       " ('=T,-C,=C', 3.512396694214876),\n",
       " ('-T,=C,=C', 0.9297520661157025),\n",
       " ('N,N,N', 0.8264462809917356),\n",
       " ('=T,+I=C,=C', 0.7231404958677686),\n",
       " ('+I=T,=C,=C', 0.5165289256198348),\n",
       " ('=T,+I*CA,=C', 0.30991735537190085),\n",
       " ('=T,=C,-C', 0.2066115702479339),\n",
       " ('=T,=C,+I*CT', 0.10330578512396695),\n",
       " ('=T,=C,+I=C', 0.10330578512396695),\n",
       " ('-T,-C,=C', 0.10330578512396695),\n",
       " ('=T,=C,+I*CG', 0.10330578512396695),\n",
       " ('=T,+I*CT,=C', 0.10330578512396695)]"
      ]
     },
     "execution_count": 85,
     "metadata": {},
     "output_type": "execute_result"
    }
   ],
   "source": [
    "sorted(percent_control[329].items(), key=lambda x: -x[1])"
   ]
  },
  {
   "cell_type": "code",
   "execution_count": 84,
   "metadata": {},
   "outputs": [
    {
     "data": {
      "text/plain": [
       "[('=T,=C,=C', 82.52688172043011),\n",
       " ('=T,-C,=C', 8.870967741935484),\n",
       " ('=T,-C,-C', 3.225806451612903),\n",
       " ('-T,=C,=C', 2.1505376344086025),\n",
       " ('-T,-C,=C', 1.0752688172043012),\n",
       " ('=T,+I=C,=C', 0.8064516129032258),\n",
       " ('+I=T,=C,+I=C', 0.2688172043010753),\n",
       " ('+I=T,=C,=C', 0.2688172043010753),\n",
       " ('-T,=C,+I*CT', 0.2688172043010753),\n",
       " ('=T,=C,+I*CT', 0.2688172043010753),\n",
       " ('-T,-C,-C', 0.2688172043010753)]"
      ]
     },
     "execution_count": 84,
     "metadata": {},
     "output_type": "execute_result"
    }
   ],
   "source": [
    "sorted(percent_sample[329].items(), key=lambda x: -x[1])"
   ]
  },
  {
   "cell_type": "code",
   "execution_count": 83,
   "metadata": {},
   "outputs": [
    {
     "data": {
      "text/plain": [
       "[('=T,-C,=C', 5.358571047720607),\n",
       " ('-T,=C,=C', 1.2207855682929),\n",
       " ('-T,-C,=C', 0.9719630320803343),\n",
       " ('+I=T,=C,+I=C', 0.2688172043010753),\n",
       " ('-T,=C,+I*CT', 0.2688172043010753),\n",
       " ('-T,-C,-C', 0.2688172043010753),\n",
       " ('=T,=C,+I*CT', 0.16551141917710838),\n",
       " ('=T,+I=C,=C', 0.08331111703545713),\n",
       " ('=T,=C,+I=C', -0.10330578512396695),\n",
       " ('=T,=C,+I*CG', -0.10330578512396695),\n",
       " ('=T,+I*CT,=C', -0.10330578512396695),\n",
       " ('=T,=C,-C', -0.2066115702479339),\n",
       " ('+I=T,=C,=C', -0.24771172131875946),\n",
       " ('=T,+I*CA,=C', -0.30991735537190085),\n",
       " ('=T,=C,=C', -0.6342753043632712),\n",
       " ('N,N,N', -0.8264462809917356),\n",
       " ('=T,-C,-C', -6.071714209544122)]"
      ]
     },
     "execution_count": 83,
     "metadata": {},
     "output_type": "execute_result"
    }
   ],
   "source": [
    "sorted(percent_subtraction[329].items(), key=lambda x: -x[1])"
   ]
  },
  {
   "cell_type": "code",
   "execution_count": 89,
   "metadata": {},
   "outputs": [
    {
     "data": {
      "text/plain": [
       "'GCCAGGCCAGCAAGCCACCACTGTATAATC'"
      ]
     },
     "execution_count": 89,
     "metadata": {},
     "output_type": "execute_result"
    }
   ],
   "source": [
    "FASTA_ALLELES[allele][300:330]"
   ]
  },
  {
   "cell_type": "code",
   "execution_count": 91,
   "metadata": {},
   "outputs": [
    {
     "data": {
      "text/plain": [
       "'CCCAGG'"
      ]
     },
     "execution_count": 91,
     "metadata": {},
     "output_type": "execute_result"
    }
   ],
   "source": [
    "FASTA_ALLELES[allele][329:335]"
   ]
  },
  {
   "cell_type": "markdown",
   "metadata": {},
   "source": [
    "### 1280の場所は？"
   ]
  },
  {
   "cell_type": "code",
   "execution_count": 92,
   "metadata": {},
   "outputs": [
    {
     "data": {
      "text/plain": [
       "'GAACACGGGTAAGCCCTGGTCCTGCTGAGC'"
      ]
     },
     "execution_count": 92,
     "metadata": {},
     "output_type": "execute_result"
    }
   ],
   "source": [
    "FASTA_ALLELES[allele][1280:1280+30]"
   ]
  },
  {
   "cell_type": "code",
   "execution_count": 93,
   "metadata": {},
   "outputs": [
    {
     "name": "stdout",
     "output_type": "stream",
     "text": [
      "[('=C,=G,=A', 82.64462809917356), ('=C,+I=G,=A', 5.681818181818182), ('N,N,N', 3.512396694214876), ('-C,=G,=A', 1.6528925619834711), ('=C,-G,=A', 1.3429752066115703), ('=C,=G,-A', 1.0330578512396695), ('=C,=G,+I=A', 1.0330578512396695), ('+I=C,=G,=A', 0.8264462809917356), ('-C,-G,-A', 0.6198347107438017), ('=C,-G,-A', 0.5165289256198348), ('=C,+I=G,+I*AT', 0.4132231404958678), ('-C,=G,-A', 0.30991735537190085), ('-C,-G,=A', 0.10330578512396695), ('+I*CT,=G,-A', 0.10330578512396695), ('+I*CA,=G,=A', 0.10330578512396695), ('=C,=G,+I*AG', 0.10330578512396695)]\n",
      "[('=C,=G,=A', 84.40860215053763), ('=C,+I=G,=A', 10.21505376344086), ('=C,-G,=A', 1.6129032258064515), ('=C,-G,-A', 1.6129032258064515), ('-C,=G,=A', 0.5376344086021506), ('-C,=G,-A', 0.5376344086021506), ('+I=C,=G,=A', 0.2688172043010753), ('=C,=G,-A', 0.2688172043010753), ('+I*CG,=G,=A', 0.2688172043010753), ('-C,-G,-A', 0.2688172043010753)]\n"
     ]
    }
   ],
   "source": [
    "print(sorted(percent_control[1280].items(), key=lambda x: -x[1]))\n",
    "print(sorted(percent_sample[1280].items(), key=lambda x: -x[1]))"
   ]
  },
  {
   "cell_type": "code",
   "execution_count": 94,
   "metadata": {},
   "outputs": [
    {
     "name": "stdout",
     "output_type": "stream",
     "text": [
      "[('=C,+I=G,=A', 4.533235581622678), ('=C,=G,=A', 1.7639740513640731), ('=C,-G,-A', 1.0963743001866169), ('=C,-G,=A', 0.2699280191948812), ('+I*CG,=G,=A', 0.2688172043010753), ('-C,=G,-A', 0.22771705323024977), ('-C,-G,=A', -0.10330578512396695), ('+I*CT,=G,-A', -0.10330578512396695), ('+I*CA,=G,=A', -0.10330578512396695), ('=C,=G,+I*AG', -0.10330578512396695), ('-C,-G,-A', -0.3510175064427264), ('=C,+I=G,+I*AT', -0.4132231404958678), ('+I=C,=G,=A', -0.5576290766906602), ('=C,=G,-A', -0.7642406469385943), ('=C,=G,+I=A', -1.0330578512396695), ('-C,=G,=A', -1.1152581533813204), ('N,N,N', -3.512396694214876)]\n"
     ]
    }
   ],
   "source": [
    "print(sorted(percent_subtraction[1280].items(), key=lambda x: -x[1]))"
   ]
  },
  {
   "attachments": {},
   "cell_type": "markdown",
   "metadata": {},
   "source": [
    "# 結果\n"
   ]
  },
  {
   "attachments": {},
   "cell_type": "markdown",
   "metadata": {},
   "source": [
    "### 補正がうまく行っていないことがわかった\n",
    "\n",
    "- `chr2:180,264,007（329）`の欠失はbartcode31にも42にも同程度で見られる\n",
    "    - にもかかわらず補正がされていない\n",
    "    - ClusteringではなくPreprocessingにおける補正の問題である\n",
    "- `chr2:180,263,057（1279）`の挿入も同様にbartcode31にも42にも同程度で見られる\n",
    "\n",
    "補正がうまく行っていないために、right_loxpのクラスタリングがうまく行っていないと考えられる\n",
    "-> `preprocessing`にてデバッグする\n"
   ]
  },
  {
   "attachments": {},
   "cell_type": "markdown",
   "metadata": {},
   "source": [
    "# 次回の課題"
   ]
  },
  {
   "attachments": {},
   "cell_type": "markdown",
   "metadata": {},
   "source": [
    "+ [x] ~~点変異、欠失、ノックインのデザインで動くかを確認する~~\n",
    "+ [x] ~~Clusteringのときの警告メッセージは無害なので消去する~~\n",
    "+ [ ] right_loxpがいまいちな理由を考察する\n",
    "    +  [ ] Ayabe-task1のpreprocessにおいて、329と1280の補正がされていない理由を検討する # TODO !\n",
    "+ [ ] `preprocess.correct_sequence_error.replace_atmark`のコードがわかりにくい\n",
    "    + テストを用意してリファクタリングする\n",
    "+ [ ] Insertionのなかにある変異を同定する手法を考案する\n",
    "+ [ ] cis変異の両端が欠失している場合に、Nで置き換えるとtransとなってしまうのをどうするか（`replace_n`）\n",
    "+ [ ] 短いリードの扱いをどうするべきか"
   ]
  },
  {
   "attachments": {},
   "cell_type": "markdown",
   "metadata": {},
   "source": [
    "次回は\n",
    "+ [ ] right_loxpがいまいちな理由を考察する\n"
   ]
  },
  {
   "cell_type": "markdown",
   "metadata": {},
   "source": []
  }
 ],
 "metadata": {
  "kernelspec": {
   "display_name": "base",
   "language": "python",
   "name": "python3"
  },
  "language_info": {
   "codemirror_mode": {
    "name": "ipython",
    "version": 3
   },
   "file_extension": ".py",
   "mimetype": "text/x-python",
   "name": "python",
   "nbconvert_exporter": "python",
   "pygments_lexer": "ipython3",
   "version": "3.10.6"
  },
  "orig_nbformat": 4,
  "vscode": {
   "interpreter": {
    "hash": "a09285d6cbc768c1977f96e8deb5ca1ec0d08675e9573ed6dfd37fd7d91de663"
   }
  }
 },
 "nbformat": 4,
 "nbformat_minor": 2
}
