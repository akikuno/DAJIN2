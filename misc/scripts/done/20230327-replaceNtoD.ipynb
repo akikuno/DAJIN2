{
 "cells": [
  {
   "attachments": {},
   "cell_type": "markdown",
   "metadata": {},
   "source": [
    "# 今回の取り組み"
   ]
  },
  {
   "attachments": {},
   "cell_type": "markdown",
   "metadata": {},
   "source": [
    "- 両端の`N`とそれ以外の`N`を一緒に考えると難しくなるので、これらを区別する\n",
    "- 両端から連続する`N`以外の`N`を欠失として変換する"
   ]
  },
  {
   "cell_type": "markdown",
   "metadata": {},
   "source": [
    "## いつものセットアップ"
   ]
  },
  {
   "cell_type": "code",
   "execution_count": 1,
   "metadata": {},
   "outputs": [
    {
     "name": "stdout",
     "output_type": "stream",
     "text": [
      "/mnt/d/Research/DAJIN2\n"
     ]
    }
   ],
   "source": [
    "# ルートディレクトリをPathに含めるおまじない\n",
    "import sys, os\n",
    "from pathlib import Path\n",
    "if Path(os.getcwd()).stem != \"DAJIN2\":\n",
    "    parent_path = str(Path(os.path.dirname(os.path.abspath(\"__file__\"))).parent.parent)\n",
    "    sys.path.append(parent_path)\n",
    "    os.chdir(parent_path)\n",
    "print(os.getcwd())"
   ]
  },
  {
   "cell_type": "code",
   "execution_count": 2,
   "metadata": {},
   "outputs": [],
   "source": [
    "%%bash\n",
    "# pipの更新\n",
    "pip install -q -U pip\n",
    "pip install -q -U -r requirements.txt"
   ]
  },
  {
   "attachments": {},
   "cell_type": "markdown",
   "metadata": {},
   "source": [
    "# 実験"
   ]
  },
  {
   "attachments": {},
   "cell_type": "markdown",
   "metadata": {},
   "source": [
    "- `preprocess.replaceNtoD.py`を作る"
   ]
  },
  {
   "cell_type": "code",
   "execution_count": 8,
   "metadata": {},
   "outputs": [
    {
     "name": "stdout",
     "output_type": "stream",
     "text": [
      "processing test-stx2-deletion...\n"
     ]
    }
   ],
   "source": [
    "from __future__ import annotations\n",
    "\n",
    "import sys, os\n",
    "from pathlib import Path\n",
    "\n",
    "import hashlib\n",
    "from collections import defaultdict\n",
    "from pathlib import Path\n",
    "from importlib import reload\n",
    "\n",
    "from src.DAJIN2.core import preprocess, classification, clustering, consensus, report\n",
    "from src.DAJIN2.core.clustering import clustering\n",
    "\n",
    "reload(preprocess)\n",
    "reload(classification)\n",
    "reload(clustering)\n",
    "reload(consensus)\n",
    "reload(report)\n",
    "\n",
    "\n",
    "#### #* 2-cut deletion\n",
    "SAMPLE, CONTROL, ALLELE, NAME, GENOME, DEBUG, THREADS = (\n",
    "    \"examples/del-stx2/barcode25.fq.gz\",\n",
    "    \"examples/del-stx2/barcode30.fq.gz\",\n",
    "    \"examples/del-stx2/design_stx2.fa\",\n",
    "    \"test-stx2-deletion\",\n",
    "    \"mm10\",\n",
    "    True,\n",
    "    14,\n",
    ")\n",
    "\n",
    "print(f\"processing {NAME}...\")\n",
    "\n",
    "##########################################################\n",
    "# Check inputs\n",
    "##########################################################\n",
    "preprocess.check_inputs.check_files(SAMPLE, CONTROL, ALLELE)\n",
    "TEMPDIR = Path(\"DAJINResults\", \".tempdir\", NAME)\n",
    "IS_CACHE_CONTROL = preprocess.check_inputs.exists_cached_control(CONTROL, TEMPDIR)\n",
    "IS_CACHE_GENOME = preprocess.check_inputs.exists_cached_genome(GENOME, TEMPDIR, IS_CACHE_CONTROL)\n",
    "UCSC_URL, GOLDENPATH_URL = None, None\n",
    "if GENOME and not IS_CACHE_GENOME:\n",
    "    UCSC_URL, GOLDENPATH_URL = preprocess.check_inputs.check_and_fetch_genome(GENOME)\n",
    "\n",
    "##########################################################\n",
    "# Format inputs\n",
    "##########################################################\n",
    "SAMPLE_NAME = preprocess.format_inputs.extract_basename(SAMPLE)\n",
    "CONTROL_NAME = preprocess.format_inputs.extract_basename(CONTROL)\n",
    "FASTA_ALLELES = preprocess.format_inputs.dictionize_allele(ALLELE)\n",
    "THREADS = min(THREADS, os.cpu_count()-1)\n",
    "\n",
    "preprocess.format_inputs.make_directories(TEMPDIR, SAMPLE_NAME, CONTROL_NAME)\n",
    "\n",
    "if GENOME:\n",
    "    GENOME_COODINATES = preprocess.format_inputs.fetch_coodinate(GENOME, UCSC_URL, FASTA_ALLELES[\"control\"])\n",
    "    CHROME_SIZE = preprocess.format_inputs.fetch_chrom_size(GENOME_COODINATES[\"chr\"], GENOME, GOLDENPATH_URL)\n",
    "    preprocess.format_inputs.cache_coodinates_and_chromsize(TEMPDIR, GENOME, GENOME_COODINATES, CHROME_SIZE)\n",
    "\n",
    "# ################################################################################\n",
    "# # Export fasta files as single-FASTA format\n",
    "# ################################################################################\n",
    "# # TODO: use yeild, not export\n",
    "# for identifier, sequence in FASTA_ALLELES.items():\n",
    "#     contents = \"\\n\".join([\">\" + identifier, sequence]) + \"\\n\"\n",
    "#     output_fasta = Path(TEMPDIR, \"fasta\", f\"{identifier}.fasta\")\n",
    "#     output_fasta.write_text(contents)\n",
    "# ###############################################################################\n",
    "# # Mapping with mappy\n",
    "# ###############################################################################\n",
    "# for path_fasta in Path(TEMPDIR, \"fasta\").glob(\"*.fasta\"):\n",
    "#     name_fasta = path_fasta.stem\n",
    "#     preprocess.mappy_align.output_sam(TEMPDIR, path_fasta, name_fasta, CONTROL, CONTROL_NAME, threads=THREADS)\n",
    "#     preprocess.mappy_align.output_sam(TEMPDIR, path_fasta, name_fasta, SAMPLE, SAMPLE_NAME, threads=THREADS)\n",
    "#     preprocess.mappy_align.output_sam(\n",
    "#         TEMPDIR, path_fasta, name_fasta, CONTROL, CONTROL_NAME, preset=\"splice\", threads=THREADS\n",
    "#     )\n",
    "#     preprocess.mappy_align.output_sam(\n",
    "#         TEMPDIR, path_fasta, name_fasta, SAMPLE, SAMPLE_NAME, preset=\"splice\", threads=THREADS\n",
    "#     )\n",
    "# ########################################################################\n",
    "# # MIDSV conversion\n",
    "# ########################################################################\n",
    "# for path_sam in Path(TEMPDIR, \"sam\").glob(f\"{CONTROL_NAME}_splice_*\"):\n",
    "#     preprocess.calc_midsv.output_midsv(TEMPDIR, path_sam)\n",
    "# for path_sam in Path(TEMPDIR, \"sam\").glob(f\"{SAMPLE_NAME}_splice_*\"):\n",
    "#     preprocess.calc_midsv.output_midsv(TEMPDIR, path_sam)\n",
    "# ###############################################################################\n",
    "# # Correct CSSPLITS\n",
    "# ###############################################################################\n",
    "# # preprocess.correct_revititive_deletions.execute(TEMPDIR, FASTA_ALLELES, CONTROL_NAME, SAMPLE_NAME)\n",
    "# preprocess.correct_sequence_error.execute(TEMPDIR, FASTA_ALLELES, CONTROL_NAME, SAMPLE_NAME)\n",
    "# preprocess.correct_knockin.execute(TEMPDIR, FASTA_ALLELES, CONTROL_NAME, SAMPLE_NAME)"
   ]
  },
  {
   "cell_type": "code",
   "execution_count": 4,
   "metadata": {},
   "outputs": [],
   "source": [
    "from __future__ import annotations\n",
    "from copy import deepcopy\n",
    "from pathlib import Path\n",
    "\n",
    "import midsv\n",
    "\n",
    "def transpose(cssplits):\n",
    "    return [list(cs) for cs in zip(*cssplits)]\n",
    "\n",
    "\n",
    "def replaceNtoD(cssplits_sample, sequence):\n",
    "    cssplits_replaced = deepcopy(cssplits_sample)\n",
    "    for i, cssplits in enumerate(cssplits_sample):\n",
    "        flag_n_start = True\n",
    "        flag_n_end = True\n",
    "        for j, (start, end) in enumerate(zip(cssplits, cssplits[::-1])):\n",
    "            if j == (len(cssplits)+1) // 2:\n",
    "                break\n",
    "            if flag_n_start and start != \"N\":\n",
    "                    flag_n_start = False\n",
    "            if flag_n_end and end != \"N\":\n",
    "                    flag_n_end = False\n",
    "            if not flag_n_start and start == \"N\":\n",
    "                cssplits_replaced[i][j] = f\"-{sequence[j]}\"\n",
    "            if not flag_n_end and end == \"N\":\n",
    "                j_inv = len(cssplits) - j - 1\n",
    "                cssplits_replaced[i][j_inv] = f\"-{sequence[j_inv]}\"\n",
    "    return cssplits_replaced\n",
    "\n",
    "\n",
    "###############################################################################\n",
    "# main\n",
    "###############################################################################\n",
    "\n",
    "\n",
    "def execute(TEMPDIR: Path, FASTA_ALLELES: dict, SAMPLE_NAME: str) -> None:\n",
    "    \"\"\"\n",
    "    Convert any `N` as deletions other than consecutive `N` from both ends\n",
    "    \"\"\"\n",
    "    for allele, sequence in FASTA_ALLELES.items():\n",
    "        midsv_sample = midsv.read_jsonl((Path(TEMPDIR, \"midsv\", f\"{SAMPLE_NAME}_splice_{allele}.jsonl\")))\n",
    "        cssplits_sample = [cs[\"CSSPLIT\"].split(\",\") for cs in midsv_sample]\n",
    "        cssplits_replaced = replaceNtoD(cssplits_sample, sequence)\n",
    "        midsv_cssplits = [\",\".join(cs) for cs in cssplits_replaced]\n",
    "        # Save as a json\n",
    "        for i, cssplits in enumerate(midsv_cssplits):\n",
    "            midsv_sample[i][\"CSSPLIT\"] = cssplits\n",
    "        midsv.write_jsonl(midsv_sample, Path(TEMPDIR, \"midsv\", f\"{SAMPLE_NAME}_splice_{allele}.jsonl\"))\n"
   ]
  },
  {
   "cell_type": "code",
   "execution_count": 5,
   "metadata": {},
   "outputs": [],
   "source": [
    "cssplits_sample = [\n",
    "    [\"N\", \"N\", \"N\", \"=A\", \"N\" , \"=C\", \"N\", \"N\"],\n",
    "    [\"N\", \"N\", \"=A\", \"N\", \"N\" , \"=C\", \"=C\", \"N\"],\n",
    "            ]\n",
    "sequence = \"GCAACCCC\"\n",
    "# print(len(cssplits))\n",
    "# print(len(cssplits) // 2)"
   ]
  },
  {
   "cell_type": "code",
   "execution_count": 6,
   "metadata": {},
   "outputs": [],
   "source": [
    "cssplits_replaced = replaceNtoD(cssplits_sample, sequence)"
   ]
  },
  {
   "cell_type": "code",
   "execution_count": 7,
   "metadata": {},
   "outputs": [
    {
     "name": "stdout",
     "output_type": "stream",
     "text": [
      "[['N', 'N', 'N', '=A', 'N', '=C', 'N', 'N'], ['N', 'N', '=A', 'N', 'N', '=C', '=C', 'N']]\n",
      "[['N', 'N', 'N', '=A', '-C', '=C', 'N', 'N'], ['N', 'N', '=A', '-A', '-C', '=C', '=C', 'N']]\n"
     ]
    }
   ],
   "source": [
    "print(cssplits_sample)\n",
    "print(cssplits_replaced)"
   ]
  },
  {
   "cell_type": "markdown",
   "metadata": {},
   "source": [
    "### STX2大型欠失アレルを用いてreplaceNtoDの動作を確認する"
   ]
  },
  {
   "cell_type": "code",
   "execution_count": 10,
   "metadata": {},
   "outputs": [],
   "source": [
    "%%bash\n",
    "ls DAJINResults/"
   ]
  },
  {
   "cell_type": "code",
   "execution_count": 11,
   "metadata": {},
   "outputs": [],
   "source": [
    "################################################################################\n",
    "# Export fasta files as single-FASTA format\n",
    "################################################################################\n",
    "# TODO: use yeild, not export\n",
    "for identifier, sequence in FASTA_ALLELES.items():\n",
    "    contents = \"\\n\".join([\">\" + identifier, sequence]) + \"\\n\"\n",
    "    output_fasta = Path(TEMPDIR, \"fasta\", f\"{identifier}.fasta\")\n",
    "    output_fasta.write_text(contents)\n",
    "###############################################################################\n",
    "# Mapping with mappy\n",
    "###############################################################################\n",
    "for path_fasta in Path(TEMPDIR, \"fasta\").glob(\"*.fasta\"):\n",
    "    name_fasta = path_fasta.stem\n",
    "    preprocess.mappy_align.output_sam(TEMPDIR, path_fasta, name_fasta, CONTROL, CONTROL_NAME, threads=THREADS)\n",
    "    preprocess.mappy_align.output_sam(TEMPDIR, path_fasta, name_fasta, SAMPLE, SAMPLE_NAME, threads=THREADS)\n",
    "    preprocess.mappy_align.output_sam(\n",
    "        TEMPDIR, path_fasta, name_fasta, CONTROL, CONTROL_NAME, preset=\"splice\", threads=THREADS\n",
    "    )\n",
    "    preprocess.mappy_align.output_sam(\n",
    "        TEMPDIR, path_fasta, name_fasta, SAMPLE, SAMPLE_NAME, preset=\"splice\", threads=THREADS\n",
    "    )\n",
    "########################################################################\n",
    "# MIDSV conversion\n",
    "########################################################################\n",
    "for path_sam in Path(TEMPDIR, \"sam\").glob(f\"{CONTROL_NAME}_splice_*\"):\n",
    "    preprocess.calc_midsv.output_midsv(TEMPDIR, path_sam)\n",
    "for path_sam in Path(TEMPDIR, \"sam\").glob(f\"{SAMPLE_NAME}_splice_*\"):\n",
    "    preprocess.calc_midsv.output_midsv(TEMPDIR, path_sam)"
   ]
  },
  {
   "cell_type": "code",
   "execution_count": 12,
   "metadata": {},
   "outputs": [],
   "source": [
    "%%bash\n",
    "query=\"DAJINResults/.tempdir/test-stx2-deletion/sam/barcode25_splice_control.sam\"\n",
    "samtools sort \"$query\" > tmp.bam\n",
    "samtools index tmp.bam"
   ]
  },
  {
   "cell_type": "code",
   "execution_count": 23,
   "metadata": {},
   "outputs": [
    {
     "name": "stdout",
     "output_type": "stream",
     "text": [
      "['=T', '=G', '=G', '=G', '=G', '=T', 'N', 'N', 'N', 'N', 'N', 'N', 'N', 'N', 'N', 'N', 'N', 'N', 'N', 'N', 'N', 'N', 'N', 'N', 'N', 'N', 'N', 'N', 'N', 'N', 'N', 'N', 'N', 'N', 'N', 'N', 'N', 'N', 'N', 'N']\n"
     ]
    }
   ],
   "source": [
    "large_del = \"a21d42f44f56\"\n",
    "import midsv\n",
    "midsv_sample=midsv.read_jsonl(\"DAJINResults/.tempdir/test-stx2-deletion/midsv/barcode25_splice_control.jsonl\")\n",
    "for m in midsv_sample:\n",
    "    if large_del in m[\"QNAME\"]:\n",
    "        break\n",
    "print(m[\"CSSPLIT\"].split(\",\")[1310:1350])"
   ]
  },
  {
   "cell_type": "code",
   "execution_count": 24,
   "metadata": {},
   "outputs": [],
   "source": [
    "allele=\"control\"\n",
    "midsv_sample = midsv.read_jsonl((Path(TEMPDIR, \"midsv\", f\"{SAMPLE_NAME}_splice_{allele}.jsonl\")))\n",
    "cssplits_sample = [cs[\"CSSPLIT\"].split(\",\") for cs in midsv_sample]\n",
    "cssplits_replaced = replaceNtoD(cssplits_sample, sequence)\n",
    "midsv_cssplits = [\",\".join(cs) for cs in cssplits_replaced]\n",
    "# Save as a json\n",
    "for i, cssplits in enumerate(midsv_cssplits):\n",
    "    midsv_sample[i][\"CSSPLIT\"] = cssplits\n",
    "midsv.write_jsonl(midsv_sample, Path(TEMPDIR, \"midsv\", f\"{SAMPLE_NAME}_splice_{allele}.jsonl\"))"
   ]
  },
  {
   "cell_type": "code",
   "execution_count": 27,
   "metadata": {},
   "outputs": [
    {
     "name": "stdout",
     "output_type": "stream",
     "text": [
      "['N', 'N', 'N', '=C', '=C']\n",
      "['=T', '=G', '=G', '=G', '=G', '=T', '-G', '-T', '-G', '-G', '-A', '-A', '-G', '-T', '-T', '-G', '-G', '-T', '-A', '-C', '-C', '-T', '-T', '-T', '-T', '-T', '-C', '-C', '-T', '-T', '-A', '-G', '-A', '-G', '-T', '-T', '-T', '-T', '-A', '-T']\n",
      "['=T', '=G', '=T', '=G', '=T']\n"
     ]
    }
   ],
   "source": [
    "large_del = \"a21d42f44f56\"\n",
    "import midsv\n",
    "midsv_sample=midsv.read_jsonl(\"DAJINResults/.tempdir/test-stx2-deletion/midsv/barcode25_splice_control.jsonl\")\n",
    "for m in midsv_sample:\n",
    "    if large_del in m[\"QNAME\"]:\n",
    "        break\n",
    "print(m[\"CSSPLIT\"].split(\",\")[0:5])\n",
    "print(m[\"CSSPLIT\"].split(\",\")[1310:1350])\n",
    "print(m[\"CSSPLIT\"].split(\",\")[-5:])\n"
   ]
  },
  {
   "cell_type": "code",
   "execution_count": 31,
   "metadata": {},
   "outputs": [
    {
     "name": "stdout",
     "output_type": "stream",
     "text": [
      "['=T', '=G', '=T', '=G', 'N']\n",
      "['=T', '*GA', '=G', '=G', '=G', '=T', '-G', '-T', '-G', '-G', '-A', '-A', '-G', '-T', '-T', '-G', '-G', '-T', '-A', '-C']\n",
      "['N', 'N', 'N', 'N', 'N']\n",
      "['=T', '-G', '=G', '=G', '=G', '=T', '=G', '=T', '=G', '-G', '-A', '=A', '=G', '=T', '=T', '=G', '=G', '=T', '=A', '=C']\n",
      "['N', 'N', 'N', 'N', 'N']\n",
      "['-T', '-G', '-G', '-G', '-G', '-T', '-G', '-T', '-G', '-G', '-A', '-A', '-G', '-T', '-T', '-G', '-G', '-T', '-A', '-C']\n",
      "['N', 'N', 'N', 'N', 'N']\n",
      "['=T', '=G', '=G', '=G', '=G', '=T', '=G', '=T', '=G', '+G|+A|=G', '=A', '=A', '=G', '=T', '=T', '-G', '=G', '*TA', '=A', '=C']\n",
      "['N', 'N', 'N', 'N', 'N']\n",
      "['=T', '=G', '=G', '=G', '=G', '=T', '=G', '=T', '=G', '=G', '=A', '=A', '=G', '=T', '=T', '=G', '=G', '=T', '=A', '=C']\n"
     ]
    }
   ],
   "source": [
    "count = 0\n",
    "for m in midsv_sample:\n",
    "    if m[\"CSSPLIT\"].endswith(\"N\"):\n",
    "        print(m[\"CSSPLIT\"].split(\",\")[-5:])\n",
    "        print(m[\"CSSPLIT\"].split(\",\")[1310:1330])\n",
    "        count += 1\n",
    "    if count == 5:\n",
    "        break\n"
   ]
  },
  {
   "attachments": {},
   "cell_type": "markdown",
   "metadata": {},
   "source": [
    "### STX2大型欠失アレルのquickstartを起動"
   ]
  },
  {
   "cell_type": "code",
   "execution_count": 3,
   "metadata": {},
   "outputs": [
    {
     "name": "stdout",
     "output_type": "stream",
     "text": [
      "test-pm-tyr\n"
     ]
    }
   ],
   "source": [
    "%%bash\n",
    "rm -rf DAJINResults/.tempdir/test-stx2-deletion\n",
    "ls DAJINResults/.tempdir/"
   ]
  },
  {
   "cell_type": "code",
   "execution_count": 5,
   "metadata": {},
   "outputs": [
    {
     "name": "stdout",
     "output_type": "stream",
     "text": [
      "processing test-stx2-deletion...\n",
      "Classify...\n",
      "Clustering...\n",
      "Consensus call...\n"
     ]
    }
   ],
   "source": [
    "%%bash\n",
    "python misc/quickstart.py"
   ]
  },
  {
   "attachments": {
    "image-2.png": {
     "image/png": "[encoded data removed]"
    }
   },
   "cell_type": "markdown",
   "metadata": {},
   "source": [
    "- 悲しいかな、まったく分類がうまく行っていませんでした…\n",
    "\n",
    "![image.png](attachment:image-2.png)"
   ]
  },
  {
   "cell_type": "code",
   "execution_count": 9,
   "metadata": {},
   "outputs": [],
   "source": [
    "from src.DAJIN2.core import preprocess, classification, clustering, consensus, report\n",
    "\n",
    "classif_sample = classification.classify_alleles(TEMPDIR, SAMPLE_NAME)\n",
    "\n",
    "for classif in classif_sample:\n",
    "    classif[\"SV\"] = classification.detect_sv(classif[\"CSSPLIT\"], threshold=50)"
   ]
  },
  {
   "cell_type": "code",
   "execution_count": 14,
   "metadata": {},
   "outputs": [
    {
     "name": "stdout",
     "output_type": "stream",
     "text": [
      "01e43200-8ed6-4904-b4b5-35e7a68c0a37\n",
      "N,=C,=T,=C,=C,=A,=G,=G,=G,=T,=G,=T,=C,=T,=C,=A,=T,=A,=G,=T,=G,=T,=T,=T,=G,=A,=A,=G,=G,=C,=T,=C,=C,=T,=A,=A,=A,=T,=T,=G,=C,=C,=C,=A,=G,=T,=G,=T,=T,=C,=A,=G,=C,=T,=G,=G,=G,=G,=A,=A,=A,=G,=A,=C,=C,=A,=T,=C,=A,=G,=C,=T,=A,=G,=G,=C,=A,=G,=G,=A,=T,=C,=C,=A,=A,=A,=G,=G,=A,=T,=A,=A,=T,=G,=A,=G,=T,=G,=T,=G,=C,=C,=C,=C,=A,=T,=G,=G,=G,=A,=C,=T,=C,=T,=G,=G,=C,=T,=T,=A,=G,=C,=C,=G,=C,=A,=G,=C,=T,=C,=T,=A,=C,=C,=C,=T,=A,=A,=G,=C,=C,=C,=A,=C,=A,=G,=T,=T,=G,=A,=G,=G,=G,=G,=T,=A,=G,=T,=G,=G,=A,=T,=C,=T,=T,=G,=T,=G,=T,=T,=T,=G,=A,=G,=G,=A,=C,=A,=T,=T,=A,=A,=C,=A,=A,=C,=A,=G,=G,=C,=T,=G,=A,=T,=T,=G,=G,=G,=A,=A,=A,=G,=T,=A,=G,=T,=G,=G,=T,=T,=G,=C,=T,=T,=G,=A,=T,=G,=G,=A,=G,=T,=T,=G,=G,=G,=C,=T,=A,=G,=C,=G,=A,=T,=G,=G,=A,=G,=G,=T,=G,=A,=G,=T,=G,=A,=G,=T,=C,=T,=G,=G,=A,=G,=G,=C,=C,=A,=G,=T,=T,=G,=T,=G,=T,=G,=C,=C,=G,=C,=A,=T,=A,=C,=T,=A,=A,=C,=A,=G,=A,=G,=G,=A,=G,=T,=A,=A,=G,=C,=A,=C,=C,=A,=G,=C,=T,=A,=G,=A,=T,=T,=T,=T,=C,=A,=T,=T,=T,=C,=C,=T,=T,=A,=G,=G,=A,=T,=A,=T,=C,=T,=T,=T,=C,=T,=A,=A,=A,=T,=C,=T,=C,=A,=G,=C,=T,=C,=T,=T,=T,=T,=T,=A,=G,=A,=A,=A,=T,=G,=T,=T,=A,=A,=A,=T,=G,=C,=C,=T,=T,=T,=G,=T,=T,=T,=A,=G,=A,=A,=A,=C,=T,=T,=T,=G,=A,=A,=T,=G,=T,=T,=G,=G,=C,=T,=G,=C,=C,=A,=C,=T,=T,=A,=C,=A,=T,=T,=A,=A,=A,=A,=A,=A,=A,=A,=A,=A,=A,=A,=A,=A,=A,=A,=A,=A,=A,=A,=C,=C,=T,=G,=G,=A,=A,=A,=C,=T,=A,=A,=G,=A,=C,=A,=G,=T,=G,=T,=C,=T,=G,=G,=T,=C,=A,=C,=T,=C,=C,=C,=A,=C,=A,=C,=A,=T,=C,=A,=G,=T,=T,=A,=C,=T,=G,=T,=G,=G,=A,=G,=C,=A,=G,=C,=T,=T,=G,=C,=T,=C,=A,=C,=C,=T,=G,=T,=G,=C,=T,=C,=A,=C,=T,=C,=C,=A,=C,=T,=G,=C,=C,=C,=T,=C,=A,=A,=G,=G,=A,=G,=C,=T,=A,=A,=T,=C,=T,=G,=C,=C,=T,=G,=T,=C,=T,=G,=C,=T,=G,=G,=C,=T,=G,=C,=A,=T,=A,=T,=T,=C,=T,=G,=C,=T,=T,=C,=C,=T,=C,=C,=T,=G,=G,=G,=G,=A,=G,=T,=C,=T,=C,=A,=T,=A,=G,=G,=G,=T,=C,=T,=C,=T,=G,=A,=G,=A,=T,=C,=A,=C,=A,=C,=T,=G,=T,=T,=T,=C,=T,=G,=G,=T,=C,=A,=C,=A,=C,=T,=G,=G,=G,=G,=T,=T,=T,=T,=G,=T,=A,=A,=G,=G,=C,=C,=T,=C,=C,=C,=T,=T,=A,=C,=A,=T,=C,=T,=G,=C,=C,=A,=G,=G,=T,=T,=C,=C,=A,=G,=T,=T,=T,=G,=C,=T,=T,=C,=A,=C,=C,=T,=C,=A,=T,=T,=G,=G,=G,=T,=G,=T,=T,=T,=T,=A,=A,=T,=G,=A,=C,=A,=T,=C,=A,=C,=A,=T,=C,=A,=G,=A,=T,=G,=G,=C,=A,=A,=G,=A,=A,=A,=G,=A,=C,=T,=C,=T,=G,=G,=G,=T,=G,=G,=A,=G,=T,=C,=C,=C,=C,=C,=A,=G,=A,=A,=T,=C,=T,=C,=C,=A,=T,=A,=G,=A,=T,=G,=C,=C,=A,=T,=A,=G,=A,=G,=G,=T,=A,=T,=A,=G,=A,=C,=A,=T,=G,=G,=C,=A,=G,=T,=G,=G,=A,=C,=T,=G,=C,=T,=G,=C,=T,=G,=T,=C,=A,=G,=T,=T,=A,=G,=C,=T,=G,=C,=A,=G,=C,=C,=A,=G,=T,=G,=A,=C,=C,=T,=T,=T,=T,=A,=C,=C,=C,=C,=G,=A,=G,=A,=A,=T,=G,=G,=C,=T,=G,=G,=G,=G,=C,=A,=C,=C,=A,=A,=A,=G,=T,=T,=G,=G,=C,=T,=C,=T,=G,=A,=A,=G,=G,=T,=C,=T,=A,=G,=A,=G,=C,=C,=A,=G,=G,=T,=C,=T,=C,=C,=A,=G,=G,=A,=G,=G,=G,=T,=G,=A,=C,=A,=T,=G,=C,=G,=T,=G,=G,=T,=A,=T,=G,=T,=C,=T,=G,=A,=T,=G,=G,=A,=G,=C,=A,=A,=C,=A,=G,=G,=G,=A,=C,=C,=A,=G,=G,=A,=A,=G,=A,=C,=A,=G,=C,=G,=A,=C,=A,=G,=C,=A,=G,=A,=A,=G,=G,=G,=A,=C,=T,=T,=C,=T,=G,=G,=C,=A,=G,=C,=T,=T,=C,=T,=T,=C,=C,=T,=G,=G,=G,=T,=G,=T,=G,=G,=T,=T,=G,=C,=A,=T,=G,=T,=A,=C,=T,=C,=T,=G,=T,=G,=T,=C,=C,=C,=A,=G,=T,=G,=A,=A,=G,=G,=T,=T,=A,=G,=C,=A,=T,=C,=A,=G,=A,=G,=A,=T,=C,=T,=G,=A,=T,=T,=G,=G,=G,=G,=T,=G,=A,=G,=C,=C,=T,=G,=C,=A,=G,=T,=G,=C,=T,=G,=G,=C,=T,=C,=A,=C,=C,=C,=C,=A,=G,=C,=T,=G,=T,=G,=T,=C,=T,=G,=G,=T,=A,=A,=C,=A,=C,=A,=G,=T,=T,=C,=G,=G,=G,=G,=T,=C,=T,=A,=C,=C,=A,=G,=G,=A,=G,=C,=T,=G,=G,=C,=C,=C,=G,=G,=A,=C,=A,=C,=G,=G,=C,=A,=C,=T,=G,=G,=T,=G,=G,=C,=T,=G,=G,=G,=G,=A,=G,=G,=T,=G,=A,=A,=C,=T,=T,=G,=G,=A,=C,=A,=G,=G,=C,=A,=C,=T,=G,=A,=G,=A,=A,=A,=A,=G,=A,=A,=G,=G,=C,=T,=G,=G,=T,=T,=G,=C,=T,=C,=C,=T,=T,=C,=T,=C,=T,=G,=T,=G,=C,=T,=T,=G,=G,=C,=C,=T,=G,=C,=A,=T,=G,=C,=C,=T,=G,=T,=A,=T,=C,=T,=G,=T,=A,=G,=T,=G,=T,=A,=A,=A,=G,=T,=G,=G,=T,=C,=C,=A,=T,=C,=T,=C,=A,=C,=A,=T,=G,=C,=T,=T,=C,=A,=T,=T,=T,=C,=C,=C,=C,=C,=T,=T,=T,=T,=A,=A,=A,=G,=A,=A,=A,=T,=A,=A,=A,=A,=G,=A,=A,=G,=A,=G,=C,=T,=G,=G,=A,=G,=G,=A,=C,=C,=T,=G,=A,=A,=C,=A,=A,=A,=G,=A,=G,=A,=T,=C,=A,=A,=G,=A,=A,=A,=A,=C,=T,=G,=C,=T,=A,=A,=C,=A,=G,=G,=A,=T,=C,=C,=G,=G,=G,=G,=C,=A,=A,=G,=C,=T,=G,=A,=A,=G,=T,=G,=T,=A,=A,=G,=T,=T,=T,=G,=C,=C,=T,=T,=C,=T,=T,=G,=G,=G,=T,=G,=C,=T,=G,=G,=T,=G,=G,=G,=G,=T,=G,=T,=G,=G,=A,=A,=G,=T,=T,=G,=G,=T,=A,=C,=C,=T,=T,=T,=T,=T,=C,=C,=T,=T,=A,=G,=A,=G,=T,=T,=T,=T,=A,=T,=T,=A,=T,=T,=A,=T,=A,=T,=T,=T,=C,=C,=C,=A,=A,=A,=A,=T,=G,=A,=A,=A,=A,=T,=T,=G,=A,=G,=A,=C,=T,=G,=C,=T,=T,=C,=T,=A,=A,=G,=T,=A,=G,=G,=T,=T,=G,=G,=T,=T,=A,=T,=C,=T,=G,=T,=A,=A,=T,=C,=C,=C,=G,=T,=G,=C,=T,=A,=T,=A,=T,=C,=T,=C,=A,=T,=T,=G,=T,=G,=A,=C,=T,=C,=A,=G,=T,=A,=G,=G,=T,=G,=A,=C,=A,=T,=T,=G,=G,=G,=C,=A,=G,=G,=T,=G,=T,=T,=T,=G,=A,=G,=A,=A,=A,=G,=T,=G,=G,=G,=G,=A,=T,=A,=G,=C,=T,=T,=T,=C,=C,=T,=A,=G,=T,=G,=A,=C,=T,=C,=G,=C,=C,=A,=A,=G,=C,=T,=C,=T,=C,=A,=G,=G,=C,=G,=G,=G,=C,=C,=T,=C,=T,=T,=A,=G,=C,=T,=A,=G,=A,=A,=T,=G,=T,=T,=C,=T,=T,=T,=C,=C,=A,=G,=C,=C,=C,=C,=T,=A,=G,=A,=A,=G,=C,=T,=C,=A,=G,=C,=T,=G,=A,=G,=A,=T,=C,=A,=T,=G,=G,=T,=C,=C,=T,=C,=T,=G,=T,=G,=T,=T,=C,=A,=G,=G,=A,=T,=G,=A,=C,=G,=C,=C,=T,=T,=G,=G,=C,=T,=G,=G,=G,=T,=T,=G,=A,=G,=G,=G,=T,=T,=G,=T,=G,=G,=C,=T,=T,=T,=T,=T,=G,=C,=A,=C,=A,=G,=T,=G,=C,=T,=T,=A,=A,=A,=C,=A,=G,=A,=A,=G,=T,=T,=G,=C,=T,=T,=T,=C,=C,=T,=T,=G,=A,=T,=C,=T,=G,=T,=G,=A,=G,=G,=A,=A,=G,=A,=C,=A,=T,=A,=T,=G,=T,=T,=T,=A,=A,=C,=T,=T,=T,=T,=T,=T,=A,=T,=T,=T,=T,=T,=T,=T,=C,=T,=G,=A,=G,=A,=C,=A,=G,=G,=G,=T,=T,=T,=C,=T,=C,=T,=G,=T,=G,=T,=A,=G,=C,=C,=C,=T,=G,=G,=C,=T,=G,=T,=C,=C,=T,=A,=G,=A,=A,=C,=T,=C,=A,=C,=T,=T,=T,=G,=T,=A,=G,=A,=C,=C,=A,=A,=G,=T,=T,=G,=G,=C,=C,=T,=C,=G,=A,=A,=C,=T,=C,=A,=G,=A,=A,=A,=T,=C,=C,=G,=C,=C,=T,=G,=C,=C,=T,=C,=T,=G,=C,=C,=T,=C,=C,=C,=G,=A,=G,=T,=G,=C,=T,=G,=G,=G,=A,=T,=T,=A,=A,=A,=G,=G,=C,=A,=T,=G,=C,=T,=C,=C,=A,=C,=C,=A,=C,=T,=G,=C,=C,=C,=A,=G,=C,=T,=G,=A,=C,=A,=T,=G,=T,=G,=T,=T,=T,=T,=A,=A,=C,=T,=T,=A,=C,=A,=G,=A,=G,=A,=C,=A,=C,=A,=T,=C,=A,=A,=A,=A,=G,=G,=A,=A,=T,=A,=A,=A,=T,=C,=T,=C,=A,=T,=C,=T,=C,=C,=G,=C,=A,=C,=A,=T,=A,=C,=C,=C,=T,=C,=T,=C,=C,=T,=C,=A,=G,=G,=A,=A,=C,=A,=G,=T,=G,=A,=C,=T,=C,=C,=C,=A,=G,=G,=T,=A,=G,=C,=A,=G,=G,=C,=A,=C,=T,=C,=T,=G,=C,=C,=C,=A,=G,=A,=T,=C,=C,=T,=A,=G,=T,=A,=G,=G,=C,=T,=C,=C,=T,=G,=G,=C,=A,=C,=T,=C,=C,=T,=C,=A,=C,=T,=G,=G,=G,=C,=T,=C,=A,=A,=G,=G,=C,=A,=G,=A,=C,=C,=T,=T,=A,=G,=A,=G,=A,=G,=T,=G,=T,=G,=C,=A,=C,=C,=T,=T,=A,=A,=A,=A,=A,=C,=A,=G,=C,=G,=T,=T,=G,N,=T,N,=C,=C,=A,=A,=G,=C,=C,-G,=A,=G,=C,=A,=T,=C,=A,=C,=A,=T,=C,=T,N,=C,=C,N,N,N,N,=T,N,=T,=A,=A,N,=G,=T,=C,=T,N,=T,N,N,N,N,-A,-G,-G,-G,-G,-G,-T,-G,-G,-G,N,N,N,N,=G,-G,-G,-C,-T,-G,=G,=G,N,N,N,N,N,N,N,N,N,N,N,N,N,N,N,N,N,=T,N,N,=G,N,=A,=G,=A,N,N,=T,N,N,N,=T,N,=A,N,N,N,=A,N,N,=C,N,N,=C,N,=A,N,=C,N,=A,N,=A,N,=G,=C,N,=C,N,N,N,N,=C,N,=T,N,N,=G,=A,N,N,=A,=G,N,N,N,N,N,=T,=A,=G,=C,=C,N,=G,=A,=C,=C,=A,=C,=C,=T,=A,=G,=A,=T,=G,N,=T,N,N,=T,N,N,N,N,N,=G,=G,-T,-T,-T,-T,-A,N,N,N,N,=G,N,N,N,N,N,N,N,N,N,N,N,N,N,N,N,=A,N,=T,N,N,N,N,N,N,N,N,N,N,N,N,N,N,N,N,N,N,=A,N,N,=T,N,=T,N,=T,N,=C,N,=C,=G,=G,=T,N,N,N,=T,=G,N,=C,N,N,N,N,N,=A,=C,=A,=C,=A,N,=C,=A,=A,=A,N,=G,=A,=G,=G,=G,=C,=A,=T,=C,=A,=G,=A,=T,N,N,=C,=A,=T,=T,=A,=C,=A,=G,=A,=T,=G,=G,=T,=T,=G,=T,=G,=A,=G,=C,=C,=A,=C,=C,=A,=T,=G,=T,=G,=G,=T,=T,=T,=G,=C,=T,=G,=G,=G,=A,=A,=T,=T,=G,=A,=A,N,=T,=C,=A,=G,=G,=T,=C,=C,=T,=C,=T,=G,=G,=A,=A,=C,=A,=G,=C,=A,=G,=T,=C,=C,=A,=T,=G,=C,=T,=C,=T,=T,=A,=A,=C,=C,=A,=C,=T,=G,=A,=G,=C,=C,=A,=T,=C,=T,=C,=T,=C,=T,=A,=G,=C,=T,=G,=G,=G,=T,=T,N,=T,=C,=A,=A,=C,=C,=T,=T,=C,=C,=T,=A,=A,=T,=G,=C,=T,=G,=T,=G,=A,=C,=C,=C,=T,=T,=T,=A,=A,=T,=A,=T,=A,=T,=A,=G,=T,=T,N,=C,=T,=C,=A,=T,=G,=T,=T,=G,=T,=A,=A,=T,=G,=A,=C,=C,=C,=C,=A,=A,=T,=C,=A,=T,=A,=A,=T,=A,=T,=T,=A,=T,=C,=T,=T,=C,=A,=T,=T,=G,=C,=T,=A,=C,=T,=T,=T,=A,=T,=A,=A,=C,=T,=G,=T,=A,=A,=C,=T,=T,=T,=G,=C,=T,=T,=G,=T,=T,=A,=T,=G,=A,=A,=T,=T,=G,=T,=A,=A,=T,=A,=T,=A,=A,=A,=T,=G,=T,=C,=T,=G,=A,=C,=A,=T,=G,=C,=A,N,N,=A,=T,=A,=T,=C,=T,=G,=C,=T,=A,=T,=T,=T,=G,=A,=C,=C,=C,=C,=A,=A,=A,=G,=T,N,=G,=T,=T,=G,N,=T,=A,=C,=C,=A,=A,=A,=A,=G,=C,=C,=T,=T,=A,=A,=C,=T,=A,=T,=T,=A,=G,=C,=C,=T,=T,=A,=A,=C,=T,=A,=T,=T,=C,=A,=G,=G,=G,=T,=T,=T,=A,=T,=G,=G,=T,=T,=G,=A,=A,=A,=C,=T,=G,=G,=G,=A,=T,=G,=C,=T,=C,=A,=A,=C,=C,=C,=T,=G,=T,=T,=T,=G,=A,=C,=C,=A,=A,=G,=C,=C,=T,=G,=C,=C,=A,=G,=C,=T,=T,=A,=G,=G,=G,=C,=A,=G,=G,=C,=A,=G,=T,=C,=C,=A,=C,=G,=T,=G,=C,=C,=T,=G,=C,=C,=A,=G,=C,+C|+A|=T,=G,=G,=A,=T,=T,=C,=A,=A,=C,=C,=T,=G,=T,=G,=A,=T,=A,=A,=C,=G,=C,=C,=C,=T,=C,=C,=C,=T,=C,=T,=A,=G,=A,=G,=G,=T,=C,=A,=G,=C,=T,=G,=G,=C,=T,=G,=C,=T,=C,=C,=G,=G,=G,=C,=T,=C,=C,=A,=A,=C,=T,=T,=A,=T,=T,=T,=G,=T,=T,=G,=T,=T,=G,=T,=T,=A,=T,=T,=G,=G,=T,=G,=A,=T,=G,=G,=T,=G,=G,=T,=A,=T,=T,=T,=T,=G,=T,=T,=T,=T,=G,=T,=T,=G,=A,=G,=C,=C,=A,=G,=A,=A,=T,=C,=T,=T,=A,=C,=T,=C,=T,=G,=T,=A,=T,=C,=C,=C,=T,=G,=G,=C,=T,=G,=G,=C,=C,=T,=G,=G,=A,=G,=T,=G,=A,=G,=C,=T,=T,=G,=T,=T,=A,=C,=A,=T,=A,=G,=A,=C,=C,=A,=G,=G,=T,=C,=G,=A,=C,=C,=T,=T,=G,=A,=A,=C,=T,=C,=A,=C,=A,=G,=A,=G,=A,=T,=T,=T,=A,=T,=T,=T,=C,=C,=C,=T,=C,=T,=C,=C,=C,=T,=C,=T,=G,=T,=A,=T,=T,=G,=G,=A,=A,=T,=T,=G,=A,=A,=G,=G,=C,=A,=T,=G,=C,=G,=C,=C,=A,=C,=C,=G,=T,=C,=C,=T,=G,=G,=T,=G,=G,=C,=C,=C,=A,=G,=G,=T,=C,=A,=T,=G,=C,=A,=C,=C,=T,=C,=C,=C,=A,=T,=T,=G,=C,=C,=G,=C,=T,=C,=T,=T,=T,=C,=T,=C,=T,=T,=A,=C,=T,=T,=T,=C,=T,=T,=C,=T,=G,=G,=G,=A,=T,=G,=G,=A,=G,=T,=C,=A,=T,=G,=G,=T,=T,=G,=G,=G,=G,=C,=T,=T,=C,=T,=T,=A,=G,=T,=C,=G,=T,=C,=A,=G,=T,=T,=T,=T,=A,=C,=C,=T,=C,=T,=T,=T,=C,=A,=A,=A,=G,=G,=A,=A,=G,=G,=G,=G,=T,=T,=G,=C,=C,=C,=C,=C,=A,=C,=A,=T,=A,=G,=T,=A,=A,=C,=A,=C,=G,=G,=T,=A,=T,=T,=C,=T,=C,=C,=G,=T,=G,=T,=T,=C,=T,=A,=G,=C,=A,=C,=T,=C,=G,=G,=T,=G,=C,=T,=G,=T,=C,=A,=C,=G,=G,=A,=A,=G,=T,=T,=T,=G,=T,=G,=G,=A,=C,=G,=T,=C,=A,=T,=G,=A,=C,=A,=G,=A,=A,=T,=A,=C,=A,=A,=T,=G,=A,=A,=G,=C,=G,=C,=A,=G,=A,=T,=C,=C,=T,=G,=T,=T,=C,=C,=G,=G,=G,=A,=G,=C,=G,=A,=A,=G,=C,=A,=A,=A,=G,=G,=C,=C,=G,=C,=A,=T,=C,=C,=A,=G,=C,=G,=C,=C,=A,=G,=C,=T,=G,=G,=A,=G,=A,=T,=C,=A,=G,=T,=G,=A,=G,=T,=A,=G,=G,=G,=C,=G,=C,=A,=T,=G,=C,=G,=G,=G,=A,=G,=A,=C,=G,=T,=G,=C,=T,=T,=C,=A,=G,=G,=A,=C,=C,=C,=A,=T,=C,=A,=G,=A,=T,=G,=G,=C,=A,=A,=G,=C,=G,=C,=C,=C,=C,=A,=C,=T,=T,=C,=T,=A,=A,=C,=T,=G,=C,=A,=G,=A,=G,=T,=A,=A,=A,=C,=C,=G,=A,=A,=A,=G,=G,=C,=C,=C,=T,=T,=T,=G,=C,=T,=G,=C,=A,=G,=C,=C,=T,=G,=T,=G,=C,=C,=T,=A,=G,=A,=G,=T,=C,=A,=G,=G,=C,=A,=G,=A,=T,=G,=T,=G,=T,=T,=A,=T,=G,=T,=G,=T,=C,=G,=T,=A,=A,=G,=C,=T,=T,=C,=A,=G,=A,=G,=T,=T,=C,=T,=G,=A,=G,=T,=G,=C,=G,=G,=G,=G,=C,=T,=G,=T,=A,=G,=T,=G,=G,=C,=T,=T,=G,=C,=G,=A,=T,=T,=G,=C,=T,=G,=G,=T,=G,=C,=T,=G,=C,=T,=A,=T,=T,=T,=C,=A,=C,=G,=C,=A,=T,=C,=C,=C,=G,=A,=A,=A,=T,=C,=T,=T,=G,=T,=G,=G,=T,=C,=C,=T,=G,=A,=T,=T,=T,=C,=T,=T,=A,=A,=G,=G,=C,=A,=T,=T,=T,=T,=C,=G,=T,=G,=T,=C,=C,=T,=G,=C,=A,=G,=C,=T,=G,=C,=T,=C,=C,=T,=A,=C,=C,=T,=G,=G,=C,=T,=G,=G,=G,=A,=G,=A,=G,=G,=A,=T,=C,=A,=T,=C,=C,=T,=C,=A,=T,=G,=T,=G,=C,=C,=T,=C,=C,=T,=T,=C,=A,=G,=C,=T,=T,=A,=A,=C,=T,=C,=C,=C,=T,=C,=T,=G,=G,=C,=T,=A,=G,=A,=A,=G,=C,=C,=C,=T,=G,=T,=G,=G,=G,=A,=C,=C,=C,=G,=A,=G,=C,=A,=T,=A,=G,=C,=T,=G,=C,=T,=C,=C,=T,=C,=T,=G,=T,=A,=A,=C,=A,=C,=C,=A,=G,=G,=G,=T,=A,=G,=G,=G,=T,=T,=G,=T,=G,=A,=C,=A,=C,=A,=T,=T,=G,=C,=A,=T,=C,=A,=C,=A,=T,=T,=T,=C,=T,=G,=C,=C,=A,=C,=A,=T,=T,=A,=C,=T,=G,=T,=G,=T\n"
     ]
    }
   ],
   "source": [
    "count = 0\n",
    "for samp in classif_sample:\n",
    "    if samp[\"SV\"] == False:\n",
    "        count += 1\n",
    "    if count == 10:\n",
    "        print(samp[\"QNAME\"])\n",
    "        print(samp[\"CSSPLIT\"])\n",
    "        break"
   ]
  },
  {
   "cell_type": "code",
   "execution_count": 15,
   "metadata": {},
   "outputs": [],
   "source": [
    "###############################################################################\n",
    "# Mapping with mappy\n",
    "###############################################################################\n",
    "for path_fasta in Path(TEMPDIR, \"fasta\").glob(\"*.fasta\"):\n",
    "    name_fasta = path_fasta.stem\n",
    "    preprocess.mappy_align.output_sam(TEMPDIR, path_fasta, name_fasta, CONTROL, CONTROL_NAME, threads=THREADS)\n",
    "    preprocess.mappy_align.output_sam(TEMPDIR, path_fasta, name_fasta, SAMPLE, SAMPLE_NAME, threads=THREADS)\n",
    "    preprocess.mappy_align.output_sam(\n",
    "        TEMPDIR, path_fasta, name_fasta, CONTROL, CONTROL_NAME, preset=\"splice\", threads=THREADS\n",
    "    )\n",
    "    preprocess.mappy_align.output_sam(\n",
    "        TEMPDIR, path_fasta, name_fasta, SAMPLE, SAMPLE_NAME, preset=\"splice\", threads=THREADS\n",
    "    )"
   ]
  },
  {
   "cell_type": "code",
   "execution_count": 19,
   "metadata": {},
   "outputs": [],
   "source": [
    "########################################################################\n",
    "# MIDSV conversion\n",
    "########################################################################\n",
    "for path_sam in Path(TEMPDIR, \"sam\").glob(f\"{CONTROL_NAME}_splice_*\"):\n",
    "    preprocess.calc_midsv.output_midsv(TEMPDIR, path_sam)\n",
    "for path_sam in Path(TEMPDIR, \"sam\").glob(f\"{SAMPLE_NAME}_splice_*\"):\n",
    "    preprocess.calc_midsv.output_midsv(TEMPDIR, path_sam)"
   ]
  },
  {
   "cell_type": "code",
   "execution_count": 16,
   "metadata": {},
   "outputs": [
    {
     "name": "stdout",
     "output_type": "stream",
     "text": [
      "{\"QNAME\": \"01e43200-8ed6-4904-b4b5-35e7a68c0a37\", \"RNAME\": \"target\", \"CSSPLIT\": \"N,=C,=T,=C,=C,=A,=G,=G,=G,=T,=G,=T,=C,=T,=C,=A,=T,=A,=G,=T,=G,=T,=T,=T,=G,=A,=A,=G,=G,=C,*TC,*CT,=C,=T,=A,=A,=A,=T,=T,=G,=C,=C,=C,=A,=G,=T,=G,*TC,=T,=C,=A,=G,=C,=T,=G,=G,=G,=G,=A,=A,=A,=G,=A,=C,=C,=A,=T,=C,=A,=G,=C,*TC,=A,=G,=G,=C,=A,=G,=G,=A,=T,=C,=C,=A,=A,=A,=G,=G,=A,=T,=A,=A,=T,=G,=A,=G,=T,=G,*TG,=G,=C,=C,=C,=C,*AG,*TG,*GC,=G,=G,=A,=C,+T|=T,=C,=T,=G,=G,*CT,=T,=T,+A|+A|=A,=G,=C,*CT,=G,=C,=A,=G,=C,=T,=C,=T,=A,=C,=C,=C,=T,=A,=A,=G,=C,=C,=C,=A,=C,=A,=G,=T,=T,=G,=A,=G,=G,=G,=G,=T,=A,=G,=T,=G,=G,=A,=T,=C,=T,+C|=T,+G|+G|=G,=T,=G,=T,=T,=T,=G,=A,=G,=G,=A,=C,=A,=T,=T,=A,=A,=C,=A,=A,=C,=A,-G,=G,=C,=T,=G,=A,=T,=T,=G,=G,=G,+A|+A|=A,=A,=A,=G,=T,=A,=G,=T,=G,=G,=T,=T,=G,=C,=T,=T,=G,=A,=T,=G,=G,=A,=G,=T,=T,-G,=G,=G,=C,=T,=A,=G,+T|*CT,=G,=A,=T,+G|=G,=G,=A,=G,=G,=T,+G|=G,=A,=G,=T,=G,=A,=G,=T,=C,=T,=G,=G,=A,=G,=G,=C,*CT,=A,=G,=T,=T,=G,=T,=G,=T,=G,=C,+T|*CT,=G,=C,-A,*TC,=A,=C,=T,=A,=A,=C,=A,=G,=A,=G,=G,=A,=G,=T,=A,=A,=G,=C,=A,=C,=C,=A,=G,=C,=T,=A,=G,=A,=T,=T,=T,=T,=C,=A,=T,=T,=T,=C,=C,-T,=T,=A,=G,=G,=A,=T,=A,=T,=C,=T,=T,=T,=C,-T,-A,=A,=A,-T,=C,=T,=C,=A,=G,=C,=T,=C,=T,=T,=T,=T,=T,=A,=G,=A,=A,=A,=T,=G,=T,=T,=A,=A,=A,=T,=G,=C,=C,=T,=T,=T,=G,=T,=T,=T,=A,=G,=A,=A,=A,=C,=T,=T,=T,=G,=A,=A,=T,=G,=T,=T,=G,=G,=C,=T,=G,=C,=C,=A,=C,=T,=T,=A,=C,=A,=T,=T,-A,-A,-A,-A,-A,-A,-A,-A,-A,-A,=A,=A,=A,=A,=A,=A,=A,=A,=A,=A,=C,=C,=T,=G,=G,=A,=A,=A,+T|=C,*TC,=A,=A,=G,=A,=C,=A,=G,=T,=G,=T,=C,=T,=G,=G,=T,=C,=A,=C,=T,+C|=C,=C,=C,=A,=C,=A,=C,=A,=T,=C,=A,=G,=T,=T,=A,=C,=T,=G,=T,=G,=G,=A,=G,=C,=A,=G,=C,=T,=T,=G,=C,=T,=C,=A,-C,=C,=T,*GC,*TA,=G,=C,-T,=C,=A,+C|=C,=T,*CG,=C,=A,=C,=T,=G,=C,=C,=C,=T,=C,=A,=A,=G,=G,=A,=G,=C,=T,=A,=A,=T,=C,=T,=G,=C,=C,=T,=G,=T,=C,=T,=G,=C,=T,=G,=G,=C,=T,=G,=C,=A,=T,=A,=T,=T,=C,=T,=G,=C,=T,=T,=C,=C,=T,=C,=C,-T,-G,-G,-G,-G,=A,*GT,=T,=C,*TC,=C,=A,=T,=A,-G,=G,=G,=T,=C,*TC,=C,=T,=G,=A,=G,=A,=T,=C,=A,=C,+A|=A,*CT,=T,=G,=T,=T,=T,=C,=T,=G,=G,=T,=C,=A,=C,=A,-C,=T,-G,*GC,*GA,=G,=T,=T,=T,=T,=G,=T,-A,=A,*GT,=G,=C,=C,=T,=C,=C,=C,-T,=T,=A,=C,=A,=T,=C,=T,=G,=C,=C,=A,=G,=G,=T,=T,=C,=C,=A,=G,=T,=T,=T,=G,=C,=T,=T,+C|=C,=A,=C,=C,=T,=C,=A,=T,=T,=G,=G,=G,=T,=G,=T,=T,=T,=T,=A,=A,=T,+G|=G,=A,=C,=A,=T,=C,=A,=C,=A,=T,=C,=A,=G,=A,=T,=G,=G,=C,=A,=A,=G,-A,=A,=A,=G,=A,=C,=T,=C,=T,=G,=G,=G,=T,=G,=G,=A,=G,=T,-C,=C,=C,*CT,*CA,=A,=G,=A,=A,=T,=C,=T,=C,=C,=A,=T,=A,=G,=A,=T,=G,=C,=C,=A,=T,=A,=G,=A,=G,=G,=T,=A,=T,=A,=G,=A,=C,=A,=T,=G,=G,=C,=A,-G,-T,=G,=G,=A,=C,=T,=G,=C,=T,=G,=C,=T,=G,=T,=C,=A,=G,=T,=T,=A,=G,=C,*TG,=G,=C,=A,=G,=C,=C,=A,=G,=T,=G,=A,=C,=C,*TC,=T,=T,=T,=A,=C,=C,=C,=C,=G,=A,=G,=A,=A,=T,=G,=G,=C,=T,-G,=G,=G,=G,=C,=A,=C,=C,=A,=A,=A,=G,*TC,=T,=G,=G,=C,=T,=C,=T,=G,=A,=A,=G,=G,=T,=C,=T,=A,=G,=A,=G,=C,=C,=A,=G,=G,=T,=C,=T,=C,=C,=A,=G,=G,=A,=G,=G,=G,=T,=G,=A,=C,=A,=T,=G,=C,=G,=T,=G,=G,=T,=A,=T,=G,=T,=C,=T,=G,=A,=T,=G,=G,=A,=G,*CT,*AG,=A,-C,-A,-G,=G,=G,=A,+C|+C|=C,=C,=A,=G,+T|=G,=A,=A,=G,=A,=C,=A,=G,=C,=G,=A,=C,=A,=G,=C,=A,=G,=A,=A,=G,=G,=G,=A,=C,=T,=T,=C,=T,=G,=G,=C,=A,=G,=C,=T,=T,=C,=T,=T,=C,=C,=T,+G|=G,=G,=G,=T,=G,=T,=G,=G,*TC,=T,*GA,*CA,=A,=T,=G,=T,=A,=C,=T,=C,=T,=G,=T,=G,=T,=C,=C,=C,=A,=G,=T,=G,=A,=A,=G,=G,=T,=T,=A,=G,=C,=A,=T,=C,=A,=G,=A,=G,=A,=T,=C,=T,=G,=A,=T,*TG,=G,=G,=G,=G,*TA,=G,-A,=G,=C,=C,*TA,=G,-C,=A,=G,=T,=G,=C,=T,+G|=G,=G,=C,=T,=C,=A,-C,=C,=C,=C,=A,=G,=C,=T,=G,=T,=G,=T,=C,=T,=G,=G,=T,-A,=A,=C,=A,*CT,*AG,=G,*TC,*TC,=C,=G,=G,=G,=G,=T,=C,=T,=A,=C,=C,=A,=G,=G,=A,=G,+C|=C,*TA,=G,*GT,*CT,=C,=C,*GT,=G,=A,+C|=C,=A,=C,=G,=G,=C,=A,=C,=T,=G,=G,=T,=G,=G,=C,=T,=G,=G,=G,=G,=A,=G,=G,=T,=G,=A,=A,=C,=T,=T,=G,=G,=A,=C,=A,=G,=G,=C,=A,=C,=T,-G,-A,=G,=A,=A,=A,=A,=G,+C|+A|=A,=A,=G,=G,=C,=T,=G,=G,=T,=T,=G,=C,=T,=C,=C,=T,=T,=C,=T,=C,=T,=G,=T,=G,=C,=T,=T,=G,=G,=C,=C,=T,=G,=C,=A,=T,=G,=C,=C,=T,=G,=T,=A,=T,=C,=T,=G,=T,=A,+G|=G,=T,=G,=T,=A,=A,=A,=G,=T,=G,=G,=T,=C,=C,=A,=T,=C,=T,=C,-A,*CG,*AT,=T,=G,=C,=T,+T|+C|=T,=C,=A,=T,=T,=T,-C,-C,-C,=C,=C,=T,=T,=T,=T,=A,=A,=A,=G,=A,=A,=A,=T,-A,=A,=A,=A,=G,=A,=A,=G,=A,=G,=C,=T,=G,=G,=A,=G,=G,=A,=C,=C,=T,=G,=A,=A,=C,=A,=A,=A,=G,=A,=G,=A,=T,=C,=A,=A,=G,=A,=A,=A,=A,=C,=T,=G,=C,=T,=A,=A,=C,=A,=G,=G,=A,=T,-C,=C,*GT,=G,=G,=G,=C,=A,=A,=G,=C,=T,=G,=A,=A,=G,=T,=G,=T,=A,=A,=G,=T,=T,=T,=G,=C,=C,=T,=T,=C,=T,=T,=G,=G,=G,=T,=G,=C,=T,=G,=G,=T,=G,=G,=G,=G,=T,=G,=T,=G,=G,=A,=A,=G,=T,=T,=G,=G,=T,=A,=C,=C,+T|+T|=T,=T,=T,=T,=T,=C,=C,=T,=T,=A,=G,=A,=G,=T,=T,=T,=T,=A,=T,=T,=A,=T,=T,=A,=T,=A,=T,=T,=T,=C,=C,=C,=A,=A,=A,=A,=T,=G,=A,=A,=A,=A,=T,=T,=G,=A,=G,=A,=C,=T,=G,=C,=T,=T,=C,=T,=A,=A,=G,=T,=A,=G,=G,=T,=T,=G,=G,=T,=T,=A,=T,=C,=T,=G,=T,=A,=A,=T,=C,=C,=C,=G,+C|+A|*TA,=G,=C,-T,=A,-T,*AC,*TC,=C,=T,=C,=A,=T,=T,=G,=T,=G,=A,=C,=T,=C,=A,=G,=T,=A,=G,=G,=T,=G,=A,=C,=A,=T,=T,=G,=G,=G,=C,=A,=G,=G,=T,=G,=T,=T,=T,=G,=A,=G,=A,=A,=A,=G,-T,=G,=G,=G,=G,=A,=T,=A,=G,=C,-T,=T,=T,=C,=C,=T,=A,=G,=T,=G,=A,=C,=T,=C,+G|=G,=C,=C,=A,=A,=G,=C,=T,=C,=T,=C,=A,=G,=G,=C,=G,=G,=G,=C,=C,=T,=C,=T,=T,=A,=G,=C,=T,=A,=G,=A,=A,=T,=G,=T,+C|=T,+G|=C,*TC,=T,=T,=C,=C,=A,=G,=C,=C,=C,=C,=T,-A,-G,-A,=A,=G,=C,=T,=C,=A,=G,=C,=T,=G,=A,=G,=A,=T,=C,=A,=T,=G,=G,=T,=C,=C,=T,=C,=T,=G,=T,=G,=T,=T,=C,=A,=G,=G,=A,=T,=G,=A,=C,=G,=C,=C,=T,=T,=G,=G,=C,=T,=G,=G,=G,=T,=T,=G,=A,=G,=G,=G,=T,=T,=G,=T,=G,=G,=C,=T,=T,=T,=T,=T,+T|+A|=G,=C,-A,=C,=A,=G,=T,=G,=C,=T,=T,=A,=A,=A,=C,=A,=G,=A,=A,=G,=T,=T,=G,=C,=T,=T,=T,+C|=C,=C,=T,=T,=G,=A,=T,=C,=T,=G,=T,=G,=A,=G,=G,=A,=A,=G,=A,=C,=A,=T,=A,=T,=G,*TC,=T,=T,=A,=A,=C,=T,=T,=T,=T,=T,=T,=A,=T,=T,=T,=T,=T,=T,=T,=C,=T,=G,=A,=G,=A,=C,=A,=G,=G,=G,=T,=T,=T,=C,=T,=C,=T,=G,=T,=G,=T,=A,=G,-C,*CT,=C,=T,=G,=G,=C,=T,=G,=T,=C,=C,=T,=A,=G,=A,=A,=C,=T,=C,=A,=C,=T,=T,=T,=G,=T,=A,=G,=A,=C,=C,=A,=A,=G,=T,=T,=G,=G,+C|+T|=C,=C,=T,-C,=G,=A,=A,=C,=T,=C,*AG,*GT,=A,=A,=A,=T,=C,=C,=G,=C,=C,=T,=G,=C,=C,=T,=C,+T|=T,=G,=C,=C,=T,=C,=C,=C,=G,=A,=G,=T,=G,=C,=T,=G,=G,=G,=A,=T,=T,=A,=A,=A,=G,=G,=C,=A,=T,=G,=C,=T,=C,=C,=A,=C,=C,=A,=C,=T,=G,=C,=C,=C,=A,=G,=C,=T,=G,=A,=C,=A,=T,=G,=T,=G,=T,=T,=T,=T,=A,=A,=C,-T,=T,=A,=C,=A,=G,=A,=G,=A,=C,=A,=C,=A,=T,=C,=A,=A,=A,=A,=G,=G,=A,=A,=T,=A,=A,=A,=T,=C,=T,=C,=A,=T,=C,=T,=C,=C,=G,=C,=A,=C,=A,=T,=A,=C,=C,=C,=T,=C,=T,=C,=C,=T,=C,=A,=G,=G,=A,=A,=C,=A,=G,=T,=G,=A,=C,=T,=C,=C,=C,=A,=G,=G,=T,=A,=G,=C,=A,+G|+G|=G,=G,=C,=A,=C,=T,=C,=T,=G,=C,=C,=C,=A,=G,=A,=T,=C,=C,=T,=A,=G,=T,=A,=G,=G,=C,=T,=C,=C,=T,=G,=G,=C,=A,=C,=T,=C,=C,=T,=C,=A,=C,=T,=G,=G,=G,=C,=T,=C,=A,=A,=G,=G,=C,=A,=G,=A,=C,=C,=T,=T,=A,=G,=A,=G,=A,=G,=T,=G,=T,=G,=C,=A,=C,=C,=T,=T,=A,=A,=A,=A,=A,=C,=A,=G,=C,N,N,N,N,N,N,N,N,N,N,N,N,N,N,N,N,N,N,N,N,N,N,N,N,N,N,N,N,N,N,N,N,N,N,N,N,N,N,N,N,N,N,N,N,N,N,N,N,N,N,N,N,N,N,N,N,N,N,N,N,N,N,N,N,N,N,N,N,N,N,N,N,N,N,N,N,N,N,N,N,N,N,N,N,N,N,N,N,N,N,N,N,N,N,N,N,N,N,N,N,N,N,N,N,N,N,N,N,N,N,N,N,N,N,N,N,N,N,N,N,N,N,N,N,N,N,N,N,N,N,N,N,N,N,N,N,N,N,N,N,N,N,N,N,N,N,N,N,N,N,N,N,N,N,N,N,N,N,N,N,N,N,N,N,N,N,N,N,N,N,N,N,N,N,N,N,N,N,N,N,N,N,N,N,N,N,N,N,N,N,N,N,N,N,N,N,N,N,N,N,N,N,N,N,N,N,N,N,N,N,N,N,N,N,N,N,N,N,N,N,N,N,N,N,N,N,N,N,N,N,N,N,N,N,N,N,N,N,N,N,N,N,N,N,N,N,N,N,N,N,N,N,N,N,N,N,N,N,N,N,N,N,N,N,N,N,N,N,N,N,N,N,N,N,N,N,N,N,N,N,N,N,N,N,N,N,N,N,N,N,N,N,N,N,N,N,N,N,N,N,N,N,N,N,N,N,N,N,N,N,N,N,N,N,N,N,N,N,N,N,N,N,N,N,N,N,N,N,N,N,N,N,N,N,N,N,N,N,N,N,N,N,N,N,N,N,N,N,N,N,N,N,N,N,N,N,N,N,N,N,N,N,N,N,N,N,N,N,N,N,N,N,N,N,N,N,N,N,N,N,N,N,N,N,N,N,N,N,N,N,N,N,N,N,N,N,N,N,N,N,N,N,N,N,N,N,N,N,N,N,N,N,N,N,N,N,N,N,N,N,N,N,N,N,N,N,N,N,N,N,N,N,N,N,N,N,N,N,N,N,N,N,N,N,N,N,N,N,N,N,N,N,N,N,N,N,N,N,N,N,N,N,N,N,N,N,N,N,N,N,N,N,N,N,N,N,N,N,N,N,N,N,N,N,N,N,N,N,N,N,N,N,N,N,N,N,N,N,N,N,N,N,N,N,N,N,N,N,N,N,N,N,N,N,N,N,N,N,N,N,N,N,N,N,N,N,N,N,N,N,N,N,N,N,N,N,N,N,N,N,N,N,N,N,N,N,N,N,N,N,N,N,N,N,N,N,N,N,N,N,N,N,N,N,N,N,N,N,N,N,N,N,N,N,N,N,N,N,N,N,N,N,N,N,N,N,N,N,N,N,N,N,N,N,N,N,N,N,N,N,N,N,N,N,N,N,N,N,N,N,N,N,N,N,N,N,N,N,=T,=C,=A,=A,=C,=C,=C,=T,=G,=T,=T,=T,=G,=A,=C,=C,=A,=A,=G,=C,=C,=T,=G,=C,=C,=A,=G,*CT,=T,=T,*AG,*GT,=G,=G,=C,=A,=G,=G,=C,=A,=G,=T,=C,=C,=A,=C,+T|=G,=T,=G,=C,=C,=T,=G,=C,=C,=A,=G,=C,+C|+A|=T,=G,=G,=A,-T,=T,=C,=A,=A,=C,=C,=T,=G,=T,=G,=A,=T,=A,=A,=C,=G,=C,=C,=C,=T,-C,=C,=C,=T,=C,=T,=A,=G,=A,=G,=G,=T,=C,=A,=G,=C,=T,=G,=G,=C,=T,=G,-C,=T,=C,*CT,=G,=G,=G,*CG,*TC,=C,=C,=A,=A,=C,=T,=T,=A,=T,=T,=T,=G,=T,=T,=G,=T,=T,=G,=T,=T,=A,=T,=T,=G,=G,=T,=G,=A,=T,=G,*GC,*TA,=G,=G,=T,=A,=T,=T,=T,=T,=G,-T,-T,*TC,=T,=G,+C|=T,=T,=G,=A,=G,=C,=C,=A,=G,=A,=A,=T,=C,=T,=T,=A,=C,=T,=C,=T,=G,*TC,=A,=T,=C,=C,=C,=T,=G,=G,=C,=T,=G,=G,=C,=C,=T,=G,=G,=A,-G,-T,=G,=A,=G,=C,=T,=T,=G,=T,=T,=A,=C,=A,=T,=A,=G,=A,=C,=C,=A,=G,=G,=T,=C,=G,=A,=C,=C,=T,=T,=G,=A,=A,=C,=T,=C,+A|+T|+T|=A,*CT,=A,=G,=A,=G,=A,=T,=T,=T,=A,=T,=T,=T,=C,=C,=C,=T,=C,=T,=C,=C,=C,=T,=C,=T,=G,=T,=A,=T,=T,=G,=G,=A,=A,=T,=T,=G,=A,=A,=G,=G,=C,=A,=T,=G,=C,=G,=C,=C,=A,=C,=C,=G,=T,=C,=C,=T,=G,=G,=T,=G,=G,=C,=C,=C,=A,=G,=G,=T,=C,=A,=T,=G,=C,=A,=C,=C,=T,=C,=C,=C,=A,=T,=T,=G,=C,=C,=G,=C,=T,=C,=T,=T,=T,=C,=T,=C,=T,=T,=A,=C,=T,=T,=T,=C,=T,=T,=C,=T,=G,=G,=G,=A,=T,=G,=G,=A,=G,=T,=C,=A,=T,=G,=G,=T,=T,=G,=G,=G,=G,=C,=T,=T,=C,=T,=T,=A,=G,=T,=C,=G,=T,=C,=A,=G,=T,=T,=T,=T,=A,=C,=C,=T,=C,=T,=T,=T,=C,=A,=A,=A,=G,=G,=A,=A,=G,=G,=G,+G|+C|+C|=G,*TC,=T,=G,=C,=C,=C,=C,=C,=A,+T|*CT,=A,=T,*AT,=G,*TC,=A,=A,=C,=A,=C,=G,=G,=T,=A,=T,=T,-C,=T,=C,=C,=G,=T,=G,=T,=T,=C,=T,=A,=G,=C,=A,=C,=T,=C,=G,=G,=T,=G,=C,=T,=G,=T,=C,=A,=C,=G,=G,=A,=A,=G,=T,=T,-T,-G,=T,=G,=G,=A,=C,=G,=T,=C,=A,=T,=G,=A,=C,=A,=G,=A,=A,=T,+C|=A,=C,=A,=A,=T,=G,=A,=A,=G,=C,=G,=C,=A,=G,=A,=T,=C,=C,=T,=G,=T,=T,=C,=C,=G,=G,=G,=A,=G,=C,=G,=A,=A,=G,=C,=A,=A,=A,=G,=G,=C,=C,=G,=C,=A,=T,=C,=C,=A,=G,=C,=G,=C,=C,=A,=G,=C,=T,=G,*GA,*AG,=G,=A,=T,=C,=A,=G,=T,=G,=A,=G,=T,=A,=G,=G,=G,=C,=G,=C,=A,=T,=G,=C,=G,=G,=G,=A,=G,=A,=C,=G,=T,=G,=C,=T,=T,=C,=A,=G,+T|=G,=A,=C,+C|+T|+G|+T|+T|=C,=C,=A,=T,=C,=A,=G,=A,=T,=G,=G,=C,=A,=A,=G,=C,=G,=C,=C,=C,=C,=A,=C,=T,=T,=C,=T,=A,=A,=C,=T,=G,=C,=A,=G,=A,=G,*TC,=A,=A,=A,=C,=C,+A|=G,=A,=A,=A,=G,=G,=C,=C,=C,=T,=T,=T,=G,=C,=T,=G,=C,=A,=G,=C,=C,=T,=G,=T,=G,=C,+C|+T|+T|=C,=T,=A,=G,=A,=G,=T,=C,=A,=G,=G,=C,=A,=G,=A,=T,=G,=T,=G,=T,=T,=A,=T,=G,=T,=G,=T,=C,=G,=T,-A,-A,=G,=C,=T,=T,=C,=A,=G,=A,=G,=T,=T,=C,=T,=G,=A,=G,=T,=G,=C,=G,=G,=G,=G,=C,=T,=G,=T,=A,=G,=T,=G,=G,=C,=T,=T,=G,*CT,=G,=A,=T,=T,=G,=C,=T,=G,=G,=T,=G,=C,=T,=G,=C,=T,=A,=T,=T,=T,=C,+A|=A,*CT,=G,=C,=A,=T,-C,=C,=C,=G,=A,=A,=A,=T,=C,=T,=T,=G,=T,=G,=G,=T,=C,=C,=T,=G,=A,=T,=T,=T,=C,=T,=T,=A,=A,=G,=G,=C,=A,=T,=T,=T,=T,=C,=G,=T,=G,=T,*CT,=C,=T,=G,=C,=A,=G,=C,=T,=G,=C,=T,=C,=C,=T,=A,=C,=C,=T,=G,=G,=C,=T,=G,=G,=G,=A,=G,=A,=G,=G,=A,=T,=C,=A,=T,=C,=C,=T,=C,=A,=T,=G,=T,=G,=C,=C,=T,=C,=C,=T,=T,=C,=A,=G,=C,=T,=T,=A,=A,=C,=T,=C,=C,-C,-T,=C,=T,=G,=G,=C,=T,=A,+G|=G,=A,=A,=G,=C,=C,=C,=T,=G,=T,=G,=G,=G,=A,=C,=C,=C,=G,=A,=G,=C,=A,=T,=A,=G,=C,=T,=G,=C,=T,=C,=C,=T,=C,=T,=G,=T,=A,=A,=C,=A,=C,=C,=A,=G,=G,=G,=T,=A,-G,=G,=G,=T,=T,=G,=T,=G,=A,=C,=A,=C,=A,=T,=T,=G,=C,=A,=T,=C,=A,=C,=A,=T,=T,=T,=C,=T,=G,=C,=C,=A,=C,=A,=T,=T,=A,=C,=T,=G,=T,=G,=T\", \"QSCORE\": \"-1,5,13,27,31,31,30,29,31,36,32,29,34,29,27,7,7,10,12,16,17,19,23,28,31,24,20,14,12,6,5,3,7,13,11,19,24,26,25,27,34,34,29,27,20,10,6,4,7,7,31,32,30,28,21,19,22,19,33,20,15,15,21,8,20,20,17,17,24,23,13,4,18,24,23,33,35,32,29,27,38,29,27,39,26,24,25,23,23,32,10,7,7,33,29,9,5,5,5,3,7,11,7,4,3,2,3,13,11,11,6,5|7,6,8,15,26,7,15,24,21|17|14,12,15,5,5,14,20,20,24,24,24,28,13,18,22,22,20,11,5,5,24,16,14,22,13,24,3,3,3,8,7,5,10,19,21,17,12,6,13,32,29,26,20,5,9,5|6,6|8|5,6,19,8,15,10,24,23,26,24,23,26,26,25,24,17,13,19,5,3,6,6,-1,12,6,13,12,18,20,22,31,30,30,34|38|36,36,37,28,27,31,30,25,31,30,35,34,34,22,24,23,33,18,27,20,20,12,17,13,13,-1,17,13,13,8,8,8,9|7,14,14,17,30|31,27,22,19,17,4,7|4,10,5,6,16,13,19,9,12,10,13,8,9,9,9,10,5,7,14,12,12,14,13,11,10,11,4,6|5,11,10,-1,18,18,28,17,22,24,31,36,27,31,29,26,36,29,29,26,27,26,29,30,26,21,23,12,9,15,14,25,11,20,42,45,27,27,26,20,15,12,9,9,-1,4,6,22,18,18,21,19,5,8,4,10,5,5,-1,-1,10,5,-1,9,11,17,20,18,20,25,23,3,4,13,19,20,16,35,40,36,35,37,28,27,25,36,33,33,36,34,27,28,7,24,23,29,36,34,32,16,26,20,34,32,27,27,37,37,30,12,34,34,24,24,22,5,5,8,22,16,25,28,28,24,18,18,9,13,21,16,21,-1,-1,-1,-1,-1,-1,-1,-1,-1,-1,23,31,29,25,23,25,30,41,30,33,28,30,20,26,16,33,36,36,4|10,3,20,19,23,23,30,30,33,30,29,26,19,16,23,23,20,22,20,24,14,26|33,35,29,19,27,4,21,22,9,11,8,2,3,3,4,3,13,6,15,30,25,18,4,12,28,27,25,28,29,28,35,20,21,29,-1,10,6,9,7,10,6,-1,7,7,9|8,4,4,9,12,12,12,13,10,10,21,33,35,21,19,24,19,20,19,22,22,31,24,30,31,39,33,29,21,16,7,15,13,18,12,6,12,7,5,9,16,16,16,17,23,20,16,7,7,14,10,14,13,11,10,10,6,9,4,-1,-1,-1,-1,-1,6,9,6,5,10,4,4,11,7,-1,20,19,13,4,6,25,24,26,15,21,20,18,9,4,8,8|5,10,8,13,10,17,25,19,22,20,12,5,10,8,5,10,-1,2,-1,3,4,9,9,15,17,15,6,3,-1,8,3,6,3,5,21,19,18,5,-1,12,7,14,18,17,7,7,7,7,7,11,7,6,24,30,24,26,29,27,25,20,18,4,6,6,5,5|4,9,9,13,16,19,20,19,19,23,23,23,24,30,38,44,33,31,27,12,15,11|10,9,24,26,24,25,26,29,27,30,27,26,27,18,24,25,23,25,15,15,6,-1,22,26,23,24,27,15,14,22,15,15,15,11,23,4,23,19,17,-1,13,13,5,4,4,7,13,15,17,21,25,25,18,22,7,8,23,15,21,24,13,9,10,17,17,18,18,18,19,9,7,13,21,25,26,21,25,28,25,24,23,11,-1,-1,25,25,23,22,20,19,17,28,22,32,16,17,22,25,22,19,18,16,11,7,3,6,6,10,11,10,9,6,4,4,3,18,3,9,8,10,8,9,8,9,12,15,10,3,17,6,19,14,20,23,13,12,7,14,-1,5,7,7,9,17,22,22,26,23,22,22,3,27,9,17,9,8,16,10,15,22,20,22,19,30,19,19,19,32,19,29,21,20,20,23,20,31,21,19,23,22,17,30,26,17,13,29,32,31,36,30,33,30,33,25,22,29,29,25,24,20,20,27,31,19,17,20,22,13,11,7,4,6,2,2,3,8,-1,-1,-1,12,7,9,7|15|10,10,10,4,4|19,16,20,21,20,3,10,5,7,28,18,22,23,16,22,33,33,25,19,23,27,23,22,25,19,22,7,7,17,19,25,30,27,14,14,11,14,35,36,19,22,17,21|21,22,23,24,22,23,17,16,14,8,5,4,3,4,5,8,8,14,3,25,27,26,39,35,43,39,31,35,31,26,28,35,31,32,28,26,15,14,22,9,14,16,15,15,12,6,17,19,21,24,16,16,15,7,7,12,20,18,22,16,17,18,-1,15,9,4,3,4,-1,6,4,4,5,5,6,14|16,10,5,4,9,9,-1,12,8,13,17,19,15,8,5,6,7,7,17,15,19,13,8,-1,5,6,7,4,4,4,4,7,3,25,31,28,28,28,29,31,22,24,29,24,27,21,19,15,14|10,11,10,4,3,11,9,8,5,6,11|18,19,20,22,21,24,29,33,29,33,37,38,35,35,29,26,34,40,30,30,34,15,18,7,23,13,22,11,9,9,26,13,13,25,32,31,31,31,31,28,23,-1,-1,16,12,16,10,4,3,2|8|12,12,15,15,17,27,24,25,14,13,27,24,17,6,31,26,27,10,19,25,28,28,38,41,36,37,25,23,20,32,40,33,33,32,27,37,37,33,29,30,30,27,29,29,24,23,23,15,9,4|12,19,20,18,13,13,13,12,11,5,4,19,21,24,26,32,36,27,6,-1,2,2,2,5,4,11,8|4|4,8,5,6,17,15,-1,-1,-1,23,11,34,34,38,37,28,38,38,28,34,20,14,14,-1,17,30,30,24,29,30,25,27,29,23,25,33,13,19,21,13,13,22,27,14,24,12,37,35,39,33,34,30,35,34,33,35,25,28,27,27,35,34,33,28,24,25,24,6,23,15,23,14,8,23,21,20,23,-1,23,20,20,20,20,21,9,16,16,8,17,10,19,23,22,19,28,35,41,46,39,29,26,22,31,27,28,6,24,27,17,16,21,22,21,33,34,37,27,34,34,30,17,31,28,31,35,24,33,36,30,23,22,3,9,27,22,22,20,20,20,7,8|9|28,5,5,15,17,18,24,18,16,26,32,25,28,27,23,22,21,23,34,36,5,32,32,40,39,41,35,29,22,12,30,20,39,41,33,35,27,25,37,36,34,27,29,27,30,14,26,30,32,34,33,17,35,39,28,37,27,25,24,14,16,24,23,28,28,28,24,28,28,35,34,30,31,29,26,10,6,7,14,9,3,2,2|5|4,4,4,-1,6,-1,4,3,8,19,22,24,25,25,22,22,21,29,33,15,31,33,29,30,32,30,31,30,25,27,27,27,25,24,10,10,4,11,17,14,20,25,28,40,26,20,24,24,26,23,10,4,5,-1,21,23,24,24,23,25,26,25,13,-1,16,21,17,15,14,7,22,24,27,25,21,19,24,8|7,19,19,21,22,22,27,28,31,33,31,25,32,32,20,26,21,20,22,14,5,5,16,20,23,17,12,14,8,11,14,9,4,4,3,3|3,2|10,7,14,20,32,35,33,30,31,31,17,11,9,-1,-1,-1,5,2,5,29,30,37,34,32,34,33,13,32,30,35,35,35,29,28,27,40,37,37,29,38,33,32,35,27,28,26,25,20,21,21,21,30,31,26,25,23,20,26,13,12,26,26,22,26,26,27,26,9,8,30,22,31,28,28,19,19,12,7,14,14,15,17,18,21,32,9,7|5|3,8,-1,16,18,20,26,30,28,20,19,25,25,24,28,34,24,33,32,30,26,24,9,12,19,25,16,10|17,14,25,24,27,13,23,32,30,28,25,25,33,26,25,31,36,35,34,26,25,35,34,31,25,3,24,24,28,22,20,14,17,18,24,34,33,27,33,35,42,42,49,32,16,15,27,21,28,27,12,20,28,32,34,32,18,19,18,14,21,18,24,21,24,15,12,11,10,-1,2,14,10,10,15,21,26,27,36,30,36,40,35,38,36,41,25,23,21,26,19,25,31,29,29,32,32,27,28,28,28,20,21,20,9,9,16,14,12|6|19,4,4,-1,14,23,11,17,14,19,17,6,8,28,33,25,30,22,22,29,26,22,22,26,20,6,14,4|10,9,9,15,17,33,25,19,29,36,34,12,11,22,27,34,36,25,24,25,26,33,31,30,30,31,17,22,20,30,26,13,33,29,34,28,40,35,33,26,26,30,37,38,30,34,19,34,26,13,19,28,32,16,14,22,13,24,30,28,23,9,11,-1,12,11,13,13,26,26,26,25,29,24,34,30,35,37,39,39,20,16,22,15,30,28,28,31,29,24,23,29,15,20,20,28,9,18,19,14,5,25,27,27,26,29,23,17,28,35,11,34,22,35,25,14,19,23,28,24,33,28,26,27,11,12,25,14,10,5,23,21,18,19,24,25,14,10,5,5,8,11|14|14,14,12,21,25,19,27,30,27,28,25,19,30,22,23,25,29,35,37,36,31,26,27,35,34,35,33,32,32,16,22,22,26,32,27,24,28,22,8,7,18,4,4,22,27,27,26,19,29,24,20,21,21,22,22,30,27,27,29,19,19,23,23,16,6,12,4,4,5,5,10,5,10,10,7,5,4,19,32,36,31,31,26,31,24,26,-1,-1,-1,-1,-1,-1,-1,-1,-1,-1,-1,-1,-1,-1,-1,-1,-1,-1,-1,-1,-1,-1,-1,-1,-1,-1,-1,-1,-1,-1,-1,-1,-1,-1,-1,-1,-1,-1,-1,-1,-1,-1,-1,-1,-1,-1,-1,-1,-1,-1,-1,-1,-1,-1,-1,-1,-1,-1,-1,-1,-1,-1,-1,-1,-1,-1,-1,-1,-1,-1,-1,-1,-1,-1,-1,-1,-1,-1,-1,-1,-1,-1,-1,-1,-1,-1,-1,-1,-1,-1,-1,-1,-1,-1,-1,-1,-1,-1,-1,-1,-1,-1,-1,-1,-1,-1,-1,-1,-1,-1,-1,-1,-1,-1,-1,-1,-1,-1,-1,-1,-1,-1,-1,-1,-1,-1,-1,-1,-1,-1,-1,-1,-1,-1,-1,-1,-1,-1,-1,-1,-1,-1,-1,-1,-1,-1,-1,-1,-1,-1,-1,-1,-1,-1,-1,-1,-1,-1,-1,-1,-1,-1,-1,-1,-1,-1,-1,-1,-1,-1,-1,-1,-1,-1,-1,-1,-1,-1,-1,-1,-1,-1,-1,-1,-1,-1,-1,-1,-1,-1,-1,-1,-1,-1,-1,-1,-1,-1,-1,-1,-1,-1,-1,-1,-1,-1,-1,-1,-1,-1,-1,-1,-1,-1,-1,-1,-1,-1,-1,-1,-1,-1,-1,-1,-1,-1,-1,-1,-1,-1,-1,-1,-1,-1,-1,-1,-1,-1,-1,-1,-1,-1,-1,-1,-1,-1,-1,-1,-1,-1,-1,-1,-1,-1,-1,-1,-1,-1,-1,-1,-1,-1,-1,-1,-1,-1,-1,-1,-1,-1,-1,-1,-1,-1,-1,-1,-1,-1,-1,-1,-1,-1,-1,-1,-1,-1,-1,-1,-1,-1,-1,-1,-1,-1,-1,-1,-1,-1,-1,-1,-1,-1,-1,-1,-1,-1,-1,-1,-1,-1,-1,-1,-1,-1,-1,-1,-1,-1,-1,-1,-1,-1,-1,-1,-1,-1,-1,-1,-1,-1,-1,-1,-1,-1,-1,-1,-1,-1,-1,-1,-1,-1,-1,-1,-1,-1,-1,-1,-1,-1,-1,-1,-1,-1,-1,-1,-1,-1,-1,-1,-1,-1,-1,-1,-1,-1,-1,-1,-1,-1,-1,-1,-1,-1,-1,-1,-1,-1,-1,-1,-1,-1,-1,-1,-1,-1,-1,-1,-1,-1,-1,-1,-1,-1,-1,-1,-1,-1,-1,-1,-1,-1,-1,-1,-1,-1,-1,-1,-1,-1,-1,-1,-1,-1,-1,-1,-1,-1,-1,-1,-1,-1,-1,-1,-1,-1,-1,-1,-1,-1,-1,-1,-1,-1,-1,-1,-1,-1,-1,-1,-1,-1,-1,-1,-1,-1,-1,-1,-1,-1,-1,-1,-1,-1,-1,-1,-1,-1,-1,-1,-1,-1,-1,-1,-1,-1,-1,-1,-1,-1,-1,-1,-1,-1,-1,-1,-1,-1,-1,-1,-1,-1,-1,-1,-1,-1,-1,-1,-1,-1,-1,-1,-1,-1,-1,-1,-1,-1,-1,-1,-1,-1,-1,-1,-1,-1,-1,-1,-1,-1,-1,-1,-1,-1,-1,-1,-1,-1,-1,-1,-1,-1,-1,-1,-1,-1,-1,-1,-1,-1,-1,-1,-1,-1,-1,-1,-1,-1,-1,-1,-1,-1,-1,-1,-1,-1,-1,-1,-1,-1,-1,-1,-1,-1,-1,-1,-1,-1,-1,-1,-1,-1,-1,-1,-1,-1,-1,-1,-1,-1,-1,-1,-1,-1,-1,-1,-1,-1,-1,-1,-1,-1,-1,-1,-1,-1,-1,-1,-1,-1,-1,-1,-1,-1,-1,-1,-1,-1,-1,-1,-1,-1,-1,-1,-1,-1,-1,-1,-1,-1,-1,-1,-1,-1,-1,-1,-1,-1,13,18,18,18,17,25,19,16,14,9,13,12,9,8,7,5,4,4,4,14,12,8,8,8,7,7,7,3,3,3,3,2,6,6,4,4,13,12,6,11,12,5,9,10,10,7,3|4,11,17,7,10,2,6,6,6,11,4,3,2|2|4,15,7,7,-1,6,4,9,12,10,9,3,3,3,29,25,29,32,33,18,18,20,26,23,6,-1,24,31,18,21,20,15,27,17,25,24,21,16,10,14,6,13,11,12,8,3,4,-1,7,6,5,8,5,5,5,7,7,5,14,13,18,11,11,14,23,39,37,10,8,8,30,32,31,27,26,25,30,27,26,23,18,8,10,7,12,8,3,3,3,3,4,4,9,11,14,11,9,-1,-1,4,7,5,7|11,12,23,17,24,21,24,21,29,33,32,26,24,24,22,15,10,12,13,27,17,12,20,13,24,22,25,30,28,34,33,38,34,34,31,27,23,21,8,11,-1,-1,17,20,22,4,14,14,10,18,22,13,16,23,26,22,29,28,27,24,21,22,21,13,22,19,25,28,22,26,26,30,30,31,24,25,26,22|13|13|13,11,10,19,11,20,21,20,14,12,14,20,11,5,4,15,15,4,29,27,20,23,37,28,34,32,24,15,15,20,25,28,8,31,31,30,29,20,18,13,14,13,5,5,19,19,19,19,22,14,16,10,9,11,10,17,30,16,20,21,13,14,29,27,13,24,33,33,31,24,33,24,23,22,28,34,36,24,35,41,37,38,35,42,42,32,30,25,22,25,21,18,10,31,32,10,20,27,31,33,24,25,17,14,18,12,24,34,22,23,27,26,11,11,29,30,27,33,30,31,38,35,33,24,22,13,13,25,28,25,23,8,10,11,9,16,20,25,25,31,27,30,35,34,29,22,27,33,31,33,27,10,24,8,28,23,26,28,30,24,22,19,26,18,25,10,15,14,14,14|10|8|8,8,11,10,16,23,21,9,12,13,5|5,6,8,7,7,6,10,10,6,18,17,18,15,5,5,13,17,-1,20,23,31,29,7,4,9,11,28,30,31,21,22,30,8,10,31,31,38,36,35,21,25,22,20,13,9,20,24,23,25,24,20,12,4,-1,-1,3,25,6,6,27,18,23,24,22,14,22,15,21,23,15,13,11,2,4|4,7,20,20,20,31,33,32,29,31,27,32,35,30,29,28,28,19,11,13,29,43,32,28,23,26,18,27,22,19,17,7,6,5,4,13,13,12,9,12,13,11,11,14,14,25,22,12,22,22,27,22,32,36,35,35,28,31,32,8,12,5,5,30,30,25,30,21,32,8,5,31,30,20,35,34,32,29,26,27,26,24,16,36,35,25,34,31,30,35,30,30,29,22,22,23,26,13,5,6|29,6,14,22|19|15|11|8|12,20,21,33,34,33,33,29,29,36,33,36,28,41,18,16,17,21,18,25,8,28,7,11,14,18,23,28,28,32,23,22,31,39,18,15,6,10,32,34,34,25,22,12|21,20,25,23,24,22,14,10,19,4,29,28,29,16,21,19,27,27,26,27,23,17,17,17,17,18,9|4|4|6,6,8,22,29,30,32,34,26,32,32,28,32,23,20,11,4,11,13,16,16,21,22,12,10,11,13,17,9,6,-1,-1,5,3,15,21,24,33,33,32,24,25,29,18,36,25,12,35,37,27,28,27,27,31,31,9,19,15,14,18,28,28,26,24,8,16,14,13,12,29,16,26,28,32,23,29,29,24,12,16,16,13,12,13,19,16,23,22,14,25,3|3,3,4,6,9,9,-1,9,3,7,17,24,22,24,38,29,27,30,30,26,22,18,29,30,23,29,21,25,30,38,21,11,11,31,29,30,29,13,16,27,30,19,22,6,11,10,10,13,15,36,21,19,22,26,25,8,18,10,9,8,11,26,27,18,30,31,30,27,26,16,29,25,28,20,13,6,22,31,34,32,34,34,29,31,31,30,22,24,23,28,18,21,22,29,33,38,33,38,21,30,28,29,27,27,16,16,20,31,34,17,27,8,-1,-1,30,23,23,22,25,23,23,12|6,23,22,22,16,17,30,23,22,22,22,30,28,24,31,28,25,27,18,5,30,28,30,13,26,15,25,13,14,9,9,34,24,27,18,10,6,17,26,27,30,26,32,24,16,26,29,36,23,-1,26,26,3,3,4,4,10,11,19,14,27,28,28,30,30,21,23,32,32,25,31,32,41,36,34,29,30,29,37,34,28,37,37,40,39,31,29,28,28,29,16,15\"}\n"
     ]
    }
   ],
   "source": [
    "%%bash\n",
    "cat DAJINResults/.tempdir/test-stx2-deletion/midsv/barcode25_splice_target.jsonl | grep 35e7a68c0a37"
   ]
  },
  {
   "cell_type": "code",
   "execution_count": 20,
   "metadata": {},
   "outputs": [],
   "source": [
    "###############################################################################\n",
    "# CSSPLITS Error Correction\n",
    "###############################################################################\n",
    "preprocess.correct_sequence_error.execute(TEMPDIR, FASTA_ALLELES, CONTROL_NAME, SAMPLE_NAME)"
   ]
  },
  {
   "cell_type": "code",
   "execution_count": 21,
   "metadata": {},
   "outputs": [],
   "source": [
    "###############################################################################\n",
    "# Convert any `N` as deletions other than consecutive `N` from both ends\n",
    "###############################################################################\n",
    "preprocess.replace_N_to_D.execute(TEMPDIR, FASTA_ALLELES, CONTROL_NAME)\n",
    "preprocess.replace_N_to_D.execute(TEMPDIR, FASTA_ALLELES, SAMPLE_NAME)"
   ]
  },
  {
   "cell_type": "code",
   "execution_count": null,
   "metadata": {},
   "outputs": [],
   "source": [
    "%%bash\n",
    "cat DAJINResults/.tempdir/test-stx2-deletion/midsv/barcode25_splice_target.jsonl | grep 35e7a68c0a37"
   ]
  },
  {
   "attachments": {},
   "cell_type": "markdown",
   "metadata": {},
   "source": [
    "### Error correction -> replaceNtoDの流れにして、再チャレンジ"
   ]
  },
  {
   "cell_type": "code",
   "execution_count": 22,
   "metadata": {},
   "outputs": [
    {
     "name": "stdout",
     "output_type": "stream",
     "text": [
      "test-pm-tyr\n"
     ]
    }
   ],
   "source": [
    "%%bash\n",
    "rm -rf DAJINResults/.tempdir/test-stx2-deletion\n",
    "ls DAJINResults/.tempdir/"
   ]
  },
  {
   "cell_type": "code",
   "execution_count": 23,
   "metadata": {},
   "outputs": [
    {
     "name": "stdout",
     "output_type": "stream",
     "text": [
      "processing test-stx2-deletion...\n",
      "preprocessing...\n",
      "Error correction...\n",
      "Replace N to D...\n",
      "Classify...\n",
      "Clustering...\n",
      "Consensus call...\n"
     ]
    }
   ],
   "source": [
    "%%bash\n",
    "python misc/quickstart.py"
   ]
  },
  {
   "cell_type": "code",
   "execution_count": 24,
   "metadata": {},
   "outputs": [
    {
     "name": "stdout",
     "output_type": "stream",
     "text": [
      "total 16384\n",
      "drwxrwxrwx 1 kuno kuno  512 Mar 28 06:12 barcode25\n",
      "-rwxrwxrwx 1 kuno kuno 5169 Mar 28 06:25 barcode25_allele1_target_sv_32.263%.html\n",
      "-rwxrwxrwx 1 kuno kuno 5194 Mar 28 06:25 barcode25_allele2_target_sv_27.063%.html\n",
      "-rwxrwxrwx 1 kuno kuno 5169 Mar 28 06:25 barcode25_allele3_target_sv_21.609%.html\n",
      "-rwxrwxrwx 1 kuno kuno 5198 Mar 28 06:25 barcode25_allele4_target_sv_18.581%.html\n",
      "-rwxrwxrwx 1 kuno kuno 5198 Mar 28 06:25 barcode25_allele5_target_mutated_0.347%.html\n",
      "-rwxrwxrwx 1 kuno kuno 5946 Mar 28 06:25 barcode25_allele6_control_sv_0.069%.html\n",
      "-rwxrwxrwx 1 kuno kuno 5982 Mar 28 06:25 barcode25_allele7_inversion_sv_0.046%.html\n",
      "-rwxrwxrwx 1 kuno kuno 6435 Mar 28 06:25 barcode25_allele8_control_mutated_0.023%.html\n"
     ]
    }
   ],
   "source": [
    "%%bash\n",
    "ls -l DAJINResults/.tempdir/test-stx2-deletion/report/HTML"
   ]
  },
  {
   "attachments": {
    "image.png": {
     "image/png": "[encoded data removed]"
    }
   },
   "cell_type": "markdown",
   "metadata": {},
   "source": [
    "- 無事に3アレルに分離することができました\n",
    "\n",
    "![image.png](attachment:image.png)"
   ]
  },
  {
   "cell_type": "code",
   "execution_count": null,
   "metadata": {},
   "outputs": [],
   "source": []
  },
  {
   "attachments": {},
   "cell_type": "markdown",
   "metadata": {},
   "source": [
    "# まとめ\n"
   ]
  },
  {
   "attachments": {},
   "cell_type": "markdown",
   "metadata": {},
   "source": [
    "- `replaceNtoD`を組み込みました"
   ]
  },
  {
   "attachments": {},
   "cell_type": "markdown",
   "metadata": {},
   "source": [
    "# 次に取り組むこと"
   ]
  },
  {
   "attachments": {},
   "cell_type": "markdown",
   "metadata": {},
   "source": [
    "### Lists\n",
    "\n",
    "+ [ ] cis変異の両端が欠失している場合に、Nで置き換えるとtransとなってしまうのをどうするか（`replace_n`）\n",
    "+ [ ] 短いリードの扱いをどうするべきか\n",
    "+ [ ] Insertionのなかにある変異を同定する手法を考案する\n",
    "+ [ ] Ayabe-taks1のright_loxpがいまいちな理由を考察する\n",
    "+ [ ] `preprocess.correct_sequence_error`の処理速度の改善\n",
    "+ [ ] `preprocess.correct_sequence_error.replace_atmark`のコードがわかりにくい\n",
    "    + テストを用意してリファクタリングする"
   ]
  },
  {
   "attachments": {},
   "cell_type": "markdown",
   "metadata": {},
   "source": [
    "### Focus\n",
    "+ [ ] cis変異の両端が欠失している場合に、Nで置き換えるとtransとなってしまうのをどうするか（`replace_n`）\n",
    "+ [ ] 短いリードの扱いをどうするべきか\n",
    "\n",
    "両者については、`correct_sequence_error`などで補正するときに、**変異候補の塩基配列のみを対象とする**ことで対応できる可能性がある\n",
    "\n",
    "- 変異候補の塩基配列のみを対象とする\n",
    "    - 両端が欠失しているようなリードについて、変異候補部位を含まないリードは`uncategorized`といったカテゴリにできる\n",
    "    - よって**変異候補部位を含むか含まないか**を考えることで、短いリードや両端が欠失しているリードの分類が可能になる？"
   ]
  },
  {
   "cell_type": "markdown",
   "metadata": {},
   "source": []
  }
 ],
 "metadata": {
  "kernelspec": {
   "display_name": "base",
   "language": "python",
   "name": "python3"
  },
  "language_info": {
   "codemirror_mode": {
    "name": "ipython",
    "version": 3
   },
   "file_extension": ".py",
   "mimetype": "text/x-python",
   "name": "python",
   "nbconvert_exporter": "python",
   "pygments_lexer": "ipython3",
   "version": "3.10.6"
  },
  "orig_nbformat": 4,
  "vscode": {
   "interpreter": {
    "hash": "a09285d6cbc768c1977f96e8deb5ca1ec0d08675e9573ed6dfd37fd7d91de663"
   }
  }
 },
 "nbformat": 4,
 "nbformat_minor": 2
}
