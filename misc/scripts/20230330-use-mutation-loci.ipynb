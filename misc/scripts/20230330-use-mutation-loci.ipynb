{
 "cells": [
  {
   "attachments": {},
   "cell_type": "markdown",
   "metadata": {},
   "source": [
    "# 今回の取り組み"
   ]
  },
  {
   "attachments": {},
   "cell_type": "markdown",
   "metadata": {},
   "source": [
    "下記の2つについて、`correct_sequence_error`などで補正するときに、**変異候補の塩基配列のみを対象とする**ことで対応できる可能性がある\n",
    "\n",
    "+ [ ] cis変異の両端が欠失している場合に、Nで置き換えるとtransとなってしまうのをどうするか（`replace_n`）\n",
    "+ [ ] 短いリードの扱いをどうするべきか\n",
    "\n",
    "- 変異候補の塩基配列のみを対象とする\n",
    "    - 両端が欠失しているようなリードについて、変異候補部位を含まないリードは`uncategorized`といったカテゴリにできる\n",
    "    - よって**変異候補部位を含むか含まないか**を考えることで、短いリードや両端が欠失しているリードの分類が可能になる？"
   ]
  },
  {
   "attachments": {},
   "cell_type": "markdown",
   "metadata": {},
   "source": [
    "`extract_mutation_loci`を作った\n",
    "\n",
    "- `classify`\n",
    "    - これは今まで通りでOK\n",
    "    - mutation_lociを考慮することで多少の高速化につながるが、特に大きな意味を持たないので省略\n",
    "- `detect_sv`\n",
    "    - これはなくて良い、もしくは最後に移動する\n",
    "    - consensus配列が50塩基以上の変異を含む場合に、そのアレルはSVとする\n",
    "- `clustering`\n",
    "    - mutation_lociのみの塩基を抽出することで、高速化につなげる\n",
    "\n",
    "よって、`detect_sv`の移動と`clustering`の変更を行う  \n",
    "\n",
    "**まずは`clustering`の変更が第一優先**"
   ]
  },
  {
   "cell_type": "code",
   "execution_count": null,
   "metadata": {},
   "outputs": [],
   "source": []
  },
  {
   "cell_type": "markdown",
   "metadata": {},
   "source": [
    "## いつものセットアップ"
   ]
  },
  {
   "cell_type": "code",
   "execution_count": 1,
   "metadata": {},
   "outputs": [
    {
     "name": "stdout",
     "output_type": "stream",
     "text": [
      "/mnt/c/Users/akihi/Documents/GitHub/DAJIN2\n"
     ]
    }
   ],
   "source": [
    "# ルートディレクトリをPathに含めるおまじない\n",
    "import sys, os\n",
    "from pathlib import Path\n",
    "if Path(os.getcwd()).stem != \"DAJIN2\":\n",
    "    parent_path = str(Path(os.path.dirname(os.path.abspath(\"__file__\"))).parent.parent)\n",
    "    sys.path.append(parent_path)\n",
    "    os.chdir(parent_path)\n",
    "print(os.getcwd())"
   ]
  },
  {
   "cell_type": "code",
   "execution_count": 2,
   "metadata": {},
   "outputs": [],
   "source": [
    "%%bash\n",
    "# pipの更新\n",
    "pip install -q -U pip\n",
    "pip install -q -U -r requirements.txt"
   ]
  },
  {
   "attachments": {},
   "cell_type": "markdown",
   "metadata": {},
   "source": [
    "# 実験"
   ]
  },
  {
   "attachments": {},
   "cell_type": "markdown",
   "metadata": {},
   "source": [
    "## clusteringにmutation_lociを加える"
   ]
  },
  {
   "cell_type": "code",
   "execution_count": 4,
   "metadata": {},
   "outputs": [
    {
     "name": "stdout",
     "output_type": "stream",
     "text": [
      "processing test-knockout...\n"
     ]
    }
   ],
   "source": [
    "from __future__ import annotations\n",
    "\n",
    "import sys, os\n",
    "from pathlib import Path\n",
    "\n",
    "import hashlib\n",
    "from collections import defaultdict\n",
    "from pathlib import Path\n",
    "from importlib import reload\n",
    "\n",
    "from src.DAJIN2.core import preprocess, classification, clustering, consensus, report\n",
    "from src.DAJIN2.core.clustering import clustering\n",
    "\n",
    "reload(preprocess)\n",
    "reload(classification)\n",
    "reload(clustering)\n",
    "reload(consensus)\n",
    "reload(report)\n",
    "\n",
    "\n",
    "##### # * 2-cut deletion\n",
    "SAMPLE, CONTROL, ALLELE, NAME, GENOME, DEBUG, THREADS = (\n",
    "    \"tests/data/knockout/test_barcode25.fq.gz\",\n",
    "    \"tests/data/knockout/test_barcode30.fq.gz\",\n",
    "    \"tests/data/knockout/design_stx2.fa\",\n",
    "    \"test-knockout\",\n",
    "    \"mm10\",\n",
    "    True,\n",
    "    30,\n",
    ")\n",
    "\n",
    "print(f\"processing {NAME}...\")\n",
    "\n",
    "##########################################################\n",
    "# Check inputs\n",
    "##########################################################\n",
    "preprocess.check_inputs.check_files(SAMPLE, CONTROL, ALLELE)\n",
    "TEMPDIR = Path(\"DAJINResults\", \".tempdir\", NAME)\n",
    "IS_CACHE_CONTROL = preprocess.check_inputs.exists_cached_control(CONTROL, TEMPDIR)\n",
    "IS_CACHE_GENOME = preprocess.check_inputs.exists_cached_genome(GENOME, TEMPDIR, IS_CACHE_CONTROL)\n",
    "UCSC_URL, GOLDENPATH_URL = None, None\n",
    "if GENOME and not IS_CACHE_GENOME:\n",
    "    UCSC_URL, GOLDENPATH_URL = preprocess.check_inputs.check_and_fetch_genome(GENOME)\n",
    "\n",
    "##########################################################\n",
    "# Format inputs\n",
    "##########################################################\n",
    "SAMPLE_NAME = preprocess.format_inputs.extract_basename(SAMPLE)\n",
    "CONTROL_NAME = preprocess.format_inputs.extract_basename(CONTROL)\n",
    "FASTA_ALLELES = preprocess.format_inputs.dictionize_allele(ALLELE)\n",
    "THREADS = min(THREADS, os.cpu_count()-1)\n",
    "\n",
    "preprocess.format_inputs.make_directories(TEMPDIR, SAMPLE_NAME, CONTROL_NAME)\n",
    "\n",
    "if GENOME:\n",
    "    GENOME_COODINATES = preprocess.format_inputs.fetch_coodinate(GENOME, UCSC_URL, FASTA_ALLELES[\"control\"])\n",
    "    CHROME_SIZE = preprocess.format_inputs.fetch_chrom_size(GENOME_COODINATES[\"chr\"], GENOME, GOLDENPATH_URL)\n",
    "    preprocess.format_inputs.cache_coodinates_and_chromsize(TEMPDIR, GENOME, GENOME_COODINATES, CHROME_SIZE)\n"
   ]
  },
  {
   "cell_type": "code",
   "execution_count": 5,
   "metadata": {},
   "outputs": [],
   "source": [
    "# ################################################################################\n",
    "# # Export fasta files as single-FASTA format\n",
    "# ################################################################################\n",
    "# # TODO: use yeild, not export\n",
    "# for identifier, sequence in FASTA_ALLELES.items():\n",
    "#     contents = \"\\n\".join([\">\" + identifier, sequence]) + \"\\n\"\n",
    "#     output_fasta = Path(TEMPDIR, \"fasta\", f\"{identifier}.fasta\")\n",
    "#     output_fasta.write_text(contents)\n",
    "# ###############################################################################\n",
    "# # Mapping with mappy\n",
    "# ###############################################################################\n",
    "# for path_fasta in Path(TEMPDIR, \"fasta\").glob(\"*.fasta\"):\n",
    "#     name_fasta = path_fasta.stem\n",
    "#     preprocess.mappy_align.output_sam(TEMPDIR, path_fasta, name_fasta, CONTROL, CONTROL_NAME, threads=THREADS)\n",
    "#     preprocess.mappy_align.output_sam(TEMPDIR, path_fasta, name_fasta, SAMPLE, SAMPLE_NAME, threads=THREADS)\n",
    "#     preprocess.mappy_align.output_sam(\n",
    "#         TEMPDIR, path_fasta, name_fasta, CONTROL, CONTROL_NAME, preset=\"splice\", threads=THREADS\n",
    "#     )\n",
    "#     preprocess.mappy_align.output_sam(\n",
    "#         TEMPDIR, path_fasta, name_fasta, SAMPLE, SAMPLE_NAME, preset=\"splice\", threads=THREADS\n",
    "#     )\n",
    "# ########################################################################\n",
    "# # MIDSV conversion\n",
    "# ########################################################################\n",
    "# for path_sam in Path(TEMPDIR, \"sam\").glob(f\"{CONTROL_NAME}_splice_*\"):\n",
    "#     preprocess.calc_midsv.output_midsv(TEMPDIR, path_sam)\n",
    "# for path_sam in Path(TEMPDIR, \"sam\").glob(f\"{SAMPLE_NAME}_splice_*\"):\n",
    "#     preprocess.calc_midsv.output_midsv(TEMPDIR, path_sam)\n",
    "# ###############################################################################\n",
    "# # CSSPLITS Error Correction\n",
    "# ###############################################################################\n",
    "# preprocess.correct_sequence_error.execute(TEMPDIR, FASTA_ALLELES, CONTROL_NAME, SAMPLE_NAME)\n",
    "# preprocess.correct_knockin.execute(TEMPDIR, FASTA_ALLELES, CONTROL_NAME, SAMPLE_NAME)\n",
    "# ###############################################################################\n",
    "# # Convert any `N` as deletions other than consecutive `N` from both ends\n",
    "# ###############################################################################\n",
    "# preprocess.replace_N_to_D.execute(TEMPDIR, FASTA_ALLELES, CONTROL_NAME)\n",
    "# preprocess.replace_N_to_D.execute(TEMPDIR, FASTA_ALLELES, SAMPLE_NAME)\n",
    "# ###############################################################################\n",
    "# # Cashe inputs (control)\n",
    "# ###############################################################################\n",
    "# if not IS_CACHE_CONTROL:\n",
    "#     control_hash = Path(CONTROL).read_bytes()\n",
    "#     control_hash = hashlib.sha256(control_hash).hexdigest()\n",
    "#     PATH_CACHE_HASH = Path(TEMPDIR, \"cache\", \"control_hash.txt\")\n",
    "#     PATH_CACHE_HASH.write_text(str(control_hash))\n"
   ]
  },
  {
   "cell_type": "code",
   "execution_count": 6,
   "metadata": {},
   "outputs": [],
   "source": [
    "MUTATION_LOCI = preprocess.extract_mutation_loci(TEMPDIR, FASTA_ALLELES, SAMPLE_NAME, CONTROL_NAME)"
   ]
  },
  {
   "cell_type": "code",
   "execution_count": 7,
   "metadata": {},
   "outputs": [
    {
     "data": {
      "text/plain": [
       "dict_keys(['deletion', 'control', 'inversion'])"
      ]
     },
     "execution_count": 7,
     "metadata": {},
     "output_type": "execute_result"
    }
   ],
   "source": [
    "MUTATION_LOCI.keys()"
   ]
  },
  {
   "cell_type": "code",
   "execution_count": 8,
   "metadata": {},
   "outputs": [
    {
     "name": "stdout",
     "output_type": "stream",
     "text": [
      "Classify...\n"
     ]
    }
   ],
   "source": [
    "########################################################################\n",
    "# Classify alleles\n",
    "########################################################################\n",
    "print(\"Classify...\")\n",
    "\n",
    "classif_sample = classification.classify_alleles(TEMPDIR, SAMPLE_NAME)\n"
   ]
  },
  {
   "cell_type": "code",
   "execution_count": 9,
   "metadata": {},
   "outputs": [
    {
     "data": {
      "text/plain": [
       "{'QNAME': '0013cef2-2bed-49c3-9253-0672c5f77a77',\n",
       " 'RNAME': 'deletion',\n",
       " 'CSSPLIT': 'N,N,N,=C,=C,=A,=G,=G,=G,=T,=G,=T,=C,=T,=C,=A,=T,=A,=G,=T,=G,=T,=T,=T,=G,=A,=A,=G,=G,=C,=T,=C,=C,=T,=A,=A,=A,=T,=T,=G,=C,=C,=C,=A,=G,=T,=G,=T,=T,=C,=A,=G,=C,=T,=G,=G,=G,=G,=A,=A,=A,=G,=A,=C,=C,=A,=T,=C,=A,=G,=C,=T,=A,=G,=G,=C,=A,=G,=G,=A,=T,=C,=C,=A,=A,=A,=G,=G,=A,=T,=A,=A,=T,=G,=A,=G,=T,=G,=T,=G,=C,=C,=C,=C,=A,=T,=G,=G,=G,=A,=C,=T,=C,=T,=G,=G,=C,=T,=T,=A,=G,=C,=C,=G,=C,=A,=G,=C,=T,=C,=T,=A,=C,=C,=C,=T,=A,=A,=G,=C,=C,=C,=A,=C,=A,=G,=T,=T,=G,=A,=G,=G,=G,=G,=T,=A,=G,=T,=G,=G,=A,=T,=C,=T,=T,=G,=T,=G,=T,=T,=T,=G,=A,=G,=G,=A,=C,=A,=T,=T,=A,=A,=C,=A,=A,=C,=A,=G,=G,=C,=T,=G,=A,=T,=T,=G,=G,=G,=A,=A,=A,=G,=T,=A,=G,=T,=G,=G,=T,=T,=G,=C,=T,=T,=G,=A,=T,=G,=G,=A,=G,=T,=T,=G,=G,=G,=C,=T,=A,=G,=C,=G,=A,=T,=G,=G,=A,=G,=G,=T,=G,=A,=G,=T,=G,=A,=G,=T,=C,=T,=G,=G,=A,=G,=G,=C,=C,=A,=G,=T,=T,=G,=T,=G,=T,=G,=C,=C,=G,=C,=A,=T,=A,=C,=T,=A,=A,=C,=A,=G,=A,=G,=G,=A,=G,=T,=A,=A,=G,=C,=A,=C,=C,=A,=G,=C,=T,=A,=G,=A,=T,=T,=T,=T,=C,=A,=T,=T,=T,=C,=C,=T,=T,=A,=G,=G,=A,=T,=A,=T,=C,=T,=T,=T,=C,=T,=A,=A,=A,=T,=C,=T,=C,=A,=G,=C,=T,=C,=T,=T,=T,=T,=T,=A,=G,=A,=A,=A,=T,=G,=T,=T,=A,=A,=A,=T,=G,=C,=C,=T,=T,=T,=G,=T,=T,=T,=A,=G,=A,=A,=A,=C,=T,=T,=T,=G,=A,=A,=T,=G,=T,=T,=G,=G,=C,=T,=G,=C,=C,=A,=C,=T,=T,=A,=C,=A,=T,=T,=A,=A,=A,=A,=A,=A,=A,=A,=A,=A,=A,=A,=A,=A,=A,=A,=A,=A,=A,=A,=C,=C,=T,=G,=G,=A,=A,=A,=C,=T,=A,=A,=G,=A,=C,=A,=G,=T,=G,=T,=C,=T,=G,=G,=T,=C,=A,=C,=T,=C,=C,=C,=A,=C,=A,=C,=A,=T,=C,=A,=G,=T,=T,=A,=C,=T,=G,=T,=G,=G,=A,=G,=C,=A,=G,=C,=T,=T,=G,=C,=T,=C,=A,=C,=C,=T,=G,=T,=G,=C,=T,=C,=A,=C,=T,=C,=C,=A,=C,=T,=G,=C,=C,=C,=T,=C,=A,=A,=G,=G,=A,=G,=C,=T,=A,=A,=T,=C,=T,=G,=C,=C,=T,=G,=T,=C,=T,=G,=C,=T,=G,=G,=C,=T,=G,=C,=A,=T,=A,=T,=T,=C,=T,=G,=C,=T,=T,=C,=C,=T,=C,=C,=T,=G,=G,=G,=G,=A,=G,=T,=C,=T,=C,=A,=T,=A,=G,=G,=G,=T,=C,=T,=C,=T,=G,=A,=G,=A,=T,=C,=A,=C,=A,=C,=T,=G,=T,=T,=T,=C,=T,=G,=G,=T,=C,=A,=C,=A,=C,=T,=G,=G,=G,=G,=T,=T,=T,=T,=G,=T,=A,=A,=G,=G,=C,=C,=T,=C,=C,=C,=T,=T,=A,=C,=A,=T,=C,=T,=G,=C,=C,=A,=G,=G,=T,=T,=C,=C,=A,=G,=T,=T,=T,=G,=C,=T,=T,=C,=A,=C,=C,=T,=C,=A,=T,=T,=G,=G,=G,=T,=G,=T,=T,=T,=T,=A,=A,=T,=G,=A,=C,=A,=T,=C,=A,=C,=A,=T,=C,=A,=G,=A,=T,=G,=G,=C,=A,=A,=G,=A,=A,=A,=G,=A,=C,=T,=C,=T,=G,=G,=G,=T,=G,=G,=A,=G,=T,=C,=C,=C,=C,=C,=A,=G,=A,=A,=T,=C,=T,=C,=C,=A,=T,=A,=G,=A,=T,=G,=C,=C,=A,=T,=A,=G,=A,=G,=G,=T,=A,=T,=A,=G,=A,=C,=A,=T,=G,=G,=C,=A,=G,=T,=G,=G,=A,=C,=T,=G,=C,=T,=G,=C,=T,=G,=T,=C,=A,=G,=T,=T,=A,=G,=C,=T,=G,=C,=A,=G,=C,=C,=A,=G,=T,=G,=A,=C,=C,=T,=T,=T,=T,=A,=C,=C,=C,=C,=G,=A,=G,=A,=A,=T,=G,=G,=C,=T,=G,=G,=G,=G,=C,=A,=C,=C,=A,=A,=A,=G,=T,=T,=G,=G,=C,=T,=C,=T,=G,=A,=A,=G,=G,=T,=C,=T,=A,=G,=A,=G,=C,=C,=A,=G,=G,=T,=C,=T,=C,=C,=A,=G,=G,=A,=G,=G,=G,=T,=G,=A,=C,=A,=T,=G,=C,=G,=T,=G,=G,=T,=A,=T,=G,=T,=C,=T,=G,=A,=T,=G,=G,=A,=G,=C,=A,=A,=C,=A,=G,=G,=G,=A,=C,=C,=A,=G,=G,=A,=A,=G,=A,=C,=A,=G,=C,=G,=A,=C,=A,=G,=C,=A,=G,=A,=A,=G,=G,=G,=A,=C,=T,=T,=C,=T,=G,=G,=C,=A,=G,=C,=T,=T,=C,=T,=T,=C,=C,=T,=G,=G,=G,=T,=G,=T,=G,=G,=T,=T,=G,=C,=A,=T,=G,=T,=A,=C,=T,=C,=T,=G,=T,=G,=T,=C,=C,=C,=A,=G,=T,=G,=A,=A,=G,=G,=T,=T,=A,=G,=C,=A,=T,=C,=A,=G,=A,=G,=A,=T,=C,=T,=G,=A,=T,=T,=G,=G,=G,=G,=T,=G,=A,=G,=C,=C,=T,=G,=C,=A,=G,=T,=G,=C,=T,=G,=G,=C,=T,=C,=A,=C,=C,=C,=C,=A,=G,=C,=T,=G,=T,=G,=T,=C,=T,=G,=G,=T,=A,=A,=C,=A,=C,=A,=G,=T,=T,=C,=G,=G,=G,=G,=T,=C,=T,=A,=C,=C,=A,=G,=G,=A,=G,=C,=T,=G,=G,=C,=C,=C,=G,=G,=A,=C,=A,=C,=G,=G,=C,=A,=C,=T,=G,=G,=T,=G,=G,=C,=T,=G,=G,=G,=G,=A,=G,=G,=T,=G,=A,=A,=C,=T,=T,=G,=G,=A,=C,=A,=G,=G,=C,=A,=C,=T,=G,=A,=G,=A,=A,=A,=A,=G,=A,=A,=G,=G,=C,=T,=G,=G,=T,=T,=G,=C,=T,=C,=C,=T,=T,=C,=T,=C,=T,=G,=T,=G,=C,=T,=T,=G,=G,=C,=C,=T,=G,=C,=A,=T,=G,=C,=C,=T,=G,=T,=A,=T,=C,=T,=G,=T,=A,=G,=T,=G,=T,=A,=A,=A,=G,=T,=G,=G,=T,=C,=C,=A,=T,=C,=T,=C,=A,=C,=A,=T,=G,=C,=T,=T,=C,=A,=T,=T,=T,=C,=C,=C,=C,=C,=T,=T,=T,=T,=A,=A,=A,=G,=A,=A,=A,=T,=A,=A,=A,=A,=G,=A,=A,=G,=A,=G,=C,=T,=G,=G,=A,=G,=G,=A,=C,=C,=T,=G,=A,=A,=C,=A,=A,=A,=G,=A,=G,=A,=T,=C,=A,=A,=G,=A,=A,=A,=A,=C,=T,=G,=C,=T,=A,=A,=C,=A,=G,=G,=A,=T,=C,=C,=G,=G,=G,=G,=C,=A,=A,=G,=C,=T,=G,=A,=A,=G,=T,=G,=T,=A,=A,=G,=T,=T,=T,=G,=C,=C,=T,=T,=C,=T,=T,=G,=G,=G,=T,=G,=C,=T,=G,=G,=T,=G,=G,=G,=G,=T,=G,=T,=G,=G,=A,=A,=G,=T,=T,=G,=G,=T,=A,=C,=C,=T,=T,=T,=T,=T,=C,=C,=T,=T,=A,=G,=A,=G,=T,=T,=T,=T,=A,=T,=T,=A,=T,=T,=A,=T,=A,=T,=T,=T,=C,=C,=C,=A,=A,=A,=A,=T,=G,=A,=A,=A,=A,=T,=T,=G,=A,=G,=A,=C,=T,=G,=C,=T,=T,=C,=T,=A,=A,=G,=T,=A,=G,=G,=T,=T,=G,=G,=T,=T,=A,=T,=C,=T,=G,=T,=A,=A,+C|=T,=C,+A|+A|*CA,-C,=G,=T,=G,=C,=T,=A,=T,=A,=T,=C,=T,=C,=A,=T,=T,=G,=T,=G,=A,=C,=T,=C,=A,=G,=T,=A,=G,=G,=T,=G,=A,=C,=A,=T,=T,=G,=G,=G,=C,=A,=G,=G,=T,=G,=T,=T,=T,=G,=A,=G,=A,=A,=A,=G,=T,=G,=G,=G,=G,=A,=T,=A,=G,=C,=T,=T,=T,=C,=C,=T,=A,=G,=T,=G,=A,=C,=T,=C,=G,=C,=C,=A,=A,=G,=C,=T,=C,=T,=C,=A,=G,=G,=C,=G,=G,=G,=C,=C,=T,=C,=T,=T,=A,=G,=C,=T,=A,=G,=A,=A,=T,=G,=T,=T,=C,=T,=T,=T,=C,=C,=A,=G,=C,=C,=C,=C,=T,=A,=G,=A,=A,=G,=C,=T,=C,=A,=G,=C,=T,=G,=A,=G,=A,=T,=C,=A,=T,=G,=G,=T,=C,=C,=T,=C,=T,=G,=T,=G,=T,=T,=C,=A,=G,=G,=A,=T,=G,=A,=C,=G,=C,=C,=T,=T,=G,=G,=C,=T,=G,=G,=G,=T,=T,=G,=A,=G,=G,=G,=T,=T,=G,=T,=G,=G,=C,=T,=T,=T,=T,=T,=G,=C,=A,=C,=A,=G,=T,=G,=C,=T,=T,=A,=A,=A,=C,=A,=G,=A,=A,=G,=T,=T,=G,=C,=T,=T,=T,=C,=C,=T,=T,=G,=A,=T,=C,=T,=G,=T,=G,=A,=G,=G,=A,=A,=G,=A,=C,=A,=T,=A,=T,=G,=T,=T,=T,=A,=A,=C,=T,=T,=T,=T,=T,=T,=A,=T,=T,=T,=T,=T,=T,=T,=C,=T,=G,=A,=G,=A,=C,=A,=G,=G,=G,=T,=T,=T,=C,=T,=C,=T,=G,=T,=G,=T,=A,=G,=C,=C,=C,=T,=G,=G,=C,=T,=G,=T,=C,=C,=T,=A,=G,=A,=A,=C,=T,=C,=A,=C,=T,=T,=T,=G,=T,=A,=G,=A,=C,=C,=A,=A,=G,=T,=T,=G,=G,=C,=C,=T,=C,=G,=A,=A,=C,=T,=C,=A,=G,=A,=A,=A,=T,=C,=C,=G,=C,=C,=T,=G,=C,=C,=T,=C,=T,=G,=C,=C,=T,=C,=C,=C,=G,=A,=G,=T,=G,=C,=T,=G,=G,=G,=A,=T,=T,=A,=A,=A,=G,=G,=C,=A,=T,=G,=C,=T,=C,=C,=A,=C,=C,=A,=C,=T,=G,=C,=C,=C,=A,=G,=C,=T,=G,=A,=C,=A,=T,=G,=T,=G,=T,=T,=T,=T,=A,=A,=C,=T,=T,=A,=C,=A,=G,=A,=G,=A,=C,=A,=C,=A,=T,=C,=A,=A,=A,=A,=G,=G,=A,=A,=T,=A,=A,=A,=T,=C,=T,=C,=A,=T,=C,=T,=C,=C,=G,=C,=A,=C,=A,=T,=A,=C,=C,=C,=T,=C,=T,=C,=C,=T,=C,=A,=G,=G,=A,=A,=C,=A,=G,=T,=G,=A,=C,=T,=C,=C,=C,=A,=G,=G,=T,=A,=G,=C,=A,=G,=G,=C,=A,=C,=T,=C,=T,=G,=C,=C,=C,=A,=G,=A,=T,=C,=C,=T,=A,=G,=T,=A,=G,=G,=C,=T,=C,=C,=T,=G,=G,=C,=A,=C,=T,=C,=C,=T,=C,=A,=C,=T,=G,=G,=G,=C,=T,=C,=A,=A,=G,=G,=C,=A,=G,=A,=C,=C,=T,=T,=A,=G,=A,=G,=A,=G,=T,=G,=T,=G,=C,=A,=C,=C,=T,=T,=A,=A,=A,=A,=A,=C,=A,=G,=C,=G,=T,=T,=G,=T,=T,=C,=C,=C,=A,=A,=G,=C,=C,=G,-A,-G,-C,-A,-T,-C,-A,-C,-A,-T,-C,-T,-G,-C,-C,-C,-T,-T,-A,-T,-G,-T,-A,-A,-T,-G,-T,-C,-T,-G,-T,-C,-T,-G,-C,-A,-G,-G,-G,-G,-G,-T,-G,-G,-G,-G,-G,-T,-G,-G,-G,-G,-C,-T,-G,-G,-G,-G,-G,-G,-C,-T,-G,-C,-A,-T,-C,-T,-C,-T,-T,-C,-C,-A,-T,-G,-T,-G,-A,-A,-G,-A,-G,-A,-T,-G,-A,-C,-T,-C,-A,-G,-C,-G,-A,-C,-T,-C,-G,-G,-C,-T,-A,-C,-C,-T,-A,-T,-A,-T,-G,-C,-T,-C,-T,-G,-T,-G,-C,-C,-T,-C,-A,-G,-A,-G,-T,-A,-G,-A,-G,-G,-A,-C,-T,-A,-G,-C,-C,-A,-G,-A,-C,-C,-A,-C,-C,-T,-A,-G,-A,-T,-G,-G,-T,-A,-G,-T,-G,-G,-T,-T,-T,-G,-G,-T,-T,-T,-T,-A,-A,-T,-C,-A,-G,-T,-T,-T,-T,-T,-T,-T,-T,-T,-T,-T,-A,-A,-A,-G,-A,-T,-T,-T,-A,-T,-T,-T,-A,-T,-T,-T,-A,-T,-T,-T,-T,-A,-T,-G,-T,-A,-T,-A,-T,-G,-T,-G,-T,-A,-C,-A,-C,-G,-G,-T,-C,-G,-C,-T,-G,-T,-C,-T,-T,-C,-A,-G,-A,-C,-A,-C,-A,-C,-C,-A,-A,-A,-A,-G,-A,-G,-G,-G,-C,-A,-T,-C,-A,-G,=A,=T,=C,=C,=C,=A,=T,=T,=A,=C,=A,=G,=A,=T,=G,=G,=T,=T,=G,=T,=G,=A,=G,=C,=C,=A,=C,=C,=A,=T,=G,=T,=G,=G,=T,=T,=T,=G,=C,=T,=G,=G,=G,=A,=A,=T,=T,=G,=A,=A,=C,=T,=C,=A,=G,=G,=T,=C,=C,=T,=C,=T,=G,=G,=A,=A,=C,=A,=G,=C,=A,=G,=T,=C,=C,=A,=T,=G,=C,=T,=C,=T,=T,=A,=A,=C,=C,=A,=C,=T,=G,=A,=G,=C,=C,=A,=T,=C,=T,=C,=T,=C,=T,=A,=G,=C,=T,=G,=G,=G,=T,=T,=T,=T,=C,=A,=A,=C,=C,=T,=T,=C,=C,=T,=A,=A,=T,=G,=C,=T,=G,=T,=G,=A,=C,=C,=C,=T,=T,=T,=A,=A,=T,=A,=T,=A,=T,=A,=G,=T,=T,=T,=C,=T,=C,=A,=T,=G,=T,=T,=G,=T,=A,=A,=T,=G,=A,=C,=C,=C,=C,=A,=A,=T,=C,=A,=T,=A,=A,=T,=A,=T,=T,=A,=T,=C,=T,=T,=C,=A,=T,=T,=G,=C,=T,=A,=C,=T,=T,=T,=A,=T,=A,=A,=C,=T,=G,=T,=A,=A,=C,=T,=T,=T,=G,=C,=T,=T,=G,=T,=T,=A,=T,=G,=A,=A,=T,=T,=G,=T,=A,=A,=T,=A,=T,=A,=A,=A,=T,=G,=T,=C,=T,=G,=A,=C,=A,=T,=G,=C,=A,=G,=G,=A,=T,=A,=T,=C,=T,=G,=C,=T,=A,=T,=T,=T,=G,=A,=C,=C,=C,=C,=A,=A,=A,=G,=T,=G,=G,=T,=T,=G,=T,=T,=A,=C,=C,=A,=A,=A,=A,=G,=C,=C,=T,=T,=A,=A,=C,=T,=A,=T,=T,=A,=G,=C,=C,=T,=T,=A,=A,=C,=T,=A,=T,=T,=C,=A,=G,=G,=G,=T,=T,=T,=A,=T,=G,=G,=T,=T,=G,=A,=A,=A,=C,=T,=G,=G,=G,=A,=T,=G,=C,=T,=C,=A,=A,=C,=C,=C,=T,=G,=T,=T,=T,=G,=A,=C,=C,=A,=A,=G,=C,=C,=T,=G,=C,=C,=A,=G,=C,=T,=T,=A,=G,=G,=G,=C,=A,=G,=G,=C,=A,=G,=T,=C,=C,=A,=C,=G,=T,=G,=C,=C,=T,=G,=C,=C,=A,=G,=C,=T,=G,=G,=A,=T,=T,=C,=A,=A,=C,=C,=T,=G,=T,=G,=A,=T,=A,=A,=C,=G,=C,=C,=C,=T,=C,=C,=C,=T,=C,=T,=A,=G,=A,=G,=G,=T,=C,=A,=G,=C,=T,=G,=G,=C,=T,=G,=C,=T,=C,=C,=G,=G,=G,=C,=T,=C,=C,=A,=A,=C,=T,=T,=A,=T,=T,=T,=G,=T,=T,=G,=T,=T,=G,=T,=T,=A,=T,=T,=G,=G,=T,=G,=A,=T,=G,=G,=T,=G,=G,=T,=A,=T,=T,=T,=T,=G,=T,=T,=T,=T,=G,=T,=T,=G,=A,=G,=C,=C,=A,=G,=A,=A,=T,=C,=T,=T,=A,=C,=T,=C,=T,=G,=T,=A,=T,=C,=C,=C,=T,=G,=G,=C,=T,=G,=G,=C,=C,=T,=G,=G,=A,=G,=T,=G,=A,=G,=C,=T,=T,=G,=T,=T,=A,=C,=A,=T,=A,=G,=A,=C,=C,=A,=G,=G,=T,=C,=G,=A,=C,=C,=T,=T,=G,=A,=A,=C,=T,=C,=A,=C,=A,=G,=A,=G,=A,=T,=T,=T,=A,=T,=T,=T,=C,=C,=C,=T,=C,=T,=C,=C,=C,=T,=C,=T,=G,=T,=A,=T,=T,=G,=G,=A,=A,=T,=T,=G,=A,=A,=G,=G,=C,=A,=T,=G,=C,=G,=C,=C,=A,=C,=C,=G,=T,=C,=C,=T,=G,=G,=T,=G,=G,=C,=C,=C,=A,=G,=G,=T,=C,=A,=T,=G,=C,=A,=C,=C,=T,=C,=C,=C,=A,=T,=T,=G,=C,=C,=G,=C,=T,=C,=T,=T,=T,=C,=T,=C,=T,=T,=A,=C,=T,=T,=T,=C,=T,=T,=C,=T,=G,=G,=G,=A,=T,=G,=G,=A,=G,=T,=C,=A,=T,=G,=G,=T,=T,=G,=G,=G,=G,=C,=T,=T,=C,=T,=T,=A,=G,=T,=C,=G,=T,=C,=A,=G,=T,=T,=T,=T,=A,=C,=C,=T,=C,=T,=T,=T,=C,=A,=A,=A,=G,=G,=A,=A,=G,=G,=G,=G,=T,=T,=G,=C,=C,=C,=C,=C,=A,=C,=A,=T,=A,=G,=T,=A,=A,=C,=A,=C,=G,=G,=T,=A,=T,=T,=C,=T,=C,=C,=G,=T,=G,=T,=T,*CT,*TC,=A,=G,=C,=A,=C,=T,=C,=G,=G,=T,=G,=C,=T,=G,=T,=C,=A,=C,=G,=G,=A,=A,=G,=T,=T,=T,=G,=T,=G,=G,=A,=C,=G,=T,=C,=A,=T,=G,=A,=C,=A,=G,=A,=A,=T,=A,=C,=A,=A,=T,=G,=A,=A,=G,=C,=G,=C,=A,=G,=A,=T,=C,=C,=T,=G,=T,=T,=C,=C,=G,=G,=G,=A,=G,=C,=G,=A,=A,=G,=C,=A,=A,=A,=G,=G,=C,=C,=G,=C,=A,=T,=C,=C,=A,=G,=C,=G,=C,=C,=A,=G,=C,=T,=G,=G,=A,=G,=A,=T,=C,=A,=G,=T,=G,=A,=G,=T,=A,=G,=G,=G,=C,=G,=C,=A,=T,=G,=C,=G,=G,=G,=A,=G,=A,=C,=G,=T,=G,=C,=T,=T,=C,=A,=G,=G,=A,=C,=C,=C,=A,=T,=C,=A,=G,=A,=T,=G,=G,=C,=A,=A,=G,=C,=G,=C,=C,=C,=C,=A,=C,=T,=T,=C,=T,=A,=A,=C,=T,=G,=C,=A,=G,=A,=G,=T,=A,=A,=A,=C,=C,=G,=A,=A,=A,=G,=G,=C,=C,=C,=T,=T,=T,=G,=C,=T,=G,=C,=A,=G,=C,=C,=T,=G,=T,=G,=C,=C,=T,=A,=G,=A,=G,=T,=C,=A,=G,=G,=C,=A,=G,=A,=T,=G,=T,=G,=T,=T,=A,=T,=G,=T,=G,=T,=C,=G,=T,=A,=A,=G,=C,=T,=T,=C,=A,=G,=A,=G,=T,=T,=C,=T,=G,=A,=G,=T,=G,=C,=G,=G,=G,=G,=C,=T,=G,=T,=A,=G,=T,=G,=G,=C,=T,=T,=G,=C,=G,=A,=T,=T,=G,=C,=T,=G,=G,=T,=G,=C,=T,=G,=C,=T,=A,=T,=T,=T,=C,=A,=C,=G,=C,=A,=T,=C,=C,=C,=G,=A,=A,=A,=T,=C,=T,=T,=G,=T,=G,=G,=T,=C,=C,=T,=G,=A,=T,=T,=T,=C,=T,=T,=A,=A,=G,=G,=C,=A,=T,=T,=T,=T,=C,=G,=T,=G,=T,=C,=C,=T,=G,=C,=A,=G,=C,=T,=G,=C,=T,=C,=C,=T,=A,=C,=C,=T,=G,=G,=C,=T,=G,=G,=G,=A,=G,=A,=G,=G,=A,=T,=C,=A,=T,=C,=C,=T,=C,=A,=T,=G,=T,=G,=C,=C,=T,=C,=C,=T,=T,=C,=A,=G,=C,=T,=T,=A,=A,=C,=T,=C,=C,=C,=T,=C,=T,=G,=G,=C,=T,=A,=G,=A,=A,=G,=C,=C,=C,=T,=G,=T,=G,=G,=G,=A,=C,=C,=C,=G,=A,=G,=C,=A,=T,=A,=G,=C,=T,=G,=C,=T,=C,=C,=T,=C,=T,=G,=T,=A,=A,=C,=A,=C,=C,=A,=G,=G,=G,=T,=A,=G,=G,=G,=T,=T,=G,=T,=G,=A,=C,=A,=C,=A,=T,=T,=G,=C,=A,=T,=C,=A,=C,=A,=T,=T,=T,=C,=T,=G,=C,=C,=A,=C,=A,=T,=T,=A,=C,=T,=G,=T,=G,=T',\n",
       " 'QSCORE': '-1,-1,-1,14,24,20,11,26,28,23,22,21,23,20,8,-1,-1,27,27,23,24,34,29,27,28,26,24,20,19,-1,3,3,3,2,7|8|27,28,24,26,24,28,35,35,35,33,29,28,23,26,22,14,31,29,13,16,14,16,24,17,37,32,32,26,26,11,4,4,9,18,26,19,19,20,18,26,25,20,17,20,19,19,29,22,19,24,10,8,9,8,8,24,28,26,26,28,27,12,11,19,17,17,10,11,8,5,5,6,18,21,19,18,15,13,-1,12,20,21,3,21,22,28,27,27,19,19,24,20,15,15,-1,8,4,4,8,4|13,24,18,27,34,33,37,33,23,22,21,30,30,27,27,27,17,4,8,10,16,17,12,-1,-1,19,7,7,12,6,-1,11,7,16,14,14,15,15,29,7,14,12,12,25,27,28,27,30,31,15,27|31,30,23,29,25,25,13,23,23,11,14,8,4,4,4,15,17,17,17,18,20,26,22,14,17,11,10,10,5|4,7,8,11,12,20,26,24,25,22,9,8,-1,10,10,7,3,12,4,4,24,8,11,23,12,11,8,8,7,24,10,2,6,26,12,24,21,21,21,-1,28,15,24,24,18,6,13,4,3,3,3,3,5,12,18,18,14,12,3,3,25,27,26,25,28,26,33,36,27,24,16,12,29,24,20,22,18,14,14,17,18,16,26,22,15,19,18,32,16,24,43,27,18,18,18,25,19,23,16,19,28,28,28,36,29,28,29,29,22,15,16,27,22,20,25,26,36,32,14,15,16,10,9,9,14|4,7,15,-1,7,26,27,26,18,26,29,27,24,34,21,19,19,38,40,35,34,31,32,27,19,39,40,22,16,24,17,8,23,29,31,27,31,21,25,23,27,22,24,24,10,7,7,10,10,13,19,15,19,20,20,24,29,28,26,28,28,26,26,-1,-1,-1,-1,-1,-1,-1,-1,32,34,39,36,35,33,32,34,37,40,38,35,26,36,33,-1,33,16,38,28,34,28,27,23,24,25,11,11,6,14,16,23,27,22,25,22,17,19,17,21,18,28,27,17,24,19,11,25,25,25,29,17,15,10,10,9,14,13,14,12,22,20,30,23,25,30,29,20,8,8|12|9|18,10,20,15,15,15,31,36,33,33,35,35,30,19,19,19,35,11,29,29,35,22,20,16,18,23,23,7,21,20,29,37,24,35,32,34,15,26,24,31,32,35,31,16,20,19,20,35,32,31,32,21,37,25,27,34,18,28,26,27,36,35,38,33,31,37,33,35,30,22,15,17,37,36,25,15,17,18,22,18,21,20,23,20,15,18,16,21,14,-1,20,19,25,25,19,-1,18,29,12,30,29,29,24,23,16,20,10,16,14,31,13,11,25,10,16,11,17,18,24,28,30,24,23,28,29,31,29,18,25,29,29,20,11,20,19,21,20,20,15,6,-1,14,12,6,5,14,14,20,14,32,30,30,34,38,36,34,32,39,40,41,37,40,34,21,24,22,28,15,29,22,22,22,6|11|20,19,21,18,19,19,19,16,16,17,18,24,33,39,36,34,28,26,25,31,31,22,23,26,26,25,32,32,33,30,28,27,22,16,5,3|3,3,-1,-1,-1,19,20,19,23,19,14,6,8,12,10,10,10,7,5,2,5,-1,5,9,5,6,10,7,7,21,26,25,4,4,24,24,26,23,18,19,30,30,34,29,21,15,15,23,24,24,21,15,15,9,9,15,30,25,25,17,22,24,21,22,24,33,28,27,-1,29,20,23,23,21,9,10,7,8,11,10,21,24,21,13,9,8,11,-1,-1,-1,-1,10,23,24,26,18,13,18,27,37,27,29,10,-1,-1,10,29,30,16,33,16,8,31,21,27,14,6,9,8,6,10,24,16|18,18,20,19,32,35,34,29,37,35,35,25,23,19,24,24,24,17,20,27,23,12,25,26,25,32,31,32,29,26,25,31,30,29,32,24,23,20,16,17,15,17,12,11,8,26,21,20,21,12,21,15,21,24,25,9,9,16,13,6,3,4,3,1|3,6,9,9,7,16,20,23,28,18,8,17,10,21,25,24,25,27,29,24,23,24,29,29,26,25,22,22,18,15,3,8,6,5,16,19,23,32,30,33,29,29,34,29,-1,29,26,25,26,22,27,26,27,29,26,23,30,22,15,20,21,18,17,24,17,25,8,16,19,8,16,15,22,27,24,4,3,24,24,30,26,21,25,24,17,7,10,25,14,36,32,41,34,24,16,15,14,15,27,25,30,30,28,18,17,33,25,20,20,27,29,23,28,19,27,22,25,12,12,29,11,20,20,27|27,27,18,26,13,22,17,26,23,8,5,5,11,22,22,18,22,18,25,22,13,13,13,13,13,10,25,17,12,21,20,23,13,13,13,13,17,34,30,28,22,22,31,30,21,19,18,18,17,-1,23,8,7,15,4,10,7,9,6|2|3,4,6,12,15,15,5,21,22,14,4,17,14,15,13,15,25,10,10,30,28,12,27,27,21,20,21,5,15,22,8,6,5,7,5,-1,15,21,17,29,17,24,28,35,27,7,19,3,7,6|16,16,3,14,26,27,26,27,31,23,4,10,30,31,42,38,37,35,24,18,11,26,24,21,26,25,26,19,19,27,22,7,19,13,23,24,25,13,34,28,30,26,31,36,36,33,27,27,28,28,17,16,23,31,19,26,18,31,30,26,6,17,22,5,5,4,5,12,20,12,18,19,24,30,29,15,15,22,21,23,20,27,27,35,23,28,26,16,20,24,33,34,24,34,29,32,30,41,7,3,-1,-1,11,27,10,37,39,34,34,16,19,12,11,27,18,16,16,-1,22,28,30,24,37,38,29,29,24,21,27,24,11,32,24,22,22,30,29,24,28|4,21,19,28,43,34,36,27,34,30,31,34,33,26,24,26,35,36,33,27,24,18,12,12,12,13,9,6,12,12,9,9,25,19,18,6,6,6,6,6,15,15,15,12,21,17,21,19,19,17,15,14,18,19,19,18,23,34,35,33,5,13,4|9,7,10,-1,-1,-1,10,10,10,8,-1,-1,-1,-1,3,3,6,7,11,10,10,7,4,13,10,9,11,10,12,5,7,9,15,8,-1,18,18,20,19,12,9,5,4,17,26,25,25,18,16,14,13,26,29,31,14,33,31,32,30,27,21,6,7,-1,10,5,5,4,4,2,3,2,4,3,6,5,2,3,2|2|4,5,12,8,5,6,3,5,7,4,8,7,5,3,4,-1,5,2,2,3,2,-1,-1,3,3,4,2,4,-1,-1,-1,7,6,6|3,3,5|6|6,3,2,-1,2,3,-1,-1,-1,6,5,4,11,19,20,23,28,30,20,28,12,19,12,11,33,30,22,23,24,24,30,24,22,4,4,5,4,10,10,10,12,28,23,24,31,21,31,26,18,27,26,24,34,35,34,29,21,-1,10,17,11,11,29,30,26,16,12,8,4,5,13|8|3|8,12,14,20,26,32,24,22,12,5,13,16,26,32,39,34,-1,-1,24,10,18,20,24,24,6,-1,16,16,18,10,4,15,15,14,27,28,23,23,17,15,22,21,27,27,32,30,22,26,27,25,30,33,25,29,23,31,25,16,10,11,11,11,10,10,24,4,16,27,31,31,29,37,25,35,35,32,32,30,25,19,30,37,31,35,26,34,29,33,31,25,30,32,32,22,37,32,29,33,27,24,7,3,11,22,22,21,29,31,30,34,35,36,35,33,31,33,22,35,31,30,17,15,20,16,13,28,19,20,26,29,32,31,33,30,29,34,32,25,25,23,22,29,28,32,36,37,27,27,22,21,21,18,13,13,14,13,15,17,23,21,30,15,14,24,12,19,11,-1,6,6,22,22,19,18,27,29,32,31,27,25,27,27,32,31,40,39,35,31,15,11,8,11,11,22,21,20,23,-1,27,28,32,50,31,30,16,29,23,24,36,33,26,21,26,33,31,20,24,24,25,14,24,31,29,16,13,22,21,22,23,28,19,30,22,23,24,24,21,17,6,5,5,9,13,21,21,23,23,21,21,12,10,22,21,20,14,12,12,18,15,20,16|7|4,5,4,6,6,6,6,9,8,4,-1,13,16,20,4,7,7,8,-1,11,11,10,4,9,3,4,8,8,5,6,6,11,9,17,13,13,20,31,24,34,16,8,23,27,36,21,21,26,28,36,27,24,19,-1,-1,3,3,3,4,4,4,13,17,28,25,23,28,27,27,28,33,31,32,10,10,14,18,24,26,27,25,34,30,24,24,24,11,11,20,22,31,29,25,26,33,15,14,9,10,7,7,7,13,7,17,5,12,9,16,24,10|13,9|3,5,-1,-1,-1,-1,14,8,7,8,11,19,17,12,19,6,9,9,29,34,20,27,19,13,18,20,12,11,25,10,5,19,34,13,5,18,24,19,12,12,22,14,7,32,33,25,29,25,20,27,19,8,5,5,4,13,17,16,20,14,19,26,29,18,18,18,24,27,29,19,32,25,25,29,17,21,10,6,10,12,28,14,18,8,21,10,17,28,27,24,9,24,18,8,12,10,6,6,11,-1,-1,-1,-1,16,16,26,23,28,32,32,36,24,26,28,29,31,31,32,30,31,30,29,5,15,14,8,8|3,22,14,7,4,14,4,14,22,18,27,12,11,23,22,27,33,34,31,31,28,37,30,24,22,28,27,33,25,21,25,19,12,13,20,4,4,4,23,-1,-1,-1,-1,-1,-1,-1,-1,-1,-1,-1,-1,-1,-1,-1,-1,-1,-1,-1,-1,-1,-1,-1,-1,-1,-1,-1,-1,-1,-1,-1,-1,-1,-1,-1,-1,-1,-1,-1,-1,-1,-1,-1,-1,-1,-1,-1,-1,-1,-1,-1,-1,-1,-1,-1,-1,-1,-1,-1,-1,-1,-1,-1,-1,-1,-1,-1,-1,-1,-1,-1,-1,-1,-1,-1,-1,-1,-1,-1,-1,-1,-1,-1,-1,-1,-1,-1,-1,-1,-1,-1,-1,-1,-1,-1,-1,-1,-1,-1,-1,-1,-1,-1,-1,-1,-1,-1,-1,-1,-1,-1,-1,-1,-1,-1,-1,-1,-1,-1,-1,-1,-1,-1,-1,-1,-1,-1,-1,-1,-1,-1,-1,-1,-1,-1,-1,-1,-1,-1,-1,-1,-1,-1,-1,-1,-1,-1,-1,-1,-1,-1,-1,-1,-1,-1,-1,-1,-1,-1,-1,-1,-1,-1,-1,-1,-1,-1,-1,-1,-1,-1,-1,-1,-1,-1,-1,-1,-1,-1,-1,-1,-1,-1,-1,-1,-1,-1,-1,-1,-1,-1,-1,-1,-1,-1,-1,-1,-1,-1,-1,-1,-1,-1,-1,-1,-1,-1,-1,-1,-1,-1,-1,-1,-1,-1,-1,-1,-1,-1,-1,-1,-1,-1,-1,-1,-1,-1,-1,-1,-1,-1,-1,-1,-1,-1,-1,-1,-1,-1,-1,-1,-1,-1,-1,-1,-1,-1,-1,-1,-1,-1,-1,-1,-1,-1,-1,-1,-1,-1,-1,4,14,31,30,26,26,31,33,28,24,27,29,33,37,28,26,3,9,11|10|10|6|8,8,9|9,25,25,20,17,17,27,20,23,21,22,19,14,12,26,28,27,18,14,19,27,22,21,34,24,26,26,27,31,35,28,14,15,24,8|24,23,32,29,39,26,27,28,28,7,31,30,32,33,31,35,37,32,31,32,16,29,27,27,26,-1,6,4,3,31,36,34,39,32,26,22,33,27,33,29,30,30,30,32,18,7,11,18,18,20,32,32,26,28,25,20,9,14,15,13,15,23,21,26,30,22,27,33,26,22,27,29,32,31,38,35,29,28,38,30,30,13,23,5,28,28,17,8,8,7,12,13,18,26,30,32,11,4,9,7|7,7,5,8,9,12,17,15,13,5,4,4,16,19,5,23,27,23,27,30,22,22,26,26,14,9,8,3,8,4,13,17,15,14,19,19,-1,-1,9,8,12,17,15,10,14,12,11,11,13,28,27,28,9,9,25,37,20,15,16,22,22,22,23,21,21,18,19,18,5,8,12,29,26,24,26,18,17,14,9,8,12,5,6,9,8,9,7,9,6,6,20,13,4,4,2|5,3,3,3,11,4,4,20,20,18,14,13,7,7,7,7,10,10,6,22,21,10,13,5,4,3,3,3,3,2,3,2,5,4,9,7,8,13,11,4,29|28,31,32,32,26,14,6,6,6,17,21,21,33,27,32,33,16,27,21,16,23,24,28,11,8,6,7,17,19,22,27,25,21,15,13,18,16,14,13,14,16,16,16,33,29,32,23,23,18,24,29,15,15,29,30,25,25,26,31,24,14,20,11,9,8,6,6,4,18,4,3,4|7,2,2,2,5,5,4,4,4,4,15,18,7,17,22,15,11,26,26,29,29,25,24,11,34,29,34,35,18,28,14,-1,-1,13,23,22,16,14,19,27,19,26,21,7,17,7,7,36,28,28,23,10,6,23,6,5,6,16,15,13,19,24,24,22,27,9,34,32,32,6,5,4,24,6,9,31,12,26,19,26,37,32,28,26,34,25,25,28,27,26,19,6,12,8,14,15,16,24,23,29,22,13,9,8,10,8,14,19,-1,-1,-1,26,25,21,16,17,4,4,3,4,3,3,18,17,22,33,31,32,32,30,30,25,25,25,25,26,28,25,17,8,9,4,13,13,23,25,25,33,31,29,26,22,10,3,14,15,15,19,17,16,18,19,8,10,18,16,20,24,25,27,14,16,25,23,30,27,33,32,33,26,22,21,28,14,29,22,28,33,27,26,10,9,8,12,10,11,9,14,21,26,28,35,33,10,21,26,26,25,18,21,15,21,24,25,5|40,41,31,25,30,26,17,30,26,30,19,30,18,28,31,38,37,5,27,37,32,24,-1,7,20,17,21,24,11,36,40,31,39,35,35,30,25,24,24,34,5,15,3,5,3,5,15,12,14,13,29,30,32,28,8,3,20,18,18,20,9,27,32,35,31,5|4,25,26,26,30,29,26,13,8,8,14,13,16,23,18,19,20,15,20,10,15,21,21,14,20,20,18,18,11,16,8,3|3,10,12,14,6,10,-1,-1,21,25,21,27,22,16,21,22,28,24,22,31,22,21,23,26,16,16,30,27,22,26,24,13,16,8,13,32,32,15,15,22,19,19,18,21,15,19,22,22,20,23,20,17,17,7,4,10,6,14,12,19,29,26,25,15,5|5,4,5,13,24,13,14,8,18,18,21,18,33,26,-1,-1,25,24,30,31,20,-1,20,10,14,9,9,24,25,28,33,29,27,32,31,28,30,27,28,28,16,16,7,-1,-1,17,18,16,18,15,17,22,23,18|18,4,5,6,15,24,20,16,30,29,30,27,26,22,6,7,18,21,25,12,20,18,31,30,29,29,26,20,12,7,9,8,8,25,24,12,12,9,5|5,27,25,27,32,28,26,22,24,23,22,19,15,15,29,27,26,16,14,19,21,23,27,26,27,27,26,16,16,20,-1,-1,15,14,26,9,31,28,17,30,28,26,19,13,26,6,4,5,4,9,11,11,11,15,19,13,9,5,4,8,10,26,26,24,33,30,26,-1,34,14,35,37,30,30,21,19,15,19,14,12,4,10,15,17,17,8,6,-1,-1,3,3,2,3,4,7|8|8|27,17,32,23,20,-1,-1,19,27,26,26,24,22,11,9,9,30,14,9,9,24,27,22,35,14,20,29,29,26,21,28,21,19,13,17,3|19,23,26,29,25,19,21,22,34,33,31,28,20,19,23,28,30,33,15,16,9|28,29,19,24,4,10,26|29,25,16,18,17,17,13,16,13,26,27,23,23,19,19,26,33,27,17,11,13,13,15,15,21,13,20,23,13|9,25,28,25,29,18,21,21,20,20,26,24,18,18,10,-1,2,4,5,10,8,13,17,13,17,17,11,22,22,21,5,-1,6,4,4|2|2,8,8,5,7,8,16,18,18,18,-1,-1,-1,-1,16,16,12,13,12,7,2,2,7,7,8,11,14,13,6,6,5,4,7|19,10,16,20,21,18,21,6,9,10,10,10,9,7,3,19,7,20|13,14,13,12,12,18,18,24,26,32,27,32,7,13,30,35,34,34,32,35,35,30,31,22,21,26,26,16,32,23,15,20,18,17,10,10|11,10,10,9,10,9,18,22,-1,19,19,9,3,8,5,9,6,12,15,6,6,14,16,18,22,25,25,25,15,20,31,30,25,14,5,21,22,22,18,30,27,30,9,24,5,17,7,6|23,8,6|7,6,6|6,14,21,10,9,17,19,21,22,25,24,27,22,13,6|31,26,22,18,22,25,23,19,21,23,27,24,29,17,12,13,26,10,16,16,14,13,11,9,-1,5,4,3,3,3,4|7,21,17,17,13,15,23,17,16,24,11,5,24,12,9,19,20,27,27,31,32,30,31,27,28,24,12,20,23,25,23,19,14,16,9,15,10,10,6,10,19,19,16,16,11,24,24,15,14,6,7|11,11,18,13,4,23,23,23,23,27,22,23,28,27,22,21,20,24,18,16,18,19,17,16,12,11,23,26,28,28,29,26,23,24,35,19,32',\n",
       " 'ALLELE': 'deletion',\n",
       " 'PRESET': 'splice'}"
      ]
     },
     "execution_count": 9,
     "metadata": {},
     "output_type": "execute_result"
    }
   ],
   "source": [
    "classif_sample[0]"
   ]
  },
  {
   "cell_type": "code",
   "execution_count": 10,
   "metadata": {},
   "outputs": [],
   "source": [
    "import midsv\n",
    "allele = \"deletion\""
   ]
  },
  {
   "cell_type": "code",
   "execution_count": 11,
   "metadata": {},
   "outputs": [],
   "source": [
    "mutation_loci = MUTATION_LOCI[allele]"
   ]
  },
  {
   "cell_type": "code",
   "execution_count": null,
   "metadata": {},
   "outputs": [],
   "source": []
  },
  {
   "cell_type": "code",
   "execution_count": 19,
   "metadata": {},
   "outputs": [],
   "source": [
    "# control\n",
    "midsv_control = midsv.read_jsonl((Path(TEMPDIR, \"midsv\", f\"{CONTROL_NAME}_splice_{allele}.jsonl\")))\n",
    "cssplits_control = [cs[\"CSSPLIT\"].split(\",\") for cs in midsv_control]\n",
    "# Sample\n",
    "midsv_sample = midsv.read_jsonl((Path(TEMPDIR, \"midsv\", f\"{SAMPLE_NAME}_splice_{allele}.jsonl\")))\n",
    "cssplits_sample = [cs[\"CSSPLIT\"].split(\",\") for cs in midsv_sample]"
   ]
  },
  {
   "cell_type": "code",
   "execution_count": 20,
   "metadata": {},
   "outputs": [],
   "source": [
    "cssplits_mutation = []\n",
    "for cssplits in cssplits_sample:\n",
    "    cs_mutation = []\n",
    "    for i, cs in enumerate(cssplits):\n",
    "        if i in mutation_loci:\n",
    "            cs_mutation.append(cs)\n",
    "    cssplits_mutation.append(cs_mutation)"
   ]
  },
  {
   "cell_type": "code",
   "execution_count": 24,
   "metadata": {},
   "outputs": [
    {
     "name": "stdout",
     "output_type": "stream",
     "text": [
      "3582\n",
      "3071\n",
      "3071\n"
     ]
    }
   ],
   "source": [
    "print(len(cssplits_sample[0]))\n",
    "print(len(mutation_loci))\n",
    "print(len(cssplits_mutation[0]))"
   ]
  },
  {
   "cell_type": "code",
   "execution_count": 27,
   "metadata": {},
   "outputs": [
    {
     "data": {
      "text/plain": [
       "['=G', '=A', '=A', '=G', '=A', '=C', '=A', '=T', '=A', '=T']"
      ]
     },
     "execution_count": 27,
     "metadata": {},
     "output_type": "execute_result"
    }
   ],
   "source": [
    "def extract_cssplits_in_mutation(cssplits_sample: list[list], mutation_loci: set) -> list[list]:\n",
    "    cssplits_mutation = []\n",
    "    for cssplits in cssplits_sample:\n",
    "        cs_mutation = []\n",
    "        for i, cs in enumerate(cssplits):\n",
    "            if i in mutation_loci:\n",
    "                cs_mutation.append(cs)\n",
    "        cssplits_mutation.append(cs_mutation)\n",
    "    return cssplits_mutation"
   ]
  },
  {
   "attachments": {},
   "cell_type": "markdown",
   "metadata": {},
   "source": [
    "### 比較\n",
    "- `extract_cssplits_in_mutation`を入れる前後でアレルの分類がうまく行っているか、速度は向上しているのかを調べる"
   ]
  },
  {
   "attachments": {},
   "cell_type": "markdown",
   "metadata": {},
   "source": [
    "#### `extract_cssplits_in_mutation` 導入前"
   ]
  },
  {
   "cell_type": "code",
   "execution_count": 12,
   "metadata": {},
   "outputs": [],
   "source": [
    "from __future__ import annotations\n",
    "from itertools import groupby\n",
    "from collections import defaultdict\n",
    "from pathlib import Path\n",
    "import midsv\n",
    "\n",
    "from src.DAJIN2.core.preprocess.correct_knockin import extract_knockin_loci\n",
    "from src.DAJIN2.core.clustering.preprocess import replace_both_ends_n, compress_insertion\n",
    "from src.DAJIN2.core.clustering.make_score import make_score\n",
    "from src.DAJIN2.core.clustering.annotate_score import annotate_score\n",
    "from src.DAJIN2.core.clustering.reorder_labels import reorder_labels\n",
    "from src.DAJIN2.core.clustering.return_labels import return_labels\n",
    "\n",
    "\n",
    "def extract_cssplits_in_mutation(cssplits_sample: list[list], mutation_loci: set) -> list[list]:\n",
    "    cssplits_mutation = []\n",
    "    for cssplits in cssplits_sample:\n",
    "        cs_mutation = []\n",
    "        for i, cs in enumerate(cssplits):\n",
    "            if i in mutation_loci:\n",
    "                cs_mutation.append(cs)\n",
    "        cssplits_mutation.append(cs_mutation)\n",
    "    return cssplits_mutation\n",
    "\n",
    "\n",
    "def add_labels(classif_sample, TEMPDIR, CONTROL_NAME, FASTA_ALLELES: dict, MUTATION_LOCI, THREADS: int = 1) -> list[dict[str]]:\n",
    "    paths_midsv = list(Path(TEMPDIR, \"midsv\").glob(f\"{CONTROL_NAME}_splice_*\"))\n",
    "    cssplits_control_by_alleles = defaultdict(list)\n",
    "    for path_midsv in paths_midsv:\n",
    "        midsv_control = midsv.read_jsonl(path_midsv)\n",
    "        allele = path_midsv.stem.split(\"_\")[-1]\n",
    "        cssplits = [cs[\"CSSPLIT\"].split(\",\") for cs in midsv_control]\n",
    "        cssplits_control_by_alleles[allele] = cssplits\n",
    "    knockin_alleles = extract_knockin_loci(TEMPDIR)\n",
    "    labels_all = []\n",
    "    max_label = 0\n",
    "    classif_sample.sort(key=lambda x: x[\"ALLELE\"])\n",
    "    for allele, group in groupby(classif_sample, key=lambda x: x[\"ALLELE\"]):\n",
    "        mutation_loci: set = MUTATION_LOCI[allele]\n",
    "        cssplits_control = cssplits_control_by_alleles[allele]\n",
    "        cssplits_sample = [cs[\"CSSPLIT\"].split(\",\") for cs in group]\n",
    "        # cssplits_control = extract_cssplits_in_mutation(cssplits_control, mutation_loci)\n",
    "        # cssplits_sample = extract_cssplits_in_mutation(cssplits_sample, nutation_loci)\n",
    "        cssplits_control = replace_both_ends_n(cssplits_control)\n",
    "        cssplits_sample = replace_both_ends_n(cssplits_sample)\n",
    "        cssplits_control = compress_insertion(cssplits_control)\n",
    "        cssplits_sample = compress_insertion(cssplits_sample)\n",
    "        mutation_score = make_score(cssplits_control, cssplits_sample, knockin_alleles[allele])\n",
    "        scores_control = annotate_score(cssplits_control, mutation_score)\n",
    "        scores_sample = annotate_score(cssplits_sample, mutation_score)\n",
    "        labels = return_labels(scores_sample, scores_control)\n",
    "        labels_reorder = reorder_labels(labels, start=max_label)\n",
    "        max_label = max(labels_reorder)\n",
    "        labels_all.extend(labels_reorder)\n",
    "    clust_sample = classif_sample.copy()\n",
    "    for clust, label in zip(clust_sample, labels_all):\n",
    "        clust[\"LABEL\"] = label\n",
    "    return clust_sample\n"
   ]
  },
  {
   "cell_type": "code",
   "execution_count": 27,
   "metadata": {},
   "outputs": [],
   "source": [
    "knockin_alleles = extract_knockin_loci(TEMPDIR)\n",
    "allele = \"deletion\"\n",
    "# control\n",
    "midsv_control = midsv.read_jsonl((Path(TEMPDIR, \"midsv\", f\"{CONTROL_NAME}_splice_{allele}.jsonl\")))\n",
    "cssplits_control = [cs[\"CSSPLIT\"].split(\",\") for cs in midsv_control]\n",
    "# Sample\n",
    "midsv_sample = midsv.read_jsonl((Path(TEMPDIR, \"midsv\", f\"{SAMPLE_NAME}_splice_{allele}.jsonl\")))\n",
    "cssplits_sample = [cs[\"CSSPLIT\"].split(\",\") for cs in midsv_sample]"
   ]
  },
  {
   "cell_type": "code",
   "execution_count": 28,
   "metadata": {},
   "outputs": [
    {
     "name": "stdout",
     "output_type": "stream",
     "text": [
      "CPU times: user 39.9 s, sys: 9.3 s, total: 49.2 s\n",
      "Wall time: 32.7 s\n"
     ]
    }
   ],
   "source": [
    "%%time\n",
    "cssplits_control = replace_both_ends_n(cssplits_control)\n",
    "cssplits_sample = replace_both_ends_n(cssplits_sample)\n",
    "cssplits_control = compress_insertion(cssplits_control)\n",
    "cssplits_sample = compress_insertion(cssplits_sample)\n",
    "mutation_score = make_score(cssplits_control, cssplits_sample, knockin_alleles[allele])\n",
    "scores_control = annotate_score(cssplits_control, mutation_score)\n",
    "scores_sample = annotate_score(cssplits_sample, mutation_score)\n",
    "labels = return_labels(scores_sample, scores_control)\n"
   ]
  },
  {
   "cell_type": "code",
   "execution_count": 29,
   "metadata": {},
   "outputs": [
    {
     "data": {
      "text/plain": [
       "Counter({1: 492, 2: 499, 3: 501, 4: 8})"
      ]
     },
     "execution_count": 29,
     "metadata": {},
     "output_type": "execute_result"
    }
   ],
   "source": [
    "from collections import Counter\n",
    "Counter(labels)"
   ]
  },
  {
   "attachments": {},
   "cell_type": "markdown",
   "metadata": {},
   "source": [
    "#### `extract_cssplits_in_mutation` 導入後"
   ]
  },
  {
   "cell_type": "code",
   "execution_count": 30,
   "metadata": {},
   "outputs": [],
   "source": [
    "knockin_alleles = extract_knockin_loci(TEMPDIR)\n",
    "allele = \"deletion\"\n",
    "# control\n",
    "midsv_control = midsv.read_jsonl((Path(TEMPDIR, \"midsv\", f\"{CONTROL_NAME}_splice_{allele}.jsonl\")))\n",
    "cssplits_control = [cs[\"CSSPLIT\"].split(\",\") for cs in midsv_control]\n",
    "# Sample\n",
    "midsv_sample = midsv.read_jsonl((Path(TEMPDIR, \"midsv\", f\"{SAMPLE_NAME}_splice_{allele}.jsonl\")))\n",
    "cssplits_sample = [cs[\"CSSPLIT\"].split(\",\") for cs in midsv_sample]"
   ]
  },
  {
   "cell_type": "code",
   "execution_count": 31,
   "metadata": {},
   "outputs": [
    {
     "name": "stdout",
     "output_type": "stream",
     "text": [
      "CPU times: user 36 s, sys: 14.6 s, total: 50.7 s\n",
      "Wall time: 27.4 s\n"
     ]
    }
   ],
   "source": [
    "%%time\n",
    "cssplits_control = replace_both_ends_n(cssplits_control)\n",
    "cssplits_sample = replace_both_ends_n(cssplits_sample)\n",
    "cssplits_control = extract_cssplits_in_mutation(cssplits_control, mutation_loci)\n",
    "cssplits_sample = extract_cssplits_in_mutation(cssplits_sample, mutation_loci)\n",
    "cssplits_control = compress_insertion(cssplits_control)\n",
    "cssplits_sample = compress_insertion(cssplits_sample)\n",
    "mutation_score = make_score(cssplits_control, cssplits_sample, knockin_alleles[allele])\n",
    "scores_control = annotate_score(cssplits_control, mutation_score)\n",
    "scores_sample = annotate_score(cssplits_sample, mutation_score)\n",
    "labels = return_labels(scores_sample, scores_control)"
   ]
  },
  {
   "cell_type": "code",
   "execution_count": 32,
   "metadata": {},
   "outputs": [
    {
     "data": {
      "text/plain": [
       "Counter({1: 492, 2: 500, 3: 500, 4: 8})"
      ]
     },
     "execution_count": 32,
     "metadata": {},
     "output_type": "execute_result"
    }
   ],
   "source": [
    "from collections import Counter\n",
    "Counter(labels)"
   ]
  },
  {
   "attachments": {},
   "cell_type": "markdown",
   "metadata": {},
   "source": [
    "- 速度の向上が認められた\n",
    "- クラスタリングの精度は変わらない\n",
    "\n",
    "最後に、一括で処理してエラーがないか確認する"
   ]
  },
  {
   "cell_type": "code",
   "execution_count": 4,
   "metadata": {},
   "outputs": [
    {
     "name": "stdout",
     "output_type": "stream",
     "text": [
      "processing test-stx2-deletion...\n",
      "Classify...\n",
      "Clustering...\n",
      "Consensus call...\n"
     ]
    },
    {
     "name": "stderr",
     "output_type": "stream",
     "text": [
      "\n",
      "real\t4m4.090s\n",
      "user\t3m32.930s\n",
      "sys\t1m27.942s\n"
     ]
    }
   ],
   "source": [
    "%%bash\n",
    "time python misc/quickstart.py"
   ]
  },
  {
   "attachments": {
    "image.png": {
     "image/png": "[encoded data removed]"
    }
   },
   "cell_type": "markdown",
   "metadata": {},
   "source": [
    "ほぼ問題なく実行できました\n",
    "\n",
    "- アレル4：Nanoporeがうまく読み込むことができなかったリードであり、対処すべき\n",
    "- アレル5：アレル3（小規模欠失アレル）と同じに見える。対処すべき\n",
    "\n",
    "![image.png](attachment:image.png)"
   ]
  },
  {
   "cell_type": "code",
   "execution_count": null,
   "metadata": {},
   "outputs": [],
   "source": []
  },
  {
   "attachments": {},
   "cell_type": "markdown",
   "metadata": {},
   "source": [
    "# まとめ\n"
   ]
  },
  {
   "attachments": {},
   "cell_type": "markdown",
   "metadata": {},
   "source": [
    "- `MUTATION_LOCI`を`clustering`に組み込みました\n",
    "    - 速度の向上が期待できる（はず）です"
   ]
  },
  {
   "attachments": {},
   "cell_type": "markdown",
   "metadata": {},
   "source": [
    "# 次に取り組むこと"
   ]
  },
  {
   "attachments": {},
   "cell_type": "markdown",
   "metadata": {},
   "source": [
    "### Lists\n",
    "\n",
    "+ [ ] 短いリードの扱いをどうするべきか\n",
    "+ [ ] `SV`の判定をconsensus callのあとにする\n",
    "+ [ ] cis変異の両端が欠失している場合に、Nで置き換えるとtransとなってしまうのをどうするか（`clustering.replace_both_ends_n`）\n",
    "+ [ ] Insertionのなかにある変異を同定する手法を考案する\n",
    "+ [ ] Ayabe-taks1のright_loxpがいまいちな理由を考察する\n",
    "+ [ ] `preprocess.correct_sequence_error.replace_atmark`のコードがわかりにくい\n",
    "    + テストを用意してリファクタリングする"
   ]
  },
  {
   "cell_type": "markdown",
   "metadata": {},
   "source": []
  }
 ],
 "metadata": {
  "kernelspec": {
   "display_name": "base",
   "language": "python",
   "name": "python3"
  },
  "language_info": {
   "codemirror_mode": {
    "name": "ipython",
    "version": 3
   },
   "file_extension": ".py",
   "mimetype": "text/x-python",
   "name": "python",
   "nbconvert_exporter": "python",
   "pygments_lexer": "ipython3",
   "version": "3.10.6"
  },
  "orig_nbformat": 4,
  "vscode": {
   "interpreter": {
    "hash": "a09285d6cbc768c1977f96e8deb5ca1ec0d08675e9573ed6dfd37fd7d91de663"
   }
  }
 },
 "nbformat": 4,
 "nbformat_minor": 2
}
