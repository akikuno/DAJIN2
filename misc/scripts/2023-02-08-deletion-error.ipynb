{
 "cells": [
  {
   "attachments": {},
   "cell_type": "markdown",
   "metadata": {},
   "source": [
    "# 取り組み\n",
    "+ Stx2大型欠失3アレルで以下のエラーが出たのでデバックをする\n",
    "    + preprocess/correct_sequence_errorの`replace_atmark`におけるエラーのよう\n",
    "\n",
    "```\n",
    "Traceback (most recent call last):\n",
    "  File \"/mnt/d/Research/DAJIN2/misc/quickstart.py\", line 145, in <module>\n",
    "    preprocess.correct_sequence_error.execute(TEMPDIR, FASTA_ALLELES, CONTROL_NAME, SAMPLE_NAME)\n",
    "  File \"/mnt/d/Research/DAJIN2/src/DAJIN2/core/preprocess/correct_sequence_error.py\", line 135, in execute\n",
    "    cssplits_sample_atmark_replaced = replace_atmark(cssplits_sample_error_replaced, sequence)\n",
    "  File \"/mnt/d/Research/DAJIN2/src/DAJIN2/core/preprocess/correct_sequence_error.py\", line 103, in replace_atmark\n",
    "    cssplits_replaced[idx][i] = random.choice(cssplits_sampling_all)\n",
    "  File \"/home/kuno/miniconda/lib/python3.10/random.py\", line 378, in choice\n",
    "    return seq[self._randbelow(len(seq))]\n",
    "IndexError: list index out of range\n",
    "```"
   ]
  },
  {
   "cell_type": "code",
   "execution_count": 1,
   "metadata": {},
   "outputs": [
    {
     "name": "stdout",
     "output_type": "stream",
     "text": [
      "/mnt/d/Research/DAJIN2\n"
     ]
    }
   ],
   "source": [
    "# ルートディレクトリをPathに含めるおまじない\n",
    "import sys, os\n",
    "from pathlib import Path\n",
    "if os.getcwd() != \"/mnt/d/Research/DAJIN2\":\n",
    "    parent_path = str(Path(os.path.dirname(os.path.abspath(\"__file__\"))).parent.parent)\n",
    "    sys.path.append(parent_path)\n",
    "    os.chdir(parent_path)\n",
    "print(os.getcwd())"
   ]
  },
  {
   "attachments": {},
   "cell_type": "markdown",
   "metadata": {},
   "source": [
    "# 実験"
   ]
  },
  {
   "cell_type": "code",
   "execution_count": 5,
   "metadata": {},
   "outputs": [],
   "source": [
    "from src.DAJIN2.core import preprocess, classification, clustering, consensus, report\n",
    "\n",
    "# # * 2-cut deletion\n",
    "SAMPLE, CONTROL, ALLELE, NAME, GENOME, DEBUG, THREADS = (\n",
    "    \"tests/data/knockout/test_barcode25.fq.gz\",\n",
    "    \"tests/data/knockout/test_barcode30.fq.gz\",\n",
    "    \"tests/data/knockout/design_stx2.fa\",\n",
    "    \"test-knockout\",\n",
    "    \"mm10\",\n",
    "    True,\n",
    "    14,\n",
    ")"
   ]
  },
  {
   "cell_type": "code",
   "execution_count": 6,
   "metadata": {},
   "outputs": [],
   "source": [
    "##########################################################\n",
    "# Check inputs\n",
    "##########################################################\n",
    "preprocess.check_inputs.check_files(SAMPLE, CONTROL, ALLELE)\n",
    "TEMPDIR = Path(\"DAJINResults\", \".tempdir\", NAME)\n",
    "IS_CACHE_CONTROL = preprocess.check_inputs.exists_cached_control(CONTROL, TEMPDIR)\n",
    "IS_CACHE_GENOME = preprocess.check_inputs.exists_cached_genome(GENOME, TEMPDIR, IS_CACHE_CONTROL)\n",
    "UCSC_URL, GOLDENPATH_URL = None, None\n",
    "if GENOME and not IS_CACHE_GENOME:\n",
    "    UCSC_URL, GOLDENPATH_URL = preprocess.check_inputs.check_and_fetch_genome(GENOME)\n",
    "\n",
    "##########################################################\n",
    "# Format inputs\n",
    "##########################################################\n",
    "SAMPLE_NAME = preprocess.format_inputs.extract_basename(SAMPLE)\n",
    "CONTROL_NAME = preprocess.format_inputs.extract_basename(CONTROL)\n",
    "FASTA_ALLELES = preprocess.format_inputs.dictionize_allele(ALLELE)\n",
    "\n",
    "preprocess.format_inputs.make_directories(TEMPDIR, SAMPLE_NAME, CONTROL_NAME)\n",
    "\n",
    "if GENOME:\n",
    "    GENOME_COODINATES = preprocess.format_inputs.fetch_coodinate(GENOME, UCSC_URL, FASTA_ALLELES[\"control\"])\n",
    "    CHROME_SIZE = preprocess.format_inputs.fetch_chrom_size(GENOME_COODINATES[\"chr\"], GENOME, GOLDENPATH_URL)\n",
    "    preprocess.format_inputs.cache_coodinates_and_chromsize(TEMPDIR, GENOME, GENOME_COODINATES, CHROME_SIZE)\n"
   ]
  },
  {
   "cell_type": "code",
   "execution_count": 7,
   "metadata": {},
   "outputs": [],
   "source": [
    "for identifier, sequence in FASTA_ALLELES.items():\n",
    "        contents = \"\\n\".join([\">\" + identifier, sequence]) + \"\\n\"\n",
    "        output_fasta = Path(TEMPDIR, \"fasta\", f\"{identifier}.fasta\")\n",
    "        output_fasta.write_text(contents)"
   ]
  },
  {
   "cell_type": "code",
   "execution_count": 8,
   "metadata": {},
   "outputs": [],
   "source": [
    "for path_fasta in Path(TEMPDIR, \"fasta\").glob(\"*.fasta\"):\n",
    "        name_fasta = path_fasta.stem\n",
    "        preprocess.mappy_align.output_sam(TEMPDIR, path_fasta, name_fasta, CONTROL, CONTROL_NAME, threads=THREADS)\n",
    "        preprocess.mappy_align.output_sam(TEMPDIR, path_fasta, name_fasta, SAMPLE, SAMPLE_NAME, threads=THREADS)\n",
    "        preprocess.mappy_align.output_sam(\n",
    "            TEMPDIR, path_fasta, name_fasta, CONTROL, CONTROL_NAME, preset=\"splice\", threads=THREADS\n",
    "        )\n",
    "        preprocess.mappy_align.output_sam(\n",
    "            TEMPDIR, path_fasta, name_fasta, SAMPLE, SAMPLE_NAME, preset=\"splice\", threads=THREADS\n",
    "        )"
   ]
  },
  {
   "cell_type": "code",
   "execution_count": 9,
   "metadata": {},
   "outputs": [],
   "source": [
    "for path_sam in Path(TEMPDIR, \"sam\").glob(f\"{CONTROL_NAME}_splice_*\"):\n",
    "        preprocess.calc_midsv.output_midsv(TEMPDIR, path_sam)\n",
    "for path_sam in Path(TEMPDIR, \"sam\").glob(f\"{SAMPLE_NAME}_splice_*\"):\n",
    "        preprocess.calc_midsv.output_midsv(TEMPDIR, path_sam)"
   ]
  },
  {
   "cell_type": "code",
   "execution_count": 10,
   "metadata": {},
   "outputs": [
    {
     "ename": "IndexError",
     "evalue": "list index out of range",
     "output_type": "error",
     "traceback": [
      "\u001b[0;31m---------------------------------------------------------------------------\u001b[0m",
      "\u001b[0;31mIndexError\u001b[0m                                Traceback (most recent call last)",
      "\u001b[1;32m/mnt/d/Research/DAJIN2/misc/scripts/2023-02-08-deletion.ipynb Cell 9\u001b[0m in \u001b[0;36m<cell line: 5>\u001b[0;34m()\u001b[0m\n\u001b[1;32m      <a href='vscode-notebook-cell://wsl%2Bubuntu-20.04/mnt/d/Research/DAJIN2/misc/scripts/2023-02-08-deletion.ipynb#X24sdnNjb2RlLXJlbW90ZQ%3D%3D?line=0'>1</a>\u001b[0m \u001b[39m###############################################################################\u001b[39;00m\n\u001b[1;32m      <a href='vscode-notebook-cell://wsl%2Bubuntu-20.04/mnt/d/Research/DAJIN2/misc/scripts/2023-02-08-deletion.ipynb#X24sdnNjb2RlLXJlbW90ZQ%3D%3D?line=1'>2</a>\u001b[0m \u001b[39m# Correct CSSPLITS\u001b[39;00m\n\u001b[1;32m      <a href='vscode-notebook-cell://wsl%2Bubuntu-20.04/mnt/d/Research/DAJIN2/misc/scripts/2023-02-08-deletion.ipynb#X24sdnNjb2RlLXJlbW90ZQ%3D%3D?line=2'>3</a>\u001b[0m \u001b[39m###############################################################################\u001b[39;00m\n\u001b[1;32m      <a href='vscode-notebook-cell://wsl%2Bubuntu-20.04/mnt/d/Research/DAJIN2/misc/scripts/2023-02-08-deletion.ipynb#X24sdnNjb2RlLXJlbW90ZQ%3D%3D?line=3'>4</a>\u001b[0m preprocess\u001b[39m.\u001b[39mcorrect_revititive_deletions\u001b[39m.\u001b[39mexecute(TEMPDIR, FASTA_ALLELES, CONTROL_NAME, SAMPLE_NAME)\n\u001b[0;32m----> <a href='vscode-notebook-cell://wsl%2Bubuntu-20.04/mnt/d/Research/DAJIN2/misc/scripts/2023-02-08-deletion.ipynb#X24sdnNjb2RlLXJlbW90ZQ%3D%3D?line=4'>5</a>\u001b[0m preprocess\u001b[39m.\u001b[39;49mcorrect_sequence_error\u001b[39m.\u001b[39;49mexecute(TEMPDIR, FASTA_ALLELES, CONTROL_NAME, SAMPLE_NAME)\n\u001b[1;32m      <a href='vscode-notebook-cell://wsl%2Bubuntu-20.04/mnt/d/Research/DAJIN2/misc/scripts/2023-02-08-deletion.ipynb#X24sdnNjb2RlLXJlbW90ZQ%3D%3D?line=5'>6</a>\u001b[0m preprocess\u001b[39m.\u001b[39mcorrect_knockin\u001b[39m.\u001b[39mexecute(TEMPDIR, FASTA_ALLELES, CONTROL_NAME, SAMPLE_NAME)\n",
      "File \u001b[0;32m/mnt/d/Research/DAJIN2/src/DAJIN2/core/preprocess/correct_sequence_error.py:135\u001b[0m, in \u001b[0;36mexecute\u001b[0;34m(TEMPDIR, FASTA_ALLELES, CONTROL_NAME, SAMPLE_NAME)\u001b[0m\n\u001b[1;32m    131\u001b[0m cssplits_sample_error_replaced \u001b[39m=\u001b[39m replace_errors_to_atmark(cssplits_sample, sequence_errors, left_idx, right_idx)\n\u001b[1;32m    132\u001b[0m cssplits_control_error_replaced \u001b[39m=\u001b[39m replace_errors_to_atmark(\n\u001b[1;32m    133\u001b[0m     cssplits_control, sequence_errors, left_idx, right_idx\n\u001b[1;32m    134\u001b[0m )\n\u001b[0;32m--> 135\u001b[0m cssplits_sample_atmark_replaced \u001b[39m=\u001b[39m replace_atmark(cssplits_sample_error_replaced, sequence)\n\u001b[1;32m    136\u001b[0m cssplits_control_atmark_replaced \u001b[39m=\u001b[39m replace_atmark(cssplits_control_error_replaced, sequence)\n\u001b[1;32m    137\u001b[0m \u001b[39m# Replace CSSPLIT\u001b[39;00m\n",
      "File \u001b[0;32m/mnt/d/Research/DAJIN2/src/DAJIN2/core/preprocess/correct_sequence_error.py:103\u001b[0m, in \u001b[0;36mreplace_atmark\u001b[0;34m(cssplits, sequence)\u001b[0m\n\u001b[1;32m    101\u001b[0m             cssplits_replaced[idx][i] \u001b[39m=\u001b[39m random\u001b[39m.\u001b[39mchoice(cssplits_sampling_key[key])\n\u001b[1;32m    102\u001b[0m         \u001b[39melse\u001b[39;00m:\n\u001b[0;32m--> 103\u001b[0m             cssplits_replaced[idx][i] \u001b[39m=\u001b[39m random\u001b[39m.\u001b[39;49mchoice(cssplits_sampling_all)\n\u001b[1;32m    104\u001b[0m \u001b[39mfor\u001b[39;00m cs \u001b[39min\u001b[39;00m cssplits_replaced:\n\u001b[1;32m    105\u001b[0m     \u001b[39mif\u001b[39;00m cs[\u001b[39m0\u001b[39m] \u001b[39m==\u001b[39m \u001b[39m\"\u001b[39m\u001b[39m@\u001b[39m\u001b[39m\"\u001b[39m:\n",
      "File \u001b[0;32m~/miniconda/lib/python3.10/random.py:378\u001b[0m, in \u001b[0;36mRandom.choice\u001b[0;34m(self, seq)\u001b[0m\n\u001b[1;32m    376\u001b[0m \u001b[39m\"\"\"Choose a random element from a non-empty sequence.\"\"\"\u001b[39;00m\n\u001b[1;32m    377\u001b[0m \u001b[39m# raises IndexError if seq is empty\u001b[39;00m\n\u001b[0;32m--> 378\u001b[0m \u001b[39mreturn\u001b[39;00m seq[\u001b[39mself\u001b[39;49m\u001b[39m.\u001b[39;49m_randbelow(\u001b[39mlen\u001b[39;49m(seq))]\n",
      "\u001b[0;31mIndexError\u001b[0m: list index out of range"
     ]
    }
   ],
   "source": [
    "###############################################################################\n",
    "# Correct CSSPLITS\n",
    "###############################################################################\n",
    "preprocess.correct_revititive_deletions.execute(TEMPDIR, FASTA_ALLELES, CONTROL_NAME, SAMPLE_NAME)\n",
    "preprocess.correct_sequence_error.execute(TEMPDIR, FASTA_ALLELES, CONTROL_NAME, SAMPLE_NAME)\n",
    "preprocess.correct_knockin.execute(TEMPDIR, FASTA_ALLELES, CONTROL_NAME, SAMPLE_NAME)"
   ]
  },
  {
   "cell_type": "code",
   "execution_count": 14,
   "metadata": {},
   "outputs": [],
   "source": [
    "from __future__ import annotations\n",
    "\n",
    "import random\n",
    "import re\n",
    "from collections import Counter, defaultdict\n",
    "from copy import deepcopy\n",
    "from pathlib import Path\n",
    "import midsv\n",
    "from scipy import stats\n",
    "from scipy.spatial.distance import cosine\n",
    "\n",
    "\n",
    "def set_indexes(sequence: str):\n",
    "    sequence_length = len(sequence)\n",
    "    num_subset = sequence_length % 5\n",
    "    left_idx = 0\n",
    "    right_idx = sequence_length\n",
    "    if num_subset == 1:\n",
    "        left_idx += 1\n",
    "    elif num_subset == 2:\n",
    "        left_idx += 1\n",
    "        right_idx -= 1\n",
    "    elif num_subset == 3:\n",
    "        left_idx += 2\n",
    "        right_idx -= 1\n",
    "    elif num_subset == 4:\n",
    "        left_idx += 2\n",
    "        right_idx -= 2\n",
    "    return left_idx, right_idx\n",
    "\n",
    "\n",
    "def count_indels_5mer(cssplits: list[list[str]], left_idx: int, right_idx: int) -> list[dict]:\n",
    "    transposed = [list(t) for t in zip(*cssplits)]\n",
    "    count_indels_5mer = []\n",
    "    for i in range(left_idx, right_idx, 5):\n",
    "        count = {\"ins\": [1] * 5, \"del\": [1] * 5, \"sub\": [1] * 5}\n",
    "        cssplits_5mer = transposed[i : i + 5]\n",
    "        for j, cs in enumerate(cssplits_5mer):\n",
    "            counter = Counter(cs)\n",
    "            for key, cnt in counter.items():\n",
    "                if key.startswith(\"=\") or key == \"N\" or re.search(r\"a|c|g|t|n\", key):\n",
    "                    continue\n",
    "                if key.startswith(\"+\"):\n",
    "                    count[\"ins\"][j] += cnt\n",
    "                elif key.startswith(\"-\"):\n",
    "                    count[\"del\"][j] += cnt\n",
    "                elif key.startswith(\"*\"):\n",
    "                    count[\"sub\"][j] += cnt\n",
    "        count_indels_5mer.append(count)\n",
    "    return count_indels_5mer\n",
    "\n",
    "\n",
    "def extract_sequence_errors(count_5mer_sample, count_5mer_control, coverage_sample, coverage_control):\n",
    "    sequence_errors = [set() for _ in range(len(count_5mer_sample))]\n",
    "    for i in range(len(sequence_errors)):\n",
    "        for mutation in [\"ins\", \"del\", \"sub\"]:\n",
    "            samp = [c / coverage_sample for c in count_5mer_sample[i][mutation]]\n",
    "            cont = [c / coverage_control for c in count_5mer_control[i][mutation]]\n",
    "            distance = 1 - cosine(samp, cont)\n",
    "            _, pvalue = stats.ttest_ind(samp, cont, equal_var=False)\n",
    "            if distance > 0.95 and pvalue > 0.05:\n",
    "                sequence_errors[i].add(mutation)\n",
    "    return sequence_errors\n",
    "\n",
    "\n",
    "def replace_errors_to_atmark(cssplits_sample, sequence_errors, left_idx, right_idx):\n",
    "    cssplits_replaced = []\n",
    "    for samp in cssplits_sample:\n",
    "        samp_replaced = deepcopy(samp)\n",
    "        for idx_error, idx_5mer in enumerate(range(left_idx, right_idx, 5)):\n",
    "            samp_5mer = samp[idx_5mer : idx_5mer + 5]\n",
    "            error = sequence_errors[idx_error]\n",
    "            if \"ins\" in error:\n",
    "                samp_5mer = [\"@\" if cs.startswith(\"+\") else cs for cs in samp_5mer]\n",
    "            if \"del\" in error:\n",
    "                samp_5mer = [\"@\" if cs.startswith(\"-\") else cs for cs in samp_5mer]\n",
    "            if \"sub\" in error:\n",
    "                samp_5mer = [\"@\" if cs.startswith(\"*\") else cs for cs in samp_5mer]\n",
    "            samp_replaced[idx_5mer : idx_5mer + 5] = samp_5mer\n",
    "        cssplits_replaced.append(samp_replaced)\n",
    "    return cssplits_replaced\n",
    "\n",
    "\n",
    "def replace_atmark(cssplits: list[list[str]], sequence: str) -> list[list[str]]:\n",
    "    random.seed(1)\n",
    "    cssplits_replaced = deepcopy(cssplits)\n",
    "    sequence_length = len(sequence)\n",
    "    for i in range(1, sequence_length - 1):\n",
    "        cssplits_atmark = defaultdict(str)\n",
    "        cssplits_sampling_key = defaultdict(list)\n",
    "        cssplits_sampling_all = []\n",
    "        for idx, cssplit in enumerate(cssplits):\n",
    "            key = \",\".join([cssplit[i - 1], cssplit[i + 1]])\n",
    "            if cssplit[i] == \"@\":\n",
    "                cssplits_atmark[idx] = key\n",
    "            else:\n",
    "                cssplits_sampling_key[key].append(cssplit[i])\n",
    "                cssplits_sampling_all.append(cssplit[i])\n",
    "        for idx, key in cssplits_atmark.items():\n",
    "            if cssplits_sampling_key[key]:\n",
    "                cssplits_replaced[idx][i] = random.choice(cssplits_sampling_key[key])\n",
    "            else:\n",
    "                cssplits_replaced[idx][i] = random.choice(cssplits_sampling_all)\n",
    "    for cs in cssplits_replaced:\n",
    "        if cs[0] == \"@\":\n",
    "            cs[0] = \"=\" + sequence[0]\n",
    "        if cs[-1] == \"@\":\n",
    "            cs[-1] = \"=\" + sequence[-1]\n",
    "    return cssplits_replaced\n",
    "\n",
    "\n",
    "###############################################################################\n",
    "# main\n",
    "###############################################################################\n",
    "\n",
    "\n",
    "def execute(TEMPDIR: Path, FASTA_ALLELES: dict[str, str], CONTROL_NAME: str, SAMPLE_NAME: str) -> None:\n",
    "    for allele, sequence in FASTA_ALLELES.items():\n",
    "        print(allele)\n",
    "        midsv_sample = midsv.read_jsonl((Path(TEMPDIR, \"midsv\", f\"{SAMPLE_NAME}_splice_{allele}.jsonl\")))\n",
    "        midsv_control = midsv.read_jsonl((Path(TEMPDIR, \"midsv\", f\"{CONTROL_NAME}_splice_{allele}.jsonl\")))\n",
    "        coverage_sample = len(midsv_sample)\n",
    "        coverage_control = len(midsv_control)\n",
    "        cssplits_sample = [cs[\"CSSPLIT\"].split(\",\") for cs in midsv_sample]\n",
    "        cssplits_control = [cs[\"CSSPLIT\"].split(\",\") for cs in midsv_control]\n",
    "        left_idx, right_idx = set_indexes(sequence)\n",
    "        count_5mer_sample = count_indels_5mer(cssplits_sample, left_idx, right_idx)\n",
    "        count_5mer_control = count_indels_5mer(cssplits_control, left_idx, right_idx)\n",
    "        sequence_errors = extract_sequence_errors(\n",
    "            count_5mer_sample, count_5mer_control, coverage_sample, coverage_control\n",
    "        )\n",
    "        cssplits_sample_error_replaced = replace_errors_to_atmark(cssplits_sample, sequence_errors, left_idx, right_idx)\n",
    "        cssplits_control_error_replaced = replace_errors_to_atmark(\n",
    "            cssplits_control, sequence_errors, left_idx, right_idx\n",
    "        )\n",
    "        cssplits_sample_atmark_replaced = replace_atmark(cssplits_sample_error_replaced, sequence)\n",
    "        cssplits_control_atmark_replaced = replace_atmark(cssplits_control_error_replaced, sequence)\n",
    "        # Replace CSSPLIT\n",
    "        cssplits_sample_corrected = [\",\".join(cs) for cs in cssplits_sample_atmark_replaced]\n",
    "        cssplits_control_corrected = [\",\".join(cs) for cs in cssplits_control_atmark_replaced]\n",
    "        for i, cssplits in enumerate(cssplits_sample_corrected):\n",
    "            midsv_sample[i][\"CSSPLIT\"] = cssplits\n",
    "        for i, cssplits in enumerate(cssplits_control_corrected):\n",
    "            midsv_control[i][\"CSSPLIT\"] = cssplits\n",
    "        # midsv.write_jsonl(midsv_control, Path(TEMPDIR, \"midsv\", f\"{CONTROL_NAME}_splice_{allele}.jsonl\"))\n",
    "        # midsv.write_jsonl(midsv_sample, Path(TEMPDIR, \"midsv\", f\"{SAMPLE_NAME}_splice_{allele}.jsonl\"))\n",
    "\n"
   ]
  },
  {
   "cell_type": "code",
   "execution_count": 15,
   "metadata": {},
   "outputs": [
    {
     "name": "stdout",
     "output_type": "stream",
     "text": [
      "deletion\n",
      "control\n",
      "inversion\n"
     ]
    },
    {
     "ename": "IndexError",
     "evalue": "list index out of range",
     "output_type": "error",
     "traceback": [
      "\u001b[0;31m---------------------------------------------------------------------------\u001b[0m",
      "\u001b[0;31mIndexError\u001b[0m                                Traceback (most recent call last)",
      "\u001b[1;32m/mnt/d/Research/DAJIN2/misc/scripts/2023-02-08-deletion.ipynb Cell 11\u001b[0m in \u001b[0;36m<cell line: 1>\u001b[0;34m()\u001b[0m\n\u001b[0;32m----> <a href='vscode-notebook-cell://wsl%2Bubuntu-20.04/mnt/d/Research/DAJIN2/misc/scripts/2023-02-08-deletion.ipynb#X26sdnNjb2RlLXJlbW90ZQ%3D%3D?line=0'>1</a>\u001b[0m execute(TEMPDIR, FASTA_ALLELES, CONTROL_NAME, SAMPLE_NAME)\n",
      "\u001b[1;32m/mnt/d/Research/DAJIN2/misc/scripts/2023-02-08-deletion.ipynb Cell 11\u001b[0m in \u001b[0;36mexecute\u001b[0;34m(TEMPDIR, FASTA_ALLELES, CONTROL_NAME, SAMPLE_NAME)\u001b[0m\n\u001b[1;32m    <a href='vscode-notebook-cell://wsl%2Bubuntu-20.04/mnt/d/Research/DAJIN2/misc/scripts/2023-02-08-deletion.ipynb#X26sdnNjb2RlLXJlbW90ZQ%3D%3D?line=131'>132</a>\u001b[0m cssplits_sample_error_replaced \u001b[39m=\u001b[39m replace_errors_to_atmark(cssplits_sample, sequence_errors, left_idx, right_idx)\n\u001b[1;32m    <a href='vscode-notebook-cell://wsl%2Bubuntu-20.04/mnt/d/Research/DAJIN2/misc/scripts/2023-02-08-deletion.ipynb#X26sdnNjb2RlLXJlbW90ZQ%3D%3D?line=132'>133</a>\u001b[0m cssplits_control_error_replaced \u001b[39m=\u001b[39m replace_errors_to_atmark(\n\u001b[1;32m    <a href='vscode-notebook-cell://wsl%2Bubuntu-20.04/mnt/d/Research/DAJIN2/misc/scripts/2023-02-08-deletion.ipynb#X26sdnNjb2RlLXJlbW90ZQ%3D%3D?line=133'>134</a>\u001b[0m     cssplits_control, sequence_errors, left_idx, right_idx\n\u001b[1;32m    <a href='vscode-notebook-cell://wsl%2Bubuntu-20.04/mnt/d/Research/DAJIN2/misc/scripts/2023-02-08-deletion.ipynb#X26sdnNjb2RlLXJlbW90ZQ%3D%3D?line=134'>135</a>\u001b[0m )\n\u001b[0;32m--> <a href='vscode-notebook-cell://wsl%2Bubuntu-20.04/mnt/d/Research/DAJIN2/misc/scripts/2023-02-08-deletion.ipynb#X26sdnNjb2RlLXJlbW90ZQ%3D%3D?line=135'>136</a>\u001b[0m cssplits_sample_atmark_replaced \u001b[39m=\u001b[39m replace_atmark(cssplits_sample_error_replaced, sequence)\n\u001b[1;32m    <a href='vscode-notebook-cell://wsl%2Bubuntu-20.04/mnt/d/Research/DAJIN2/misc/scripts/2023-02-08-deletion.ipynb#X26sdnNjb2RlLXJlbW90ZQ%3D%3D?line=136'>137</a>\u001b[0m cssplits_control_atmark_replaced \u001b[39m=\u001b[39m replace_atmark(cssplits_control_error_replaced, sequence)\n\u001b[1;32m    <a href='vscode-notebook-cell://wsl%2Bubuntu-20.04/mnt/d/Research/DAJIN2/misc/scripts/2023-02-08-deletion.ipynb#X26sdnNjb2RlLXJlbW90ZQ%3D%3D?line=137'>138</a>\u001b[0m \u001b[39m# Replace CSSPLIT\u001b[39;00m\n",
      "\u001b[1;32m/mnt/d/Research/DAJIN2/misc/scripts/2023-02-08-deletion.ipynb Cell 11\u001b[0m in \u001b[0;36mreplace_atmark\u001b[0;34m(cssplits, sequence)\u001b[0m\n\u001b[1;32m    <a href='vscode-notebook-cell://wsl%2Bubuntu-20.04/mnt/d/Research/DAJIN2/misc/scripts/2023-02-08-deletion.ipynb#X26sdnNjb2RlLXJlbW90ZQ%3D%3D?line=100'>101</a>\u001b[0m             cssplits_replaced[idx][i] \u001b[39m=\u001b[39m random\u001b[39m.\u001b[39mchoice(cssplits_sampling_key[key])\n\u001b[1;32m    <a href='vscode-notebook-cell://wsl%2Bubuntu-20.04/mnt/d/Research/DAJIN2/misc/scripts/2023-02-08-deletion.ipynb#X26sdnNjb2RlLXJlbW90ZQ%3D%3D?line=101'>102</a>\u001b[0m         \u001b[39melse\u001b[39;00m:\n\u001b[0;32m--> <a href='vscode-notebook-cell://wsl%2Bubuntu-20.04/mnt/d/Research/DAJIN2/misc/scripts/2023-02-08-deletion.ipynb#X26sdnNjb2RlLXJlbW90ZQ%3D%3D?line=102'>103</a>\u001b[0m             cssplits_replaced[idx][i] \u001b[39m=\u001b[39m random\u001b[39m.\u001b[39;49mchoice(cssplits_sampling_all)\n\u001b[1;32m    <a href='vscode-notebook-cell://wsl%2Bubuntu-20.04/mnt/d/Research/DAJIN2/misc/scripts/2023-02-08-deletion.ipynb#X26sdnNjb2RlLXJlbW90ZQ%3D%3D?line=103'>104</a>\u001b[0m \u001b[39mfor\u001b[39;00m cs \u001b[39min\u001b[39;00m cssplits_replaced:\n\u001b[1;32m    <a href='vscode-notebook-cell://wsl%2Bubuntu-20.04/mnt/d/Research/DAJIN2/misc/scripts/2023-02-08-deletion.ipynb#X26sdnNjb2RlLXJlbW90ZQ%3D%3D?line=104'>105</a>\u001b[0m     \u001b[39mif\u001b[39;00m cs[\u001b[39m0\u001b[39m] \u001b[39m==\u001b[39m \u001b[39m\"\u001b[39m\u001b[39m@\u001b[39m\u001b[39m\"\u001b[39m:\n",
      "File \u001b[0;32m~/miniconda/lib/python3.10/random.py:378\u001b[0m, in \u001b[0;36mRandom.choice\u001b[0;34m(self, seq)\u001b[0m\n\u001b[1;32m    376\u001b[0m \u001b[39m\"\"\"Choose a random element from a non-empty sequence.\"\"\"\u001b[39;00m\n\u001b[1;32m    377\u001b[0m \u001b[39m# raises IndexError if seq is empty\u001b[39;00m\n\u001b[0;32m--> 378\u001b[0m \u001b[39mreturn\u001b[39;00m seq[\u001b[39mself\u001b[39;49m\u001b[39m.\u001b[39;49m_randbelow(\u001b[39mlen\u001b[39;49m(seq))]\n",
      "\u001b[0;31mIndexError\u001b[0m: list index out of range"
     ]
    }
   ],
   "source": [
    "execute(TEMPDIR, FASTA_ALLELES, CONTROL_NAME, SAMPLE_NAME) "
   ]
  },
  {
   "cell_type": "code",
   "execution_count": 23,
   "metadata": {},
   "outputs": [],
   "source": [
    "allele = \"inversion\"\n",
    "sequence = FASTA_ALLELES[allele]"
   ]
  },
  {
   "cell_type": "code",
   "execution_count": 17,
   "metadata": {},
   "outputs": [],
   "source": [
    "midsv_sample = midsv.read_jsonl((Path(TEMPDIR, \"midsv\", f\"{SAMPLE_NAME}_splice_{allele}.jsonl\")))\n",
    "midsv_control = midsv.read_jsonl((Path(TEMPDIR, \"midsv\", f\"{CONTROL_NAME}_splice_{allele}.jsonl\")))\n",
    "coverage_sample = len(midsv_sample)\n",
    "coverage_control = len(midsv_control)\n",
    "cssplits_sample = [cs[\"CSSPLIT\"].split(\",\") for cs in midsv_sample]\n",
    "cssplits_control = [cs[\"CSSPLIT\"].split(\",\") for cs in midsv_control]\n",
    "left_idx, right_idx = set_indexes(sequence)\n",
    "count_5mer_sample = count_indels_5mer(cssplits_sample, left_idx, right_idx)\n",
    "count_5mer_control = count_indels_5mer(cssplits_control, left_idx, right_idx)\n",
    "sequence_errors = extract_sequence_errors(\n",
    "    count_5mer_sample, count_5mer_control, coverage_sample, coverage_control\n",
    ")\n",
    "cssplits_sample_error_replaced = replace_errors_to_atmark(cssplits_sample, sequence_errors, left_idx, right_idx)\n",
    "cssplits_control_error_replaced = replace_errors_to_atmark(\n",
    "    cssplits_control, sequence_errors, left_idx, right_idx\n",
    ")\n"
   ]
  },
  {
   "cell_type": "code",
   "execution_count": 24,
   "metadata": {},
   "outputs": [
    {
     "ename": "IndexError",
     "evalue": "list index out of range",
     "output_type": "error",
     "traceback": [
      "\u001b[0;31m---------------------------------------------------------------------------\u001b[0m",
      "\u001b[0;31mIndexError\u001b[0m                                Traceback (most recent call last)",
      "\u001b[1;32m/mnt/d/Research/DAJIN2/misc/scripts/2023-02-08-deletion.ipynb Cell 14\u001b[0m in \u001b[0;36m<cell line: 1>\u001b[0;34m()\u001b[0m\n\u001b[0;32m----> <a href='vscode-notebook-cell://wsl%2Bubuntu-20.04/mnt/d/Research/DAJIN2/misc/scripts/2023-02-08-deletion.ipynb#X32sdnNjb2RlLXJlbW90ZQ%3D%3D?line=0'>1</a>\u001b[0m cssplits_sample_atmark_replaced \u001b[39m=\u001b[39m replace_atmark(cssplits_sample_error_replaced, sequence)\n",
      "\u001b[1;32m/mnt/d/Research/DAJIN2/misc/scripts/2023-02-08-deletion.ipynb Cell 14\u001b[0m in \u001b[0;36mreplace_atmark\u001b[0;34m(cssplits, sequence)\u001b[0m\n\u001b[1;32m    <a href='vscode-notebook-cell://wsl%2Bubuntu-20.04/mnt/d/Research/DAJIN2/misc/scripts/2023-02-08-deletion.ipynb#X32sdnNjb2RlLXJlbW90ZQ%3D%3D?line=100'>101</a>\u001b[0m             cssplits_replaced[idx][i] \u001b[39m=\u001b[39m random\u001b[39m.\u001b[39mchoice(cssplits_sampling_key[key])\n\u001b[1;32m    <a href='vscode-notebook-cell://wsl%2Bubuntu-20.04/mnt/d/Research/DAJIN2/misc/scripts/2023-02-08-deletion.ipynb#X32sdnNjb2RlLXJlbW90ZQ%3D%3D?line=101'>102</a>\u001b[0m         \u001b[39melse\u001b[39;00m:\n\u001b[0;32m--> <a href='vscode-notebook-cell://wsl%2Bubuntu-20.04/mnt/d/Research/DAJIN2/misc/scripts/2023-02-08-deletion.ipynb#X32sdnNjb2RlLXJlbW90ZQ%3D%3D?line=102'>103</a>\u001b[0m             cssplits_replaced[idx][i] \u001b[39m=\u001b[39m random\u001b[39m.\u001b[39;49mchoice(cssplits_sampling_all)\n\u001b[1;32m    <a href='vscode-notebook-cell://wsl%2Bubuntu-20.04/mnt/d/Research/DAJIN2/misc/scripts/2023-02-08-deletion.ipynb#X32sdnNjb2RlLXJlbW90ZQ%3D%3D?line=103'>104</a>\u001b[0m \u001b[39mfor\u001b[39;00m cs \u001b[39min\u001b[39;00m cssplits_replaced:\n\u001b[1;32m    <a href='vscode-notebook-cell://wsl%2Bubuntu-20.04/mnt/d/Research/DAJIN2/misc/scripts/2023-02-08-deletion.ipynb#X32sdnNjb2RlLXJlbW90ZQ%3D%3D?line=104'>105</a>\u001b[0m     \u001b[39mif\u001b[39;00m cs[\u001b[39m0\u001b[39m] \u001b[39m==\u001b[39m \u001b[39m\"\u001b[39m\u001b[39m@\u001b[39m\u001b[39m\"\u001b[39m:\n",
      "File \u001b[0;32m~/miniconda/lib/python3.10/random.py:378\u001b[0m, in \u001b[0;36mRandom.choice\u001b[0;34m(self, seq)\u001b[0m\n\u001b[1;32m    376\u001b[0m \u001b[39m\"\"\"Choose a random element from a non-empty sequence.\"\"\"\u001b[39;00m\n\u001b[1;32m    377\u001b[0m \u001b[39m# raises IndexError if seq is empty\u001b[39;00m\n\u001b[0;32m--> 378\u001b[0m \u001b[39mreturn\u001b[39;00m seq[\u001b[39mself\u001b[39;49m\u001b[39m.\u001b[39;49m_randbelow(\u001b[39mlen\u001b[39;49m(seq))]\n",
      "\u001b[0;31mIndexError\u001b[0m: list index out of range"
     ]
    }
   ],
   "source": [
    "cssplits_sample_atmark_replaced = replace_atmark(cssplits_sample_error_replaced, sequence)"
   ]
  },
  {
   "attachments": {},
   "cell_type": "markdown",
   "metadata": {},
   "source": [
    "## replace_atmarkでエラーが発生"
   ]
  },
  {
   "cell_type": "code",
   "execution_count": null,
   "metadata": {},
   "outputs": [],
   "source": []
  },
  {
   "cell_type": "code",
   "execution_count": 27,
   "metadata": {},
   "outputs": [
    {
     "data": {
      "text/plain": [
       "True"
      ]
     },
     "execution_count": 27,
     "metadata": {},
     "output_type": "execute_result"
    }
   ],
   "source": [
    "len(cssplits_sample_error_replaced[0]) == len(sequence)"
   ]
  },
  {
   "cell_type": "code",
   "execution_count": 28,
   "metadata": {},
   "outputs": [],
   "source": [
    "cssplits = deepcopy(cssplits_sample_error_replaced)"
   ]
  },
  {
   "cell_type": "code",
   "execution_count": 48,
   "metadata": {},
   "outputs": [],
   "source": [
    "random.seed(1)\n",
    "cssplits_replaced = deepcopy(cssplits)\n",
    "sequence_length = len(sequence)\n",
    "for i in range(1, sequence_length - 1):\n",
    "    cssplits_atmark = defaultdict(str)\n",
    "    cssplits_sampling_key = defaultdict(list)\n",
    "    cssplits_sampling_all = []\n",
    "    flag_all_atmark = True\n",
    "    for idx, cssplit in enumerate(cssplits):\n",
    "        key = \",\".join([cssplit[i - 1], cssplit[i + 1]])\n",
    "        if cssplit[i] == \"@\":\n",
    "            cssplits_atmark[idx] = key\n",
    "        else:\n",
    "            cssplits_sampling_key[key].append(cssplit[i])\n",
    "            cssplits_sampling_all.append(cssplit[i])\n",
    "            flag_all_atmark = False\n",
    "    for idx, key in cssplits_atmark.items():\n",
    "        if flag_all_atmark:\n",
    "            cssplits_replaced[idx][i] = \"N\"\n",
    "        elif cssplits_sampling_key[key]:\n",
    "            cssplits_replaced[idx][i] = random.choice(cssplits_sampling_key[key])\n",
    "        else:\n",
    "            cssplits_replaced[idx][i] = random.choice(cssplits_sampling_all)"
   ]
  },
  {
   "cell_type": "code",
   "execution_count": 49,
   "metadata": {},
   "outputs": [
    {
     "name": "stdout",
     "output_type": "stream",
     "text": [
      "defaultdict(<class 'int'>, {'=G': 1152, 'N': 299})\n",
      "3\n"
     ]
    }
   ],
   "source": [
    "count = defaultdict(int)\n",
    "for cs in cssplits:\n",
    "    count[cs[i]] += 1\n",
    "print(count)\n",
    "print(len(cssplits_sampling_key))"
   ]
  },
  {
   "cell_type": "code",
   "execution_count": 52,
   "metadata": {},
   "outputs": [
    {
     "name": "stdout",
     "output_type": "stream",
     "text": [
      "processing test-knockout...\n"
     ]
    },
    {
     "name": "stderr",
     "output_type": "stream",
     "text": [
      "Traceback (most recent call last):\n",
      "  File \"/mnt/d/Research/DAJIN2/misc/quickstart.py\", line 273, in <module>\n",
      "    report.report_bam.output_bam_control(TEMPDIR, CONTROL_NAME, GENOME, GENOME_COODINATES, CHROME_SIZE, THREADS)\n",
      "  File \"/mnt/d/Research/DAJIN2/src/DAJIN2/core/report/report_bam.py\", line 253, in output_bam_control\n",
      "    sam = midsv.read_sam(intput_path_sam)\n",
      "  File \"/home/kuno/miniconda/lib/python3.10/site-packages/midsv/io.py\", line 12, in read_sam\n",
      "    sam = Path(path_of_sam).read_text().strip().split(\"\\n\")\n",
      "  File \"/home/kuno/miniconda/lib/python3.10/pathlib.py\", line 1134, in read_text\n",
      "    with self.open(mode='r', encoding=encoding, errors=errors) as f:\n",
      "  File \"/home/kuno/miniconda/lib/python3.10/pathlib.py\", line 1119, in open\n",
      "    return self._accessor.open(self, mode, buffering, encoding, errors,\n",
      "FileNotFoundError: [Errno 2] No such file or directory: 'DAJINResults/.tempdir/test-knockout/sam/test_barcode30_map-ont_control.sam'\n",
      "\n",
      "real\t0m49.688s\n",
      "user\t1m14.422s\n",
      "sys\t0m45.999s\n",
      "Traceback (most recent call last):\n",
      "  File \"/mnt/d/Research/DAJIN2/misc/quickstart.py\", line 209, in <module>\n",
      "    clust_sample = clustering.add_labels(classif_sample, TEMPDIR, CONTROL_NAME, FASTA_ALLELES, THREADS)\n",
      "  File \"/mnt/d/Research/DAJIN2/src/DAJIN2/core/clustering/clustering.py\", line 32, in add_labels\n",
      "    cssplits_sample = replace_both_ends_n(cssplits_sample)\n",
      "  File \"/mnt/d/Research/DAJIN2/src/DAJIN2/core/clustering/preprocess.py\", line 58, in replace_both_ends_n\n",
      "    cssplits_replaced[i][j] = next(d_samples[j])\n",
      "TypeError: iter expected at least 1 argument, got 0\n",
      "\n",
      "real\t5m3.450s\n",
      "user\t5m4.337s\n",
      "sys\t0m33.121s\n"
     ]
    },
    {
     "ename": "CalledProcessError",
     "evalue": "Command 'b'# Stx2 deletion knockout\\nrm -rf DAJINResults/.tempdir/test-knockout/\\ntime python misc/quickstart.py\\n'' returned non-zero exit status 1.",
     "output_type": "error",
     "traceback": [
      "\u001b[0;31m---------------------------------------------------------------------------\u001b[0m",
      "\u001b[0;31mCalledProcessError\u001b[0m                        Traceback (most recent call last)",
      "\u001b[1;32m/mnt/d/Research/DAJIN2/misc/scripts/2023-02-08-deletion.ipynb Cell 19\u001b[0m in \u001b[0;36m<cell line: 1>\u001b[0;34m()\u001b[0m\n\u001b[0;32m----> <a href='vscode-notebook-cell://wsl%2Bubuntu-20.04/mnt/d/Research/DAJIN2/misc/scripts/2023-02-08-deletion.ipynb#X41sdnNjb2RlLXJlbW90ZQ%3D%3D?line=0'>1</a>\u001b[0m get_ipython()\u001b[39m.\u001b[39;49mrun_cell_magic(\u001b[39m'\u001b[39;49m\u001b[39mbash\u001b[39;49m\u001b[39m'\u001b[39;49m, \u001b[39m'\u001b[39;49m\u001b[39m'\u001b[39;49m, \u001b[39m'\u001b[39;49m\u001b[39m# Stx2 deletion knockout\u001b[39;49m\u001b[39m\\n\u001b[39;49;00m\u001b[39mrm -rf DAJINResults/.tempdir/test-knockout/\u001b[39;49m\u001b[39m\\n\u001b[39;49;00m\u001b[39mtime python misc/quickstart.py\u001b[39;49m\u001b[39m\\n\u001b[39;49;00m\u001b[39m'\u001b[39;49m)\n",
      "File \u001b[0;32m~/miniconda/lib/python3.10/site-packages/IPython/core/interactiveshell.py:2357\u001b[0m, in \u001b[0;36mInteractiveShell.run_cell_magic\u001b[0;34m(self, magic_name, line, cell)\u001b[0m\n\u001b[1;32m   2355\u001b[0m \u001b[39mwith\u001b[39;00m \u001b[39mself\u001b[39m\u001b[39m.\u001b[39mbuiltin_trap:\n\u001b[1;32m   2356\u001b[0m     args \u001b[39m=\u001b[39m (magic_arg_s, cell)\n\u001b[0;32m-> 2357\u001b[0m     result \u001b[39m=\u001b[39m fn(\u001b[39m*\u001b[39;49margs, \u001b[39m*\u001b[39;49m\u001b[39m*\u001b[39;49mkwargs)\n\u001b[1;32m   2358\u001b[0m \u001b[39mreturn\u001b[39;00m result\n",
      "File \u001b[0;32m~/miniconda/lib/python3.10/site-packages/IPython/core/magics/script.py:153\u001b[0m, in \u001b[0;36mScriptMagics._make_script_magic.<locals>.named_script_magic\u001b[0;34m(line, cell)\u001b[0m\n\u001b[1;32m    151\u001b[0m \u001b[39melse\u001b[39;00m:\n\u001b[1;32m    152\u001b[0m     line \u001b[39m=\u001b[39m script\n\u001b[0;32m--> 153\u001b[0m \u001b[39mreturn\u001b[39;00m \u001b[39mself\u001b[39;49m\u001b[39m.\u001b[39;49mshebang(line, cell)\n",
      "File \u001b[0;32m~/miniconda/lib/python3.10/site-packages/IPython/core/magics/script.py:305\u001b[0m, in \u001b[0;36mScriptMagics.shebang\u001b[0;34m(self, line, cell)\u001b[0m\n\u001b[1;32m    300\u001b[0m \u001b[39mif\u001b[39;00m args\u001b[39m.\u001b[39mraise_error \u001b[39mand\u001b[39;00m p\u001b[39m.\u001b[39mreturncode \u001b[39m!=\u001b[39m \u001b[39m0\u001b[39m:\n\u001b[1;32m    301\u001b[0m     \u001b[39m# If we get here and p.returncode is still None, we must have\u001b[39;00m\n\u001b[1;32m    302\u001b[0m     \u001b[39m# killed it but not yet seen its return code. We don't wait for it,\u001b[39;00m\n\u001b[1;32m    303\u001b[0m     \u001b[39m# in case it's stuck in uninterruptible sleep. -9 = SIGKILL\u001b[39;00m\n\u001b[1;32m    304\u001b[0m     rc \u001b[39m=\u001b[39m p\u001b[39m.\u001b[39mreturncode \u001b[39mor\u001b[39;00m \u001b[39m-\u001b[39m\u001b[39m9\u001b[39m\n\u001b[0;32m--> 305\u001b[0m     \u001b[39mraise\u001b[39;00m CalledProcessError(rc, cell)\n",
      "\u001b[0;31mCalledProcessError\u001b[0m: Command 'b'# Stx2 deletion knockout\\nrm -rf DAJINResults/.tempdir/test-knockout/\\ntime python misc/quickstart.py\\n'' returned non-zero exit status 1."
     ]
    }
   ],
   "source": [
    "%%bash\n",
    "# Stx2 deletion knockout\n",
    "rm -rf DAJINResults/.tempdir/test-knockout/\n",
    "time python misc/quickstart.py"
   ]
  },
  {
   "attachments": {},
   "cell_type": "markdown",
   "metadata": {},
   "source": [
    "## 今度はClusteringでエラーが発生"
   ]
  },
  {
   "cell_type": "code",
   "execution_count": 53,
   "metadata": {},
   "outputs": [],
   "source": [
    "classif_sample = classification.classify_alleles(TEMPDIR, SAMPLE_NAME)\n",
    "for classif in classif_sample:\n",
    "    classif[\"SV\"] = classification.detect_sv(classif[\"CSSPLIT\"], threshold=50)"
   ]
  },
  {
   "cell_type": "code",
   "execution_count": 55,
   "metadata": {},
   "outputs": [
    {
     "ename": "TypeError",
     "evalue": "iter expected at least 1 argument, got 0",
     "output_type": "error",
     "traceback": [
      "\u001b[0;31m---------------------------------------------------------------------------\u001b[0m",
      "\u001b[0;31mTypeError\u001b[0m                                 Traceback (most recent call last)",
      "\u001b[1;32m/mnt/d/Research/DAJIN2/misc/scripts/2023-02-08-deletion.ipynb Cell 24\u001b[0m in \u001b[0;36m<cell line: 2>\u001b[0;34m()\u001b[0m\n\u001b[1;32m      <a href='vscode-notebook-cell://wsl%2Bubuntu-20.04/mnt/d/Research/DAJIN2/misc/scripts/2023-02-08-deletion.ipynb#X45sdnNjb2RlLXJlbW90ZQ%3D%3D?line=0'>1</a>\u001b[0m \u001b[39mfrom\u001b[39;00m \u001b[39msrc\u001b[39;00m\u001b[39m.\u001b[39;00m\u001b[39mDAJIN2\u001b[39;00m\u001b[39m.\u001b[39;00m\u001b[39mcore\u001b[39;00m\u001b[39m.\u001b[39;00m\u001b[39mclustering\u001b[39;00m \u001b[39mimport\u001b[39;00m clustering\n\u001b[0;32m----> <a href='vscode-notebook-cell://wsl%2Bubuntu-20.04/mnt/d/Research/DAJIN2/misc/scripts/2023-02-08-deletion.ipynb#X45sdnNjb2RlLXJlbW90ZQ%3D%3D?line=1'>2</a>\u001b[0m clust_sample \u001b[39m=\u001b[39m clustering\u001b[39m.\u001b[39;49madd_labels(classif_sample, TEMPDIR, CONTROL_NAME, FASTA_ALLELES, THREADS)\n",
      "File \u001b[0;32m/mnt/d/Research/DAJIN2/src/DAJIN2/core/clustering/clustering.py:32\u001b[0m, in \u001b[0;36madd_labels\u001b[0;34m(classif_sample, TEMPDIR, CONTROL_NAME, FASTA_ALLELES, THREADS)\u001b[0m\n\u001b[1;32m     30\u001b[0m cssplits_sample \u001b[39m=\u001b[39m [cs[\u001b[39m\"\u001b[39m\u001b[39mCSSPLIT\u001b[39m\u001b[39m\"\u001b[39m]\u001b[39m.\u001b[39msplit(\u001b[39m\"\u001b[39m\u001b[39m,\u001b[39m\u001b[39m\"\u001b[39m) \u001b[39mfor\u001b[39;00m cs \u001b[39min\u001b[39;00m group]\n\u001b[1;32m     31\u001b[0m cssplits_control \u001b[39m=\u001b[39m replace_both_ends_n(cssplits_control)\n\u001b[0;32m---> 32\u001b[0m cssplits_sample \u001b[39m=\u001b[39m replace_both_ends_n(cssplits_sample)\n\u001b[1;32m     33\u001b[0m mutation_score \u001b[39m=\u001b[39m make_score(cssplits_control, cssplits_sample, knockin_alleles[allele])\n\u001b[1;32m     34\u001b[0m scores_control \u001b[39m=\u001b[39m annotate_score(cssplits_control, mutation_score)\n",
      "File \u001b[0;32m/mnt/d/Research/DAJIN2/src/DAJIN2/core/clustering/preprocess.py:58\u001b[0m, in \u001b[0;36mreplace_both_ends_n\u001b[0;34m(cssplits)\u001b[0m\n\u001b[1;32m     56\u001b[0m         \u001b[39mif\u001b[39;00m cs \u001b[39m!=\u001b[39m \u001b[39m\"\u001b[39m\u001b[39mN\u001b[39m\u001b[39m\"\u001b[39m:\n\u001b[1;32m     57\u001b[0m             \u001b[39mbreak\u001b[39;00m\n\u001b[0;32m---> 58\u001b[0m         cssplits_replaced[i][j] \u001b[39m=\u001b[39m \u001b[39mnext\u001b[39m(d_samples[j])\n\u001b[1;32m     59\u001b[0m \u001b[39mfor\u001b[39;00m i, cssplit \u001b[39min\u001b[39;00m \u001b[39menumerate\u001b[39m(cssplits_replaced):\n\u001b[1;32m     60\u001b[0m     cssplit \u001b[39m=\u001b[39m cssplit[::\u001b[39m-\u001b[39m\u001b[39m1\u001b[39m]\n",
      "\u001b[0;31mTypeError\u001b[0m: iter expected at least 1 argument, got 0"
     ]
    }
   ],
   "source": [
    "from src.DAJIN2.core.clustering import clustering\n",
    "clust_sample = clustering.add_labels(classif_sample, TEMPDIR, CONTROL_NAME, FASTA_ALLELES, THREADS)"
   ]
  },
  {
   "cell_type": "code",
   "execution_count": 59,
   "metadata": {},
   "outputs": [],
   "source": [
    "from __future__ import annotations\n",
    "from itertools import groupby\n",
    "from copy import deepcopy\n",
    "from collections import defaultdict\n",
    "from pathlib import Path\n",
    "import midsv\n",
    "\n",
    "from src.DAJIN2.core.preprocess.correct_knockin import extract_knockin_loci\n",
    "from src.DAJIN2.core.clustering.preprocess import replace_both_ends_n\n",
    "from src.DAJIN2.core.clustering.make_score import make_score\n",
    "from src.DAJIN2.core.clustering.annotate_score import annotate_score\n",
    "from src.DAJIN2.core.clustering.reorder_labels import reorder_labels\n",
    "from src.DAJIN2.core.clustering.return_labels import return_labels\n",
    "\n",
    "def add_labels(classif_sample, TEMPDIR, CONTROL_NAME, FASTA_ALLELES: dict, THREADS: int = 1) -> list[dict[str]]:\n",
    "    paths_midsv = list(Path(TEMPDIR, \"midsv\").glob(f\"{CONTROL_NAME}_splice_*\"))\n",
    "    cssplits_control_by_alleles = defaultdict(list)\n",
    "    for path_midsv in paths_midsv:\n",
    "        midsv_control = midsv.read_jsonl(path_midsv)\n",
    "        allele = path_midsv.stem.split(\"_\")[-1]\n",
    "        cssplits = [cs[\"CSSPLIT\"].split(\",\") for cs in midsv_control]\n",
    "        cssplits_control_by_alleles[allele] = cssplits\n",
    "    knockin_alleles = extract_knockin_loci(TEMPDIR)\n",
    "    labels_all = []\n",
    "    max_label = 0\n",
    "    classif_sample.sort(key=lambda x: (x[\"ALLELE\"], x[\"SV\"]))\n",
    "    for (allele, _), group in groupby(classif_sample, key=lambda x: (x[\"ALLELE\"], x[\"SV\"])):\n",
    "        print(allele)\n",
    "        cssplits_control = cssplits_control_by_alleles[allele]\n",
    "        cssplits_sample = [cs[\"CSSPLIT\"].split(\",\") for cs in group]\n",
    "        cssplits_control = replace_both_ends_n(cssplits_control)\n",
    "        cssplits_sample = replace_both_ends_n(cssplits_sample)\n",
    "        mutation_score = make_score(cssplits_control, cssplits_sample, knockin_alleles[allele])\n",
    "        scores_control = annotate_score(cssplits_control, mutation_score)\n",
    "        scores_sample = annotate_score(cssplits_sample, mutation_score)\n",
    "        labels = return_labels(scores_sample, scores_control)\n",
    "        labels_reorder = reorder_labels(labels, start=max_label)\n",
    "        max_label = max(labels_reorder)\n",
    "        labels_all.extend(labels_reorder)\n",
    "    clust_sample = deepcopy(classif_sample)\n",
    "    for clust, label in zip(clust_sample, labels_all):\n",
    "        clust[\"LABEL\"] = label\n",
    "    return clust_sample"
   ]
  },
  {
   "cell_type": "code",
   "execution_count": 60,
   "metadata": {},
   "outputs": [
    {
     "name": "stdout",
     "output_type": "stream",
     "text": [
      "deletion\n",
      "deletion\n",
      "inversion\n"
     ]
    },
    {
     "ename": "TypeError",
     "evalue": "iter expected at least 1 argument, got 0",
     "output_type": "error",
     "traceback": [
      "\u001b[0;31m---------------------------------------------------------------------------\u001b[0m",
      "\u001b[0;31mTypeError\u001b[0m                                 Traceback (most recent call last)",
      "\u001b[1;32m/mnt/d/Research/DAJIN2/misc/scripts/2023-02-08-deletion.ipynb Cell 26\u001b[0m in \u001b[0;36m<cell line: 1>\u001b[0;34m()\u001b[0m\n\u001b[0;32m----> <a href='vscode-notebook-cell://wsl%2Bubuntu-20.04/mnt/d/Research/DAJIN2/misc/scripts/2023-02-08-deletion.ipynb#X55sdnNjb2RlLXJlbW90ZQ%3D%3D?line=0'>1</a>\u001b[0m add_labels(classif_sample, TEMPDIR, CONTROL_NAME, FASTA_ALLELES, THREADS)\n",
      "\u001b[1;32m/mnt/d/Research/DAJIN2/misc/scripts/2023-02-08-deletion.ipynb Cell 26\u001b[0m in \u001b[0;36madd_labels\u001b[0;34m(classif_sample, TEMPDIR, CONTROL_NAME, FASTA_ALLELES, THREADS)\u001b[0m\n\u001b[1;32m     <a href='vscode-notebook-cell://wsl%2Bubuntu-20.04/mnt/d/Research/DAJIN2/misc/scripts/2023-02-08-deletion.ipynb#X55sdnNjb2RlLXJlbW90ZQ%3D%3D?line=29'>30</a>\u001b[0m cssplits_sample \u001b[39m=\u001b[39m [cs[\u001b[39m\"\u001b[39m\u001b[39mCSSPLIT\u001b[39m\u001b[39m\"\u001b[39m]\u001b[39m.\u001b[39msplit(\u001b[39m\"\u001b[39m\u001b[39m,\u001b[39m\u001b[39m\"\u001b[39m) \u001b[39mfor\u001b[39;00m cs \u001b[39min\u001b[39;00m group]\n\u001b[1;32m     <a href='vscode-notebook-cell://wsl%2Bubuntu-20.04/mnt/d/Research/DAJIN2/misc/scripts/2023-02-08-deletion.ipynb#X55sdnNjb2RlLXJlbW90ZQ%3D%3D?line=30'>31</a>\u001b[0m cssplits_control \u001b[39m=\u001b[39m replace_both_ends_n(cssplits_control)\n\u001b[0;32m---> <a href='vscode-notebook-cell://wsl%2Bubuntu-20.04/mnt/d/Research/DAJIN2/misc/scripts/2023-02-08-deletion.ipynb#X55sdnNjb2RlLXJlbW90ZQ%3D%3D?line=31'>32</a>\u001b[0m cssplits_sample \u001b[39m=\u001b[39m replace_both_ends_n(cssplits_sample)\n\u001b[1;32m     <a href='vscode-notebook-cell://wsl%2Bubuntu-20.04/mnt/d/Research/DAJIN2/misc/scripts/2023-02-08-deletion.ipynb#X55sdnNjb2RlLXJlbW90ZQ%3D%3D?line=32'>33</a>\u001b[0m mutation_score \u001b[39m=\u001b[39m make_score(cssplits_control, cssplits_sample, knockin_alleles[allele])\n\u001b[1;32m     <a href='vscode-notebook-cell://wsl%2Bubuntu-20.04/mnt/d/Research/DAJIN2/misc/scripts/2023-02-08-deletion.ipynb#X55sdnNjb2RlLXJlbW90ZQ%3D%3D?line=33'>34</a>\u001b[0m scores_control \u001b[39m=\u001b[39m annotate_score(cssplits_control, mutation_score)\n",
      "File \u001b[0;32m/mnt/d/Research/DAJIN2/src/DAJIN2/core/clustering/preprocess.py:58\u001b[0m, in \u001b[0;36mreplace_both_ends_n\u001b[0;34m(cssplits)\u001b[0m\n\u001b[1;32m     56\u001b[0m         \u001b[39mif\u001b[39;00m cs \u001b[39m!=\u001b[39m \u001b[39m\"\u001b[39m\u001b[39mN\u001b[39m\u001b[39m\"\u001b[39m:\n\u001b[1;32m     57\u001b[0m             \u001b[39mbreak\u001b[39;00m\n\u001b[0;32m---> 58\u001b[0m         cssplits_replaced[i][j] \u001b[39m=\u001b[39m \u001b[39mnext\u001b[39m(d_samples[j])\n\u001b[1;32m     59\u001b[0m \u001b[39mfor\u001b[39;00m i, cssplit \u001b[39min\u001b[39;00m \u001b[39menumerate\u001b[39m(cssplits_replaced):\n\u001b[1;32m     60\u001b[0m     cssplit \u001b[39m=\u001b[39m cssplit[::\u001b[39m-\u001b[39m\u001b[39m1\u001b[39m]\n",
      "\u001b[0;31mTypeError\u001b[0m: iter expected at least 1 argument, got 0"
     ]
    }
   ],
   "source": [
    "add_labels(classif_sample, TEMPDIR, CONTROL_NAME, FASTA_ALLELES, THREADS)"
   ]
  },
  {
   "cell_type": "code",
   "execution_count": 61,
   "metadata": {},
   "outputs": [],
   "source": [
    "paths_midsv = list(Path(TEMPDIR, \"midsv\").glob(f\"{CONTROL_NAME}_splice_*\"))\n",
    "cssplits_control_by_alleles = defaultdict(list)\n",
    "for path_midsv in paths_midsv:\n",
    "    midsv_control = midsv.read_jsonl(path_midsv)\n",
    "    allele = path_midsv.stem.split(\"_\")[-1]\n",
    "    cssplits = [cs[\"CSSPLIT\"].split(\",\") for cs in midsv_control]\n",
    "    cssplits_control_by_alleles[allele] = cssplits\n",
    "knockin_alleles = extract_knockin_loci(TEMPDIR)\n",
    "labels_all = []\n",
    "max_label = 0\n",
    "classif_sample.sort(key=lambda x: (x[\"ALLELE\"], x[\"SV\"]))"
   ]
  },
  {
   "cell_type": "code",
   "execution_count": 66,
   "metadata": {},
   "outputs": [],
   "source": [
    "allele = \"inversion\"\n",
    "sv = True"
   ]
  },
  {
   "cell_type": "code",
   "execution_count": 67,
   "metadata": {},
   "outputs": [],
   "source": [
    "cssplits_control = cssplits_control_by_alleles[allele]\n",
    "cssplits_sample = [cs[\"CSSPLIT\"].split(\",\") for cs in classif_sample if cs[\"ALLELE\"] == allele and cs[\"SV\"] == sv]"
   ]
  },
  {
   "cell_type": "code",
   "execution_count": 68,
   "metadata": {},
   "outputs": [],
   "source": [
    "cssplits_control = replace_both_ends_n(cssplits_control)"
   ]
  },
  {
   "cell_type": "code",
   "execution_count": 69,
   "metadata": {},
   "outputs": [
    {
     "ename": "TypeError",
     "evalue": "iter expected at least 1 argument, got 0",
     "output_type": "error",
     "traceback": [
      "\u001b[0;31m---------------------------------------------------------------------------\u001b[0m",
      "\u001b[0;31mTypeError\u001b[0m                                 Traceback (most recent call last)",
      "\u001b[1;32m/mnt/d/Research/DAJIN2/misc/scripts/2023-02-08-deletion.ipynb Cell 31\u001b[0m in \u001b[0;36m<cell line: 1>\u001b[0;34m()\u001b[0m\n\u001b[0;32m----> <a href='vscode-notebook-cell://wsl%2Bubuntu-20.04/mnt/d/Research/DAJIN2/misc/scripts/2023-02-08-deletion.ipynb#X63sdnNjb2RlLXJlbW90ZQ%3D%3D?line=0'>1</a>\u001b[0m cssplits_sample \u001b[39m=\u001b[39m replace_both_ends_n(cssplits_sample)\n",
      "File \u001b[0;32m/mnt/d/Research/DAJIN2/src/DAJIN2/core/clustering/preprocess.py:58\u001b[0m, in \u001b[0;36mreplace_both_ends_n\u001b[0;34m(cssplits)\u001b[0m\n\u001b[1;32m     56\u001b[0m         \u001b[39mif\u001b[39;00m cs \u001b[39m!=\u001b[39m \u001b[39m\"\u001b[39m\u001b[39mN\u001b[39m\u001b[39m\"\u001b[39m:\n\u001b[1;32m     57\u001b[0m             \u001b[39mbreak\u001b[39;00m\n\u001b[0;32m---> 58\u001b[0m         cssplits_replaced[i][j] \u001b[39m=\u001b[39m \u001b[39mnext\u001b[39m(d_samples[j])\n\u001b[1;32m     59\u001b[0m \u001b[39mfor\u001b[39;00m i, cssplit \u001b[39min\u001b[39;00m \u001b[39menumerate\u001b[39m(cssplits_replaced):\n\u001b[1;32m     60\u001b[0m     cssplit \u001b[39m=\u001b[39m cssplit[::\u001b[39m-\u001b[39m\u001b[39m1\u001b[39m]\n",
      "\u001b[0;31mTypeError\u001b[0m: iter expected at least 1 argument, got 0"
     ]
    }
   ],
   "source": [
    "cssplits_sample = replace_both_ends_n(cssplits_sample)"
   ]
  },
  {
   "cell_type": "code",
   "execution_count": 70,
   "metadata": {},
   "outputs": [],
   "source": [
    "cssplits = deepcopy(cssplits_sample)"
   ]
  },
  {
   "cell_type": "code",
   "execution_count": 73,
   "metadata": {},
   "outputs": [],
   "source": [
    "from __future__ import annotations\n",
    "from collections import Counter\n",
    "import numpy as np\n",
    "from collections import defaultdict\n",
    "from copy import deepcopy\n",
    "\n",
    "\n",
    "def transpose(cssplits):\n",
    "    return [list(cs) for cs in zip(*cssplits)]\n",
    "\n",
    "\n",
    "def call_count(transpose_cssplits: list[list[str]]) -> list[dict[str:int]]:\n",
    "    cssplit_counts = []\n",
    "    for cssplit in transpose_cssplits:\n",
    "        count = Counter(cssplit)\n",
    "        count = dict(count)\n",
    "        cssplit_counts.append(count)\n",
    "    return cssplit_counts\n",
    "\n",
    "\n",
    "def sampling(cnt: Counter, size: int):\n",
    "    elements = []\n",
    "    probs = []\n",
    "    coverage = sum(cnt.values())\n",
    "    for key, val in cnt.items():\n",
    "        elements.append(key)\n",
    "        probs.append(val / coverage)\n",
    "    np.random.seed(1)\n",
    "    samples = np.random.choice(a=elements, size=size, p=probs)\n",
    "    return samples\n"
   ]
  },
  {
   "cell_type": "code",
   "execution_count": null,
   "metadata": {},
   "outputs": [],
   "source": []
  },
  {
   "cell_type": "code",
   "execution_count": 109,
   "metadata": {},
   "outputs": [],
   "source": [
    "transpose_cssplits = [list(cs) for cs in zip(*cssplits)]\n",
    "d_samples = defaultdict(iter)\n",
    "for i, cssplit in enumerate(transpose_cssplits):\n",
    "    flag_no_N = all(True if cs != \"N\" else False for cs in cssplit)\n",
    "    if flag_no_N:\n",
    "            continue\n",
    "    flag_all_N = all(True if cs == \"N\" else False for cs in cssplit)\n",
    "    cnt = Counter(cssplit)\n",
    "    size = cnt[\"N\"]\n",
    "    if not flag_all_N:\n",
    "        del cnt[\"N\"]\n",
    "    samples = sampling(cnt, size)\n",
    "    d_samples[i] = iter(samples)\n",
    "cssplits_replaced = deepcopy(cssplits)\n",
    "for i, cssplit in enumerate(cssplits_replaced):\n",
    "    for j, cs in enumerate(cssplit):\n",
    "        if cs != \"N\":\n",
    "            break\n",
    "        cssplits_replaced[i][j] = next(d_samples[j])\n",
    "# for i, cssplit in enumerate(cssplits_replaced):\n",
    "#     cssplit = cssplit[::-1]\n",
    "#     for j, cs in enumerate(cssplit):\n",
    "#         if cs != \"N\":\n",
    "#             break\n",
    "#         try:\n",
    "#             cssplits_replaced[i][len(cssplit) - 1 - j] = next(d_samples[len(cssplit) - 1 - j])\n",
    "#         except TypeError:\n",
    "#             pass"
   ]
  },
  {
   "cell_type": "code",
   "execution_count": 89,
   "metadata": {},
   "outputs": [],
   "source": [
    "cnt = Counter(transpose_cssplits[0])"
   ]
  },
  {
   "cell_type": "code",
   "execution_count": 110,
   "metadata": {},
   "outputs": [],
   "source": [
    "\n",
    "def replace_both_ends_n(cssplits: list[list[str]]):\n",
    "    transpose_cssplits = [list(cs) for cs in zip(*cssplits)]\n",
    "    d_samples = defaultdict(iter)\n",
    "    for i, cssplit in enumerate(transpose_cssplits):\n",
    "        flag_no_N = all(True if cs != \"N\" else False for cs in cssplit)\n",
    "        if flag_no_N:\n",
    "                continue\n",
    "        flag_all_N = all(True if cs == \"N\" else False for cs in cssplit)\n",
    "        cnt = Counter(cssplit)\n",
    "        size = cnt[\"N\"]\n",
    "        if not flag_all_N:\n",
    "            del cnt[\"N\"]\n",
    "        samples = sampling(cnt, size)\n",
    "        d_samples[i] = iter(samples)\n",
    "    cssplits_replaced = deepcopy(cssplits)\n",
    "    for i, cssplit in enumerate(cssplits_replaced):\n",
    "        for j, cs in enumerate(cssplit):\n",
    "            if cs != \"N\":\n",
    "                break\n",
    "            cssplits_replaced[i][j] = next(d_samples[j])\n",
    "    for i, cssplit in enumerate(cssplits_replaced):\n",
    "        cssplit = cssplit[::-1]\n",
    "        for j, cs in enumerate(cssplit):\n",
    "            if cs != \"N\":\n",
    "                break\n",
    "            try:\n",
    "                cssplits_replaced[i][len(cssplit) - 1 - j] = next(d_samples[len(cssplit) - 1 - j])\n",
    "            except TypeError:\n",
    "                pass\n",
    "    return cssplits_replaced"
   ]
  },
  {
   "cell_type": "code",
   "execution_count": 111,
   "metadata": {},
   "outputs": [],
   "source": [
    "cssplits_sample = replace_both_ends_n(cssplits_sample)"
   ]
  },
  {
   "attachments": {},
   "cell_type": "markdown",
   "metadata": {},
   "source": [
    "## Retry"
   ]
  },
  {
   "cell_type": "code",
   "execution_count": 112,
   "metadata": {},
   "outputs": [
    {
     "name": "stdout",
     "output_type": "stream",
     "text": [
      "processing test-knockout...\n"
     ]
    },
    {
     "name": "stderr",
     "output_type": "stream",
     "text": [
      "\n",
      "real\t5m20.068s\n",
      "user\t5m33.203s\n",
      "sys\t0m50.345s\n"
     ]
    }
   ],
   "source": [
    "%%bash\n",
    "# Stx2 deletion knockout\n",
    "rm -rf DAJINResults/.tempdir/test-knockout/\n",
    "time python misc/quickstart.py"
   ]
  },
  {
   "cell_type": "code",
   "execution_count": null,
   "metadata": {},
   "outputs": [],
   "source": []
  },
  {
   "cell_type": "code",
   "execution_count": null,
   "metadata": {},
   "outputs": [],
   "source": []
  },
  {
   "attachments": {},
   "cell_type": "markdown",
   "metadata": {},
   "source": [
    "# 結果\n",
    "- Stx2 knockoutはエラーはなくなった\n",
    "- inversionのようにごく少数のアレルにおいて、全てが`N`である場合に補正がうまく行っていなかった\n",
    "    - コードの可読性の低さを感じた\n",
    "- 一方で、**クラスタが3つに別れず、1つになっていた**\n",
    "    - 次回原因を探索する"
   ]
  },
  {
   "attachments": {},
   "cell_type": "markdown",
   "metadata": {},
   "source": [
    "# 次回の課題"
   ]
  },
  {
   "attachments": {},
   "cell_type": "markdown",
   "metadata": {},
   "source": [
    "+ `preprocess.correct_sequence_error.replace_atmark`のコードがわかりにくい\n",
    "    + テストを用意してリファクタリングする\n",
    "+ Stx2のクラスタリングがうまく行っていないので原因を探索する"
   ]
  },
  {
   "cell_type": "markdown",
   "metadata": {},
   "source": []
  }
 ],
 "metadata": {
  "kernelspec": {
   "display_name": "base",
   "language": "python",
   "name": "python3"
  },
  "language_info": {
   "codemirror_mode": {
    "name": "ipython",
    "version": 3
   },
   "file_extension": ".py",
   "mimetype": "text/x-python",
   "name": "python",
   "nbconvert_exporter": "python",
   "pygments_lexer": "ipython3",
   "version": "3.10.6"
  },
  "orig_nbformat": 4,
  "vscode": {
   "interpreter": {
    "hash": "a09285d6cbc768c1977f96e8deb5ca1ec0d08675e9573ed6dfd37fd7d91de663"
   }
  }
 },
 "nbformat": 4,
 "nbformat_minor": 2
}
