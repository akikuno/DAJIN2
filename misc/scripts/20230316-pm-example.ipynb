{
 "cells": [
  {
   "attachments": {},
   "cell_type": "markdown",
   "metadata": {},
   "source": [
    "# 取り組み\n",
    "\n",
    "ThinkpadX1-NanoのPCでもquickstart.pyを動かしてみる\n",
    "+ [ ] Albino点変異の1%"
   ]
  },
  {
   "cell_type": "code",
   "execution_count": 3,
   "metadata": {},
   "outputs": [
    {
     "name": "stdout",
     "output_type": "stream",
     "text": [
      "/mnt/c/Users/akihi/Documents/GitHub/DAJIN2\n"
     ]
    }
   ],
   "source": [
    "# ルートディレクトリをPathに含めるおまじない\n",
    "import sys, os\n",
    "from pathlib import Path\n",
    "if Path(os.getcwd()).stem != \"DAJIN2\":\n",
    "    parent_path = str(Path(os.path.dirname(os.path.abspath(\"__file__\"))).parent.parent)\n",
    "    sys.path.append(parent_path)\n",
    "    os.chdir(parent_path)\n",
    "print(os.getcwd())"
   ]
  },
  {
   "cell_type": "code",
   "execution_count": 4,
   "metadata": {},
   "outputs": [
    {
     "name": "stdout",
     "output_type": "stream",
     "text": [
      "Requirement already satisfied: pip in /home/kuno/miniconda3/envs/DAJIN2/lib/python3.10/site-packages (23.0.1)\n",
      "Requirement already satisfied: numpy>=1.20.0 in /home/kuno/miniconda3/envs/DAJIN2/lib/python3.10/site-packages (from -r requirements.txt (line 1)) (1.24.2)\n",
      "Requirement already satisfied: scipy>=1.6.0 in /home/kuno/miniconda3/envs/DAJIN2/lib/python3.10/site-packages (from -r requirements.txt (line 2)) (1.10.1)\n",
      "Requirement already satisfied: pandas>=1.0.0 in /home/kuno/miniconda3/envs/DAJIN2/lib/python3.10/site-packages (from -r requirements.txt (line 3)) (1.5.3)\n",
      "Requirement already satisfied: scikit-learn>=1.0.0 in /home/kuno/miniconda3/envs/DAJIN2/lib/python3.10/site-packages (from -r requirements.txt (line 4)) (1.2.2)\n",
      "Requirement already satisfied: mappy>=2.0.0 in /home/kuno/miniconda3/envs/DAJIN2/lib/python3.10/site-packages (from -r requirements.txt (line 5)) (2.24)\n",
      "Requirement already satisfied: pysam>=0.19.0 in /home/kuno/miniconda3/envs/DAJIN2/lib/python3.10/site-packages (from -r requirements.txt (line 6)) (0.20.0)\n",
      "Requirement already satisfied: openpyxl>=3.0.0 in /home/kuno/miniconda3/envs/DAJIN2/lib/python3.10/site-packages (from -r requirements.txt (line 7)) (3.1.2)\n",
      "Requirement already satisfied: cstag>=0.3.0 in /home/kuno/miniconda3/envs/DAJIN2/lib/python3.10/site-packages (from -r requirements.txt (line 8)) (0.3.1)\n",
      "Requirement already satisfied: midsv>=0.7.1 in /home/kuno/miniconda3/envs/DAJIN2/lib/python3.10/site-packages (from -r requirements.txt (line 9)) (0.8.4)\n",
      "Requirement already satisfied: wslPath>=0.3.0 in /home/kuno/miniconda3/envs/DAJIN2/lib/python3.10/site-packages (from -r requirements.txt (line 10)) (0.3.1)\n",
      "Requirement already satisfied: Flask>=2.2.0 in /home/kuno/miniconda3/envs/DAJIN2/lib/python3.10/site-packages (from -r requirements.txt (line 11)) (2.2.3)\n",
      "Requirement already satisfied: waitress>=2.1.0 in /home/kuno/miniconda3/envs/DAJIN2/lib/python3.10/site-packages (from -r requirements.txt (line 12)) (2.1.2)\n",
      "Requirement already satisfied: Jinja2>=3.1.0 in /home/kuno/miniconda3/envs/DAJIN2/lib/python3.10/site-packages (from -r requirements.txt (line 13)) (3.1.2)\n",
      "Requirement already satisfied: plotly>=5.0.0 in /home/kuno/miniconda3/envs/DAJIN2/lib/python3.10/site-packages (from -r requirements.txt (line 14)) (5.13.1)\n",
      "Requirement already satisfied: kaleido>=0.2.0 in /home/kuno/miniconda3/envs/DAJIN2/lib/python3.10/site-packages (from -r requirements.txt (line 15)) (0.2.1)\n",
      "Requirement already satisfied: pytz>=2020.1 in /home/kuno/miniconda3/envs/DAJIN2/lib/python3.10/site-packages (from pandas>=1.0.0->-r requirements.txt (line 3)) (2022.6)\n",
      "Requirement already satisfied: python-dateutil>=2.8.1 in /home/kuno/miniconda3/envs/DAJIN2/lib/python3.10/site-packages (from pandas>=1.0.0->-r requirements.txt (line 3)) (2.8.2)\n",
      "Requirement already satisfied: threadpoolctl>=2.0.0 in /home/kuno/miniconda3/envs/DAJIN2/lib/python3.10/site-packages (from scikit-learn>=1.0.0->-r requirements.txt (line 4)) (3.1.0)\n",
      "Requirement already satisfied: joblib>=1.1.1 in /home/kuno/miniconda3/envs/DAJIN2/lib/python3.10/site-packages (from scikit-learn>=1.0.0->-r requirements.txt (line 4)) (1.2.0)\n",
      "Requirement already satisfied: et-xmlfile in /home/kuno/miniconda3/envs/DAJIN2/lib/python3.10/site-packages (from openpyxl>=3.0.0->-r requirements.txt (line 7)) (1.1.0)\n",
      "Requirement already satisfied: itsdangerous>=2.0 in /home/kuno/miniconda3/envs/DAJIN2/lib/python3.10/site-packages (from Flask>=2.2.0->-r requirements.txt (line 11)) (2.1.2)\n",
      "Requirement already satisfied: Werkzeug>=2.2.2 in /home/kuno/miniconda3/envs/DAJIN2/lib/python3.10/site-packages (from Flask>=2.2.0->-r requirements.txt (line 11)) (2.2.2)\n",
      "Requirement already satisfied: click>=8.0 in /home/kuno/miniconda3/envs/DAJIN2/lib/python3.10/site-packages (from Flask>=2.2.0->-r requirements.txt (line 11)) (8.1.3)\n",
      "Requirement already satisfied: MarkupSafe>=2.0 in /home/kuno/miniconda3/envs/DAJIN2/lib/python3.10/site-packages (from Jinja2>=3.1.0->-r requirements.txt (line 13)) (2.1.1)\n",
      "Requirement already satisfied: tenacity>=6.2.0 in /home/kuno/miniconda3/envs/DAJIN2/lib/python3.10/site-packages (from plotly>=5.0.0->-r requirements.txt (line 14)) (8.1.0)\n",
      "Requirement already satisfied: six>=1.5 in /home/kuno/miniconda3/envs/DAJIN2/lib/python3.10/site-packages (from python-dateutil>=2.8.1->pandas>=1.0.0->-r requirements.txt (line 3)) (1.16.0)\n"
     ]
    }
   ],
   "source": [
    "%%bash\n",
    "pip install -U pip\n",
    "pip install -U -r requirements.txt"
   ]
  },
  {
   "attachments": {},
   "cell_type": "markdown",
   "metadata": {},
   "source": [
    "# 実験"
   ]
  },
  {
   "cell_type": "code",
   "execution_count": 10,
   "metadata": {},
   "outputs": [
    {
     "name": "stdout",
     "output_type": "stream",
     "text": [
      "/mnt/c/Users/akihi/Documents/GitHub/DAJIN2\n",
      "DAJINResults\n"
     ]
    }
   ],
   "source": [
    "%%bash\n",
    "pwd\n",
    "rm -rf \"DAJINResults/.tempdir\"\n",
    "find DAJINResults"
   ]
  },
  {
   "cell_type": "code",
   "execution_count": 11,
   "metadata": {},
   "outputs": [
    {
     "name": "stdout",
     "output_type": "stream",
     "text": [
      "processing test-pm-tyr...\n"
     ]
    },
    {
     "name": "stderr",
     "output_type": "stream",
     "text": [
      "Traceback (most recent call last):\n",
      "  File \"/mnt/c/Users/akihi/Documents/GitHub/DAJIN2/misc/quickstart.py\", line 170, in <module>\n",
      "    clust_sample = clustering.add_labels(classif_sample, TEMPDIR, CONTROL_NAME, FASTA_ALLELES, THREADS)\n",
      "  File \"/mnt/c/Users/akihi/Documents/GitHub/DAJIN2/src/DAJIN2/core/clustering/clustering.py\", line 36, in add_labels\n",
      "    scores_control = annotate_score(cssplits_control, mutation_score)\n",
      "  File \"/mnt/c/Users/akihi/Documents/GitHub/DAJIN2/src/DAJIN2/core/clustering/annotate_score.py\", line 9, in annotate_score\n",
      "    if not mutation_score[i]:\n",
      "IndexError: list index out of range\n",
      "\n",
      "real\t1m17.917s\n",
      "user\t0m49.459s\n",
      "sys\t0m6.224s\n"
     ]
    },
    {
     "ename": "CalledProcessError",
     "evalue": "Command 'b'# Tyr 01%\\ntime python misc/quickstart.py\\n'' returned non-zero exit status 1.",
     "output_type": "error",
     "traceback": [
      "\u001b[0;31m---------------------------------------------------------------------------\u001b[0m",
      "\u001b[0;31mCalledProcessError\u001b[0m                        Traceback (most recent call last)",
      "Cell \u001b[0;32mIn[11], line 1\u001b[0m\n\u001b[0;32m----> 1\u001b[0m get_ipython()\u001b[39m.\u001b[39;49mrun_cell_magic(\u001b[39m'\u001b[39;49m\u001b[39mbash\u001b[39;49m\u001b[39m'\u001b[39;49m, \u001b[39m'\u001b[39;49m\u001b[39m'\u001b[39;49m, \u001b[39m'\u001b[39;49m\u001b[39m# Tyr 01\u001b[39;49m\u001b[39m%\u001b[39;49m\u001b[39m\\n\u001b[39;49;00m\u001b[39mtime python misc/quickstart.py\u001b[39;49m\u001b[39m\\n\u001b[39;49;00m\u001b[39m'\u001b[39;49m)\n",
      "File \u001b[0;32m~/miniconda3/envs/DAJIN2/lib/python3.10/site-packages/IPython/core/interactiveshell.py:2430\u001b[0m, in \u001b[0;36mInteractiveShell.run_cell_magic\u001b[0;34m(self, magic_name, line, cell)\u001b[0m\n\u001b[1;32m   2428\u001b[0m \u001b[39mwith\u001b[39;00m \u001b[39mself\u001b[39m\u001b[39m.\u001b[39mbuiltin_trap:\n\u001b[1;32m   2429\u001b[0m     args \u001b[39m=\u001b[39m (magic_arg_s, cell)\n\u001b[0;32m-> 2430\u001b[0m     result \u001b[39m=\u001b[39m fn(\u001b[39m*\u001b[39;49margs, \u001b[39m*\u001b[39;49m\u001b[39m*\u001b[39;49mkwargs)\n\u001b[1;32m   2432\u001b[0m \u001b[39m# The code below prevents the output from being displayed\u001b[39;00m\n\u001b[1;32m   2433\u001b[0m \u001b[39m# when using magics with decodator @output_can_be_silenced\u001b[39;00m\n\u001b[1;32m   2434\u001b[0m \u001b[39m# when the last Python token in the expression is a ';'.\u001b[39;00m\n\u001b[1;32m   2435\u001b[0m \u001b[39mif\u001b[39;00m \u001b[39mgetattr\u001b[39m(fn, magic\u001b[39m.\u001b[39mMAGIC_OUTPUT_CAN_BE_SILENCED, \u001b[39mFalse\u001b[39;00m):\n",
      "File \u001b[0;32m~/miniconda3/envs/DAJIN2/lib/python3.10/site-packages/IPython/core/magics/script.py:153\u001b[0m, in \u001b[0;36mScriptMagics._make_script_magic.<locals>.named_script_magic\u001b[0;34m(line, cell)\u001b[0m\n\u001b[1;32m    151\u001b[0m \u001b[39melse\u001b[39;00m:\n\u001b[1;32m    152\u001b[0m     line \u001b[39m=\u001b[39m script\n\u001b[0;32m--> 153\u001b[0m \u001b[39mreturn\u001b[39;00m \u001b[39mself\u001b[39;49m\u001b[39m.\u001b[39;49mshebang(line, cell)\n",
      "File \u001b[0;32m~/miniconda3/envs/DAJIN2/lib/python3.10/site-packages/IPython/core/magics/script.py:305\u001b[0m, in \u001b[0;36mScriptMagics.shebang\u001b[0;34m(self, line, cell)\u001b[0m\n\u001b[1;32m    300\u001b[0m \u001b[39mif\u001b[39;00m args\u001b[39m.\u001b[39mraise_error \u001b[39mand\u001b[39;00m p\u001b[39m.\u001b[39mreturncode \u001b[39m!=\u001b[39m \u001b[39m0\u001b[39m:\n\u001b[1;32m    301\u001b[0m     \u001b[39m# If we get here and p.returncode is still None, we must have\u001b[39;00m\n\u001b[1;32m    302\u001b[0m     \u001b[39m# killed it but not yet seen its return code. We don't wait for it,\u001b[39;00m\n\u001b[1;32m    303\u001b[0m     \u001b[39m# in case it's stuck in uninterruptible sleep. -9 = SIGKILL\u001b[39;00m\n\u001b[1;32m    304\u001b[0m     rc \u001b[39m=\u001b[39m p\u001b[39m.\u001b[39mreturncode \u001b[39mor\u001b[39;00m \u001b[39m-\u001b[39m\u001b[39m9\u001b[39m\n\u001b[0;32m--> 305\u001b[0m     \u001b[39mraise\u001b[39;00m CalledProcessError(rc, cell)\n",
      "\u001b[0;31mCalledProcessError\u001b[0m: Command 'b'# Tyr 01%\\ntime python misc/quickstart.py\\n'' returned non-zero exit status 1."
     ]
    }
   ],
   "source": [
    "%%bash\n",
    "# Tyr 01%\n",
    "time python misc/quickstart.py"
   ]
  },
  {
   "attachments": {},
   "cell_type": "markdown",
   "metadata": {},
   "source": [
    "### エラーが発生した\n",
    "\n",
    "```text\n",
    "Traceback (most recent call last):\n",
    "  File \"/mnt/c/Users/akihi/Documents/GitHub/DAJIN2/misc/quickstart.py\", line 170, in <module>\n",
    "    clust_sample = clustering.add_labels(classif_sample, TEMPDIR, CONTROL_NAME, FASTA_ALLELES, THREADS)\n",
    "  File \"/mnt/c/Users/akihi/Documents/GitHub/DAJIN2/src/DAJIN2/core/clustering/clustering.py\", line 36, in add_labels\n",
    "    scores_control = annotate_score(cssplits_control, mutation_score)\n",
    "  File \"/mnt/c/Users/akihi/Documents/GitHub/DAJIN2/src/DAJIN2/core/clustering/annotate_score.py\", line 9, in annotate_score\n",
    "    if not mutation_score[i]:\n",
    "IndexError: list index out of range\n",
    "```\n",
    "ということで、`clustering/annotate_score`のエラーである"
   ]
  },
  {
   "cell_type": "code",
   "execution_count": 12,
   "metadata": {},
   "outputs": [
    {
     "name": "stdout",
     "output_type": "stream",
     "text": [
      "processing test-pm-tyr...\n"
     ]
    }
   ],
   "source": [
    "from __future__ import annotations\n",
    "\n",
    "import sys, os\n",
    "from pathlib import Path\n",
    "\n",
    "import hashlib\n",
    "from collections import defaultdict\n",
    "from pathlib import Path\n",
    "from importlib import reload\n",
    "\n",
    "from src.DAJIN2.core import preprocess, classification, clustering, consensus, report\n",
    "from src.DAJIN2.core.clustering import clustering\n",
    "\n",
    "reload(preprocess)\n",
    "reload(classification)\n",
    "reload(clustering)\n",
    "reload(consensus)\n",
    "reload(report)\n",
    "\n",
    "\n",
    "##### # * Point mutation\n",
    "SAMPLE, CONTROL, ALLELE, NAME, GENOME, DEBUG, THREADS = (\n",
    "    \"examples/pm-tyr/barcode31.fq.gz\",\n",
    "    \"examples/pm-tyr/barcode32.fq.gz\",\n",
    "    \"examples/pm-tyr/design_tyr.fa\",\n",
    "    \"test-pm-tyr\",\n",
    "    \"mm10\",\n",
    "    True,\n",
    "    14,\n",
    ")\n",
    "\n",
    "print(f\"processing {NAME}...\")\n",
    "\n",
    "##########################################################\n",
    "# Check inputs\n",
    "##########################################################\n",
    "preprocess.check_inputs.check_files(SAMPLE, CONTROL, ALLELE)\n",
    "TEMPDIR = Path(\"DAJINResults\", \".tempdir\", NAME)\n",
    "IS_CACHE_CONTROL = preprocess.check_inputs.exists_cached_control(CONTROL, TEMPDIR)\n",
    "IS_CACHE_GENOME = preprocess.check_inputs.exists_cached_genome(GENOME, TEMPDIR, IS_CACHE_CONTROL)\n",
    "UCSC_URL, GOLDENPATH_URL = None, None\n",
    "if GENOME and not IS_CACHE_GENOME:\n",
    "    UCSC_URL, GOLDENPATH_URL = preprocess.check_inputs.check_and_fetch_genome(GENOME)\n",
    "\n",
    "##########################################################\n",
    "# Format inputs\n",
    "##########################################################\n",
    "SAMPLE_NAME = preprocess.format_inputs.extract_basename(SAMPLE)\n",
    "CONTROL_NAME = preprocess.format_inputs.extract_basename(CONTROL)\n",
    "FASTA_ALLELES = preprocess.format_inputs.dictionize_allele(ALLELE)\n",
    "\n",
    "preprocess.format_inputs.make_directories(TEMPDIR, SAMPLE_NAME, CONTROL_NAME)\n",
    "\n",
    "if GENOME:\n",
    "    GENOME_COODINATES = preprocess.format_inputs.fetch_coodinate(GENOME, UCSC_URL, FASTA_ALLELES[\"control\"])\n",
    "    CHROME_SIZE = preprocess.format_inputs.fetch_chrom_size(GENOME_COODINATES[\"chr\"], GENOME, GOLDENPATH_URL)\n",
    "    preprocess.format_inputs.cache_coodinates_and_chromsize(TEMPDIR, GENOME, GENOME_COODINATES, CHROME_SIZE)\n"
   ]
  },
  {
   "cell_type": "code",
   "execution_count": 13,
   "metadata": {},
   "outputs": [],
   "source": [
    "########################################################################\n",
    "# Classify alleles\n",
    "########################################################################\n",
    "\n",
    "classif_sample = classification.classify_alleles(TEMPDIR, SAMPLE_NAME)\n",
    "\n",
    "for classif in classif_sample:\n",
    "    classif[\"SV\"] = classification.detect_sv(classif[\"CSSPLIT\"], threshold=50)"
   ]
  },
  {
   "cell_type": "code",
   "execution_count": 14,
   "metadata": {},
   "outputs": [
    {
     "ename": "IndexError",
     "evalue": "list index out of range",
     "output_type": "error",
     "traceback": [
      "\u001b[0;31m---------------------------------------------------------------------------\u001b[0m",
      "\u001b[0;31mIndexError\u001b[0m                                Traceback (most recent call last)",
      "Cell \u001b[0;32mIn[14], line 5\u001b[0m\n\u001b[1;32m      1\u001b[0m \u001b[39m########################################################################\u001b[39;00m\n\u001b[1;32m      2\u001b[0m \u001b[39m# Clustering\u001b[39;00m\n\u001b[1;32m      3\u001b[0m \u001b[39m########################################################################\u001b[39;00m\n\u001b[0;32m----> 5\u001b[0m clust_sample \u001b[39m=\u001b[39m clustering\u001b[39m.\u001b[39;49madd_labels(classif_sample, TEMPDIR, CONTROL_NAME, FASTA_ALLELES, THREADS)\n\u001b[1;32m      6\u001b[0m clust_sample \u001b[39m=\u001b[39m clustering\u001b[39m.\u001b[39madd_readnum(clust_sample)\n\u001b[1;32m      7\u001b[0m clust_sample \u001b[39m=\u001b[39m clustering\u001b[39m.\u001b[39madd_percent(clust_sample)\n",
      "File \u001b[0;32m/mnt/c/Users/akihi/Documents/GitHub/DAJIN2/src/DAJIN2/core/clustering/clustering.py:36\u001b[0m, in \u001b[0;36madd_labels\u001b[0;34m(classif_sample, TEMPDIR, CONTROL_NAME, FASTA_ALLELES, THREADS)\u001b[0m\n\u001b[1;32m     34\u001b[0m cssplits_sample \u001b[39m=\u001b[39m compress_insertion(cssplits_sample)\n\u001b[1;32m     35\u001b[0m mutation_score \u001b[39m=\u001b[39m make_score(cssplits_control, cssplits_sample, knockin_alleles[allele])\n\u001b[0;32m---> 36\u001b[0m scores_control \u001b[39m=\u001b[39m annotate_score(cssplits_control, mutation_score)\n\u001b[1;32m     37\u001b[0m scores_sample \u001b[39m=\u001b[39m annotate_score(cssplits_sample, mutation_score)\n\u001b[1;32m     38\u001b[0m labels \u001b[39m=\u001b[39m return_labels(scores_sample, scores_control)\n",
      "File \u001b[0;32m/mnt/c/Users/akihi/Documents/GitHub/DAJIN2/src/DAJIN2/core/clustering/annotate_score.py:9\u001b[0m, in \u001b[0;36mannotate_score\u001b[0;34m(cssplits, mutation_score)\u001b[0m\n\u001b[1;32m      7\u001b[0m score \u001b[39m=\u001b[39m [\u001b[39m0\u001b[39m]\n\u001b[1;32m      8\u001b[0m \u001b[39mfor\u001b[39;00m i \u001b[39min\u001b[39;00m \u001b[39mrange\u001b[39m(\u001b[39m1\u001b[39m, \u001b[39mlen\u001b[39m(cssplit) \u001b[39m-\u001b[39m \u001b[39m1\u001b[39m):\n\u001b[0;32m----> 9\u001b[0m     \u001b[39mif\u001b[39;00m \u001b[39mnot\u001b[39;00m mutation_score[i]:\n\u001b[1;32m     10\u001b[0m         score\u001b[39m.\u001b[39mappend(\u001b[39m0\u001b[39m)\n\u001b[1;32m     11\u001b[0m         \u001b[39mcontinue\u001b[39;00m\n",
      "\u001b[0;31mIndexError\u001b[0m: list index out of range"
     ]
    }
   ],
   "source": [
    "########################################################################\n",
    "# Clustering\n",
    "########################################################################\n",
    "\n",
    "clust_sample = clustering.add_labels(classif_sample, TEMPDIR, CONTROL_NAME, FASTA_ALLELES, THREADS)\n",
    "clust_sample = clustering.add_readnum(clust_sample)\n",
    "clust_sample = clustering.add_percent(clust_sample)\n",
    "clust_sample = clustering.update_labels(clust_sample)\n"
   ]
  },
  {
   "attachments": {},
   "cell_type": "markdown",
   "metadata": {},
   "source": [
    "### ☝️ 確かにエラーが再現された"
   ]
  },
  {
   "cell_type": "code",
   "execution_count": 15,
   "metadata": {},
   "outputs": [],
   "source": [
    "from __future__ import annotations\n",
    "from itertools import groupby\n",
    "from copy import deepcopy\n",
    "from collections import defaultdict\n",
    "from pathlib import Path\n",
    "import midsv\n",
    "\n",
    "from src.DAJIN2.core.preprocess.correct_knockin import extract_knockin_loci\n",
    "from src.DAJIN2.core.clustering.preprocess import replace_both_ends_n, compress_insertion\n",
    "from src.DAJIN2.core.clustering.make_score import make_score\n",
    "from src.DAJIN2.core.clustering.annotate_score import annotate_score\n",
    "from src.DAJIN2.core.clustering.reorder_labels import reorder_labels\n",
    "from src.DAJIN2.core.clustering.return_labels import return_labels"
   ]
  },
  {
   "cell_type": "code",
   "execution_count": 16,
   "metadata": {},
   "outputs": [],
   "source": [
    "paths_midsv = list(Path(TEMPDIR, \"midsv\").glob(f\"{CONTROL_NAME}_splice_*\"))\n",
    "cssplits_control_by_alleles = defaultdict(list)\n",
    "for path_midsv in paths_midsv:\n",
    "    midsv_control = midsv.read_jsonl(path_midsv)\n",
    "    allele = path_midsv.stem.split(\"_\")[-1]\n",
    "    cssplits = [cs[\"CSSPLIT\"].split(\",\") for cs in midsv_control]\n",
    "    cssplits_control_by_alleles[allele] = cssplits"
   ]
  },
  {
   "cell_type": "code",
   "execution_count": 17,
   "metadata": {},
   "outputs": [
    {
     "name": "stdout",
     "output_type": "stream",
     "text": [
      "albino\n"
     ]
    },
    {
     "ename": "IndexError",
     "evalue": "list index out of range",
     "output_type": "error",
     "traceback": [
      "\u001b[0;31m---------------------------------------------------------------------------\u001b[0m",
      "\u001b[0;31mIndexError\u001b[0m                                Traceback (most recent call last)",
      "Cell \u001b[0;32mIn[17], line 14\u001b[0m\n\u001b[1;32m     12\u001b[0m cssplits_sample \u001b[39m=\u001b[39m compress_insertion(cssplits_sample)\n\u001b[1;32m     13\u001b[0m mutation_score \u001b[39m=\u001b[39m make_score(cssplits_control, cssplits_sample, knockin_alleles[allele])\n\u001b[0;32m---> 14\u001b[0m scores_control \u001b[39m=\u001b[39m annotate_score(cssplits_control, mutation_score)\n\u001b[1;32m     15\u001b[0m scores_sample \u001b[39m=\u001b[39m annotate_score(cssplits_sample, mutation_score)\n\u001b[1;32m     16\u001b[0m labels \u001b[39m=\u001b[39m return_labels(scores_sample, scores_control)\n",
      "File \u001b[0;32m/mnt/c/Users/akihi/Documents/GitHub/DAJIN2/src/DAJIN2/core/clustering/annotate_score.py:9\u001b[0m, in \u001b[0;36mannotate_score\u001b[0;34m(cssplits, mutation_score)\u001b[0m\n\u001b[1;32m      7\u001b[0m score \u001b[39m=\u001b[39m [\u001b[39m0\u001b[39m]\n\u001b[1;32m      8\u001b[0m \u001b[39mfor\u001b[39;00m i \u001b[39min\u001b[39;00m \u001b[39mrange\u001b[39m(\u001b[39m1\u001b[39m, \u001b[39mlen\u001b[39m(cssplit) \u001b[39m-\u001b[39m \u001b[39m1\u001b[39m):\n\u001b[0;32m----> 9\u001b[0m     \u001b[39mif\u001b[39;00m \u001b[39mnot\u001b[39;00m mutation_score[i]:\n\u001b[1;32m     10\u001b[0m         score\u001b[39m.\u001b[39mappend(\u001b[39m0\u001b[39m)\n\u001b[1;32m     11\u001b[0m         \u001b[39mcontinue\u001b[39;00m\n",
      "\u001b[0;31mIndexError\u001b[0m: list index out of range"
     ]
    }
   ],
   "source": [
    "knockin_alleles = extract_knockin_loci(TEMPDIR)\n",
    "labels_all = []\n",
    "max_label = 0\n",
    "classif_sample.sort(key=lambda x: (x[\"ALLELE\"], x[\"SV\"]))\n",
    "for (allele, _), group in groupby(classif_sample, key=lambda x: (x[\"ALLELE\"], x[\"SV\"])):\n",
    "    print(allele)\n",
    "    cssplits_control = cssplits_control_by_alleles[allele]\n",
    "    cssplits_sample = [cs[\"CSSPLIT\"].split(\",\") for cs in group]\n",
    "    cssplits_control = replace_both_ends_n(cssplits_control)\n",
    "    cssplits_sample = replace_both_ends_n(cssplits_sample)\n",
    "    cssplits_control = compress_insertion(cssplits_control)\n",
    "    cssplits_sample = compress_insertion(cssplits_sample)\n",
    "    mutation_score = make_score(cssplits_control, cssplits_sample, knockin_alleles[allele])\n",
    "    scores_control = annotate_score(cssplits_control, mutation_score)\n",
    "    scores_sample = annotate_score(cssplits_sample, mutation_score)\n",
    "    labels = return_labels(scores_sample, scores_control)\n",
    "    labels_reorder = reorder_labels(labels, start=max_label)\n",
    "    max_label = max(labels_reorder)\n",
    "    labels_all.extend(labels_reorder)\n",
    "clust_sample = deepcopy(classif_sample)\n",
    "for clust, label in zip(clust_sample, labels_all):\n",
    "    clust[\"LABEL\"] = label\n"
   ]
  },
  {
   "attachments": {},
   "cell_type": "markdown",
   "metadata": {},
   "source": [
    "### allele=\"albino\"でエラーが起きている"
   ]
  },
  {
   "cell_type": "code",
   "execution_count": 19,
   "metadata": {},
   "outputs": [],
   "source": [
    "allele=\"albino\""
   ]
  },
  {
   "cell_type": "code",
   "execution_count": 20,
   "metadata": {},
   "outputs": [],
   "source": [
    "cssplits_control = cssplits_control_by_alleles[allele]\n",
    "cssplits_sample = [cs[\"CSSPLIT\"].split(\",\") for cs in group]\n",
    "cssplits_control = replace_both_ends_n(cssplits_control)\n",
    "cssplits_sample = replace_both_ends_n(cssplits_sample)\n",
    "cssplits_control = compress_insertion(cssplits_control)\n",
    "cssplits_sample = compress_insertion(cssplits_sample)"
   ]
  },
  {
   "cell_type": "code",
   "execution_count": 21,
   "metadata": {},
   "outputs": [],
   "source": [
    "from copy import deepcopy\n",
    "cssplits = deepcopy(cssplits_control)"
   ]
  },
  {
   "cell_type": "code",
   "execution_count": 22,
   "metadata": {},
   "outputs": [
    {
     "ename": "IndexError",
     "evalue": "list index out of range",
     "output_type": "error",
     "traceback": [
      "\u001b[0;31m---------------------------------------------------------------------------\u001b[0m",
      "\u001b[0;31mIndexError\u001b[0m                                Traceback (most recent call last)",
      "Cell \u001b[0;32mIn[22], line 5\u001b[0m\n\u001b[1;32m      3\u001b[0m score \u001b[39m=\u001b[39m [\u001b[39m0\u001b[39m]\n\u001b[1;32m      4\u001b[0m \u001b[39mfor\u001b[39;00m i \u001b[39min\u001b[39;00m \u001b[39mrange\u001b[39m(\u001b[39m1\u001b[39m, \u001b[39mlen\u001b[39m(cssplit) \u001b[39m-\u001b[39m \u001b[39m1\u001b[39m):\n\u001b[0;32m----> 5\u001b[0m     \u001b[39mif\u001b[39;00m \u001b[39mnot\u001b[39;00m mutation_score[i]:\n\u001b[1;32m      6\u001b[0m         score\u001b[39m.\u001b[39mappend(\u001b[39m0\u001b[39m)\n\u001b[1;32m      7\u001b[0m         \u001b[39mcontinue\u001b[39;00m\n",
      "\u001b[0;31mIndexError\u001b[0m: list index out of range"
     ]
    }
   ],
   "source": [
    "scores = []\n",
    "for idx, cssplit in enumerate(cssplits):\n",
    "    score = [0]\n",
    "    for i in range(1, len(cssplit) - 1):\n",
    "        if not mutation_score[i]:\n",
    "            score.append(0)\n",
    "            continue\n",
    "        kmer = \",\".join([cssplit[i - 1], cssplit[i], cssplit[i + 1]])\n",
    "        score.append(mutation_score[i].get(kmer, 0))\n",
    "    scores.append(score + [0])\n"
   ]
  },
  {
   "cell_type": "code",
   "execution_count": 23,
   "metadata": {},
   "outputs": [
    {
     "name": "stdout",
     "output_type": "stream",
     "text": [
      "839\n",
      "2932\n",
      "2845\n",
      "2845\n"
     ]
    }
   ],
   "source": [
    "print(idx)\n",
    "print(len(cssplit))\n",
    "print(len(mutation_score))\n",
    "print(len(FASTA_ALLELES[allele]))"
   ]
  },
  {
   "cell_type": "markdown",
   "metadata": {},
   "source": [
    "### `839`番目のリード長が`2932`と、アルビノ配列よりも長くなっている"
   ]
  },
  {
   "cell_type": "code",
   "execution_count": 24,
   "metadata": {},
   "outputs": [
    {
     "name": "stdout",
     "output_type": "stream",
     "text": [
      "[PosixPath('DAJINResults/.tempdir/test-pm-tyr/midsv/barcode32_splice_albino.jsonl'), PosixPath('DAJINResults/.tempdir/test-pm-tyr/midsv/barcode32_splice_control.jsonl')]\n"
     ]
    }
   ],
   "source": [
    "paths_midsv = list(Path(TEMPDIR, \"midsv\").glob(f\"{CONTROL_NAME}_splice_*\"))\n",
    "cssplits_control_by_alleles = defaultdict(list)\n",
    "print(paths_midsv)\n",
    "for path_midsv in paths_midsv:\n",
    "    if not path_midsv.stem.endswith(allele):\n",
    "        continue\n",
    "    midsv_control = midsv.read_jsonl(path_midsv)\n",
    "    cssplits = [cs[\"CSSPLIT\"].split(\",\") for cs in midsv_control]\n",
    "    cssplits_control_by_alleles[allele] = cssplits"
   ]
  },
  {
   "cell_type": "code",
   "execution_count": 25,
   "metadata": {},
   "outputs": [
    {
     "data": {
      "text/plain": [
       "dict_keys(['QNAME', 'RNAME', 'CSSPLIT', 'QSCORE'])"
      ]
     },
     "execution_count": 25,
     "metadata": {},
     "output_type": "execute_result"
    }
   ],
   "source": [
    "midsv_control[idx].keys()"
   ]
  },
  {
   "cell_type": "code",
   "execution_count": 26,
   "metadata": {},
   "outputs": [
    {
     "data": {
      "text/plain": [
       "2932"
      ]
     },
     "execution_count": 26,
     "metadata": {},
     "output_type": "execute_result"
    }
   ],
   "source": [
    "len(midsv_control[idx][\"CSSPLIT\"].split(\",\"))"
   ]
  },
  {
   "cell_type": "code",
   "execution_count": 27,
   "metadata": {},
   "outputs": [
    {
     "name": "stdout",
     "output_type": "stream",
     "text": [
      "de8715b1-7f61-4b2e-83c4-e949ab9aaf37\n"
     ]
    }
   ],
   "source": [
    "print(midsv_control[idx][\"QNAME\"])"
   ]
  },
  {
   "cell_type": "code",
   "execution_count": 28,
   "metadata": {},
   "outputs": [
    {
     "name": "stdout",
     "output_type": "stream",
     "text": [
      "N,N,N,N,=T,=T,=G,=A,=A,=G,=C,=A,=G,=T,=T,=C,=A,=C,=C,=A,=A,=A,=A,=T,=A,=A,=C,=A,=A,=A,=G,=T,=A,=A,=C,=A,=A,=A,=G,=T,=A,=A,=G,=A,=T,=A,=T,=C,=T,=T,=T,=G,=G,=A,=A,=T,=A,=A,=T,=C,=A,=A,=T,=T,=C,=A,=A,=G,=A,=T,=A,=A,=T,=C,=A,=A,=G,=G,=A,=A,=A,=A,=A,=T,=G,=A,=G,=A,=G,=G,=C,=A,=A,=C,=T,=A,=T,=T,=T,=T,=A,=G,=A,=C,=T,=G,=A,=T,=T,=A,=C,=T,=T,=T,=T,=A,=T,=A,=A,=A,=A,=T,=A,=A,=A,=T,=A,=A,=G,=C,=T,=C,=A,=G,=C,=T,=T,=A,=G,=C,=C,=A,=G,=A,=T,=A,=T,=A,=A,=G,=C,=A,=A,=T,=A,=T,=T,=C,=T,=G,=A,=G,=T,=T,=C,=T,=G,=A,=A,=G,=A,=A,=A,=A,=A,=T,=T,=T,=T,=T,=G,=A,=C,=A,=A,=A,=A,=T,=G,=A,=G,=T,=T,=C,=T,=A,=T,=A,=A,=A,=T,=G,=T,=T,=A,=T,=T,=G,=T,=C,=T,=A,=C,=T,=T,=A,=T,=G,=A,=T,=C,=T,=C,=T,=A,=A,=A,=T,=A,=C,=A,=A,=C,=A,=G,=G,=C,=T,=T,=G,=T,=A,=T,=T,=C,=A,=G,=A,=A,=T,=C,=T,=A,=G,=A,=T,=G,=T,=T,=T,=C,=A,=T,=G,=A,=C,=C,=T,=T,=T,=A,=T,=T,=C,=A,=T,=A,=A,=G,=A,=G,=A,=T,=G,=A,=T,=G,=T,=A,=T,=T,=C,=T,=T,=G,=A,=T,=A,=C,=T,=A,=C,=T,=T,=C,=T,=C,=A,=T,=T,=T,=G,=C,=A,=A,=A,=T,=T,=C,=C,=A,=A,=T,=T,=A,=T,=T,=A,=T,=T,=A,=A,=T,=T,=T,=C,=A,=T,=A,=T,=C,=A,=A,=T,=T,=A,=G,=A,=A,=T,=A,=A,=T,=A,=T,=A,=T,=C,=T,=T,=C,=C,=T,=T,=C,=A,=A,=T,=T,=T,=A,=G,=T,=T,=A,=C,=C,=T,=C,=A,=C,=T,=A,=T,=G,=G,=G,=C,=T,=A,=T,=G,=T,=A,=C,=A,=A,=A,=C,=T,=C,=C,=A,=A,=G,=A,=A,=A,=A,=A,=G,=T,=T,=A,=G,=T,=C,=A,=T,=G,=T,=G,=C,=T,=T,=T,=G,=C,=A,=G,=A,=A,=G,=A,=T,=A,=A,=A,=A,=G,=C,=T,=T,=A,=G,=T,=G,=T,=A,=A,=A,=A,=C,=A,=G,=G,=C,=T,=G,=A,=G,=A,=G,=T,=A,=T,=T,=T,=G,=A,=T,=G,=T,=A,=A,=G,=A,=A,=G,=G,=G,=G,=A,=G,=T,=G,=G,=T,=T,=A,=T,=A,=T,=A,=G,=G,=T,=C,=T,=T,=A,=G,=C,=C,=A,=A,=A,=A,=C,=A,=T,=G,=T,=G,=A,=T,=A,=G,=T,=C,=A,=C,=T,=C,=C,=A,=G,=G,=G,=G,=T,=T,=G,=C,=T,=G,=G,=A,=A,=A,=A,=G,=A,=A,=G,=T,=C,=T,=G,=T,=G,=A,=C,=A,=C,=T,=C,=A,=T,=T,=A,=A,=C,=C,=T,=A,=T,=T,=G,=G,=T,=G,=C,=A,=G,=A,=T,=T,=T,=T,=G,=T,=A,=T,=G,=A,=T,=C,=T,=A,=A,=A,=G,=G,=A,=G,=A,=A,=A,=A,=T,=G,=T,=T,=C,=T,=T,=G,=G,=C,=T,=G,=T,=T,=T,=T,=G,=T,=A,=T,=T,=G,=C,=C,=T,=T,=C,=T,=G,=T,=G,=G,=A,=G,=T,=T,=T,=C,=C,=A,=G,=A,=T,=C,=T,=C,=T,=G,=A,=T,=G,=G,=C,=C,=A,=T,=T,=T,=T,=C,=C,=T,=C,=G,=A,=G,=C,=C,=T,=G,=T,=G,=C,=C,=T,=C,=C,=T,=C,=T,=A,=A,=G,=A,=A,=C,=T,=T,=G,=T,=T,=G,=G,=C,=A,=A,=A,=A,=G,=A,=A,=T,=G,=C,=T,=G,=C,=C,=C,=A,=C,=C,=A,=T,=G,=G,=A,=T,=G,=G,=G,=T,=G,=A,=T,=G,=G,=G,=A,=G,=T,=C,=C,=C,=T,=G,=C,=G,=G,=C,=C,=A,=G,=C,=T,=T,=T,=C,=A,=G,=G,=C,=A,=G,=A,=G,=G,=T,=T,=C,=C,=T,=G,=C,=C,=A,=G,=G,=A,=T,=A,=T,=C,=C,=T,=T,=C,=T,=G,=T,=C,=C,=A,=G,=T,=G,=C,=A,=C,=C,=A,=T,=C,=T,=G,=G,=A,=C,=C,=T,=C,=A,=G,=T,=T,=C,=C,=C,=C,=T,=T,=C,=A,=A,=A,=G,=G,=G,=G,=T,=G,=G,=A,=T,=G,=A,=C,=C,*TG,*TA,=G,=A,=G,=T,=C,=C,=T,=G,=G,=C,=C,=C,=T,=C,=T,=G,=T,=G,=T,=T,=T,=T,=A,=T,=A,=A,=T,=A,=G,=G,=A,=C,=C,=T,=G,=C,=C,=A,=G,=T,=G,=C,=T,=C,=A,=G,=G,=C,=A,=A,=C,=T,=T,=C,=A,=T,=G,=G,=G,=T,=T,=T,=C,=A,=A,=C,=T,=G,=C,=G,=G,=A,=A,=A,=C,=T,=G,=T,=A,=A,=G,=T,=T,=T,=G,=G,=A,=T,=T,=T,=G,=G,=G,=G,=G,=C,=C,=C,=A,=A,=A,=T,=T,=G,=T,=A,=C,=A,=G,=A,=G,=A,=A,=G,=C,=G,=A,=G,=T,=C,=T,=T,=G,=A,=T,=T,=A,=G,=A,=A,=G,=A,=A,=A,=C,=A,=T,=T,=T,=T,=T,=G,=A,=T,=T,=T,=G,=A,=G,=T,=G,=T,=C,=T,=C,=C,=G,=A,=A,=A,=A,=G,=A,=A,=T,=A,=A,=G,=T,=T,=C,=T,=T,=T,=T,=C,=T,=T,=A,=C,=C,=T,=C,=A,=C,=T,=T,=T,=A,=G,=C,=A,=A,=A,=A,=C,=A,=T,=A,=C,=T,=A,=T,=C,=A,=G,=C,=T,=C,=A,=G,=T,=C,=T,=A,=T,=G,=T,=C,=A,=T,=C,=C,=C,=C,=A,=C,=A,=G,=G,=C,=A,=C,=C,=T,=A,=T,=G,=G,=C,=C,=A,=A,=A,=T,=G,=A,=A,=C,=A,=A,=T,=G,=G,=G,=T,=C,=A,=A,=C,=A,=C,=C,=C,=A,=T,=G,=T,=T,=T,=A,=A,=T,=G,=A,=T,=A,=T,=C,=A,=A,=C,=A,=T,=C,=T,=A,=C,=G,=A,=C,=C,=T,=C,=T,=T,=T,=G,=T,=A,=T,=G,=G,=A,=T,=G,=C,=A,=T,=T,=A,=C,=T,=A,=T,=G,=T,=G,=T,=C,=A,=A,=G,=G,=G,=A,=C,=A,=C,=A,=C,=T,=G,=C,=T,=T,=G,=G,=G,=G,=G,=C,=T,=C,=T,=G,=A,=A,=A,=T,=A,=T,=G,=G,=A,=G,=G,=G,=A,=C,=A,=T,=T,=G,=A,=T,=T,=T,=T,=G,=C,=C,=C,=A,=T,=G,=A,=A,=G,=C,=A,=C,=C,=A,=G,=G,=G,=T,=T,=T,=C,=T,=G,=C,=C,=T,=T,=G,=G,=C,=A,=C,=A,=G,=A,=C,=T,=T,=T,=T,=C,=T,=T,=G,=T,=T,=A,=T,=T,=G,=T,=G,=G,=G,=A,=A,=C,=A,=A,=G,=A,=A,=A,=T,=T,=C,=G,=A,=G,=A,=A,=C,=T,=A,=A,=C,=T,=G,=G,=G,=G,=A,=T,=G,=A,=G,=A,=A,=C,=T,=T,=C,=A,=C,=T,=G,=T,=T,=C,=C,=A,=T,=A,=C,=T,=G,=G,=G,=A,=T,=T,=G,=G,=A,=G,=A,=G,=A,=T,=G,=C,=A,=G,=A,=A,=A,=A,=C,=T,=G,=T,=G,=A,=C,=A,=T,=T,=T,=G,=C,=A,=C,=A,=G,=A,=T,=G,=A,=G,=T,=A,=C,=T,=T,=G,=G,=G,=A,=G,=G,=T,=C,=G,=T,=C,=A,=C,=C,=C,=T,=G,=A,=A,=A,=A,=T,=C,=C,=T,=A,=A,=C,=T,=T,=A,=C,=T,=C,=A,=G,=C,=C,=C,=A,=G,=C,=A,=T,=C,=C,=T,=T,=C,=T,=T,=C,=T,=C,=C,=T,=C,=C,=T,=G,=G,=C,=A,=G,=G,=T,=A,=A,=G,=A,=T,=G,=C,=A,=C,=T,=A,=T,=A,=T,=A,=G,=A,=G,=A,=G,=A,=G,=T,=T,=G,=C,=A,=A,=A,=G,=A,=C,=T,=G,=G,=T,=A,=C,=T,=T,=C,=A,=G,=C,=A,=G,=C,=C,=A,=C,=A,=T,=T,=T,=T,=C,=A,=T,=G,=C,=T,=C,=T,=G,=T,=G,=A,=G,=C,=A,=T,=C,=T,=C,=T,=G,=A,=T,=A,=A,=T,=A,=T,=C,=T,=C,=A,=G,=G,=G,=C,=A,=G,=A,=A,=A,=A,=T,=G,=T,=G,=C,=C,=T,=T,=A,=C,=T,=A,=A,=C,=A,=G,=A,=T,=G,=T,=T,=A,=A,=T,=G,=C,=T,=T,=C,=T,=T,=G,=A,=T,=T,=T,=C,=T,=T,=T,=T,=T,=C,=T,=C,=T,=T,=T,=T,=G,=A,=G,=A,=A,=C,=T,=C,=T,=T,=C,=A,=A,=A,=G,=T,=T,=G,=T,=T,=A,=T,=T,=A,=A,=A,=C,=A,=A,=A,=T,=A,=T,=C,=T,=A,=T,=G,=T,=G,=C,=T,=T,=A,=T,=T,=T,=G,=T,=C,=T,=T,=A,=A,=T,=A,=T,=C,=T,=A,=A,=C,=A,=G,=C,=T,=T,=A,=G,=T,=T,=A,=G,=A,=T,=T,=T,=C,=T,=A,=A,=G,=C,=T,=G,=C,=T,=A,=T,=A,=A,=A,=C,=A,=A,=G,=G,=A,=C,=T,=G,=A,=T,=T,=G,=G,=T,=T,=C,=A,=C,=C,=A,=C,=T,=G,=T,=A,=T,=T,=G,=T,=T,=A,=G,=C,=A,=C,=C,=T,=C,=C,=T,=A,=T,=G,=G,=T,=A,=T,=C,=T,=G,=G,=A,=A,=T,=A,=A,=A,=C,=A,=G,=T,=A,=A,=C,=T,=C,=A,=G,=T,=T,=A,=T,=T,=T,=A,=A,=G,=A,=A,=T,=G,=G,=A,=T,=G,=A,=G,=A,=A,=A,=C,=C,=A,=G,=A,=T,=T,=A,=T,=C,=T,=T,=A,=G,=T,=T,=C,=A,=T,=G,=T,=T,=T,=C,=T,=G,=A,=G,=T,=A,=A,=T,=A,=T,=T,=A,=A,=A,=A,=T,=T,=A,=A,=T,=A,=T,=T,=A,=A,=C,=A,=G,=T,=A,=A,=A,=A,=T,=C,=C,=A,=T,=A,=A,=G,=T,=A,=T,=G,=C,=T,=A,=C,=T,=T,=T,=A,=A,=A,=A,=T,=A,=T,=A,=A,=A,=T,=C,=T,=C,=T,=G,=G,=C,=C,=A,=A,=A,=A,=C,=C,=A,=A,=G,=A,=C,=T,=T,=A,=T,=T,=A,=T,=T,=C,=A,=G,=G,=A,=T,=C,=T,=T,=C,=A,=A,=G,=A,=G,=A,=A,=A,=G,=T,=G,=C,=T,=G,=A,=G,=A,=T,=A,=A,=T,=T,=C,=A,=C,=T,=A,=A,=G,=T,=A,=T,=C,=A,=G,=A,=G,=A,=T,=G,=A,=C,=C,=T,=T,=T,=A,=T,=T,=A,=C,=A,=T,=G,=A,=T,=T,=G,=C,=C,=T,=G,=A,=T,=A,=G,=A,=A,=A,=A,=A,=A,=T,=G,=A,=T,=T,=A,=C,=A,=C,=A,=C,=A,=C,=A,=C,=A,=A,=A,=A,=A,=A,=A,=T,=C,=T,=T,=C,=A,=G,=T,=T,=G,=C,=T,=T,=A,=A,=A,=T,=T,=T,=T,=A,=A,=A,=C,=G,=T,=T,=G,=C,=T,=G,=A,=C,=T,=C,=T,=C,=A,=A,=A,=C,=A,=G,=T,=T,=A,=A,=G,=T,=A,=A,=T,=A,=A,=A,=A,=G,=A,=G,=T,=T,=A,=A,=A,=G,=C,=C,=T,=G,=C,=T,=G,=T,=G,=T,=A,=T,=T,=T,=A,=G,=A,=A,=T,=A,=T,=G,=T,=G,=A,=A,=T,=A,=C,=C,=T,=A,=T,=T,=G,=A,=A,=A,=G,=A,=A,=T,=T,=T,=A,=T,=T,=G,=T,=A,=C,=A,=A,=T,=T,=A,=A,=T,=A,=T,=A,=A,=A,=C,=A,=G,=A,=C,=T,=T,=C,=T,=A,=T,=T,=T,=T,=A,=C,=A,=G,=T,=C,=A,=T,=A,=A,=G,=A,=T,=A,=C,=T,=A,=C,=T,=T,=A,=A,=T,=T,=T,=G,=T,=T,=A,=A,=A,=A,=A,=T,=T,=A,=T,=T,=T,=T,=T,=T,=G,=A,=T,=A,=G,=C,=A,=T,=T,=G,=T,=T,=G,=G,=T,=A,=A,=A,=T,=A,=G,=C,=A,=A,=A,=G,=G,=T,=G,=A,=T,=A,=T,=T,=T,=G,=C,=T,=A,=A,=T,=G,=A,=T,=T,=A,=C,=A,=A,=G,=G,=G,=C,=T,=G,=T,=C,=T,=G,=G,=C,=T,=A,=A,=C,=T,=T,=A,=C,=G,=T,=T,=A,=T,=G,=T,=T,=C,=A,=G,=G,=G,=A,=G,=A,=A,=G,=A,=C,=A,=G,=T,=C,=C,=T,=T,=T,=T,=T,=A,=A,=G,=G,=A,=A,=T,=G,=G,=G,=C,=A,=C,=T,=T,=T,=C,=T,=A,=A,=C,=T,=T,=T,=T,=T,=T,=T,=C,=T,=C,=T,=A,=G,=G,=A,=T,=G,=G,=A,=G,=A,=A,=A,=A,=A,=T,=T,=A,=G,=C,=C,=T,=T,=C,=T,=T,=C,=C,=T,=A,=C,=T,=T,=T,=A,=A,=A,=A,=A,=T,=G,=T,=T,=A,=G,=A,=C,=A,=T,=A,=G,=A,=A,=T,=T,=A,=A,=G,=G,=G,=A,=T,=T,=G,=T,=T,=A,=T,=T,=T,=T,=G,=A,=G,=A,=T,=T,=A,=A,=A,=T,=T,=T,=T,=C,=T,=T,=T,=T,=C,=T,=C,=C,=T,=A,=T,=T,=A,=T,=T,=T,=T,=T,=C,=C,=T,=C,=A,=T,=T,=C,=T,=G,=G,=A,=A,=T,=G,=G,=A,=A,=G,=C,=A,=A,=A,=A,=G,=A,=T,=G,=A,=A,=G,=A,=A,=A,=G,=A,=A,=A,=T,=A,=T,=A,=T,=G,=T,=T,=A,=A,=A,=T,=T,=G,=T,=T,=T,=T,=C,=C,=T,=T,=T,=A,=A,=A,=T,=G,=A,=A,=C,=A,=C,=A,=A,=A,=T,=G,=T,=G,=A,=A,=A,=T,=A,=T,=G,=T,=T,=T,=T,=T,=C,=T,=G,=C,=C,=T,=A,=T,=C,=T,=T,=G,=T,=A,=A,=A,=A,=T,=T,=T,=T,=C,=T,=A,=T,=T,=G,=C,=A,=A,=C,=T,=A,=T,=T,=C,=T,=G,=A,=T,=T,=A,=C,=C,=A,=G,=T,=T,=C,=A,=A,=A,=T,=G,=G,=G,=G,=A,=A,=A,=A,=A,=A,=G,=A,=A,=C,=A,=T,=A,=G,=G,=C,=T,=A,=C,=C,=C,=C,=A,=C,=A,=C,=T,=T,=G,=A,=A,=A,=T,=T,=T,=T,=G,=A,=A,=A,=T,=A,=T,=G,=A,=A,=T,=G,=T,=C,=C,=T,=C,=T,=G,=T,=C,=T,=C,=T,=G,=C,=T,=G,=G,=T,=C,=T,=A,=A,=C,=A,=C,=T,=T,=C,=C,=A,=A,=A,=A,=T,=G,=G,=A,=A,=A,=C,=C,=T,=T,=T,=A,=A,=A,=G,=G,=G,=C,=C,=A,=C,=T,=G,=T,=A,=A,=A,=T,=T,=A,=C,=A,=G,=C,=T,=G,=C,=T,=A,=A,=T,=T,=C,=C,=T,=G,=G,=T,=G,=C,=C,=A,=A,=T,=G,=G,=T,=G,=A,=T,=A,=A,=G,=T,=G,=T,=T,=T,=A,=C,=T,=A,=A,=A,=C,=C,=T,=A,=G,=T,=G,=A,=G,=T,=A,=C,=T,=T,=T,=A,=T,=A,=G,=C,=A,=T,=G,=G,=G,=G,=C,=T,=C,=T,=G,=C,=T,=G,=C,=G,=A,=A,=G,=T,=A,=A,=C,=A,=T,=T,=G,=C,=T,=G,=T,=A,=T,=A,=T,=T,=T,=T,=C,=A,=G,=T,=C,=A,=T,=T,=C,=T,=A,=C,=C,=T,=T,=A,=A,=T,=T,=C,=A,=T,=G,=A,=A,=C,=T,=G,=C,=A,=A,=A,=A,=C,=T,=C,=T,=C,=A,=T,=C,=T,=A,=G,=C,=T,=T,=T,=T,=T,=A,=C,=T,=T,=C,=T,=C,=T,=A,=G,=C,=T,=A,=T,=T,=G,=C,=T,=T,=T,=A,=A,=G,=T,=T,=C,=T,=A,=T,=C,=A,=G,=G,=C,=T,=C,=A,=G,=G,=T,=G,=T,=G,=G,=A,=A,=T,=t,=a,=a,=c,=a,=a,=a,=g,=t,=a,=a,=c,=a,=a,=a,=g,=t,=a,=a,=g,=a,=t,=a,=t,=c,=t,=t,=t,=g,=g,=a,=a,=t,=a,=a,=t,=c,=a,=a,=t,=t,=c,=a,=a,=g,=a,=t,=a,=a,=t,=c,=a,=a,=g,=g,=a,=a,=a,=a,=a,=t,=g,=a,=g,=a,=g,=g,=c,=a,=a,=c,=t,=a,=t,=t,=t,=t,=a,=g,=a,=c,=t,=g,=a,=t,=t,=a,=c,=t,=t,=t\n"
     ]
    }
   ],
   "source": [
    "print(midsv_control[idx][\"CSSPLIT\"])"
   ]
  },
  {
   "attachments": {},
   "cell_type": "markdown",
   "metadata": {},
   "source": [
    "`de8715b1-7f61-4b2e-83c4-e949ab9aaf37`でエラーが起きている"
   ]
  },
  {
   "attachments": {},
   "cell_type": "markdown",
   "metadata": {},
   "source": [
    "```text\n",
    "N,N,N,N,=T,=T,=G,=A,=A,=G,=C,=A,=G,=T,=T,=C,=A,=C,=C,=A,=A,=A,=A,=T,=A,=A,=C,=A,=A,=A,=G,=T,=A,=A,=C,=A,=A,=A,=G,=T,=A,=A,=G,=A,=T,=A,=T,=C,=T,=T,=T,=G,=G,=A,=A,=T,=A,=A,=T,=C,=A,=A,=T,=T,=C,=A,（略）=t,=t,=c,=a,=a,=g,=a,=t,=a,=a,=t,=c,=a,=a,=g,=g,=a,=a,=a,=a,=a,=t,=g,=a,=g,=a,=g,=g,=c,=a,=a,=c,=t,=a,=t,=t,=t,=t,=a,=g,=a,=c,=t,=g,=a,=t,=t,=a,=c,=t,=t,=t\n",
    "```"
   ]
  },
  {
   "cell_type": "markdown",
   "metadata": {},
   "source": [
    "midsvを更新したのに、まだエラーが出ている"
   ]
  },
  {
   "cell_type": "code",
   "execution_count": null,
   "metadata": {},
   "outputs": [],
   "source": []
  },
  {
   "cell_type": "code",
   "execution_count": null,
   "metadata": {},
   "outputs": [],
   "source": []
  },
  {
   "cell_type": "code",
   "execution_count": null,
   "metadata": {},
   "outputs": [],
   "source": []
  },
  {
   "cell_type": "code",
   "execution_count": null,
   "metadata": {},
   "outputs": [],
   "source": []
  },
  {
   "cell_type": "code",
   "execution_count": null,
   "metadata": {},
   "outputs": [],
   "source": []
  },
  {
   "cell_type": "code",
   "execution_count": null,
   "metadata": {},
   "outputs": [],
   "source": []
  },
  {
   "attachments": {},
   "cell_type": "markdown",
   "metadata": {},
   "source": [
    "# 結果\n"
   ]
  },
  {
   "attachments": {},
   "cell_type": "markdown",
   "metadata": {},
   "source": [
    "+ [x] Albino点変異の1%\n",
    "\n",
    "無事に1%のアレルを補足できていることがわかった"
   ]
  },
  {
   "cell_type": "code",
   "execution_count": null,
   "metadata": {},
   "outputs": [],
   "source": []
  },
  {
   "attachments": {},
   "cell_type": "markdown",
   "metadata": {},
   "source": [
    "# 次回の課題"
   ]
  },
  {
   "attachments": {},
   "cell_type": "markdown",
   "metadata": {},
   "source": [
    "+ [x] ~~点変異、欠失、ノックインのデザインで動くかを確認する~~\n",
    "+ [x] ~~Clusteringのときの警告メッセージは無害なので消去する~~\n",
    "+ [ ] right_loxpがいまいちな理由を考察する\n",
    "    +  ~~[x] Ayabe-task1のpreprocessにおいて、329と1280の補正がされていない理由を検討する~~\n",
    "+ [x] ~~distanceの閾値を下げた状態で、1%点変異が検出できるか~~\n",
    "+ [ ] Insertionのなかにある変異を同定する手法を考案する\n",
    "+ [ ] `preprocess.correct_sequence_error.replace_atmark`のコードがわかりにくい\n",
    "    + テストを用意してリファクタリングする\n",
    "+ [ ] cis変異の両端が欠失している場合に、Nで置き換えるとtransとなってしまうのをどうするか（`replace_n`）\n",
    "+ [ ] 短いリードの扱いをどうするべきか"
   ]
  },
  {
   "cell_type": "markdown",
   "metadata": {},
   "source": []
  }
 ],
 "metadata": {
  "kernelspec": {
   "display_name": "base",
   "language": "python",
   "name": "python3"
  },
  "language_info": {
   "codemirror_mode": {
    "name": "ipython",
    "version": 3
   },
   "file_extension": ".py",
   "mimetype": "text/x-python",
   "name": "python",
   "nbconvert_exporter": "python",
   "pygments_lexer": "ipython3",
   "version": "3.10.6"
  },
  "orig_nbformat": 4,
  "vscode": {
   "interpreter": {
    "hash": "a09285d6cbc768c1977f96e8deb5ca1ec0d08675e9573ed6dfd37fd7d91de663"
   }
  }
 },
 "nbformat": 4,
 "nbformat_minor": 2
}
