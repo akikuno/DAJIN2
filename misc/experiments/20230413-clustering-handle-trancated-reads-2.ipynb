{
 "cells": [
  {
   "attachments": {},
   "cell_type": "markdown",
   "metadata": {},
   "source": [
    "# 今回の取り組み"
   ]
  },
  {
   "attachments": {},
   "cell_type": "markdown",
   "metadata": {},
   "source": [
    "## Nanoporeに最後まで読まれなかった（途中で切断された）リードがクラスタに分かれてしまうので、これを除去したい\n",
    "\n",
    "- これはControlにも存在するはずだが、現状ではクラスラリングの際にControlにおいて切断リードの大半が含まれるであろうSVを無視しているため、差分が効いていない\n",
    "\n",
    "- ✅ (1) SV判定をコンセンサスコールのあとにずらす\n",
    "- **(2) クラスタリングの際にSampleとControlに同様に見られる切断リードを除く**\n",
    "\n",
    "**前回は`replace_NtoD`の改善で長くなってしまったので、今回は改めてClusteringに集中します**\n"
   ]
  },
  {
   "cell_type": "markdown",
   "metadata": {},
   "source": [
    "## いつものセットアップ"
   ]
  },
  {
   "cell_type": "code",
   "execution_count": 1,
   "metadata": {},
   "outputs": [
    {
     "name": "stdout",
     "output_type": "stream",
     "text": [
      "/mnt/d/Research/DAJIN2\n"
     ]
    }
   ],
   "source": [
    "# ルートディレクトリをPathに含めるおまじない\n",
    "import sys, os\n",
    "from pathlib import Path\n",
    "if Path(os.getcwd()).stem != \"DAJIN2\":\n",
    "    parent_path = str(Path(os.path.dirname(os.path.abspath(\"__file__\"))).parent.parent)\n",
    "    sys.path.append(parent_path)\n",
    "    os.chdir(parent_path)\n",
    "\n",
    "print(os.getcwd())\n",
    "sys.path.append(os.getcwd() + \"/\" + \"src\")"
   ]
  },
  {
   "cell_type": "code",
   "execution_count": 2,
   "metadata": {},
   "outputs": [],
   "source": [
    "%%bash\n",
    "# pipの更新\n",
    "pip install -q -U pip\n",
    "pip install -q -U -r requirements.txt"
   ]
  },
  {
   "attachments": {},
   "cell_type": "markdown",
   "metadata": {},
   "source": [
    "# 実験"
   ]
  },
  {
   "cell_type": "code",
   "execution_count": 3,
   "metadata": {},
   "outputs": [
    {
     "name": "stdout",
     "output_type": "stream",
     "text": [
      "processing single_tyr_50...\n"
     ]
    }
   ],
   "source": [
    "from __future__ import annotations\n",
    "\n",
    "import sys, os\n",
    "from pathlib import Path\n",
    "\n",
    "import hashlib\n",
    "from collections import defaultdict\n",
    "from pathlib import Path\n",
    "\n",
    "from DAJIN2.core import preprocess, classification, clustering, consensus, report\n",
    "\n",
    "#### #* 2-cut deletion\n",
    "SAMPLE, CONTROL, ALLELE, NAME, GENOME, DEBUG, THREADS = (\n",
    "    \"misc/data/tyr_albino_50%.fq.gz\",\n",
    "    \"misc/data/tyr_control.fq.gz\",\n",
    "    \"misc/data/tyr_control.fasta\",\n",
    "    \"single_tyr_50\",\n",
    "    \"mm10\",\n",
    "    True,\n",
    "    14,\n",
    ")\n",
    "print(f\"processing {NAME}...\")\n",
    "\n",
    "##########################################################\n",
    "# Check inputs\n",
    "##########################################################\n",
    "preprocess.validate_inputs.check_files(SAMPLE, CONTROL, ALLELE)\n",
    "TEMPDIR = Path(\"DAJINResults\", \".tempdir\", NAME)\n",
    "IS_CACHE_CONTROL = preprocess.validate_inputs.exists_cached_control(CONTROL, TEMPDIR)\n",
    "IS_CACHE_GENOME = preprocess.validate_inputs.exists_cached_genome(GENOME, TEMPDIR, IS_CACHE_CONTROL)\n",
    "UCSC_URL, GOLDENPATH_URL = None, None\n",
    "if GENOME and not IS_CACHE_GENOME:\n",
    "    UCSC_URL, GOLDENPATH_URL = preprocess.validate_inputs.check_and_fetch_genome(GENOME)\n",
    "\n",
    "##########################################################\n",
    "# Format inputs\n",
    "##########################################################\n",
    "SAMPLE_NAME = preprocess.format_inputs.extract_basename(SAMPLE)\n",
    "CONTROL_NAME = preprocess.format_inputs.extract_basename(CONTROL)\n",
    "FASTA_ALLELES = preprocess.format_inputs.dictionize_allele(ALLELE)\n",
    "THREADS = min(THREADS, os.cpu_count()-1)\n",
    "\n",
    "preprocess.format_inputs.make_directories(TEMPDIR, SAMPLE_NAME, CONTROL_NAME)\n",
    "\n",
    "if GENOME:\n",
    "    GENOME_COODINATES = preprocess.format_inputs.fetch_coodinate(GENOME, UCSC_URL, FASTA_ALLELES[\"control\"])\n",
    "    CHROME_SIZE = preprocess.format_inputs.fetch_chrom_size(GENOME_COODINATES[\"chr\"], GENOME, GOLDENPATH_URL)\n",
    "    preprocess.format_inputs.cache_coodinates_and_chromsize(TEMPDIR, GENOME, GENOME_COODINATES, CHROME_SIZE)\n"
   ]
  },
  {
   "cell_type": "code",
   "execution_count": 6,
   "metadata": {},
   "outputs": [
    {
     "name": "stdout",
     "output_type": "stream",
     "text": [
      "preprocessing...\n"
     ]
    }
   ],
   "source": [
    "\n",
    "flag1 = Path(TEMPDIR, \"midsv\", f\"{CONTROL_NAME}_splice_control.jsonl\").exists()\n",
    "flag2 = Path(TEMPDIR, \"midsv\", f\"{SAMPLE_NAME}_splice_control.jsonl\").exists()\n",
    "flag = flag1 and flag2\n",
    "\n",
    "flag = False\n",
    "if not flag:\n",
    "    print(\"preprocessing...\")\n",
    "    ################################################################################\n",
    "    # Export fasta files as single-FASTA format\n",
    "    ################################################################################\n",
    "    for identifier, sequence in FASTA_ALLELES.items():\n",
    "        contents = \"\\n\".join([\">\" + identifier, sequence]) + \"\\n\"\n",
    "        output_fasta = Path(TEMPDIR, \"fasta\", f\"{identifier}.fasta\")\n",
    "        output_fasta.write_text(contents)\n",
    "    ###############################################################################\n",
    "    # Mapping with mappy\n",
    "    ###############################################################################\n",
    "    for path_fasta in Path(TEMPDIR, \"fasta\").glob(\"*.fasta\"):\n",
    "        name_fasta = path_fasta.stem\n",
    "        preprocess.mappy_align.output_sam(TEMPDIR, path_fasta, name_fasta, CONTROL, CONTROL_NAME, threads=THREADS)\n",
    "        preprocess.mappy_align.output_sam(TEMPDIR, path_fasta, name_fasta, SAMPLE, SAMPLE_NAME, threads=THREADS)\n",
    "        preprocess.mappy_align.output_sam(\n",
    "            TEMPDIR, path_fasta, name_fasta, CONTROL, CONTROL_NAME, preset=\"splice\", threads=THREADS\n",
    "        )\n",
    "        preprocess.mappy_align.output_sam(\n",
    "            TEMPDIR, path_fasta, name_fasta, SAMPLE, SAMPLE_NAME, preset=\"splice\", threads=THREADS\n",
    "        )\n",
    "    ########################################################################\n",
    "    # MIDSV conversion\n",
    "    ########################################################################\n",
    "    for path_sam in Path(TEMPDIR, \"sam\").glob(f\"{CONTROL_NAME}_splice_*\"):\n",
    "        preprocess.call_midsv(TEMPDIR, path_sam)\n",
    "    for path_sam in Path(TEMPDIR, \"sam\").glob(f\"{SAMPLE_NAME}_splice_*\"):\n",
    "        preprocess.call_midsv(TEMPDIR, path_sam)\n",
    "    ###############################################################################\n",
    "    # CSSPLITS Error Correction\n",
    "    ###############################################################################\n",
    "    preprocess.correct_sequence_error.execute(TEMPDIR, FASTA_ALLELES, CONTROL_NAME, SAMPLE_NAME)\n",
    "    preprocess.correct_knockin.execute(TEMPDIR, FASTA_ALLELES, CONTROL_NAME, SAMPLE_NAME)\n",
    "    ###############################################################################\n",
    "    # Convert any `N` as deletions other than consecutive `N` from both ends\n",
    "    ###############################################################################\n",
    "    preprocess.replace_NtoD(TEMPDIR, FASTA_ALLELES, CONTROL_NAME)\n",
    "    preprocess.replace_NtoD(TEMPDIR, FASTA_ALLELES, SAMPLE_NAME)\n",
    "    ###############################################################################\n",
    "    # Cashe inputs (control)\n",
    "    ###############################################################################\n",
    "    if not IS_CACHE_CONTROL:\n",
    "        control_hash = Path(CONTROL).read_bytes()\n",
    "        control_hash = hashlib.sha256(control_hash).hexdigest()\n",
    "        PATH_CACHE_HASH = Path(TEMPDIR, \"cache\", \"control_hash.txt\")\n",
    "        PATH_CACHE_HASH.write_text(str(control_hash))\n"
   ]
  },
  {
   "cell_type": "code",
   "execution_count": 7,
   "metadata": {},
   "outputs": [
    {
     "name": "stdout",
     "output_type": "stream",
     "text": [
      "{\"QNAME\": \"03f31ef7-f592-4a0b-9840-3d5bc6ea9b40\", \"RNAME\": \"control\", \"CSSPLIT\": \"=T,=G,=C,=A,=T,=T,=G,=A,=A,=G,=C,=A,=G,=T,=T,=C,=A,=C,=C,=A,=A,=A,=A,=T,=A,=A,=C,=A,=A,=A,=G,=T,=A,=A,=C,=A,=A,=A,=G,=T,=A,=A,=G,=A,=T,=A,=T,=C,=T,=T,=T,=G,=G,=A,=A,=T,=A,=A,=T,=C,=A,=A,=T,=T,=C,=A,=A,=G,=A,=T,=A,=A,=T,=C,=A,=A,=G,=G,=A,=A,=A,=A,=A,=T,=G,=A,=G,=A,=G,=G,=C,=A,=A,=C,=T,=A,=T,=T,=T,=T,=A,=G,=A,=C,=T,=G,=A,=T,=T,=A,=C,=T,=T,=T,=T,=A,=T,=A,=A,=A,=A,=T,=A,=A,=A,=T,=A,=A,=G,=C,=T,=C,=A,=G,=C,=T,=T,=A,=G,=C,=C,=A,=G,=A,=T,=A,=T,=A,=A,=G,=C,=A,=A,=T,=A,=T,=T,=C,=T,=G,=A,=G,=T,=T,=C,=T,=G,=A,=A,=G,=A,=A,=A,=A,=A,=T,=T,=T,=T,=T,=G,=A,=C,=A,=A,=A,=A,=T,=G,=A,=G,=T,=T,=C,=T,=A,=T,=A,=A,=A,=T,=G,=T,=T,=A,=T,=T,=G,=T,=C,=T,=A,=C,=T,=T,=A,=T,=G,=A,=T,=C,=T,=C,=T,=A,=A,=A,=T,=A,=C,=A,=A,=C,=A,=G,=G,=C,=T,=T,=G,=T,=A,=T,=T,=C,=A,=G,=A,=A,=T,=C,=T,=A,=G,=A,=T,=G,=T,=T,=T,=C,=A,=T,=G,=A,=C,=C,=T,=T,=T,=A,=T,=T,=C,=A,=T,=A,=A,=G,=A,=G,=A,=T,=G,=A,=T,=G,=T,=A,=T,=T,=C,=T,=T,=G,=A,=T,=A,=C,=T,=A,=C,=T,=T,=C,=T,=C,=A,=T,=T,=T,=G,=C,=A,=A,=A,=T,=T,=C,=C,=A,=A,=T,=T,=A,=T,=T,=A,=T,=T,=A,=A,=T,=T,=T,=C,=A,=T,=A,=T,=C,=A,=A,=T,=T,=A,=G,=A,=A,=T,=A,=A,=T,=A,=T,=A,=T,=C,=T,=T,=C,=C,=T,=T,=C,=A,=A,=T,=T,=T,=A,=G,=T,=T,-A,=C,=C,=T,=C,=A,=C,=T,=A,=T,=G,=G,=G,=C,=T,=A,=T,=G,=T,=A,=C,=A,=A,=A,=C,=T,=C,=C,=A,=A,=G,=A,=A,=A,=A,=A,=G,=T,=T,=A,=G,=T,=C,=A,=T,=G,=T,=G,=C,=T,=T,=T,=G,=C,=A,=G,=A,=A,=G,=A,=T,=A,=A,=A,=A,=G,=C,=T,=T,=A,=G,=T,=G,=T,=A,=A,=A,=A,=C,=A,=G,=G,=C,=T,=G,=A,=G,=A,=G,=T,=A,=T,=T,=T,=G,=A,=T,=G,=T,=A,=A,=G,=A,=A,=G,=G,=G,=G,=A,=G,=T,=G,=G,=T,=T,=A,=T,=A,=T,=A,=G,=G,=T,=C,=T,=T,=A,=G,=C,=C,=A,=A,=A,=A,=C,=A,=T,=G,=T,=G,=A,=T,=A,=G,=T,=C,=A,=C,=T,=C,=C,=A,=G,=G,=G,=G,=T,=T,=G,=C,=T,=G,=G,=A,=A,=A,=A,=G,=A,=A,=G,=T,=C,=T,=G,=T,=G,=A,=C,=A,=C,=T,=C,=A,=T,=T,=A,=A,=C,=C,=T,=A,=T,=T,=G,=G,=T,=G,=C,=A,=G,=A,=T,=T,=T,=T,=G,+C|+C|=T,=A,=T,=G,=A,=T,=C,=T,=A,=A,=A,=G,=G,=A,=G,=A,=A,=A,=A,=T,=G,=T,=T,=C,=T,=T,=G,=G,=C,=T,=G,=T,=T,=T,=T,=G,=T,=A,=T,=T,=G,=C,=C,=T,=T,=C,=T,=G,=T,=G,=G,=A,=G,=T,=T,=T,=C,=C,=A,=G,=A,=T,=C,=T,=C,=T,=G,=A,=T,=G,=G,=C,=C,=A,=T,=T,=T,=T,=C,=C,=T,=C,=G,=A,=G,=C,=C,=T,=G,=T,=G,=C,=C,=T,=C,=C,=T,=C,=T,=A,=A,=G,=A,=A,=C,=T,=T,=G,=T,=T,=G,=G,=C,=A,=A,=A,=A,=G,=A,=A,=T,=G,=C,=T,=G,=C,=C,=C,=A,=C,=C,=A,=T,=G,=G,=A,=T,=G,=G,=G,=T,=G,=A,=T,=G,=G,=G,=A,=G,=T,=C,=C,=C,=T,=G,=C,=G,=G,=C,=C,=A,=G,=C,=T,=T,=T,=C,=A,=G,=G,=C,=A,=G,=A,=G,=G,=T,=T,=C,=C,=T,=G,=C,=C,=A,=G,=G,=A,=T,=A,=T,=C,=C,=T,=T,=C,=T,=G,-T,=C,=C,=A,=G,=T,=G,=C,=A,=C,=C,=A,=T,=C,=T,=G,=G,=A,=C,=C,=T,=C,=A,=G,=T,=T,=C,=C,=C,=C,=T,=T,=C,=A,=A,=A,=G,=G,=G,=G,=T,=G,=G,=A,=T,=G,=A,=C,=C,*GT,=T,=G,=A,=G,=T,=C,=C,=T,=G,=G,=C,N,N,N,N,N,N,N,N,N,N,N,N,N,N,N,N,N,N,N,N,N,N,N,N,N,N,N,N,N,N,N,N,N,N,N,N,N,N,N,N,N,N,N,N,N,N,N,N,N,N,N,N,N,N,N,N,N,N,N,N,N,N,N,N,N,N,N,N,N,N,N,N,N,N,N,N,N,N,N,N,N,N,N,N,N,N,N,N,N,N,N,N,N,N,N,N,N,N,N,N,N,N,N,N,N,N,N,N,N,N,N,N,N,N,N,N,N,N,N,N,N,N,N,N,N,N,N,N,N,N,N,N,N,N,N,N,N,N,N,N,N,N,N,N,N,N,N,N,N,N,N,N,N,N,N,N,N,N,N,N,N,N,N,N,N,N,N,N,N,N,N,N,N,N,N,N,N,N,N,N,N,N,N,N,N,N,N,N,N,N,N,N,N,N,N,N,N,N,N,N,N,N,N,N,N,N,N,N,N,N,N,N,N,N,N,N,N,N,N,N,N,N,N,N,N,N,N,N,N,N,N,N,N,N,N,N,N,N,N,N,N,N,N,N,N,N,N,N,N,N,N,N,N,N,N,N,N,N,N,N,N,N,N,N,N,N,N,N,N,N,N,N,N,N,N,N,N,N,N,N,N,N,N,N,N,N,N,N,N,N,N,N,N,N,N,N,N,N,N,N,N,N,N,N,N,N,N,N,N,N,N,N,N,N,N,N,N,N,N,N,N,N,N,N,N,N,N,N,N,N,N,N,N,N,N,N,N,N,N,N,N,N,N,N,N,N,N,N,N,N,N,N,N,N,N,N,N,N,N,N,N,N,N,N,N,N,N,N,N,N,N,N,N,N,N,N,N,N,N,N,N,N,N,N,N,N,N,N,N,N,N,N,N,N,N,N,N,N,N,N,N,N,N,N,N,N,N,N,N,N,N,N,N,N,N,N,N,N,N,N,N,N,N,N,N,N,N,N,N,N,N,N,N,N,N,N,N,N,N,N,N,N,N,N,N,N,N,N,N,N,N,N,N,N,N,N,N,N,N,N,N,N,N,N,N,N,N,N,N,N,N,N,N,N,N,N,N,N,N,N,N,N,N,N,N,N,N,N,N,N,N,N,N,N,N,N,N,N,N,N,N,N,N,N,N,N,N,N,N,N,N,N,N,N,N,N,N,N,N,N,N,N,N,N,N,N,N,N,N,N,N,N,N,N,N,N,N,N,N,N,N,N,N,N,N,N,N,N,N,N,N,N,N,N,N,N,N,N,N,N,N,N,N,N,N,N,N,N,N,N,N,N,N,N,N,N,N,N,N,N,N,N,N,N,N,N,N,N,N,N,N,N,N,N,N,N,N,N,N,N,N,N,N,N,N,N,N,N,N,N,N,N,N,N,N,N,N,N,N,N,N,N,N,N,N,N,N,N,N,N,N,N,N,N,N,N,N,N,N,N,N,N,N,N,N,N,N,N,N,N,N,N,N,N,N,N,N,N,N,N,N,N,N,N,N,N,N,N,N,N,N,N,N,N,N,N,N,N,N,N,N,N,N,N,N,N,N,N,N,N,N,N,N,N,N,N,N,N,N,N,N,N,N,N,N,N,N,N,N,N,N,N,N,N,N,N,N,N,N,N,N,N,N,N,N,N,N,N,N,N,N,N,N,N,N,N,N,N,N,N,N,N,N,N,N,N,N,N,N,N,N,N,N,N,N,N,N,N,N,N,N,N,N,N,N,N,N,N,N,N,N,N,N,N,N,N,N,N,N,N,N,N,N,N,N,N,N,N,N,N,N,N,N,N,N,N,N,N,N,N,N,N,N,N,N,N,N,N,N,N,N,N,N,N,N,N,N,N,N,N,N,N,N,N,N,N,N,N,N,N,N,N,N,N,N,N,N,N,N,N,N,N,N,N,N,N,N,N,N,N,N,N,N,N,N,N,N,N,N,N,N,N,N,N,N,N,N,N,N,N,N,N,N,N,N,N,N,N,N,N,N,N,N,N,N,N,N,N,N,N,N,N,N,N,N,N,N,N,N,N,N,N,N,N,N,N,N,N,N,N,N,N,N,N,N,N,N,N,N,N,N,N,N,N,N,N,N,N,N,N,N,N,N,N,N,N,N,N,N,N,N,N,N,N,N,N,N,N,N,N,N,N,N,N,N,N,N,N,N,N,N,N,N,N,N,N,N,N,N,N,N,N,N,N,N,N,N,N,N,N,N,N,N,N,N,N,N,N,N,N,N,N,N,N,N,N,N,N,N,N,N,N,N,N,N,N,N,N,N,N,N,N,N,N,N,N,N,N,N,N,N,N,N,N,N,N,N,N,N,N,N,N,N,N,N,N,N,N,N,N,N,N,N,N,N,N,N,N,N,N,N,N,N,N,N,N,N,N,N,N,N,N,N,N,N,N,N,N,N,N,N,N,N,N,N,N,N,N,N,N,N,N,N,N,N,N,N,N,N,N,N,N,N,N,N,N,N,N,N,N,N,N,N,N,N,N,N,N,N,N,N,N,N,N,N,N,N,N,N,N,N,N,N,N,N,N,N,N,N,N,N,N,N,N,N,N,N,N,N,N,N,N,N,N,N,N,N,N,N,N,N,N,N,N,N,N,N,N,N,N,N,N,N,N,N,N,N,N,N,N,N,N,N,N,N,N,N,N,N,N,N,N,N,N,N,N,N,N,N,N,N,N,N,N,N,N,N,N,N,N,N,N,N,N,N,N,N,N,N,N,N,N,N,N,N,N,N,N,N,N,N,N,N,N,N,N,N,N,N,N,N,N,N,N,N,N,N,N,N,N,N,N,N,N,N,N,N,N,N,N,N,N,N,N,N,N,N,N,N,N,N,N,N,N,N,N,N,N,N,N,N,N,N,N,N,N,N,N,N,N,N,N,N,N,N,N,N,N,N,N,N,N,N,N,N,N,N,N,N,N,N,N,N,N,N,N,N,N,N,N,N,N,N,N,N,N,N,N,N,N,N,N,N,N,N,N,N,N,N,N,N,N,N,N,N,N,N,N,N,N,N,N,N,N,N,N,N,N,N,N,N,N,N,N,N,N,N,N,N,N,N,N,N,N,N,N,N,N,N,N,N,N,N,N,N,N,N,N,N,N,N,N,N,N,N,N,N,N,N,N,N,N,N,N,N,N,N,N,N,N,N,N,N,N,N,N,N,N,N,N,N,N,N,N,N,N,N,N,N,N,N,N,N,N,N,N,N,N,N,N,N,N,N,N,N,N,N,N,N,N,N,N,N,N,N,N,N,N,N,N,N,N,N,N,N,N,N,N,N,N,N,N,N,N,N,N,N,N,N,N,N,N,N,N,N,N,N,N,N,N,N,N,N,N,N,N,N,N,N,N,N,N,N,N,N,N,N,N,N,N,N,N,N,N,N,N,N,N,N,N,N,N,N,N,N,N,N,N,N,N,N,N,N,N,N,N,N,N,N,N,N,N,N,N,N,N,N,N,N,N,N,N,N,N,N,N,N,N,N,N,N,N,N,N,N,N,N,N,N,N,N,N,N,N,N,N,N,N,N,N,N,N,N,N,N,N,N,N,N,N,N,N,N,N,N,N,N,N,N,N,N,N,N,N,N,N,N,N,N,N,N,N,N,N,N,N,N,N,N,N,N,N,N,N,N,N,N,N,N,N,N,N,N,N,N,N,N,N,N,N,N,N,N,N,N,N,N,N,N,N,N,N,N,N,N,N,N,N,N,N,N,N,N,N,N,N,N,N,N,N,N,N,N,N,N,N,N,N,N,N,N,N,N,N,N,N,N,N,N,N,N,N,N,N,N,N,N,N,N,N,N,N,N,N,N,N,N,N,N,N,N,N,N,N,N,N,N,N,N,N,N,N,N,N,N,N,N,N,N,N,N,N,N,N,N,N,N,N,N,N,N,N,N,N,N,N,N,N,N,N,N,N,N,N,N,N,N,N,N,N,N,N,N,N,N,N,N,N,N,N,N,N,N,N,N,N,N,N,N,N,N,N,N,N,N,N,N,N,N,N,N,N,N,N,N,N,N,N,N,N,N,N,N,N,N,N,N,N,N,N,N,N,N,N,N,N,N,N,N,N,N,N,N,N,N,N,N,N,N,N,N,N,N,N,N,N,N,N,N,N,N,N,N,N,N,N,N,N,N,N,N,N,N,N,N,N,N,N,N,N,N,N,N,N,N,N,N,N,N,N,N,N,N,N,N,N,N,N,N,N,N,N,N,N,N,N,N,N,N,N,N,N,N,N,N,N,N,N,N,N,N,N,N,N,N,N,N,N,N,N,N,N,N,N,N,N,N,N,N,N,N,N,N,N,N,N,N,N,N,N,N,N,N,N,N,N,N,N,N,N,N,N,N,N,N,N,N,N,N,N,N,N,N,N,N,N,N,N,N,N,N,N,N,N,N,N,N,N,N,N,N,N,N,N,N,N,N,N,N,N,N,N,N,N,N,N,N,N,N,N,N,N,N,N,N,N,N,N,N,N,N,N,N,N,N,N,N,N,N,N,N,N,N,N,N\", \"QSCORE\": \"25,28,28,19,19,19,17,19,18,15,15,12,12,11,11,13,11,9,-1,-1,9,9,19,24,24,27,27,28,28,30,30,20,21,21,22,10,8,6,6|6|6,6,4,3,4,11,13,13,17,20,23|23,19,13,15,20,20,26,28,30,30,30,30,29,28,28,29,29,32,32,25,23,9,8,8,9,28,11,10,13,18,-1,19,22,26,26,28,20,15,-1,8,5,6,7,8,9,15,21,21,26,31,34,32,14,13,13,13,11,13,13,13,14,11,11,11,10,9,7,3,3|3,3,5,9,21,27,30,30,26,28,22,18,-1,-1,9,8,6,6,12,12,12,17,14,14,15,11,10,10,10,11,8,11,23,19,22,22,22,31,26,25,-1,-1,24,10,10,12,17,17,26,26,25,26,18,8,10,12,16,15,21,22,26,27,37,22,19,19,18,16,13,19,32,32,28,26,24,24,26,18,-1,-1,17,10,9,9,9,18,21,23,24,29,29,23,24,22,23,21,19,19,18,13,7,7,7,13,10,9,-1,6,6,8,11,18,19,21,23,30,29,24,18,17,16,21,28,31,33,19,16,16,16,14,10,9,16,15,17,7,6,6,6,12,12,21,24,24,30,22,16|7,7|6|4,4,4,3,3,5,7,7,8,24,35,33,31,30,24,21,22,25,25,25,27,30,32,31,32,32,33,34,32,30,30,31,34,33,35,31,26,20,13,12,11,10,15,16,13,12,12,10,5,5,5,6,11,15,17,9,5,5,6,7,8,8,10,16,16,11,10,11,13,21,30,28,33,20,19,18,17,21|6,6,9,21,22,12,6,6,7,12,9,10,25,30,37,90,36,27,27,27,27,26,12,23,23,18,17,16,18,12,7|7,6,6,7,-1,-1,7,4,4,6,7,8,17,17,6,5,4,3,3|4|6,6,6,8,6,7,8,9,9,11,17,21,-1,19,11,11,14,-1,-1,19,21,27,25,24,24,24,25,23,19,10,8,8,8,8,9,12,13,14,13,7,7,7,8,12,15,22,19,20,26,27,26,25,27,28,28,29,28,29,29,28,30,30,31,31,29,16,16,16,16,28,-1,-1,24,23,19,18,22,25,29,29,29,30,24,29,29,28,23,21,28,25,21,21,22,22,22,17,17,16,10,9,-1,-1,4,3,4,7,7,8,12,15,15,15,10,14,16,21,22,22,17,16,11,7,7,7,7,14,14,15,10,9,9,9,8,12,13,17,8,7,-1,10,20,25,26,29,29,30,30,30,-1,-1,-1,-1,-1,21,20,19,16,15,15,13,11|7,7,8,8,22,21,20,20,20,13,12,14,10,10,9,10,6,10,11,11,8,10,11,10,10,8,-1,5,6,8,8,8,6,6|7|7,-1,8,6,7,8,8,6,8,8,8,19,22,16,21,26,26,36,29,23,18,17,18,18,9,8,9,11,24,24,27,30,30,30,32,32,32,19,18,18,11,11,11,10,24,28,31,31,31,34,30,20,20,19,20,20,24,7,6,5,6,21,21,7,9,20,22,30,31,31,28,26,24,20,-1,8,8,12,18,19,15,18,16,15,17,17,17,26,27,29,30,30,24,23,24,17,6,14,10,-1,6,5,5,7,7,6,8,9,9,9,10,28,28,28,30,27,26,29,33,32,30,31,34,30,30,29,28,27,28,29,21,29,28,28,29,27,29,27,27,8|8,8,10,24,20,8,6,6,8,11,11,12,22,11,9,9,7,4,4,6,7,5,4,5,5,5,5,5,-1,3,4,4,4,6,-1,6,8,8,11,-1,17,5,-1,-1,-1,4,3,3,9,10,6,6,7,11,13,16,16,4,3,-1,4,4,5,6,5,5,6|7,4,5,4,3,4,5,5,7,9,9,20,25,26,28,17,16,24,23,-1,23,18,9,10,16,16,15,16,7,12,10,12,6,6,6,12,7,16,20,21,27,21,19,18,14,16,21,24,26,19,24,23,23,25,-1,-1,-1,-1,-1,-1,-1,-1,-1,-1,-1,-1,-1,-1,-1,-1,-1,-1,-1,-1,-1,-1,-1,-1,-1,-1,-1,-1,-1,-1,-1,-1,-1,-1,-1,-1,-1,-1,-1,-1,-1,-1,-1,-1,-1,-1,-1,-1,-1,-1,-1,-1,-1,-1,-1,-1,-1,-1,-1,-1,-1,-1,-1,-1,-1,-1,-1,-1,-1,-1,-1,-1,-1,-1,-1,-1,-1,-1,-1,-1,-1,-1,-1,-1,-1,-1,-1,-1,-1,-1,-1,-1,-1,-1,-1,-1,-1,-1,-1,-1,-1,-1,-1,-1,-1,-1,-1,-1,-1,-1,-1,-1,-1,-1,-1,-1,-1,-1,-1,-1,-1,-1,-1,-1,-1,-1,-1,-1,-1,-1,-1,-1,-1,-1,-1,-1,-1,-1,-1,-1,-1,-1,-1,-1,-1,-1,-1,-1,-1,-1,-1,-1,-1,-1,-1,-1,-1,-1,-1,-1,-1,-1,-1,-1,-1,-1,-1,-1,-1,-1,-1,-1,-1,-1,-1,-1,-1,-1,-1,-1,-1,-1,-1,-1,-1,-1,-1,-1,-1,-1,-1,-1,-1,-1,-1,-1,-1,-1,-1,-1,-1,-1,-1,-1,-1,-1,-1,-1,-1,-1,-1,-1,-1,-1,-1,-1,-1,-1,-1,-1,-1,-1,-1,-1,-1,-1,-1,-1,-1,-1,-1,-1,-1,-1,-1,-1,-1,-1,-1,-1,-1,-1,-1,-1,-1,-1,-1,-1,-1,-1,-1,-1,-1,-1,-1,-1,-1,-1,-1,-1,-1,-1,-1,-1,-1,-1,-1,-1,-1,-1,-1,-1,-1,-1,-1,-1,-1,-1,-1,-1,-1,-1,-1,-1,-1,-1,-1,-1,-1,-1,-1,-1,-1,-1,-1,-1,-1,-1,-1,-1,-1,-1,-1,-1,-1,-1,-1,-1,-1,-1,-1,-1,-1,-1,-1,-1,-1,-1,-1,-1,-1,-1,-1,-1,-1,-1,-1,-1,-1,-1,-1,-1,-1,-1,-1,-1,-1,-1,-1,-1,-1,-1,-1,-1,-1,-1,-1,-1,-1,-1,-1,-1,-1,-1,-1,-1,-1,-1,-1,-1,-1,-1,-1,-1,-1,-1,-1,-1,-1,-1,-1,-1,-1,-1,-1,-1,-1,-1,-1,-1,-1,-1,-1,-1,-1,-1,-1,-1,-1,-1,-1,-1,-1,-1,-1,-1,-1,-1,-1,-1,-1,-1,-1,-1,-1,-1,-1,-1,-1,-1,-1,-1,-1,-1,-1,-1,-1,-1,-1,-1,-1,-1,-1,-1,-1,-1,-1,-1,-1,-1,-1,-1,-1,-1,-1,-1,-1,-1,-1,-1,-1,-1,-1,-1,-1,-1,-1,-1,-1,-1,-1,-1,-1,-1,-1,-1,-1,-1,-1,-1,-1,-1,-1,-1,-1,-1,-1,-1,-1,-1,-1,-1,-1,-1,-1,-1,-1,-1,-1,-1,-1,-1,-1,-1,-1,-1,-1,-1,-1,-1,-1,-1,-1,-1,-1,-1,-1,-1,-1,-1,-1,-1,-1,-1,-1,-1,-1,-1,-1,-1,-1,-1,-1,-1,-1,-1,-1,-1,-1,-1,-1,-1,-1,-1,-1,-1,-1,-1,-1,-1,-1,-1,-1,-1,-1,-1,-1,-1,-1,-1,-1,-1,-1,-1,-1,-1,-1,-1,-1,-1,-1,-1,-1,-1,-1,-1,-1,-1,-1,-1,-1,-1,-1,-1,-1,-1,-1,-1,-1,-1,-1,-1,-1,-1,-1,-1,-1,-1,-1,-1,-1,-1,-1,-1,-1,-1,-1,-1,-1,-1,-1,-1,-1,-1,-1,-1,-1,-1,-1,-1,-1,-1,-1,-1,-1,-1,-1,-1,-1,-1,-1,-1,-1,-1,-1,-1,-1,-1,-1,-1,-1,-1,-1,-1,-1,-1,-1,-1,-1,-1,-1,-1,-1,-1,-1,-1,-1,-1,-1,-1,-1,-1,-1,-1,-1,-1,-1,-1,-1,-1,-1,-1,-1,-1,-1,-1,-1,-1,-1,-1,-1,-1,-1,-1,-1,-1,-1,-1,-1,-1,-1,-1,-1,-1,-1,-1,-1,-1,-1,-1,-1,-1,-1,-1,-1,-1,-1,-1,-1,-1,-1,-1,-1,-1,-1,-1,-1,-1,-1,-1,-1,-1,-1,-1,-1,-1,-1,-1,-1,-1,-1,-1,-1,-1,-1,-1,-1,-1,-1,-1,-1,-1,-1,-1,-1,-1,-1,-1,-1,-1,-1,-1,-1,-1,-1,-1,-1,-1,-1,-1,-1,-1,-1,-1,-1,-1,-1,-1,-1,-1,-1,-1,-1,-1,-1,-1,-1,-1,-1,-1,-1,-1,-1,-1,-1,-1,-1,-1,-1,-1,-1,-1,-1,-1,-1,-1,-1,-1,-1,-1,-1,-1,-1,-1,-1,-1,-1,-1,-1,-1,-1,-1,-1,-1,-1,-1,-1,-1,-1,-1,-1,-1,-1,-1,-1,-1,-1,-1,-1,-1,-1,-1,-1,-1,-1,-1,-1,-1,-1,-1,-1,-1,-1,-1,-1,-1,-1,-1,-1,-1,-1,-1,-1,-1,-1,-1,-1,-1,-1,-1,-1,-1,-1,-1,-1,-1,-1,-1,-1,-1,-1,-1,-1,-1,-1,-1,-1,-1,-1,-1,-1,-1,-1,-1,-1,-1,-1,-1,-1,-1,-1,-1,-1,-1,-1,-1,-1,-1,-1,-1,-1,-1,-1,-1,-1,-1,-1,-1,-1,-1,-1,-1,-1,-1,-1,-1,-1,-1,-1,-1,-1,-1,-1,-1,-1,-1,-1,-1,-1,-1,-1,-1,-1,-1,-1,-1,-1,-1,-1,-1,-1,-1,-1,-1,-1,-1,-1,-1,-1,-1,-1,-1,-1,-1,-1,-1,-1,-1,-1,-1,-1,-1,-1,-1,-1,-1,-1,-1,-1,-1,-1,-1,-1,-1,-1,-1,-1,-1,-1,-1,-1,-1,-1,-1,-1,-1,-1,-1,-1,-1,-1,-1,-1,-1,-1,-1,-1,-1,-1,-1,-1,-1,-1,-1,-1,-1,-1,-1,-1,-1,-1,-1,-1,-1,-1,-1,-1,-1,-1,-1,-1,-1,-1,-1,-1,-1,-1,-1,-1,-1,-1,-1,-1,-1,-1,-1,-1,-1,-1,-1,-1,-1,-1,-1,-1,-1,-1,-1,-1,-1,-1,-1,-1,-1,-1,-1,-1,-1,-1,-1,-1,-1,-1,-1,-1,-1,-1,-1,-1,-1,-1,-1,-1,-1,-1,-1,-1,-1,-1,-1,-1,-1,-1,-1,-1,-1,-1,-1,-1,-1,-1,-1,-1,-1,-1,-1,-1,-1,-1,-1,-1,-1,-1,-1,-1,-1,-1,-1,-1,-1,-1,-1,-1,-1,-1,-1,-1,-1,-1,-1,-1,-1,-1,-1,-1,-1,-1,-1,-1,-1,-1,-1,-1,-1,-1,-1,-1,-1,-1,-1,-1,-1,-1,-1,-1,-1,-1,-1,-1,-1,-1,-1,-1,-1,-1,-1,-1,-1,-1,-1,-1,-1,-1,-1,-1,-1,-1,-1,-1,-1,-1,-1,-1,-1,-1,-1,-1,-1,-1,-1,-1,-1,-1,-1,-1,-1,-1,-1,-1,-1,-1,-1,-1,-1,-1,-1,-1,-1,-1,-1,-1,-1,-1,-1,-1,-1,-1,-1,-1,-1,-1,-1,-1,-1,-1,-1,-1,-1,-1,-1,-1,-1,-1,-1,-1,-1,-1,-1,-1,-1,-1,-1,-1,-1,-1,-1,-1,-1,-1,-1,-1,-1,-1,-1,-1,-1,-1,-1,-1,-1,-1,-1,-1,-1,-1,-1,-1,-1,-1,-1,-1,-1,-1,-1,-1,-1,-1,-1,-1,-1,-1,-1,-1,-1,-1,-1,-1,-1,-1,-1,-1,-1,-1,-1,-1,-1,-1,-1,-1,-1,-1,-1,-1,-1,-1,-1,-1,-1,-1,-1,-1,-1,-1,-1,-1,-1,-1,-1,-1,-1,-1,-1,-1,-1,-1,-1,-1,-1,-1,-1,-1,-1,-1,-1,-1,-1,-1,-1,-1,-1,-1,-1,-1,-1,-1,-1,-1,-1,-1,-1,-1,-1,-1,-1,-1,-1,-1,-1,-1,-1,-1,-1,-1,-1,-1,-1,-1,-1,-1,-1,-1,-1,-1,-1,-1,-1,-1,-1,-1,-1,-1,-1,-1,-1,-1,-1,-1,-1,-1,-1,-1,-1,-1,-1,-1,-1,-1,-1,-1,-1,-1,-1,-1,-1,-1,-1,-1,-1,-1,-1,-1,-1,-1,-1,-1,-1,-1,-1,-1,-1,-1,-1,-1,-1,-1,-1,-1,-1,-1,-1,-1,-1,-1,-1,-1,-1,-1,-1,-1,-1,-1,-1,-1,-1,-1,-1,-1,-1,-1,-1,-1,-1,-1,-1,-1,-1,-1,-1,-1,-1,-1,-1,-1,-1,-1,-1,-1,-1,-1,-1,-1,-1,-1,-1,-1,-1,-1,-1,-1,-1,-1,-1,-1,-1,-1,-1,-1,-1,-1,-1,-1,-1,-1,-1,-1,-1,-1,-1,-1,-1,-1,-1,-1,-1,-1,-1,-1,-1,-1,-1,-1,-1,-1,-1,-1,-1,-1,-1,-1,-1,-1,-1,-1,-1,-1,-1,-1,-1,-1,-1,-1,-1,-1,-1,-1,-1,-1,-1,-1,-1,-1,-1,-1,-1,-1,-1,-1,-1,-1,-1,-1,-1,-1,-1,-1,-1,-1,-1,-1,-1,-1,-1,-1,-1,-1,-1,-1,-1,-1,-1,-1,-1,-1,-1,-1,-1,-1,-1,-1,-1,-1,-1,-1,-1,-1,-1,-1,-1,-1,-1,-1,-1,-1,-1,-1,-1,-1,-1,-1,-1,-1,-1,-1,-1,-1,-1,-1,-1,-1,-1,-1,-1,-1,-1,-1,-1,-1,-1,-1,-1,-1,-1,-1,-1,-1,-1,-1,-1,-1,-1,-1,-1,-1,-1,-1,-1,-1,-1,-1,-1,-1,-1,-1,-1,-1,-1,-1,-1,-1,-1,-1,-1,-1,-1,-1,-1,-1,-1,-1,-1,-1,-1,-1,-1,-1,-1,-1,-1,-1,-1,-1,-1,-1,-1,-1,-1,-1,-1,-1,-1,-1,-1,-1,-1,-1,-1,-1,-1,-1,-1,-1,-1,-1,-1,-1,-1,-1,-1,-1,-1,-1,-1,-1,-1,-1,-1,-1,-1,-1,-1,-1,-1,-1,-1,-1,-1,-1,-1,-1,-1,-1,-1,-1,-1,-1,-1,-1,-1,-1,-1,-1,-1,-1,-1,-1,-1,-1,-1,-1,-1,-1,-1,-1,-1,-1,-1,-1,-1,-1,-1,-1,-1,-1,-1,-1,-1,-1,-1,-1,-1,-1,-1,-1,-1,-1,-1,-1,-1,-1,-1,-1,-1,-1,-1,-1,-1,-1,-1,-1,-1,-1,-1,-1,-1,-1,-1,-1,-1,-1,-1,-1,-1,-1,-1,-1,-1,-1,-1,-1,-1,-1,-1,-1,-1,-1,-1,-1,-1,-1,-1,-1,-1,-1,-1,-1,-1,-1,-1,-1,-1,-1,-1,-1,-1,-1,-1,-1,-1,-1,-1,-1,-1,-1,-1,-1,-1,-1,-1,-1,-1,-1,-1,-1,-1,-1,-1,-1,-1,-1,-1,-1,-1,-1,-1,-1,-1,-1,-1,-1,-1,-1,-1,-1,-1,-1,-1,-1,-1,-1,-1,-1,-1,-1,-1,-1,-1,-1,-1,-1,-1,-1,-1,-1,-1,-1,-1,-1,-1,-1,-1,-1,-1,-1,-1,-1,-1,-1,-1,-1,-1,-1,-1,-1,-1,-1,-1,-1,-1,-1,-1,-1,-1,-1,-1,-1,-1,-1,-1,-1,-1,-1,-1,-1,-1,-1,-1,-1,-1,-1,-1,-1,-1,-1,-1,-1,-1,-1,-1,-1,-1,-1,-1,-1,-1,-1,-1,-1,-1,-1,-1,-1,-1,-1,-1,-1,-1,-1,-1,-1,-1,-1,-1,-1,-1,-1,-1,-1,-1,-1,-1,-1,-1,-1,-1,-1,-1,-1,-1,-1,-1,-1,-1,-1,-1,-1,-1,-1,-1,-1,-1,-1,-1,-1,-1,-1,-1,-1,-1,-1,-1,-1,-1,-1,-1,-1,-1,-1,-1,-1,-1,-1,-1,-1,-1,-1,-1,-1,-1,-1,-1,-1,-1,-1,-1,-1,-1,-1,-1,-1,-1,-1,-1,-1,-1,-1\"}\n"
     ]
    }
   ],
   "source": [
    "%%bash\n",
    "# 確認\n",
    "cat DAJINResults/.tempdir/single_tyr_50/midsv/tyr_albino_50%_splice_control.jsonl | grep \"3d5bc6ea9b40\""
   ]
  },
  {
   "cell_type": "markdown",
   "metadata": {},
   "source": [
    "- `N`が配列長の半分を超えている場合にも、欠失となるバグは修正されました!"
   ]
  },
  {
   "cell_type": "code",
   "execution_count": 9,
   "metadata": {},
   "outputs": [
    {
     "name": "stdout",
     "output_type": "stream",
     "text": [
      "Classify...\n",
      "Clustering...\n"
     ]
    }
   ],
   "source": [
    "####################################################################################\n",
    "# Classify alleles\n",
    "####################################################################################\n",
    "print(\"Classify...\")\n",
    "\n",
    "classif_sample = classification.classify_alleles(TEMPDIR, SAMPLE_NAME)\n",
    "\n",
    "# for classif in classif_sample:\n",
    "#     classif[\"SV\"] = classification.detect_sv(classif[\"CSSPLIT\"], threshold=50)\n",
    "\n",
    "####################################################################################\n",
    "# Clustering\n",
    "####################################################################################\n",
    "print(\"Clustering...\")\n",
    "\n",
    "MUTATION_LOCI = clustering.extract_mutation_loci(TEMPDIR, FASTA_ALLELES, SAMPLE_NAME, CONTROL_NAME)\n"
   ]
  },
  {
   "cell_type": "code",
   "execution_count": 11,
   "metadata": {},
   "outputs": [
    {
     "name": "stdout",
     "output_type": "stream",
     "text": [
      "defaultdict(<class 'dict'>, {'control': {135: 'ins', 828: 'sub', 1142: 'ins'}})\n"
     ]
    }
   ],
   "source": [
    "print(MUTATION_LOCI)"
   ]
  },
  {
   "cell_type": "code",
   "execution_count": 10,
   "metadata": {},
   "outputs": [
    {
     "ename": "TypeError",
     "evalue": "'NoneType' object is not iterable",
     "output_type": "error",
     "traceback": [
      "\u001b[0;31m---------------------------------------------------------------------------\u001b[0m",
      "\u001b[0;31mTypeError\u001b[0m                                 Traceback (most recent call last)",
      "\u001b[1;32m/mnt/d/Research/DAJIN2/misc/scripts/20230413-clustering-handle-trancated-reads-2.ipynb セル 12\u001b[0m in \u001b[0;36m<cell line: 1>\u001b[0;34m()\u001b[0m\n\u001b[0;32m----> <a href='vscode-notebook-cell://wsl%2Bubuntu-20.04/mnt/d/Research/DAJIN2/misc/scripts/20230413-clustering-handle-trancated-reads-2.ipynb#Y146sdnNjb2RlLXJlbW90ZQ%3D%3D?line=0'>1</a>\u001b[0m clust_sample \u001b[39m=\u001b[39m clustering\u001b[39m.\u001b[39;49madd_labels(classif_sample, TEMPDIR, CONTROL_NAME, MUTATION_LOCI, THREADS)\n",
      "File \u001b[0;32m/mnt/d/Research/DAJIN2/src/DAJIN2/core/clustering/clustering.py:88\u001b[0m, in \u001b[0;36madd_labels\u001b[0;34m(classif_sample, TEMPDIR, CONTROL_NAME, MUTATION_LOCI, THREADS)\u001b[0m\n\u001b[1;32m     86\u001b[0m cssplits_sample \u001b[39m=\u001b[39m _extract_cssplits_in_mutation_by_3mer(cssplits_sample, mutation_loci)\n\u001b[1;32m     87\u001b[0m mutation_score \u001b[39m=\u001b[39m make_score(cssplits_control, cssplits_sample)\n\u001b[0;32m---> 88\u001b[0m scores_control \u001b[39m=\u001b[39m _annotate_score(cssplits_control, mutation_score)\n\u001b[1;32m     89\u001b[0m scores_sample \u001b[39m=\u001b[39m _annotate_score(cssplits_sample, mutation_score)\n\u001b[1;32m     90\u001b[0m labels \u001b[39m=\u001b[39m return_labels(scores_sample, scores_control)\n",
      "File \u001b[0;32m/mnt/d/Research/DAJIN2/src/DAJIN2/core/clustering/clustering.py:43\u001b[0m, in \u001b[0;36m_annotate_score\u001b[0;34m(cssplits, mutation_score)\u001b[0m\n\u001b[1;32m     41\u001b[0m \u001b[39mfor\u001b[39;00m cssplit \u001b[39min\u001b[39;00m cssplits:\n\u001b[1;32m     42\u001b[0m     score \u001b[39m=\u001b[39m []\n\u001b[0;32m---> 43\u001b[0m     \u001b[39mfor\u001b[39;00m cs, mutscore \u001b[39min\u001b[39;00m \u001b[39mzip\u001b[39;49m(cssplit, mutation_score):\n\u001b[1;32m     44\u001b[0m         \u001b[39mif\u001b[39;00m mutscore \u001b[39m==\u001b[39m {}:\n\u001b[1;32m     45\u001b[0m             score\u001b[39m.\u001b[39mappend(\u001b[39m0\u001b[39m)\n",
      "\u001b[0;31mTypeError\u001b[0m: 'NoneType' object is not iterable"
     ]
    }
   ],
   "source": [
    "clust_sample = clustering.add_labels(classif_sample, TEMPDIR, CONTROL_NAME, MUTATION_LOCI, THREADS)"
   ]
  },
  {
   "cell_type": "code",
   "execution_count": 12,
   "metadata": {},
   "outputs": [],
   "source": [
    "from __future__ import annotations\n",
    "\n",
    "from collections import defaultdict\n",
    "from itertools import groupby\n",
    "from pathlib import Path\n",
    "\n",
    "import midsv\n",
    "\n",
    "from DAJIN2.core.clustering.make_score import make_score\n",
    "from DAJIN2.core.clustering.return_labels import return_labels\n",
    "from DAJIN2.core.preprocess.correct_knockin import extract_knockin_loci\n",
    "\n",
    "\n",
    "def _compress_insertion(cssplits: list[list[str]]) -> list[dict[str, int]]:\n",
    "    \"\"\"Insertion will be subdivided by sequence error in the its sequence, so it is compressed as a '+I' to eliminate mutations.\n",
    "    #TODO ただ、これでは、insertion配列の中に真のmutationがある場合に、そのmutationを抽出できないので、**insertion配列の中にmutationがある場合は、insertion配列をそのまま残す**必要がある。\n",
    "    \"\"\"\n",
    "    cssplits_abstracted = []\n",
    "    for cssplit in cssplits:\n",
    "        for i, cs in enumerate(cssplit):\n",
    "            if cs.startswith(\"+\"):\n",
    "                cssplit[i] = \"+I\" + cs.split(\"|\")[-1]\n",
    "        cssplits_abstracted.append(cssplit)\n",
    "    return cssplits_abstracted\n",
    "\n",
    "\n",
    "def _extract_cssplits_in_mutation_by_3mer(cssplits_sample: list[list], mutation_loci: set) -> list[list]:\n",
    "    cssplits_mutation = []\n",
    "    for cssplits in cssplits_sample:\n",
    "        cs_mutation = []\n",
    "        for i in range(1, len(cssplits) - 1):\n",
    "            if i in mutation_loci:\n",
    "                kmer = \",\".join([cssplits[i - 1], cssplits[i], cssplits[i + 1]])\n",
    "                cs_mutation.append(kmer)\n",
    "        cssplits_mutation.append(cs_mutation)\n",
    "    return cssplits_mutation\n",
    "\n",
    "\n",
    "def _annotate_score(cssplits: list[list[str]], mutation_score: list[dict[str:float]]) -> list[list[float]]:\n",
    "    scores = []\n",
    "    for cssplit in cssplits:\n",
    "        score = []\n",
    "        for cs, mutscore in zip(cssplit, mutation_score):\n",
    "            if mutscore == {}:\n",
    "                score.append(0)\n",
    "                continue\n",
    "            mutation = list(mutscore.keys())[0]\n",
    "            value = list(mutscore.values())[0]\n",
    "            if cs == mutation:\n",
    "                score.append(value)\n",
    "            else:\n",
    "                score.append(0)\n",
    "        scores.append(score)\n",
    "    return scores\n",
    "\n",
    "\n",
    "def _reorder_labels(labels: list[int], start: int = 0) -> list[int]:\n",
    "    labels_ordered = labels.copy()\n",
    "    num = start\n",
    "    d = defaultdict(int)\n",
    "    for i, l in enumerate(labels_ordered):\n",
    "        if not d[l]:\n",
    "            num += 1\n",
    "            d[l] = num\n",
    "        labels_ordered[i] = d[l]\n",
    "    return labels_ordered\n",
    "\n",
    "\n",
    "def add_labels(classif_sample, TEMPDIR, CONTROL_NAME, MUTATION_LOCI, THREADS: int = 1) -> list[dict[str]]:\n",
    "    knockin_alleles = extract_knockin_loci(TEMPDIR)\n",
    "    labels_all = []\n",
    "    max_label = 0\n",
    "    classif_sample.sort(key=lambda x: x[\"ALLELE\"])\n",
    "    for allele, group in groupby(classif_sample, key=lambda x: x[\"ALLELE\"]):\n",
    "        mutation_loci: dict[int, str] = MUTATION_LOCI[allele]\n",
    "        if mutation_loci == {}:\n",
    "            labels_all.extend([1] * len(classif_sample))\n",
    "            continue\n",
    "        knockin_loci: set = knockin_alleles[allele]\n",
    "        cssplits_sample = [cs[\"CSSPLIT\"].split(\",\") for cs in group]\n",
    "        midsv_control = midsv.read_jsonl((Path(TEMPDIR, \"midsv\", f\"{CONTROL_NAME}_splice_{allele}.jsonl\")))\n",
    "        cssplits_control = [cs[\"CSSPLIT\"].split(\",\") for cs in midsv_control]\n",
    "        cssplits_control = _compress_insertion(cssplits_control)\n",
    "        cssplits_sample = _compress_insertion(cssplits_sample)\n",
    "        cssplits_control = _extract_cssplits_in_mutation_by_3mer(cssplits_control, mutation_loci)\n",
    "        cssplits_sample = _extract_cssplits_in_mutation_by_3mer(cssplits_sample, mutation_loci)\n",
    "        mutation_score = make_score(cssplits_control, cssplits_sample)\n",
    "        scores_control = _annotate_score(cssplits_control, mutation_score)\n",
    "        scores_sample = _annotate_score(cssplits_sample, mutation_score)\n",
    "        labels = return_labels(scores_sample, scores_control)\n",
    "        labels_reorder = _reorder_labels(labels, start=max_label)\n",
    "        max_label = max(labels_reorder)\n",
    "        labels_all.extend(labels_reorder)\n",
    "    clust_sample = classif_sample.copy()\n",
    "    for clust, label in zip(clust_sample, labels_all):\n",
    "        clust[\"LABEL\"] = label\n",
    "    return clust_sample\n",
    "\n",
    "\n",
    "def add_readnum(clust_sample: list[dict]) -> list[dict]:\n",
    "    clust_result = clust_sample.copy()\n",
    "    readnum = defaultdict(int)\n",
    "    for cs in clust_result:\n",
    "        readnum[cs[\"LABEL\"]] += 1\n",
    "    for cs in clust_result:\n",
    "        cs[\"READNUM\"] = readnum[cs[\"LABEL\"]]\n",
    "    return clust_result\n",
    "\n",
    "\n",
    "def add_percent(clust_sample: list[dict]) -> list[dict]:\n",
    "    clust_result = clust_sample.copy()\n",
    "    n_sample = len(clust_result)\n",
    "    percent = defaultdict(int)\n",
    "    for cs in clust_result:\n",
    "        percent[cs[\"LABEL\"]] += 1 / n_sample\n",
    "    percent = {key: round(val * 100, 3) for key, val in percent.items()}\n",
    "    for cs in clust_result:\n",
    "        cs[\"PERCENT\"] = percent[cs[\"LABEL\"]]\n",
    "    return clust_result\n",
    "\n",
    "\n",
    "def update_labels(clust_sample: list[dict]) -> list[dict]:\n",
    "    \"\"\"\n",
    "    Allocate new labels according to the ranking by PERCENT\n",
    "    \"\"\"\n",
    "    clust_result = clust_sample.copy()\n",
    "    clust_result.sort(key=lambda x: (-x[\"PERCENT\"], x[\"LABEL\"]))\n",
    "    new_label = 1\n",
    "    prev_label = clust_result[0][\"LABEL\"]\n",
    "    for cs in clust_result:\n",
    "        if prev_label != cs[\"LABEL\"]:\n",
    "            new_label += 1\n",
    "        prev_label = cs[\"LABEL\"]\n",
    "        cs[\"LABEL\"] = new_label\n",
    "    return clust_result\n"
   ]
  },
  {
   "cell_type": "code",
   "execution_count": 14,
   "metadata": {},
   "outputs": [],
   "source": [
    "import midsv\n",
    "allele = \"control\"\n",
    "mutation_loci = MUTATION_LOCI[allele]\n",
    "midsv_sample = midsv.read_jsonl((Path(TEMPDIR, \"midsv\", f\"{SAMPLE_NAME}_splice_{allele}.jsonl\")))\n",
    "midsv_control = midsv.read_jsonl((Path(TEMPDIR, \"midsv\", f\"{CONTROL_NAME}_splice_{allele}.jsonl\")))\n",
    "cssplits_sample = [cs[\"CSSPLIT\"].split(\",\") for cs in midsv_sample]\n",
    "cssplits_control = [cs[\"CSSPLIT\"].split(\",\") for cs in midsv_control]\n",
    "\n",
    "cssplits_control = _compress_insertion(cssplits_control)\n",
    "cssplits_sample = _compress_insertion(cssplits_sample)\n",
    "cssplits_control = _extract_cssplits_in_mutation_by_3mer(cssplits_control, mutation_loci)\n",
    "cssplits_sample = _extract_cssplits_in_mutation_by_3mer(cssplits_sample, mutation_loci)\n",
    "mutation_score = make_score(cssplits_control, cssplits_sample)"
   ]
  },
  {
   "cell_type": "code",
   "execution_count": 18,
   "metadata": {},
   "outputs": [
    {
     "name": "stdout",
     "output_type": "stream",
     "text": [
      "10000\n",
      "5000\n",
      "None\n"
     ]
    }
   ],
   "source": [
    "print(len(cssplits_control))\n",
    "print(len(cssplits_sample))\n",
    "print(mutation_score)"
   ]
  },
  {
   "cell_type": "code",
   "execution_count": 19,
   "metadata": {},
   "outputs": [],
   "source": [
    "from __future__ import annotations\n",
    "\n",
    "from collections import Counter\n",
    "\n",
    "\n",
    "def _call_count(cssplits: list[list[str]]) -> list[dict[str, int]]:\n",
    "    count_kmer = []\n",
    "    for cs in list(zip(*cssplits)):\n",
    "        count_kmer.append(dict(Counter(cs)))\n",
    "    return count_kmer\n",
    "\n",
    "\n",
    "def _call_percent(counts: list[dict[str:int]]) -> list[dict[str:float]]:\n",
    "    cssplit_percent = []\n",
    "    coverage = sum(counts[0].values())\n",
    "    for count in counts:\n",
    "        percent = {k: v / coverage * 100 for k, v in count.items()}\n",
    "        cssplit_percent.append(percent)\n",
    "    return cssplit_percent\n",
    "\n",
    "\n",
    "def _subtract_percentage(percent_control, percent_sample) -> list[dict]:\n",
    "    sample_subtracted = []\n",
    "    for cont, samp in zip(percent_control, percent_sample):\n",
    "        samp = Counter(samp)\n",
    "        samp.subtract(Counter(cont))\n",
    "        sample_subtracted.append(dict(samp))\n",
    "    return sample_subtracted\n",
    "\n",
    "\n",
    "def _discard_common_error(percent_subtraction, threshold=0.5) -> list[dict]:\n",
    "    percent_discarded = []\n",
    "    for samp in percent_subtraction:\n",
    "        remained = {k: v for k, v in samp.items() if v > threshold}\n",
    "        percent_discarded.append(remained)\n",
    "    return percent_discarded\n",
    "\n",
    "\n",
    "def _discard_match(percent_discarded) -> list[dict]:\n",
    "    mutation_score = []\n",
    "    for samp in percent_discarded:\n",
    "        if samp == {}:\n",
    "            continue\n",
    "        if \"\" in samp:\n",
    "            continue\n",
    "        if list(samp.keys())[0].split(\",\")[1].startswith(\"=\"):\n",
    "            continue\n",
    "        remained = {k: v for k, v in samp.items()}\n",
    "        mutation_score.append(remained)\n",
    "\n",
    "\n",
    "###############################################################################\n",
    "# main\n",
    "###############################################################################\n",
    "\n",
    "\n",
    "def make_score(cssplits_control, cssplits_sample) -> list[dict[str, float]]:\n",
    "    counts_control = _call_count(cssplits_control)\n",
    "    counts_sample = _call_count(cssplits_sample)\n",
    "    percent_control = _call_percent(counts_control)\n",
    "    percent_sample = _call_percent(counts_sample)\n",
    "    percent_subtraction = _subtract_percentage(percent_control, percent_sample)\n",
    "    percent_discarded = _discard_common_error(percent_subtraction, 0.5)\n",
    "    mutation_score = _discard_match(percent_discarded)\n",
    "    return mutation_score\n"
   ]
  },
  {
   "cell_type": "code",
   "execution_count": 20,
   "metadata": {},
   "outputs": [
    {
     "name": "stdout",
     "output_type": "stream",
     "text": [
      "None\n"
     ]
    }
   ],
   "source": [
    "counts_control = _call_count(cssplits_control)\n",
    "counts_sample = _call_count(cssplits_sample)\n",
    "percent_control = _call_percent(counts_control)\n",
    "percent_sample = _call_percent(counts_sample)\n",
    "percent_subtraction = _subtract_percentage(percent_control, percent_sample)\n",
    "percent_discarded = _discard_common_error(percent_subtraction, 0.5)\n",
    "mutation_score = _discard_match(percent_discarded)"
   ]
  },
  {
   "cell_type": "code",
   "execution_count": 40,
   "metadata": {},
   "outputs": [],
   "source": [
    "def _discard_match(percent_discarded) -> list[dict]:\n",
    "    mutation_score = []\n",
    "    for samp in percent_discarded:\n",
    "        if samp == {}:\n",
    "            score = {}\n",
    "        elif \"\" in samp:\n",
    "            score = {}\n",
    "        elif list(samp.keys())[0].split(\",\")[1].startswith(\"=\"):\n",
    "            score = {}\n",
    "        else:\n",
    "            score = {k: v for k, v in samp.items()}\n",
    "        mutation_score.append(score)\n",
    "    return mutation_score\n"
   ]
  },
  {
   "cell_type": "code",
   "execution_count": 41,
   "metadata": {},
   "outputs": [],
   "source": [
    "counts_control = _call_count(cssplits_control)\n",
    "counts_sample = _call_count(cssplits_sample)\n",
    "percent_control = _call_percent(counts_control)\n",
    "percent_sample = _call_percent(counts_sample)\n",
    "percent_subtraction = _subtract_percentage(percent_control, percent_sample)\n",
    "percent_discarded = _discard_common_error(percent_subtraction, 0.5)\n",
    "mutation_score = _discard_match(percent_discarded)"
   ]
  },
  {
   "cell_type": "code",
   "execution_count": 43,
   "metadata": {},
   "outputs": [
    {
     "name": "stdout",
     "output_type": "stream",
     "text": [
      "[{}, {'=C,*GT,=T': 49.48}, {'N,N,N': 0.6799999999999999}]\n"
     ]
    }
   ],
   "source": [
    "print(mutation_score)"
   ]
  },
  {
   "cell_type": "code",
   "execution_count": 44,
   "metadata": {},
   "outputs": [
    {
     "name": "stdout",
     "output_type": "stream",
     "text": [
      "['=C,=T,=T', '=C,*GT,=T', '=C,=T,=A']\n",
      "{'=C,=T,=A': 4794, '=C,+I=T,=A': 61, 'N,N,N': 91, '-C,-T,-A': 18, '=C,+I*TC,=A': 5, '+I=C,=T,=A': 15, '=C,=T,+I=A': 11, '+I=C,+I=T,=A': 2, '=c,=t,=a': 1, '=C,=T,+I*AT': 1, '=C,=T,+I*AC': 1}\n",
      "{'=C,=T,=A': 95.88, '=C,+I=T,=A': 1.22, 'N,N,N': 1.82, '-C,-T,-A': 0.36, '=C,+I*TC,=A': 0.1, '+I=C,=T,=A': 0.3, '=C,=T,+I=A': 0.22, '+I=C,+I=T,=A': 0.04, '=c,=t,=a': 0.02, '=C,=T,+I*AT': 0.02, '=C,=T,+I*AC': 0.02}\n",
      "{'=C,=T,=A': -1.1299999999999955, '=C,+I=T,=A': 0.47, 'N,N,N': 0.6799999999999999, '-C,-T,-A': -0.08999999999999997, '=C,+I*TC,=A': 0.020000000000000004, '+I=C,=T,=A': 0.09, '=C,=T,+I=A': 0.0, '+I=C,+I=T,=A': 0.03, '=c,=t,=a': 0.02, '=C,=T,+I*AT': 0.01, '=C,=T,+I*AC': -0.030000000000000002, '=C,N,N': -0.01, '-C,=T,+I=A': -0.01, '=C,+I=T,+I=A': -0.01, '+I*CT,=T,=A': -0.01, '=C,=T,+I*AG': -0.01, '=C,+I=T,+I*AC': -0.01, '+I=C,=T,+I=A': -0.01}\n",
      "{'N,N,N': 0.6799999999999999}\n"
     ]
    }
   ],
   "source": [
    "print(cssplits_sample[3])\n",
    "print(counts_sample[2])\n",
    "print(percent_sample[2])\n",
    "print(percent_subtraction[2])\n",
    "print(percent_discarded[2])\n"
   ]
  },
  {
   "cell_type": "markdown",
   "metadata": {},
   "source": [
    "- 'N,N,N'は評価対象としない"
   ]
  },
  {
   "cell_type": "code",
   "execution_count": 54,
   "metadata": {},
   "outputs": [],
   "source": [
    "def _discard_match_and_n(percent_discarded) -> list[dict]:\n",
    "    mutation_score = []\n",
    "    for samp in percent_discarded:\n",
    "        if samp == {} or \"\" in samp:\n",
    "            mutation_score.append({})\n",
    "            continue\n",
    "        cs_center = list(samp.keys())[0].split(\",\")[1]\n",
    "        if cs_center.startswith(\"=\") or cs_center == (\"N\"):\n",
    "            mutation_score.append({})\n",
    "            continue\n",
    "        score = {k: v for k, v in samp.items()}\n",
    "        mutation_score.append(score)\n",
    "    return mutation_score\n",
    "\n"
   ]
  },
  {
   "cell_type": "code",
   "execution_count": 55,
   "metadata": {},
   "outputs": [
    {
     "name": "stdout",
     "output_type": "stream",
     "text": [
      "[{}, {'=C,*GT,=T': 49.48}, {}]\n"
     ]
    }
   ],
   "source": [
    "counts_control = _call_count(cssplits_control)\n",
    "counts_sample = _call_count(cssplits_sample)\n",
    "percent_control = _call_percent(counts_control)\n",
    "percent_sample = _call_percent(counts_sample)\n",
    "percent_subtraction = _subtract_percentage(percent_control, percent_sample)\n",
    "percent_discarded = _discard_common_error(percent_subtraction, 0.5)\n",
    "mutation_score = _discard_match_and_n(percent_discarded)\n",
    "print(mutation_score)"
   ]
  },
  {
   "cell_type": "code",
   "execution_count": 56,
   "metadata": {},
   "outputs": [],
   "source": [
    "scores_control = _annotate_score(cssplits_control, mutation_score)\n",
    "scores_sample = _annotate_score(cssplits_sample, mutation_score)\n",
    "labels = return_labels(scores_sample, scores_control)"
   ]
  },
  {
   "cell_type": "code",
   "execution_count": 57,
   "metadata": {},
   "outputs": [
    {
     "data": {
      "text/plain": [
       "Counter({2: 2522, 1: 2478})"
      ]
     },
     "execution_count": 57,
     "metadata": {},
     "output_type": "execute_result"
    }
   ],
   "source": [
    "from collections import Counter\n",
    "Counter(labels)"
   ]
  },
  {
   "attachments": {},
   "cell_type": "markdown",
   "metadata": {},
   "source": [
    "- 意図した通り、`mutation_score`から'N,N,N'のスコアがなくなりました\n",
    "- Batchで動作確認をします"
   ]
  },
  {
   "cell_type": "code",
   "execution_count": 60,
   "metadata": {},
   "outputs": [
    {
     "name": "stderr",
     "output_type": "stream",
     "text": [
      "misc/data/tyr_control.fq.gz is now processing...\n",
      "misc/data/tyr_albino_50%.fq.gz is now processing...\n"
     ]
    },
    {
     "name": "stdout",
     "output_type": "stream",
     "text": [
      "Classify...\n",
      "Clustering...\n",
      "Consensus call...\n"
     ]
    },
    {
     "name": "stderr",
     "output_type": "stream",
     "text": [
      "misc/data/tyr_albino_10%.fq.gz is now processing...\n"
     ]
    },
    {
     "name": "stdout",
     "output_type": "stream",
     "text": [
      "Classify...\n",
      "Clustering...\n",
      "Consensus call...\n"
     ]
    },
    {
     "name": "stderr",
     "output_type": "stream",
     "text": [
      "misc/data/tyr_albino_01%.fq.gz is now processing...\n"
     ]
    },
    {
     "name": "stdout",
     "output_type": "stream",
     "text": [
      "Classify...\n",
      "Clustering...\n",
      "Consensus call...\n"
     ]
    },
    {
     "name": "stderr",
     "output_type": "stream",
     "text": [
      "Finished! Open DAJINResults/batch_tyr_50_10_01 to see the report.\n",
      "\n",
      "real\t9m59.444s\n",
      "user\t8m49.080s\n",
      "sys\t2m15.376s\n"
     ]
    }
   ],
   "source": [
    "%%bash\n",
    "rm -rf DAJINResults/batch_tyr_50_10_01 DAJINResults/.tempdir/batch_tyr_50_10_01\n",
    "time DAJIN2 batch -f misc/data/design_batch_tyr_50_10_01.csv"
   ]
  },
  {
   "attachments": {
    "image.png": {
     "image/png": "[encoded data removed]"
    }
   },
   "cell_type": "markdown",
   "metadata": {},
   "source": [
    "- いい感じに`SV`がなくなりました！\n",
    "\n",
    "![image.png](attachment:image.png)\n",
    "\n",
    "- 次に、ほかのサンプルでも適応できるのかを確認しましょう"
   ]
  },
  {
   "cell_type": "code",
   "execution_count": null,
   "metadata": {},
   "outputs": [],
   "source": []
  },
  {
   "cell_type": "markdown",
   "metadata": {},
   "source": [
    "# 👉👉👉 いまここ 👈👈👈"
   ]
  },
  {
   "cell_type": "code",
   "execution_count": null,
   "metadata": {},
   "outputs": [],
   "source": []
  },
  {
   "attachments": {},
   "cell_type": "markdown",
   "metadata": {},
   "source": [
    "# 👌👌👌 まとめ 👌👌👌\n"
   ]
  },
  {
   "attachments": {},
   "cell_type": "markdown",
   "metadata": {},
   "source": [
    "- `clustering`の`make_score`を更新し、`N`に対してスコアを付与しない方針にしました\n",
    "- **次に、ほかのサンプルでも適応できるのかを確認する必要があります**\n",
    "- もしうまく行ったら、最後の砦？であるknock-in配列について進みます\n",
    "    - VCFのほうが砦かもしれませんが"
   ]
  },
  {
   "attachments": {},
   "cell_type": "markdown",
   "metadata": {},
   "source": [
    "# 次に取り組むこと"
   ]
  },
  {
   "attachments": {},
   "cell_type": "markdown",
   "metadata": {},
   "source": [
    "### Lists\n",
    "\n",
    "+ ✅ 断端リードの扱いをどうするべきか\n",
    "+ ✅ `SV`の判定をconsensus callのあとにする\n",
    "+ ⬜ Insertionのなかにある変異を同定する手法を考案する\n",
    "+ ⬜ Ayabe-taks1のright_loxpがいまいちな理由を考察する\n",
    "> + ⬜ cis変異の両端が欠失している場合に、Nで置き換えるとtransとなってしまうのをどうするか（`clustering.replace_both_ends_n`）\n",
    "> + ⬜ `preprocess.correct_sequence_error.replace_atmark`のコードがわかりにくい\n",
    "    + テストを用意してリファクタリングする"
   ]
  },
  {
   "cell_type": "markdown",
   "metadata": {},
   "source": []
  }
 ],
 "metadata": {
  "kernelspec": {
   "display_name": "base",
   "language": "python",
   "name": "python3"
  },
  "language_info": {
   "codemirror_mode": {
    "name": "ipython",
    "version": 3
   },
   "file_extension": ".py",
   "mimetype": "text/x-python",
   "name": "python",
   "nbconvert_exporter": "python",
   "pygments_lexer": "ipython3",
   "version": "3.10.6"
  },
  "orig_nbformat": 4,
  "vscode": {
   "interpreter": {
    "hash": "a09285d6cbc768c1977f96e8deb5ca1ec0d08675e9573ed6dfd37fd7d91de663"
   }
  }
 },
 "nbformat": 4,
 "nbformat_minor": 2
}
