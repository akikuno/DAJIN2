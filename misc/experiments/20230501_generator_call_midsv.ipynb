{
 "cells": [
  {
   "attachments": {},
   "cell_type": "markdown",
   "metadata": {},
   "source": [
    "# 今回の取り組み"
   ]
  },
  {
   "attachments": {},
   "cell_type": "markdown",
   "metadata": {},
   "source": [
    "- `call_midsv`の内部処理を可能な限りGeneratorに変更します"
   ]
  },
  {
   "cell_type": "markdown",
   "metadata": {},
   "source": [
    "## いつものセットアップ"
   ]
  },
  {
   "cell_type": "code",
   "execution_count": 2,
   "metadata": {},
   "outputs": [
    {
     "name": "stdout",
     "output_type": "stream",
     "text": [
      "/mnt/d/Research/DAJIN2\n"
     ]
    }
   ],
   "source": [
    "# ルートディレクトリをPathに含めるおまじない\n",
    "import sys, os\n",
    "from pathlib import Path\n",
    "if Path(os.getcwd()).stem != \"DAJIN2\":\n",
    "    parent_path = str(Path(os.path.dirname(os.path.abspath(\"__file__\"))).parent.parent)\n",
    "    sys.path.append(parent_path)\n",
    "    os.chdir(parent_path)\n",
    "\n",
    "print(os.getcwd())\n",
    "sys.path.append(os.getcwd() + \"/\" + \"src\")"
   ]
  },
  {
   "cell_type": "code",
   "execution_count": 3,
   "metadata": {},
   "outputs": [
    {
     "name": "stderr",
     "output_type": "stream",
     "text": [
      "WARNING: Skipping DAJIN2 as it is not installed.\n"
     ]
    }
   ],
   "source": [
    "%%bash\n",
    "pip uninstall -qy DAJIN2\n",
    "# pipの更新\n",
    "# pip install -q -U pip\n",
    "# pip install -q -U -r requirements.txt"
   ]
  },
  {
   "attachments": {},
   "cell_type": "markdown",
   "metadata": {},
   "source": [
    "# 実験"
   ]
  },
  {
   "cell_type": "code",
   "execution_count": 4,
   "metadata": {},
   "outputs": [
    {
     "name": "stdout",
     "output_type": "stream",
     "text": [
      "processing single-tyr50...\n"
     ]
    }
   ],
   "source": [
    "from __future__ import annotations\n",
    "\n",
    "import sys, os\n",
    "from pathlib import Path\n",
    "\n",
    "import hashlib\n",
    "from collections import defaultdict\n",
    "from pathlib import Path\n",
    "from importlib import reload\n",
    "\n",
    "from src.DAJIN2.core import preprocess, classification, clustering, consensus, report\n",
    "\n",
    "reload(preprocess)\n",
    "reload(classification)\n",
    "reload(clustering)\n",
    "reload(consensus)\n",
    "reload(report)\n",
    "\n",
    "#### # * Subset of Point mutation\n",
    "#### # 50 or 10 or 01%\n",
    "percent = \"50\"\n",
    "SAMPLE, CONTROL, ALLELE, NAME, GENOME, DEBUG, THREADS = (\n",
    "    f\"misc/data/tyr_albino_{percent}%.fq.gz\",\n",
    "    \"misc/data/tyr_control.fq.gz\",\n",
    "    \"misc/data/tyr_control.fasta\",\n",
    "    \"single-tyr50\",\n",
    "    \"mm10\",\n",
    "    True,\n",
    "    30,\n",
    ")\n",
    "\n",
    "\n",
    "######################################################################\n",
    "# Preprocessing\n",
    "######################################################################\n",
    "\n",
    "print(f\"processing {NAME}...\")\n",
    "\n",
    "SAMPLE = preprocess.format_inputs.convert_to_posix_path(SAMPLE)\n",
    "CONTROL = preprocess.format_inputs.convert_to_posix_path(CONTROL)\n",
    "ALLELE = preprocess.format_inputs.convert_to_posix_path(ALLELE)\n",
    "\n",
    "# ====================================================================\n",
    "# Varidate inputs\n",
    "# ====================================================================\n",
    "\n",
    "preprocess.validate_inputs.check_files(SAMPLE, CONTROL, ALLELE)\n",
    "TEMPDIR = Path(\"DAJINResults\", \".tempdir\", NAME)\n",
    "IS_CACHE_CONTROL = preprocess.validate_inputs.exists_cached_control(CONTROL, TEMPDIR)\n",
    "IS_CACHE_GENOME = preprocess.validate_inputs.exists_cached_genome(GENOME, TEMPDIR, IS_CACHE_CONTROL)\n",
    "UCSC_URL, GOLDENPATH_URL = None, None\n",
    "if GENOME and not IS_CACHE_GENOME:\n",
    "    UCSC_URL, GOLDENPATH_URL = preprocess.validate_inputs.check_and_fetch_genome(GENOME)\n",
    "\n",
    "# ====================================================================\n",
    "# Format inputs\n",
    "# ====================================================================\n",
    "SAMPLE_NAME = preprocess.format_inputs.extract_basename(SAMPLE)\n",
    "CONTROL_NAME = preprocess.format_inputs.extract_basename(CONTROL)\n",
    "FASTA_ALLELES = preprocess.format_inputs.dictionize_allele(ALLELE)\n",
    "THREADS = preprocess.format_inputs.update_threads(THREADS)\n",
    "\n",
    "preprocess.format_inputs.make_directories(TEMPDIR, SAMPLE_NAME, CONTROL_NAME)\n",
    "\n",
    "if GENOME:\n",
    "    GENOME_COODINATES = preprocess.format_inputs.fetch_coodinate(GENOME, UCSC_URL, FASTA_ALLELES[\"control\"])\n",
    "    CHROME_SIZE = preprocess.format_inputs.fetch_chrom_size(GENOME_COODINATES[\"chr\"], GENOME, GOLDENPATH_URL)\n",
    "    preprocess.format_inputs.cache_coodinates_and_chromsize(TEMPDIR, GENOME, GENOME_COODINATES, CHROME_SIZE)\n"
   ]
  },
  {
   "cell_type": "code",
   "execution_count": 6,
   "metadata": {},
   "outputs": [],
   "source": [
    "# for path_fasta in Path(TEMPDIR, \"fasta\").glob(\"*.fasta\"):\n",
    "#     name_fasta = path_fasta.stem\n",
    "#     preprocess.mappy_align.output_sam(TEMPDIR, path_fasta, name_fasta, SAMPLE, SAMPLE_NAME, threads=THREADS)\n",
    "#     preprocess.mappy_align.output_sam(\n",
    "#         TEMPDIR, path_fasta, name_fasta, SAMPLE, SAMPLE_NAME, preset=\"splice\", threads=THREADS\n",
    "#     )\n"
   ]
  },
  {
   "cell_type": "code",
   "execution_count": 7,
   "metadata": {},
   "outputs": [
    {
     "ename": "NameError",
     "evalue": "name '_replaceNtoD_cssplits' is not defined",
     "output_type": "error",
     "traceback": [
      "\u001b[0;31m---------------------------------------------------------------------------\u001b[0m",
      "\u001b[0;31mNameError\u001b[0m                                 Traceback (most recent call last)",
      "\u001b[1;32m/mnt/d/Research/DAJIN2/misc/experiments/20230501_generator_call_midsv.ipynb セル 9\u001b[0m in \u001b[0;36m<cell line: 1>\u001b[0;34m()\u001b[0m\n\u001b[0;32m----> <a href='vscode-notebook-cell://wsl%2Bubuntu-20.04/mnt/d/Research/DAJIN2/misc/experiments/20230501_generator_call_midsv.ipynb#X12sdnNjb2RlLXJlbW90ZQ%3D%3D?line=0'>1</a>\u001b[0m midsv_sample_alleles \u001b[39m=\u001b[39m preprocess\u001b[39m.\u001b[39;49mcall_midsv(TEMPDIR, FASTA_ALLELES, SAMPLE_NAME)\n\u001b[1;32m      <a href='vscode-notebook-cell://wsl%2Bubuntu-20.04/mnt/d/Research/DAJIN2/misc/experiments/20230501_generator_call_midsv.ipynb#X12sdnNjb2RlLXJlbW90ZQ%3D%3D?line=1'>2</a>\u001b[0m \u001b[39mprint\u001b[39m(\u001b[39mtype\u001b[39m(midsv_sample_alleles))\n\u001b[1;32m      <a href='vscode-notebook-cell://wsl%2Bubuntu-20.04/mnt/d/Research/DAJIN2/misc/experiments/20230501_generator_call_midsv.ipynb#X12sdnNjb2RlLXJlbW90ZQ%3D%3D?line=2'>3</a>\u001b[0m \u001b[39mprint\u001b[39m(midsv_sample_alleles)\n",
      "File \u001b[0;32m/mnt/d/Research/DAJIN2/src/DAJIN2/core/preprocess/call_midsv.py:136\u001b[0m, in \u001b[0;36mcall_midsv\u001b[0;34m(TEMPDIR, FASTA_ALLELES, SAMPLE_NAME)\u001b[0m\n\u001b[1;32m    134\u001b[0m     midsv_of_single_read \u001b[39m=\u001b[39m _midsv_transform(sam_of_map_ont)\n\u001b[1;32m    135\u001b[0m     midsv_of_multiple_reads \u001b[39m=\u001b[39m _midsv_transform(sam_of_splice)\n\u001b[0;32m--> 136\u001b[0m     midsv_sample[allele] \u001b[39m=\u001b[39m _replaceNtoD_cssplits(chain(midsv_of_single_read, midsv_of_multiple_reads), sequence)\n\u001b[1;32m    137\u001b[0m \u001b[39m# print(\"PICKLED MIDSV!!\") #! ==================================\u001b[39;00m\n\u001b[1;32m    138\u001b[0m \u001b[39m# with open(Path(TEMPDIR, \"midsv\", f\"{SAMPLE_NAME}.plk\"), 'wb') as p:\u001b[39;00m\n\u001b[1;32m    139\u001b[0m \u001b[39m#     pickle.dump(midsv_sample, p)\u001b[39;00m\n\u001b[1;32m    140\u001b[0m \u001b[39mreturn\u001b[39;00m midsv_sample\n",
      "\u001b[0;31mNameError\u001b[0m: name '_replaceNtoD_cssplits' is not defined"
     ]
    }
   ],
   "source": [
    "midsv_sample_alleles = preprocess.call_midsv(TEMPDIR, FASTA_ALLELES, SAMPLE_NAME)\n",
    "print(type(midsv_sample_alleles))\n",
    "print(midsv_sample_alleles)"
   ]
  },
  {
   "cell_type": "code",
   "execution_count": 13,
   "metadata": {},
   "outputs": [],
   "source": [
    "from __future__ import annotations\n",
    "\n",
    "import midsv\n",
    "from pathlib import Path\n",
    "import re\n",
    "from itertools import groupby\n",
    "from itertools import chain\n",
    "import pickle\n",
    "from typing import Generator\n",
    "\n",
    "\n",
    "def _load_sam(path_sam: str | Path) -> Generator[list[str]]:\n",
    "    return midsv.read_sam(path_sam)\n",
    "\n",
    "def _split_cigar(CIGAR:str) -> list[str]:\n",
    "    cigar = re.split(r\"([MIDNSH=X])\", CIGAR)\n",
    "    n = len(cigar)\n",
    "    cigar_split = []\n",
    "    for i, j in zip(range(0, n, 2), range(1, n, 2)):\n",
    "        cigar_split.append(cigar[i] + cigar[j])\n",
    "    return cigar_split\n",
    "\n",
    "\n",
    "def _call_alignment_length(CIGAR: str) -> int:\n",
    "    cigar_split = _split_cigar(CIGAR)\n",
    "    alignment_length = 0\n",
    "    for c in cigar_split:\n",
    "        if re.search(r\"[MDN=X]\", c[-1]):\n",
    "            alignment_length += int(c[:-1])\n",
    "    return alignment_length\n",
    "\n",
    "\n",
    "\n",
    "def _has_inversion_in_splice(CIGAR: str) -> bool:\n",
    "    is_splice = False\n",
    "    is_insertion = False\n",
    "    for cigar in _split_cigar(CIGAR):\n",
    "        if cigar.endswith(\"I\"):\n",
    "            is_insertion = True\n",
    "            continue\n",
    "        if is_insertion and cigar.endswith(\"N\"):\n",
    "            is_splice = True\n",
    "            break\n",
    "        else:\n",
    "            is_insertion = False\n",
    "    return is_splice\n",
    "\n",
    "\n",
    "def _extract_qname_of_map_ont(sam_ont: Generator[list[str]], sam_splice: Generator[list[str]]) -> set():\n",
    "    \"\"\"Extract qname of reads from `map-ont` when:\n",
    "        - no inversion signal in `splice` alignment (insertion + deletion)\n",
    "        - single read\n",
    "        - long alignment length\n",
    "    \"\"\"\n",
    "    dict_alignments_splice = {s[0]: s for s in sam_splice if not s[0].startswith(\"@\")}\n",
    "    alignments_ont = [s for s in sam_ont if not s[0].startswith(\"@\")]\n",
    "    alignments_ont.sort(key=lambda x: x[0])\n",
    "    qname_of_map_ont = set()\n",
    "    for qname_ont, group in groupby(alignments_ont, key=lambda x: x[0]):\n",
    "        alignment_ont = list(group)\n",
    "        if not qname_ont in dict_alignments_splice:\n",
    "            qname_of_map_ont.add(qname_ont)\n",
    "            continue\n",
    "        alignment_splice = dict_alignments_splice[qname_ont]\n",
    "        if _has_inversion_in_splice(alignment_splice[5]):\n",
    "            qname_of_map_ont.add(qname_ont)\n",
    "            continue\n",
    "        if len(alignment_ont) != 1:\n",
    "            continue\n",
    "        alignment_ont = alignment_ont[0]\n",
    "        alignment_length_ont = _call_alignment_length(alignment_ont[5])\n",
    "        alignment_length_splice = _call_alignment_length(alignment_splice[5])\n",
    "        if alignment_length_ont >= alignment_length_splice:\n",
    "            qname_of_map_ont.add(qname_ont)\n",
    "    return qname_of_map_ont\n",
    "\n",
    "\n",
    "def _extract_sam(sam: Generator[list[str]], qname_of_map_ont: set, preset:str=\"map-ont\") -> Generator[list[str]]:\n",
    "    for alignment in sam:\n",
    "        if alignment[0].startswith(\"@\"):\n",
    "            yield alignment\n",
    "        if preset == \"map-ont\":\n",
    "            if alignment[0] in qname_of_map_ont:\n",
    "                yield alignment\n",
    "        else:\n",
    "            if alignment[0] not in qname_of_map_ont:\n",
    "                yield alignment\n",
    "\n",
    "\n",
    "def _midsv_transform(sam: Generator[list[str]]) -> Generator[list[str]]:\n",
    "    for midsv_sample in midsv.transform(sam, midsv=False, cssplit=True, qscore=False):\n",
    "        yield midsv_sample\n",
    "\n",
    "def _replaceNtoD(midsv_sample: Generator[list[str]], sequence: str) -> list[dict[str, str]]:\n",
    "    midsv_replaced = []\n",
    "    for samp in midsv_sample:\n",
    "        qname = samp[\"QNAME\"]\n",
    "        cssplits = samp[\"CSSPLIT\"].split(\",\")\n",
    "        # extract right/left index of the end of sequential Ns\n",
    "        left_idx_n = 0\n",
    "        for cs in cssplits:\n",
    "            if cs != \"N\":\n",
    "                break\n",
    "            left_idx_n += 1\n",
    "        right_idx_n = 0\n",
    "        for cs in cssplits[::-1]:\n",
    "            if cs != \"N\":\n",
    "                break\n",
    "            right_idx_n += 1\n",
    "        right_idx_n = len(cssplits) - right_idx_n - 1\n",
    "        # replace sequential Ns within the sequence\n",
    "        for j, (cs, seq) in enumerate(zip(cssplits, sequence)):\n",
    "            if left_idx_n <= j <= right_idx_n and cs == \"N\":\n",
    "                cssplits[j] = f\"-{seq}\"\n",
    "        midsv_replaced.append({\"QNAME\": qname, \"CSSPLIT\": \",\".join(cssplits)})\n",
    "    return midsv_replaced\n",
    "\n",
    "\n",
    "\n",
    "# def _replace_midsv_cssplits(midsv_sample: Generator[list[str]], cssplits: Generator[str]) -> Generator[list[str]]:\n",
    "#     # Update midsv\n",
    "#     for i, samp in enumerate(midsv_sample):\n",
    "#         samp[\"CSSPLIT\"] = cssplits_replaced[i]\n",
    "#         yield samp\n",
    "\n",
    "\n",
    "\n",
    "def call_midsv(TEMPDIR: Path | str, FASTA_ALLELES: dict, SAMPLE_NAME: str) -> dict[list[list[str]]]:\n",
    "    midsv_sample = dict()\n",
    "    for allele, sequence in FASTA_ALLELES.items():\n",
    "        path_sam_ont = f\"{TEMPDIR}/sam/{SAMPLE_NAME}_map-ont_{allele}.sam\"\n",
    "        path_sam_splice = f\"{TEMPDIR}/sam/{SAMPLE_NAME}_splice_{allele}.sam\"\n",
    "        qname_of_map_ont = _extract_qname_of_map_ont(_load_sam(path_sam_ont), _load_sam(path_sam_splice))\n",
    "        sam_of_map_ont = _extract_sam(_load_sam(path_sam_ont), qname_of_map_ont, preset=\"map-ont\")\n",
    "        sam_of_splice = _extract_sam(_load_sam(path_sam_splice), qname_of_map_ont, preset=\"splice\")\n",
    "        midsv_of_single_read = _midsv_transform(sam_of_map_ont)\n",
    "        midsv_of_multiple_reads = _midsv_transform(sam_of_splice)\n",
    "        midsv_sample[allele] = _replaceNtoD(chain(midsv_of_single_read, midsv_of_multiple_reads), sequence)\n",
    "    # print(\"PICKLED MIDSV!!\") #! ==================================\n",
    "    # with open(Path(TEMPDIR, \"midsv\", f\"{SAMPLE_NAME}.plk\"), 'wb') as p:\n",
    "    #     pickle.dump(midsv_sample, p)\n",
    "    return midsv_sample\n"
   ]
  },
  {
   "cell_type": "code",
   "execution_count": 14,
   "metadata": {},
   "outputs": [],
   "source": [
    "allele = \"control\"\n",
    "sequence = FASTA_ALLELES[allele]"
   ]
  },
  {
   "cell_type": "code",
   "execution_count": 15,
   "metadata": {},
   "outputs": [],
   "source": [
    "path_sam_ont = f\"{TEMPDIR}/sam/{SAMPLE_NAME}_map-ont_{allele}.sam\"\n",
    "path_sam_splice = f\"{TEMPDIR}/sam/{SAMPLE_NAME}_splice_{allele}.sam\"\n",
    "qname_of_map_ont = _extract_qname_of_map_ont(_load_sam(path_sam_ont), _load_sam(path_sam_splice))\n",
    "sam_of_map_ont = _extract_sam(_load_sam(path_sam_ont), qname_of_map_ont, preset=\"map-ont\")\n",
    "sam_of_splice = _extract_sam(_load_sam(path_sam_splice), qname_of_map_ont, preset=\"splice\")\n",
    "midsv_of_single_read = _midsv_transform(sam_of_map_ont)\n",
    "midsv_of_multiple_reads = _midsv_transform(sam_of_splice)\n",
    "x = _replaceNtoD(chain(midsv_of_single_read, midsv_of_multiple_reads), sequence)\n"
   ]
  },
  {
   "cell_type": "code",
   "execution_count": 18,
   "metadata": {},
   "outputs": [
    {
     "name": "stdout",
     "output_type": "stream",
     "text": [
      "{'QNAME': '00077750-d7ab-4c73-ac65-8707d39936c2', 'CSSPLIT': '=T,=G,=C,=A,=T,=T,=G,=A,=A,=G,=C,=A,=G,=T,=T,=C,=A,=C,=C,+G|=A,=A,=A,=A,=T,=A,=A,=C,=A,=A,=A,=G,=T,=A,=A,=C,+A|=A,=A,=A,=G,=T,=A,=A,=G,=A,=T,=A,=T,=C,=T,=T,=T,=G,=G,=A,=A,=T,=A,=A,=T,=C,=A,=A,=T,=T,=C,=A,=A,=G,=A,=T,=A,=A,=T,=C,=A,=A,=G,=G,=A,=A,=A,=A,=A,=T,=G,=A,=G,=A,-G,=G,=C,=A,=A,=C,=T,=A,=T,=T,=T,=T,=A,=G,=A,=C,=T,=G,=A,=T,=T,=A,=C,=T,=T,=T,=T,=A,=T,=A,=A,=A,=A,=T,=A,=A,=A,=T,=A,=A,=G,=C,=T,=C,=A,=G,=C,=T,=T,=A,=G,=C,=C,*AG,*GA,=A,=T,=A,=T,=A,=A,=G,=C,=A,=A,=T,=A,=T,=T,=C,=T,=G,=A,=G,=T,=T,=C,=T,=G,=A,=A,=G,=A,=A,=A,=A,=A,=T,=T,=T,=T,=T,=G,=A,=C,=A,=A,=A,=A,=T,=G,=A,=G,=T,=T,=C,=T,=A,=T,=A,=A,=A,=T,=G,=T,=T,=A,=T,=T,=G,=T,=C,=T,=A,=C,=T,=T,=A,=T,=G,=A,=T,=C,=T,=C,=T,=A,=A,=A,=T,=A,=C,=A,=A,=C,=A,=G,=G,=C,=T,=T,=G,=T,=A,=T,=T,=C,=A,=G,=A,=A,=T,=C,=T,=A,=G,=A,=T,=G,=T,=T,=T,=C,=A,=T,=G,=A,=C,=C,=T,=T,=T,=A,=T,=T,=C,=A,=T,=A,=A,=G,=A,=G,=A,=T,=G,+A|+A|=A,=T,=G,=T,=A,=T,=T,=C,=T,=T,=G,=A,=T,=A,=C,=T,=A,=C,=T,=T,=C,=T,=C,=A,+T|+T|=T,=T,=T,*GA,=C,=A,=A,=A,=T,=T,=C,=C,=A,=A,=T,=T,=A,=T,=T,=A,=T,=T,=A,=A,=T,=T,=T,=C,=A,=T,=A,=T,+C|=C,=A,=A,=T,=T,=A,=G,=A,=A,=T,=A,=A,=T,=A,=T,=A,=T,=C,=T,=T,=C,=C,=T,=T,=C,=A,=A,=T,=T,=T,*AG,*GA,=T,=T,=A,=C,=C,=T,=C,=A,=C,=T,=A,=T,=G,=G,=G,=C,=T,=A,=T,=G,=T,=A,=C,=A,=A,=A,=C,=T,-C,=C,=A,=A,=G,-A,=A,=A,=A,=A,=G,=T,=T,=A,=G,=T,=C,=A,=T,=G,=T,=G,=C,=T,=T,=T,=G,=C,=A,=G,=A,=A,=G,=A,=T,=A,=A,=A,=A,=G,=C,=T,=T,=A,=G,=T,=G,=T,=A,=A,=A,=A,=C,=A,=G,=G,=C,=T,=G,=A,=G,=A,=G,=T,=A,=T,=T,=T,=G,=A,=T,=G,=T,=A,=A,=G,=A,=A,-G,=G,=G,=G,=A,=G,=T,=G,=G,=T,=T,=A,=T,=A,=T,=A,=G,=G,=T,=C,=T,=T,=A,=G,=C,=C,=A,=A,=A,=A,=C,=A,=T,=G,=T,=G,=A,=T,=A,=G,=T,=C,=A,=C,=T,=C,=C,=A,+G|=G,=G,=G,=G,=T,=T,=G,=C,=T,=G,=G,=A,=A,=A,=A,=G,=A,=A,=G,=T,=C,=T,=G,=T,=G,=A,=C,=A,=C,=T,=C,=A,=T,=T,=A,=A,=C,=C,=T,=A,=T,=T,=G,=G,=T,=G,=C,=A,=G,=A,=T,=T,=T,=T,=G,=T,=A,=T,=G,=A,=T,=C,=T,=A,=A,=A,=G,=G,=A,=G,=A,=A,=A,=A,=T,=G,=T,=T,=C,=T,=T,=G,=G,=C,=T,=G,=T,=T,=T,=T,=G,=T,=A,=T,=T,=G,=C,=C,=T,=T,=C,=T,=G,=T,=G,=G,=A,=G,=T,=T,=T,=C,=C,=A,=G,=A,=T,=C,=T,=C,=T,=G,=A,=T,=G,=G,=C,=C,=A,=T,=T,=T,=T,=C,=C,=T,=C,=G,=A,=G,=C,=C,=T,=G,=T,=G,=C,=C,=T,=C,=C,=T,=C,=T,=A,=A,=G,=A,=A,=C,=T,=T,=G,=T,=T,=G,=G,=C,=A,=A,=A,=A,=G,=A,=A,=T,=G,=C,=T,=G,=C,=C,=C,=A,=C,=C,=A,=T,=G,=G,=A,=T,=G,=G,=G,=T,=G,=A,=T,=G,=G,=G,=A,=G,=T,=C,=C,=C,=T,=G,+C|+A|=C,=G,=G,=C,=C,=A,=G,=C,=T,=T,=T,=C,=A,=G,=G,=C,=A,=G,=A,=G,=G,=T,=T,=C,=C,=T,=G,=C,=C,=A,=G,=G,=A,=T,=A,=T,=C,=C,=T,=T,=C,=T,=G,=T,=C,=C,=A,=G,=T,=G,=C,=A,=C,=C,=A,=T,=C,=T,=G,=G,=A,=C,=C,=T,=C,=A,=G,=T,=T,=C,=C,=C,=C,=T,=T,=C,=A,=A,=A,=G,=G,=G,=G,=T,=G,=G,=A,=T,=G,=A,=C,=C,=G,=T,=G,=A,=G,=T,=C,=C,=T,=G,=G,=C,=C,=C,=T,=C,=T,=G,=T,=G,=T,=T,=T,=T,=A,=T,=A,=A,=T,=A,=G,=G,=A,=C,=C,=T,=G,=C,=C,=A,=G,=T,=G,=C,=T,=C,=A,=G,=G,=C,=A,=A,=C,=T,=T,=C,=A,=T,=G,=G,=G,=T,=T,=T,=C,=A,=A,=C,=T,=G,=C,=G,=G,=A,=A,=A,=C,=T,=G,=T,=A,=A,=G,=T,=T,=T,=G,=G,=A,=T,=T,=T,=G,=G,=G,=G,=G,=C,=C,=C,=A,=A,=A,=T,=T,=G,=T,=A,=C,=A,=G,=A,=G,=A,=A,=G,=C,=G,=A,=G,=T,=C,=T,=T,=G,=A,=T,=T,=A,=G,=A,=A,*GA,=A,=A,=A,=C,=A,=T,=T,=T,=T,=T,=G,=A,=T,=T,=T,=G,=A,=G,=T,=G,=T,=C,=T,=C,=C,=G,=A,=A,=A,=A,=G,=A,=A,=T,=A,=A,=G,=T,=T,=C,+T|=T,=T,=T,=T,=C,*TC,*TC,=A,=C,=C,=T,=C,=A,=C,=T,=T,=T,=A,=G,=C,=A,=A,=A,=A,=C,=A,=T,=A,=C,=T,=A,=T,=C,=A,=G,=C,=T,=C,=A,=G,=T,=C,=T,=A,=T,=G,=T,=C,=A,=T,=C,=C,=C,+T|+A|=C,=A,=C,=A,=G,=G,=C,=A,=C,=C,=T,=A,=T,=G,=G,=C,=C,=A,=A,=A,=T,=G,=A,=A,=C,=A,=A,=T,=G,=G,=G,=T,=C,=A,=A,=C,=A,=C,=C,=C,=A,=T,=G,=T,=T,=T,=A,=A,=T,=G,=A,=T,=A,=T,=C,=A,=A,=C,=A,=T,=C,=T,=A,=C,=G,=A,=C,=C,=T,=C,=T,=T,=T,=G,=T,=A,=T,=G,=G,=A,=T,=G,=C,=A,=T,=T,=A,=C,=T,=A,=T,=G,=T,=G,=T,=C,=A,=A,=G,=G,=G,=A,=C,=A,=C,-A,=C,+T|+T|=T,=G,=C,=T,=T,=G,=G,=G,=G,=G,=C,=T,=C,=T,=G,=A,=A,=A,=T,=A,=T,=G,=G,=A,=G,=G,=G,=A,=C,=A,=T,=T,=G,=A,=T,=T,=T,=T,=G,=C,=C,=C,=A,=T,=G,=A,=A,=G,=C,=A,=C,=C,=A,=G,=G,=G,=T,=T,=T,=C,=T,=G,=C,=C,=T,=T,*GA,=G,=C,=A,=C,=A,=G,=A,=C,=T,=T,=T,=T,=C,=T,=T,=G,=T,=T,=A,=T,=T,=G,=T,=G,=G,=G,=A,=A,=C,=A,=A,=G,=A,=A,=A,=T,=T,=C,-G,=A,=G,*AG,*AC,*CT,=T,=A,=A,=C,=T,=G,=G,=G,=G,=A,=T,=G,=A,=G,=A,=A,=C,=T,-T,-C,*AG,=C,=T,=G,=T,=T,=C,=C,=A,=T,=A,=C,=T,=G,=G,=G,=A,=T,=T,=G,=G,=A,=G,=A,=G,=A,=T,=G,=C,=A,=G,=A,=A,=A,=A,=C,=T,=G,=T,=G,=A,=C,=A,=T,=T,=T,=G,=C,=A,=C,=A,=G,=A,=T,=G,=A,=G,=T,=A,=C,=T,=T,=G,=G,=G,=A,=G,=G,=T,=C,=G,=T,=C,=A,=C,=C,=C,=T,=G,=A,=A,=A,=A,=T,=C,=C,=T,=A,=A,=C,-T,-T,=A,=C,=T,=C,=A,=G,=C,=C,=C,=A,=G,=C,=A,=T,=C,=C,=T,=T,=C,=T,=T,=C,=T,=C,=C,=T,=C,=C,=T,=G,=G,=C,=A,-G,*GT,=T,=A,=A,=G,=A,=T,=G,=C,=A,=C,=T,=A,=T,=A,=T,-A,-G,=A,=G,=A,=G,=A,=G,=T,=T,=G,=C,=A,=A,=A,=G,=A,=C,=T,=G,=G,=T,=A,=C,=T,=T,=C,=A,=G,=C,=A,=G,=C,=C,=A,=C,=A,=T,=T,=T,=T,=C,=A,=T,=G,=C,=T,=C,=T,=G,=T,=G,=A,=G,=C,=A,=T,=C,=T,=C,=T,=G,=A,=T,=A,=A,=T,=A,=T,=C,=T,=C,=A,=G,*GA,*GA,=C,*AT,=G,+A|=A,=A,=A,=A,=T,=G,=T,=G,=C,=C,=T,=T,=A,=C,=T,=A,=A,=C,=A,=G,=A,=T,=G,=T,=T,=A,=A,=T,=G,=C,=T,=T,=C,=T,=T,=G,=A,=T,=T,=T,=C,=T,=T,=T,=T,=T,=C,=T,=C,=T,=T,=T,=T,=G,=A,=G,=A,=A,=C,=T,=C,=T,=T,=C,+A|=A,=A,=A,=G,=T,=T,=G,=T,=T,=A,=T,=T,=A,=A,=A,=C,=A,=A,=A,=T,=A,=T,=C,=T,=A,=T,=G,=T,=G,=C,=T,=T,=A,=T,=T,=T,=G,=T,=C,=T,=T,=A,=A,=T,=A,=T,=C,=T,=A,=A,=C,=A,=G,=C,=T,=T,=A,=G,=T,=T,=A,=G,=A,=T,=T,=T,=C,=T,=A,=A,=G,=C,=T,=G,=C,=T,=A,=T,=A,=A,=A,=C,-A,=A,=G,*GA,=A,=C,=T,=G,+A|+G|+A|=A,=T,=T,=G,=G,=T,=T,=C,=A,=C,=C,=A,=C,=T,=G,=T,=A,=T,=T,=G,=T,=T,=A,=G,=C,=A,=C,=C,=T,=C,=C,=T,=A,=T,=G,=G,=T,=A,=T,=C,=T,=G,=G,=A,=A,=T,=A,=A,=A,=C,=A,=G,=T,=A,=A,=C,=T,=C,=A,=G,=T,=T,=A,=T,=T,=T,=A,=A,=G,=A,=A,=T,=G,=G,=A,=T,=G,=A,=G,=A,=A,=A,-C,=C,=A,=G,=A,=T,=T,=A,=T,=C,=T,=T,=A,=G,=T,=T,=C,=A,=T,=G,=T,=T,=T,=C,=T,=G,=A,=G,=T,=A,=A,=T,=A,=T,=T,=A,=A,=A,=A,=T,=T,=A,=A,=T,=A,=T,=T,=A,=A,=C,=A,=G,=T,=A,=A,=A,=A,=T,=C,=C,=A,=T,=A,=A,=G,=T,=A,=T,=G,=C,=T,=A,=C,=T,=T,=T,=A,+A|+G|=A,=A,=A,=T,=A,=T,=A,=A,=A,=T,=C,=T,=C,=T,=G,=G,=C,=C,=A,=A,=A,=A,=C,=C,=A,=A,=G,=A,=C,=T,=T,=A,=T,=T,=A,=T,=T,=C,=A,=G,=G,=A,=T,=C,=T,=T,=C,-A,=A,=G,=A,=G,=A,=A,=A,=G,=T,=G,=C,=T,=G,=A,=G,=A,=T,=A,=A,=T,=T,=C,=A,=C,=T,=A,=A,=G,=T,=A,=T,=C,=A,=G,=A,=G,=A,=T,=G,=A,=C,=C,=T,=T,=T,=A,=T,=T,=A,=C,=A,=T,=G,=A,=T,=T,=G,=C,=C,=T,=G,=A,=T,=A,=G,=A,=A,=A,=A,=A,=A,=T,=G,=A,=T,=T,=A,=C,=A,=C,=A,=C,=A,=C,=A,=C,=A,=A,=A,=A,=A,=A,=A,=T,=C,=T,=T,=C,=A,=G,=T,=T,=G,=C,=T,=T,=A,=A,=A,=T,=T,=T,=T,=A,=A,=A,=C,=G,=T,=T,=G,=C,=T,=G,=A,=C,=T,=C,=T,=C,=A,=A,=A,=C,=A,=G,=T,=T,=A,=A,=G,=T,=A,=A,=T,=A,=A,=A,=A,=G,=A,=G,=T,=T,=A,=A,=A,=G,=C,=C,=T,=G,=C,=T,=G,=T,=G,=T,=A,=T,=T,=T,=A,=G,=A,=A,=T,=A,=T,=G,=T,=G,=A,=A,=T,=A,=C,=C,=T,=A,=T,=T,=G,+A|=A,=A,=A,=G,=A,=A,=T,=T,=T,=A,=T,=T,=G,=T,=A,=C,=A,=A,=T,=T,=A,=A,=T,=A,=T,=A,=A,=A,=C,=A,=G,=A,=C,=T,=T,=C,=T,=A,=T,=T,=T,=T,=A,=C,=A,=G,=T,=C,=A,=T,=A,=A,=G,=A,=T,=A,=C,=T,=A,=C,=T,=T,=A,=A,=T,=T,=T,=G,=T,=T,=A,=A,=A,=A,=A,=T,=T,=A,=T,=T,=T,=T,=T,=T,=G,=A,=T,=A,=G,=C,=A,=T,=T,=G,=T,=T,=G,=G,=T,=A,=A,=A,=T,=A,=G,=C,=A,=A,=A,=G,=G,=T,=G,=A,=T,=A,=T,=T,=T,=G,=C,=T,=A,=A,=T,=G,=A,=T,=T,=A,=C,=A,=A,-G,=G,=G,=C,=T,=G,=T,=C,=T,=G,=G,=C,=T,=A,=A,=C,+T|=T,=T,=A,=C,=G,=T,=T,=A,=T,=G,=T,=T,=C,=A,=G,=G,=G,=A,=G,=A,=A,=G,*AG,=C,+A|=A,=G,=T,=C,=C,=T,=T,=T,=T,=T,-A,=A,=G,=G,=A,=A,=T,*GA,=G,=G,=C,=A,=C,=T,=T,=T,=C,=T,=A,=A,=C,=T,=T,=T,=T,=T,=T,=T,=C,=T,=C,=T,=A,=G,=G,=A,=T,=G,=G,=A,=G,=A,=A,=A,=A,=A,=T,=T,=A,=G,=C,=C,=T,=T,=C,=T,=T,=C,=C,=T,=A,=C,=T,=T,=T,=A,=A,=A,=A,=A,=T,=G,=T,=T,=A,=G,=A,=C,=A,=T,=A,=G,=A,=A,=T,=T,=A,=A,=G,=G,=G,=A,=T,=T,=G,=T,=T,=A,=T,=T,=T,=T,=G,=A,=G,=A,=T,=T,=A,=A,=A,=T,=T,=T,=T,=C,=T,=T,=T,=T,=C,=T,=C,=C,=T,=A,=T,=T,=A,-T,=T,=T,=T,=T,=C,=C,=T,=C,=A,=T,=T,=C,=T,=G,=G,=A,=A,=T,=G,=G,=A,=A,=G,=C,=A,=A,=A,=A,=G,=A,=T,=G,=A,=A,=G,=A,=A,=A,=G,=A,=A,=A,=T,=A,=T,=A,=T,=G,=T,=T,-A,=A,=A,*TG,=T,=G,=T,=T,=T,=T,=C,=C,=T,=T,=T,=A,=A,=A,=T,=G,=A,=A,=C,=A,=C,=A,=A,=A,=T,=G,=T,=G,=A,=A,=A,=T,=A,=T,=G,=T,=T,=T,=T,=T,=C,=T,=G,=C,=C,=T,=A,=T,=C,=T,=T,=G,=T,=A,=A,=A,=A,=T,=T,=T,=T,=C,=T,=A,=T,=T,=G,=C,=A,=A,=C,=T,=A,=T,=T,=C,=T,=G,=A,=T,=T,=A,=C,=C,=A,=G,=T,=T,=C,=A,=A,=A,=T,-G,=G,=G,=G,=A,=A,=A,=A,=A,=A,=G,=A,=A,=C,=A,=T,=A,=G,=G,=C,=T,=A,=C,=C,=C,=C,=A,=C,=A,=C,=T,=T,=G,=A,=A,=A,=T,=T,=T,=T,=G,=A,=A,=A,=T,=A,=T,=G,=A,=A,=T,=G,=T,=C,=C,=T,=C,=T,=G,=T,=C,=T,=C,=T,=G,=C,=T,=G,=G,=T,=C,=T,=A,=A,=C,=A,=C,=T,=T,=C,=C,=A,=A,=A,=A,=T,=G,=G,=A,=A,=A,=C,=C,=T,=T,=T,=A,=A,=A,=G,=G,=G,=C,=C,=A,=C,=T,=G,=T,=A,=A,=A,=T,=T,=A,=C,=A,=G,=C,=T,=G,=C,=T,=A,=A,=T,=T,=C,=C,=T,=G,=G,=T,=G,=C,=C,=A,=A,=T,=G,=G,=T,=G,=A,=T,=A,=A,=G,=T,=G,=T,=T,=T,=A,=C,=T,=A,=A,=A,=C,=C,=T,=A,=G,=T,=G,=A,=G,=T,=A,=C,=T,=T,=T,=A,=T,=A,=G,=C,=A,=T,=G,=G,=G,=G,=C,=T,=C,=T,=G,=C,=T,=G,=C,-G,-A,=A,=G,=T,=A,=A,=C,=A,=T,=T,=G,=C,+T|=T,=G,=T,=A,=T,=A,=T,=T,=T,=T,=C,=A,=G,=T,=C,=A,=T,=T,=C,=T,=A,=C,=C,=T,=T,=A,=A,=T,=T,=C,=A,=T,=G,=A,=A,=C,=T,=G,=C,=A,=A,=A,=A,=C,=T,=C,=T,=C,=A,=T,=C,=T,=A,=G,=C,=T,=T,=T,=T,=T,=A,=C,=T,=T,=C,=T,=C,=T,=A,=G,=C,=T,=A,=T,=T,=G,=C,=T,=T,=T,+A|=A,=A,=G,=T,=T,=C,=T,=A,=T,=C,=A,=G,=G,=C,=T,=C,=A,=G,=G,=T,=G,=T,=G,=G,=A,=A,=T,=T,=C,=T,=C'}\n",
      "{'QNAME': '00212e9e-6c6e-41fb-b76b-0a900587d2d7', 'CSSPLIT': '=T,=G,=C,=A,=T,=T,=G,=A,=A,*GA,=C,-A,=G,*TA,=T,*CT,*AG,=C,=C,=A,=A,=A,=A,=T,=A,=A,=C,=A,=A,=A,=G,=T,=A,=A,=C,=A,=A,=A,=G,=T,=A,=A,=G,=A,=T,=A,=T,=C,=T,=T,=T,=G,=G,=A,=A,=T,=A,=A,=T,=C,=A,=A,=T,=T,=C,=A,=A,=G,=A,=T,=A,=A,=T,=C,=A,=A,=G,=G,=A,=A,=A,=A,=A,=T,=G,=A,=G,=A,=G,=G,=C,=A,=A,=C,=T,=A,=T,=T,=T,=T,=A,=G,=A,=C,=T,=G,=A,=T,=T,*AG,=C,-T,-T,*TG,*TC,=A,=T,=A,=A,=A,=A,=T,=A,=A,=A,=T,=A,=A,=G,=C,=T,=C,=A,=G,=C,=T,=T,+C|=A,=G,=C,*CG,*AG,*GA,=A,=T,=A,=T,=A,=A,=G,=C,=A,=A,=T,=A,=T,=T,=C,=T,=G,=A,=G,=T,=T,=C,=T,=G,=A,=A,=G,=A,=A,=A,=A,=A,=T,=T,=T,=T,=T,=G,=A,=C,=A,=A,=A,=A,=T,=G,=A,=G,=T,=T,=C,=T,=A,=T,=A,=A,=A,=T,=G,=T,=T,=A,=T,=T,=G,=T,=C,=T,=A,=C,=T,=T,=A,=T,=G,=A,=T,=C,=T,=C,=T,=A,=A,=A,=T,=A,=C,=A,=A,=C,=A,=G,=G,=C,=T,=T,=G,=T,=A,=T,=T,=C,=A,=G,=A,=A,=T,=C,=T,=A,=G,=A,=T,=G,=T,=T,=T,=C,=A,=T,=G,=A,=C,=C,=T,=T,=T,=A,=T,=T,=C,=A,=T,=A,=A,=G,=A,=G,=A,=T,=G,=A,=T,=G,=T,=A,=T,=T,=C,=T,=T,=G,=A,=T,=A,=C,=T,=A,=C,=T,=T,=C,=T,=C,=A,=T,=T,=T,=G,=C,=A,=A,=A,=T,=T,-C,=C,=A,=A,=T,=T,=A,=T,=T,=A,=T,=T,=A,=A,=T,=T,=T,=C,=A,=T,=A,=T,=C,=A,=A,=T,=T,=A,=G,=A,=A,=T,=A,=A,=T,=A,=T,=A,=T,=C,=T,=T,=C,=C,=T,=T,=C,-A,=A,=T,=T,=T,=A,=G,=T,=T,=A,=C,=C,=T,=C,=A,=C,=T,=A,=T,=G,=G,=G,=C,=T,=A,=T,=G,=T,=A,=C,=A,=A,=A,=C,=T,=C,-C,-A,=A,=G,=A,=A,=A,=A,=A,=G,=T,=T,=A,=G,=T,=C,=A,=T,=G,=T,=G,=C,=T,=T,=T,=G,=C,=A,=G,=A,=A,=G,=A,=T,=A,=A,=A,=A,=G,=C,=T,=T,=A,=G,=T,=G,=T,=A,=A,=A,=A,=C,=A,*GA,=G,=C,=T,=G,=A,*GA,=A,+T|*GT,=T,=A,=T,=T,=T,=G,=A,=T,=G,=T,-A,=A,=G,=A,-A,-G,-G,=G,*GA,=A,*GT,=T,=G,=G,=T,=T,=A,=T,=A,=T,=A,=G,=G,=T,=C,=T,=T,=A,=G,=C,=C,=A,=A,=A,=A,=C,=A,=T,=G,=T,=G,=A,=T,=A,=G,=T,=C,-A,=C,=T,=C,=C,=A,=G,=G,=G,=G,=T,=T,=G,=C,=T,=G,=G,=A,=A,=A,=A,=G,=A,=A,=G,=T,=C,=T,=G,=T,=G,=A,=C,=A,=C,=T,=C,=A,=T,=T,=A,=A,=C,=C,=T,=A,=T,=T,=G,=G,=T,=G,=C,=A,=G,=A,=T,=T,=T,=T,=G,=T,+A|+T|+A|+G|+C|=A,=T,=G,=A,=T,=C,=T,=A,=A,=A,=G,=G,=A,=G,=A,=A,=A,=A,=T,=G,=T,=T,=C,=T,=T,=G,=G,=C,=T,=G,=T,=T,=T,=T,=G,=T,=A,=T,=T,=G,-C,=C,=T,=T,=C,=T,=G,=T,=G,=G,=A,=G,=T,=T,=T,=C,=C,=A,=G,=A,=T,=C,=T,=C,=T,=G,=A,=T,=G,=G,=C,=C,=A,-T,=T,=T,=T,=C,=C,=T,=C,=G,=A,=G,=C,=C,=T,=G,=T,=G,=C,=C,=T,=C,=C,=T,=C,=T,=A,=A,=G,=A,=A,=C,=T,=T,=G,=T,=T,=G,=G,=C,=A,=A,=A,=A,=G,=A,=A,=T,=G,=C,=T,=G,=C,=C,=C,=A,=C,=C,=A,=T,=G,=G,=A,=T,=G,=G,=G,=T,=G,=A,=T,=G,=G,=G,=A,=G,=T,-C,=C,=C,=T,=G,=C,=G,=G,=C,=C,=A,=G,=C,=T,=T,=T,=C,=A,=G,=G,=C,=A,=G,=A,=G,=G,=T,=T,=C,=C,=T,=G,-C,-C,-A,=G,=G,=A,=T,=A,=T,=C,=C,=T,=T,=C,=T,=G,=T,=C,=C,=A,=G,=T,=G,-C,-A,=C,=C,=A,=T,=C,=T,=G,=G,=A,=C,=C,=T,=C,=A,=G,=T,=T,=C,=C,=C,+A|=C,+A|*TC,=T,=C,=A,=A,-A,-G,=G,=G,=G,=T,=G,=G,=A,=T,=G,=A,=C,=C,*GT,=T,=G,=A,=G,=T,=C,=C,=T,=G,=G,=C,=C,=C,=T,=C,=T,=G,=T,*GA,=T,=T,=T,=T,=A,=T,=A,=A,=T,=A,=G,=G,=A,=C,=C,=T,=G,=C,=C,=A,=G,=T,=G,=C,=T,=C,=A,=G,=G,=C,=A,=A,=C,=T,=T,=C,=A,=T,*GA,=G,=G,=T,=T,=T,=C,=A,=A,=C,=T,=G,=C,=G,=G,=A,=A,=A,=C,=T,=G,=T,=A,=A,=G,=T,=T,=T,=G,=G,=A,=T,=T,=T,*GA,=G,=G,=G,-G,-C,=C,=C,=A,=A,=A,=T,=T,=G,=T,=A,=C,-A,-G,-A,=G,=A,=A,=G,=C,=G,=A,=G,=T,=C,=T,=T,=G,-A,=T,=T,=A,=G,=A,=A,=G,=A,=A,=A,=C,=A,=T,=T,=T,=T,=T,=G,=A,=T,=T,=T,=G,=A,=G,=T,=G,=T,=C,=T,=C,=C,=G,=A,=A,=A,=A,=G,=A,=A,=T,=A,=A,=G,=T,=T,=C,=T,=T,=T,=T,=C,=T,=T,=A,=C,=C,=T,=C,=A,=C,+T|=T,=T,=T,=A,=G,=C,=A,=A,=A,=A,=C,=A,=T,=A,=C,=T,=A,=T,=C,=A,=G,=C,=T,=C,=A,=G,=T,=C,+T|+A|=T,=A,=T,=G,=T,=C,=A,=T,-C,-C,=C,=C,=A,=C,=A,=G,=G,=C,=A,=C,=C,=T,=A,=T,=G,=G,=C,=C,=A,=A,=A,=T,=G,=A,=A,=C,=A,=A,=T,=G,=G,=G,=T,=C,=A,=A,=C,=A,=C,=C,*CT,=A,=T,=G,=T,=T,=T,=A,=A,=T,=G,=A,=T,=A,=T,=C,=A,=A,=C,=A,=T,=C,=T,=A,=C,=G,*AG,=C,=C,=T,=C,=T,=T,=T,=G,=T,=A,=T,=G,=G,=A,=T,=G,=C,=A,=T,=T,=A,=C,=T,=A,=T,=G,=T,=G,=T,=C,=A,=A,=G,=G,=G,=A,=C,=A,=C,=A,=C,=T,=G,=C,=T,=T,=G,=G,=G,=G,=G,=C,=T,=C,=T,+A|*GA,=A,=A,=A,=T,=A,=T,=G,=G,=A,=G,=G,=G,=A,=C,=A,=T,=T,=G,=A,=T,=T,=T,=T,=G,=C,=C,=C,=A,=T,=G,=A,=A,=G,=C,=A,=C,=C,=A,=G,=G,=G,=T,=T,=T,=C,=T,=G,=C,=C,=T,=T,=G,*GA,*CA,=A,+G|=C,=A,=G,*AG,=C,=T,=T,=T,=T,=C,=T,=T,=G,=T,=T,=A,=T,=T,=G,=T,*GC,*GA,=G,=A,=A,=C,=A,=A,=G,=A,=A,=A,=T,=T,=C,=G,=A,=G,=A,=A,=C,=T,=A,=A,=C,=T,=G,=G,=G,=G,=A,=T,=G,=A,=G,=A,=A,-C,-T,-T,=C,=A,=C,=T,=G,=T,=T,=C,=C,=A,=T,=A,-C,-T,-G,=G,=G,=A,=T,=T,=G,-G,-A,=G,=A,=G,=A,=T,=G,=C,=A,=G,=A,=A,=A,=A,=C,=T,=G,=T,=G,=A,=C,=A,=T,=T,=T,=G,=C,=A,=C,=A,=G,=A,=T,=G,=A,+G|=G,=T,=A,=C,=T,=T,=G,=G,=G,=A,=G,=G,=T,=C,=G,=T,=C,=A,=C,=C,=C,=T,=G,=A,=A,=A,=A,=T,=C,=C,=T,=A,=A,=C,=T,=T,=A,=C,=T,=C,=A,=G,=C,=C,=C,=A,=G,=C,=A,=T,=C,=C,=T,=T,=C,=T,=T,=C,=T,=C,=C,=T,=C,=C,=T,=G,=G,=C,=A,=G,=G,=T,=A,=A,=G,=A,=T,=G,=C,=A,=C,=T,=A,=T,=A,=T,-A,-G,-A,-G,=A,=G,=A,=G,=T,=T,=G,=C,=A,=A,=A,=G,=A,=C,=T,=G,=G,=T,=A,=C,=T,=T,=C,=A,=G,=C,=A,=G,=C,=C,=A,=C,=A,=T,=T,=T,=T,=C,=A,=T,=G,=C,=T,=C,=T,=G,=T,=G,=A,=G,=C,=A,=T,=C,=T,=C,=T,=G,=A,=T,=A,=A,=T,=A,=T,=C,=T,=C,=A,=G,=G,=G,+C|=C,=A,=G,=A,=A,=A,=A,+T|+G|=T,=G,=T,=G,=C,=C,=T,=T,*AG,=C,-T,-A,*AG,=C,=A,=G,=A,=T,=G,=T,=T,=A,=A,=T,=G,=C,=T,=T,=C,=T,=T,=G,=A,=T,=T,=T,=C,=T,=T,=T,=T,=T,=C,=T,=C,=T,=T,=T,=T,=G,=A,=G,=A,=A,=C,=T,=C,=T,=T,*CT,=A,=A,=A,=G,=T,=T,*GA,=T,=T,=A,=T,=T,=A,=A,=A,=C,=A,=A,=A,=T,=A,=T,=C,=T,=A,=T,=G,=T,=G,=C,=T,=T,=A,=T,=T,=T,=G,=T,=C,=T,=T,=A,=A,=T,=A,=T,=C,=T,=A,=A,=C,=A,=G,=C,=T,=T,=A,=G,=T,=T,=A,=G,=A,=T,=T,=T,=C,=T,=A,=A,=G,=C,=T,=G,=C,=T,=A,=T,=A,=A,=A,=C,=A,=A,=G,=G,=A,=C,=T,=G,=A,=T,=T,=G,=G,=T,=T,=C,=A,=C,+C|+G|=C,=A,=C,=T,=G,=T,=A,=T,-T,-G,=T,*TC,=A,=G,=C,=A,=C,=C,=T,=C,=C,=T,=A,=T,=G,=G,=T,=A,=T,=C,=T,=G,=G,=A,=A,=T,=A,=A,=A,=C,=A,=G,=T,=A,=A,=C,=T,=C,=A,=G,=T,=T,=A,=T,=T,=T,=A,=A,=G,=A,=A,=T,=G,=G,=A,=T,=G,=A,=G,=A,=A,=A,=C,=C,=A,=G,=A,=T,=T,=A,=T,=C,=T,=T,=A,=G,=T,=T,=C,=A,=T,=G,=T,=T,=T,=C,=T,=G,=A,=G,=T,=A,=A,=T,=A,=T,=T,=A,=A,=A,=A,=T,=T,=A,=A,=T,=A,=T,=T,=A,=A,=C,=A,=G,=T,=A,=A,=A,=A,=T,-C,=C,=A,=T,=A,=A,=G,-T,-A,=T,=G,=C,=T,=A,=C,=T,=T,=T,=A,=A,=A,=A,=T,=A,=T,=A,=A,=A,=T,=C,=T,=C,=T,=G,=G,=C,=C,=A,=A,=A,=A,=C,=C,+A|=A,=A,=G,=A,=C,=T,=T,=A,=T,=T,=A,=T,=T,=C,=A,=G,=G,=A,=T,=C,=T,=T,=C,=A,=A,=G,=A,-G,=A,=A,=A,*GT,=T,=G,=C,=T,=G,=A,=G,=A,=T,=A,=A,=T,=T,=C,=A,-C,=T,=A,=A,*GT,=T,=A,=T,=C,=A,=G,=A,=G,=A,=T,=G,=A,=C,=C,=T,=T,=T,=A,=T,=T,=A,=C,=A,=T,=G,=A,=T,=T,=G,=C,=C,=T,=G,=A,=T,=A,=G,=A,=A,=A,=A,=A,=A,=T,=G,=A,=T,=T,=A,=C,=A,=C,=A,=C,=A,=C,=A,=C,=A,=A,=A,=A,=A,=A,=A,=T,=C,=T,=T,=C,=A,=G,=T,=T,=G,=C,=T,=T,=A,=A,=A,=T,=T,=T,=T,=A,=A,=A,=C,=G,=T,=T,=G,=C,=T,=G,=A,=C,=T,=C,=T,=C,=A,=A,=A,=C,=A,=G,=T,=T,=A,=A,=G,=T,=A,=A,=T,=A,=A,=A,=A,=G,=A,=G,=T,=T,=A,=A,=A,=G,=C,=C,=T,=G,=C,=T,=G,=T,=G,=T,=A,=T,=T,=T,=A,=G,=A,=A,-T,=A,-T,-G,=T,=G,=A,=A,=T,=A,=C,=C,=T,=A,=T,=T,=G,=A,=A,-A,-G,=A,=A,=T,=T,=T,=A,=T,=T,=G,=T,=A,=C,=A,=A,=T,=T,=A,=A,=T,=A,=T,=A,=A,=A,=C,=A,=G,=A,=C,=T,=T,=C,=T,=A,=T,=T,=T,=T,=A,=C,=A,=G,=T,=C,=A,=T,=A,=A,=G,=A,=T,=A,=C,=T,=A,=C,=T,=T,=A,=A,=T,=T,=T,=G,=T,=T,=A,=A,=A,=A,=A,=T,=T,=A,=T,=T,=T,=T,=T,=T,=G,=A,=T,=A,=G,=C,=A,=T,=T,=G,=T,=T,=G,=G,=T,=A,=A,=A,=T,=A,=G,=C,=A,=A,=A,=G,=G,=T,=G,=A,=T,=A,=T,=T,=T,=G,=C,=T,=A,=A,=T,=G,=A,=T,=T,=A,=C,+A|=A,=A,=G,=G,=G,=C,=T,=G,=T,=C,=T,=G,=G,=C,=T,=A,=A,=C,=T,=T,=A,=C,=G,=T,=T,=A,=T,=G,+T|=T,=T,=C,=A,-G,=G,=G,=A,=G,=A,=A,=G,=A,=C,=A,=G,=T,=C,=C,=T,=T,=T,=T,=T,-A,-A,=G,=G,=A,=A,=T,+A|*GA,=G,=G,=C,=A,=C,=T,=T,=T,=C,=T,=A,=A,=C,=T,=T,=T,=T,=T,=T,=T,=C,=T,=C,=T,=A,=G,=G,=A,=T,=G,=G,=A,=G,=A,=A,=A,=A,=A,=T,=T,=A,=G,=C,=C,=T,=T,=C,=T,=T,=C,=C,=T,=A,=C,=T,=T,=T,=A,=A,=A,=A,=A,=T,=G,=T,=T,=A,=G,=A,=C,=A,=T,=A,=G,=A,=A,=T,=T,+A|=A,=A,=G,=G,=G,=A,=T,=T,=G,=T,=T,=A,=T,=T,=T,=T,=G,=A,=G,=A,=T,=T,=A,=A,=A,=T,=T,=T,=T,=C,=T,=T,=T,=T,=C,=T,=C,=C,=T,=A,=T,=T,=A,+T|=T,=T,=T,=T,=T,=C,=C,=T,=C,=A,=T,=T,=C,=T,=G,=G,=A,=A,=T,=G,=G,=A,=A,=G,=C,=A,=A,=A,=A,=G,=A,=T,=G,=A,=A,=G,=A,=A,=A,=G,=A,=A,=A,=T,=A,=T,=A,=T,=G,=T,=T,=A,=A,=A,=T,=T,=G,=T,=T,=T,=T,=C,=C,=T,=T,=T,=A,=A,=A,=T,+A|+A|=G,=A,=A,=C,=A,=C,=A,=A,=A,=T,=G,=T,=G,=A,=A,=A,=T,=A,=T,=G,=T,=T,=T,=T,=T,=C,=T,=G,-C,=C,=T,=A,=T,=C,=T,=T,=G,=T,=A,=A,=A,=A,=T,=T,=T,=T,=C,=T,=A,=T,=T,=G,=C,=A,=A,=C,=T,=A,=T,=T,=C,=T,=G,=A,=T,=T,=A,=C,=C,=A,=G,=T,=T,=C,=A,=A,=A,=T,=G,=G,=G,=G,=A,=A,=A,=A,=A,=A,=G,=A,=A,=C,=A,=T,+A|=A,*GA,*GA,=C,=T,=A,-C,-C,-C,=C,=A,=C,=A,=C,=T,=T,=G,=A,=A,=A,=T,=T,=T,=T,+A|=G,=A,=A,=A,=T,=A,=T,=G,=A,=A,=T,=G,=T,=C,=C,=T,=C,=T,=G,=T,=C,=T,=C,=T,=G,=C,=T,=G,=G,=T,=C,=T,=A,+G|+C|=A,=C,=A,=C,=T,=T,=C,=C,=A,=A,=A,=A,=T,=G,=G,=A,=A,=A,=C,=C,=T,=T,=T,=A,=A,=A,=G,=G,=G,=C,=C,=A,=C,=T,=G,=T,=A,=A,=A,=T,=T,=A,=C,=A,=G,=C,=T,=G,=C,=T,=A,=A,=T,=T,=C,=C,=T,=G,=G,=T,=G,=C,=C,=A,=A,=T,=G,=G,=T,=G,=A,=T,=A,=A,=G,=T,=G,=T,=T,=T,=A,=C,=T,=A,=A,=A,=C,=C,=T,=A,=G,=T,=G,=A,=G,=T,=A,=C,=T,=T,=T,=A,=T,=A,=G,=C,=A,=T,-G,*GA,=G,=G,=C,=T,=C,=T,=G,=C,=T,=G,=C,=G,=A,+A|+A|+T|=A,*GT,=T,=A,=A,=C,=A,=T,=T,=G,=C,=T,=G,=T,=A,=T,=A,=T,=T,=T,=T,=C,=A,=G,=T,=C,=A,=T,=T,=C,=T,=A,=C,=C,=T,=T,=A,=A,=T,=T,=C,=A,=T,=G,=A,=A,=C,=T,=G,=C,=A,=A,=A,=A,=C,=T,=C,=T,=C,=A,=T,=C,=T,=A,=G,=C,=T,=T,=T,=T,=T,=A,=C,=T,=T,=C,=T,=C,=T,=A,=G,=C,=T,=A,=T,=T,*GA,=C,=T,=T,=T,=A,=A,=G,=T,=T,=C,=T,=A,=T,=C,*AG,*GA,=G,=C,=T,=C,=A,=G,=G,=T,=G,=T,=G,=G,=A,=A,=T,=T,=C,=T,=C'}\n"
     ]
    }
   ],
   "source": [
    "print(x[0])\n",
    "print(x[1])"
   ]
  },
  {
   "cell_type": "code",
   "execution_count": null,
   "metadata": {},
   "outputs": [
    {
     "name": "stdout",
     "output_type": "stream",
     "text": [
      "{'QNAME': '00212e9e-6c6e-41fb-b76b-0a900587d2d7', 'CSSPLIT': '=T,=G,=C,=A,=T,=T,=G,=A,=A,*GA,=C,-A,=G,*TA,=T,*CT,*AG,=C,=C,=A,=A,=A,=A,=T,=A,=A,=C,=A,=A,=A,=G,=T,=A,=A,=C,=A,=A,=A,=G,=T,=A,=A,=G,=A,=T,=A,=T,=C,=T,=T,=T,=G,=G,=A,=A,=T,=A,=A,=T,=C,=A,=A,=T,=T,=C,=A,=A,=G,=A,=T,=A,=A,=T,=C,=A,=A,=G,=G,=A,=A,=A,=A,=A,=T,=G,=A,=G,=A,=G,=G,=C,=A,=A,=C,=T,=A,=T,=T,=T,=T,=A,=G,=A,=C,=T,=G,=A,=T,=T,*AG,=C,-T,-T,*TG,*TC,=A,=T,=A,=A,=A,=A,=T,=A,=A,=A,=T,=A,=A,=G,=C,=T,=C,=A,=G,=C,=T,=T,+C|=A,=G,=C,*CG,*AG,*GA,=A,=T,=A,=T,=A,=A,=G,=C,=A,=A,=T,=A,=T,=T,=C,=T,=G,=A,=G,=T,=T,=C,=T,=G,=A,=A,=G,=A,=A,=A,=A,=A,=T,=T,=T,=T,=T,=G,=A,=C,=A,=A,=A,=A,=T,=G,=A,=G,=T,=T,=C,=T,=A,=T,=A,=A,=A,=T,=G,=T,=T,=A,=T,=T,=G,=T,=C,=T,=A,=C,=T,=T,=A,=T,=G,=A,=T,=C,=T,=C,=T,=A,=A,=A,=T,=A,=C,=A,=A,=C,=A,=G,=G,=C,=T,=T,=G,=T,=A,=T,=T,=C,=A,=G,=A,=A,=T,=C,=T,=A,=G,=A,=T,=G,=T,=T,=T,=C,=A,=T,=G,=A,=C,=C,=T,=T,=T,=A,=T,=T,=C,=A,=T,=A,=A,=G,=A,=G,=A,=T,=G,=A,=T,=G,=T,=A,=T,=T,=C,=T,=T,=G,=A,=T,=A,=C,=T,=A,=C,=T,=T,=C,=T,=C,=A,=T,=T,=T,=G,=C,=A,=A,=A,=T,=T,-C,=C,=A,=A,=T,=T,=A,=T,=T,=A,=T,=T,=A,=A,=T,=T,=T,=C,=A,=T,=A,=T,=C,=A,=A,=T,=T,=A,=G,=A,=A,=T,=A,=A,=T,=A,=T,=A,=T,=C,=T,=T,=C,=C,=T,=T,=C,-A,=A,=T,=T,=T,=A,=G,=T,=T,=A,=C,=C,=T,=C,=A,=C,=T,=A,=T,=G,=G,=G,=C,=T,=A,=T,=G,=T,=A,=C,=A,=A,=A,=C,=T,=C,-C,-A,=A,=G,=A,=A,=A,=A,=A,=G,=T,=T,=A,=G,=T,=C,=A,=T,=G,=T,=G,=C,=T,=T,=T,=G,=C,=A,=G,=A,=A,=G,=A,=T,=A,=A,=A,=A,=G,=C,=T,=T,=A,=G,=T,=G,=T,=A,=A,=A,=A,=C,=A,*GA,=G,=C,=T,=G,=A,*GA,=A,+T|*GT,=T,=A,=T,=T,=T,=G,=A,=T,=G,=T,-A,=A,=G,=A,-A,-G,-G,=G,*GA,=A,*GT,=T,=G,=G,=T,=T,=A,=T,=A,=T,=A,=G,=G,=T,=C,=T,=T,=A,=G,=C,=C,=A,=A,=A,=A,=C,=A,=T,=G,=T,=G,=A,=T,=A,=G,=T,=C,-A,=C,=T,=C,=C,=A,=G,=G,=G,=G,=T,=T,=G,=C,=T,=G,=G,=A,=A,=A,=A,=G,=A,=A,=G,=T,=C,=T,=G,=T,=G,=A,=C,=A,=C,=T,=C,=A,=T,=T,=A,=A,=C,=C,=T,=A,=T,=T,=G,=G,=T,=G,=C,=A,=G,=A,=T,=T,=T,=T,=G,=T,+A|+T|+A|+G|+C|=A,=T,=G,=A,=T,=C,=T,=A,=A,=A,=G,=G,=A,=G,=A,=A,=A,=A,=T,=G,=T,=T,=C,=T,=T,=G,=G,=C,=T,=G,=T,=T,=T,=T,=G,=T,=A,=T,=T,=G,-C,=C,=T,=T,=C,=T,=G,=T,=G,=G,=A,=G,=T,=T,=T,=C,=C,=A,=G,=A,=T,=C,=T,=C,=T,=G,=A,=T,=G,=G,=C,=C,=A,-T,=T,=T,=T,=C,=C,=T,=C,=G,=A,=G,=C,=C,=T,=G,=T,=G,=C,=C,=T,=C,=C,=T,=C,=T,=A,=A,=G,=A,=A,=C,=T,=T,=G,=T,=T,=G,=G,=C,=A,=A,=A,=A,=G,=A,=A,=T,=G,=C,=T,=G,=C,=C,=C,=A,=C,=C,=A,=T,=G,=G,=A,=T,=G,=G,=G,=T,=G,=A,=T,=G,=G,=G,=A,=G,=T,-C,=C,=C,=T,=G,=C,=G,=G,=C,=C,=A,=G,=C,=T,=T,=T,=C,=A,=G,=G,=C,=A,=G,=A,=G,=G,=T,=T,=C,=C,=T,=G,-C,-C,-A,=G,=G,=A,=T,=A,=T,=C,=C,=T,=T,=C,=T,=G,=T,=C,=C,=A,=G,=T,=G,-C,-A,=C,=C,=A,=T,=C,=T,=G,=G,=A,=C,=C,=T,=C,=A,=G,=T,=T,=C,=C,=C,+A|=C,+A|*TC,=T,=C,=A,=A,-A,-G,=G,=G,=G,=T,=G,=G,=A,=T,=G,=A,=C,=C,*GT,=T,=G,=A,=G,=T,=C,=C,=T,=G,=G,=C,=C,=C,=T,=C,=T,=G,=T,*GA,=T,=T,=T,=T,=A,=T,=A,=A,=T,=A,=G,=G,=A,=C,=C,=T,=G,=C,=C,=A,=G,=T,=G,=C,=T,=C,=A,=G,=G,=C,=A,=A,=C,=T,=T,=C,=A,=T,*GA,=G,=G,=T,=T,=T,=C,=A,=A,=C,=T,=G,=C,=G,=G,=A,=A,=A,=C,=T,=G,=T,=A,=A,=G,=T,=T,=T,=G,=G,=A,=T,=T,=T,*GA,=G,=G,=G,-G,-C,=C,=C,=A,=A,=A,=T,=T,=G,=T,=A,=C,-A,-G,-A,=G,=A,=A,=G,=C,=G,=A,=G,=T,=C,=T,=T,=G,-A,=T,=T,=A,=G,=A,=A,=G,=A,=A,=A,=C,=A,=T,=T,=T,=T,=T,=G,=A,=T,=T,=T,=G,=A,=G,=T,=G,=T,=C,=T,=C,=C,=G,=A,=A,=A,=A,=G,=A,=A,=T,=A,=A,=G,=T,=T,=C,=T,=T,=T,=T,=C,=T,=T,=A,=C,=C,=T,=C,=A,=C,+T|=T,=T,=T,=A,=G,=C,=A,=A,=A,=A,=C,=A,=T,=A,=C,=T,=A,=T,=C,=A,=G,=C,=T,=C,=A,=G,=T,=C,+T|+A|=T,=A,=T,=G,=T,=C,=A,=T,-C,-C,=C,=C,=A,=C,=A,=G,=G,=C,=A,=C,=C,=T,=A,=T,=G,=G,=C,=C,=A,=A,=A,=T,=G,=A,=A,=C,=A,=A,=T,=G,=G,=G,=T,=C,=A,=A,=C,=A,=C,=C,*CT,=A,=T,=G,=T,=T,=T,=A,=A,=T,=G,=A,=T,=A,=T,=C,=A,=A,=C,=A,=T,=C,=T,=A,=C,=G,*AG,=C,=C,=T,=C,=T,=T,=T,=G,=T,=A,=T,=G,=G,=A,=T,=G,=C,=A,=T,=T,=A,=C,=T,=A,=T,=G,=T,=G,=T,=C,=A,=A,=G,=G,=G,=A,=C,=A,=C,=A,=C,=T,=G,=C,=T,=T,=G,=G,=G,=G,=G,=C,=T,=C,=T,+A|*GA,=A,=A,=A,=T,=A,=T,=G,=G,=A,=G,=G,=G,=A,=C,=A,=T,=T,=G,=A,=T,=T,=T,=T,=G,=C,=C,=C,=A,=T,=G,=A,=A,=G,=C,=A,=C,=C,=A,=G,=G,=G,=T,=T,=T,=C,=T,=G,=C,=C,=T,=T,=G,*GA,*CA,=A,+G|=C,=A,=G,*AG,=C,=T,=T,=T,=T,=C,=T,=T,=G,=T,=T,=A,=T,=T,=G,=T,*GC,*GA,=G,=A,=A,=C,=A,=A,=G,=A,=A,=A,=T,=T,=C,=G,=A,=G,=A,=A,=C,=T,=A,=A,=C,=T,=G,=G,=G,=G,=A,=T,=G,=A,=G,=A,=A,-C,-T,-T,=C,=A,=C,=T,=G,=T,=T,=C,=C,=A,=T,=A,-C,-T,-G,=G,=G,=A,=T,=T,=G,-G,-A,=G,=A,=G,=A,=T,=G,=C,=A,=G,=A,=A,=A,=A,=C,=T,=G,=T,=G,=A,=C,=A,=T,=T,=T,=G,=C,=A,=C,=A,=G,=A,=T,=G,=A,+G|=G,=T,=A,=C,=T,=T,=G,=G,=G,=A,=G,=G,=T,=C,=G,=T,=C,=A,=C,=C,=C,=T,=G,=A,=A,=A,=A,=T,=C,=C,=T,=A,=A,=C,=T,=T,=A,=C,=T,=C,=A,=G,=C,=C,=C,=A,=G,=C,=A,=T,=C,=C,=T,=T,=C,=T,=T,=C,=T,=C,=C,=T,=C,=C,=T,=G,=G,=C,=A,=G,=G,=T,=A,=A,=G,=A,=T,=G,=C,=A,=C,=T,=A,=T,=A,=T,-A,-G,-A,-G,=A,=G,=A,=G,=T,=T,=G,=C,=A,=A,=A,=G,=A,=C,=T,=G,=G,=T,=A,=C,=T,=T,=C,=A,=G,=C,=A,=G,=C,=C,=A,=C,=A,=T,=T,=T,=T,=C,=A,=T,=G,=C,=T,=C,=T,=G,=T,=G,=A,=G,=C,=A,=T,=C,=T,=C,=T,=G,=A,=T,=A,=A,=T,=A,=T,=C,=T,=C,=A,=G,=G,=G,+C|=C,=A,=G,=A,=A,=A,=A,+T|+G|=T,=G,=T,=G,=C,=C,=T,=T,*AG,=C,-T,-A,*AG,=C,=A,=G,=A,=T,=G,=T,=T,=A,=A,=T,=G,=C,=T,=T,=C,=T,=T,=G,=A,=T,=T,=T,=C,=T,=T,=T,=T,=T,=C,=T,=C,=T,=T,=T,=T,=G,=A,=G,=A,=A,=C,=T,=C,=T,=T,*CT,=A,=A,=A,=G,=T,=T,*GA,=T,=T,=A,=T,=T,=A,=A,=A,=C,=A,=A,=A,=T,=A,=T,=C,=T,=A,=T,=G,=T,=G,=C,=T,=T,=A,=T,=T,=T,=G,=T,=C,=T,=T,=A,=A,=T,=A,=T,=C,=T,=A,=A,=C,=A,=G,=C,=T,=T,=A,=G,=T,=T,=A,=G,=A,=T,=T,=T,=C,=T,=A,=A,=G,=C,=T,=G,=C,=T,=A,=T,=A,=A,=A,=C,=A,=A,=G,=G,=A,=C,=T,=G,=A,=T,=T,=G,=G,=T,=T,=C,=A,=C,+C|+G|=C,=A,=C,=T,=G,=T,=A,=T,-T,-G,=T,*TC,=A,=G,=C,=A,=C,=C,=T,=C,=C,=T,=A,=T,=G,=G,=T,=A,=T,=C,=T,=G,=G,=A,=A,=T,=A,=A,=A,=C,=A,=G,=T,=A,=A,=C,=T,=C,=A,=G,=T,=T,=A,=T,=T,=T,=A,=A,=G,=A,=A,=T,=G,=G,=A,=T,=G,=A,=G,=A,=A,=A,=C,=C,=A,=G,=A,=T,=T,=A,=T,=C,=T,=T,=A,=G,=T,=T,=C,=A,=T,=G,=T,=T,=T,=C,=T,=G,=A,=G,=T,=A,=A,=T,=A,=T,=T,=A,=A,=A,=A,=T,=T,=A,=A,=T,=A,=T,=T,=A,=A,=C,=A,=G,=T,=A,=A,=A,=A,=T,-C,=C,=A,=T,=A,=A,=G,-T,-A,=T,=G,=C,=T,=A,=C,=T,=T,=T,=A,=A,=A,=A,=T,=A,=T,=A,=A,=A,=T,=C,=T,=C,=T,=G,=G,=C,=C,=A,=A,=A,=A,=C,=C,+A|=A,=A,=G,=A,=C,=T,=T,=A,=T,=T,=A,=T,=T,=C,=A,=G,=G,=A,=T,=C,=T,=T,=C,=A,=A,=G,=A,-G,=A,=A,=A,*GT,=T,=G,=C,=T,=G,=A,=G,=A,=T,=A,=A,=T,=T,=C,=A,-C,=T,=A,=A,*GT,=T,=A,=T,=C,=A,=G,=A,=G,=A,=T,=G,=A,=C,=C,=T,=T,=T,=A,=T,=T,=A,=C,=A,=T,=G,=A,=T,=T,=G,=C,=C,=T,=G,=A,=T,=A,=G,=A,=A,=A,=A,=A,=A,=T,=G,=A,=T,=T,=A,=C,=A,=C,=A,=C,=A,=C,=A,=C,=A,=A,=A,=A,=A,=A,=A,=T,=C,=T,=T,=C,=A,=G,=T,=T,=G,=C,=T,=T,=A,=A,=A,=T,=T,=T,=T,=A,=A,=A,=C,=G,=T,=T,=G,=C,=T,=G,=A,=C,=T,=C,=T,=C,=A,=A,=A,=C,=A,=G,=T,=T,=A,=A,=G,=T,=A,=A,=T,=A,=A,=A,=A,=G,=A,=G,=T,=T,=A,=A,=A,=G,=C,=C,=T,=G,=C,=T,=G,=T,=G,=T,=A,=T,=T,=T,=A,=G,=A,=A,-T,=A,-T,-G,=T,=G,=A,=A,=T,=A,=C,=C,=T,=A,=T,=T,=G,=A,=A,-A,-G,=A,=A,=T,=T,=T,=A,=T,=T,=G,=T,=A,=C,=A,=A,=T,=T,=A,=A,=T,=A,=T,=A,=A,=A,=C,=A,=G,=A,=C,=T,=T,=C,=T,=A,=T,=T,=T,=T,=A,=C,=A,=G,=T,=C,=A,=T,=A,=A,=G,=A,=T,=A,=C,=T,=A,=C,=T,=T,=A,=A,=T,=T,=T,=G,=T,=T,=A,=A,=A,=A,=A,=T,=T,=A,=T,=T,=T,=T,=T,=T,=G,=A,=T,=A,=G,=C,=A,=T,=T,=G,=T,=T,=G,=G,=T,=A,=A,=A,=T,=A,=G,=C,=A,=A,=A,=G,=G,=T,=G,=A,=T,=A,=T,=T,=T,=G,=C,=T,=A,=A,=T,=G,=A,=T,=T,=A,=C,+A|=A,=A,=G,=G,=G,=C,=T,=G,=T,=C,=T,=G,=G,=C,=T,=A,=A,=C,=T,=T,=A,=C,=G,=T,=T,=A,=T,=G,+T|=T,=T,=C,=A,-G,=G,=G,=A,=G,=A,=A,=G,=A,=C,=A,=G,=T,=C,=C,=T,=T,=T,=T,=T,-A,-A,=G,=G,=A,=A,=T,+A|*GA,=G,=G,=C,=A,=C,=T,=T,=T,=C,=T,=A,=A,=C,=T,=T,=T,=T,=T,=T,=T,=C,=T,=C,=T,=A,=G,=G,=A,=T,=G,=G,=A,=G,=A,=A,=A,=A,=A,=T,=T,=A,=G,=C,=C,=T,=T,=C,=T,=T,=C,=C,=T,=A,=C,=T,=T,=T,=A,=A,=A,=A,=A,=T,=G,=T,=T,=A,=G,=A,=C,=A,=T,=A,=G,=A,=A,=T,=T,+A|=A,=A,=G,=G,=G,=A,=T,=T,=G,=T,=T,=A,=T,=T,=T,=T,=G,=A,=G,=A,=T,=T,=A,=A,=A,=T,=T,=T,=T,=C,=T,=T,=T,=T,=C,=T,=C,=C,=T,=A,=T,=T,=A,+T|=T,=T,=T,=T,=T,=C,=C,=T,=C,=A,=T,=T,=C,=T,=G,=G,=A,=A,=T,=G,=G,=A,=A,=G,=C,=A,=A,=A,=A,=G,=A,=T,=G,=A,=A,=G,=A,=A,=A,=G,=A,=A,=A,=T,=A,=T,=A,=T,=G,=T,=T,=A,=A,=A,=T,=T,=G,=T,=T,=T,=T,=C,=C,=T,=T,=T,=A,=A,=A,=T,+A|+A|=G,=A,=A,=C,=A,=C,=A,=A,=A,=T,=G,=T,=G,=A,=A,=A,=T,=A,=T,=G,=T,=T,=T,=T,=T,=C,=T,=G,-C,=C,=T,=A,=T,=C,=T,=T,=G,=T,=A,=A,=A,=A,=T,=T,=T,=T,=C,=T,=A,=T,=T,=G,=C,=A,=A,=C,=T,=A,=T,=T,=C,=T,=G,=A,=T,=T,=A,=C,=C,=A,=G,=T,=T,=C,=A,=A,=A,=T,=G,=G,=G,=G,=A,=A,=A,=A,=A,=A,=G,=A,=A,=C,=A,=T,+A|=A,*GA,*GA,=C,=T,=A,-C,-C,-C,=C,=A,=C,=A,=C,=T,=T,=G,=A,=A,=A,=T,=T,=T,=T,+A|=G,=A,=A,=A,=T,=A,=T,=G,=A,=A,=T,=G,=T,=C,=C,=T,=C,=T,=G,=T,=C,=T,=C,=T,=G,=C,=T,=G,=G,=T,=C,=T,=A,+G|+C|=A,=C,=A,=C,=T,=T,=C,=C,=A,=A,=A,=A,=T,=G,=G,=A,=A,=A,=C,=C,=T,=T,=T,=A,=A,=A,=G,=G,=G,=C,=C,=A,=C,=T,=G,=T,=A,=A,=A,=T,=T,=A,=C,=A,=G,=C,=T,=G,=C,=T,=A,=A,=T,=T,=C,=C,=T,=G,=G,=T,=G,=C,=C,=A,=A,=T,=G,=G,=T,=G,=A,=T,=A,=A,=G,=T,=G,=T,=T,=T,=A,=C,=T,=A,=A,=A,=C,=C,=T,=A,=G,=T,=G,=A,=G,=T,=A,=C,=T,=T,=T,=A,=T,=A,=G,=C,=A,=T,-G,*GA,=G,=G,=C,=T,=C,=T,=G,=C,=T,=G,=C,=G,=A,+A|+A|+T|=A,*GT,=T,=A,=A,=C,=A,=T,=T,=G,=C,=T,=G,=T,=A,=T,=A,=T,=T,=T,=T,=C,=A,=G,=T,=C,=A,=T,=T,=C,=T,=A,=C,=C,=T,=T,=A,=A,=T,=T,=C,=A,=T,=G,=A,=A,=C,=T,=G,=C,=A,=A,=A,=A,=C,=T,=C,=T,=C,=A,=T,=C,=T,=A,=G,=C,=T,=T,=T,=T,=T,=A,=C,=T,=T,=C,=T,=C,=T,=A,=G,=C,=T,=A,=T,=T,*GA,=C,=T,=T,=T,=A,=A,=G,=T,=T,=C,=T,=A,=T,=C,*AG,*GA,=G,=C,=T,=C,=A,=G,=G,=T,=G,=T,=G,=G,=A,=A,=T,=T,=C,=T,=C'}\n"
     ]
    }
   ],
   "source": [
    "print(next(x))"
   ]
  },
  {
   "cell_type": "markdown",
   "metadata": {},
   "source": [
    "# 👉👉👉 いまここ 👈👈👈"
   ]
  },
  {
   "cell_type": "code",
   "execution_count": null,
   "metadata": {},
   "outputs": [],
   "source": []
  },
  {
   "attachments": {},
   "cell_type": "markdown",
   "metadata": {},
   "source": [
    "# 👌👌👌 まとめ 👌👌👌\n"
   ]
  },
  {
   "attachments": {},
   "cell_type": "markdown",
   "metadata": {},
   "source": [
    "- `_replaceNtoD`までGeneratorで返すようにしました\n",
    "    - 最後は`list[dict[str, str]]`ですが、これは`extract_mutation_loci`と`correct_sequence_error`の両方で使うのでいまのところ仕方ないかと思っています\n",
    "    - 少しでもメモリ使用量を減らすために、最後の情報を`QNAME`と`CSSPLIT`だけにしました"
   ]
  },
  {
   "attachments": {},
   "cell_type": "markdown",
   "metadata": {},
   "source": [
    "# 次に取り組むこと"
   ]
  },
  {
   "attachments": {},
   "cell_type": "markdown",
   "metadata": {},
   "source": [
    "- できるかぎりGeneratorで返すようにします\n",
    "    - ✅ `calc_midsv`\n",
    "    - ⬜ `extract_mutation_loci`\n",
    "    - ⬜ `correct_sequence_error`\n",
    "    - ⬜ `classify`\n",
    "    - ⬜ `clustaring`\n",
    "    - ⬜ `consensus`\n",
    "    - ⬜ `report`\n",
    "\n",
    "### Lists\n",
    "\n",
    "+ GUIの見栄え\n",
    "+ igv.jsの起動\n",
    "+ VCFによる長鎖挿入・欠失情報の付与\n",
    "+ Figの作成\n",
    "+ ⬜ Insertionのなかにある変異を同定する手法を考案する\n",
    "+ ⬜ Ayabe-taks1のright_loxpがいまいちな理由を考察する\n",
    "+ ✅ 断端リードの扱いをどうするべきか\n",
    "+ ✅ `SV`の判定をconsensus callのあとにする\n",
    "+ ✅ Tyrの動作確認\n",
    "+ ✅ ayabe-task1のleft/right-loxpの検出\n",
    "+ ✅ mutation_lociをpreprocessで使用したものに変更する\n",
    "> + ⬜ `preprocess.correct_sequence_error.replace_atmark`のコードがわかりにくい\n",
    "    + テストを用意してリファクタリングする"
   ]
  },
  {
   "cell_type": "markdown",
   "metadata": {},
   "source": []
  }
 ],
 "metadata": {
  "kernelspec": {
   "display_name": "DAJIN2",
   "language": "python",
   "name": "python3"
  },
  "language_info": {
   "codemirror_mode": {
    "name": "ipython",
    "version": 3
   },
   "file_extension": ".py",
   "mimetype": "text/x-python",
   "name": "python",
   "nbconvert_exporter": "python",
   "pygments_lexer": "ipython3",
   "version": "3.10.6"
  },
  "orig_nbformat": 4,
  "vscode": {
   "interpreter": {
    "hash": "58e3ac748e2e63e6aff7f855a7cc6c53d89e428d446591c0d70cbd0714d60e27"
   }
  }
 },
 "nbformat": 4,
 "nbformat_minor": 2
}
