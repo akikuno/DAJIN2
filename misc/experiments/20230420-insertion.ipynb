{
 "cells": [
  {
   "attachments": {},
   "cell_type": "markdown",
   "metadata": {},
   "source": [
    "# 今回の取り組み"
   ]
  },
  {
   "attachments": {},
   "cell_type": "markdown",
   "metadata": {},
   "source": [
    "- 挿入塩基のクラスタリングに取り組みます\n",
    "    - 挿入塩基があるアレルは、preprocessの段階である程度ざっくりと検出する\n",
    "    - consensus配列まで出して、これに再度mapping->midsvする？\n",
    "    - AyabeTask1だと挿入は3アレルある（flox, left-loxp, right-loxp）\n",
    "    - このうち、left-loxpとright-loxpのFASTAファイルを生成する"
   ]
  },
  {
   "cell_type": "markdown",
   "metadata": {},
   "source": [
    "## いつものセットアップ"
   ]
  },
  {
   "cell_type": "code",
   "execution_count": 2,
   "metadata": {},
   "outputs": [
    {
     "name": "stdout",
     "output_type": "stream",
     "text": [
      "/mnt/d/Research/DAJIN2\n"
     ]
    }
   ],
   "source": [
    "# ルートディレクトリをPathに含めるおまじない\n",
    "import sys, os\n",
    "from pathlib import Path\n",
    "if Path(os.getcwd()).stem != \"DAJIN2\":\n",
    "    parent_path = str(Path(os.path.dirname(os.path.abspath(\"__file__\"))).parent.parent)\n",
    "    sys.path.append(parent_path)\n",
    "    os.chdir(parent_path)\n",
    "\n",
    "print(os.getcwd())\n",
    "sys.path.append(os.getcwd() + \"/\" + \"src\")"
   ]
  },
  {
   "cell_type": "code",
   "execution_count": 3,
   "metadata": {},
   "outputs": [],
   "source": [
    "%%bash\n",
    "# pipの更新\n",
    "pip install -q -U pip\n",
    "pip install -q -U -r requirements.txt"
   ]
  },
  {
   "attachments": {},
   "cell_type": "markdown",
   "metadata": {},
   "source": [
    "# 実験"
   ]
  },
  {
   "cell_type": "code",
   "execution_count": 4,
   "metadata": {},
   "outputs": [
    {
     "name": "stdout",
     "output_type": "stream",
     "text": [
      "processing test-ayabe-task1...\n",
      "validate inputs...\n",
      "check_files\n",
      "0.10617709159851074 sec\n",
      "IS_CACHE\n",
      "0.0017075538635253906 sec\n",
      "3.9133787155151367 sec\n",
      "format inputs...\n",
      "0.5622539520263672 sec\n",
      "retrieve genomes...\n",
      "2.6403541564941406 sec\n"
     ]
    }
   ],
   "source": [
    "from __future__ import annotations\n",
    "\n",
    "import sys, os\n",
    "from pathlib import Path\n",
    "\n",
    "import hashlib\n",
    "from collections import defaultdict\n",
    "from pathlib import Path\n",
    "import time\n",
    "\n",
    "from DAJIN2.core import preprocess, classification, clustering, consensus, report\n",
    "\n",
    "\n",
    "#### * flox insertion\n",
    "SAMPLE, CONTROL, ALLELE, NAME, GENOME, DEBUG, THREADS = (\n",
    "    \"examples/flox-cables2/AyabeTask1/barcode31.fq.gz\",\n",
    "    \"examples/flox-cables2/AyabeTask1/barcode42.fq.gz\",\n",
    "    \"examples/flox-cables2/AyabeTask1/design_cables2.fa\",\n",
    "    \"test-ayabe-task1\",\n",
    "    \"mm10\",\n",
    "    True,\n",
    "    14,\n",
    ")\n",
    "\n",
    "\n",
    "print(f\"processing {NAME}...\")\n",
    "\n",
    "##########################################################\n",
    "# Check inputs\n",
    "##########################################################\n",
    "print(f\"validate inputs...\")\n",
    "\n",
    "print(f\"check_files\")\n",
    "time_start = time.time()\n",
    "preprocess.validate_inputs.check_files(SAMPLE, CONTROL, ALLELE)\n",
    "print(time.time() - time_start, \"sec\")\n",
    "\n",
    "TEMPDIR = Path(\"DAJINResults\", \".tempdir\", NAME)\n",
    "print(f\"IS_CACHE\")\n",
    "time_start = time.time()\n",
    "IS_CACHE_CONTROL = preprocess.validate_inputs.exists_cached_control(CONTROL, TEMPDIR)\n",
    "IS_CACHE_GENOME = preprocess.validate_inputs.exists_cached_genome(GENOME, TEMPDIR, IS_CACHE_CONTROL)\n",
    "print(time.time() - time_start, \"sec\")\n",
    "\n",
    "UCSC_URL, GOLDENPATH_URL = None, None\n",
    "if GENOME and not IS_CACHE_GENOME:\n",
    "    UCSC_URL, GOLDENPATH_URL = preprocess.validate_inputs.check_and_fetch_genome(GENOME)\n",
    "\n",
    "print(time.time() - time_start, \"sec\")\n",
    "##########################################################\n",
    "# Format inputs\n",
    "##########################################################\n",
    "print(f\"format inputs...\")\n",
    "time_start = time.time()\n",
    "\n",
    "SAMPLE_NAME = preprocess.format_inputs.extract_basename(SAMPLE)\n",
    "CONTROL_NAME = preprocess.format_inputs.extract_basename(CONTROL)\n",
    "FASTA_ALLELES = preprocess.format_inputs.dictionize_allele(ALLELE)\n",
    "THREADS = min(THREADS, os.cpu_count()-1)\n",
    "\n",
    "preprocess.format_inputs.make_directories(TEMPDIR, SAMPLE_NAME, CONTROL_NAME)\n",
    "print(time.time() - time_start, \"sec\")\n",
    "\n",
    "print(f\"retrieve genomes...\")\n",
    "time_start = time.time()\n",
    "\n",
    "if GENOME:\n",
    "    GENOME_COODINATES = preprocess.format_inputs.fetch_coodinate(GENOME, UCSC_URL, FASTA_ALLELES[\"control\"])\n",
    "    CHROME_SIZE = preprocess.format_inputs.fetch_chrom_size(GENOME_COODINATES[\"chr\"], GENOME, GOLDENPATH_URL)\n",
    "    preprocess.format_inputs.cache_coodinates_and_chromsize(TEMPDIR, GENOME, GENOME_COODINATES, CHROME_SIZE)\n",
    "\n",
    "print(time.time() - time_start, \"sec\")\n"
   ]
  },
  {
   "attachments": {},
   "cell_type": "markdown",
   "metadata": {},
   "source": [
    "### TODO\n",
    "- ThinkPad X1 nanoでやるとなぜかvalidate inputsに数分かかってしまう\n",
    "- どうやらUCSC Genome Browserの本家サイトが落ちていたようです\n",
    "    - 待ちぼうけするので、`timeout=10`を加えました"
   ]
  },
  {
   "cell_type": "code",
   "execution_count": 5,
   "metadata": {},
   "outputs": [],
   "source": [
    "flag1 = Path(TEMPDIR, \"midsv\", f\"{CONTROL_NAME}_splice_control.jsonl\").exists()\n",
    "flag2 = Path(TEMPDIR, \"midsv\", f\"{SAMPLE_NAME}_splice_control.jsonl\").exists()\n",
    "flag = flag1 and flag2\n",
    "\n",
    "if not flag:\n",
    "    # ====================================================================\n",
    "    # Export fasta files as single-FASTA format\n",
    "    # ====================================================================\n",
    "    for identifier, sequence in FASTA_ALLELES.items():\n",
    "        contents = \"\\n\".join([\">\" + identifier, sequence]) + \"\\n\"\n",
    "        output_fasta = Path(TEMPDIR, \"fasta\", f\"{identifier}.fasta\")\n",
    "        output_fasta.write_text(contents)\n",
    "    # ====================================================================\n",
    "    # Mapping with mappy\n",
    "    # ====================================================================\n",
    "    for path_fasta in Path(TEMPDIR, \"fasta\").glob(\"*.fasta\"):\n",
    "        name_fasta = path_fasta.stem\n",
    "        preprocess.mappy_align.output_sam(TEMPDIR, path_fasta, name_fasta, CONTROL, CONTROL_NAME, threads=THREADS)\n",
    "        preprocess.mappy_align.output_sam(TEMPDIR, path_fasta, name_fasta, SAMPLE, SAMPLE_NAME, threads=THREADS)\n",
    "        preprocess.mappy_align.output_sam(\n",
    "            TEMPDIR, path_fasta, name_fasta, CONTROL, CONTROL_NAME, preset=\"splice\", threads=THREADS\n",
    "        )\n",
    "        preprocess.mappy_align.output_sam(\n",
    "            TEMPDIR, path_fasta, name_fasta, SAMPLE, SAMPLE_NAME, preset=\"splice\", threads=THREADS\n",
    "        )\n",
    "    # ====================================================================\n",
    "    # MIDSV conversion\n",
    "    # ====================================================================\n",
    "    for path_sam in Path(TEMPDIR, \"sam\").glob(f\"{CONTROL_NAME}_splice_*\"):\n",
    "        preprocess.call_midsv(TEMPDIR, path_sam)\n",
    "    for path_sam in Path(TEMPDIR, \"sam\").glob(f\"{SAMPLE_NAME}_splice_*\"):\n",
    "        preprocess.call_midsv(TEMPDIR, path_sam)\n",
    "    # ====================================================================\n",
    "    # CSSPLITS Error Correction\n",
    "    # ====================================================================\n",
    "    preprocess.correct_sequence_error.execute(TEMPDIR, FASTA_ALLELES, CONTROL_NAME, SAMPLE_NAME)\n",
    "    preprocess.correct_knockin.execute(TEMPDIR, FASTA_ALLELES, CONTROL_NAME, SAMPLE_NAME)\n",
    "    # ====================================================================\n",
    "    # Convert any `N` as deletions other than consecutive `N` from both ends\n",
    "    # ====================================================================\n",
    "    preprocess.replace_NtoD(TEMPDIR, FASTA_ALLELES, CONTROL_NAME)\n",
    "    preprocess.replace_NtoD(TEMPDIR, FASTA_ALLELES, SAMPLE_NAME)\n",
    "    # ====================================================================\n",
    "    # Cashe inputs (control)\n",
    "    # ====================================================================\n",
    "    if not IS_CACHE_CONTROL:\n",
    "        control_hash = Path(CONTROL).read_bytes()\n",
    "        control_hash = hashlib.sha256(control_hash).hexdigest()\n",
    "        PATH_CACHE_HASH = Path(TEMPDIR, \"cache\", \"control_hash.txt\")\n",
    "        PATH_CACHE_HASH.write_text(str(control_hash))\n"
   ]
  },
  {
   "cell_type": "code",
   "execution_count": 8,
   "metadata": {},
   "outputs": [],
   "source": [
    "import midsv\n",
    "midsv_sample = midsv.read_jsonl(Path(TEMPDIR, \"midsv\", f\"{SAMPLE_NAME}_splice_control.jsonl\"))\n",
    "cssplits_sample = [cs[\"CSSPLIT\"].split(\",\") for cs in midsv_sample]"
   ]
  },
  {
   "cell_type": "code",
   "execution_count": 9,
   "metadata": {},
   "outputs": [],
   "source": [
    "both_loxp = \"f855fb9b57ee\"\n",
    "no_loxp = \"54661f075dc2\"\n",
    "left_loxp = \"7089ae32a686\"\n",
    "right_loxp = \"af9e73c7f917\""
   ]
  },
  {
   "cell_type": "code",
   "execution_count": 10,
   "metadata": {},
   "outputs": [],
   "source": [
    "# %%bash\n",
    "# cat DAJINResults/.tempdir/test-ayabe-task1/sam/barcode31_splice_control.sam |\n",
    "#     grep -e \"^@\" -e \"af9e73c7f917\" |\n",
    "#     samtools sort > tmp_right_loxp.bam\n",
    "#     samtools index tmp_right_loxp.bam"
   ]
  },
  {
   "cell_type": "code",
   "execution_count": 11,
   "metadata": {},
   "outputs": [
    {
     "name": "stdout",
     "output_type": "stream",
     "text": [
      "right_loxp:  194 =G,=G,=C,=A,=A,=G,=A,=A,=C,=G,=A,=C,=C,=T,=G,=C,=T,=T,=T,=T,=T,=A,=C,=C,=T,=T,=A,=C,=A,=G,=A,=A,=C,=C,=A,=A,=G,=C,=A,=T,=G,=C,=A,=T,=C,=T,=G,=G,=A,=T,=C,=A,=C,=C,=A,=A,=G,=A,=C,=A,=C,=A,=A,=A,=G,=G,=C,=C,=T,=G,=A,=A,=G,=A,=A,=A,=A,=C,=C,=C,=A,=C,=T,=T,=C,=A,=T,=C,=A,=A,=G,=A,=A,=C,=A,=T,=G,=A,=G,=G,=C,=A,=G,=T,=A,=T,=G,=A,=C,=A,=C,=A,=A,=A,=G,=A,=A,=C,=A,=G,=C,=A,=G,=G,=T,=G,=A,=G,=T,=G,=A,=G,=T,=G,=T,=A,=G,=G,=G,=C,=C,=A,=G,=G,=C,=C,=C,=G,=G,=G,=A,=A,=G,=G,=C,=C,=A,=C,=T,=G,=T,=G,=C,=T,=C,=C,=C,=T,=G,=T,=A,=C,=T,=G,=T,=A,=G,=G,=A,=T,=C,=A,=G,=G,=C,=C,=G,=T,=G,=T,=C,=T,=C,=T,=G,=G,=G,=G,=G,=C,=C,=A,=A,=A,=A,=A,=T,=A,=T,=G,=A,=G,=A,=C,=C,=C,=A,=G,=G,=C,=C,=C,=T,=G,=C,=C,=C,=C,=T,=G,=T,=T,=G,=G,=C,=A,=G,=C,=A,=G,=C,=C,=C,=C,=T,=T,=C,=T,=C,=C,=A,=T,=C,=A,=C,=C,=C,=G,=T,=T,=G,=T,=C,=C,=C,=C,=T,=G,=A,=C,=C,=C,=T,=C,=T,=A,=T,=A,=T,=T,=G,=T,=T,=G,=A,=A,=C,=A,=C,=T,=G,=G,=C,=T,=A,=G,=C,=A,=T,=A,=G,=C,=C,=A,=G,=G,=C,=C,=A,=G,=C,=A,=A,=G,=C,=C,=A,=C,=C,=A,=C,=T,=G,=T,=A,=T,=A,=A,=T,=C,=C,=C,=A,=G,=G,=G,=A,=A,=G,=A,=G,=C,=C,=A,=C,=C,=A,=G,=C,=T,=G,=G,=A,=C,=A,=C,=A,=A,=A,=T,=C,=T,=T,=A,=A,=G,=A,=A,=A,=A,=A,=G,=A,=G,=A,=C,=T,=A,=G,=G,=C,=A,=C,=C,=A,=C,=T,=G,=T,=A,=T,=A,=A,=T,=C,=C,=C,=A,=G,=G,=G,=A,=A,=G,=G,=G,=C,=C,=A,=G,=C,=A,=G,=C,=T,=G,=G,=A,=C,=A,=C,=A,=G,=A,=T,=C,=T,=T,=A,=A,=G,=A,=A,=A,=A,=A,=G,=A,=G,=A,=C,=T,=A,=G,=G,=G,=A,=A,=A,=G,=C,=A,=A,=A,=A,=A,=T,=G,=C,=C,=T,=C,=C,=C,=C,=C,=C,=T,=C,=C,=C,=C,=A,=A,=A,=T,=G,=T,=G,=C,=C,=C,=A,=G,=G,=A,=T,=A,=G,=A,=A,=G,=G,=T,=G,=C,=G,=A,=C,=C,=A,=T,=A,=T,=T,=T,=G,=G,=G,=G,=C,=A,=C,=A,=T,=A,=T,=A,=C,=A,=G,=G,=A,=T,=A,=A,=G,=G,=C,=A,=T,=G,=G,=C,=T,=A,=T,=A,=C,=T,=T,=G,=T,=C,=A,=G,=C,=A,=C,=T,=A,=A,=G,=A,=G,=T,=T,=C,=C,=A,=T,=T,=G,=G,=G,=G,=A,=C,=A,=C,=A,=C,=A,=G,=A,=T,=G,=G,=A,=G,=A,=T,=G,=A,=G,=G,=T,=A,=T,=A,=T,=T,=G,=G,=G,=G,=G,=A,=C,=A,=T,=A,=T,=G,=G,=G,=A,=G,=G,=C,=T,=T,=A,=A,=C,=T,=C,=A,=A,=A,=C,=T,=A,=G,=T,=A,=T,=T,=T,=G,=G,=G,=T,=C,=C,=C,=C,=A,=G,=A,=A,=C,=A,=G,=T,=G,=C,=T,=A,=G,=G,=C,=T,=A,=G,=A,=A,=T,=C,=T,=G,=G,=G,=C,=A,=G,=C,=T,=G,=C,=A,=T,=A,=T,=G,=C,=C,=T,=G,=C,=A,=C,=T,=G,=G,=T,=G,=C,=A,=A,=A,=C,=A,=C,=A,=C,=T,=A,=C,=C,=T,=G,=T,=C,=A,=C,=T,=C,=T,=G,=A,=T,=C,=T,=C,=A,=G,=T,=C,=C,=C,=T,=T,=C,=C,=C,=T,=G,=C,=T,=G,=T,=A,=G,=G,=T,=C,=A,=C,=C,=G,=T,=G,=A,=T,=A,=A,=G,=T,=A,=T,=C,=C,=C,=C,=A,=G,=G,=A,=A,=C,=T,=G,=T,=T,=G,=C,=T,=G,=C,=A,=G,=G,=A,=C,=C,=T,=G,=C,=A,=A,=A,=T,=C,=C,=T,=A,=A,=G,=T,=C,=C,=T,=G,=A,=G,=A,=C,=C,=A,=C,=A,=G,=G,=G,=T,=G,=G,=C,=C,=T,=A,=T,=G,=G,=T,=T,=A,=T,=A,=G,=C,=T,=T,=T,=G,=A,=G,=C,=A,=T,=T,=C,=A,=G,=G,=G,=G,=C,=C,=C,=C,=A,=G,=T,=C,=C,=T,=A,=A,=G,=C,=C,=C,=C,=C,=C,=T,=A,=G,=A,=T,=A,=G,=C,=T,=T,=A,=G,=T,=T,=C,=T,=G,=T,=A,=T,=T,=A,=T,=A,=T,=C,=T,=A,=G,=G,=T,=G,=T,=T,=C,=T,=C,=T,=A,=T,=T,=A,=G,=C,=A,=G,=T,=A,=A,=A,=C,=C,=T,=T,=G,=T,=G,=T,=T,=T,=G,=C,=C,=T,=G,=T,=A,=C,=T,=C,=T,=G,=T,=A,=G,=C,=C,=T,=G,=T,=T,=G,=C,=C,=A,=A,=T,=G,=A,=A,=C,=T,=T,=G,=G,*CT,=A,=G,=C,=T,=T,=C,=C,=T,=G,=T,=G,=C,=C,=C,=T,=C,=T,=C,=T,=T,=T,=G,=T,=G,=C,=G,=A,=A,=T,=G,=A,=A,=G,=C,=T,=G,=C,=C,=C,=T,=T,=T,=C,=C,=T,=G,=G,=G,=T,=A,=A,=C,=C,=T,=G,=T,=G,=C,=T,=C,=C,=T,=G,=G,=G,=A,=G,=C,=A,=G,=G,=G,=A,=G,=C,=T,=T,=C,=C,=T,=A,=A,=G,=C,=A,=G,=A,=T,=C,=T,=A,=G,=G,=G,=A,=A,=T,=C,=T,=G,=G,=C,=C,=C,=A,=A,=G,=T,=G,=C,=T,=A,=A,=G,=A,=T,=G,=C,=C,=A,=G,=A,=C,=C,=T,=G,=G,=C,=T,=T,=C,=C,=G,=G,=A,=A,=T,=C,=C,=A,=A,=G,=T,=C,=C,=C,=C,=T,=T,=G,=G,=T,=G,=G,=C,=T,=C,=T,=G,=G,=C,=A,=G,=T,=T,=T,=C,=C,=C,=A,=T,=C,=A,=C,=C,=C,=A,=A,=A,=T,=G,=T,=A,=G,=A,=C,=A,=G,=G,=A,=C,=A,=G,=A,=G,=T,=T,=C,=C,=T,=G,=C,=C,=C,=T,=G,=C,=T,=C,=T,=G,=A,=C,=C,=T,=C,=G,=G,=C,=C,=T,=C,=C,=C,=A,=C,=A,=G,=G,=A,=T,=T,=G,=T,=A,=C,=T,=C,=A,=T,=C,=T,=G,=T,=G,=C,=C,=A,=A,=G,=C,=G,=G,=T,=C,=C,=C,=T,=G,=T,=G,=T,=G,=C,=G,=G,=C,=C,=T,=T,=C,=T,=C,=A,=G,=T,=C,=C,=T,=G,=C,=C,=C,=T,=A,=T,=G,=G,=A,=G,=A,=A,=G,=G,=C,=C,=T,=A,=C,=G,=G,=A,=T,=C,=A,=G,=G,=T,=A,=A,=G,=A,=A,=A,=C,=T,=G,=C,=C,=C,=A,=T,=G,=C,=T,=G,=C,=G,=A,=A,=C,=A,=C,=G,=G,=G,=T,=A,=A,=G,=C,=C,=C,=T,=G,=G,=T,=C,=C,=T,=G,=C,=T,=G,=A,=G,=C,=A,=C,=A,=A,=T,=C,=A,=G,=T,=G,=T,=G,=G,=C,=C,=T,=G,=C,=T,=C,=T,=T,=G,=A,=G,=T,=G,=T,=A,=G,=G,=C,=T,=G,=G,=G,=G,=C,=C,=T,=T,=A,=G,=A,=C,=T,=C,=A,=T,=G,=G,=G,=G,=C,=C,=A,=G,=C,=A,=T,=A,=T,=C,=G,=T,=C,=T,=C,=C,=C,=T,=C,=C,=A,=C,=A,=G,=C,=C,=C,=A,=G,=G,=A,=G,=T,=T,=T,=G,=C,=A,=T,=T,=C,=C,=A,=G,=G,=T,=T,=C,=T,=T,=A,=T,=C,=C,=C,=C,=G,=G,=A,=G,=C,=C,=A,=C,=G,=G,=G,=T,=T,=C,=T,=G,=T,=C,=C,=A,=G,=A,=C,=T,=A,=T,=C,=T,=A,=T,=A,=T,=G,=T,=G,=T,=G,=T,=G,=G,=G,=A,=T,=G,=T,=G,=T,=G,=T,=G,=T,=A,=G,=A,=T,=G,=G,=A,=T,=G,=G,=A,=T,=A,=G,=A,=T,=A,=G,=A,=T,=A,=G,=G,=C,=A,=G,=G,=C,=T,=A,=C,=A,=T,=A,=T,=A,=G,=G,=T,=T,=G,=G,=C,=T,=A,=T,=A,=T,=A,=T,=A,=G,=G,=T,=T,=A,=G,=C,=T,=A,=T,=A,=T,=A,=C,=A,=G,=G,=T,=A,=T,=G,=T,=A,=T,=C,=A,=G,=T,=A,=G,=G,=C,=T,=A,=T,=A,=T,=A,=T,=A,=G,=G,=T,=T,=G,=A,=C,=T,=G,=A,=G,=A,=T,=A,=T,=T,=C,=C,=T,=G,=A,=A,=C,=C,=T,=C,=T,=C,=T,=C,=A,=A,=A,=T,=A,=A,=G,=C,=T,=C,=C,=T,=A,=A,=A,=A,=C,=C,=T,=T,=G,=T,=G,=A,=C,=C,=A,=G,=C,=C,=C,=A,=G,=G,=C,=A,=A,=T,=T,=G,=T,=G,=T,=C,=C,=T,=G,=A,=G,=T,=A,=T,=A,=A,=T,=T,=C,=A,=G,=G,=G,=A,=A,=G,=A,=A,=G,=G,=A,=A,=A,=C,=A,=G,=C,=T,=G,=T,=T,=G,=G,=G,=G,=C,=G,=G,=G,=G,=C,=A,=G,=T,=G,=T,=T,=G,=T,=G,=T,=G,=T,=G,=A,=C,=C,=C,=C,=A,=C,=A,=G,=A,=A,=C,=A,=A,=T,=A,=G,=T,=C,=G,=G,=C,=A,=C,=A,=G,=A,=A,=A,=A,=A,=C,+T|=C,=T,=C,=C,=T,=G,=T,=C,=C,=A,=G,=A,=G,=T,=G,=G,=G,=A,=G,=A,=T,=A,=G,=C,=C,=A,=G,=T,=T,=C,=T,=C,=A,=G,=G,=A,=T,=C,=C,=C,=A,=G,=G,=C,=C,=A,=G,=C,=T,=G,=C,=T,=G,=A,=A,=C,=T,=G,=T,=G,=T,=G,=A,=C,=T,=A,=C,=A,=G,=G,=T,=G,=A,=A,=G,=G,=G,=A,=C,=T,=G,=A,=G,=G,=C,=A,=C,=C,=T,=G,=G,=G,=A,=A,=G,=C,=G,=A,=A,=T,=T,=T,=A,=A,=G,=C,=C,=A,=A,=A,=G,=T,=C,=T,=G,=G,=T,=A,=A,=G,=T,=T,=T,=T,=C,=A,=G,=G,=G,=A,=T,=G,=T,=T,=C,=C,=A,=G,=A,=G,=T,=G,=G,=T,=G,=G,=C,=T,=C,=C,=C,=A,=G,=G,=T,=G,=C,=T,=A,=T,=G,=A,=C,=A,=G,=A,=T,=G,=A,=C,=A,=T,=C,=T,=A,=T,=C,=C,=T,=G,=T,=C,=A,=T,=C,=C,=A,=C,=A,=A,=G,=G,=C,=A,=G,=G,=A,=G,=T,=T,=A,=A,=G,=A,=T,=A,=C,=A,=G,=G,=C,=T,=G,=C,=C,=C,=T,=C,=A,=G,=G,=C,=T,=A,=A,=A,=C,=C,=T,=T,=C,=T,=G,=T,=C,=A,=T,=G,=T,=A,=C,=C,=T,=C,=C,=A,=A,=G,=G,=T,=C,=A,=T,=G,=C,=C,=C,=G,=C,=C,=C,=C,=C,=T,=T,=C,=T,=C,=C,=T,=G,=T,=T,=T,=T,=G,=A,=G,=G,=A,=C,=T,=T,=T,=G,=T,=G,=G,=C,=A,=G,=G,=A,=G,=C,=A,=C,=T,=C,=T,=G,=T,=G,=T,=G,=G,=G,=T,=G,=G,=A,=T,=T,=C,=C,=C,=G,=G,=T,=G,=G,=G,=C,=C,=G,=A,=G,=C,=A,=C,=C,=C,=A,=C,=C,=C,=A,=C,=T,=G,=A,=C,=C,=A,=C,=A,=G,=A,=C,=A,=G,=A,=G,=G,=G,=A,=C,=T,=A,=C,=A,=G,=C,=C,=C,=T,=C,=C,=C,=T,=C,=T,=C,=A,=T,=A,=T,=A,=C,=A,=T,=T,=G,=C,=A,=G,=T,=G,=A,=C,=C,=T,=G,=A,=G,=G,=G,=T,=G,=G,=A,=C,=A,=G,=C,=C,=A,=G,=A,=A,=G,=C,=A,=G,=A,=G,=G,=C,=A,=C,=C,=C,=A,=T,=C,=C,=G,=G,=C,=G,=G,=C,=G,=T,=T,=T,=C,=T,=G,=T,=T,=T,=C,=T,=T,=C,=T,=G,=A,=G,=A,=T,=G,=G,=T,=C,=T,=T,=T,=G,=A,=A,=T,=T,=G,=G,=A,=A,=G,=G,=C,=G,=T,=T,=G,=A,=G,=C,=T,=G,=G,=G,=A,=G,=C,=A,=G,=A,=T,=G,=G,=A,=A,=A,=G,=G,=C,=A,=A,=G,=A,=G,=C,=C,=C,=T,=G,=T,=G,=G,=C,=C,=A,=G,=C,=C,=A,=T,=T,=G,=G,=C,=C,=A,=G,=C,=A,=G,=A,=G,=T,=T,=A,=G,=G,=C,=A,=G,=A,=C,=A,=G,=G,=T,=G,=C,=T,=G,=C,=A,=C,=A,=T,=T,=A,=A,=G,=G,=C,=A,=C,=A,=G,=T,=A,=T,=T,=G,=G,=G,=A,=G,=C,=A,=A,=G,=C,=C,=A,=C,=A,=C,=C,=C,=C,=G,=T,=T,=A,=C,=A,=C,=C,=T,=G,=T,=C,=A,=C,=T,=A,=G,=C,=T,=G,=G,=C,=T,=C,=A,=T,=G,=C,=C,=A,=C,=C,=C,=A,=G,=A,=G,=A,=A,=A,=G,=T,=G,=C,=C,=T,=A,=A,=G,=A,=G,=T,=A,=C,=A,=C,=C,=A,=T,=A,=C,=A,=C,=A,=G,=C,=C,=A,=C,=T,=G,=C,=T,=A,=G,=C,=T,=G,=T,=G,=G,=G,=T,=A,=A,=C,=C,=C,=A,=A,=C,=T,=G,=C,=T,=C,=C,=C,=C,=T,=G,=G,=G,=T,=T,=C,=T,=C,=C,=A,=C,=A,=T,=A,=G,=A,=G,=C,=C,=T,=T,=G,=C,=T,=T,=C,=T,=G,=G,=A,=C,=C,=A,=G,=T,=A,=A,=G,=T,=A,=G,=G,=C,=C,=A,=A,=G,=G,=G,=T,=C,=T,=T,=C,=C,=A,=A,=G,=A,=C,=A,=G,=A,=G,=A,=C,=T,=A,=G,=C,=C,=T,=G,=G,=C,=C,=A,=C,=A,=G,=A,=C,=C,=A,=C,=A,=G,=A,=T,=T,=A,=G,=G,=C,=A,=T,=G,=G,=A,=A,=G,=C,=T,=A,=G,=T,=G,=C,=T,=C,=T,=G,=A,=C,=C,=T,=T,=G,=A,=A,=A,=G,=T,=A,=C,=C,=C,=A,=C,=T,=C,=C,=G,=A,=C,=T,=G,=G,=G,=T,=A,=G,=C,=A,=G,=C,=A,=T,=G,=G,=C,=T,=T,=C,=A,=G,=G,=C,=T,=C,=C,=T,=C,=A,=C,=T,=G,=G,=A,=G,=G,=G,=C,=A,=G,=A,=G,=G,=G,=A,=A,=G,=C,=A,=G,=A,=A,=C,=T,=T,=G,=G,=T,=T,=G,=T,=A,=C,=T,=T,=T,=C,=T,=G,=G,=C,=C,=T,=G,=G,=G,=G,=A,=G,=C,=A,=G,=A,=A,=C,=T,=G,=A,=G,=C,=T,=A,=A,=T,=G,=T,=G,=A,=T,=T,=G,=C,=T,=T,=T,=T,=C,=C,=A,=G,=G,=T,=C,=G,=T,=G,=T,=C,=T,=T,=A,=T,=G,=C,=A,=A,=A,=G,=T,=T,=C,=C,=T,=G,=T,=A,=C,=C,=C,=T,=A,=C,=T,=A,=A,=T,=G,=C,=T,=C,=T,=G,=G,=T,=T,=A,=T,=A,=C,=A,=C,=A,=A,=G,=A,=A,=T,=G,=A,=C,=A,=G,=C,=C,=A,=T,=G,=G,=C\n",
      "no_loxp:  319\n",
      "left_loxp:  391\n",
      "both_loxp:  871\n"
     ]
    }
   ],
   "source": [
    "for i, samp in enumerate(midsv_sample):\n",
    "    if both_loxp in samp[\"QNAME\"]:\n",
    "        print(\"both_loxp: \", i)\n",
    "    elif no_loxp in samp[\"QNAME\"]:\n",
    "        print(\"no_loxp: \", i)\n",
    "    elif left_loxp in samp[\"QNAME\"]:\n",
    "        print(\"left_loxp: \", i)\n",
    "    elif right_loxp in samp[\"QNAME\"]:\n",
    "        print(\"right_loxp: \", i, samp[\"CSSPLIT\"])\n"
   ]
  },
  {
   "cell_type": "code",
   "execution_count": 12,
   "metadata": {},
   "outputs": [],
   "source": [
    "idx_right_loxp = 194\n",
    "idx_no_loxp = 319\n",
    "idx_left_loxp = 391\n",
    "idx_both_loxp = 871\n",
    "idx_loxps = {194: \"idx_right_loxp\", 319: \"idx_no_loxp\", 391: \"idx_left_loxp\", 871: \"idx_both_loxp\"}\n",
    "# idx_loxps = {\"idx_right_loxp\": 194, \"idx_no_loxp\": 319, \"idx_left_loxp\": 391, \"idx_both_loxp\": 871}"
   ]
  },
  {
   "cell_type": "code",
   "execution_count": 13,
   "metadata": {},
   "outputs": [
    {
     "name": "stdout",
     "output_type": "stream",
     "text": [
      "idx_right_loxp 1725 +T|=C\n",
      "idx_left_loxp 2381 +C|+G|+C|+G|+C|+C|+A|+A|+T|+T|+C|+G|+A|+T|+A|+T|+C|+A|+A|+G|+C|+T|+A|+T|+A|+A|+C|+T|+G|+G|+T|+A|+T|+A|+G|+C|+A|+T|+A|+C|+A|+T|+T|+A|+T|+A|+C|+G|+A|+A|+G|+T|+T|+A|+T|+G|+C|+G|+G|+C|+C|=C\n",
      "idx_both_loxp 79 +C|+A|+T|+G|+A|+G|=C\n",
      "idx_both_loxp 1731 +T|+C|+A|+A|+A|+C|+A|+T|+A|+A|+C|+T|+T|+C|+G|+T|+A|+T|+A|+G|+C|+A|+T|+A|+C|+A|+T|+T|+A|+T|+A|+C|+G|+A|+A|+G|+T|+T|+A|+T|+G|+G|+C|+G|+C|+G|+C|+C|=T\n",
      "idx_both_loxp 2381 +C|+G|+C|+C|+A|+A|+T|+T|+C|+G|+A|+T|+A|+T|+C|+A|+A|+G|+C|+T|+A|+T|+A|+A|+C|+T|+T|+C|+G|+T|+A|+T|+A|+G|+C|+A|+T|+A|+C|+A|+T|+G|+A|+G|+T|+A|+C|+G|+A|+A|+G|+C|+T|+A|+T|+G|+C|+G|+G|+C|+C|=C\n"
     ]
    }
   ],
   "source": [
    "for idx, loxp in idx_loxps.items():\n",
    "    for i,cs in enumerate(cssplits_sample[idx]):\n",
    "        if cs.startswith(\"+\"):\n",
    "            print(loxp, i, cs)"
   ]
  },
  {
   "attachments": {},
   "cell_type": "markdown",
   "metadata": {},
   "source": [
    "- なぜかright_loxpにおいて挿入塩基がないようです…\n",
    "- `preprocess`で消えているようです\n",
    "\n",
    "- いちど補正前の状態に戻します"
   ]
  },
  {
   "cell_type": "code",
   "execution_count": 14,
   "metadata": {},
   "outputs": [],
   "source": [
    "import shutil\n",
    "# ============================================================\n",
    "# Mapping with minimap2/mappy\n",
    "# ============================================================\n",
    "for path_fasta in Path(TEMPDIR, \"fasta\").glob(\"*.fasta\"):\n",
    "    name_fasta = path_fasta.stem\n",
    "    preprocess.mappy_align.output_sam(TEMPDIR, path_fasta, name_fasta, SAMPLE, SAMPLE_NAME, threads=THREADS)\n",
    "    preprocess.mappy_align.output_sam(\n",
    "        TEMPDIR, path_fasta, name_fasta, SAMPLE, SAMPLE_NAME, preset=\"splice\", threads=THREADS\n",
    "    )\n",
    "# ============================================================\n",
    "# MIDSV conversion\n",
    "# ============================================================\n",
    "shutil.copytree(Path(TEMPDIR, \"midsv_control\"), Path(TEMPDIR, \"midsv\"), dirs_exist_ok=True)\n",
    "for path_sam in Path(TEMPDIR, \"sam\").glob(f\"{SAMPLE_NAME}_splice_*\"):\n",
    "    preprocess.call_midsv(TEMPDIR, path_sam)"
   ]
  },
  {
   "cell_type": "code",
   "execution_count": 16,
   "metadata": {},
   "outputs": [
    {
     "name": "stdout",
     "output_type": "stream",
     "text": [
      "idx_right_loxp 1732 +T|+T|+C|+C|+A|+A|+C|+A|+T|+A|+A|+C|+T|+G|+C|+A|+T|+A|+T|+A|+C|+A|+T|+T|+A|+T|+A|+A|+T|+G|+A|+A|+G|+T|+T|+A|+T|+G|+G|+C|+G|+C|+G|+C|=C\n",
      "idx_right_loxp 2396 +T|*CG\n",
      "idx_left_loxp 2381 +C|+G|+C|+G|+C|+C|+A|+A|+T|+T|+C|+G|+A|+T|+A|+T|+C|+A|+A|+G|+C|+T|+A|+T|+A|+A|+C|+T|+G|+G|+T|+A|+T|+A|+G|+C|+A|+T|+A|+C|+A|+T|+T|+A|+T|+A|+C|+G|+A|+A|+G|+T|+T|+A|+T|+G|+C|+G|+G|+C|+C|=C\n",
      "idx_both_loxp 1731 +T|+C|+A|+A|+A|+C|+A|+T|+A|+A|+C|+T|+T|+C|+G|+T|+A|+T|+A|+G|+C|+A|+T|+A|+C|+A|+T|+T|+A|+T|+A|+C|+G|+A|+A|+G|+T|+T|+A|+T|+G|+G|+C|+G|+C|+G|+C|+C|=T\n",
      "idx_both_loxp 2381 +C|+G|+C|+C|+A|+A|+T|+T|+C|+G|+A|+T|+A|+T|+C|+A|+A|+G|+C|+T|+A|+T|+A|+A|+C|+T|+T|+C|+G|+T|+A|+T|+A|+G|+C|+A|+T|+A|+C|+A|+T|+G|+A|+G|+T|+A|+C|+G|+A|+A|+G|+C|+T|+A|+T|+G|+C|+G|+G|+C|+C|=C\n"
     ]
    }
   ],
   "source": [
    "import midsv\n",
    "midsv_sample = midsv.read_jsonl(Path(TEMPDIR, \"midsv\", f\"{SAMPLE_NAME}_splice_control.jsonl\"))\n",
    "cssplits_sample = [cs[\"CSSPLIT\"].split(\",\") for cs in midsv_sample]\n",
    "\n",
    "for idx, loxp in idx_loxps.items():\n",
    "    for i,cs in enumerate(cssplits_sample[idx]):\n",
    "        if cs.startswith(\"+\"):\n",
    "            if 1700 < i < 1750 or 2350 < i < 2400:\n",
    "                print(loxp, i, cs)"
   ]
  },
  {
   "attachments": {},
   "cell_type": "markdown",
   "metadata": {},
   "source": [
    "- やはり補正前はright_loxpはあります"
   ]
  },
  {
   "cell_type": "code",
   "execution_count": 17,
   "metadata": {},
   "outputs": [],
   "source": [
    "preprocess.correct_sequence_error.execute(TEMPDIR, FASTA_ALLELES, CONTROL_NAME, SAMPLE_NAME)"
   ]
  },
  {
   "cell_type": "code",
   "execution_count": 18,
   "metadata": {},
   "outputs": [
    {
     "name": "stdout",
     "output_type": "stream",
     "text": [
      "idx_both_loxp 1731 +T|+C|+A|+A|+A|+C|+A|+T|+A|+A|+C|+T|+T|+C|+G|+T|+A|+T|+A|+G|+C|+A|+T|+A|+C|+A|+T|+T|+A|+T|+A|+C|+G|+A|+A|+G|+T|+T|+A|+T|+G|+G|+C|+G|+C|+G|+C|+C|=T\n"
     ]
    }
   ],
   "source": [
    "import midsv\n",
    "midsv_sample = midsv.read_jsonl(Path(TEMPDIR, \"midsv\", f\"{SAMPLE_NAME}_splice_control.jsonl\"))\n",
    "cssplits_sample = [cs[\"CSSPLIT\"].split(\",\") for cs in midsv_sample]\n",
    "\n",
    "for idx, loxp in idx_loxps.items():\n",
    "    for i,cs in enumerate(cssplits_sample[idx]):\n",
    "        if cs.startswith(\"+\"):\n",
    "            if 1700 < i < 1750 or 2350 < i < 2400:\n",
    "                print(loxp, i, cs)"
   ]
  },
  {
   "attachments": {},
   "cell_type": "markdown",
   "metadata": {},
   "source": [
    "- `preprocess.correct_sequence_error`にて片側のloxpがなくなりました"
   ]
  },
  {
   "cell_type": "code",
   "execution_count": 19,
   "metadata": {},
   "outputs": [],
   "source": [
    "from __future__ import annotations\n",
    "\n",
    "import random\n",
    "import re\n",
    "from collections import Counter, defaultdict\n",
    "from pathlib import Path\n",
    "\n",
    "import midsv\n",
    "import numpy as np\n",
    "from scipy import stats\n",
    "from scipy.spatial import distance\n",
    "\n",
    "\n",
    "def _set_indexes(sequence: str):\n",
    "    sequence_length = len(sequence)\n",
    "    num_subset = sequence_length % 5\n",
    "    left_idx = 0\n",
    "    right_idx = sequence_length\n",
    "    if num_subset == 1:\n",
    "        left_idx += 1\n",
    "    elif num_subset == 2:\n",
    "        left_idx += 1\n",
    "        right_idx -= 1\n",
    "    elif num_subset == 3:\n",
    "        left_idx += 2\n",
    "        right_idx -= 1\n",
    "    elif num_subset == 4:\n",
    "        left_idx += 2\n",
    "        right_idx -= 2\n",
    "    return left_idx, right_idx\n",
    "\n",
    "\n",
    "def _count_5mer_indels(cssplits: list[list[str]], left_idx: int, right_idx: int) -> list[dict]:\n",
    "    transposed = [list(t) for t in zip(*cssplits)]\n",
    "    count_5mer = []\n",
    "    for i in range(left_idx, right_idx, 5):\n",
    "        count = {\"ins\": [1] * 5, \"del\": [1] * 5, \"sub\": [1] * 5}\n",
    "        cssplits_5mer = transposed[i : i + 5]\n",
    "        for j, cs in enumerate(cssplits_5mer):\n",
    "            counter = Counter(cs)\n",
    "            for key, cnt in counter.items():\n",
    "                if key.startswith(\"=\") or key == \"N\" or re.search(r\"a|c|g|t|n\", key):\n",
    "                    continue\n",
    "                if key.startswith(\"+\"):\n",
    "                    count[\"ins\"][j] += cnt\n",
    "                elif key.startswith(\"-\"):\n",
    "                    count[\"del\"][j] += cnt\n",
    "                elif key.startswith(\"*\"):\n",
    "                    count[\"sub\"][j] += cnt\n",
    "        count_5mer.append(count)\n",
    "    return count_5mer\n",
    "\n",
    "\n",
    "def _remove_minor_indels(cssplits: list[list[str]], count_5mer: list[dict]) -> list[dict]:\n",
    "    coverage = len(cssplits)\n",
    "    count_5mer_filtered = []\n",
    "    for count in count_5mer:\n",
    "        dict_mutation = defaultdict(list)\n",
    "        for mutation in [\"ins\", \"del\", \"sub\"]:\n",
    "            if all(True if c < coverage * 0.01 else False for c in count[mutation]):\n",
    "                dict_mutation[mutation] = [1] * 5\n",
    "            else:\n",
    "                dict_mutation[mutation] = count[mutation]\n",
    "        count_5mer_filtered.append(dict_mutation)\n",
    "    return count_5mer_filtered\n",
    "\n",
    "\n",
    "def _extract_sequence_errors(count_5mer_sample, count_5mer_control):\n",
    "    sequence_errors = [set() for _ in range(len(count_5mer_sample))]\n",
    "    dists = defaultdict(list)\n",
    "    # Calculate Jensen-Shannon distance\n",
    "    for samp, cont in zip(count_5mer_sample, count_5mer_control):\n",
    "        for mutation in [\"ins\", \"del\", \"sub\"]:\n",
    "            s = samp[mutation]\n",
    "            c = cont[mutation]\n",
    "            dists[mutation].append(distance.jensenshannon(s, c))\n",
    "    # Discrimitate seq errors and real mutation using Hotelling's T-squared distribution\n",
    "    dists_all = np.array(list(dists.values())).flatten()\n",
    "    avg = np.average(dists_all[~np.isnan(dists_all)])\n",
    "    var = np.var(dists_all[~np.isnan(dists_all)])\n",
    "    threshold = 0.05\n",
    "    for mutation in [\"ins\", \"del\", \"sub\"]:\n",
    "        dists_subset = dists[mutation]\n",
    "        scores = [(xi - avg) ** 2 / var for xi in dists_subset]\n",
    "        thres = stats.chi2.interval(1 - threshold, 1)[1]\n",
    "        for i, score in enumerate(scores):\n",
    "            # 'nan' means the two distributions have too different, so it could be a real mutation\n",
    "            if np.isnan(score):\n",
    "                continue\n",
    "            if score < thres:\n",
    "                sequence_errors[i].add(mutation)\n",
    "    return sequence_errors\n",
    "\n",
    "\n",
    "def _replace_errors_to_atmark(cssplits_sample, sequence_errors, left_idx, right_idx):\n",
    "    cssplits_replaced = []\n",
    "    for samp in cssplits_sample:\n",
    "        samp_replaced = samp.copy()\n",
    "        for idx_error, idx_5mer in enumerate(range(left_idx, right_idx, 5)):\n",
    "            samp_5mer = samp[idx_5mer : idx_5mer + 5]\n",
    "            error = sequence_errors[idx_error]\n",
    "            if \"ins\" in error:\n",
    "                samp_5mer = [\"@\" if cs.startswith(\"+\") else cs for cs in samp_5mer]\n",
    "            if \"del\" in error:\n",
    "                samp_5mer = [\"@\" if cs.startswith(\"-\") else cs for cs in samp_5mer]\n",
    "            if \"sub\" in error:\n",
    "                samp_5mer = [\"@\" if cs.startswith(\"*\") else cs for cs in samp_5mer]\n",
    "            samp_replaced[idx_5mer : idx_5mer + 5] = samp_5mer\n",
    "        cssplits_replaced.append(samp_replaced)\n",
    "    return cssplits_replaced\n",
    "\n",
    "\n",
    "def _replace_atmark(cssplits: list[list[str]], sequence: str) -> list[list[str]]:\n",
    "    random.seed(1)\n",
    "    cssplits_replaced = cssplits.copy()\n",
    "    sequence_length = len(sequence)\n",
    "    for i in range(1, sequence_length - 1):\n",
    "        cssplits_atmark = defaultdict(str)\n",
    "        cssplits_sampling_key = defaultdict(list)\n",
    "        cssplits_sampling_all = []\n",
    "        flag_all_atmark = True\n",
    "        for idx, cssplit in enumerate(cssplits):\n",
    "            key = \",\".join([cssplit[i - 1], cssplit[i + 1]])\n",
    "            if cssplit[i] == \"@\":\n",
    "                cssplits_atmark[idx] = key\n",
    "            else:\n",
    "                cssplits_sampling_key[key].append(cssplit[i])\n",
    "                cssplits_sampling_all.append(cssplit[i])\n",
    "                flag_all_atmark = False\n",
    "        for idx, key in cssplits_atmark.items():\n",
    "            if flag_all_atmark:\n",
    "                cssplits_replaced[idx][i] = \"N\"\n",
    "            elif cssplits_sampling_key[key]:\n",
    "                cssplits_replaced[idx][i] = random.choice(cssplits_sampling_key[key])\n",
    "            else:\n",
    "                cssplits_replaced[idx][i] = random.choice(cssplits_sampling_all)\n",
    "    for cs in cssplits_replaced:\n",
    "        if cs[0] == \"@\":\n",
    "            cs[0] = \"N\"\n",
    "        if cs[-1] == \"@\":\n",
    "            cs[-1] = \"N\"\n",
    "    return cssplits_replaced\n",
    "\n",
    "\n",
    "###############################################################################\n",
    "# main\n",
    "###############################################################################\n",
    "\n",
    "\n",
    "def execute(TEMPDIR: Path, FASTA_ALLELES: dict[str, str], CONTROL_NAME: str, SAMPLE_NAME: str) -> None:\n",
    "    for allele, sequence in FASTA_ALLELES.items():\n",
    "        midsv_sample = midsv.read_jsonl((Path(TEMPDIR, \"midsv\", f\"{SAMPLE_NAME}_splice_{allele}.jsonl\")))\n",
    "        midsv_control = midsv.read_jsonl((Path(TEMPDIR, \"midsv\", f\"{CONTROL_NAME}_splice_{allele}.jsonl\")))\n",
    "        cssplits_sample = [cs[\"CSSPLIT\"].split(\",\") for cs in midsv_sample]\n",
    "        cssplits_control = [cs[\"CSSPLIT\"].split(\",\") for cs in midsv_control]\n",
    "        # Extract sequence errors\n",
    "        left_idx, right_idx = _set_indexes(sequence)\n",
    "        count_5mer_sample = _count_5mer_indels(cssplits_sample, left_idx, right_idx)\n",
    "        count_5mer_control = _count_5mer_indels(cssplits_control, left_idx, right_idx)\n",
    "        count_5mer_sample = _remove_minor_indels(cssplits_sample, count_5mer_sample)\n",
    "        count_5mer_control = _remove_minor_indels(cssplits_control, count_5mer_control)\n",
    "        sequence_errors = _extract_sequence_errors(count_5mer_sample, count_5mer_control)\n",
    "        # Correct sequence errors\n",
    "        cssplits_sample_error_replaced = _replace_errors_to_atmark(cssplits_sample, sequence_errors, left_idx, right_idx)\n",
    "        cssplits_control_error_replaced = _replace_errors_to_atmark(\n",
    "            cssplits_control, sequence_errors, left_idx, right_idx\n",
    "        )\n",
    "        cssplits_sample_atmark_replaced = _replace_atmark(cssplits_sample_error_replaced, sequence)\n",
    "        cssplits_control_atmark_replaced = _replace_atmark(cssplits_control_error_replaced, sequence)\n",
    "        # Replace CSSPLIT\n",
    "        cssplits_sample_corrected = [\",\".join(cs) for cs in cssplits_sample_atmark_replaced]\n",
    "        cssplits_control_corrected = [\",\".join(cs) for cs in cssplits_control_atmark_replaced]\n",
    "        for i, cssplits in enumerate(cssplits_sample_corrected):\n",
    "            midsv_sample[i][\"CSSPLIT\"] = cssplits\n",
    "        for i, cssplits in enumerate(cssplits_control_corrected):\n",
    "            midsv_control[i][\"CSSPLIT\"] = cssplits\n",
    "        midsv.write_jsonl(midsv_sample, Path(TEMPDIR, \"midsv\", f\"{SAMPLE_NAME}_splice_{allele}.jsonl\"))\n",
    "        midsv.write_jsonl(midsv_control, Path(TEMPDIR, \"midsv\", f\"{CONTROL_NAME}_splice_{allele}.jsonl\"))\n"
   ]
  },
  {
   "cell_type": "code",
   "execution_count": 41,
   "metadata": {},
   "outputs": [],
   "source": [
    "# ====================================================================\n",
    "# Mapping with mappy\n",
    "# ====================================================================\n",
    "for path_fasta in Path(TEMPDIR, \"fasta\").glob(\"*.fasta\"):\n",
    "    name_fasta = path_fasta.stem\n",
    "    preprocess.mappy_align.output_sam(\n",
    "        TEMPDIR, path_fasta, name_fasta, CONTROL, CONTROL_NAME, preset=\"splice\", threads=THREADS\n",
    "    )\n",
    "    preprocess.mappy_align.output_sam(\n",
    "        TEMPDIR, path_fasta, name_fasta, SAMPLE, SAMPLE_NAME, preset=\"splice\", threads=THREADS\n",
    "    )\n",
    "# ====================================================================\n",
    "# MIDSV conversion\n",
    "# ====================================================================\n",
    "for path_sam in Path(TEMPDIR, \"sam\").glob(f\"{CONTROL_NAME}_splice_*\"):\n",
    "    preprocess.call_midsv(TEMPDIR, path_sam)\n",
    "for path_sam in Path(TEMPDIR, \"sam\").glob(f\"{SAMPLE_NAME}_splice_*\"):\n",
    "    preprocess.call_midsv(TEMPDIR, path_sam)\n",
    "\n"
   ]
  },
  {
   "cell_type": "code",
   "execution_count": 42,
   "metadata": {},
   "outputs": [],
   "source": [
    "allele = \"control\"\n",
    "sequence = FASTA_ALLELES[allele]\n",
    "\n",
    "midsv_sample = midsv.read_jsonl((Path(TEMPDIR, \"midsv\", f\"{SAMPLE_NAME}_splice_{allele}.jsonl\")))\n",
    "midsv_control = midsv.read_jsonl((Path(TEMPDIR, \"midsv\", f\"{CONTROL_NAME}_splice_{allele}.jsonl\")))\n",
    "cssplits_sample = [cs[\"CSSPLIT\"].split(\",\") for cs in midsv_sample]\n",
    "cssplits_control = [cs[\"CSSPLIT\"].split(\",\") for cs in midsv_control]\n"
   ]
  },
  {
   "cell_type": "code",
   "execution_count": 49,
   "metadata": {},
   "outputs": [
    {
     "name": "stdout",
     "output_type": "stream",
     "text": [
      "defaultdict(<class 'list'>, {'ins': [301, 248, 80, 145, 203], 'del': [51, 2, 9, 26, 7], 'sub': [7, 12, 4, 20, 7]})\n",
      "defaultdict(<class 'list'>, {'ins': [15, 8, 18, 19, 18], 'del': [115, 11, 26, 53, 31], 'sub': [4, 13, 3, 5, 9]})\n"
     ]
    }
   ],
   "source": [
    "# Extract sequence errors\n",
    "left_idx, right_idx = _set_indexes(sequence)\n",
    "count_5mer_sample = _count_5mer_indels(cssplits_sample, left_idx, right_idx)\n",
    "count_5mer_control = _count_5mer_indels(cssplits_control, left_idx, right_idx)\n",
    "count_5mer_sample = _remove_minor_indels(cssplits_sample, count_5mer_sample)\n",
    "count_5mer_control = _remove_minor_indels(cssplits_control, count_5mer_control)\n",
    "sequence_errors = _extract_sequence_errors(count_5mer_sample, count_5mer_control)\n",
    "print(count_5mer_sample[1732//5])\n",
    "print(count_5mer_control[1732//5])"
   ]
  },
  {
   "cell_type": "code",
   "execution_count": 50,
   "metadata": {},
   "outputs": [
    {
     "name": "stdout",
     "output_type": "stream",
     "text": [
      "544\n",
      "{'ins', 'del', 'sub'}\n"
     ]
    }
   ],
   "source": [
    "print(len(sequence_errors))\n",
    "print(sequence_errors[1731//5])"
   ]
  },
  {
   "cell_type": "code",
   "execution_count": 57,
   "metadata": {},
   "outputs": [
    {
     "name": "stdout",
     "output_type": "stream",
     "text": [
      "0.21893263280215008\n"
     ]
    }
   ],
   "source": [
    "sequence_errors = [set() for _ in range(len(count_5mer_sample))]\n",
    "dists = defaultdict(list)\n",
    "# Calculate Jensen-Shannon distance\n",
    "for samp, cont in zip(count_5mer_sample, count_5mer_control):\n",
    "    for mutation in [\"ins\", \"del\", \"sub\"]:\n",
    "        s = samp[mutation]\n",
    "        c = cont[mutation]\n",
    "        dists[mutation].append(distance.jensenshannon(s, c))\n",
    "print(dists[\"ins\"][1731 // 5])"
   ]
  },
  {
   "cell_type": "code",
   "execution_count": 68,
   "metadata": {},
   "outputs": [
    {
     "name": "stdout",
     "output_type": "stream",
     "text": [
      "ins 0.14772805067142492 0.00384335672979802\n",
      "346 1.3191834307500347 ins 5.023886187314888\n",
      "del 0.10414050402168688 0.00250543856765628\n",
      "346 0.04771952412619895 del 5.023886187314888\n",
      "sub 0.12085735625795187 0.002816168128211818\n",
      "346 3.577686836620769 sub 5.023886187314888\n"
     ]
    }
   ],
   "source": [
    "\n",
    "def return_ave_var(dist_array: np.ndarray) -> tuple[np.ndarray, np.ndarray]:\n",
    "    dist_array = dist_array[~np.isnan(dist_array)]\n",
    "    avg = np.average(dist_array)\n",
    "    var = np.var(dist_array)\n",
    "    return avg, var\n",
    "\n",
    "# Discrimitate seq errors and real mutation using Hotelling's T-squared distribution\n",
    "dists_ave_var = defaultdict(tuple)\n",
    "for mutation in [\"ins\", \"del\", \"sub\"]:\n",
    "    dists_ave_var[mutation] = return_ave_var(np.array(dists[mutation]))\n",
    "# dists_all = np.array(list(dists.values())).flatten()\n",
    "# avg = np.average(dists_all[~np.isnan(dists_all)])\n",
    "# var = np.var(dists_all[~np.isnan(dists_all)])\n",
    "threshold = 0.05\n",
    "for mutation in [\"ins\", \"del\", \"sub\"]:\n",
    "    dists_subset = dists[mutation]\n",
    "    avg, var = dists_ave_var[mutation]\n",
    "    scores = [(xi - avg) ** 2 / var for xi in dists_subset]\n",
    "    thres = stats.chi2.interval(1 - threshold, 1)[1]\n",
    "    print(mutation, avg, var)\n",
    "    for i, score in enumerate(scores):\n",
    "        if i == 1731 // 5:\n",
    "            print(i, score, mutation, thres)\n",
    "        # 'nan' means the two distributions have too different, so it could be a real mutation\n",
    "        if np.isnan(score):\n",
    "            continue\n",
    "        if score < thres:\n",
    "            sequence_errors[i].add(mutation)\n"
   ]
  },
  {
   "cell_type": "code",
   "execution_count": 71,
   "metadata": {},
   "outputs": [
    {
     "data": {
      "image/png": "[encoded data removed]",
      "text/plain": [
       "<Figure size 432x288 with 1 Axes>"
      ]
     },
     "metadata": {
      "image/png": {
       "height": 251,
       "width": 380
      },
      "needs_background": "light"
     },
     "output_type": "display_data"
    }
   ],
   "source": [
    "import numpy as np\n",
    "import pandas as pd\n",
    "import matplotlib.pyplot as plt\n",
    "import seaborn as sns\n",
    "sns.set()\n",
    "%matplotlib inline\n",
    "%config InlineBackend.figure_formats = {'png', 'retina'}\n",
    "\n",
    "plt.plot(dists[\"ins\"])\n",
    "plt.ion()\n",
    "plt.show()"
   ]
  },
  {
   "cell_type": "code",
   "execution_count": 81,
   "metadata": {},
   "outputs": [],
   "source": [
    "count_sample = []\n",
    "for cnt in count_5mer_sample:\n",
    "    count_sample += cnt[\"ins\"]\n",
    "\n",
    "count_control = []\n",
    "for cnt in count_5mer_control:\n",
    "    count_control += cnt[\"ins\"]"
   ]
  },
  {
   "cell_type": "code",
   "execution_count": 87,
   "metadata": {},
   "outputs": [
    {
     "data": {
      "image/png": "[encoded data removed]",
      "text/plain": [
       "<Figure size 432x288 with 2 Axes>"
      ]
     },
     "metadata": {
      "image/png": {
       "height": 255,
       "width": 377
      },
      "needs_background": "light"
     },
     "output_type": "display_data"
    }
   ],
   "source": [
    "fig = plt.figure()\n",
    "ax1, ax2 = fig.subplots(1, 2)\n",
    "ax1.plot(count_sample)\n",
    "ax2.plot(count_control)\n",
    "ax1.set_ylim(0, 400)\n",
    "ax2.set_ylim(0, 400)\n",
    "plt.ion()\n",
    "plt.show()"
   ]
  },
  {
   "attachments": {},
   "cell_type": "markdown",
   "metadata": {},
   "source": [
    "- 無事にInsertionがある箇所だけ、ピークが出ているように思うのですが、なぜかdistsスコアに反映されていないみたいです…？"
   ]
  },
  {
   "cell_type": "code",
   "execution_count": 97,
   "metadata": {},
   "outputs": [
    {
     "name": "stdout",
     "output_type": "stream",
     "text": [
      "[301, 248, 80, 145, 203] [15, 8, 18, 19, 18]\n",
      "0.21893263280215008\n"
     ]
    }
   ],
   "source": [
    "s = count_5mer_sample[1732//5][\"ins\"]\n",
    "c = count_5mer_control[1732//5][\"ins\"]\n",
    "print(s, c)\n",
    "print(distance.jensenshannon(s, c))"
   ]
  },
  {
   "cell_type": "code",
   "execution_count": 98,
   "metadata": {},
   "outputs": [
    {
     "name": "stdout",
     "output_type": "stream",
     "text": [
      "345\n"
     ]
    }
   ],
   "source": [
    "for i, score in enumerate(dists[\"ins\"]):\n",
    "    if score > 0.4:\n",
    "        print(i)"
   ]
  },
  {
   "cell_type": "code",
   "execution_count": 99,
   "metadata": {},
   "outputs": [
    {
     "name": "stdout",
     "output_type": "stream",
     "text": [
      "[53, 91, 34, 125, 31] [66, 11, 11, 7, 4]\n",
      "0.40465911011522077\n"
     ]
    }
   ],
   "source": [
    "s = count_5mer_sample[345][\"ins\"]\n",
    "c = count_5mer_control[345][\"ins\"]\n",
    "print(s, c)\n",
    "print(distance.jensenshannon(s, c))"
   ]
  },
  {
   "attachments": {},
   "cell_type": "markdown",
   "metadata": {},
   "source": [
    "- `Jensen-Shannon距離`だと直感的に反した値になるようです\n",
    "- 素直にマハラノビス距離を用いたホテリングT2を試してみます"
   ]
  },
  {
   "cell_type": "code",
   "execution_count": 125,
   "metadata": {},
   "outputs": [],
   "source": [
    "from scipy.stats import chi2\n",
    "\n",
    "def score_anomaly(count_sample: list[int]) -> list[float]:\n",
    "    x = np.array(count_sample)\n",
    "    average = np.mean(x)\n",
    "    sigma = np.std(x)\n",
    "    score = ( (x- average)/sigma )**2\n",
    "    return score.tolist()\n",
    "\n",
    "def extract_anomaly_loci(score: list[float], threshold: float = 0.99) -> list[int]:\n",
    "    anomaly_loci = []\n",
    "    thres = chi2.ppf(q=threshold, df=1)\n",
    "    for i, s in enumerate(score):\n",
    "        if s > thres:\n",
    "            anomaly_loci.append(i)\n",
    "    return anomaly_loci\n"
   ]
  },
  {
   "cell_type": "code",
   "execution_count": 358,
   "metadata": {},
   "outputs": [
    {
     "data": {
      "text/plain": [
       "Text(0.5, 1.0, 'Anomaly of data')"
      ]
     },
     "execution_count": 358,
     "metadata": {},
     "output_type": "execute_result"
    },
    {
     "data": {
      "image/png": "[encoded data removed]",
      "text/plain": [
       "<Figure size 432x288 with 1 Axes>"
      ]
     },
     "metadata": {
      "image/png": {
       "height": 266,
       "width": 377
      },
      "needs_background": "light"
     },
     "output_type": "display_data"
    }
   ],
   "source": [
    "#3.841458820694124\n",
    "a = score_anomaly(count_sample)\n",
    "a_th = chi2.ppf(q=0.95, df=1)\n",
    "plt.plot(a)\n",
    "plt.plot(a_th*np.ones(len(a)), c=\"r\")\n",
    "plt.title(\"Anomaly of data\")"
   ]
  },
  {
   "cell_type": "code",
   "execution_count": 428,
   "metadata": {},
   "outputs": [
    {
     "data": {
      "text/plain": [
       "[301, 248, 80, 145, 203]"
      ]
     },
     "execution_count": 428,
     "metadata": {},
     "output_type": "execute_result"
    }
   ],
   "source": [
    "count_sample[1730:1735]"
   ]
  },
  {
   "cell_type": "code",
   "execution_count": 417,
   "metadata": {},
   "outputs": [
    {
     "data": {
      "text/plain": [
       "Text(0.5, 1.0, 'Anomaly of data')"
      ]
     },
     "execution_count": 417,
     "metadata": {},
     "output_type": "execute_result"
    },
    {
     "data": {
      "image/png": "[encoded data removed]",
      "text/plain": [
       "<Figure size 432x288 with 1 Axes>"
      ]
     },
     "metadata": {
      "image/png": {
       "height": 266,
       "width": 377
      },
      "needs_background": "light"
     },
     "output_type": "display_data"
    }
   ],
   "source": []
  },
  {
   "attachments": {},
   "cell_type": "markdown",
   "metadata": {},
   "source": [
    "- ホテリングを中心としたシンプルな実装で問題なさそうです…？\n",
    "- なんで5merにしたのでしょうか…\n",
    "    - **大型欠失のときのコンセンサス配列表示の問題**でした\n",
    "    - たまにコントロールでもシークエンスエラーによる欠失が見られるので、単独ではなく周辺配列を見ることでコントロールにおけるシークエンスエラーではないことを言おうとしていたのでした\n",
    "    - では、5merは維持しつつ、\n",
    "        - 単独の塩基が異常で、かつ\n",
    "        - その周辺配列を考慮しても異常\n",
    "    - という条件にすれば良い気がしてきました\n",
    "\n",
    "\n",
    "`まず各塩基に対して異常なMIDSを呈している塩基を抽出`  \n",
    "`つぎにその塩基の周辺配列を比較`\n",
    "- とすると計算量も下げられる気がします"
   ]
  },
  {
   "attachments": {},
   "cell_type": "markdown",
   "metadata": {},
   "source": [
    "### まず各塩基に対して異常なMIDSを呈している塩基を抽出"
   ]
  },
  {
   "cell_type": "code",
   "execution_count": 163,
   "metadata": {},
   "outputs": [],
   "source": [
    "allele = \"control\"\n",
    "sequence = FASTA_ALLELES[allele]\n",
    "\n",
    "midsv_sample = midsv.read_jsonl((Path(TEMPDIR, \"midsv\", f\"{SAMPLE_NAME}_splice_{allele}.jsonl\")))\n",
    "midsv_control = midsv.read_jsonl((Path(TEMPDIR, \"midsv\", f\"{CONTROL_NAME}_splice_{allele}.jsonl\")))\n",
    "cssplits_sample = [cs[\"CSSPLIT\"].split(\",\") for cs in midsv_sample]\n",
    "cssplits_control = [cs[\"CSSPLIT\"].split(\",\") for cs in midsv_control]\n"
   ]
  },
  {
   "cell_type": "code",
   "execution_count": 165,
   "metadata": {},
   "outputs": [],
   "source": [
    "def count_indels(cssplits: list[list[str]]) -> dict[str, list[int]]:\n",
    "    count = {\"ins\": [1] * len(cssplits[0]),\n",
    "            \"del\": [1] * len(cssplits[0]),\n",
    "            \"sub\": [1] * len(cssplits[0])}\n",
    "    transposed_cssplits = [list(t) for t in zip(*cssplits)]\n",
    "    for i, transposed_cssplit in enumerate(transposed_cssplits):\n",
    "        for cs in transposed_cssplit:\n",
    "            if cs.startswith(\"=\") or cs == \"N\" or re.search(r\"a|c|g|t|n\", cs):\n",
    "                continue\n",
    "            if cs.startswith(\"+\"):\n",
    "                count[\"ins\"][i] += 1\n",
    "            elif cs.startswith(\"-\"):\n",
    "                count[\"del\"][i] += 1\n",
    "            elif cs.startswith(\"*\"):\n",
    "                count[\"sub\"][i] += 1\n",
    "    return count"
   ]
  },
  {
   "cell_type": "code",
   "execution_count": 166,
   "metadata": {},
   "outputs": [],
   "source": [
    "from scipy.stats import chi2\n",
    "\n",
    "def score_anomaly(count_sample: list[int]) -> list[float]:\n",
    "    x = np.array(count_sample)\n",
    "    average = np.mean(x)\n",
    "    sigma = np.std(x)\n",
    "    score = np.square((x - average) / sigma)\n",
    "    return score.tolist()\n",
    "\n",
    "def extract_anomaly_loci(score: list[float], threshold: float = 0.99) -> set[int]:\n",
    "    anomaly_loci = set()\n",
    "    thres = chi2.ppf(q=threshold, df=1)\n",
    "    for i, s in enumerate(score):\n",
    "        if s > thres:\n",
    "            anomaly_loci.add(i)\n",
    "    return anomaly_loci\n"
   ]
  },
  {
   "cell_type": "code",
   "execution_count": 240,
   "metadata": {},
   "outputs": [
    {
     "name": "stdout",
     "output_type": "stream",
     "text": [
      "14\n",
      "6\n",
      "21\n",
      "{1728, 1730, 1732, 1733, 1734, 2087, 1735, 1736, 2381, 2382, 2386, 2388, 1719, 2586}\n"
     ]
    }
   ],
   "source": [
    "indels_sample = count_indels(cssplits_sample)\n",
    "indels_control = count_indels(cssplits_control)\n",
    "\n",
    "ANOMALY_LOCI = {}\n",
    "for key in [\"ins\", \"del\", \"sub\"]:\n",
    "    score_sample = score_anomaly(indels_sample[key])\n",
    "    loci_sample = extract_anomaly_loci(score_sample)\n",
    "    score_control = score_anomaly(indels_control[key])\n",
    "    loci_control = extract_anomaly_loci(score_control)\n",
    "    ANOMALY_LOCI.update({key: loci_sample - loci_control})\n",
    "\n",
    "print(len(ANOMALY_LOCI[\"ins\"]))\n",
    "print(len(ANOMALY_LOCI[\"del\"]))\n",
    "print(len(ANOMALY_LOCI[\"sub\"]))\n",
    "print(ANOMALY_LOCI[\"ins\"])"
   ]
  },
  {
   "attachments": {},
   "cell_type": "markdown",
   "metadata": {},
   "source": [
    "### つぎに、異常塩基の周辺X塩基をコントロールと比較する\n",
    "- ホモポリマーの場合は周辺配列の一部にピークがある\n",
    "```\n",
    "samp = [100,80,90,100,80,90,90,85,75,80] # 大型欠失\n",
    "cont = [1,1,50,100,80,58,20,2,1,1]       # ホモポリマーによる見た目上の欠失\n",
    "```"
   ]
  },
  {
   "cell_type": "code",
   "execution_count": 234,
   "metadata": {},
   "outputs": [
    {
     "name": "stdout",
     "output_type": "stream",
     "text": [
      "205.35822359964064\n"
     ]
    }
   ],
   "source": [
    "from scipy.spatial import distance\n",
    "samp = [100,80,90,100,80,90,90,85,75,80] # 大型欠失\n",
    "cont = [1,1,50,100,80,58,20,2,1,1]       # ホモポリマーによる見た目上の欠失\n",
    "\n",
    "print(distance.euclidean(samp, cont))"
   ]
  },
  {
   "cell_type": "code",
   "execution_count": 235,
   "metadata": {},
   "outputs": [
    {
     "name": "stdout",
     "output_type": "stream",
     "text": [
      "171.47302994931886\n"
     ]
    }
   ],
   "source": [
    "samp = [100, 100, 100]\n",
    "cont = [1, 1, 1]\n",
    "print(distance.euclidean(samp, cont))"
   ]
  },
  {
   "cell_type": "code",
   "execution_count": 361,
   "metadata": {},
   "outputs": [
    {
     "name": "stdout",
     "output_type": "stream",
     "text": [
      "17.320508075688775\n"
     ]
    }
   ],
   "source": [
    "samp = [100, 100, 100]\n",
    "cont = [110, 110, 110]\n",
    "print(distance.euclidean(samp, cont))"
   ]
  },
  {
   "cell_type": "code",
   "execution_count": 362,
   "metadata": {},
   "outputs": [],
   "source": [
    "def split_kmer(indels: dict[str, list[int]], kmer: int = 10) -> dict[str, list[list[int]]]:\n",
    "    results = defaultdict(list)\n",
    "    center = kmer // 2\n",
    "    for mut, value in indels.items():\n",
    "        for i in range(len(value)):\n",
    "            if center <= i <= len(value) - center:\n",
    "                start = i - center\n",
    "                if kmer % 2 == 0:\n",
    "                    end = i + center\n",
    "                else:\n",
    "                    end = i + center + 1\n",
    "                results[mut].append(value[start : end])\n",
    "            else:\n",
    "                results[mut].append([0]*kmer)\n",
    "    return results\n",
    "\n",
    "\n",
    "def normalize_coverage(indels: dict[str, list[list[int]]], coverage: int):\n",
    "    results = defaultdict(list)\n",
    "    for mut, value in indels.items():\n",
    "        for val in value:\n",
    "            val_normalized = [v / coverage for v in val]\n",
    "            results[mut].append(val_normalized)\n",
    "    return results\n"
   ]
  },
  {
   "cell_type": "code",
   "execution_count": 363,
   "metadata": {},
   "outputs": [],
   "source": [
    "x = split_kmer(indels_sample, kmer = 10)\n",
    "y = split_kmer(indels_control, kmer = 10)\n",
    "# x = normalize_coverage(x, len(cssplits_sample))\n",
    "# y = normalize_coverage(y, len(cssplits_control))"
   ]
  },
  {
   "cell_type": "code",
   "execution_count": 364,
   "metadata": {},
   "outputs": [
    {
     "name": "stdout",
     "output_type": "stream",
     "text": [
      "[53, 91, 34, 125, 31, 301, 248, 80, 145, 203]\n",
      "[66, 11, 11, 7, 4, 15, 8, 18, 19, 18]\n",
      "2724\n",
      "2724\n",
      "0.47576678896864755 0.0037668397375148193\n"
     ]
    }
   ],
   "source": [
    "print(x[\"ins\"][1732])\n",
    "print(y[\"ins\"][1732])\n",
    "print(len(x[\"ins\"]))\n",
    "print(len(y[\"ins\"]))\n",
    "xx = x[\"ins\"][1732]\n",
    "yy = y[\"ins\"][1732]\n",
    "dist = distance.cosine(xx, yy)\n",
    "_, pvalue = stats.ttest_ind(xx, yy, equal_var=False)\n",
    "print(dist, pvalue)"
   ]
  },
  {
   "cell_type": "code",
   "execution_count": 365,
   "metadata": {},
   "outputs": [],
   "source": [
    "def calc_distance(indels_sample: dict[str, list[list[int]]], indels_control: dict[str, list[list[int]]]) -> dict[str, list[float]]:\n",
    "    results = defaultdict(list)\n",
    "    for mut, value in indels_sample.items():\n",
    "        for i, val in enumerate(value):\n",
    "            dist = distance.euclidean(val, indels_control[mut][i])\n",
    "            results[mut].append(dist)\n",
    "    return results"
   ]
  },
  {
   "cell_type": "code",
   "execution_count": 366,
   "metadata": {},
   "outputs": [],
   "source": [
    "dists = calc_distance(x, y)"
   ]
  },
  {
   "cell_type": "code",
   "execution_count": 367,
   "metadata": {},
   "outputs": [
    {
     "name": "stdout",
     "output_type": "stream",
     "text": [
      "2724\n",
      "21.330729007701542\n",
      "463.7801203156513\n"
     ]
    }
   ],
   "source": [
    "print(len(dists[\"ins\"]))\n",
    "print(dists[\"ins\"][1000])\n",
    "print(dists[\"ins\"][1732])"
   ]
  },
  {
   "cell_type": "code",
   "execution_count": 368,
   "metadata": {},
   "outputs": [
    {
     "data": {
      "image/png": "[encoded data removed]",
      "text/plain": [
       "<Figure size 432x288 with 1 Axes>"
      ]
     },
     "metadata": {
      "image/png": {
       "height": 251,
       "width": 377
      },
      "needs_background": "light"
     },
     "output_type": "display_data"
    }
   ],
   "source": [
    "plt.plot(dists[\"ins\"])\n",
    "plt.show()"
   ]
  },
  {
   "cell_type": "code",
   "execution_count": 369,
   "metadata": {},
   "outputs": [
    {
     "name": "stdout",
     "output_type": "stream",
     "text": [
      "{1728, 1730, 1732, 1733, 1734, 1735, 1736, 2381, 2382, 2386}\n"
     ]
    }
   ],
   "source": [
    "x = score_anomaly(dists[\"ins\"])\n",
    "x_loci = extract_anomaly_loci(x)\n",
    "# print(x_loci)\n",
    "print(ANOMALY_LOCI[\"ins\"] & x_loci)"
   ]
  },
  {
   "cell_type": "code",
   "execution_count": 343,
   "metadata": {},
   "outputs": [],
   "source": [
    "from scipy.spatial import distance\n",
    "from scipy.stats import chi2\n",
    "# 分散共分散行列の逆行列を計算\n",
    "cov_i = np.linalg.pinv(cov2)\n",
    "# 異常度を計算 (マハラノビス距離の2乗値を計算)\n",
    "anomaly_scores = np.array([x for x in X if distance.mahalanobis(x, mu, cov_i)**2])"
   ]
  },
  {
   "cell_type": "code",
   "execution_count": 372,
   "metadata": {},
   "outputs": [],
   "source": [
    "from __future__ import annotations\n",
    "import numpy as np\n",
    "from collections import defaultdict\n",
    "from pathlib import Path\n",
    "from scipy.stats import chi2\n",
    "from scipy.spatial import distance\n",
    "\n",
    "import midsv\n",
    "\n",
    "\n",
    "def _count_indels(cssplits: list[list[str]]) -> dict[str, list[int | float]]:\n",
    "    count = {\"ins\": [1] * len(cssplits[0]),\n",
    "            \"del\": [1] * len(cssplits[0]),\n",
    "            \"sub\": [1] * len(cssplits[0])}\n",
    "    transposed_cssplits = [list(t) for t in zip(*cssplits)]\n",
    "    for i, transposed_cssplit in enumerate(transposed_cssplits):\n",
    "        for cs in transposed_cssplit:\n",
    "            if cs.startswith(\"=\") or cs == \"N\" or re.search(r\"a|c|g|t|n\", cs):\n",
    "                continue\n",
    "            if cs.startswith(\"+\"):\n",
    "                count[\"ins\"][i] += 1\n",
    "            elif cs.startswith(\"-\"):\n",
    "                count[\"del\"][i] += 1\n",
    "            elif cs.startswith(\"*\"):\n",
    "                count[\"sub\"][i] += 1\n",
    "    return count\n",
    "\n",
    "\n",
    "def score_anomaly(count_sample: list[int | float]) -> list[float]:\n",
    "    x = np.array(count_sample)\n",
    "    average = np.mean(x)\n",
    "    sigma = np.std(x)\n",
    "    score = np.square((x - average) / sigma)\n",
    "    return score.tolist()\n",
    "\n",
    "\n",
    "def _extract_anomaly_loci(score: list[float], threshold: float = 0.99) -> set[int]:\n",
    "    anomaly_loci = set()\n",
    "    thres = chi2.ppf(q=threshold, df=1)\n",
    "    for i, s in enumerate(score):\n",
    "        if s > thres:\n",
    "            anomaly_loci.add(i)\n",
    "    return anomaly_loci\n",
    "\n",
    "\n",
    "def _split_kmer(indels: dict[str, list[int | float]], kmer: int = 10) -> dict[str, list[list[int]]]:\n",
    "    results = defaultdict(list)\n",
    "    center = kmer // 2\n",
    "    for mut, value in indels.items():\n",
    "        for i in range(len(value)):\n",
    "            if center <= i <= len(value) - center:\n",
    "                start = i - center\n",
    "                if kmer % 2 == 0:\n",
    "                    end = i + center\n",
    "                else:\n",
    "                    end = i + center + 1\n",
    "                results[mut].append(value[start : end])\n",
    "            else:\n",
    "                results[mut].append([0]*kmer)\n",
    "    return results\n",
    "\n",
    "\n",
    "def _calc_distance(indels_sample: dict[str, list[list[int]]], indels_control: dict[str, list[list[int]]]) -> dict[str, list[float]]:\n",
    "    results = defaultdict(list)\n",
    "    for mut, value in indels_sample.items():\n",
    "        for i, val in enumerate(value):\n",
    "            dist = distance.euclidean(val, indels_control[mut][i])\n",
    "            results[mut].append(dist)\n",
    "    return results\n",
    "\n",
    "def _extract(cssplits_sample, cssplits_control) -> dict(set):\n",
    "    indels_sample = _count_indels(cssplits_sample)\n",
    "    indels_control = _count_indels(cssplits_control)\n",
    "    # anomaly at single locus\n",
    "    mutation_locus_single = {}\n",
    "    for key in [\"ins\", \"del\", \"sub\"]:\n",
    "        score_sample = score_anomaly(indels_sample[key])\n",
    "        loci_sample = _extract_anomaly_loci(score_sample)\n",
    "        score_control = score_anomaly(indels_control[key])\n",
    "        loci_control = _extract_anomaly_loci(score_control)\n",
    "        mutation_locus_single.update({key: loci_sample - loci_control})\n",
    "    # Difference of anomaly within kmers\n",
    "    x = _split_kmer(indels_sample, kmer = 10)\n",
    "    y = _split_kmer(indels_control, kmer = 10)\n",
    "    dists = _calc_distance(x, y)\n",
    "    mutation_locus_kmer = {}\n",
    "    for key in [\"ins\", \"del\", \"sub\"]:\n",
    "        score_sample = score_anomaly(dists[key])\n",
    "        loci_sample = _extract_anomaly_loci(score_sample)\n",
    "        mutation_locus_kmer.update({key: loci_sample})\n",
    "    # Output\n",
    "    results = {}\n",
    "    for key in [\"ins\", \"del\", \"sub\"]:\n",
    "        results.update({key: mutation_locus_single[key] & mutation_locus_kmer[key]})\n",
    "    return results\n",
    "\n",
    "\n",
    "\n",
    "def extract_mutation_loci(TEMPDIR: Path, FASTA_ALLELES: dict, SAMPLE_NAME: str, CONTROL_NAME: str) -> defaultdict(dict(set)):\n",
    "    mutation_loci = defaultdict(dict)\n",
    "    for allele in FASTA_ALLELES.keys():\n",
    "        midsv_sample = midsv.read_jsonl((Path(TEMPDIR, \"midsv\", f\"{SAMPLE_NAME}_splice_{allele}.jsonl\")))\n",
    "        midsv_control = midsv.read_jsonl((Path(TEMPDIR, \"midsv\", f\"{CONTROL_NAME}_splice_{allele}.jsonl\")))\n",
    "        cssplits_sample = [cs[\"CSSPLIT\"].split(\",\") for cs in midsv_sample]\n",
    "        cssplits_control = [cs[\"CSSPLIT\"].split(\",\") for cs in midsv_control]\n",
    "        mutation_loci[allele] = _extract(cssplits_sample, cssplits_control)\n",
    "    return mutation_loci\n"
   ]
  },
  {
   "cell_type": "code",
   "execution_count": 373,
   "metadata": {},
   "outputs": [],
   "source": [
    "allele = \"control\"\n",
    "midsv_sample = midsv.read_jsonl((Path(TEMPDIR, \"midsv\", f\"{SAMPLE_NAME}_splice_{allele}.jsonl\")))\n",
    "midsv_control = midsv.read_jsonl((Path(TEMPDIR, \"midsv\", f\"{CONTROL_NAME}_splice_{allele}.jsonl\")))\n",
    "cssplits_sample = [cs[\"CSSPLIT\"].split(\",\") for cs in midsv_sample]\n",
    "cssplits_control = [cs[\"CSSPLIT\"].split(\",\") for cs in midsv_control]\n",
    "x = _extract(cssplits_sample, cssplits_control)\n"
   ]
  },
  {
   "cell_type": "code",
   "execution_count": 374,
   "metadata": {},
   "outputs": [
    {
     "name": "stdout",
     "output_type": "stream",
     "text": [
      "{'ins': {1728, 1730, 1732, 1733, 1734, 1735, 1736, 2381, 2382, 2386}, 'del': {394}, 'sub': {2399}}\n"
     ]
    }
   ],
   "source": [
    "print(x)"
   ]
  },
  {
   "cell_type": "code",
   "execution_count": 385,
   "metadata": {},
   "outputs": [],
   "source": [
    "\n",
    "def _replace_errors_to_atmark(cssplits_sample: list[list[str]], mutation_loci: dict[str, set[int]]) -> list[list[str]]:\n",
    "    results = []\n",
    "    for cssplits in cssplits_sample:\n",
    "        cssplits_replaced = []\n",
    "        for i, cs in enumerate(cssplits):\n",
    "            if cs.startswith(\"=\") or cs == \"N\" or re.search(r\"a|c|g|t|n\", cs):\n",
    "                cssplits_replaced.append(cs)\n",
    "                continue\n",
    "            if cs.startswith(\"+\"):\n",
    "                tag = \"ins\"\n",
    "            elif cs.startswith(\"-\"):\n",
    "                tag = \"del\"\n",
    "            else:\n",
    "                tag = \"sub\"\n",
    "            if i in mutation_loci[tag]:\n",
    "                cssplits_replaced.append(cs)\n",
    "            else:\n",
    "                cssplits_replaced.append(\"@\")\n",
    "        results.append(cssplits_replaced)\n",
    "    return results\n"
   ]
  },
  {
   "cell_type": "code",
   "execution_count": 387,
   "metadata": {},
   "outputs": [
    {
     "data": {
      "text/plain": [
       "[['=C', '+C', '=C'], ['=C', '@', '=C']]"
      ]
     },
     "execution_count": 387,
     "metadata": {},
     "output_type": "execute_result"
    }
   ],
   "source": [
    "cssplits_sample = [[\"=C\", \"+C\",\"=C\"], [\"=C\", \"-C\",\"=C\"]]\n",
    "mutation_loci = {\"ins\": {1}, \"del\": {0}, \"sub\": {0}}\n",
    "_replace_errors_to_atmark(cssplits_sample, mutation_loci)"
   ]
  },
  {
   "cell_type": "code",
   "execution_count": 388,
   "metadata": {},
   "outputs": [],
   "source": [
    "from __future__ import annotations\n",
    "\n",
    "import random\n",
    "import re\n",
    "from collections import Counter, defaultdict\n",
    "from pathlib import Path\n",
    "\n",
    "import midsv\n",
    "import numpy as np\n",
    "from scipy import stats\n",
    "from scipy.spatial import distance\n",
    "\n",
    "\n",
    "def _count_indels(cssplits: list[list[str]]) -> dict[str, list[int]]:\n",
    "    count = {\"ins\": [1] * len(cssplits[0]),\n",
    "            \"del\": [1] * len(cssplits[0]),\n",
    "            \"sub\": [1] * len(cssplits[0])}\n",
    "    transposed_cssplits = [list(t) for t in zip(*cssplits)]\n",
    "    for i, transposed_cssplit in enumerate(transposed_cssplits):\n",
    "        for cs in transposed_cssplit:\n",
    "            if cs.startswith(\"=\") or cs == \"N\" or re.search(r\"a|c|g|t|n\", cs):\n",
    "                continue\n",
    "            if cs.startswith(\"+\"):\n",
    "                count[\"ins\"][i] += 1\n",
    "            elif cs.startswith(\"-\"):\n",
    "                count[\"del\"][i] += 1\n",
    "            elif cs.startswith(\"*\"):\n",
    "                count[\"sub\"][i] += 1\n",
    "    return count\n",
    "\n",
    "def _remove_minor_indels(count_indels: dict[str, list[int]], coverage: int) -> dict[str, list[int]]:\n",
    "    count_indels_removed = dict()\n",
    "    threshold = coverage * 0.01\n",
    "    for key, values in count_indels.items():\n",
    "        values_removed = [v if v >= threshold else 1 for v in values]\n",
    "        count_indels_removed.update({key: values_removed})\n",
    "    return count_indels_removed\n",
    "\n",
    "\n",
    "def _score_anomaly(count_sample: list[int | float]) -> list[float]:\n",
    "    x = np.array(count_sample)\n",
    "    average = np.mean(x)\n",
    "    sigma = np.std(x)\n",
    "    score = np.square((x - average) / sigma)\n",
    "    return score.tolist()\n",
    "\n",
    "\n",
    "def _extract_anomaly_loci(score: list[float], threshold: float = 0.99) -> set[int]:\n",
    "    anomaly_loci = set()\n",
    "    thres = chi2.ppf(q=threshold, df=1)\n",
    "    for i, s in enumerate(score):\n",
    "        if s > thres:\n",
    "            anomaly_loci.add(i)\n",
    "    return anomaly_loci\n",
    "\n",
    "\n",
    "def _split_kmer(indels: dict[str, list[int]], kmer: int = 10) -> dict[str, list[list[int]]]:\n",
    "    results = defaultdict(list)\n",
    "    center = kmer // 2\n",
    "    for mut, value in indels.items():\n",
    "        for i in range(len(value)):\n",
    "            if center <= i <= len(value) - center:\n",
    "                start = i - center\n",
    "                if kmer % 2 == 0:\n",
    "                    end = i + center\n",
    "                else:\n",
    "                    end = i + center + 1\n",
    "                results[mut].append(value[start : end])\n",
    "            else:\n",
    "                results[mut].append([0]*kmer)\n",
    "    return results\n",
    "\n",
    "\n",
    "def _calc_distance(indels_sample: dict[str, list[list[int]]], indels_control: dict[str, list[list[int]]]) -> dict[str, list[float]]:\n",
    "    results = defaultdict(list)\n",
    "    for mut, value in indels_sample.items():\n",
    "        for i, val in enumerate(value):\n",
    "            dist = distance.euclidean(val, indels_control[mut][i])\n",
    "            results[mut].append(dist)\n",
    "    return results\n",
    "\n",
    "def _extract(cssplits_sample, cssplits_control) -> dict[str, set[int]]:\n",
    "    indels_sample = _count_indels(cssplits_sample)\n",
    "    indels_control = _count_indels(cssplits_control)\n",
    "    indels_sample = _remove_minor_indels(indels_sample, len(cssplits_sample))\n",
    "    indels_control = _remove_minor_indels(indels_control, len(cssplits_control))\n",
    "    # anomaly at single locus\n",
    "    mutation_locus_single = {}\n",
    "    for key in [\"ins\", \"del\", \"sub\"]:\n",
    "        score_sample = _score_anomaly(indels_sample[key])\n",
    "        loci_sample = _extract_anomaly_loci(score_sample)\n",
    "        score_control = _score_anomaly(indels_control[key])\n",
    "        loci_control = _extract_anomaly_loci(score_control)\n",
    "        mutation_locus_single.update({key: loci_sample - loci_control})\n",
    "    # Difference of anomaly within kmers\n",
    "    x = _split_kmer(indels_sample, kmer = 10)\n",
    "    y = _split_kmer(indels_control, kmer = 10)\n",
    "    dists = _calc_distance(x, y)\n",
    "    mutation_locus_kmer = {}\n",
    "    for key in [\"ins\", \"del\", \"sub\"]:\n",
    "        score_sample = _score_anomaly(dists[key])\n",
    "        loci_sample = _extract_anomaly_loci(score_sample)\n",
    "        mutation_locus_kmer.update({key: loci_sample})\n",
    "    # Output\n",
    "    results = {}\n",
    "    for key in [\"ins\", \"del\", \"sub\"]:\n",
    "        results.update({key: mutation_locus_single[key] & mutation_locus_kmer[key]})\n",
    "    return results\n",
    "\n",
    "###########################################################\n",
    "# postprocesss\n",
    "###########################################################\n",
    "\n",
    "\n",
    "def _replace_errors_to_atmark(cssplits_sample: list[list[str]], mutation_loci: dict[str, set[int]]) -> list[list[str]]:\n",
    "    results = []\n",
    "    for cssplits in cssplits_sample:\n",
    "        cssplits_replaced = []\n",
    "        for i, cs in enumerate(cssplits):\n",
    "            if cs.startswith(\"=\") or cs == \"N\" or re.search(r\"a|c|g|t|n\", cs):\n",
    "                cssplits_replaced.append(cs)\n",
    "                continue\n",
    "            if cs.startswith(\"+\"):\n",
    "                tag = \"ins\"\n",
    "            elif cs.startswith(\"-\"):\n",
    "                tag = \"del\"\n",
    "            else:\n",
    "                tag = \"sub\"\n",
    "            if i in mutation_loci[tag]:\n",
    "                cssplits_replaced.append(cs)\n",
    "            else:\n",
    "                cssplits_replaced.append(\"@\")\n",
    "        results.append(cssplits_replaced)\n",
    "    return results\n",
    "\n",
    "\n",
    "def _replace_atmark(cssplits: list[list[str]], sequence: str) -> list[list[str]]:\n",
    "    random.seed(1)\n",
    "    cssplits_replaced = cssplits.copy()\n",
    "    sequence_length = len(sequence)\n",
    "    for i in range(1, sequence_length - 1):\n",
    "        cssplits_atmark = defaultdict(str)\n",
    "        cssplits_sampling_key = defaultdict(list)\n",
    "        cssplits_sampling_all = []\n",
    "        flag_all_atmark = True\n",
    "        for idx, cssplit in enumerate(cssplits):\n",
    "            key = \",\".join([cssplit[i - 1], cssplit[i + 1]])\n",
    "            if cssplit[i] == \"@\":\n",
    "                cssplits_atmark[idx] = key\n",
    "            else:\n",
    "                cssplits_sampling_key[key].append(cssplit[i])\n",
    "                cssplits_sampling_all.append(cssplit[i])\n",
    "                flag_all_atmark = False\n",
    "        for idx, key in cssplits_atmark.items():\n",
    "            if flag_all_atmark:\n",
    "                cssplits_replaced[idx][i] = \"N\"\n",
    "            elif cssplits_sampling_key[key]:\n",
    "                cssplits_replaced[idx][i] = random.choice(cssplits_sampling_key[key])\n",
    "            else:\n",
    "                cssplits_replaced[idx][i] = random.choice(cssplits_sampling_all)\n",
    "    for cs in cssplits_replaced:\n",
    "        if cs[0] == \"@\":\n",
    "            cs[0] = \"N\"\n",
    "        if cs[-1] == \"@\":\n",
    "            cs[-1] = \"N\"\n",
    "    return cssplits_replaced\n",
    "\n",
    "###############################################################################\n",
    "# main\n",
    "###############################################################################\n",
    "\n",
    "\n",
    "def execute(TEMPDIR: Path, FASTA_ALLELES: dict[str, str], CONTROL_NAME: str, SAMPLE_NAME: str) -> None:\n",
    "    for allele, sequence in FASTA_ALLELES.items():\n",
    "        midsv_sample = midsv.read_jsonl((Path(TEMPDIR, \"midsv\", f\"{SAMPLE_NAME}_splice_{allele}.jsonl\")))\n",
    "        midsv_control = midsv.read_jsonl((Path(TEMPDIR, \"midsv\", f\"{CONTROL_NAME}_splice_{allele}.jsonl\")))\n",
    "        cssplits_sample = [cs[\"CSSPLIT\"].split(\",\") for cs in midsv_sample]\n",
    "        cssplits_control = [cs[\"CSSPLIT\"].split(\",\") for cs in midsv_control]\n",
    "        # Extract mutation loci\n",
    "        cssplits_sample = [cs[\"CSSPLIT\"].split(\",\") for cs in midsv_sample]\n",
    "        cssplits_control = [cs[\"CSSPLIT\"].split(\",\") for cs in midsv_control]\n",
    "        mutation_loci = _extract(cssplits_sample, cssplits_control)\n",
    "        # Correct sequence errors\n",
    "        cssplits_sample_atmark = _replace_errors_to_atmark(cssplits_sample, mutation_loci)\n",
    "        cssplits_control_atmark = _replace_errors_to_atmark(cssplits_control, mutation_loci)\n",
    "        cssplits_sample_atmark_replaced = _replace_atmark(cssplits_sample_atmark, sequence)\n",
    "        cssplits_control_atmark_replaced = _replace_atmark(cssplits_control_atmark, sequence)\n",
    "        # Replace CSSPLIT\n",
    "        cssplits_sample_corrected = [\",\".join(cs) for cs in cssplits_sample_atmark_replaced]\n",
    "        cssplits_control_corrected = [\",\".join(cs) for cs in cssplits_control_atmark_replaced]\n",
    "        for i, cssplits in enumerate(cssplits_sample_corrected):\n",
    "            midsv_sample[i][\"CSSPLIT\"] = cssplits\n",
    "        for i, cssplits in enumerate(cssplits_control_corrected):\n",
    "            midsv_control[i][\"CSSPLIT\"] = cssplits\n",
    "        midsv.write_jsonl(midsv_sample, Path(TEMPDIR, \"midsv\", f\"{SAMPLE_NAME}_splice_{allele}.jsonl\"))\n",
    "        midsv.write_jsonl(midsv_control, Path(TEMPDIR, \"midsv\", f\"{CONTROL_NAME}_splice_{allele}.jsonl\"))"
   ]
  },
  {
   "cell_type": "code",
   "execution_count": 389,
   "metadata": {},
   "outputs": [],
   "source": [
    "allele = \"control\""
   ]
  },
  {
   "cell_type": "code",
   "execution_count": 390,
   "metadata": {},
   "outputs": [],
   "source": [
    "midsv_sample = midsv.read_jsonl((Path(TEMPDIR, \"midsv\", f\"{SAMPLE_NAME}_splice_{allele}.jsonl\")))\n",
    "midsv_control = midsv.read_jsonl((Path(TEMPDIR, \"midsv\", f\"{CONTROL_NAME}_splice_{allele}.jsonl\")))\n",
    "cssplits_sample = [cs[\"CSSPLIT\"].split(\",\") for cs in midsv_sample]\n",
    "cssplits_control = [cs[\"CSSPLIT\"].split(\",\") for cs in midsv_control]\n",
    "# Extract mutation loci\n",
    "mutation_loci = _extract(cssplits_sample, cssplits_control)\n",
    "# Correct sequence errors\n",
    "cssplits_sample_atmark = _replace_errors_to_atmark(cssplits_sample, mutation_loci)\n",
    "cssplits_control_atmark = _replace_errors_to_atmark(cssplits_control, mutation_loci)\n",
    "cssplits_sample_atmark_replaced = _replace_atmark(cssplits_sample_atmark, sequence)\n",
    "cssplits_control_atmark_replaced = _replace_atmark(cssplits_control_atmark, sequence)\n",
    "# Replace CSSPLIT\n",
    "cssplits_sample_corrected = [\",\".join(cs) for cs in cssplits_sample_atmark_replaced]\n",
    "cssplits_control_corrected = [\",\".join(cs) for cs in cssplits_control_atmark_replaced]\n"
   ]
  },
  {
   "cell_type": "code",
   "execution_count": 392,
   "metadata": {},
   "outputs": [
    {
     "name": "stdout",
     "output_type": "stream",
     "text": [
      "idx_right_loxp 1732 +T|+T|+C|+C|+A|+A|+C|+A|+T|+A|+A|+C|+T|+G|+C|+A|+T|+A|+T|+A|+C|+A|+T|+T|+A|+T|+A|+A|+T|+G|+A|+A|+G|+T|+T|+A|+T|+G|+G|+C|+G|+C|+G|+C|=C\n",
      "idx_left_loxp 2381 +C|+G|+C|+G|+C|+C|+A|+A|+T|+T|+C|+G|+A|+T|+A|+T|+C|+A|+A|+G|+C|+T|+A|+T|+A|+A|+C|+T|+G|+G|+T|+A|+T|+A|+G|+C|+A|+T|+A|+C|+A|+T|+T|+A|+T|+A|+C|+G|+A|+A|+G|+T|+T|+A|+T|+G|+C|+G|+G|+C|+C|=C\n",
      "idx_both_loxp 2381 +C|+G|+C|+C|+A|+A|+T|+T|+C|+G|+A|+T|+A|+T|+C|+A|+A|+G|+C|+T|+A|+T|+A|+A|+C|+T|+T|+C|+G|+T|+A|+T|+A|+G|+C|+A|+T|+A|+C|+A|+T|+G|+A|+G|+T|+A|+C|+G|+A|+A|+G|+C|+T|+A|+T|+G|+C|+G|+G|+C|+C|=C\n"
     ]
    }
   ],
   "source": [
    "for idx, loxp in idx_loxps.items():\n",
    "    for i,cs in enumerate(cssplits_sample_atmark_replaced[idx]):\n",
    "        if cs.startswith(\"+\"):\n",
    "            print(loxp, i, cs)"
   ]
  },
  {
   "cell_type": "code",
   "execution_count": 408,
   "metadata": {},
   "outputs": [
    {
     "name": "stdout",
     "output_type": "stream",
     "text": [
      "{1728, 1730, 1732, 1733, 1734, 1735, 1736, 2381, 2382, 2386}\n"
     ]
    }
   ],
   "source": [
    "print(mutation_loci[\"ins\"])"
   ]
  },
  {
   "attachments": {},
   "cell_type": "markdown",
   "metadata": {},
   "source": [
    "- なぜか1731がない！\n",
    "- ただ結局のところ、insertionのみのアレルを作るのでここではあまり気にしなくて良いかも？"
   ]
  },
  {
   "cell_type": "code",
   "execution_count": 425,
   "metadata": {},
   "outputs": [],
   "source": [
    "indels_sample = _count_indels(cssplits_sample)\n",
    "indels_control = _count_indels(cssplits_control)\n",
    "indels_sample = _remove_minor_indels(indels_sample, len(cssplits_sample))\n",
    "indels_control = _remove_minor_indels(indels_control, len(cssplits_control))"
   ]
  },
  {
   "cell_type": "code",
   "execution_count": 426,
   "metadata": {},
   "outputs": [
    {
     "name": "stdout",
     "output_type": "stream",
     "text": [
      "[125, 31, 301, 248, 80]\n",
      "[72, 15, 10, 1, 20]\n",
      "31\n",
      "1\n"
     ]
    }
   ],
   "source": [
    "print(indels_sample[\"ins\"][1730:1735])\n",
    "print(indels_sample[\"ins\"][1000:1005])\n",
    "print(indels_sample[\"ins\"][1731])\n",
    "print(indels_control[\"ins\"][1731])"
   ]
  },
  {
   "cell_type": "code",
   "execution_count": 421,
   "metadata": {},
   "outputs": [
    {
     "name": "stdout",
     "output_type": "stream",
     "text": [
      "{1728, 1730, 1732, 1733, 1734, 2087, 1735, 1736, 2381, 2382, 2386, 2388, 1719, 2586}\n",
      "set()\n"
     ]
    }
   ],
   "source": [
    "mutation_locus_single = {}\n",
    "for key in [\"ins\", \"del\", \"sub\"]:\n",
    "    score_sample = _score_anomaly(indels_sample[key])\n",
    "    loci_sample = _extract_anomaly_loci(score_sample)\n",
    "    score_control = _score_anomaly(indels_control[key])\n",
    "    loci_control = _extract_anomaly_loci(score_control)\n",
    "    mutation_locus_single.update({key: loci_sample - loci_control})\n",
    "print(mutation_locus_single[\"ins\"])\n",
    "print(loci_sample & {1731})\n"
   ]
  },
  {
   "cell_type": "code",
   "execution_count": 427,
   "metadata": {},
   "outputs": [
    {
     "name": "stdout",
     "output_type": "stream",
     "text": [
      "[58.39085195185807, 2.3195356573695993, 364.69910914856547, 244.84009962569107, 22.206477443088954]\n",
      "6.6348966010212145\n"
     ]
    }
   ],
   "source": [
    "key = \"ins\"\n",
    "score_sample = _score_anomaly(indels_sample[key])\n",
    "loci_sample = _extract_anomaly_loci(score_sample)\n",
    "score_control = _score_anomaly(indels_control[key])\n",
    "loci_control = _extract_anomaly_loci(score_control)\n",
    "mutation_locus_single.update({key: loci_sample - loci_control})\n",
    "print(score_sample[1730:1735])\n",
    "thres = chi2.ppf(q=0.99, df=1)\n",
    "print(thres)"
   ]
  },
  {
   "cell_type": "code",
   "execution_count": null,
   "metadata": {},
   "outputs": [],
   "source": [
    "midsv_sample = midsv.read_jsonl((Path(TEMPDIR, \"midsv\", f\"{SAMPLE_NAME}_splice_{allele}.jsonl\")))\n",
    "midsv_control = midsv.read_jsonl((Path(TEMPDIR, \"midsv\", f\"{CONTROL_NAME}_splice_{allele}.jsonl\")))\n",
    "cssplits_sample = [cs[\"CSSPLIT\"].split(\",\") for cs in midsv_sample]\n",
    "cssplits_control = [cs[\"CSSPLIT\"].split(\",\") for cs in midsv_control]"
   ]
  },
  {
   "cell_type": "code",
   "execution_count": 437,
   "metadata": {},
   "outputs": [
    {
     "name": "stdout",
     "output_type": "stream",
     "text": [
      "defaultdict(<class 'int'>, {'ins': 30})\n"
     ]
    }
   ],
   "source": [
    "count = defaultdict(int)\n",
    "for cssplits in cssplits_sample:\n",
    "    cs = cssplits[1731]\n",
    "    if cs.startswith(\"+\"):\n",
    "        count[\"ins\"] += 1\n",
    "\n",
    "print(count)"
   ]
  },
  {
   "cell_type": "code",
   "execution_count": 446,
   "metadata": {},
   "outputs": [],
   "source": [
    "def _count_indels(cssplits: list[list[str]]) -> dict[str, list[int]]:\n",
    "    count = {\"ins\": [1] * len(cssplits[0]),\n",
    "            \"del\": [1] * len(cssplits[0]),\n",
    "            \"sub\": [1] * len(cssplits[0])}\n",
    "    transposed_cssplits = [list(t) for t in zip(*cssplits)]\n",
    "    for i, transposed_cssplit in enumerate(transposed_cssplits):\n",
    "        for cs in transposed_cssplit:\n",
    "            if cs.startswith(\"=\") or cs == \"N\" or re.search(r\"a|c|g|t|n\", cs):\n",
    "                continue\n",
    "            if cs.startswith(\"+\"):\n",
    "                count[\"ins\"][i] += len(cs.split(\"|\"))\n",
    "            elif cs.startswith(\"-\"):\n",
    "                count[\"del\"][i] += 1\n",
    "            elif cs.startswith(\"*\"):\n",
    "                count[\"sub\"][i] += 1\n",
    "    return count\n"
   ]
  },
  {
   "cell_type": "code",
   "execution_count": 447,
   "metadata": {},
   "outputs": [
    {
     "name": "stdout",
     "output_type": "stream",
     "text": [
      "606\n"
     ]
    }
   ],
   "source": [
    "x = _count_indels(cssplits_sample)\n",
    "print(x[\"ins\"][1731])"
   ]
  },
  {
   "cell_type": "code",
   "execution_count": 448,
   "metadata": {},
   "outputs": [
    {
     "data": {
      "image/png": "[encoded data removed]",
      "text/plain": [
       "<Figure size 432x288 with 1 Axes>"
      ]
     },
     "metadata": {
      "image/png": {
       "height": 251,
       "width": 389
      },
      "needs_background": "light"
     },
     "output_type": "display_data"
    }
   ],
   "source": [
    "plt.plot(x[\"ins\"], \".\")\n",
    "plt.show()"
   ]
  },
  {
   "cell_type": "code",
   "execution_count": 450,
   "metadata": {},
   "outputs": [
    {
     "name": "stdout",
     "output_type": "stream",
     "text": [
      "[31.24201308791873, 1.4809880638749122, 383.0931697633896, 228.02359731115035, 0.36082367115621583]\n",
      "6.6348966010212145\n"
     ]
    }
   ],
   "source": [
    "indels_sample = _count_indels(cssplits_sample)\n",
    "indels_control = _count_indels(cssplits_control)\n",
    "key = \"ins\"\n",
    "score_sample = _score_anomaly(indels_sample[key])\n",
    "loci_sample = _extract_anomaly_loci(score_sample)\n",
    "score_control = _score_anomaly(indels_control[key])\n",
    "loci_control = _extract_anomaly_loci(score_control)\n",
    "mutation_locus_single.update({key: loci_sample - loci_control})\n",
    "print(score_sample[1730:1735])\n",
    "thres = chi2.ppf(q=0.99, df=1)\n",
    "print(thres)"
   ]
  },
  {
   "cell_type": "code",
   "execution_count": 461,
   "metadata": {},
   "outputs": [
    {
     "name": "stdout",
     "output_type": "stream",
     "text": [
      "12\n"
     ]
    }
   ],
   "source": [
    "count = 0\n",
    "for score in score_sample:\n",
    "    if score > 1.4:\n",
    "        count += 1\n",
    "\n",
    "print(count)"
   ]
  },
  {
   "cell_type": "code",
   "execution_count": 466,
   "metadata": {},
   "outputs": [],
   "source": [
    "from sklearn.neighbors import LocalOutlierFactor\n",
    "clf = LocalOutlierFactor()\n",
    "key = \"ins\"\n",
    "x = indels_sample[key]\n",
    "pred = clf.fit_predict(np.array(x).reshape(-1, 1))"
   ]
  },
  {
   "cell_type": "code",
   "execution_count": 468,
   "metadata": {},
   "outputs": [
    {
     "name": "stdout",
     "output_type": "stream",
     "text": [
      "Counter({1: 2642, -1: 82})\n",
      "[-1 -1 -1 -1  1]\n"
     ]
    }
   ],
   "source": [
    "print(Counter(pred))\n",
    "print(pred[1730:1735])"
   ]
  },
  {
   "cell_type": "code",
   "execution_count": 469,
   "metadata": {},
   "outputs": [],
   "source": [
    "def _extract_anomaly_loci(count_indels: dict[str, list[int]]) -> dict[set[int]]:\n",
    "    anomaly_loci = dict()\n",
    "    clf = LocalOutlierFactor()\n",
    "    for key, values in count_indels.items():\n",
    "        pred = clf.fit_predict(np.array(values).reshape(-1, 1))\n",
    "        loci = {i for i, p in enumerate(pred) if p == -1}\n",
    "        anomaly_loci.update({key: loci})\n",
    "    return anomaly_loci\n",
    "\n"
   ]
  },
  {
   "cell_type": "code",
   "execution_count": 476,
   "metadata": {},
   "outputs": [
    {
     "name": "stdout",
     "output_type": "stream",
     "text": [
      "{1731}\n"
     ]
    }
   ],
   "source": [
    "x = _extract_anomaly_loci(indels_sample)\n",
    "y = _extract_anomaly_loci(indels_control)\n",
    "print((x[\"ins\"] - y[\"ins\"]) & {1731})"
   ]
  },
  {
   "cell_type": "code",
   "execution_count": 481,
   "metadata": {},
   "outputs": [],
   "source": [
    "def _extract(cssplits_sample, cssplits_control) -> dict[str, set[int]]:\n",
    "    indels_sample = _count_indels(cssplits_sample)\n",
    "    indels_control = _count_indels(cssplits_control)\n",
    "    indels_sample = _remove_minor_indels(indels_sample, len(cssplits_sample))\n",
    "    indels_control = _remove_minor_indels(indels_control, len(cssplits_control))\n",
    "    # anomaly at single locus\n",
    "    mutation_locus_single = {}\n",
    "    # score_sample = _score_anomaly(indels_sample[key])\n",
    "    loci_sample = _extract_anomaly_loci(indels_sample)\n",
    "    # score_control = _score_anomaly(indels_control[key])\n",
    "    loci_control = _extract_anomaly_loci(indels_control)\n",
    "    for key in [\"ins\", \"del\", \"sub\"]:\n",
    "        mutation_locus_single.update({key: loci_sample[key] & loci_control[key]})\n",
    "    # Difference of anomaly within kmers\n",
    "    x = _split_kmer(indels_sample, kmer = 10)\n",
    "    y = _split_kmer(indels_control, kmer = 10)\n",
    "    dists = _calc_distance(x, y)\n",
    "    loci_sample = _extract_anomaly_loci(dists)\n",
    "    mutation_locus_kmer = {}\n",
    "    for key in [\"ins\", \"del\", \"sub\"]:\n",
    "        # score_sample = _score_anomaly(dists[key])\n",
    "        mutation_locus_kmer.update({key: loci_sample[key]})\n",
    "    # Output\n",
    "    results = {}\n",
    "    for key in [\"ins\", \"del\", \"sub\"]:\n",
    "        results.update({key: mutation_locus_single[key] & mutation_locus_kmer[key]})\n",
    "    return results"
   ]
  },
  {
   "cell_type": "code",
   "execution_count": 482,
   "metadata": {},
   "outputs": [],
   "source": [
    "x = _extract(cssplits_sample, cssplits_control)"
   ]
  },
  {
   "cell_type": "code",
   "execution_count": 483,
   "metadata": {},
   "outputs": [
    {
     "name": "stdout",
     "output_type": "stream",
     "text": [
      "{1739}\n"
     ]
    }
   ],
   "source": [
    "print(x[\"ins\"])"
   ]
  },
  {
   "cell_type": "code",
   "execution_count": 499,
   "metadata": {},
   "outputs": [],
   "source": [
    "indels_sample = _count_indels(cssplits_sample)\n",
    "indels_control = _count_indels(cssplits_control)\n",
    "indels_sample = _remove_minor_indels(indels_sample, len(cssplits_sample))\n",
    "indels_control = _remove_minor_indels(indels_control, len(cssplits_control))\n",
    "# anomaly at single locus\n",
    "mutation_locus_single = {}\n",
    "loci_sample = _extract_anomaly_loci(indels_sample)\n",
    "loci_control = _extract_anomaly_loci(indels_control)\n",
    "for key in [\"ins\", \"del\", \"sub\"]:\n",
    "    mutation_locus_single.update({key: loci_sample[key] - loci_control[key]})\n",
    "# Difference of anomaly within kmers\n",
    "x = _split_kmer(indels_sample, kmer = 10)\n",
    "y = _split_kmer(indels_control, kmer = 10)\n",
    "dists = _calc_distance(x, y)\n",
    "loci_sample = _extract_anomaly_loci(dists)\n",
    "mutation_locus_kmer = {}\n",
    "for key in [\"ins\", \"del\", \"sub\"]:\n",
    "    # score_sample = _score_anomaly(dists[key])\n",
    "    mutation_locus_kmer.update({key: loci_sample[key]})\n",
    "# Output\n",
    "results = {}\n",
    "for key in [\"ins\", \"del\", \"sub\"]:\n",
    "    results.update({key: mutation_locus_single[key] & mutation_locus_kmer[key]})\n"
   ]
  },
  {
   "cell_type": "code",
   "execution_count": 500,
   "metadata": {},
   "outputs": [
    {
     "name": "stdout",
     "output_type": "stream",
     "text": [
      "59\n"
     ]
    }
   ],
   "source": [
    "print(len(mutation_locus_kmer[\"ins\"]))"
   ]
  },
  {
   "cell_type": "code",
   "execution_count": 501,
   "metadata": {},
   "outputs": [
    {
     "name": "stdout",
     "output_type": "stream",
     "text": [
      "80\n"
     ]
    }
   ],
   "source": [
    "print(len(mutation_locus_single[\"ins\"]))"
   ]
  },
  {
   "cell_type": "code",
   "execution_count": 502,
   "metadata": {},
   "outputs": [
    {
     "name": "stdout",
     "output_type": "stream",
     "text": [
      "56\n"
     ]
    }
   ],
   "source": [
    "print(len(loci_sample[\"ins\"] - loci_control[\"ins\"]))"
   ]
  },
  {
   "cell_type": "code",
   "execution_count": 504,
   "metadata": {},
   "outputs": [
    {
     "name": "stdout",
     "output_type": "stream",
     "text": [
      "3\n",
      "{1728, 2372, 2388}\n"
     ]
    }
   ],
   "source": [
    "print(len(results[\"ins\"]))\n",
    "print(results[\"ins\"])"
   ]
  },
  {
   "cell_type": "code",
   "execution_count": 511,
   "metadata": {},
   "outputs": [
    {
     "name": "stdout",
     "output_type": "stream",
     "text": [
      "[11791.876313801804, 11948.680387390064, 12021.04571158433, 12021.784351750783, 11974.17633910575]\n",
      "set()\n"
     ]
    }
   ],
   "source": [
    "print(dists[\"ins\"][1730:1735])\n",
    "loci_sample = _extract_anomaly_loci(dists)\n",
    "print(loci_sample[\"ins\"] & {1731})"
   ]
  },
  {
   "cell_type": "code",
   "execution_count": 516,
   "metadata": {},
   "outputs": [
    {
     "name": "stdout",
     "output_type": "stream",
     "text": [
      "[[177, 73, 272, 1103, 502, 2621, 606, 9065, 7004, 322], [73, 272, 1103, 502, 2621, 606, 9065, 7004, 322, 1977], [272, 1103, 502, 2621, 606, 9065, 7004, 322, 1977, 1360], [1103, 502, 2621, 606, 9065, 7004, 322, 1977, 1360, 204], [502, 2621, 606, 9065, 7004, 322, 1977, 1360, 204, 136]]\n",
      "[[39, 26, 24, 29, 43, 167, 38, 24, 1, 47], [26, 24, 29, 43, 167, 38, 24, 1, 47, 25], [24, 29, 43, 167, 38, 24, 1, 47, 25, 15], [29, 43, 167, 38, 24, 1, 47, 25, 15, 18], [43, 167, 38, 24, 1, 47, 25, 15, 18, 12]]\n",
      "[11791.876313801804, 11948.680387390064, 12021.04571158433, 12021.784351750783, 11974.17633910575]\n",
      "[53.376024580330075, 52.773099207835045, 60.40695324215582, 57.41950887982237, 57.445626465380286, 57.619441163551734, 41.47288270665544, 41.52107898405339, 51.419840528729765, 48.620983124572874, 49.28488612140643, 57.91372894228103, 47.853944456021594, 47.75981574503821, 49.457052075512955, 52.28766584960549, 52.29722745997153, 55.27205442174191, 67.57958271549181, 71.14773362518304, 70.63993204979744, 64.42049363362563, 64.25729530566937, 64.28841264178172, 62.960304954788775, 61.0, 80.80222769206304, 79.68061244744545, 61.29437168288782, 92.2496612459905, 93.25770745627409, 95.42012366372201, 95.39916142189091, 109.1146186356347, 111.51233115669316, 112.59662517144997, 99.36297097007517, 98.64076236526155, 103.97114984456024, 79.88116173416608, 80.06247560499239, 76.68767828015137, 76.68767828015137, 55.42562584220407, 50.428166732491874, 51.176166327695945, 51.176166327695945, 52.1344415909483, 47.47630988187688, 38.40572873934304, 37.33630940518894, 40.23679907746142, 40.84115571332428, 56.471231613982, 72.83543093852057, 72.069410986909, 72.21495689952324, 77.17512552629896, 73.25981162956946, 75.41220060441148, 75.25955088890711, 74.42445834535849, 74.1215218408257, 65.55150646628954, 46.87216658103186, 43.68065933568311, 51.64300533470143, 44.12482294582042, 43.81780460041329, 38.50973902793941, 39.1279950930277, 41.47288270665544, 41.72529209005013, 41.30375285612676, 41.54515615568198, 47.97916214358062, 42.118879377305376, 45.760244754590204, 47.47630988187688, 78.06407624509497, 77.49838707999025, 77.72387020729218, 77.56287771866127, 75.67694497005016, 75.54468876102409, 72.98630008433089, 78.48566748139433, 80.64118054691411, 105.99056561788883, 94.81561052906846, 95.27853903162034, 99.21189444819608, 106.97195894251914, 107.43835441777765, 109.03210536351209, 108.79338215167317, 104.89518578085459, 104.1345283755585, 78.54298186343577, 70.78135347674555, 69.57729514719583, 64.13267497929586, 50.16971197844373, 49.16299421312742, 47.45524207081869, 47.21228653645151, 46.57252408878007, 40.099875311526844, 38.781438859330635, 37.73592452822641, 44.721359549995796, 48.662100242385755, 49.122296363260546, 50.12983143797713, 48.14561246884289, 76.13803254615921, 75.64390259630977, 76.70071707617863, 76.70071707617863, 74.31688906298487, 70.78841713161836, 66.19667665374146, 66.43794096749237, 73.50510186374821, 76.72027111526653, 55.91958512006326, 54.8270006474912, 58.360945845659494, 63.788713735268246, 64.28063471995279, 65.29931086925804, 66.9925368977769, 66.57326790837296, 59.732738092272314, 63.118935352238, 60.983604353957304, 86.2554346113913, 83.28265125462805, 78.94935085230277, 78.56844150166147, 79.61155694998057, 77.78174593052023, 80.4114419718985, 79.0, 73.08898685848642, 69.03622237637282, 32.341923257592455, 54.31390245600108, 53.898051912847464, 57.4543296888929, 55.758407437802596, 57.175169435691224, 56.815490845367165, 62.07253821135398, 62.864934582006846, 62.99206299209449, 63.0158710167526, 110.21342930877344, 110.049988641526, 114.36782764396638, 113.64418154925487, 114.53820323368095, 112.88932633336067, 111.1035552986492, 114.64728518373211, 114.73447607410773, 114.71704319759989, 54.405882034941776, 54.4426303552648, 39.93745109543172, 40.19950248448356, 38.36665218650175, 41.2674205639267, 39.98749804626441, 26.60826939130014, 28.160255680657446, 39.71145930332956, 39.89987468652001, 39.89987468652001, 40.34848200366403, 40.049968789001575, 40.45985664828782, 49.69909455915671, 49.69909455915671, 57.463031594234565, 56.621550667568265, 53.907327887774215, 53.79591062525106, 57.7148161220323, 58.26662852782886, 62.27358990776106, 61.5223536610881, 53.52569476429054, 52.99056519796708, 44.53088815642464, 58.32666628567074, 65.47518613948341, 68.14690014960328, 65.20736154760442, 73.32803011127464, 71.75653280364095, 71.08445681019164, 70.0, 70.74602462329597, 70.88723439378913, 63.419239982831705, 51.54609587543949, 48.75448697299562, 49.08156476723211, 46.98936049788292, 56.991227395100026, 60.266076693277455, 60.266076693277455, 59.531504264548865, 63.90618123468183, 63.58458932791813, 68.66585760041157, 70.95068710026705, 70.83078426785913, 63.221831672294975, 52.744667976962376, 84.84102781084161, 92.87626176801045, 93.81364506296512, 94.0744386111339, 115.54220008291342, 120.15822901491184, 122.22111110606056, 123.13813381727043, 124.73572062564917, 124.47489706764172, 102.9465880930495, 101.87737727287643, 107.54998837749821, 104.83797022071727, 78.04485889538144, 75.9670981412348, 73.48469228349535, 71.60307255977219, 70.37044834303673, 71.27411872482185, 73.7360156233031, 65.66582063752801, 54.147945482723536, 58.02585630561603, 59.253691868102194, 66.84309986827361, 63.55312738174259, 71.49825172687791, 69.90708118638626, 68.86944169949398, 69.15200647848188, 71.28814768248647, 71.54019849007969, 68.4324484437025, 72.95889253545451, 54.506880299646575, 71.27411872482185, 63.67888189973188, 64.62197768561404, 67.64613810115105, 65.24568951279464, 63.89053137985315, 67.87488489861327, 77.96794213008319, 72.76675064890557, 453.8171437925192, 451.563948959613, 451.8926863758696, 451.77649341239527, 451.5207636421608, 451.648093099041, 451.68241054971355, 451.3103145287065, 453.7411156155016, 453.957046426201, 73.47108274688756, 81.22807396460905, 84.13085046521282, 85.36392680752216, 96.0937042682818, 101.65628362280415, 100.46890066085126, 99.1463564635635, 79.07591289387686, 78.74642849044012, 89.10667763978185, 82.4378553820998, 77.1686464828819, 112.33432244866215, 108.62320194139004, 102.50365847129555, 107.01401777337396, 107.4616210560775, 106.78951259369995, 106.11314715905847, 97.45255255764212, 100.00499987500625, 100.50373127401788, 61.94352266379432, 52.88667128870941, 55.51576352712804, 86.31338250816034, 85.61541917201598, 89.19080670113932, 92.90317540321213, 93.43446901438462, 89.7217922246318, 89.36442245099556, 85.7962703152066, 84.88227141164403, 100.25966287595426, 68.73136110975832, 80.02499609497022, 76.01973427998811, 76.01973427998811, 76.15773105863909, 75.94076639065476, 76.36098480245, 79.46697427233529, 80.24961059095551, 59.16079783099616, 59.36328831862332, 51.807335387954474, 80.79603950689662, 86.32496741962895, 86.92525524840292, 87.11486669908874, 87.66413177577246, 92.17917335276988, 123.13001258832064, 122.47856955402443, 123.4179889643321, 120.8966500776593, 122.46223907801131, 116.71332400373147, 116.02154972245458, 115.81018953442741, 114.96521212958292, 110.20889256316842, 73.33484846919642, 73.09582751429797, 73.55949972641196, 73.3621155638249, 34.38022687534217, 30.95157508108432, 33.015148038438355, 33.74907406137241, 63.671029518926424, 62.080592780675026, 62.26556030423239, 63.05553108173778, 62.26556030423239, 62.74551776820397, 66.64082832618455, 71.52621896899066, 70.59745037889117, 73.32121111929344, 50.23942674832188, 76.5702292016943, 75.78918128598566, 81.65782265037441, 81.16033513977132, 80.96912991998865, 83.22860085331244, 79.69316156358713, 83.13843876330611, 86.94826047713663, 88.23264701911646, 66.55824516917495, 66.73829485385434, 58.70264048575669, 57.463031594234565, 60.049979184009715, 53.38539126015655, 55.44366510251645, 49.48737212663449, 38.2099463490856, 36.26292872893749, 37.242448899072144, 36.91882988394946, 38.61346915261564, 38.61346915261564, 32.58834147360065, 32.2335229225724, 26.739483914241877, 26.814175355583846, 36.71511950137164, 36.11094017053558, 34.97141690009142, 34.61213659975356, 32.71085446759225, 32.71085446759225, 34.14674215792775, 32.46536616149585, 35.35533905932738, 35.298725189445584, 23.515952032609693, 26.038433132583073, 39.72404813208241, 39.72404813208241, 40.13726448077895, 41.892720131306824, 55.49774770204643, 60.390396587537, 60.166435825965294, 64.41273166075166, 64.25729530566937, 64.03124237432849, 57.82732917920384, 58.378078077305695, 59.39696961966999, 58.172158288995945, 44.799553569204235, 38.88444419044716, 37.134889255254286, 29.154759474226502, 30.903074280724887, 29.30870177950569, 26.739483914241877, 26.210684844162312, 23.302360395462088, 24.979991993593593, 54.589376255824725, 60.23288138550239, 61.54673021371647, 63.118935352238, 63.93746945258312, 64.10148204214939, 64.17164482853778, 116.15076409563564, 116.47317287684749, 116.96580696938743, 105.78279633286313, 103.23274674249446, 105.78279633286313, 105.32805893967665, 104.29765098025938, 103.88936422945325, 103.84603988597736, 40.38564101261734, 47.53945729601885, 51.85556864985669, 52.54521862167861, 52.820450584977024, 46.71188285650665, 45.902069670114, 45.803929962395145, 45.40925015897091, 60.51446108162907, 60.78651166171653, 75.2994023880668, 75.98684096605149, 89.42594701763018, 88.20997676000147, 87.72684879784524, 87.58424515859002, 88.40248865275231, 94.36100889668359, 87.33842224359219, 85.87782018658834, 68.3447144993671, 63.92182725798755, 43.382023926967726, 43.278170016764804, 45.088801270381985, 45.36518488885502, 45.110974274559844, 32.341923257592455, 30.298514815086232, 39.4715087119811, 39.4715087119811, 37.603191353926334, 49.69909455915671, 49.69909455915671, 48.19751030914356, 48.31148931672465, 47.085029467974216, 47.30750469005948, 61.0163912403872, 60.597029630172464, 60.67124524847005, 66.40783086353596, 65.40642170307133, 65.5972560401729, 68.83313155741209, 91.11531155629113, 93.95211546314431, 106.33437826027856, 104.85704554296768, 136.5686640485291, 137.06202975295528, 154.87414245121747, 152.59750980930193, 153.2514273995515, 152.50573759698355, 145.5300656221937, 144.28790663115188, 135.59867255987427, 130.6981254647518, 94.2443632266673, 94.01063769595439, 53.94441583704471, 50.85272854036448, 48.63126566315131, 47.0, 36.932370625238775, 34.62657938636157, 33.61547262794322, 32.78719262151, 35.35533905932738, 33.97057550292606, 33.95585369269929, 35.6931365951495, 35.651086939951774, 38.66522985836241, 36.09709129556009, 43.30127018922193, 48.98979485566356, 49.39635614091387, 49.39635614091387, 66.79071791798619, 71.31619731870173, 70.52659073002182, 87.02873088813831, 85.2936105461599, 83.01204731844649, 79.97499609252883, 77.63375554486592, 77.31752712031083, 75.64390259630977, 72.2357252334328, 68.82586723027906, 69.79971346646059, 55.78530272392541, 57.06137047074842, 64.65291950097846, 64.65291950097846, 63.150613615387776, 72.69112738154499, 74.88658090739622, 74.3706931526122, 73.64102117705865, 72.76675064890557, 70.59036761485238, 86.1103942622492, 84.70537173048709, 84.94115610232768, 86.45808232895291, 109.33892262136115, 107.92126759818937, 101.05444077327824, 103.46496991735899, 104.94284158531252, 103.09219175087898, 89.59352655186646, 85.15867542417507, 86.34234187233979, 85.59789717043287, 39.698866482558415, 39.496835316262995, 105.61723344227494, 103.56640381899915, 106.03301372685773, 106.15083607772479, 206.39040675380238, 209.3155512617254, 208.88513590009222, 209.57337617168838, 210.04999404903586, 210.90756269038812, 186.7565259903921, 186.7565259903921, 184.7105844287219, 185.33483212823216, 63.592452382338585, 61.48170459575759, 60.30754513325841, 57.21887800367987, 59.07622195096772, 84.24962907930218, 84.84102781084161, 84.96469855181033, 85.48099203916622, 83.40263784797217, 77.33692520394123, 86.14522621712709, 91.89124006128114, 91.7769034125689, 89.3420393767682, 64.29618962271404, 69.4118145563131, 69.4118145563131, 68.18357573492314, 68.4178339323893, 68.05879810869422, 57.05260730238365, 47.40253157796533, 46.861498055439924, 52.20153254455275, 51.02940328869229, 44.05678154382138, 44.8998886412873, 45.60701700396552, 58.034472514187634, 58.0430874437258, 56.444663166680336, 64.76109943476871, 70.20683727387241, 66.52067347825036, 67.42403132415029, 66.55073252789934, 71.2320152740325, 73.03423854604085, 66.70082458260917, 68.82586723027906, 75.2329714952161, 68.09552114493287, 71.75653280364095, 71.61005515987263, 81.78019320104349, 82.24962005991274, 78.41555968046137, 76.32823854904552, 75.27283706623525, 80.82697569499925, 73.10950690573696, 77.25930364687478, 68.3593446428504, 68.33739825307956, 66.58077800686922, 65.96969000988257, 71.77046746399246, 80.7403244977378, 78.93668348746354, 87.03447592764606, 84.25556361451747, 81.67006795638167, 81.69455306200041, 89.26925562588724, 82.34682750416071, 82.95179322956196, 77.18160402582988, 67.91906948714772, 68.89121859859934, 50.34878350069642, 49.34571916590131, 62.609903369994115, 63.914004725099176, 53.04714883949938, 54.76312628037227, 56.77147170894903, 62.505999712027645, 76.8570100901668, 83.03011501858829, 81.32650244538985, 81.48005891014071, 74.07428703673091, 73.25981162956946, 73.4234295031225, 70.36334272900912, 68.05145112339633, 62.82515419798029, 45.45327270945405, 32.46536616149585, 37.49666651850535, 74.87322618933953, 75.18643494673756, 75.81556568409947, 75.59761901012492, 76.38717169787084, 99.6343314324937, 113.85517116055819, 113.43720729989786, 115.53787257864843, 114.70396680150168, 95.26804291051643, 92.28217596047462, 92.56349172324907, 94.83142938920619, 97.98469268207153, 74.62573282722254, 51.0098029794274, 53.31041174104736, 59.270566050949775, 61.87083319303208, 64.90762667052309, 67.80117993073571, 67.80117993073571, 64.4670458451448, 58.84725991921799, 59.15234568468101, 62.120849961989414, 60.15812497078013, 54.29548784199291, 57.48912940721924, 52.687759489277965, 48.75448697299562, 46.71188285650665, 46.8081189538738, 47.486840282335066, 47.10626285325551, 41.12177038990418, 41.737273509418415, 34.36568055487916, 18.466185312619388, 18.466185312619388, 23.769728648009426, 50.882216932834204, 51.76871642217914, 53.88877434122992, 54.04627646748664, 54.48853090330111, 54.89080068645383, 58.59180830116101, 108.2266141020775, 111.7899816620434, 139.63165830140383, 249.83194351403506, 250.2099118740103, 249.56161563830284, 289.4978410973042, 298.234806821739, 321.6224494652076, 1122.8236727109027, 1215.7619010316123, 2876.4113057766963, 2936.075952696047, 9497.727254454088, 11788.503849089586, 11791.876313801804, 11948.680387390064, 12021.04571158433, 12021.784351750783, 11974.17633910575, 11967.685615857396, 11681.19711330992, 11666.255826099477, 7380.399718172452, 2389.149639516119, 2372.4620123407667, 1372.7170138087456, 380.77683753085614, 335.666501158516, 312.23708940483033, 166.4572017066249, 80.10617953691214, 35.12833614050059, 43.70354676682432, 43.70354676682432, 46.20606020859169, 51.16639522186413, 54.7905101272109, 54.63515351859094, 53.749418601506754, 49.48737212663449, 50.44799302251776, 50.59644256269407, 64.71475874945375, 65.45227268781429, 63.40346993658943, 59.53990258641679, 52.630789467763066, 54.72659317004851, 54.258639865002145, 57.81868210189506, 57.63679380395825, 58.73670062235365, 38.82009788756334, 37.282703764614496, 37.8021163428716, 41.340053217188775, 49.28488612140643, 47.12748667179272, 49.60846701924985, 46.71188285650665, 49.42671342502959, 61.180062111769715, 62.91263784010332, 66.9552089086428, 69.13754406977442, 67.49074010558782, 62.65780079128216, 64.85368146836385, 65.12296062065974, 64.56779382943171, 61.70899448216605, 50.07993610219566, 50.07993610219566, 47.275786614291256, 45.19955751995809, 44.88875137492688, 67.20119046564577, 66.41535966928132, 71.49125820686051, 79.7370679169983, 93.06986622962343, 93.84561790515315, 90.72485877641255, 89.86100377805714, 89.59352655186646, 110.52601503718479, 98.0612053770501, 96.79359482941007, 94.2019108086455, 87.05170877128145, 83.3966426182733, 82.25569889071517, 83.43860018001261, 83.56434646426669, 89.54328562209453, 64.45153217728807, 76.92203845452875, 76.88953114696434, 73.91887445030531, 73.91887445030531, 62.864934582006846, 67.68308503607086, 66.49060083951716, 66.85057965343307, 59.23681287847955, 56.1159513863928, 56.1159513863928, 96.88137075826292, 96.46242791885346, 96.46242791885346, 97.45255255764212, 95.35197952848173, 98.6508996411082, 113.69696565871932, 114.59057552870567, 114.58621208504974, 107.07940978544848, 72.4568837309472, 72.46378405796926, 81.36338242723197, 81.6026960338934, 79.61783719745218, 77.86526825228306, 52.905576265645195, 48.979587585033826, 111.35079703351926, 110.90536506409417, 110.7925990308017, 111.33283433021904, 107.08407911543154, 115.22152576667261, 115.20416659131735, 114.7214016650773, 114.63856244737195, 114.63856244737195, 58.29236656715869, 58.974570791146924, 61.95966429863868, 61.180062111769715, 59.388551085204966, 37.93415347678132, 37.93415347678132, 36.318039594669756, 39.98749804626441, 42.708313008125245, 40.607881008493905, 47.92702786528704, 44.01136216933077, 45.617978911828175, 46.314144707637645, 45.880278987817846, 48.92851929090027, 47.16990566028302, 45.387222871640866, 43.77213725647858, 50.635955604688654, 43.02324952859791, 49.749371855331, 51.64300533470143, 53.49766350038102, 57.14017850864661, 59.20304046246274, 77.4919350642375, 102.810505299799, 113.10614483749325, 110.72488428533127, 110.9414259868693, 115.6027681329474, 114.66036804406308, 113.06635220082056, 111.66467659918243, 111.46299834474219, 102.95630140987001, 78.74007874011811, 63.75735251718032, 63.54525946126902, 63.071388124885914, 69.98571282769076, 73.68853370776216, 73.10950690573696, 71.9444229944198, 78.33262411026456, 74.56540752922899, 72.35329985563892, 71.74259543674177, 72.34638899074369, 74.06753674856482, 55.767373974394744, 49.33558553417604, 58.497863208838666, 58.915193286621744, 47.45524207081869, 46.486557196677836, 46.10856753359401, 46.54030511288038, 45.32107677449864, 93.20407716403827, 92.90317540321213, 92.98924669014154, 88.27230596285564, 93.63225939813692, 107.0420478129973, 110.11357772772621, 110.14989786649826, 109.59927007056206, 111.13955191559843, 75.62407024221852, 75.45859791965393, 75.77598564189053, 80.0874522007037, 74.09453421137081, 61.07372593840988, 55.40758070878027, 56.22277118748239, 67.30527468185537, 63.608175575157006, 65.04613747179766, 63.92964883369844, 63.92964883369844, 57.68015256567895, 66.7233092704491, 58.111960903070546, 66.21933252457322, 66.73829485385434, 55.5517776493246, 55.58776843874919, 51.81698563212646, 51.90375708944392, 118.65496196956957, 118.46518475906751, 113.81124724736128, 116.62332528272378, 117.48191350161096, 116.8289347721702, 117.78370006074695, 117.87281281109738, 119.75808949711914, 119.87076374162301, 54.037024344425184, 54.15717865620402, 52.81098370604357, 46.08687448721165, 31.304951684997057, 31.448370387032774, 30.133038346638727, 37.57658845611187, 30.870698080866262, 32.57299494980466, 37.21558813185679, 37.416573867739416, 39.949968710876355, 40.65710270051225, 52.230259428802384, 52.076866265166146, 51.85556864985669, 48.53864439804639, 50.269274910227224, 49.18333050943175, 45.77116996538323, 45.60701700396552, 43.81780460041329, 45.332107826572546, 43.8520238985614, 44.87761134463375, 43.61192497471305, 42.2729227756965, 39.88734135035826, 43.347433603386484, 44.48595283907045, 57.436921923097515, 59.59865770300536, 57.41080037762929, 50.950956811427986, 51.15662224971465, 54.147945482723536, 53.62835071116769, 86.60254037844386, 85.29947244854449, 85.29947244854449, 76.8830280361017, 75.08661665037252, 75.08661665037252, 81.30190649671138, 80.55432949258531, 78.5175139698144, 78.99367063252599, 40.24922359499622, 38.98717737923585, 37.68288736283355, 46.9041575982343, 53.47896782848375, 53.51635264103861, 39.71145930332956, 40.718546143004666, 66.83561924602779, 74.77967638335967, 79.47955712005447, 80.10617953691214, 80.61017305526642, 75.75618786607468, 71.16178749862878, 71.13367697511495, 77.94228634059948, 79.71825386948713, 59.55669567731239, 48.19751030914356, 40.53393639902249, 41.0731055558257, 42.13074886588179, 43.80639222761902, 43.80639222761902, 43.9089968002003, 31.38470965295043, 26.90724809414742, 29.866369046136157, 29.8496231131986, 33.13608305156178, 34.336569426778794, 43.02324952859791, 41.012193308819754, 41.10960958218893, 49.64876634922564, 48.82622246293481, 48.63126566315131, 46.87216658103186, 46.87216658103186, 50.65570056765576, 48.54894437575342, 39.05124837953327, 40.85339643163099, 40.93897898091744, 37.69615364994153, 40.570925550201586, 43.88621651498338, 48.641546028061235, 53.38539126015655, 47.21228653645151, 48.093658625644196, 48.010415536631214, 46.65833258915282, 47.16990566028302, 41.182520563948, 38.98717737923585, 34.56877203488721, 41.41255848169731, 38.157568056677825, 38.742741255621034, 419.6724913548659, 420.88953420107754, 421.0415656440585, 421.5400336860071, 421.5412198113015, 422.69610833316176, 422.749334712664, 421.6111952972786, 421.3632637048465, 421.3051150888154, 62.153036933041335, 69.10137480542626, 68.64400920692205, 65.02307282803544, 65.50572494064927, 57.86190456595773, 63.647466563878254, 63.92964883369844, 64.74565622495459, 66.94027188471824, 65.97726881282674, 51.40038910358559, 61.53048025166064, 61.53048025166064, 67.98529252713413, 67.38694235532579, 91.54780172128658, 91.35097153287424, 102.1420579389313, 101.82828683622247, 111.01351269102334, 112.58330249197702, 108.34666584625482, 109.00917392586736, 109.5764573254675, 110.59837250158793, 87.79521627059188, 89.62142600963232, 76.41334961902926, 77.05841939723393, 63.608175575157006, 59.21148537234985, 57.97413216254298, 56.71860364994893, 48.60041152089147, 48.91829923454004, 51.15662224971465, 50.813384063650005, 51.44900387762624, 51.10772935672255, 40.162171256046406, 41.78516483155236, 55.190578906186516, 57.74945887192364, 56.4889369699944, 54.2125446737192, 53.291650377896914, 50.99019513592785, 50.82322303829225, 50.49752469181039, 50.33885179461288, 49.457052075512955, 33.85262175962151, 39.824615503479755, 40.52159917870962, 41.689327171351664, 47.92702786528704, 47.41307836451879, 49.39635614091387, 46.82947789587238, 71.4142842854285, 70.90839160494335, 84.78207357690657, 80.59156283383516, 80.9814793641114, 80.36168241145776, 76.43951857514541, 86.27282306729043, 85.25256594378845, 89.6827742657418, 72.44308110509934, 72.38093671679029, 60.530983801686226, 65.60487786742691, 72.0, 72.17340230306452, 71.69379331573968, 60.332412515993425, 72.95889253545451, 67.97058187186572, 67.07458535093602, 67.34240862933252, 64.55230437405004, 59.08468498688979, 52.182372502598994, 54.35071296680477, 54.01851534427802, 54.01851534427802, 33.97057550292606, 37.376463182061514, 49.20365840057018, 52.40229002629561, 50.05996404313531, 57.358521598799946, 56.37375275782161, 158.5023659129415, 158.30034744118535, 158.0632784678339, 158.7734234687909, 160.76691201861158, 158.08541994757138, 157.7529714458653, 158.2845538895062, 158.2845538895062, 160.65490966665163, 61.91930232165088, 65.3834841531101, 67.3721010508059, 66.43794096749237, 59.9749947894954, 58.762232769015846, 56.97367813297646, 57.60208329565867, 50.37856687124, 49.78955713801841, 47.486840282335066, 45.155287619502545, 46.8081189538738, 49.51767361255979, 50.635955604688654, 55.389529696504916, 55.67764362830022, 52.48809388804284, 54.037024344425184, 45.639894828976104, 45.902069670114, 45.902069670114, 83.63611660042568, 86.45808232895291, 84.96469855181033, 83.15647900193947, 83.84509526501833, 84.23182296495784, 84.08329203831163, 85.05880318932309, 85.62125904236635, 85.99418584997477, 45.46427168667722, 35.014282800023196, 35.91656999213594, 33.18132004607411, 41.09744517606904, 42.15447781671598, 41.400483088968905, 39.35733730830886, 105.03332804400706, 103.82196299434914, 104.75686135046239, 104.9285471165974, 104.62313319720452, 105.38500842150178, 107.1354283138869, 106.91117808723277, 106.53637876331258, 106.53637876331258, 50.299105359837164, 50.93132631298737, 50.93132631298737, 52.22068555658763, 53.16954015223378, 51.332251070842396, 38.57460304397182, 38.57460304397182, 41.376321731154405, 41.32795663954365, 31.701734968294716, 36.68787265568828, 34.438350715445125, 39.319206502675, 43.439613257946945, 45.02221673796171, 47.36032094485847, 51.487862647424, 51.487862647424, 59.09314681077663, 62.76941930590086, 59.36328831862332, 59.135437767890075, 60.36555309114628, 56.595052787324086, 56.20498198558558, 77.19455939378112, 75.62407024221852, 74.22937423958254, 69.74955196988724, 65.87867636800242, 71.40728254176881, 72.04165461731151, 72.04165461731151, 72.73238618387272, 74.50503338701353, 61.82232606429493, 62.71363488110062, 68.1615727518079, 66.70832032063167, 67.57958271549181, 61.538605769061746, 66.4529909033446, 61.6765757804371, 61.84658438426491, 59.87486951969081, 50.1398045468867, 49.02040391510457, 53.842362503887216, 54.17564028232615, 61.95159400693416, 75.38567503179898, 70.95773389842716, 70.8519583356734, 70.0, 69.7137002317335, 72.18725649309579, 70.15696686716153, 61.465437442517235, 62.3377895020348, 53.73081052803875, 40.17461885320133, 40.4103947023535, 39.91240408695021, 40.50925820105819, 89.21883209278185, 88.95504482602435, 89.40917178902845, 88.95504482602435, 88.14193099768123, 89.10667763978185, 86.7928568489366, 86.35971282953643, 86.45229898620394, 86.74675786448736, 34.07345007480164, 37.62977544445356, 57.19265687131522, 64.1248781675256, 64.19501538281614, 63.608175575157006, 66.37770710110436, 66.25707509390978, 69.32532004974806, 87.3040663428686, 100.42907945411031, 96.52978814852958, 86.75252157718529, 81.9817052762383, 81.93289937503738, 82.95179322956196, 81.09870529176159, 83.97618710086806, 82.18880702382776, 61.96773353931867, 36.61966684720111, 36.89173349139343, 37.589892258425, 40.024992192379, 51.234753829797995, 48.703182647543684, 74.23610981186985, 71.60307255977219, 71.04224095564554, 71.03520254071216, 71.20393247567159, 71.51922818375489, 70.13558298039591, 68.54195795277518, 64.83054835492293, 66.27216610312357, 39.45883931389772, 40.32369030731191, 41.02438299353203, 41.02438299353203, 43.05810028322197, 42.2965719651132, 45.58508528016593, 45.5411901469428, 39.6232255123179, 38.91015291668744, 31.448370387032774, 72.86288492778748, 80.0812087820857, 108.36050941187015, 107.4569681314339, 112.942463227964, 265.60873479612826, 309.05015774142555, 365.9275884652591, 366.18984147570234, 366.57877734533406, 365.69796280537304, 379.70251513520424, 374.7599231508086, 466.0182399863765, 514.576524921221, 456.32115883443316, 428.65953856178214, 399.9674986795802, 604.0049668669952, 664.6931622937008, 676.2351661959026, 667.645864212458, 682.6822101095062, 727.9773348120118, 731.3918238536714, 804.7713961119642, 1228.9076450246373, 20105.228101168115, 20685.92594011687, 20685.793965908102, 20685.559093241834, 20704.650564547086, 20760.650567841076, 20758.537689346038, 20761.989283303275, 20759.638628839377, 20739.894792404324, 5239.102594910697, 1886.3605169744196, 1868.126334057737, 1867.2260173851478, 1642.387591282886, 600.5838825676227, 556.3110640639821, 340.1617262420921, 314.8301129180625, 235.50371546962904, 160.86951233841668, 152.31546211727817, 148.47558721890948, 128.7944098165755, 133.65253458127907, 103.16006979447037, 95.1892851112981, 77.83315488916018, 77.51773990513398, 77.67238891652555, 78.30708780180757, 92.7739187487518, 81.03702857336269, 76.05261336732617, 61.032778078668514, 61.204574992397426, 81.00617260431454, 78.9746794865291, 79.07591289387686, 78.79086241436883, 78.15369473031969, 60.473134530963414, 59.0592922409336, 59.08468498688979, 55.37147279962851, 58.008620049092706, 21.283796653792763, 21.02379604162864, 33.98529093593286, 47.32863826479693, 54.99090833947008, 54.543560573178574, 60.423505360083176, 61.773780845922005, 63.21392251711643, 61.41661013113635, 61.39218191268331, 61.18823416311342, 54.909015653169384, 56.133768802744754, 50.1098792654702, 53.59104402789705, 46.87216658103186, 45.92385001282014, 44.02272140611028, 45.42025979670306, 45.42025979670306, 46.97871858618538, 54.18486873657626, 41.41255848169731, 39.68626966596886, 39.21734310225516, 39.66106403010388, 44.955533585978046, 47.12748667179272, 44.721359549995796, 47.83304297240559, 50.049975024968795, 42.33202097703345, 42.391036788453285, 42.532340636273474, 54.8270006474912, 61.26989472816156, 59.27900134111572, 60.41522986797286, 61.37589103222861, 58.98304841223451, 58.98304841223451, 59.262129560116215, 74.35052118176442, 74.78636239315294, 63.88270501473775, 57.41950887982237, 67.88225099390856, 66.65583245298194, 65.86349520030045, 65.86349520030045, 63.13477647065839, 63.387695966961914, 44.654227123532216, 43.73785545725808, 43.73785545725808, 43.9203825119955, 21.748563170931547, 19.949937343260004, 19.77371993328519, 22.60530911091463, 28.74021572639983, 35.05709628591621, 40.34848200366403, 40.34848200366403, 41.02438299353203, 42.035699113967404, 41.0731055558257, 39.68626966596886, 39.774363602702685, 43.139309220245984, 39.52214569073901, 36.09709129556009, 63.55312738174259, 65.07687761409578, 65.5133574166368, 69.77105417004964, 70.3420215802759, 73.06846104852626, 84.68766143896052, 84.92938243034621, 84.78207357690657, 83.4445923951936, 63.21392251711643, 61.6765757804371, 60.89334939055332, 73.70888684548153, 74.2563128629479, 72.86974680894672, 58.90670590009256, 55.263007518592396, 56.77147170894903, 79.74333827975852, 79.08223567907018, 79.08223567907018, 79.435508432942, 62.64982043070834, 75.07329751649384, 73.81734213584231, 74.43117626371358, 91.23595782365635, 91.09884741312592, 71.91661838546081, 71.47027354082255, 72.61542535852834, 72.74613391789285, 72.69800547470336, 59.312730505347666, 59.312730505347666, 60.11655346075655, 28.372521918222215, 27.964262908219126, 29.546573405388315, 61.554853586049575, 60.166435825965294, 98.0, 97.95407086997457, 97.33961166965892, 98.60020283954795, 97.78547949465708, 104.20172743289815, 106.1414151026827, 105.66929544574431, 91.7551088495894, 92.53647929330357, 50.78385570237849, 50.82322303829225, 50.34878350069642, 49.22397789695587, 48.86716689148246, 34.52535300326414, 25.768197453450252, 38.79432948254165, 36.55133376499413, 34.52535300326414, 33.58571124749333, 37.589892258425, 39.153543900903784, 38.8587184554509, 45.14421336118285, 44.034077712607996, 45.14421336118285, 59.983331017875294, 68.9492567037528, 72.07634840916957, 72.6636084983398, 73.70210309075311, 75.31268153505093, 77.68526243760782, 88.3742043811428, 88.57200460642177, 88.0056816347672, 74.08103670980854, 66.4304147209695, 64.15605972938177, 64.15605972938177, 62.0, 59.15234568468101, 54.909015653169384, 48.07286136688766, 48.73397172404482, 58.855755878248644, 57.93099343184095, 57.654141221598294, 63.41135544995076, 63.095166217389426, 63.095166217389426, 63.0, 63.788713735268246, 54.3415126767741, 53.749418601506754, 42.43819034784589, 54.04627646748664, 54.18486873657626, 49.949974974968704, 74.4983221287567, 74.03377607551839, 74.11477585475112, 76.38062581571324, 75.82875444051551, 101.0099005048515, 112.26308386998818, 108.18040487999663, 108.78878618681247, 107.16342659695052, 91.80958555619343, 91.40021881811882, 91.31264972609216, 89.67162315916892, 87.98295289429652, 58.077534382926416, 31.240998703626616, 28.30194339616981, 24.596747752497688, 25.238858928247925, 32.93933818400121, 32.57299494980466, 33.31666249791537, 31.080540535840107, 32.17141588429082, 33.74907406137241, 33.704599092705436, 41.60528812542944, 57.7148161220323, 66.37770710110436, 63.229739838148944, 63.72597586541927, 64.86909896090742, 66.36264009214823, 68.0808343074613, 67.15653356152326, 69.26759704219572, 72.64984514780468, 62.02418882984283, 54.286278192559855, 53.16013544000805, 57.367238037053866, 55.66866263886712, 54.3323108288245, 50.556898639058154, 185.73368030596927, 184.95404834715026, 183.65184453198395, 183.88855320546736, 184.1738309315414, 184.39360075664231, 183.0218566182739, 183.01366069231008, 183.2102617213348, 183.26756396045647, 40.33608806019741, 43.034869582700026, 34.52535300326414, 37.68288736283355, 32.54228019054596, 31.416556144810016, 34.45286635390443, 34.95711658589707, 43.41658669218482, 43.23193264243457, 58.20652884342099, 60.76183012385325, 79.87490219086344, 77.43384273042376, 77.43384273042376, 77.37570678190927, 76.14459928320589, 76.43951857514541, 75.39230729988306, 89.32524839036273, 83.11437902072059, 83.3966426182733, 66.48308055437865, 72.67048919609665, 108.07867504739313, 110.29505881951376, 110.42191811411355, 110.05907504608605, 107.2240644631605, 96.62815324738438, 93.98404119849285, 90.89004345911603, 90.89004345911603, 85.53361912137238, 32.55764119219941, 24.08318915758459, 33.04542328371661, 35.874782229304195, 37.70941526992961, 52.172789842982326, 53.786615435440815, 53.98147830506312, 52.392747589718944, 52.278102490430925, 52.278102490430925, 52.32590180780452, 49.85980344927164, 48.11444689487763, 57.09640969448079, 42.720018726587654, 40.66939881532551, 42.720018726587654, 42.76680956068619, 44.11349000022555, 46.50806381693394, 48.774993593028796, 45.332107826572546, 45.332107826572546, 31.080540535840107, 32.51153641401772, 34.292856398964496, 31.304951684997057, 31.240998703626616, 29.24038303442689, 22.22611077089287, 16.401219466856727, 16.401219466856727, 0.0, 0.0, 0.0, 0.0]\n"
     ]
    }
   ],
   "source": [
    "print(x[\"ins\"][1730:1735])\n",
    "print(x[\"ins\"][1000:1005])\n",
    "print(dists[\"ins\"][1730:1735])\n",
    "print(dists[\"ins\"][1000:10005])"
   ]
  },
  {
   "cell_type": "code",
   "execution_count": 535,
   "metadata": {},
   "outputs": [
    {
     "name": "stdout",
     "output_type": "stream",
     "text": [
      "90\n"
     ]
    }
   ],
   "source": []
  },
  {
   "cell_type": "code",
   "execution_count": 540,
   "metadata": {},
   "outputs": [
    {
     "name": "stdout",
     "output_type": "stream",
     "text": [
      "27240\n",
      "[1 1 1 ... 1 1 1]\n",
      "{20481, 20490, 22539, 22548, 22557, 22566, 22575, 22584, 22593, 22602, 22611, 22620, 13919, 13928, 13937, 13946, 13955, 13964, 6799, 13973, 6808, 13982, 6817, 13991, 6826, 14000, 6835, 7859, 7868, 6844, 6853, 7877, 6862, 7886, 7895, 6871, 6880, 7904, 23779, 7913, 23788, 7922, 23797, 7931, 23806, 7940, 23815, 23824, 23833, 23842, 23851, 23860, 17229, 17238, 17247, 17256, 25449, 17259, 17265, 25458, 17268, 17274, 25467, 17277, 17283, 25476, 17286, 17292, 25485, 17295, 17301, 25494, 17304, 17310, 25503, 17313, 25512, 17322, 25521, 17331, 20409, 25530, 17340, 20418, 20427, 20436, 20445, 20454, 20463, 20472}\n",
      "(2724, 10)\n",
      "(27240, 1)\n"
     ]
    }
   ],
   "source": [
    "print(len(pred))\n",
    "print(pred)\n",
    "print(loci)\n",
    "print(np.array(values).shape)\n",
    "print(np.array(values).reshape(-1, 1).shape)"
   ]
  },
  {
   "cell_type": "code",
   "execution_count": 529,
   "metadata": {},
   "outputs": [],
   "source": [
    "def _extract_anomaly_loci(count_indels: dict[str, list[int | float]]) -> dict[str, set[int]]:\n",
    "    anomaly_loci = dict()\n",
    "    clf = LocalOutlierFactor()\n",
    "    for key, values in count_indels.items():\n",
    "        pred = clf.fit_predict(np.array(values).reshape(-1, 1))\n",
    "        loci = {i for i, p in enumerate(pred) if p == -1}\n",
    "        anomaly_loci.update({key: loci})\n",
    "    return anomaly_loci\n"
   ]
  },
  {
   "cell_type": "code",
   "execution_count": 541,
   "metadata": {},
   "outputs": [],
   "source": [
    "indels_sample = _count_indels(cssplits_sample)\n",
    "indels_control = _count_indels(cssplits_control)\n",
    "indels_sample = _remove_minor_indels(indels_sample, len(cssplits_sample))\n",
    "indels_control = _remove_minor_indels(indels_control, len(cssplits_control))\n",
    "# anomaly at single locus\n",
    "mutation_locus_single = {}\n",
    "loci_sample = _extract_anomaly_loci(indels_sample)\n",
    "loci_control = _extract_anomaly_loci(indels_control)\n",
    "for key in [\"ins\", \"del\", \"sub\"]:\n",
    "    mutation_locus_single.update({key: loci_sample[key] - loci_control[key]})\n",
    "# Difference of anomaly within kmers\n",
    "x = _split_kmer(indels_sample, kmer = 10)\n",
    "y = _split_kmer(indels_control, kmer = 10)\n",
    "dists = _calc_distance(x, y)\n",
    "loci_sample = _extract_anomaly_loci(dists)\n",
    "mutation_locus_kmer = {}\n",
    "for key in [\"ins\", \"del\", \"sub\"]:\n",
    "    # score_sample = _score_anomaly(dists[key])\n",
    "    mutation_locus_kmer.update({key: loci_sample[key]})\n",
    "# Output\n",
    "results = {}\n",
    "for key in [\"ins\", \"del\", \"sub\"]:\n",
    "    results.update({key: mutation_locus_single[key] & mutation_locus_kmer[key]})\n"
   ]
  },
  {
   "cell_type": "code",
   "execution_count": 544,
   "metadata": {},
   "outputs": [
    {
     "name": "stdout",
     "output_type": "stream",
     "text": [
      "[1, 1, 1, 1, 1, 1, 1, 1, 11, 53, 1, 31, 32, 20, 10, 1, 84, 1, 11, 10, 12, 1, 28, 24, 28, 1, 23, 25, 26, 38, 12, 20, 22, 1, 36, 1, 14, 11, 14, 15, 17, 10, 1, 13, 1, 25, 1, 1, 1, 13, 48, 29, 38, 44, 15, 1, 1, 33, 11, 1, 13, 72, 12, 1, 1, 27, 1, 33, 21, 68, 27, 19, 1, 64, 19, 1, 1, 10, 16, 15, 14, 10, 1, 24, 44, 27, 1, 1, 25, 15, 1, 20, 1, 39, 18, 27, 19, 16, 14, 30, 18, 28, 22, 15, 13, 19, 27, 12, 34, 28, 1, 53, 13, 14, 15, 1, 1, 13, 1, 30, 12, 25, 1, 46, 12, 39, 23, 39, 1, 67, 1, 38, 1, 16, 10, 49, 50, 18, 16, 35, 16, 21, 21, 20, 12, 1, 12, 57, 11, 18, 31, 23, 15, 60, 35, 36, 1, 18, 17, 36, 23, 16, 41, 1, 22, 12, 1, 17, 10, 16, 249, 61, 1, 13, 11, 36, 18, 1, 10, 19, 27, 15, 15, 23, 12, 23, 46, 1, 17, 51, 14, 1, 31, 29, 35, 16, 1, 1, 24, 11, 34, 31, 15, 24, 1, 20, 1, 33, 49, 40, 50, 27, 24, 18, 22, 12, 1, 1, 69, 56, 50, 21, 17, 1, 29, 16, 1, 21, 15, 11, 21, 18, 17, 40, 38, 41, 34, 20, 31, 1, 49, 30, 26, 29, 1, 30, 40, 1, 29, 1, 1, 1, 21, 41, 42, 28, 1, 33, 13, 1, 23, 11, 55, 1, 1, 14, 25, 23, 1, 63, 37, 31, 1, 22, 20, 22, 19, 10, 19, 10, 37, 42, 10, 16, 11, 22, 31, 18, 1, 25, 22, 32, 41, 29, 58, 39, 1, 1, 23, 29, 1, 30, 30, 16, 12, 40, 54, 39, 48, 18, 62, 61, 11, 30, 72, 33, 10, 1, 18, 11, 1, 1, 29, 41, 27, 14, 26, 1, 10, 19, 1, 1, 1, 47, 17, 1, 10, 24, 1, 18, 12, 19, 23, 16, 48, 34, 13, 1, 13, 1, 26, 1, 31, 33, 60, 141, 71, 1, 1, 1, 11, 56, 1, 48, 52, 1, 95, 13, 1, 1, 52, 28, 19, 24, 21, 37, 26, 34, 1, 57, 1, 23, 24, 32, 1, 17, 20, 18, 35, 14, 29, 29, 10, 1, 31, 1, 32, 1, 35, 10, 1, 11, 38, 67, 38, 18, 1, 50, 33, 1, 15, 19, 25, 1, 15, 24, 24, 39, 14, 13, 12, 28, 12, 12, 10, 16, 36, 1, 27, 38, 1, 64, 36, 1, 27, 51, 50, 10, 1, 10, 43, 17, 29, 67, 15, 24, 11, 1, 1, 1, 11, 24, 10, 25, 1, 11, 1, 1, 16, 46, 1, 19, 33, 1, 16, 35, 26, 1, 18, 1, 1, 12, 75, 10, 12, 1, 59, 16, 23, 10, 43, 26, 20, 10, 1, 1, 14, 45, 12, 55, 1, 15, 41, 50, 17, 18, 70, 1, 64, 32, 10, 13, 10, 35, 13, 10, 54, 19, 1, 15, 31, 16, 15, 29, 13, 19, 49, 39, 1, 39, 23, 25, 1, 18, 55, 13, 14, 41, 11, 1, 21, 12, 40, 12, 39, 11, 31, 23, 26, 34, 27, 18, 14, 32, 50, 14, 18, 16, 27, 24, 51, 19, 21, 21, 1, 1, 29, 14, 12, 16, 1, 1, 36, 13, 1, 32, 29, 16, 19, 15, 19, 1, 1, 1, 1, 1, 33, 27, 1, 15, 42, 26, 24, 20, 41, 16, 25, 46, 22, 28, 45, 12, 106, 11, 1, 1, 1, 1, 16, 10, 13, 14, 22, 34, 15, 24, 25, 37, 46, 16, 14, 17, 14, 1, 43, 1, 43, 35, 1, 1, 36, 21, 27, 17, 25, 21, 39, 14, 1, 31, 17, 18, 1, 45, 1, 1, 68, 48, 26, 1, 17, 19, 1, 23, 1, 1, 1, 28, 60, 39, 45, 1, 15, 43, 31, 14, 1, 19, 16, 30, 23, 25, 13, 10, 15, 1, 16, 30, 43, 25, 22, 71, 569, 69, 19, 36, 25, 13, 21, 25, 15, 29, 14, 65, 44, 25, 14, 1, 38, 1, 25, 22, 12, 27, 11, 27, 16, 15, 11, 27, 20, 10, 1, 33, 1, 16, 1, 28, 23, 12, 1, 31, 13, 1, 57, 11, 1, 13, 37, 18, 17, 1, 11, 58, 12, 136, 12, 1, 1, 1, 12, 35, 15, 28, 17, 1, 23, 16, 20, 31, 36, 23, 23, 1, 28, 70, 22, 1, 32, 14, 11, 34, 1, 1, 16, 18, 23, 12, 1, 1, 14, 22, 26, 11, 10, 1, 10, 12, 1, 16, 13, 29, 17, 1, 38, 19, 25, 20, 1, 44, 18, 10, 1, 35, 1, 37, 29, 115, 1, 100, 23, 16, 34, 30, 1, 13, 10, 1, 19, 1, 14, 13, 45, 17, 22, 18, 1, 1, 24, 17, 20, 14, 10, 68, 35, 19, 13, 25, 39, 14, 16, 12, 45, 1, 29, 29, 12, 14, 1, 1, 1, 20, 22, 19, 61, 1, 1, 16, 47, 112, 10, 72, 32, 24, 12, 15, 16, 1, 37, 1, 1, 26, 31, 12, 1, 1, 1, 1, 13, 19, 26, 16, 54, 1, 1, 22, 1, 10, 1, 58, 1, 1, 61, 14, 22, 20, 12, 22, 1, 24, 12, 25, 21, 16, 34, 31, 25, 12, 10, 25, 28, 12, 1, 20, 10, 49, 10, 19, 14, 26, 18, 46, 21, 1, 52, 11, 1, 59, 26, 44, 1, 10, 10, 20, 67, 25, 1, 1, 15, 57, 27, 27, 26, 18, 17, 1, 26, 52, 32, 20, 26, 1, 31, 48, 16, 19, 29, 11, 14, 1, 58, 17, 14, 14, 17, 1, 12, 22, 16, 11, 17, 13, 1, 18, 11, 17, 1, 10, 35, 26, 19, 13, 33, 20, 95, 23, 59, 1, 13, 10, 1, 49, 1, 16, 22, 31, 19, 11, 144, 14, 39, 1, 1, 18, 19, 11, 18, 19, 1, 47, 24, 42, 23, 1, 1, 39, 26, 24, 29, 43, 167, 38, 24, 1, 47, 25, 15, 18, 12, 25, 1, 17, 33, 11, 10, 30, 20, 1, 1, 1, 14, 35, 58, 11, 14, 12, 27, 13, 1, 31, 45, 13, 17, 27, 15, 1, 18, 19, 1, 1, 19, 80, 1, 16, 70, 1, 1, 1, 1, 11, 41, 30, 24, 12, 31, 10, 46, 26, 17, 18, 32, 26, 18, 25, 40, 27, 13, 1, 15, 1, 12, 20, 13, 17, 1, 40, 17, 18, 22, 1, 12, 1, 14, 36, 10, 59, 1, 1, 15, 1, 1, 13, 28, 23, 1, 1, 33, 1, 1, 17, 43, 1, 20, 13, 1, 29, 20, 43, 1, 61, 42, 18, 18, 20, 28, 28, 79, 21, 14, 55, 1, 51, 16, 11, 26, 12, 21, 94, 45, 24, 1, 1, 1, 11, 18, 51, 24, 33, 45, 19, 11, 1, 10, 33, 17, 48, 33, 1, 17, 1, 26, 25, 18, 1, 57, 38, 40, 34, 13, 48, 14, 59, 31, 32, 22, 52, 30, 1, 26, 44, 1, 18, 22, 1, 55, 1, 37, 13, 19, 11, 33, 18, 26, 34, 18, 19, 17, 19, 42, 33, 28, 26, 19, 15, 11, 12, 30, 12, 12, 20, 64, 1, 13, 29, 83, 23, 17, 27, 19, 16, 42, 27, 16, 10, 1, 15, 24, 56, 10, 21, 25, 1, 35, 37, 1, 75, 24, 1, 1, 106, 34, 22, 20, 50, 22, 44, 70, 53, 18, 42, 23, 1, 11, 15, 20, 16, 28, 11, 26, 17, 35, 25, 40, 1, 1, 21, 77, 29, 19, 79, 10, 34, 17, 20, 39, 1, 1, 1, 25, 1, 15, 18, 46, 20, 1, 15, 17, 29, 40, 13, 85, 1, 20, 21, 1, 23, 64, 15, 41, 13, 43, 16, 1, 58, 50, 19, 1, 39, 1, 1, 17, 18, 34, 38, 21, 16, 91, 17, 38, 43, 14, 16, 37, 1, 11, 45, 37, 23, 1, 13, 26, 20, 44, 36, 60, 24, 27, 36, 44, 33, 67, 25, 111, 21, 43, 13, 17, 28, 29, 18, 18, 1, 15, 35, 1, 12, 1, 17, 24, 19, 21, 44, 59, 30, 117, 11, 64, 24, 12, 56, 21, 1, 27, 39, 19, 12, 16, 18, 55, 22, 41, 1, 44, 44, 21, 23, 1, 53, 1, 13, 1, 13, 1, 1, 25, 1, 1, 18, 11, 1, 26, 47, 12, 1, 1, 65, 1, 1, 21, 1, 1, 26, 17, 20, 1, 20, 13, 19, 11, 1, 32, 33, 21, 13, 18, 23, 1, 1, 27, 43, 1, 12, 1, 18, 23, 19, 19, 55, 12, 15, 15, 1, 26, 23, 23, 1, 1, 15, 14, 1, 43, 20, 20, 32, 1, 1, 34, 12, 1, 1, 130, 1, 1, 1, 1, 1, 10, 19, 35, 18, 1, 168, 1, 1, 12, 1, 28, 11, 1, 15, 11, 1, 1, 10, 1, 1, 1, 1, 1, 19, 21, 13, 32, 1, 1, 15, 12, 1, 24, 1, 17, 10, 24, 1, 37, 18, 38, 14, 54, 24, 1, 20, 1, 10, 10, 25, 20, 22, 18, 11, 1, 11, 11, 56, 1, 19, 1, 12, 16, 1, 17, 1, 30, 21, 1, 1, 1, 21, 67, 12, 31, 27, 13, 28, 14, 11, 35, 32, 14, 33, 10, 10, 13, 15, 1, 21, 25, 22, 1, 14, 1, 17, 1, 36, 21, 13, 1, 19, 13, 1, 28, 39, 29, 31, 1, 17, 1, 16, 25, 64, 18, 38, 47, 76, 1, 11, 10, 29, 26, 19, 19, 12, 41, 25, 79, 1, 18, 1, 27, 12, 25, 48, 1, 1, 1, 11, 1, 1, 21, 1, 15, 12, 14, 27, 1, 1, 1, 15, 30, 33, 1, 1, 55, 26, 1, 45, 51, 12, 1, 10, 18, 15, 1, 21, 17, 1, 1, 20, 23, 1, 17, 35, 16, 12, 49, 41, 57, 60, 33, 18, 12, 15, 23, 29, 1, 11, 30, 32, 28, 35, 14, 1, 62, 19, 1, 12, 11, 42, 1, 67, 11, 1, 12, 33, 16, 17, 22, 23, 1, 20, 82, 10, 1, 20, 24, 227, 1, 11, 10, 1, 12, 23, 1, 22, 16, 33, 27, 17, 18, 41, 27, 16, 1, 1, 52, 11, 36, 34, 1, 13, 16, 24, 15, 20, 20, 18, 15, 11, 38, 26, 47, 18, 76, 20, 32, 44, 45, 45, 32, 144, 29, 95, 213, 18, 52, 177, 73, 272, 1103, 502, 2621, 606, 9065, 7004, 322, 1977, 1360, 204, 136, 475, 185, 86, 10, 15, 48, 28, 60, 23, 1, 15, 50, 15, 48, 14, 55, 1, 33, 30, 26, 19, 1, 11, 23, 12, 25, 25, 11, 21, 23, 10, 1, 19, 1, 14, 12, 1, 24, 33, 1, 14, 12, 37, 1, 15, 18, 10, 11, 20, 19, 22, 15, 11, 1, 19, 35, 44, 29, 24, 14, 41, 23, 1, 1, 16, 11, 85, 32, 34, 18, 1, 1, 24, 1, 12, 87, 14, 1, 25, 1, 1, 24, 114, 10, 1, 26, 13, 19, 41, 1, 1, 53, 28, 51, 1, 1, 1, 30, 31, 36, 42, 80, 23, 49, 16, 1, 55, 12, 1, 28, 24, 23, 95, 1, 1, 1, 1, 10, 1, 23, 17, 1, 24, 46, 1, 1, 10, 54, 35, 1, 38, 1, 11, 1, 27, 10, 58, 22, 37, 46, 28, 53, 11, 10, 31, 36, 14, 12, 28, 14, 23, 16, 11, 1, 17, 18, 1, 19, 27, 1, 31, 1, 32, 10, 13, 28, 12, 11, 1, 1, 1, 19, 1, 20, 38, 21, 1, 84, 1, 18, 52, 16, 17, 1, 28, 1, 37, 1, 10, 16, 31, 48, 28, 34, 22, 29, 10, 1, 10, 102, 79, 1, 17, 29, 28, 37, 30, 23, 17, 36, 10, 1, 33, 28, 20, 28, 19, 19, 23, 1, 12, 13, 24, 14, 14, 29, 64, 34, 1, 17, 24, 26, 12, 1, 20, 1, 18, 1, 29, 1, 31, 16, 43, 22, 31, 20, 10, 1, 29, 42, 29, 31, 1, 36, 24, 1, 16, 39, 24, 1, 11, 43, 10, 19, 15, 1, 11, 26, 1, 14, 11, 11, 20, 16, 1, 1, 47, 21, 28, 19, 24, 11, 37, 19, 37, 51, 16, 11, 1, 1, 50, 21, 36, 10, 41, 1, 1, 17, 1, 37, 1, 32, 55, 17, 10, 92, 30, 43, 35, 11, 36, 16, 1, 12, 14, 32, 1, 18, 1, 20, 12, 20, 1, 33, 12, 11, 1, 43, 469, 26, 30, 34, 13, 35, 28, 62, 17, 1, 29, 1, 10, 1, 26, 10, 40, 21, 23, 1, 125, 15, 31, 1, 41, 14, 34, 1, 23, 1, 60, 38, 29, 24, 24, 45, 11, 19, 19, 22, 24, 20, 14, 1, 12, 1, 1, 32, 13, 32, 47, 1, 94, 1, 21, 12, 39, 24, 18, 34, 26, 1, 13, 13, 25, 71, 1, 1, 1, 13, 52, 29, 30, 29, 25, 1, 31, 23, 31, 27, 1, 1, 1, 1, 51, 17, 1, 38, 14, 19, 20, 61, 20, 1, 10, 17, 31, 32, 1, 1, 1, 1, 12, 17, 30, 43, 1, 15, 16, 1, 14, 43, 24, 19, 48, 1, 1, 29, 1, 1, 20, 13, 42, 12, 19, 26, 1, 57, 20, 24, 1, 21, 51, 14, 28, 16, 13, 102, 15, 1, 1, 29, 1, 21, 1, 12, 1, 11, 1, 49, 14, 18, 28, 54, 19, 54, 19, 15, 17, 1, 27, 60, 56, 22, 23, 21, 28, 12, 60, 21, 24, 18, 12, 27, 1, 26, 1, 12, 1, 13, 38, 29, 13, 28, 35, 32, 16, 15, 14, 1, 73, 60, 34, 11, 40, 29, 18, 28, 39, 22, 14, 10, 1, 1, 31, 25, 29, 17, 13, 12, 19, 16, 94, 54, 19, 16, 1, 26, 17, 28, 19, 25, 14, 10, 24, 53, 12, 29, 14, 18, 93, 87, 10, 1, 23, 38, 23, 18, 21, 90, 14, 47, 21, 49, 17, 29, 27, 17, 1, 16, 1, 13, 23, 27, 16, 1, 55, 35, 64, 19, 26, 39, 18, 33, 1, 16, 38, 36, 24, 1, 22, 21, 10, 37, 24, 24, 56, 14, 27, 1, 23, 18, 18, 1, 32, 1, 47, 80, 53, 139, 21, 53, 291, 191, 214, 55, 54, 63, 182, 129, 304, 253, 93, 47, 149, 468, 288, 140, 27, 165, 376, 242, 355, 978, 20123, 4903, 315, 123, 890, 1548, 247, 465, 170, 240, 266, 69, 83, 80, 68, 108, 68, 70, 30, 43, 46, 25, 48, 21, 86, 13, 11, 20, 1, 22, 1, 62, 19, 35, 13, 28, 32, 15, 38, 25, 1, 25, 43, 10, 29, 13, 43, 55, 55, 1, 25, 1, 1, 1, 28, 33, 18, 1, 1, 11, 22, 11, 24, 1, 70, 17, 14, 11, 22, 27, 29, 19, 19, 41, 16, 46, 47, 30, 20, 27, 15, 31, 24, 1, 44, 12, 20, 18, 26, 42, 25, 20, 1, 23, 30, 20, 49, 21, 10, 34, 27, 36, 17, 13, 23, 15, 18, 1, 1, 1, 19, 19, 11, 10, 20, 15, 1, 15, 1, 16, 1, 24, 10, 13, 19, 35, 14, 1, 1, 1, 18, 33, 63, 16, 1, 14, 17, 14, 24, 15, 33, 10, 20, 41, 39, 1, 120, 59, 27, 1, 44, 46, 27, 41, 33, 10, 1, 13, 1, 18, 13, 46, 1, 25, 1, 54, 16, 81, 23, 42, 10, 12, 14, 14, 13, 13, 1, 14, 17, 1, 1, 31, 93, 28, 12, 28, 29, 1, 102, 1, 1, 31, 1, 1, 1, 27, 13, 1, 69, 26, 19, 1, 39, 18, 1, 102, 12, 1, 15, 13, 40, 30, 36, 22, 20, 1, 23, 19, 22, 59, 21, 46, 1, 28, 1, 10, 1, 15, 15, 11, 27, 12, 51, 1, 1, 10, 1, 94, 27, 1, 1, 1, 19, 19, 44, 60, 12, 14, 17, 15, 56, 15, 26, 24, 29, 29, 1, 1, 1, 1, 17, 1, 25, 12, 38, 16, 74, 1, 11, 14, 1, 1, 11, 14, 18, 11, 13, 63, 18, 25, 15, 21, 26, 34, 14, 28, 34, 1, 51, 22, 1, 1, 29, 1, 19, 39, 19, 14, 31, 20, 58, 20, 34, 30, 14, 17, 10, 14, 1, 15, 1, 17, 12, 12, 21, 27, 31, 20, 1, 21, 24, 61, 1, 10, 1, 51, 22, 15, 24, 1, 1, 16, 11, 36, 1, 1, 1, 1, 1, 1, 1, 1, 1]\n"
     ]
    }
   ],
   "source": [
    "x = indels_sample[\"ins\"]\n",
    "print(x)"
   ]
  },
  {
   "cell_type": "code",
   "execution_count": 545,
   "metadata": {},
   "outputs": [
    {
     "name": "stdout",
     "output_type": "stream",
     "text": [
      "82\n"
     ]
    }
   ],
   "source": [
    "values = x\n",
    "pred = clf.fit_predict(np.array(values).reshape(-1, 1))\n",
    "loci = {i for i, p in enumerate(pred) if p == -1}\n",
    "print(len(loci))"
   ]
  },
  {
   "cell_type": "code",
   "execution_count": 550,
   "metadata": {},
   "outputs": [
    {
     "name": "stdout",
     "output_type": "stream",
     "text": [
      "{1731}\n"
     ]
    },
    {
     "data": {
      "text/plain": [
       "set()"
      ]
     },
     "execution_count": 550,
     "metadata": {},
     "output_type": "execute_result"
    }
   ],
   "source": [
    "print(loci & {1731})\n",
    "mutation_locus_kmer[\"ins\"] & {1731}"
   ]
  },
  {
   "cell_type": "code",
   "execution_count": 566,
   "metadata": {},
   "outputs": [
    {
     "name": "stdout",
     "output_type": "stream",
     "text": [
      "Counter({1: 2665, -1: 59})\n",
      "[1 1 1 1 1]\n"
     ]
    }
   ],
   "source": [
    "clf = LocalOutlierFactor()\n",
    "values = dists[\"ins\"]\n",
    "pred = clf.fit_predict(np.array(values).reshape(-1, 1))\n",
    "loci = {i for i, p in enumerate(pred) if p == -1}\n",
    "print(Counter(pred))\n",
    "print(pred[1730:1735])"
   ]
  },
  {
   "cell_type": "code",
   "execution_count": 565,
   "metadata": {},
   "outputs": [
    {
     "name": "stdout",
     "output_type": "stream",
     "text": [
      "0.0\n",
      "0.0\n",
      "0.0\n",
      "0.0\n",
      "0.0\n",
      "10.04987562112089\n",
      "10.04987562112089\n",
      "14.177446878757825\n",
      "209.43734146517426\n",
      "210.8838542895117\n",
      "203.00246303924493\n",
      "128.49513609471762\n",
      "128.50680915811427\n",
      "13.30413469565007\n",
      "13.30413469565007\n",
      "126.87001221722964\n",
      "126.91335627111907\n",
      "126.89365626381802\n",
      "130.6981254647518\n",
      "206.39040675380238\n",
      "209.3155512617254\n",
      "208.88513590009222\n",
      "209.57337617168838\n",
      "210.04999404903586\n",
      "210.90756269038812\n",
      "298.234806821739\n",
      "1122.8236727109027\n",
      "1215.7619010316123\n",
      "2876.4113057766963\n",
      "2936.075952696047\n",
      "9497.727254454088\n",
      "7380.399718172452\n",
      "2389.149639516119\n",
      "2372.4620123407667\n",
      "1372.7170138087456\n",
      "312.23708940483033\n",
      "309.05015774142555\n",
      "514.576524921221\n",
      "604.0049668669952\n",
      "664.6931622937008\n",
      "676.2351661959026\n",
      "667.645864212458\n",
      "682.6822101095062\n",
      "727.9773348120118\n",
      "731.3918238536714\n",
      "804.7713961119642\n",
      "1228.9076450246373\n",
      "5239.102594910697\n",
      "1886.3605169744196\n",
      "1868.126334057737\n",
      "1867.2260173851478\n",
      "1642.387591282886\n",
      "600.5838825676227\n",
      "556.3110640639821\n",
      "128.7944098165755\n",
      "0.0\n",
      "0.0\n",
      "0.0\n",
      "0.0\n"
     ]
    }
   ],
   "source": [
    "for val, p in zip(values, pred):\n",
    "    if p == -1:\n",
    "        print(val)"
   ]
  },
  {
   "cell_type": "code",
   "execution_count": 567,
   "metadata": {},
   "outputs": [
    {
     "name": "stdout",
     "output_type": "stream",
     "text": [
      "Counter({1: 2492, -1: 232})\n",
      "[-1 -1 -1 -1 -1]\n"
     ]
    }
   ],
   "source": [
    "from sklearn.ensemble import IsolationForest\n",
    "values = dists[\"ins\"]\n",
    "clf = IsolationForest(random_state=0)\n",
    "pred = clf.fit_predict(np.array(values).reshape(-1, 1))\n",
    "loci = {i for i, p in enumerate(pred) if p == -1}\n",
    "print(Counter(pred))\n",
    "print(pred[1730:1735])"
   ]
  },
  {
   "cell_type": "code",
   "execution_count": null,
   "metadata": {},
   "outputs": [],
   "source": []
  },
  {
   "cell_type": "code",
   "execution_count": null,
   "metadata": {},
   "outputs": [],
   "source": []
  },
  {
   "cell_type": "code",
   "execution_count": 564,
   "metadata": {},
   "outputs": [
    {
     "data": {
      "image/png": "[encoded data removed]",
      "text/plain": [
       "<Figure size 432x288 with 1 Axes>"
      ]
     },
     "metadata": {
      "image/png": {
       "height": 251,
       "width": 389
      },
      "needs_background": "light"
     },
     "output_type": "display_data"
    }
   ],
   "source": [
    "plt.plot(dists[\"ins\"])# [1730:1735]\n",
    "plt.show()"
   ]
  },
  {
   "cell_type": "code",
   "execution_count": 568,
   "metadata": {},
   "outputs": [],
   "source": [
    "from __future__ import annotations\n",
    "\n",
    "import random\n",
    "import re\n",
    "from collections import Counter, defaultdict\n",
    "from pathlib import Path\n",
    "\n",
    "import midsv\n",
    "import numpy as np\n",
    "from scipy.stats import chi2\n",
    "from scipy.spatial import distance\n",
    "from sklearn.ensemble import IsolationForest\n",
    "\n",
    "\n",
    "def _count_indels(cssplits: list[list[str]]) -> dict[str, list[int]]:\n",
    "    count = {\"ins\": [1] * len(cssplits[0]),\n",
    "            \"del\": [1] * len(cssplits[0]),\n",
    "            \"sub\": [1] * len(cssplits[0])}\n",
    "    transposed_cssplits = [list(t) for t in zip(*cssplits)]\n",
    "    for i, transposed_cssplit in enumerate(transposed_cssplits):\n",
    "        for cs in transposed_cssplit:\n",
    "            if cs.startswith(\"=\") or cs == \"N\" or re.search(r\"a|c|g|t|n\", cs):\n",
    "                continue\n",
    "            if cs.startswith(\"+\"):\n",
    "                count[\"ins\"][i] += len(cs.split(\"|\"))\n",
    "            elif cs.startswith(\"-\"):\n",
    "                count[\"del\"][i] += 1\n",
    "            elif cs.startswith(\"*\"):\n",
    "                count[\"sub\"][i] += 1\n",
    "    return count\n",
    "\n",
    "def _remove_minor_indels(count_indels: dict[str, list[int]], coverage: int) -> dict[str, list[int]]:\n",
    "    count_indels_removed = dict()\n",
    "    threshold = coverage * 0.01\n",
    "    for key, values in count_indels.items():\n",
    "        values_removed = [v if v >= threshold else 1 for v in values]\n",
    "        count_indels_removed.update({key: values_removed})\n",
    "    return count_indels_removed\n",
    "\n",
    "\n",
    "def _extract_anomaly_loci(count_indels: dict[str, list[int | float]]) -> dict[str, set[int]]:\n",
    "    anomaly_loci = dict()\n",
    "    for key, values in count_indels.items():\n",
    "        clf = IsolationForest(random_state=0)\n",
    "        pred = clf.fit_predict(np.array(values).reshape(-1, 1))\n",
    "        loci = {i for i, p in enumerate(pred) if p == -1}\n",
    "        anomaly_loci.update({key: loci})\n",
    "    return anomaly_loci\n",
    "\n",
    "# def _score_anomaly(count_sample: list[int | float]) -> list[float]:\n",
    "#     x = np.array(count_sample)\n",
    "#     average = np.mean(x)\n",
    "#     sigma = np.std(x)\n",
    "#     score = np.square((x - average) / sigma)\n",
    "#     return score.tolist()\n",
    "\n",
    "\n",
    "# def _extract_anomaly_loci(score: list[float], threshold: float = 0.99) -> set[int]:\n",
    "#     anomaly_loci = set()\n",
    "#     thres = chi2.ppf(q=threshold, df=1)\n",
    "#     for i, s in enumerate(score):\n",
    "#         if s > thres:\n",
    "#             anomaly_loci.add(i)\n",
    "#     return anomaly_loci\n",
    "\n",
    "\n",
    "def _split_kmer(indels: dict[str, list[int]], kmer: int = 10) -> dict[str, list[list[int]]]:\n",
    "    results = defaultdict(list)\n",
    "    center = kmer // 2\n",
    "    for mut, value in indels.items():\n",
    "        for i in range(len(value)):\n",
    "            if center <= i <= len(value) - center:\n",
    "                start = i - center\n",
    "                if kmer % 2 == 0:\n",
    "                    end = i + center\n",
    "                else:\n",
    "                    end = i + center + 1\n",
    "                results[mut].append(value[start : end])\n",
    "            else:\n",
    "                results[mut].append([0]*kmer)\n",
    "    return results\n",
    "\n",
    "\n",
    "def _calc_distance(indels_sample: dict[str, list[list[int]]], indels_control: dict[str, list[list[int]]]) -> dict[str, list[float]]:\n",
    "    results = defaultdict(list)\n",
    "    for mut, value in indels_sample.items():\n",
    "        for i, val in enumerate(value):\n",
    "            dist = distance.euclidean(val, indels_control[mut][i])\n",
    "            results[mut].append(dist)\n",
    "    return results\n",
    "\n",
    "def _extract(cssplits_sample, cssplits_control) -> dict[str, set[int]]:\n",
    "    indels_sample = _count_indels(cssplits_sample)\n",
    "    indels_control = _count_indels(cssplits_control)\n",
    "    indels_sample = _remove_minor_indels(indels_sample, len(cssplits_sample))\n",
    "    indels_control = _remove_minor_indels(indels_control, len(cssplits_control))\n",
    "    # anomaly at single locus\n",
    "    mutation_locus_single = {}\n",
    "    # score_sample = _score_anomaly(indels_sample[key])\n",
    "    # score_control = _score_anomaly(indels_control[key])\n",
    "    loci_sample = _extract_anomaly_loci(indels_sample)\n",
    "    loci_control = _extract_anomaly_loci(indels_control)\n",
    "    for key in [\"ins\", \"del\", \"sub\"]:\n",
    "        mutation_locus_single.update({key: loci_sample[key] - loci_control[key]})\n",
    "    # Difference of anomaly within kmers\n",
    "    x = _split_kmer(indels_sample, kmer = 10)\n",
    "    y = _split_kmer(indels_control, kmer = 10)\n",
    "    dists = _calc_distance(x, y)\n",
    "    loci_sample = _extract_anomaly_loci(dists)\n",
    "    mutation_locus_kmer = {}\n",
    "    for key in [\"ins\", \"del\", \"sub\"]:\n",
    "        # score_sample = _score_anomaly(dists[key])\n",
    "        mutation_locus_kmer.update({key: loci_sample[key]})\n",
    "    # Output\n",
    "    results = {}\n",
    "    for key in [\"ins\", \"del\", \"sub\"]:\n",
    "        results.update({key: mutation_locus_single[key] & mutation_locus_kmer[key]})\n",
    "    return results\n",
    "\n",
    "###########################################################\n",
    "# postprocesss\n",
    "###########################################################\n",
    "\n",
    "\n",
    "def _replace_errors_to_atmark(cssplits_sample: list[list[str]], mutation_loci: dict[str, set[int]]) -> list[list[str]]:\n",
    "    results = []\n",
    "    for cssplits in cssplits_sample:\n",
    "        cssplits_replaced = []\n",
    "        for i, cs in enumerate(cssplits):\n",
    "            if cs.startswith(\"=\") or cs == \"N\" or re.search(r\"a|c|g|t|n\", cs):\n",
    "                cssplits_replaced.append(cs)\n",
    "                continue\n",
    "            if cs.startswith(\"+\"):\n",
    "                tag = \"ins\"\n",
    "            elif cs.startswith(\"-\"):\n",
    "                tag = \"del\"\n",
    "            else:\n",
    "                tag = \"sub\"\n",
    "            if i in mutation_loci[tag]:\n",
    "                cssplits_replaced.append(cs)\n",
    "            else:\n",
    "                cssplits_replaced.append(\"@\")\n",
    "        results.append(cssplits_replaced)\n",
    "    return results\n",
    "\n",
    "\n",
    "def _replace_atmark(cssplits: list[list[str]], sequence: str) -> list[list[str]]:\n",
    "    random.seed(1)\n",
    "    cssplits_replaced = cssplits.copy()\n",
    "    sequence_length = len(sequence)\n",
    "    for i in range(1, sequence_length - 1):\n",
    "        cssplits_atmark = defaultdict(str)\n",
    "        cssplits_sampling_key = defaultdict(list)\n",
    "        cssplits_sampling_all = []\n",
    "        flag_all_atmark = True\n",
    "        for idx, cssplit in enumerate(cssplits):\n",
    "            key = \",\".join([cssplit[i - 1], cssplit[i + 1]])\n",
    "            if cssplit[i] == \"@\":\n",
    "                cssplits_atmark[idx] = key\n",
    "            else:\n",
    "                cssplits_sampling_key[key].append(cssplit[i])\n",
    "                cssplits_sampling_all.append(cssplit[i])\n",
    "                flag_all_atmark = False\n",
    "        for idx, key in cssplits_atmark.items():\n",
    "            if flag_all_atmark:\n",
    "                cssplits_replaced[idx][i] = \"N\"\n",
    "            elif cssplits_sampling_key[key]:\n",
    "                cssplits_replaced[idx][i] = random.choice(cssplits_sampling_key[key])\n",
    "            else:\n",
    "                cssplits_replaced[idx][i] = random.choice(cssplits_sampling_all)\n",
    "    for cs in cssplits_replaced:\n",
    "        if cs[0] == \"@\":\n",
    "            cs[0] = \"N\"\n",
    "        if cs[-1] == \"@\":\n",
    "            cs[-1] = \"N\"\n",
    "    return cssplits_replaced\n",
    "\n",
    "###############################################################################\n",
    "# main\n",
    "###############################################################################\n",
    "\n",
    "\n",
    "def execute(TEMPDIR: Path, FASTA_ALLELES: dict[str, str], CONTROL_NAME: str, SAMPLE_NAME: str) -> None:\n",
    "    for allele, sequence in FASTA_ALLELES.items():\n",
    "        midsv_sample = midsv.read_jsonl((Path(TEMPDIR, \"midsv\", f\"{SAMPLE_NAME}_splice_{allele}.jsonl\")))\n",
    "        midsv_control = midsv.read_jsonl((Path(TEMPDIR, \"midsv\", f\"{CONTROL_NAME}_splice_{allele}.jsonl\")))\n",
    "        cssplits_sample = [cs[\"CSSPLIT\"].split(\",\") for cs in midsv_sample]\n",
    "        cssplits_control = [cs[\"CSSPLIT\"].split(\",\") for cs in midsv_control]\n",
    "        # Extract mutation loci\n",
    "        mutation_loci = _extract(cssplits_sample, cssplits_control)\n",
    "        # Correct sequence errors\n",
    "        cssplits_sample_atmark = _replace_errors_to_atmark(cssplits_sample, mutation_loci)\n",
    "        cssplits_control_atmark = _replace_errors_to_atmark(cssplits_control, mutation_loci)\n",
    "        cssplits_sample_atmark_replaced = _replace_atmark(cssplits_sample_atmark, sequence)\n",
    "        cssplits_control_atmark_replaced = _replace_atmark(cssplits_control_atmark, sequence)\n",
    "        # Replace CSSPLIT\n",
    "        cssplits_sample_corrected = [\",\".join(cs) for cs in cssplits_sample_atmark_replaced]\n",
    "        cssplits_control_corrected = [\",\".join(cs) for cs in cssplits_control_atmark_replaced]\n",
    "        for i, cssplits in enumerate(cssplits_sample_corrected):\n",
    "            midsv_sample[i][\"CSSPLIT\"] = cssplits\n",
    "        for i, cssplits in enumerate(cssplits_control_corrected):\n",
    "            midsv_control[i][\"CSSPLIT\"] = cssplits\n",
    "        midsv.write_jsonl(midsv_sample, Path(TEMPDIR, \"midsv\", f\"{SAMPLE_NAME}_splice_{allele}.jsonl\"))\n",
    "        midsv.write_jsonl(midsv_control, Path(TEMPDIR, \"midsv\", f\"{CONTROL_NAME}_splice_{allele}.jsonl\"))\n",
    "\n",
    "\n",
    "# def _set_indexes(sequence: str):\n",
    "#     sequence_length = len(sequence)\n",
    "#     num_subset = sequence_length % 5\n",
    "#     left_idx = 0\n",
    "#     right_idx = sequence_length\n",
    "#     if num_subset == 1:\n",
    "#         left_idx += 1\n",
    "#     elif num_subset == 2:\n",
    "#         left_idx += 1\n",
    "#         right_idx -= 1\n",
    "#     elif num_subset == 3:\n",
    "#         left_idx += 2\n",
    "#         right_idx -= 1\n",
    "#     elif num_subset == 4:\n",
    "#         left_idx += 2\n",
    "#         right_idx -= 2\n",
    "#     return left_idx, right_idx\n",
    "\n",
    "\n",
    "# def _count_5mer_indels(cssplits: list[list[str]], left_idx: int, right_idx: int) -> list[dict]:\n",
    "#     transposed = [list(t) for t in zip(*cssplits)]\n",
    "#     count_5mer = []\n",
    "#     for i in range(left_idx, right_idx, 5):\n",
    "#         count = {\"ins\": [1] * 5, \"del\": [1] * 5, \"sub\": [1] * 5}\n",
    "#         cssplits_5mer = transposed[i : i + 5]\n",
    "#         for j, cs in enumerate(cssplits_5mer):\n",
    "#             counter = Counter(cs)\n",
    "#             for key, cnt in counter.items():\n",
    "#                 if key.startswith(\"=\") or key == \"N\" or re.search(r\"a|c|g|t|n\", key):\n",
    "#                     continue\n",
    "#                 if key.startswith(\"+\"):\n",
    "#                     count[\"ins\"][j] += cnt\n",
    "#                 elif key.startswith(\"-\"):\n",
    "#                     count[\"del\"][j] += cnt\n",
    "#                 elif key.startswith(\"*\"):\n",
    "#                     count[\"sub\"][j] += cnt\n",
    "#         count_5mer.append(count)\n",
    "#     return count_5mer\n",
    "\n",
    "\n",
    "# def _remove_minor_indels(cssplits: list[list[str]], count_5mer: list[dict]) -> list[dict]:\n",
    "#     coverage = len(cssplits)\n",
    "#     count_5mer_filtered = []\n",
    "#     for count in count_5mer:\n",
    "#         dict_mutation = defaultdict(list)\n",
    "#         for mutation in [\"ins\", \"del\", \"sub\"]:\n",
    "#             if all(True if c < coverage * 0.01 else False for c in count[mutation]):\n",
    "#                 dict_mutation[mutation] = [1] * 5\n",
    "#             else:\n",
    "#                 dict_mutation[mutation] = count[mutation]\n",
    "#         count_5mer_filtered.append(dict_mutation)\n",
    "#     return count_5mer_filtered\n",
    "\n",
    "\n",
    "# def _extract_sequence_errors(count_5mer_sample, count_5mer_control):\n",
    "#     sequence_errors = [set() for _ in range(len(count_5mer_sample))]\n",
    "#     dists = defaultdict(list)\n",
    "#     # Calculate Jensen-Shannon distance\n",
    "#     for samp, cont in zip(count_5mer_sample, count_5mer_control):\n",
    "#         for mutation in [\"ins\", \"del\", \"sub\"]:\n",
    "#             s = samp[mutation]\n",
    "#             c = cont[mutation]\n",
    "#             dists[mutation].append(distance.jensenshannon(s, c))\n",
    "#     # Discrimitate seq errors and real mutation using Hotelling's T-squared distribution\n",
    "#     dists_all = np.array(list(dists.values())).flatten()\n",
    "#     avg = np.average(dists_all[~np.isnan(dists_all)])\n",
    "#     var = np.var(dists_all[~np.isnan(dists_all)])\n",
    "#     threshold = 0.05\n",
    "#     for mutation in [\"ins\", \"del\", \"sub\"]:\n",
    "#         dists_subset = dists[mutation]\n",
    "#         scores = [(xi - avg) ** 2 / var for xi in dists_subset]\n",
    "#         thres = stats.chi2.interval(1 - threshold, 1)[1]\n",
    "#         for i, score in enumerate(scores):\n",
    "#             # 'nan' means the two distributions have too different, so it could be a real mutation\n",
    "#             if np.isnan(score):\n",
    "#                 continue\n",
    "#             if score < thres:\n",
    "#                 sequence_errors[i].add(mutation)\n",
    "#     return sequence_errors\n",
    "\n",
    "\n",
    "# def _replace_errors_to_atmark(cssplits_sample, sequence_errors, left_idx, right_idx):\n",
    "#     cssplits_replaced = []\n",
    "#     for samp in cssplits_sample:\n",
    "#         samp_replaced = samp.copy()\n",
    "#         for idx_error, idx_5mer in enumerate(range(left_idx, right_idx, 5)):\n",
    "#             samp_5mer = samp[idx_5mer : idx_5mer + 5]\n",
    "#             error = sequence_errors[idx_error]\n",
    "#             if \"ins\" in error:\n",
    "#                 samp_5mer = [\"@\" if cs.startswith(\"+\") else cs for cs in samp_5mer]\n",
    "#             if \"del\" in error:\n",
    "#                 samp_5mer = [\"@\" if cs.startswith(\"-\") else cs for cs in samp_5mer]\n",
    "#             if \"sub\" in error:\n",
    "#                 samp_5mer = [\"@\" if cs.startswith(\"*\") else cs for cs in samp_5mer]\n",
    "#             samp_replaced[idx_5mer : idx_5mer + 5] = samp_5mer\n",
    "#         cssplits_replaced.append(samp_replaced)\n",
    "#     return cssplits_replaced\n",
    "\n",
    "\n",
    "# def _replace_atmark(cssplits: list[list[str]], sequence: str) -> list[list[str]]:\n",
    "#     random.seed(1)\n",
    "#     cssplits_replaced = cssplits.copy()\n",
    "#     sequence_length = len(sequence)\n",
    "#     for i in range(1, sequence_length - 1):\n",
    "#         cssplits_atmark = defaultdict(str)\n",
    "#         cssplits_sampling_key = defaultdict(list)\n",
    "#         cssplits_sampling_all = []\n",
    "#         flag_all_atmark = True\n",
    "#         for idx, cssplit in enumerate(cssplits):\n",
    "#             key = \",\".join([cssplit[i - 1], cssplit[i + 1]])\n",
    "#             if cssplit[i] == \"@\":\n",
    "#                 cssplits_atmark[idx] = key\n",
    "#             else:\n",
    "#                 cssplits_sampling_key[key].append(cssplit[i])\n",
    "#                 cssplits_sampling_all.append(cssplit[i])\n",
    "#                 flag_all_atmark = False\n",
    "#         for idx, key in cssplits_atmark.items():\n",
    "#             if flag_all_atmark:\n",
    "#                 cssplits_replaced[idx][i] = \"N\"\n",
    "#             elif cssplits_sampling_key[key]:\n",
    "#                 cssplits_replaced[idx][i] = random.choice(cssplits_sampling_key[key])\n",
    "#             else:\n",
    "#                 cssplits_replaced[idx][i] = random.choice(cssplits_sampling_all)\n",
    "#     for cs in cssplits_replaced:\n",
    "#         if cs[0] == \"@\":\n",
    "#             cs[0] = \"N\"\n",
    "#         if cs[-1] == \"@\":\n",
    "#             cs[-1] = \"N\"\n",
    "#     return cssplits_replaced\n",
    "\n",
    "\n",
    "# ###############################################################################\n",
    "# # main\n",
    "# ###############################################################################\n",
    "\n",
    "\n",
    "# def execute(TEMPDIR: Path, FASTA_ALLELES: dict[str, str], CONTROL_NAME: str, SAMPLE_NAME: str) -> None:\n",
    "#     for allele, sequence in FASTA_ALLELES.items():\n",
    "#         midsv_sample = midsv.read_jsonl((Path(TEMPDIR, \"midsv\", f\"{SAMPLE_NAME}_splice_{allele}.jsonl\")))\n",
    "#         midsv_control = midsv.read_jsonl((Path(TEMPDIR, \"midsv\", f\"{CONTROL_NAME}_splice_{allele}.jsonl\")))\n",
    "#         cssplits_sample = [cs[\"CSSPLIT\"].split(\",\") for cs in midsv_sample]\n",
    "#         cssplits_control = [cs[\"CSSPLIT\"].split(\",\") for cs in midsv_control]\n",
    "#         # Extract sequence errors\n",
    "#         left_idx, right_idx = _set_indexes(sequence)\n",
    "#         count_5mer_sample = _count_5mer_indels(cssplits_sample, left_idx, right_idx)\n",
    "#         count_5mer_control = _count_5mer_indels(cssplits_control, left_idx, right_idx)\n",
    "#         count_5mer_sample = _remove_minor_indels(cssplits_sample, count_5mer_sample)\n",
    "#         count_5mer_control = _remove_minor_indels(cssplits_control, count_5mer_control)\n",
    "#         sequence_errors = _extract_sequence_errors(count_5mer_sample, count_5mer_control)\n",
    "#         # Correct sequence errors\n",
    "#         cssplits_sample_error_replaced = _replace_errors_to_atmark(cssplits_sample, sequence_errors, left_idx, right_idx)\n",
    "#         cssplits_control_error_replaced = _replace_errors_to_atmark(\n",
    "#             cssplits_control, sequence_errors, left_idx, right_idx\n",
    "#         )\n",
    "#         cssplits_sample_atmark_replaced = _replace_atmark(cssplits_sample_error_replaced, sequence)\n",
    "#         cssplits_control_atmark_replaced = _replace_atmark(cssplits_control_error_replaced, sequence)\n",
    "#         # Replace CSSPLIT\n",
    "#         cssplits_sample_corrected = [\",\".join(cs) for cs in cssplits_sample_atmark_replaced]\n",
    "#         cssplits_control_corrected = [\",\".join(cs) for cs in cssplits_control_atmark_replaced]\n",
    "#         for i, cssplits in enumerate(cssplits_sample_corrected):\n",
    "#             midsv_sample[i][\"CSSPLIT\"] = cssplits\n",
    "#         for i, cssplits in enumerate(cssplits_control_corrected):\n",
    "#             midsv_control[i][\"CSSPLIT\"] = cssplits\n",
    "#         midsv.write_jsonl(midsv_sample, Path(TEMPDIR, \"midsv\", f\"{SAMPLE_NAME}_splice_{allele}.jsonl\"))\n",
    "#         midsv.write_jsonl(midsv_control, Path(TEMPDIR, \"midsv\", f\"{CONTROL_NAME}_splice_{allele}.jsonl\"))\n"
   ]
  },
  {
   "cell_type": "code",
   "execution_count": 569,
   "metadata": {},
   "outputs": [],
   "source": [
    "indels_sample = _count_indels(cssplits_sample)\n",
    "indels_control = _count_indels(cssplits_control)\n",
    "indels_sample = _remove_minor_indels(indels_sample, len(cssplits_sample))\n",
    "indels_control = _remove_minor_indels(indels_control, len(cssplits_control))\n",
    "# anomaly at single locus\n",
    "mutation_locus_single = {}\n",
    "# score_sample = _score_anomaly(indels_sample[key])\n",
    "# score_control = _score_anomaly(indels_control[key])\n",
    "loci_sample = _extract_anomaly_loci(indels_sample)\n",
    "loci_control = _extract_anomaly_loci(indels_control)\n",
    "for key in [\"ins\", \"del\", \"sub\"]:\n",
    "    mutation_locus_single.update({key: loci_sample[key] - loci_control[key]})\n",
    "# Difference of anomaly within kmers\n",
    "x = _split_kmer(indels_sample, kmer = 10)\n",
    "y = _split_kmer(indels_control, kmer = 10)\n",
    "dists = _calc_distance(x, y)\n",
    "loci_sample = _extract_anomaly_loci(dists)\n",
    "mutation_locus_kmer = {}\n",
    "for key in [\"ins\", \"del\", \"sub\"]:\n",
    "    # score_sample = _score_anomaly(dists[key])\n",
    "    mutation_locus_kmer.update({key: loci_sample[key]})\n",
    "# Output\n",
    "results = {}\n",
    "for key in [\"ins\", \"del\", \"sub\"]:\n",
    "    results.update({key: mutation_locus_single[key] & mutation_locus_kmer[key]})\n"
   ]
  },
  {
   "cell_type": "code",
   "execution_count": 572,
   "metadata": {},
   "outputs": [
    {
     "data": {
      "text/plain": [
       "{1731}"
      ]
     },
     "execution_count": 572,
     "metadata": {},
     "output_type": "execute_result"
    }
   ],
   "source": [
    "results[\"ins\"] & {1731}"
   ]
  },
  {
   "cell_type": "markdown",
   "metadata": {},
   "source": [
    "- 確認"
   ]
  },
  {
   "cell_type": "code",
   "execution_count": 573,
   "metadata": {},
   "outputs": [],
   "source": [
    "midsv_sample = midsv.read_jsonl((Path(TEMPDIR, \"midsv\", f\"{SAMPLE_NAME}_splice_{allele}.jsonl\")))\n",
    "midsv_control = midsv.read_jsonl((Path(TEMPDIR, \"midsv\", f\"{CONTROL_NAME}_splice_{allele}.jsonl\")))\n",
    "cssplits_sample = [cs[\"CSSPLIT\"].split(\",\") for cs in midsv_sample]\n",
    "cssplits_control = [cs[\"CSSPLIT\"].split(\",\") for cs in midsv_control]\n",
    "# Extract mutation loci\n",
    "mutation_loci = _extract(cssplits_sample, cssplits_control)\n",
    "# Correct sequence errors\n",
    "cssplits_sample_atmark = _replace_errors_to_atmark(cssplits_sample, mutation_loci)\n",
    "cssplits_control_atmark = _replace_errors_to_atmark(cssplits_control, mutation_loci)\n",
    "cssplits_sample_atmark_replaced = _replace_atmark(cssplits_sample_atmark, sequence)\n",
    "cssplits_control_atmark_replaced = _replace_atmark(cssplits_control_atmark, sequence)\n"
   ]
  },
  {
   "cell_type": "code",
   "execution_count": 574,
   "metadata": {},
   "outputs": [
    {
     "name": "stdout",
     "output_type": "stream",
     "text": [
      "idx_right_loxp 1732 +T|+T|+C|+C|+A|+A|+C|+A|+T|+A|+A|+C|+T|+G|+C|+A|+T|+A|+T|+A|+C|+A|+T|+T|+A|+T|+A|+A|+T|+G|+A|+A|+G|+T|+T|+A|+T|+G|+G|+C|+G|+C|+G|+C|=C\n",
      "idx_right_loxp 2396 +T|*CG\n",
      "idx_no_loxp 1732 +T|+A|+T|+G|+G|+C|+G|+C|+G|+C|=C\n",
      "idx_left_loxp 2381 +C|+G|+C|+G|+C|+C|+A|+A|+T|+T|+C|+G|+A|+T|+A|+T|+C|+A|+A|+G|+C|+T|+A|+T|+A|+A|+C|+T|+G|+G|+T|+A|+T|+A|+G|+C|+A|+T|+A|+C|+A|+T|+T|+A|+T|+A|+C|+G|+A|+A|+G|+T|+T|+A|+T|+G|+C|+G|+G|+C|+C|=C\n",
      "idx_both_loxp 1731 +T|+C|+A|+A|+A|+C|+A|+T|+A|+A|+C|+T|+T|+C|+G|+T|+A|+T|+A|+G|+C|+A|+T|+A|+C|+A|+T|+T|+A|+T|+A|+C|+G|+A|+A|+G|+T|+T|+A|+T|+G|+G|+C|+G|+C|+G|+C|+C|=T\n",
      "idx_both_loxp 2381 +C|+G|+C|+C|+A|+A|+T|+T|+C|+G|+A|+T|+A|+T|+C|+A|+A|+G|+C|+T|+A|+T|+A|+A|+C|+T|+T|+C|+G|+T|+A|+T|+A|+G|+C|+A|+T|+A|+C|+A|+T|+G|+A|+G|+T|+A|+C|+G|+A|+A|+G|+C|+T|+A|+T|+G|+C|+G|+G|+C|+C|=C\n"
     ]
    }
   ],
   "source": [
    "for idx, loxp in idx_loxps.items():\n",
    "    for i,cs in enumerate(cssplits_sample_atmark_replaced[idx]):\n",
    "        if cs.startswith(\"+\"):\n",
    "            print(loxp, i, cs)"
   ]
  },
  {
   "cell_type": "code",
   "execution_count": 576,
   "metadata": {},
   "outputs": [
    {
     "name": "stdout",
     "output_type": "stream",
     "text": [
      "-C\n"
     ]
    }
   ],
   "source": [
    "samp = midsv_sample[idx_no_loxp]\n",
    "print(samp[\"CSSPLIT\"].split(\",\")[1732])"
   ]
  },
  {
   "attachments": {},
   "cell_type": "markdown",
   "metadata": {},
   "source": [
    "- 存在しない挿入塩基を付与してしまっています\n",
    "    - `idx_no_loxp 1732 +T|+A|+T|+G|+G|+C|+G|+C|+G|+C|=C`\n",
    "- これは`N`に置き換えて、クラスタリングのときのスコアをOにすればOKそうですが…"
   ]
  },
  {
   "cell_type": "markdown",
   "metadata": {},
   "source": [
    "# 👉👉👉 いまここ 👈👈👈"
   ]
  },
  {
   "attachments": {},
   "cell_type": "markdown",
   "metadata": {},
   "source": []
  },
  {
   "attachments": {},
   "cell_type": "markdown",
   "metadata": {},
   "source": [
    "# 👌👌👌 まとめ 👌👌👌\n"
   ]
  },
  {
   "attachments": {},
   "cell_type": "markdown",
   "metadata": {},
   "source": [
    "- 長くなってきたので一旦ここでまとめます\n",
    "\n",
    "- 挿入塩基をFASTAにする作業の前に、以下の内容に取り組みました\n",
    "    - `correct_sequence_error`において、真の変異である可能性の高い変異を抽出するアルゴリズムを更新しました\n",
    "        - まず各塩基に対して異常なMIDSを呈している塩基を抽出\n",
    "        - つぎにその塩基の周辺配列を比較\n",
    "    - 異常なスコアの判定は`IsolationForest`で行っています\n",
    "        - Hottelingでは極端に大きいピークがある場合に分散が大きくなりすぎてほとんど正常と判定されていまう問題がありました\n",
    "        - LOFではなぜか明らかなスコアのピークを異常として検知してくれませんでした\n",
    "    - よく動いているように思いますが、以下の改善点があります\n",
    "        - `_replace_atmark`で、存在しない挿入塩基を付与してしまっています\n",
    "            - これは`N`に置き換えていいように思います\n",
    "            - いまはclusteringの`extract_mutation_loci`には変異形態（\"ins\", \"del\", \"sub\"）が反映されていない\n",
    "            - **preprocessingで用いた`_extract`をそのまま利用する形でOK**"
   ]
  },
  {
   "attachments": {},
   "cell_type": "markdown",
   "metadata": {},
   "source": [
    "# 次に取り組むこと"
   ]
  },
  {
   "attachments": {},
   "cell_type": "markdown",
   "metadata": {},
   "source": [
    "- 現状のアルゴリズムの動作確認をTyr, Stx2, Floxで行う\n",
    "- mutation_lociをpreprocessで使用したものに変更する\n",
    "\n",
    "### Lists\n",
    "\n",
    "+ ⬜ Insertionのなかにある変異を同定する手法を考案する\n",
    "+ ⬜ Ayabe-taks1のright_loxpがいまいちな理由を考察する\n",
    "+ ✅ 断端リードの扱いをどうするべきか\n",
    "+ ✅ `SV`の判定をconsensus callのあとにする\n",
    "> + ⬜ `preprocess.correct_sequence_error.replace_atmark`のコードがわかりにくい\n",
    "    + テストを用意してリファクタリングする"
   ]
  },
  {
   "cell_type": "markdown",
   "metadata": {},
   "source": []
  }
 ],
 "metadata": {
  "kernelspec": {
   "display_name": "DAJIN2",
   "language": "python",
   "name": "python3"
  },
  "language_info": {
   "codemirror_mode": {
    "name": "ipython",
    "version": 3
   },
   "file_extension": ".py",
   "mimetype": "text/x-python",
   "name": "python",
   "nbconvert_exporter": "python",
   "pygments_lexer": "ipython3",
   "version": "3.10.6"
  },
  "orig_nbformat": 4,
  "vscode": {
   "interpreter": {
    "hash": "58e3ac748e2e63e6aff7f855a7cc6c53d89e428d446591c0d70cbd0714d60e27"
   }
  }
 },
 "nbformat": 4,
 "nbformat_minor": 2
}
