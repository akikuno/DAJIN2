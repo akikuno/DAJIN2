{
 "cells": [
  {
   "attachments": {},
   "cell_type": "markdown",
   "metadata": {},
   "source": [
    "# 取り組み"
   ]
  },
  {
   "attachments": {},
   "cell_type": "markdown",
   "metadata": {},
   "source": [
    "構造多型を反映したVCFを出力する"
   ]
  },
  {
   "cell_type": "code",
   "execution_count": 1,
   "metadata": {},
   "outputs": [
    {
     "name": "stdout",
     "output_type": "stream",
     "text": [
      "/mnt/d/Research/DAJIN2\n"
     ]
    }
   ],
   "source": [
    "# ルートディレクトリをPathに含めるおまじない\n",
    "import sys, os\n",
    "from pathlib import Path\n",
    "if os.getcwd() != \"/mnt/d/Research/DAJIN2\":\n",
    "    parent_path = str(Path(os.path.dirname(os.path.abspath(\"__file__\"))).parent.parent)\n",
    "    sys.path.append(parent_path)\n",
    "    os.chdir(parent_path)\n",
    "print(os.getcwd())"
   ]
  },
  {
   "attachments": {},
   "cell_type": "markdown",
   "metadata": {},
   "source": [
    "# 実験"
   ]
  },
  {
   "cell_type": "code",
   "execution_count": 3,
   "metadata": {},
   "outputs": [
    {
     "name": "stderr",
     "output_type": "stream",
     "text": [
      "Traceback (most recent call last):\n",
      "  File \"/mnt/d/Research/DAJIN2/misc/quickstart.py\", line 177, in <module>\n",
      "    clust_sample = clustering.add_labels(classif_sample, TEMPDIR, CONTROL_NAME, FASTA_ALLELES, THREADS)\n",
      "  File \"/mnt/d/Research/DAJIN2/src/DAJIN2/core/clustering/clustering.py\", line 24, in add_labels\n",
      "    knockin_alleles = extract_knockin_loci(TEMPDIR)\n",
      "  File \"/mnt/d/Research/DAJIN2/src/DAJIN2/core/preprocess/correct_knockin.py\", line 26, in extract_knockin_loci\n",
      "    fasta_alleles = list(Path(TEMPDIR, \"fasta\").iterdir())\n",
      "  File \"/home/kuno/miniconda/lib/python3.10/pathlib.py\", line 1017, in iterdir\n",
      "    for name in self._accessor.listdir(self):\n",
      "FileNotFoundError: [Errno 2] No such file or directory: 'DAJINResults/.tempdir/test-stx2-deletion/fasta'\n",
      "\n",
      "real\t0m15.971s\n",
      "user\t0m8.421s\n",
      "sys\t0m2.306s\n"
     ]
    },
    {
     "name": "stdout",
     "output_type": "stream",
     "text": [
      "processing test-stx2-deletion...\n"
     ]
    }
   ],
   "source": [
    "%%bash\n",
    "# stx2 deletion\n",
    "# time python misc/quickstart.py"
   ]
  },
  {
   "cell_type": "code",
   "execution_count": 3,
   "metadata": {},
   "outputs": [],
   "source": [
    "import pysam"
   ]
  },
  {
   "cell_type": "code",
   "execution_count": 4,
   "metadata": {},
   "outputs": [
    {
     "name": "stdout",
     "output_type": "stream",
     "text": [
      "['AlignedRead', 'AlignedSegment', 'AlignmentFile', 'AlignmentHeader', 'BCFIndex', 'BCFIterator', 'BGZFile', 'BaseIndex', 'BaseIterator', 'BedProxy', 'CBACK', 'CDEL', 'CDIFF', 'CEQUAL', 'CHARD_CLIP', 'CINS', 'CMATCH', 'CPAD', 'CREF_SKIP', 'CSOFT_CLIP', 'FDUP', 'FMREVERSE', 'FMUNMAP', 'FPAIRED', 'FPROPER_PAIR', 'FQCFAIL', 'FREAD1', 'FREAD2', 'FREVERSE', 'FSECONDARY', 'FSUPPLEMENTARY', 'FUNMAP', 'FastaFile', 'Fastafile', 'FastqFile', 'FastqProxy', 'FastxFile', 'FastxRecord', 'GFF3Proxy', 'GTFProxy', 'GZIterator', 'GZIteratorHead', 'HFile', 'HTSFile', 'IndexedReads', 'IteratorColumn', 'IteratorRow', 'KEY_NAMES', 'NamedTupleProxy', 'Pileup', 'PileupColumn', 'PileupRead', 'Samfile', 'SamtoolsError', 'TabixFile', 'TabixIndex', 'TabixIterator', 'Tabixfile', 'TupleProxy', 'VCF', 'VCFProxy', 'VCFRecord', 'VariantContig', 'VariantFile', 'VariantHeader', 'VariantHeaderContigs', 'VariantHeaderMetadata', 'VariantHeaderRecord', 'VariantHeaderRecords', 'VariantHeaderSamples', 'VariantMetadata', 'VariantRecord', 'VariantRecordFilter', 'VariantRecordFormat', 'VariantRecordInfo', 'VariantRecordSample', 'VariantRecordSamples', '__all__', '__builtins__', '__cached__', '__doc__', '__file__', '__loader__', '__name__', '__package__', '__path__', '__samtools_version__', '__spec__', '__version__', 'addreplacerg', 'ampliconclip', 'ampliconstats', 'array_to_qualitystring', 'asBed', 'asGFF3', 'asGTF', 'asTuple', 'asVCF', 'bam2fq', 'bamshuf', 'bedcov', 'calmd', 'cat', 'collate', 'config', 'consensus', 'coverage', 'depad', 'depth', 'dict', 'faidx', 'fasta', 'fastq', 'fixmate', 'flags', 'flagstat', 'fqidx', 'fqimport', 'get_defines', 'get_encoding_error_handler', 'get_include', 'get_libraries', 'get_verbosity', 'head', 'idxstats', 'index', 'libcalignedsegment', 'libcalignmentfile', 'libcbcf', 'libcbcftools', 'libcbgzf', 'libcfaidx', 'libchtslib', 'libcsamfile', 'libcsamtools', 'libctabix', 'libctabixproxies', 'libcutils', 'libcvcf', 'markdup', 'merge', 'mpileup', 'os', 'pad2unpad', 'phase', 'py_bcftools', 'py_samtools', 'pysam', 'qualities_to_qualitystring', 'qualitystring_to_array', 'quickcheck', 'reheader', 'rmdup', 'samples', 'samtools', 'set_encoding_error_handler', 'set_verbosity', 'sort', 'split', 'stats', 'sysconfig', 'tabix_compress', 'tabix_file_iterator', 'tabix_generic_iterator', 'tabix_index', 'tabix_iterator', 'targetcut', 'tview', 'utils', 'version', 'view']\n"
     ]
    }
   ],
   "source": [
    "print(dir(pysam))"
   ]
  },
  {
   "cell_type": "code",
   "execution_count": 2,
   "metadata": {},
   "outputs": [
    {
     "name": "stdout",
     "output_type": "stream",
     "text": [
      "processing test-stx2-deletion...\n"
     ]
    }
   ],
   "source": [
    "from __future__ import annotations\n",
    "\n",
    "import sys, os\n",
    "from pathlib import Path\n",
    "\n",
    "sys.path.append(\"/mnt/d/Research/DAJIN2\")\n",
    "os.chdir(\"/mnt/d/Research/DAJIN2\")\n",
    "\n",
    "import hashlib\n",
    "from collections import defaultdict\n",
    "from pathlib import Path\n",
    "from importlib import reload\n",
    "\n",
    "from src.DAJIN2.core import preprocess, classification, clustering, consensus, report\n",
    "from src.DAJIN2.core.clustering import clustering\n",
    "\n",
    "#### #* 2-cut deletion\n",
    "SAMPLE, CONTROL, ALLELE, NAME, GENOME, DEBUG, THREADS = (\n",
    "    \"examples/del-stx2/barcode25.fq.gz\",\n",
    "    \"examples/del-stx2/barcode30.fq.gz\",\n",
    "    \"examples/del-stx2/design_stx2.fa\",\n",
    "    \"test-stx2-deletion\",\n",
    "    \"mm10\",\n",
    "    True,\n",
    "    14,\n",
    ")\n",
    "\n",
    "print(f\"processing {NAME}...\")"
   ]
  },
  {
   "cell_type": "code",
   "execution_count": 3,
   "metadata": {},
   "outputs": [],
   "source": [
    "##########################################################\n",
    "# Check inputs\n",
    "##########################################################\n",
    "preprocess.check_inputs.check_files(SAMPLE, CONTROL, ALLELE)\n",
    "TEMPDIR = Path(\"DAJINResults\", \".tempdir\", NAME)\n",
    "IS_CACHE_CONTROL = preprocess.check_inputs.exists_cached_control(CONTROL, TEMPDIR)\n",
    "IS_CACHE_GENOME = preprocess.check_inputs.exists_cached_genome(GENOME, TEMPDIR, IS_CACHE_CONTROL)\n",
    "UCSC_URL, GOLDENPATH_URL = None, None\n",
    "if GENOME and not IS_CACHE_GENOME:\n",
    "    UCSC_URL, GOLDENPATH_URL = preprocess.check_inputs.check_and_fetch_genome(GENOME)\n",
    "\n",
    "##########################################################\n",
    "# Format inputs\n",
    "##########################################################\n",
    "SAMPLE_NAME = preprocess.format_inputs.extract_basename(SAMPLE)\n",
    "CONTROL_NAME = preprocess.format_inputs.extract_basename(CONTROL)\n",
    "FASTA_ALLELES = preprocess.format_inputs.dictionize_allele(ALLELE)\n",
    "\n",
    "preprocess.format_inputs.make_directories(TEMPDIR, SAMPLE_NAME, CONTROL_NAME)\n",
    "\n",
    "if GENOME:\n",
    "    GENOME_COODINATES = preprocess.format_inputs.fetch_coodinate(GENOME, UCSC_URL, FASTA_ALLELES[\"control\"])\n",
    "    CHROME_SIZE = preprocess.format_inputs.fetch_chrom_size(GENOME_COODINATES[\"chr\"], GENOME, GOLDENPATH_URL)\n",
    "    preprocess.format_inputs.cache_coodinates_and_chromsize(TEMPDIR, GENOME, GENOME_COODINATES, CHROME_SIZE)"
   ]
  },
  {
   "cell_type": "code",
   "execution_count": 7,
   "metadata": {},
   "outputs": [],
   "source": [
    "ref_fasta = \"DAJINResults/.tempdir/test-stx2-deletion/fasta/control.fasta\"\n",
    "query_bam = \"DAJINResults/.tempdir/test-stx2-deletion/report/BAM/barcode25/barcode25_allele1_target_sv_35.971%.bam\"\n",
    "# pysam.mpileup(\"-f\", f\"{ref_fasta}\", \"-s\", f\"{query_bam}\", \"-o\", \"tmp_test.bcf\")\n",
    "# 30分たっても終わらなかった…"
   ]
  },
  {
   "attachments": {},
   "cell_type": "markdown",
   "metadata": {},
   "source": [
    "## pysam.mpileupは時間がかかりすぎて使えない -> 自作する\n"
   ]
  },
  {
   "cell_type": "code",
   "execution_count": 8,
   "metadata": {},
   "outputs": [],
   "source": [
    "########################################################################\n",
    "# Classify alleles\n",
    "########################################################################\n",
    "\n",
    "classif_sample = classification.classify_alleles(TEMPDIR, SAMPLE_NAME)\n",
    "\n",
    "for classif in classif_sample:\n",
    "    classif[\"SV\"] = classification.detect_sv(classif[\"CSSPLIT\"], threshold=50)\n"
   ]
  },
  {
   "cell_type": "code",
   "execution_count": 11,
   "metadata": {},
   "outputs": [],
   "source": [
    "########################################################################\n",
    "# Clustering\n",
    "########################################################################\n",
    "\n",
    "clust_sample = clustering.add_labels(classif_sample, TEMPDIR, CONTROL_NAME, FASTA_ALLELES, THREADS)\n",
    "clust_sample = clustering.add_readnum(clust_sample)\n",
    "clust_sample = clustering.add_percent(clust_sample)\n",
    "clust_sample = clustering.update_labels(clust_sample)\n"
   ]
  },
  {
   "cell_type": "code",
   "execution_count": 12,
   "metadata": {},
   "outputs": [],
   "source": [
    "########################################################################\n",
    "# Consensus call\n",
    "########################################################################\n",
    "\n",
    "RESULT_SAMPLE, cons_percentage, cons_sequence = consensus.call(clust_sample, FASTA_ALLELES)\n"
   ]
  },
  {
   "cell_type": "code",
   "execution_count": 13,
   "metadata": {},
   "outputs": [
    {
     "name": "stdout",
     "output_type": "stream",
     "text": [
      "defaultdict(<class 'int'>, {'allele1_target_sv_35.971%': 1459, 'allele2_target_sv_31.903%': 1294, 'allele3_target_sv_31.681%': 1285, 'allele4_control_sv_0.197%': 8, 'allele5_target_mutated_0.173%': 7, 'allele6_control_mutated_0.049%': 2, 'allele7_inversion_sv_0.025%': 1})\n"
     ]
    }
   ],
   "source": [
    "count = defaultdict(int)\n",
    "for res in RESULT_SAMPLE:\n",
    "    count[res[\"NAME\"]] += 1\n",
    "\n",
    "print(count)"
   ]
  },
  {
   "attachments": {},
   "cell_type": "markdown",
   "metadata": {},
   "source": [
    "## 連続同一塩基に対して、Nが置換されている\n",
    "- コンセンサス配列を見ると`NNNNTTTTTNNN`となっていた。本来はすべてNであるのに、おそらくは`correct_revititive_deletions`のときにTに置き換わっている\n",
    "- `correct_revititive_deletions`をなくすとどうなるか？"
   ]
  },
  {
   "cell_type": "markdown",
   "metadata": {},
   "source": []
  },
  {
   "cell_type": "code",
   "execution_count": null,
   "metadata": {},
   "outputs": [],
   "source": [
    "################################################################################\n",
    "# Export fasta files as single-FASTA format\n",
    "################################################################################\n",
    "for identifier, sequence in FASTA_ALLELES.items():\n",
    "    contents = \"\\n\".join([\">\" + identifier, sequence]) + \"\\n\"\n",
    "    output_fasta = Path(TEMPDIR, \"fasta\", f\"{identifier}.fasta\")\n",
    "    output_fasta.write_text(contents)\n",
    "###############################################################################\n",
    "# Mapping with mappy\n",
    "###############################################################################\n",
    "for path_fasta in Path(TEMPDIR, \"fasta\").glob(\"*.fasta\"):\n",
    "    name_fasta = path_fasta.stem\n",
    "    preprocess.mappy_align.output_sam(TEMPDIR, path_fasta, name_fasta, CONTROL, CONTROL_NAME, threads=THREADS)\n",
    "    preprocess.mappy_align.output_sam(TEMPDIR, path_fasta, name_fasta, SAMPLE, SAMPLE_NAME, threads=THREADS)\n",
    "    preprocess.mappy_align.output_sam(\n",
    "        TEMPDIR, path_fasta, name_fasta, CONTROL, CONTROL_NAME, preset=\"splice\", threads=THREADS\n",
    "    )\n",
    "    preprocess.mappy_align.output_sam(\n",
    "        TEMPDIR, path_fasta, name_fasta, SAMPLE, SAMPLE_NAME, preset=\"splice\", threads=THREADS\n",
    "    )\n",
    "########################################################################\n",
    "# MIDSV conversion\n",
    "########################################################################\n",
    "for path_sam in Path(TEMPDIR, \"sam\").glob(f\"{CONTROL_NAME}_splice_*\"):\n",
    "    preprocess.calc_midsv.output_midsv(TEMPDIR, path_sam)\n",
    "for path_sam in Path(TEMPDIR, \"sam\").glob(f\"{SAMPLE_NAME}_splice_*\"):\n",
    "    preprocess.calc_midsv.output_midsv(TEMPDIR, path_sam)\n",
    "###############################################################################\n",
    "# Correct CSSPLITS\n",
    "###############################################################################\n",
    "# preprocess.correct_revititive_deletions.execute(TEMPDIR, FASTA_ALLELES, CONTROL_NAME, SAMPLE_NAME)\n",
    "preprocess.correct_sequence_error.execute(TEMPDIR, FASTA_ALLELES, CONTROL_NAME, SAMPLE_NAME)\n",
    "preprocess.correct_knockin.execute(TEMPDIR, FASTA_ALLELES, CONTROL_NAME, SAMPLE_NAME)"
   ]
  },
  {
   "cell_type": "code",
   "execution_count": 10,
   "metadata": {},
   "outputs": [],
   "source": [
    "import midsv\n",
    "midsv_sample = midsv.read_jsonl(\"DAJINResults/.tempdir/test-stx2-deletion/midsv/barcode25_splice_control.jsonl\")"
   ]
  },
  {
   "cell_type": "code",
   "execution_count": 11,
   "metadata": {},
   "outputs": [
    {
     "name": "stdout",
     "output_type": "stream",
     "text": [
      "N,N,N,=C,=C,=A,=G,=G,=G,=T,=G,=T,=C,=T,=C,=A,=T,=A,=G,=T,=G,=T,=T,=T,=G,=A,=A,=G,=G,=C,=T,=C,=C,=T,=A,=A,=A,=T,=T,=G,=C,=C,=C,=A,=G,=T,=G,=T,=T,=C,=A,=G,=C,=T,=G,=G,=G,=G,=A,=A,=A,=G,=A,=C,=C,=A,=T,=C,=A,=G,=C,=T,=A,=G,=G,=C,=A,=G,=G,=A,=T,=C,=C,=A,=A,=A,=G,=G,=A,=T,=A,=A,=T,=G,=A,=G,=T,=G,=T,=G,=C,=C,=C,=C,=A,=T,=G,=G,=G,=A,=C,=T,=C,=T,=G,=G,=C,=T,=T,=A,=G,=C,=C,=G,=C,=A,=G,=C,=T,=C,=T,=A,=C,=C,=C,=T,=A,=A,=G,=C,=C,=C,=A,=C,=A,=G,=T,=T,=G,=A,=G,=G,=G,=G,=T,=A,=G,=T,=G,=G,=A,=T,=C,=T,=T,=G,=T,=G,=T,=T,=T,=G,=A,=G,=G,=A,=C,=A,=T,=T,=A,=A,=C,=A,=A,=C,=A,=G,=G,=C,=T,=G,=A,=T,=T,=G,=G,=G,=A,=A,=A,=G,=T,=A,=G,=T,=G,=G,=T,=T,=G,=C,=T,=T,=G,=A,=T,=G,=G,=A,=G,=T,=T,=G,=G,=G,=C,=T,=A,=G,=C,=G,=A,=T,=G,=G,=A,=G,=G,=T,=G,=A,=G,=T,=G,=A,=G,=T,=C,=T,=G,=G,=A,=G,=G,=C,=C,=A,=G,=T,=T,=G,=T,=G,=T,=G,=C,=C,=G,=C,=A,=T,=A,=C,=T,=A,=A,=C,=A,=G,=A,=G,=G,=A,=G,=T,=A,=A,=G,=C,=A,=C,=C,=A,=G,=C,=T,=A,=G,=A,=T,=T,=T,=T,=C,=A,=T,=T,=T,=C,=C,=T,=T,=A,=G,=G,=A,=T,=A,=T,=C,=T,=T,=T,=C,=T,=A,=A,=A,=T,=C,=T,=C,=A,=G,=C,=T,=C,=T,=T,=T,=T,=T,=A,=G,=A,=A,=A,=T,=G,=T,=T,=A,=A,=A,=T,=G,=C,=C,=T,=T,=T,=G,=T,=T,=T,=A,=G,=A,=A,=A,=C,=T,=T,=T,=G,=A,=A,=T,=G,=T,=T,=G,=G,=C,=T,=G,=C,=C,=A,=C,=T,=T,=A,=C,=A,=T,=T,=A,=A,=A,=A,=A,=A,=A,=A,=A,=A,=A,=A,=A,=A,=A,=A,=A,=A,=A,=A,=C,=C,=T,=G,=G,=A,=A,=A,=C,=T,=A,=A,=G,=A,=C,=A,=G,=T,=G,=T,=C,=T,=G,=G,=T,=C,=A,=C,=T,=C,=C,=C,=A,=C,=A,=C,=A,=T,=C,=A,=G,=T,=T,=A,=C,=T,=G,=T,=G,=G,=A,=G,=C,=A,=G,=C,=T,=T,=G,=C,=T,=C,=A,=C,=C,=T,=G,=T,=G,=C,=T,=C,=A,=C,=T,=C,=C,=A,=C,=T,=G,=C,=C,=C,=T,=C,=A,=A,=G,=G,=A,=G,=C,=T,=A,=A,=T,=C,=T,=G,=C,=C,=T,=G,=T,=C,=T,=G,=C,=T,=G,=G,=C,=T,=G,=C,=A,=T,=A,=T,=T,=C,=T,=G,=C,=T,=T,=C,=C,=T,=C,=C,=T,=G,=G,=G,=G,=A,=G,=T,=C,=T,=C,=A,=T,=A,=G,=G,=G,=T,=C,=T,=C,=T,=G,=A,=G,=A,=T,=C,=A,=C,=A,=C,=T,=G,=T,=T,=T,=C,=T,=G,=G,=T,=C,=A,=C,=A,=C,=T,=G,=G,=G,=G,=T,=T,=T,=T,=G,=T,=A,=A,=G,=G,=C,=C,=T,=C,=C,=C,=T,=T,=A,=C,=A,=T,=C,=T,=G,=C,=C,=A,=G,=G,=T,=T,=C,=C,=A,=G,=T,=T,=T,=G,=C,=T,=T,=C,=A,=C,=C,=T,=C,=A,=T,=T,=G,=G,=G,=T,=G,=T,=T,=T,=T,=A,=A,=T,=G,=A,=C,=A,=T,=C,=A,=C,=A,=T,=C,=A,=G,=A,=T,=G,=G,=C,=A,=A,=G,=A,=A,=A,=G,=A,=C,=T,=C,=T,=G,=G,=G,=T,=G,=G,=A,=G,=T,=C,=C,=C,=C,=C,=A,=G,=A,=A,=T,=C,=T,=C,=C,=A,=T,=A,=G,=A,=T,=G,=C,=C,=A,=T,=A,=G,=A,=G,=G,=T,=A,=T,=A,=G,=A,=C,=A,=T,=G,=G,=C,=A,=G,=T,=G,=G,=A,=C,=T,=G,=C,=T,=G,=C,=T,=G,=T,=C,=A,=G,=T,=T,=A,=G,=C,=T,=G,=C,=A,=G,=C,=C,=A,=G,=T,=G,=A,=C,=C,=T,=T,=T,=T,=A,=C,=C,=C,=C,=G,=A,=G,=A,=A,=T,=G,=G,=C,=T,=G,=G,=G,=G,=C,=A,=C,=C,=A,=A,=A,=G,=T,=T,=G,=G,=C,=T,=C,=T,=G,=A,=A,=G,=G,=T,=C,=T,=A,=G,=A,=G,=C,=C,=A,=G,=G,=T,=C,=T,=C,=C,=A,=G,=G,=A,=G,=G,=G,=T,=G,=A,=C,=A,=T,=G,=C,=G,=T,=G,=G,=T,=A,=T,=G,=T,=C,=T,=G,=A,=T,=G,=G,=A,=G,=C,=A,=A,=C,=A,=G,=G,=G,=A,=C,=C,=A,=G,=G,=A,=A,=G,=A,=C,=A,=G,=C,=G,=A,=C,=A,=G,=C,=A,=G,=A,=A,=G,=G,=G,=A,=C,=T,=T,=C,=T,=G,=G,=C,=A,=G,=C,=T,=T,=C,=T,=T,=C,=C,=T,=G,=G,=G,=T,=G,=T,=G,=G,=T,=T,=G,=C,=A,=T,=G,=T,=A,=C,=T,=C,=T,=G,=T,=G,=T,=C,=C,=C,=A,=G,=T,=G,=A,=A,=G,=G,=T,=T,=A,=G,=C,=A,=T,=C,=A,=G,=A,=G,=A,=T,=C,=T,=G,=A,=T,=T,=G,=G,=G,=G,=T,=G,=A,=G,=C,=C,=T,=G,=C,=A,=G,=T,=G,=C,=T,=G,=G,=C,=T,=C,=A,=C,=C,=C,=C,=A,=G,=C,=T,=G,=T,=G,=T,=C,=T,=G,=G,=T,=A,=A,=C,=A,=C,=A,=G,=T,=T,=C,=G,=G,=G,=G,=T,=C,=T,=A,=C,=C,=A,=G,=G,=A,=G,=C,=T,=G,=G,=C,=C,=C,=G,=G,=A,=C,=A,=C,=G,=G,=C,=A,=C,=T,=G,=G,=T,=G,=G,=C,=T,=G,=G,=G,=G,=A,=G,=G,=T,=G,=A,=A,=C,=T,=T,=G,=G,=A,=C,=A,=G,=G,=C,=A,=C,=T,=G,=A,=G,=A,=A,=A,=A,=G,=A,=A,=G,=G,=C,=T,=G,=G,=T,=T,=G,=C,=T,=C,=C,=T,=T,=C,=T,=C,=T,=G,=T,=G,=C,=T,=T,=G,=G,=C,=C,=T,=G,=C,=A,=T,=G,=C,=C,=T,=G,=T,=A,=T,=C,=T,=G,=T,=A,=G,=T,=G,=T,=A,=A,=A,=G,=T,=G,=G,=T,=C,=C,=A,=T,=C,=T,=C,=A,=C,=A,=T,=G,=C,=T,=T,=C,=A,=T,=T,=T,=C,=C,=C,=C,=C,=T,=T,=T,=T,=A,=A,=A,=G,=A,=A,=A,=T,=A,=A,=A,=A,=G,=A,=A,=G,=A,=G,=C,=T,=G,=G,=A,=G,=G,=A,=C,=C,=T,=G,=A,=A,=C,=A,=A,=A,=G,=A,=G,=A,=T,=C,=A,=A,=G,=A,=A,=A,=A,=C,=T,=G,=C,=T,=A,=A,=C,=A,=G,=G,=A,=T,=C,=C,=G,=G,=G,=G,=C,=A,=A,=G,=C,=T,=G,=A,=A,=G,=T,=G,=T,=A,=A,=G,=T,=T,=T,=G,=C,=C,=T,=T,=C,=T,=T,=G,=G,=G,=T,=G,=C,=T,=G,=G,=T,=G,=G,=G,=G,=T,=G,=T,=G,=G,=A,=A,=G,=T,=T,=G,=G,=T,=A,=C,=C,=T,=T,=T,=T,=T,=C,=C,=T,=T,=A,=G,=A,=G,=T,=T,=T,=T,=A,=T,=T,=A,=T,=T,=A,=T,=A,=T,=T,=T,=C,=C,=C,=A,=A,=A,=A,=T,=G,=A,=A,=A,=A,=T,=T,=G,=A,=G,=A,=C,=T,=G,=C,=T,=T,=C,=T,=A,=A,=G,=T,=A,=G,=G,=T,=T,=G,=G,=T,=T,=A,=T,=C,=T,=G,=T,=A,=A,=T,=C,=C,=C,=G,=T,=G,=C,=T,=A,=T,=A,=T,=C,=T,=C,=A,=T,=T,=G,=T,=G,=A,=C,=T,=C,=A,=G,=T,=A,=G,=G,=T,=G,=A,=C,=A,=T,=T,=G,=G,=G,=C,=A,=G,=G,=T,=G,=T,=T,=T,=G,=A,=G,=A,=A,=A,=G,=T,=G,=G,=G,=G,=A,=T,=A,=G,=C,=T,=T,=T,=C,=C,=T,=A,=G,=T,=G,=A,=C,=T,=C,=G,=C,=C,=A,=A,=G,=C,=T,=C,=T,=C,=A,=G,=G,=C,=G,=G,=G,=C,=C,=T,=C,=T,=T,=A,=G,=C,=T,=A,=G,=A,=A,=T,=G,=T,=T,=C,=T,=T,=T,=C,=C,=A,=G,=C,=C,=C,=C,=T,=A,=G,=A,=A,=G,=C,=T,=C,=A,=G,=C,=T,=G,=A,=G,=A,=T,=C,=A,=T,=G,=G,=T,=C,=C,=T,=C,=T,=G,=T,=G,=T,=T,=C,=A,=G,=G,=A,=T,=G,=A,=C,=G,=C,=C,=T,=T,=G,=G,=C,=T,=G,=G,=G,=T,=T,=G,=A,=G,=G,=G,=T,=T,=G,=T,=G,=G,=C,=T,=T,=T,=T,=T,=G,=C,=A,=C,=A,=G,=T,=G,=C,=T,=T,=A,=A,=A,=C,=A,=G,=A,=A,=G,=T,=T,=G,=C,=T,=T,=T,=C,=C,=T,=T,=G,=A,=T,=C,=T,=G,=T,=G,=A,=G,=G,=A,=A,=G,=A,=C,=A,=T,=A,=T,=G,=T,=T,=T,=A,=A,=C,=T,=T,=T,=T,=T,=T,=A,=T,=T,=T,=T,=T,=T,=T,=C,=T,=G,=A,=G,=A,=C,=A,=G,=G,=G,=T,=T,=T,=C,=T,=C,=T,=G,=T,=G,=T,=A,=G,=C,=C,=C,=T,=G,=G,=C,=T,=G,=T,=C,=C,=T,=A,=G,=A,=A,=C,=T,=C,=A,=C,=T,=T,=T,=G,=T,=A,=G,=A,=C,=C,=A,=A,=G,=T,=T,=G,=G,=C,=C,=T,=C,=G,=A,=A,=C,=T,=C,=A,=G,=A,=A,=A,=T,=C,=C,=G,=C,=C,=T,=G,=C,=C,=T,=C,=T,=G,=C,=C,=T,=C,=C,=C,=G,=A,=G,=T,=G,=C,=T,=G,=G,=G,=A,=T,=T,=A,=A,=A,=G,=G,=C,=A,=T,=G,=C,=T,=C,=C,=A,=C,=C,=A,=C,=T,=G,=C,=C,=C,=A,=G,=C,=T,=G,=A,=C,=A,=T,=G,=T,=G,=T,=T,=T,=T,=A,=A,=C,=T,=T,=A,=C,=A,=G,=A,=G,=A,=C,=A,=C,=A,=T,=C,=A,=A,=A,=A,=G,=G,=A,=A,=T,=A,=A,=A,=T,=C,=T,=C,=A,=T,=C,=T,=C,=C,=G,=C,=A,=C,=A,=T,=A,=C,=C,=C,=T,=C,=T,=C,=C,=T,=C,=A,=G,=G,=A,=A,=C,=A,=G,=T,=G,=A,=C,=T,=C,=C,=C,=A,=G,=G,=T,=A,=G,=C,=A,=G,=G,=C,=A,=C,=T,=C,=T,=G,=C,=C,=C,=A,=G,=A,=T,=C,=C,=T,=A,=G,=T,=A,=G,=G,=C,=T,=C,=C,=T,=G,=G,=C,=A,=C,=T,=C,=C,=T,=C,=A,=C,=T,=G,=G,=G,=C,=T,=C,=A,=A,=G,=G,=C,=A,=G,=A,=C,=C,=T,=T,=A,=G,=A,=G,=A,=G,=T,=G,=T,=G,=C,=A,=C,=C,=T,=T,=A,=A,=A,=A,=A,=C,=A,=G,=C,=G,=T,=T,=G,=T,=T,=C,=C,=C,=A,=A,=G,=A,=G,N,N,N,N,N,N,N,N,N,N,N,N,N,N,N,N,N,N,N,N,N,N,N,N,N,N,N,N,N,N,N,N,N,N,N,N,N,N,N,N,N,N,N,N,N,N,N,N,N,N,N,N,N,N,N,N,N,N,N,N,N,N,N,N,N,N,N,N,N,N,N,N,N,N,N,N,N,N,N,N,N,N,N,N,N,N,N,N,N,N,N,N,N,N,N,N,N,N,N,N,N,N,N,N,N,N,N,N,N,N,N,N,N,N,N,N,N,N,N,N,N,N,N,N,N,N,N,N,N,N,N,N,N,N,N,N,N,N,N,N,N,N,N,N,N,N,N,N,N,N,N,N,N,N,N,N,N,N,N,N,N,N,N,N,N,N,N,N,N,N,N,N,N,N,N,N,N,N,N,N,N,N,N,N,N,N,N,N,N,N,N,N,N,N,N,N,N,N,N,N,N,N,N,N,N,N,N,N,N,N,N,N,N,N,N,N,N,N,N,N,N,N,N,N,N,N,N,N,N,N,N,N,N,N,N,N,N,N,N,N,N,N,N,N,N,N,N,N,N,N,N,N,N,N,N,N,N,N,N,N,N,N,N,N,N,N,N,N,N,N,N,N,N,N,N,N,N,N,N,N,N,N,N,N,N,N,N,N,N,N,N,N,N,N,N,N,N,N,N,N,N,N,N,N,N,N,N,N,N,N,N,N,N,N,N,N,N,N,N,N,N,N,N,N,N,N,N,N,N,N,N,N,N,N,N,N,N,N,N,N,N,N,N,N,N,N,N,N,N,N,N,N,N,N,N,N,N,N,N,N,N,N,N,N,N,N,N,N,N,N,N,N,N,N,N,N,N,N,N,N,N,N,N,N,N,N,N,N,N,N,N,N,N,N,N,N,N,N,N,N,N,N,N,N,N,N,N,N,N,N,N,N,N,N,N,N,N,N,N,N,N,N,N,N,N,N,N,N,N,N,N,N,N,N,N,N,N,N,N,N,N,N,N,N,N,N,N,N,N,N,N,N,N,N,N,N,N,N,N,N,N,N,N,N,N,N,N,N,N,N,N,N,N,N,N,N,N,N,N,N,N,N,N,N,N,N,N,N,N,N,N,N,N,N,N,N,N,N,N,N,N,N,N,N,N,N,N,N,N,N,N,N,N,N,N,N,N,N,N,N,N,N,N,N,N,N,N,N,N,N,N,N,N,N,N,N,N,N,N,N,N,N,N,N,N,N,N,N,N,N,N,N,N,N,N,N,N,N,N,N,N,N,N,N,N,N,N,N,N,N,N,N,N,N,N,N,N,N,N,N,N,N,N,N,N,N,N,N,N,N,N,N,N,N,N,N,N,N,N,N,N,N,N,N,N,N,N,N,N,N,N,N,N,N,N,N,N,N,N,N,N,N,N,N,N,N,N,N,N,N,N,N,N,N,N,N,N,N,N,N,N,N,N,N,N,N,N,N,N,N,N,N,N,N,N,N,N,N,N,N,N,N,N,N,N,N,N,N,N,N,N,N,N,N,N,N,N,N,N,N,N,N,N,N,N,N,N,N,N,N,N,N,N,N,N,N,N,N,N,N,N,N,N,N,N,N,N,N,N,N,N,N,N,N,N,N,N,N,N,N,N,N,N,N,N,N,N,N,N,N,N,N,N,N,N,N,N,N,N,N,N,N,N,N,N,N,N,N,N,N,N,N,N,N,N,N,N,N,N,N,N,N,N,N,N,N,N,N,N,N,N,N,N,N,N,N,N,N,N,N,N,N,N,N,N,N,N,N,N,N,N,N,N,N,N,N,N,N,N,N,N,N,N,N,N,N,N,N,N,N,N,N,N,N,N,N,N,N,N,N,N,N,N,N,N,N,N,N,N,N,N,N,N,N,N,N,N,N,N,N,N,N,N,N,N,N,N,N,N,N,N,N,N,N,N,N,N,N,N,N,N,N,N,N,N,N,N,N,N,N,N,N,N,N,N,N,N,N,N,N,N,N,N,N,N,N,N,N,N,N,N,N,N,N,N,N,N,N,N,N,N,N,N,N,N,N,N,N,N,N,N,N,N,N,N,N,N,N,N,N,N,N,N,N,N,N,N,N,N,N,N,N,N,N,N,N,N,N,N,N,N,N,N,N,N,N,N,N,N,N,N,N,N,N,N,N,N,N,N,N,N,N,N,N,N,N,N,N,N,N,N,N,N,N,N,N,N,N,N,N,N,N,N,N,N,N,N,N,=A,=T,=C,=C,=C,=A,=T,=T,=A,=C,=A,=G,=A,=T,=G,=G,=T,=T,=G,=T,=G,=A,=G,=C,=C,=A,=C,=C,=A,=T,=G,=T,=G,=G,=T,=T,=T,=G,=C,=T,=G,=G,=G,=A,=A,=T,=T,=G,=A,=A,=C,=T,=C,=A,=G,=G,=T,=C,=C,=T,=C,=T,=G,=G,=A,=A,=C,=A,=G,=C,=A,=G,=T,=C,=C,=A,=T,=G,=C,=T,=C,=T,=T,=A,=A,=C,=C,=A,=C,=T,=G,=A,=G,=C,=C,=A,=T,=C,=T,=C,=T,=C,=T,=A,=G,=C,=T,=G,=G,=G,=T,=T,=T,=T,=C,=A,=A,=C,=C,=T,=T,=C,=C,=T,=A,=A,=T,=G,=C,=T,=G,=T,=G,=A,=C,=C,=C,=T,=T,=T,=A,=A,=T,=A,=T,=A,=T,=A,=G,=T,=T,=T,=C,=T,=C,=A,=T,=G,=T,=T,=G,=T,=A,=A,=T,=G,=A,=C,=C,=C,=C,=A,=A,=T,=C,=A,=T,=A,=A,=T,=A,=T,=T,=A,=T,=C,=T,=T,=C,=A,=T,=T,=G,=C,=T,=A,=C,=T,=T,=T,=A,=T,=A,=A,=C,=T,=G,=T,=A,=A,=C,=T,=T,=T,=G,=C,=T,=T,=G,=T,=T,=A,=T,=G,=A,=A,=T,=T,=G,=T,=A,=A,=T,=A,=T,=A,=A,=A,=T,=G,=T,=C,=T,=G,=A,=C,=A,=T,=G,=C,=A,=G,=G,=A,=T,=A,=T,=C,=T,=G,=C,=T,=A,=T,=T,=T,=G,=A,=C,=C,=C,=C,=A,=A,=A,=G,=T,=G,=G,=T,=T,=G,=T,=T,=A,=C,=C,=A,=A,=A,=A,=G,=C,=C,=T,=T,=A,=A,=C,=T,=A,=T,=T,=A,=G,=C,=C,=T,=T,=A,=A,=C,=T,=A,=T,=T,=C,=A,=G,=G,=G,=T,=T,=T,=A,=T,=G,=G,=T,=T,=G,=A,=A,=A,=C,=T,=G,=G,=G,=A,=T,=G,=C,=T,=C,=A,=A,=C,=C,=C,=T,=G,=T,=T,=T,=G,=A,=C,=C,=A,=A,=G,=C,=C,=T,=G,=C,=C,=A,=G,=C,=T,=T,=A,=G,=G,=G,=C,=A,=G,=G,=C,=A,=G,=T,=C,=C,=A,=C,=G,=T,=G,=C,=C,=T,=G,=C,=C,=A,=G,=C,=T,=G,=G,=A,=T,=T,=C,=A,=A,=C,=C,=T,=G,=T,=G,=A,=T,=A,=A,=C,=G,=C,=C,=C,=T,=C,=C,=C,=T,=C,=T,=A,=G,=A,=G,=G,=T,=C,=A,=G,=C,=T,=G,=G,=C,=T,=G,=C,=T,=C,=C,=G,=G,=G,=C,=T,=C,=C,=A,=A,=C,=T,=T,=A,=T,=T,=T,=G,=T,=T,=G,=T,=T,=G,=T,=T,=A,=T,=T,=G,=G,=T,=G,=A,=T,=G,=G,=T,=G,=G,=T,=A,=T,=T,=T,=T,=G,=T,=T,=T,=T,=G,=T,=T,=G,=A,=G,=C,=C,=A,=G,=A,=A,=T,=C,=T,=T,=A,=C,=T,=C,=T,=G,=T,=A,=T,=C,=C,=C,=T,=G,=G,=C,=T,=G,=G,=C,=C,=T,=G,=G,=A,=G,=T,=G,=A,=G,=C,=T,=T,=G,=T,=T,=A,=C,=A,=T,=A,=G,=A,=C,=C,=A,=G,=G,=T,=C,=G,=A,=C,=C,=T,=T,=G,=A,=A,=C,=T,=C,=A,=C,=A,=G,=A,=G,=A,=T,=T,=T,=A,=T,=T,=T,=C,=C,=C,=T,=C,=T,=C,=C,=C,=T,=C,=T,=G,=T,=A,=T,=T,=G,=G,=A,=A,=T,=T,=G,=A,=A,=G,=G,=C,=A,=T,=G,=C,=G,=C,=C,=A,=C,=C,=G,=T,=C,=C,=T,=G,=G,=T,=G,=G,=C,=C,=C,=A,=G,=G,=T,=C,=A,=T,=G,=C,=A,=C,=C,=T,=C,=C,=C,=A,=T,=T,=G,=C,=C,=G,=C,=T,=C,=T,=T,=T,=C,=T,=C,=T,=T,=A,=C,=T,=T,=T,=C,=T,=T,=C,=T,=G,=G,=G,=A,=T,=G,=G,=A,=G,=T,=C,=A,=T,=G,=G,=T,=T,=G,=G,=G,=G,=C,=T,=T,=C,=T,=T,=A,=G,=T,=C,=G,=T,=C,=A,=G,=T,=T,=T,=T,=A,=C,=C,=T,=C,=T,=T,=T,=C,=A,=A,=A,=G,=G,=A,=A,=G,=G,=G,=G,=T,=T,=G,=C,=C,=C,=C,=C,=A,=C,=A,=T,=A,=G,=T,=A,=A,=C,=A,=C,=G,=G,=T,=A,=T,=T,=C,=T,=C,=C,=G,=T,=G,=T,=T,=C,=T,=A,=G,=C,=A,=C,=T,=C,=G,=G,=T,=G,=C,=T,=G,=T,=C,=A,=C,=G,=G,=A,=A,=G,=T,=T,=T,=G,=T,=G,=G,=A,=C,=G,=T,=C,=A,=T,=G,=A,=C,=A,=G,=A,=A,=T,=A,=C,=A,=A,=T,=G,=A,=A,=G,=C,=G,=C,=A,=G,=A,=T,=C,=C,=T,=G,=T,=T,=C,=C,=G,=G,=G,=A,=G,=C,=G,=A,=A,=G,=C,=A,=A,=A,=G,=G,=C,=C,=G,=C,=A,=T,=C,=C,=A,=G,=C,=G,=C,=C,=A,=G,=C,=T,=G,=G,=A,=G,=A,=T,=C,=A,=G,=T,=G,=A,=G,=T,=A,=G,=G,=G,=C,=G,=C,=A,=T,=G,=C,=G,=G,=G,=A,=G,=A,=C,=G,=T,=G,=C,=T,=T,=C,=A,=G,=G,=A,=C,=C,=C,=A,=T,=C,=A,=G,=A,=T,=G,=G,=C,=A,=A,=G,=C,=G,=C,=C,=C,=C,=A,=C,=T,=T,=C,=T,=A,=A,=C,=T,=G,=C,=A,=G,=A,=G,=T,=A,=A,=A,=C,=C,=G,=A,=A,=A,=G,=G,=C,=C,=C,=T,=T,=T,=G,=C,=T,=G,=C,=A,=G,=C,=C,=T,=G,=T,=G,=C,=C,=T,=A,=G,=A,=G,=T,=C,=A,=G,=G,=C,=A,=G,=A,=T,=G,=T,=G,=T,=T,=A,=T,=G,=T,=G,=T,=C,=G,=T,=A,=A,=G,=C,=T,=T,=C,=A,=G,=A,=G,=T,=T,=C,=T,=G,=A,=G,=T,=G,=C,=G,=G,=G,=G,=C,=T,=G,=T,=A,=G,=T,=G,=G,=C,=T,=T,=G,=C,=G,=A,=T,=T,=G,=C,=T,=G,=G,=T,=G,=C,=T,=G,=C,=T,=A,=T,=T,=T,=C,=A,=C,=G,=C,=A,=T,=C,=C,=C,=G,=A,=A,=A,=T,=C,=T,=T,=G,=T,=G,=G,=T,=C,=C,=T,=G,=A,=T,=T,=T,=C,=T,=T,=A,=A,=G,=G,=C,=A,=T,=T,=T,=T,=C,=G,=T,=G,=T,=C,=C,=T,=G,=C,=A,=G,=C,=T,=G,=C,=T,=C,=C,=T,=A,=C,=C,=T,=G,=G,=C,=T,=G,=G,=G,=A,=G,=A,=G,=G,=A,=T,=C,=A,=T,=C,=C,=T,=C,=A,=T,=G,=T,=G,=C,=C,=T,=C,=C,=T,=T,=C,=A,=G,=C,=T,=T,=A,=A,=C,=T,=C,=C,=C,=T,=C,=T,=G,=G,=C,=T,=A,=G,=A,=A,=G,=C,=C,=C,=T,=G,=T,=G,=G,=G,=A,=C,=C,=C,=G,=A,=G,=C,=A,=T,=A,=G,=C,=T,=G,=C,=T,=C,=C,=T,=C,=T,=G,=T,=A,=A,=C,=A,=C,=C,=A,=G,=G,=G,=T,=A,=G,=G,=G,=T,=T,=G,=T,=G,=A,=C,=A,=C,=A,=T,=T,=G,=C,=A,=T,=C,=A,=C,=A,=T,=T,=T,=C,=T,=G,=C,=C,=A,=C,=A,=T,=T,=A,=C,=T,=G,=T,=G,=T\n"
     ]
    }
   ],
   "source": [
    "print(midsv_sample[0][\"CSSPLIT\"])"
   ]
  },
  {
   "cell_type": "code",
   "execution_count": null,
   "metadata": {},
   "outputs": [
    {
     "name": "stdout",
     "output_type": "stream",
     "text": [
      "processing test-stx2-deletion...\n"
     ]
    },
    {
     "name": "stderr",
     "output_type": "stream",
     "text": [
      "Traceback (most recent call last):\n",
      "  File \"/mnt/d/Research/DAJIN2/misc/quickstart.py\", line 177, in <module>\n",
      "    clust_sample = clustering.add_labels(classif_sample, TEMPDIR, CONTROL_NAME, FASTA_ALLELES, THREADS)\n",
      "  File \"/mnt/d/Research/DAJIN2/src/DAJIN2/core/clustering/clustering.py\", line 37, in add_labels\n",
      "    scores_sample = annotate_score(cssplits_sample, mutation_score)\n",
      "  File \"/mnt/d/Research/DAJIN2/src/DAJIN2/core/clustering/annotate_score.py\", line 9, in annotate_score\n",
      "    if not mutation_score[i]:\n",
      "IndexError: list index out of range\n",
      "\n",
      "real\t0m59.511s\n",
      "user\t1m3.693s\n",
      "sys\t0m16.899s\n"
     ]
    },
    {
     "ename": "CalledProcessError",
     "evalue": "Command 'b'### stx2 deletion\\ntime python misc/quickstart.py\\n'' returned non-zero exit status 1.",
     "output_type": "error",
     "traceback": [
      "\u001b[0;31m---------------------------------------------------------------------------\u001b[0m",
      "\u001b[0;31mCalledProcessError\u001b[0m                        Traceback (most recent call last)",
      "\u001b[1;32m/mnt/d/Research/DAJIN2/misc/scripts/20230221-vcf.ipynb Cell 20\u001b[0m in \u001b[0;36m<cell line: 1>\u001b[0;34m()\u001b[0m\n\u001b[0;32m----> <a href='vscode-notebook-cell://wsl%2Bubuntu-20.04/mnt/d/Research/DAJIN2/misc/scripts/20230221-vcf.ipynb#X30sdnNjb2RlLXJlbW90ZQ%3D%3D?line=0'>1</a>\u001b[0m get_ipython()\u001b[39m.\u001b[39;49mrun_cell_magic(\u001b[39m'\u001b[39;49m\u001b[39mbash\u001b[39;49m\u001b[39m'\u001b[39;49m, \u001b[39m'\u001b[39;49m\u001b[39m'\u001b[39;49m, \u001b[39m'\u001b[39;49m\u001b[39m### stx2 deletion\u001b[39;49m\u001b[39m\\n\u001b[39;49;00m\u001b[39mtime python misc/quickstart.py\u001b[39;49m\u001b[39m\\n\u001b[39;49;00m\u001b[39m'\u001b[39;49m)\n",
      "File \u001b[0;32m~/miniconda/lib/python3.10/site-packages/IPython/core/interactiveshell.py:2357\u001b[0m, in \u001b[0;36mInteractiveShell.run_cell_magic\u001b[0;34m(self, magic_name, line, cell)\u001b[0m\n\u001b[1;32m   2355\u001b[0m \u001b[39mwith\u001b[39;00m \u001b[39mself\u001b[39m\u001b[39m.\u001b[39mbuiltin_trap:\n\u001b[1;32m   2356\u001b[0m     args \u001b[39m=\u001b[39m (magic_arg_s, cell)\n\u001b[0;32m-> 2357\u001b[0m     result \u001b[39m=\u001b[39m fn(\u001b[39m*\u001b[39;49margs, \u001b[39m*\u001b[39;49m\u001b[39m*\u001b[39;49mkwargs)\n\u001b[1;32m   2358\u001b[0m \u001b[39mreturn\u001b[39;00m result\n",
      "File \u001b[0;32m~/miniconda/lib/python3.10/site-packages/IPython/core/magics/script.py:153\u001b[0m, in \u001b[0;36mScriptMagics._make_script_magic.<locals>.named_script_magic\u001b[0;34m(line, cell)\u001b[0m\n\u001b[1;32m    151\u001b[0m \u001b[39melse\u001b[39;00m:\n\u001b[1;32m    152\u001b[0m     line \u001b[39m=\u001b[39m script\n\u001b[0;32m--> 153\u001b[0m \u001b[39mreturn\u001b[39;00m \u001b[39mself\u001b[39;49m\u001b[39m.\u001b[39;49mshebang(line, cell)\n",
      "File \u001b[0;32m~/miniconda/lib/python3.10/site-packages/IPython/core/magics/script.py:305\u001b[0m, in \u001b[0;36mScriptMagics.shebang\u001b[0;34m(self, line, cell)\u001b[0m\n\u001b[1;32m    300\u001b[0m \u001b[39mif\u001b[39;00m args\u001b[39m.\u001b[39mraise_error \u001b[39mand\u001b[39;00m p\u001b[39m.\u001b[39mreturncode \u001b[39m!=\u001b[39m \u001b[39m0\u001b[39m:\n\u001b[1;32m    301\u001b[0m     \u001b[39m# If we get here and p.returncode is still None, we must have\u001b[39;00m\n\u001b[1;32m    302\u001b[0m     \u001b[39m# killed it but not yet seen its return code. We don't wait for it,\u001b[39;00m\n\u001b[1;32m    303\u001b[0m     \u001b[39m# in case it's stuck in uninterruptible sleep. -9 = SIGKILL\u001b[39;00m\n\u001b[1;32m    304\u001b[0m     rc \u001b[39m=\u001b[39m p\u001b[39m.\u001b[39mreturncode \u001b[39mor\u001b[39;00m \u001b[39m-\u001b[39m\u001b[39m9\u001b[39m\n\u001b[0;32m--> 305\u001b[0m     \u001b[39mraise\u001b[39;00m CalledProcessError(rc, cell)\n",
      "\u001b[0;31mCalledProcessError\u001b[0m: Command 'b'### stx2 deletion\\ntime python misc/quickstart.py\\n'' returned non-zero exit status 1."
     ]
    }
   ],
   "source": [
    "%%bash\n",
    "### stx2 deletion\n",
    "time python misc/quickstart.py"
   ]
  },
  {
   "cell_type": "markdown",
   "metadata": {},
   "source": [
    "### なぜかエラー"
   ]
  },
  {
   "cell_type": "code",
   "execution_count": 13,
   "metadata": {},
   "outputs": [],
   "source": [
    "########################################################################\n",
    "# Classify alleles\n",
    "########################################################################\n",
    "\n",
    "classif_sample = classification.classify_alleles(TEMPDIR, SAMPLE_NAME)\n",
    "\n",
    "for classif in classif_sample:\n",
    "    classif[\"SV\"] = classification.detect_sv(classif[\"CSSPLIT\"], threshold=50)\n"
   ]
  },
  {
   "cell_type": "code",
   "execution_count": 14,
   "metadata": {},
   "outputs": [
    {
     "ename": "IndexError",
     "evalue": "list index out of range",
     "output_type": "error",
     "traceback": [
      "\u001b[0;31m---------------------------------------------------------------------------\u001b[0m",
      "\u001b[0;31mIndexError\u001b[0m                                Traceback (most recent call last)",
      "\u001b[1;32m/mnt/d/Research/DAJIN2/misc/scripts/20230221-vcf.ipynb Cell 22\u001b[0m in \u001b[0;36m<cell line: 5>\u001b[0;34m()\u001b[0m\n\u001b[1;32m      <a href='vscode-notebook-cell://wsl%2Bubuntu-20.04/mnt/d/Research/DAJIN2/misc/scripts/20230221-vcf.ipynb#X44sdnNjb2RlLXJlbW90ZQ%3D%3D?line=0'>1</a>\u001b[0m \u001b[39m########################################################################\u001b[39;00m\n\u001b[1;32m      <a href='vscode-notebook-cell://wsl%2Bubuntu-20.04/mnt/d/Research/DAJIN2/misc/scripts/20230221-vcf.ipynb#X44sdnNjb2RlLXJlbW90ZQ%3D%3D?line=1'>2</a>\u001b[0m \u001b[39m# Clustering\u001b[39;00m\n\u001b[1;32m      <a href='vscode-notebook-cell://wsl%2Bubuntu-20.04/mnt/d/Research/DAJIN2/misc/scripts/20230221-vcf.ipynb#X44sdnNjb2RlLXJlbW90ZQ%3D%3D?line=2'>3</a>\u001b[0m \u001b[39m########################################################################\u001b[39;00m\n\u001b[0;32m----> <a href='vscode-notebook-cell://wsl%2Bubuntu-20.04/mnt/d/Research/DAJIN2/misc/scripts/20230221-vcf.ipynb#X44sdnNjb2RlLXJlbW90ZQ%3D%3D?line=4'>5</a>\u001b[0m clust_sample \u001b[39m=\u001b[39m clustering\u001b[39m.\u001b[39;49madd_labels(classif_sample, TEMPDIR, CONTROL_NAME, FASTA_ALLELES, THREADS)\n\u001b[1;32m      <a href='vscode-notebook-cell://wsl%2Bubuntu-20.04/mnt/d/Research/DAJIN2/misc/scripts/20230221-vcf.ipynb#X44sdnNjb2RlLXJlbW90ZQ%3D%3D?line=5'>6</a>\u001b[0m clust_sample \u001b[39m=\u001b[39m clustering\u001b[39m.\u001b[39madd_readnum(clust_sample)\n\u001b[1;32m      <a href='vscode-notebook-cell://wsl%2Bubuntu-20.04/mnt/d/Research/DAJIN2/misc/scripts/20230221-vcf.ipynb#X44sdnNjb2RlLXJlbW90ZQ%3D%3D?line=6'>7</a>\u001b[0m clust_sample \u001b[39m=\u001b[39m clustering\u001b[39m.\u001b[39madd_percent(clust_sample)\n",
      "File \u001b[0;32m/mnt/d/Research/DAJIN2/src/DAJIN2/core/clustering/clustering.py:37\u001b[0m, in \u001b[0;36madd_labels\u001b[0;34m(classif_sample, TEMPDIR, CONTROL_NAME, FASTA_ALLELES, THREADS)\u001b[0m\n\u001b[1;32m     35\u001b[0m mutation_score \u001b[39m=\u001b[39m make_score(cssplits_control, cssplits_sample, knockin_alleles[allele])\n\u001b[1;32m     36\u001b[0m scores_control \u001b[39m=\u001b[39m annotate_score(cssplits_control, mutation_score)\n\u001b[0;32m---> 37\u001b[0m scores_sample \u001b[39m=\u001b[39m annotate_score(cssplits_sample, mutation_score)\n\u001b[1;32m     38\u001b[0m labels \u001b[39m=\u001b[39m return_labels(scores_sample, scores_control)\n\u001b[1;32m     39\u001b[0m labels_reorder \u001b[39m=\u001b[39m reorder_labels(labels, start\u001b[39m=\u001b[39mmax_label)\n",
      "File \u001b[0;32m/mnt/d/Research/DAJIN2/src/DAJIN2/core/clustering/annotate_score.py:9\u001b[0m, in \u001b[0;36mannotate_score\u001b[0;34m(cssplits, mutation_score)\u001b[0m\n\u001b[1;32m      7\u001b[0m score \u001b[39m=\u001b[39m [\u001b[39m0\u001b[39m]\n\u001b[1;32m      8\u001b[0m \u001b[39mfor\u001b[39;00m i \u001b[39min\u001b[39;00m \u001b[39mrange\u001b[39m(\u001b[39m1\u001b[39m, \u001b[39mlen\u001b[39m(cssplit) \u001b[39m-\u001b[39m \u001b[39m1\u001b[39m):\n\u001b[0;32m----> 9\u001b[0m     \u001b[39mif\u001b[39;00m \u001b[39mnot\u001b[39;00m mutation_score[i]:\n\u001b[1;32m     10\u001b[0m         score\u001b[39m.\u001b[39mappend(\u001b[39m0\u001b[39m)\n\u001b[1;32m     11\u001b[0m         \u001b[39mcontinue\u001b[39;00m\n",
      "\u001b[0;31mIndexError\u001b[0m: list index out of range"
     ]
    }
   ],
   "source": [
    "########################################################################\n",
    "# Clustering\n",
    "########################################################################\n",
    "\n",
    "clust_sample = clustering.add_labels(classif_sample, TEMPDIR, CONTROL_NAME, FASTA_ALLELES, THREADS)\n",
    "clust_sample = clustering.add_readnum(clust_sample)\n",
    "clust_sample = clustering.add_percent(clust_sample)\n",
    "clust_sample = clustering.update_labels(clust_sample)\n"
   ]
  },
  {
   "cell_type": "code",
   "execution_count": 15,
   "metadata": {},
   "outputs": [],
   "source": [
    "from __future__ import annotations\n",
    "from itertools import groupby\n",
    "from copy import deepcopy\n",
    "from collections import defaultdict\n",
    "from pathlib import Path\n",
    "import midsv\n",
    "\n",
    "from src.DAJIN2.core.preprocess.correct_knockin import extract_knockin_loci\n",
    "from src.DAJIN2.core.clustering.preprocess import replace_both_ends_n, compress_insertion\n",
    "from src.DAJIN2.core.clustering.make_score import make_score\n",
    "from src.DAJIN2.core.clustering.annotate_score import annotate_score\n",
    "from src.DAJIN2.core.clustering.reorder_labels import reorder_labels\n",
    "from src.DAJIN2.core.clustering.return_labels import return_labels\n",
    "\n",
    "\n",
    "def add_labels(classif_sample, TEMPDIR, CONTROL_NAME, FASTA_ALLELES: dict, THREADS: int = 1) -> list[dict[str]]:\n",
    "    paths_midsv = list(Path(TEMPDIR, \"midsv\").glob(f\"{CONTROL_NAME}_splice_*\"))\n",
    "    cssplits_control_by_alleles = defaultdict(list)\n",
    "    for path_midsv in paths_midsv:\n",
    "        midsv_control = midsv.read_jsonl(path_midsv)\n",
    "        allele = path_midsv.stem.split(\"_\")[-1]\n",
    "        cssplits = [cs[\"CSSPLIT\"].split(\",\") for cs in midsv_control]\n",
    "        cssplits_control_by_alleles[allele] = cssplits\n",
    "    knockin_alleles = extract_knockin_loci(TEMPDIR)\n",
    "    labels_all = []\n",
    "    max_label = 0\n",
    "    classif_sample.sort(key=lambda x: (x[\"ALLELE\"], x[\"SV\"]))\n",
    "    for (allele, _), group in groupby(classif_sample, key=lambda x: (x[\"ALLELE\"], x[\"SV\"])):\n",
    "        cssplits_control = cssplits_control_by_alleles[allele]\n",
    "        cssplits_sample = [cs[\"CSSPLIT\"].split(\",\") for cs in group]\n",
    "        cssplits_control = replace_both_ends_n(cssplits_control)\n",
    "        cssplits_sample = replace_both_ends_n(cssplits_sample)\n",
    "        cssplits_control = compress_insertion(cssplits_control)\n",
    "        cssplits_sample = compress_insertion(cssplits_sample)\n",
    "        mutation_score = make_score(cssplits_control, cssplits_sample, knockin_alleles[allele])\n",
    "        scores_control = annotate_score(cssplits_control, mutation_score)\n",
    "        scores_sample = annotate_score(cssplits_sample, mutation_score)\n",
    "        labels = return_labels(scores_sample, scores_control)\n",
    "        labels_reorder = reorder_labels(labels, start=max_label)\n",
    "        max_label = max(labels_reorder)\n",
    "        labels_all.extend(labels_reorder)\n",
    "    clust_sample = deepcopy(classif_sample)\n",
    "    for clust, label in zip(clust_sample, labels_all):\n",
    "        clust[\"LABEL\"] = label\n",
    "    return clust_sample\n",
    "\n",
    "\n",
    "def add_readnum(clust_sample: list[dict]) -> list[dict]:\n",
    "    clust_result = deepcopy(clust_sample)\n",
    "    readnum = defaultdict(int)\n",
    "    for cs in clust_result:\n",
    "        readnum[cs[\"LABEL\"]] += 1\n",
    "    for cs in clust_result:\n",
    "        cs[\"READNUM\"] = readnum[cs[\"LABEL\"]]\n",
    "    return clust_result\n",
    "\n",
    "\n",
    "def add_percent(clust_sample: list[dict]) -> list[dict]:\n",
    "    clust_result = deepcopy(clust_sample)\n",
    "    n_sample = len(clust_result)\n",
    "    percent = defaultdict(int)\n",
    "    for cs in clust_result:\n",
    "        percent[cs[\"LABEL\"]] += 1 / n_sample\n",
    "    percent = {key: round(val * 100, 3) for key, val in percent.items()}\n",
    "    for cs in clust_result:\n",
    "        cs[\"PERCENT\"] = percent[cs[\"LABEL\"]]\n",
    "    return clust_result\n",
    "\n",
    "\n",
    "def update_labels(clust_sample: list[dict]) -> list[dict]:\n",
    "    \"\"\"\n",
    "    Allocate new labels according to the ranking by PERCENT\n",
    "    \"\"\"\n",
    "    clust_result = deepcopy(clust_sample)\n",
    "    clust_result.sort(key=lambda x: (-x[\"PERCENT\"], x[\"LABEL\"]))\n",
    "    new_label = 1\n",
    "    prev_label = clust_result[0][\"LABEL\"]\n",
    "    for cs in clust_result:\n",
    "        if prev_label != cs[\"LABEL\"]:\n",
    "            new_label += 1\n",
    "        prev_label = cs[\"LABEL\"]\n",
    "        cs[\"LABEL\"] = new_label\n",
    "    return clust_result\n"
   ]
  },
  {
   "cell_type": "code",
   "execution_count": 16,
   "metadata": {},
   "outputs": [
    {
     "name": "stdout",
     "output_type": "stream",
     "text": [
      "control\n",
      "control\n",
      "inversion\n"
     ]
    },
    {
     "ename": "IndexError",
     "evalue": "list index out of range",
     "output_type": "error",
     "traceback": [
      "\u001b[0;31m---------------------------------------------------------------------------\u001b[0m",
      "\u001b[0;31mIndexError\u001b[0m                                Traceback (most recent call last)",
      "\u001b[1;32m/mnt/d/Research/DAJIN2/misc/scripts/20230221-vcf.ipynb Cell 24\u001b[0m in \u001b[0;36m<cell line: 12>\u001b[0;34m()\u001b[0m\n\u001b[1;32m     <a href='vscode-notebook-cell://wsl%2Bubuntu-20.04/mnt/d/Research/DAJIN2/misc/scripts/20230221-vcf.ipynb#X40sdnNjb2RlLXJlbW90ZQ%3D%3D?line=18'>19</a>\u001b[0m cssplits_sample \u001b[39m=\u001b[39m compress_insertion(cssplits_sample)\n\u001b[1;32m     <a href='vscode-notebook-cell://wsl%2Bubuntu-20.04/mnt/d/Research/DAJIN2/misc/scripts/20230221-vcf.ipynb#X40sdnNjb2RlLXJlbW90ZQ%3D%3D?line=19'>20</a>\u001b[0m mutation_score \u001b[39m=\u001b[39m make_score(cssplits_control, cssplits_sample, knockin_alleles[allele])\n\u001b[0;32m---> <a href='vscode-notebook-cell://wsl%2Bubuntu-20.04/mnt/d/Research/DAJIN2/misc/scripts/20230221-vcf.ipynb#X40sdnNjb2RlLXJlbW90ZQ%3D%3D?line=20'>21</a>\u001b[0m scores_control \u001b[39m=\u001b[39m annotate_score(cssplits_control, mutation_score)\n",
      "File \u001b[0;32m/mnt/d/Research/DAJIN2/src/DAJIN2/core/clustering/annotate_score.py:9\u001b[0m, in \u001b[0;36mannotate_score\u001b[0;34m(cssplits, mutation_score)\u001b[0m\n\u001b[1;32m      7\u001b[0m score \u001b[39m=\u001b[39m [\u001b[39m0\u001b[39m]\n\u001b[1;32m      8\u001b[0m \u001b[39mfor\u001b[39;00m i \u001b[39min\u001b[39;00m \u001b[39mrange\u001b[39m(\u001b[39m1\u001b[39m, \u001b[39mlen\u001b[39m(cssplit) \u001b[39m-\u001b[39m \u001b[39m1\u001b[39m):\n\u001b[0;32m----> 9\u001b[0m     \u001b[39mif\u001b[39;00m \u001b[39mnot\u001b[39;00m mutation_score[i]:\n\u001b[1;32m     10\u001b[0m         score\u001b[39m.\u001b[39mappend(\u001b[39m0\u001b[39m)\n\u001b[1;32m     11\u001b[0m         \u001b[39mcontinue\u001b[39;00m\n",
      "\u001b[0;31mIndexError\u001b[0m: list index out of range"
     ]
    }
   ],
   "source": [
    "paths_midsv = list(Path(TEMPDIR, \"midsv\").glob(f\"{CONTROL_NAME}_splice_*\"))\n",
    "cssplits_control_by_alleles = defaultdict(list)\n",
    "for path_midsv in paths_midsv:\n",
    "    midsv_control = midsv.read_jsonl(path_midsv)\n",
    "    allele = path_midsv.stem.split(\"_\")[-1]\n",
    "    cssplits = [cs[\"CSSPLIT\"].split(\",\") for cs in midsv_control]\n",
    "    cssplits_control_by_alleles[allele] = cssplits\n",
    "knockin_alleles = extract_knockin_loci(TEMPDIR)\n",
    "labels_all = []\n",
    "max_label = 0\n",
    "classif_sample.sort(key=lambda x: (x[\"ALLELE\"], x[\"SV\"]))\n",
    "for (allele, _), group in groupby(classif_sample, key=lambda x: (x[\"ALLELE\"], x[\"SV\"])):\n",
    "    print(allele)\n",
    "    cssplits_control = cssplits_control_by_alleles[allele]\n",
    "    cssplits_sample = [cs[\"CSSPLIT\"].split(\",\") for cs in group]\n",
    "    cssplits_control = replace_both_ends_n(cssplits_control)\n",
    "    cssplits_sample = replace_both_ends_n(cssplits_sample)\n",
    "    cssplits_control = compress_insertion(cssplits_control)\n",
    "    cssplits_sample = compress_insertion(cssplits_sample)\n",
    "    mutation_score = make_score(cssplits_control, cssplits_sample, knockin_alleles[allele])\n",
    "    scores_control = annotate_score(cssplits_control, mutation_score)\n"
   ]
  },
  {
   "cell_type": "code",
   "execution_count": 25,
   "metadata": {},
   "outputs": [
    {
     "name": "stdout",
     "output_type": "stream",
     "text": [
      "2341 2\n"
     ]
    }
   ],
   "source": [
    "from copy import  deepcopy\n",
    "cssplits = deepcopy(cssplits_control)"
   ]
  },
  {
   "cell_type": "code",
   "execution_count": 20,
   "metadata": {},
   "outputs": [
    {
     "ename": "IndexError",
     "evalue": "list index out of range",
     "output_type": "error",
     "traceback": [
      "\u001b[0;31m---------------------------------------------------------------------------\u001b[0m",
      "\u001b[0;31mIndexError\u001b[0m                                Traceback (most recent call last)",
      "\u001b[1;32m/mnt/d/Research/DAJIN2/misc/scripts/20230221-vcf.ipynb Cell 27\u001b[0m in \u001b[0;36m<cell line: 2>\u001b[0;34m()\u001b[0m\n\u001b[1;32m      <a href='vscode-notebook-cell://wsl%2Bubuntu-20.04/mnt/d/Research/DAJIN2/misc/scripts/20230221-vcf.ipynb#X45sdnNjb2RlLXJlbW90ZQ%3D%3D?line=2'>3</a>\u001b[0m score \u001b[39m=\u001b[39m [\u001b[39m0\u001b[39m]\n\u001b[1;32m      <a href='vscode-notebook-cell://wsl%2Bubuntu-20.04/mnt/d/Research/DAJIN2/misc/scripts/20230221-vcf.ipynb#X45sdnNjb2RlLXJlbW90ZQ%3D%3D?line=3'>4</a>\u001b[0m \u001b[39mfor\u001b[39;00m i \u001b[39min\u001b[39;00m \u001b[39mrange\u001b[39m(\u001b[39m1\u001b[39m, \u001b[39mlen\u001b[39m(cssplit) \u001b[39m-\u001b[39m \u001b[39m1\u001b[39m):\n\u001b[0;32m----> <a href='vscode-notebook-cell://wsl%2Bubuntu-20.04/mnt/d/Research/DAJIN2/misc/scripts/20230221-vcf.ipynb#X45sdnNjb2RlLXJlbW90ZQ%3D%3D?line=4'>5</a>\u001b[0m     \u001b[39mif\u001b[39;00m \u001b[39mnot\u001b[39;00m mutation_score[i]:\n\u001b[1;32m      <a href='vscode-notebook-cell://wsl%2Bubuntu-20.04/mnt/d/Research/DAJIN2/misc/scripts/20230221-vcf.ipynb#X45sdnNjb2RlLXJlbW90ZQ%3D%3D?line=5'>6</a>\u001b[0m         score\u001b[39m.\u001b[39mappend(\u001b[39m0\u001b[39m)\n\u001b[1;32m      <a href='vscode-notebook-cell://wsl%2Bubuntu-20.04/mnt/d/Research/DAJIN2/misc/scripts/20230221-vcf.ipynb#X45sdnNjb2RlLXJlbW90ZQ%3D%3D?line=6'>7</a>\u001b[0m         \u001b[39mcontinue\u001b[39;00m\n",
      "\u001b[0;31mIndexError\u001b[0m: list index out of range"
     ]
    }
   ],
   "source": [
    "scores = []\n",
    "for cssplit in cssplits:\n",
    "    score = [0]\n",
    "    for i in range(1, len(cssplit) - 1):\n",
    "        if not mutation_score[i]:\n",
    "            score.append(0)\n",
    "            continue\n",
    "        kmer = \",\".join([cssplit[i - 1], cssplit[i], cssplit[i + 1]])\n",
    "        score.append(mutation_score[i].get(kmer, 0))\n",
    "    scores.append(score + [0])\n"
   ]
  },
  {
   "cell_type": "code",
   "execution_count": 31,
   "metadata": {},
   "outputs": [
    {
     "name": "stdout",
     "output_type": "stream",
     "text": [
      "4309 4688\n"
     ]
    }
   ],
   "source": [
    "print(len(cssplits_control[0]), len(cssplits_sample[0]))"
   ]
  },
  {
   "cell_type": "code",
   "execution_count": 34,
   "metadata": {},
   "outputs": [],
   "source": [
    "samp = [s for s in classif_sample if s[\"ALLELE\"] == \"inversion\" and s[\"SV\"] == True]"
   ]
  },
  {
   "cell_type": "code",
   "execution_count": 35,
   "metadata": {},
   "outputs": [
    {
     "data": {
      "text/plain": [
       "2"
      ]
     },
     "execution_count": 35,
     "metadata": {},
     "output_type": "execute_result"
    }
   ],
   "source": [
    "len(samp)"
   ]
  },
  {
   "cell_type": "code",
   "execution_count": 39,
   "metadata": {},
   "outputs": [
    {
     "name": "stdout",
     "output_type": "stream",
     "text": [
      "4688\n",
      "4309\n"
     ]
    }
   ],
   "source": [
    "print(len(samp[0][\"CSSPLIT\"].split(\",\")))\n",
    "print(len(samp[1][\"CSSPLIT\"].split(\",\")))"
   ]
  },
  {
   "cell_type": "code",
   "execution_count": 40,
   "metadata": {},
   "outputs": [
    {
     "name": "stdout",
     "output_type": "stream",
     "text": [
      "3582\n",
      "4309\n",
      "4309\n"
     ]
    }
   ],
   "source": [
    "for seq in FASTA_ALLELES.values():\n",
    "    print(len(seq))"
   ]
  },
  {
   "cell_type": "code",
   "execution_count": 44,
   "metadata": {},
   "outputs": [
    {
     "data": {
      "text/plain": [
       "'1e6ef194-6458-4bb2-a5c5-a6a728391b6e'"
      ]
     },
     "execution_count": 44,
     "metadata": {},
     "output_type": "execute_result"
    }
   ],
   "source": [
    "samp[0][\"QNAME\"]"
   ]
  },
  {
   "cell_type": "markdown",
   "metadata": {},
   "source": [
    "どうやらこのリードの長さがおかしいみたい"
   ]
  },
  {
   "attachments": {
    "image-2.png": {
     "image/png": "[encoded data removed]"
    }
   },
   "cell_type": "markdown",
   "metadata": {},
   "source": [
    "## midsvのエラー修正および再実行\n",
    "- このリードは重複があるリードで、midsv変換のときに取り除かれていなかった。\n",
    "\n",
    "![image.png](attachment:image-2.png)\n",
    "- `midsv`の`format.return_end_of_current_read`においてスプライシングシグナルをカウントしていなかったことが原因であったため、修正した\n",
    "- 改めて`correct_revititive_deletions`を削除して実行"
   ]
  },
  {
   "cell_type": "code",
   "execution_count": 4,
   "metadata": {},
   "outputs": [],
   "source": [
    "################################################################################\n",
    "# Export fasta files as single-FASTA format\n",
    "################################################################################\n",
    "for identifier, sequence in FASTA_ALLELES.items():\n",
    "    contents = \"\\n\".join([\">\" + identifier, sequence]) + \"\\n\"\n",
    "    output_fasta = Path(TEMPDIR, \"fasta\", f\"{identifier}.fasta\")\n",
    "    output_fasta.write_text(contents)\n",
    "###############################################################################\n",
    "# Mapping with mappy\n",
    "###############################################################################\n",
    "for path_fasta in Path(TEMPDIR, \"fasta\").glob(\"*.fasta\"):\n",
    "    name_fasta = path_fasta.stem\n",
    "    preprocess.mappy_align.output_sam(TEMPDIR, path_fasta, name_fasta, CONTROL, CONTROL_NAME, threads=THREADS)\n",
    "    preprocess.mappy_align.output_sam(TEMPDIR, path_fasta, name_fasta, SAMPLE, SAMPLE_NAME, threads=THREADS)\n",
    "    preprocess.mappy_align.output_sam(\n",
    "        TEMPDIR, path_fasta, name_fasta, CONTROL, CONTROL_NAME, preset=\"splice\", threads=THREADS\n",
    "    )\n",
    "    preprocess.mappy_align.output_sam(\n",
    "        TEMPDIR, path_fasta, name_fasta, SAMPLE, SAMPLE_NAME, preset=\"splice\", threads=THREADS\n",
    "    )\n",
    "########################################################################\n",
    "# MIDSV conversion\n",
    "########################################################################\n",
    "for path_sam in Path(TEMPDIR, \"sam\").glob(f\"{CONTROL_NAME}_splice_*\"):\n",
    "    preprocess.calc_midsv.output_midsv(TEMPDIR, path_sam)\n",
    "for path_sam in Path(TEMPDIR, \"sam\").glob(f\"{SAMPLE_NAME}_splice_*\"):\n",
    "    preprocess.calc_midsv.output_midsv(TEMPDIR, path_sam)\n",
    "###############################################################################\n",
    "# Correct CSSPLITS\n",
    "###############################################################################\n",
    "# preprocess.correct_revititive_deletions.execute(TEMPDIR, FASTA_ALLELES, CONTROL_NAME, SAMPLE_NAME)\n",
    "preprocess.correct_sequence_error.execute(TEMPDIR, FASTA_ALLELES, CONTROL_NAME, SAMPLE_NAME)\n",
    "preprocess.correct_knockin.execute(TEMPDIR, FASTA_ALLELES, CONTROL_NAME, SAMPLE_NAME)"
   ]
  },
  {
   "cell_type": "code",
   "execution_count": 6,
   "metadata": {},
   "outputs": [],
   "source": [
    "import midsv\n",
    "midsv_sample = midsv.read_jsonl(\"DAJINResults/.tempdir/test-stx2-deletion/midsv/barcode25_splice_inversion.jsonl\")\n",
    "for s in midsv_sample:\n",
    "    if s[\"QNAME\"] == '1e6ef194-6458-4bb2-a5c5-a6a728391b6e':\n",
    "        print(\"exist...\")"
   ]
  },
  {
   "cell_type": "code",
   "execution_count": 5,
   "metadata": {},
   "outputs": [
    {
     "name": "stdout",
     "output_type": "stream",
     "text": [
      "processing test-stx2-deletion...\n"
     ]
    },
    {
     "name": "stderr",
     "output_type": "stream",
     "text": [
      "\n",
      "real\t2m35.008s\n",
      "user\t3m34.976s\n",
      "sys\t1m32.406s\n"
     ]
    }
   ],
   "source": [
    "%%bash\n",
    "### stx2 deletion\n",
    "time python misc/quickstart.py"
   ]
  },
  {
   "cell_type": "markdown",
   "metadata": {},
   "source": [
    "## ほかの遺伝型についても確認する"
   ]
  },
  {
   "cell_type": "code",
   "execution_count": 8,
   "metadata": {},
   "outputs": [
    {
     "name": "stdout",
     "output_type": "stream",
     "text": [
      "processing test-tyr-albino-01%...\n"
     ]
    },
    {
     "name": "stderr",
     "output_type": "stream",
     "text": [
      "\n",
      "real\t3m26.383s\n",
      "user\t6m3.012s\n",
      "sys\t2m37.979s\n",
      "Traceback (most recent call last):\n",
      "  File \"/mnt/d/Research/DAJIN2/misc/quickstart.py\", line 177, in <module>\n",
      "    clust_sample = clustering.add_labels(classif_sample, TEMPDIR, CONTROL_NAME, FASTA_ALLELES, THREADS)\n",
      "  File \"/mnt/d/Research/DAJIN2/src/DAJIN2/core/clustering/clustering.py\", line 36, in add_labels\n",
      "    scores_control = annotate_score(cssplits_control, mutation_score)\n",
      "  File \"/mnt/d/Research/DAJIN2/src/DAJIN2/core/clustering/annotate_score.py\", line 9, in annotate_score\n",
      "    if not mutation_score[i]:\n",
      "IndexError: list index out of range\n",
      "\n",
      "real\t4m35.027s\n",
      "user\t3m57.621s\n",
      "sys\t0m7.752s\n"
     ]
    },
    {
     "ename": "CalledProcessError",
     "evalue": "Command 'b'rm -rf \"DAJINResults/.tempdir/test-tyr-albino-01%/\"\\ntime python misc/quickstart.py\\n'' returned non-zero exit status 1.",
     "output_type": "error",
     "traceback": [
      "\u001b[0;31m---------------------------------------------------------------------------\u001b[0m",
      "\u001b[0;31mCalledProcessError\u001b[0m                        Traceback (most recent call last)",
      "\u001b[1;32m/mnt/d/Research/DAJIN2/misc/scripts/20230221-remove_correct_repetitive_deletions.ipynb Cell 40\u001b[0m in \u001b[0;36m<cell line: 1>\u001b[0;34m()\u001b[0m\n\u001b[0;32m----> <a href='vscode-notebook-cell://wsl%2Bubuntu-20.04/mnt/d/Research/DAJIN2/misc/scripts/20230221-remove_correct_repetitive_deletions.ipynb#X62sdnNjb2RlLXJlbW90ZQ%3D%3D?line=0'>1</a>\u001b[0m get_ipython()\u001b[39m.\u001b[39;49mrun_cell_magic(\u001b[39m'\u001b[39;49m\u001b[39mbash\u001b[39;49m\u001b[39m'\u001b[39;49m, \u001b[39m'\u001b[39;49m\u001b[39m'\u001b[39;49m, \u001b[39m'\u001b[39;49m\u001b[39mrm -rf \u001b[39;49m\u001b[39m\"\u001b[39;49m\u001b[39mDAJINResults/.tempdir/test-tyr-albino-01\u001b[39;49m\u001b[39m%\u001b[39;49m\u001b[39m/\u001b[39;49m\u001b[39m\"\u001b[39;49m\u001b[39m\\n\u001b[39;49;00m\u001b[39mtime python misc/quickstart.py\u001b[39;49m\u001b[39m\\n\u001b[39;49;00m\u001b[39m'\u001b[39;49m)\n",
      "File \u001b[0;32m~/miniconda/lib/python3.10/site-packages/IPython/core/interactiveshell.py:2357\u001b[0m, in \u001b[0;36mInteractiveShell.run_cell_magic\u001b[0;34m(self, magic_name, line, cell)\u001b[0m\n\u001b[1;32m   2355\u001b[0m \u001b[39mwith\u001b[39;00m \u001b[39mself\u001b[39m\u001b[39m.\u001b[39mbuiltin_trap:\n\u001b[1;32m   2356\u001b[0m     args \u001b[39m=\u001b[39m (magic_arg_s, cell)\n\u001b[0;32m-> 2357\u001b[0m     result \u001b[39m=\u001b[39m fn(\u001b[39m*\u001b[39;49margs, \u001b[39m*\u001b[39;49m\u001b[39m*\u001b[39;49mkwargs)\n\u001b[1;32m   2358\u001b[0m \u001b[39mreturn\u001b[39;00m result\n",
      "File \u001b[0;32m~/miniconda/lib/python3.10/site-packages/IPython/core/magics/script.py:153\u001b[0m, in \u001b[0;36mScriptMagics._make_script_magic.<locals>.named_script_magic\u001b[0;34m(line, cell)\u001b[0m\n\u001b[1;32m    151\u001b[0m \u001b[39melse\u001b[39;00m:\n\u001b[1;32m    152\u001b[0m     line \u001b[39m=\u001b[39m script\n\u001b[0;32m--> 153\u001b[0m \u001b[39mreturn\u001b[39;00m \u001b[39mself\u001b[39;49m\u001b[39m.\u001b[39;49mshebang(line, cell)\n",
      "File \u001b[0;32m~/miniconda/lib/python3.10/site-packages/IPython/core/magics/script.py:305\u001b[0m, in \u001b[0;36mScriptMagics.shebang\u001b[0;34m(self, line, cell)\u001b[0m\n\u001b[1;32m    300\u001b[0m \u001b[39mif\u001b[39;00m args\u001b[39m.\u001b[39mraise_error \u001b[39mand\u001b[39;00m p\u001b[39m.\u001b[39mreturncode \u001b[39m!=\u001b[39m \u001b[39m0\u001b[39m:\n\u001b[1;32m    301\u001b[0m     \u001b[39m# If we get here and p.returncode is still None, we must have\u001b[39;00m\n\u001b[1;32m    302\u001b[0m     \u001b[39m# killed it but not yet seen its return code. We don't wait for it,\u001b[39;00m\n\u001b[1;32m    303\u001b[0m     \u001b[39m# in case it's stuck in uninterruptible sleep. -9 = SIGKILL\u001b[39;00m\n\u001b[1;32m    304\u001b[0m     rc \u001b[39m=\u001b[39m p\u001b[39m.\u001b[39mreturncode \u001b[39mor\u001b[39;00m \u001b[39m-\u001b[39m\u001b[39m9\u001b[39m\n\u001b[0;32m--> 305\u001b[0m     \u001b[39mraise\u001b[39;00m CalledProcessError(rc, cell)\n",
      "\u001b[0;31mCalledProcessError\u001b[0m: Command 'b'rm -rf \"DAJINResults/.tempdir/test-tyr-albino-01%/\"\\ntime python misc/quickstart.py\\n'' returned non-zero exit status 1."
     ]
    }
   ],
   "source": [
    "%%bash\n",
    "rm -rf \"DAJINResults/.tempdir/test-tyr-albino-01%/\"\n",
    "time python misc/quickstart.py"
   ]
  },
  {
   "cell_type": "code",
   "execution_count": 9,
   "metadata": {},
   "outputs": [],
   "source": [
    "#### # * Subset of Point mutation\n",
    "#### # 50 or 10 or 01%\n",
    "percent = \"01\"\n",
    "SAMPLE, CONTROL, ALLELE, NAME, GENOME, DEBUG, THREADS = (\n",
    "    f\"misc/data/tyr_albino_{percent}%.fq.gz\",\n",
    "    \"misc/data/tyr_control.fq.gz\",\n",
    "    \"misc/data/tyr_control.fasta\",\n",
    "    f\"test-tyr-albino-{percent}%\",\n",
    "    \"mm10\",\n",
    "    True,\n",
    "    30,\n",
    ")\n"
   ]
  },
  {
   "cell_type": "code",
   "execution_count": 10,
   "metadata": {},
   "outputs": [],
   "source": [
    "##########################################################\n",
    "# Check inputs\n",
    "##########################################################\n",
    "preprocess.check_inputs.check_files(SAMPLE, CONTROL, ALLELE)\n",
    "TEMPDIR = Path(\"DAJINResults\", \".tempdir\", NAME)\n",
    "IS_CACHE_CONTROL = preprocess.check_inputs.exists_cached_control(CONTROL, TEMPDIR)\n",
    "IS_CACHE_GENOME = preprocess.check_inputs.exists_cached_genome(GENOME, TEMPDIR, IS_CACHE_CONTROL)\n",
    "UCSC_URL, GOLDENPATH_URL = None, None\n",
    "if GENOME and not IS_CACHE_GENOME:\n",
    "    UCSC_URL, GOLDENPATH_URL = preprocess.check_inputs.check_and_fetch_genome(GENOME)\n",
    "\n",
    "##########################################################\n",
    "# Format inputs\n",
    "##########################################################\n",
    "SAMPLE_NAME = preprocess.format_inputs.extract_basename(SAMPLE)\n",
    "CONTROL_NAME = preprocess.format_inputs.extract_basename(CONTROL)\n",
    "FASTA_ALLELES = preprocess.format_inputs.dictionize_allele(ALLELE)\n",
    "\n",
    "preprocess.format_inputs.make_directories(TEMPDIR, SAMPLE_NAME, CONTROL_NAME)\n",
    "\n",
    "if GENOME:\n",
    "    GENOME_COODINATES = preprocess.format_inputs.fetch_coodinate(GENOME, UCSC_URL, FASTA_ALLELES[\"control\"])\n",
    "    CHROME_SIZE = preprocess.format_inputs.fetch_chrom_size(GENOME_COODINATES[\"chr\"], GENOME, GOLDENPATH_URL)\n",
    "    preprocess.format_inputs.cache_coodinates_and_chromsize(TEMPDIR, GENOME, GENOME_COODINATES, CHROME_SIZE)\n",
    "\n"
   ]
  },
  {
   "cell_type": "code",
   "execution_count": 11,
   "metadata": {},
   "outputs": [
    {
     "ename": "IndexError",
     "evalue": "list index out of range",
     "output_type": "error",
     "traceback": [
      "\u001b[0;31m---------------------------------------------------------------------------\u001b[0m",
      "\u001b[0;31mIndexError\u001b[0m                                Traceback (most recent call last)",
      "\u001b[1;32m/mnt/d/Research/DAJIN2/misc/scripts/20230221-remove_correct_repetitive_deletions.ipynb Cell 43\u001b[0m in \u001b[0;36m<cell line: 10>\u001b[0;34m()\u001b[0m\n\u001b[1;32m      <a href='vscode-notebook-cell://wsl%2Bubuntu-20.04/mnt/d/Research/DAJIN2/misc/scripts/20230221-remove_correct_repetitive_deletions.ipynb#Y101sdnNjb2RlLXJlbW90ZQ%3D%3D?line=3'>4</a>\u001b[0m     classif[\u001b[39m\"\u001b[39m\u001b[39mSV\u001b[39m\u001b[39m\"\u001b[39m] \u001b[39m=\u001b[39m classification\u001b[39m.\u001b[39mdetect_sv(classif[\u001b[39m\"\u001b[39m\u001b[39mCSSPLIT\u001b[39m\u001b[39m\"\u001b[39m], threshold\u001b[39m=\u001b[39m\u001b[39m50\u001b[39m)\n\u001b[1;32m      <a href='vscode-notebook-cell://wsl%2Bubuntu-20.04/mnt/d/Research/DAJIN2/misc/scripts/20230221-remove_correct_repetitive_deletions.ipynb#Y101sdnNjb2RlLXJlbW90ZQ%3D%3D?line=5'>6</a>\u001b[0m \u001b[39m########################################################################\u001b[39;00m\n\u001b[1;32m      <a href='vscode-notebook-cell://wsl%2Bubuntu-20.04/mnt/d/Research/DAJIN2/misc/scripts/20230221-remove_correct_repetitive_deletions.ipynb#Y101sdnNjb2RlLXJlbW90ZQ%3D%3D?line=6'>7</a>\u001b[0m \u001b[39m# Clustering\u001b[39;00m\n\u001b[1;32m      <a href='vscode-notebook-cell://wsl%2Bubuntu-20.04/mnt/d/Research/DAJIN2/misc/scripts/20230221-remove_correct_repetitive_deletions.ipynb#Y101sdnNjb2RlLXJlbW90ZQ%3D%3D?line=7'>8</a>\u001b[0m \u001b[39m########################################################################\u001b[39;00m\n\u001b[0;32m---> <a href='vscode-notebook-cell://wsl%2Bubuntu-20.04/mnt/d/Research/DAJIN2/misc/scripts/20230221-remove_correct_repetitive_deletions.ipynb#Y101sdnNjb2RlLXJlbW90ZQ%3D%3D?line=9'>10</a>\u001b[0m clust_sample \u001b[39m=\u001b[39m clustering\u001b[39m.\u001b[39;49madd_labels(classif_sample, TEMPDIR, CONTROL_NAME, FASTA_ALLELES, THREADS)\n",
      "File \u001b[0;32m/mnt/d/Research/DAJIN2/src/DAJIN2/core/clustering/clustering.py:36\u001b[0m, in \u001b[0;36madd_labels\u001b[0;34m(classif_sample, TEMPDIR, CONTROL_NAME, FASTA_ALLELES, THREADS)\u001b[0m\n\u001b[1;32m     34\u001b[0m cssplits_sample \u001b[39m=\u001b[39m compress_insertion(cssplits_sample)\n\u001b[1;32m     35\u001b[0m mutation_score \u001b[39m=\u001b[39m make_score(cssplits_control, cssplits_sample, knockin_alleles[allele])\n\u001b[0;32m---> 36\u001b[0m scores_control \u001b[39m=\u001b[39m annotate_score(cssplits_control, mutation_score)\n\u001b[1;32m     37\u001b[0m scores_sample \u001b[39m=\u001b[39m annotate_score(cssplits_sample, mutation_score)\n\u001b[1;32m     38\u001b[0m labels \u001b[39m=\u001b[39m return_labels(scores_sample, scores_control)\n",
      "File \u001b[0;32m/mnt/d/Research/DAJIN2/src/DAJIN2/core/clustering/annotate_score.py:9\u001b[0m, in \u001b[0;36mannotate_score\u001b[0;34m(cssplits, mutation_score)\u001b[0m\n\u001b[1;32m      7\u001b[0m score \u001b[39m=\u001b[39m [\u001b[39m0\u001b[39m]\n\u001b[1;32m      8\u001b[0m \u001b[39mfor\u001b[39;00m i \u001b[39min\u001b[39;00m \u001b[39mrange\u001b[39m(\u001b[39m1\u001b[39m, \u001b[39mlen\u001b[39m(cssplit) \u001b[39m-\u001b[39m \u001b[39m1\u001b[39m):\n\u001b[0;32m----> 9\u001b[0m     \u001b[39mif\u001b[39;00m \u001b[39mnot\u001b[39;00m mutation_score[i]:\n\u001b[1;32m     10\u001b[0m         score\u001b[39m.\u001b[39mappend(\u001b[39m0\u001b[39m)\n\u001b[1;32m     11\u001b[0m         \u001b[39mcontinue\u001b[39;00m\n",
      "\u001b[0;31mIndexError\u001b[0m: list index out of range"
     ]
    }
   ],
   "source": [
    "classif_sample = classification.classify_alleles(TEMPDIR, SAMPLE_NAME)\n",
    "\n",
    "for classif in classif_sample:\n",
    "    classif[\"SV\"] = classification.detect_sv(classif[\"CSSPLIT\"], threshold=50)\n",
    "\n",
    "########################################################################\n",
    "# Clustering\n",
    "########################################################################\n",
    "\n",
    "clust_sample = clustering.add_labels(classif_sample, TEMPDIR, CONTROL_NAME, FASTA_ALLELES, THREADS)\n"
   ]
  },
  {
   "cell_type": "code",
   "execution_count": 13,
   "metadata": {},
   "outputs": [
    {
     "name": "stdout",
     "output_type": "stream",
     "text": [
      "control\n"
     ]
    },
    {
     "ename": "IndexError",
     "evalue": "list index out of range",
     "output_type": "error",
     "traceback": [
      "\u001b[0;31m---------------------------------------------------------------------------\u001b[0m",
      "\u001b[0;31mIndexError\u001b[0m                                Traceback (most recent call last)",
      "\u001b[1;32m/mnt/d/Research/DAJIN2/misc/scripts/20230221-remove_correct_repetitive_deletions.ipynb Cell 44\u001b[0m in \u001b[0;36m<cell line: 25>\u001b[0;34m()\u001b[0m\n\u001b[1;32m     <a href='vscode-notebook-cell://wsl%2Bubuntu-20.04/mnt/d/Research/DAJIN2/misc/scripts/20230221-remove_correct_repetitive_deletions.ipynb#Y102sdnNjb2RlLXJlbW90ZQ%3D%3D?line=31'>32</a>\u001b[0m cssplits_sample \u001b[39m=\u001b[39m compress_insertion(cssplits_sample)\n\u001b[1;32m     <a href='vscode-notebook-cell://wsl%2Bubuntu-20.04/mnt/d/Research/DAJIN2/misc/scripts/20230221-remove_correct_repetitive_deletions.ipynb#Y102sdnNjb2RlLXJlbW90ZQ%3D%3D?line=32'>33</a>\u001b[0m mutation_score \u001b[39m=\u001b[39m make_score(cssplits_control, cssplits_sample, knockin_alleles[allele])\n\u001b[0;32m---> <a href='vscode-notebook-cell://wsl%2Bubuntu-20.04/mnt/d/Research/DAJIN2/misc/scripts/20230221-remove_correct_repetitive_deletions.ipynb#Y102sdnNjb2RlLXJlbW90ZQ%3D%3D?line=33'>34</a>\u001b[0m scores_control \u001b[39m=\u001b[39m annotate_score(cssplits_control, mutation_score)\n",
      "File \u001b[0;32m/mnt/d/Research/DAJIN2/src/DAJIN2/core/clustering/annotate_score.py:9\u001b[0m, in \u001b[0;36mannotate_score\u001b[0;34m(cssplits, mutation_score)\u001b[0m\n\u001b[1;32m      7\u001b[0m score \u001b[39m=\u001b[39m [\u001b[39m0\u001b[39m]\n\u001b[1;32m      8\u001b[0m \u001b[39mfor\u001b[39;00m i \u001b[39min\u001b[39;00m \u001b[39mrange\u001b[39m(\u001b[39m1\u001b[39m, \u001b[39mlen\u001b[39m(cssplit) \u001b[39m-\u001b[39m \u001b[39m1\u001b[39m):\n\u001b[0;32m----> 9\u001b[0m     \u001b[39mif\u001b[39;00m \u001b[39mnot\u001b[39;00m mutation_score[i]:\n\u001b[1;32m     10\u001b[0m         score\u001b[39m.\u001b[39mappend(\u001b[39m0\u001b[39m)\n\u001b[1;32m     11\u001b[0m         \u001b[39mcontinue\u001b[39;00m\n",
      "\u001b[0;31mIndexError\u001b[0m: list index out of range"
     ]
    }
   ],
   "source": [
    "from __future__ import annotations\n",
    "from itertools import groupby\n",
    "from copy import deepcopy\n",
    "from collections import defaultdict\n",
    "from pathlib import Path\n",
    "import midsv\n",
    "\n",
    "from src.DAJIN2.core.preprocess.correct_knockin import extract_knockin_loci\n",
    "from src.DAJIN2.core.clustering.preprocess import replace_both_ends_n, compress_insertion\n",
    "from src.DAJIN2.core.clustering.make_score import make_score\n",
    "from src.DAJIN2.core.clustering.annotate_score import annotate_score\n",
    "from src.DAJIN2.core.clustering.reorder_labels import reorder_labels\n",
    "from src.DAJIN2.core.clustering.return_labels import return_labels\n",
    "paths_midsv = list(Path(TEMPDIR, \"midsv\").glob(f\"{CONTROL_NAME}_splice_*\"))\n",
    "cssplits_control_by_alleles = defaultdict(list)\n",
    "for path_midsv in paths_midsv:\n",
    "    midsv_control = midsv.read_jsonl(path_midsv)\n",
    "    allele = path_midsv.stem.split(\"_\")[-1]\n",
    "    cssplits = [cs[\"CSSPLIT\"].split(\",\") for cs in midsv_control]\n",
    "    cssplits_control_by_alleles[allele] = cssplits\n",
    "knockin_alleles = extract_knockin_loci(TEMPDIR)\n",
    "labels_all = []\n",
    "max_label = 0\n",
    "classif_sample.sort(key=lambda x: (x[\"ALLELE\"], x[\"SV\"]))\n",
    "for (allele, _), group in groupby(classif_sample, key=lambda x: (x[\"ALLELE\"], x[\"SV\"])):\n",
    "    print(allele)\n",
    "    cssplits_control = cssplits_control_by_alleles[allele]\n",
    "    cssplits_sample = [cs[\"CSSPLIT\"].split(\",\") for cs in group]\n",
    "    cssplits_control = replace_both_ends_n(cssplits_control)\n",
    "    cssplits_sample = replace_both_ends_n(cssplits_sample)\n",
    "    cssplits_control = compress_insertion(cssplits_control)\n",
    "    cssplits_sample = compress_insertion(cssplits_sample)\n",
    "    mutation_score = make_score(cssplits_control, cssplits_sample, knockin_alleles[allele])\n",
    "    scores_control = annotate_score(cssplits_control, mutation_score)\n"
   ]
  },
  {
   "cell_type": "code",
   "execution_count": 15,
   "metadata": {},
   "outputs": [
    {
     "name": "stdout",
     "output_type": "stream",
     "text": [
      "control\n",
      "9214\n"
     ]
    }
   ],
   "source": [
    "print(allele)\n",
    "print(len(cssplits_control))"
   ]
  },
  {
   "cell_type": "code",
   "execution_count": 16,
   "metadata": {},
   "outputs": [],
   "source": [
    "from copy import  deepcopy\n",
    "cssplits = deepcopy(cssplits_control)"
   ]
  },
  {
   "cell_type": "code",
   "execution_count": 17,
   "metadata": {},
   "outputs": [
    {
     "ename": "IndexError",
     "evalue": "list index out of range",
     "output_type": "error",
     "traceback": [
      "\u001b[0;31m---------------------------------------------------------------------------\u001b[0m",
      "\u001b[0;31mIndexError\u001b[0m                                Traceback (most recent call last)",
      "\u001b[1;32m/mnt/d/Research/DAJIN2/misc/scripts/20230221-remove_correct_repetitive_deletions.ipynb Cell 47\u001b[0m in \u001b[0;36m<cell line: 2>\u001b[0;34m()\u001b[0m\n\u001b[1;32m      <a href='vscode-notebook-cell://wsl%2Bubuntu-20.04/mnt/d/Research/DAJIN2/misc/scripts/20230221-remove_correct_repetitive_deletions.ipynb#Y105sdnNjb2RlLXJlbW90ZQ%3D%3D?line=2'>3</a>\u001b[0m score \u001b[39m=\u001b[39m [\u001b[39m0\u001b[39m]\n\u001b[1;32m      <a href='vscode-notebook-cell://wsl%2Bubuntu-20.04/mnt/d/Research/DAJIN2/misc/scripts/20230221-remove_correct_repetitive_deletions.ipynb#Y105sdnNjb2RlLXJlbW90ZQ%3D%3D?line=3'>4</a>\u001b[0m \u001b[39mfor\u001b[39;00m i \u001b[39min\u001b[39;00m \u001b[39mrange\u001b[39m(\u001b[39m1\u001b[39m, \u001b[39mlen\u001b[39m(cssplit) \u001b[39m-\u001b[39m \u001b[39m1\u001b[39m):\n\u001b[0;32m----> <a href='vscode-notebook-cell://wsl%2Bubuntu-20.04/mnt/d/Research/DAJIN2/misc/scripts/20230221-remove_correct_repetitive_deletions.ipynb#Y105sdnNjb2RlLXJlbW90ZQ%3D%3D?line=4'>5</a>\u001b[0m     \u001b[39mif\u001b[39;00m \u001b[39mnot\u001b[39;00m mutation_score[i]:\n\u001b[1;32m      <a href='vscode-notebook-cell://wsl%2Bubuntu-20.04/mnt/d/Research/DAJIN2/misc/scripts/20230221-remove_correct_repetitive_deletions.ipynb#Y105sdnNjb2RlLXJlbW90ZQ%3D%3D?line=5'>6</a>\u001b[0m         score\u001b[39m.\u001b[39mappend(\u001b[39m0\u001b[39m)\n\u001b[1;32m      <a href='vscode-notebook-cell://wsl%2Bubuntu-20.04/mnt/d/Research/DAJIN2/misc/scripts/20230221-remove_correct_repetitive_deletions.ipynb#Y105sdnNjb2RlLXJlbW90ZQ%3D%3D?line=6'>7</a>\u001b[0m         \u001b[39mcontinue\u001b[39;00m\n",
      "\u001b[0;31mIndexError\u001b[0m: list index out of range"
     ]
    }
   ],
   "source": [
    "scores = []\n",
    "for cssplit in cssplits:\n",
    "    score = [0]\n",
    "    for i in range(1, len(cssplit) - 1):\n",
    "        if not mutation_score[i]:\n",
    "            score.append(0)\n",
    "            continue\n",
    "        kmer = \",\".join([cssplit[i - 1], cssplit[i], cssplit[i + 1]])\n",
    "        score.append(mutation_score[i].get(kmer, 0))\n",
    "    scores.append(score + [0])\n"
   ]
  },
  {
   "cell_type": "code",
   "execution_count": 21,
   "metadata": {},
   "outputs": [],
   "source": [
    "midsv_control = midsv.read_jsonl(path_midsv)"
   ]
  },
  {
   "cell_type": "code",
   "execution_count": 22,
   "metadata": {},
   "outputs": [
    {
     "data": {
      "text/plain": [
       "['22ca01a3-97bd-461a-a33d-b4dd6959b383']"
      ]
     },
     "execution_count": 22,
     "metadata": {},
     "output_type": "execute_result"
    }
   ],
   "source": [
    "[m[\"QNAME\"] for m in midsv_control if len(m[\"CSSPLIT\"].split(\",\")) == 2926]"
   ]
  },
  {
   "cell_type": "code",
   "execution_count": 19,
   "metadata": {},
   "outputs": [
    {
     "data": {
      "text/plain": [
       "['=T',\n",
       " '=G',\n",
       " '=C',\n",
       " '=A',\n",
       " '=T',\n",
       " '=T',\n",
       " '=G',\n",
       " '=A',\n",
       " '=A',\n",
       " '=G',\n",
       " '=C',\n",
       " '=A',\n",
       " '=G',\n",
       " '=T',\n",
       " '=T',\n",
       " '=C',\n",
       " '=A',\n",
       " '=C',\n",
       " '=C',\n",
       " '=A',\n",
       " '=A',\n",
       " '=A',\n",
       " '=A',\n",
       " '=T',\n",
       " '=A',\n",
       " '=A',\n",
       " '=C',\n",
       " '=A',\n",
       " '=A',\n",
       " '=A',\n",
       " '=G',\n",
       " '=T',\n",
       " '=A',\n",
       " '=A',\n",
       " '=C',\n",
       " '=A',\n",
       " '=A',\n",
       " '=A',\n",
       " '=G',\n",
       " '=T',\n",
       " '=A',\n",
       " '=A',\n",
       " '=G',\n",
       " '=A',\n",
       " '=T',\n",
       " '=A',\n",
       " '=T',\n",
       " '=C',\n",
       " '=T',\n",
       " '=T',\n",
       " '=T',\n",
       " '=G',\n",
       " '=G',\n",
       " '=A',\n",
       " '=A',\n",
       " '=T',\n",
       " '=A',\n",
       " '=A',\n",
       " '=T',\n",
       " '=C',\n",
       " '=A',\n",
       " '=A',\n",
       " '=T',\n",
       " '=T',\n",
       " '=C',\n",
       " '=A',\n",
       " '=A',\n",
       " '=G',\n",
       " '=A',\n",
       " '=T',\n",
       " '=A',\n",
       " '=A',\n",
       " '=T',\n",
       " '=C',\n",
       " '=A',\n",
       " '=A',\n",
       " '=G',\n",
       " '=G',\n",
       " '=A',\n",
       " '=A',\n",
       " '=A',\n",
       " '=t',\n",
       " '=g',\n",
       " '=c',\n",
       " '=a',\n",
       " '=t',\n",
       " '=t',\n",
       " '=g',\n",
       " '=a',\n",
       " '=a',\n",
       " '=g',\n",
       " '=c',\n",
       " '=a',\n",
       " '=g',\n",
       " '=t',\n",
       " '=t',\n",
       " '=c',\n",
       " '=a',\n",
       " '=c',\n",
       " '=c',\n",
       " '=a',\n",
       " '=a',\n",
       " '=a',\n",
       " '=a',\n",
       " '=t',\n",
       " '=a',\n",
       " '=a',\n",
       " '=c',\n",
       " '=a',\n",
       " '=a',\n",
       " '=a',\n",
       " '=g',\n",
       " '=t',\n",
       " '=a',\n",
       " '=a',\n",
       " '=c',\n",
       " '=a',\n",
       " '=a',\n",
       " '=a',\n",
       " '=g',\n",
       " '=t',\n",
       " '=a',\n",
       " '=a',\n",
       " '=g',\n",
       " '=a',\n",
       " '=t',\n",
       " '=a',\n",
       " '=t',\n",
       " '=c',\n",
       " '=t',\n",
       " '=t',\n",
       " '=t',\n",
       " '=g',\n",
       " '=g',\n",
       " '=a',\n",
       " '=a',\n",
       " '=t',\n",
       " '=a',\n",
       " '=a',\n",
       " '=t',\n",
       " '=c',\n",
       " '=a',\n",
       " '=a',\n",
       " '=t',\n",
       " '=t',\n",
       " '=c',\n",
       " '=a',\n",
       " '=a',\n",
       " '=g',\n",
       " '=a',\n",
       " '=t',\n",
       " '=a',\n",
       " '=a',\n",
       " '=t',\n",
       " '=c',\n",
       " '=a',\n",
       " '=a',\n",
       " '=g',\n",
       " '=g',\n",
       " '=a',\n",
       " '=a',\n",
       " '=a',\n",
       " '=a',\n",
       " '=a',\n",
       " '=t',\n",
       " '=g',\n",
       " '=a',\n",
       " '=g',\n",
       " '=a',\n",
       " '=g',\n",
       " '=g',\n",
       " '=c',\n",
       " '=a',\n",
       " '=a',\n",
       " '=c',\n",
       " '=t',\n",
       " '=a',\n",
       " '=T',\n",
       " '=t',\n",
       " '=t',\n",
       " '=t',\n",
       " '=a',\n",
       " '=g',\n",
       " '=a',\n",
       " '=c',\n",
       " '=t',\n",
       " '=g',\n",
       " '=a',\n",
       " '=t',\n",
       " '=t',\n",
       " '=a',\n",
       " '=c',\n",
       " '=t',\n",
       " '=t',\n",
       " '=t',\n",
       " '=t',\n",
       " '=a',\n",
       " '=t',\n",
       " '=a',\n",
       " '=a',\n",
       " '=a',\n",
       " '=a',\n",
       " '=t',\n",
       " '=a',\n",
       " '=a',\n",
       " '=a',\n",
       " '=t',\n",
       " '=a',\n",
       " '=a',\n",
       " '=g',\n",
       " '=c',\n",
       " '=t',\n",
       " '=c',\n",
       " '=a',\n",
       " '=g',\n",
       " '=c',\n",
       " '=t',\n",
       " '=t',\n",
       " '=a',\n",
       " '=g',\n",
       " '=c',\n",
       " '=c',\n",
       " '=a',\n",
       " '=g',\n",
       " '=a',\n",
       " '=t',\n",
       " '=a',\n",
       " '=t',\n",
       " '=a',\n",
       " '=a',\n",
       " '=g',\n",
       " '=c',\n",
       " '=a',\n",
       " '=a',\n",
       " '=t',\n",
       " '=a',\n",
       " '=t',\n",
       " '=t',\n",
       " '=c',\n",
       " '=t',\n",
       " '=g',\n",
       " '=a',\n",
       " '=g',\n",
       " '=t',\n",
       " '=t',\n",
       " '=c',\n",
       " '=t',\n",
       " '=g',\n",
       " '=a',\n",
       " '=a',\n",
       " '=g',\n",
       " '=a',\n",
       " '=a',\n",
       " '=a',\n",
       " '=a',\n",
       " '=a',\n",
       " '=t',\n",
       " '=t',\n",
       " '=t',\n",
       " '=t',\n",
       " '=t',\n",
       " '=g',\n",
       " '=a',\n",
       " '=c',\n",
       " '=a',\n",
       " '=a',\n",
       " '=a',\n",
       " '=a',\n",
       " '=t',\n",
       " '=g',\n",
       " '=a',\n",
       " '=g',\n",
       " '=t',\n",
       " '=t',\n",
       " '=c',\n",
       " '=t',\n",
       " '=a',\n",
       " '=t',\n",
       " '=a',\n",
       " '=a',\n",
       " '=a',\n",
       " '=t',\n",
       " '=g',\n",
       " '=t',\n",
       " '=t',\n",
       " '=a',\n",
       " '=t',\n",
       " '=t',\n",
       " '=g',\n",
       " '=t',\n",
       " '=c',\n",
       " '=t',\n",
       " '=a',\n",
       " '=c',\n",
       " '=t',\n",
       " '=t',\n",
       " '=a',\n",
       " '=t',\n",
       " '=g',\n",
       " '=a',\n",
       " '=t',\n",
       " '=c',\n",
       " '=t',\n",
       " '=c',\n",
       " '=t',\n",
       " '=a',\n",
       " '=a',\n",
       " '=a',\n",
       " '=t',\n",
       " '=a',\n",
       " '=c',\n",
       " '=a',\n",
       " '=a',\n",
       " '=c',\n",
       " '=a',\n",
       " '=g',\n",
       " '=g',\n",
       " '=c',\n",
       " '=t',\n",
       " '=t',\n",
       " '=g',\n",
       " '=t',\n",
       " '=a',\n",
       " '=t',\n",
       " '=t',\n",
       " '=c',\n",
       " '=T',\n",
       " '=g',\n",
       " '=a',\n",
       " '=a',\n",
       " '=t',\n",
       " '=c',\n",
       " '=t',\n",
       " '=a',\n",
       " '=g',\n",
       " '=a',\n",
       " '=t',\n",
       " '=g',\n",
       " '=t',\n",
       " '=t',\n",
       " '=t',\n",
       " '=c',\n",
       " '=a',\n",
       " '=t',\n",
       " '=g',\n",
       " '=a',\n",
       " '=c',\n",
       " '=c',\n",
       " '=t',\n",
       " '=t',\n",
       " '=t',\n",
       " '=a',\n",
       " '=t',\n",
       " '=t',\n",
       " '=c',\n",
       " '=a',\n",
       " '=t',\n",
       " '=a',\n",
       " '=a',\n",
       " '=g',\n",
       " '=a',\n",
       " '=g',\n",
       " '=a',\n",
       " '=t',\n",
       " '=g',\n",
       " '=a',\n",
       " '=t',\n",
       " '=g',\n",
       " '=t',\n",
       " '=a',\n",
       " '=t',\n",
       " '=t',\n",
       " '=c',\n",
       " '=t',\n",
       " '=t',\n",
       " '=g',\n",
       " '=a',\n",
       " '=t',\n",
       " '=a',\n",
       " '=c',\n",
       " '=t',\n",
       " '=a',\n",
       " '=c',\n",
       " '=t',\n",
       " '=t',\n",
       " '=c',\n",
       " '=t',\n",
       " '=c',\n",
       " '=a',\n",
       " '=t',\n",
       " '=t',\n",
       " '=t',\n",
       " '=g',\n",
       " '=c',\n",
       " '=a',\n",
       " '=a',\n",
       " '=a',\n",
       " '=t',\n",
       " '=t',\n",
       " '=c',\n",
       " '=c',\n",
       " '=a',\n",
       " '=a',\n",
       " '=t',\n",
       " '=t',\n",
       " '=a',\n",
       " '=t',\n",
       " '=t',\n",
       " '=a',\n",
       " '=t',\n",
       " '=t',\n",
       " '=a',\n",
       " '=a',\n",
       " '=t',\n",
       " '=t',\n",
       " '=t',\n",
       " '=c',\n",
       " '=a',\n",
       " '=t',\n",
       " '=a',\n",
       " '=t',\n",
       " '=c',\n",
       " '=a',\n",
       " '=a',\n",
       " '=t',\n",
       " '=t',\n",
       " '=a',\n",
       " '=g',\n",
       " '=a',\n",
       " '=a',\n",
       " '=t',\n",
       " '=a',\n",
       " '=a',\n",
       " '=t',\n",
       " '=a',\n",
       " '=t',\n",
       " '=a',\n",
       " '=t',\n",
       " '=c',\n",
       " '=t',\n",
       " '=t',\n",
       " '=c',\n",
       " '=c',\n",
       " '=t',\n",
       " '=t',\n",
       " '=c',\n",
       " '=a',\n",
       " '=a',\n",
       " '=t',\n",
       " '=t',\n",
       " '=t',\n",
       " '=a',\n",
       " '=g',\n",
       " '=t',\n",
       " '=t',\n",
       " '=a',\n",
       " '=c',\n",
       " '=c',\n",
       " '=t',\n",
       " '=c',\n",
       " '=a',\n",
       " '=c',\n",
       " '=t',\n",
       " '=a',\n",
       " '=t',\n",
       " '=g',\n",
       " '=g',\n",
       " '=g',\n",
       " '=c',\n",
       " '=t',\n",
       " '=a',\n",
       " '=t',\n",
       " '=g',\n",
       " '=t',\n",
       " '=a',\n",
       " '=c',\n",
       " '=a',\n",
       " '=a',\n",
       " '=a',\n",
       " '=c',\n",
       " '=t',\n",
       " '=G',\n",
       " '=c',\n",
       " '=a',\n",
       " '=a',\n",
       " '=g',\n",
       " '=a',\n",
       " '=a',\n",
       " '=a',\n",
       " '=a',\n",
       " '=a',\n",
       " '=g',\n",
       " '=t',\n",
       " '=t',\n",
       " '=a',\n",
       " '=g',\n",
       " '=t',\n",
       " '=c',\n",
       " '=a',\n",
       " '=t',\n",
       " '=g',\n",
       " '=G',\n",
       " '=C',\n",
       " '=C',\n",
       " '=A',\n",
       " '=A',\n",
       " '=t',\n",
       " '=g',\n",
       " '=c',\n",
       " '=a',\n",
       " '=g',\n",
       " '=a',\n",
       " '=a',\n",
       " '=g',\n",
       " '=a',\n",
       " '=t',\n",
       " '=a',\n",
       " '=a',\n",
       " '=a',\n",
       " '=a',\n",
       " '=g',\n",
       " '=c',\n",
       " '=t',\n",
       " '=t',\n",
       " '=C',\n",
       " '=g',\n",
       " '=t',\n",
       " '=g',\n",
       " '=t',\n",
       " '=a',\n",
       " '=a',\n",
       " '=a',\n",
       " '=a',\n",
       " '=c',\n",
       " '=a',\n",
       " '=g',\n",
       " '=g',\n",
       " '=c',\n",
       " '=t',\n",
       " '=g',\n",
       " '=a',\n",
       " '=g',\n",
       " '=a',\n",
       " '=g',\n",
       " '=t',\n",
       " '=a',\n",
       " '=t',\n",
       " '=t',\n",
       " '=t',\n",
       " '=g',\n",
       " '=a',\n",
       " '=t',\n",
       " '=g',\n",
       " '=t',\n",
       " '=C',\n",
       " '=a',\n",
       " '=g',\n",
       " '=a',\n",
       " '=a',\n",
       " '=g',\n",
       " '=g',\n",
       " '=g',\n",
       " '=g',\n",
       " '=a',\n",
       " '=g',\n",
       " '=t',\n",
       " '=g',\n",
       " '=g',\n",
       " '=t',\n",
       " '=t',\n",
       " '=a',\n",
       " '=t',\n",
       " '=a',\n",
       " '=t',\n",
       " '=a',\n",
       " '=g',\n",
       " '=g',\n",
       " '=t',\n",
       " '=c',\n",
       " '=t',\n",
       " '=t',\n",
       " '=a',\n",
       " '=g',\n",
       " '=c',\n",
       " '=c',\n",
       " '=a',\n",
       " '=a',\n",
       " '=a',\n",
       " '=a',\n",
       " '=c',\n",
       " '=a',\n",
       " '=t',\n",
       " '=g',\n",
       " '=t',\n",
       " '=g',\n",
       " '=a',\n",
       " '=t',\n",
       " '=a',\n",
       " '=g',\n",
       " '=t',\n",
       " '=c',\n",
       " '=a',\n",
       " '=c',\n",
       " '=t',\n",
       " '=c',\n",
       " '=c',\n",
       " '=a',\n",
       " '=G',\n",
       " '=g',\n",
       " '=C',\n",
       " '=g',\n",
       " '=t',\n",
       " '=t',\n",
       " '=T',\n",
       " '=T',\n",
       " '=t',\n",
       " '=g',\n",
       " '=g',\n",
       " '=A',\n",
       " '=a',\n",
       " '=a',\n",
       " '=a',\n",
       " '=g',\n",
       " '=a',\n",
       " '=a',\n",
       " '=g',\n",
       " '=t',\n",
       " '=c',\n",
       " '=t',\n",
       " '=g',\n",
       " '=t',\n",
       " '=g',\n",
       " '=a',\n",
       " '=c',\n",
       " '=a',\n",
       " '=c',\n",
       " '=t',\n",
       " '=c',\n",
       " '=a',\n",
       " '=t',\n",
       " '=t',\n",
       " '=a',\n",
       " '=a',\n",
       " '=c',\n",
       " '=c',\n",
       " '=t',\n",
       " '=a',\n",
       " '=t',\n",
       " '=t',\n",
       " '=g',\n",
       " '=g',\n",
       " '=t',\n",
       " '=g',\n",
       " '=c',\n",
       " '=a',\n",
       " '=g',\n",
       " '=a',\n",
       " '=t',\n",
       " '=t',\n",
       " '=t',\n",
       " '=t',\n",
       " '=g',\n",
       " '=t',\n",
       " '=a',\n",
       " '=t',\n",
       " '=g',\n",
       " '=a',\n",
       " '=t',\n",
       " '=c',\n",
       " '=t',\n",
       " '=a',\n",
       " '=a',\n",
       " '=a',\n",
       " '=g',\n",
       " '=g',\n",
       " '=a',\n",
       " '=g',\n",
       " '=a',\n",
       " '=a',\n",
       " '=a',\n",
       " '=a',\n",
       " '=t',\n",
       " '=g',\n",
       " '=t',\n",
       " '=t',\n",
       " '=c',\n",
       " '=t',\n",
       " '=t',\n",
       " '=g',\n",
       " '=g',\n",
       " '=c',\n",
       " '=t',\n",
       " '=g',\n",
       " '=t',\n",
       " '=t',\n",
       " '=t',\n",
       " '=t',\n",
       " '=g',\n",
       " '=t',\n",
       " '=a',\n",
       " '=t',\n",
       " '=t',\n",
       " '=g',\n",
       " '=c',\n",
       " '=c',\n",
       " '=t',\n",
       " '=t',\n",
       " '=c',\n",
       " '=t',\n",
       " '=g',\n",
       " '=t',\n",
       " '=g',\n",
       " '=g',\n",
       " '=a',\n",
       " '=g',\n",
       " '=t',\n",
       " '=t',\n",
       " '=t',\n",
       " '=G',\n",
       " '=c',\n",
       " '=a',\n",
       " '=g',\n",
       " '=a',\n",
       " '=t',\n",
       " '=c',\n",
       " '=t',\n",
       " '=c',\n",
       " '=t',\n",
       " '=g',\n",
       " '=a',\n",
       " '=t',\n",
       " '=g',\n",
       " '=g',\n",
       " '=c',\n",
       " '=c',\n",
       " '=a',\n",
       " '=C',\n",
       " '=t',\n",
       " '=t',\n",
       " '=t',\n",
       " '=c',\n",
       " '=c',\n",
       " '=t',\n",
       " '=c',\n",
       " '=g',\n",
       " '=a',\n",
       " '=g',\n",
       " '=c',\n",
       " '=c',\n",
       " '=t',\n",
       " '=g',\n",
       " '=t',\n",
       " '=g',\n",
       " '=c',\n",
       " '=c',\n",
       " '=t',\n",
       " '=c',\n",
       " '=c',\n",
       " '=t',\n",
       " '=c',\n",
       " '=t',\n",
       " '=a',\n",
       " '=a',\n",
       " '=g',\n",
       " '=a',\n",
       " '=a',\n",
       " '=c',\n",
       " '=t',\n",
       " '=t',\n",
       " '=g',\n",
       " '=t',\n",
       " '=t',\n",
       " '=g',\n",
       " '=g',\n",
       " '=c',\n",
       " '=a',\n",
       " '=a',\n",
       " '=a',\n",
       " '=a',\n",
       " '=g',\n",
       " '=a',\n",
       " '=a',\n",
       " '=t',\n",
       " '=g',\n",
       " '=c',\n",
       " '=t',\n",
       " '=g',\n",
       " '=c',\n",
       " '=c',\n",
       " '=c',\n",
       " '=a',\n",
       " '=c',\n",
       " '=c',\n",
       " '=a',\n",
       " '=t',\n",
       " '=g',\n",
       " '=g',\n",
       " '=a',\n",
       " '=t',\n",
       " '=g',\n",
       " '=g',\n",
       " '=g',\n",
       " '=t',\n",
       " '=g',\n",
       " '=a',\n",
       " '=t',\n",
       " '=g',\n",
       " '=g',\n",
       " '=g',\n",
       " '=a',\n",
       " '=g',\n",
       " '=t',\n",
       " '=A',\n",
       " '=c',\n",
       " '=c',\n",
       " '=t',\n",
       " '=g',\n",
       " '=c',\n",
       " '=g',\n",
       " '=g',\n",
       " '=c',\n",
       " '=c',\n",
       " '=a',\n",
       " '=g',\n",
       " '=c',\n",
       " '=t',\n",
       " '=t',\n",
       " '=t',\n",
       " '=c',\n",
       " '=a',\n",
       " '=g',\n",
       " '=g',\n",
       " '=c',\n",
       " '=a',\n",
       " '=g',\n",
       " '=a',\n",
       " '=g',\n",
       " '=g',\n",
       " '=t',\n",
       " '=t',\n",
       " '=c',\n",
       " '=c',\n",
       " '=t',\n",
       " '=g',\n",
       " '=c',\n",
       " '=c',\n",
       " '=a',\n",
       " '=g',\n",
       " '=g',\n",
       " '=a',\n",
       " '=t',\n",
       " '=a',\n",
       " '=t',\n",
       " '=c',\n",
       " '=c',\n",
       " '=t',\n",
       " '=t',\n",
       " '=c',\n",
       " '=t',\n",
       " '=g',\n",
       " '=t',\n",
       " '=c',\n",
       " '=c',\n",
       " '=a',\n",
       " '=g',\n",
       " '=t',\n",
       " '=g',\n",
       " '=c',\n",
       " '=a',\n",
       " '=c',\n",
       " '=c',\n",
       " '=a',\n",
       " '=t',\n",
       " '=c',\n",
       " '=t',\n",
       " '=g',\n",
       " '=g',\n",
       " '=a',\n",
       " '=c',\n",
       " '=c',\n",
       " '=t',\n",
       " '=c',\n",
       " '=a',\n",
       " '=g',\n",
       " '=t',\n",
       " '=t',\n",
       " '=G',\n",
       " '=c',\n",
       " '=c',\n",
       " '=c',\n",
       " '=t',\n",
       " '=t',\n",
       " '=c',\n",
       " '=a',\n",
       " '=a',\n",
       " '=a',\n",
       " '=g',\n",
       " '=g',\n",
       " '=g',\n",
       " '=g',\n",
       " '=t',\n",
       " '=g',\n",
       " '=g',\n",
       " '=a',\n",
       " '=t',\n",
       " '=g',\n",
       " '=a',\n",
       " '=c',\n",
       " '=c',\n",
       " '=g',\n",
       " '=t',\n",
       " '=g',\n",
       " '=a',\n",
       " '=g',\n",
       " '=t',\n",
       " '=c',\n",
       " '=c',\n",
       " '=t',\n",
       " '=g',\n",
       " '=g',\n",
       " '=c',\n",
       " '=c',\n",
       " '=c',\n",
       " '=t',\n",
       " '=c',\n",
       " '=t',\n",
       " '=g',\n",
       " '=t',\n",
       " '=g',\n",
       " '=t',\n",
       " '=t',\n",
       " '=t',\n",
       " '=t',\n",
       " '=a',\n",
       " '=t',\n",
       " '=a',\n",
       " '=a',\n",
       " '=t',\n",
       " '=a',\n",
       " '=g',\n",
       " '=g',\n",
       " '=a',\n",
       " '=c',\n",
       " '=c',\n",
       " '=t',\n",
       " '=g',\n",
       " '=c',\n",
       " '=c',\n",
       " '=a',\n",
       " '=g',\n",
       " '=t',\n",
       " '=g',\n",
       " '=c',\n",
       " '=t',\n",
       " '=c',\n",
       " '=a',\n",
       " '=g',\n",
       " '=g',\n",
       " '=c',\n",
       " '=A',\n",
       " '=G',\n",
       " '=c',\n",
       " '=t',\n",
       " '=t',\n",
       " '=c',\n",
       " '=a',\n",
       " '=t',\n",
       " '=T',\n",
       " '=g',\n",
       " '=g',\n",
       " '=T',\n",
       " '=G',\n",
       " '=t',\n",
       " '=c',\n",
       " '=a',\n",
       " '=a',\n",
       " '=c',\n",
       " '=t',\n",
       " '=g',\n",
       " '=c',\n",
       " '=g',\n",
       " '=g',\n",
       " '=a',\n",
       " '=a',\n",
       " '=a',\n",
       " '=c',\n",
       " '=t',\n",
       " '=g',\n",
       " '=t',\n",
       " '=a',\n",
       " '=a',\n",
       " '=g',\n",
       " '=t',\n",
       " '=t',\n",
       " '=t',\n",
       " '=g',\n",
       " '=g',\n",
       " '=a',\n",
       " '=t',\n",
       " '=t',\n",
       " ...]"
      ]
     },
     "execution_count": 19,
     "metadata": {},
     "output_type": "execute_result"
    }
   ],
   "source": []
  },
  {
   "cell_type": "markdown",
   "metadata": {},
   "source": [
    "## またエラーが出たので、midsvを更新（0.8.3 -> 0.8.4）"
   ]
  },
  {
   "attachments": {
    "image.png": {
     "image/png": "[encoded data removed]"
    }
   },
   "cell_type": "markdown",
   "metadata": {},
   "source": [
    "- 今回も重複リードが原因だった\n",
    "\n",
    "![image.png](attachment:image.png)\n",
    "\n",
    "- スタートまたはエンドの位置が完全に同じリードはマイクロホモロジーによる重複ではなくリシークエンスであるため、除去することにした"
   ]
  },
  {
   "cell_type": "code",
   "execution_count": null,
   "metadata": {},
   "outputs": [],
   "source": []
  },
  {
   "cell_type": "code",
   "execution_count": 23,
   "metadata": {},
   "outputs": [
    {
     "name": "stdout",
     "output_type": "stream",
     "text": [
      "processing test-tyr-albino-01%...\n"
     ]
    },
    {
     "name": "stderr",
     "output_type": "stream",
     "text": [
      "\n",
      "real\t5m52.337s\n",
      "user\t7m35.895s\n",
      "sys\t2m29.018s\n"
     ]
    }
   ],
   "source": [
    "%%bash\n",
    "rm -rf \"DAJINResults/.tempdir/test-tyr-albino-01%\"\n",
    "time python misc/quickstart.py"
   ]
  },
  {
   "cell_type": "code",
   "execution_count": 24,
   "metadata": {},
   "outputs": [
    {
     "name": "stdout",
     "output_type": "stream",
     "text": [
      "processing test-ayabe-task1...\n"
     ]
    },
    {
     "name": "stderr",
     "output_type": "stream",
     "text": [
      "\n",
      "real\t1m23.869s\n",
      "user\t2m22.957s\n",
      "sys\t1m24.711s\n"
     ]
    }
   ],
   "source": [
    "%%bash\n",
    "rm -rf \"DAJINResults/.tempdir/test-ayabe-task1\"\n",
    "time python misc/quickstart.py"
   ]
  },
  {
   "cell_type": "code",
   "execution_count": 25,
   "metadata": {},
   "outputs": [
    {
     "name": "stdout",
     "output_type": "stream",
     "text": [
      "processing test-stx2-deletion...\n"
     ]
    },
    {
     "name": "stderr",
     "output_type": "stream",
     "text": [
      "\n",
      "real\t2m36.187s\n",
      "user\t3m38.983s\n",
      "sys\t1m36.239s\n"
     ]
    }
   ],
   "source": [
    "%%bash\n",
    "rm -rf \"DAJINResults/.tempdir/test-knockout\"\n",
    "time python misc/quickstart.py"
   ]
  },
  {
   "cell_type": "code",
   "execution_count": null,
   "metadata": {},
   "outputs": [],
   "source": []
  },
  {
   "attachments": {},
   "cell_type": "markdown",
   "metadata": {},
   "source": [
    "# 結果\n"
   ]
  },
  {
   "attachments": {},
   "cell_type": "markdown",
   "metadata": {},
   "source": [
    "+ `correct_repetitive_deletions`を削除しても、ほぼ問題なく遺伝型解析ができた"
   ]
  },
  {
   "attachments": {},
   "cell_type": "markdown",
   "metadata": {},
   "source": [
    "# 次回の課題"
   ]
  },
  {
   "attachments": {},
   "cell_type": "markdown",
   "metadata": {},
   "source": [
    "+ [x] ~~点変異、欠失、ノックインのデザインで動くかを確認する~~\n",
    "+ [x] ~~Clusteringのときの警告メッセージは無害なので消去する~~\n",
    "+ [ ] right_loxpがいまいちな理由を考察する\n",
    "    +  ~~[x] Ayabe-task1のpreprocessにおいて、329と1280の補正がされていない理由を検討する~~ -> distanceの閾値を下げた -> distanceの定義を変えた\n",
    "+ [x] ~~distanceの閾値を下げた状態で、1%点変異が検出できるか~~\n",
    "+ [x] ~~`correct_repetitive_deletions`を削除~~\n",
    "+ [ ] VCFの出力\n",
    "+ [ ] Flox insertionのアレル6のC->T変異は**クオリティが低いのでこれもシークエンスエラーの可能性が高い** (`20230215-distance-cosine.ipynb`)\n",
    "+ [ ] Insertionのなかにある変異を同定する手法を考案する\n",
    "+ [ ] `preprocess.correct_sequence_error.replace_atmark`のコードがわかりにくい\n",
    "    + テストを用意してリファクタリングする\n",
    "+ [ ] cis変異の両端が欠失している場合に、Nで置き換えるとtransとなってしまうのをどうするか（`replace_n`）\n",
    "+ [ ] 短いリードの扱いをどうするべきか\n",
    "    + JS距離で抽出された変異部位だけを標的とする？\n",
    "    + 両端のNを気にする必要がなくなる"
   ]
  },
  {
   "cell_type": "markdown",
   "metadata": {},
   "source": []
  }
 ],
 "metadata": {
  "kernelspec": {
   "display_name": "base",
   "language": "python",
   "name": "python3"
  },
  "language_info": {
   "codemirror_mode": {
    "name": "ipython",
    "version": 3
   },
   "file_extension": ".py",
   "mimetype": "text/x-python",
   "name": "python",
   "nbconvert_exporter": "python",
   "pygments_lexer": "ipython3",
   "version": "3.10.6"
  },
  "orig_nbformat": 4,
  "vscode": {
   "interpreter": {
    "hash": "a09285d6cbc768c1977f96e8deb5ca1ec0d08675e9573ed6dfd37fd7d91de663"
   }
  }
 },
 "nbformat": 4,
 "nbformat_minor": 2
}
