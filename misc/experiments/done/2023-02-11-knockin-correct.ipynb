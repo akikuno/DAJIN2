{
 "cells": [
  {
   "attachments": {},
   "cell_type": "markdown",
   "metadata": {},
   "source": [
    "# 取り組み"
   ]
  },
  {
   "attachments": {},
   "cell_type": "markdown",
   "metadata": {},
   "source": [
    "+ [ ] right_loxpがいまいちな理由を考察する\n",
    "left_loxpに比べてright_loxpのクラスタがはっきりしない\n",
    "\n",
    "### 補正がうまく行っていないことがわかった\n",
    "\n",
    "- `chr2:180,264,007（329）`の欠失はbartcode31にも42にも同程度で見られる\n",
    "    - にもかかわらず補正がされていない\n",
    "    - ClusteringではなくPreprocessingにおける補正の問題である\n",
    "- `chr2:180,263,057（1279）`の挿入も同様にbartcode31にも42にも同程度で見られる\n",
    "\n",
    "補正がうまく行っていないために、right_loxpのクラスタリングがうまく行っていないと考えられる\n",
    "-> `preprocessing`にてデバッグする\n"
   ]
  },
  {
   "cell_type": "code",
   "execution_count": 1,
   "metadata": {},
   "outputs": [
    {
     "name": "stdout",
     "output_type": "stream",
     "text": [
      "/mnt/d/Research/DAJIN2\n"
     ]
    }
   ],
   "source": [
    "# ルートディレクトリをPathに含めるおまじない\n",
    "import sys, os\n",
    "from pathlib import Path\n",
    "if os.getcwd() != \"/mnt/d/Research/DAJIN2\":\n",
    "    parent_path = str(Path(os.path.dirname(os.path.abspath(\"__file__\"))).parent.parent)\n",
    "    sys.path.append(parent_path)\n",
    "    os.chdir(parent_path)\n",
    "print(os.getcwd())"
   ]
  },
  {
   "attachments": {},
   "cell_type": "markdown",
   "metadata": {},
   "source": [
    "# 実験"
   ]
  },
  {
   "cell_type": "code",
   "execution_count": 2,
   "metadata": {},
   "outputs": [
    {
     "name": "stdout",
     "output_type": "stream",
     "text": [
      "processing test-ayabe-task1...\n"
     ]
    }
   ],
   "source": [
    "from __future__ import annotations\n",
    "\n",
    "import sys, os\n",
    "from pathlib import Path\n",
    "\n",
    "sys.path.append(\"/mnt/d/Research/DAJIN2\")\n",
    "os.chdir(\"/mnt/d/Research/DAJIN2\")\n",
    "\n",
    "import hashlib\n",
    "from collections import defaultdict\n",
    "from pathlib import Path\n",
    "from importlib import reload\n",
    "\n",
    "from src.DAJIN2.core import preprocess, classification, clustering, consensus, report\n",
    "from src.DAJIN2.core.clustering import clustering\n",
    "\n",
    "# # * flox insertion\n",
    "SAMPLE, CONTROL, ALLELE, NAME, GENOME, DEBUG, THREADS = (\n",
    "    \"examples/flox-cables2/AyabeTask1/barcode31.fq.gz\",\n",
    "    \"examples/flox-cables2/AyabeTask1/barcode42.fq.gz\",\n",
    "    \"examples/flox-cables2/AyabeTask1/design_cables2.fa\",\n",
    "    \"test-ayabe-task1\",\n",
    "    \"mm10\",\n",
    "    True,\n",
    "    14,\n",
    ")\n",
    "\n",
    "print(f\"processing {NAME}...\")\n",
    "\n",
    "##########################################################\n",
    "# Check inputs\n",
    "##########################################################\n",
    "preprocess.check_inputs.check_files(SAMPLE, CONTROL, ALLELE)\n",
    "TEMPDIR = Path(\"DAJINResults\", \".tempdir\", NAME)\n",
    "IS_CACHE_CONTROL = preprocess.check_inputs.exists_cached_control(CONTROL, TEMPDIR)\n",
    "IS_CACHE_GENOME = preprocess.check_inputs.exists_cached_genome(GENOME, TEMPDIR, IS_CACHE_CONTROL)\n",
    "UCSC_URL, GOLDENPATH_URL = None, None\n",
    "if GENOME and not IS_CACHE_GENOME:\n",
    "    UCSC_URL, GOLDENPATH_URL = preprocess.check_inputs.check_and_fetch_genome(GENOME)\n",
    "\n",
    "##########################################################\n",
    "# Format inputs\n",
    "##########################################################\n",
    "SAMPLE_NAME = preprocess.format_inputs.extract_basename(SAMPLE)\n",
    "CONTROL_NAME = preprocess.format_inputs.extract_basename(CONTROL)\n",
    "FASTA_ALLELES = preprocess.format_inputs.dictionize_allele(ALLELE)\n",
    "\n",
    "preprocess.format_inputs.make_directories(TEMPDIR, SAMPLE_NAME, CONTROL_NAME)\n",
    "\n",
    "if GENOME:\n",
    "    GENOME_COODINATES = preprocess.format_inputs.fetch_coodinate(GENOME, UCSC_URL, FASTA_ALLELES[\"control\"])\n",
    "    CHROME_SIZE = preprocess.format_inputs.fetch_chrom_size(GENOME_COODINATES[\"chr\"], GENOME, GOLDENPATH_URL)\n",
    "    preprocess.format_inputs.cache_coodinates_and_chromsize(TEMPDIR, GENOME, GENOME_COODINATES, CHROME_SIZE)"
   ]
  },
  {
   "cell_type": "code",
   "execution_count": 3,
   "metadata": {},
   "outputs": [],
   "source": [
    "from __future__ import annotations\n",
    "\n",
    "import random\n",
    "import re\n",
    "from collections import Counter, defaultdict\n",
    "from copy import deepcopy\n",
    "from pathlib import Path\n",
    "import midsv\n",
    "from scipy import stats\n",
    "from scipy.spatial.distance import cosine\n",
    "\n",
    "\n",
    "def set_indexes(sequence: str):\n",
    "    sequence_length = len(sequence)\n",
    "    num_subset = sequence_length % 5\n",
    "    left_idx = 0\n",
    "    right_idx = sequence_length\n",
    "    if num_subset == 1:\n",
    "        left_idx += 1\n",
    "    elif num_subset == 2:\n",
    "        left_idx += 1\n",
    "        right_idx -= 1\n",
    "    elif num_subset == 3:\n",
    "        left_idx += 2\n",
    "        right_idx -= 1\n",
    "    elif num_subset == 4:\n",
    "        left_idx += 2\n",
    "        right_idx -= 2\n",
    "    return left_idx, right_idx\n",
    "\n",
    "\n",
    "def count_indels_5mer(cssplits: list[list[str]], left_idx: int, right_idx: int) -> list[dict]:\n",
    "    transposed = [list(t) for t in zip(*cssplits)]\n",
    "    count_indels_5mer = []\n",
    "    for i in range(left_idx, right_idx, 5):\n",
    "        count = {\"ins\": [1] * 5, \"del\": [1] * 5, \"sub\": [1] * 5}\n",
    "        cssplits_5mer = transposed[i : i + 5]\n",
    "        for j, cs in enumerate(cssplits_5mer):\n",
    "            counter = Counter(cs)\n",
    "            for key, cnt in counter.items():\n",
    "                if key.startswith(\"=\") or key == \"N\" or re.search(r\"a|c|g|t|n\", key):\n",
    "                    continue\n",
    "                if key.startswith(\"+\"):\n",
    "                    count[\"ins\"][j] += cnt\n",
    "                elif key.startswith(\"-\"):\n",
    "                    count[\"del\"][j] += cnt\n",
    "                elif key.startswith(\"*\"):\n",
    "                    count[\"sub\"][j] += cnt\n",
    "        count_indels_5mer.append(count)\n",
    "    return count_indels_5mer\n",
    "\n",
    "\n",
    "def extract_sequence_errors(count_5mer_sample, count_5mer_control, coverage_sample, coverage_control):\n",
    "    sequence_errors = [set() for _ in range(len(count_5mer_sample))]\n",
    "    for i in range(len(sequence_errors)):\n",
    "        for mutation in [\"ins\", \"del\", \"sub\"]:\n",
    "            samp = [c / coverage_sample for c in count_5mer_sample[i][mutation]]\n",
    "            cont = [c / coverage_control for c in count_5mer_control[i][mutation]]\n",
    "            distance = 1 - cosine(samp, cont)\n",
    "            _, pvalue = stats.ttest_ind(samp, cont, equal_var=False)\n",
    "            if distance > 0.95 and pvalue > 0.05:\n",
    "                sequence_errors[i].add(mutation)\n",
    "    return sequence_errors\n",
    "\n",
    "\n",
    "def replace_errors_to_atmark(cssplits_sample, sequence_errors, left_idx, right_idx):\n",
    "    cssplits_replaced = []\n",
    "    for samp in cssplits_sample:\n",
    "        samp_replaced = deepcopy(samp)\n",
    "        for idx_error, idx_5mer in enumerate(range(left_idx, right_idx, 5)):\n",
    "            samp_5mer = samp[idx_5mer : idx_5mer + 5]\n",
    "            error = sequence_errors[idx_error]\n",
    "            if \"ins\" in error:\n",
    "                samp_5mer = [\"@\" if cs.startswith(\"+\") else cs for cs in samp_5mer]\n",
    "            if \"del\" in error:\n",
    "                samp_5mer = [\"@\" if cs.startswith(\"-\") else cs for cs in samp_5mer]\n",
    "            if \"sub\" in error:\n",
    "                samp_5mer = [\"@\" if cs.startswith(\"*\") else cs for cs in samp_5mer]\n",
    "            samp_replaced[idx_5mer : idx_5mer + 5] = samp_5mer\n",
    "        cssplits_replaced.append(samp_replaced)\n",
    "    return cssplits_replaced\n",
    "\n",
    "\n",
    "def replace_atmark(cssplits: list[list[str]], sequence: str) -> list[list[str]]:\n",
    "    random.seed(1)\n",
    "    cssplits_replaced = deepcopy(cssplits)\n",
    "    sequence_length = len(sequence)\n",
    "    for i in range(1, sequence_length - 1):\n",
    "        cssplits_atmark = defaultdict(str)\n",
    "        cssplits_sampling_key = defaultdict(list)\n",
    "        cssplits_sampling_all = []\n",
    "        flag_all_atmark = True\n",
    "        for idx, cssplit in enumerate(cssplits):\n",
    "            key = \",\".join([cssplit[i - 1], cssplit[i + 1]])\n",
    "            if cssplit[i] == \"@\":\n",
    "                cssplits_atmark[idx] = key\n",
    "            else:\n",
    "                cssplits_sampling_key[key].append(cssplit[i])\n",
    "                cssplits_sampling_all.append(cssplit[i])\n",
    "                flag_all_atmark = False\n",
    "        for idx, key in cssplits_atmark.items():\n",
    "            if flag_all_atmark:\n",
    "                cssplits_replaced[idx][i] = \"N\"\n",
    "            elif cssplits_sampling_key[key]:\n",
    "                cssplits_replaced[idx][i] = random.choice(cssplits_sampling_key[key])\n",
    "            else:\n",
    "                cssplits_replaced[idx][i] = random.choice(cssplits_sampling_all)\n",
    "    for cs in cssplits_replaced:\n",
    "        if cs[0] == \"@\":\n",
    "            cs[0] = \"=\" + sequence[0]\n",
    "        if cs[-1] == \"@\":\n",
    "            cs[-1] = \"=\" + sequence[-1]\n",
    "    return cssplits_replaced\n",
    "\n",
    "\n",
    "###############################################################################\n",
    "# main\n",
    "###############################################################################\n",
    "\n",
    "\n",
    "def execute(TEMPDIR: Path, FASTA_ALLELES: dict[str, str], CONTROL_NAME: str, SAMPLE_NAME: str) -> None:\n",
    "    for allele, sequence in FASTA_ALLELES.items():\n",
    "        midsv_sample = midsv.read_jsonl((Path(TEMPDIR, \"midsv\", f\"{SAMPLE_NAME}_splice_{allele}.jsonl\")))\n",
    "        midsv_control = midsv.read_jsonl((Path(TEMPDIR, \"midsv\", f\"{CONTROL_NAME}_splice_{allele}.jsonl\")))\n",
    "        coverage_sample = len(midsv_sample)\n",
    "        coverage_control = len(midsv_control)\n",
    "        cssplits_sample = [cs[\"CSSPLIT\"].split(\",\") for cs in midsv_sample]\n",
    "        cssplits_control = [cs[\"CSSPLIT\"].split(\",\") for cs in midsv_control]\n",
    "        left_idx, right_idx = set_indexes(sequence)\n",
    "        count_5mer_sample = count_indels_5mer(cssplits_sample, left_idx, right_idx)\n",
    "        count_5mer_control = count_indels_5mer(cssplits_control, left_idx, right_idx)\n",
    "        sequence_errors = extract_sequence_errors(\n",
    "            count_5mer_sample, count_5mer_control, coverage_sample, coverage_control\n",
    "        )\n",
    "        cssplits_sample_error_replaced = replace_errors_to_atmark(cssplits_sample, sequence_errors, left_idx, right_idx)\n",
    "        cssplits_control_error_replaced = replace_errors_to_atmark(\n",
    "            cssplits_control, sequence_errors, left_idx, right_idx\n",
    "        )\n",
    "        cssplits_sample_atmark_replaced = replace_atmark(cssplits_sample_error_replaced, sequence)\n",
    "        cssplits_control_atmark_replaced = replace_atmark(cssplits_control_error_replaced, sequence)\n",
    "        # Replace CSSPLIT\n",
    "        cssplits_sample_corrected = [\",\".join(cs) for cs in cssplits_sample_atmark_replaced]\n",
    "        cssplits_control_corrected = [\",\".join(cs) for cs in cssplits_control_atmark_replaced]\n",
    "        for i, cssplits in enumerate(cssplits_sample_corrected):\n",
    "            midsv_sample[i][\"CSSPLIT\"] = cssplits\n",
    "        for i, cssplits in enumerate(cssplits_control_corrected):\n",
    "            midsv_control[i][\"CSSPLIT\"] = cssplits\n",
    "        midsv.write_jsonl(midsv_control, Path(TEMPDIR, \"midsv\", f\"{CONTROL_NAME}_splice_{allele}.jsonl\"))\n",
    "        midsv.write_jsonl(midsv_sample, Path(TEMPDIR, \"midsv\", f\"{SAMPLE_NAME}_splice_{allele}.jsonl\"))\n",
    "\n"
   ]
  },
  {
   "cell_type": "code",
   "execution_count": 5,
   "metadata": {},
   "outputs": [],
   "source": [
    "allele = \"control\"\n",
    "sv = False\n",
    "sequence = FASTA_ALLELES[allele]"
   ]
  },
  {
   "cell_type": "code",
   "execution_count": 6,
   "metadata": {},
   "outputs": [],
   "source": [
    "midsv_sample = midsv.read_jsonl((Path(TEMPDIR, \"midsv\", f\"{SAMPLE_NAME}_splice_{allele}.jsonl\")))\n",
    "midsv_control = midsv.read_jsonl((Path(TEMPDIR, \"midsv\", f\"{CONTROL_NAME}_splice_{allele}.jsonl\")))\n",
    "coverage_sample = len(midsv_sample)\n",
    "coverage_control = len(midsv_control)\n",
    "cssplits_sample = [cs[\"CSSPLIT\"].split(\",\") for cs in midsv_sample]\n",
    "cssplits_control = [cs[\"CSSPLIT\"].split(\",\") for cs in midsv_control]"
   ]
  },
  {
   "cell_type": "code",
   "execution_count": 7,
   "metadata": {},
   "outputs": [],
   "source": [
    "i_del = 329\n",
    "i_ins = 1280"
   ]
  },
  {
   "cell_type": "code",
   "execution_count": 10,
   "metadata": {},
   "outputs": [
    {
     "name": "stdout",
     "output_type": "stream",
     "text": [
      "=====================\n",
      "control @ 329\n",
      "defaultdict(<class 'int'>, {'=C': 824, '-C': 125, 'N': 8, '+A|*CA': 3, '+C|=C': 3, '+C|+C|=C': 4, '+G|*CT': 1})\n",
      "=====================\n",
      "sample @ 329\n",
      "defaultdict(<class 'int'>, {'=C': 831, '+C|=C': 9, '-C': 129, 'N': 10})\n"
     ]
    }
   ],
   "source": [
    "from collections import defaultdict\n",
    "from collections import Counter\n",
    "\n",
    "count = defaultdict(int)\n",
    "for cs in cssplits_control:\n",
    "    count[cs[i_del]] += 1\n",
    "print(\"=====================\")\n",
    "print(f\"control @ {i_del}\")\n",
    "print(count)\n",
    "\n",
    "count = defaultdict(int)\n",
    "for cs in cssplits_sample:\n",
    "    count[cs[i_del]] += 1\n",
    "print(\"=====================\")\n",
    "print(f\"sample @ {i_del}\")\n",
    "print(count)"
   ]
  },
  {
   "cell_type": "code",
   "execution_count": 11,
   "metadata": {},
   "outputs": [
    {
     "name": "stdout",
     "output_type": "stream",
     "text": [
      "=====================\n",
      "control @ 1280\n",
      "defaultdict(<class 'int'>, {'=G': 850, '+A|=G': 26, '-G': 25, '+G|=G': 2, 'N': 34, '+A|+G|=G': 19, '+A|+A|=G': 1, '+G|+A|+G|=G': 1, '+G|+A|=G': 2, '+G|+T|=G': 2, '+G|+A|+A|+A|+G|=G': 1, '+A|+A|+G|=G': 1, '+C|+G|=G': 2, '+T|=G': 1, '+C|+A|=G': 1})\n",
      "=====================\n",
      "sample @ 1280\n",
      "defaultdict(<class 'int'>, {'=G': 819, '+A|=G': 64, '-G': 39, '+A|+G|=G': 16, 'N': 26, '+G|+A|=G': 1, '+T|+A|=G': 1, '+A|+T|+T|+C|+T|=G': 7, '+A|*GC': 1, '+C|+A|=G': 1, '+C|+A|+G|+A|=G': 1, '+A|+G|+A|=G': 1, '+G|=G': 2})\n"
     ]
    }
   ],
   "source": [
    "from collections import defaultdict\n",
    "from collections import Counter\n",
    "\n",
    "count = defaultdict(int)\n",
    "for cs in cssplits_control:\n",
    "    count[cs[i_ins]] += 1\n",
    "print(\"=====================\")\n",
    "print(f\"control @ {i_ins}\")\n",
    "print(count)\n",
    "\n",
    "count = defaultdict(int)\n",
    "for cs in cssplits_sample:\n",
    "    count[cs[i_ins]] += 1\n",
    "print(\"=====================\")\n",
    "print(f\"sample @ {i_ins}\")\n",
    "print(count)"
   ]
  },
  {
   "cell_type": "code",
   "execution_count": 12,
   "metadata": {},
   "outputs": [],
   "source": [
    "left_idx, right_idx = set_indexes(sequence)\n",
    "count_5mer_sample = count_indels_5mer(cssplits_sample, left_idx, right_idx)\n",
    "count_5mer_control = count_indels_5mer(cssplits_control, left_idx, right_idx)\n",
    "sequence_errors = extract_sequence_errors(\n",
    "    count_5mer_sample, count_5mer_control, coverage_sample, coverage_control\n",
    ")"
   ]
  },
  {
   "cell_type": "code",
   "execution_count": 17,
   "metadata": {},
   "outputs": [
    {
     "name": "stdout",
     "output_type": "stream",
     "text": [
      "65\n",
      "{'ins': [2, 5, 10, 5, 2], 'del': [9, 23, 130, 43, 6], 'sub': [1, 1, 1, 1, 1]}\n",
      "{'ins': [3, 6, 12, 4, 10], 'del': [2, 11, 126, 93, 8], 'sub': [1, 1, 1, 1, 1]}\n",
      "set()\n"
     ]
    }
   ],
   "source": [
    "print(i_del//5)\n",
    "print(count_5mer_sample[i_del//5])\n",
    "print(count_5mer_control[i_del//5])\n",
    "print(sequence_errors[i_del//5])"
   ]
  },
  {
   "cell_type": "code",
   "execution_count": 18,
   "metadata": {},
   "outputs": [
    {
     "name": "stdout",
     "output_type": "stream",
     "text": [
      "0.9453921012935363 0.8592465758672474\n"
     ]
    }
   ],
   "source": [
    "samp = [c / coverage_sample for c in [9, 23, 130, 43, 6]]\n",
    "cont = [c / coverage_control for c in [2, 11, 126, 93, 8]]\n",
    "distance = 1 - cosine(samp, cont)\n",
    "_, pvalue = stats.ttest_ind(samp, cont, equal_var=False)\n",
    "print(distance, pvalue)"
   ]
  },
  {
   "cell_type": "code",
   "execution_count": 19,
   "metadata": {},
   "outputs": [
    {
     "name": "stdout",
     "output_type": "stream",
     "text": [
      "256\n",
      "{'ins': [7, 7, 3, 9, 30], 'del': [1, 1, 1, 1, 1], 'sub': [1, 1, 1, 1, 1]}\n",
      "{'ins': [19, 15, 18, 23, 35], 'del': [1, 1, 1, 1, 1], 'sub': [1, 1, 1, 1, 1]}\n",
      "set()\n"
     ]
    }
   ],
   "source": [
    "print(i_ins//5)\n",
    "print(count_5mer_sample[i_ins//5])\n",
    "print(count_5mer_control[i_ins//5])\n",
    "print(sequence_errors[i_ins//5])"
   ]
  },
  {
   "cell_type": "code",
   "execution_count": 20,
   "metadata": {},
   "outputs": [
    {
     "name": "stdout",
     "output_type": "stream",
     "text": [
      "0.9098501265616633 0.1041139955936684\n"
     ]
    }
   ],
   "source": [
    "samp = [c / coverage_sample for c in count_5mer_sample[i_ins//5][\"ins\"]]\n",
    "cont = [c / coverage_control for c in count_5mer_control[i_ins//5][\"ins\"]]\n",
    "distance = 1 - cosine(samp, cont)\n",
    "_, pvalue = stats.ttest_ind(samp, cont, equal_var=False)\n",
    "print(distance, pvalue)"
   ]
  },
  {
   "attachments": {},
   "cell_type": "markdown",
   "metadata": {},
   "source": [
    "### 原因\n",
    "- 329も1280もdistanceが0.95以下であることによって補正を免れていた。\n",
    "    - → `extract_sequence_errors`における`distance`の閾値を0.95から0.9に変更した"
   ]
  },
  {
   "cell_type": "code",
   "execution_count": 23,
   "metadata": {},
   "outputs": [],
   "source": [
    "def extract_sequence_errors(count_5mer_sample, count_5mer_control, coverage_sample, coverage_control):\n",
    "    sequence_errors = [set() for _ in range(len(count_5mer_sample))]\n",
    "    for i in range(len(sequence_errors)):\n",
    "        for mutation in [\"ins\", \"del\", \"sub\"]:\n",
    "            samp = [c / coverage_sample for c in count_5mer_sample[i][mutation]]\n",
    "            cont = [c / coverage_control for c in count_5mer_control[i][mutation]]\n",
    "            distance = 1 - cosine(samp, cont)\n",
    "            _, pvalue = stats.ttest_ind(samp, cont, equal_var=False)\n",
    "            if distance > 0.9 and pvalue > 0.05:\n",
    "                sequence_errors[i].add(mutation)\n",
    "    return sequence_errors"
   ]
  },
  {
   "cell_type": "code",
   "execution_count": 24,
   "metadata": {},
   "outputs": [],
   "source": [
    "sequence_errors = extract_sequence_errors(\n",
    "    count_5mer_sample, count_5mer_control, coverage_sample, coverage_control\n",
    ")"
   ]
  },
  {
   "cell_type": "code",
   "execution_count": 25,
   "metadata": {},
   "outputs": [
    {
     "name": "stdout",
     "output_type": "stream",
     "text": [
      "{'del'}\n"
     ]
    }
   ],
   "source": [
    "print(sequence_errors[i_del//5])"
   ]
  },
  {
   "cell_type": "code",
   "execution_count": 26,
   "metadata": {},
   "outputs": [
    {
     "name": "stdout",
     "output_type": "stream",
     "text": [
      "{'ins'}\n"
     ]
    }
   ],
   "source": [
    "print(sequence_errors[i_ins//5])"
   ]
  },
  {
   "attachments": {},
   "cell_type": "markdown",
   "metadata": {},
   "source": [
    "## distance 0.9にすると、knokcinのright-loxpは検出できるのか？"
   ]
  },
  {
   "cell_type": "code",
   "execution_count": 27,
   "metadata": {},
   "outputs": [],
   "source": [
    "from __future__ import annotations\n",
    "\n",
    "import random\n",
    "import re\n",
    "from collections import Counter, defaultdict\n",
    "from copy import deepcopy\n",
    "from pathlib import Path\n",
    "import midsv\n",
    "from scipy import stats\n",
    "from scipy.spatial.distance import cosine\n",
    "\n",
    "\n",
    "def set_indexes(sequence: str):\n",
    "    sequence_length = len(sequence)\n",
    "    num_subset = sequence_length % 5\n",
    "    left_idx = 0\n",
    "    right_idx = sequence_length\n",
    "    if num_subset == 1:\n",
    "        left_idx += 1\n",
    "    elif num_subset == 2:\n",
    "        left_idx += 1\n",
    "        right_idx -= 1\n",
    "    elif num_subset == 3:\n",
    "        left_idx += 2\n",
    "        right_idx -= 1\n",
    "    elif num_subset == 4:\n",
    "        left_idx += 2\n",
    "        right_idx -= 2\n",
    "    return left_idx, right_idx\n",
    "\n",
    "\n",
    "def count_indels_5mer(cssplits: list[list[str]], left_idx: int, right_idx: int) -> list[dict]:\n",
    "    transposed = [list(t) for t in zip(*cssplits)]\n",
    "    count_indels_5mer = []\n",
    "    for i in range(left_idx, right_idx, 5):\n",
    "        count = {\"ins\": [1] * 5, \"del\": [1] * 5, \"sub\": [1] * 5}\n",
    "        cssplits_5mer = transposed[i : i + 5]\n",
    "        for j, cs in enumerate(cssplits_5mer):\n",
    "            counter = Counter(cs)\n",
    "            for key, cnt in counter.items():\n",
    "                if key.startswith(\"=\") or key == \"N\" or re.search(r\"a|c|g|t|n\", key):\n",
    "                    continue\n",
    "                if key.startswith(\"+\"):\n",
    "                    count[\"ins\"][j] += cnt\n",
    "                elif key.startswith(\"-\"):\n",
    "                    count[\"del\"][j] += cnt\n",
    "                elif key.startswith(\"*\"):\n",
    "                    count[\"sub\"][j] += cnt\n",
    "        count_indels_5mer.append(count)\n",
    "    return count_indels_5mer\n",
    "\n",
    "\n",
    "def extract_sequence_errors(count_5mer_sample, count_5mer_control, coverage_sample, coverage_control):\n",
    "    sequence_errors = [set() for _ in range(len(count_5mer_sample))]\n",
    "    for i in range(len(sequence_errors)):\n",
    "        for mutation in [\"ins\", \"del\", \"sub\"]:\n",
    "            samp = [c / coverage_sample for c in count_5mer_sample[i][mutation]]\n",
    "            cont = [c / coverage_control for c in count_5mer_control[i][mutation]]\n",
    "            distance = 1 - cosine(samp, cont)\n",
    "            _, pvalue = stats.ttest_ind(samp, cont, equal_var=False)\n",
    "            if distance > 0.9 and pvalue > 0.05:\n",
    "                sequence_errors[i].add(mutation)\n",
    "    return sequence_errors\n",
    "\n",
    "\n",
    "def replace_errors_to_atmark(cssplits_sample, sequence_errors, left_idx, right_idx):\n",
    "    cssplits_replaced = []\n",
    "    for samp in cssplits_sample:\n",
    "        samp_replaced = deepcopy(samp)\n",
    "        for idx_error, idx_5mer in enumerate(range(left_idx, right_idx, 5)):\n",
    "            samp_5mer = samp[idx_5mer : idx_5mer + 5]\n",
    "            error = sequence_errors[idx_error]\n",
    "            if \"ins\" in error:\n",
    "                samp_5mer = [\"@\" if cs.startswith(\"+\") else cs for cs in samp_5mer]\n",
    "            if \"del\" in error:\n",
    "                samp_5mer = [\"@\" if cs.startswith(\"-\") else cs for cs in samp_5mer]\n",
    "            if \"sub\" in error:\n",
    "                samp_5mer = [\"@\" if cs.startswith(\"*\") else cs for cs in samp_5mer]\n",
    "            samp_replaced[idx_5mer : idx_5mer + 5] = samp_5mer\n",
    "        cssplits_replaced.append(samp_replaced)\n",
    "    return cssplits_replaced\n",
    "\n",
    "\n",
    "def replace_atmark(cssplits: list[list[str]], sequence: str) -> list[list[str]]:\n",
    "    random.seed(1)\n",
    "    cssplits_replaced = deepcopy(cssplits)\n",
    "    sequence_length = len(sequence)\n",
    "    for i in range(1, sequence_length - 1):\n",
    "        cssplits_atmark = defaultdict(str)\n",
    "        cssplits_sampling_key = defaultdict(list)\n",
    "        cssplits_sampling_all = []\n",
    "        flag_all_atmark = True\n",
    "        for idx, cssplit in enumerate(cssplits):\n",
    "            key = \",\".join([cssplit[i - 1], cssplit[i + 1]])\n",
    "            if cssplit[i] == \"@\":\n",
    "                cssplits_atmark[idx] = key\n",
    "            else:\n",
    "                cssplits_sampling_key[key].append(cssplit[i])\n",
    "                cssplits_sampling_all.append(cssplit[i])\n",
    "                flag_all_atmark = False\n",
    "        for idx, key in cssplits_atmark.items():\n",
    "            if flag_all_atmark:\n",
    "                cssplits_replaced[idx][i] = \"N\"\n",
    "            elif cssplits_sampling_key[key]:\n",
    "                cssplits_replaced[idx][i] = random.choice(cssplits_sampling_key[key])\n",
    "            else:\n",
    "                cssplits_replaced[idx][i] = random.choice(cssplits_sampling_all)\n",
    "    for cs in cssplits_replaced:\n",
    "        if cs[0] == \"@\":\n",
    "            cs[0] = \"=\" + sequence[0]\n",
    "        if cs[-1] == \"@\":\n",
    "            cs[-1] = \"=\" + sequence[-1]\n",
    "    return cssplits_replaced\n",
    "\n",
    "\n",
    "###############################################################################\n",
    "# main\n",
    "###############################################################################\n",
    "\n",
    "\n",
    "def execute(TEMPDIR: Path, FASTA_ALLELES: dict[str, str], CONTROL_NAME: str, SAMPLE_NAME: str) -> None:\n",
    "    for allele, sequence in FASTA_ALLELES.items():\n",
    "        midsv_sample = midsv.read_jsonl((Path(TEMPDIR, \"midsv\", f\"{SAMPLE_NAME}_splice_{allele}.jsonl\")))\n",
    "        midsv_control = midsv.read_jsonl((Path(TEMPDIR, \"midsv\", f\"{CONTROL_NAME}_splice_{allele}.jsonl\")))\n",
    "        coverage_sample = len(midsv_sample)\n",
    "        coverage_control = len(midsv_control)\n",
    "        cssplits_sample = [cs[\"CSSPLIT\"].split(\",\") for cs in midsv_sample]\n",
    "        cssplits_control = [cs[\"CSSPLIT\"].split(\",\") for cs in midsv_control]\n",
    "        left_idx, right_idx = set_indexes(sequence)\n",
    "        count_5mer_sample = count_indels_5mer(cssplits_sample, left_idx, right_idx)\n",
    "        count_5mer_control = count_indels_5mer(cssplits_control, left_idx, right_idx)\n",
    "        sequence_errors = extract_sequence_errors(\n",
    "            count_5mer_sample, count_5mer_control, coverage_sample, coverage_control\n",
    "        )\n",
    "        cssplits_sample_error_replaced = replace_errors_to_atmark(cssplits_sample, sequence_errors, left_idx, right_idx)\n",
    "        cssplits_control_error_replaced = replace_errors_to_atmark(\n",
    "            cssplits_control, sequence_errors, left_idx, right_idx\n",
    "        )\n",
    "        cssplits_sample_atmark_replaced = replace_atmark(cssplits_sample_error_replaced, sequence)\n",
    "        cssplits_control_atmark_replaced = replace_atmark(cssplits_control_error_replaced, sequence)\n",
    "        # Replace CSSPLIT\n",
    "        cssplits_sample_corrected = [\",\".join(cs) for cs in cssplits_sample_atmark_replaced]\n",
    "        cssplits_control_corrected = [\",\".join(cs) for cs in cssplits_control_atmark_replaced]\n",
    "        for i, cssplits in enumerate(cssplits_sample_corrected):\n",
    "            midsv_sample[i][\"CSSPLIT\"] = cssplits\n",
    "        for i, cssplits in enumerate(cssplits_control_corrected):\n",
    "            midsv_control[i][\"CSSPLIT\"] = cssplits\n",
    "        midsv.write_jsonl(midsv_control, Path(TEMPDIR, \"midsv\", f\"{CONTROL_NAME}_splice_{allele}.jsonl\"))\n",
    "        midsv.write_jsonl(midsv_sample, Path(TEMPDIR, \"midsv\", f\"{SAMPLE_NAME}_splice_{allele}.jsonl\"))\n"
   ]
  },
  {
   "cell_type": "code",
   "execution_count": 29,
   "metadata": {},
   "outputs": [],
   "source": [
    "execute(TEMPDIR, FASTA_ALLELES, CONTROL_NAME, SAMPLE_NAME)"
   ]
  },
  {
   "cell_type": "code",
   "execution_count": 30,
   "metadata": {},
   "outputs": [],
   "source": [
    "classif_sample = classification.classify_alleles(TEMPDIR, SAMPLE_NAME)\n",
    "\n",
    "for classif in classif_sample:\n",
    "    classif[\"SV\"] = classification.detect_sv(classif[\"CSSPLIT\"], threshold=50)\n",
    "\n",
    "clust_sample = clustering.add_labels(classif_sample, TEMPDIR, CONTROL_NAME, FASTA_ALLELES, THREADS)\n",
    "clust_sample = clustering.add_readnum(clust_sample)\n",
    "clust_sample = clustering.add_percent(clust_sample)\n",
    "clust_sample = clustering.update_labels(clust_sample)\n"
   ]
  },
  {
   "cell_type": "code",
   "execution_count": 31,
   "metadata": {},
   "outputs": [],
   "source": [
    "both_loxp = \"f855fb9b57ee\"\n",
    "no_loxp = \"54661f075dc2\"\n",
    "left_loxp = \"7089ae32a686\"\n",
    "right_loxp = \"af9e73c7f917\""
   ]
  },
  {
   "cell_type": "code",
   "execution_count": 32,
   "metadata": {},
   "outputs": [
    {
     "name": "stdout",
     "output_type": "stream",
     "text": [
      "both_loxp: 1\n",
      "right_loxp: 2\n",
      "no_loxp: 2\n",
      "left_loxp: 3\n"
     ]
    }
   ],
   "source": [
    "for samp in clust_sample:\n",
    "    if both_loxp in samp[\"QNAME\"]:\n",
    "        print(f\"both_loxp: {samp['LABEL']}\")\n",
    "    if left_loxp in samp[\"QNAME\"]:\n",
    "        print(f\"left_loxp: {samp['LABEL']}\")\n",
    "    if right_loxp in samp[\"QNAME\"]:\n",
    "        print(f\"right_loxp: {samp['LABEL']}\")\n",
    "    if no_loxp in samp[\"QNAME\"]:\n",
    "        print(f\"no_loxp: {samp['LABEL']}\")"
   ]
  },
  {
   "cell_type": "code",
   "execution_count": 36,
   "metadata": {},
   "outputs": [],
   "source": [
    "from __future__ import annotations\n",
    "from itertools import groupby\n",
    "from copy import deepcopy\n",
    "from collections import defaultdict\n",
    "from pathlib import Path\n",
    "import midsv\n",
    "\n",
    "from src.DAJIN2.core.preprocess.correct_knockin import extract_knockin_loci\n",
    "from src.DAJIN2.core.clustering.preprocess import replace_both_ends_n, compress_insertion\n",
    "from src.DAJIN2.core.clustering.make_score import make_score\n",
    "from src.DAJIN2.core.clustering.annotate_score import annotate_score\n",
    "from src.DAJIN2.core.clustering.reorder_labels import reorder_labels\n",
    "from src.DAJIN2.core.clustering.return_labels import return_labels\n",
    "\n",
    "\n",
    "paths_midsv = list(Path(TEMPDIR, \"midsv\").glob(f\"{CONTROL_NAME}_splice_*\"))\n",
    "cssplits_control_by_alleles = defaultdict(list)\n",
    "for path_midsv in paths_midsv:\n",
    "    midsv_control = midsv.read_jsonl(path_midsv)\n",
    "    allele = path_midsv.stem.split(\"_\")[-1]\n",
    "    cssplits = [cs[\"CSSPLIT\"].split(\",\") for cs in midsv_control]\n",
    "    cssplits_control_by_alleles[allele] = cssplits\n",
    "knockin_alleles = extract_knockin_loci(TEMPDIR)\n",
    "labels_all = []\n",
    "max_label = 0\n",
    "\n",
    "allele = \"control\"\n",
    "sv = False\n",
    "\n",
    "classif_sample.sort(key=lambda x: (x[\"ALLELE\"], x[\"SV\"]))\n",
    "cssplits_control = cssplits_control_by_alleles[allele]\n",
    "cssplits_sample = [cs[\"CSSPLIT\"].split(\",\") for cs in classif_sample if cs[\"ALLELE\"] == allele and cs[\"SV\"] == sv]\n",
    "cssplits_control = replace_both_ends_n(cssplits_control)\n",
    "cssplits_sample = replace_both_ends_n(cssplits_sample)\n",
    "cssplits_control = compress_insertion(cssplits_control)\n",
    "cssplits_sample = compress_insertion(cssplits_sample)\n",
    "mutation_score = make_score(cssplits_control, cssplits_sample, knockin_alleles[allele])\n",
    "scores_control = annotate_score(cssplits_control, mutation_score)\n",
    "scores_sample = annotate_score(cssplits_sample, mutation_score)\n",
    "labels = return_labels(scores_sample, scores_control)"
   ]
  },
  {
   "cell_type": "code",
   "execution_count": 35,
   "metadata": {},
   "outputs": [
    {
     "data": {
      "text/plain": [
       "Counter({1: 372})"
      ]
     },
     "execution_count": 35,
     "metadata": {},
     "output_type": "execute_result"
    }
   ],
   "source": [
    "Counter(labels)"
   ]
  },
  {
   "cell_type": "code",
   "execution_count": 37,
   "metadata": {},
   "outputs": [
    {
     "data": {
      "text/plain": [
       "[<matplotlib.lines.Line2D at 0x7f544af5ce50>]"
      ]
     },
     "execution_count": 37,
     "metadata": {},
     "output_type": "execute_result"
    },
    {
     "data": {
      "image/png": "[encoded data removed]",
      "text/plain": [
       "<Figure size 432x288 with 1 Axes>"
      ]
     },
     "metadata": {
      "needs_background": "light"
     },
     "output_type": "display_data"
    }
   ],
   "source": [
    "%matplotlib inline\n",
    "import matplotlib.pyplot as plt\n",
    "plt.plot(scores_sample[74])\n",
    "plt.plot(scores_sample[118])"
   ]
  },
  {
   "cell_type": "code",
   "execution_count": 38,
   "metadata": {},
   "outputs": [],
   "source": [
    "from __future__ import annotations\n",
    "import numpy as np\n",
    "from sklearn.preprocessing import StandardScaler\n",
    "from sklearn.decomposition import PCA\n",
    "from sklearn.mixture import GaussianMixture\n",
    "from sklearn.exceptions import ConvergenceWarning\n",
    "from collections import Counter\n",
    "\n",
    "from src.DAJIN2.core.clustering.merge_clusters import merge_clusters\n",
    "from src.DAJIN2.core.clustering.reorder_labels import reorder_labels\n",
    "\n",
    "import warnings\n",
    "warnings.filterwarnings(\"ignore\", category=RuntimeWarning)\n",
    "warnings.filterwarnings(\"ignore\", category=ConvergenceWarning)\n",
    "\n",
    "###############################################################################\n",
    "# Dimension reduction\n",
    "###############################################################################\n",
    "\n",
    "\n",
    "def reduce_dimension(scores_sample: list[list], scores_control_subset: list[list]) -> np.array:\n",
    "    scores = scores_sample + scores_control_subset\n",
    "    n_components = min(20, len(scores[0]))\n",
    "    pca = PCA(n_components=n_components).fit(scores)\n",
    "    return pca.transform(scores)\n",
    "\n",
    "\n",
    "def optimize_labels(X: np.array, scores_sample: list[list], scores_control_subset: list[list]) -> list[int]:\n",
    "    scores = scores_sample + scores_control_subset\n",
    "    n_components = min(20, len(scores))\n",
    "    labels_results = [1] * len(scores_sample)\n",
    "    for i in range(1, n_components):\n",
    "        np.random.seed(seed=1)\n",
    "        labels = GaussianMixture(n_components=i, random_state=1).fit_predict(X)\n",
    "        labels = labels.tolist()\n",
    "        labels_sample = labels[: len(scores_sample)]\n",
    "        labels_control = labels[len(scores_sample) :]\n",
    "        labels_merged = merge_clusters(labels_control, labels_sample)\n",
    "        labels_reorder = reorder_labels(labels_merged)\n",
    "        # Reads < 1% in the control are considered clustering errors and are not counted\n",
    "        count_control = Counter(labels_control)\n",
    "        num_labels_control = sum(1 for reads in count_control.values() if reads/sum(count_control.values())*100 > 1)\n",
    "        if num_labels_control > 1:\n",
    "            return labels_results\n",
    "        labels_results = labels_reorder\n",
    "    return labels_results\n",
    "\n",
    "\n",
    "###############################################################################\n",
    "# main\n",
    "###############################################################################\n",
    "\n",
    "\n",
    "def return_labels(scores_sample: list[list], scores_control: list[list]) -> list[int]:\n",
    "    np.random.seed(seed=1)\n",
    "    X_control = reduce_dimension([], scores_control)\n",
    "    labels = GaussianMixture(n_components=2, random_state=1).fit_predict(X_control)\n",
    "    label_most = Counter(labels).most_common()[0][0]\n",
    "    scores_control_subset = [s for l, s in zip(labels, scores_control) if l == label_most][:1000]\n",
    "    X = reduce_dimension(scores_sample, scores_control_subset)\n",
    "    labels = optimize_labels(X, scores_sample, scores_control_subset)\n",
    "    return labels\n"
   ]
  },
  {
   "cell_type": "code",
   "execution_count": 39,
   "metadata": {},
   "outputs": [],
   "source": [
    "np.random.seed(seed=1)\n",
    "X_control = reduce_dimension([], scores_control)\n",
    "labels = GaussianMixture(n_components=2, random_state=1).fit_predict(X_control)\n",
    "label_most = Counter(labels).most_common()[0][0]\n",
    "scores_control_subset = [s for l, s in zip(labels, scores_control) if l == label_most][:1000]\n",
    "X = reduce_dimension(scores_sample, scores_control_subset)\n",
    "labels = optimize_labels(X, scores_sample, scores_control_subset)\n"
   ]
  },
  {
   "cell_type": "code",
   "execution_count": 41,
   "metadata": {},
   "outputs": [
    {
     "name": "stdout",
     "output_type": "stream",
     "text": [
      "1 Counter({0: 372}) Counter({0: 912})\n",
      "2 Counter({1: 192, 0: 180}) Counter({0: 712, 1: 200})\n",
      "3 Counter({1: 177, 0: 165, 2: 30}) Counter({0: 692, 1: 208, 2: 12})\n",
      "4 Counter({1: 177, 0: 165, 3: 26, 2: 4}) Counter({0: 692, 1: 208, 3: 12})\n",
      "5 Counter({0: 154, 1: 153, 4: 35, 3: 26, 2: 4}) Counter({0: 701, 1: 199, 3: 12})\n",
      "6 Counter({0: 153, 1: 137, 4: 35, 3: 26, 5: 17, 2: 4}) Counter({0: 700, 1: 184, 5: 16, 3: 12})\n",
      "7 Counter({0: 148, 1: 124, 4: 34, 3: 26, 6: 19, 5: 17, 2: 4}) Counter({0: 690, 1: 189, 5: 16, 3: 12, 6: 5})\n",
      "8 Counter({1: 112, 0: 84, 6: 72, 4: 34, 2: 30, 3: 17, 5: 12, 7: 11}) Counter({1: 629, 0: 146, 6: 99, 3: 16, 2: 12, 7: 10})\n",
      "9 Counter({1: 105, 0: 79, 6: 75, 4: 34, 2: 30, 3: 17, 5: 12, 7: 11, 8: 9}) Counter({1: 614, 0: 137, 6: 107, 8: 16, 3: 16, 2: 12, 7: 10})\n",
      "10 Counter({1: 105, 0: 79, 6: 75, 4: 34, 2: 30, 9: 16, 5: 12, 7: 11, 8: 9, 3: 1}) Counter({1: 614, 0: 137, 6: 107, 8: 16, 9: 16, 2: 12, 7: 10})\n",
      "11 Counter({1: 164, 0: 78, 4: 34, 2: 30, 9: 15, 5: 12, 6: 12, 7: 11, 8: 9, 10: 6, 3: 1}) Counter({1: 702, 0: 134, 6: 18, 9: 16, 8: 15, 2: 12, 7: 10, 10: 5})\n",
      "12 Counter({1: 191, 0: 40, 4: 34, 2: 30, 9: 15, 5: 12, 6: 12, 11: 11, 7: 11, 8: 9, 10: 6, 3: 1}) Counter({1: 760, 0: 64, 6: 18, 9: 16, 8: 15, 11: 12, 2: 12, 7: 10, 10: 5})\n",
      "13 Counter({1: 180, 0: 45, 4: 34, 2: 30, 9: 15, 5: 12, 6: 12, 11: 11, 7: 11, 8: 9, 10: 6, 12: 6, 3: 1}) Counter({1: 755, 0: 64, 6: 18, 9: 16, 8: 15, 11: 12, 2: 12, 7: 10, 10: 5, 12: 5})\n",
      "14 Counter({1: 180, 0: 45, 4: 34, 2: 26, 9: 15, 5: 12, 6: 12, 11: 11, 7: 11, 8: 9, 10: 6, 12: 6, 13: 4, 3: 1}) Counter({1: 755, 0: 64, 6: 18, 9: 16, 8: 15, 11: 12, 2: 12, 7: 10, 10: 5, 12: 5})\n",
      "15 Counter({1: 180, 0: 45, 4: 34, 2: 26, 9: 15, 14: 12, 6: 12, 11: 11, 7: 10, 8: 9, 10: 6, 12: 6, 13: 4, 3: 1, 5: 1}) Counter({1: 755, 0: 64, 6: 18, 9: 16, 8: 15, 11: 12, 2: 12, 7: 10, 10: 5, 12: 5})\n",
      "16 Counter({1: 158, 0: 59, 4: 34, 2: 26, 9: 15, 14: 12, 6: 12, 11: 11, 7: 10, 8: 9, 15: 8, 10: 6, 12: 6, 13: 4, 3: 1, 5: 1}) Counter({1: 699, 0: 107, 6: 18, 9: 16, 8: 15, 15: 13, 11: 12, 2: 12, 7: 10, 10: 5, 12: 5})\n",
      "17 Counter({1: 144, 0: 69, 4: 34, 2: 26, 9: 15, 14: 12, 11: 11, 6: 10, 7: 10, 8: 9, 15: 8, 10: 6, 16: 6, 12: 6, 13: 4, 3: 1, 5: 1}) Counter({1: 674, 0: 127, 6: 18, 9: 16, 8: 15, 15: 13, 11: 12, 2: 12, 7: 10, 10: 5, 16: 5, 12: 5})\n",
      "18 Counter({1: 120, 0: 87, 4: 34, 2: 26, 9: 15, 14: 12, 11: 10, 7: 10, 6: 9, 17: 9, 8: 9, 15: 8, 10: 6, 16: 6, 12: 5, 13: 4, 3: 1, 5: 1}) Counter({1: 632, 0: 162, 6: 18, 9: 16, 8: 15, 11: 12, 15: 12, 2: 12, 7: 10, 17: 8, 10: 5, 16: 5, 12: 5})\n",
      "19 Counter({1: 120, 0: 87, 4: 34, 2: 26, 9: 15, 14: 12, 11: 10, 7: 10, 6: 9, 17: 9, 8: 9, 15: 8, 10: 6, 16: 6, 12: 5, 18: 3, 13: 1, 3: 1, 5: 1}) Counter({1: 632, 0: 162, 6: 18, 9: 16, 8: 15, 11: 12, 15: 12, 2: 12, 7: 10, 17: 8, 10: 5, 16: 5, 12: 5})\n"
     ]
    }
   ],
   "source": [
    "scores = scores_sample + scores_control_subset\n",
    "n_components = min(20, len(scores))\n",
    "labels_results = [1] * len(scores_sample)\n",
    "for i in range(1, n_components):\n",
    "    np.random.seed(seed=1)\n",
    "    labels = GaussianMixture(n_components=i, random_state=1).fit_predict(X)\n",
    "    labels = labels.tolist()\n",
    "    labels_sample = labels[: len(scores_sample)]\n",
    "    labels_control = labels[len(scores_sample) :]\n",
    "    labels_merged = merge_clusters(labels_control, labels_sample)\n",
    "    labels_reorder = reorder_labels(labels_merged)\n",
    "    print(i, Counter(labels_sample), Counter(labels_control)) # ! ========================\n",
    "    # # Reads < 1% in the control are considered clustering errors and are not counted\n",
    "    # count_control = Counter(labels_control)\n",
    "    # num_labels_control = sum(1 for reads in count_control.values() if reads/sum(count_control.values())*100 > 1)\n",
    "    # if num_labels_control > 1:\n",
    "    #     return labels_results\n",
    "    # labels_results = labels_reorder\n"
   ]
  },
  {
   "cell_type": "code",
   "execution_count": 46,
   "metadata": {},
   "outputs": [
    {
     "name": "stdout",
     "output_type": "stream",
     "text": [
      "2 Counter({1: 192, 0: 180}) Counter({0: 712, 1: 200})\n"
     ]
    }
   ],
   "source": [
    "i = 2\n",
    "np.random.seed(seed=1)\n",
    "labels = GaussianMixture(n_components=i, random_state=1).fit_predict(X)\n",
    "labels = labels.tolist()\n",
    "labels_sample = labels[: len(scores_sample)]\n",
    "labels_control = labels[len(scores_sample) :]\n",
    "labels_merged = merge_clusters(labels_control, labels_sample)\n",
    "labels_reorder = reorder_labels(labels_merged)\n",
    "print(i, Counter(labels_sample), Counter(labels_control)) # ! ========================\n"
   ]
  },
  {
   "cell_type": "markdown",
   "metadata": {},
   "source": [
    "### まだ補正が足りない？？？\n",
    "controlとright-loxpの２群に分かれてほしいのに…"
   ]
  },
  {
   "cell_type": "code",
   "execution_count": 61,
   "metadata": {},
   "outputs": [
    {
     "name": "stdout",
     "output_type": "stream",
     "text": [
      "[1, 1, 0, 1, 1, 1, 0, 1, 0, 1]\n"
     ]
    }
   ],
   "source": [
    "print(labels_sample[:10])"
   ]
  },
  {
   "cell_type": "code",
   "execution_count": 57,
   "metadata": {},
   "outputs": [],
   "source": [
    "import numpy as np\n",
    "import pandas as pd\n",
    "import matplotlib.pyplot as plt\n",
    "import seaborn as sns\n",
    "sns.set()\n",
    "%matplotlib inline\n",
    "%config InlineBackend.figure_formats = {'png', 'retina'}"
   ]
  },
  {
   "cell_type": "code",
   "execution_count": 64,
   "metadata": {},
   "outputs": [
    {
     "data": {
      "text/plain": [
       "[<matplotlib.lines.Line2D at 0x7f5449537820>]"
      ]
     },
     "execution_count": 64,
     "metadata": {},
     "output_type": "execute_result"
    },
    {
     "data": {
      "image/png": "[encoded data removed]",
      "text/plain": [
       "<Figure size 432x288 with 1 Axes>"
      ]
     },
     "metadata": {
      "image/png": {
       "height": 251,
       "width": 364
      },
      "needs_background": "light"
     },
     "output_type": "display_data"
    }
   ],
   "source": [
    "plt.plot(scores_sample[0])\n",
    "plt.plot(scores_sample[2])\n",
    "plt.plot(scores_sample[74]) # right-loxp"
   ]
  },
  {
   "cell_type": "code",
   "execution_count": 67,
   "metadata": {},
   "outputs": [
    {
     "data": {
      "text/plain": [
       "[2041, 2662]"
      ]
     },
     "execution_count": 67,
     "metadata": {},
     "output_type": "execute_result"
    }
   ],
   "source": [
    "[i for i,s in enumerate(scores_sample[0]) if s > 1]"
   ]
  },
  {
   "cell_type": "code",
   "execution_count": 69,
   "metadata": {},
   "outputs": [
    {
     "name": "stdout",
     "output_type": "stream",
     "text": [
      "{'=C,+I=G,=G': 2.317159868479517}\n",
      "{'=T,+I=C,=T': 1.1996800853105838}\n"
     ]
    }
   ],
   "source": [
    "print(mutation_score[2041])\n",
    "print(mutation_score[2662])"
   ]
  },
  {
   "cell_type": "markdown",
   "metadata": {},
   "source": [
    "### 2041, 2662の補正はどうなっている？"
   ]
  },
  {
   "cell_type": "code",
   "execution_count": 75,
   "metadata": {},
   "outputs": [
    {
     "name": "stdout",
     "output_type": "stream",
     "text": [
      "=====================\n",
      "control @ 2041\n",
      "defaultdict(<class 'int'>, {'=G': 902, '+I=G': 14, 'N': 51, '+I*GT': 1})\n",
      "=====================\n",
      "sample @ 2041\n",
      "defaultdict(<class 'int'>, {'+I=G': 14, '=G': 356, '+I*GA': 2})\n"
     ]
    }
   ],
   "source": [
    "from collections import defaultdict\n",
    "from collections import Counter\n",
    "\n",
    "count = defaultdict(int)\n",
    "for cs in cssplits_control:\n",
    "    count[cs[2041]] += 1\n",
    "print(\"=====================\")\n",
    "print(f\"control @ {2041}\")\n",
    "print(count)\n",
    "\n",
    "count = defaultdict(int)\n",
    "for cs in cssplits_sample:\n",
    "    count[cs[2041]] += 1\n",
    "print(\"=====================\")\n",
    "print(f\"sample @ {2041}\")\n",
    "print(count)"
   ]
  },
  {
   "cell_type": "code",
   "execution_count": 76,
   "metadata": {},
   "outputs": [
    {
     "name": "stdout",
     "output_type": "stream",
     "text": [
      "[1, 1, 1, 1, 1]\n",
      "[1, 1, 1, 1, 1]\n",
      "0.9999999999999998 0.0\n"
     ]
    }
   ],
   "source": [
    "print(count_5mer_sample[2041//5][\"ins\"])\n",
    "print(count_5mer_control[2041//5][\"ins\"])\n",
    "samp = [c / coverage_sample for c in count_5mer_sample[2041//5][\"ins\"]]\n",
    "cont = [c / coverage_control for c in count_5mer_control[2041//5][\"ins\"]]\n",
    "distance = 1 - cosine(samp, cont)\n",
    "_, pvalue = stats.ttest_ind(samp, cont, equal_var=False)\n",
    "print(distance, pvalue)"
   ]
  },
  {
   "cell_type": "code",
   "execution_count": null,
   "metadata": {},
   "outputs": [
    {
     "name": "stdout",
     "output_type": "stream",
     "text": [
      "[12, 11, 10, 6, 10]\n",
      "[5, 20, 14, 19, 9]\n",
      "0.8550649300550162 0.27782700006420435\n"
     ]
    }
   ],
   "source": [
    "print(count_5mer_sample[2662//5][\"ins\"])\n",
    "print(count_5mer_control[2662//5][\"ins\"])\n",
    "samp = [c / coverage_sample for c in count_5mer_sample[2662//5][\"ins\"]]\n",
    "cont = [c / coverage_control for c in count_5mer_control[2662//5][\"ins\"]]\n",
    "distance = 1 - cosine(samp, cont)\n",
    "_, pvalue = stats.ttest_ind(samp, cont, equal_var=False)\n",
    "print(distance, pvalue)"
   ]
  },
  {
   "attachments": {},
   "cell_type": "markdown",
   "metadata": {},
   "source": [
    "# 結果\n"
   ]
  },
  {
   "attachments": {},
   "cell_type": "markdown",
   "metadata": {},
   "source": [
    "### extract_sequence_errors内のdistanceの閾値を0.9とした\n",
    "\n",
    "- 改めてayabe-task1を実行\n",
    "- distanceの閾値を下げたことによってマイナーな変異が補正される恐れがある\n",
    "    - 1%の点変異が正しく抽出できているかを改めて検証する"
   ]
  },
  {
   "attachments": {},
   "cell_type": "markdown",
   "metadata": {},
   "source": [
    "### 一方で、補正をゆるくするのは根本的な解決にならない\n",
    "\n",
    "+ 1%の点変異が抽出できていれば、0.95->0.9は良いと思う。0.95は厳しすぎる印象。\n",
    "+ しかし、補正をゆるくする→新しい問題が勃発のいたちごっこ\n",
    "    + 2662はdistanceが0.855なので補正されていない\n",
    "    + 2041のinsertionがないのが謎\n",
    "+ 根本の解決は、例えば`insersionのみのアレルを事前に生成する方針`がある"
   ]
  },
  {
   "attachments": {},
   "cell_type": "markdown",
   "metadata": {},
   "source": [
    "# 次回の課題"
   ]
  },
  {
   "attachments": {},
   "cell_type": "markdown",
   "metadata": {},
   "source": [
    "+ [x] ~~点変異、欠失、ノックインのデザインで動くかを確認する~~\n",
    "+ [x] ~~Clusteringのときの警告メッセージは無害なので消去する~~\n",
    "+ [ ] right_loxpがいまいちな理由を考察する\n",
    "    +  ~~[x] Ayabe-task1のpreprocessにおいて、329と1280の補正がされていない理由を検討する~~\n",
    "+ [ ] distanceの閾値を下げた状態で、1%点変異が検出できるか\n",
    "+ [ ] `preprocess.correct_sequence_error.replace_atmark`のコードがわかりにくい\n",
    "    + テストを用意してリファクタリングする\n",
    "+ [ ] Insertionのなかにある変異を同定する手法を考案する\n",
    "+ [ ] cis変異の両端が欠失している場合に、Nで置き換えるとtransとなってしまうのをどうするか（`replace_n`）\n",
    "+ [ ] 短いリードの扱いをどうするべきか"
   ]
  },
  {
   "attachments": {},
   "cell_type": "markdown",
   "metadata": {},
   "source": [
    "次回は\n",
    "+ [ ] right_loxpがいまいちな理由を考察する\n"
   ]
  },
  {
   "cell_type": "markdown",
   "metadata": {},
   "source": []
  }
 ],
 "metadata": {
  "kernelspec": {
   "display_name": "base",
   "language": "python",
   "name": "python3"
  },
  "language_info": {
   "codemirror_mode": {
    "name": "ipython",
    "version": 3
   },
   "file_extension": ".py",
   "mimetype": "text/x-python",
   "name": "python",
   "nbconvert_exporter": "python",
   "pygments_lexer": "ipython3",
   "version": "3.10.6"
  },
  "orig_nbformat": 4,
  "vscode": {
   "interpreter": {
    "hash": "a09285d6cbc768c1977f96e8deb5ca1ec0d08675e9573ed6dfd37fd7d91de663"
   }
  }
 },
 "nbformat": 4,
 "nbformat_minor": 2
}
