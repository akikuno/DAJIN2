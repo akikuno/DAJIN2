{
 "cells": [
  {
   "attachments": {},
   "cell_type": "markdown",
   "metadata": {},
   "source": [
    "# 今回の取り組み"
   ]
  },
  {
   "attachments": {},
   "cell_type": "markdown",
   "metadata": {},
   "source": [
    "- `correct_sequence_error`の内部処理を可能な限りGeneratorに変更します"
   ]
  },
  {
   "attachments": {},
   "cell_type": "markdown",
   "metadata": {},
   "source": [
    "## いつものセットアップ"
   ]
  },
  {
   "cell_type": "code",
   "execution_count": 1,
   "metadata": {},
   "outputs": [
    {
     "name": "stdout",
     "output_type": "stream",
     "text": [
      "/mnt/d/Research/DAJIN2\n"
     ]
    }
   ],
   "source": [
    "# ルートディレクトリをPathに含めるおまじない\n",
    "import sys, os\n",
    "from pathlib import Path\n",
    "if Path(os.getcwd()).stem != \"DAJIN2\":\n",
    "    parent_path = str(Path(os.path.dirname(os.path.abspath(\"__file__\"))).parent.parent)\n",
    "    sys.path.append(parent_path)\n",
    "    os.chdir(parent_path)\n",
    "\n",
    "print(os.getcwd())\n",
    "sys.path.append(os.getcwd() + \"/\" + \"src\")"
   ]
  },
  {
   "cell_type": "code",
   "execution_count": 2,
   "metadata": {},
   "outputs": [],
   "source": [
    "%%bash\n",
    "pip uninstall -qy DAJIN2\n",
    "# pipの更新\n",
    "# pip install -q -U pip\n",
    "# pip install -q -U -r requirements.txt"
   ]
  },
  {
   "attachments": {},
   "cell_type": "markdown",
   "metadata": {},
   "source": [
    "# 実験"
   ]
  },
  {
   "cell_type": "code",
   "execution_count": 3,
   "metadata": {},
   "outputs": [
    {
     "name": "stdout",
     "output_type": "stream",
     "text": [
      "processing single-tyr50...\n"
     ]
    }
   ],
   "source": [
    "from __future__ import annotations\n",
    "\n",
    "import sys, os\n",
    "from pathlib import Path\n",
    "\n",
    "import hashlib\n",
    "from collections import defaultdict\n",
    "from pathlib import Path\n",
    "from importlib import reload\n",
    "\n",
    "from src.DAJIN2.core import preprocess, classification, clustering, consensus, report\n",
    "\n",
    "reload(preprocess)\n",
    "reload(classification)\n",
    "reload(clustering)\n",
    "reload(consensus)\n",
    "reload(report)\n",
    "\n",
    "#### # * Subset of Point mutation\n",
    "#### # 50 or 10 or 01%\n",
    "percent = \"50\"\n",
    "SAMPLE, CONTROL, ALLELE, NAME, GENOME, DEBUG, THREADS = (\n",
    "    f\"misc/data/tyr_albino_{percent}%.fq.gz\",\n",
    "    \"misc/data/tyr_control.fq.gz\",\n",
    "    \"misc/data/tyr_control.fasta\",\n",
    "    \"single-tyr50\",\n",
    "    \"mm10\",\n",
    "    True,\n",
    "    30,\n",
    ")\n",
    "\n",
    "\n",
    "######################################################################\n",
    "# Preprocessing\n",
    "######################################################################\n",
    "\n",
    "print(f\"processing {NAME}...\")\n",
    "\n",
    "SAMPLE = preprocess.format_inputs.convert_to_posix_path(SAMPLE)\n",
    "CONTROL = preprocess.format_inputs.convert_to_posix_path(CONTROL)\n",
    "ALLELE = preprocess.format_inputs.convert_to_posix_path(ALLELE)\n",
    "\n",
    "# ====================================================================\n",
    "# Varidate inputs\n",
    "# ====================================================================\n",
    "\n",
    "preprocess.validate_inputs.check_files(SAMPLE, CONTROL, ALLELE)\n",
    "TEMPDIR = Path(\"DAJINResults\", \".tempdir\", NAME)\n",
    "IS_CACHE_CONTROL = preprocess.validate_inputs.exists_cached_control(CONTROL, TEMPDIR)\n",
    "IS_CACHE_GENOME = preprocess.validate_inputs.exists_cached_genome(GENOME, TEMPDIR, IS_CACHE_CONTROL)\n",
    "UCSC_URL, GOLDENPATH_URL = None, None\n",
    "if GENOME and not IS_CACHE_GENOME:\n",
    "    UCSC_URL, GOLDENPATH_URL = preprocess.validate_inputs.check_and_fetch_genome(GENOME)\n",
    "\n",
    "# ====================================================================\n",
    "# Format inputs\n",
    "# ====================================================================\n",
    "SAMPLE_NAME = preprocess.format_inputs.extract_basename(SAMPLE)\n",
    "CONTROL_NAME = preprocess.format_inputs.extract_basename(CONTROL)\n",
    "FASTA_ALLELES = preprocess.format_inputs.dictionize_allele(ALLELE)\n",
    "THREADS = preprocess.format_inputs.update_threads(THREADS)\n",
    "\n",
    "preprocess.format_inputs.make_directories(TEMPDIR, SAMPLE_NAME, CONTROL_NAME)\n",
    "\n",
    "if GENOME:\n",
    "    GENOME_COODINATES = preprocess.format_inputs.fetch_coodinate(GENOME, UCSC_URL, FASTA_ALLELES[\"control\"])\n",
    "    CHROME_SIZE = preprocess.format_inputs.fetch_chrom_size(GENOME_COODINATES[\"chr\"], GENOME, GOLDENPATH_URL)\n",
    "    preprocess.format_inputs.cache_coodinates_and_chromsize(TEMPDIR, GENOME, GENOME_COODINATES, CHROME_SIZE)\n"
   ]
  },
  {
   "cell_type": "code",
   "execution_count": 4,
   "metadata": {},
   "outputs": [],
   "source": [
    "import pickle\n",
    "with open(Path(TEMPDIR, \"midsv\", f\"{CONTROL_NAME}.plk\"), 'rb') as p:\n",
    "        midsv_control_alleles = pickle.load(p)"
   ]
  },
  {
   "cell_type": "code",
   "execution_count": 7,
   "metadata": {},
   "outputs": [],
   "source": [
    "midsv_sample_alleles = preprocess.call_midsv(TEMPDIR, FASTA_ALLELES, SAMPLE_NAME)"
   ]
  },
  {
   "cell_type": "code",
   "execution_count": 9,
   "metadata": {},
   "outputs": [
    {
     "name": "stdout",
     "output_type": "stream",
     "text": [
      "5000\n",
      "10000\n"
     ]
    }
   ],
   "source": [
    "print(len(midsv_sample_alleles[\"control\"]))\n",
    "print(len(midsv_control_alleles[\"control\"]))"
   ]
  },
  {
   "cell_type": "code",
   "execution_count": 10,
   "metadata": {},
   "outputs": [],
   "source": [
    "MUTATION_LOCI_ALLELES = preprocess.extract_mutation_loci(midsv_sample_alleles, midsv_control_alleles)"
   ]
  },
  {
   "cell_type": "code",
   "execution_count": 7,
   "metadata": {},
   "outputs": [],
   "source": [
    "from __future__ import annotations\n",
    "\n",
    "import random\n",
    "import re\n",
    "from collections import defaultdict, Counter\n",
    "from typing import Generator\n",
    "\n",
    "\n",
    "def _replace_errors_to_atmark(midsv_sample: dict, mutation_loci: dict[str, set[int]]) -> Generator[str]:\n",
    "    for cssplits in (cs[\"CSSPLIT\"].split(\",\") for cs in midsv_sample):\n",
    "        cssplits_replaced = []\n",
    "        for i, cs in enumerate(cssplits):\n",
    "            if cs.startswith(\"=\") or cs == \"N\" or re.search(r\"a|c|g|t|n\", cs):\n",
    "                cssplits_replaced.append(cs)\n",
    "                continue\n",
    "            if i in mutation_loci[cs[0]]:\n",
    "                cssplits_replaced.append(cs)\n",
    "            else:\n",
    "                cssplits_replaced.append(\"@\")\n",
    "            cssplits_replaced = \",\".join(cssplits_replaced)\n",
    "        yield cssplits_replaced\n",
    "\n",
    "\n",
    "def _create_replace_dict(cssplits_replaced: Generator[list[str]]) -> dict[str, dict[str, int]]:\n",
    "    cssplits_atmark = defaultdict(set)\n",
    "    cssplits_sampling = defaultdict(lambda: defaultdict(lambda: Counter([\"N\"])))\n",
    "    for cssplits in cssplits_replaced:\n",
    "        for seq_idx, cs in enumerate(cssplits):\n",
    "            if seq_idx == 0 or seq_idx == len(cssplits) - 1:\n",
    "                continue\n",
    "            kmer = \",\".join([cssplits[seq_idx - 1], cssplits[seq_idx + 1]])\n",
    "            if cs == \"@\":\n",
    "                cssplits_atmark[seq_idx].add(kmer)\n",
    "            else:\n",
    "                cssplits_sampling[seq_idx][kmer] += Counter([cs])\n",
    "    return cssplits_atmark, cssplits_sampling\n",
    "\n",
    "\n",
    "\n",
    "def _replace_atmark(cssplits: Generator[str], sequence: str) -> list[str]:\n",
    "    random.seed(1)\n",
    "    cssplits_replaced = []\n",
    "    for i in range(1, len(sequence) - 1):\n",
    "        cssplits_atmark = defaultdict(str)\n",
    "        cssplits_sampling_key = defaultdict(list)\n",
    "        cssplits_sampling_all = []\n",
    "        flag_all_atmark = True\n",
    "        for idx, cssplit in enumerate(cssplits):\n",
    "            key = \",\".join([cssplit[i - 1], cssplit[i + 1]])\n",
    "            if cssplit[i] == \"@\":\n",
    "                cssplits_atmark[idx] = key\n",
    "            else:\n",
    "                cssplits_sampling_key[key].append(cssplit[i])\n",
    "                cssplits_sampling_all.append(cssplit[i])\n",
    "                flag_all_atmark = False\n",
    "        for idx, key in cssplits_atmark.items():\n",
    "            if flag_all_atmark:\n",
    "                cssplits_replaced[idx][i] = \"N\"\n",
    "            elif cssplits_sampling_key[key]:\n",
    "                cssplits_replaced[idx][i] = random.choice(cssplits_sampling_key[key])\n",
    "            else:\n",
    "                cssplits_replaced[idx][i] = random.choice(cssplits_sampling_all)\n",
    "    for cs in cssplits_replaced:\n",
    "        if cs[0] == \"@\":\n",
    "            cs[0] = \"N\"\n",
    "        if cs[-1] == \"@\":\n",
    "            cs[-1] = \"N\"\n",
    "    return cssplits_replaced\n",
    "\n",
    "###############################################################################\n",
    "# main\n",
    "###############################################################################\n",
    "\n",
    "\n",
    "def correct_sequence_error(midsv_sample_alleles, midsv_control_alleles, FASTA_ALLELES, MUTATION_LOCI_ALLELES) -> None:\n",
    "    midsv_alleles_corrected = defaultdict(dict)\n",
    "    for allele, sequence in FASTA_ALLELES.items():\n",
    "        midsv_sample = midsv_sample_alleles[allele]\n",
    "        midsv_control = midsv_control_alleles[allele]\n",
    "        cssplits_sample = (cs[\"CSSPLIT\"].split(\",\") for cs in midsv_sample)\n",
    "        cssplits_control = (cs[\"CSSPLIT\"].split(\",\") for cs in midsv_control)\n",
    "        # Extract mutation loci\n",
    "        mutation_loci = MUTATION_LOCI_ALLELES[allele]\n",
    "        # Correct sequence errors\n",
    "        cssplits_sample_atmark = _replace_errors_to_atmark(cssplits_sample, mutation_loci)\n",
    "        cssplits_control_atmark = _replace_errors_to_atmark(cssplits_control, mutation_loci)\n",
    "        cssplits_sample_atmark_replaced = _replace_atmark(cssplits_sample_atmark, sequence)\n",
    "        cssplits_control_atmark_replaced = _replace_atmark(cssplits_control_atmark, sequence)\n",
    "        # Replace CSSPLIT\n",
    "        cssplits_sample_corrected = (\",\".join(cs) for cs in cssplits_sample_atmark_replaced)\n",
    "        cssplits_control_corrected = (\",\".join(cs) for cs in cssplits_control_atmark_replaced)\n",
    "        for i, cssplits in enumerate(cssplits_sample_corrected):\n",
    "            midsv_sample[i][\"CSSPLIT\"] = cssplits\n",
    "        for i, cssplits in enumerate(cssplits_control_corrected):\n",
    "            midsv_control[i][\"CSSPLIT\"] = cssplits\n",
    "        midsv_alleles_corrected[\"sample\"][allele] = midsv_sample\n",
    "        midsv_alleles_corrected[\"control\"][allele] = midsv_control\n",
    "    return midsv_alleles_corrected\n"
   ]
  },
  {
   "cell_type": "code",
   "execution_count": 8,
   "metadata": {},
   "outputs": [],
   "source": [
    "allele = \"control\"\n",
    "sequence = FASTA_ALLELES[allele]"
   ]
  },
  {
   "cell_type": "code",
   "execution_count": 9,
   "metadata": {},
   "outputs": [],
   "source": [
    "midsv_sample = midsv_sample_alleles[allele]\n",
    "midsv_control = midsv_control_alleles[allele]\n",
    "cssplits_sample = (cs[\"CSSPLIT\"].split(\",\") for cs in midsv_sample)\n",
    "cssplits_control = (cs[\"CSSPLIT\"].split(\",\") for cs in midsv_control)\n",
    "# Extract mutation loci\n",
    "mutation_loci = MUTATION_LOCI_ALLELES[allele]"
   ]
  },
  {
   "cell_type": "code",
   "execution_count": 12,
   "metadata": {},
   "outputs": [],
   "source": [
    "# Correct sequence errors\n",
    "cssplits_sample_atmark = _replace_errors_to_atmark(cssplits_sample, mutation_loci)\n",
    "cssplits_control_atmark = _replace_errors_to_atmark(cssplits_control, mutation_loci)"
   ]
  },
  {
   "cell_type": "code",
   "execution_count": 13,
   "metadata": {},
   "outputs": [
    {
     "ename": "TypeError",
     "evalue": "list indices must be integers or slices, not str",
     "output_type": "error",
     "traceback": [
      "\u001b[0;31m---------------------------------------------------------------------------\u001b[0m",
      "\u001b[0;31mTypeError\u001b[0m                                 Traceback (most recent call last)",
      "\u001b[1;32m/mnt/d/Research/DAJIN2/misc/experiments/20230502_correct_sequence_error.ipynb セル 14\u001b[0m in \u001b[0;36m<cell line: 1>\u001b[0;34m()\u001b[0m\n\u001b[0;32m----> <a href='vscode-notebook-cell://wsl%2Bubuntu-20.04/mnt/d/Research/DAJIN2/misc/experiments/20230502_correct_sequence_error.ipynb#X34sdnNjb2RlLXJlbW90ZQ%3D%3D?line=0'>1</a>\u001b[0m \u001b[39mprint\u001b[39m(\u001b[39mnext\u001b[39;49m(cssplits_sample_atmark))\n",
      "\u001b[1;32m/mnt/d/Research/DAJIN2/misc/experiments/20230502_correct_sequence_error.ipynb セル 14\u001b[0m in \u001b[0;36m_replace_errors_to_atmark\u001b[0;34m(midsv_sample, mutation_loci)\u001b[0m\n\u001b[1;32m      <a href='vscode-notebook-cell://wsl%2Bubuntu-20.04/mnt/d/Research/DAJIN2/misc/experiments/20230502_correct_sequence_error.ipynb#X34sdnNjb2RlLXJlbW90ZQ%3D%3D?line=8'>9</a>\u001b[0m \u001b[39mdef\u001b[39;00m \u001b[39m_replace_errors_to_atmark\u001b[39m(midsv_sample: \u001b[39mdict\u001b[39m, mutation_loci: \u001b[39mdict\u001b[39m[\u001b[39mstr\u001b[39m, \u001b[39mset\u001b[39m[\u001b[39mint\u001b[39m]]) \u001b[39m-\u001b[39m\u001b[39m>\u001b[39m Generator[\u001b[39mstr\u001b[39m]:\n\u001b[0;32m---> <a href='vscode-notebook-cell://wsl%2Bubuntu-20.04/mnt/d/Research/DAJIN2/misc/experiments/20230502_correct_sequence_error.ipynb#X34sdnNjb2RlLXJlbW90ZQ%3D%3D?line=9'>10</a>\u001b[0m     \u001b[39mfor\u001b[39;00m cssplits \u001b[39min\u001b[39;00m (cs[\u001b[39m\"\u001b[39m\u001b[39mCSSPLIT\u001b[39m\u001b[39m\"\u001b[39m]\u001b[39m.\u001b[39msplit(\u001b[39m\"\u001b[39m\u001b[39m,\u001b[39m\u001b[39m\"\u001b[39m) \u001b[39mfor\u001b[39;00m cs \u001b[39min\u001b[39;00m midsv_sample):\n\u001b[1;32m     <a href='vscode-notebook-cell://wsl%2Bubuntu-20.04/mnt/d/Research/DAJIN2/misc/experiments/20230502_correct_sequence_error.ipynb#X34sdnNjb2RlLXJlbW90ZQ%3D%3D?line=10'>11</a>\u001b[0m         cssplits_replaced \u001b[39m=\u001b[39m []\n\u001b[1;32m     <a href='vscode-notebook-cell://wsl%2Bubuntu-20.04/mnt/d/Research/DAJIN2/misc/experiments/20230502_correct_sequence_error.ipynb#X34sdnNjb2RlLXJlbW90ZQ%3D%3D?line=11'>12</a>\u001b[0m         \u001b[39mfor\u001b[39;00m i, cs \u001b[39min\u001b[39;00m \u001b[39menumerate\u001b[39m(cssplits):\n",
      "\u001b[1;32m/mnt/d/Research/DAJIN2/misc/experiments/20230502_correct_sequence_error.ipynb セル 14\u001b[0m in \u001b[0;36m<genexpr>\u001b[0;34m(.0)\u001b[0m\n\u001b[1;32m      <a href='vscode-notebook-cell://wsl%2Bubuntu-20.04/mnt/d/Research/DAJIN2/misc/experiments/20230502_correct_sequence_error.ipynb#X34sdnNjb2RlLXJlbW90ZQ%3D%3D?line=8'>9</a>\u001b[0m \u001b[39mdef\u001b[39;00m \u001b[39m_replace_errors_to_atmark\u001b[39m(midsv_sample: \u001b[39mdict\u001b[39m, mutation_loci: \u001b[39mdict\u001b[39m[\u001b[39mstr\u001b[39m, \u001b[39mset\u001b[39m[\u001b[39mint\u001b[39m]]) \u001b[39m-\u001b[39m\u001b[39m>\u001b[39m Generator[\u001b[39mstr\u001b[39m]:\n\u001b[0;32m---> <a href='vscode-notebook-cell://wsl%2Bubuntu-20.04/mnt/d/Research/DAJIN2/misc/experiments/20230502_correct_sequence_error.ipynb#X34sdnNjb2RlLXJlbW90ZQ%3D%3D?line=9'>10</a>\u001b[0m     \u001b[39mfor\u001b[39;00m cssplits \u001b[39min\u001b[39;00m (cs[\u001b[39m\"\u001b[39;49m\u001b[39mCSSPLIT\u001b[39;49m\u001b[39m\"\u001b[39;49m]\u001b[39m.\u001b[39msplit(\u001b[39m\"\u001b[39m\u001b[39m,\u001b[39m\u001b[39m\"\u001b[39m) \u001b[39mfor\u001b[39;00m cs \u001b[39min\u001b[39;00m midsv_sample):\n\u001b[1;32m     <a href='vscode-notebook-cell://wsl%2Bubuntu-20.04/mnt/d/Research/DAJIN2/misc/experiments/20230502_correct_sequence_error.ipynb#X34sdnNjb2RlLXJlbW90ZQ%3D%3D?line=10'>11</a>\u001b[0m         cssplits_replaced \u001b[39m=\u001b[39m []\n\u001b[1;32m     <a href='vscode-notebook-cell://wsl%2Bubuntu-20.04/mnt/d/Research/DAJIN2/misc/experiments/20230502_correct_sequence_error.ipynb#X34sdnNjb2RlLXJlbW90ZQ%3D%3D?line=11'>12</a>\u001b[0m         \u001b[39mfor\u001b[39;00m i, cs \u001b[39min\u001b[39;00m \u001b[39menumerate\u001b[39m(cssplits):\n",
      "\u001b[0;31mTypeError\u001b[0m: list indices must be integers or slices, not str"
     ]
    }
   ],
   "source": [
    "print(next(cssplits_sample_atmark))"
   ]
  },
  {
   "cell_type": "code",
   "execution_count": 38,
   "metadata": {},
   "outputs": [],
   "source": [
    "def _replace_errors_to_atmark(midsv_sample: dict, mutation_loci: dict[str, set[int]]) -> Generator[str]:\n",
    "    for cssplits in (cs[\"CSSPLIT\"].split(\",\") for cs in midsv_sample):\n",
    "        cssplits_replaced = []\n",
    "        for i, cs in enumerate(cssplits):\n",
    "            # print(cs, cs[0])\n",
    "            if cs.startswith(\"=\") or cs == \"N\" or re.search(r\"a|c|g|t|n\", cs):\n",
    "                cssplits_replaced.append(cs)\n",
    "                continue\n",
    "            if cs[0] in mutation_loci[i]:\n",
    "                cssplits_replaced.append(cs)\n",
    "            else:\n",
    "                cssplits_replaced.append(\"@\")\n",
    "        yield \",\".join(cssplits_replaced)"
   ]
  },
  {
   "cell_type": "code",
   "execution_count": 39,
   "metadata": {},
   "outputs": [],
   "source": [
    "# Correct sequence errors\n",
    "cssplits_sample_atmark = _replace_errors_to_atmark(midsv_sample, mutation_loci)\n",
    "cssplits_control_atmark = _replace_errors_to_atmark(midsv_control, mutation_loci)"
   ]
  },
  {
   "cell_type": "code",
   "execution_count": 40,
   "metadata": {},
   "outputs": [
    {
     "name": "stdout",
     "output_type": "stream",
     "text": [
      "=T,=G,=C,=A,=T,=T,=G,=A,=A,=G,=C,=A,=G,=T,=T,=C,=A,=C,=C,@,=A,=A,=A,=T,=A,=A,=C,=A,=A,=A,=G,=T,=A,=A,=C,@,=A,=A,=G,=T,=A,=A,=G,=A,=T,=A,=T,=C,=T,=T,=T,=G,=G,=A,=A,=T,=A,=A,=T,=C,=A,=A,=T,=T,=C,=A,=A,=G,=A,=T,=A,=A,=T,=C,=A,=A,=G,=G,=A,=A,=A,=A,=A,=T,=G,=A,=G,=A,@,=G,=C,=A,=A,=C,=T,=A,=T,=T,=T,=T,=A,=G,=A,=C,=T,=G,=A,=T,=T,=A,=C,=T,=T,=T,=T,=A,=T,=A,=A,=A,=A,=T,=A,=A,=A,=T,=A,=A,=G,=C,=T,=C,=A,=G,=C,=T,=T,=A,=G,=C,=C,@,@,=A,=T,=A,=T,=A,=A,=G,=C,=A,=A,=T,=A,=T,=T,=C,=T,=G,=A,=G,=T,=T,=C,=T,=G,=A,=A,=G,=A,=A,=A,=A,=A,=T,=T,=T,=T,=T,=G,=A,=C,=A,=A,=A,=A,=T,=G,=A,=G,=T,=T,=C,=T,=A,=T,=A,=A,=A,=T,=G,=T,=T,=A,=T,=T,=G,=T,=C,=T,=A,=C,=T,=T,=A,=T,=G,=A,=T,=C,=T,=C,=T,=A,=A,=A,=T,=A,=C,=A,=A,=C,=A,=G,=G,=C,=T,=T,=G,=T,=A,=T,=T,=C,=A,=G,=A,=A,=T,=C,=T,=A,=G,=A,=T,=G,=T,=T,=T,=C,=A,=T,=G,=A,=C,=C,=T,=T,=T,=A,=T,=T,=C,=A,=T,=A,=A,=G,=A,=G,=A,=T,=G,@,=T,=G,=T,=A,=T,=T,=C,=T,=T,=G,=A,=T,=A,=C,=T,=A,=C,=T,=T,=C,=T,=C,=A,@,=T,=T,@,=C,=A,=A,=A,=T,=T,=C,=C,=A,=A,=T,=T,=A,=T,=T,=A,=T,=T,=A,=A,=T,=T,=T,=C,=A,=T,=A,=T,@,=A,=A,=T,=T,=A,=G,=A,=A,=T,=A,=A,=T,=A,=T,=A,=T,=C,=T,=T,=C,=C,=T,=T,=C,=A,=A,=T,=T,=T,@,@,=T,=T,=A,=C,=C,=T,=C,=A,=C,=T,=A,=T,=G,=G,=G,=C,=T,=A,=T,=G,=T,=A,=C,=A,=A,=A,=C,=T,@,=C,=A,=A,=G,@,=A,=A,=A,=A,=G,=T,=T,=A,=G,=T,=C,=A,=T,=G,=T,=G,=C,=T,=T,=T,=G,=C,=A,=G,=A,=A,=G,=A,=T,=A,=A,=A,=A,=G,=C,=T,=T,=A,=G,=T,=G,=T,=A,=A,=A,=A,=C,=A,=G,=G,=C,=T,=G,=A,=G,=A,=G,=T,=A,=T,=T,=T,=G,=A,=T,=G,=T,=A,=A,=G,=A,=A,@,=G,=G,=G,=A,=G,=T,=G,=G,=T,=T,=A,=T,=A,=T,=A,=G,=G,=T,=C,=T,=T,=A,=G,=C,=C,=A,=A,=A,=A,=C,=A,=T,=G,=T,=G,=A,=T,=A,=G,=T,=C,=A,=C,=T,=C,=C,=A,@,=G,=G,=G,=T,=T,=G,=C,=T,=G,=G,=A,=A,=A,=A,=G,=A,=A,=G,=T,=C,=T,=G,=T,=G,=A,=C,=A,=C,=T,=C,=A,=T,=T,=A,=A,=C,=C,=T,=A,=T,=T,=G,=G,=T,=G,=C,=A,=G,=A,=T,=T,=T,=T,=G,=T,=A,=T,=G,=A,=T,=C,=T,=A,=A,=A,=G,=G,=A,=G,=A,=A,=A,=A,=T,=G,=T,=T,=C,=T,=T,=G,=G,=C,=T,=G,=T,=T,=T,=T,=G,=T,=A,=T,=T,=G,=C,=C,=T,=T,=C,=T,=G,=T,=G,=G,=A,=G,=T,=T,=T,=C,=C,=A,=G,=A,=T,=C,=T,=C,=T,=G,=A,=T,=G,=G,=C,=C,=A,=T,=T,=T,=T,=C,=C,=T,=C,=G,=A,=G,=C,=C,=T,=G,=T,=G,=C,=C,=T,=C,=C,=T,=C,=T,=A,=A,=G,=A,=A,=C,=T,=T,=G,=T,=T,=G,=G,=C,=A,=A,=A,=A,=G,=A,=A,=T,=G,=C,=T,=G,=C,=C,=C,=A,=C,=C,=A,=T,=G,=G,=A,=T,=G,=G,=G,=T,=G,=A,=T,=G,=G,=G,=A,=G,=T,=C,=C,=C,=T,=G,@,=G,=G,=C,=C,=A,=G,=C,=T,=T,=T,=C,=A,=G,=G,=C,=A,=G,=A,=G,=G,=T,=T,=C,=C,=T,=G,=C,=C,=A,=G,=G,=A,=T,=A,=T,=C,=C,=T,=T,=C,=T,=G,=T,=C,=C,=A,=G,=T,=G,=C,=A,=C,=C,=A,=T,=C,=T,=G,=G,=A,=C,=C,=T,=C,=A,=G,=T,=T,=C,=C,=C,=C,=T,=T,=C,=A,=A,=A,=G,=G,=G,=G,=T,=G,=G,=A,=T,=G,=A,=C,=C,=G,=T,=G,=A,=G,=T,=C,=C,=T,=G,=G,=C,=C,=C,=T,=C,=T,=G,=T,=G,=T,=T,=T,=T,=A,=T,=A,=A,=T,=A,=G,=G,=A,=C,=C,=T,=G,=C,=C,=A,=G,=T,=G,=C,=T,=C,=A,=G,=G,=C,=A,=A,=C,=T,=T,=C,=A,=T,=G,=G,=G,=T,=T,=T,=C,=A,=A,=C,=T,=G,=C,=G,=G,=A,=A,=A,=C,=T,=G,=T,=A,=A,=G,=T,=T,=T,=G,=G,=A,=T,=T,=T,=G,=G,=G,=G,=G,=C,=C,=C,=A,=A,=A,=T,=T,=G,=T,=A,=C,=A,=G,=A,=G,=A,=A,=G,=C,=G,=A,=G,=T,=C,=T,=T,=G,=A,=T,=T,=A,=G,=A,=A,@,=A,=A,=A,=C,=A,=T,=T,=T,=T,=T,=G,=A,=T,=T,=T,=G,=A,=G,=T,=G,=T,=C,=T,=C,=C,=G,=A,=A,=A,=A,=G,=A,=A,=T,=A,=A,=G,=T,=T,=C,@,=T,=T,=T,=C,@,@,=A,=C,=C,=T,=C,=A,=C,=T,=T,=T,=A,=G,=C,=A,=A,=A,=A,=C,=A,=T,=A,=C,=T,=A,=T,=C,=A,=G,=C,=T,=C,=A,=G,=T,=C,=T,=A,=T,=G,=T,=C,=A,=T,=C,=C,=C,@,=A,=C,=A,=G,=G,=C,=A,=C,=C,=T,=A,=T,=G,=G,=C,=C,=A,=A,=A,=T,=G,=A,=A,=C,=A,=A,=T,=G,=G,=G,=T,=C,=A,=A,=C,=A,=C,=C,=C,=A,=T,=G,=T,=T,=T,=A,=A,=T,=G,=A,=T,=A,=T,=C,=A,=A,=C,=A,=T,=C,=T,=A,=C,=G,=A,=C,=C,=T,=C,=T,=T,=T,=G,=T,=A,=T,=G,=G,=A,=T,=G,=C,=A,=T,=T,=A,=C,=T,=A,=T,=G,=T,=G,=T,=C,=A,=A,=G,=G,=G,=A,=C,=A,=C,@,=C,@,=G,=C,=T,=T,=G,=G,=G,=G,=G,=C,=T,=C,=T,=G,=A,=A,=A,=T,=A,=T,=G,=G,=A,=G,=G,=G,=A,=C,=A,=T,=T,=G,=A,=T,=T,=T,=T,=G,=C,=C,=C,=A,=T,=G,=A,=A,=G,=C,=A,=C,=C,=A,=G,=G,=G,=T,=T,=T,=C,=T,=G,=C,=C,=T,=T,*GA,=G,=C,=A,=C,=A,=G,=A,=C,=T,=T,=T,=T,=C,=T,=T,=G,=T,=T,=A,=T,=T,=G,=T,=G,=G,=G,=A,=A,=C,=A,=A,=G,=A,=A,=A,=T,=T,=C,@,=A,=G,@,@,@,=T,=A,=A,=C,=T,=G,=G,=G,=G,=A,=T,=G,=A,=G,=A,=A,=C,=T,@,@,@,=C,=T,=G,=T,=T,=C,=C,=A,=T,=A,=C,=T,=G,=G,=G,=A,=T,=T,=G,=G,=A,=G,=A,=G,=A,=T,=G,=C,=A,=G,=A,=A,=A,=A,=C,=T,=G,=T,=G,=A,=C,=A,=T,=T,=T,=G,=C,=A,=C,=A,=G,=A,=T,=G,=A,=G,=T,=A,=C,=T,=T,=G,=G,=G,=A,=G,=G,=T,=C,=G,=T,=C,=A,=C,=C,=C,=T,=G,=A,=A,=A,=A,=T,=C,=C,=T,=A,=A,=C,@,@,=A,=C,=T,=C,=A,=G,=C,=C,=C,=A,=G,=C,=A,=T,=C,=C,=T,=T,=C,=T,=T,=C,=T,=C,=C,=T,=C,=C,=T,=G,=G,=C,=A,-G,@,=T,=A,=A,=G,=A,=T,=G,=C,=A,=C,=T,=A,=T,=A,=T,@,@,=A,=G,=A,=G,=A,=G,=T,=T,=G,=C,=A,=A,=A,=G,=A,=C,=T,=G,=G,=T,=A,=C,=T,=T,=C,=A,=G,=C,=A,=G,=C,=C,=A,=C,=A,=T,=T,=T,=T,=C,=A,=T,=G,=C,=T,=C,=T,=G,=T,=G,=A,=G,=C,=A,=T,=C,=T,=C,=T,=G,=A,=T,=A,=A,=T,=A,=T,=C,=T,=C,=A,=G,@,@,=C,@,=G,@,=A,=A,=A,=T,=G,=T,=G,=C,=C,=T,=T,=A,=C,=T,=A,=A,=C,=A,=G,=A,=T,=G,=T,=T,=A,=A,=T,=G,=C,=T,=T,=C,=T,=T,=G,=A,=T,=T,=T,=C,=T,=T,=T,=T,=T,=C,=T,=C,=T,=T,=T,=T,=G,=A,=G,=A,=A,=C,=T,=C,=T,=T,=C,@,=A,=A,=G,=T,=T,=G,=T,=T,=A,=T,=T,=A,=A,=A,=C,=A,=A,=A,=T,=A,=T,=C,=T,=A,=T,=G,=T,=G,=C,=T,=T,=A,=T,=T,=T,=G,=T,=C,=T,=T,=A,=A,=T,=A,=T,=C,=T,=A,=A,=C,=A,=G,=C,=T,=T,=A,=G,=T,=T,=A,=G,=A,=T,=T,=T,=C,=T,=A,=A,=G,=C,=T,=G,=C,=T,=A,=T,=A,=A,=A,=C,@,=A,=G,@,=A,=C,=T,=G,@,=T,=T,=G,=G,=T,=T,=C,=A,=C,=C,=A,=C,=T,=G,=T,=A,=T,=T,=G,=T,=T,=A,=G,=C,=A,=C,=C,=T,=C,=C,=T,=A,=T,=G,=G,=T,=A,=T,=C,=T,=G,=G,=A,=A,=T,=A,=A,=A,=C,=A,=G,=T,=A,=A,=C,=T,=C,=A,=G,=T,=T,=A,=T,=T,=T,=A,=A,=G,=A,=A,=T,=G,=G,=A,=T,=G,=A,=G,=A,=A,=A,@,=C,=A,=G,=A,=T,=T,=A,=T,=C,=T,=T,=A,=G,=T,=T,=C,=A,=T,=G,=T,=T,=T,=C,=T,=G,=A,=G,=T,=A,=A,=T,=A,=T,=T,=A,=A,=A,=A,=T,=T,=A,=A,=T,=A,=T,=T,=A,=A,=C,=A,=G,=T,=A,=A,=A,=A,=T,=C,=C,=A,=T,=A,=A,=G,=T,=A,=T,=G,=C,=T,=A,=C,=T,=T,=T,=A,@,=A,=A,=T,=A,=T,=A,=A,=A,=T,=C,=T,=C,=T,=G,=G,=C,=C,=A,=A,=A,=A,=C,=C,=A,=A,=G,=A,=C,=T,=T,=A,=T,=T,=A,=T,=T,=C,=A,=G,=G,=A,=T,=C,=T,=T,=C,@,=A,=G,=A,=G,=A,=A,=A,=G,=T,=G,=C,=T,=G,=A,=G,=A,=T,=A,=A,=T,=T,=C,=A,=C,=T,=A,=A,=G,=T,=A,=T,=C,=A,=G,=A,=G,=A,=T,=G,=A,=C,=C,=T,=T,=T,=A,=T,=T,=A,=C,=A,=T,=G,=A,=T,=T,=G,=C,=C,=T,=G,=A,=T,=A,=G,=A,=A,=A,=A,=A,=A,=T,=G,=A,=T,=T,=A,=C,=A,=C,=A,=C,=A,=C,=A,=C,=A,=A,=A,=A,=A,=A,=A,=T,=C,=T,=T,=C,=A,=G,=T,=T,=G,=C,=T,=T,=A,=A,=A,=T,=T,=T,=T,=A,=A,=A,=C,=G,=T,=T,=G,=C,=T,=G,=A,=C,=T,=C,=T,=C,=A,=A,=A,=C,=A,=G,=T,=T,=A,=A,=G,=T,=A,=A,=T,=A,=A,=A,=A,=G,=A,=G,=T,=T,=A,=A,=A,=G,=C,=C,=T,=G,=C,=T,=G,=T,=G,=T,=A,=T,=T,=T,=A,=G,=A,=A,=T,=A,=T,=G,=T,=G,=A,=A,=T,=A,=C,=C,=T,=A,=T,=T,=G,@,=A,=A,=G,=A,=A,=T,=T,=T,=A,=T,=T,=G,=T,=A,=C,=A,=A,=T,=T,=A,=A,=T,=A,=T,=A,=A,=A,=C,=A,=G,=A,=C,=T,=T,=C,=T,=A,=T,=T,=T,=T,=A,=C,=A,=G,=T,=C,=A,=T,=A,=A,=G,=A,=T,=A,=C,=T,=A,=C,=T,=T,=A,=A,=T,=T,=T,=G,=T,=T,=A,=A,=A,=A,=A,=T,=T,=A,=T,=T,=T,=T,=T,=T,=G,=A,=T,=A,=G,=C,=A,=T,=T,=G,=T,=T,=G,=G,=T,=A,=A,=A,=T,=A,=G,=C,=A,=A,=A,=G,=G,=T,=G,=A,=T,=A,=T,=T,=T,=G,=C,=T,=A,=A,=T,=G,=A,=T,=T,=A,=C,=A,=A,@,=G,=G,=C,=T,=G,=T,=C,=T,=G,=G,=C,=T,=A,=A,=C,@,=T,=A,=C,=G,=T,=T,=A,=T,=G,=T,=T,=C,=A,=G,=G,=G,=A,=G,=A,=A,=G,@,=C,+A|=A,=G,=T,=C,=C,=T,=T,=T,=T,=T,@,=A,=G,=G,=A,=A,=T,@,=G,=G,=C,=A,=C,=T,=T,=T,=C,=T,=A,=A,=C,=T,=T,=T,=T,=T,=T,=T,=C,=T,=C,=T,=A,=G,=G,=A,=T,=G,=G,=A,=G,=A,=A,=A,=A,=A,=T,=T,=A,=G,=C,=C,=T,=T,=C,=T,=T,=C,=C,=T,=A,=C,=T,=T,=T,=A,=A,=A,=A,=A,=T,=G,=T,=T,=A,=G,=A,=C,=A,=T,=A,=G,=A,=A,=T,=T,=A,=A,=G,=G,=G,=A,=T,=T,=G,=T,=T,=A,=T,=T,=T,=T,=G,=A,=G,=A,=T,=T,=A,=A,=A,=T,=T,=T,=T,=C,=T,=T,=T,=T,=C,=T,=C,=C,=T,=A,=T,=T,=A,@,=T,=T,=T,=T,=C,=C,=T,=C,=A,=T,=T,=C,=T,=G,=G,=A,=A,=T,=G,=G,=A,=A,=G,=C,=A,=A,=A,=A,=G,=A,=T,=G,=A,=A,=G,=A,=A,=A,=G,=A,=A,=A,=T,=A,=T,=A,=T,=G,=T,=T,@,=A,=A,@,=T,=G,=T,=T,=T,=T,=C,=C,=T,=T,=T,=A,=A,=A,=T,=G,=A,=A,=C,=A,=C,=A,=A,=A,=T,=G,=T,=G,=A,=A,=A,=T,=A,=T,=G,=T,=T,=T,=T,=T,=C,=T,=G,=C,=C,=T,=A,=T,=C,=T,=T,=G,=T,=A,=A,=A,=A,=T,=T,=T,=T,=C,=T,=A,=T,=T,=G,=C,=A,=A,=C,=T,=A,=T,=T,=C,=T,=G,=A,=T,=T,=A,=C,=C,=A,=G,=T,=T,=C,=A,=A,=A,=T,@,=G,=G,=G,=A,=A,=A,=A,=A,=A,=G,=A,=A,=C,=A,=T,=A,=G,=G,=C,=T,=A,=C,=C,=C,=C,=A,=C,=A,=C,=T,=T,=G,=A,=A,=A,=T,=T,=T,=T,=G,=A,=A,=A,=T,=A,=T,=G,=A,=A,=T,=G,=T,=C,=C,=T,=C,=T,=G,=T,=C,=T,=C,=T,=G,=C,=T,=G,=G,=T,=C,=T,=A,=A,=C,=A,=C,=T,=T,=C,=C,=A,=A,=A,=A,=T,=G,=G,=A,=A,=A,=C,=C,=T,=T,=T,=A,=A,=A,=G,=G,=G,=C,=C,=A,=C,=T,=G,=T,=A,=A,=A,=T,=T,=A,=C,=A,=G,=C,=T,=G,=C,=T,=A,=A,=T,=T,=C,=C,=T,=G,=G,=T,=G,=C,=C,=A,=A,=T,=G,=G,=T,=G,=A,=T,=A,=A,=G,=T,=G,=T,=T,=T,=A,=C,=T,=A,=A,=A,=C,=C,=T,=A,=G,=T,=G,=A,=G,=T,=A,=C,=T,=T,=T,=A,=T,=A,=G,=C,=A,=T,=G,=G,=G,=G,=C,=T,=C,=T,=G,=C,=T,=G,=C,@,@,=A,=G,=T,=A,=A,=C,=A,=T,=T,=G,=C,@,=G,=T,=A,=T,=A,=T,=T,=T,=T,=C,=A,=G,=T,=C,=A,=T,=T,=C,=T,=A,=C,=C,=T,=T,=A,=A,=T,=T,=C,=A,=T,=G,=A,=A,=C,=T,=G,=C,=A,=A,=A,=A,=C,=T,=C,=T,=C,=A,=T,=C,=T,=A,=G,=C,=T,=T,=T,=T,=T,=A,=C,=T,=T,=C,=T,=C,=T,=A,=G,=C,=T,=A,=T,=T,=G,=C,=T,=T,=T,@,=A,=G,=T,=T,=C,=T,=A,=T,=C,=A,=G,=G,=C,=T,=C,=A,=G,=G,=T,=G,=T,=G,=G,=A,=A,=T,=T,=C,=T,=C\n",
      "=T,=G,=C,=A,=T,=T,=G,=A,=A,@,=C,@,=G,@,=T,@,@,=C,=C,=A,=A,=A,=A,=T,=A,=A,=C,=A,=A,=A,=G,=T,=A,=A,=C,=A,=A,=A,=G,=T,=A,=A,=G,=A,=T,=A,=T,=C,=T,=T,=T,=G,=G,=A,=A,=T,=A,=A,=T,=C,=A,=A,=T,=T,=C,=A,=A,=G,=A,=T,=A,=A,=T,=C,=A,=A,=G,=G,=A,=A,=A,=A,=A,=T,=G,=A,=G,=A,=G,=G,=C,=A,=A,=C,=T,=A,=T,=T,=T,=T,=A,=G,=A,=C,=T,=G,=A,=T,=T,@,=C,@,@,@,@,=A,=T,=A,=A,=A,=A,=T,=A,=A,=A,=T,=A,=A,=G,=C,=T,=C,=A,=G,=C,=T,=T,@,=G,=C,*CG,@,@,=A,=T,=A,=T,=A,=A,=G,=C,=A,=A,=T,=A,=T,=T,=C,=T,=G,=A,=G,=T,=T,=C,=T,=G,=A,=A,=G,=A,=A,=A,=A,=A,=T,=T,=T,=T,=T,=G,=A,=C,=A,=A,=A,=A,=T,=G,=A,=G,=T,=T,=C,=T,=A,=T,=A,=A,=A,=T,=G,=T,=T,=A,=T,=T,=G,=T,=C,=T,=A,=C,=T,=T,=A,=T,=G,=A,=T,=C,=T,=C,=T,=A,=A,=A,=T,=A,=C,=A,=A,=C,=A,=G,=G,=C,=T,=T,=G,=T,=A,=T,=T,=C,=A,=G,=A,=A,=T,=C,=T,=A,=G,=A,=T,=G,=T,=T,=T,=C,=A,=T,=G,=A,=C,=C,=T,=T,=T,=A,=T,=T,=C,=A,=T,=A,=A,=G,=A,=G,=A,=T,=G,=A,=T,=G,=T,=A,=T,=T,=C,=T,=T,=G,=A,=T,=A,=C,=T,=A,=C,=T,=T,=C,=T,=C,=A,=T,=T,=T,=G,=C,=A,=A,=A,=T,=T,@,=C,=A,=A,=T,=T,=A,=T,=T,=A,=T,=T,=A,=A,=T,=T,=T,=C,=A,=T,=A,=T,=C,=A,=A,=T,=T,=A,=G,=A,=A,=T,=A,=A,=T,=A,=T,=A,=T,=C,=T,=T,=C,=C,=T,=T,=C,@,=A,=T,=T,=T,=A,=G,=T,=T,=A,=C,=C,=T,=C,=A,=C,=T,=A,=T,=G,=G,=G,=C,=T,=A,=T,=G,=T,=A,=C,=A,=A,=A,=C,=T,=C,@,@,=A,=G,=A,=A,=A,=A,=A,=G,=T,=T,=A,=G,=T,=C,=A,=T,=G,=T,=G,=C,=T,=T,=T,=G,=C,=A,=G,=A,=A,=G,=A,=T,=A,=A,=A,=A,=G,=C,=T,=T,=A,=G,=T,=G,=T,=A,=A,=A,=A,=C,=A,@,=G,=C,=T,=G,=A,@,=A,@,=T,=A,=T,=T,=T,=G,=A,=T,=G,=T,@,=A,=G,=A,@,@,@,=G,@,=A,@,=T,=G,=G,=T,=T,=A,=T,=A,=T,=A,=G,=G,=T,=C,=T,=T,=A,=G,=C,=C,=A,=A,=A,=A,=C,=A,=T,=G,=T,=G,=A,=T,=A,=G,=T,=C,@,=C,=T,=C,=C,=A,=G,=G,=G,=G,=T,=T,=G,=C,=T,=G,=G,=A,=A,=A,=A,=G,=A,=A,=G,=T,=C,=T,=G,=T,=G,=A,=C,=A,=C,=T,=C,=A,=T,=T,=A,=A,=C,=C,=T,=A,=T,=T,=G,=G,=T,=G,=C,=A,=G,=A,=T,=T,=T,=T,=G,=T,@,=T,=G,=A,=T,=C,=T,=A,=A,=A,=G,=G,=A,=G,=A,=A,=A,=A,=T,=G,=T,=T,=C,=T,=T,=G,=G,=C,=T,=G,=T,=T,=T,=T,=G,=T,=A,=T,=T,=G,@,=C,=T,=T,=C,=T,=G,=T,=G,=G,=A,=G,=T,=T,=T,=C,=C,=A,=G,=A,=T,=C,=T,=C,=T,=G,=A,=T,=G,=G,=C,=C,=A,@,=T,=T,=T,=C,=C,=T,=C,=G,=A,=G,=C,=C,=T,=G,=T,=G,=C,=C,=T,=C,=C,=T,=C,=T,=A,=A,=G,=A,=A,=C,=T,=T,=G,=T,=T,=G,=G,=C,=A,=A,=A,=A,=G,=A,=A,=T,=G,=C,=T,=G,=C,=C,=C,=A,=C,=C,=A,=T,=G,=G,=A,=T,=G,=G,=G,=T,=G,=A,=T,=G,=G,=G,=A,=G,=T,@,=C,=C,=T,=G,=C,=G,=G,=C,=C,=A,=G,=C,=T,=T,=T,=C,=A,=G,=G,=C,=A,=G,=A,=G,=G,=T,=T,=C,=C,=T,=G,@,@,@,=G,=G,=A,=T,=A,=T,=C,=C,=T,=T,=C,=T,=G,=T,=C,=C,=A,=G,=T,=G,@,@,=C,=C,=A,=T,=C,=T,=G,=G,=A,=C,=C,=T,=C,=A,=G,=T,=T,=C,=C,=C,@,@,=T,=C,=A,=A,@,@,=G,=G,=G,=T,=G,=G,=A,=T,=G,=A,=C,=C,*GT,=T,=G,=A,=G,=T,=C,=C,=T,=G,=G,=C,=C,=C,=T,=C,=T,=G,=T,@,=T,=T,=T,=T,=A,=T,=A,=A,=T,=A,=G,=G,=A,=C,=C,=T,=G,=C,=C,=A,=G,=T,=G,=C,=T,=C,=A,=G,=G,=C,=A,=A,=C,=T,=T,=C,=A,=T,@,=G,=G,=T,=T,=T,=C,=A,=A,=C,=T,=G,=C,=G,=G,=A,=A,=A,=C,=T,=G,=T,=A,=A,=G,=T,=T,=T,=G,=G,=A,=T,=T,=T,@,=G,=G,=G,@,@,=C,=C,=A,=A,=A,=T,=T,=G,=T,=A,=C,@,@,@,=G,=A,=A,=G,=C,=G,=A,=G,=T,=C,=T,=T,=G,@,=T,=T,=A,=G,=A,=A,=G,=A,=A,=A,=C,=A,=T,=T,=T,=T,=T,=G,=A,=T,=T,=T,=G,=A,=G,=T,=G,=T,=C,=T,=C,=C,=G,=A,=A,=A,=A,=G,=A,=A,=T,=A,=A,=G,=T,=T,=C,=T,=T,=T,=T,=C,=T,=T,=A,=C,=C,=T,=C,=A,=C,@,=T,=T,=A,=G,=C,=A,=A,=A,=A,=C,=A,=T,=A,=C,=T,=A,=T,=C,=A,=G,=C,=T,=C,=A,=G,=T,=C,@,=A,=T,=G,=T,=C,=A,=T,@,@,=C,=C,=A,=C,=A,=G,=G,=C,=A,=C,=C,=T,=A,=T,=G,=G,=C,=C,=A,=A,=A,=T,=G,=A,=A,=C,=A,=A,=T,=G,=G,=G,=T,=C,=A,=A,=C,=A,=C,=C,@,=A,=T,=G,=T,=T,=T,=A,=A,=T,=G,=A,=T,=A,=T,=C,=A,=A,=C,=A,=T,=C,=T,=A,=C,=G,@,=C,=C,=T,=C,=T,=T,=T,=G,=T,=A,=T,=G,=G,=A,=T,=G,=C,=A,=T,=T,=A,=C,=T,=A,=T,=G,=T,=G,=T,=C,=A,=A,=G,=G,=G,=A,=C,=A,=C,=A,=C,=T,=G,=C,=T,=T,=G,=G,=G,=G,=G,=C,=T,=C,=T,@,=A,=A,=A,=T,=A,=T,=G,=G,=A,=G,=G,=G,=A,=C,=A,=T,=T,=G,=A,=T,=T,=T,=T,=G,=C,=C,=C,=A,=T,=G,=A,=A,=G,=C,=A,=C,=C,=A,=G,=G,=G,=T,=T,=T,=C,=T,=G,=C,=C,=T,=T,=G,@,@,=A,@,=A,=G,@,=C,=T,=T,=T,=T,=C,=T,=T,=G,=T,=T,=A,=T,=T,=G,=T,@,@,=G,=A,=A,=C,=A,=A,=G,=A,=A,=A,=T,=T,=C,=G,=A,=G,=A,=A,=C,=T,=A,=A,=C,=T,=G,=G,=G,=G,=A,=T,=G,=A,=G,=A,=A,@,-T,@,=C,=A,=C,=T,=G,=T,=T,=C,=C,=A,=T,=A,@,-T,@,=G,=G,=A,=T,=T,=G,@,@,=G,=A,=G,=A,=T,=G,=C,=A,=G,=A,=A,=A,=A,=C,=T,=G,=T,=G,=A,=C,=A,=T,=T,=T,=G,=C,=A,=C,=A,=G,=A,=T,=G,=A,@,=T,=A,=C,=T,=T,=G,=G,=G,=A,=G,=G,=T,=C,=G,=T,=C,=A,=C,=C,=C,=T,=G,=A,=A,=A,=A,=T,=C,=C,=T,=A,=A,=C,=T,=T,=A,=C,=T,=C,=A,=G,=C,=C,=C,=A,=G,=C,=A,=T,=C,=C,=T,=T,=C,=T,=T,=C,=T,=C,=C,=T,=C,=C,=T,=G,=G,=C,=A,=G,=G,=T,=A,=A,=G,=A,=T,=G,=C,=A,=C,=T,=A,=T,=A,=T,@,@,@,@,=A,=G,=A,=G,=T,=T,=G,=C,=A,=A,=A,=G,=A,=C,=T,=G,=G,=T,=A,=C,=T,=T,=C,=A,=G,=C,=A,=G,=C,=C,=A,=C,=A,=T,=T,=T,=T,=C,=A,=T,=G,=C,=T,=C,=T,=G,=T,=G,=A,=G,=C,=A,=T,=C,=T,=C,=T,=G,=A,=T,=A,=A,=T,=A,=T,=C,=T,=C,=A,=G,=G,=G,@,=A,=G,=A,=A,=A,=A,@,=G,=T,=G,=C,=C,=T,=T,@,=C,@,@,@,=C,=A,=G,=A,=T,=G,=T,=T,=A,=A,=T,=G,=C,=T,=T,=C,=T,=T,=G,=A,=T,=T,=T,=C,=T,=T,=T,=T,=T,=C,=T,=C,=T,=T,=T,=T,=G,=A,=G,=A,=A,=C,=T,=C,=T,=T,@,=A,=A,=A,=G,=T,=T,@,=T,=T,=A,=T,=T,=A,=A,=A,=C,=A,=A,=A,=T,=A,=T,=C,=T,=A,=T,=G,=T,=G,=C,=T,=T,=A,=T,=T,=T,=G,=T,=C,=T,=T,=A,=A,=T,=A,=T,=C,=T,=A,=A,=C,=A,=G,=C,=T,=T,=A,=G,=T,=T,=A,=G,=A,=T,=T,=T,=C,=T,=A,=A,=G,=C,=T,=G,=C,=T,=A,=T,=A,=A,=A,=C,=A,=A,=G,=G,=A,=C,=T,=G,=A,=T,=T,=G,=G,=T,=T,=C,=A,=C,@,=A,=C,=T,=G,=T,=A,=T,@,@,=T,@,=A,=G,=C,=A,=C,=C,=T,=C,=C,=T,=A,=T,=G,=G,=T,=A,=T,=C,=T,=G,=G,=A,=A,=T,=A,=A,=A,=C,=A,=G,=T,=A,=A,=C,=T,=C,=A,=G,=T,=T,=A,=T,=T,=T,=A,=A,=G,=A,=A,=T,=G,=G,=A,=T,=G,=A,=G,=A,=A,=A,=C,=C,=A,=G,=A,=T,=T,=A,=T,=C,=T,=T,=A,=G,=T,=T,=C,=A,=T,=G,=T,=T,=T,=C,=T,=G,=A,=G,=T,=A,=A,=T,=A,=T,=T,=A,=A,=A,=A,=T,=T,=A,=A,=T,=A,=T,=T,=A,=A,=C,=A,=G,=T,=A,=A,=A,=A,=T,@,=C,=A,=T,=A,=A,=G,@,@,=T,=G,=C,=T,=A,=C,=T,=T,=T,=A,=A,=A,=A,=T,=A,=T,=A,=A,=A,=T,=C,=T,=C,=T,=G,=G,=C,=C,=A,=A,=A,=A,=C,=C,@,=A,=G,=A,=C,=T,=T,=A,=T,=T,=A,=T,=T,=C,=A,=G,=G,=A,=T,=C,=T,=T,=C,=A,=A,=G,=A,@,=A,=A,=A,@,=T,=G,=C,=T,=G,=A,=G,=A,=T,=A,=A,=T,=T,=C,=A,@,=T,=A,=A,@,=T,=A,=T,=C,=A,=G,=A,=G,=A,=T,=G,=A,=C,=C,=T,=T,=T,=A,=T,=T,=A,=C,=A,=T,=G,=A,=T,=T,=G,=C,=C,=T,=G,=A,=T,=A,=G,=A,=A,=A,=A,=A,=A,=T,=G,=A,=T,=T,=A,=C,=A,=C,=A,=C,=A,=C,=A,=C,=A,=A,=A,=A,=A,=A,=A,=T,=C,=T,=T,=C,=A,=G,=T,=T,=G,=C,=T,=T,=A,=A,=A,=T,=T,=T,=T,=A,=A,=A,=C,=G,=T,=T,=G,=C,=T,=G,=A,=C,=T,=C,=T,=C,=A,=A,=A,=C,=A,=G,=T,=T,=A,=A,=G,=T,=A,=A,=T,=A,=A,=A,=A,=G,=A,=G,=T,=T,=A,=A,=A,=G,=C,=C,=T,=G,=C,=T,=G,=T,=G,=T,=A,=T,=T,=T,=A,=G,=A,=A,@,=A,@,@,=T,=G,=A,=A,=T,=A,=C,=C,=T,=A,=T,=T,=G,=A,=A,@,@,=A,=A,=T,=T,=T,=A,=T,=T,=G,=T,=A,=C,=A,=A,=T,=T,=A,=A,=T,=A,=T,=A,=A,=A,=C,=A,=G,=A,=C,=T,=T,=C,=T,=A,=T,=T,=T,=T,=A,=C,=A,=G,=T,=C,=A,=T,=A,=A,=G,=A,=T,=A,=C,=T,=A,=C,=T,=T,=A,=A,=T,=T,=T,=G,=T,=T,=A,=A,=A,=A,=A,=T,=T,=A,=T,=T,=T,=T,=T,=T,=G,=A,=T,=A,=G,=C,=A,=T,=T,=G,=T,=T,=G,=G,=T,=A,=A,=A,=T,=A,=G,=C,=A,=A,=A,=G,=G,=T,=G,=A,=T,=A,=T,=T,=T,=G,=C,=T,=A,=A,=T,=G,=A,=T,=T,=A,=C,@,=A,=G,=G,=G,=C,=T,=G,=T,=C,=T,=G,=G,=C,=T,=A,=A,=C,=T,=T,=A,=C,=G,=T,=T,=A,=T,=G,@,=T,=C,=A,@,=G,=G,=A,=G,=A,=A,=G,=A,=C,=A,=G,=T,=C,=C,=T,=T,=T,=T,=T,@,@,=G,=G,=A,=A,=T,@,=G,=G,=C,=A,=C,=T,=T,=T,=C,=T,=A,=A,=C,=T,=T,=T,=T,=T,=T,=T,=C,=T,=C,=T,=A,=G,=G,=A,=T,=G,=G,=A,=G,=A,=A,=A,=A,=A,=T,=T,=A,=G,=C,=C,=T,=T,=C,=T,=T,=C,=C,=T,=A,=C,=T,=T,=T,=A,=A,=A,=A,=A,=T,=G,=T,=T,=A,=G,=A,=C,=A,=T,=A,=G,=A,=A,=T,=T,@,=A,=G,=G,=G,=A,=T,=T,=G,=T,=T,=A,=T,=T,=T,=T,=G,=A,=G,=A,=T,=T,=A,=A,=A,=T,=T,=T,=T,=C,=T,=T,=T,=T,=C,=T,=C,=C,=T,=A,=T,=T,=A,@,=T,=T,=T,=T,=C,=C,=T,=C,=A,=T,=T,=C,=T,=G,=G,=A,=A,=T,=G,=G,=A,=A,=G,=C,=A,=A,=A,=A,=G,=A,=T,=G,=A,=A,=G,=A,=A,=A,=G,=A,=A,=A,=T,=A,=T,=A,=T,=G,=T,=T,=A,=A,=A,=T,=T,=G,=T,=T,=T,=T,=C,=C,=T,=T,=T,=A,=A,=A,=T,@,=A,=A,=C,=A,=C,=A,=A,=A,=T,=G,=T,=G,=A,=A,=A,=T,=A,=T,=G,=T,=T,=T,=T,=T,=C,=T,=G,@,=C,=T,=A,=T,=C,=T,=T,=G,=T,=A,=A,=A,=A,=T,=T,=T,=T,=C,=T,=A,=T,=T,=G,=C,=A,=A,=C,=T,=A,=T,=T,=C,=T,=G,=A,=T,=T,=A,=C,=C,=A,=G,=T,=T,=C,=A,=A,=A,=T,=G,=G,=G,=G,=A,=A,=A,=A,=A,=A,=G,=A,=A,=C,=A,=T,@,@,@,=C,=T,=A,@,@,@,=C,=A,=C,=A,=C,=T,=T,=G,=A,=A,=A,=T,=T,=T,=T,@,=A,=A,=A,=T,=A,=T,=G,=A,=A,=T,=G,=T,=C,=C,=T,=C,=T,=G,=T,=C,=T,=C,=T,=G,=C,=T,=G,=G,=T,=C,=T,=A,@,=C,=A,=C,=T,=T,=C,=C,=A,=A,=A,=A,=T,=G,=G,=A,=A,=A,=C,=C,=T,=T,=T,=A,=A,=A,=G,=G,=G,=C,=C,=A,=C,=T,=G,=T,=A,=A,=A,=T,=T,=A,=C,=A,=G,=C,=T,=G,=C,=T,=A,=A,=T,=T,=C,=C,=T,=G,=G,=T,=G,=C,=C,=A,=A,=T,=G,=G,=T,=G,=A,=T,=A,=A,=G,=T,=G,=T,=T,=T,=A,=C,=T,=A,=A,=A,=C,=C,=T,=A,=G,=T,=G,=A,=G,=T,=A,=C,=T,=T,=T,=A,=T,=A,=G,=C,=A,=T,@,@,=G,=G,=C,=T,=C,=T,=G,=C,=T,=G,=C,=G,=A,@,@,=T,=A,=A,=C,=A,=T,=T,=G,=C,=T,=G,=T,=A,=T,=A,=T,=T,=T,=T,=C,=A,=G,=T,=C,=A,=T,=T,=C,=T,=A,=C,=C,=T,=T,=A,=A,=T,=T,=C,=A,=T,=G,=A,=A,=C,=T,=G,=C,=A,=A,=A,=A,=C,=T,=C,=T,=C,=A,=T,=C,=T,=A,=G,=C,=T,=T,=T,=T,=T,=A,=C,=T,=T,=C,=T,=C,=T,=A,=G,=C,=T,=A,=T,=T,@,=C,=T,=T,=T,=A,=A,=G,=T,=T,=C,=T,=A,=T,=C,@,@,=G,=C,=T,=C,=A,=G,=G,=T,=G,=T,=G,=G,=A,=A,=T,=T,=C,=T,=C\n",
      "N,N,N,N,N,=T,=G,=A,=A,@,=C,=A,=G,=T,=T,=C,=A,@,=C,=A,=A,=A,=A,=T,=A,=A,=C,=A,=A,=A,=G,=T,=A,=A,=C,=A,=A,=A,=G,=T,@,=A,=G,=A,=T,=A,=T,=C,=T,=T,=T,=G,=G,=A,=A,=T,=A,=A,=T,=C,=A,=A,=T,=T,=C,=A,@,*GA,=A,=T,=A,=A,=T,=C,=A,=A,=G,=G,@,=A,=A,=A,=A,@,@,=A,@,=A,=G,=G,=C,=A,=A,=C,=T,=A,=T,=T,=T,=T,=A,=G,=A,=C,=T,=G,=A,=T,=T,=A,=C,=T,=T,=T,=T,=A,=T,=A,=A,=A,=A,=T,=A,=A,=A,=T,=A,=A,=G,=C,=T,=C,=A,=G,=C,=T,=T,=A,=G,=C,=C,=A,=G,=A,=T,=A,=T,=A,=A,=G,=C,=A,=A,=T,=A,=T,=T,=C,=T,=G,=A,=G,=T,=T,=C,=T,=G,@,=A,=G,=A,=A,=A,=A,@,@,=T,=T,=T,=T,=G,=A,=C,=A,=A,=A,=A,=T,=G,=A,=G,=T,=T,=C,=T,=A,=T,=A,=A,=A,=T,=G,=T,=T,=A,=T,=T,=G,=T,=C,=T,=A,=C,=T,=T,=A,=T,=G,=A,=T,=C,=T,=C,=T,=A,=A,=A,=T,=A,=C,=A,=A,=C,=A,=G,=G,=C,=T,=T,@,=T,@,@,=T,@,=A,=G,=A,=A,=T,=C,=T,=A,=G,=A,=T,=G,=T,=T,=T,=C,=A,=T,=G,=A,=C,=C,=T,=T,=T,=A,=T,=T,=C,=A,=T,=A,=A,=G,=A,=G,=A,=T,=G,=A,=T,=G,=T,=A,=T,=T,=C,=T,=T,=G,=A,=T,=A,=C,=T,@,=C,=T,=T,=C,@,=C,=A,=T,=T,=T,=G,=C,=A,=A,=A,=T,=T,=C,=C,=A,=A,=T,=T,=A,=T,=T,=A,=T,=T,=A,=A,=T,=T,=T,=C,=A,=T,=A,=T,=C,=A,=A,=T,=T,=A,=G,=A,=A,=T,=A,=A,=T,=A,=T,=A,=T,=C,=T,=T,=C,=C,=T,=T,=C,=A,=A,=T,=T,=T,=A,=G,=T,=T,=A,=C,@,@,=C,=A,=C,=T,=A,=T,=G,=G,=G,=C,=T,=A,=T,=G,=T,=A,=C,=A,=A,=A,=C,=T,=C,=C,@,=A,=G,=A,=A,=A,=A,=A,=G,=T,=T,=A,=G,=T,=C,=A,=T,=G,=T,=G,=C,=T,=T,=T,=G,=C,=A,=G,=A,=A,=G,=A,=T,=A,=A,=A,=A,=G,=C,=T,=T,=A,=G,=T,=G,=T,=A,=A,=A,=A,=C,=A,=G,=G,=C,=T,=G,=A,=G,=A,=G,=T,=A,=T,=T,=T,=G,=A,=T,=G,=T,=A,=A,=G,=A,=A,=G,=G,=G,=G,=A,=G,=T,=G,=G,=T,=T,=A,=T,=A,=T,=A,=G,=G,=T,=C,=T,=T,=A,=G,=C,=C,=A,=A,=A,=A,=C,=A,=T,=G,=T,=G,=A,=T,=A,=G,=T,=C,=A,=C,=T,=C,=C,=A,=G,=G,=G,=G,=T,=T,=G,=C,=T,=G,=G,=A,=A,=A,=A,=G,=A,=A,=G,=T,=C,=T,=G,=T,=G,=A,=C,=A,=C,=T,=C,=A,=T,=T,=A,=A,@,=C,=T,=A,=T,=T,=G,=G,=T,=G,=C,@,=G,=A,=T,=T,=T,=T,=G,=T,=A,=T,=G,=A,=T,=C,=T,=A,=A,=A,=G,=G,=A,=G,=A,=A,=A,=A,=T,=G,=T,=T,=C,=T,=T,=G,=G,=C,=T,=G,=T,=T,=T,=T,=G,=T,@,@,=T,=G,=C,=C,=T,=T,=C,=T,=G,=T,=G,=G,=A,=G,=T,=T,=T,=C,=C,=A,=G,=A,=T,=C,=T,=C,=T,=G,=A,=T,=G,=G,=C,=C,=A,=T,=T,=T,=T,=C,=C,=T,=C,=G,=A,=G,=C,=C,=T,=G,=T,=G,=C,=C,=T,=C,=C,=T,=C,=T,=A,=A,=G,=A,=A,=C,=T,=T,=G,=T,=T,=G,=G,=C,=A,=A,=A,=A,=G,=A,=A,=T,=G,=C,=T,=G,=C,=C,=C,=A,=C,=C,=A,=T,=G,=G,=A,=T,=G,=G,=G,=T,=G,=A,=T,=G,=G,=G,=A,=G,=T,=C,=C,=C,=T,=G,=C,=G,=G,=C,=C,=A,=G,=C,=T,=T,=T,=C,@,=G,=G,=C,=A,=G,=A,=G,=G,=T,=T,=C,=C,=T,=G,=C,=C,=A,=G,=G,=A,=T,=A,=T,=C,=C,=T,=T,=C,=T,=G,=T,=C,=C,=A,=G,=T,=G,=C,=A,=C,=C,=A,=T,=C,=T,=G,=G,=A,=C,=C,=T,=C,=A,=G,=T,=T,=C,=C,=C,=C,=T,=T,@,=A,=A,=A,=G,=G,=G,=G,=T,=G,=G,=A,=T,=G,=A,=C,=C,=G,=T,=G,=A,=G,=T,=C,=C,=T,=G,=G,=C,=C,=C,=T,=C,=T,=G,=T,=G,=T,=T,=T,=T,=A,=T,=A,=A,=T,=A,=G,=G,=A,=C,=C,=T,=G,=C,=C,=A,=G,=T,=G,=C,=T,=C,=A,=G,=G,=C,=A,=A,=C,=T,=T,=C,=A,=T,=G,=G,=G,=T,=T,=T,=C,=A,=A,=C,=T,=G,=C,=G,=G,=A,=A,=A,=C,=T,=G,=T,=A,=A,=G,=T,=T,=T,=G,=G,=A,=T,=T,=T,@,=G,@,=G,=G,=C,=C,=C,=A,=A,=A,=T,=T,=G,=T,=A,=C,=A,=G,=A,=G,=A,=A,=G,=C,=G,=A,=G,=T,=C,=T,=T,=G,=A,=T,=T,=A,=G,=A,=A,=G,=A,=A,=A,=C,=A,=T,=T,=T,=T,=T,=G,=A,=T,=T,=T,=G,=A,=G,=T,=G,=T,=C,=T,@,=C,=G,=A,=A,=A,=A,=G,=A,=A,=T,=A,=A,=G,=T,=T,=C,=T,=T,=T,=T,=C,=T,=T,=A,=C,=C,=T,=C,=A,=C,=T,=T,=T,=A,=G,=C,=A,=A,=A,=A,=C,=A,=T,=A,=C,=T,=A,=T,=C,=A,=G,=C,=T,=C,=A,=G,=T,=C,=T,=A,=T,=G,=T,=C,=A,=T,@,=C,=C,=C,=A,=C,=A,=G,=G,=C,=A,=C,=C,=T,=A,=T,=G,=G,=C,=C,=A,=A,=A,=T,=G,=A,=A,=C,=A,=A,=T,=G,=G,=G,=T,=C,=A,=A,=C,=A,=C,=C,=C,=A,=T,=G,=T,=T,=T,=A,=A,=T,=G,=A,=T,=A,=T,=C,=A,=A,=C,=A,=T,=C,=T,=A,=C,@,=A,=C,@,=T,=C,=T,=T,=T,@,=T,=A,=T,=G,@,=A,=T,@,=C,=A,@,=T,=A,=C,=T,=A,=T,=G,=T,@,=T,@,=A,=A,=G,=G,@,=A,=C,=A,=C,=A,@,@,=G,=C,@,@,@,@,@,=G,@,=C,=T,@,@,=G,=A,=A,=A,=T,=A,=T,=G,=G,@,*GA,=G,=G,=A,=C,=A,=T,=T,@,=A,=T,=T,=T,=T,=G,=C,@,=C,*AT,=T,@,@,=A,@,=C,=A,=C,@,=A,=G,@,=G,=T,=T,@,=C,=T,@,=C,=C,=T,=T,@,=G,=C,=A,=C,@,@,=A,@,@,@,@,@,@,=T,=T,=G,=T,@,=A,@,@,=G,@,=G,@,@,@,=A,=C,=A,=A,@,=A,=A,=A,=T,=T,=C,@,=A,@,=A,=A,=C,=T,=A,=A,=C,@,@,=G,=G,=G,=A,=T,=G,=A,=G,=A,=A,=C,=T,@,@,=A,=C,=T,@,=T,=T,=C,=C,=A,=T,@,=C,@,@,=G,=G,=A,@,=T,=G,=G,=A,=G,=A,@,=A,=T,@,=C,=A,@,=A,=A,=A,=A,=C,@,@,=T,@,=A,=C,=A,=T,=T,@,=G,-C,=A,@,=A,=G,@,=T,@,=A,=G,=T,=A,=C,@,@,=G,=G,@,=A,=G,@,=T,=C,=G,=T,=C,=A,=C,=C,=C,=T,=G,=A,=A,=A,=A,=T,=C,@,@,=A,=A,=C,@,@,=A,=C,=T,=C,=A,@,@,=C,*CT,=A,@,=C,=A,=T,=C,=C,=T,=T,=C,=T,=T,=C,=T,@,=C,=T,=C,@,@,@,=G,=C,=A,-G,=G,=T,=A,=A,=G,=A,=T,@,@,=A,=C,=T,=A,=T,=A,=T,@,=G,@,=G,=A,@,=A,=G,=T,=T,@,=C,@,=A,=A,=G,=A,=C,=T,=G,=G,=T,=A,=C,=T,=T,=C,=A,@,=C,=A,@,=C,=C,-A,=C,=A,@,=T,=T,=T,=C,=A,=T,=G,=C,=T,@,=T,=G,=T,=G,=A,@,=C,=A,=T,=C,=T,=C,=T,=G,=A,=T,=A,=A,@,=A,=T,=C,=T,=C,@,=G,@,=G,@,=A,@,=A,=A,@,=A,=T,@,@,=G,=C,=C,-T,@,=A,@,=T,=A,=A,=C,@,@,@,=T,=G,@,@,=A,=A,=T,@,@,=T,=T,=C,=T,@,@,=A,=T,=T,@,=C,@,=T,=T,=T,=T,=C,=T,=C,=T,=T,=T,=T,=G,=A,=G,=A,=A,=C,=T,=C,=T,=T,=C,=A,=A,=A,=G,=T,=T,=G,=T,=T,=A,=T,=T,=A,=A,=A,=C,=A,=A,=A,=T,=A,=T,=C,=T,=A,=T,=G,=T,=G,=C,=T,=T,=A,=T,=T,=T,=G,=T,=C,=T,=T,=A,=A,=T,=A,=T,=C,=T,=A,=A,=C,=A,=G,=C,=T,=T,@,=G,@,=T,=A,=G,=A,=T,=T,=T,=C,=T,=A,=A,=G,=C,=T,=G,=C,=T,=A,=T,=A,=A,=A,@,=A,=A,=G,=G,=A,@,=T,=G,=A,=T,=T,=G,=G,=T,=T,@,@,=C,@,=A,=C,=T,=G,=T,=A,=T,=T,*GA,@,=T,=A,=G,=C,=A,=C,=C,=T,=C,=C,=T,=A,=T,=G,=G,=T,=A,=T,=C,@,=G,=G,=A,=A,=T,=A,=A,=A,=C,=A,=G,=T,=A,=A,=C,=T,=C,=A,=G,=T,=T,=A,=T,=T,=T,=A,=A,=G,=A,=A,=T,=G,=G,=A,=T,@,@,=G,=A,=A,=A,=C,=C,=A,=G,=A,=T,=T,=A,=T,=C,=T,=T,=A,=G,=T,=T,=C,=A,=T,=G,=T,=T,=T,=C,=T,=G,=A,=G,=T,=A,=A,=T,=A,=T,=T,=A,=A,=A,=A,=T,=T,=A,=A,=T,=A,=T,=T,=A,=A,=C,=A,=G,=T,@,=A,=A,=A,=T,=C,=C,=A,=T,@,=A,=G,=T,=A,=T,=G,=C,=T,=A,=C,=T,=T,=T,=A,=A,=A,=A,=T,=A,=T,=A,=A,=A,=T,=C,=T,=C,=T,=G,=G,=C,=C,=A,=A,=A,=A,=C,=C,=A,=A,=G,=A,=C,=T,=T,=A,=T,=T,=A,=T,=T,=C,=A,=G,=G,=A,=T,=C,=T,=T,=C,=A,=A,=G,=A,=G,=A,=A,=A,=G,=T,=G,=C,=T,=G,=A,=G,=A,=T,@,=A,=T,=T,=C,=A,=C,=T,=A,=A,=G,=T,@,@,@,@,@,=A,=G,@,=T,=G,=A,=C,=C,=T,=T,=T,=A,=T,=T,=A,=C,=A,=T,=G,=A,=T,=T,@,=C,@,=T,=G,=A,=T,=A,=G,=A,=A,=A,=A,=A,=A,=T,=G,=A,=T,=T,=A,=C,=A,=C,=A,=C,=A,=C,=A,=C,=A,=A,=A,=A,=A,=A,=A,=T,=C,=T,=T,=C,=A,=G,=T,=T,=G,=C,=T,=T,=A,=A,=A,=T,=T,=T,=T,=A,=A,=A,=C,=G,=T,=T,=G,=C,=T,=G,=A,=C,=T,=C,=T,=C,=A,=A,=A,=C,=A,=G,=T,=T,=A,=A,=G,=T,=A,=A,=T,=A,=A,=A,=A,=G,=A,=G,=T,=T,=A,=A,=A,=G,=C,=C,=T,=G,=C,=T,=G,=T,=G,=T,=A,=T,=T,=T,=A,=G,=A,=A,=T,=A,=T,=G,=T,=G,=A,=A,=T,=A,=C,=C,=T,=A,=T,=T,=G,=A,=A,=A,=G,=A,=A,=T,=T,=T,=A,=T,=T,=G,=T,=A,=C,=A,=A,=T,=T,=A,=A,=T,=A,=T,=A,=A,=A,=C,=A,=G,=A,=C,=T,=T,=C,=T,=A,=T,=T,=T,=T,=A,=C,=A,=G,=T,=C,=A,=T,=A,=A,=G,=A,=T,=A,=C,=T,=A,=C,=T,=T,=A,=A,=T,=T,=T,=G,@,=T,=A,=A,=A,=A,=A,=T,=T,=A,=T,=T,=T,=T,=T,=T,=G,=A,=T,@,=G,=C,=A,=T,=T,=G,=T,=T,=G,=G,=T,=A,=A,=A,=T,=A,=G,=C,=A,=A,=A,=G,=G,=T,=G,=A,=T,=A,=T,=T,=T,=G,=C,=T,=A,=A,=T,=G,=A,=T,=T,=A,=C,=A,=A,=G,=G,=G,=C,=T,=G,=T,=C,=T,=G,=G,=C,=T,=A,=A,=C,=T,=T,=A,=C,@,=T,=T,=A,=T,=G,=T,=T,=C,=A,=G,=G,=G,=A,=G,=A,=A,=G,=A,=C,=A,=G,=T,=C,=C,=T,=T,=T,=T,=T,=A,=A,=G,=G,=A,=A,=T,=G,=G,=G,=C,=A,=C,=T,=T,=T,=C,=T,=A,=A,=C,@,=T,=T,=T,=T,=T,=T,=C,=T,=C,=T,=A,=G,=G,=A,=T,=G,=G,=A,=G,=A,@,=A,=A,=A,=T,=T,=A,=G,=C,=C,=T,=T,=C,=T,=T,=C,=C,=T,=A,=C,=T,=T,=T,=A,=A,=A,=A,=A,=T,=G,=T,=T,=A,=G,=A,=C,=A,=T,=A,@,=A,=A,*TG,=T,@,=A,@,=G,=G,=A,=T,=T,=G,=T,=T,=A,@,=T,=T,=T,=G,=A,=G,=A,=T,=T,=A,=A,=A,=T,=T,=T,=T,=C,=T,=T,=T,=T,=C,=T,=C,=C,=T,=A,=T,=T,=A,@,=T,=T,=T,=T,=C,=C,=T,=C,=A,=T,=T,=C,=T,=G,=G,=A,=A,=T,=G,=G,=A,=A,=G,=C,@,=A,=A,=A,=G,=A,=T,=G,=A,=A,=G,=A,=A,=A,=G,=A,=A,@,@,=A,=T,=A,=T,=G,=T,=T,=A,=A,=A,=T,=T,=G,=T,=T,=T,=T,=C,=C,=T,=T,=T,=A,=A,=A,=T,=G,=A,=A,=C,=A,=C,=A,=A,=A,=T,=G,=T,=G,=A,=A,=A,=T,=A,=T,=G,=T,=T,=T,=T,=T,=C,=T,=G,=C,=C,=T,=A,=T,=C,=T,=T,=G,=T,=A,=A,=A,=A,=T,=T,=T,=T,=C,=T,=A,=T,=T,=G,=C,=A,=A,=C,=T,=A,=T,=T,=C,=T,=G,=A,=T,=T,=A,=C,=C,=A,=G,=T,=T,=C,=A,=A,=A,=T,=G,=G,=G,=G,=A,=A,=A,=A,=A,=A,=G,=A,=A,=C,=A,=T,=A,=G,=G,=C,=T,=A,=C,=C,=C,@,@,=C,=A,=C,=T,=T,=G,=A,=A,=A,=T,=T,=T,=T,=G,=A,=A,=A,=T,=A,=T,=G,=A,=A,=T,=G,=T,=C,=C,=T,=C,=T,=G,=T,=C,=T,=C,=T,=G,=C,=T,=G,=G,=T,=C,@,@,@,@,@,=C,=T,=T,=C,=C,=A,=A,=A,=A,=T,=G,=G,=A,=A,=A,=C,=C,=T,=T,=T,=A,=A,=A,=G,=G,=G,=C,=C,=A,=C,=T,=G,=T,=A,=A,=A,=T,=T,=A,=C,@,=G,@,@,=G,=C,=T,=A,@,=T,=T,@,=C,=T,=G,=G,=T,=G,=C,=C,=A,=A,=T,=G,=G,=T,=G,=A,=T,=A,=A,=G,=T,=G,=T,=T,=T,=A,=C,=T,=A,=A,=A,=C,=C,=T,=A,=G,=T,=G,=A,=G,=T,=A,=C,=T,=T,=T,=A,=T,=A,=G,=C,=A,=T,=G,=G,=G,=G,=C,=T,=C,=T,=G,=C,=T,=G,=C,=G,=A,=A,=G,=T,=A,=A,=C,=A,=T,=T,=G,=C,=T,=G,=T,=A,=T,=A,=T,=T,=T,=T,=C,=A,=G,=T,=C,=A,=T,=T,=C,=T,=A,=C,=C,=T,=T,=A,=A,=T,=T,=C,=A,=T,=G,=A,=A,=C,=T,=G,=C,=A,=A,=A,=A,=C,=T,=C,=T,=C,=A,@,=C,@,@,=G,=C,@,=T,=T,=T,=T,=A,@,@,@,=C,=T,=C,=T,@,=G,=C,=T,=A,@,=T,=G,=C,=T,=T,=T,=A,=A,=G,=T,=T,=C,=T,=A,=T,=C,=A,=G,=G,=C,=T,=C,=A,=G,=G,=T,=G,=T,@,=G,=A,=A,=T,=T,=C,=T,=C\n"
     ]
    }
   ],
   "source": [
    "print(next(cssplits_sample_atmark))\n",
    "print(next(cssplits_sample_atmark))\n",
    "print(next(cssplits_sample_atmark))"
   ]
  },
  {
   "cell_type": "code",
   "execution_count": 45,
   "metadata": {},
   "outputs": [
    {
     "name": "stdout",
     "output_type": "stream",
     "text": [
      "2845\n"
     ]
    }
   ],
   "source": [
    "print(len(mutation_loci))"
   ]
  },
  {
   "attachments": {},
   "cell_type": "markdown",
   "metadata": {},
   "source": [
    "- `_replace_errors_to_atmark`は不要では？"
   ]
  },
  {
   "cell_type": "code",
   "execution_count": 57,
   "metadata": {},
   "outputs": [],
   "source": [
    "def _create_replace_dict(midsv_sample: dict[list[str, str]], mutation_loci: dict[str, set[int]]) -> dict[str, dict[str, int]]:\n",
    "    cssplits_error_kmer = defaultdict(set)\n",
    "    cssplits_sampling = defaultdict(lambda: defaultdict(lambda: Counter([\"N\"])))\n",
    "    for cssplits in (cs[\"CSSPLIT\"].split(\",\") for cs in midsv_sample):\n",
    "        cssplits = list(cssplits)\n",
    "        for idx_seq, cs in enumerate(cssplits):\n",
    "            if idx_seq == 0 or idx_seq == len(cssplits) - 1:\n",
    "                continue\n",
    "            kmer = \",\".join([cssplits[idx_seq - 1], cs, cssplits[idx_seq + 1]])\n",
    "            if not (cs[0] in mutation_loci[idx_seq] or cs.startswith(\"=\") or cs == \"N\" or re.search(r\"a|c|g|t|n\", cs)):\n",
    "                cssplits_error_kmer[idx_seq].add(kmer)\n",
    "            else:\n",
    "                cssplits_sampling[idx_seq][kmer] += Counter([cs])\n",
    "    return cssplits_error_kmer, cssplits_sampling\n"
   ]
  },
  {
   "cell_type": "code",
   "execution_count": 58,
   "metadata": {},
   "outputs": [],
   "source": [
    "x, y = _create_replace_dict(midsv_sample[:100], mutation_loci)"
   ]
  },
  {
   "cell_type": "code",
   "execution_count": 60,
   "metadata": {},
   "outputs": [
    {
     "name": "stdout",
     "output_type": "stream",
     "text": [
      "2463\n",
      "2843\n",
      "dict_keys([19, 35, 88, 141, 142, 284, 308, 311, 340, 370, 371, 400, 405, 478, 526, 736, 960, 1001, 1006, 1007, 1054, 1159, 1161, 1266, 1269, 1270, 1271, 1290, 1291, 1292, 1382, 1383, 1418, 1434, 1435, 1508, 1509, 1511, 1513, 1577, 1659, 1662, 1667, 1749, 1826, 1873, 2067, 2200, 2216, 2238, 2250, 2257, 2379, 2430, 2433, 2527, 2721, 2722, 2734, 2814, 9, 11, 13, 15, 16, 109, 111, 112, 113, 114, 137, 318, 365, 401, 402, 454, 460, 462, 473, 477, 479, 481, 483, 520, 582, 622, 655, 731, 763, 764, 765, 786, 787, 808, 809, 814, 815, 847, 886, 920, 924, 925, 937, 938, 939, 953, 1015, 1043, 1051, 1052, 1093, 1119, 1175, 1228, 1229, 1231, 1234, 1251, 1252, 1288, 1303, 1305, 1312, 1313, 1348, 1436, 1437, 1510, 1517, 1525, 1527, 1528, 1529, 1576, 1583, 1677, 1685, 1686, 1688, 1807, 1814, 1815, 1850, 1877, 1881, 1897, 1901, 2050, 2052, 2053, 2069, 2070, 2198, 2226, 2230, 2251, 2336, 2449, 2477, 2543, 2544, 2545, 2549, 2550, 2551, 2567, 2600, 2708, 2709, 2723, 2724, 2809, 2824, 2825, 17, 40, 66, 78, 83, 84, 86, 167, 174, 175, 239, 241, 242, 244, 300, 305, 376, 377, 562, 573, 618, 619, 748, 811, 922, 984, 1118, 1121, 1127, 1132, 1135, 1138, 1147, 1149, 1154, 1160, 1164, 1165, 1166, 1167, 1168, 1170, 1173, 1174, 1184, 1193, 1201, 1205, 1206, 1208, 1212, 1215, 1219, 1222, 1227, 1232, 1233, 1235, 1236, 1237, 1238, 1239, 1240, 1245, 1247, 1248, 1250, 1253, 1254, 1259, 1268, 1276, 1277, 1295, 1302, 1304, 1309, 1316, 1319, 1322, 1328, 1329, 1331, 1337, 1341, 1344, 1346, 1352, 1353, 1356, 1359, 1377, 1378, 1389, 1390, 1394, 1407, 1411, 1412, 1413, 1425, 1426, 1439, 1444, 1446, 1462, 1465, 1471, 1481, 1487, 1500, 1506, 1512, 1515, 1518, 1519, 1524, 1526, 1531, 1532, 1533, 1536, 1537, 1541, 1542, 1547, 1548, 1552, 1554, 1633, 1635, 1658, 1664, 1674, 1675, 1687, 1707, 1743, 1744, 1802, 1811, 1891, 1903, 1904, 1905, 1906, 1907, 1910, 1930, 1932, 2135, 2154, 2220, 2271, 2292, 2331, 2338, 2348, 2404, 2421, 2422, 2552, 2553, 2598, 2599, 2601, 2602, 2643, 2645, 2646, 2651, 2654, 2783, 2785, 2786, 2789, 2795, 2796, 2797, 2802, 2807, 2836, 27, 57, 59, 183, 435, 436, 482, 517, 518, 537, 576, 589, 590, 591, 620, 629, 637, 670, 678, 709, 737, 840, 846, 875, 879, 923, 1200, 1207, 1366, 1535, 1549, 1761, 1762, 2202, 2210, 2212, 2217, 2218, 2219, 2221, 2252, 2531, 2532, 2784, 2816, 237, 384, 430, 458, 459, 497, 540, 566, 790, 791, 807, 940, 943, 945, 1004, 1010, 1028, 1244, 1939, 2012, 2019, 2173, 2234, 2235, 2237, 2267, 2268, 2269, 2270, 2272, 2317, 2370, 2376, 2377, 2378, 2382, 2500, 2613, 2806, 101, 102, 103, 106, 121, 270, 271, 272, 273, 276, 278, 314, 612, 630, 632, 675, 771, 773, 775, 892, 894, 916, 917, 978, 1134, 1177, 1178, 1179, 1195, 1335, 1347, 1350, 1354, 1355, 1358, 1371, 1385, 1387, 1388, 1410, 1420, 1421, 1423, 1514, 1522, 1603, 1606, 1607, 1718, 1722, 1864, 1889, 1890, 1899, 1960, 1983, 2030, 2137, 2138, 2139, 2142, 2145, 2190, 2258, 2261, 2288, 2289, 2298, 2308, 2309, 2310, 2347, 2366, 2384, 2398, 2484, 2485, 2523, 2580, 2582, 2603, 2669, 2671, 2674, 2698, 2749, 2819, 2829, 480, 523, 692, 693, 694, 699, 702, 704, 1094, 1384, 1391, 1461, 2117, 2245, 2372, 2416, 2417, 2418, 2716, 2717, 2720, 2780, 2781, 2782, 133, 135, 136, 139, 146, 147, 149, 150, 164, 165, 233, 252, 253, 345, 385, 387, 391, 404, 423, 570, 593, 594, 633, 722, 723, 724, 725, 726, 841, 842, 848, 873, 906, 931, 947, 971, 977, 987, 1018, 1045, 1046, 1091, 1092, 1169, 1258, 1273, 1274, 1298, 1496, 1497, 1498, 1544, 1545, 1546, 1568, 1586, 1587, 1602, 1615, 1629, 1694, 2049, 2051, 2057, 2058, 2182, 2183, 2253, 2291, 2361, 2420, 2542, 2554, 2623, 2625, 2626, 2771, 2832, 2833, 216, 218, 220, 222, 226, 228, 229, 366, 500, 645, 676, 766, 805, 880, 888, 985, 995, 1021, 1101, 1103, 1105, 1176, 1220, 1225, 1281, 1282, 1321, 1417, 1440, 1441, 1574, 1579, 1580, 1650, 1652, 1653, 1656, 1660, 2105, 2121, 2122, 2123, 2343, 2344, 2360, 2520, 2581, 2676, 2679, 2680, 2681, 2746, 2790, 18, 38, 96, 260, 319, 475, 555, 621, 663, 671, 686, 754, 759, 899, 989, 990, 991, 1029, 1030, 1032, 1035, 1036, 1037, 1038, 1116, 1117, 1171, 1272, 1279, 1284, 1294, 1299, 1301, 1306, 1307, 1308, 1336, 1342, 1343, 1349, 1360, 1361, 1362, 1367, 1372, 1396, 1398, 1406, 1415, 1427, 1429, 1430, 1431, 1432, 1438, 1447, 1453, 1455, 1466, 1467, 1472, 1473, 1476, 1477, 1483, 1494, 1495, 1501, 1502, 1507, 1523, 1534, 1550, 1555, 1556, 1558, 1561, 1562, 1563, 1564, 1565, 1566, 1567, 1573, 1575, 1578, 1584, 1598, 1599, 1604, 1612, 1616, 1621, 1627, 1628, 1634, 1637, 1640, 1641, 1642, 1645, 1646, 1648, 1655, 1666, 1670, 1676, 1678, 1681, 1682, 1683, 1689, 1693, 1698, 1704, 1710, 1725, 1727, 1728, 1729, 1733, 1736, 1737, 1740, 1746, 1751, 1759, 1771, 1772, 1776, 1779, 1781, 1783, 1784, 1785, 1786, 1789, 1793, 1798, 1803, 1806, 1809, 1819, 1823, 1825, 1830, 1834, 1838, 1840, 1842, 1843, 1844, 1851, 1860, 1865, 1874, 1875, 1880, 1882, 1883, 1884, 1887, 1888, 1895, 1896, 1919, 1920, 1921, 1922, 1976, 1978, 2022, 2025, 2028, 2029, 2055, 2056, 2176, 2373, 2374, 2518, 2519, 2535, 2536, 2537, 2670, 2672, 110, 331, 332, 333, 334, 335, 336, 352, 353, 355, 513, 515, 535, 812, 1124, 1152, 1428, 1596, 1623, 1631, 1632, 1638, 1730, 1853, 1959, 2324, 2326, 2629, 2630, 2686, 2689, 2692, 2693, 2826, 2827, 2828, 60, 128, 129, 130, 992, 994, 1016, 1172, 1820, 1822, 1824, 1925, 2014, 2146, 2774, 81, 170, 493, 634, 1485, 1486, 1647, 1649, 1813, 1995, 2023, 2024, 2060, 2203, 2205, 2211, 2213, 2214, 2341, 2405, 2476, 2539, 2644, 2696, 2756, 41, 42, 43, 44, 45, 46, 47, 48, 49, 50, 51, 52, 53, 54, 55, 56, 58, 61, 62, 63, 64, 65, 67, 68, 69, 70, 71, 72, 73, 74, 75, 76, 77, 79, 80, 82, 122, 123, 125, 144, 145, 245, 246, 256, 280, 375, 389, 450, 451, 452, 457, 465, 485, 552, 561, 601, 701, 703, 710, 733, 734, 735, 739, 744, 745, 746, 806, 878, 901, 902, 903, 956, 1019, 1055, 1216, 1724, 1787, 1981, 2304, 2383, 2445, 2447, 2451, 2528, 2675, 2678, 2752, 2757, 472, 474, 592, 596, 728, 998, 999, 1000, 1002, 1020, 1062, 1099, 1157, 1158, 1202, 1260, 1293, 1608, 1610, 1611, 1613, 1671, 1696, 1745, 1748, 1753, 1908, 1909, 2095, 2196, 2197, 2233, 2411, 2425, 2427, 2428, 2469, 2489, 2530, 2588, 2589, 2591, 2628, 2631, 2632, 2635, 2641, 2642, 2658, 2748, 2755, 2764, 2794, 196, 206, 207, 208, 210, 247, 320, 322, 323, 509, 605, 606, 705, 707, 911, 912, 913, 914, 915, 1013, 1034, 1087, 1089, 1185, 1241, 1242, 1243, 1257, 1364, 1365, 1368, 1540, 1600, 1601, 1643, 1654, 1690, 1769, 1886, 1902, 2073, 2076, 2079, 2080, 2259, 2260, 2307, 2415, 2487, 2538, 2606, 2607, 2610, 2612, 2666, 2728, 2763, 117, 261, 346, 417, 669, 761, 762, 1128, 1133, 1137, 1140, 1141, 1150, 1609, 1636, 1639, 1923, 1963, 2134, 2231, 2232, 2244, 2246, 2247, 2280, 2312, 2541, 2595, 2597, 2730, 85, 159, 197, 212, 213, 426, 427, 568, 659, 780, 882, 883, 884, 1626, 1800, 1916, 1917, 1924, 1969, 1971, 2282, 2315, 2409, 2412, 2590, 202, 203, 204, 224, 275, 294, 341, 348, 357, 360, 382, 383, 492, 569, 614, 617, 679, 680, 681, 682, 683, 685, 690, 691, 697, 698, 700, 738, 769, 770, 795, 876, 957, 961, 962, 963, 965, 967, 1022, 1023, 1024, 1039, 1053, 1057, 1068, 1069, 1126, 1182, 1224, 1267, 1278, 1311, 1314, 1320, 1456, 1488, 2031, 2092, 2125, 2186, 2209, 2323, 2328, 2330, 2354, 2358, 2483, 2486, 2697, 2801, 2803, 211, 214, 257, 263, 264, 316, 379, 448, 673, 720, 742, 752, 905, 1457, 1458, 1459, 1480, 1482, 1484, 1499, 1644, 1750, 1950, 1951, 1952, 1953, 1954, 2045, 2046, 2115, 2300, 2301, 2365, 2540, 2662, 2663, 28, 89, 90, 157, 163, 201, 347, 386, 392, 393, 439, 453, 626, 631, 674, 684, 687, 688, 803, 904, 910, 949, 1064, 1066, 1067, 1096, 1108, 1230, 1315, 1323, 1324, 1325, 1326, 1327, 1333, 1442, 1516, 1530, 1709, 1711, 1715, 1723, 1741, 1780, 1782, 1794, 1808, 1816, 1817, 1836, 1837, 1839, 1841, 1849, 1854, 1989, 1991, 1994, 1996, 1997, 1999, 2004, 2083, 2093, 2094, 2097, 2103, 2161, 2162, 2163, 2174, 2175, 2204, 2206, 2215, 2236, 2243, 2266, 2294, 2296, 2327, 2342, 2357, 2419, 2441, 2513, 2529, 2534, 2627, 2638, 2640, 2648, 2649, 2719, 2817, 307, 438, 642, 972, 973, 986, 988, 1012, 1110, 1129, 1275, 1376, 1393, 1470, 1657, 2690, 2787, 2791, 2792, 2793, 4, 205, 209, 800, 976, 980, 982, 1835, 1982, 1984, 1985, 1986, 1987, 2464, 419, 1102, 1104, 2614, 2615, 2619, 2620, 2621, 2745, 172, 342, 344, 362, 639, 695, 1071, 1106, 1286, 1661, 1712, 2021, 2096, 2098, 2170, 2187, 2208, 2339, 2340, 2385, 2475, 2556, 2557, 2559, 2561, 2753, 2754, 251, 524, 525, 571, 588, 889, 1380, 1395, 2191, 2193, 2491, 2650, 476, 514, 666, 966, 993, 1033, 1142, 1593, 1754, 2177, 2207, 2321, 2322, 2521, 2522, 285, 286, 313, 363, 487, 646, 747, 757, 853, 854, 856, 958, 1026, 1050, 1095, 1100, 1144, 1223, 1263, 1296, 1399, 1416, 1433, 1460, 1479, 1492, 1582, 1692, 1699, 1720, 1721, 1788, 1927, 1928, 1933, 1934, 1937, 1938, 1946, 1957, 1973, 1979, 2008, 2009, 2043, 2044, 2054, 2064, 2071, 2072, 2074, 2081, 2087, 2109, 2110, 2111, 2116, 2119, 2153, 2155, 2167, 2168, 2169, 2179, 2194, 2263, 2264, 2273, 2290, 2297, 2306, 2329, 2346, 2359, 2364, 2367, 2395, 2396, 2399, 2401, 2406, 2424, 2432, 2444, 2450, 2454, 2456, 2459, 2462, 2463, 2473, 2492, 2494, 2497, 2504, 2505, 2511, 2517, 2524, 2525, 2533, 2548, 2560, 2562, 2566, 2569, 2570, 2571, 2575, 2586, 2594, 2596, 2604, 2617, 2622, 2624, 2636, 2637, 2647, 2657, 2660, 2673, 2677, 2682, 2701, 2703, 2705, 2718, 2736, 2739, 2758, 2775, 2811, 219, 269, 274, 381, 428, 760, 1017, 1191, 1287, 1381, 1452, 1701, 1847, 1857, 1858, 2077, 2460, 2461, 2498, 115, 116, 119, 134, 410, 636, 660, 661, 843, 855, 907, 1083, 1084, 1085, 1086, 1088, 1090, 1734, 1735, 1915, 2178, 2180, 2181, 2700, 180, 182, 397, 409, 411, 539, 541, 551, 600, 641, 934, 935, 996, 1009, 1014, 1082, 1097, 1183, 1214, 1625, 2035, 2037, 2040, 2108, 2436, 2468, 2563, 2714, 120, 158, 160, 395, 398, 399, 422, 424, 425, 489, 546, 647, 648, 667, 668, 1619, 1620, 2124, 2195, 2199, 2274, 2285, 2287, 2574, 2577, 2685, 2688, 2834, 367, 414, 504, 505, 563, 564, 565, 574, 727, 729, 929, 1107, 1192, 1708, 2352, 2355, 2356, 2547, 2639, 2800, 8, 30, 31, 32, 33, 104, 283, 288, 291, 292, 293, 312, 461, 1758, 2332, 2337, 277, 434, 1136, 1777, 126, 127, 156, 215, 542, 543, 545, 887, 1521, 1990, 2042, 2149, 2164, 2165, 2171, 2242, 153, 420, 443, 449, 506, 512, 928, 1408, 1414, 1663, 2609, 2750, 1113, 1114, 1163, 1188, 1422, 2387, 2423, 2659, 2661, 2751, 20, 21, 177, 178, 179, 181, 416, 486, 538, 547, 711, 712, 740, 741, 944, 1155, 1265, 1386, 1684, 1935, 1936, 1961, 1992, 2305, 2325, 2618, 2655, 2656, 2726, 2727, 2729, 2731, 2830, 223, 235, 236, 364, 413, 696, 706, 718, 753, 946, 1379, 1752, 1878, 2249, 2400, 2515, 2608, 2711, 2712, 2713, 2823, 2837, 39, 166, 171, 190, 259, 266, 267, 390, 496, 528, 643, 732, 816, 870, 874, 926, 930, 1040, 1047, 1181, 1186, 1213, 1539, 1571, 1581, 1668, 2128, 2302, 2777, 2778, 337, 580, 1217, 1370, 1764, 2812, 2813, 143, 173, 369, 372, 488, 532, 533, 1775, 132, 351, 536, 635, 885, 1848, 2158, 2159, 2160, 2431, 2773, 881, 1120, 1369, 2184, 240, 441, 442, 444, 484, 495, 595, 857, 858, 859, 1469, 2805, 2810, 265, 494, 519, 521, 522, 623, 664, 708, 756, 767, 768, 933, 1005, 1008, 1143, 1345, 1948, 2026, 2099, 2100, 2101, 2129, 2166, 2188, 2311, 2313, 2345, 2350, 2353, 2413, 2414, 2434, 2435, 2683, 2684, 2710, 2715, 2772, 2776, 131, 243, 394, 2393, 2759, 2760, 188, 530, 954, 1162, 1255, 2065, 2066, 2068, 2172, 2386, 6, 176, 232, 255, 281, 295, 615, 616, 970, 1679, 1680, 1697, 1705, 1706, 1773, 2151, 2152, 2156, 2239, 2443, 2466, 2474, 2546, 2633, 2634, 378, 490, 491, 665, 1122, 1209, 2228, 2277, 2279, 87, 774, 782, 909, 1072, 1449, 1624, 2189, 2256, 2303, 2442, 2510, 2512, 2593, 2616, 2699, 583, 585, 1123, 1156, 1249, 445, 575, 577, 578, 579, 952, 1691, 1832, 2509, 138, 508, 510, 553, 554, 556, 609, 820, 897, 898, 936, 1063, 1065, 1338, 1339, 1400, 1450, 1672, 1931, 2127, 2278, 2558, 37, 534, 755, 1011, 1080, 1180, 168, 1027, 1262, 1264, 1280, 1285, 1330, 1340, 1397, 1572, 2223, 2229, 2265, 2299, 2488, 2514, 2564, 2565, 2568, 2592, 2733, 2765, 2766, 2769, 36, 587, 1993, 92, 358, 374, 406, 464, 638, 640, 1042, 1211, 1357, 1463, 1464, 1595, 1630, 1778, 2402, 169, 234, 248, 324, 1198, 1199, 1204, 2389, 2584, 2704, 91, 93, 100, 194, 325, 326, 388, 418, 511, 527, 919, 921, 932, 1863, 1870, 1947, 2131, 429, 997, 1774, 1988, 2201, 2502, 140, 151, 719, 1025, 1812, 2075, 2248, 2254, 2319, 2320, 2452, 2687, 2725, 941, 948, 950, 2148, 2150, 2157, 221, 421, 467, 550, 893, 2038, 2088, 2089, 2438, 2439, 2446, 2448, 2453, 2495, 195, 262, 548, 581, 777, 779, 817, 10, 1130, 1153, 1967, 1968, 2018, 2779, 750, 865, 1075, 1076, 1226, 1443, 2126, 2281, 2283, 2284, 2286, 2316, 2380, 2555, 403, 498, 627, 628, 851, 983, 1914, 2470, 2573, 558, 1317, 456, 624, 672, 1115, 1719, 2032, 2033, 529, 1351, 2039, 2516, 268, 1972, 2225, 2255, 2503, 330, 1409, 2118, 2120, 2740, 230, 433, 502, 730, 1702, 2408, 2788, 185, 187, 1044, 1855, 2496, 155, 396, 649, 650, 651, 1318, 1861, 1862, 2003, 2695, 254, 258, 810, 1869, 1872, 1876, 1894, 1912, 1918, 1926, 1949, 1964, 1966, 1975, 1980, 1998, 2000, 2002, 2007, 2011, 2036, 2041, 2059, 2061, 2063, 2078, 2086, 2091, 2106, 2107, 2113, 2130, 2136, 2147, 2262, 2275, 2276, 2349, 2490, 2493, 2579, 2768, 1151, 1402, 1419, 1569, 1714, 1716, 1717, 2293, 1605, 1797, 1801, 1859, 2394, 2482, 2761, 2767, 613, 872, 1109, 507, 1614, 2572, 2831, 23, 162, 785, 1056, 1818, 1958, 2104, 2429, 2437, 2440, 2455, 2821, 231, 279, 297, 1763, 2034, 1061, 118, 124, 199, 1049, 1553, 1827, 1829, 1898, 2333, 22, 431, 772, 863, 1256, 1468, 2062, 2804, 1474, 1475, 1792, 161, 225, 227, 287, 299, 327, 329, 354, 380, 412, 432, 446, 447, 463, 501, 516, 560, 567, 599, 662, 839, 844, 845, 896, 1221, 572, 2465, 191, 437, 1405, 1885, 306, 625, 959, 979, 1041, 1852, 1900, 2295, 468, 469, 749, 751, 793, 895, 975, 1048, 1059, 1070, 1078, 1098, 1125, 1194, 1196, 1197, 1218, 1289, 1297, 1310, 1403, 1404, 1424, 1445, 1503, 1505, 1665, 1845, 2808, 315, 503, 900, 908, 927, 1073, 1363, 1454, 1478, 1489, 1871, 2457, 2458, 721, 1145, 2499, 321])\n",
      "dict_keys([1, 2, 3, 4, 5, 6, 7, 8, 9, 10, 11, 12, 13, 14, 15, 16, 17, 18, 20, 21, 22, 23, 24, 25, 26, 27, 28, 29, 30, 31, 32, 33, 34, 36, 37, 38, 39, 40, 41, 42, 43, 44, 45, 46, 47, 48, 49, 50, 51, 52, 53, 54, 55, 56, 57, 58, 59, 60, 61, 62, 63, 64, 65, 66, 67, 68, 69, 70, 71, 72, 73, 74, 75, 76, 77, 78, 79, 80, 81, 82, 83, 84, 85, 86, 87, 89, 90, 91, 92, 93, 94, 95, 96, 97, 98, 99, 100, 101, 102, 103, 104, 105, 106, 107, 108, 109, 110, 111, 112, 113, 114, 115, 116, 117, 118, 119, 120, 121, 122, 123, 124, 125, 126, 127, 128, 129, 130, 131, 132, 133, 134, 135, 136, 137, 138, 139, 140, 143, 144, 145, 146, 147, 148, 149, 150, 151, 152, 153, 154, 155, 156, 157, 158, 159, 160, 161, 162, 163, 164, 165, 166, 167, 168, 169, 170, 171, 172, 173, 174, 175, 176, 177, 178, 179, 180, 181, 182, 183, 184, 185, 186, 187, 188, 189, 190, 191, 192, 193, 194, 195, 196, 197, 198, 199, 200, 201, 202, 203, 204, 205, 206, 207, 208, 209, 210, 211, 212, 213, 214, 215, 216, 217, 218, 219, 220, 221, 222, 223, 224, 225, 226, 227, 228, 229, 230, 231, 232, 233, 234, 235, 236, 237, 238, 239, 240, 241, 242, 243, 244, 245, 246, 247, 248, 249, 250, 251, 252, 253, 254, 255, 256, 257, 258, 259, 260, 261, 262, 263, 264, 265, 266, 267, 268, 269, 270, 271, 272, 273, 274, 275, 276, 277, 278, 279, 280, 281, 282, 283, 285, 286, 287, 288, 289, 290, 291, 292, 293, 294, 295, 296, 297, 298, 299, 300, 301, 302, 303, 304, 305, 306, 307, 309, 310, 312, 313, 314, 315, 316, 317, 318, 319, 320, 321, 322, 323, 324, 325, 326, 327, 328, 329, 330, 331, 332, 333, 334, 335, 336, 337, 338, 339, 341, 342, 343, 344, 345, 346, 347, 348, 349, 350, 351, 352, 353, 354, 355, 356, 357, 358, 359, 360, 361, 362, 363, 364, 365, 366, 367, 368, 369, 372, 373, 374, 375, 376, 377, 378, 379, 380, 381, 382, 383, 384, 385, 386, 387, 388, 389, 390, 391, 392, 393, 394, 395, 396, 397, 398, 399, 401, 402, 403, 404, 406, 407, 408, 409, 410, 411, 412, 413, 414, 415, 416, 417, 418, 419, 420, 421, 422, 423, 424, 425, 426, 427, 428, 429, 430, 431, 432, 433, 434, 435, 436, 437, 438, 439, 440, 441, 442, 443, 444, 445, 446, 447, 448, 449, 450, 451, 452, 453, 454, 455, 456, 457, 458, 459, 460, 461, 462, 463, 464, 465, 466, 467, 468, 469, 470, 471, 472, 473, 474, 475, 476, 477, 479, 480, 481, 482, 483, 484, 485, 486, 487, 488, 489, 490, 491, 492, 493, 494, 495, 496, 497, 498, 499, 500, 501, 502, 503, 504, 505, 506, 507, 508, 509, 510, 511, 512, 513, 514, 515, 516, 517, 518, 519, 520, 521, 522, 523, 524, 525, 527, 528, 529, 530, 531, 532, 533, 534, 535, 536, 537, 538, 539, 540, 541, 542, 543, 544, 545, 546, 547, 548, 549, 550, 551, 552, 553, 554, 555, 556, 557, 558, 559, 560, 561, 562, 563, 564, 565, 566, 567, 568, 569, 570, 571, 572, 573, 574, 575, 576, 577, 578, 579, 580, 581, 582, 583, 584, 585, 586, 587, 588, 589, 590, 591, 592, 593, 594, 595, 596, 597, 598, 599, 600, 601, 602, 603, 604, 605, 606, 607, 608, 609, 610, 611, 612, 613, 614, 615, 616, 617, 618, 619, 620, 621, 622, 623, 624, 625, 626, 627, 628, 629, 630, 631, 632, 633, 634, 635, 636, 637, 638, 639, 640, 641, 642, 643, 644, 645, 646, 647, 648, 649, 650, 651, 652, 653, 654, 655, 656, 657, 658, 659, 660, 661, 662, 663, 664, 665, 666, 667, 668, 669, 670, 671, 672, 673, 674, 675, 676, 677, 678, 679, 680, 681, 682, 683, 684, 685, 686, 687, 688, 689, 690, 691, 692, 693, 694, 695, 696, 697, 698, 699, 700, 701, 702, 703, 704, 705, 706, 707, 708, 709, 710, 711, 712, 713, 714, 715, 716, 717, 718, 719, 720, 721, 722, 723, 724, 725, 726, 727, 728, 729, 730, 731, 732, 733, 734, 735, 737, 738, 739, 740, 741, 742, 743, 744, 745, 746, 747, 748, 749, 750, 751, 752, 753, 754, 755, 756, 757, 758, 759, 760, 761, 762, 763, 764, 765, 766, 767, 768, 769, 770, 771, 772, 773, 774, 775, 776, 777, 778, 779, 780, 781, 782, 783, 784, 785, 786, 787, 788, 789, 790, 791, 792, 793, 794, 795, 796, 797, 798, 799, 800, 801, 802, 803, 804, 805, 806, 807, 808, 809, 810, 811, 812, 813, 814, 815, 816, 817, 818, 819, 820, 821, 822, 823, 824, 825, 826, 827, 828, 829, 830, 831, 832, 833, 834, 835, 836, 837, 838, 839, 840, 841, 842, 843, 844, 845, 846, 847, 848, 849, 850, 851, 852, 853, 854, 855, 856, 857, 858, 859, 860, 861, 862, 863, 864, 865, 866, 867, 868, 869, 870, 871, 872, 873, 874, 875, 876, 877, 878, 879, 880, 881, 882, 883, 884, 885, 886, 887, 888, 889, 890, 891, 892, 893, 894, 895, 896, 897, 898, 899, 900, 901, 902, 903, 904, 905, 906, 907, 908, 909, 910, 911, 912, 913, 914, 915, 916, 917, 918, 919, 920, 921, 922, 923, 924, 925, 926, 927, 928, 929, 930, 931, 932, 933, 934, 935, 936, 937, 938, 939, 940, 941, 942, 943, 944, 945, 946, 947, 948, 949, 950, 951, 952, 953, 954, 955, 956, 957, 958, 959, 961, 962, 963, 964, 965, 966, 967, 968, 969, 970, 971, 972, 973, 974, 975, 976, 977, 978, 979, 980, 981, 982, 983, 984, 985, 986, 987, 988, 989, 990, 991, 992, 993, 994, 995, 996, 997, 998, 999, 1000, 1002, 1003, 1004, 1005, 1008, 1009, 1010, 1011, 1012, 1013, 1014, 1015, 1016, 1017, 1018, 1019, 1020, 1021, 1022, 1023, 1024, 1025, 1026, 1027, 1028, 1029, 1030, 1031, 1032, 1033, 1034, 1035, 1036, 1037, 1038, 1039, 1040, 1041, 1042, 1043, 1044, 1045, 1046, 1047, 1048, 1049, 1050, 1051, 1052, 1053, 1055, 1056, 1057, 1058, 1059, 1060, 1061, 1062, 1063, 1064, 1065, 1066, 1067, 1068, 1069, 1070, 1071, 1072, 1073, 1074, 1075, 1076, 1077, 1078, 1079, 1080, 1081, 1082, 1083, 1084, 1085, 1086, 1087, 1088, 1089, 1090, 1091, 1092, 1093, 1094, 1095, 1096, 1097, 1098, 1099, 1100, 1101, 1102, 1103, 1104, 1105, 1106, 1107, 1108, 1109, 1110, 1111, 1112, 1113, 1114, 1115, 1116, 1117, 1118, 1119, 1120, 1121, 1122, 1123, 1124, 1125, 1126, 1127, 1128, 1129, 1130, 1131, 1132, 1133, 1134, 1135, 1136, 1137, 1138, 1139, 1140, 1141, 1142, 1143, 1144, 1145, 1146, 1147, 1148, 1149, 1150, 1151, 1152, 1153, 1154, 1155, 1156, 1157, 1158, 1160, 1162, 1163, 1164, 1165, 1166, 1167, 1168, 1169, 1170, 1171, 1172, 1173, 1174, 1175, 1176, 1177, 1178, 1179, 1180, 1181, 1182, 1183, 1184, 1185, 1186, 1187, 1188, 1189, 1190, 1191, 1192, 1193, 1194, 1195, 1196, 1197, 1198, 1199, 1200, 1201, 1202, 1203, 1204, 1205, 1206, 1207, 1208, 1209, 1210, 1211, 1212, 1213, 1214, 1215, 1216, 1217, 1218, 1219, 1220, 1221, 1222, 1223, 1224, 1225, 1226, 1227, 1228, 1229, 1230, 1231, 1232, 1233, 1234, 1235, 1236, 1237, 1238, 1239, 1240, 1241, 1242, 1243, 1244, 1245, 1246, 1247, 1248, 1249, 1250, 1251, 1252, 1253, 1254, 1255, 1256, 1257, 1258, 1259, 1260, 1261, 1262, 1263, 1264, 1265, 1267, 1268, 1272, 1273, 1274, 1275, 1276, 1277, 1278, 1279, 1280, 1281, 1282, 1283, 1284, 1285, 1286, 1287, 1288, 1289, 1293, 1294, 1295, 1296, 1297, 1298, 1299, 1300, 1301, 1302, 1303, 1304, 1305, 1306, 1307, 1308, 1309, 1310, 1311, 1312, 1313, 1314, 1315, 1316, 1317, 1318, 1319, 1320, 1321, 1322, 1323, 1324, 1325, 1326, 1327, 1328, 1329, 1330, 1331, 1332, 1333, 1334, 1335, 1336, 1337, 1338, 1339, 1340, 1341, 1342, 1343, 1344, 1345, 1346, 1347, 1348, 1349, 1350, 1351, 1352, 1353, 1354, 1355, 1356, 1357, 1358, 1359, 1360, 1361, 1362, 1363, 1364, 1365, 1366, 1367, 1368, 1369, 1370, 1371, 1372, 1373, 1374, 1375, 1376, 1377, 1378, 1379, 1380, 1381, 1384, 1385, 1386, 1387, 1388, 1389, 1390, 1391, 1392, 1393, 1394, 1395, 1396, 1397, 1398, 1399, 1400, 1401, 1402, 1403, 1404, 1405, 1406, 1407, 1408, 1409, 1410, 1411, 1412, 1413, 1414, 1415, 1416, 1417, 1419, 1420, 1421, 1422, 1423, 1424, 1425, 1426, 1427, 1428, 1429, 1430, 1431, 1432, 1433, 1436, 1437, 1438, 1439, 1440, 1441, 1442, 1443, 1444, 1445, 1446, 1447, 1448, 1449, 1450, 1451, 1452, 1453, 1454, 1455, 1456, 1457, 1458, 1459, 1460, 1461, 1462, 1463, 1464, 1465, 1466, 1467, 1468, 1469, 1470, 1471, 1472, 1473, 1474, 1475, 1476, 1477, 1478, 1479, 1480, 1481, 1482, 1483, 1484, 1485, 1486, 1487, 1488, 1489, 1490, 1491, 1492, 1493, 1494, 1495, 1496, 1497, 1498, 1499, 1500, 1501, 1502, 1503, 1504, 1505, 1506, 1507, 1510, 1512, 1514, 1515, 1516, 1517, 1518, 1519, 1520, 1521, 1522, 1523, 1524, 1525, 1526, 1527, 1528, 1529, 1530, 1531, 1532, 1533, 1534, 1535, 1536, 1537, 1538, 1539, 1540, 1541, 1542, 1543, 1544, 1545, 1546, 1547, 1548, 1549, 1550, 1551, 1552, 1553, 1554, 1555, 1556, 1557, 1558, 1559, 1560, 1561, 1562, 1563, 1564, 1565, 1566, 1567, 1568, 1569, 1570, 1571, 1572, 1573, 1574, 1575, 1576, 1578, 1579, 1580, 1581, 1582, 1583, 1584, 1585, 1586, 1587, 1588, 1589, 1590, 1591, 1592, 1593, 1594, 1595, 1596, 1597, 1598, 1599, 1600, 1601, 1602, 1603, 1604, 1605, 1606, 1607, 1608, 1609, 1610, 1611, 1612, 1613, 1614, 1615, 1616, 1617, 1618, 1619, 1620, 1621, 1622, 1623, 1624, 1625, 1626, 1627, 1628, 1629, 1630, 1631, 1632, 1633, 1634, 1635, 1636, 1637, 1638, 1639, 1640, 1641, 1642, 1643, 1644, 1645, 1646, 1647, 1648, 1649, 1650, 1651, 1652, 1653, 1654, 1655, 1656, 1657, 1658, 1660, 1661, 1663, 1664, 1665, 1666, 1668, 1669, 1670, 1671, 1672, 1673, 1674, 1675, 1676, 1677, 1678, 1679, 1680, 1681, 1682, 1683, 1684, 1685, 1686, 1687, 1688, 1689, 1690, 1691, 1692, 1693, 1694, 1695, 1696, 1697, 1698, 1699, 1700, 1701, 1702, 1703, 1704, 1705, 1706, 1707, 1708, 1709, 1710, 1711, 1712, 1713, 1714, 1715, 1716, 1717, 1718, 1719, 1720, 1721, 1722, 1723, 1724, 1725, 1726, 1727, 1728, 1729, 1730, 1731, 1732, 1733, 1734, 1735, 1736, 1737, 1738, 1739, 1740, 1741, 1742, 1743, 1744, 1745, 1746, 1747, 1748, 1750, 1751, 1752, 1753, 1754, 1755, 1756, 1757, 1758, 1759, 1760, 1761, 1762, 1763, 1764, 1765, 1766, 1767, 1768, 1769, 1770, 1771, 1772, 1773, 1774, 1775, 1776, 1777, 1778, 1779, 1780, 1781, 1782, 1783, 1784, 1785, 1786, 1787, 1788, 1789, 1790, 1791, 1792, 1793, 1794, 1795, 1796, 1797, 1798, 1799, 1800, 1801, 1802, 1803, 1804, 1805, 1806, 1807, 1808, 1809, 1810, 1811, 1812, 1813, 1814, 1815, 1816, 1817, 1818, 1819, 1820, 1821, 1822, 1823, 1824, 1825, 1827, 1828, 1829, 1830, 1831, 1832, 1833, 1834, 1835, 1836, 1837, 1838, 1839, 1840, 1841, 1842, 1843, 1844, 1845, 1846, 1847, 1848, 1849, 1850, 1851, 1852, 1853, 1854, 1855, 1856, 1857, 1858, 1859, 1860, 1861, 1862, 1863, 1864, 1865, 1866, 1867, 1868, 1869, 1870, 1871, 1872, 1874, 1875, 1876, 1877, 1878, 1879, 1880, 1881, 1882, 1883, 1884, 1885, 1886, 1887, 1888, 1889, 1890, 1891, 1892, 1893, 1894, 1895, 1896, 1897, 1898, 1899, 1900, 1901, 1902, 1903, 1904, 1905, 1906, 1907, 1908, 1909, 1910, 1911, 1912, 1913, 1914, 1915, 1916, 1917, 1918, 1919, 1920, 1921, 1922, 1923, 1924, 1925, 1926, 1927, 1928, 1929, 1930, 1931, 1932, 1933, 1934, 1935, 1936, 1937, 1938, 1939, 1940, 1941, 1942, 1943, 1944, 1945, 1946, 1947, 1948, 1949, 1950, 1951, 1952, 1953, 1954, 1955, 1956, 1957, 1958, 1959, 1960, 1961, 1962, 1963, 1964, 1965, 1966, 1967, 1968, 1969, 1970, 1971, 1972, 1973, 1974, 1975, 1976, 1977, 1978, 1979, 1980, 1981, 1982, 1983, 1984, 1985, 1986, 1987, 1988, 1989, 1990, 1991, 1992, 1993, 1994, 1995, 1996, 1997, 1998, 1999, 2000, 2001, 2002, 2003, 2004, 2005, 2006, 2007, 2008, 2009, 2010, 2011, 2012, 2013, 2014, 2015, 2016, 2017, 2018, 2019, 2020, 2021, 2022, 2023, 2024, 2025, 2026, 2027, 2028, 2029, 2030, 2031, 2032, 2033, 2034, 2035, 2036, 2037, 2038, 2039, 2040, 2041, 2042, 2043, 2044, 2045, 2046, 2047, 2048, 2049, 2050, 2051, 2052, 2053, 2054, 2055, 2056, 2057, 2058, 2059, 2060, 2061, 2062, 2063, 2064, 2065, 2066, 2068, 2069, 2070, 2071, 2072, 2073, 2074, 2075, 2076, 2077, 2078, 2079, 2080, 2081, 2082, 2083, 2084, 2085, 2086, 2087, 2088, 2089, 2090, 2091, 2092, 2093, 2094, 2095, 2096, 2097, 2098, 2099, 2100, 2101, 2102, 2103, 2104, 2105, 2106, 2107, 2108, 2109, 2110, 2111, 2112, 2113, 2114, 2115, 2116, 2117, 2118, 2119, 2120, 2121, 2122, 2123, 2124, 2125, 2126, 2127, 2128, 2129, 2130, 2131, 2132, 2133, 2134, 2135, 2136, 2137, 2138, 2139, 2140, 2141, 2142, 2143, 2144, 2145, 2146, 2147, 2148, 2149, 2150, 2151, 2152, 2153, 2154, 2155, 2156, 2157, 2158, 2159, 2160, 2161, 2162, 2163, 2164, 2165, 2166, 2167, 2168, 2169, 2170, 2171, 2172, 2173, 2174, 2175, 2176, 2177, 2178, 2179, 2180, 2181, 2182, 2183, 2184, 2185, 2186, 2187, 2188, 2189, 2190, 2191, 2192, 2193, 2194, 2195, 2196, 2197, 2198, 2199, 2201, 2202, 2203, 2204, 2205, 2206, 2207, 2208, 2209, 2210, 2211, 2212, 2213, 2214, 2215, 2217, 2218, 2219, 2220, 2221, 2222, 2223, 2224, 2225, 2226, 2227, 2228, 2229, 2230, 2231, 2232, 2233, 2234, 2235, 2236, 2237, 2239, 2240, 2241, 2242, 2243, 2244, 2245, 2246, 2247, 2248, 2249, 2251, 2252, 2253, 2254, 2255, 2256, 2258, 2259, 2260, 2261, 2262, 2263, 2264, 2265, 2266, 2267, 2268, 2269, 2270, 2271, 2272, 2273, 2274, 2275, 2276, 2277, 2278, 2279, 2280, 2281, 2282, 2283, 2284, 2285, 2286, 2287, 2288, 2289, 2290, 2291, 2292, 2293, 2294, 2295, 2296, 2297, 2298, 2299, 2300, 2301, 2302, 2303, 2304, 2305, 2306, 2307, 2308, 2309, 2310, 2311, 2312, 2313, 2314, 2315, 2316, 2317, 2318, 2319, 2320, 2321, 2322, 2323, 2324, 2325, 2326, 2327, 2328, 2329, 2330, 2331, 2332, 2333, 2334, 2335, 2336, 2337, 2338, 2339, 2340, 2341, 2342, 2343, 2344, 2345, 2346, 2347, 2348, 2349, 2350, 2351, 2352, 2353, 2354, 2355, 2356, 2357, 2358, 2359, 2360, 2361, 2362, 2363, 2364, 2365, 2366, 2367, 2368, 2369, 2370, 2371, 2372, 2373, 2374, 2375, 2376, 2377, 2378, 2380, 2381, 2382, 2383, 2384, 2385, 2386, 2387, 2388, 2389, 2390, 2391, 2392, 2393, 2394, 2395, 2396, 2397, 2398, 2399, 2400, 2401, 2402, 2403, 2404, 2405, 2406, 2407, 2408, 2409, 2410, 2411, 2412, 2413, 2414, 2415, 2416, 2417, 2418, 2419, 2420, 2421, 2422, 2423, 2424, 2425, 2426, 2427, 2428, 2429, 2431, 2432, 2434, 2435, 2436, 2437, 2438, 2439, 2440, 2441, 2442, 2443, 2444, 2445, 2446, 2447, 2448, 2449, 2450, 2451, 2452, 2453, 2454, 2455, 2456, 2457, 2458, 2459, 2460, 2461, 2462, 2463, 2464, 2465, 2466, 2467, 2468, 2469, 2470, 2471, 2472, 2473, 2474, 2475, 2476, 2477, 2478, 2479, 2480, 2481, 2482, 2483, 2484, 2485, 2486, 2487, 2488, 2489, 2490, 2491, 2492, 2493, 2494, 2495, 2496, 2497, 2498, 2499, 2500, 2501, 2502, 2503, 2504, 2505, 2506, 2507, 2508, 2509, 2510, 2511, 2512, 2513, 2514, 2515, 2516, 2517, 2518, 2519, 2520, 2521, 2522, 2523, 2524, 2525, 2526, 2528, 2529, 2530, 2531, 2532, 2533, 2534, 2535, 2536, 2537, 2538, 2539, 2540, 2541, 2542, 2543, 2544, 2545, 2546, 2547, 2548, 2549, 2550, 2551, 2552, 2553, 2554, 2555, 2556, 2557, 2558, 2559, 2560, 2561, 2562, 2563, 2564, 2565, 2566, 2567, 2568, 2569, 2570, 2571, 2572, 2573, 2574, 2575, 2576, 2577, 2578, 2579, 2580, 2581, 2582, 2583, 2584, 2585, 2586, 2587, 2588, 2589, 2590, 2591, 2592, 2593, 2594, 2595, 2596, 2597, 2598, 2599, 2600, 2601, 2602, 2603, 2604, 2605, 2606, 2607, 2608, 2609, 2610, 2611, 2612, 2613, 2614, 2615, 2616, 2617, 2618, 2619, 2620, 2621, 2622, 2623, 2624, 2625, 2626, 2627, 2628, 2629, 2630, 2631, 2632, 2633, 2634, 2635, 2636, 2637, 2638, 2639, 2640, 2641, 2642, 2643, 2644, 2645, 2646, 2647, 2648, 2649, 2650, 2651, 2652, 2653, 2654, 2655, 2656, 2657, 2658, 2659, 2660, 2661, 2662, 2663, 2664, 2665, 2666, 2667, 2668, 2669, 2670, 2671, 2672, 2673, 2674, 2675, 2676, 2677, 2678, 2679, 2680, 2681, 2682, 2683, 2684, 2685, 2686, 2687, 2688, 2689, 2690, 2691, 2692, 2693, 2694, 2695, 2696, 2697, 2698, 2699, 2700, 2701, 2702, 2703, 2704, 2705, 2706, 2707, 2708, 2709, 2710, 2711, 2712, 2713, 2714, 2715, 2716, 2717, 2718, 2719, 2720, 2723, 2724, 2725, 2726, 2727, 2728, 2729, 2730, 2731, 2732, 2733, 2735, 2736, 2737, 2738, 2739, 2740, 2741, 2742, 2743, 2744, 2745, 2746, 2747, 2748, 2749, 2750, 2751, 2752, 2753, 2754, 2755, 2756, 2757, 2758, 2759, 2760, 2761, 2762, 2763, 2764, 2765, 2766, 2767, 2768, 2769, 2770, 2771, 2772, 2773, 2774, 2775, 2776, 2777, 2778, 2779, 2780, 2781, 2782, 2783, 2784, 2785, 2786, 2787, 2788, 2789, 2790, 2791, 2792, 2793, 2794, 2795, 2796, 2797, 2798, 2799, 2800, 2801, 2802, 2803, 2804, 2805, 2806, 2807, 2808, 2809, 2810, 2811, 2812, 2813, 2815, 2816, 2817, 2818, 2819, 2820, 2821, 2822, 2823, 2824, 2825, 2826, 2827, 2828, 2829, 2830, 2831, 2832, 2833, 2834, 2835, 2836, 2837, 2838, 2839, 2840, 2841, 2842, 2843, 19, 35, 88, 284, 308, 311, 340, 370, 371, 400, 405, 526, 736, 960, 1001, 1006, 1007, 1054, 1159, 1161, 1266, 1269, 1270, 1271, 1291, 1292, 1382, 1383, 1418, 1508, 1509, 1511, 1513, 1577, 1659, 1662, 1667, 1749, 1826, 1873, 2067, 2200, 2216, 2238, 2430, 2433, 2527, 2721, 2722, 2734, 2814, 141, 142, 478, 1435, 2250, 2257, 2379, 1290, 1434])\n"
     ]
    }
   ],
   "source": [
    "print(len(x))\n",
    "print(len(y))\n",
    "print(x.keys())\n",
    "print(y.keys())"
   ]
  },
  {
   "cell_type": "code",
   "execution_count": 63,
   "metadata": {},
   "outputs": [
    {
     "name": "stdout",
     "output_type": "stream",
     "text": [
      "{'*CT,*AG,=A', '=C,*AG,=A', '-C,-A,=A', '=C,-A,=A', '=C,-A,-A', '=C,+A|=A,=A', '=C,+G|=A,=A'}\n",
      "defaultdict(<function _create_replace_dict.<locals>.<lambda>.<locals>.<lambda> at 0x7f44428fa4d0>, {'=C,=A,=A': Counter({'=A': 82, 'N': 1}), '+T|+T|+T|*CA,=A,=A': Counter({'N': 1, '=A': 1}), '+A|*CA,=A,=A': Counter({'N': 1, '=A': 1}), '*CA,=A,=A': Counter({'N': 1, '=A': 1}), 'N,N,=A': Counter({'N': 2}), 'N,=A,=A': Counter({'N': 1, '=A': 1}), '+G|=C,=A,=A': Counter({'N': 1, '=A': 1})})\n",
      "set()\n"
     ]
    }
   ],
   "source": [
    "print(x[19])\n",
    "print(y[19])\n",
    "print(mutation_loci[19])"
   ]
  },
  {
   "attachments": {},
   "cell_type": "markdown",
   "metadata": {},
   "source": [
    "- y (cssplits_sampling)のkeyはいらない?"
   ]
  },
  {
   "cell_type": "code",
   "execution_count": 73,
   "metadata": {},
   "outputs": [],
   "source": [
    "def _create_replace_dict(midsv_sample: dict[list[str, str]], mutation_loci: dict[str, set[int]]) -> tuple(defaultdict, defaultdict[set]):\n",
    "    cssplits_sampling = defaultdict(lambda: Counter([\"N\"]))\n",
    "    cssplits_error_kmer = defaultdict(set)\n",
    "    for cssplits in (cs[\"CSSPLIT\"].split(\",\") for cs in midsv_sample):\n",
    "        cssplits = list(cssplits)\n",
    "        for idx_seq, cs in enumerate(cssplits):\n",
    "            if idx_seq == 0 or idx_seq == len(cssplits) - 1:\n",
    "                continue\n",
    "            if cs[0] in mutation_loci[idx_seq] or cs.startswith(\"=\") or cs == \"N\" or re.search(r\"a|c|g|t|n\", cs):\n",
    "                cssplits_sampling[idx_seq] += Counter([cs])\n",
    "            else:\n",
    "                kmer = \",\".join([cssplits[idx_seq - 1], cs, cssplits[idx_seq + 1]])\n",
    "                cssplits_error_kmer[idx_seq].add(kmer)\n",
    "    return cssplits_sampling, cssplits_error_kmer\n"
   ]
  },
  {
   "cell_type": "code",
   "execution_count": 74,
   "metadata": {},
   "outputs": [
    {
     "name": "stdout",
     "output_type": "stream",
     "text": [
      "2463\n",
      "2843\n",
      "dict_keys([19, 35, 88, 141, 142, 284, 308, 311, 340, 370, 371, 400, 405, 478, 526, 736, 960, 1001, 1006, 1007, 1054, 1159, 1161, 1266, 1269, 1270, 1271, 1290, 1291, 1292, 1382, 1383, 1418, 1434, 1435, 1508, 1509, 1511, 1513, 1577, 1659, 1662, 1667, 1749, 1826, 1873, 2067, 2200, 2216, 2238, 2250, 2257, 2379, 2430, 2433, 2527, 2721, 2722, 2734, 2814, 9, 11, 13, 15, 16, 109, 111, 112, 113, 114, 137, 318, 365, 401, 402, 454, 460, 462, 473, 477, 479, 481, 483, 520, 582, 622, 655, 731, 763, 764, 765, 786, 787, 808, 809, 814, 815, 847, 886, 920, 924, 925, 937, 938, 939, 953, 1015, 1043, 1051, 1052, 1093, 1119, 1175, 1228, 1229, 1231, 1234, 1251, 1252, 1288, 1303, 1305, 1312, 1313, 1348, 1436, 1437, 1510, 1517, 1525, 1527, 1528, 1529, 1576, 1583, 1677, 1685, 1686, 1688, 1807, 1814, 1815, 1850, 1877, 1881, 1897, 1901, 2050, 2052, 2053, 2069, 2070, 2198, 2226, 2230, 2251, 2336, 2449, 2477, 2543, 2544, 2545, 2549, 2550, 2551, 2567, 2600, 2708, 2709, 2723, 2724, 2809, 2824, 2825, 17, 40, 66, 78, 83, 84, 86, 167, 174, 175, 239, 241, 242, 244, 300, 305, 376, 377, 562, 573, 618, 619, 748, 811, 922, 984, 1118, 1121, 1127, 1132, 1135, 1138, 1147, 1149, 1154, 1160, 1164, 1165, 1166, 1167, 1168, 1170, 1173, 1174, 1184, 1193, 1201, 1205, 1206, 1208, 1212, 1215, 1219, 1222, 1227, 1232, 1233, 1235, 1236, 1237, 1238, 1239, 1240, 1245, 1247, 1248, 1250, 1253, 1254, 1259, 1268, 1276, 1277, 1295, 1302, 1304, 1309, 1316, 1319, 1322, 1328, 1329, 1331, 1337, 1341, 1344, 1346, 1352, 1353, 1356, 1359, 1377, 1378, 1389, 1390, 1394, 1407, 1411, 1412, 1413, 1425, 1426, 1439, 1444, 1446, 1462, 1465, 1471, 1481, 1487, 1500, 1506, 1512, 1515, 1518, 1519, 1524, 1526, 1531, 1532, 1533, 1536, 1537, 1541, 1542, 1547, 1548, 1552, 1554, 1633, 1635, 1658, 1664, 1674, 1675, 1687, 1707, 1743, 1744, 1802, 1811, 1891, 1903, 1904, 1905, 1906, 1907, 1910, 1930, 1932, 2135, 2154, 2220, 2271, 2292, 2331, 2338, 2348, 2404, 2421, 2422, 2552, 2553, 2598, 2599, 2601, 2602, 2643, 2645, 2646, 2651, 2654, 2783, 2785, 2786, 2789, 2795, 2796, 2797, 2802, 2807, 2836, 27, 57, 59, 183, 435, 436, 482, 517, 518, 537, 576, 589, 590, 591, 620, 629, 637, 670, 678, 709, 737, 840, 846, 875, 879, 923, 1200, 1207, 1366, 1535, 1549, 1761, 1762, 2202, 2210, 2212, 2217, 2218, 2219, 2221, 2252, 2531, 2532, 2784, 2816, 237, 384, 430, 458, 459, 497, 540, 566, 790, 791, 807, 940, 943, 945, 1004, 1010, 1028, 1244, 1939, 2012, 2019, 2173, 2234, 2235, 2237, 2267, 2268, 2269, 2270, 2272, 2317, 2370, 2376, 2377, 2378, 2382, 2500, 2613, 2806, 101, 102, 103, 106, 121, 270, 271, 272, 273, 276, 278, 314, 612, 630, 632, 675, 771, 773, 775, 892, 894, 916, 917, 978, 1134, 1177, 1178, 1179, 1195, 1335, 1347, 1350, 1354, 1355, 1358, 1371, 1385, 1387, 1388, 1410, 1420, 1421, 1423, 1514, 1522, 1603, 1606, 1607, 1718, 1722, 1864, 1889, 1890, 1899, 1960, 1983, 2030, 2137, 2138, 2139, 2142, 2145, 2190, 2258, 2261, 2288, 2289, 2298, 2308, 2309, 2310, 2347, 2366, 2384, 2398, 2484, 2485, 2523, 2580, 2582, 2603, 2669, 2671, 2674, 2698, 2749, 2819, 2829, 480, 523, 692, 693, 694, 699, 702, 704, 1094, 1384, 1391, 1461, 2117, 2245, 2372, 2416, 2417, 2418, 2716, 2717, 2720, 2780, 2781, 2782, 133, 135, 136, 139, 146, 147, 149, 150, 164, 165, 233, 252, 253, 345, 385, 387, 391, 404, 423, 570, 593, 594, 633, 722, 723, 724, 725, 726, 841, 842, 848, 873, 906, 931, 947, 971, 977, 987, 1018, 1045, 1046, 1091, 1092, 1169, 1258, 1273, 1274, 1298, 1496, 1497, 1498, 1544, 1545, 1546, 1568, 1586, 1587, 1602, 1615, 1629, 1694, 2049, 2051, 2057, 2058, 2182, 2183, 2253, 2291, 2361, 2420, 2542, 2554, 2623, 2625, 2626, 2771, 2832, 2833, 216, 218, 220, 222, 226, 228, 229, 366, 500, 645, 676, 766, 805, 880, 888, 985, 995, 1021, 1101, 1103, 1105, 1176, 1220, 1225, 1281, 1282, 1321, 1417, 1440, 1441, 1574, 1579, 1580, 1650, 1652, 1653, 1656, 1660, 2105, 2121, 2122, 2123, 2343, 2344, 2360, 2520, 2581, 2676, 2679, 2680, 2681, 2746, 2790, 18, 38, 96, 260, 319, 475, 555, 621, 663, 671, 686, 754, 759, 899, 989, 990, 991, 1029, 1030, 1032, 1035, 1036, 1037, 1038, 1116, 1117, 1171, 1272, 1279, 1284, 1294, 1299, 1301, 1306, 1307, 1308, 1336, 1342, 1343, 1349, 1360, 1361, 1362, 1367, 1372, 1396, 1398, 1406, 1415, 1427, 1429, 1430, 1431, 1432, 1438, 1447, 1453, 1455, 1466, 1467, 1472, 1473, 1476, 1477, 1483, 1494, 1495, 1501, 1502, 1507, 1523, 1534, 1550, 1555, 1556, 1558, 1561, 1562, 1563, 1564, 1565, 1566, 1567, 1573, 1575, 1578, 1584, 1598, 1599, 1604, 1612, 1616, 1621, 1627, 1628, 1634, 1637, 1640, 1641, 1642, 1645, 1646, 1648, 1655, 1666, 1670, 1676, 1678, 1681, 1682, 1683, 1689, 1693, 1698, 1704, 1710, 1725, 1727, 1728, 1729, 1733, 1736, 1737, 1740, 1746, 1751, 1759, 1771, 1772, 1776, 1779, 1781, 1783, 1784, 1785, 1786, 1789, 1793, 1798, 1803, 1806, 1809, 1819, 1823, 1825, 1830, 1834, 1838, 1840, 1842, 1843, 1844, 1851, 1860, 1865, 1874, 1875, 1880, 1882, 1883, 1884, 1887, 1888, 1895, 1896, 1919, 1920, 1921, 1922, 1976, 1978, 2022, 2025, 2028, 2029, 2055, 2056, 2176, 2373, 2374, 2518, 2519, 2535, 2536, 2537, 2670, 2672, 110, 331, 332, 333, 334, 335, 336, 352, 353, 355, 513, 515, 535, 812, 1124, 1152, 1428, 1596, 1623, 1631, 1632, 1638, 1730, 1853, 1959, 2324, 2326, 2629, 2630, 2686, 2689, 2692, 2693, 2826, 2827, 2828, 60, 128, 129, 130, 992, 994, 1016, 1172, 1820, 1822, 1824, 1925, 2014, 2146, 2774, 81, 170, 493, 634, 1485, 1486, 1647, 1649, 1813, 1995, 2023, 2024, 2060, 2203, 2205, 2211, 2213, 2214, 2341, 2405, 2476, 2539, 2644, 2696, 2756, 41, 42, 43, 44, 45, 46, 47, 48, 49, 50, 51, 52, 53, 54, 55, 56, 58, 61, 62, 63, 64, 65, 67, 68, 69, 70, 71, 72, 73, 74, 75, 76, 77, 79, 80, 82, 122, 123, 125, 144, 145, 245, 246, 256, 280, 375, 389, 450, 451, 452, 457, 465, 485, 552, 561, 601, 701, 703, 710, 733, 734, 735, 739, 744, 745, 746, 806, 878, 901, 902, 903, 956, 1019, 1055, 1216, 1724, 1787, 1981, 2304, 2383, 2445, 2447, 2451, 2528, 2675, 2678, 2752, 2757, 472, 474, 592, 596, 728, 998, 999, 1000, 1002, 1020, 1062, 1099, 1157, 1158, 1202, 1260, 1293, 1608, 1610, 1611, 1613, 1671, 1696, 1745, 1748, 1753, 1908, 1909, 2095, 2196, 2197, 2233, 2411, 2425, 2427, 2428, 2469, 2489, 2530, 2588, 2589, 2591, 2628, 2631, 2632, 2635, 2641, 2642, 2658, 2748, 2755, 2764, 2794, 196, 206, 207, 208, 210, 247, 320, 322, 323, 509, 605, 606, 705, 707, 911, 912, 913, 914, 915, 1013, 1034, 1087, 1089, 1185, 1241, 1242, 1243, 1257, 1364, 1365, 1368, 1540, 1600, 1601, 1643, 1654, 1690, 1769, 1886, 1902, 2073, 2076, 2079, 2080, 2259, 2260, 2307, 2415, 2487, 2538, 2606, 2607, 2610, 2612, 2666, 2728, 2763, 117, 261, 346, 417, 669, 761, 762, 1128, 1133, 1137, 1140, 1141, 1150, 1609, 1636, 1639, 1923, 1963, 2134, 2231, 2232, 2244, 2246, 2247, 2280, 2312, 2541, 2595, 2597, 2730, 85, 159, 197, 212, 213, 426, 427, 568, 659, 780, 882, 883, 884, 1626, 1800, 1916, 1917, 1924, 1969, 1971, 2282, 2315, 2409, 2412, 2590, 202, 203, 204, 224, 275, 294, 341, 348, 357, 360, 382, 383, 492, 569, 614, 617, 679, 680, 681, 682, 683, 685, 690, 691, 697, 698, 700, 738, 769, 770, 795, 876, 957, 961, 962, 963, 965, 967, 1022, 1023, 1024, 1039, 1053, 1057, 1068, 1069, 1126, 1182, 1224, 1267, 1278, 1311, 1314, 1320, 1456, 1488, 2031, 2092, 2125, 2186, 2209, 2323, 2328, 2330, 2354, 2358, 2483, 2486, 2697, 2801, 2803, 211, 214, 257, 263, 264, 316, 379, 448, 673, 720, 742, 752, 905, 1457, 1458, 1459, 1480, 1482, 1484, 1499, 1644, 1750, 1950, 1951, 1952, 1953, 1954, 2045, 2046, 2115, 2300, 2301, 2365, 2540, 2662, 2663, 28, 89, 90, 157, 163, 201, 347, 386, 392, 393, 439, 453, 626, 631, 674, 684, 687, 688, 803, 904, 910, 949, 1064, 1066, 1067, 1096, 1108, 1230, 1315, 1323, 1324, 1325, 1326, 1327, 1333, 1442, 1516, 1530, 1709, 1711, 1715, 1723, 1741, 1780, 1782, 1794, 1808, 1816, 1817, 1836, 1837, 1839, 1841, 1849, 1854, 1989, 1991, 1994, 1996, 1997, 1999, 2004, 2083, 2093, 2094, 2097, 2103, 2161, 2162, 2163, 2174, 2175, 2204, 2206, 2215, 2236, 2243, 2266, 2294, 2296, 2327, 2342, 2357, 2419, 2441, 2513, 2529, 2534, 2627, 2638, 2640, 2648, 2649, 2719, 2817, 307, 438, 642, 972, 973, 986, 988, 1012, 1110, 1129, 1275, 1376, 1393, 1470, 1657, 2690, 2787, 2791, 2792, 2793, 4, 205, 209, 800, 976, 980, 982, 1835, 1982, 1984, 1985, 1986, 1987, 2464, 419, 1102, 1104, 2614, 2615, 2619, 2620, 2621, 2745, 172, 342, 344, 362, 639, 695, 1071, 1106, 1286, 1661, 1712, 2021, 2096, 2098, 2170, 2187, 2208, 2339, 2340, 2385, 2475, 2556, 2557, 2559, 2561, 2753, 2754, 251, 524, 525, 571, 588, 889, 1380, 1395, 2191, 2193, 2491, 2650, 476, 514, 666, 966, 993, 1033, 1142, 1593, 1754, 2177, 2207, 2321, 2322, 2521, 2522, 285, 286, 313, 363, 487, 646, 747, 757, 853, 854, 856, 958, 1026, 1050, 1095, 1100, 1144, 1223, 1263, 1296, 1399, 1416, 1433, 1460, 1479, 1492, 1582, 1692, 1699, 1720, 1721, 1788, 1927, 1928, 1933, 1934, 1937, 1938, 1946, 1957, 1973, 1979, 2008, 2009, 2043, 2044, 2054, 2064, 2071, 2072, 2074, 2081, 2087, 2109, 2110, 2111, 2116, 2119, 2153, 2155, 2167, 2168, 2169, 2179, 2194, 2263, 2264, 2273, 2290, 2297, 2306, 2329, 2346, 2359, 2364, 2367, 2395, 2396, 2399, 2401, 2406, 2424, 2432, 2444, 2450, 2454, 2456, 2459, 2462, 2463, 2473, 2492, 2494, 2497, 2504, 2505, 2511, 2517, 2524, 2525, 2533, 2548, 2560, 2562, 2566, 2569, 2570, 2571, 2575, 2586, 2594, 2596, 2604, 2617, 2622, 2624, 2636, 2637, 2647, 2657, 2660, 2673, 2677, 2682, 2701, 2703, 2705, 2718, 2736, 2739, 2758, 2775, 2811, 219, 269, 274, 381, 428, 760, 1017, 1191, 1287, 1381, 1452, 1701, 1847, 1857, 1858, 2077, 2460, 2461, 2498, 115, 116, 119, 134, 410, 636, 660, 661, 843, 855, 907, 1083, 1084, 1085, 1086, 1088, 1090, 1734, 1735, 1915, 2178, 2180, 2181, 2700, 180, 182, 397, 409, 411, 539, 541, 551, 600, 641, 934, 935, 996, 1009, 1014, 1082, 1097, 1183, 1214, 1625, 2035, 2037, 2040, 2108, 2436, 2468, 2563, 2714, 120, 158, 160, 395, 398, 399, 422, 424, 425, 489, 546, 647, 648, 667, 668, 1619, 1620, 2124, 2195, 2199, 2274, 2285, 2287, 2574, 2577, 2685, 2688, 2834, 367, 414, 504, 505, 563, 564, 565, 574, 727, 729, 929, 1107, 1192, 1708, 2352, 2355, 2356, 2547, 2639, 2800, 8, 30, 31, 32, 33, 104, 283, 288, 291, 292, 293, 312, 461, 1758, 2332, 2337, 277, 434, 1136, 1777, 126, 127, 156, 215, 542, 543, 545, 887, 1521, 1990, 2042, 2149, 2164, 2165, 2171, 2242, 153, 420, 443, 449, 506, 512, 928, 1408, 1414, 1663, 2609, 2750, 1113, 1114, 1163, 1188, 1422, 2387, 2423, 2659, 2661, 2751, 20, 21, 177, 178, 179, 181, 416, 486, 538, 547, 711, 712, 740, 741, 944, 1155, 1265, 1386, 1684, 1935, 1936, 1961, 1992, 2305, 2325, 2618, 2655, 2656, 2726, 2727, 2729, 2731, 2830, 223, 235, 236, 364, 413, 696, 706, 718, 753, 946, 1379, 1752, 1878, 2249, 2400, 2515, 2608, 2711, 2712, 2713, 2823, 2837, 39, 166, 171, 190, 259, 266, 267, 390, 496, 528, 643, 732, 816, 870, 874, 926, 930, 1040, 1047, 1181, 1186, 1213, 1539, 1571, 1581, 1668, 2128, 2302, 2777, 2778, 337, 580, 1217, 1370, 1764, 2812, 2813, 143, 173, 369, 372, 488, 532, 533, 1775, 132, 351, 536, 635, 885, 1848, 2158, 2159, 2160, 2431, 2773, 881, 1120, 1369, 2184, 240, 441, 442, 444, 484, 495, 595, 857, 858, 859, 1469, 2805, 2810, 265, 494, 519, 521, 522, 623, 664, 708, 756, 767, 768, 933, 1005, 1008, 1143, 1345, 1948, 2026, 2099, 2100, 2101, 2129, 2166, 2188, 2311, 2313, 2345, 2350, 2353, 2413, 2414, 2434, 2435, 2683, 2684, 2710, 2715, 2772, 2776, 131, 243, 394, 2393, 2759, 2760, 188, 530, 954, 1162, 1255, 2065, 2066, 2068, 2172, 2386, 6, 176, 232, 255, 281, 295, 615, 616, 970, 1679, 1680, 1697, 1705, 1706, 1773, 2151, 2152, 2156, 2239, 2443, 2466, 2474, 2546, 2633, 2634, 378, 490, 491, 665, 1122, 1209, 2228, 2277, 2279, 87, 774, 782, 909, 1072, 1449, 1624, 2189, 2256, 2303, 2442, 2510, 2512, 2593, 2616, 2699, 583, 585, 1123, 1156, 1249, 445, 575, 577, 578, 579, 952, 1691, 1832, 2509, 138, 508, 510, 553, 554, 556, 609, 820, 897, 898, 936, 1063, 1065, 1338, 1339, 1400, 1450, 1672, 1931, 2127, 2278, 2558, 37, 534, 755, 1011, 1080, 1180, 168, 1027, 1262, 1264, 1280, 1285, 1330, 1340, 1397, 1572, 2223, 2229, 2265, 2299, 2488, 2514, 2564, 2565, 2568, 2592, 2733, 2765, 2766, 2769, 36, 587, 1993, 92, 358, 374, 406, 464, 638, 640, 1042, 1211, 1357, 1463, 1464, 1595, 1630, 1778, 2402, 169, 234, 248, 324, 1198, 1199, 1204, 2389, 2584, 2704, 91, 93, 100, 194, 325, 326, 388, 418, 511, 527, 919, 921, 932, 1863, 1870, 1947, 2131, 429, 997, 1774, 1988, 2201, 2502, 140, 151, 719, 1025, 1812, 2075, 2248, 2254, 2319, 2320, 2452, 2687, 2725, 941, 948, 950, 2148, 2150, 2157, 221, 421, 467, 550, 893, 2038, 2088, 2089, 2438, 2439, 2446, 2448, 2453, 2495, 195, 262, 548, 581, 777, 779, 817, 10, 1130, 1153, 1967, 1968, 2018, 2779, 750, 865, 1075, 1076, 1226, 1443, 2126, 2281, 2283, 2284, 2286, 2316, 2380, 2555, 403, 498, 627, 628, 851, 983, 1914, 2470, 2573, 558, 1317, 456, 624, 672, 1115, 1719, 2032, 2033, 529, 1351, 2039, 2516, 268, 1972, 2225, 2255, 2503, 330, 1409, 2118, 2120, 2740, 230, 433, 502, 730, 1702, 2408, 2788, 185, 187, 1044, 1855, 2496, 155, 396, 649, 650, 651, 1318, 1861, 1862, 2003, 2695, 254, 258, 810, 1869, 1872, 1876, 1894, 1912, 1918, 1926, 1949, 1964, 1966, 1975, 1980, 1998, 2000, 2002, 2007, 2011, 2036, 2041, 2059, 2061, 2063, 2078, 2086, 2091, 2106, 2107, 2113, 2130, 2136, 2147, 2262, 2275, 2276, 2349, 2490, 2493, 2579, 2768, 1151, 1402, 1419, 1569, 1714, 1716, 1717, 2293, 1605, 1797, 1801, 1859, 2394, 2482, 2761, 2767, 613, 872, 1109, 507, 1614, 2572, 2831, 23, 162, 785, 1056, 1818, 1958, 2104, 2429, 2437, 2440, 2455, 2821, 231, 279, 297, 1763, 2034, 1061, 118, 124, 199, 1049, 1553, 1827, 1829, 1898, 2333, 22, 431, 772, 863, 1256, 1468, 2062, 2804, 1474, 1475, 1792, 161, 225, 227, 287, 299, 327, 329, 354, 380, 412, 432, 446, 447, 463, 501, 516, 560, 567, 599, 662, 839, 844, 845, 896, 1221, 572, 2465, 191, 437, 1405, 1885, 306, 625, 959, 979, 1041, 1852, 1900, 2295, 468, 469, 749, 751, 793, 895, 975, 1048, 1059, 1070, 1078, 1098, 1125, 1194, 1196, 1197, 1218, 1289, 1297, 1310, 1403, 1404, 1424, 1445, 1503, 1505, 1665, 1845, 2808, 315, 503, 900, 908, 927, 1073, 1363, 1454, 1478, 1489, 1871, 2457, 2458, 721, 1145, 2499, 321])\n",
      "dict_keys([1, 2, 3, 4, 5, 6, 7, 8, 9, 10, 11, 12, 13, 14, 15, 16, 17, 18, 20, 21, 22, 23, 24, 25, 26, 27, 28, 29, 30, 31, 32, 33, 34, 36, 37, 38, 39, 40, 41, 42, 43, 44, 45, 46, 47, 48, 49, 50, 51, 52, 53, 54, 55, 56, 57, 58, 59, 60, 61, 62, 63, 64, 65, 66, 67, 68, 69, 70, 71, 72, 73, 74, 75, 76, 77, 78, 79, 80, 81, 82, 83, 84, 85, 86, 87, 89, 90, 91, 92, 93, 94, 95, 96, 97, 98, 99, 100, 101, 102, 103, 104, 105, 106, 107, 108, 109, 110, 111, 112, 113, 114, 115, 116, 117, 118, 119, 120, 121, 122, 123, 124, 125, 126, 127, 128, 129, 130, 131, 132, 133, 134, 135, 136, 137, 138, 139, 140, 143, 144, 145, 146, 147, 148, 149, 150, 151, 152, 153, 154, 155, 156, 157, 158, 159, 160, 161, 162, 163, 164, 165, 166, 167, 168, 169, 170, 171, 172, 173, 174, 175, 176, 177, 178, 179, 180, 181, 182, 183, 184, 185, 186, 187, 188, 189, 190, 191, 192, 193, 194, 195, 196, 197, 198, 199, 200, 201, 202, 203, 204, 205, 206, 207, 208, 209, 210, 211, 212, 213, 214, 215, 216, 217, 218, 219, 220, 221, 222, 223, 224, 225, 226, 227, 228, 229, 230, 231, 232, 233, 234, 235, 236, 237, 238, 239, 240, 241, 242, 243, 244, 245, 246, 247, 248, 249, 250, 251, 252, 253, 254, 255, 256, 257, 258, 259, 260, 261, 262, 263, 264, 265, 266, 267, 268, 269, 270, 271, 272, 273, 274, 275, 276, 277, 278, 279, 280, 281, 282, 283, 285, 286, 287, 288, 289, 290, 291, 292, 293, 294, 295, 296, 297, 298, 299, 300, 301, 302, 303, 304, 305, 306, 307, 309, 310, 312, 313, 314, 315, 316, 317, 318, 319, 320, 321, 322, 323, 324, 325, 326, 327, 328, 329, 330, 331, 332, 333, 334, 335, 336, 337, 338, 339, 341, 342, 343, 344, 345, 346, 347, 348, 349, 350, 351, 352, 353, 354, 355, 356, 357, 358, 359, 360, 361, 362, 363, 364, 365, 366, 367, 368, 369, 372, 373, 374, 375, 376, 377, 378, 379, 380, 381, 382, 383, 384, 385, 386, 387, 388, 389, 390, 391, 392, 393, 394, 395, 396, 397, 398, 399, 401, 402, 403, 404, 406, 407, 408, 409, 410, 411, 412, 413, 414, 415, 416, 417, 418, 419, 420, 421, 422, 423, 424, 425, 426, 427, 428, 429, 430, 431, 432, 433, 434, 435, 436, 437, 438, 439, 440, 441, 442, 443, 444, 445, 446, 447, 448, 449, 450, 451, 452, 453, 454, 455, 456, 457, 458, 459, 460, 461, 462, 463, 464, 465, 466, 467, 468, 469, 470, 471, 472, 473, 474, 475, 476, 477, 479, 480, 481, 482, 483, 484, 485, 486, 487, 488, 489, 490, 491, 492, 493, 494, 495, 496, 497, 498, 499, 500, 501, 502, 503, 504, 505, 506, 507, 508, 509, 510, 511, 512, 513, 514, 515, 516, 517, 518, 519, 520, 521, 522, 523, 524, 525, 527, 528, 529, 530, 531, 532, 533, 534, 535, 536, 537, 538, 539, 540, 541, 542, 543, 544, 545, 546, 547, 548, 549, 550, 551, 552, 553, 554, 555, 556, 557, 558, 559, 560, 561, 562, 563, 564, 565, 566, 567, 568, 569, 570, 571, 572, 573, 574, 575, 576, 577, 578, 579, 580, 581, 582, 583, 584, 585, 586, 587, 588, 589, 590, 591, 592, 593, 594, 595, 596, 597, 598, 599, 600, 601, 602, 603, 604, 605, 606, 607, 608, 609, 610, 611, 612, 613, 614, 615, 616, 617, 618, 619, 620, 621, 622, 623, 624, 625, 626, 627, 628, 629, 630, 631, 632, 633, 634, 635, 636, 637, 638, 639, 640, 641, 642, 643, 644, 645, 646, 647, 648, 649, 650, 651, 652, 653, 654, 655, 656, 657, 658, 659, 660, 661, 662, 663, 664, 665, 666, 667, 668, 669, 670, 671, 672, 673, 674, 675, 676, 677, 678, 679, 680, 681, 682, 683, 684, 685, 686, 687, 688, 689, 690, 691, 692, 693, 694, 695, 696, 697, 698, 699, 700, 701, 702, 703, 704, 705, 706, 707, 708, 709, 710, 711, 712, 713, 714, 715, 716, 717, 718, 719, 720, 721, 722, 723, 724, 725, 726, 727, 728, 729, 730, 731, 732, 733, 734, 735, 737, 738, 739, 740, 741, 742, 743, 744, 745, 746, 747, 748, 749, 750, 751, 752, 753, 754, 755, 756, 757, 758, 759, 760, 761, 762, 763, 764, 765, 766, 767, 768, 769, 770, 771, 772, 773, 774, 775, 776, 777, 778, 779, 780, 781, 782, 783, 784, 785, 786, 787, 788, 789, 790, 791, 792, 793, 794, 795, 796, 797, 798, 799, 800, 801, 802, 803, 804, 805, 806, 807, 808, 809, 810, 811, 812, 813, 814, 815, 816, 817, 818, 819, 820, 821, 822, 823, 824, 825, 826, 827, 828, 829, 830, 831, 832, 833, 834, 835, 836, 837, 838, 839, 840, 841, 842, 843, 844, 845, 846, 847, 848, 849, 850, 851, 852, 853, 854, 855, 856, 857, 858, 859, 860, 861, 862, 863, 864, 865, 866, 867, 868, 869, 870, 871, 872, 873, 874, 875, 876, 877, 878, 879, 880, 881, 882, 883, 884, 885, 886, 887, 888, 889, 890, 891, 892, 893, 894, 895, 896, 897, 898, 899, 900, 901, 902, 903, 904, 905, 906, 907, 908, 909, 910, 911, 912, 913, 914, 915, 916, 917, 918, 919, 920, 921, 922, 923, 924, 925, 926, 927, 928, 929, 930, 931, 932, 933, 934, 935, 936, 937, 938, 939, 940, 941, 942, 943, 944, 945, 946, 947, 948, 949, 950, 951, 952, 953, 954, 955, 956, 957, 958, 959, 961, 962, 963, 964, 965, 966, 967, 968, 969, 970, 971, 972, 973, 974, 975, 976, 977, 978, 979, 980, 981, 982, 983, 984, 985, 986, 987, 988, 989, 990, 991, 992, 993, 994, 995, 996, 997, 998, 999, 1000, 1002, 1003, 1004, 1005, 1008, 1009, 1010, 1011, 1012, 1013, 1014, 1015, 1016, 1017, 1018, 1019, 1020, 1021, 1022, 1023, 1024, 1025, 1026, 1027, 1028, 1029, 1030, 1031, 1032, 1033, 1034, 1035, 1036, 1037, 1038, 1039, 1040, 1041, 1042, 1043, 1044, 1045, 1046, 1047, 1048, 1049, 1050, 1051, 1052, 1053, 1055, 1056, 1057, 1058, 1059, 1060, 1061, 1062, 1063, 1064, 1065, 1066, 1067, 1068, 1069, 1070, 1071, 1072, 1073, 1074, 1075, 1076, 1077, 1078, 1079, 1080, 1081, 1082, 1083, 1084, 1085, 1086, 1087, 1088, 1089, 1090, 1091, 1092, 1093, 1094, 1095, 1096, 1097, 1098, 1099, 1100, 1101, 1102, 1103, 1104, 1105, 1106, 1107, 1108, 1109, 1110, 1111, 1112, 1113, 1114, 1115, 1116, 1117, 1118, 1119, 1120, 1121, 1122, 1123, 1124, 1125, 1126, 1127, 1128, 1129, 1130, 1131, 1132, 1133, 1134, 1135, 1136, 1137, 1138, 1139, 1140, 1141, 1142, 1143, 1144, 1145, 1146, 1147, 1148, 1149, 1150, 1151, 1152, 1153, 1154, 1155, 1156, 1157, 1158, 1160, 1162, 1163, 1164, 1165, 1166, 1167, 1168, 1169, 1170, 1171, 1172, 1173, 1174, 1175, 1176, 1177, 1178, 1179, 1180, 1181, 1182, 1183, 1184, 1185, 1186, 1187, 1188, 1189, 1190, 1191, 1192, 1193, 1194, 1195, 1196, 1197, 1198, 1199, 1200, 1201, 1202, 1203, 1204, 1205, 1206, 1207, 1208, 1209, 1210, 1211, 1212, 1213, 1214, 1215, 1216, 1217, 1218, 1219, 1220, 1221, 1222, 1223, 1224, 1225, 1226, 1227, 1228, 1229, 1230, 1231, 1232, 1233, 1234, 1235, 1236, 1237, 1238, 1239, 1240, 1241, 1242, 1243, 1244, 1245, 1246, 1247, 1248, 1249, 1250, 1251, 1252, 1253, 1254, 1255, 1256, 1257, 1258, 1259, 1260, 1261, 1262, 1263, 1264, 1265, 1267, 1268, 1272, 1273, 1274, 1275, 1276, 1277, 1278, 1279, 1280, 1281, 1282, 1283, 1284, 1285, 1286, 1287, 1288, 1289, 1293, 1294, 1295, 1296, 1297, 1298, 1299, 1300, 1301, 1302, 1303, 1304, 1305, 1306, 1307, 1308, 1309, 1310, 1311, 1312, 1313, 1314, 1315, 1316, 1317, 1318, 1319, 1320, 1321, 1322, 1323, 1324, 1325, 1326, 1327, 1328, 1329, 1330, 1331, 1332, 1333, 1334, 1335, 1336, 1337, 1338, 1339, 1340, 1341, 1342, 1343, 1344, 1345, 1346, 1347, 1348, 1349, 1350, 1351, 1352, 1353, 1354, 1355, 1356, 1357, 1358, 1359, 1360, 1361, 1362, 1363, 1364, 1365, 1366, 1367, 1368, 1369, 1370, 1371, 1372, 1373, 1374, 1375, 1376, 1377, 1378, 1379, 1380, 1381, 1384, 1385, 1386, 1387, 1388, 1389, 1390, 1391, 1392, 1393, 1394, 1395, 1396, 1397, 1398, 1399, 1400, 1401, 1402, 1403, 1404, 1405, 1406, 1407, 1408, 1409, 1410, 1411, 1412, 1413, 1414, 1415, 1416, 1417, 1419, 1420, 1421, 1422, 1423, 1424, 1425, 1426, 1427, 1428, 1429, 1430, 1431, 1432, 1433, 1436, 1437, 1438, 1439, 1440, 1441, 1442, 1443, 1444, 1445, 1446, 1447, 1448, 1449, 1450, 1451, 1452, 1453, 1454, 1455, 1456, 1457, 1458, 1459, 1460, 1461, 1462, 1463, 1464, 1465, 1466, 1467, 1468, 1469, 1470, 1471, 1472, 1473, 1474, 1475, 1476, 1477, 1478, 1479, 1480, 1481, 1482, 1483, 1484, 1485, 1486, 1487, 1488, 1489, 1490, 1491, 1492, 1493, 1494, 1495, 1496, 1497, 1498, 1499, 1500, 1501, 1502, 1503, 1504, 1505, 1506, 1507, 1510, 1512, 1514, 1515, 1516, 1517, 1518, 1519, 1520, 1521, 1522, 1523, 1524, 1525, 1526, 1527, 1528, 1529, 1530, 1531, 1532, 1533, 1534, 1535, 1536, 1537, 1538, 1539, 1540, 1541, 1542, 1543, 1544, 1545, 1546, 1547, 1548, 1549, 1550, 1551, 1552, 1553, 1554, 1555, 1556, 1557, 1558, 1559, 1560, 1561, 1562, 1563, 1564, 1565, 1566, 1567, 1568, 1569, 1570, 1571, 1572, 1573, 1574, 1575, 1576, 1578, 1579, 1580, 1581, 1582, 1583, 1584, 1585, 1586, 1587, 1588, 1589, 1590, 1591, 1592, 1593, 1594, 1595, 1596, 1597, 1598, 1599, 1600, 1601, 1602, 1603, 1604, 1605, 1606, 1607, 1608, 1609, 1610, 1611, 1612, 1613, 1614, 1615, 1616, 1617, 1618, 1619, 1620, 1621, 1622, 1623, 1624, 1625, 1626, 1627, 1628, 1629, 1630, 1631, 1632, 1633, 1634, 1635, 1636, 1637, 1638, 1639, 1640, 1641, 1642, 1643, 1644, 1645, 1646, 1647, 1648, 1649, 1650, 1651, 1652, 1653, 1654, 1655, 1656, 1657, 1658, 1660, 1661, 1663, 1664, 1665, 1666, 1668, 1669, 1670, 1671, 1672, 1673, 1674, 1675, 1676, 1677, 1678, 1679, 1680, 1681, 1682, 1683, 1684, 1685, 1686, 1687, 1688, 1689, 1690, 1691, 1692, 1693, 1694, 1695, 1696, 1697, 1698, 1699, 1700, 1701, 1702, 1703, 1704, 1705, 1706, 1707, 1708, 1709, 1710, 1711, 1712, 1713, 1714, 1715, 1716, 1717, 1718, 1719, 1720, 1721, 1722, 1723, 1724, 1725, 1726, 1727, 1728, 1729, 1730, 1731, 1732, 1733, 1734, 1735, 1736, 1737, 1738, 1739, 1740, 1741, 1742, 1743, 1744, 1745, 1746, 1747, 1748, 1750, 1751, 1752, 1753, 1754, 1755, 1756, 1757, 1758, 1759, 1760, 1761, 1762, 1763, 1764, 1765, 1766, 1767, 1768, 1769, 1770, 1771, 1772, 1773, 1774, 1775, 1776, 1777, 1778, 1779, 1780, 1781, 1782, 1783, 1784, 1785, 1786, 1787, 1788, 1789, 1790, 1791, 1792, 1793, 1794, 1795, 1796, 1797, 1798, 1799, 1800, 1801, 1802, 1803, 1804, 1805, 1806, 1807, 1808, 1809, 1810, 1811, 1812, 1813, 1814, 1815, 1816, 1817, 1818, 1819, 1820, 1821, 1822, 1823, 1824, 1825, 1827, 1828, 1829, 1830, 1831, 1832, 1833, 1834, 1835, 1836, 1837, 1838, 1839, 1840, 1841, 1842, 1843, 1844, 1845, 1846, 1847, 1848, 1849, 1850, 1851, 1852, 1853, 1854, 1855, 1856, 1857, 1858, 1859, 1860, 1861, 1862, 1863, 1864, 1865, 1866, 1867, 1868, 1869, 1870, 1871, 1872, 1874, 1875, 1876, 1877, 1878, 1879, 1880, 1881, 1882, 1883, 1884, 1885, 1886, 1887, 1888, 1889, 1890, 1891, 1892, 1893, 1894, 1895, 1896, 1897, 1898, 1899, 1900, 1901, 1902, 1903, 1904, 1905, 1906, 1907, 1908, 1909, 1910, 1911, 1912, 1913, 1914, 1915, 1916, 1917, 1918, 1919, 1920, 1921, 1922, 1923, 1924, 1925, 1926, 1927, 1928, 1929, 1930, 1931, 1932, 1933, 1934, 1935, 1936, 1937, 1938, 1939, 1940, 1941, 1942, 1943, 1944, 1945, 1946, 1947, 1948, 1949, 1950, 1951, 1952, 1953, 1954, 1955, 1956, 1957, 1958, 1959, 1960, 1961, 1962, 1963, 1964, 1965, 1966, 1967, 1968, 1969, 1970, 1971, 1972, 1973, 1974, 1975, 1976, 1977, 1978, 1979, 1980, 1981, 1982, 1983, 1984, 1985, 1986, 1987, 1988, 1989, 1990, 1991, 1992, 1993, 1994, 1995, 1996, 1997, 1998, 1999, 2000, 2001, 2002, 2003, 2004, 2005, 2006, 2007, 2008, 2009, 2010, 2011, 2012, 2013, 2014, 2015, 2016, 2017, 2018, 2019, 2020, 2021, 2022, 2023, 2024, 2025, 2026, 2027, 2028, 2029, 2030, 2031, 2032, 2033, 2034, 2035, 2036, 2037, 2038, 2039, 2040, 2041, 2042, 2043, 2044, 2045, 2046, 2047, 2048, 2049, 2050, 2051, 2052, 2053, 2054, 2055, 2056, 2057, 2058, 2059, 2060, 2061, 2062, 2063, 2064, 2065, 2066, 2068, 2069, 2070, 2071, 2072, 2073, 2074, 2075, 2076, 2077, 2078, 2079, 2080, 2081, 2082, 2083, 2084, 2085, 2086, 2087, 2088, 2089, 2090, 2091, 2092, 2093, 2094, 2095, 2096, 2097, 2098, 2099, 2100, 2101, 2102, 2103, 2104, 2105, 2106, 2107, 2108, 2109, 2110, 2111, 2112, 2113, 2114, 2115, 2116, 2117, 2118, 2119, 2120, 2121, 2122, 2123, 2124, 2125, 2126, 2127, 2128, 2129, 2130, 2131, 2132, 2133, 2134, 2135, 2136, 2137, 2138, 2139, 2140, 2141, 2142, 2143, 2144, 2145, 2146, 2147, 2148, 2149, 2150, 2151, 2152, 2153, 2154, 2155, 2156, 2157, 2158, 2159, 2160, 2161, 2162, 2163, 2164, 2165, 2166, 2167, 2168, 2169, 2170, 2171, 2172, 2173, 2174, 2175, 2176, 2177, 2178, 2179, 2180, 2181, 2182, 2183, 2184, 2185, 2186, 2187, 2188, 2189, 2190, 2191, 2192, 2193, 2194, 2195, 2196, 2197, 2198, 2199, 2201, 2202, 2203, 2204, 2205, 2206, 2207, 2208, 2209, 2210, 2211, 2212, 2213, 2214, 2215, 2217, 2218, 2219, 2220, 2221, 2222, 2223, 2224, 2225, 2226, 2227, 2228, 2229, 2230, 2231, 2232, 2233, 2234, 2235, 2236, 2237, 2239, 2240, 2241, 2242, 2243, 2244, 2245, 2246, 2247, 2248, 2249, 2251, 2252, 2253, 2254, 2255, 2256, 2258, 2259, 2260, 2261, 2262, 2263, 2264, 2265, 2266, 2267, 2268, 2269, 2270, 2271, 2272, 2273, 2274, 2275, 2276, 2277, 2278, 2279, 2280, 2281, 2282, 2283, 2284, 2285, 2286, 2287, 2288, 2289, 2290, 2291, 2292, 2293, 2294, 2295, 2296, 2297, 2298, 2299, 2300, 2301, 2302, 2303, 2304, 2305, 2306, 2307, 2308, 2309, 2310, 2311, 2312, 2313, 2314, 2315, 2316, 2317, 2318, 2319, 2320, 2321, 2322, 2323, 2324, 2325, 2326, 2327, 2328, 2329, 2330, 2331, 2332, 2333, 2334, 2335, 2336, 2337, 2338, 2339, 2340, 2341, 2342, 2343, 2344, 2345, 2346, 2347, 2348, 2349, 2350, 2351, 2352, 2353, 2354, 2355, 2356, 2357, 2358, 2359, 2360, 2361, 2362, 2363, 2364, 2365, 2366, 2367, 2368, 2369, 2370, 2371, 2372, 2373, 2374, 2375, 2376, 2377, 2378, 2380, 2381, 2382, 2383, 2384, 2385, 2386, 2387, 2388, 2389, 2390, 2391, 2392, 2393, 2394, 2395, 2396, 2397, 2398, 2399, 2400, 2401, 2402, 2403, 2404, 2405, 2406, 2407, 2408, 2409, 2410, 2411, 2412, 2413, 2414, 2415, 2416, 2417, 2418, 2419, 2420, 2421, 2422, 2423, 2424, 2425, 2426, 2427, 2428, 2429, 2431, 2432, 2434, 2435, 2436, 2437, 2438, 2439, 2440, 2441, 2442, 2443, 2444, 2445, 2446, 2447, 2448, 2449, 2450, 2451, 2452, 2453, 2454, 2455, 2456, 2457, 2458, 2459, 2460, 2461, 2462, 2463, 2464, 2465, 2466, 2467, 2468, 2469, 2470, 2471, 2472, 2473, 2474, 2475, 2476, 2477, 2478, 2479, 2480, 2481, 2482, 2483, 2484, 2485, 2486, 2487, 2488, 2489, 2490, 2491, 2492, 2493, 2494, 2495, 2496, 2497, 2498, 2499, 2500, 2501, 2502, 2503, 2504, 2505, 2506, 2507, 2508, 2509, 2510, 2511, 2512, 2513, 2514, 2515, 2516, 2517, 2518, 2519, 2520, 2521, 2522, 2523, 2524, 2525, 2526, 2528, 2529, 2530, 2531, 2532, 2533, 2534, 2535, 2536, 2537, 2538, 2539, 2540, 2541, 2542, 2543, 2544, 2545, 2546, 2547, 2548, 2549, 2550, 2551, 2552, 2553, 2554, 2555, 2556, 2557, 2558, 2559, 2560, 2561, 2562, 2563, 2564, 2565, 2566, 2567, 2568, 2569, 2570, 2571, 2572, 2573, 2574, 2575, 2576, 2577, 2578, 2579, 2580, 2581, 2582, 2583, 2584, 2585, 2586, 2587, 2588, 2589, 2590, 2591, 2592, 2593, 2594, 2595, 2596, 2597, 2598, 2599, 2600, 2601, 2602, 2603, 2604, 2605, 2606, 2607, 2608, 2609, 2610, 2611, 2612, 2613, 2614, 2615, 2616, 2617, 2618, 2619, 2620, 2621, 2622, 2623, 2624, 2625, 2626, 2627, 2628, 2629, 2630, 2631, 2632, 2633, 2634, 2635, 2636, 2637, 2638, 2639, 2640, 2641, 2642, 2643, 2644, 2645, 2646, 2647, 2648, 2649, 2650, 2651, 2652, 2653, 2654, 2655, 2656, 2657, 2658, 2659, 2660, 2661, 2662, 2663, 2664, 2665, 2666, 2667, 2668, 2669, 2670, 2671, 2672, 2673, 2674, 2675, 2676, 2677, 2678, 2679, 2680, 2681, 2682, 2683, 2684, 2685, 2686, 2687, 2688, 2689, 2690, 2691, 2692, 2693, 2694, 2695, 2696, 2697, 2698, 2699, 2700, 2701, 2702, 2703, 2704, 2705, 2706, 2707, 2708, 2709, 2710, 2711, 2712, 2713, 2714, 2715, 2716, 2717, 2718, 2719, 2720, 2723, 2724, 2725, 2726, 2727, 2728, 2729, 2730, 2731, 2732, 2733, 2735, 2736, 2737, 2738, 2739, 2740, 2741, 2742, 2743, 2744, 2745, 2746, 2747, 2748, 2749, 2750, 2751, 2752, 2753, 2754, 2755, 2756, 2757, 2758, 2759, 2760, 2761, 2762, 2763, 2764, 2765, 2766, 2767, 2768, 2769, 2770, 2771, 2772, 2773, 2774, 2775, 2776, 2777, 2778, 2779, 2780, 2781, 2782, 2783, 2784, 2785, 2786, 2787, 2788, 2789, 2790, 2791, 2792, 2793, 2794, 2795, 2796, 2797, 2798, 2799, 2800, 2801, 2802, 2803, 2804, 2805, 2806, 2807, 2808, 2809, 2810, 2811, 2812, 2813, 2815, 2816, 2817, 2818, 2819, 2820, 2821, 2822, 2823, 2824, 2825, 2826, 2827, 2828, 2829, 2830, 2831, 2832, 2833, 2834, 2835, 2836, 2837, 2838, 2839, 2840, 2841, 2842, 2843, 19, 35, 88, 284, 308, 311, 340, 370, 371, 400, 405, 526, 736, 960, 1001, 1006, 1007, 1054, 1159, 1161, 1266, 1269, 1270, 1271, 1291, 1292, 1382, 1383, 1418, 1508, 1509, 1511, 1513, 1577, 1659, 1662, 1667, 1749, 1826, 1873, 2067, 2200, 2216, 2238, 2430, 2433, 2527, 2721, 2722, 2734, 2814, 141, 142, 478, 1435, 2250, 2257, 2379, 1290, 1434])\n"
     ]
    }
   ],
   "source": [
    "cssplits_sampling, cssplits_error_kmer = _create_replace_dict(midsv_sample[:100], mutation_loci)"
   ]
  },
  {
   "cell_type": "code",
   "execution_count": 75,
   "metadata": {},
   "outputs": [
    {
     "name": "stdout",
     "output_type": "stream",
     "text": [
      "Counter({'=T': 91, 'N': 1})\n",
      "{'=A,+T|=T,=T', '-A,-T,=T', '=A,+T|+G|=T,=T', '=A,-T,=T', '=A,+T|+T|=T,=T'}\n",
      "set()\n"
     ]
    }
   ],
   "source": [
    "idx = 308\n",
    "print(cssplits_sampling[idx])\n",
    "print(cssplits_error_kmer[idx])\n",
    "print(mutation_loci[idx])"
   ]
  },
  {
   "cell_type": "code",
   "execution_count": 76,
   "metadata": {},
   "outputs": [
    {
     "name": "stdout",
     "output_type": "stream",
     "text": [
      "{'QNAME': '00077750-d7ab-4c73-ac65-8707d39936c2', 'CSSPLIT': '=T,=G,=C,=A,=T,=T,=G,=A,=A,=G,=C,=A,=G,=T,=T,=C,=A,=C,=C,+G|=A,=A,=A,=A,=T,=A,=A,=C,=A,=A,=A,=G,=T,=A,=A,=C,+A|=A,=A,=A,=G,=T,=A,=A,=G,=A,=T,=A,=T,=C,=T,=T,=T,=G,=G,=A,=A,=T,=A,=A,=T,=C,=A,=A,=T,=T,=C,=A,=A,=G,=A,=T,=A,=A,=T,=C,=A,=A,=G,=G,=A,=A,=A,=A,=A,=T,=G,=A,=G,=A,-G,=G,=C,=A,=A,=C,=T,=A,=T,=T,=T,=T,=A,=G,=A,=C,=T,=G,=A,=T,=T,=A,=C,=T,=T,=T,=T,=A,=T,=A,=A,=A,=A,=T,=A,=A,=A,=T,=A,=A,=G,=C,=T,=C,=A,=G,=C,=T,=T,=A,=G,=C,=C,*AG,*GA,=A,=T,=A,=T,=A,=A,=G,=C,=A,=A,=T,=A,=T,=T,=C,=T,=G,=A,=G,=T,=T,=C,=T,=G,=A,=A,=G,=A,=A,=A,=A,=A,=T,=T,=T,=T,=T,=G,=A,=C,=A,=A,=A,=A,=T,=G,=A,=G,=T,=T,=C,=T,=A,=T,=A,=A,=A,=T,=G,=T,=T,=A,=T,=T,=G,=T,=C,=T,=A,=C,=T,=T,=A,=T,=G,=A,=T,=C,=T,=C,=T,=A,=A,=A,=T,=A,=C,=A,=A,=C,=A,=G,=G,=C,=T,=T,=G,=T,=A,=T,=T,=C,=A,=G,=A,=A,=T,=C,=T,=A,=G,=A,=T,=G,=T,=T,=T,=C,=A,=T,=G,=A,=C,=C,=T,=T,=T,=A,=T,=T,=C,=A,=T,=A,=A,=G,=A,=G,=A,=T,=G,+A|+A|=A,=T,=G,=T,=A,=T,=T,=C,=T,=T,=G,=A,=T,=A,=C,=T,=A,=C,=T,=T,=C,=T,=C,=A,+T|+T|=T,=T,=T,*GA,=C,=A,=A,=A,=T,=T,=C,=C,=A,=A,=T,=T,=A,=T,=T,=A,=T,=T,=A,=A,=T,=T,=T,=C,=A,=T,=A,=T,+C|=C,=A,=A,=T,=T,=A,=G,=A,=A,=T,=A,=A,=T,=A,=T,=A,=T,=C,=T,=T,=C,=C,=T,=T,=C,=A,=A,=T,=T,=T,*AG,*GA,=T,=T,=A,=C,=C,=T,=C,=A,=C,=T,=A,=T,=G,=G,=G,=C,=T,=A,=T,=G,=T,=A,=C,=A,=A,=A,=C,=T,-C,=C,=A,=A,=G,-A,=A,=A,=A,=A,=G,=T,=T,=A,=G,=T,=C,=A,=T,=G,=T,=G,=C,=T,=T,=T,=G,=C,=A,=G,=A,=A,=G,=A,=T,=A,=A,=A,=A,=G,=C,=T,=T,=A,=G,=T,=G,=T,=A,=A,=A,=A,=C,=A,=G,=G,=C,=T,=G,=A,=G,=A,=G,=T,=A,=T,=T,=T,=G,=A,=T,=G,=T,=A,=A,=G,=A,=A,-G,=G,=G,=G,=A,=G,=T,=G,=G,=T,=T,=A,=T,=A,=T,=A,=G,=G,=T,=C,=T,=T,=A,=G,=C,=C,=A,=A,=A,=A,=C,=A,=T,=G,=T,=G,=A,=T,=A,=G,=T,=C,=A,=C,=T,=C,=C,=A,+G|=G,=G,=G,=G,=T,=T,=G,=C,=T,=G,=G,=A,=A,=A,=A,=G,=A,=A,=G,=T,=C,=T,=G,=T,=G,=A,=C,=A,=C,=T,=C,=A,=T,=T,=A,=A,=C,=C,=T,=A,=T,=T,=G,=G,=T,=G,=C,=A,=G,=A,=T,=T,=T,=T,=G,=T,=A,=T,=G,=A,=T,=C,=T,=A,=A,=A,=G,=G,=A,=G,=A,=A,=A,=A,=T,=G,=T,=T,=C,=T,=T,=G,=G,=C,=T,=G,=T,=T,=T,=T,=G,=T,=A,=T,=T,=G,=C,=C,=T,=T,=C,=T,=G,=T,=G,=G,=A,=G,=T,=T,=T,=C,=C,=A,=G,=A,=T,=C,=T,=C,=T,=G,=A,=T,=G,=G,=C,=C,=A,=T,=T,=T,=T,=C,=C,=T,=C,=G,=A,=G,=C,=C,=T,=G,=T,=G,=C,=C,=T,=C,=C,=T,=C,=T,=A,=A,=G,=A,=A,=C,=T,=T,=G,=T,=T,=G,=G,=C,=A,=A,=A,=A,=G,=A,=A,=T,=G,=C,=T,=G,=C,=C,=C,=A,=C,=C,=A,=T,=G,=G,=A,=T,=G,=G,=G,=T,=G,=A,=T,=G,=G,=G,=A,=G,=T,=C,=C,=C,=T,=G,+C|+A|=C,=G,=G,=C,=C,=A,=G,=C,=T,=T,=T,=C,=A,=G,=G,=C,=A,=G,=A,=G,=G,=T,=T,=C,=C,=T,=G,=C,=C,=A,=G,=G,=A,=T,=A,=T,=C,=C,=T,=T,=C,=T,=G,=T,=C,=C,=A,=G,=T,=G,=C,=A,=C,=C,=A,=T,=C,=T,=G,=G,=A,=C,=C,=T,=C,=A,=G,=T,=T,=C,=C,=C,=C,=T,=T,=C,=A,=A,=A,=G,=G,=G,=G,=T,=G,=G,=A,=T,=G,=A,=C,=C,=G,=T,=G,=A,=G,=T,=C,=C,=T,=G,=G,=C,=C,=C,=T,=C,=T,=G,=T,=G,=T,=T,=T,=T,=A,=T,=A,=A,=T,=A,=G,=G,=A,=C,=C,=T,=G,=C,=C,=A,=G,=T,=G,=C,=T,=C,=A,=G,=G,=C,=A,=A,=C,=T,=T,=C,=A,=T,=G,=G,=G,=T,=T,=T,=C,=A,=A,=C,=T,=G,=C,=G,=G,=A,=A,=A,=C,=T,=G,=T,=A,=A,=G,=T,=T,=T,=G,=G,=A,=T,=T,=T,=G,=G,=G,=G,=G,=C,=C,=C,=A,=A,=A,=T,=T,=G,=T,=A,=C,=A,=G,=A,=G,=A,=A,=G,=C,=G,=A,=G,=T,=C,=T,=T,=G,=A,=T,=T,=A,=G,=A,=A,*GA,=A,=A,=A,=C,=A,=T,=T,=T,=T,=T,=G,=A,=T,=T,=T,=G,=A,=G,=T,=G,=T,=C,=T,=C,=C,=G,=A,=A,=A,=A,=G,=A,=A,=T,=A,=A,=G,=T,=T,=C,+T|=T,=T,=T,=T,=C,*TC,*TC,=A,=C,=C,=T,=C,=A,=C,=T,=T,=T,=A,=G,=C,=A,=A,=A,=A,=C,=A,=T,=A,=C,=T,=A,=T,=C,=A,=G,=C,=T,=C,=A,=G,=T,=C,=T,=A,=T,=G,=T,=C,=A,=T,=C,=C,=C,+T|+A|=C,=A,=C,=A,=G,=G,=C,=A,=C,=C,=T,=A,=T,=G,=G,=C,=C,=A,=A,=A,=T,=G,=A,=A,=C,=A,=A,=T,=G,=G,=G,=T,=C,=A,=A,=C,=A,=C,=C,=C,=A,=T,=G,=T,=T,=T,=A,=A,=T,=G,=A,=T,=A,=T,=C,=A,=A,=C,=A,=T,=C,=T,=A,=C,=G,=A,=C,=C,=T,=C,=T,=T,=T,=G,=T,=A,=T,=G,=G,=A,=T,=G,=C,=A,=T,=T,=A,=C,=T,=A,=T,=G,=T,=G,=T,=C,=A,=A,=G,=G,=G,=A,=C,=A,=C,-A,=C,+T|+T|=T,=G,=C,=T,=T,=G,=G,=G,=G,=G,=C,=T,=C,=T,=G,=A,=A,=A,=T,=A,=T,=G,=G,=A,=G,=G,=G,=A,=C,=A,=T,=T,=G,=A,=T,=T,=T,=T,=G,=C,=C,=C,=A,=T,=G,=A,=A,=G,=C,=A,=C,=C,=A,=G,=G,=G,=T,=T,=T,=C,=T,=G,=C,=C,=T,=T,*GA,=G,=C,=A,=C,=A,=G,=A,=C,=T,=T,=T,=T,=C,=T,=T,=G,=T,=T,=A,=T,=T,=G,=T,=G,=G,=G,=A,=A,=C,=A,=A,=G,=A,=A,=A,=T,=T,=C,-G,=A,=G,*AG,*AC,*CT,=T,=A,=A,=C,=T,=G,=G,=G,=G,=A,=T,=G,=A,=G,=A,=A,=C,=T,-T,-C,*AG,=C,=T,=G,=T,=T,=C,=C,=A,=T,=A,=C,=T,=G,=G,=G,=A,=T,=T,=G,=G,=A,=G,=A,=G,=A,=T,=G,=C,=A,=G,=A,=A,=A,=A,=C,=T,=G,=T,=G,=A,=C,=A,=T,=T,=T,=G,=C,=A,=C,=A,=G,=A,=T,=G,=A,=G,=T,=A,=C,=T,=T,=G,=G,=G,=A,=G,=G,=T,=C,=G,=T,=C,=A,=C,=C,=C,=T,=G,=A,=A,=A,=A,=T,=C,=C,=T,=A,=A,=C,-T,-T,=A,=C,=T,=C,=A,=G,=C,=C,=C,=A,=G,=C,=A,=T,=C,=C,=T,=T,=C,=T,=T,=C,=T,=C,=C,=T,=C,=C,=T,=G,=G,=C,=A,-G,*GT,=T,=A,=A,=G,=A,=T,=G,=C,=A,=C,=T,=A,=T,=A,=T,-A,-G,=A,=G,=A,=G,=A,=G,=T,=T,=G,=C,=A,=A,=A,=G,=A,=C,=T,=G,=G,=T,=A,=C,=T,=T,=C,=A,=G,=C,=A,=G,=C,=C,=A,=C,=A,=T,=T,=T,=T,=C,=A,=T,=G,=C,=T,=C,=T,=G,=T,=G,=A,=G,=C,=A,=T,=C,=T,=C,=T,=G,=A,=T,=A,=A,=T,=A,=T,=C,=T,=C,=A,=G,*GA,*GA,=C,*AT,=G,+A|=A,=A,=A,=A,=T,=G,=T,=G,=C,=C,=T,=T,=A,=C,=T,=A,=A,=C,=A,=G,=A,=T,=G,=T,=T,=A,=A,=T,=G,=C,=T,=T,=C,=T,=T,=G,=A,=T,=T,=T,=C,=T,=T,=T,=T,=T,=C,=T,=C,=T,=T,=T,=T,=G,=A,=G,=A,=A,=C,=T,=C,=T,=T,=C,+A|=A,=A,=A,=G,=T,=T,=G,=T,=T,=A,=T,=T,=A,=A,=A,=C,=A,=A,=A,=T,=A,=T,=C,=T,=A,=T,=G,=T,=G,=C,=T,=T,=A,=T,=T,=T,=G,=T,=C,=T,=T,=A,=A,=T,=A,=T,=C,=T,=A,=A,=C,=A,=G,=C,=T,=T,=A,=G,=T,=T,=A,=G,=A,=T,=T,=T,=C,=T,=A,=A,=G,=C,=T,=G,=C,=T,=A,=T,=A,=A,=A,=C,-A,=A,=G,*GA,=A,=C,=T,=G,+A|+G|+A|=A,=T,=T,=G,=G,=T,=T,=C,=A,=C,=C,=A,=C,=T,=G,=T,=A,=T,=T,=G,=T,=T,=A,=G,=C,=A,=C,=C,=T,=C,=C,=T,=A,=T,=G,=G,=T,=A,=T,=C,=T,=G,=G,=A,=A,=T,=A,=A,=A,=C,=A,=G,=T,=A,=A,=C,=T,=C,=A,=G,=T,=T,=A,=T,=T,=T,=A,=A,=G,=A,=A,=T,=G,=G,=A,=T,=G,=A,=G,=A,=A,=A,-C,=C,=A,=G,=A,=T,=T,=A,=T,=C,=T,=T,=A,=G,=T,=T,=C,=A,=T,=G,=T,=T,=T,=C,=T,=G,=A,=G,=T,=A,=A,=T,=A,=T,=T,=A,=A,=A,=A,=T,=T,=A,=A,=T,=A,=T,=T,=A,=A,=C,=A,=G,=T,=A,=A,=A,=A,=T,=C,=C,=A,=T,=A,=A,=G,=T,=A,=T,=G,=C,=T,=A,=C,=T,=T,=T,=A,+A|+G|=A,=A,=A,=T,=A,=T,=A,=A,=A,=T,=C,=T,=C,=T,=G,=G,=C,=C,=A,=A,=A,=A,=C,=C,=A,=A,=G,=A,=C,=T,=T,=A,=T,=T,=A,=T,=T,=C,=A,=G,=G,=A,=T,=C,=T,=T,=C,-A,=A,=G,=A,=G,=A,=A,=A,=G,=T,=G,=C,=T,=G,=A,=G,=A,=T,=A,=A,=T,=T,=C,=A,=C,=T,=A,=A,=G,=T,=A,=T,=C,=A,=G,=A,=G,=A,=T,=G,=A,=C,=C,=T,=T,=T,=A,=T,=T,=A,=C,=A,=T,=G,=A,=T,=T,=G,=C,=C,=T,=G,=A,=T,=A,=G,=A,=A,=A,=A,=A,=A,=T,=G,=A,=T,=T,=A,=C,=A,=C,=A,=C,=A,=C,=A,=C,=A,=A,=A,=A,=A,=A,=A,=T,=C,=T,=T,=C,=A,=G,=T,=T,=G,=C,=T,=T,=A,=A,=A,=T,=T,=T,=T,=A,=A,=A,=C,=G,=T,=T,=G,=C,=T,=G,=A,=C,=T,=C,=T,=C,=A,=A,=A,=C,=A,=G,=T,=T,=A,=A,=G,=T,=A,=A,=T,=A,=A,=A,=A,=G,=A,=G,=T,=T,=A,=A,=A,=G,=C,=C,=T,=G,=C,=T,=G,=T,=G,=T,=A,=T,=T,=T,=A,=G,=A,=A,=T,=A,=T,=G,=T,=G,=A,=A,=T,=A,=C,=C,=T,=A,=T,=T,=G,+A|=A,=A,=A,=G,=A,=A,=T,=T,=T,=A,=T,=T,=G,=T,=A,=C,=A,=A,=T,=T,=A,=A,=T,=A,=T,=A,=A,=A,=C,=A,=G,=A,=C,=T,=T,=C,=T,=A,=T,=T,=T,=T,=A,=C,=A,=G,=T,=C,=A,=T,=A,=A,=G,=A,=T,=A,=C,=T,=A,=C,=T,=T,=A,=A,=T,=T,=T,=G,=T,=T,=A,=A,=A,=A,=A,=T,=T,=A,=T,=T,=T,=T,=T,=T,=G,=A,=T,=A,=G,=C,=A,=T,=T,=G,=T,=T,=G,=G,=T,=A,=A,=A,=T,=A,=G,=C,=A,=A,=A,=G,=G,=T,=G,=A,=T,=A,=T,=T,=T,=G,=C,=T,=A,=A,=T,=G,=A,=T,=T,=A,=C,=A,=A,-G,=G,=G,=C,=T,=G,=T,=C,=T,=G,=G,=C,=T,=A,=A,=C,+T|=T,=T,=A,=C,=G,=T,=T,=A,=T,=G,=T,=T,=C,=A,=G,=G,=G,=A,=G,=A,=A,=G,*AG,=C,+A|=A,=G,=T,=C,=C,=T,=T,=T,=T,=T,-A,=A,=G,=G,=A,=A,=T,*GA,=G,=G,=C,=A,=C,=T,=T,=T,=C,=T,=A,=A,=C,=T,=T,=T,=T,=T,=T,=T,=C,=T,=C,=T,=A,=G,=G,=A,=T,=G,=G,=A,=G,=A,=A,=A,=A,=A,=T,=T,=A,=G,=C,=C,=T,=T,=C,=T,=T,=C,=C,=T,=A,=C,=T,=T,=T,=A,=A,=A,=A,=A,=T,=G,=T,=T,=A,=G,=A,=C,=A,=T,=A,=G,=A,=A,=T,=T,=A,=A,=G,=G,=G,=A,=T,=T,=G,=T,=T,=A,=T,=T,=T,=T,=G,=A,=G,=A,=T,=T,=A,=A,=A,=T,=T,=T,=T,=C,=T,=T,=T,=T,=C,=T,=C,=C,=T,=A,=T,=T,=A,-T,=T,=T,=T,=T,=C,=C,=T,=C,=A,=T,=T,=C,=T,=G,=G,=A,=A,=T,=G,=G,=A,=A,=G,=C,=A,=A,=A,=A,=G,=A,=T,=G,=A,=A,=G,=A,=A,=A,=G,=A,=A,=A,=T,=A,=T,=A,=T,=G,=T,=T,-A,=A,=A,*TG,=T,=G,=T,=T,=T,=T,=C,=C,=T,=T,=T,=A,=A,=A,=T,=G,=A,=A,=C,=A,=C,=A,=A,=A,=T,=G,=T,=G,=A,=A,=A,=T,=A,=T,=G,=T,=T,=T,=T,=T,=C,=T,=G,=C,=C,=T,=A,=T,=C,=T,=T,=G,=T,=A,=A,=A,=A,=T,=T,=T,=T,=C,=T,=A,=T,=T,=G,=C,=A,=A,=C,=T,=A,=T,=T,=C,=T,=G,=A,=T,=T,=A,=C,=C,=A,=G,=T,=T,=C,=A,=A,=A,=T,-G,=G,=G,=G,=A,=A,=A,=A,=A,=A,=G,=A,=A,=C,=A,=T,=A,=G,=G,=C,=T,=A,=C,=C,=C,=C,=A,=C,=A,=C,=T,=T,=G,=A,=A,=A,=T,=T,=T,=T,=G,=A,=A,=A,=T,=A,=T,=G,=A,=A,=T,=G,=T,=C,=C,=T,=C,=T,=G,=T,=C,=T,=C,=T,=G,=C,=T,=G,=G,=T,=C,=T,=A,=A,=C,=A,=C,=T,=T,=C,=C,=A,=A,=A,=A,=T,=G,=G,=A,=A,=A,=C,=C,=T,=T,=T,=A,=A,=A,=G,=G,=G,=C,=C,=A,=C,=T,=G,=T,=A,=A,=A,=T,=T,=A,=C,=A,=G,=C,=T,=G,=C,=T,=A,=A,=T,=T,=C,=C,=T,=G,=G,=T,=G,=C,=C,=A,=A,=T,=G,=G,=T,=G,=A,=T,=A,=A,=G,=T,=G,=T,=T,=T,=A,=C,=T,=A,=A,=A,=C,=C,=T,=A,=G,=T,=G,=A,=G,=T,=A,=C,=T,=T,=T,=A,=T,=A,=G,=C,=A,=T,=G,=G,=G,=G,=C,=T,=C,=T,=G,=C,=T,=G,=C,-G,-A,=A,=G,=T,=A,=A,=C,=A,=T,=T,=G,=C,+T|=T,=G,=T,=A,=T,=A,=T,=T,=T,=T,=C,=A,=G,=T,=C,=A,=T,=T,=C,=T,=A,=C,=C,=T,=T,=A,=A,=T,=T,=C,=A,=T,=G,=A,=A,=C,=T,=G,=C,=A,=A,=A,=A,=C,=T,=C,=T,=C,=A,=T,=C,=T,=A,=G,=C,=T,=T,=T,=T,=T,=A,=C,=T,=T,=C,=T,=C,=T,=A,=G,=C,=T,=A,=T,=T,=G,=C,=T,=T,=T,+A|=A,=A,=G,=T,=T,=C,=T,=A,=T,=C,=A,=G,=G,=C,=T,=C,=A,=G,=G,=T,=G,=T,=G,=G,=A,=A,=T,=T,=C,=T,=C'}\n"
     ]
    }
   ],
   "source": [
    "print(midsv_sample[0])"
   ]
  },
  {
   "attachments": {},
   "cell_type": "markdown",
   "metadata": {},
   "source": [
    "- `_create_replace_dict`において、`cssplits = list(cssplits)`を無くします"
   ]
  },
  {
   "cell_type": "code",
   "execution_count": 77,
   "metadata": {},
   "outputs": [],
   "source": [
    "def _create_replace_dict(midsv_sample: dict[list[str, str]], mutation_loci: dict[str, set[int]]) -> tuple(defaultdict, defaultdict[set]):\n",
    "    cssplits_sampling = defaultdict(lambda: Counter([\"N\"]))\n",
    "    cssplits_error_kmer = defaultdict(set)\n",
    "    for cssplits in (cs[\"CSSPLIT\"].split(\",\") for cs in midsv_sample):\n",
    "        for idx_seq, cs in enumerate(cssplits):\n",
    "            if idx_seq == len(mutation_loci) - 1:\n",
    "                break\n",
    "            if idx_seq == 0:\n",
    "                one_prior = cs\n",
    "                continue\n",
    "            if idx_seq == 1:\n",
    "                two_prior = cs\n",
    "                continue\n",
    "            if cs[0] in mutation_loci[idx_seq] or cs.startswith(\"=\") or cs == \"N\" or re.search(r\"a|c|g|t|n\", cs):\n",
    "                cssplits_sampling[idx_seq] += Counter([cs])\n",
    "            else:\n",
    "                kmer = \",\".join([one_prior, two_prior, cs])\n",
    "                cssplits_error_kmer[idx_seq].add(kmer)\n",
    "            one_prior, two_prior = two_prior, cs\n",
    "    return cssplits_sampling, cssplits_error_kmer\n"
   ]
  },
  {
   "cell_type": "code",
   "execution_count": 78,
   "metadata": {},
   "outputs": [],
   "source": [
    "cssplits_sampling, cssplits_error_kmer = _create_replace_dict(midsv_sample[:100], mutation_loci)"
   ]
  },
  {
   "cell_type": "code",
   "execution_count": 79,
   "metadata": {},
   "outputs": [
    {
     "name": "stdout",
     "output_type": "stream",
     "text": [
      "Counter({'=T': 91, 'N': 1})\n",
      "{'=C,=A,+T|+G|=T', '=C,=A,+T|=T', '=C,=A,+T|+T|=T', '=C,-A,-T', '=C,=A,-T'}\n",
      "set()\n"
     ]
    }
   ],
   "source": [
    "idx = 308\n",
    "print(cssplits_sampling[idx])\n",
    "print(cssplits_error_kmer[idx])\n",
    "print(mutation_loci[idx])"
   ]
  },
  {
   "attachments": {},
   "cell_type": "markdown",
   "metadata": {},
   "source": [
    "- やはり、`cssplits_sampling`にはkmerの情報をもたせるべき\n",
    "- defaultdictで管理すべきか、リストにすべきかは後で検討します"
   ]
  },
  {
   "cell_type": "code",
   "execution_count": 158,
   "metadata": {},
   "outputs": [],
   "source": [
    "def _create_replace_dict(midsv_sample: dict[list[str, str]], mutation_loci: dict[str, set[int]]) -> tuple(defaultdict, defaultdict[set]):\n",
    "    cssplits_sampling = defaultdict(lambda: defaultdict(lambda: Counter([\"N\"])))\n",
    "    for cssplits in (cs[\"CSSPLIT\"].split(\",\") for cs in midsv_sample):\n",
    "        for idx_seq, cs in enumerate(cssplits):\n",
    "            if idx_seq == len(mutation_loci) - 1:\n",
    "                break\n",
    "            if idx_seq == 0:\n",
    "                one_prior = cs\n",
    "                continue\n",
    "            if idx_seq == 1:\n",
    "                two_prior = cs\n",
    "                continue\n",
    "            if cs[0] in mutation_loci[idx_seq] or cs.startswith(\"=\") or cs == \"N\" or re.search(r\"a|c|g|t|n\", cs):\n",
    "                prev_cs = f\"{one_prior},{two_prior}\"\n",
    "                cssplits_sampling[idx_seq][prev_cs] += Counter([cs])\n",
    "            one_prior, two_prior = two_prior, cs\n",
    "    return cssplits_sampling"
   ]
  },
  {
   "cell_type": "code",
   "execution_count": 159,
   "metadata": {},
   "outputs": [
    {
     "name": "stdout",
     "output_type": "stream",
     "text": [
      "defaultdict(<function _create_replace_dict.<locals>.<lambda>.<locals>.<lambda> at 0x7f4356e876d0>, {'=C,=A': Counter({'=T': 90, 'N': 1}), '+C|=C,=A': Counter({'N': 1, '=T': 1})})\n",
      "2842\n",
      "set()\n"
     ]
    }
   ],
   "source": [
    "cssplits_sampling = _create_replace_dict(midsv_sample[:100], mutation_loci)\n",
    "idx = 308\n",
    "print(cssplits_sampling[idx])\n",
    "print(len(cssplits_sampling))\n",
    "print(mutation_loci[idx])\n"
   ]
  },
  {
   "cell_type": "code",
   "execution_count": 155,
   "metadata": {},
   "outputs": [],
   "source": [
    "def _get_ignorable_nucreotide_index(midsv_sample: dict[list[str, str]], mutation_loci) -> set[int]:\n",
    "    \"\"\" if all nucreotides are match or unknown, then ignore the index of the nucreotide\n",
    "    \"\"\"\n",
    "    unignorable_nucreotide_index = set()\n",
    "    for cssplits in (cs[\"CSSPLIT\"].split(\",\") for cs in midsv_sample):\n",
    "        for i, cs in enumerate(cssplits):\n",
    "            if not (cs[0] in mutation_loci[i] or cs.startswith(\"=\") or cs == \"N\" or re.search(r\"a|c|g|t|n\", cs)):\n",
    "                unignorable_nucreotide_index.add(i)\n",
    "    ignorable_nucreotide_index = set(range(i)) - unignorable_nucreotide_index\n",
    "    return ignorable_nucreotide_index\n"
   ]
  },
  {
   "cell_type": "code",
   "execution_count": 157,
   "metadata": {},
   "outputs": [
    {
     "name": "stdout",
     "output_type": "stream",
     "text": [
      "6\n",
      "{0, 1, 2, 2841, 2842, 2843}\n",
      "False\n",
      "False\n",
      "set()\n",
      "set()\n"
     ]
    }
   ],
   "source": [
    "x = _get_ignorable_nucreotide_index(midsv_sample, mutation_loci)\n",
    "print(len(x))\n",
    "print(x)\n",
    "print(828 in x)\n",
    "print(0 in mutation_loci)\n",
    "print(mutation_loci[0])\n",
    "print(mutation_loci[3])"
   ]
  },
  {
   "cell_type": "code",
   "execution_count": 151,
   "metadata": {},
   "outputs": [
    {
     "name": "stdout",
     "output_type": "stream",
     "text": [
      "defaultdict(<class 'int'>, {'=T': 4833, 'N': 163, '*TG': 1, '*TC': 2, '+T|+A|=T': 1})\n"
     ]
    }
   ],
   "source": [
    "count = defaultdict(int)\n",
    "for cssplits in (cs[\"CSSPLIT\"].split(\",\") for cs in midsv_sample):\n",
    "    cs = cssplits[5]\n",
    "    count[cs] += 1\n",
    "\n",
    "print(count)"
   ]
  },
  {
   "attachments": {},
   "cell_type": "markdown",
   "metadata": {},
   "source": [
    "- 計算が重たくなりそうなので補正が必要ないインデックスがあれば嬉しいと思い、`_get_ignorable_nucreotide_index`を作りましたがignorableなインデックスは殆どないことがわかりましたのでお蔵入りとなりました😭"
   ]
  },
  {
   "cell_type": "code",
   "execution_count": 161,
   "metadata": {},
   "outputs": [
    {
     "name": "stdout",
     "output_type": "stream",
     "text": [
      "Counter({'=T': 90, 'N': 1})\n"
     ]
    }
   ],
   "source": [
    "cssplits_sampling = _create_replace_dict(midsv_sample[:100], mutation_loci)\n",
    "idx = 308\n",
    "prev_cs = '=C,=A'\n",
    "print(cssplits_sampling[idx][prev_cs])\n"
   ]
  },
  {
   "cell_type": "code",
   "execution_count": 178,
   "metadata": {},
   "outputs": [],
   "source": [
    "def _correct_errors(midsv_sample, mutation_loci, cssplits_sampling) -> Generator[tuple[str, str]]:\n",
    "    random.seed(1)\n",
    "    for samp in midsv_sample:\n",
    "        qname = samp[\"QNAME\"]\n",
    "        cssplits = samp[\"CSSPLIT\"].split(\",\")\n",
    "        for idx_seq, cs in enumerate(cssplits):\n",
    "            if idx_seq == len(mutation_loci) - 1:\n",
    "                break\n",
    "            if idx_seq == 0:\n",
    "                one_prior = cs\n",
    "                continue\n",
    "            if idx_seq == 1:\n",
    "                two_prior = cs\n",
    "                continue\n",
    "            if not (cs[0] in mutation_loci[idx_seq] or cs.startswith(\"=\") or cs == \"N\" or re.search(r\"a|c|g|t|n\", cs)):\n",
    "                prev_cs = f\"{one_prior},{two_prior}\"\n",
    "                sampling = cssplits_sampling[idx_seq][prev_cs]\n",
    "                cssplits[idx_seq] = random.choices(*zip(*sampling.items()))[0]\n",
    "            one_prior, two_prior = two_prior, cs\n",
    "        cssplits_joined = \",\".join(cssplits)\n",
    "        yield (qname, cssplits_joined)\n",
    "\n"
   ]
  },
  {
   "cell_type": "code",
   "execution_count": 179,
   "metadata": {},
   "outputs": [],
   "source": [
    "x = _correct_errors(midsv_sample, mutation_loci, cssplits_sampling)"
   ]
  },
  {
   "cell_type": "code",
   "execution_count": 180,
   "metadata": {},
   "outputs": [
    {
     "name": "stdout",
     "output_type": "stream",
     "text": [
      "('00077750-d7ab-4c73-ac65-8707d39936c2', '=T,=G,=C,=A,=T,=T,=G,=A,=A,=G,=C,=A,=G,=T,=T,=C,=A,=C,=C,=A,=A,=A,=A,=T,=A,=A,=C,=A,=A,=A,=G,=T,=A,=A,=C,=A,=A,=A,=G,=T,=A,=A,=G,=A,=T,=A,=T,=C,=T,=T,=T,=G,=G,=A,=A,=T,=A,=A,=T,=C,=A,=A,=T,=T,=C,=A,=A,=G,=A,=T,=A,=A,=T,=C,=A,=A,=G,=G,=A,=A,=A,=A,=A,=T,=G,=A,=G,=A,=G,=G,=C,=A,=A,=C,=T,=A,=T,=T,=T,=T,=A,=G,=A,=C,=T,=G,=A,=T,=T,=A,=C,=T,=T,=T,=T,=A,=T,=A,=A,=A,=A,=T,=A,=A,=A,=T,=A,=A,=G,=C,=T,=C,=A,=G,=C,=T,=T,=A,=G,=C,=C,=A,N,=A,=T,=A,=T,=A,=A,=G,=C,=A,=A,=T,=A,=T,=T,=C,=T,=G,=A,=G,=T,=T,=C,=T,=G,=A,=A,=G,=A,=A,=A,=A,=A,=T,=T,=T,=T,=T,=G,=A,=C,=A,=A,=A,=A,=T,=G,=A,=G,=T,=T,=C,=T,=A,=T,=A,=A,=A,=T,=G,=T,=T,=A,=T,=T,=G,=T,=C,=T,=A,=C,=T,=T,=A,=T,=G,=A,=T,=C,=T,=C,=T,=A,=A,=A,=T,=A,=C,=A,=A,=C,=A,=G,=G,=C,=T,=T,=G,=T,=A,=T,=T,=C,=A,=G,=A,=A,=T,=C,=T,=A,=G,=A,=T,=G,=T,=T,=T,=C,=A,=T,=G,=A,=C,=C,=T,=T,=T,=A,=T,=T,=C,=A,=T,=A,=A,=G,=A,=G,=A,=T,=G,=A,=T,=G,=T,=A,=T,=T,=C,=T,=T,=G,=A,=T,=A,=C,=T,=A,=C,=T,=T,=C,=T,=C,=A,=T,=T,=T,=G,=C,=A,=A,=A,=T,=T,=C,=C,=A,=A,=T,=T,=A,=T,=T,=A,=T,=T,=A,=A,=T,=T,=T,=C,=A,=T,=A,=T,=C,=A,=A,=T,=T,=A,=G,=A,=A,=T,=A,=A,=T,=A,=T,=A,=T,=C,=T,=T,=C,=C,=T,=T,=C,=A,=A,=T,=T,=T,=A,N,=T,=T,=A,=C,=C,=T,=C,=A,=C,=T,=A,=T,=G,=G,=G,=C,=T,=A,=T,=G,=T,=A,=C,=A,=A,=A,=C,=T,=C,=C,=A,=A,=G,=A,=A,=A,=A,=A,=G,=T,=T,=A,=G,=T,=C,=A,=T,=G,=T,=G,=C,=T,=T,=T,=G,=C,=A,=G,=A,=A,=G,=A,=T,=A,=A,=A,=A,=G,=C,=T,=T,=A,=G,=T,=G,=T,=A,=A,=A,=A,=C,=A,=G,=G,=C,=T,=G,=A,=G,=A,=G,=T,=A,=T,=T,=T,=G,=A,=T,=G,=T,=A,=A,=G,=A,=A,N,=G,=G,=G,=A,=G,=T,=G,=G,=T,=T,=A,=T,=A,=T,=A,=G,=G,=T,=C,=T,=T,=A,=G,=C,=C,=A,=A,=A,=A,=C,=A,=T,=G,=T,=G,=A,=T,=A,=G,=T,=C,=A,=C,=T,=C,=C,=A,=G,=G,=G,=G,=T,=T,=G,=C,=T,=G,=G,=A,=A,=A,=A,=G,=A,=A,=G,=T,=C,=T,=G,=T,=G,=A,=C,=A,=C,=T,=C,=A,=T,=T,=A,=A,=C,=C,=T,=A,=T,=T,=G,=G,=T,=G,=C,=A,=G,=A,=T,=T,=T,=T,=G,=T,=A,=T,=G,=A,=T,=C,=T,=A,=A,=A,=G,=G,=A,=G,=A,=A,=A,=A,=T,=G,=T,=T,=C,=T,=T,=G,=G,=C,=T,=G,=T,=T,=T,=T,=G,=T,=A,=T,=T,=G,=C,=C,=T,=T,=C,=T,=G,=T,=G,=G,=A,=G,=T,=T,=T,=C,=C,=A,=G,=A,=T,=C,=T,=C,=T,=G,=A,=T,=G,=G,=C,=C,=A,=T,=T,=T,=T,=C,=C,=T,=C,=G,=A,=G,=C,=C,=T,=G,=T,=G,=C,=C,=T,=C,=C,=T,=C,=T,=A,=A,=G,=A,=A,=C,=T,=T,=G,=T,=T,=G,=G,=C,=A,=A,=A,=A,=G,=A,=A,=T,=G,=C,=T,=G,=C,=C,=C,=A,=C,=C,=A,=T,=G,=G,=A,=T,=G,=G,=G,=T,=G,=A,=T,=G,=G,=G,=A,=G,=T,=C,=C,=C,=T,=G,=C,=G,=G,=C,=C,=A,=G,=C,=T,=T,=T,=C,=A,=G,=G,=C,=A,=G,=A,=G,=G,=T,=T,=C,=C,=T,=G,=C,=C,=A,=G,=G,=A,=T,=A,=T,=C,=C,=T,=T,=C,=T,=G,=T,=C,=C,=A,=G,=T,=G,=C,=A,=C,=C,=A,=T,=C,=T,=G,=G,=A,=C,=C,=T,=C,=A,=G,=T,=T,=C,=C,=C,=C,=T,=T,=C,=A,=A,=A,=G,=G,=G,=G,=T,=G,=G,=A,=T,=G,=A,=C,=C,=G,=T,=G,=A,=G,=T,=C,=C,=T,=G,=G,=C,=C,=C,=T,=C,=T,=G,=T,=G,=T,=T,=T,=T,=A,=T,=A,=A,=T,=A,=G,=G,=A,=C,=C,=T,=G,=C,=C,=A,=G,=T,=G,=C,=T,=C,=A,=G,=G,=C,=A,=A,=C,=T,=T,=C,=A,=T,=G,=G,=G,=T,=T,=T,=C,=A,=A,=C,=T,=G,=C,=G,=G,=A,=A,=A,=C,=T,=G,=T,=A,=A,=G,=T,=T,=T,=G,=G,=A,=T,=T,=T,=G,=G,=G,=G,=G,=C,=C,=C,=A,=A,=A,=T,=T,=G,=T,=A,=C,=A,=G,=A,=G,=A,=A,=G,=C,=G,=A,=G,=T,=C,=T,=T,=G,=A,=T,=T,=A,=G,=A,=A,=G,=A,=A,=A,=C,=A,=T,=T,=T,=T,=T,=G,=A,=T,=T,=T,=G,=A,=G,=T,=G,=T,=C,=T,=C,=C,=G,=A,=A,=A,=A,=G,=A,=A,=T,=A,=A,=G,=T,=T,=C,=T,=T,=T,=T,=C,=T,N,=A,=C,=C,=T,=C,=A,=C,=T,=T,=T,=A,=G,=C,=A,=A,=A,=A,=C,=A,=T,=A,=C,=T,=A,=T,=C,=A,=G,=C,=T,=C,=A,=G,=T,=C,=T,=A,=T,=G,=T,=C,=A,=T,=C,=C,=C,=C,=A,=C,=A,=G,=G,=C,=A,=C,=C,=T,=A,=T,=G,=G,=C,=C,=A,=A,=A,=T,=G,=A,=A,=C,=A,=A,=T,=G,=G,=G,=T,=C,=A,=A,=C,=A,=C,=C,=C,=A,=T,=G,=T,=T,=T,=A,=A,=T,=G,=A,=T,=A,=T,=C,=A,=A,=C,=A,=T,=C,=T,=A,=C,=G,=A,=C,=C,=T,=C,=T,=T,=T,=G,=T,=A,=T,=G,=G,=A,=T,=G,=C,=A,=T,=T,=A,=C,=T,=A,=T,=G,=T,=G,=T,=C,=A,=A,=G,=G,=G,=A,=C,=A,=C,=A,=C,=T,=G,=C,=T,=T,=G,=G,=G,=G,=G,=C,=T,=C,=T,=G,=A,=A,=A,=T,=A,=T,=G,=G,=A,=G,=G,=G,=A,=C,=A,=T,=T,=G,=A,=T,=T,=T,=T,=G,=C,=C,=C,=A,=T,=G,=A,=A,=G,=C,=A,=C,=C,=A,=G,=G,=G,=T,=T,=T,=C,=T,=G,=C,=C,=T,=T,*GA,=G,=C,=A,=C,=A,=G,=A,=C,=T,=T,=T,=T,=C,=T,=T,=G,=T,=T,=A,=T,=T,=G,=T,=G,=G,=G,=A,=A,=C,=A,=A,=G,=A,=A,=A,=T,=T,=C,=G,=A,=G,=A,N,N,=T,=A,=A,=C,=T,=G,=G,=G,=G,=A,=T,=G,=A,=G,=A,=A,=C,=T,=T,N,N,=C,=T,=G,=T,=T,=C,=C,=A,=T,=A,=C,=T,=G,=G,=G,=A,=T,=T,=G,=G,=A,=G,=A,=G,=A,=T,=G,=C,=A,=G,=A,=A,=A,=A,=C,=T,=G,=T,=G,=A,=C,=A,=T,=T,=T,=G,=C,=A,=C,=A,=G,=A,=T,=G,=A,=G,=T,=A,=C,=T,=T,=G,=G,=G,=A,=G,=G,=T,=C,=G,=T,=C,=A,=C,=C,=C,=T,=G,=A,=A,=A,=A,=T,=C,=C,=T,=A,=A,=C,=T,N,=A,=C,=T,=C,=A,=G,=C,=C,=C,=A,=G,=C,=A,=T,=C,=C,=T,=T,=C,=T,=T,=C,=T,=C,=C,=T,=C,=C,=T,=G,=G,=C,=A,-G,N,=T,=A,=A,=G,=A,=T,=G,=C,=A,=C,=T,=A,=T,=A,=T,=A,N,=A,=G,=A,=G,=A,=G,=T,=T,=G,=C,=A,=A,=A,=G,=A,=C,=T,=G,=G,=T,=A,=C,=T,=T,=C,=A,=G,=C,=A,=G,=C,=C,=A,=C,=A,=T,=T,=T,=T,=C,=A,=T,=G,=C,=T,=C,=T,=G,=T,=G,=A,=G,=C,=A,=T,=C,=T,=C,=T,=G,=A,=T,=A,=A,=T,=A,=T,=C,=T,=C,=A,=G,=G,N,=C,=A,=G,N,=A,=A,=A,=T,=G,=T,=G,=C,=C,=T,=T,=A,=C,=T,=A,=A,=C,=A,=G,=A,=T,=G,=T,=T,=A,=A,=T,=G,=C,=T,=T,=C,=T,=T,=G,=A,=T,=T,=T,=C,=T,=T,=T,=T,=T,=C,=T,=C,=T,=T,=T,=T,=G,=A,=G,=A,=A,=C,=T,=C,=T,=T,=C,=A,=A,=A,=G,=T,=T,=G,=T,=T,=A,=T,=T,=A,=A,=A,=C,=A,=A,=A,=T,=A,=T,=C,=T,=A,=T,=G,=T,=G,=C,=T,=T,=A,=T,=T,=T,=G,=T,=C,=T,=T,=A,=A,=T,=A,=T,=C,=T,=A,=A,=C,=A,=G,=C,=T,=T,=A,=G,=T,=T,=A,=G,=A,=T,=T,=T,=C,=T,=A,=A,=G,=C,=T,=G,=C,=T,=A,=T,=A,=A,=A,=C,=A,=A,=G,=G,=A,=C,=T,=G,=A,=T,=T,=G,=G,=T,=T,=C,=A,=C,=C,=A,=C,=T,=G,=T,=A,=T,=T,=G,=T,=T,=A,=G,=C,=A,=C,=C,=T,=C,=C,=T,=A,=T,=G,=G,=T,=A,=T,=C,=T,=G,=G,=A,=A,=T,=A,=A,=A,=C,=A,=G,=T,=A,=A,=C,=T,=C,=A,=G,=T,=T,=A,=T,=T,=T,=A,=A,=G,=A,=A,=T,=G,=G,=A,=T,=G,=A,=G,=A,=A,=A,=C,=C,=A,=G,=A,=T,=T,=A,=T,=C,=T,=T,=A,=G,=T,=T,=C,=A,=T,=G,=T,=T,=T,=C,=T,=G,=A,=G,=T,=A,=A,=T,=A,=T,=T,=A,=A,=A,=A,=T,=T,=A,=A,=T,=A,=T,=T,=A,=A,=C,=A,=G,=T,=A,=A,=A,=A,=T,=C,=C,=A,=T,=A,=A,=G,=T,=A,=T,=G,=C,=T,=A,=C,=T,=T,=T,=A,=A,=A,=A,=T,=A,=T,=A,=A,=A,=T,=C,=T,=C,=T,=G,=G,=C,=C,=A,=A,=A,=A,=C,=C,=A,=A,=G,=A,=C,=T,=T,=A,=T,=T,=A,=T,=T,=C,=A,=G,=G,=A,=T,=C,=T,=T,=C,=A,=A,=G,=A,=G,=A,=A,=A,=G,=T,=G,=C,=T,=G,=A,=G,=A,=T,=A,=A,=T,=T,=C,=A,=C,=T,=A,=A,=G,=T,=A,=T,=C,=A,=G,=A,=G,=A,=T,=G,=A,=C,=C,=T,=T,=T,=A,=T,=T,=A,=C,=A,=T,=G,=A,=T,=T,=G,=C,=C,=T,=G,=A,=T,=A,=G,=A,=A,=A,=A,=A,=A,=T,=G,=A,=T,=T,=A,=C,=A,=C,=A,=C,=A,=C,=A,=C,=A,=A,=A,=A,=A,=A,=A,=T,=C,=T,=T,=C,=A,=G,=T,=T,=G,=C,=T,=T,=A,=A,=A,=T,=T,=T,=T,=A,=A,=A,=C,=G,=T,=T,=G,=C,=T,=G,=A,=C,=T,=C,=T,=C,=A,=A,=A,=C,=A,=G,=T,=T,=A,=A,=G,=T,=A,=A,=T,=A,=A,=A,=A,=G,=A,=G,=T,=T,=A,=A,=A,=G,=C,=C,=T,=G,=C,=T,=G,=T,=G,=T,=A,=T,=T,=T,=A,=G,=A,=A,=T,=A,=T,=G,=T,=G,=A,=A,=T,=A,=C,=C,=T,=A,=T,=T,=G,=A,=A,=A,=G,=A,=A,=T,=T,=T,=A,=T,=T,=G,=T,=A,=C,=A,=A,=T,=T,=A,=A,=T,=A,=T,=A,=A,=A,=C,=A,=G,=A,=C,=T,=T,=C,=T,=A,=T,=T,=T,=T,=A,=C,=A,=G,=T,=C,=A,=T,=A,=A,=G,=A,=T,=A,=C,=T,=A,=C,=T,=T,=A,=A,=T,=T,=T,=G,=T,=T,=A,=A,=A,=A,=A,=T,=T,=A,=T,=T,=T,=T,=T,=T,=G,=A,=T,=A,=G,=C,=A,=T,=T,=G,=T,=T,=G,=G,=T,=A,=A,=A,=T,=A,=G,=C,=A,=A,=A,=G,=G,=T,=G,=A,=T,=A,=T,=T,=T,=G,=C,=T,=A,=A,=T,=G,=A,=T,=T,=A,=C,=A,=A,=G,=G,=G,=C,=T,=G,=T,=C,=T,=G,=G,=C,=T,=A,=A,=C,=T,=T,=A,=C,=G,=T,=T,=A,=T,=G,=T,=T,=C,=A,=G,=G,=G,=A,=G,=A,=A,=G,=A,=C,+A|=A,=G,=T,=C,=C,=T,=T,=T,=T,=T,=A,=A,=G,=G,=A,=A,=T,=G,=G,=G,=C,=A,=C,=T,=T,=T,=C,=T,=A,=A,=C,=T,=T,=T,=T,=T,=T,=T,=C,=T,=C,=T,=A,=G,=G,=A,=T,=G,=G,=A,=G,=A,=A,=A,=A,=A,=T,=T,=A,=G,=C,=C,=T,=T,=C,=T,=T,=C,=C,=T,=A,=C,=T,=T,=T,=A,=A,=A,=A,=A,=T,=G,=T,=T,=A,=G,=A,=C,=A,=T,=A,=G,=A,=A,=T,=T,=A,=A,=G,=G,=G,=A,=T,=T,=G,=T,=T,=A,=T,=T,=T,=T,=G,=A,=G,=A,=T,=T,=A,=A,=A,=T,=T,=T,=T,=C,=T,=T,=T,=T,=C,=T,=C,=C,=T,=A,=T,=T,=A,=T,=T,=T,=T,=T,=C,=C,=T,=C,=A,=T,=T,=C,=T,=G,=G,=A,=A,=T,=G,=G,=A,=A,=G,=C,=A,=A,=A,=A,=G,=A,=T,=G,=A,=A,=G,=A,=A,=A,=G,=A,=A,=A,=T,=A,=T,=A,=T,=G,=T,=T,=A,=A,=A,=T,=T,=G,=T,=T,=T,=T,=C,=C,=T,=T,=T,=A,=A,=A,=T,=G,=A,=A,=C,=A,=C,=A,=A,=A,=T,=G,=T,=G,=A,=A,=A,=T,=A,=T,=G,=T,=T,=T,=T,=T,=C,=T,=G,=C,=C,=T,=A,=T,=C,=T,=T,=G,=T,=A,=A,=A,=A,=T,=T,=T,=T,=C,=T,=A,=T,=T,=G,=C,=A,=A,=C,=T,=A,=T,=T,=C,=T,=G,=A,=T,=T,=A,=C,=C,=A,=G,=T,=T,=C,=A,=A,=A,=T,=G,=G,=G,=G,=A,=A,=A,=A,=A,=A,=G,=A,=A,=C,=A,=T,=A,=G,=G,=C,=T,=A,=C,=C,=C,=C,=A,=C,=A,=C,=T,=T,=G,=A,=A,=A,=T,=T,=T,=T,=G,=A,=A,=A,=T,=A,=T,=G,=A,=A,=T,=G,=T,=C,=C,=T,=C,=T,=G,=T,=C,=T,=C,=T,=G,=C,=T,=G,=G,=T,=C,=T,=A,=A,=C,=A,=C,=T,=T,=C,=C,=A,=A,=A,=A,=T,=G,=G,=A,=A,=A,=C,=C,=T,=T,=T,=A,=A,=A,=G,=G,=G,=C,=C,=A,=C,=T,=G,=T,=A,=A,=A,=T,=T,=A,=C,=A,=G,=C,=T,=G,=C,=T,=A,=A,=T,=T,=C,=C,=T,=G,=G,=T,=G,=C,=C,=A,=A,=T,=G,=G,=T,=G,=A,=T,=A,=A,=G,=T,=G,=T,=T,=T,=A,=C,=T,=A,=A,=A,=C,=C,=T,=A,=G,=T,=G,=A,=G,=T,=A,=C,=T,=T,=T,=A,=T,=A,=G,=C,=A,=T,=G,=G,=G,=G,=C,=T,=C,=T,=G,=C,=T,=G,=C,=G,N,=A,=G,=T,=A,=A,=C,=A,=T,=T,=G,=C,=T,=G,=T,=A,=T,=A,=T,=T,=T,=T,=C,=A,=G,=T,=C,=A,=T,=T,=C,=T,=A,=C,=C,=T,=T,=A,=A,=T,=T,=C,=A,=T,=G,=A,=A,=C,=T,=G,=C,=A,=A,=A,=A,=C,=T,=C,=T,=C,=A,=T,=C,=T,=A,=G,=C,=T,=T,=T,=T,=T,=A,=C,=T,=T,=C,=T,=C,=T,=A,=G,=C,=T,=A,=T,=T,=G,=C,=T,=T,=T,=A,=A,=G,=T,=T,=C,=T,=A,=T,=C,=A,=G,=G,=C,=T,=C,=A,=G,=G,=T,=G,=T,=G,=G,=A,=A,=T,=T,=C,=T,=C')\n"
     ]
    }
   ],
   "source": [
    "print(next(x))"
   ]
  },
  {
   "cell_type": "code",
   "execution_count": 181,
   "metadata": {},
   "outputs": [],
   "source": [
    "\n",
    "def _sampling_cssplits(midsv_sample: dict[list[str, str]], mutation_loci: dict[str, set[int]]) -> defaultdict:\n",
    "    cssplits_sampling = defaultdict(lambda: defaultdict(lambda: Counter([\"N\"])))\n",
    "    for cssplits in (cs[\"CSSPLIT\"].split(\",\") for cs in midsv_sample):\n",
    "        for idx_seq, cs in enumerate(cssplits):\n",
    "            if idx_seq == len(mutation_loci) - 1:\n",
    "                break\n",
    "            if idx_seq == 0:\n",
    "                one_prior = cs\n",
    "                continue\n",
    "            if idx_seq == 1:\n",
    "                two_prior = cs\n",
    "                continue\n",
    "            if cs[0] in mutation_loci[idx_seq] or cs.startswith(\"=\") or cs == \"N\" or re.search(r\"a|c|g|t|n\", cs):\n",
    "                prev_cs = f\"{one_prior},{two_prior}\"\n",
    "                cssplits_sampling[idx_seq][prev_cs] += Counter([cs])\n",
    "            one_prior, two_prior = two_prior, cs\n",
    "    return cssplits_sampling\n",
    "\n",
    "def _correct_errors(midsv_sample, mutation_loci, cssplits_sampling) -> Generator[tuple[str, str]]:\n",
    "    random.seed(1)\n",
    "    for samp in midsv_sample:\n",
    "        qname = samp[\"QNAME\"]\n",
    "        cssplits = samp[\"CSSPLIT\"].split(\",\")\n",
    "        for idx_seq, cs in enumerate(cssplits):\n",
    "            if idx_seq == len(mutation_loci) - 1:\n",
    "                break\n",
    "            if idx_seq == 0:\n",
    "                one_prior = cs\n",
    "                continue\n",
    "            if idx_seq == 1:\n",
    "                two_prior = cs\n",
    "                continue\n",
    "            if not (cs[0] in mutation_loci[idx_seq] or cs.startswith(\"=\") or cs == \"N\" or re.search(r\"a|c|g|t|n\", cs)):\n",
    "                prev_cs = f\"{one_prior},{two_prior}\"\n",
    "                sampling = cssplits_sampling[idx_seq][prev_cs]\n",
    "                cssplits[idx_seq] = random.choices(*zip(*sampling.items()))[0]\n",
    "            one_prior, two_prior = two_prior, cs\n",
    "        cssplits_joined = \",\".join(cssplits)\n",
    "        yield (qname, cssplits_joined)"
   ]
  },
  {
   "cell_type": "code",
   "execution_count": 185,
   "metadata": {},
   "outputs": [],
   "source": [
    "midsv_sample = midsv_sample_alleles[allele]\n",
    "midsv_control = midsv_control_alleles[allele]\n",
    "# Extract mutation loci\n",
    "mutation_loci = MUTATION_LOCI_ALLELES[allele]\n",
    "# # Correct sequence errors\n",
    "sampling_sample =_sampling_cssplits(midsv_sample, mutation_loci)\n",
    "sampling_control =_sampling_cssplits(midsv_control, mutation_loci)\n",
    "midsv_corected_sample = _correct_errors(midsv_sample, mutation_loci, sampling_sample)\n",
    "midsv_corected_control = _correct_errors(midsv_control, mutation_loci, sampling_control)\n"
   ]
  },
  {
   "cell_type": "code",
   "execution_count": 186,
   "metadata": {},
   "outputs": [
    {
     "name": "stdout",
     "output_type": "stream",
     "text": [
      "{'QNAME': '00077750-d7ab-4c73-ac65-8707d39936c2', 'CSSPLIT': '=T,=G,=C,=A,=T,=T,=G,=A,=A,=G,=C,=A,=G,=T,=T,=C,=A,=C,=C,+G|=A,=A,=A,=A,=T,=A,=A,=C,=A,=A,=A,=G,=T,=A,=A,=C,+A|=A,=A,=A,=G,=T,=A,=A,=G,=A,=T,=A,=T,=C,=T,=T,=T,=G,=G,=A,=A,=T,=A,=A,=T,=C,=A,=A,=T,=T,=C,=A,=A,=G,=A,=T,=A,=A,=T,=C,=A,=A,=G,=G,=A,=A,=A,=A,=A,=T,=G,=A,=G,=A,-G,=G,=C,=A,=A,=C,=T,=A,=T,=T,=T,=T,=A,=G,=A,=C,=T,=G,=A,=T,=T,=A,=C,=T,=T,=T,=T,=A,=T,=A,=A,=A,=A,=T,=A,=A,=A,=T,=A,=A,=G,=C,=T,=C,=A,=G,=C,=T,=T,=A,=G,=C,=C,*AG,*GA,=A,=T,=A,=T,=A,=A,=G,=C,=A,=A,=T,=A,=T,=T,=C,=T,=G,=A,=G,=T,=T,=C,=T,=G,=A,=A,=G,=A,=A,=A,=A,=A,=T,=T,=T,=T,=T,=G,=A,=C,=A,=A,=A,=A,=T,=G,=A,=G,=T,=T,=C,=T,=A,=T,=A,=A,=A,=T,=G,=T,=T,=A,=T,=T,=G,=T,=C,=T,=A,=C,=T,=T,=A,=T,=G,=A,=T,=C,=T,=C,=T,=A,=A,=A,=T,=A,=C,=A,=A,=C,=A,=G,=G,=C,=T,=T,=G,=T,=A,=T,=T,=C,=A,=G,=A,=A,=T,=C,=T,=A,=G,=A,=T,=G,=T,=T,=T,=C,=A,=T,=G,=A,=C,=C,=T,=T,=T,=A,=T,=T,=C,=A,=T,=A,=A,=G,=A,=G,=A,=T,=G,+A|+A|=A,=T,=G,=T,=A,=T,=T,=C,=T,=T,=G,=A,=T,=A,=C,=T,=A,=C,=T,=T,=C,=T,=C,=A,+T|+T|=T,=T,=T,*GA,=C,=A,=A,=A,=T,=T,=C,=C,=A,=A,=T,=T,=A,=T,=T,=A,=T,=T,=A,=A,=T,=T,=T,=C,=A,=T,=A,=T,+C|=C,=A,=A,=T,=T,=A,=G,=A,=A,=T,=A,=A,=T,=A,=T,=A,=T,=C,=T,=T,=C,=C,=T,=T,=C,=A,=A,=T,=T,=T,*AG,*GA,=T,=T,=A,=C,=C,=T,=C,=A,=C,=T,=A,=T,=G,=G,=G,=C,=T,=A,=T,=G,=T,=A,=C,=A,=A,=A,=C,=T,-C,=C,=A,=A,=G,-A,=A,=A,=A,=A,=G,=T,=T,=A,=G,=T,=C,=A,=T,=G,=T,=G,=C,=T,=T,=T,=G,=C,=A,=G,=A,=A,=G,=A,=T,=A,=A,=A,=A,=G,=C,=T,=T,=A,=G,=T,=G,=T,=A,=A,=A,=A,=C,=A,=G,=G,=C,=T,=G,=A,=G,=A,=G,=T,=A,=T,=T,=T,=G,=A,=T,=G,=T,=A,=A,=G,=A,=A,-G,=G,=G,=G,=A,=G,=T,=G,=G,=T,=T,=A,=T,=A,=T,=A,=G,=G,=T,=C,=T,=T,=A,=G,=C,=C,=A,=A,=A,=A,=C,=A,=T,=G,=T,=G,=A,=T,=A,=G,=T,=C,=A,=C,=T,=C,=C,=A,+G|=G,=G,=G,=G,=T,=T,=G,=C,=T,=G,=G,=A,=A,=A,=A,=G,=A,=A,=G,=T,=C,=T,=G,=T,=G,=A,=C,=A,=C,=T,=C,=A,=T,=T,=A,=A,=C,=C,=T,=A,=T,=T,=G,=G,=T,=G,=C,=A,=G,=A,=T,=T,=T,=T,=G,=T,=A,=T,=G,=A,=T,=C,=T,=A,=A,=A,=G,=G,=A,=G,=A,=A,=A,=A,=T,=G,=T,=T,=C,=T,=T,=G,=G,=C,=T,=G,=T,=T,=T,=T,=G,=T,=A,=T,=T,=G,=C,=C,=T,=T,=C,=T,=G,=T,=G,=G,=A,=G,=T,=T,=T,=C,=C,=A,=G,=A,=T,=C,=T,=C,=T,=G,=A,=T,=G,=G,=C,=C,=A,=T,=T,=T,=T,=C,=C,=T,=C,=G,=A,=G,=C,=C,=T,=G,=T,=G,=C,=C,=T,=C,=C,=T,=C,=T,=A,=A,=G,=A,=A,=C,=T,=T,=G,=T,=T,=G,=G,=C,=A,=A,=A,=A,=G,=A,=A,=T,=G,=C,=T,=G,=C,=C,=C,=A,=C,=C,=A,=T,=G,=G,=A,=T,=G,=G,=G,=T,=G,=A,=T,=G,=G,=G,=A,=G,=T,=C,=C,=C,=T,=G,+C|+A|=C,=G,=G,=C,=C,=A,=G,=C,=T,=T,=T,=C,=A,=G,=G,=C,=A,=G,=A,=G,=G,=T,=T,=C,=C,=T,=G,=C,=C,=A,=G,=G,=A,=T,=A,=T,=C,=C,=T,=T,=C,=T,=G,=T,=C,=C,=A,=G,=T,=G,=C,=A,=C,=C,=A,=T,=C,=T,=G,=G,=A,=C,=C,=T,=C,=A,=G,=T,=T,=C,=C,=C,=C,=T,=T,=C,=A,=A,=A,=G,=G,=G,=G,=T,=G,=G,=A,=T,=G,=A,=C,=C,=G,=T,=G,=A,=G,=T,=C,=C,=T,=G,=G,=C,=C,=C,=T,=C,=T,=G,=T,=G,=T,=T,=T,=T,=A,=T,=A,=A,=T,=A,=G,=G,=A,=C,=C,=T,=G,=C,=C,=A,=G,=T,=G,=C,=T,=C,=A,=G,=G,=C,=A,=A,=C,=T,=T,=C,=A,=T,=G,=G,=G,=T,=T,=T,=C,=A,=A,=C,=T,=G,=C,=G,=G,=A,=A,=A,=C,=T,=G,=T,=A,=A,=G,=T,=T,=T,=G,=G,=A,=T,=T,=T,=G,=G,=G,=G,=G,=C,=C,=C,=A,=A,=A,=T,=T,=G,=T,=A,=C,=A,=G,=A,=G,=A,=A,=G,=C,=G,=A,=G,=T,=C,=T,=T,=G,=A,=T,=T,=A,=G,=A,=A,*GA,=A,=A,=A,=C,=A,=T,=T,=T,=T,=T,=G,=A,=T,=T,=T,=G,=A,=G,=T,=G,=T,=C,=T,=C,=C,=G,=A,=A,=A,=A,=G,=A,=A,=T,=A,=A,=G,=T,=T,=C,+T|=T,=T,=T,=T,=C,*TC,*TC,=A,=C,=C,=T,=C,=A,=C,=T,=T,=T,=A,=G,=C,=A,=A,=A,=A,=C,=A,=T,=A,=C,=T,=A,=T,=C,=A,=G,=C,=T,=C,=A,=G,=T,=C,=T,=A,=T,=G,=T,=C,=A,=T,=C,=C,=C,+T|+A|=C,=A,=C,=A,=G,=G,=C,=A,=C,=C,=T,=A,=T,=G,=G,=C,=C,=A,=A,=A,=T,=G,=A,=A,=C,=A,=A,=T,=G,=G,=G,=T,=C,=A,=A,=C,=A,=C,=C,=C,=A,=T,=G,=T,=T,=T,=A,=A,=T,=G,=A,=T,=A,=T,=C,=A,=A,=C,=A,=T,=C,=T,=A,=C,=G,=A,=C,=C,=T,=C,=T,=T,=T,=G,=T,=A,=T,=G,=G,=A,=T,=G,=C,=A,=T,=T,=A,=C,=T,=A,=T,=G,=T,=G,=T,=C,=A,=A,=G,=G,=G,=A,=C,=A,=C,-A,=C,+T|+T|=T,=G,=C,=T,=T,=G,=G,=G,=G,=G,=C,=T,=C,=T,=G,=A,=A,=A,=T,=A,=T,=G,=G,=A,=G,=G,=G,=A,=C,=A,=T,=T,=G,=A,=T,=T,=T,=T,=G,=C,=C,=C,=A,=T,=G,=A,=A,=G,=C,=A,=C,=C,=A,=G,=G,=G,=T,=T,=T,=C,=T,=G,=C,=C,=T,=T,*GA,=G,=C,=A,=C,=A,=G,=A,=C,=T,=T,=T,=T,=C,=T,=T,=G,=T,=T,=A,=T,=T,=G,=T,=G,=G,=G,=A,=A,=C,=A,=A,=G,=A,=A,=A,=T,=T,=C,-G,=A,=G,*AG,*AC,*CT,=T,=A,=A,=C,=T,=G,=G,=G,=G,=A,=T,=G,=A,=G,=A,=A,=C,=T,-T,-C,*AG,=C,=T,=G,=T,=T,=C,=C,=A,=T,=A,=C,=T,=G,=G,=G,=A,=T,=T,=G,=G,=A,=G,=A,=G,=A,=T,=G,=C,=A,=G,=A,=A,=A,=A,=C,=T,=G,=T,=G,=A,=C,=A,=T,=T,=T,=G,=C,=A,=C,=A,=G,=A,=T,=G,=A,=G,=T,=A,=C,=T,=T,=G,=G,=G,=A,=G,=G,=T,=C,=G,=T,=C,=A,=C,=C,=C,=T,=G,=A,=A,=A,=A,=T,=C,=C,=T,=A,=A,=C,-T,-T,=A,=C,=T,=C,=A,=G,=C,=C,=C,=A,=G,=C,=A,=T,=C,=C,=T,=T,=C,=T,=T,=C,=T,=C,=C,=T,=C,=C,=T,=G,=G,=C,=A,-G,*GT,=T,=A,=A,=G,=A,=T,=G,=C,=A,=C,=T,=A,=T,=A,=T,-A,-G,=A,=G,=A,=G,=A,=G,=T,=T,=G,=C,=A,=A,=A,=G,=A,=C,=T,=G,=G,=T,=A,=C,=T,=T,=C,=A,=G,=C,=A,=G,=C,=C,=A,=C,=A,=T,=T,=T,=T,=C,=A,=T,=G,=C,=T,=C,=T,=G,=T,=G,=A,=G,=C,=A,=T,=C,=T,=C,=T,=G,=A,=T,=A,=A,=T,=A,=T,=C,=T,=C,=A,=G,*GA,*GA,=C,*AT,=G,+A|=A,=A,=A,=A,=T,=G,=T,=G,=C,=C,=T,=T,=A,=C,=T,=A,=A,=C,=A,=G,=A,=T,=G,=T,=T,=A,=A,=T,=G,=C,=T,=T,=C,=T,=T,=G,=A,=T,=T,=T,=C,=T,=T,=T,=T,=T,=C,=T,=C,=T,=T,=T,=T,=G,=A,=G,=A,=A,=C,=T,=C,=T,=T,=C,+A|=A,=A,=A,=G,=T,=T,=G,=T,=T,=A,=T,=T,=A,=A,=A,=C,=A,=A,=A,=T,=A,=T,=C,=T,=A,=T,=G,=T,=G,=C,=T,=T,=A,=T,=T,=T,=G,=T,=C,=T,=T,=A,=A,=T,=A,=T,=C,=T,=A,=A,=C,=A,=G,=C,=T,=T,=A,=G,=T,=T,=A,=G,=A,=T,=T,=T,=C,=T,=A,=A,=G,=C,=T,=G,=C,=T,=A,=T,=A,=A,=A,=C,-A,=A,=G,*GA,=A,=C,=T,=G,+A|+G|+A|=A,=T,=T,=G,=G,=T,=T,=C,=A,=C,=C,=A,=C,=T,=G,=T,=A,=T,=T,=G,=T,=T,=A,=G,=C,=A,=C,=C,=T,=C,=C,=T,=A,=T,=G,=G,=T,=A,=T,=C,=T,=G,=G,=A,=A,=T,=A,=A,=A,=C,=A,=G,=T,=A,=A,=C,=T,=C,=A,=G,=T,=T,=A,=T,=T,=T,=A,=A,=G,=A,=A,=T,=G,=G,=A,=T,=G,=A,=G,=A,=A,=A,-C,=C,=A,=G,=A,=T,=T,=A,=T,=C,=T,=T,=A,=G,=T,=T,=C,=A,=T,=G,=T,=T,=T,=C,=T,=G,=A,=G,=T,=A,=A,=T,=A,=T,=T,=A,=A,=A,=A,=T,=T,=A,=A,=T,=A,=T,=T,=A,=A,=C,=A,=G,=T,=A,=A,=A,=A,=T,=C,=C,=A,=T,=A,=A,=G,=T,=A,=T,=G,=C,=T,=A,=C,=T,=T,=T,=A,+A|+G|=A,=A,=A,=T,=A,=T,=A,=A,=A,=T,=C,=T,=C,=T,=G,=G,=C,=C,=A,=A,=A,=A,=C,=C,=A,=A,=G,=A,=C,=T,=T,=A,=T,=T,=A,=T,=T,=C,=A,=G,=G,=A,=T,=C,=T,=T,=C,-A,=A,=G,=A,=G,=A,=A,=A,=G,=T,=G,=C,=T,=G,=A,=G,=A,=T,=A,=A,=T,=T,=C,=A,=C,=T,=A,=A,=G,=T,=A,=T,=C,=A,=G,=A,=G,=A,=T,=G,=A,=C,=C,=T,=T,=T,=A,=T,=T,=A,=C,=A,=T,=G,=A,=T,=T,=G,=C,=C,=T,=G,=A,=T,=A,=G,=A,=A,=A,=A,=A,=A,=T,=G,=A,=T,=T,=A,=C,=A,=C,=A,=C,=A,=C,=A,=C,=A,=A,=A,=A,=A,=A,=A,=T,=C,=T,=T,=C,=A,=G,=T,=T,=G,=C,=T,=T,=A,=A,=A,=T,=T,=T,=T,=A,=A,=A,=C,=G,=T,=T,=G,=C,=T,=G,=A,=C,=T,=C,=T,=C,=A,=A,=A,=C,=A,=G,=T,=T,=A,=A,=G,=T,=A,=A,=T,=A,=A,=A,=A,=G,=A,=G,=T,=T,=A,=A,=A,=G,=C,=C,=T,=G,=C,=T,=G,=T,=G,=T,=A,=T,=T,=T,=A,=G,=A,=A,=T,=A,=T,=G,=T,=G,=A,=A,=T,=A,=C,=C,=T,=A,=T,=T,=G,+A|=A,=A,=A,=G,=A,=A,=T,=T,=T,=A,=T,=T,=G,=T,=A,=C,=A,=A,=T,=T,=A,=A,=T,=A,=T,=A,=A,=A,=C,=A,=G,=A,=C,=T,=T,=C,=T,=A,=T,=T,=T,=T,=A,=C,=A,=G,=T,=C,=A,=T,=A,=A,=G,=A,=T,=A,=C,=T,=A,=C,=T,=T,=A,=A,=T,=T,=T,=G,=T,=T,=A,=A,=A,=A,=A,=T,=T,=A,=T,=T,=T,=T,=T,=T,=G,=A,=T,=A,=G,=C,=A,=T,=T,=G,=T,=T,=G,=G,=T,=A,=A,=A,=T,=A,=G,=C,=A,=A,=A,=G,=G,=T,=G,=A,=T,=A,=T,=T,=T,=G,=C,=T,=A,=A,=T,=G,=A,=T,=T,=A,=C,=A,=A,-G,=G,=G,=C,=T,=G,=T,=C,=T,=G,=G,=C,=T,=A,=A,=C,+T|=T,=T,=A,=C,=G,=T,=T,=A,=T,=G,=T,=T,=C,=A,=G,=G,=G,=A,=G,=A,=A,=G,*AG,=C,+A|=A,=G,=T,=C,=C,=T,=T,=T,=T,=T,-A,=A,=G,=G,=A,=A,=T,*GA,=G,=G,=C,=A,=C,=T,=T,=T,=C,=T,=A,=A,=C,=T,=T,=T,=T,=T,=T,=T,=C,=T,=C,=T,=A,=G,=G,=A,=T,=G,=G,=A,=G,=A,=A,=A,=A,=A,=T,=T,=A,=G,=C,=C,=T,=T,=C,=T,=T,=C,=C,=T,=A,=C,=T,=T,=T,=A,=A,=A,=A,=A,=T,=G,=T,=T,=A,=G,=A,=C,=A,=T,=A,=G,=A,=A,=T,=T,=A,=A,=G,=G,=G,=A,=T,=T,=G,=T,=T,=A,=T,=T,=T,=T,=G,=A,=G,=A,=T,=T,=A,=A,=A,=T,=T,=T,=T,=C,=T,=T,=T,=T,=C,=T,=C,=C,=T,=A,=T,=T,=A,-T,=T,=T,=T,=T,=C,=C,=T,=C,=A,=T,=T,=C,=T,=G,=G,=A,=A,=T,=G,=G,=A,=A,=G,=C,=A,=A,=A,=A,=G,=A,=T,=G,=A,=A,=G,=A,=A,=A,=G,=A,=A,=A,=T,=A,=T,=A,=T,=G,=T,=T,-A,=A,=A,*TG,=T,=G,=T,=T,=T,=T,=C,=C,=T,=T,=T,=A,=A,=A,=T,=G,=A,=A,=C,=A,=C,=A,=A,=A,=T,=G,=T,=G,=A,=A,=A,=T,=A,=T,=G,=T,=T,=T,=T,=T,=C,=T,=G,=C,=C,=T,=A,=T,=C,=T,=T,=G,=T,=A,=A,=A,=A,=T,=T,=T,=T,=C,=T,=A,=T,=T,=G,=C,=A,=A,=C,=T,=A,=T,=T,=C,=T,=G,=A,=T,=T,=A,=C,=C,=A,=G,=T,=T,=C,=A,=A,=A,=T,-G,=G,=G,=G,=A,=A,=A,=A,=A,=A,=G,=A,=A,=C,=A,=T,=A,=G,=G,=C,=T,=A,=C,=C,=C,=C,=A,=C,=A,=C,=T,=T,=G,=A,=A,=A,=T,=T,=T,=T,=G,=A,=A,=A,=T,=A,=T,=G,=A,=A,=T,=G,=T,=C,=C,=T,=C,=T,=G,=T,=C,=T,=C,=T,=G,=C,=T,=G,=G,=T,=C,=T,=A,=A,=C,=A,=C,=T,=T,=C,=C,=A,=A,=A,=A,=T,=G,=G,=A,=A,=A,=C,=C,=T,=T,=T,=A,=A,=A,=G,=G,=G,=C,=C,=A,=C,=T,=G,=T,=A,=A,=A,=T,=T,=A,=C,=A,=G,=C,=T,=G,=C,=T,=A,=A,=T,=T,=C,=C,=T,=G,=G,=T,=G,=C,=C,=A,=A,=T,=G,=G,=T,=G,=A,=T,=A,=A,=G,=T,=G,=T,=T,=T,=A,=C,=T,=A,=A,=A,=C,=C,=T,=A,=G,=T,=G,=A,=G,=T,=A,=C,=T,=T,=T,=A,=T,=A,=G,=C,=A,=T,=G,=G,=G,=G,=C,=T,=C,=T,=G,=C,=T,=G,=C,-G,-A,=A,=G,=T,=A,=A,=C,=A,=T,=T,=G,=C,+T|=T,=G,=T,=A,=T,=A,=T,=T,=T,=T,=C,=A,=G,=T,=C,=A,=T,=T,=C,=T,=A,=C,=C,=T,=T,=A,=A,=T,=T,=C,=A,=T,=G,=A,=A,=C,=T,=G,=C,=A,=A,=A,=A,=C,=T,=C,=T,=C,=A,=T,=C,=T,=A,=G,=C,=T,=T,=T,=T,=T,=A,=C,=T,=T,=C,=T,=C,=T,=A,=G,=C,=T,=A,=T,=T,=G,=C,=T,=T,=T,+A|=A,=A,=G,=T,=T,=C,=T,=A,=T,=C,=A,=G,=G,=C,=T,=C,=A,=G,=G,=T,=G,=T,=G,=G,=A,=A,=T,=T,=C,=T,=C'}\n",
      "('00077750-d7ab-4c73-ac65-8707d39936c2', '=T,=G,=C,=A,=T,=T,=G,=A,=A,=G,=C,=A,=G,=T,=T,=C,=A,=C,=C,=A,=A,=A,=A,=T,=A,=A,=C,=A,=A,=A,=G,=T,=A,=A,=C,=A,=A,=A,=G,=T,=A,=A,=G,=A,=T,=A,=T,=C,=T,=T,=T,=G,=G,=A,=A,=T,=A,=A,=T,=C,=A,=A,=T,=T,=C,=A,=A,=G,=A,=T,=A,=A,=T,=C,=A,=A,=G,=G,=A,=A,=A,=A,=A,=T,=G,=A,=G,=A,=G,=G,=C,=A,=A,=C,=T,=A,=T,=T,=T,=T,=A,=G,=A,=C,=T,=G,=A,=T,=T,=A,=C,=T,=T,=T,=T,=A,=T,=A,=A,=A,=A,=T,=A,=A,=A,=T,=A,=A,=G,=C,=T,=C,=A,=G,=C,=T,=T,=A,=G,=C,=C,=A,=G,=A,=T,=A,=T,=A,=A,=G,=C,=A,=A,=T,=A,=T,=T,=C,=T,=G,=A,=G,=T,=T,=C,=T,=G,=A,=A,=G,=A,=A,=A,=A,=A,=T,=T,=T,=T,=T,=G,=A,=C,=A,=A,=A,=A,=T,=G,=A,=G,=T,=T,=C,=T,=A,=T,=A,=A,=A,=T,=G,=T,=T,=A,=T,=T,=G,=T,=C,=T,=A,=C,=T,=T,=A,=T,=G,=A,=T,=C,=T,=C,=T,=A,=A,=A,=T,=A,=C,=A,=A,=C,=A,=G,=G,=C,=T,=T,=G,=T,=A,=T,=T,=C,=A,=G,=A,=A,=T,=C,=T,=A,=G,=A,=T,=G,=T,=T,=T,=C,=A,=T,=G,=A,=C,=C,=T,=T,=T,=A,=T,=T,=C,=A,=T,=A,=A,=G,=A,=G,=A,=T,=G,=A,=T,=G,=T,=A,=T,=T,=C,=T,=T,=G,=A,=T,=A,=C,=T,=A,=C,=T,=T,=C,=T,=C,=A,=T,=T,=T,=G,=C,=A,=A,=A,=T,=T,=C,=C,=A,=A,=T,=T,=A,=T,=T,=A,=T,=T,=A,=A,=T,=T,=T,=C,=A,=T,=A,=T,=C,=A,=A,=T,=T,=A,=G,=A,=A,=T,=A,=A,=T,=A,=T,=A,=T,=C,=T,=T,=C,=C,=T,=T,=C,=A,=A,=T,=T,=T,=A,=G,=T,=T,=A,=C,=C,=T,=C,=A,=C,=T,=A,=T,=G,=G,=G,=C,=T,=A,=T,=G,=T,=A,=C,=A,=A,=A,=C,=T,=C,=C,=A,=A,=G,=A,=A,=A,=A,=A,=G,=T,=T,=A,=G,=T,=C,=A,=T,=G,=T,=G,=C,=T,=T,=T,=G,=C,=A,=G,=A,=A,=G,=A,=T,=A,=A,=A,=A,=G,=C,=T,=T,=A,=G,=T,=G,=T,=A,=A,=A,=A,=C,=A,=G,=G,=C,=T,=G,=A,=G,=A,=G,=T,=A,=T,=T,=T,=G,=A,=T,=G,=T,=A,=A,=G,=A,=A,=G,=G,=G,=G,=A,=G,=T,=G,=G,=T,=T,=A,=T,=A,=T,=A,=G,=G,=T,=C,=T,=T,=A,=G,=C,=C,=A,=A,=A,=A,=C,=A,=T,=G,=T,=G,=A,=T,=A,=G,=T,=C,=A,=C,=T,=C,=C,=A,=G,=G,=G,=G,=T,=T,=G,=C,=T,=G,=G,=A,=A,=A,=A,=G,=A,=A,=G,=T,=C,=T,=G,=T,=G,=A,=C,=A,=C,=T,=C,=A,=T,=T,=A,=A,=C,=C,=T,=A,=T,=T,=G,=G,=T,=G,=C,=A,=G,=A,=T,=T,=T,=T,=G,=T,=A,=T,=G,=A,=T,=C,=T,=A,=A,=A,=G,=G,=A,=G,=A,=A,=A,=A,=T,=G,=T,=T,=C,=T,=T,=G,=G,=C,=T,=G,=T,=T,=T,=T,=G,=T,=A,=T,=T,=G,=C,=C,=T,=T,=C,=T,=G,=T,=G,=G,=A,=G,=T,=T,=T,=C,=C,=A,=G,=A,=T,=C,=T,=C,=T,=G,=A,=T,=G,=G,=C,=C,=A,=T,=T,=T,=T,=C,=C,=T,=C,=G,=A,=G,=C,=C,=T,=G,=T,=G,=C,=C,=T,=C,=C,=T,=C,=T,=A,=A,=G,=A,=A,=C,=T,=T,=G,=T,=T,=G,=G,=C,=A,=A,=A,=A,=G,=A,=A,=T,=G,=C,=T,=G,=C,=C,=C,=A,=C,=C,=A,=T,=G,=G,=A,=T,=G,=G,=G,=T,=G,=A,=T,=G,=G,=G,=A,=G,=T,=C,=C,=C,=T,=G,=C,=G,=G,=C,=C,=A,=G,=C,=T,=T,=T,=C,=A,=G,=G,=C,=A,=G,=A,=G,=G,=T,=T,=C,=C,=T,=G,=C,=C,=A,=G,=G,=A,=T,=A,=T,=C,=C,=T,=T,=C,=T,=G,=T,=C,=C,=A,=G,=T,=G,=C,=A,=C,=C,=A,=T,=C,=T,=G,=G,=A,=C,=C,=T,=C,=A,=G,=T,=T,=C,=C,=C,=C,=T,=T,=C,=A,=A,=A,=G,=G,=G,=G,=T,=G,=G,=A,=T,=G,=A,=C,=C,=G,=T,=G,=A,=G,=T,=C,=C,=T,=G,=G,=C,=C,=C,=T,=C,=T,=G,=T,=G,=T,=T,=T,=T,=A,=T,=A,=A,=T,=A,=G,=G,=A,=C,=C,=T,=G,=C,=C,=A,=G,=T,=G,=C,=T,=C,=A,=G,=G,=C,=A,=A,=C,=T,=T,=C,=A,=T,=G,=G,=G,=T,=T,=T,=C,=A,=A,=C,=T,=G,=C,=G,=G,=A,=A,=A,=C,=T,=G,=T,=A,=A,=G,=T,=T,=T,=G,=G,=A,=T,=T,=T,=G,=G,=G,=G,=G,=C,=C,=C,=A,=A,=A,=T,=T,=G,=T,=A,=C,=A,=G,=A,=G,=A,=A,=G,=C,=G,=A,=G,=T,=C,=T,=T,=G,=A,=T,=T,=A,=G,=A,=A,=G,=A,=A,=A,=C,=A,=T,=T,=T,=T,=T,=G,=A,=T,=T,=T,=G,=A,=G,=T,=G,=T,=C,=T,=C,=C,=G,=A,=A,=A,=A,=G,=A,=A,=T,=A,=A,=G,=T,=T,=C,=T,=T,=T,=T,=C,=T,N,=A,=C,=C,=T,=C,=A,=C,=T,=T,=T,=A,=G,=C,=A,=A,=A,=A,=C,=A,=T,=A,=C,=T,=A,=T,=C,=A,=G,=C,=T,=C,=A,=G,=T,=C,=T,=A,=T,=G,=T,=C,=A,=T,=C,=C,=C,=C,=A,=C,=A,=G,=G,=C,=A,=C,=C,=T,=A,=T,=G,=G,=C,=C,=A,=A,=A,=T,=G,=A,=A,=C,=A,=A,=T,=G,=G,=G,=T,=C,=A,=A,=C,=A,=C,=C,=C,=A,=T,=G,=T,=T,=T,=A,=A,=T,=G,=A,=T,=A,=T,=C,=A,=A,=C,=A,=T,=C,=T,=A,=C,=G,=A,=C,=C,=T,=C,=T,=T,=T,=G,=T,=A,=T,=G,=G,=A,=T,=G,=C,=A,=T,=T,=A,=C,=T,=A,=T,=G,=T,=G,=T,=C,=A,=A,=G,=G,=G,=A,=C,=A,=C,=A,=C,=T,=G,=C,=T,=T,=G,=G,=G,=G,=G,=C,=T,=C,=T,=G,=A,=A,=A,=T,=A,=T,=G,=G,=A,=G,=G,=G,=A,=C,=A,=T,=T,=G,=A,=T,=T,=T,=T,=G,=C,=C,=C,=A,=T,=G,=A,=A,=G,=C,=A,=C,=C,=A,=G,=G,=G,=T,=T,=T,=C,=T,=G,=C,=C,=T,=T,*GA,=G,=C,=A,=C,=A,=G,=A,=C,=T,=T,=T,=T,=C,=T,=T,=G,=T,=T,=A,=T,=T,=G,=T,=G,=G,=G,=A,=A,=C,=A,=A,=G,=A,=A,=A,=T,=T,=C,=G,=A,=G,=A,=A,N,=T,=A,=A,=C,=T,=G,=G,=G,=G,=A,=T,=G,=A,=G,=A,=A,=C,=T,=T,N,=A,=C,=T,=G,=T,=T,=C,=C,=A,=T,=A,=C,=T,=G,=G,=G,=A,=T,=T,=G,=G,=A,=G,=A,=G,=A,=T,=G,=C,=A,=G,=A,=A,=A,=A,=C,=T,=G,=T,=G,=A,=C,=A,=T,=T,=T,=G,=C,=A,=C,=A,=G,=A,=T,=G,=A,=G,=T,=A,=C,=T,=T,=G,=G,=G,=A,=G,=G,=T,=C,=G,=T,=C,=A,=C,=C,=C,=T,=G,=A,=A,=A,=A,=T,=C,=C,=T,=A,=A,=C,=T,=T,=A,=C,=T,=C,=A,=G,=C,=C,=C,=A,=G,=C,=A,=T,=C,=C,=T,=T,=C,=T,=T,=C,=T,=C,=C,=T,=C,=C,=T,=G,=G,=C,=A,-G,=G,=T,=A,=A,=G,=A,=T,=G,=C,=A,=C,=T,=A,=T,=A,=T,=A,=G,=A,=G,=A,=G,=A,=G,=T,=T,=G,=C,=A,=A,=A,=G,=A,=C,=T,=G,=G,=T,=A,=C,=T,=T,=C,=A,=G,=C,=A,=G,=C,=C,=A,=C,=A,=T,=T,=T,=T,=C,=A,=T,=G,=C,=T,=C,=T,=G,=T,=G,=A,=G,=C,=A,=T,=C,=T,=C,=T,=G,=A,=T,=A,=A,=T,=A,=T,=C,=T,=C,=A,=G,=G,=G,=C,=A,=G,=A,=A,=A,=A,=T,=G,=T,=G,=C,=C,=T,=T,=A,=C,=T,=A,=A,=C,=A,=G,=A,=T,=G,=T,=T,=A,=A,=T,=G,=C,=T,=T,=C,=T,=T,=G,=A,=T,=T,=T,=C,=T,=T,=T,=T,=T,=C,=T,=C,=T,=T,=T,=T,=G,=A,=G,=A,=A,=C,=T,=C,=T,=T,=C,=A,=A,=A,=G,=T,=T,=G,=T,=T,=A,=T,=T,=A,=A,=A,=C,=A,=A,=A,=T,=A,=T,=C,=T,=A,=T,=G,=T,=G,=C,=T,=T,=A,=T,=T,=T,=G,=T,=C,=T,=T,=A,=A,=T,=A,=T,=C,=T,=A,=A,=C,=A,=G,=C,=T,=T,=A,=G,=T,=T,=A,=G,=A,=T,=T,=T,=C,=T,=A,=A,=G,=C,=T,=G,=C,=T,=A,=T,=A,=A,=A,=C,=A,=A,=G,=G,=A,=C,=T,=G,=A,=T,=T,=G,=G,=T,=T,=C,=A,=C,=C,=A,=C,=T,=G,=T,=A,=T,=T,=G,=T,=T,=A,=G,=C,=A,=C,=C,=T,=C,=C,=T,=A,=T,=G,=G,=T,=A,=T,=C,=T,=G,=G,=A,=A,=T,=A,=A,=A,=C,=A,=G,=T,=A,=A,=C,=T,=C,=A,=G,=T,=T,=A,=T,=T,=T,=A,=A,=G,=A,=A,=T,=G,=G,=A,=T,=G,=A,=G,=A,=A,=A,=C,=C,=A,=G,=A,=T,=T,=A,=T,=C,=T,=T,=A,=G,=T,=T,=C,=A,=T,=G,=T,=T,=T,=C,=T,=G,=A,=G,=T,=A,=A,=T,=A,=T,=T,=A,=A,=A,=A,=T,=T,=A,=A,=T,=A,=T,=T,=A,=A,=C,=A,=G,=T,=A,=A,=A,=A,=T,=C,=C,=A,=T,=A,=A,=G,=T,=A,=T,=G,=C,=T,=A,=C,=T,=T,=T,=A,=A,=A,=A,=T,=A,=T,=A,=A,=A,=T,=C,=T,=C,=T,=G,=G,=C,=C,=A,=A,=A,=A,=C,=C,=A,=A,=G,=A,=C,=T,=T,=A,=T,=T,=A,=T,=T,=C,=A,=G,=G,=A,=T,=C,=T,=T,=C,=A,=A,=G,=A,=G,=A,=A,=A,=G,=T,=G,=C,=T,=G,=A,=G,=A,=T,=A,=A,=T,=T,=C,=A,=C,=T,=A,=A,=G,=T,=A,=T,=C,=A,=G,=A,=G,=A,=T,=G,=A,=C,=C,=T,=T,=T,=A,=T,=T,=A,=C,=A,=T,=G,=A,=T,=T,=G,=C,=C,=T,=G,=A,=T,=A,=G,=A,=A,=A,=A,=A,=A,=T,=G,=A,=T,=T,=A,=C,=A,=C,=A,=C,=A,=C,=A,=C,=A,=A,=A,=A,=A,=A,=A,=T,=C,=T,=T,=C,=A,=G,=T,=T,=G,=C,=T,=T,=A,=A,=A,=T,=T,=T,=T,=A,=A,=A,=C,=G,=T,=T,=G,=C,=T,=G,=A,=C,=T,=C,=T,=C,=A,=A,=A,=C,=A,=G,=T,=T,=A,=A,=G,=T,=A,=A,=T,=A,=A,=A,=A,=G,=A,=G,=T,=T,=A,=A,=A,=G,=C,=C,=T,=G,=C,=T,=G,=T,=G,=T,=A,=T,=T,=T,=A,=G,=A,=A,=T,=A,=T,=G,=T,=G,=A,=A,=T,=A,=C,=C,=T,=A,=T,=T,=G,=A,=A,=A,=G,=A,=A,=T,=T,=T,=A,=T,=T,=G,=T,=A,=C,=A,=A,=T,=T,=A,=A,=T,=A,=T,=A,=A,=A,=C,=A,=G,=A,=C,=T,=T,=C,=T,=A,=T,=T,=T,=T,=A,=C,=A,=G,=T,=C,=A,=T,=A,=A,=G,=A,=T,=A,=C,=T,=A,=C,=T,=T,=A,=A,=T,=T,=T,=G,=T,=T,=A,=A,=A,=A,=A,=T,=T,=A,=T,=T,=T,=T,=T,=T,=G,=A,=T,=A,=G,=C,=A,=T,=T,=G,=T,=T,=G,=G,=T,=A,=A,=A,=T,=A,=G,=C,=A,=A,=A,=G,=G,=T,=G,=A,=T,=A,=T,=T,=T,=G,=C,=T,=A,=A,=T,=G,=A,=T,=T,=A,=C,=A,=A,=G,=G,=G,=C,=T,=G,=T,=C,=T,=G,=G,=C,=T,=A,=A,=C,=T,=T,=A,=C,=G,=T,=T,=A,=T,=G,=T,=T,=C,=A,=G,=G,=G,=A,=G,=A,=A,=G,=A,=C,+A|=A,=G,=T,=C,=C,=T,=T,=T,=T,=T,=A,=A,=G,=G,=A,=A,=T,=G,=G,=G,=C,=A,=C,=T,=T,=T,=C,=T,=A,=A,=C,=T,=T,=T,=T,=T,=T,=T,=C,=T,=C,=T,=A,=G,=G,=A,=T,=G,=G,=A,=G,=A,=A,=A,=A,=A,=T,=T,=A,=G,=C,=C,=T,=T,=C,=T,=T,=C,=C,=T,=A,=C,=T,=T,=T,=A,=A,=A,=A,=A,=T,=G,=T,=T,=A,=G,=A,=C,=A,=T,=A,=G,=A,=A,=T,=T,=A,=A,=G,=G,=G,=A,=T,=T,=G,=T,=T,=A,=T,=T,=T,=T,=G,=A,=G,=A,=T,=T,=A,=A,=A,=T,=T,=T,=T,=C,=T,=T,=T,=T,=C,=T,=C,=C,=T,=A,=T,=T,=A,=T,=T,=T,=T,=T,=C,=C,=T,=C,=A,=T,=T,=C,=T,=G,=G,=A,=A,=T,=G,=G,=A,=A,=G,=C,=A,=A,=A,=A,=G,=A,=T,=G,=A,=A,=G,=A,=A,=A,=G,=A,=A,=A,=T,=A,=T,=A,=T,=G,=T,=T,=A,=A,=A,=T,=T,=G,=T,=T,=T,=T,=C,=C,=T,=T,=T,=A,=A,=A,=T,=G,=A,=A,=C,=A,=C,=A,=A,=A,=T,=G,=T,=G,=A,=A,=A,=T,=A,=T,=G,=T,=T,=T,=T,=T,=C,=T,=G,=C,=C,=T,=A,=T,=C,=T,=T,=G,=T,=A,=A,=A,=A,=T,=T,=T,=T,=C,=T,=A,=T,=T,=G,=C,=A,=A,=C,=T,=A,=T,=T,=C,=T,=G,=A,=T,=T,=A,=C,=C,=A,=G,=T,=T,=C,=A,=A,=A,=T,=G,=G,=G,=G,=A,=A,=A,=A,=A,=A,=G,=A,=A,=C,=A,=T,=A,=G,=G,=C,=T,=A,=C,=C,=C,=C,=A,=C,=A,=C,=T,=T,=G,=A,=A,=A,=T,=T,=T,=T,=G,=A,=A,=A,=T,=A,=T,=G,=A,=A,=T,=G,=T,=C,=C,=T,=C,=T,=G,=T,=C,=T,=C,=T,=G,=C,=T,=G,=G,=T,=C,=T,=A,=A,=C,=A,=C,=T,=T,=C,=C,=A,=A,=A,=A,=T,=G,=G,=A,=A,=A,=C,=C,=T,=T,=T,=A,=A,=A,=G,=G,=G,=C,=C,=A,=C,=T,=G,=T,=A,=A,=A,=T,=T,=A,=C,=A,=G,=C,=T,=G,=C,=T,=A,=A,=T,=T,=C,=C,=T,=G,=G,=T,=G,=C,=C,=A,=A,=T,=G,=G,=T,=G,=A,=T,=A,=A,=G,=T,=G,=T,=T,=T,=A,=C,=T,=A,=A,=A,=C,=C,=T,=A,=G,=T,=G,=A,=G,=T,=A,=C,=T,=T,=T,=A,=T,=A,=G,=C,=A,=T,=G,=G,=G,=G,=C,=T,=C,=T,=G,=C,=T,=G,=C,=G,=A,=A,=G,=T,=A,=A,=C,=A,=T,=T,=G,=C,=T,=G,=T,=A,=T,=A,=T,=T,=T,=T,=C,=A,=G,=T,=C,=A,=T,=T,=C,=T,=A,=C,=C,=T,=T,=A,=A,=T,=T,=C,=A,=T,=G,=A,=A,=C,=T,=G,=C,=A,=A,=A,=A,=C,=T,=C,=T,=C,=A,=T,=C,=T,=A,=G,=C,=T,=T,=T,=T,=T,=A,=C,=T,=T,=C,=T,=C,=T,=A,=G,=C,=T,=A,=T,=T,=G,=C,=T,=T,=T,=A,=A,=G,=T,=T,=C,=T,=A,=T,=C,=A,=G,=G,=C,=T,=C,=A,=G,=G,=T,=G,=T,=G,=G,=A,=A,=T,=T,=C,=T,=C')\n"
     ]
    }
   ],
   "source": [
    "print(midsv_sample[0])\n",
    "print(next(midsv_corected_sample))"
   ]
  },
  {
   "cell_type": "markdown",
   "metadata": {},
   "source": [
    "- 動いていそうです\n",
    "- 一方で速度がいまいちな気がするので、line_profilerを使います"
   ]
  },
  {
   "cell_type": "code",
   "execution_count": 187,
   "metadata": {},
   "outputs": [
    {
     "name": "stdout",
     "output_type": "stream",
     "text": [
      "Collecting line_profiler\n",
      "  Downloading line_profiler-4.0.3-cp310-cp310-manylinux_2_17_x86_64.manylinux2014_x86_64.whl (661 kB)\n",
      "\u001b[2K     \u001b[90m━━━━━━━━━━━━━━━━━━━━━━━━━━━━━━━━━━━━━━━\u001b[0m \u001b[32m661.9/661.9 kB\u001b[0m \u001b[31m2.8 MB/s\u001b[0m eta \u001b[36m0:00:00\u001b[0ma \u001b[36m0:00:01\u001b[0m\n",
      "\u001b[?25hInstalling collected packages: line_profiler\n",
      "Successfully installed line_profiler-4.0.3\n"
     ]
    }
   ],
   "source": [
    "! pip install line_profiler\n",
    "%load_ext line_profiler"
   ]
  },
  {
   "cell_type": "code",
   "execution_count": 190,
   "metadata": {},
   "outputs": [
    {
     "name": "stdout",
     "output_type": "stream",
     "text": [
      "Timer unit: 1e-09 s\n",
      "\n",
      "Total time: 5.46833 s\n",
      "File: /tmp/ipykernel_23197/3606121126.py\n",
      "Function: _sampling_cssplits at line 1\n",
      "\n",
      "Line #      Hits         Time  Per Hit   % Time  Line Contents\n",
      "==============================================================\n",
      "     1                                           def _sampling_cssplits(midsv_sample: dict[list[str, str]], mutation_loci: dict[str, set[int]]) -> defaultdict:\n",
      "     2         1       1333.0   1333.0      0.0      cssplits_sampling = defaultdict(lambda: defaultdict(lambda: Counter([\"N\"])))\n",
      "     3       500   59913987.0 119828.0      1.1      for cssplits in (cs[\"CSSPLIT\"].split(\",\") for cs in midsv_sample):\n",
      "     4   1422500  195775305.0    137.6      3.6          for idx_seq, cs in enumerate(cssplits):\n",
      "     5   1422000  293101734.0    206.1      5.4              if idx_seq == len(mutation_loci) - 1:\n",
      "     6       500     237232.0    474.5      0.0                  break\n",
      "     7   1421500  158459588.0    111.5      2.9              if idx_seq == 0:\n",
      "     8       500      55597.0    111.2      0.0                  one_prior = cs\n",
      "     9       500      59377.0    118.8      0.0                  continue\n",
      "    10   1421000  143505833.0    101.0      2.6              if idx_seq == 1:\n",
      "    11       500      50705.0    101.4      0.0                  two_prior = cs\n",
      "    12       500      56128.0    112.3      0.0                  continue\n",
      "    13   1372159  374448480.0    272.9      6.8              if cs[0] in mutation_loci[idx_seq] or cs.startswith(\"=\") or cs == \"N\" or re.search(r\"a|c|g|t|n\", cs):\n",
      "    14   1372159  231634082.0    168.8      4.2                  prev_cs = f\"{one_prior},{two_prior}\"\n",
      "    15   1372159 3804897602.0   2772.9     69.6                  cssplits_sampling[idx_seq][prev_cs] += Counter([cs])\n",
      "    16   1421000  206136152.0    145.1      3.8              one_prior, two_prior = two_prior, cs\n",
      "    17         1         90.0     90.0      0.0      return cssplits_sampling"
     ]
    }
   ],
   "source": [
    "%lprun -f _sampling_cssplits _sampling_cssplits(midsv_sample[:500], mutation_loci)"
   ]
  },
  {
   "cell_type": "code",
   "execution_count": 193,
   "metadata": {},
   "outputs": [
    {
     "name": "stdout",
     "output_type": "stream",
     "text": [
      "Timer unit: 1e-09 s\n",
      "\n",
      "Total time: 1.4795 s\n",
      "File: /tmp/ipykernel_23197/3606121126.py\n",
      "Function: _correct_errors at line 19\n",
      "\n",
      "Line #      Hits         Time  Per Hit   % Time  Line Contents\n",
      "==============================================================\n",
      "    19                                           def _correct_errors(midsv_sample, mutation_loci, cssplits_sampling) -> Generator[tuple[str, str]]:\n",
      "    20         1      21459.0  21459.0      0.0      random.seed(1)\n",
      "    21       500     206437.0    412.9      0.0      for samp in midsv_sample:\n",
      "    22       500    1493203.0   2986.4      0.1          qname = samp[\"QNAME\"]\n",
      "    23       500   33685745.0  67371.5      2.3          cssplits = samp[\"CSSPLIT\"].split(\",\")\n",
      "    24   1422500  172971559.0    121.6     11.7          for idx_seq, cs in enumerate(cssplits):\n",
      "    25   1422000  248887782.0    175.0     16.8              if idx_seq == len(mutation_loci) - 1:\n",
      "    26       500     171747.0    343.5      0.0                  break\n",
      "    27   1421500  163220134.0    114.8     11.0              if idx_seq == 0:\n",
      "    28       500      52425.0    104.8      0.0                  one_prior = cs\n",
      "    29       500      55687.0    111.4      0.0                  continue\n",
      "    30   1421000  124387359.0     87.5      8.4              if idx_seq == 1:\n",
      "    31       500      60882.0    121.8      0.0                  two_prior = cs\n",
      "    32       500      55675.0    111.3      0.0                  continue\n",
      "    33   1372159  337559985.0    246.0     22.8              if not (cs[0] in mutation_loci[idx_seq] or cs.startswith(\"=\") or cs == \"N\" or re.search(r\"a|c|g|t|n\", cs)):\n",
      "    34     48841    8989510.0    184.1      0.6                  prev_cs = f\"{one_prior},{two_prior}\"\n",
      "    35     48841   39375250.0    806.2      2.7                  sampling = cssplits_sampling[idx_seq][prev_cs]\n",
      "    36     48841  140824371.0   2883.3      9.5                  cssplits[idx_seq] = random.choices(*zip(*sampling.items()))[0]\n",
      "    37   1421000  191446824.0    134.7     12.9              one_prior, two_prior = two_prior, cs\n",
      "    38       500   15928498.0  31857.0      1.1          cssplits_joined = \",\".join(cssplits)\n",
      "    39       500     101653.0    203.3      0.0          yield (qname, cssplits_joined)"
     ]
    }
   ],
   "source": [
    "%lprun -f _correct_errors list(_correct_errors(midsv_sample[:500], mutation_loci, sampling_sample))"
   ]
  },
  {
   "attachments": {},
   "cell_type": "markdown",
   "metadata": {},
   "source": [
    "- やはり`cssplits_sampling[idx_seq][prev_cs] += Counter([cs])`の計算にものすごい時間がかかっています…\n",
    "    - リストにしてみます"
   ]
  },
  {
   "cell_type": "code",
   "execution_count": 236,
   "metadata": {},
   "outputs": [],
   "source": [
    "def _sampling_cssplits(midsv_sample: dict[list[str, str]], mutation_loci: dict[str, set[int]]) -> Generator:\n",
    "    sampling = defaultdict(lambda: defaultdict(list))\n",
    "    # sampling = [defaultdict(list) for _ in range(len(mutation_loci))]\n",
    "    for cssplits in (cs[\"CSSPLIT\"].split(\",\") for cs in midsv_sample):\n",
    "        for idx_seq, cs in enumerate(cssplits):\n",
    "            if idx_seq == len(mutation_loci) - 1:\n",
    "                break\n",
    "            if idx_seq == 0:\n",
    "                one_prior = cs\n",
    "                continue\n",
    "            if idx_seq == 1:\n",
    "                two_prior = cs\n",
    "                continue\n",
    "            if cs[0] in mutation_loci[idx_seq] or cs.startswith(\"=\") or cs == \"N\" or re.search(r\"a|c|g|t|n\", cs):\n",
    "                prev_cs = one_prior + \",\" + two_prior\n",
    "                sampling[idx_seq][prev_cs].append(cs)\n",
    "            one_prior, two_prior = two_prior, cs\n",
    "    return sampling\n"
   ]
  },
  {
   "cell_type": "code",
   "execution_count": 237,
   "metadata": {},
   "outputs": [
    {
     "name": "stdout",
     "output_type": "stream",
     "text": [
      "Timer unit: 1e-09 s\n",
      "\n",
      "Total time: 2.00056 s\n",
      "File: /tmp/ipykernel_23197/3007809539.py\n",
      "Function: _sampling_cssplits at line 1\n",
      "\n",
      "Line #      Hits         Time  Per Hit   % Time  Line Contents\n",
      "==============================================================\n",
      "     1                                           def _sampling_cssplits(midsv_sample: dict[list[str, str]], mutation_loci: dict[str, set[int]]) -> Generator:\n",
      "     2         1       1814.0   1814.0      0.0      sampling = defaultdict(lambda: defaultdict(list))\n",
      "     3                                               # sampling = [defaultdict(list) for _ in range(len(mutation_loci))]\n",
      "     4       500   28094135.0  56188.3      1.4      for cssplits in (cs[\"CSSPLIT\"].split(\",\") for cs in midsv_sample):\n",
      "     5   1422500  178867583.0    125.7      8.9          for idx_seq, cs in enumerate(cssplits):\n",
      "     6   1422000  263306696.0    185.2     13.2              if idx_seq == len(mutation_loci) - 1:\n",
      "     7       500     268810.0    537.6      0.0                  break\n",
      "     8   1421500  162763560.0    114.5      8.1              if idx_seq == 0:\n",
      "     9       500      48752.0     97.5      0.0                  one_prior = cs\n",
      "    10       500      57302.0    114.6      0.0                  continue\n",
      "    11   1421000  130344087.0     91.7      6.5              if idx_seq == 1:\n",
      "    12       500      52227.0    104.5      0.0                  two_prior = cs\n",
      "    13       500      52114.0    104.2      0.0                  continue\n",
      "    14   1372159  356777183.0    260.0     17.8              if cs[0] in mutation_loci[idx_seq] or cs.startswith(\"=\") or cs == \"N\" or re.search(r\"a|c|g|t|n\", cs):\n",
      "    15   1372159  222859819.0    162.4     11.1                  prev_cs = one_prior + \",\" + two_prior\n",
      "    16   1372159  463469681.0    337.8     23.2                  sampling[idx_seq][prev_cs].append(cs)\n",
      "    17   1421000  193591306.0    136.2      9.7              one_prior, two_prior = two_prior, cs\n",
      "    18         1         80.0     80.0      0.0      return sampling"
     ]
    }
   ],
   "source": [
    "%lprun -f _sampling_cssplits _sampling_cssplits(midsv_sample[:500], mutation_loci)"
   ]
  },
  {
   "cell_type": "code",
   "execution_count": 234,
   "metadata": {},
   "outputs": [
    {
     "name": "stdout",
     "output_type": "stream",
     "text": [
      "defaultdict(<class 'list'>, {'=C,=A': ['=T', '=T', '=T', '=T', '=T', '=T', '=T', '=T', '=T', '=T', '=T', '=T', '=T', '=T', '=T', '=T', '=T', '=T', '=T', '=T', '=T', '=T', '=T', '=T', '=T', '=T', '=T', '=T', '=T', '=T', '=T', '=T', '=T', '=T', '=T', '=T', '=T', '=T', '=T', '=T', '=T', '=T', '=T', '=T', '=T', '=T', '=T', '=T', '=T', '=T', '=T', '=T', '=T', '=T', '=T', '=T', '=T', '=T', '=T', '=T', '=T', '=T', '=T', '=T', '=T', '=T', '=T', '=T', '=T', '=T', '=T', '=T', '=T', '=T', '=T', '=T', '=T', '=T', '=T', '=T', '=T', '=T', '=T', '=T', '=T', '=T', '=T', '=T', '=T', '=T', '=T', '=T', '=T', '=T', '=T', '=T', '=T', '=T', '=T', '=T', '=T', '=T', '=T', '=T', '=T', '=T', '=T', '=T', '=T', '=T', '=T', '=T', '=T', '=T', '=T', '=T', '=T', '=T', '=T', '=T', '=T', '=T', '=T', '=T', '=T', '=T', '=T', '=T', '=T', '=T', '=T', '=T', '=T', '=T', '=T', '=T', '=T', '=T', '=T', '=T', '=T', '=T', '=T', '=T', '=T', '=T', '=T', '=T', '=T', '=T', '=T', '=T', '=T', '=T', '=T', '=T', '=T', '=T', '=T', '=T', '=T', '=T', '=T', '=T', '=T', '=T', '=T', '=T', '=T', '=T', '=T', '=T', '=T', '=T', '=T', '=T', '=T', '=T', '=T', '=T', '=T', '=T', '=T', '=T', '=T', '=T', '=T', '=T', '=T', '=T', '=T', '=T', '=T', '=T', '=T', '=T', '=T', '=T', '=T', '=T', '=T', '=T', '=T', '=T', '=T', '=T', '=T', '=T', '=T', '=T', '=T', '=T', '=T', '=T', '=T', '=T', '=T', '=T', '=T', '=T', '=T', '=T', '=T', '=T', '=T', '=T', '=T', '=T', '=T', '=T', '=T', '=T', '=T', '=T', '=T', '=T', '=T', '=T', '=T', '=T', '=T', '=T', '=T', '=T', '=T', '=T', '=T', '=T', '=T', '=T', '=T', '=T', '=T', '=T', '=T', '=T', '=T', '=T', '=T', '=T', '=T', '=T', '=T', '=T', '=T', '=T', '=T', '=T', '=T', '=T', '=T', '=T', '=T', '=T', '=T', '=T', '=T', '=T', '=T', '=T', '=T', '=T', '=T', '=T', '=T', '=T', '=T', '=T', '=T', '=T', '=T', '=T', '=T', '=T', '=T', '=T', '=T', '=T', '=T', '=T', '=T', '=T', '=T', '=T', '=T', '=T', '=T', '=T', '=T', '=T', '=T', '=T', '=T', '=T', '=T', '=T', '=T', '=T', '=T', '=T', '=T', '=T', '=T', '=T', '=T', '=T', '=T', '=T', '=T', '=T', '=T', '=T', '=T', '=T', '=T', '=T', '=T', '=T', '=T', '=T', '=T', '=T', '=T', '=T', '=T', '=T', '=T', '=T', '=T', '=T', '=T', '=T', '=T', '=T', '=T', '=T', '=T', '=T', '=T', '=T', '=T', '=T', '=T', '=T', '=T', '=T', '=T', '=T', '=T', '=T', '=T', '=T', '=T', '=T', '=T', '=T', '=T', '=T', '=T', '=T', '=T', '=T', '=T', '=T', '=T', '=T', '=T', '=T', '=T', '=T', '=T', '=T', '=T', '=T', '=T', '=T', '=T', '=T', '=T', '=T', '=T', '=T', '=T', '=T', '=T', '=T', '=T', '=T', '=T', '=T', '=T', '=T', '=T', '=T', '=T', '=T', '=T', '=T', '=T', '=T', '=T', '=T', '=T', '=T', '=T', '=T', '=T', '=T', '=T', '=T', '=T', '=T', '=T', '=T', '=T', '=T', '=T', '=T', '=T'], '+C|=C,=A': ['=T', '=T', '=T'], '-C,=A': ['=T', '=T'], '*CT,*AG': ['=T'], '-C,-A': ['=T', '=T'], '*CA,=A': ['=T'], '*CG,*AG': ['=T'], '+G|=C,=A': ['=T'], 'N,N': ['N']})\n",
      "2845\n"
     ]
    }
   ],
   "source": [
    "def _sampling_cssplits(midsv_sample: dict[list[str, str]], mutation_loci: dict[str, set[int]]) -> Generator:\n",
    "    # sampling = defaultdict(lambda: defaultdict(list))\n",
    "    sampling = [defaultdict(list) for _ in range(len(mutation_loci))]\n",
    "    for cssplits in (cs[\"CSSPLIT\"].split(\",\") for cs in midsv_sample):\n",
    "        for idx_seq, cs in enumerate(cssplits):\n",
    "            if idx_seq == len(mutation_loci) - 1:\n",
    "                break\n",
    "            if idx_seq == 0:\n",
    "                one_prior = cs\n",
    "                continue\n",
    "            if idx_seq == 1:\n",
    "                two_prior = cs\n",
    "                continue\n",
    "            if cs[0] in mutation_loci[idx_seq] or cs.startswith(\"=\") or cs == \"N\" or re.search(r\"a|c|g|t|n\", cs):\n",
    "                prev_cs = one_prior + \",\" + two_prior\n",
    "                sampling[idx_seq][prev_cs].append(cs)\n",
    "            one_prior, two_prior = two_prior, cs\n",
    "    return sampling\n"
   ]
  },
  {
   "cell_type": "code",
   "execution_count": 238,
   "metadata": {},
   "outputs": [
    {
     "name": "stdout",
     "output_type": "stream",
     "text": [
      "Timer unit: 1e-09 s\n",
      "\n",
      "Total time: 1.99297 s\n",
      "File: /tmp/ipykernel_23197/3007809539.py\n",
      "Function: _sampling_cssplits at line 1\n",
      "\n",
      "Line #      Hits         Time  Per Hit   % Time  Line Contents\n",
      "==============================================================\n",
      "     1                                           def _sampling_cssplits(midsv_sample: dict[list[str, str]], mutation_loci: dict[str, set[int]]) -> Generator:\n",
      "     2         1       1303.0   1303.0      0.0      sampling = defaultdict(lambda: defaultdict(list))\n",
      "     3                                               # sampling = [defaultdict(list) for _ in range(len(mutation_loci))]\n",
      "     4       500   30604828.0  61209.7      1.5      for cssplits in (cs[\"CSSPLIT\"].split(\",\") for cs in midsv_sample):\n",
      "     5   1422500  182922540.0    128.6      9.2          for idx_seq, cs in enumerate(cssplits):\n",
      "     6   1422000  265974481.0    187.0     13.3              if idx_seq == len(mutation_loci) - 1:\n",
      "     7       500     274578.0    549.2      0.0                  break\n",
      "     8   1421500  165836400.0    116.7      8.3              if idx_seq == 0:\n",
      "     9       500      49801.0     99.6      0.0                  one_prior = cs\n",
      "    10       500      56718.0    113.4      0.0                  continue\n",
      "    11   1421000  130586503.0     91.9      6.6              if idx_seq == 1:\n",
      "    12       500      51717.0    103.4      0.0                  two_prior = cs\n",
      "    13       500      52443.0    104.9      0.0                  continue\n",
      "    14   1372159  343947618.0    250.7     17.3              if cs[0] in mutation_loci[idx_seq] or cs.startswith(\"=\") or cs == \"N\" or re.search(r\"a|c|g|t|n\", cs):\n",
      "    15   1372159  221312699.0    161.3     11.1                  prev_cs = one_prior + \",\" + two_prior\n",
      "    16   1372159  454881650.0    331.5     22.8                  sampling[idx_seq][prev_cs].append(cs)\n",
      "    17   1421000  196413020.0    138.2      9.9              one_prior, two_prior = two_prior, cs\n",
      "    18         1         80.0     80.0      0.0      return sampling"
     ]
    }
   ],
   "source": [
    "%lprun -f _sampling_cssplits _sampling_cssplits(midsv_sample[:500], mutation_loci)"
   ]
  },
  {
   "cell_type": "code",
   "execution_count": 268,
   "metadata": {},
   "outputs": [],
   "source": [
    "def _sampling_cssplits(midsv_sample: dict[list[str, str]], mutation_loci: dict[str, set[int]]) -> Generator[dict[Counter]]:\n",
    "    sampling = [defaultdict(list) for _ in range(len(mutation_loci))]\n",
    "    for cssplits in (cs[\"CSSPLIT\"].split(\",\") for cs in midsv_sample):\n",
    "        for idx_seq, cs in enumerate(cssplits):\n",
    "            if idx_seq == len(mutation_loci) - 1:\n",
    "                break\n",
    "            if idx_seq == 0:\n",
    "                one_prior = cs\n",
    "                continue\n",
    "            if idx_seq == 1:\n",
    "                two_prior = cs\n",
    "                continue\n",
    "            if cs[0] in mutation_loci[idx_seq] or cs.startswith(\"=\") or cs == \"N\" or re.search(r\"a|c|g|t|n\", cs):\n",
    "                prev_cs = one_prior + \",\" + two_prior\n",
    "                sampling[idx_seq][prev_cs].append(cs)\n",
    "            one_prior, two_prior = two_prior, cs\n",
    "    for samp in sampling:\n",
    "        samp_counter = dict()\n",
    "        for key, val in samp.items():\n",
    "            val = Counter(val)\n",
    "            samp_counter.update({key: val})\n",
    "        yield samp_counter\n"
   ]
  },
  {
   "cell_type": "code",
   "execution_count": 263,
   "metadata": {},
   "outputs": [],
   "source": [
    "sampling = _sampling_cssplits(midsv_sample[:500], mutation_loci)"
   ]
  },
  {
   "cell_type": "code",
   "execution_count": 264,
   "metadata": {},
   "outputs": [
    {
     "name": "stdout",
     "output_type": "stream",
     "text": [
      "{}\n",
      "{}\n",
      "{'=T,=G': Counter({'=C': 428}), 'N,N': Counter({'N': 53, '=C': 13}), 'N,=G': Counter({'=C': 6})}\n",
      "{'=G,=C': Counter({'=A': 433}), 'N,N': Counter({'N': 48, '=A': 5}), 'N,=C': Counter({'=A': 13})}\n"
     ]
    }
   ],
   "source": [
    "print(next(sampling))\n",
    "print(next(sampling))\n",
    "print(next(sampling))\n",
    "print(next(sampling))"
   ]
  },
  {
   "cell_type": "code",
   "execution_count": 252,
   "metadata": {},
   "outputs": [],
   "source": [
    "sampling_replaced = sampling.copy()"
   ]
  },
  {
   "attachments": {},
   "cell_type": "markdown",
   "metadata": {},
   "source": [
    "- このままだと毎回`random.choices`を行うことになり、もったいない？\n",
    "- おそらく各indexの各変異の数をカウントして、一括してramdom.choicesを作ったほうが良さそう？\n",
    "- iter()で保存して、next()で出力すれば良い\n",
    "\n",
    "- ↑に取り組む前にまずは今までの改変が動くかどうかを観察します\n"
   ]
  },
  {
   "cell_type": "code",
   "execution_count": 16,
   "metadata": {},
   "outputs": [
    {
     "name": "stdout",
     "output_type": "stream",
     "text": [
      "The memory_profiler extension is already loaded. To reload it, use:\n",
      "  %reload_ext memory_profiler\n"
     ]
    }
   ],
   "source": [
    "%load_ext memory_profiler"
   ]
  },
  {
   "cell_type": "code",
   "execution_count": 20,
   "metadata": {},
   "outputs": [
    {
     "name": "stdout",
     "output_type": "stream",
     "text": [
      "Overwriting tmp_memtest.py\n"
     ]
    }
   ],
   "source": [
    "%%file tmp_memtest.py\n",
    "\n",
    "import random\n",
    "import re\n",
    "from collections import defaultdict, Counter\n",
    "from typing import Generator\n",
    "\n",
    "def _sampling_cssplits(midsv_sample: dict[list[str, str]], mutation_loci: dict[str, set[int]]) -> list[dict[Counter]]:\n",
    "    sampling = [defaultdict(list) for _ in range(len(mutation_loci))]\n",
    "    for cssplits in (cs[\"CSSPLIT\"].split(\",\") for cs in midsv_sample):\n",
    "        for idx_seq, cs in enumerate(cssplits):\n",
    "            if idx_seq == len(mutation_loci) - 1:\n",
    "                break\n",
    "            if idx_seq == 0:\n",
    "                one_prior = cs\n",
    "                continue\n",
    "            if idx_seq == 1:\n",
    "                two_prior = cs\n",
    "                continue\n",
    "            if cs[0] in mutation_loci[idx_seq] or cs.startswith(\"=\") or cs == \"N\" or re.search(r\"a|c|g|t|n\", cs):\n",
    "                prev_cs = one_prior + \",\" + two_prior\n",
    "                sampling[idx_seq][prev_cs].append(cs)\n",
    "            one_prior, two_prior = two_prior, cs\n",
    "    sampling_cssplits = []\n",
    "    for samp in sampling:\n",
    "        samp_counter = dict()\n",
    "        for key, val in samp.items():\n",
    "            val = Counter(val)\n",
    "            samp_counter.update({key: val})\n",
    "        sampling_cssplits.append(samp_counter)\n",
    "    return sampling_cssplits"
   ]
  },
  {
   "cell_type": "code",
   "execution_count": 21,
   "metadata": {},
   "outputs": [],
   "source": [
    "allele = \"control\"\n",
    "midsv_sample = midsv_sample_alleles[allele]\n",
    "midsv_control = midsv_control_alleles[allele]\n",
    "# Extract mutation loci\n",
    "mutation_loci = MUTATION_LOCI_ALLELES[allele]\n"
   ]
  },
  {
   "cell_type": "code",
   "execution_count": 23,
   "metadata": {},
   "outputs": [],
   "source": [
    "\n",
    "def _sampling_cssplits(midsv_sample: dict[list[str, str]], mutation_loci: dict[str, set[int]]) -> list[dict[Counter]]:\n",
    "    sampling = [defaultdict(list) for _ in range(len(mutation_loci))]\n",
    "    for cssplits in (cs[\"CSSPLIT\"].split(\",\") for cs in midsv_sample):\n",
    "        for idx_seq, cs in enumerate(cssplits):\n",
    "            if idx_seq == len(mutation_loci) - 1:\n",
    "                break\n",
    "            if idx_seq == 0:\n",
    "                one_prior = cs\n",
    "                continue\n",
    "            if idx_seq == 1:\n",
    "                two_prior = cs\n",
    "                continue\n",
    "            if cs[0] in mutation_loci[idx_seq] or cs.startswith(\"=\") or cs == \"N\" or re.search(r\"a|c|g|t|n\", cs):\n",
    "                prev_cs = one_prior + \",\" + two_prior\n",
    "                sampling[idx_seq][prev_cs].append(cs)\n",
    "            one_prior, two_prior = two_prior, cs\n",
    "    sampling_cssplits = []\n",
    "    for samp in sampling:\n",
    "        samp_counter = dict()\n",
    "        for key, val in samp.items():\n",
    "            val = Counter(val)\n",
    "            samp_counter.update({key: val})\n",
    "        sampling_cssplits.append(samp_counter)\n",
    "    return sampling_cssplits\n",
    "\n",
    "x = _sampling_cssplits(midsv_sample[:100], mutation_loci)"
   ]
  },
  {
   "cell_type": "code",
   "execution_count": 24,
   "metadata": {},
   "outputs": [
    {
     "name": "stdout",
     "output_type": "stream",
     "text": [
      "\n"
     ]
    },
    {
     "name": "stdout",
     "output_type": "stream",
     "text": [
      "Filename: /mnt/d/Research/DAJIN2/tmp_memtest.py\n",
      "\n",
      "Line #    Mem usage    Increment  Occurrences   Line Contents\n",
      "=============================================================\n",
      "     6    606.8 MiB    606.8 MiB           1   def _sampling_cssplits(midsv_sample: dict[list[str, str]], mutation_loci: dict[str, set[int]]) -> list[dict[Counter]]:\n",
      "     7    606.8 MiB      0.0 MiB        2848       sampling = [defaultdict(list) for _ in range(len(mutation_loci))]\n",
      "     8    608.0 MiB      0.0 MiB         303       for cssplits in (cs[\"CSSPLIT\"].split(\",\") for cs in midsv_sample):\n",
      "     9    608.0 MiB      0.0 MiB      284500           for idx_seq, cs in enumerate(cssplits):\n",
      "    10    608.0 MiB      0.0 MiB      284500               if idx_seq == len(mutation_loci) - 1:\n",
      "    11    608.0 MiB      0.0 MiB         100                   break\n",
      "    12    608.0 MiB      0.0 MiB      284400               if idx_seq == 0:\n",
      "    13    608.0 MiB      0.0 MiB         100                   one_prior = cs\n",
      "    14    608.0 MiB      0.0 MiB         100                   continue\n",
      "    15    608.0 MiB      0.0 MiB      284300               if idx_seq == 1:\n",
      "    16    608.0 MiB      0.0 MiB         100                   two_prior = cs\n",
      "    17    608.0 MiB      0.0 MiB         100                   continue\n",
      "    18    608.0 MiB      0.0 MiB      284200               if cs[0] in mutation_loci[idx_seq] or cs.startswith(\"=\") or cs == \"N\" or re.search(r\"a|c|g|t|n\", cs):\n",
      "    19    608.0 MiB      0.0 MiB      274101                   prev_cs = one_prior + \",\" + two_prior\n",
      "    20    608.0 MiB      1.3 MiB      274101                   sampling[idx_seq][prev_cs].append(cs)\n",
      "    21    608.0 MiB      0.0 MiB      284200               one_prior, two_prior = two_prior, cs\n",
      "    22    608.0 MiB      0.0 MiB           1       sampling_cssplits = []\n",
      "    23    611.9 MiB      0.0 MiB        2846       for samp in sampling:\n",
      "    24    611.9 MiB      0.0 MiB        2845           samp_counter = dict()\n",
      "    25    611.9 MiB      0.0 MiB       15965           for key, val in samp.items():\n",
      "    26    611.9 MiB      3.1 MiB       13120               val = Counter(val)\n",
      "    27    611.9 MiB      0.8 MiB       13120               samp_counter.update({key: val})\n",
      "    28    611.9 MiB      0.0 MiB        2845           sampling_cssplits.append(samp_counter)\n",
      "    29    611.9 MiB      0.0 MiB           1       return sampling_cssplits"
     ]
    }
   ],
   "source": [
    "from tmp_memtest import _sampling_cssplits\n",
    "%mprun -f _sampling_cssplits _sampling_cssplits(midsv_sample[:100], mutation_loci)"
   ]
  },
  {
   "cell_type": "code",
   "execution_count": 25,
   "metadata": {},
   "outputs": [
    {
     "name": "stdout",
     "output_type": "stream",
     "text": [
      "No input file found. \n",
      "This program looks for mprofile_*.dat files, generated by the 'mprof run' command.\n"
     ]
    }
   ],
   "source": [
    "!mprof plot"
   ]
  },
  {
   "cell_type": "code",
   "execution_count": null,
   "metadata": {},
   "outputs": [],
   "source": []
  },
  {
   "cell_type": "code",
   "execution_count": null,
   "metadata": {},
   "outputs": [],
   "source": []
  },
  {
   "cell_type": "code",
   "execution_count": null,
   "metadata": {},
   "outputs": [],
   "source": [
    "# # Correct sequence errors\n",
    "sampling_sample =_sampling_cssplits(midsv_sample, mutation_loci)\n",
    "sampling_control =_sampling_cssplits(midsv_control, mutation_loci)\n",
    "midsv_corected_sample = _correct_errors(midsv_sample, mutation_loci, sampling_sample)\n",
    "midsv_corected_control = _correct_errors(midsv_control, mutation_loci, sampling_control)"
   ]
  },
  {
   "cell_type": "code",
   "execution_count": 275,
   "metadata": {},
   "outputs": [
    {
     "name": "stdout",
     "output_type": "stream",
     "text": [
      "{'QNAME': '00328905-1c46-4f17-8816-7881d8d44bb3', 'CSSPLIT': '=T,=G,=C,=A,=T,=T,=G,=A,=A,=G,=C,=A,=G,=T,=T,=C,=A,=C,=C,=A,=A,=A,=A,=T,=A,=A,=C,*AG,=A,=A,=G,=T,=A,=A,=C,-A,=A,=A,=G,=T,=A,=A,=G,=A,=T,=A,=T,=C,=T,=T,=T,=G,=G,=A,=A,=T,=A,*AG,=T,-C,=A,=A,=T,=T,=C,=A,=A,=G,=A,=T,=A,=A,=T,=C,=A,=A,=G,=G,=A,=A,=A,=A,=A,=T,=G,=A,=G,=A,=G,=G,=C,=A,=A,=C,=T,=A,=T,=T,=T,=T,=A,=G,=A,=C,=T,=G,=A,=T,=T,=A,=C,=T,=T,=T,=T,=A,=T,=A,=A,=A,=A,=T,=A,=A,=A,=T,=A,=A,=G,=C,=T,=C,=A,=G,=C,=T,=T,=A,=G,=C,=C,=A,=G,=A,=T,=A,=T,=A,=A,=G,=C,=A,=A,=T,=A,=T,=T,=C,=T,=G,=A,=G,=T,=T,=C,=T,=G,=A,=A,=G,=A,=A,=A,=A,=A,=T,=T,=T,=T,=T,=G,=A,=C,-A,=A,=A,=A,=T,=G,=A,=G,=T,=T,=C,=T,=A,=T,=A,=A,=A,=T,=G,=T,=T,=A,=T,=T,=G,=T,=C,=T,=A,=C,=T,=T,=A,=T,=G,=A,=T,=C,=T,=C,=T,=A,=A,=A,=T,=A,=C,=A,=A,=C,=A,=G,=G,=C,=T,=T,=G,=T,=A,=T,=T,=C,=A,=G,=A,=A,=T,=C,=T,=A,=G,=A,=T,=G,=T,=T,=T,=C,=A,=T,=G,=A,=C,=C,=T,=T,=T,=A,=T,=T,=C,=A,=T,=A,=A,=G,=A,=G,=A,=T,=G,=A,=T,=G,=T,=A,=T,=T,=C,=T,=T,=G,=A,=T,=A,=C,=T,=A,=C,=T,=T,=C,=T,=C,=A,=T,=T,=T,=G,=C,=A,=A,=A,=T,=T,=C,=C,=A,=A,=T,=T,=A,=T,=T,=A,=T,=T,=A,=A,=T,=T,=T,=C,=A,=T,=A,=T,=C,=A,=A,=T,=T,=A,=G,=A,=A,=T,=A,=A,=T,=A,=T,=A,=T,=C,=T,=T,=C,=C,=T,=T,=C,=A,=A,=T,=T,=T,+A|+A|=A,*GT,=T,=T,=A,=C,=C,=T,=C,=A,=C,=T,=A,=T,=G,=G,=G,=C,=T,=A,=T,=G,=T,=A,=C,=A,=A,=A,=C,=T,=C,=C,=A,=A,=G,=A,=A,=A,=A,=A,=G,=T,=T,=A,=G,=T,=C,=A,=T,=G,=T,=G,=C,=T,=T,=T,=G,=C,=A,=G,=A,=A,=G,=A,=T,-A,-A,=A,=A,=G,=C,=T,=T,=A,=G,=T,=G,=T,=A,=A,=A,=A,=C,=A,=G,=G,=C,=T,=G,=A,=G,=A,=G,=T,=A,=T,=T,=T,=G,=A,=T,=G,=T,=A,=A,=G,=A,=A,-G,=G,=G,=G,*AT,*GT,=T,=G,=G,=T,=T,=A,=T,=A,=T,=A,=G,=G,=T,=C,=T,=T,=A,=G,=C,=C,=A,=A,=A,=A,=C,=A,=T,=G,=T,=G,=A,=T,=A,-G,-T,=C,-A,=C,=T,=C,=C,=A,=G,=G,=G,=G,=T,=T,=G,=C,=T,=G,=G,-A,=A,=A,=A,=G,=A,=A,=G,=T,=C,=T,=G,=T,=G,=A,=C,=A,=C,=T,=C,=A,=T,=T,=A,=A,=C,=C,=T,=A,=T,=T,=G,=G,=T,=G,=C,=A,=G,=A,-T,=T,=T,=T,=G,=T,=A,=T,=G,=A,=T,=C,=T,-A,-A,-A,=G,=G,=A,=G,=A,=A,=A,=A,=T,=G,=T,=T,=C,=T,=T,=G,=G,=C,=T,=G,=T,=T,=T,=T,=G,=T,=A,=T,+G|=T,=G,=C,=C,=T,=T,=C,=T,=G,+T|+A|=T,=G,=G,=A,=G,=T,=T,=T,-C,=C,=A,=G,=A,=T,=C,=T,=C,=T,=G,=A,=T,=G,=G,=C,=C,=A,=T,=T,=T,=T,=C,=C,=T,=C,=G,=A,=G,=C,=C,=T,=G,+C|+A|+A|=T,=G,=C,=C,=T,=C,=C,=T,+C|=C,=T,=A,=A,=G,=A,=A,=C,=T,=T,=G,=T,=T,=G,=G,=C,=A,=A,=A,=A,=G,=A,=A,=T,=G,=C,=T,=G,=C,=C,=C,*AG,=C,=C,=A,=T,=G,=G,=A,=T,=G,=G,=G,=T,=G,=A,=T,=G,=G,=G,=A,=G,=T,=C,=C,=C,=T,=G,=C,*GA,=G,=C,=C,=A,=G,=C,=T,=T,=T,=C,=A,=G,=G,=C,=A,=G,=A,=G,=G,=T,=T,=C,=C,=T,=G,=C,=C,=A,=G,=G,=A,=T,=A,=T,=C,=C,=T,=T,=C,=T,=G,=T,=C,=C,=A,=G,=T,=G,=C,=A,=C,=C,=A,=T,=C,=T,=G,=G,=A,=C,=C,=T,=C,=A,=G,=T,=T,=C,=C,=C,=C,=T,=T,=C,=A,=A,=A,-G,=G,=G,=G,=T,=G,=G,=A,=T,=G,=A,=C,=C,*GT,=T,=G,=A,=G,=T,=C,=C,=T,=G,=G,=C,+T|*CT,=C,=T,=C,=T,=G,+T|+A|=T,=G,=T,=T,=T,=T,=A,=T,=A,=A,=T,*AG,=G,=G,=A,=C,=C,=T,=G,=C,=C,=A,=G,=T,=G,=C,=T,=C,*AG,*GA,=G,=C,=A,*AG,=C,=T,=T,=C,=A,=T,=G,=G,=G,=T,=T,=T,=C,=A,=A,=C,=T,=G,=C,=G,=G,=A,=A,=A,=C,=T,=G,=T,=A,=A,=G,=T,=T,=T,=G,=G,=A,=T,=T,=T,*GA,=G,*GA,*GC,*GC,=C,=C,=C,=A,=A,=A,=T,=T,=G,=T,=A,=C,=A,=G,=A,=G,=A,=A,=G,=C,=G,=A,=G,=T,=C,=T,=T,=G,=A,=T,=T,=A,=G,=A,=A,=G,=A,=A,=A,=C,=A,=T,=T,=T,=T,=T,=G,=A,=T,=T,=T,=G,=A,=G,=T,=G,=T,=C,=T,=C,=C,=G,=A,=A,=A,=A,=G,=A,=A,=T,=A,=A,=G,=T,=T,=C,=T,=T,=T,=T,=C,=T,=T,=A,=C,=C,=T,=C,=A,=C,=T,=T,=T,=A,=G,=C,=A,=A,=A,=A,=C,=A,=T,=A,=C,=T,=A,=T,=C,=A,=G,=C,=T,=C,=A,=G,=T,=C,=T,=A,=T,=G,=T,=C,=A,=T,=C,=C,=C,=C,=A,=C,=A,=G,=G,=C,=A,=C,=C,=T,=A,=T,=G,=G,=C,=C,=A,=A,=A,=T,=G,=A,=A,=C,=A,=A,=T,=G,=G,=G,=T,=C,=A,=A,=C,=A,=C,=C,=C,=A,=T,=G,=T,=T,=T,=A,=A,=T,=G,=A,=T,=A,=T,=C,=A,=A,=C,=A,=T,=C,=T,=A,=C,=G,=A,=C,=C,=T,=C,=T,=T,=T,=G,=T,=A,=T,=G,=G,=A,=T,=G,=C,=A,=T,=T,=A,=C,=T,=A,=T,=G,=T,=G,=T,=C,=A,=A,=G,=G,=G,=A,=C,=A,=C,=A,=C,=T,=G,=C,=T,=T,=G,=G,=G,=G,+A|=G,=C,=T,=C,=T,=G,=A,=A,=A,=T,=A,=T,=G,=G,=A,=G,=G,=G,=A,=C,=A,=T,=T,=G,=A,=T,=T,=T,=T,=G,-C,=C,=C,=A,=T,=G,=A,-A,-G,=C,=A,=C,=C,=A,=G,=G,=G,=T,=T,=T,=C,=T,=G,=C,=C,=T,=T,=G,=G,=C,=A,=C,=A,=G,=A,=C,=T,=T,=T,=T,=C,=T,=T,=G,=T,=T,=A,=T,=T,=G,=T,=G,=G,=G,=A,=A,=C,=A,=A,=G,=A,=A,=A,=T,=T,=C,=G,=A,*GA,*AG,=A,=C,=T,=A,=A,=C,=T,=G,=G,=G,=G,=A,=T,=G,=A,=G,=A,=A,-C,-T,-T,=C,=A,=C,=T,=G,=T,=T,=C,=C,=A,=T,=A,=C,=T,=G,=G,=G,=A,=T,=T,=G,=G,=A,=G,=A,=G,=A,=T,=G,=C,=A,=G,=A,=A,=A,=A,=C,=T,=G,=T,=G,=A,=C,=A,=T,=T,=T,=G,=C,=A,=C,=A,=G,=A,=T,=G,=A,=G,=T,=A,=C,=T,=T,=G,=G,=G,=A,=G,=G,=T,=C,=G,=T,=C,=A,-C,=C,=C,=T,=G,=A,=A,=A,=A,=T,=C,=C,=T,=A,=A,=C,=T,=T,=A,=C,=T,=C,=A,=G,=C,=C,=C,=A,=G,=C,=A,=T,=C,=C,=T,=T,=C,=T,=T,=C,=T,=C,=C,=T,=C,=C,=T,=G,=G,=C,=A,=G,=G,=T,=A,=A,=G,=A,=T,=G,=C,=A,=C,=T,=A,=T,=A,=T,+A|+G|=A,=G,=A,=G,=A,=G,=A,=G,=T,=T,=G,=C,=A,=A,=A,=G,=A,=C,=T,=G,=G,=T,=A,=C,=T,=T,=C,=A,=G,=C,=A,=G,=C,=C,=A,=C,=A,=T,=T,=T,=T,=C,=A,=T,=G,=C,=T,=C,=T,=G,=T,=G,=A,=G,=C,=A,=T,=C,=T,=C,=T,=G,=A,=T,=A,=A,=T,=A,=T,=C,=T,=C,=A,=G,=G,=G,=C,=A,=G,=A,=A,=A,=A,=T,=G,=T,=G,=C,=C,=T,=T,=A,-C,=T,=A,=A,=C,*AT,=G,+G|+A|=A,=T,*GA,=T,=T,-A,=A,=T,=G,=C,=T,=T,=C,=T,=T,=G,+A|=A,=T,=T,=T,=C,=T,=T,=T,=T,=T,=C,=T,=C,=T,=T,=T,=T,=G,=A,=G,=A,=A,=C,=T,=C,=T,=T,=C,=A,=A,=A,=G,=T,=T,=G,=T,=T,=A,=T,=T,=A,=A,=A,=C,=A,=A,=A,=T,=A,=T,=C,=T,=A,=T,=G,=T,=G,=C,=T,=T,=A,=T,=T,=T,=G,=T,=C,=T,=T,=A,=A,=T,=A,=T,=C,=T,=A,=A,=C,=A,=G,=C,=T,=T,=A,=G,=T,=T,=A,=G,=A,=T,=T,=T,=C,=T,=A,=A,=G,=C,=T,=G,=C,=T,=A,=T,=A,=A,=A,=C,=A,=A,=G,=G,=A,=C,=T,=G,=A,=T,=T,=G,=G,=T,=T,=C,=A,=C,=C,=A,=C,=T,=G,=T,=A,=T,=T,=G,=T,=T,=A,=G,=C,=A,=C,=C,=T,=C,=C,=T,=A,=T,=G,=G,=T,=A,=T,=C,=T,=G,=G,=A,=A,=T,-A,=A,=A,=C,=A,=G,=T,=A,=A,=C,=T,=C,=A,=G,=T,=T,=A,=T,=T,=T,=A,=A,=G,=A,=A,=T,=G,=G,=A,=T,=G,=A,=G,=A,=A,=A,=C,=C,=A,=G,=A,=T,=T,=A,=T,=C,=T,=T,+G|=A,*GA,=T,=T,=C,=A,=T,=G,=T,=T,=T,=C,=T,=G,=A,=G,=T,=A,=A,=T,=A,=T,=T,=A,=A,=A,=A,=T,=T,=A,=A,=T,=A,=T,=T,=A,=A,=C,=A,=G,=T,=A,=A,=A,=A,=T,=C,=C,=A,=T,=A,=A,=G,=T,=A,=T,=G,=C,=T,=A,=C,=T,=T,=T,=A,=A,=A,=A,=T,=A,=T,=A,=A,=A,=T,=C,=T,=C,=T,=G,=G,=C,=C,=A,=A,=A,=A,=C,=C,=A,=A,=G,=A,=C,=T,=T,=A,=T,=T,=A,=T,=T,=C,=A,=G,=G,=A,=T,=C,=T,=T,=C,=A,=A,=G,=A,=G,=A,=A,=A,=G,=T,=G,=C,=T,=G,=A,=G,=A,=T,=A,=A,=T,=T,=C,=A,=C,=T,=A,=A,=G,=T,=A,=T,=C,=A,=G,=A,=G,=A,=T,=G,=A,=C,=C,=T,=T,=T,=A,=T,=T,=A,=C,=A,=T,=G,=A,=T,=T,=G,=C,=C,=T,=G,=A,=T,=A,=G,=A,=A,=A,=A,=A,=A,=T,=G,=A,=T,=T,=A,=C,=A,=C,=A,=C,=A,=C,=A,=C,=A,=A,=A,=A,=A,=A,=A,=T,=C,=T,=T,=C,=A,=G,=T,=T,=G,=C,=T,=T,=A,=A,=A,=T,=T,=T,=T,=A,=A,=A,=C,=G,=T,=T,=G,=C,=T,=G,=A,=C,=T,=C,=T,=C,=A,=A,=A,=C,=A,=G,=T,=T,=A,=A,=G,=T,=A,=A,=T,=A,=A,=A,=A,=G,=A,=G,=T,=T,=A,=A,=A,=G,=C,=C,=T,=G,=C,=T,=G,=T,=G,=T,=A,=T,=T,=T,=A,=G,=A,=A,=T,=A,=T,=G,=T,=G,=A,=A,=T,=A,=C,=C,=T,=A,=T,=T,=G,-A,=A,=A,=G,=A,=A,=T,=T,=T,=A,=T,=T,=G,=T,=A,=C,=A,=A,=T,=T,=A,=A,=T,=A,=T,=A,=A,=A,=C,=A,=G,=A,=C,=T,=T,=C,=T,=A,=T,=T,=T,=T,=A,=C,=A,=G,=T,=C,=A,=T,=A,=A,=G,=A,=T,=A,=C,=T,=A,=C,=T,=T,=A,=A,=T,=T,=T,=G,=T,=T,=A,=A,=A,=A,=A,=T,=T,=A,=T,=T,=T,=T,=T,=T,=G,=A,=T,=A,=G,=C,=A,=T,=T,=G,=T,=T,=G,=G,=T,=A,=A,=A,=T,=A,=G,=C,=A,=A,=A,=G,=G,=T,=G,=A,=T,=A,=T,=T,=T,=G,=C,=T,=A,=A,=T,=G,=A,=T,=T,=A,=C,=A,=A,=G,=G,+A|=G,=C,=T,=G,=T,=C,=T,=G,*GA,=C,+G|=T,=A,=A,=C,-T,-T,-A,-C,-G,-T,=T,=A,=T,=G,=T,=T,=C,=A,-G,=G,=G,=A,=G,=A,=A,=G,=A,=C,=A,=G,=T,=C,=C,=T,=T,=T,=T,=T,=A,=A,+G|=G,=G,=A,=A,=T,=G,=G,=G,=C,=A,=C,=T,=T,=T,=C,=T,=A,=A,=C,=T,=T,=T,=T,=T,=T,=T,=C,=T,=C,=T,=A,=G,=G,=A,=T,=G,=G,=A,=G,=A,=A,=A,=A,=A,=T,=T,=A,=G,=C,=C,=T,=T,=C,=T,=T,=C,=C,=T,=A,=C,=T,=T,=T,=A,=A,=A,=A,=A,=T,=G,=T,=T,=A,=G,=A,=C,=A,=T,=A,=G,=A,=A,=T,=T,=A,=A,=G,=G,=G,=A,=T,=T,=G,=T,=T,=A,+T|=T,=T,=T,=T,=G,=A,=G,=A,=T,=T,=A,=A,=A,=T,=T,=T,=T,=C,=T,=T,=T,=T,=C,=T,=C,=C,=T,=A,=T,=T,=A,=T,=T,=T,=T,=T,=C,=C,=T,=C,=A,=T,=T,=C,=T,=G,=G,=A,=A,=T,=G,=G,=A,=A,=G,=C,=A,=A,=A,=A,=G,=A,=T,=G,=A,=A,=G,=A,=A,=A,=G,=A,=A,=A,=T,=A,=T,=A,=T,=G,=T,=T,=A,=A,=A,=T,=T,=G,=T,=T,=T,=T,=C,=C,=T,=T,=T,=A,=A,=A,=T,=G,=A,=A,=C,=A,=C,=A,=A,=A,=T,=G,=T,=G,=A,=A,=A,=T,=A,=T,=G,=T,=T,=T,=T,=T,=C,=T,=G,=C,=C,=T,=A,=T,=C,=T,=T,=G,=T,=A,=A,=A,=A,=T,=T,=T,=T,=C,=T,=A,=T,=T,=G,=C,=A,=A,=C,=T,=A,=T,=T,=C,=T,=G,=A,=T,=T,=A,=C,=C,=A,=G,=T,=T,=C,=A,=A,=A,=T,=G,=G,=G,=G,-A,-A,=A,=A,=A,=A,=G,=A,=A,=C,=A,=T,=A,=G,=G,=C,=T,=A,=C,=C,=C,=C,=A,=C,=A,=C,=T,=T,=G,=A,=A,=A,=T,=T,=T,=T,=G,=A,=A,=A,=T,=A,=T,=G,=A,=A,=T,=G,=T,=C,=C,=T,=C,=T,=G,=T,=C,=T,=C,=T,=G,=C,=T,=G,=G,=T,=C,=T,=A,=A,=C,=A,=C,=T,=T,=C,=C,=A,=A,=A,=A,=T,=G,=G,=A,=A,=A,=C,=C,=T,=T,=T,=A,=A,=A,=G,=G,=G,=C,=C,=A,=C,=T,=G,=T,=A,=A,=A,=T,=T,=A,=C,=A,=G,=C,=T,=G,=C,=T,=A,=A,=T,=T,=C,=C,=T,=G,=G,=T,=G,=C,=C,=A,=A,=T,=G,=G,=T,=G,=A,=T,=A,=A,=G,=T,=G,=T,=T,=T,=A,=C,=T,=A,=A,=A,=C,=C,=T,=A,=G,=T,=G,=A,=G,=T,=A,=C,=T,=T,=T,=A,=T,=A,=G,=C,=A,=T,=G,=G,=G,=G,=C,=T,=C,=T,=G,=C,=T,=G,=C,+A|+A|+A|=G,+A|=A,=A,=G,=T,=A,=A,=C,=A,=T,=T,=G,=C,=T,=G,=T,=A,=T,=A,=T,=T,=T,=T,=C,=A,=G,=T,=C,=A,=T,=T,=C,=T,=A,=C,=C,=T,=T,=A,=A,=T,=T,=C,=A,=T,=G,=A,=A,=C,=T,=G,=C,=A,=A,=A,=A,=C,=T,=C,=T,=C,=A,=T,+C|=C,=T,=A,=G,=C,=T,=T,=T,=T,=T,=A,=C,=T,=T,=C,=T,=C,=T,=A,=G,=C,=T,=A,=T,=T,=G,=C,=T,=T,=T,=A,=A,*GA,=T,=T,=C,=T,=A,=T,=C,=A,=G,=G,=C,=T,=C,=A,=G,=G,=T,=G,=T,=G,=G,=A,=A,=T,=T,=C,=T,=C'}\n"
     ]
    }
   ],
   "source": [
    "print(midsv_sample[3])"
   ]
  },
  {
   "cell_type": "code",
   "execution_count": 276,
   "metadata": {},
   "outputs": [
    {
     "name": "stdout",
     "output_type": "stream",
     "text": [
      "{'QNAME': '00328905-1c46-4f17-8816-7881d8d44bb3', 'CSSPLIT': '=T,=G,=C,=A,=T,=T,=G,=A,=A,=G,=C,=A,=G,=T,=T,=C,=A,=C,=C,=A,=A,=A,=A,=T,=A,=A,=C,=A,=A,=A,=G,=T,=A,=A,=C,=A,=A,=A,=G,=T,=A,=A,=G,=A,=T,=A,=T,=C,=T,=T,=T,=G,=G,=A,=A,=T,=A,=A,=T,=C,=A,=A,=T,=T,=C,=A,=A,=G,=A,=T,=A,=A,=T,=C,=A,=A,=G,=G,=A,=A,=A,=A,=A,=T,=G,=A,=G,=A,=G,=G,=C,=A,=A,=C,=T,=A,=T,=T,=T,=T,=A,=G,=A,=C,=T,=G,=A,=T,=T,=A,=C,=T,=T,=T,=T,=A,=T,=A,=A,=A,=A,=T,=A,=A,=A,=T,=A,=A,=G,=C,=T,=C,=A,=G,=C,=T,=T,=A,=G,=C,=C,=A,=G,=A,=T,=A,=T,=A,=A,=G,=C,=A,=A,=T,=A,=T,=T,=C,=T,=G,=A,=G,=T,=T,=C,=T,=G,=A,=A,=G,=A,=A,=A,=A,=A,=T,=T,=T,=T,=T,=G,=A,=C,=A,=A,=A,=A,=T,=G,=A,=G,=T,=T,=C,=T,=A,=T,=A,=A,=A,=T,=G,=T,=T,=A,=T,=T,=G,=T,=C,=T,=A,=C,=T,=T,=A,=T,=G,=A,=T,=C,=T,=C,=T,=A,=A,=A,=T,=A,=C,=A,=A,=C,=A,=G,=G,=C,=T,=T,=G,=T,=A,=T,=T,=C,=A,=G,=A,=A,=T,=C,=T,=A,=G,=A,=T,=G,=T,=T,=T,=C,=A,=T,=G,=A,=C,=C,=T,=T,=T,=A,=T,=T,=C,=A,=T,=A,=A,=G,=A,=G,=A,=T,=G,=A,=T,=G,=T,=A,=T,=T,=C,=T,=T,=G,=A,=T,=A,=C,=T,=A,=C,=T,=T,=C,=T,=C,=A,=T,=T,=T,=G,=C,=A,=A,=A,=T,=T,=C,=C,=A,=A,=T,=T,=A,=T,=T,=A,=T,=T,=A,=A,=T,=T,=T,=C,=A,=T,=A,=T,=C,=A,=A,=T,=T,=A,=G,=A,=A,=T,=A,=A,=T,=A,=T,=A,=T,=C,=T,=T,=C,=C,=T,=T,=C,=A,=A,=T,=T,=T,=A,=G,=T,=T,=A,=C,=C,=T,=C,=A,=C,=T,=A,=T,=G,=G,=G,=C,=T,=A,=T,=G,=T,=A,=C,=A,=A,=A,=C,=T,=C,=C,=A,=A,=G,=A,=A,=A,=A,=A,=G,=T,=T,=A,=G,=T,=C,=A,=T,=G,=T,=G,=C,=T,=T,=T,=G,=C,=A,=G,=A,=A,=G,=A,=T,=A,=A,=A,=A,=G,=C,=T,=T,=A,=G,=T,=G,=T,=A,=A,=A,=A,=C,=A,=G,=G,=C,=T,=G,=A,=G,=A,=G,=T,=A,=T,=T,=T,=G,=A,=T,=G,=T,=A,=A,=G,=A,=A,=G,=G,=G,=G,=A,=G,=T,=G,=G,=T,=T,=A,=T,=A,=T,=A,=G,=G,=T,=C,=T,=T,=A,=G,=C,=C,=A,=A,=A,=A,=C,=A,=T,=G,=T,=G,=A,=T,=A,=G,=T,=C,=A,=C,=T,=C,=C,=A,=G,=G,=G,=G,=T,=T,=G,=C,=T,=G,=G,=A,=A,=A,=A,=G,=A,=A,=G,=T,=C,=T,=G,=T,=G,=A,=C,=A,=C,=T,=C,=A,=T,=T,=A,=A,=C,=C,=T,=A,=T,=T,=G,=G,=T,=G,=C,=A,=G,=A,=T,=T,=T,=T,=G,=T,=A,=T,=G,=A,=T,=C,=T,=A,=A,=A,=G,=G,=A,=G,=A,=A,=A,=A,=T,=G,=T,=T,=C,=T,=T,=G,=G,=C,=T,=G,=T,=T,=T,=T,=G,=T,=A,=T,=T,=G,=C,=C,=T,=T,=C,=T,=G,=T,=G,=G,=A,=G,=T,=T,=T,=C,=C,=A,=G,=A,=T,=C,=T,=C,=T,=G,=A,=T,=G,=G,=C,=C,=A,=T,=T,=T,=T,=C,=C,=T,=C,=G,=A,=G,=C,=C,=T,=G,=T,=G,=C,=C,=T,=C,=C,=T,=C,=T,=A,=A,=G,=A,=A,=C,=T,=T,=G,=T,=T,=G,=G,=C,=A,=A,=A,=A,=G,=A,=A,=T,=G,=C,=T,=G,=C,=C,=C,=A,=C,=C,=A,=T,=G,=G,=A,=T,=G,=G,=G,=T,=G,=A,=T,=G,=G,=G,=A,=G,=T,=C,=C,=C,=T,=G,=C,=G,=G,=C,=C,=A,=G,=C,=T,=T,=T,=C,=A,=G,=G,=C,=A,=G,=A,=G,=G,=T,=T,=C,=C,=T,=G,=C,=C,=A,=G,=G,=A,=T,=A,=T,=C,=C,=T,=T,=C,=T,=G,=T,=C,=C,=A,=G,=T,=G,=C,=A,=C,=C,=A,=T,=C,=T,=G,=G,=A,=C,=C,=T,=C,=A,=G,=T,=T,=C,=C,=C,=C,=T,=T,=C,=A,=A,=A,=G,=G,=G,=G,=T,=G,=G,=A,=T,=G,=A,=C,=C,*GT,=T,=G,=A,=G,=T,=C,=C,=T,=G,=G,=C,=C,=C,=T,=C,=T,=G,=T,=G,=T,=T,=T,=T,=A,=T,=A,=A,=T,*AG,=G,=G,=A,=C,=C,=T,=G,=C,=C,=A,=G,=T,=G,=C,=T,=C,*AG,=G,=G,=C,=A,=A,=C,=T,=T,=C,=A,=T,=G,=G,=G,=T,=T,=T,=C,=A,=A,=C,=T,=G,=C,=G,=G,=A,=A,=A,=C,=T,=G,=T,=A,=A,=G,=T,=T,=T,=G,=G,=A,=T,=T,=T,=G,=G,=G,=G,N,=C,=C,=C,=A,=A,=A,=T,=T,=G,=T,=A,=C,=A,=G,=A,=G,=A,=A,=G,=C,=G,=A,=G,=T,=C,=T,=T,=G,=A,=T,=T,=A,=G,=A,=A,=G,=A,=A,=A,=C,=A,=T,=T,=T,=T,=T,=G,=A,=T,=T,=T,=G,=A,=G,=T,=G,=T,=C,=T,=C,=C,=G,=A,=A,=A,=A,=G,=A,=A,=T,=A,=A,=G,=T,=T,=C,=T,=T,=T,=T,=C,=T,=T,=A,=C,=C,=T,=C,=A,=C,=T,=T,=T,=A,=G,=C,=A,=A,=A,=A,=C,=A,=T,=A,=C,=T,=A,=T,=C,=A,=G,=C,=T,=C,=A,=G,=T,=C,=T,=A,=T,=G,=T,=C,=A,=T,=C,=C,=C,=C,=A,=C,=A,=G,=G,=C,=A,=C,=C,=T,=A,=T,=G,=G,=C,=C,=A,=A,=A,=T,=G,=A,=A,=C,=A,=A,=T,=G,=G,=G,=T,=C,=A,=A,=C,=A,=C,=C,=C,=A,=T,=G,=T,=T,=T,=A,=A,=T,=G,=A,=T,=A,=T,=C,=A,=A,=C,=A,=T,=C,=T,=A,=C,=G,=A,=C,=C,=T,=C,=T,=T,=T,=G,=T,=A,=T,=G,=G,=A,=T,=G,=C,=A,=T,=T,=A,=C,=T,=A,=T,=G,=T,=G,=T,=C,=A,=A,=G,=G,=G,=A,=C,=A,=C,=A,=C,=T,=G,=C,=T,=T,=G,=G,=G,=G,=G,=C,=T,=C,=T,=G,=A,=A,=A,=T,=A,=T,=G,=G,=A,=G,=G,=G,=A,=C,=A,=T,=T,=G,=A,=T,=T,=T,=T,=G,=C,=C,=C,=A,=T,=G,=A,=A,N,=C,=A,=C,=C,=A,=G,=G,=G,=T,=T,=T,=C,=T,=G,=C,=C,=T,=T,=G,=G,=C,=A,=C,=A,=G,=A,=C,=T,=T,=T,=T,=C,=T,=T,=G,=T,=T,=A,=T,=T,=G,=T,=G,=G,=G,=A,=A,=C,=A,=A,=G,=A,=A,=A,=T,=T,=C,=G,=A,=G,=A,=A,=C,=T,=A,=A,=C,=T,=G,=G,=G,=G,=A,=T,=G,=A,=G,=A,=A,=C,-T,=T,=C,=A,=C,=T,=G,=T,=T,=C,=C,=A,=T,=A,=C,=T,=G,=G,=G,=A,=T,=T,=G,=G,=A,=G,=A,=G,=A,=T,=G,=C,=A,=G,=A,=A,=A,=A,=C,=T,=G,=T,=G,=A,=C,=A,=T,=T,=T,=G,=C,=A,=C,=A,=G,=A,=T,=G,=A,=G,=T,=A,=C,=T,=T,=G,=G,=G,=A,=G,=G,=T,=C,=G,=T,=C,=A,=C,=C,=C,=T,=G,=A,=A,=A,=A,=T,=C,=C,=T,=A,=A,=C,=T,=T,=A,=C,=T,=C,=A,=G,=C,=C,=C,=A,=G,=C,=A,=T,=C,=C,=T,=T,=C,=T,=T,=C,=T,=C,=C,=T,=C,=C,=T,=G,=G,=C,=A,=G,=G,=T,=A,=A,=G,=A,=T,=G,=C,=A,=C,=T,=A,=T,=A,=T,=A,=G,=A,=G,=A,=G,=A,=G,=T,=T,=G,=C,=A,=A,=A,=G,=A,=C,=T,=G,=G,=T,=A,=C,=T,=T,=C,=A,=G,=C,=A,=G,=C,=C,=A,=C,=A,=T,=T,=T,=T,=C,=A,=T,=G,=C,=T,=C,=T,=G,=T,=G,=A,=G,=C,=A,=T,=C,=T,=C,=T,=G,=A,=T,=A,=A,=T,=A,=T,=C,=T,=C,=A,=G,=G,=G,=C,=A,=G,=A,=A,=A,=A,=T,=G,=T,=G,=C,=C,=T,=T,=A,-C,=T,=A,=A,=C,=A,=G,=A,=T,=G,=T,=T,-A,=A,=T,=G,=C,=T,=T,=C,=T,=T,=G,=A,=T,=T,=T,=C,=T,=T,=T,=T,=T,=C,=T,=C,=T,=T,=T,=T,=G,=A,=G,=A,=A,=C,=T,=C,=T,=T,=C,=A,=A,=A,=G,=T,=T,=G,=T,=T,=A,=T,=T,=A,=A,=A,=C,=A,=A,=A,=T,=A,=T,=C,=T,=A,=T,=G,=T,=G,=C,=T,=T,=A,=T,=T,=T,=G,=T,=C,=T,=T,=A,=A,=T,=A,=T,=C,=T,=A,=A,=C,=A,=G,=C,=T,=T,=A,=G,=T,=T,=A,=G,=A,=T,=T,=T,=C,=T,=A,=A,=G,=C,=T,=G,=C,=T,=A,=T,=A,=A,=A,=C,=A,=A,=G,=G,=A,=C,=T,=G,=A,=T,=T,=G,=G,=T,=T,=C,=A,=C,=C,=A,=C,=T,=G,=T,=A,=T,=T,=G,=T,=T,=A,=G,=C,=A,=C,=C,=T,=C,=C,=T,=A,=T,=G,=G,=T,=A,=T,=C,=T,=G,=G,=A,=A,=T,-A,=A,=A,=C,=A,=G,=T,=A,=A,=C,=T,=C,=A,=G,=T,=T,=A,=T,=T,=T,=A,=A,=G,=A,=A,=T,=G,=G,=A,=T,=G,=A,=G,=A,=A,=A,=C,=C,=A,=G,=A,=T,=T,=A,=T,=C,=T,=T,=A,=G,=T,=T,=C,=A,=T,=G,=T,=T,=T,=C,=T,=G,=A,=G,=T,=A,=A,=T,=A,=T,=T,=A,=A,=A,=A,=T,=T,=A,=A,=T,=A,=T,=T,=A,=A,=C,=A,=G,=T,=A,=A,=A,=A,=T,=C,=C,=A,=T,=A,=A,=G,=T,=A,=T,=G,=C,=T,=A,=C,=T,=T,=T,=A,=A,=A,=A,=T,=A,=T,=A,=A,=A,=T,=C,=T,=C,=T,=G,=G,=C,=C,=A,=A,=A,=A,=C,=C,=A,=A,=G,=A,=C,=T,=T,=A,=T,=T,=A,=T,=T,=C,=A,=G,=G,=A,=T,=C,=T,=T,=C,=A,=A,=G,=A,=G,=A,=A,=A,=G,=T,=G,=C,=T,=G,=A,=G,=A,=T,=A,=A,=T,=T,=C,=A,=C,=T,=A,=A,=G,=T,=A,=T,=C,=A,=G,=A,=G,=A,=T,=G,=A,=C,=C,=T,=T,=T,=A,=T,=T,=A,=C,=A,=T,=G,=A,=T,=T,=G,=C,=C,=T,=G,=A,=T,=A,=G,=A,=A,=A,=A,=A,=A,=T,=G,=A,=T,=T,=A,=C,=A,=C,=A,=C,=A,=C,=A,=C,=A,=A,=A,=A,=A,=A,=A,=T,=C,=T,=T,=C,=A,=G,=T,=T,=G,=C,=T,=T,=A,=A,=A,=T,=T,=T,=T,=A,=A,=A,=C,=G,=T,=T,=G,=C,=T,=G,=A,=C,=T,=C,=T,=C,=A,=A,=A,=C,=A,=G,=T,=T,=A,=A,=G,=T,=A,=A,=T,=A,=A,=A,=A,=G,=A,=G,=T,=T,=A,=A,=A,=G,=C,=C,=T,=G,=C,=T,=G,=T,=G,=T,=A,=T,=T,=T,=A,=G,=A,=A,=T,=A,=T,=G,=T,=G,=A,=A,=T,=A,=C,=C,=T,=A,=T,=T,=G,=A,=A,=A,=G,=A,=A,=T,=T,=T,=A,=T,=T,=G,=T,=A,=C,=A,=A,=T,=T,=A,=A,=T,=A,=T,=A,=A,=A,=C,=A,=G,=A,=C,=T,=T,=C,=T,=A,=T,=T,=T,=T,=A,=C,=A,=G,=T,=C,=A,=T,=A,=A,=G,=A,=T,=A,=C,=T,=A,=C,=T,=T,=A,=A,=T,=T,=T,=G,=T,=T,=A,=A,=A,=A,=A,=T,=T,=A,=T,=T,=T,=T,=T,=T,=G,=A,=T,=A,=G,=C,=A,=T,=T,=G,=T,=T,=G,=G,=T,=A,=A,=A,=T,=A,=G,=C,=A,=A,=A,=G,=G,=T,=G,=A,=T,=A,=T,=T,=T,=G,=C,=T,=A,=A,=T,=G,=A,=T,=T,=A,=C,=A,=A,=G,=G,=G,=C,=T,=G,=T,=C,=T,=G,=G,=C,=T,=A,=A,=C,=T,=T,=A,=C,=G,=T,=T,=A,=T,=G,=T,=T,=C,=A,=G,=G,=G,=A,=G,=A,=A,=G,=A,=C,=A,=G,=T,=C,=C,=T,=T,=T,=T,=T,=A,=A,=G,=G,=A,=A,=T,=G,=G,=G,=C,=A,=C,=T,=T,=T,=C,=T,=A,=A,=C,=T,=T,=T,=T,=T,=T,=T,=C,=T,=C,=T,=A,=G,=G,=A,=T,=G,=G,=A,=G,=A,=A,=A,=A,=A,=T,=T,=A,=G,=C,=C,=T,=T,=C,=T,=T,=C,=C,=T,=A,=C,=T,=T,=T,=A,=A,=A,=A,=A,=T,=G,=T,=T,=A,=G,=A,=C,=A,=T,=A,=G,=A,=A,=T,=T,=A,=A,=G,=G,=G,=A,=T,=T,=G,=T,=T,=A,=T,=T,=T,=T,=G,=A,=G,=A,=T,=T,=A,=A,=A,=T,=T,=T,=T,=C,=T,=T,=T,=T,=C,=T,=C,=C,=T,=A,=T,=T,=A,=T,=T,=T,=T,=T,=C,=C,=T,=C,=A,=T,=T,=C,=T,=G,=G,=A,=A,=T,=G,=G,=A,=A,=G,=C,=A,=A,=A,=A,=G,=A,=T,=G,=A,=A,=G,=A,=A,=A,=G,=A,=A,=A,=T,=A,=T,=A,=T,=G,=T,=T,=A,=A,=A,=T,=T,=G,=T,=T,=T,=T,=C,=C,=T,=T,=T,=A,=A,=A,=T,=G,=A,=A,=C,=A,=C,=A,=A,=A,=T,=G,=T,=G,=A,=A,=A,=T,=A,=T,=G,=T,=T,=T,=T,=T,=C,=T,=G,=C,=C,=T,=A,=T,=C,=T,=T,=G,=T,=A,=A,=A,=A,=T,=T,=T,=T,=C,=T,=A,=T,=T,=G,=C,=A,=A,=C,=T,=A,=T,=T,=C,=T,=G,=A,=T,=T,=A,=C,=C,=A,=G,=T,=T,=C,=A,=A,=A,=T,=G,=G,=G,=G,=A,=A,=A,=A,=A,=A,=G,=A,=A,=C,=A,=T,=A,=G,=G,=C,=T,=A,=C,=C,=C,=C,=A,=C,=A,=C,=T,=T,=G,=A,=A,=A,=T,=T,=T,=T,=G,=A,=A,=A,=T,=A,=T,=G,=A,=A,=T,=G,=T,=C,=C,=T,=C,=T,=G,=T,=C,=T,=C,=T,=G,=C,=T,=G,=G,=T,=C,=T,=A,=A,=C,=A,=C,=T,=T,=C,=C,=A,=A,=A,=A,=T,=G,=G,=A,=A,=A,=C,=C,=T,=T,=T,=A,=A,=A,=G,=G,=G,=C,=C,=A,=C,=T,=G,=T,=A,=A,=A,=T,=T,=A,=C,=A,=G,=C,=T,=G,=C,=T,=A,=A,=T,=T,=C,=C,=T,=G,=G,=T,=G,=C,=C,=A,=A,=T,=G,=G,=T,=G,=A,=T,=A,=A,=G,=T,=G,=T,=T,=T,=A,=C,=T,=A,=A,=A,=C,=C,=T,=A,=G,=T,=G,=A,=G,=T,=A,=C,=T,=T,=T,=A,=T,=A,=G,=C,=A,=T,=G,=G,=G,=G,=C,=T,=C,=T,=G,=C,=T,=G,=C,=G,N,=A,=G,=T,=A,=A,=C,=A,=T,=T,=G,=C,=T,=G,=T,=A,=T,=A,=T,=T,=T,=T,=C,=A,=G,=T,=C,=A,=T,=T,=C,=T,=A,=C,=C,=T,=T,=A,=A,=T,=T,=C,=A,=T,=G,=A,=A,=C,=T,=G,=C,=A,=A,=A,=A,=C,=T,=C,=T,=C,=A,=T,=C,=T,=A,=G,=C,=T,=T,=T,=T,=T,=A,=C,=T,=T,=C,=T,=C,=T,=A,=G,=C,=T,=A,=T,=T,=G,=C,=T,=T,=T,=A,=A,=G,=T,=T,=C,=T,=A,=T,=C,=A,=G,=G,=C,=T,=C,=A,=G,=G,=T,=G,=T,=G,=G,=A,=A,=T,=T,=C,=T,=C'}\n",
      "{'QNAME': '003abc42-b01e-4497-9270-433b70e2778b', 'CSSPLIT': '=T,=G,=C,=A,=T,=T,=G,=A,=A,=G,=C,=A,=G,=T,=T,=C,=A,=C,=C,=A,=A,=A,=A,=T,=A,=A,=C,=A,=A,=A,=G,=T,=A,=A,=C,=A,=A,=A,=G,=T,=A,=A,=G,=A,=T,=A,=T,=C,=T,=T,=T,=G,=G,=A,=A,=T,=A,=A,=T,=C,=A,=A,=T,=T,=C,=A,=A,=G,=A,=T,=A,=A,=T,=C,=A,=A,=G,=G,=A,=A,=A,=A,=A,=T,=G,=A,=G,=A,=G,=G,=C,=A,=A,=C,=T,=A,=T,=T,=T,=T,=A,=G,=A,=C,=T,=G,=A,=T,=T,=A,=C,=T,=T,=T,=T,=A,=T,=A,=A,=A,=A,=T,=A,=A,=A,=T,=A,=A,=G,=C,=T,=C,=A,=G,=C,=T,=T,=A,=G,=C,=C,=A,=G,=A,=T,=A,=T,=A,=A,=G,=C,=A,=A,=T,=A,=T,=T,=C,=T,=G,=A,=G,=T,=T,=C,=T,=G,=A,=A,=G,=A,=A,=A,=A,=A,=T,=T,=T,=T,=T,=G,=A,=C,=A,=A,=A,=A,=T,=G,=A,=G,=T,=T,=C,=T,=A,=T,=A,=A,=A,=T,=G,=T,=T,=A,=T,=T,=G,=T,=C,=T,=A,=C,=T,=T,=A,=T,=G,=A,=T,=C,=T,=C,=T,=A,=A,=A,=T,=A,=C,=A,=A,=C,=A,=G,=G,=C,=T,=T,=G,=T,=A,=T,=T,=C,=A,=G,=A,=A,=T,=C,=T,=A,=G,=A,=T,=G,=T,=T,=T,=C,=A,=T,=G,=A,=C,=C,=T,=T,=T,=A,=T,=T,=C,=A,=T,=A,=A,=G,=A,=G,=A,=T,=G,=A,=T,=G,=T,=A,=T,=T,=C,=T,=T,=G,=A,=T,=A,=C,=T,=A,=C,=T,=T,=C,=T,=C,=A,=T,=T,=T,=G,=C,=A,=A,=A,=T,=T,=C,=C,=A,=A,=T,=T,=A,=T,=T,=A,=T,=T,=A,=A,=T,=T,=T,=C,=A,=T,=A,=T,=C,=A,=A,=T,=T,=A,=G,=A,=A,=T,=A,=A,=T,=A,=T,=A,=T,=C,=T,=T,=C,=C,=T,=T,=C,=A,=A,=T,=T,=T,=A,=G,=T,=T,=A,=C,=C,=T,=C,=A,=C,=T,=A,=T,=G,=G,=G,=C,=T,=A,=T,=G,=T,=A,=C,=A,=A,=A,=C,=T,=C,=C,=A,=A,=G,=A,=A,=A,=A,=A,=G,=T,=T,=A,=G,=T,=C,=A,=T,=G,=T,=G,=C,=T,=T,=T,=G,=C,=A,=G,=A,=A,=G,=A,=T,=A,=A,=A,=A,=G,=C,=T,=T,=A,=G,=T,=G,=T,=A,=A,=A,=A,=C,=A,=G,=G,=C,=T,=G,=A,=G,=A,=G,=T,=A,=T,=T,=T,=G,=A,=T,=G,=T,=A,=A,=G,=A,=A,=G,=G,=G,=G,=A,=G,=T,=G,=G,=T,=T,=A,=T,=A,=T,=A,=G,=G,=T,=C,=T,=T,=A,=G,=C,=C,=A,=A,=A,=A,=C,=A,=T,=G,=T,=G,=A,=T,=A,=G,=T,=C,=A,=C,=T,=C,=C,=A,=G,=G,=G,=G,=T,=T,=G,=C,=T,=G,=G,=A,=A,=A,=A,=G,=A,=A,=G,=T,=C,=T,=G,=T,=G,=A,=C,=A,=C,=T,=C,=A,=T,=T,=A,=A,=C,=C,=T,=A,=T,=T,=G,=G,=T,=G,=C,=A,=G,=A,=T,=T,=T,=T,=G,=T,=A,=T,=G,=A,=T,=C,=T,=A,=A,=A,=G,=G,=A,=G,=A,=A,=A,=A,=T,=G,=T,=T,=C,=T,=T,=G,=G,=C,=T,=G,=T,=T,=T,=T,=G,=T,=A,=T,=T,=G,=C,=C,=T,=T,=C,=T,=G,=T,=G,=G,=A,=G,=T,=T,=T,=C,=C,=A,=G,=A,=T,=C,=T,=C,=T,=G,=A,=T,=G,=G,=C,=C,=A,=T,=T,=T,=T,=C,=C,=T,=C,=G,=A,=G,=C,=C,=T,=G,=T,=G,=C,=C,=T,=C,=C,=T,=C,=T,=A,=A,=G,=A,=A,=C,=T,=T,=G,=T,=T,=G,=G,=C,=A,=A,=A,=A,=G,=A,=A,=T,=G,=C,=T,=G,=C,=C,=C,=A,=C,=C,=A,=T,=G,=G,=A,=T,=G,=G,=G,=T,=G,=A,=T,=G,=G,=G,=A,=G,=T,=C,=C,=C,=T,=G,=C,=G,=G,=C,=C,=A,=G,=C,=T,=T,=T,=C,=A,=G,=G,=C,=A,=G,=A,=G,=G,=T,=T,=C,=C,=T,=G,=C,=C,=A,=G,=G,=A,=T,=A,=T,=C,=C,=T,=T,=C,=T,=G,=T,=C,=C,=A,=G,=T,=G,=C,=A,=C,=C,=A,=T,=C,=T,=G,=G,=A,=C,=C,=T,=C,=A,=G,=T,=T,=C,=C,=C,=C,=T,=T,=C,=A,=A,=A,=G,=G,=G,=G,=T,=G,=G,=A,=T,=G,=A,=C,=C,=G,=T,=G,=A,=G,=T,=C,=C,=T,=G,=G,=C,=C,=C,=T,=C,=T,=G,=T,=G,=T,=T,=T,=T,=A,=T,=A,=A,=T,=A,=G,=G,=A,=C,=C,=T,=G,=C,=C,=A,=G,=T,=G,=C,=T,=C,=A,=G,=G,=C,=A,=A,=C,=T,=T,=C,=A,=T,=G,=G,=G,=T,=T,=T,=C,=A,=A,=C,=T,=G,=C,=G,=G,=A,=A,=A,=C,=T,=G,=T,=A,=A,=G,=T,=T,=T,=G,=G,=A,=T,=T,=T,=G,=G,=G,=G,=G,=C,=C,=C,=A,=A,=A,=T,=T,=G,=T,=A,=C,=A,=G,=A,=G,=A,=A,=G,=C,=G,=A,=G,=T,=C,=T,=T,=G,=A,=T,=T,=A,=G,=A,=A,=G,=A,=A,=A,=C,=A,=T,=T,=T,=T,=T,=G,=A,=T,=T,=T,=G,=A,=G,=T,=G,=T,=C,=T,=C,=C,=G,=A,=A,=A,=A,=G,=A,=A,=T,=A,=A,=G,=T,=T,=C,=T,=T,=T,=T,=C,=T,=T,=A,=C,=C,=T,=C,=A,=C,=T,=T,=T,=A,=G,=C,=A,=A,=A,=A,=C,=A,=T,=A,=C,=T,=A,=T,=C,=A,=G,=C,=T,=C,=A,=G,=T,=C,=T,=A,=T,=G,=T,=C,=A,=T,=C,=C,=C,=C,=A,=C,=A,=G,=G,=C,=A,=C,=C,=T,=A,=T,=G,=G,=C,=C,=A,=A,=A,=T,=G,=A,=A,=C,=A,=A,=T,=G,=G,=G,=T,=C,=A,=A,=C,=A,=C,=C,=C,=A,=T,=G,=T,=T,=T,=A,=A,=T,=G,=A,=T,=A,=T,=C,=A,=A,=C,=A,=T,=C,=T,=A,=C,=G,=A,=C,=C,=T,=C,=T,=T,=T,=G,=T,=A,=T,=G,=G,=A,=T,=G,=C,=A,=T,=T,=A,=C,=T,=A,=T,=G,=T,=G,=T,=C,=A,=A,=G,=G,=G,=A,=C,=A,=C,=A,=C,=T,=G,=C,=T,=T,=G,=G,=G,=G,=G,=C,=T,=C,=T,=G,=A,=A,=A,=T,=A,=T,=G,=G,=A,=G,=G,=G,=A,=C,=A,=T,=T,=G,=A,=T,=T,=T,=T,=G,=C,=C,=C,=A,=T,=G,=A,=A,=G,=C,=A,=C,=C,=A,=G,=G,=G,=T,=T,=T,=C,=T,=G,=C,=C,=T,=T,=G,=G,=C,=A,=C,=A,=G,=A,=C,=T,=T,=T,=T,=C,=T,=T,=G,=T,=T,-A,=T,=T,=G,=T,=G,=G,=G,=A,=A,=C,=A,=A,=G,=A,=A,=A,=T,=T,=C,=G,=A,=G,=A,=A,=C,=T,=A,=A,=C,=T,=G,=G,=G,=G,=A,=T,=G,=A,=G,=A,=A,=C,=T,=T,=C,=A,=C,=T,=G,=T,=T,=C,=C,=A,=T,=A,=C,=T,=G,=G,=G,=A,=T,=T,=G,=G,=A,=G,=A,=G,=A,=T,=G,=C,=A,=G,=A,=A,=A,=A,=C,=T,=G,=T,=G,=A,=C,=A,=T,=T,=T,=G,=C,=A,=C,=A,=G,=A,=T,=G,=A,=G,=T,=A,=C,=T,=T,=G,=G,=G,=A,=G,=G,=T,=C,=G,=T,=C,=A,=C,=C,=C,=T,=G,=A,=A,=A,=A,=T,=C,=C,=T,=A,=A,=C,=T,=T,=A,=C,=T,=C,=A,=G,=C,=C,=C,=A,=G,=C,=A,=T,=C,=C,=T,=T,=C,=T,=T,=C,=T,=C,=C,=T,=C,=C,=T,=G,=G,=C,=A,=G,=G,=T,=A,=A,=G,=A,=T,=G,=C,=A,=C,=T,=A,=T,=A,=T,=A,=G,=A,=G,=A,=G,=A,=G,=T,=T,=G,=C,=A,=A,=A,=G,=A,=C,=T,=G,=G,=T,=A,=C,=T,=T,=C,=A,=G,=C,=A,=G,=C,=C,=A,=C,=A,=T,=T,=T,=T,=C,=A,=T,=G,=C,=T,=C,=T,=G,=T,=G,=A,=G,=C,=A,=T,=C,=T,=C,=T,=G,=A,=T,=A,=A,=T,=A,=T,=C,=T,=C,=A,=G,=G,=G,=C,=A,=G,=A,=A,=A,=A,=T,=G,=T,=G,=C,=C,=T,=T,=A,=C,=T,=A,=A,=C,=A,=G,=A,=T,=G,=T,=T,=A,=A,=T,=G,=C,=T,=T,=C,=T,=T,=G,=A,=T,=T,=T,=C,=T,=T,=T,=T,=T,=C,=T,=C,=T,=T,=T,=T,=G,=A,=G,=A,=A,=C,=T,=C,=T,=T,=C,=A,=A,=A,=G,=T,=T,=G,=T,=T,=A,=T,=T,=A,=A,=A,=C,=A,=A,=A,=T,=A,=T,=C,=T,=A,=T,=G,=T,=G,=C,=T,=T,=A,=T,=T,=T,=G,=T,=C,=T,=T,=A,=A,=T,=A,=T,=C,=T,=A,=A,=C,=A,=G,=C,=T,=T,=A,=G,=T,=T,=A,=G,=A,=T,=T,=T,=C,=T,=A,=A,=G,=C,=T,=G,=C,=T,=A,=T,=A,=A,=A,=C,=A,=A,=G,=G,=A,=C,=T,=G,=A,=T,=T,=G,=G,=T,=T,=C,=A,=C,=C,=A,=C,=T,=G,=T,=A,=T,=T,=G,=T,=T,=A,=G,=C,=A,=C,=C,=T,=C,=C,=T,=A,=T,=G,=G,=T,=A,=T,=C,=T,=G,=G,=A,=A,=T,=A,=A,=A,=C,=A,=G,=T,=A,=A,=C,=T,=C,=A,=G,=T,=T,=A,=T,=T,=T,=A,=A,=G,=A,=A,=T,=G,=G,=A,=T,=G,=A,=G,=A,=A,=A,=C,=C,=A,=G,=A,=T,=T,=A,=T,=C,=T,=T,=A,=G,=T,=T,=C,=A,=T,=G,=T,=T,=T,=C,=T,=G,=A,=G,=T,=A,=A,=T,=A,=T,=T,=A,=A,=A,=A,=T,=T,=A,=A,=T,=A,=T,=T,=A,=A,=C,=A,=G,=T,=A,=A,=A,=A,=T,=C,=C,=A,=T,=A,=A,=G,=T,=A,=T,=G,=C,=T,=A,=C,=T,=T,=T,=A,=A,=A,=A,=T,=A,=T,=A,=A,=A,=T,=C,=T,=C,=T,=G,=G,=C,=C,=A,=A,=A,=A,=C,=C,=A,=A,=G,=A,=C,=T,=T,=A,=T,=T,=A,=T,=T,=C,=A,=G,=G,=A,=T,=C,=T,=T,=C,=A,=A,=G,=A,=G,=A,=A,=A,=G,=T,=G,=C,=T,=G,=A,=G,=A,=T,=A,=A,=T,=T,=C,=A,=C,=T,=A,=A,=G,=T,=A,=T,=C,=A,=G,=A,=G,=A,=T,=G,=A,=C,=C,=T,=T,=T,=A,=T,=T,=A,=C,=A,=T,=G,=A,=T,=T,=G,=C,=C,=T,=G,=A,=T,=A,=G,=A,=A,=A,=A,=A,=A,=T,=G,=A,=T,=T,=A,=C,=A,=C,=A,=C,=A,=C,=A,=C,=A,=A,=A,=A,=A,=A,=A,=T,=C,=T,=T,=C,=A,=G,=T,=T,=G,=C,=T,=T,=A,=A,=A,=T,=T,=T,=T,=A,=A,=A,=C,=G,=T,=T,=G,=C,=T,=G,=A,=C,=T,=C,=T,=C,=A,=A,=A,=C,=A,=G,=T,=T,=A,=A,=G,=T,=A,=A,=T,=A,=A,=A,=A,=G,=A,=G,=T,=T,=A,=A,=A,=G,=C,=C,=T,=G,=C,=T,=G,=T,=G,=T,=A,=T,=T,=T,=A,=G,=A,=A,=T,=A,=T,=G,=T,=G,=A,=A,=T,=A,=C,=C,=T,=A,=T,=T,=G,=A,=A,=A,=G,=A,=A,=T,=T,=T,=A,=T,=T,=G,=T,=A,=C,=A,=A,=T,=T,=A,=A,=T,=A,=T,=A,=A,=A,=C,=A,=G,=A,=C,=T,=T,=C,=T,=A,=T,=T,=T,=T,=A,=C,=A,=G,=T,=C,=A,=T,=A,=A,=G,=A,=T,=A,=C,=T,=A,=C,=T,=T,=A,=A,=T,=T,=T,=G,=T,=T,=A,=A,=A,=A,=A,=T,=T,=A,=T,=T,=T,=T,=T,=T,=G,=A,=T,=A,=G,=C,=A,=T,=T,=G,=T,=T,=G,=G,=T,=A,=A,=A,=T,=A,=G,=C,=A,=A,=A,=G,=G,=T,=G,=A,=T,=A,=T,=T,=T,=G,=C,=T,=A,=A,=T,=G,=A,=T,=T,=A,=C,=A,=A,=G,=G,=G,=C,=T,=G,=T,=C,=T,=G,=G,=C,=T,=A,=A,=C,=T,=T,=A,=C,=G,=T,=T,=A,=T,=G,=T,=T,=C,=A,=G,=G,=G,=A,=G,=A,=A,=G,=A,=C,=A,=G,=T,=C,=C,=T,=T,=T,=T,=T,=A,=A,=G,=G,=A,=A,=T,=G,=G,=G,=C,=A,=C,=T,=T,=T,=C,=T,=A,=A,=C,=T,=T,=T,=T,=T,=T,=T,=C,=T,=C,=T,=A,=G,=G,=A,=T,=G,=G,=A,=G,=A,=A,=A,=A,=A,=T,=T,=A,=G,=C,=C,=T,=T,=C,=T,=T,=C,=C,=T,=A,=C,=T,=T,=T,=A,=A,=A,=A,=A,=T,=G,=T,=T,=A,=G,=A,=C,=A,=T,=A,=G,=A,=A,=T,=T,=A,=A,=G,=G,=G,=A,=T,=T,=G,=T,=T,=A,=T,=T,=T,=T,=G,=A,=G,=A,=T,=T,=A,=A,=A,=T,=T,=T,=T,=C,=T,=T,=T,=T,=C,=T,=C,=C,=T,=A,=T,=T,=A,=T,=T,=T,=T,*TG,=C,=C,=T,=C,=A,=T,=T,=C,=T,=G,=G,=A,=A,=T,=G,=G,=A,=A,=G,=C,=A,=A,=A,=A,=G,=A,=T,=G,=A,=A,=G,=A,=A,=A,=G,=A,=A,=A,=T,=A,=T,=A,=T,=G,=T,=T,=A,=A,=A,=T,=T,=G,=T,=T,=T,=T,=C,=C,=T,=T,=T,=A,=A,=A,=T,=G,=A,=A,=C,=A,=C,=A,=A,=A,=T,=G,=T,=G,=A,=A,=A,=T,=A,=T,=G,=T,=T,=T,=T,=T,=C,=T,=G,=C,=C,=T,=A,=T,=C,=T,=T,=G,=T,=A,=A,=A,=A,=T,=T,=T,=T,=C,=T,=A,=T,=T,=G,=C,=A,=A,=C,=T,=A,=T,=T,=C,=T,=G,=A,=T,=T,=A,=C,=C,=A,=G,=T,=T,=C,=A,=A,=A,=T,=G,=G,=G,=G,=A,=A,=A,=A,=A,=A,=G,=A,=A,=C,=A,=T,=A,=G,=G,=C,=T,=A,=C,=C,=C,=C,=A,=C,=A,=C,=T,=T,=G,=A,=A,=A,=T,=T,=T,=T,=G,=A,=A,=A,=T,=A,=T,=G,=A,=A,=T,=G,=T,=C,=C,=T,=C,=T,=G,=T,=C,=T,=C,=T,=G,=C,=T,=G,=G,=T,=C,=T,=A,=A,=C,=A,=C,=T,=T,=C,=C,=A,=A,=A,=A,=T,=G,=G,=A,=A,=A,=C,=C,=T,=T,=T,=A,=A,=A,=G,=G,=G,=C,=C,=A,=C,=T,=G,=T,=A,=A,=A,=T,=T,=A,=C,=A,=G,=C,=T,=G,=C,=T,=A,=A,=T,=T,=C,=C,=T,=G,=G,=T,=G,=C,=C,=A,=A,=T,=G,=G,=T,=G,=A,=T,=A,=A,=G,=T,=G,=T,=T,=T,=A,=C,=T,=A,=A,=A,=C,=C,=T,=A,=G,=T,=G,=A,=G,=T,=A,=C,=T,=T,=T,=A,=T,=A,=G,=C,=A,=T,=G,=G,=G,=G,=C,=T,=C,=T,=G,=C,=T,=G,=C,=G,=A,=A,=G,=T,=A,=A,=C,=A,=T,=T,=G,=C,=T,=G,=T,=A,=T,=A,=T,=T,=T,=T,=C,=A,=G,=T,=C,=A,=T,=T,=C,=T,=A,=C,=C,=T,=T,=A,=A,=T,=T,=C,=A,=T,=G,=A,=A,=C,=T,=G,=C,=A,=A,=A,=A,=C,=T,=C,=T,=C,=A,=T,=C,=T,=A,=G,=C,=T,=T,=T,=T,=T,=A,=C,=T,=T,=C,=T,=C,=T,=A,=G,=C,=T,=A,=T,=T,=G,=C,=T,=T,=T,=A,=A,=G,=T,=T,=C,=T,=A,=T,=C,=A,=G,=G,=C,=T,=C,=A,=G,=G,=T,=G,=T,=G,=G,=A,=A,=T,=T,=C,=T,=C'}\n",
      "{'QNAME': '0055810c-6822-4c85-898a-bedc1454372e', 'CSSPLIT': '=T,=G,=C,=A,=T,=T,=G,=A,=A,=G,=C,=A,=G,=T,=T,=C,=A,=C,=C,=A,=A,=A,=A,=T,=A,=A,=C,=A,=A,=A,=G,=T,=A,=A,=C,=A,=A,=A,=G,=T,=A,=A,=G,=A,=T,=A,=T,=C,=T,=T,=T,=G,=G,=A,=A,=T,=A,=A,=T,=C,=A,=A,=T,=T,=C,=A,=A,=G,=A,=T,=A,=A,=T,=C,=A,=A,=G,=G,=A,=A,=A,=A,=A,=T,=G,=A,=G,=A,=G,=G,=C,=A,=A,=C,=T,=A,=T,=T,=T,=T,=A,=G,=A,N,=T,=G,=A,=T,=T,=A,=C,=T,=T,=T,=T,=A,=T,=A,=A,=A,=A,=T,=A,=A,=A,=T,=A,=A,=G,=C,=T,=C,=A,=G,=C,=T,=T,=A,=G,=C,=C,=A,=G,=A,=T,=A,=T,=A,=A,=G,=C,=A,=A,=T,=A,=T,=T,=C,=T,=G,=A,=G,=T,=T,=C,=T,=G,=A,=A,=G,=A,=A,=A,=A,=A,=T,=T,=T,=T,=T,=G,=A,=C,=A,=A,=A,=A,=T,=G,=A,=G,=T,=T,=C,=T,=A,=T,=A,=A,=A,=T,=G,=T,=T,=A,=T,=T,=G,=T,=C,=T,=A,=C,=T,=T,=A,=T,=G,=A,=T,=C,=T,=C,=T,=A,=A,=A,=T,=A,=C,=A,=A,=C,=A,=G,=G,=C,=T,=T,=G,=T,=A,=T,=T,=C,=A,=G,=A,=A,=T,=C,=T,=A,=G,=A,=T,=G,=T,=T,=T,=C,=A,=T,=G,=A,=C,=C,=T,=T,=T,=A,=T,N,=C,=A,=T,=A,=A,=G,=A,=G,=A,=T,=G,=A,=T,=G,=T,=A,=T,=T,=C,=T,=T,=G,=A,=T,=A,=C,=T,=A,=C,=T,=T,=C,=T,=C,=A,=T,=T,=T,=G,=C,=A,=A,=A,=T,=T,=C,=C,=A,=A,=T,=T,=A,=T,=T,=A,=T,=T,=A,=A,=T,=T,=T,=C,=A,=T,=A,=T,=C,=A,=A,=T,=T,=A,=G,=A,=A,=T,=A,=A,=T,=A,=T,=A,=T,=C,=T,=T,=C,=C,=T,=T,=C,=A,=A,=T,=T,=T,=A,=G,=T,=T,=A,=C,=C,=T,=C,=A,=C,=T,=A,=T,=G,=G,=G,=C,=T,=A,=T,=G,=T,=A,=C,=A,=A,=A,=C,=T,=C,=C,=A,=A,=G,=A,=A,=A,=A,=A,=G,=T,=T,=A,=G,=T,=C,=A,=T,=G,=T,=G,=C,=T,=T,=T,=G,=C,=A,=G,=A,=A,=G,=A,=T,=A,=A,=A,=A,=G,=C,=T,=T,=A,=G,=T,=G,=T,=A,=A,=A,=A,=C,=A,=G,=G,=C,=T,=G,=A,=G,=A,=G,=T,=A,=T,=T,=T,=G,=A,=T,=G,=T,=A,=A,=G,=A,=A,=G,=G,=G,=G,=A,=G,=T,=G,=G,=T,=T,=A,=T,=A,=T,=A,=G,=G,=T,=C,=T,=T,=A,=G,=C,=C,=A,=A,=A,=A,=C,=A,=T,=G,=T,=G,=A,=T,=A,=G,=T,=C,=A,=C,=T,=C,=C,=A,=G,=G,=G,=G,=T,=T,=G,=C,=T,=G,=G,=A,=A,=A,=A,=G,=A,=A,=G,=T,=C,=T,=G,=T,=G,=A,=C,=A,=C,=T,=C,=A,=T,=T,=A,=A,=C,=C,=T,=A,=T,=T,=G,=G,=T,=G,=C,=A,=G,=A,=T,=T,=T,=T,=G,=T,=A,=T,=G,=A,=T,=C,=T,=A,=A,=A,=G,=G,=A,=G,=A,=A,=A,=A,=T,=G,=T,=T,=C,=T,=T,=G,=G,=C,=T,=G,=T,=T,=T,=T,=G,=T,=A,=T,=T,=G,=C,=C,=T,=T,=C,=T,=G,=T,=G,=G,=A,=G,=T,=T,=T,=C,=C,=A,=G,=A,=T,=C,=T,=C,=T,=G,=A,=T,=G,=G,=C,=C,=A,=T,=T,=T,=T,=C,=C,=T,=C,=G,=A,=G,=C,=C,=T,=G,=T,=G,=C,=C,=T,=C,=C,=T,=C,=T,=A,=A,=G,=A,=A,=C,=T,=T,=G,=T,=T,=G,=G,=C,=A,=A,=A,=A,=G,=A,=A,=T,=G,=C,=T,=G,-C,=C,=C,=A,=C,=C,=A,=T,=G,=G,=A,=T,=G,=G,=G,=T,=G,=A,=T,=G,=G,=G,=A,=G,=T,=C,=C,=C,=T,=G,=C,=G,=G,=C,=C,=A,=G,=C,=T,=T,=T,=C,=A,=G,=G,=C,=A,=G,=A,=G,=G,=T,=T,=C,=C,=T,=G,=C,=C,=A,=G,=G,=A,=T,=A,=T,-C,=C,=T,=T,=C,=T,=G,=T,=C,=C,=A,=G,=T,=G,=C,=A,=C,=C,=A,=T,=C,=T,=G,=G,=A,=C,=C,=T,=C,=A,=G,=T,=T,=C,=C,=C,=C,=T,=T,=C,=A,=A,=A,=G,=G,=G,=G,=T,=G,=G,=A,=T,=G,=A,=C,=C,*GT,=T,=G,=A,=G,=T,=C,=C,=T,=G,=G,=C,=C,=C,=T,=C,=T,=G,=T,=G,=T,=T,=T,=T,=A,=T,=A,=A,=T,=A,=G,=G,=A,=C,=C,=T,=G,=C,=C,=A,=G,=T,=G,=C,=T,=C,=A,=G,=G,=C,=A,=A,=C,=T,=T,=C,=A,=T,=G,=G,=G,=T,=T,=T,=C,=A,=A,=C,=T,=G,=C,=G,=G,=A,=A,=A,=C,=T,=G,=T,=A,=A,=G,=T,=T,=T,=G,=G,=A,=T,=T,=T,=G,=G,=G,=G,=G,=C,=C,=C,=A,=A,=A,=T,=T,=G,=T,=A,=C,=A,=G,=A,=G,=A,=A,=G,=C,=G,=A,=G,=T,=C,=T,=T,=G,=A,=T,=T,=A,=G,=A,=A,=G,=A,=A,=A,=C,=A,=T,=T,=T,=T,=T,=G,=A,=T,=T,=T,=G,=A,=G,=T,=G,=T,=C,=T,=C,=C,=G,=A,=A,=A,=A,=G,=A,=A,=T,=A,=A,=G,=T,=T,=C,=T,=T,=T,=T,=C,=T,=T,=A,=C,=C,=T,=C,=A,=C,=T,=T,=T,=A,=G,=C,=A,=A,=A,=A,=C,=A,=T,=A,=C,=T,=A,=T,=C,=A,=G,=C,=T,=C,=A,=G,=T,=C,=T,=A,=T,=G,=T,=C,=A,=T,=C,=C,=C,=C,=A,=C,=A,=G,=G,=C,=A,=C,=C,=T,=A,=T,=G,=G,=C,=C,=A,=A,=A,=T,=G,=A,=A,=C,=A,=A,=T,=G,=G,=G,=T,=C,=A,=A,=C,=A,=C,=C,=C,=A,=T,=G,=T,=T,=T,=A,=A,=T,=G,=A,=T,=A,=T,=C,=A,=A,=C,=A,=T,=C,=T,=A,=C,=G,=A,=C,=C,=T,=C,=T,=T,=T,=G,=T,=A,=T,=G,=G,=A,=T,N,=C,=A,=T,=T,=A,=C,=T,=A,=T,=G,=T,=G,=T,=C,=A,=A,=G,=G,=G,=A,=C,=A,=C,=A,=C,=T,=G,=C,=T,=T,=G,=G,=G,=G,=G,=C,=T,=C,=T,=G,=A,=A,=A,N,=A,=T,=G,=G,=A,=G,=G,=G,=A,=C,=A,=T,=T,=G,=A,=T,=T,=T,=T,=G,=C,=C,=C,=A,=T,=G,=A,=A,=G,=C,=A,=C,=C,=A,=G,=G,=G,=T,=T,=T,=C,=T,=G,=C,=C,=T,=T,=G,=G,=C,=A,=C,=A,=G,=A,=C,=T,=T,=T,=T,=C,=T,=T,=G,=T,=T,-A,=T,=T,=G,=T,=G,=G,=G,=A,=A,=C,=A,=A,=G,=A,=A,=A,=T,=T,=C,=G,=A,=G,=A,=A,=C,=T,=A,=A,=C,=T,=G,=G,=G,=G,=A,=T,=G,=A,=G,=A,=A,=C,=T,=T,=C,=A,=C,=T,=G,=T,=T,=C,=C,=A,=T,=A,=C,=T,=G,=G,=G,=A,=T,=T,=G,=G,=A,=G,=A,=G,=A,=T,=G,=C,=A,=G,=A,=A,=A,=A,=C,=T,=G,=T,=G,=A,=C,=A,=T,=T,=T,=G,=C,=A,=C,=A,=G,=A,=T,=G,=A,=G,=T,=A,=C,=T,=T,=G,=G,=G,=A,=G,=G,=T,=C,=G,=T,=C,=A,=C,=C,=C,=T,=G,=A,=A,=A,=A,=T,=C,=C,=T,=A,=A,=C,=T,=T,=A,=C,=T,=C,=A,=G,-C,=C,=C,=A,=G,=C,=A,=T,=C,=C,=T,=T,=C,=T,=T,=C,=T,=C,=C,=T,=C,=C,=T,=G,=G,=C,=A,=G,=G,=T,=A,=A,=G,=A,=T,=G,=C,=A,=C,=T,=A,=T,=A,=T,=A,=G,=A,=G,=A,=G,=A,=G,=T,=T,=G,=C,=A,=A,=A,=G,=A,=C,=T,=G,=G,=T,=A,=C,=T,=T,=C,=A,=G,=C,=A,=G,=C,=C,=A,=C,=A,=T,=T,=T,=T,=C,=A,=T,=G,=C,=T,=C,=T,=G,=T,=G,=A,=G,=C,=A,=T,=C,=T,=C,=T,=G,=A,=T,=A,=A,=T,=A,=T,=C,=T,=C,=A,=G,=G,=G,=C,=A,=G,-A,=A,=A,=A,=T,=G,=T,*GA,=C,=C,=T,=T,=A,=C,=T,=A,=A,=C,=A,=G,=A,=T,=G,=T,=T,=A,=A,=T,=G,=C,=T,=T,=C,=T,=T,=G,=A,=T,=T,=T,=C,=T,=T,=T,=T,=T,=C,=T,=C,=T,=T,=T,=T,=G,=A,=G,=A,=A,=C,=T,=C,=T,=T,=C,=A,=A,=A,=G,=T,=T,=G,=T,=T,=A,=T,=T,=A,=A,=A,=C,=A,=A,=A,=T,=A,=T,=C,=T,=A,=T,=G,=T,=G,=C,=T,=T,=A,=T,=T,=T,=G,=T,=C,=T,=T,=A,=A,=T,=A,=T,=C,=T,=A,=A,=C,=A,=G,=C,=T,=T,=A,=G,=T,=T,=A,=G,=A,=T,=T,=T,=C,=T,=A,=A,=G,=C,=T,=G,=C,=T,=A,=T,=A,=A,=A,=C,=A,=A,=G,=G,=A,=C,=T,=G,=A,=T,=T,=G,=G,=T,=T,=C,=A,=C,=C,=A,=C,=T,=G,=T,=A,=T,=T,=G,=T,=T,=A,=G,=C,=A,=C,=C,=T,=C,=C,=T,=A,=T,=G,=G,=T,=A,=T,=C,=T,=G,=G,=A,=A,=T,=A,=A,=A,=C,=A,=G,=T,=A,=A,=C,=T,=C,=A,=G,=T,=T,=A,=T,=T,=T,=A,=A,=G,=A,=A,=T,=G,=G,=A,=T,=G,=A,=G,=A,=A,=A,=C,=C,=A,=G,=A,=T,=T,=A,=T,=C,=T,=T,=A,=G,=T,=T,=C,=A,=T,=G,=T,=T,=T,=C,=T,=G,=A,=G,=T,=A,=A,=T,=A,=T,=T,=A,=A,=A,=A,=T,=T,=A,=A,=T,=A,=T,=T,=A,=A,=C,=A,=G,=T,=A,=A,=A,=A,=T,=C,=C,=A,=T,=A,=A,=G,=T,=A,=T,=G,=C,=T,=A,=C,=T,=T,=T,=A,=A,=A,=A,=T,=A,=T,=A,=A,=A,=T,=C,=T,=C,=T,=G,=G,=C,=C,=A,=A,=A,=A,=C,=C,=A,=A,=G,=A,=C,=T,=T,=A,=T,=T,=A,=T,=T,=C,=A,=G,=G,=A,=T,=C,=T,=T,=C,=A,=A,=G,=A,=G,=A,=A,=A,=G,=T,=G,=C,=T,=G,=A,=G,=A,=T,=A,=A,=T,=T,=C,=A,=C,=T,=A,=A,=G,=T,=A,=T,=C,=A,=G,=A,=G,=A,=T,=G,=A,=C,=C,=T,=T,=T,=A,=T,=T,=A,=C,=A,=T,=G,=A,=T,=T,=G,=C,=C,=T,=G,=A,=T,=A,=G,=A,=A,=A,=A,=A,=A,=T,=G,=A,=T,=T,=A,=C,=A,=C,=A,=C,=A,=C,=A,=C,=A,=A,=A,=A,=A,=A,=A,=T,=C,=T,=T,=C,=A,=G,=T,=T,=G,=C,=T,=T,=A,=A,=A,=T,=T,=T,=T,=A,=A,=A,=C,=G,=T,=T,=G,=C,=T,=G,=A,=C,=T,=C,=T,=C,=A,=A,=A,=C,=A,=G,=T,=T,=A,=A,=G,=T,=A,=A,=T,=A,=A,=A,=A,=G,=A,=G,=T,=T,=A,=A,=A,=G,=C,=C,=T,=G,=C,=T,=G,=T,=G,=T,=A,=T,=T,=T,=A,=G,=A,=A,=T,=A,=T,=G,=T,=G,=A,=A,=T,=A,=C,=C,=T,=A,=T,=T,=G,=A,=A,=A,=G,=A,=A,=T,=T,=T,=A,=T,=T,=G,=T,=A,=C,=A,=A,=T,=T,=A,=A,=T,=A,=T,=A,=A,=A,=C,=A,=G,=A,=C,=T,=T,=C,=T,=A,=T,=T,=T,=T,=A,=C,=A,=G,=T,=C,=A,=T,=A,=A,=G,=A,=T,=A,=C,=T,=A,=C,=T,=T,=A,=A,=T,=T,=T,=G,=T,=T,=A,=A,=A,=A,=A,=T,=T,=A,=T,=T,=T,=T,=T,=T,=G,=A,=T,=A,=G,=C,=A,=T,=T,=G,=T,=T,=G,=G,=T,=A,=A,=A,=T,=A,=G,=C,=A,=A,=A,=G,=G,=T,=G,=A,=T,=A,=T,=T,=T,=G,=C,=T,=A,=A,=T,=G,=A,=T,=T,=A,=C,=A,=A,=G,=G,=G,=C,=T,=G,=T,=C,=T,=G,=G,=C,=T,=A,=A,=C,=T,=T,=A,=C,=G,=T,=T,=A,=T,=G,=T,=T,=C,=A,=G,=G,=G,=A,=G,=A,=A,=G,=A,=C,=A,=G,=T,=C,=C,=T,=T,=T,=T,=T,=A,=A,=G,=G,=A,=A,=T,=G,=G,=G,=C,=A,=C,=T,=T,=T,=C,=T,=A,=A,=C,=T,=T,=T,=T,=T,=T,=T,=C,=T,=C,=T,=A,=G,=G,=A,=T,=G,=G,N,=G,=A,=A,=A,=A,=A,=T,=T,=A,=G,=C,=C,=T,=T,=C,=T,=T,=C,=C,N,=A,=C,=T,=T,=T,=A,=A,=A,=A,=A,=T,=G,=T,=T,=A,=G,=A,=C,=A,=T,=A,=G,=A,=A,=T,=T,=A,=A,=G,=G,=G,=A,=T,=T,=G,=T,=T,=A,=T,=T,=T,=T,=G,=A,=G,=A,=T,=T,=A,=A,=A,=T,=T,=T,=T,=C,=T,=T,=T,=T,=C,=T,=C,=C,=T,=A,=T,=T,=A,=T,=T,=T,=T,=T,=C,=C,=T,=C,=A,=T,=T,=C,=T,=G,=G,=A,=A,=T,=G,=G,=A,=A,=G,=C,=A,=A,=A,=A,=G,=A,=T,=G,=A,=A,=G,=A,=A,=A,=G,=A,=A,=A,=T,=A,=T,=A,=T,=G,=T,=T,=A,=A,=A,=T,=T,=G,=T,=T,=T,=T,=C,=C,=T,=T,=T,=A,=A,=A,=T,=G,=A,=A,=C,=A,=C,=A,=A,=A,=T,=G,=T,=G,=A,=A,=A,=T,=A,=T,=G,=T,=T,=T,=T,=T,=C,=T,=G,=C,=C,=T,=A,=T,=C,=T,=T,N,=T,=A,=A,=A,=A,=T,=T,=T,=T,=C,=T,=A,=T,=T,=G,=C,=A,=A,=C,=T,=A,=T,=T,=C,=T,=G,=A,=T,=T,=A,=C,=C,=A,=G,=T,=T,=C,=A,=A,=A,=T,=G,=G,=G,=G,=A,=A,=A,=A,=A,=A,=G,=A,=A,=C,=A,=T,=A,=G,=G,=C,=T,=A,=C,=C,=C,=C,=A,=C,=A,=C,=T,=T,=G,=A,=A,=A,=T,=T,=T,=T,=G,=A,=A,=A,=T,=A,=T,=G,=A,=A,=T,=G,=T,=C,=C,=T,=C,=T,=G,=T,=C,=T,=C,=T,=G,=C,=T,=G,=G,=T,=C,=T,=A,=A,=C,=A,=C,=T,=T,=C,=C,=A,=A,=A,=A,=T,=G,=G,=A,=A,=A,=C,=C,=T,=T,=T,=A,=A,=A,=G,=G,=G,=C,=C,=A,=C,=T,=G,=T,=A,=A,=A,=T,=T,=A,=C,=A,=G,=C,=T,=G,=C,=T,=A,=A,=T,=T,=C,=C,=T,=G,=G,=T,=G,=C,=C,=A,=A,=T,=G,=G,=T,=G,=A,=T,=A,=A,=G,=T,=G,=T,=T,=T,=A,=C,=T,=A,=A,=A,=C,=C,=T,=A,=G,=T,=G,=A,=G,=T,=A,=C,=T,=T,=T,=A,=T,=A,=G,=C,=A,=T,=G,=G,=G,=G,=C,=T,=C,=T,=G,=C,=T,=G,=C,=G,=A,=A,=G,=T,=A,=A,=C,=A,=T,=T,=G,=C,=T,=G,=T,=A,=T,=A,=T,=T,=T,=T,=C,=A,=G,=T,=C,=A,=T,=T,=C,=T,=A,=C,=C,=T,=T,=A,=A,=T,=T,=C,=A,=T,=G,=A,=A,=C,=T,=G,=C,=A,=A,=A,=A,=C,=T,=C,=T,=C,=A,=T,=C,=T,=A,=G,=C,=T,=T,=T,=T,=T,=A,=C,=T,=T,=C,=T,=C,=T,=A,=G,=C,=T,=A,=T,=T,=G,=C,=T,=T,=T,=A,=A,=G,=T,=T,=C,=T,=A,=T,=C,=A,=G,=G,=C,=T,=C,=A,=G,=G,=T,=G,=T,=G,=G,=A,=A,=T,=T,=C,=T,=C'}\n",
      "{'QNAME': '00661f39-c2c6-47c6-9319-baea32087132', 'CSSPLIT': '=T,=G,=C,=A,=T,=T,=G,=A,=A,=G,=C,=A,=G,=T,=T,=C,=A,=C,=C,=A,=A,=A,=A,=T,=A,=A,=C,=A,=A,=A,=G,=T,=A,=A,=C,=A,=A,=A,=G,=T,=A,=A,=G,=A,=T,=A,=T,=C,=T,=T,=T,=G,=G,=A,=A,=T,=A,=A,=T,=C,=A,=A,=T,=T,=C,=A,=A,=G,=A,=T,=A,=A,=T,=C,=A,=A,=G,=G,=A,=A,=A,=A,=A,=T,=G,=A,=G,=A,=G,=G,=C,=A,=A,=C,=T,=A,=T,=T,=T,=T,=A,=G,=A,=C,=T,=G,=A,=T,=T,=A,=C,=T,=T,=T,=T,=A,=T,=A,=A,=A,=A,=T,=A,=A,=A,=T,=A,=A,=G,=C,=T,=C,=A,=G,=C,=T,=T,=A,=G,=C,=C,=A,=G,=A,=T,=A,=T,=A,=A,=G,=C,=A,=A,=T,=A,=T,=T,=C,=T,=G,=A,=G,=T,=T,=C,=T,=G,=A,=A,=G,=A,=A,=A,=A,=A,=T,=T,=T,=T,=T,=G,=A,=C,=A,=A,=A,=A,=T,=G,=A,=G,=T,=T,=C,=T,=A,=T,=A,=A,=A,=T,=G,=T,=T,=A,=T,=T,=G,=T,=C,=T,=A,=C,=T,=T,=A,=T,=G,=A,=T,=C,=T,=C,=T,=A,=A,=A,=T,=A,=C,=A,=A,=C,=A,=G,=G,=C,=T,=T,=G,=T,=A,=T,=T,=C,=A,=G,=A,=A,=T,=C,=T,=A,=G,=A,=T,=G,=T,=T,=T,=C,=A,=T,=G,=A,=C,=C,=T,=T,=T,=A,=T,=T,=C,=A,=T,=A,=A,=G,=A,=G,=A,=T,=G,=A,=T,=G,=T,=A,=T,=T,=C,=T,=T,=G,=A,=T,=A,=C,=T,=A,=C,=T,=T,=C,=T,=C,=A,=T,=T,=T,=G,=C,=A,=A,=A,=T,=T,=C,=C,=A,=A,=T,=T,=A,=T,=T,=A,=T,=T,=A,=A,=T,=T,=T,=C,=A,=T,=A,=T,=C,=A,=A,=T,=T,=A,=G,=A,=A,=T,=A,=A,=T,=A,=T,=A,=T,=C,=T,=T,=C,=C,=T,=T,=C,=A,=A,=T,=T,=T,=A,=G,=T,=T,=A,=C,=C,=T,=C,=A,=C,=T,=A,=T,=G,=G,=G,=C,=T,=A,=T,=G,=T,=A,=C,=A,=A,=A,=C,=T,=C,=C,=A,=A,=G,=A,=A,=A,=A,=A,=G,=T,=T,=A,=G,=T,=C,=A,=T,=G,=T,=G,=C,=T,=T,=T,=G,=C,=A,=G,=A,=A,=G,=A,=T,=A,=A,=A,=A,=G,=C,=T,=T,=A,=G,=T,=G,=T,=A,=A,=A,=A,=C,=A,=G,=G,=C,=T,=G,=A,=G,=A,=G,=T,=A,=T,=T,=T,=G,=A,=T,=G,=T,=A,=A,=G,=A,=A,=G,=G,=G,=G,=A,=G,=T,=G,=G,=T,=T,=A,=T,=A,=T,=A,=G,=G,=T,=C,=T,=T,=A,=G,=C,=C,=A,=A,=A,=A,=C,=A,=T,=G,=T,=G,=A,=T,=A,=G,=T,=C,=A,=C,=T,=C,=C,=A,=G,=G,=G,=G,=T,=T,=G,=C,=T,=G,=G,=A,=A,=A,=A,=G,=A,=A,=G,=T,=C,=T,=G,=T,=G,=A,=C,=A,=C,=T,=C,=A,=T,=T,=A,=A,=C,=C,=T,=A,=T,=T,=G,=G,=T,=G,=C,=A,=G,=A,=T,=T,=T,=T,=G,=T,=A,=T,=G,=A,=T,=C,=T,=A,=A,=A,=G,=G,=A,=G,=A,=A,=A,=A,=T,=G,=T,=T,=C,=T,=T,=G,=G,=C,=T,=G,=T,=T,=T,=T,=G,=T,=A,=T,=T,=G,=C,=C,=T,=T,=C,=T,=G,=T,=G,=G,=A,=G,=T,=T,=T,=C,=C,=A,=G,=A,=T,=C,=T,=C,=T,=G,=A,=T,=G,=G,=C,=C,=A,=T,=T,=T,=T,=C,=C,=T,=C,=G,=A,=G,=C,=C,=T,=G,=T,=G,=C,=C,=T,=C,=C,=T,=C,=T,=A,=A,=G,=A,=A,=C,=T,=T,=G,=T,=T,=G,=G,N,=A,=A,=A,=A,=G,=A,=A,=T,=G,=C,=T,=G,=C,=C,=C,=A,=C,=C,=A,=T,=G,=G,=A,=T,=G,=G,=G,=T,=G,=A,=T,=G,=G,=G,=A,=G,=T,=C,=C,=C,=T,=G,=C,=G,=G,=C,=C,=A,=G,=C,=T,=T,=T,=C,=A,=G,=G,=C,=A,=G,=A,=G,=G,=T,=T,=C,=C,=T,=G,=C,=C,=A,=G,=G,=A,=T,=A,=T,=C,=C,=T,=T,=C,=T,=G,=T,=C,=C,=A,=G,=T,=G,=C,=A,=C,=C,=A,=T,=C,=T,=G,=G,=A,=C,=C,=T,=C,=A,=G,=T,=T,=C,=C,=C,=C,=T,=T,=C,=A,=A,=A,=G,=G,=G,=G,=T,=G,=G,=A,=T,=G,=A,=C,=C,=G,=T,=G,=A,=G,=T,=C,=C,=T,=G,=G,=C,=C,=C,=T,=C,=T,=G,=T,=G,=T,=T,=T,=T,=A,=T,=A,=A,=T,=A,=G,=G,=A,=C,=C,=T,=G,=C,=C,=A,=G,=T,=G,=C,=T,=C,=A,=G,=G,=C,=A,=A,=C,=T,=T,=C,=A,=T,=G,=G,=G,=T,=T,=T,=C,=A,=A,=C,=T,=G,=C,=G,=G,=A,=A,=A,=C,=T,=G,=T,=A,=A,=G,=T,=T,=T,=G,=G,=A,=T,=T,=T,=G,=G,=G,=G,=G,=C,=C,=C,=A,=A,=A,=T,=T,=G,=T,=A,=C,=A,=G,=A,=G,=A,=A,=G,=C,=G,=A,=G,=T,=C,=T,=T,=G,=A,=T,=T,=A,=G,=A,=A,=G,=A,=A,=A,=C,=A,=T,=T,=T,=T,=T,=G,=A,=T,=T,=T,=G,=A,=G,=T,=G,=T,=C,=T,=C,=C,=G,=A,=A,=A,=A,=G,=A,=A,=T,=A,=A,=G,=T,=T,=C,=T,=T,=T,=T,=C,=T,=T,=A,=C,=C,=T,=C,=A,=C,=T,=T,=T,=A,=G,=C,=A,=A,=A,=A,=C,=A,=T,=A,=C,=T,=A,=T,=C,=A,=G,=C,=T,=C,=A,=G,=T,=C,=T,=A,=T,=G,=T,=C,=A,=T,=C,=C,=C,=C,=A,=C,=A,=G,=G,=C,=A,=C,=C,=T,=A,=T,=G,=G,=C,=C,=A,=A,=A,=T,=G,=A,=A,=C,=A,=A,=T,=G,=G,=G,=T,=C,=A,=A,=C,=A,=C,=C,=C,=A,=T,=G,=T,=T,=T,=A,=A,=T,=G,=A,=T,=A,=T,=C,=A,=A,=C,=A,=T,=C,=T,=A,=C,=G,=A,=C,=C,=T,=C,=T,=T,=T,=G,=T,=A,=T,=G,=G,=A,=T,=G,=C,=A,=T,=T,=A,=C,=T,=A,=T,=G,=T,=G,=T,=C,=A,=A,=G,=G,=G,=A,=C,=A,=C,=A,=C,=T,=G,=C,=T,=T,=G,=G,=G,=G,=G,=C,=T,=C,=T,=G,=A,=A,=A,=T,=A,=T,=G,=G,=A,=G,=G,=G,=A,=C,=A,=T,=T,=G,=A,=T,=T,=T,=T,=G,=C,=C,=C,=A,=T,=G,=A,=A,=G,=C,=A,=C,=C,=A,=G,=G,=G,=T,=T,=T,=C,=T,=G,=C,=C,=T,=T,=G,=G,=C,=A,=C,=A,=G,=A,=C,=T,=T,=T,=T,=C,=T,=T,=G,=T,=T,=A,=T,=T,=G,=T,=G,=G,=G,=A,=A,=C,=A,=A,=G,=A,=A,=A,=T,=T,=C,=G,=A,=G,=A,=A,=C,=T,=A,=A,=C,=T,=G,=G,=G,=G,=A,=T,=G,=A,=G,=A,=A,=C,=T,=T,=C,=A,=C,=T,=G,=T,=T,=C,=C,=A,=T,=A,=C,=T,=G,=G,=G,=A,=T,=T,=G,=G,=A,=G,=A,=G,=A,=T,=G,=C,=A,=G,=A,=A,=A,=A,=C,=T,=G,=T,=G,=A,=C,=A,=T,=T,=T,=G,=C,=A,=C,=A,=G,=A,=T,=G,=A,=G,=T,=A,=C,=T,=T,=G,=G,=G,=A,=G,=G,=T,=C,=G,=T,=C,=A,=C,=C,=C,=T,=G,=A,=A,=A,=A,=T,=C,=C,=T,=A,=A,=C,=T,=T,=A,=C,=T,=C,=A,=G,-C,=C,*CT,=A,=G,=C,=A,=T,=C,=C,=T,=T,=C,=T,=T,=C,=T,=C,=C,=T,=C,=C,=T,=G,=G,=C,=A,=G,=G,=T,=A,=A,=G,=A,=T,=G,=C,=A,=C,=T,=A,=T,=A,=T,=A,=G,=A,=G,=A,=G,=A,=G,=T,=T,=G,=C,=A,=A,=A,=G,=A,=C,=T,=G,=G,=T,=A,=C,=T,=T,-C,=A,=G,=C,=A,=G,=C,=C,=A,=C,=A,=T,=T,=T,=T,=C,=A,=T,=G,=C,=T,=C,=T,=G,=T,=G,=A,=G,=C,=A,=T,=C,=T,=C,=T,=G,=A,=T,=A,=A,=T,=A,=T,=C,=T,=C,=A,=G,=G,=G,=C,=A,=G,=A,=A,=A,=A,=T,=G,=T,=G,=C,=C,=T,=T,=A,=C,=T,=A,=A,=C,=A,=G,=A,=T,=G,=T,=T,=A,=A,=T,=G,=C,=T,=T,=C,=T,=T,=G,=A,=T,=T,=T,=C,=T,=T,=T,=T,=T,=C,=T,=C,=T,=T,=T,=T,=G,=A,=G,=A,=A,=C,=T,=C,=T,=T,=C,=A,=A,=A,=G,=T,=T,=G,=T,=T,=A,=T,=T,=A,=A,=A,=C,=A,=A,=A,=T,=A,=T,=C,=T,=A,=T,=G,=T,=G,=C,=T,=T,=A,=T,=T,=T,=G,=T,=C,=T,=T,=A,=A,=T,=A,=T,=C,=T,=A,=A,=C,=A,=G,=C,=T,=T,=A,=G,=T,=T,=A,=G,=A,=T,=T,=T,=C,=T,=A,=A,=G,=C,=T,=G,=C,=T,=A,=T,=A,=A,=A,=C,=A,=A,=G,=G,=A,=C,=T,=G,=A,=T,=T,=G,=G,=T,=T,=C,=A,=C,=C,=A,=C,=T,=G,=T,=A,=T,=T,=G,=T,=T,=A,=G,=C,=A,=C,=C,=T,=C,=C,=T,=A,=T,=G,=G,=T,=A,=T,=C,=T,=G,=G,=A,=A,=T,=A,=A,=A,=C,=A,=G,=T,=A,=A,=C,=T,=C,=A,=G,=T,=T,=A,=T,=T,=T,=A,=A,=G,=A,=A,=T,=G,=G,=A,=T,=G,=A,=G,=A,=A,=A,=C,=C,=A,=G,=A,=T,=T,=A,=T,=C,=T,=T,=A,=G,=T,=T,=C,=A,=T,=G,=T,=T,=T,=C,=T,=G,=A,=G,=T,=A,=A,=T,=A,=T,=T,=A,=A,=A,=A,=T,=T,=A,=A,=T,=A,=T,=T,=A,=A,=C,=A,=G,=T,=A,=A,=A,=A,=T,=C,=C,=A,=T,=A,=A,=G,=T,=A,=T,=G,=C,=T,=A,=C,=T,=T,=T,=A,=A,=A,=A,=T,=A,=T,=A,=A,=A,=T,=C,=T,=C,=T,=G,=G,=C,=C,=A,=A,=A,=A,=C,=C,=A,=A,=G,=A,=C,=T,=T,=A,=T,=T,=A,=T,=T,=C,=A,=G,=G,=A,=T,=C,=T,=T,=C,=A,=A,=G,=A,=G,=A,=A,=A,=G,=T,=G,=C,=T,=G,=A,=G,=A,=T,=A,=A,=T,=T,=C,=A,=C,=T,=A,=A,=G,=T,=A,=T,=C,=A,=G,=A,=G,=A,=T,=G,=A,=C,=C,=T,=T,=T,=A,=T,=T,=A,=C,=A,=T,=G,=A,=T,=T,=G,=C,=C,=T,=G,=A,=T,=A,=G,=A,=A,=A,=A,=A,=A,=T,=G,=A,=T,=T,=A,=C,=A,=C,=A,=C,=A,=C,=A,=C,=A,=A,=A,=A,=A,=A,=A,=T,=C,=T,=T,=C,=A,=G,=T,=T,=G,=C,=T,=T,=A,=A,=A,=T,=T,=T,=T,=A,=A,=A,=C,=G,=T,=T,=G,=C,=T,=G,=A,=C,=T,=C,=T,=C,=A,=A,=A,=C,=A,=G,=T,=T,=A,=A,=G,=T,=A,=A,=T,=A,=A,=A,=A,=G,=A,=G,=T,=T,=A,=A,=A,=G,=C,=C,=T,=G,=C,=T,=G,=T,=G,=T,=A,=T,=T,=T,=A,=G,=A,=A,=T,=A,=T,*GA,=T,=G,=A,=A,=T,=A,=C,=C,=T,=A,=T,=T,=G,=A,=A,=A,=G,=A,=A,=T,=T,=T,=A,=T,=T,=G,=T,=A,=C,=A,=A,=T,=T,=A,=A,=T,=A,=T,=A,=A,=A,=C,=A,=G,=A,=C,=T,=T,=C,=T,=A,=T,=T,=T,=T,=A,=C,=A,=G,=T,=C,=A,=T,=A,=A,=G,=A,=T,=A,=C,=T,=A,=C,=T,=T,=A,=A,=T,=T,=T,=G,=T,=T,=A,=A,=A,=A,=A,=T,=T,=A,=T,=T,=T,=T,=T,=T,=G,=A,=T,=A,=G,=C,=A,=T,=T,=G,=T,=T,=G,=G,=T,=A,=A,=A,=T,=A,=G,=C,=A,=A,=A,=G,=G,=T,=G,=A,=T,=A,=T,=T,=T,=G,=C,=T,=A,=A,=T,=G,=A,=T,=T,=A,=C,=A,=A,=G,=G,=G,=C,=T,=G,=T,=C,=T,=G,=G,=C,=T,=A,=A,=C,=T,=T,=A,=C,=G,=T,=T,=A,=T,=G,=T,=T,=C,=A,=G,=G,=G,=A,=G,=A,=A,=G,=A,=C,=A,=G,=T,=C,=C,=T,=T,=T,=T,=T,=A,=A,=G,=G,=A,=A,=T,=G,=G,=G,=C,=A,=C,=T,=T,=T,=C,=T,=A,=A,=C,=T,=T,=T,=T,=T,=T,=T,=C,=T,=C,=T,=A,=G,=G,=A,=T,=G,=G,=A,=G,=A,=A,=A,=A,=A,=T,=T,=A,=G,=C,=C,=T,=T,=C,=T,=T,=C,=C,=T,=A,=C,=T,=T,=T,=A,=A,=A,=A,=A,=T,=G,=T,=T,=A,=G,=A,=C,=A,=T,=A,=G,=A,=A,=T,=T,=A,=A,=G,=G,=G,=A,=T,=T,=G,=T,=T,=A,=T,=T,=T,=T,=G,=A,=G,=A,=T,=T,=A,=A,=A,=T,=T,=T,=T,=C,=T,=T,=T,=T,=C,=T,=C,=C,=T,=A,=T,=T,=A,=T,=T,=T,=T,=T,=C,=C,=T,=C,=A,=T,=T,=C,=T,=G,=G,=A,=A,=T,=G,=G,=A,=A,=G,=C,=A,=A,=A,=A,=G,=A,=T,=G,=A,=A,=G,=A,=A,N,=G,=A,=A,=A,=T,=A,=T,=A,=T,=G,=T,=T,=A,=A,=A,=T,=T,=G,=T,=T,=T,=T,=C,=C,=T,=T,=T,=A,=A,=A,=T,=G,=A,=A,=C,=A,=C,=A,=A,=A,=T,=G,=T,=G,=A,=A,=A,=T,=A,=T,=G,=T,=T,=T,=T,=T,=C,=T,=G,=C,=C,=T,=A,=T,=C,=T,=T,=G,=T,=A,=A,=A,=A,=T,=T,=T,=T,=C,=T,=A,=T,=T,=G,=C,=A,=A,=C,=T,=A,=T,=T,=C,=T,=G,=A,=T,=T,=A,=C,=C,=A,=G,=T,=T,=C,=A,=A,=A,=T,=G,=G,=G,=G,=A,=A,=A,=A,=A,=A,=G,=A,=A,=C,=A,=T,=A,=G,=G,=C,=T,=A,=C,=C,=C,=C,=A,=C,=A,=C,=T,=T,=G,=A,=A,=A,=T,=T,=T,=T,=G,=A,=A,=A,=T,=A,=T,=G,=A,=A,=T,=G,=T,=C,=C,=T,=C,=T,=G,=T,=C,=T,=C,=T,=G,=C,=T,=G,=G,=T,=C,=T,=A,=A,=C,=A,=C,=T,=T,=C,=C,=A,=A,=A,=A,=T,=G,=G,=A,=A,=A,=C,=C,=T,=T,=T,=A,=A,=A,=G,=G,=G,=C,=C,=A,=C,=T,=G,=T,=A,=A,=A,=T,=T,=A,=C,=A,=G,=C,=T,=G,=C,=T,=A,=A,=T,=T,=C,=C,=T,=G,=G,=T,=G,=C,=C,=A,=A,=T,=G,=G,=T,=G,=A,=T,=A,=A,=G,=T,=G,=T,=T,=T,=A,=C,=T,=A,=A,=A,=C,=C,=T,=A,=G,=T,=G,=A,=G,=T,=A,=C,=T,=T,=T,=A,=T,=A,=G,=C,=A,=T,=G,=G,=G,=G,=C,=T,=C,=T,=G,=C,=T,=G,=C,=G,=A,=A,=G,=T,=A,=A,=C,=A,=T,=T,=G,=C,=T,=G,=T,=A,=T,=A,=T,=T,=T,=T,=C,=A,=G,=T,=C,=A,=T,=T,=C,=T,=A,=C,=C,=T,=T,=A,=A,=T,=T,=C,=A,=T,=G,=A,=A,=C,=T,=G,=C,=A,=A,=A,=A,=C,=T,=C,=T,=C,=A,=T,=C,=T,=A,=G,=C,=T,=T,=T,=T,=T,=A,=C,=T,=T,=C,=T,=C,=T,=A,=G,=C,=T,=A,=T,=T,=G,=C,=T,=T,=T,=A,=A,=G,=T,=T,=C,=T,=A,=T,=C,=A,=G,=G,=C,=T,=C,=A,=G,=G,=T,=G,=T,=G,=G,=A,=A,=T,=T,=C,=T,=C'}\n"
     ]
    }
   ],
   "source": [
    "print(next(midsv_corected_sample))\n",
    "print(next(midsv_corected_sample))\n",
    "print(next(midsv_corected_sample))\n",
    "print(next(midsv_corected_sample))"
   ]
  },
  {
   "cell_type": "code",
   "execution_count": null,
   "metadata": {},
   "outputs": [],
   "source": []
  },
  {
   "cell_type": "markdown",
   "metadata": {},
   "source": [
    "# 👉👉👉 いまここ 👈👈👈"
   ]
  },
  {
   "cell_type": "code",
   "execution_count": null,
   "metadata": {},
   "outputs": [],
   "source": []
  },
  {
   "attachments": {},
   "cell_type": "markdown",
   "metadata": {},
   "source": [
    "# 👌👌👌 まとめ 👌👌👌\n"
   ]
  },
  {
   "attachments": {},
   "cell_type": "markdown",
   "metadata": {},
   "source": [
    "- `_transpose_mutation_loci`のバグを修正しました\n",
    "    - `loci.add({})`が`TypeError: unhashable type: 'dict'`を引き起こしていました\n",
    "    - こちらの一行は必要がなかったので削除しました\n",
    "- Generatorの変更は特に行っていませんが、いまのところメモリ的には問題なさそうな気がします…"
   ]
  },
  {
   "attachments": {},
   "cell_type": "markdown",
   "metadata": {},
   "source": [
    "# 次に取り組むこと"
   ]
  },
  {
   "attachments": {},
   "cell_type": "markdown",
   "metadata": {},
   "source": [
    "- できるかぎりGeneratorで返すようにします\n",
    "    - ✅ `calc_midsv`\n",
    "    - ✅ `extract_mutation_loci`\n",
    "    - ⬜ `correct_sequence_error`\n",
    "    - ⬜ `classify`\n",
    "    - ⬜ `clustaring`\n",
    "    - ⬜ `consensus`\n",
    "    - ⬜ `report`\n",
    "\n",
    "### Lists\n",
    "\n",
    "+ GUIの見栄え\n",
    "+ igv.jsの起動\n",
    "+ VCFによる長鎖挿入・欠失情報の付与\n",
    "+ Figの作成\n",
    "+ ⬜ Insertionのなかにある変異を同定する手法を考案する\n",
    "+ ⬜ Ayabe-taks1のright_loxpがいまいちな理由を考察する\n",
    "+ ✅ 断端リードの扱いをどうするべきか\n",
    "+ ✅ `SV`の判定をconsensus callのあとにする\n",
    "+ ✅ Tyrの動作確認\n",
    "+ ✅ ayabe-task1のleft/right-loxpの検出\n",
    "+ ✅ mutation_lociをpreprocessで使用したものに変更する\n",
    "> + ⬜ `preprocess.correct_sequence_error.replace_atmark`のコードがわかりにくい\n",
    "    + テストを用意してリファクタリングする"
   ]
  },
  {
   "cell_type": "markdown",
   "metadata": {},
   "source": []
  }
 ],
 "metadata": {
  "kernelspec": {
   "display_name": "DAJIN2",
   "language": "python",
   "name": "python3"
  },
  "language_info": {
   "codemirror_mode": {
    "name": "ipython",
    "version": 3
   },
   "file_extension": ".py",
   "mimetype": "text/x-python",
   "name": "python",
   "nbconvert_exporter": "python",
   "pygments_lexer": "ipython3",
   "version": "3.10.6"
  },
  "orig_nbformat": 4,
  "vscode": {
   "interpreter": {
    "hash": "58e3ac748e2e63e6aff7f855a7cc6c53d89e428d446591c0d70cbd0714d60e27"
   }
  }
 },
 "nbformat": 4,
 "nbformat_minor": 2
}
