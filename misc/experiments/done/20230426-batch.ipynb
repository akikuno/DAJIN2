{
 "cells": [
  {
   "attachments": {},
   "cell_type": "markdown",
   "metadata": {},
   "source": [
    "# 今回の取り組み"
   ]
  },
  {
   "attachments": {},
   "cell_type": "markdown",
   "metadata": {},
   "source": [
    "- 計算速度を上げるために、`batch`の際にマルチプロセスで動作するようにします"
   ]
  },
  {
   "cell_type": "markdown",
   "metadata": {},
   "source": [
    "## いつものセットアップ"
   ]
  },
  {
   "cell_type": "code",
   "execution_count": 1,
   "metadata": {},
   "outputs": [
    {
     "name": "stdout",
     "output_type": "stream",
     "text": [
      "/mnt/d/Research/DAJIN2\n"
     ]
    }
   ],
   "source": [
    "# ルートディレクトリをPathに含めるおまじない\n",
    "import sys, os\n",
    "from pathlib import Path\n",
    "if Path(os.getcwd()).stem != \"DAJIN2\":\n",
    "    parent_path = str(Path(os.path.dirname(os.path.abspath(\"__file__\"))).parent.parent)\n",
    "    sys.path.append(parent_path)\n",
    "    os.chdir(parent_path)\n",
    "\n",
    "print(os.getcwd())\n",
    "sys.path.append(os.getcwd() + \"/\" + \"src\")"
   ]
  },
  {
   "cell_type": "code",
   "execution_count": 2,
   "metadata": {},
   "outputs": [
    {
     "name": "stderr",
     "output_type": "stream",
     "text": [
      "WARNING: Skipping DAJIN2 as it is not installed.\n"
     ]
    }
   ],
   "source": [
    "%%bash\n",
    "pip uninstall -qy DAJIN2\n",
    "# pipの更新\n",
    "# pip install -q -U pip\n",
    "# pip install -q -U -r requirements.txt"
   ]
  },
  {
   "attachments": {},
   "cell_type": "markdown",
   "metadata": {},
   "source": [
    "# 実験"
   ]
  },
  {
   "cell_type": "code",
   "execution_count": 28,
   "metadata": {},
   "outputs": [
    {
     "name": "stdout",
     "output_type": "stream",
     "text": [
      "misc/data/tyr_control.fq.gz is now processing...\n",
      "misc/data/tyr_control.fq.gz is finished...\n",
      "misc/data/tyr_albino_50%.fq.gz is now processing...\n",
      "misc/data/tyr_albino_10%.fq.gz is now processing...\n",
      "misc/data/tyr_albino_01%.fq.gz is now processing...\n",
      "2023-04-28 09:00:35: Preprocess tyr_albino_01%...\n",
      "2023-04-28 09:00:35: mapping tyr_albino_01%...\n",
      "2023-04-28 09:00:35: Preprocess tyr_albino_10%...\n",
      "2023-04-28 09:00:35: mapping tyr_albino_10%...\n",
      "2023-04-28 09:00:36: Preprocess tyr_albino_50%...\n",
      "2023-04-28 09:00:36: mapping tyr_albino_50%...\n",
      "2023-04-28 09:00:45: midsv tyr_albino_50%...\n",
      "2023-04-28 09:00:51: replace_NtoD tyr_albino_50%...\n",
      "2023-04-28 09:00:54: midsv tyr_albino_01%...\n",
      "2023-04-28 09:00:54: midsv tyr_albino_10%...\n",
      "2023-04-28 09:00:55: extract_mutation_loci tyr_albino_50%...\n",
      "2023-04-28 09:01:06: replace_NtoD tyr_albino_01%...\n",
      "2023-04-28 09:01:06: replace_NtoD tyr_albino_10%...\n",
      "2023-04-28 09:01:14: extract_mutation_loci tyr_albino_01%...\n",
      "2023-04-28 09:01:14: extract_mutation_loci tyr_albino_10%...\n",
      "2023-04-28 09:01:14: correct_sequence_error tyr_albino_50%...\n",
      "2023-04-28 09:01:39: correct_sequence_error tyr_albino_10%...\n",
      "2023-04-28 09:01:40: correct_sequence_error tyr_albino_01%...\n",
      "2023-04-28 09:01:50: Classify tyr_albino_50%...\n",
      "2023-04-28 09:01:53: Clustering tyr_albino_50%...\n",
      "2023-04-28 09:02:15: Consensus calling tyr_albino_50%......\n",
      "misc/data/tyr_albino_50%.fq.gz is finished...\n",
      "2023-04-28 09:02:31: Classify tyr_albino_01%...\n",
      "2023-04-28 09:02:32: Classify tyr_albino_10%...\n",
      "2023-04-28 09:02:35: Clustering tyr_albino_01%...\n",
      "2023-04-28 09:02:36: Clustering tyr_albino_10%...\n",
      "2023-04-28 09:03:04: Consensus calling tyr_albino_01%......\n",
      "2023-04-28 09:03:06: Consensus calling tyr_albino_10%......\n",
      "misc/data/tyr_albino_01%.fq.gz is finished...\n",
      "misc/data/tyr_albino_10%.fq.gz is finished...\n"
     ]
    },
    {
     "name": "stderr",
     "output_type": "stream",
     "text": [
      "Finished! Open DAJINResults/batch_tyr_50_10_01 to see the report.\n",
      "\n",
      "real\t4m6.365s\n",
      "user\t6m38.423s\n",
      "sys\t0m25.141s\n"
     ]
    }
   ],
   "source": [
    "%%bash\n",
    "rm -rf DAJINResults/batch_tyr_50_10_01\n",
    "rm -rf DAJINResults/.tempdir/batch_tyr_50_10_01\n",
    "\n",
    "pip install -qe .\n",
    "time DAJIN2 batch -f misc/data/design_batch_tyr_50_10_01.csv -t 3"
   ]
  },
  {
   "cell_type": "code",
   "execution_count": 3,
   "metadata": {},
   "outputs": [],
   "source": [
    "! pip install -qe .\n"
   ]
  },
  {
   "attachments": {},
   "cell_type": "markdown",
   "metadata": {},
   "source": [
    "- `midsv.read_jsonl`をmultiprocessで動かすとエラーが出ます\n",
    "    - `Unterminated string starting at: line 1 column 82 (char 81)`\n",
    "- エラーが出ないときもあります\n",
    "- 再現が取れるか調べます"
   ]
  },
  {
   "cell_type": "code",
   "execution_count": 13,
   "metadata": {},
   "outputs": [],
   "source": [
    "import multiprocessing\n",
    "from itertools import islice\n",
    "\n",
    "def _batched(iterable, chunk_size):\n",
    "    iterator = iter(iterable)\n",
    "    chunk = tuple(islice(iterator, chunk_size))\n",
    "    while chunk:\n",
    "        yield chunk\n",
    "        chunk = tuple(islice(iterator, chunk_size))\n",
    "\n",
    "\n",
    "def _run_multiprocess(function, arguments: list, num_workers: int = 1):\n",
    "    arguments_batched = _batched(arguments, num_workers)\n",
    "    for args in arguments_batched:\n",
    "        jobs = []\n",
    "        for arg in args:\n",
    "            p = multiprocessing.Process(target=function, args=(arg,))\n",
    "            jobs.append(p)\n",
    "            p.start()\n",
    "        for job in jobs:\n",
    "            job.join()\n",
    "\n"
   ]
  },
  {
   "cell_type": "code",
   "execution_count": 15,
   "metadata": {},
   "outputs": [
    {
     "name": "stdout",
     "output_type": "stream",
     "text": [
      "1\n",
      "2\n",
      "3\n"
     ]
    }
   ],
   "source": [
    "num_workers = 3\n",
    "targets = [1, 2, 3]\n",
    "_run_multiprocess(print, targets, num_workers)"
   ]
  },
  {
   "cell_type": "code",
   "execution_count": 30,
   "metadata": {},
   "outputs": [
    {
     "name": "stdout",
     "output_type": "stream",
     "text": [
      "DAJINResults/.tempdir/batch_tyr_50_10_01/midsv/tyr_albino_01%_control.jsonl : 10000DAJINResults/.tempdir/batch_tyr_50_10_01/midsv/tyr_albino_01%_control.jsonl : 10000\n",
      "\n",
      "DAJINResults/.tempdir/batch_tyr_50_10_01/midsv/tyr_albino_01%_control.jsonl : 10000\n",
      "DAJINResults/.tempdir/batch_tyr_50_10_01/midsv/tyr_albino_01%_control.jsonl : 10000\n",
      "DAJINResults/.tempdir/batch_tyr_50_10_01/midsv/tyr_albino_01%_control.jsonl : 10000\n",
      "DAJINResults/.tempdir/batch_tyr_50_10_01/midsv/tyr_albino_01%_control.jsonl : 10000\n",
      "DAJINResults/.tempdir/batch_tyr_50_10_01/midsv/tyr_albino_01%_control.jsonl : 10000\n",
      "DAJINResults/.tempdir/batch_tyr_50_10_01/midsv/tyr_albino_01%_control.jsonl : 10000\n",
      "DAJINResults/.tempdir/batch_tyr_50_10_01/midsv/tyr_albino_01%_control.jsonl : 10000\n",
      "DAJINResults/.tempdir/batch_tyr_50_10_01/midsv/tyr_albino_01%_control.jsonl : 10000DAJINResults/.tempdir/batch_tyr_50_10_01/midsv/tyr_albino_01%_control.jsonl : 10000\n",
      "\n",
      "DAJINResults/.tempdir/batch_tyr_50_10_01/midsv/tyr_albino_01%_control.jsonl : 10000\n",
      "DAJINResults/.tempdir/batch_tyr_50_10_01/midsv/tyr_albino_01%_control.jsonl : 10000\n",
      "DAJINResults/.tempdir/batch_tyr_50_10_01/midsv/tyr_albino_01%_control.jsonl : 10000\n",
      "DAJINResults/.tempdir/batch_tyr_50_10_01/midsv/tyr_albino_01%_control.jsonl : 10000\n",
      "DAJINResults/.tempdir/batch_tyr_50_10_01/midsv/tyr_albino_01%_control.jsonl : 10000\n",
      "DAJINResults/.tempdir/batch_tyr_50_10_01/midsv/tyr_albino_01%_control.jsonl : 10000\n",
      "DAJINResults/.tempdir/batch_tyr_50_10_01/midsv/tyr_albino_01%_control.jsonl : 10000DAJINResults/.tempdir/batch_tyr_50_10_01/midsv/tyr_albino_01%_control.jsonl : 10000\n",
      "\n",
      "DAJINResults/.tempdir/batch_tyr_50_10_01/midsv/tyr_albino_01%_control.jsonl : 10000\n",
      "DAJINResults/.tempdir/batch_tyr_50_10_01/midsv/tyr_albino_01%_control.jsonl : 10000\n",
      "DAJINResults/.tempdir/batch_tyr_50_10_01/midsv/tyr_albino_01%_control.jsonl : 10000\n",
      "DAJINResults/.tempdir/batch_tyr_50_10_01/midsv/tyr_albino_01%_control.jsonl : 10000\n",
      "DAJINResults/.tempdir/batch_tyr_50_10_01/midsv/tyr_albino_01%_control.jsonl : 10000DAJINResults/.tempdir/batch_tyr_50_10_01/midsv/tyr_albino_01%_control.jsonl : 10000\n",
      "\n",
      "DAJINResults/.tempdir/batch_tyr_50_10_01/midsv/tyr_albino_01%_control.jsonl : 10000\n",
      "DAJINResults/.tempdir/batch_tyr_50_10_01/midsv/tyr_albino_01%_control.jsonl : 10000DAJINResults/.tempdir/batch_tyr_50_10_01/midsv/tyr_albino_01%_control.jsonl : 10000\n",
      "\n",
      "DAJINResults/.tempdir/batch_tyr_50_10_01/midsv/tyr_albino_01%_control.jsonl : 10000\n",
      "DAJINResults/.tempdir/batch_tyr_50_10_01/midsv/tyr_albino_01%_control.jsonl : 10000\n"
     ]
    }
   ],
   "source": [
    "from pathlib import Path\n",
    "import midsv\n",
    "num_workers = 30\n",
    "# targets = list(Path(\"DAJINResults/.tempdir/batch_tyr_50_10_01/midsv/\").glob(\"*.jsonl\"))\n",
    "targets = [\"DAJINResults/.tempdir/batch_tyr_50_10_01/midsv/tyr_albino_01%_control.jsonl\"] * 30\n",
    "def test_reads(target):\n",
    "    print(f\"{target} : {len(midsv.read_jsonl(target))}\")\n",
    "# _run_multiprocess(midsv.read_jsonl, targets, num_workers)\n",
    "_run_multiprocess(test_reads, targets, num_workers)"
   ]
  },
  {
   "attachments": {},
   "cell_type": "markdown",
   "metadata": {},
   "source": [
    "- どうやら`midsv.read_jsonl`には問題がない様子です\n",
    "- ただ、jsonlのIOに問題があるのはおそらく間違いないので、IOを最小限にしてなるべくPythonのメモリ上でハンドリングするようにします\n",
    "    - `midsv.read_jsonl`と`midsv.write_jsonl`を必要最小限にします\n",
    "    - 出力はlistではなくgeneratorとします"
   ]
  },
  {
   "cell_type": "code",
   "execution_count": 32,
   "metadata": {},
   "outputs": [
    {
     "name": "stdout",
     "output_type": "stream",
     "text": [
      "src/DAJIN2/core/preprocess/correct_knockin.py:        midsv_sample = midsv.read_jsonl(Path(TEMPDIR, \"midsv\", f\"{SAMPLE_NAME}_{allele}.jsonl\"))\n",
      "src/DAJIN2/core/preprocess/correct_knockin.py:        midsv_control = midsv.read_jsonl(Path(TEMPDIR, \"midsv\", f\"{CONTROL_NAME}_{allele}.jsonl\"))\n",
      "src/DAJIN2/core/preprocess/correct_revititive_deletions.py:        midsv_control = midsv.read_jsonl((Path(TEMPDIR, \"midsv\", f\"{CONTROL_NAME}_{allele}.jsonl\")))\n",
      "src/DAJIN2/core/preprocess/correct_revititive_deletions.py:        midsv_sample = midsv.read_jsonl((Path(TEMPDIR, \"midsv\", f\"{SAMPLE_NAME}_{allele}.jsonl\")))\n",
      "src/DAJIN2/core/preprocess/replace_NtoD.py:        midsv_sample = midsv.read_jsonl(Path(TEMPDIR, \"midsv\", f\"{SAMPLE_NAME}_{allele}.jsonl\"))\n",
      "src/DAJIN2/core/preprocess/correct_sequence_error.py:        midsv_sample = midsv.read_jsonl((Path(TEMPDIR, \"midsv\", f\"{SAMPLE_NAME}_{allele}.jsonl\")))\n",
      "src/DAJIN2/core/preprocess/correct_sequence_error.py:        midsv_control = midsv.read_jsonl((Path(TEMPDIR, \"midsv\", f\"{CONTROL_NAME}_{allele}.jsonl\")))\n",
      "src/DAJIN2/core/preprocess/extract_mutation_loci.py:        midsv_sample = midsv.read_jsonl((Path(TEMPDIR, \"midsv\", f\"{SAMPLE_NAME}_{allele}.jsonl\")))\n",
      "src/DAJIN2/core/preprocess/extract_mutation_loci.py:        midsv_control = midsv.read_jsonl((Path(TEMPDIR, \"midsv\", f\"{CONTROL_NAME}_{allele}.jsonl\")))\n",
      "src/DAJIN2/core/clustering/clustering.py:        midsv_control = midsv.read_jsonl((Path(TEMPDIR, \"midsv\", f\"{CONTROL_NAME}_{allele}.jsonl\")))\n",
      "src/DAJIN2/core/clustering/extract_mutation_loci.py:        midsv_sample = midsv.read_jsonl((Path(TEMPDIR, \"midsv\", f\"{SAMPLE_NAME}_{allele}.jsonl\")))\n",
      "src/DAJIN2/core/clustering/extract_mutation_loci.py:        midsv_control = midsv.read_jsonl((Path(TEMPDIR, \"midsv\", f\"{CONTROL_NAME}_{allele}.jsonl\")))\n",
      "src/DAJIN2/core/classification/classify.py:        for dict_midsv in midsv.read_jsonl(path_midsv):\n",
      "src/DAJIN2/postprocess/report.py:        result_jsonl = midsv.read_jsonl(path_result)\n"
     ]
    }
   ],
   "source": [
    "%%bash\n",
    "find src/DAJIN2 -type f | grep -v \"past\" | xargs grep \"midsv.read_jsonl\""
   ]
  },
  {
   "cell_type": "code",
   "execution_count": null,
   "metadata": {},
   "outputs": [],
   "source": []
  },
  {
   "cell_type": "code",
   "execution_count": 33,
   "metadata": {},
   "outputs": [
    {
     "name": "stdout",
     "output_type": "stream",
     "text": [
      "processing batch_tyr_50_10_01...\n"
     ]
    }
   ],
   "source": [
    "from __future__ import annotations\n",
    "\n",
    "import sys, os\n",
    "from pathlib import Path\n",
    "\n",
    "import hashlib\n",
    "from collections import defaultdict\n",
    "from pathlib import Path\n",
    "from importlib import reload\n",
    "\n",
    "from src.DAJIN2.core import preprocess, classification, clustering, consensus, report\n",
    "\n",
    "reload(preprocess)\n",
    "reload(classification)\n",
    "reload(clustering)\n",
    "reload(consensus)\n",
    "reload(report)\n",
    "\n",
    "#### # * Subset of Point mutation\n",
    "#### # 50 or 10 or 01%\n",
    "percent = \"50\"\n",
    "SAMPLE, CONTROL, ALLELE, NAME, GENOME, DEBUG, THREADS = (\n",
    "    f\"misc/data/tyr_albino_{percent}%.fq.gz\",\n",
    "    \"misc/data/tyr_control.fq.gz\",\n",
    "    \"misc/data/tyr_control.fasta\",\n",
    "    \"batch_tyr_50_10_01\",\n",
    "    \"mm10\",\n",
    "    True,\n",
    "    30,\n",
    ")\n",
    "\n",
    "\n",
    "######################################################################\n",
    "# Preprocessing\n",
    "######################################################################\n",
    "\n",
    "print(f\"processing {NAME}...\")\n",
    "\n",
    "SAMPLE = preprocess.format_inputs.convert_to_posix_path(SAMPLE)\n",
    "CONTROL = preprocess.format_inputs.convert_to_posix_path(CONTROL)\n",
    "ALLELE = preprocess.format_inputs.convert_to_posix_path(ALLELE)\n",
    "\n",
    "# ====================================================================\n",
    "# Varidate inputs\n",
    "# ====================================================================\n",
    "\n",
    "preprocess.validate_inputs.check_files(SAMPLE, CONTROL, ALLELE)\n",
    "TEMPDIR = Path(\"DAJINResults\", \".tempdir\", NAME)\n",
    "IS_CACHE_CONTROL = preprocess.validate_inputs.exists_cached_control(CONTROL, TEMPDIR)\n",
    "IS_CACHE_GENOME = preprocess.validate_inputs.exists_cached_genome(GENOME, TEMPDIR, IS_CACHE_CONTROL)\n",
    "UCSC_URL, GOLDENPATH_URL = None, None\n",
    "if GENOME and not IS_CACHE_GENOME:\n",
    "    UCSC_URL, GOLDENPATH_URL = preprocess.validate_inputs.check_and_fetch_genome(GENOME)\n",
    "\n",
    "# ====================================================================\n",
    "# Format inputs\n",
    "# ====================================================================\n",
    "SAMPLE_NAME = preprocess.format_inputs.extract_basename(SAMPLE)\n",
    "CONTROL_NAME = preprocess.format_inputs.extract_basename(CONTROL)\n",
    "FASTA_ALLELES = preprocess.format_inputs.dictionize_allele(ALLELE)\n",
    "THREADS = preprocess.format_inputs.update_threads(THREADS)\n",
    "\n",
    "preprocess.format_inputs.make_directories(TEMPDIR, SAMPLE_NAME, CONTROL_NAME)\n",
    "\n",
    "if GENOME:\n",
    "    GENOME_COODINATES = preprocess.format_inputs.fetch_coodinate(GENOME, UCSC_URL, FASTA_ALLELES[\"control\"])\n",
    "    CHROME_SIZE = preprocess.format_inputs.fetch_chrom_size(GENOME_COODINATES[\"chr\"], GENOME, GOLDENPATH_URL)\n",
    "    preprocess.format_inputs.cache_coodinates_and_chromsize(TEMPDIR, GENOME, GENOME_COODINATES, CHROME_SIZE)\n"
   ]
  },
  {
   "cell_type": "code",
   "execution_count": 34,
   "metadata": {},
   "outputs": [],
   "source": [
    "from __future__ import annotations\n",
    "\n",
    "import midsv\n",
    "import re\n",
    "from itertools import groupby\n",
    "\n",
    "def _split_cigar(CIGAR:str) -> list[str]:\n",
    "    cigar = re.split(r\"([MIDNSH=X])\", CIGAR)\n",
    "    n = len(cigar)\n",
    "    cigar_split = []\n",
    "    for i, j in zip(range(0, n, 2), range(1, n, 2)):\n",
    "        cigar_split.append(cigar[i] + cigar[j])\n",
    "    return cigar_split\n",
    "\n",
    "\n",
    "\n",
    "def _call_alignment_length(CIGAR: str) -> int:\n",
    "    cigar_split = _split_cigar(CIGAR)\n",
    "    alignment_length = 0\n",
    "    for c in cigar_split:\n",
    "        if re.search(r\"[MDN=X]\", c[-1]):\n",
    "            alignment_length += int(c[:-1])\n",
    "    return alignment_length\n",
    "\n",
    "\n",
    "\n",
    "def _has_inversion_in_splice(CIGAR: str) -> bool:\n",
    "    is_splice = False\n",
    "    is_insertion = False\n",
    "    for cigar in _split_cigar(CIGAR):\n",
    "        if cigar.endswith(\"I\"):\n",
    "            is_insertion = True\n",
    "            continue\n",
    "        if is_insertion and cigar.endswith(\"N\"):\n",
    "            is_splice = True\n",
    "            break\n",
    "        else:\n",
    "            is_insertion = False\n",
    "    return is_splice\n",
    "\n",
    "\n",
    "def _extract_qname_of_map_ont(sam_ont: list[list[str]], sam_splice: list[list[str]]) -> set():\n",
    "    \"\"\"Extract qname of reads from `map-ont` when:\n",
    "        - no inversion signal in `splice` alignment (insertion + deletion)\n",
    "        - single read\n",
    "        - long alignment length\n",
    "    \"\"\"\n",
    "    alignments_ont = [s for s in sam_ont if not s[0].startswith(\"@\")]\n",
    "    alignments_ont.sort(key=lambda x: x[0])\n",
    "    dict_alignments_splice = {s[0]: s for s in sam_splice if not s[0].startswith(\"@\")}\n",
    "    qname_of_map_ont = set()\n",
    "    for qname_ont, group in groupby(alignments_ont, key=lambda x: x[0]):\n",
    "        alignment_ont = list(group)\n",
    "        if not qname_ont in dict_alignments_splice:\n",
    "            qname_of_map_ont.add(qname_ont)\n",
    "            continue\n",
    "        alignment_splice = dict_alignments_splice[qname_ont]\n",
    "        if _has_inversion_in_splice(alignment_splice[5]):\n",
    "            qname_of_map_ont.add(qname_ont)\n",
    "            continue\n",
    "        if len(alignment_ont) != 1:\n",
    "            continue\n",
    "        alignment_ont = alignment_ont[0]\n",
    "        alignment_length_ont = _call_alignment_length(alignment_ont[5])\n",
    "        alignment_length_splice = _call_alignment_length(alignment_splice[5])\n",
    "        if alignment_length_ont >= alignment_length_splice:\n",
    "            qname_of_map_ont.add(qname_ont)\n",
    "    return qname_of_map_ont\n",
    "\n",
    "\n",
    "def _extract_sam(sam: list[list[str]], qname_of_map_ont: set, preset:str=\"map-ont\") -> list[list[str]]:\n",
    "    sam_extracted = []\n",
    "    for alignment in sam:\n",
    "        if alignment[0].startswith(\"@\"):\n",
    "            sam_extracted.append(alignment)\n",
    "        if preset == \"map-ont\":\n",
    "            if alignment[0] in qname_of_map_ont:\n",
    "                sam_extracted.append(alignment)\n",
    "        else:\n",
    "            if alignment[0] not in qname_of_map_ont:\n",
    "                sam_extracted.append(alignment)\n",
    "    return sam_extracted\n",
    "\n",
    "\n",
    "def _midsv_transform(sam: list[list[str]]) -> list[list[str]]:\n",
    "    num_header = 0\n",
    "    for s in sam:\n",
    "        if s[0].startswith(\"@\"):\n",
    "            num_header += 1\n",
    "        else:\n",
    "            break\n",
    "    if len(sam) == num_header:\n",
    "        return []\n",
    "    return midsv.transform(sam, midsv=False, cssplit=True, qscore=False)\n",
    "\n",
    "\n",
    "def call_midsv(TEMPDIR, FASTA_ALLELES, SAMPLE_NAME) -> dict[str, list]:\n",
    "    midsv_sample = dict()\n",
    "    for allele in FASTA_ALLELES:\n",
    "        sam_ont = midsv.read_sam(f\"{TEMPDIR}/sam/{SAMPLE_NAME}_map-ont_{allele}.sam\")\n",
    "        sam_splice = midsv.read_sam(f\"{TEMPDIR}/sam/{SAMPLE_NAME}_splice_{allele}.sam\")\n",
    "        qname_of_map_ont = _extract_qname_of_map_ont(sam_ont, sam_splice)\n",
    "        sam_of_map_ont = _extract_sam(sam_ont, qname_of_map_ont, preset=\"map-ont\")\n",
    "        sam_of_splice = _extract_sam(sam_splice, qname_of_map_ont, preset=\"splice\")\n",
    "        midsv_of_single_read = _midsv_transform(sam_of_map_ont)\n",
    "        midsv_of_multiple_reads = _midsv_transform(sam_of_splice)\n",
    "        midsv_sample[allele] = midsv_of_single_read + midsv_of_multiple_reads\n",
    "    return midsv_sample\n",
    "    midsv.write_jsonl(midsv_sample, f\"{TEMPDIR}/midsv/{SAMPLE_NAME}_{allele}.jsonl\")\n"
   ]
  },
  {
   "cell_type": "code",
   "execution_count": 35,
   "metadata": {},
   "outputs": [],
   "source": [
    "midsv_sample = call_midsv(TEMPDIR, FASTA_ALLELES, SAMPLE_NAME)"
   ]
  },
  {
   "cell_type": "code",
   "execution_count": 38,
   "metadata": {},
   "outputs": [
    {
     "name": "stdout",
     "output_type": "stream",
     "text": [
      "[{'QNAME': '00077750-d7ab-4c73-ac65-8707d39936c2', 'RNAME': 'control', 'CSSPLIT': '=T,=G,=C,=A,=T,=T,=G,=A,=A,=G,=C,=A,=G,=T,=T,=C,=A,=C,=C,+G|=A,=A,=A,=A,=T,=A,=A,=C,=A,=A,=A,=G,=T,=A,=A,=C,+A|=A,=A,=A,=G,=T,=A,=A,=G,=A,=T,=A,=T,=C,=T,=T,=T,=G,=G,=A,=A,=T,=A,=A,=T,=C,=A,=A,=T,=T,=C,=A,=A,=G,=A,=T,=A,=A,=T,=C,=A,=A,=G,=G,=A,=A,=A,=A,=A,=T,=G,=A,=G,=A,-G,=G,=C,=A,=A,=C,=T,=A,=T,=T,=T,=T,=A,=G,=A,=C,=T,=G,=A,=T,=T,=A,=C,=T,=T,=T,=T,=A,=T,=A,=A,=A,=A,=T,=A,=A,=A,=T,=A,=A,=G,=C,=T,=C,=A,=G,=C,=T,=T,=A,=G,=C,=C,*AG,*GA,=A,=T,=A,=T,=A,=A,=G,=C,=A,=A,=T,=A,=T,=T,=C,=T,=G,=A,=G,=T,=T,=C,=T,=G,=A,=A,=G,=A,=A,=A,=A,=A,=T,=T,=T,=T,=T,=G,=A,=C,=A,=A,=A,=A,=T,=G,=A,=G,=T,=T,=C,=T,=A,=T,=A,=A,=A,=T,=G,=T,=T,=A,=T,=T,=G,=T,=C,=T,=A,=C,=T,=T,=A,=T,=G,=A,=T,=C,=T,=C,=T,=A,=A,=A,=T,=A,=C,=A,=A,=C,=A,=G,=G,=C,=T,=T,=G,=T,=A,=T,=T,=C,=A,=G,=A,=A,=T,=C,=T,=A,=G,=A,=T,=G,=T,=T,=T,=C,=A,=T,=G,=A,=C,=C,=T,=T,=T,=A,=T,=T,=C,=A,=T,=A,=A,=G,=A,=G,=A,=T,=G,+A|+A|=A,=T,=G,=T,=A,=T,=T,=C,=T,=T,=G,=A,=T,=A,=C,=T,=A,=C,=T,=T,=C,=T,=C,=A,+T|+T|=T,=T,=T,*GA,=C,=A,=A,=A,=T,=T,=C,=C,=A,=A,=T,=T,=A,=T,=T,=A,=T,=T,=A,=A,=T,=T,=T,=C,=A,=T,=A,=T,+C|=C,=A,=A,=T,=T,=A,=G,=A,=A,=T,=A,=A,=T,=A,=T,=A,=T,=C,=T,=T,=C,=C,=T,=T,=C,=A,=A,=T,=T,=T,*AG,*GA,=T,=T,=A,=C,=C,=T,=C,=A,=C,=T,=A,=T,=G,=G,=G,=C,=T,=A,=T,=G,=T,=A,=C,=A,=A,=A,=C,=T,-C,=C,=A,=A,=G,-A,=A,=A,=A,=A,=G,=T,=T,=A,=G,=T,=C,=A,=T,=G,=T,=G,=C,=T,=T,=T,=G,=C,=A,=G,=A,=A,=G,=A,=T,=A,=A,=A,=A,=G,=C,=T,=T,=A,=G,=T,=G,=T,=A,=A,=A,=A,=C,=A,=G,=G,=C,=T,=G,=A,=G,=A,=G,=T,=A,=T,=T,=T,=G,=A,=T,=G,=T,=A,=A,=G,=A,=A,-G,=G,=G,=G,=A,=G,=T,=G,=G,=T,=T,=A,=T,=A,=T,=A,=G,=G,=T,=C,=T,=T,=A,=G,=C,=C,=A,=A,=A,=A,=C,=A,=T,=G,=T,=G,=A,=T,=A,=G,=T,=C,=A,=C,=T,=C,=C,=A,+G|=G,=G,=G,=G,=T,=T,=G,=C,=T,=G,=G,=A,=A,=A,=A,=G,=A,=A,=G,=T,=C,=T,=G,=T,=G,=A,=C,=A,=C,=T,=C,=A,=T,=T,=A,=A,=C,=C,=T,=A,=T,=T,=G,=G,=T,=G,=C,=A,=G,=A,=T,=T,=T,=T,=G,=T,=A,=T,=G,=A,=T,=C,=T,=A,=A,=A,=G,=G,=A,=G,=A,=A,=A,=A,=T,=G,=T,=T,=C,=T,=T,=G,=G,=C,=T,=G,=T,=T,=T,=T,=G,=T,=A,=T,=T,=G,=C,=C,=T,=T,=C,=T,=G,=T,=G,=G,=A,=G,=T,=T,=T,=C,=C,=A,=G,=A,=T,=C,=T,=C,=T,=G,=A,=T,=G,=G,=C,=C,=A,=T,=T,=T,=T,=C,=C,=T,=C,=G,=A,=G,=C,=C,=T,=G,=T,=G,=C,=C,=T,=C,=C,=T,=C,=T,=A,=A,=G,=A,=A,=C,=T,=T,=G,=T,=T,=G,=G,=C,=A,=A,=A,=A,=G,=A,=A,=T,=G,=C,=T,=G,=C,=C,=C,=A,=C,=C,=A,=T,=G,=G,=A,=T,=G,=G,=G,=T,=G,=A,=T,=G,=G,=G,=A,=G,=T,=C,=C,=C,=T,=G,+C|+A|=C,=G,=G,=C,=C,=A,=G,=C,=T,=T,=T,=C,=A,=G,=G,=C,=A,=G,=A,=G,=G,=T,=T,=C,=C,=T,=G,=C,=C,=A,=G,=G,=A,=T,=A,=T,=C,=C,=T,=T,=C,=T,=G,=T,=C,=C,=A,=G,=T,=G,=C,=A,=C,=C,=A,=T,=C,=T,=G,=G,=A,=C,=C,=T,=C,=A,=G,=T,=T,=C,=C,=C,=C,=T,=T,=C,=A,=A,=A,=G,=G,=G,=G,=T,=G,=G,=A,=T,=G,=A,=C,=C,=G,=T,=G,=A,=G,=T,=C,=C,=T,=G,=G,=C,=C,=C,=T,=C,=T,=G,=T,=G,=T,=T,=T,=T,=A,=T,=A,=A,=T,=A,=G,=G,=A,=C,=C,=T,=G,=C,=C,=A,=G,=T,=G,=C,=T,=C,=A,=G,=G,=C,=A,=A,=C,=T,=T,=C,=A,=T,=G,=G,=G,=T,=T,=T,=C,=A,=A,=C,=T,=G,=C,=G,=G,=A,=A,=A,=C,=T,=G,=T,=A,=A,=G,=T,=T,=T,=G,=G,=A,=T,=T,=T,=G,=G,=G,=G,=G,=C,=C,=C,=A,=A,=A,=T,=T,=G,=T,=A,=C,=A,=G,=A,=G,=A,=A,=G,=C,=G,=A,=G,=T,=C,=T,=T,=G,=A,=T,=T,=A,=G,=A,=A,*GA,=A,=A,=A,=C,=A,=T,=T,=T,=T,=T,=G,=A,=T,=T,=T,=G,=A,=G,=T,=G,=T,=C,=T,=C,=C,=G,=A,=A,=A,=A,=G,=A,=A,=T,=A,=A,=G,=T,=T,=C,+T|=T,=T,=T,=T,=C,*TC,*TC,=A,=C,=C,=T,=C,=A,=C,=T,=T,=T,=A,=G,=C,=A,=A,=A,=A,=C,=A,=T,=A,=C,=T,=A,=T,=C,=A,=G,=C,=T,=C,=A,=G,=T,=C,=T,=A,=T,=G,=T,=C,=A,=T,=C,=C,=C,+T|+A|=C,=A,=C,=A,=G,=G,=C,=A,=C,=C,=T,=A,=T,=G,=G,=C,=C,=A,=A,=A,=T,=G,=A,=A,=C,=A,=A,=T,=G,=G,=G,=T,=C,=A,=A,=C,=A,=C,=C,=C,=A,=T,=G,=T,=T,=T,=A,=A,=T,=G,=A,=T,=A,=T,=C,=A,=A,=C,=A,=T,=C,=T,=A,=C,=G,=A,=C,=C,=T,=C,=T,=T,=T,=G,=T,=A,=T,=G,=G,=A,=T,=G,=C,=A,=T,=T,=A,=C,=T,=A,=T,=G,=T,=G,=T,=C,=A,=A,=G,=G,=G,=A,=C,=A,=C,-A,=C,+T|+T|=T,=G,=C,=T,=T,=G,=G,=G,=G,=G,=C,=T,=C,=T,=G,=A,=A,=A,=T,=A,=T,=G,=G,=A,=G,=G,=G,=A,=C,=A,=T,=T,=G,=A,=T,=T,=T,=T,=G,=C,=C,=C,=A,=T,=G,=A,=A,=G,=C,=A,=C,=C,=A,=G,=G,=G,=T,=T,=T,=C,=T,=G,=C,=C,=T,=T,*GA,=G,=C,=A,=C,=A,=G,=A,=C,=T,=T,=T,=T,=C,=T,=T,=G,=T,=T,=A,=T,=T,=G,=T,=G,=G,=G,=A,=A,=C,=A,=A,=G,=A,=A,=A,=T,=T,=C,-G,=A,=G,*AG,*AC,*CT,=T,=A,=A,=C,=T,=G,=G,=G,=G,=A,=T,=G,=A,=G,=A,=A,=C,=T,-T,-C,*AG,=C,=T,=G,=T,=T,=C,=C,=A,=T,=A,=C,=T,=G,=G,=G,=A,=T,=T,=G,=G,=A,=G,=A,=G,=A,=T,=G,=C,=A,=G,=A,=A,=A,=A,=C,=T,=G,=T,=G,=A,=C,=A,=T,=T,=T,=G,=C,=A,=C,=A,=G,=A,=T,=G,=A,=G,=T,=A,=C,=T,=T,=G,=G,=G,=A,=G,=G,=T,=C,=G,=T,=C,=A,=C,=C,=C,=T,=G,=A,=A,=A,=A,=T,=C,=C,=T,=A,=A,=C,-T,-T,=A,=C,=T,=C,=A,=G,=C,=C,=C,=A,=G,=C,=A,=T,=C,=C,=T,=T,=C,=T,=T,=C,=T,=C,=C,=T,=C,=C,=T,=G,=G,=C,=A,-G,*GT,=T,=A,=A,=G,=A,=T,=G,=C,=A,=C,=T,=A,=T,=A,=T,-A,-G,=A,=G,=A,=G,=A,=G,=T,=T,=G,=C,=A,=A,=A,=G,=A,=C,=T,=G,=G,=T,=A,=C,=T,=T,=C,=A,=G,=C,=A,=G,=C,=C,=A,=C,=A,=T,=T,=T,=T,=C,=A,=T,=G,=C,=T,=C,=T,=G,=T,=G,=A,=G,=C,=A,=T,=C,=T,=C,=T,=G,=A,=T,=A,=A,=T,=A,=T,=C,=T,=C,=A,=G,*GA,*GA,=C,*AT,=G,+A|=A,=A,=A,=A,=T,=G,=T,=G,=C,=C,=T,=T,=A,=C,=T,=A,=A,=C,=A,=G,=A,=T,=G,=T,=T,=A,=A,=T,=G,=C,=T,=T,=C,=T,=T,=G,=A,=T,=T,=T,=C,=T,=T,=T,=T,=T,=C,=T,=C,=T,=T,=T,=T,=G,=A,=G,=A,=A,=C,=T,=C,=T,=T,=C,+A|=A,=A,=A,=G,=T,=T,=G,=T,=T,=A,=T,=T,=A,=A,=A,=C,=A,=A,=A,=T,=A,=T,=C,=T,=A,=T,=G,=T,=G,=C,=T,=T,=A,=T,=T,=T,=G,=T,=C,=T,=T,=A,=A,=T,=A,=T,=C,=T,=A,=A,=C,=A,=G,=C,=T,=T,=A,=G,=T,=T,=A,=G,=A,=T,=T,=T,=C,=T,=A,=A,=G,=C,=T,=G,=C,=T,=A,=T,=A,=A,=A,=C,-A,=A,=G,*GA,=A,=C,=T,=G,+A|+G|+A|=A,=T,=T,=G,=G,=T,=T,=C,=A,=C,=C,=A,=C,=T,=G,=T,=A,=T,=T,=G,=T,=T,=A,=G,=C,=A,=C,=C,=T,=C,=C,=T,=A,=T,=G,=G,=T,=A,=T,=C,=T,=G,=G,=A,=A,=T,=A,=A,=A,=C,=A,=G,=T,=A,=A,=C,=T,=C,=A,=G,=T,=T,=A,=T,=T,=T,=A,=A,=G,=A,=A,=T,=G,=G,=A,=T,=G,=A,=G,=A,=A,=A,-C,=C,=A,=G,=A,=T,=T,=A,=T,=C,=T,=T,=A,=G,=T,=T,=C,=A,=T,=G,=T,=T,=T,=C,=T,=G,=A,=G,=T,=A,=A,=T,=A,=T,=T,=A,=A,=A,=A,=T,=T,=A,=A,=T,=A,=T,=T,=A,=A,=C,=A,=G,=T,=A,=A,=A,=A,=T,=C,=C,=A,=T,=A,=A,=G,=T,=A,=T,=G,=C,=T,=A,=C,=T,=T,=T,=A,+A|+G|=A,=A,=A,=T,=A,=T,=A,=A,=A,=T,=C,=T,=C,=T,=G,=G,=C,=C,=A,=A,=A,=A,=C,=C,=A,=A,=G,=A,=C,=T,=T,=A,=T,=T,=A,=T,=T,=C,=A,=G,=G,=A,=T,=C,=T,=T,=C,-A,=A,=G,=A,=G,=A,=A,=A,=G,=T,=G,=C,=T,=G,=A,=G,=A,=T,=A,=A,=T,=T,=C,=A,=C,=T,=A,=A,=G,=T,=A,=T,=C,=A,=G,=A,=G,=A,=T,=G,=A,=C,=C,=T,=T,=T,=A,=T,=T,=A,=C,=A,=T,=G,=A,=T,=T,=G,=C,=C,=T,=G,=A,=T,=A,=G,=A,=A,=A,=A,=A,=A,=T,=G,=A,=T,=T,=A,=C,=A,=C,=A,=C,=A,=C,=A,=C,=A,=A,=A,=A,=A,=A,=A,=T,=C,=T,=T,=C,=A,=G,=T,=T,=G,=C,=T,=T,=A,=A,=A,=T,=T,=T,=T,=A,=A,=A,=C,=G,=T,=T,=G,=C,=T,=G,=A,=C,=T,=C,=T,=C,=A,=A,=A,=C,=A,=G,=T,=T,=A,=A,=G,=T,=A,=A,=T,=A,=A,=A,=A,=G,=A,=G,=T,=T,=A,=A,=A,=G,=C,=C,=T,=G,=C,=T,=G,=T,=G,=T,=A,=T,=T,=T,=A,=G,=A,=A,=T,=A,=T,=G,=T,=G,=A,=A,=T,=A,=C,=C,=T,=A,=T,=T,=G,+A|=A,=A,=A,=G,=A,=A,=T,=T,=T,=A,=T,=T,=G,=T,=A,=C,=A,=A,=T,=T,=A,=A,=T,=A,=T,=A,=A,=A,=C,=A,=G,=A,=C,=T,=T,=C,=T,=A,=T,=T,=T,=T,=A,=C,=A,=G,=T,=C,=A,=T,=A,=A,=G,=A,=T,=A,=C,=T,=A,=C,=T,=T,=A,=A,=T,=T,=T,=G,=T,=T,=A,=A,=A,=A,=A,=T,=T,=A,=T,=T,=T,=T,=T,=T,=G,=A,=T,=A,=G,=C,=A,=T,=T,=G,=T,=T,=G,=G,=T,=A,=A,=A,=T,=A,=G,=C,=A,=A,=A,=G,=G,=T,=G,=A,=T,=A,=T,=T,=T,=G,=C,=T,=A,=A,=T,=G,=A,=T,=T,=A,=C,=A,=A,-G,=G,=G,=C,=T,=G,=T,=C,=T,=G,=G,=C,=T,=A,=A,=C,+T|=T,=T,=A,=C,=G,=T,=T,=A,=T,=G,=T,=T,=C,=A,=G,=G,=G,=A,=G,=A,=A,=G,*AG,=C,+A|=A,=G,=T,=C,=C,=T,=T,=T,=T,=T,-A,=A,=G,=G,=A,=A,=T,*GA,=G,=G,=C,=A,=C,=T,=T,=T,=C,=T,=A,=A,=C,=T,=T,=T,=T,=T,=T,=T,=C,=T,=C,=T,=A,=G,=G,=A,=T,=G,=G,=A,=G,=A,=A,=A,=A,=A,=T,=T,=A,=G,=C,=C,=T,=T,=C,=T,=T,=C,=C,=T,=A,=C,=T,=T,=T,=A,=A,=A,=A,=A,=T,=G,=T,=T,=A,=G,=A,=C,=A,=T,=A,=G,=A,=A,=T,=T,=A,=A,=G,=G,=G,=A,=T,=T,=G,=T,=T,=A,=T,=T,=T,=T,=G,=A,=G,=A,=T,=T,=A,=A,=A,=T,=T,=T,=T,=C,=T,=T,=T,=T,=C,=T,=C,=C,=T,=A,=T,=T,=A,-T,=T,=T,=T,=T,=C,=C,=T,=C,=A,=T,=T,=C,=T,=G,=G,=A,=A,=T,=G,=G,=A,=A,=G,=C,=A,=A,=A,=A,=G,=A,=T,=G,=A,=A,=G,=A,=A,=A,=G,=A,=A,=A,=T,=A,=T,=A,=T,=G,=T,=T,-A,=A,=A,*TG,=T,=G,=T,=T,=T,=T,=C,=C,=T,=T,=T,=A,=A,=A,=T,=G,=A,=A,=C,=A,=C,=A,=A,=A,=T,=G,=T,=G,=A,=A,=A,=T,=A,=T,=G,=T,=T,=T,=T,=T,=C,=T,=G,=C,=C,=T,=A,=T,=C,=T,=T,=G,=T,=A,=A,=A,=A,=T,=T,=T,=T,=C,=T,=A,=T,=T,=G,=C,=A,=A,=C,=T,=A,=T,=T,=C,=T,=G,=A,=T,=T,=A,=C,=C,=A,=G,=T,=T,=C,=A,=A,=A,=T,-G,=G,=G,=G,=A,=A,=A,=A,=A,=A,=G,=A,=A,=C,=A,=T,=A,=G,=G,=C,=T,=A,=C,=C,=C,=C,=A,=C,=A,=C,=T,=T,=G,=A,=A,=A,=T,=T,=T,=T,=G,=A,=A,=A,=T,=A,=T,=G,=A,=A,=T,=G,=T,=C,=C,=T,=C,=T,=G,=T,=C,=T,=C,=T,=G,=C,=T,=G,=G,=T,=C,=T,=A,=A,=C,=A,=C,=T,=T,=C,=C,=A,=A,=A,=A,=T,=G,=G,=A,=A,=A,=C,=C,=T,=T,=T,=A,=A,=A,=G,=G,=G,=C,=C,=A,=C,=T,=G,=T,=A,=A,=A,=T,=T,=A,=C,=A,=G,=C,=T,=G,=C,=T,=A,=A,=T,=T,=C,=C,=T,=G,=G,=T,=G,=C,=C,=A,=A,=T,=G,=G,=T,=G,=A,=T,=A,=A,=G,=T,=G,=T,=T,=T,=A,=C,=T,=A,=A,=A,=C,=C,=T,=A,=G,=T,=G,=A,=G,=T,=A,=C,=T,=T,=T,=A,=T,=A,=G,=C,=A,=T,=G,=G,=G,=G,=C,=T,=C,=T,=G,=C,=T,=G,=C,-G,-A,=A,=G,=T,=A,=A,=C,=A,=T,=T,=G,=C,+T|=T,=G,=T,=A,=T,=A,=T,=T,=T,=T,=C,=A,=G,=T,=C,=A,=T,=T,=C,=T,=A,=C,=C,=T,=T,=A,=A,=T,=T,=C,=A,=T,=G,=A,=A,=C,=T,=G,=C,=A,=A,=A,=A,=C,=T,=C,=T,=C,=A,=T,=C,=T,=A,=G,=C,=T,=T,=T,=T,=T,=A,=C,=T,=T,=C,=T,=C,=T,=A,=G,=C,=T,=A,=T,=T,=G,=C,=T,=T,=T,+A|=A,=A,=G,=T,=T,=C,=T,=A,=T,=C,=A,=G,=G,=C,=T,=C,=A,=G,=G,=T,=G,=T,=G,=G,=A,=A,=T,=T,=C,=T,=C'}, {'QNAME': '00212e9e-6c6e-41fb-b76b-0a900587d2d7', 'RNAME': 'control', 'CSSPLIT': '=T,=G,=C,=A,=T,=T,=G,=A,=A,*GA,=C,-A,=G,*TA,=T,*CT,*AG,=C,=C,=A,=A,=A,=A,=T,=A,=A,=C,=A,=A,=A,=G,=T,=A,=A,=C,=A,=A,=A,=G,=T,=A,=A,=G,=A,=T,=A,=T,=C,=T,=T,=T,=G,=G,=A,=A,=T,=A,=A,=T,=C,=A,=A,=T,=T,=C,=A,=A,=G,=A,=T,=A,=A,=T,=C,=A,=A,=G,=G,=A,=A,=A,=A,=A,=T,=G,=A,=G,=A,=G,=G,=C,=A,=A,=C,=T,=A,=T,=T,=T,=T,=A,=G,=A,=C,=T,=G,=A,=T,=T,*AG,=C,-T,-T,*TG,*TC,=A,=T,=A,=A,=A,=A,=T,=A,=A,=A,=T,=A,=A,=G,=C,=T,=C,=A,=G,=C,=T,=T,+C|=A,=G,=C,*CG,*AG,*GA,=A,=T,=A,=T,=A,=A,=G,=C,=A,=A,=T,=A,=T,=T,=C,=T,=G,=A,=G,=T,=T,=C,=T,=G,=A,=A,=G,=A,=A,=A,=A,=A,=T,=T,=T,=T,=T,=G,=A,=C,=A,=A,=A,=A,=T,=G,=A,=G,=T,=T,=C,=T,=A,=T,=A,=A,=A,=T,=G,=T,=T,=A,=T,=T,=G,=T,=C,=T,=A,=C,=T,=T,=A,=T,=G,=A,=T,=C,=T,=C,=T,=A,=A,=A,=T,=A,=C,=A,=A,=C,=A,=G,=G,=C,=T,=T,=G,=T,=A,=T,=T,=C,=A,=G,=A,=A,=T,=C,=T,=A,=G,=A,=T,=G,=T,=T,=T,=C,=A,=T,=G,=A,=C,=C,=T,=T,=T,=A,=T,=T,=C,=A,=T,=A,=A,=G,=A,=G,=A,=T,=G,=A,=T,=G,=T,=A,=T,=T,=C,=T,=T,=G,=A,=T,=A,=C,=T,=A,=C,=T,=T,=C,=T,=C,=A,=T,=T,=T,=G,=C,=A,=A,=A,=T,=T,-C,=C,=A,=A,=T,=T,=A,=T,=T,=A,=T,=T,=A,=A,=T,=T,=T,=C,=A,=T,=A,=T,=C,=A,=A,=T,=T,=A,=G,=A,=A,=T,=A,=A,=T,=A,=T,=A,=T,=C,=T,=T,=C,=C,=T,=T,=C,-A,=A,=T,=T,=T,=A,=G,=T,=T,=A,=C,=C,=T,=C,=A,=C,=T,=A,=T,=G,=G,=G,=C,=T,=A,=T,=G,=T,=A,=C,=A,=A,=A,=C,=T,=C,-C,-A,=A,=G,=A,=A,=A,=A,=A,=G,=T,=T,=A,=G,=T,=C,=A,=T,=G,=T,=G,=C,=T,=T,=T,=G,=C,=A,=G,=A,=A,=G,=A,=T,=A,=A,=A,=A,=G,=C,=T,=T,=A,=G,=T,=G,=T,=A,=A,=A,=A,=C,=A,*GA,=G,=C,=T,=G,=A,*GA,=A,+T|*GT,=T,=A,=T,=T,=T,=G,=A,=T,=G,=T,-A,=A,=G,=A,-A,-G,-G,=G,*GA,=A,*GT,=T,=G,=G,=T,=T,=A,=T,=A,=T,=A,=G,=G,=T,=C,=T,=T,=A,=G,=C,=C,=A,=A,=A,=A,=C,=A,=T,=G,=T,=G,=A,=T,=A,=G,=T,=C,-A,=C,=T,=C,=C,=A,=G,=G,=G,=G,=T,=T,=G,=C,=T,=G,=G,=A,=A,=A,=A,=G,=A,=A,=G,=T,=C,=T,=G,=T,=G,=A,=C,=A,=C,=T,=C,=A,=T,=T,=A,=A,=C,=C,=T,=A,=T,=T,=G,=G,=T,=G,=C,=A,=G,=A,=T,=T,=T,=T,=G,=T,+A|+T|+A|+G|+C|=A,=T,=G,=A,=T,=C,=T,=A,=A,=A,=G,=G,=A,=G,=A,=A,=A,=A,=T,=G,=T,=T,=C,=T,=T,=G,=G,=C,=T,=G,=T,=T,=T,=T,=G,=T,=A,=T,=T,=G,-C,=C,=T,=T,=C,=T,=G,=T,=G,=G,=A,=G,=T,=T,=T,=C,=C,=A,=G,=A,=T,=C,=T,=C,=T,=G,=A,=T,=G,=G,=C,=C,=A,-T,=T,=T,=T,=C,=C,=T,=C,=G,=A,=G,=C,=C,=T,=G,=T,=G,=C,=C,=T,=C,=C,=T,=C,=T,=A,=A,=G,=A,=A,=C,=T,=T,=G,=T,=T,=G,=G,=C,=A,=A,=A,=A,=G,=A,=A,=T,=G,=C,=T,=G,=C,=C,=C,=A,=C,=C,=A,=T,=G,=G,=A,=T,=G,=G,=G,=T,=G,=A,=T,=G,=G,=G,=A,=G,=T,-C,=C,=C,=T,=G,=C,=G,=G,=C,=C,=A,=G,=C,=T,=T,=T,=C,=A,=G,=G,=C,=A,=G,=A,=G,=G,=T,=T,=C,=C,=T,=G,-C,-C,-A,=G,=G,=A,=T,=A,=T,=C,=C,=T,=T,=C,=T,=G,=T,=C,=C,=A,=G,=T,=G,-C,-A,=C,=C,=A,=T,=C,=T,=G,=G,=A,=C,=C,=T,=C,=A,=G,=T,=T,=C,=C,=C,+A|=C,+A|*TC,=T,=C,=A,=A,-A,-G,=G,=G,=G,=T,=G,=G,=A,=T,=G,=A,=C,=C,*GT,=T,=G,=A,=G,=T,=C,=C,=T,=G,=G,=C,=C,=C,=T,=C,=T,=G,=T,*GA,=T,=T,=T,=T,=A,=T,=A,=A,=T,=A,=G,=G,=A,=C,=C,=T,=G,=C,=C,=A,=G,=T,=G,=C,=T,=C,=A,=G,=G,=C,=A,=A,=C,=T,=T,=C,=A,=T,*GA,=G,=G,=T,=T,=T,=C,=A,=A,=C,=T,=G,=C,=G,=G,=A,=A,=A,=C,=T,=G,=T,=A,=A,=G,=T,=T,=T,=G,=G,=A,=T,=T,=T,*GA,=G,=G,=G,-G,-C,=C,=C,=A,=A,=A,=T,=T,=G,=T,=A,=C,-A,-G,-A,=G,=A,=A,=G,=C,=G,=A,=G,=T,=C,=T,=T,=G,-A,=T,=T,=A,=G,=A,=A,=G,=A,=A,=A,=C,=A,=T,=T,=T,=T,=T,=G,=A,=T,=T,=T,=G,=A,=G,=T,=G,=T,=C,=T,=C,=C,=G,=A,=A,=A,=A,=G,=A,=A,=T,=A,=A,=G,=T,=T,=C,=T,=T,=T,=T,=C,=T,=T,=A,=C,=C,=T,=C,=A,=C,+T|=T,=T,=T,=A,=G,=C,=A,=A,=A,=A,=C,=A,=T,=A,=C,=T,=A,=T,=C,=A,=G,=C,=T,=C,=A,=G,=T,=C,+T|+A|=T,=A,=T,=G,=T,=C,=A,=T,-C,-C,=C,=C,=A,=C,=A,=G,=G,=C,=A,=C,=C,=T,=A,=T,=G,=G,=C,=C,=A,=A,=A,=T,=G,=A,=A,=C,=A,=A,=T,=G,=G,=G,=T,=C,=A,=A,=C,=A,=C,=C,*CT,=A,=T,=G,=T,=T,=T,=A,=A,=T,=G,=A,=T,=A,=T,=C,=A,=A,=C,=A,=T,=C,=T,=A,=C,=G,*AG,=C,=C,=T,=C,=T,=T,=T,=G,=T,=A,=T,=G,=G,=A,=T,=G,=C,=A,=T,=T,=A,=C,=T,=A,=T,=G,=T,=G,=T,=C,=A,=A,=G,=G,=G,=A,=C,=A,=C,=A,=C,=T,=G,=C,=T,=T,=G,=G,=G,=G,=G,=C,=T,=C,=T,+A|*GA,=A,=A,=A,=T,=A,=T,=G,=G,=A,=G,=G,=G,=A,=C,=A,=T,=T,=G,=A,=T,=T,=T,=T,=G,=C,=C,=C,=A,=T,=G,=A,=A,=G,=C,=A,=C,=C,=A,=G,=G,=G,=T,=T,=T,=C,=T,=G,=C,=C,=T,=T,=G,*GA,*CA,=A,+G|=C,=A,=G,*AG,=C,=T,=T,=T,=T,=C,=T,=T,=G,=T,=T,=A,=T,=T,=G,=T,*GC,*GA,=G,=A,=A,=C,=A,=A,=G,=A,=A,=A,=T,=T,=C,=G,=A,=G,=A,=A,=C,=T,=A,=A,=C,=T,=G,=G,=G,=G,=A,=T,=G,=A,=G,=A,=A,-C,-T,-T,=C,=A,=C,=T,=G,=T,=T,=C,=C,=A,=T,=A,-C,-T,-G,=G,=G,=A,=T,=T,=G,-G,-A,=G,=A,=G,=A,=T,=G,=C,=A,=G,=A,=A,=A,=A,=C,=T,=G,=T,=G,=A,=C,=A,=T,=T,=T,=G,=C,=A,=C,=A,=G,=A,=T,=G,=A,+G|=G,=T,=A,=C,=T,=T,=G,=G,=G,=A,=G,=G,=T,=C,=G,=T,=C,=A,=C,=C,=C,=T,=G,=A,=A,=A,=A,=T,=C,=C,=T,=A,=A,=C,=T,=T,=A,=C,=T,=C,=A,=G,=C,=C,=C,=A,=G,=C,=A,=T,=C,=C,=T,=T,=C,=T,=T,=C,=T,=C,=C,=T,=C,=C,=T,=G,=G,=C,=A,=G,=G,=T,=A,=A,=G,=A,=T,=G,=C,=A,=C,=T,=A,=T,=A,=T,-A,-G,-A,-G,=A,=G,=A,=G,=T,=T,=G,=C,=A,=A,=A,=G,=A,=C,=T,=G,=G,=T,=A,=C,=T,=T,=C,=A,=G,=C,=A,=G,=C,=C,=A,=C,=A,=T,=T,=T,=T,=C,=A,=T,=G,=C,=T,=C,=T,=G,=T,=G,=A,=G,=C,=A,=T,=C,=T,=C,=T,=G,=A,=T,=A,=A,=T,=A,=T,=C,=T,=C,=A,=G,=G,=G,+C|=C,=A,=G,=A,=A,=A,=A,+T|+G|=T,=G,=T,=G,=C,=C,=T,=T,*AG,=C,-T,-A,*AG,=C,=A,=G,=A,=T,=G,=T,=T,=A,=A,=T,=G,=C,=T,=T,=C,=T,=T,=G,=A,=T,=T,=T,=C,=T,=T,=T,=T,=T,=C,=T,=C,=T,=T,=T,=T,=G,=A,=G,=A,=A,=C,=T,=C,=T,=T,*CT,=A,=A,=A,=G,=T,=T,*GA,=T,=T,=A,=T,=T,=A,=A,=A,=C,=A,=A,=A,=T,=A,=T,=C,=T,=A,=T,=G,=T,=G,=C,=T,=T,=A,=T,=T,=T,=G,=T,=C,=T,=T,=A,=A,=T,=A,=T,=C,=T,=A,=A,=C,=A,=G,=C,=T,=T,=A,=G,=T,=T,=A,=G,=A,=T,=T,=T,=C,=T,=A,=A,=G,=C,=T,=G,=C,=T,=A,=T,=A,=A,=A,=C,=A,=A,=G,=G,=A,=C,=T,=G,=A,=T,=T,=G,=G,=T,=T,=C,=A,=C,+C|+G|=C,=A,=C,=T,=G,=T,=A,=T,-T,-G,=T,*TC,=A,=G,=C,=A,=C,=C,=T,=C,=C,=T,=A,=T,=G,=G,=T,=A,=T,=C,=T,=G,=G,=A,=A,=T,=A,=A,=A,=C,=A,=G,=T,=A,=A,=C,=T,=C,=A,=G,=T,=T,=A,=T,=T,=T,=A,=A,=G,=A,=A,=T,=G,=G,=A,=T,=G,=A,=G,=A,=A,=A,=C,=C,=A,=G,=A,=T,=T,=A,=T,=C,=T,=T,=A,=G,=T,=T,=C,=A,=T,=G,=T,=T,=T,=C,=T,=G,=A,=G,=T,=A,=A,=T,=A,=T,=T,=A,=A,=A,=A,=T,=T,=A,=A,=T,=A,=T,=T,=A,=A,=C,=A,=G,=T,=A,=A,=A,=A,=T,-C,=C,=A,=T,=A,=A,=G,-T,-A,=T,=G,=C,=T,=A,=C,=T,=T,=T,=A,=A,=A,=A,=T,=A,=T,=A,=A,=A,=T,=C,=T,=C,=T,=G,=G,=C,=C,=A,=A,=A,=A,=C,=C,+A|=A,=A,=G,=A,=C,=T,=T,=A,=T,=T,=A,=T,=T,=C,=A,=G,=G,=A,=T,=C,=T,=T,=C,=A,=A,=G,=A,-G,=A,=A,=A,*GT,=T,=G,=C,=T,=G,=A,=G,=A,=T,=A,=A,=T,=T,=C,=A,-C,=T,=A,=A,*GT,=T,=A,=T,=C,=A,=G,=A,=G,=A,=T,=G,=A,=C,=C,=T,=T,=T,=A,=T,=T,=A,=C,=A,=T,=G,=A,=T,=T,=G,=C,=C,=T,=G,=A,=T,=A,=G,=A,=A,=A,=A,=A,=A,=T,=G,=A,=T,=T,=A,=C,=A,=C,=A,=C,=A,=C,=A,=C,=A,=A,=A,=A,=A,=A,=A,=T,=C,=T,=T,=C,=A,=G,=T,=T,=G,=C,=T,=T,=A,=A,=A,=T,=T,=T,=T,=A,=A,=A,=C,=G,=T,=T,=G,=C,=T,=G,=A,=C,=T,=C,=T,=C,=A,=A,=A,=C,=A,=G,=T,=T,=A,=A,=G,=T,=A,=A,=T,=A,=A,=A,=A,=G,=A,=G,=T,=T,=A,=A,=A,=G,=C,=C,=T,=G,=C,=T,=G,=T,=G,=T,=A,=T,=T,=T,=A,=G,=A,=A,-T,=A,-T,-G,=T,=G,=A,=A,=T,=A,=C,=C,=T,=A,=T,=T,=G,=A,=A,-A,-G,=A,=A,=T,=T,=T,=A,=T,=T,=G,=T,=A,=C,=A,=A,=T,=T,=A,=A,=T,=A,=T,=A,=A,=A,=C,=A,=G,=A,=C,=T,=T,=C,=T,=A,=T,=T,=T,=T,=A,=C,=A,=G,=T,=C,=A,=T,=A,=A,=G,=A,=T,=A,=C,=T,=A,=C,=T,=T,=A,=A,=T,=T,=T,=G,=T,=T,=A,=A,=A,=A,=A,=T,=T,=A,=T,=T,=T,=T,=T,=T,=G,=A,=T,=A,=G,=C,=A,=T,=T,=G,=T,=T,=G,=G,=T,=A,=A,=A,=T,=A,=G,=C,=A,=A,=A,=G,=G,=T,=G,=A,=T,=A,=T,=T,=T,=G,=C,=T,=A,=A,=T,=G,=A,=T,=T,=A,=C,+A|=A,=A,=G,=G,=G,=C,=T,=G,=T,=C,=T,=G,=G,=C,=T,=A,=A,=C,=T,=T,=A,=C,=G,=T,=T,=A,=T,=G,+T|=T,=T,=C,=A,-G,=G,=G,=A,=G,=A,=A,=G,=A,=C,=A,=G,=T,=C,=C,=T,=T,=T,=T,=T,-A,-A,=G,=G,=A,=A,=T,+A|*GA,=G,=G,=C,=A,=C,=T,=T,=T,=C,=T,=A,=A,=C,=T,=T,=T,=T,=T,=T,=T,=C,=T,=C,=T,=A,=G,=G,=A,=T,=G,=G,=A,=G,=A,=A,=A,=A,=A,=T,=T,=A,=G,=C,=C,=T,=T,=C,=T,=T,=C,=C,=T,=A,=C,=T,=T,=T,=A,=A,=A,=A,=A,=T,=G,=T,=T,=A,=G,=A,=C,=A,=T,=A,=G,=A,=A,=T,=T,+A|=A,=A,=G,=G,=G,=A,=T,=T,=G,=T,=T,=A,=T,=T,=T,=T,=G,=A,=G,=A,=T,=T,=A,=A,=A,=T,=T,=T,=T,=C,=T,=T,=T,=T,=C,=T,=C,=C,=T,=A,=T,=T,=A,+T|=T,=T,=T,=T,=T,=C,=C,=T,=C,=A,=T,=T,=C,=T,=G,=G,=A,=A,=T,=G,=G,=A,=A,=G,=C,=A,=A,=A,=A,=G,=A,=T,=G,=A,=A,=G,=A,=A,=A,=G,=A,=A,=A,=T,=A,=T,=A,=T,=G,=T,=T,=A,=A,=A,=T,=T,=G,=T,=T,=T,=T,=C,=C,=T,=T,=T,=A,=A,=A,=T,+A|+A|=G,=A,=A,=C,=A,=C,=A,=A,=A,=T,=G,=T,=G,=A,=A,=A,=T,=A,=T,=G,=T,=T,=T,=T,=T,=C,=T,=G,-C,=C,=T,=A,=T,=C,=T,=T,=G,=T,=A,=A,=A,=A,=T,=T,=T,=T,=C,=T,=A,=T,=T,=G,=C,=A,=A,=C,=T,=A,=T,=T,=C,=T,=G,=A,=T,=T,=A,=C,=C,=A,=G,=T,=T,=C,=A,=A,=A,=T,=G,=G,=G,=G,=A,=A,=A,=A,=A,=A,=G,=A,=A,=C,=A,=T,+A|=A,*GA,*GA,=C,=T,=A,-C,-C,-C,=C,=A,=C,=A,=C,=T,=T,=G,=A,=A,=A,=T,=T,=T,=T,+A|=G,=A,=A,=A,=T,=A,=T,=G,=A,=A,=T,=G,=T,=C,=C,=T,=C,=T,=G,=T,=C,=T,=C,=T,=G,=C,=T,=G,=G,=T,=C,=T,=A,+G|+C|=A,=C,=A,=C,=T,=T,=C,=C,=A,=A,=A,=A,=T,=G,=G,=A,=A,=A,=C,=C,=T,=T,=T,=A,=A,=A,=G,=G,=G,=C,=C,=A,=C,=T,=G,=T,=A,=A,=A,=T,=T,=A,=C,=A,=G,=C,=T,=G,=C,=T,=A,=A,=T,=T,=C,=C,=T,=G,=G,=T,=G,=C,=C,=A,=A,=T,=G,=G,=T,=G,=A,=T,=A,=A,=G,=T,=G,=T,=T,=T,=A,=C,=T,=A,=A,=A,=C,=C,=T,=A,=G,=T,=G,=A,=G,=T,=A,=C,=T,=T,=T,=A,=T,=A,=G,=C,=A,=T,-G,*GA,=G,=G,=C,=T,=C,=T,=G,=C,=T,=G,=C,=G,=A,+A|+A|+T|=A,*GT,=T,=A,=A,=C,=A,=T,=T,=G,=C,=T,=G,=T,=A,=T,=A,=T,=T,=T,=T,=C,=A,=G,=T,=C,=A,=T,=T,=C,=T,=A,=C,=C,=T,=T,=A,=A,=T,=T,=C,=A,=T,=G,=A,=A,=C,=T,=G,=C,=A,=A,=A,=A,=C,=T,=C,=T,=C,=A,=T,=C,=T,=A,=G,=C,=T,=T,=T,=T,=T,=A,=C,=T,=T,=C,=T,=C,=T,=A,=G,=C,=T,=A,=T,=T,*GA,=C,=T,=T,=T,=A,=A,=G,=T,=T,=C,=T,=A,=T,=C,*AG,*GA,=G,=C,=T,=C,=A,=G,=G,=T,=G,=T,=G,=G,=A,=A,=T,=T,=C,=T,=C'}, {'QNAME': '00319b70-5ac6-472b-9433-2f1526e780dd', 'RNAME': 'control', 'CSSPLIT': 'N,N,N,N,N,=T,=G,=A,=A,*GA,=C,=A,=G,=T,=T,=C,=A,-C,=C,=A,=A,=A,=A,=T,=A,=A,=C,=A,=A,=A,=G,=T,=A,=A,=C,=A,=A,=A,=G,=T,+A|=A,=A,=G,=A,=T,=A,=T,=C,=T,=T,=T,=G,=G,=A,=A,=T,=A,=A,=T,=C,=A,=A,=T,=T,=C,=A,*AG,*GA,=A,=T,=A,=A,=T,=C,=A,=A,=G,=G,*AG,=A,=A,=A,=A,*TG,*GT,=A,*GA,=A,=G,=G,=C,=A,=A,=C,=T,=A,=T,=T,=T,=T,=A,=G,=A,=C,=T,=G,=A,=T,=T,=A,=C,=T,=T,=T,=T,=A,=T,=A,=A,=A,=A,=T,=A,=A,=A,=T,=A,=A,=G,=C,=T,=C,=A,=G,=C,=T,=T,=A,=G,=C,=C,=A,=G,=A,=T,=A,=T,=A,=A,=G,=C,=A,=A,=T,=A,=T,=T,=C,=T,=G,=A,=G,=T,=T,=C,=T,=G,-A,=A,=G,=A,=A,=A,=A,-A,-T,=T,=T,=T,=T,=G,=A,=C,=A,=A,=A,=A,=T,=G,=A,=G,=T,=T,=C,=T,=A,=T,=A,=A,=A,=T,=G,=T,=T,=A,=T,=T,=G,=T,=C,=T,=A,=C,=T,=T,=A,=T,=G,=A,=T,=C,=T,=C,=T,=A,=A,=A,=T,=A,=C,=A,=A,=C,=A,=G,=G,=C,=T,=T,*GA,=T,*AT,*TG,=T,*CT,=A,=G,=A,=A,=T,=C,=T,=A,=G,=A,=T,=G,=T,=T,=T,=C,=A,=T,=G,=A,=C,=C,=T,=T,=T,=A,=T,=T,=C,=A,=T,=A,=A,=G,=A,=G,=A,=T,=G,=A,=T,=G,=T,=A,=T,=T,=C,=T,=T,=G,=A,=T,=A,=C,=T,*AG,=C,=T,=T,=C,+T|=T,=C,=A,=T,=T,=T,=G,=C,=A,=A,=A,=T,=T,=C,=C,=A,=A,=T,=T,=A,=T,=T,=A,=T,=T,=A,=A,=T,=T,=T,=C,=A,=T,=A,=T,=C,=A,=A,=T,=T,=A,=G,=A,=A,=T,=A,=A,=T,=A,=T,=A,=T,=C,=T,=T,=C,=C,=T,=T,=C,=A,=A,=T,=T,=T,=A,=G,=T,=T,=A,=C,+T|=C,*TC,=C,=A,=C,=T,=A,=T,=G,=G,=G,=C,=T,=A,=T,=G,=T,=A,=C,=A,=A,=A,=C,=T,=C,=C,-A,=A,=G,=A,=A,=A,=A,=A,=G,=T,=T,=A,=G,=T,=C,=A,=T,=G,=T,=G,=C,=T,=T,=T,=G,=C,=A,=G,=A,=A,=G,=A,=T,=A,=A,=A,=A,=G,=C,=T,=T,=A,=G,=T,=G,=T,=A,=A,=A,=A,=C,=A,=G,=G,=C,=T,=G,=A,=G,=A,=G,=T,=A,=T,=T,=T,=G,=A,=T,=G,=T,=A,=A,=G,=A,=A,=G,=G,=G,=G,=A,=G,=T,=G,=G,=T,=T,=A,=T,=A,=T,=A,=G,=G,=T,=C,=T,=T,=A,=G,=C,=C,=A,=A,=A,=A,=C,=A,=T,=G,=T,=G,=A,=T,=A,=G,=T,=C,=A,=C,=T,=C,=C,=A,=G,=G,=G,=G,=T,=T,=G,=C,=T,=G,=G,=A,=A,=A,=A,=G,=A,=A,=G,=T,=C,=T,=G,=T,=G,=A,=C,=A,=C,=T,=C,=A,=T,=T,=A,=A,-C,=C,=T,=A,=T,=T,=G,=G,=T,=G,=C,+A|+G|+A|=A,=G,=A,=T,=T,=T,=T,=G,=T,=A,=T,=G,=A,=T,=C,=T,=A,=A,=A,=G,=G,=A,=G,=A,=A,=A,=A,=T,=G,=T,=T,=C,=T,=T,=G,=G,=C,=T,=G,=T,=T,=T,=T,=G,=T,-A,*TG,=T,=G,=C,=C,=T,=T,=C,=T,=G,=T,=G,=G,=A,=G,=T,=T,=T,=C,=C,=A,=G,=A,=T,=C,=T,=C,=T,=G,=A,=T,=G,=G,=C,=C,=A,=T,=T,=T,=T,=C,=C,=T,=C,=G,=A,=G,=C,=C,=T,=G,=T,=G,=C,=C,=T,=C,=C,=T,=C,=T,=A,=A,=G,=A,=A,=C,=T,=T,=G,=T,=T,=G,=G,=C,=A,=A,=A,=A,=G,=A,=A,=T,=G,=C,=T,=G,=C,=C,=C,=A,=C,=C,=A,=T,=G,=G,=A,=T,=G,=G,=G,=T,=G,=A,=T,=G,=G,=G,=A,=G,=T,=C,=C,=C,=T,=G,=C,=G,=G,=C,=C,=A,=G,=C,=T,=T,=T,=C,+A|=A,=G,=G,=C,=A,=G,=A,=G,=G,=T,=T,=C,=C,=T,=G,=C,=C,=A,=G,=G,=A,=T,=A,=T,=C,=C,=T,=T,=C,=T,=G,=T,=C,=C,=A,=G,=T,=G,=C,=A,=C,=C,=A,=T,=C,=T,=G,=G,=A,=C,=C,=T,=C,=A,=G,=T,=T,=C,=C,=C,=C,=T,=T,+C|=C,=A,=A,=A,=G,=G,=G,=G,=T,=G,=G,=A,=T,=G,=A,=C,=C,=G,=T,=G,=A,=G,=T,=C,=C,=T,=G,=G,=C,=C,=C,=T,=C,=T,=G,=T,=G,=T,=T,=T,=T,=A,=T,=A,=A,=T,=A,=G,=G,=A,=C,=C,=T,=G,=C,=C,=A,=G,=T,=G,=C,=T,=C,=A,=G,=G,=C,=A,=A,=C,=T,=T,=C,=A,=T,=G,=G,=G,=T,=T,=T,=C,=A,=A,=C,=T,=G,=C,=G,=G,=A,=A,=A,=C,=T,=G,=T,=A,=A,=G,=T,=T,=T,=G,=G,=A,=T,=T,=T,-G,=G,*GA,=G,=G,=C,=C,=C,=A,=A,=A,=T,=T,=G,=T,=A,=C,=A,=G,=A,=G,=A,=A,=G,=C,=G,=A,=G,=T,=C,=T,=T,=G,=A,=T,=T,=A,=G,=A,=A,=G,=A,=A,=A,=C,=A,=T,=T,=T,=T,=T,=G,=A,=T,=T,=T,=G,=A,=G,=T,=G,=T,=C,=T,-C,=C,=G,=A,=A,=A,=A,=G,=A,=A,=T,=A,=A,=G,=T,=T,=C,=T,=T,=T,=T,=C,=T,=T,=A,=C,=C,=T,=C,=A,=C,=T,=T,=T,=A,=G,=C,=A,=A,=A,=A,=C,=A,=T,=A,=C,=T,=A,=T,=C,=A,=G,=C,=T,=C,=A,=G,=T,=C,=T,=A,=T,=G,=T,=C,=A,=T,+C|+C|=C,=C,=C,=C,=A,=C,=A,=G,=G,=C,=A,=C,=C,=T,=A,=T,=G,=G,=C,=C,=A,=A,=A,=T,=G,=A,=A,=C,=A,=A,=T,=G,=G,=G,=T,=C,=A,=A,=C,=A,=C,=C,=C,=A,=T,=G,=T,=T,=T,=A,=A,=T,=G,=A,=T,=A,=T,=C,=A,=A,=C,=A,=T,=C,=T,=A,=C,*GA,=A,=C,+A|+T|*CA,=T,=C,=T,=T,=T,+A|+C|*GA,=T,=A,=T,=G,*GA,=A,=T,-G,=C,=A,+C|*TA,=T,=A,=C,=T,=A,=T,=G,=T,*GA,=T,+T|+A|*CA,=A,=A,=G,=G,*GA,=A,=C,=A,=C,=A,*CT,*TA,=G,=C,-T,-T,-G,*GA,*GA,=G,*GA,=C,=T,+C|+A|=C,*TA,=G,=A,=A,=A,=T,=A,=T,=G,=G,+A|=A,*GA,=G,=G,=A,=C,=A,=T,=T,+A|*GA,=A,=T,=T,=T,=T,=G,=C,*CA,=C,*AT,=T,*GA,*AT,=A,*GA,=C,=A,=C,*CA,=A,=G,+A|*GA,=G,=T,=T,*TC,=C,=T,*GA,=C,=C,=T,=T,+A|+A|+C|+A|=G,=G,=C,=A,=C,*AC,*GA,=A,-C,-T,-T,-T,-T,-C,=T,=T,=G,=T,*TA,=A,*TC,*TA,=G,*TA,=G,-G,-G,-A,=A,=C,=A,=A,-G,=A,=A,=A,=T,=T,=C,-G,=A,*GA,=A,=A,=C,=T,=A,=A,=C,-T,*GA,=G,=G,=G,=A,=T,=G,=A,=G,=A,=A,=C,=T,-T,-C,=A,=C,=T,+C|*GA,=T,=T,=C,=C,=A,=T,+A|=A,=C,*TA,*GA,=G,=G,=A,-T,=T,=G,=G,=A,=G,=A,-G,=A,=T,*GA,=C,=A,-G,=A,=A,=A,=A,=C,-T,-G,=T,*GA,=A,=C,=A,=T,=T,+A|+C|=T,=G,-C,=A,*CA,=A,=G,+A|=A,=T,+A|*GA,=A,=G,=T,=A,=C,-T,*TA,=G,=G,*GA,=A,=G,*GA,=T,=C,=G,=T,=C,=A,=C,=C,=C,=T,=G,=A,=A,=A,=A,=T,=C,-C,-T,=A,=A,=C,-T,-T,=A,=C,=T,=C,=A,*GA,*CG,=C,*CT,=A,*GA,=C,=A,=T,=C,=C,=T,=T,=C,=T,=T,=C,=T,+C|=C,=C,=T,=C,+A|=C,*TC,*GA,=G,=C,=A,-G,=G,=T,=A,=A,=G,=A,=T,-G,-C,=A,=C,=T,=A,=T,=A,=T,+G|=A,=G,+A|=A,=G,=A,-G,=A,=G,=T,=T,*GA,=C,+A|+G|=A,=A,=A,=G,=A,=C,=T,=G,=G,=T,=A,=C,=T,=T,=C,=A,*GC,=C,=A,*GA,=C,=C,-A,=C,=A,-T,=T,=T,=T,=C,=A,=T,=G,=C,=T,+C|=C,=T,=G,=T,=G,=A,-G,=C,=A,=T,=C,=T,=C,=T,=G,=A,=T,=A,=A,+C|+C|+T|+C|=T,=A,=T,=C,=T,=C,+A|=A,=G,*GT,=G,*CG,=A,*GT,=A,=A,+T|=A,=A,=T,+A|+C|+T|+C|+T|+C|+T|+C|+C|+A|=G,*TA,=G,=C,=C,-T,-T,=A,*CA,=T,=A,=A,=C,-A,-G,-A,=T,=G,-T,-T,=A,=A,=T,-G,-C,=T,=T,=C,=T,-T,-G,=A,=T,=T,+A|*TG,=C,*TA,=T,=T,=T,=T,=C,=T,=C,=T,=T,=T,=T,=G,=A,=G,=A,=A,=C,=T,=C,=T,=T,=C,=A,=A,=A,=G,=T,=T,=G,=T,=T,=A,=T,=T,=A,=A,=A,=C,=A,=A,=A,=T,=A,=T,=C,=T,=A,=T,=G,=T,=G,=C,=T,=T,=A,=T,=T,=T,=G,=T,=C,=T,=T,=A,=A,=T,=A,=T,=C,=T,=A,=A,=C,=A,=G,=C,=T,=T,*AG,=G,+A|=T,=T,=A,=G,=A,=T,=T,=T,=C,=T,=A,=A,=G,=C,=T,=G,=C,=T,=A,=T,=A,=A,=A,*CT,=A,=A,=G,=G,=A,+C|=C,=T,=G,=A,=T,=T,=G,=G,=T,=T,-C,*AT,=C,*CT,=A,=C,=T,=G,=T,=A,=T,=T,*GA,*TG,=T,=A,=G,=C,=A,=C,=C,=T,=C,=C,=T,=A,=T,=G,=G,=T,=A,=T,=C,-T,=G,=G,=A,=A,=T,=A,=A,=A,=C,=A,=G,=T,=A,=A,=C,=T,=C,=A,=G,=T,=T,=A,=T,=T,=T,=A,=A,=G,=A,=A,=T,=G,=G,=A,=T,-G,-A,=G,=A,=A,=A,=C,=C,=A,=G,=A,=T,=T,=A,=T,=C,=T,=T,=A,=G,=T,=T,=C,=A,=T,=G,=T,=T,=T,=C,=T,=G,=A,=G,=T,=A,=A,=T,=A,=T,=T,=A,=A,=A,=A,=T,=T,=A,=A,=T,=A,=T,=T,=A,=A,=C,=A,=G,=T,+A|+A|=A,=A,=A,=A,=T,=C,=C,=A,=T,+A|+A|=A,=A,=G,=T,=A,=T,=G,=C,=T,=A,=C,=T,=T,=T,=A,=A,=A,=A,=T,=A,=T,=A,=A,=A,=T,=C,=T,=C,=T,=G,=G,=C,=C,=A,=A,=A,=A,=C,=C,=A,=A,=G,=A,=C,=T,=T,=A,=T,=T,=A,=T,=T,=C,=A,=G,=G,=A,=T,=C,=T,=T,=C,=A,=A,=G,=A,=G,=A,=A,=A,=G,=T,=G,=C,=T,=G,=A,=G,=A,=T,+A|+A|+C|=A,=A,=T,=T,=C,=A,=C,=T,=A,=A,=G,=T,-A,-T,-C,-A,-G,=A,=G,-A,=T,=G,=A,=C,=C,=T,=T,=T,=A,=T,=T,=A,=C,=A,=T,=G,=A,=T,=T,*GA,=C,+T|=C,=T,=G,=A,=T,=A,=G,=A,=A,=A,=A,=A,=A,=T,=G,=A,=T,=T,=A,=C,=A,=C,=A,=C,=A,=C,=A,=C,=A,=A,=A,=A,=A,=A,=A,=T,=C,=T,=T,=C,=A,=G,=T,=T,=G,=C,=T,=T,=A,=A,=A,=T,=T,=T,=T,=A,=A,=A,=C,=G,=T,=T,=G,=C,=T,=G,=A,=C,=T,=C,=T,=C,=A,=A,=A,=C,=A,=G,=T,=T,=A,=A,=G,=T,=A,=A,=T,=A,=A,=A,=A,=G,=A,=G,=T,=T,=A,=A,=A,=G,=C,=C,=T,=G,=C,=T,=G,=T,=G,=T,=A,=T,=T,=T,=A,=G,=A,=A,=T,=A,=T,=G,=T,=G,=A,=A,=T,=A,=C,=C,=T,=A,=T,=T,=G,=A,=A,=A,=G,=A,=A,=T,=T,=T,=A,=T,=T,=G,=T,=A,=C,=A,=A,=T,=T,=A,=A,=T,=A,=T,=A,=A,=A,=C,=A,=G,=A,=C,=T,=T,=C,=T,=A,=T,=T,=T,=T,=A,=C,=A,=G,=T,=C,=A,=T,=A,=A,=G,=A,=T,=A,=C,=T,=A,=C,=T,=T,=A,=A,=T,=T,=T,=G,+T|=T,=T,=A,=A,=A,=A,=A,=T,=T,=A,=T,=T,=T,=T,=T,=T,=G,=A,=T,-A,=G,=C,=A,=T,=T,=G,=T,=T,=G,=G,=T,=A,=A,=A,=T,=A,=G,=C,=A,=A,=A,=G,=G,=T,=G,=A,=T,=A,=T,=T,=T,=G,=C,=T,=A,=A,=T,=G,=A,=T,=T,=A,=C,=A,=A,=G,=G,=G,=C,=T,=G,=T,=C,=T,=G,=G,=C,=T,=A,=A,=C,=T,=T,=A,=C,*GA,=T,=T,=A,=T,=G,=T,=T,=C,=A,=G,=G,=G,=A,=G,=A,=A,=G,=A,=C,=A,=G,=T,=C,=C,=T,=T,=T,=T,=T,=A,=A,=G,=G,=A,=A,=T,=G,=G,=G,=C,=A,=C,=T,=T,=T,=C,=T,=A,=A,=C,+T|+T|+T|+T|+T|+T|=T,=T,=T,=T,=T,=T,=T,=C,=T,=C,=T,=A,=G,=G,=A,=T,=G,=G,=A,=G,=A,+G|=A,=A,=A,=A,=T,=T,=A,=G,=C,=C,=T,=T,=C,=T,=T,=C,=C,=T,=A,=C,=T,=T,=T,=A,=A,=A,=A,=A,=T,=G,=T,=T,=A,=G,=A,=C,=A,=T,=A,-G,=A,=A,*TG,=T,*AC,=A,-G,=G,=G,=A,=T,=T,=G,=T,=T,=A,+T|=T,=T,=T,=T,=G,=A,=G,=A,=T,=T,=A,=A,=A,=T,=T,=T,=T,=C,=T,=T,=T,=T,=C,=T,=C,=C,=T,=A,=T,=T,=A,-T,=T,=T,=T,=T,=C,=C,=T,=C,=A,=T,=T,=C,=T,=G,=G,=A,=A,=T,=G,=G,=A,=A,=G,=C,-A,=A,=A,=A,=G,=A,=T,=G,=A,=A,=G,=A,=A,=A,=G,=A,=A,-A,-T,=A,=T,=A,=T,=G,=T,=T,=A,=A,=A,=T,=T,=G,=T,=T,=T,=T,=C,=C,=T,=T,=T,=A,=A,=A,=T,=G,=A,=A,=C,=A,=C,=A,=A,=A,=T,=G,=T,=G,=A,=A,=A,=T,=A,=T,=G,=T,=T,=T,=T,=T,=C,=T,=G,=C,=C,=T,=A,=T,=C,=T,=T,=G,=T,=A,=A,=A,=A,=T,=T,=T,=T,=C,=T,=A,=T,=T,=G,=C,=A,=A,=C,=T,=A,=T,=T,=C,=T,=G,=A,=T,=T,=A,=C,=C,=A,=G,=T,=T,=C,=A,=A,=A,=T,=G,=G,=G,=G,=A,=A,=A,=A,=A,=A,=G,=A,=A,=C,=A,=T,=A,=G,=G,=C,=T,=A,=C,=C,=C,-C,-A,=C,=A,=C,=T,=T,=G,=A,=A,=A,=T,=T,=T,=T,=G,=A,=A,=A,=T,=A,=T,=G,=A,=A,=T,=G,=T,=C,=C,=T,=C,=T,=G,=T,=C,=T,=C,=T,=G,=C,=T,=G,=G,=T,=C,-T,-A,-A,-C,-A,=C,=T,=T,=C,=C,=A,=A,=A,=A,=T,=G,=G,=A,=A,=A,=C,=C,=T,=T,=T,=A,=A,=A,=G,=G,=G,=C,=C,=A,=C,=T,=G,=T,=A,=A,=A,=T,=T,=A,=C,-A,=G,-C,-T,=G,=C,=T,=A,*AC,=T,=T,-C,=C,=T,=G,=G,=T,=G,=C,=C,=A,=A,=T,=G,=G,=T,=G,=A,=T,=A,=A,=G,=T,=G,=T,=T,=T,=A,=C,=T,=A,=A,=A,=C,=C,=T,=A,=G,=T,=G,=A,=G,=T,=A,=C,=T,=T,=T,=A,=T,=A,=G,=C,=A,=T,=G,=G,=G,=G,=C,=T,=C,=T,=G,=C,=T,=G,=C,=G,=A,=A,=G,=T,=A,=A,=C,=A,=T,=T,=G,=C,=T,=G,=T,=A,=T,=A,=T,=T,=T,=T,=C,=A,=G,=T,=C,=A,=T,=T,=C,=T,=A,=C,=C,=T,=T,=A,=A,=T,=T,=C,=A,=T,=G,=A,=A,=C,=T,=G,=C,=A,=A,=A,=A,=C,=T,=C,=T,=C,=A,-T,=C,*TA,*AT,=G,=C,-T,=T,=T,=T,=T,=A,-C,-T,-T,=C,=T,=C,=T,*AG,=G,=C,=T,=A,+T|=T,=T,=G,=C,=T,=T,=T,=A,=A,=G,=T,=T,=C,=T,=A,=T,=C,=A,=G,=G,=C,=T,=C,=A,=G,=G,=T,=G,=T,-G,=G,=A,=A,=T,=T,=C,=T,=C'}]\n"
     ]
    }
   ],
   "source": [
    "print(midsv_sample[\"control\"][0:3])"
   ]
  },
  {
   "attachments": {},
   "cell_type": "markdown",
   "metadata": {},
   "source": [
    "- pickle形式でIOします"
   ]
  },
  {
   "cell_type": "code",
   "execution_count": 39,
   "metadata": {},
   "outputs": [],
   "source": [
    "import pickle\n",
    "with open('tmp_midsv.plk', 'wb') as p:\n",
    "    pickle.dump(midsv_sample, p)"
   ]
  },
  {
   "cell_type": "code",
   "execution_count": 40,
   "metadata": {},
   "outputs": [
    {
     "name": "stdout",
     "output_type": "stream",
     "text": [
      "-rwxrwxrwx 1 kuno kuno 42M Apr 28 09:54 tmp_midsv.plk\n"
     ]
    }
   ],
   "source": [
    "! ls -lh tmp_midsv.plk"
   ]
  },
  {
   "cell_type": "code",
   "execution_count": 41,
   "metadata": {},
   "outputs": [
    {
     "name": "stdout",
     "output_type": "stream",
     "text": [
      "True\n"
     ]
    }
   ],
   "source": [
    "import pickle\n",
    "with open('tmp_midsv.plk', 'rb') as p:\n",
    "    l = pickle.load(p)\n",
    "\n",
    "print(l == midsv_sample)"
   ]
  },
  {
   "cell_type": "code",
   "execution_count": 45,
   "metadata": {},
   "outputs": [
    {
     "name": "stdout",
     "output_type": "stream",
     "text": [
      "defaultdict(<class 'dict'>, {'foga': {'foo': {'test': [1, 2, 3]}}})\n",
      "{'foo': {'test': [1, 2, 3]}}\n"
     ]
    }
   ],
   "source": [
    "hoge = defaultdict(dict)\n",
    "hoge[\"foga\"][\"foo\"] = {\"test\": [1,2,3]}\n",
    "print(hoge)\n",
    "print(hoge[\"foga\"])"
   ]
  },
  {
   "attachments": {},
   "cell_type": "markdown",
   "metadata": {},
   "source": [
    "- とりあえず`classif_sample`までやってみました。検証します"
   ]
  },
  {
   "cell_type": "code",
   "execution_count": 55,
   "metadata": {},
   "outputs": [
    {
     "name": "stdout",
     "output_type": "stream",
     "text": [
      "misc/data/tyr_control.fq.gz is now processing...\n",
      "misc/data/tyr_control.fq.gz is finished...\n",
      "misc/data/tyr_albino_50%.fq.gz is now processing...\n",
      "2023-04-28 10:35:22: Preprocess tyr_albino_50%...\n",
      "2023-04-28 10:35:22: mapping tyr_albino_50%...\n",
      "2023-04-28 10:35:31: midsv tyr_albino_50%...\n",
      "2023-04-28 10:35:34: replace_NtoD tyr_albino_50%...\n",
      "2023-04-28 10:35:36: extract_mutation_loci tyr_albino_50%...\n",
      "2023-04-28 10:35:51: correct_sequence_error tyr_albino_50%...\n",
      "2023-04-28 10:36:13: Classify tyr_albino_50%...\n",
      "2023-04-28 10:36:15: Clustering tyr_albino_50%...\n",
      "2023-04-28 10:36:34: Consensus calling tyr_albino_50%......\n",
      "misc/data/tyr_albino_50%.fq.gz is finished...\n"
     ]
    },
    {
     "name": "stderr",
     "output_type": "stream",
     "text": [
      "Finished! Open DAJINResults/single-tyr50 to see the report.\n",
      "\n",
      "real\t2m4.164s\n",
      "user\t1m46.749s\n",
      "sys\t0m4.672s\n"
     ]
    }
   ],
   "source": [
    "%%bash\n",
    "rm -rf DAJINResults/single-tyr50\n",
    "rm -rf DAJINResults/.tempdir/single-tyr50\n",
    "\n",
    "time DAJIN2 \\\n",
    "    --name single-tyr50 \\\n",
    "    --sample \"misc/data/tyr_albino_50%.fq.gz\" \\\n",
    "    --control \"misc/data/tyr_control.fq.gz\" \\\n",
    "    --allele \"misc/data/tyr_control.fasta\" \\\n",
    "    --genome mm10 \\\n",
    "    --threads 10"
   ]
  },
  {
   "attachments": {},
   "cell_type": "markdown",
   "metadata": {},
   "source": [
    "- いい感じです！\n",
    "- batchモードで検証します"
   ]
  },
  {
   "cell_type": "code",
   "execution_count": 56,
   "metadata": {},
   "outputs": [
    {
     "name": "stdout",
     "output_type": "stream",
     "text": [
      "misc/data/tyr_control.fq.gz is now processing...\n",
      "misc/data/tyr_control.fq.gz is finished...\n",
      "misc/data/tyr_albino_50%.fq.gz is now processing...\n",
      "misc/data/tyr_albino_10%.fq.gz is now processing...\n",
      "misc/data/tyr_albino_01%.fq.gz is now processing...\n",
      "2023-04-28 10:38:28: Preprocess tyr_albino_50%...\n",
      "2023-04-28 10:38:28: mapping tyr_albino_50%...\n",
      "2023-04-28 10:38:28: Preprocess tyr_albino_01%...\n",
      "2023-04-28 10:38:28: mapping tyr_albino_01%...\n",
      "2023-04-28 10:38:28: Preprocess tyr_albino_10%...\n",
      "2023-04-28 10:38:28: mapping tyr_albino_10%...\n",
      "2023-04-28 10:38:37: midsv tyr_albino_50%...\n",
      "2023-04-28 10:38:40: replace_NtoD tyr_albino_50%...\n",
      "2023-04-28 10:38:42: extract_mutation_loci tyr_albino_50%...\n",
      "2023-04-28 10:38:46: midsv tyr_albino_01%...\n",
      "2023-04-28 10:38:46: midsv tyr_albino_10%...\n",
      "2023-04-28 10:38:53: replace_NtoD tyr_albino_01%...\n",
      "2023-04-28 10:38:53: replace_NtoD tyr_albino_10%...\n",
      "2023-04-28 10:38:56: extract_mutation_loci tyr_albino_01%...\n",
      "2023-04-28 10:38:57: extract_mutation_loci tyr_albino_10%...\n",
      "2023-04-28 10:38:59: correct_sequence_error tyr_albino_50%...\n",
      "2023-04-28 10:39:20: correct_sequence_error tyr_albino_10%...\n",
      "2023-04-28 10:39:21: correct_sequence_error tyr_albino_01%...\n",
      "2023-04-28 10:39:27: Classify tyr_albino_50%...\n",
      "2023-04-28 10:39:28: Clustering tyr_albino_50%...\n",
      "2023-04-28 10:39:50: Consensus calling tyr_albino_50%......\n",
      "misc/data/tyr_albino_50%.fq.gz is finished...\n",
      "2023-04-28 10:40:03: Classify tyr_albino_01%...\n",
      "2023-04-28 10:40:04: Classify tyr_albino_10%...\n",
      "2023-04-28 10:40:07: Clustering tyr_albino_01%...\n",
      "2023-04-28 10:40:07: Clustering tyr_albino_10%...\n",
      "2023-04-28 10:40:34: Consensus calling tyr_albino_01%......\n",
      "2023-04-28 10:40:36: Consensus calling tyr_albino_10%......\n",
      "misc/data/tyr_albino_01%.fq.gz is finished...\n",
      "misc/data/tyr_albino_10%.fq.gz is finished...\n"
     ]
    },
    {
     "name": "stderr",
     "output_type": "stream",
     "text": [
      "Finished! Open DAJINResults/batch_tyr_50_10_01 to see the report.\n",
      "\n",
      "real\t3m31.183s\n",
      "user\t6m34.475s\n",
      "sys\t0m16.518s\n"
     ]
    }
   ],
   "source": [
    "%%bash\n",
    "rm -rf DAJINResults/batch_tyr_50_10_01\n",
    "rm -rf DAJINResults/.tempdir/batch_tyr_50_10_01\n",
    "\n",
    "pip install -qe .\n",
    "time DAJIN2 batch -f misc/data/design_batch_tyr_50_10_01.csv -t 3"
   ]
  },
  {
   "attachments": {},
   "cell_type": "markdown",
   "metadata": {},
   "source": [
    "- batchモードでもとりあえずエラーは出ませんでした\n",
    "- リアルのサンプルでテストします"
   ]
  },
  {
   "cell_type": "code",
   "execution_count": 73,
   "metadata": {},
   "outputs": [],
   "source": [
    "! pip install -qe ."
   ]
  },
  {
   "cell_type": "code",
   "execution_count": 61,
   "metadata": {},
   "outputs": [
    {
     "name": "stdout",
     "output_type": "stream",
     "text": [
      "True\n"
     ]
    }
   ],
   "source": [
    "print(Path(TEMPDIR, \"report\", \"BAM\", CONTROL_NAME, f\"{CONTROL_NAME}.bam\").exists())"
   ]
  },
  {
   "cell_type": "code",
   "execution_count": 63,
   "metadata": {},
   "outputs": [
    {
     "name": "stdout",
     "output_type": "stream",
     "text": [
      "True\n"
     ]
    }
   ],
   "source": [
    "print(True and True)"
   ]
  },
  {
   "cell_type": "code",
   "execution_count": 64,
   "metadata": {},
   "outputs": [
    {
     "name": "stdout",
     "output_type": "stream",
     "text": [
      "(-1, -1)\n"
     ]
    }
   ],
   "source": [
    "import resource\n",
    "\n",
    "print(resource.getrlimit(resource.RLIMIT_DATA))"
   ]
  },
  {
   "cell_type": "code",
   "execution_count": 66,
   "metadata": {},
   "outputs": [],
   "source": [
    "import os\n",
    "import resource\n",
    "\n",
    "mem_bytes = os.sysconf('SC_PAGE_SIZE') * os.sysconf('SC_PHYS_PAGES')\n",
    "mem_usable = int(mem_bytes * 9/10)\n",
    "\n",
    "resource.setrlimit(resource.RLIMIT_DATA, (mem_usable, -1))"
   ]
  },
  {
   "cell_type": "code",
   "execution_count": 67,
   "metadata": {},
   "outputs": [
    {
     "name": "stdout",
     "output_type": "stream",
     "text": [
      "(60648822374, -1)\n"
     ]
    }
   ],
   "source": [
    "print(resource.getrlimit(resource.RLIMIT_DATA))"
   ]
  },
  {
   "cell_type": "code",
   "execution_count": null,
   "metadata": {},
   "outputs": [
    {
     "name": "stdout",
     "output_type": "stream",
     "text": [
      "src/DAJIN2/core/report/report_bam.py:    sam = midsv.read_sam(intput_path_sam)\n",
      "src/DAJIN2/core/report/report_bam.py:    sam = midsv.read_sam(input_path_sam)\n",
      "src/DAJIN2/core/preprocess/correct_knockin.py:        midsv_sample = midsv.read_jsonl(Path(TEMPDIR, \"midsv\", f\"{SAMPLE_NAME}_{allele}.jsonl\"))\n",
      "src/DAJIN2/core/preprocess/correct_knockin.py:        midsv_control = midsv.read_jsonl(Path(TEMPDIR, \"midsv\", f\"{CONTROL_NAME}_{allele}.jsonl\"))\n",
      "src/DAJIN2/core/preprocess/correct_revititive_deletions.py:        midsv_control = midsv.read_jsonl((Path(TEMPDIR, \"midsv\", f\"{CONTROL_NAME}_{allele}.jsonl\")))\n",
      "src/DAJIN2/core/preprocess/correct_revititive_deletions.py:        midsv_sample = midsv.read_jsonl((Path(TEMPDIR, \"midsv\", f\"{SAMPLE_NAME}_{allele}.jsonl\")))\n",
      "src/DAJIN2/core/preprocess/call_midsv.py:        sam_ont = midsv.read_sam(f\"{TEMPDIR}/sam/{SAMPLE_NAME}_map-ont_{allele}.sam\")\n",
      "src/DAJIN2/core/preprocess/call_midsv.py:        sam_splice = midsv.read_sam(f\"{TEMPDIR}/sam/{SAMPLE_NAME}_splice_{allele}.sam\")\n",
      "src/DAJIN2/postprocess/report.py:        result_jsonl = midsv.read_jsonl(path_result)\n"
     ]
    }
   ],
   "source": [
    "%%bash\n",
    "find src/DAJIN2 -type f | grep -v \"past\" | xargs grep \"midsv.read_\""
   ]
  },
  {
   "attachments": {},
   "cell_type": "markdown",
   "metadata": {},
   "source": [
    "- メモリーエラーでプロセスが強制終了となっていたようです\n",
    "- 以下は対策です\n",
    "    - `midsv.read_*`においてgeneratorを返すようにしました (midsv version 0.10.0)\n",
    "    - `resource`モジュールを用いて、使用するメモリを使用可能メモリの9/10に抑えるようにしました"
   ]
  },
  {
   "cell_type": "code",
   "execution_count": 74,
   "metadata": {},
   "outputs": [
    {
     "name": "stdout",
     "output_type": "stream",
     "text": [
      "(60648822374, -1)\n",
      "misc/data/tyr_control.fq.gz is now processing...\n",
      "misc/data/tyr_control.fq.gz is finished...\n",
      "misc/data/tyr_albino_50%.fq.gz is now processing...\n",
      "2023-04-28 12:24:10: Preprocess tyr_albino_50%...\n",
      "2023-04-28 12:24:10: mapping tyr_albino_50%...\n",
      "2023-04-28 12:24:19: midsv tyr_albino_50%...\n",
      "2023-04-28 12:24:20: replace_NtoD tyr_albino_50%...\n",
      "2023-04-28 12:24:20: extract_mutation_loci tyr_albino_50%...\n",
      "2023-04-28 12:24:20: correct_sequence_error tyr_albino_50%...\n",
      "2023-04-28 12:24:20: Classify tyr_albino_50%...\n",
      "2023-04-28 12:24:20: Clustering tyr_albino_50%...\n"
     ]
    },
    {
     "name": "stderr",
     "output_type": "stream",
     "text": [
      "Traceback (most recent call last):\n",
      "  File \"/home/kuno/miniconda/bin/DAJIN2\", line 33, in <module>\n",
      "    sys.exit(load_entry_point('DAJIN2', 'console_scripts', 'DAJIN2')())\n",
      "  File \"/mnt/d/Research/DAJIN2/src/DAJIN2/DAJIN2.py\", line 280, in main\n",
      "    _execute_single_mode(arguments)\n",
      "  File \"/mnt/d/Research/DAJIN2/src/DAJIN2/DAJIN2.py\", line 45, in _execute_single_mode\n",
      "    core_execute.execute_sample(arguments)\n",
      "  File \"/mnt/d/Research/DAJIN2/src/DAJIN2/core/core_execute.py\", line 182, in execute_sample\n",
      "    clust_sample = clustering.update_labels(clust_sample)\n",
      "  File \"/mnt/d/Research/DAJIN2/src/DAJIN2/core/clustering/clustering.py\", line 150, in update_labels\n",
      "    prev_label = clust_result[0][\"LABEL\"]\n",
      "IndexError: list index out of range\n",
      "\n",
      "real\t0m42.311s\n",
      "user\t0m32.931s\n",
      "sys\t0m0.803s\n"
     ]
    },
    {
     "ename": "CalledProcessError",
     "evalue": "Command 'b'rm -rf DAJINResults/single-tyr50\\nrm -rf DAJINResults/.tempdir/single-tyr50\\n\\ntime DAJIN2 \\\\\\n    --name single-tyr50 \\\\\\n    --sample \"misc/data/tyr_albino_50%.fq.gz\" \\\\\\n    --control \"misc/data/tyr_control.fq.gz\" \\\\\\n    --allele \"misc/data/tyr_control.fasta\" \\\\\\n    --genome mm10 \\\\\\n    --threads 10\\n'' returned non-zero exit status 1.",
     "output_type": "error",
     "traceback": [
      "\u001b[0;31m---------------------------------------------------------------------------\u001b[0m",
      "\u001b[0;31mCalledProcessError\u001b[0m                        Traceback (most recent call last)",
      "\u001b[1;32m/mnt/d/Research/DAJIN2/misc/experiments/20230426-batch.ipynb セル 37\u001b[0m in \u001b[0;36m<cell line: 1>\u001b[0;34m()\u001b[0m\n\u001b[0;32m----> <a href='vscode-notebook-cell://wsl%2Bubuntu-20.04/mnt/d/Research/DAJIN2/misc/experiments/20230426-batch.ipynb#Y230sdnNjb2RlLXJlbW90ZQ%3D%3D?line=0'>1</a>\u001b[0m get_ipython()\u001b[39m.\u001b[39;49mrun_cell_magic(\u001b[39m'\u001b[39;49m\u001b[39mbash\u001b[39;49m\u001b[39m'\u001b[39;49m, \u001b[39m'\u001b[39;49m\u001b[39m'\u001b[39;49m, \u001b[39m'\u001b[39;49m\u001b[39mrm -rf DAJINResults/single-tyr50\u001b[39;49m\u001b[39m\\n\u001b[39;49;00m\u001b[39mrm -rf DAJINResults/.tempdir/single-tyr50\u001b[39;49m\u001b[39m\\n\u001b[39;49;00m\u001b[39m\\n\u001b[39;49;00m\u001b[39mtime DAJIN2 \u001b[39;49m\u001b[39m\\\\\u001b[39;49;00m\u001b[39m\\n\u001b[39;49;00m\u001b[39m    --name single-tyr50 \u001b[39;49m\u001b[39m\\\\\u001b[39;49;00m\u001b[39m\\n\u001b[39;49;00m\u001b[39m    --sample \u001b[39;49m\u001b[39m\"\u001b[39;49m\u001b[39mmisc/data/tyr_albino_50\u001b[39;49m\u001b[39m%\u001b[39;49m\u001b[39m.fq.gz\u001b[39;49m\u001b[39m\"\u001b[39;49m\u001b[39m \u001b[39;49m\u001b[39m\\\\\u001b[39;49;00m\u001b[39m\\n\u001b[39;49;00m\u001b[39m    --control \u001b[39;49m\u001b[39m\"\u001b[39;49m\u001b[39mmisc/data/tyr_control.fq.gz\u001b[39;49m\u001b[39m\"\u001b[39;49m\u001b[39m \u001b[39;49m\u001b[39m\\\\\u001b[39;49;00m\u001b[39m\\n\u001b[39;49;00m\u001b[39m    --allele \u001b[39;49m\u001b[39m\"\u001b[39;49m\u001b[39mmisc/data/tyr_control.fasta\u001b[39;49m\u001b[39m\"\u001b[39;49m\u001b[39m \u001b[39;49m\u001b[39m\\\\\u001b[39;49;00m\u001b[39m\\n\u001b[39;49;00m\u001b[39m    --genome mm10 \u001b[39;49m\u001b[39m\\\\\u001b[39;49;00m\u001b[39m\\n\u001b[39;49;00m\u001b[39m    --threads 10\u001b[39;49m\u001b[39m\\n\u001b[39;49;00m\u001b[39m'\u001b[39;49m)\n",
      "File \u001b[0;32m~/miniconda/lib/python3.10/site-packages/IPython/core/interactiveshell.py:2357\u001b[0m, in \u001b[0;36mInteractiveShell.run_cell_magic\u001b[0;34m(self, magic_name, line, cell)\u001b[0m\n\u001b[1;32m   2355\u001b[0m \u001b[39mwith\u001b[39;00m \u001b[39mself\u001b[39m\u001b[39m.\u001b[39mbuiltin_trap:\n\u001b[1;32m   2356\u001b[0m     args \u001b[39m=\u001b[39m (magic_arg_s, cell)\n\u001b[0;32m-> 2357\u001b[0m     result \u001b[39m=\u001b[39m fn(\u001b[39m*\u001b[39;49margs, \u001b[39m*\u001b[39;49m\u001b[39m*\u001b[39;49mkwargs)\n\u001b[1;32m   2358\u001b[0m \u001b[39mreturn\u001b[39;00m result\n",
      "File \u001b[0;32m~/miniconda/lib/python3.10/site-packages/IPython/core/magics/script.py:153\u001b[0m, in \u001b[0;36mScriptMagics._make_script_magic.<locals>.named_script_magic\u001b[0;34m(line, cell)\u001b[0m\n\u001b[1;32m    151\u001b[0m \u001b[39melse\u001b[39;00m:\n\u001b[1;32m    152\u001b[0m     line \u001b[39m=\u001b[39m script\n\u001b[0;32m--> 153\u001b[0m \u001b[39mreturn\u001b[39;00m \u001b[39mself\u001b[39;49m\u001b[39m.\u001b[39;49mshebang(line, cell)\n",
      "File \u001b[0;32m~/miniconda/lib/python3.10/site-packages/IPython/core/magics/script.py:305\u001b[0m, in \u001b[0;36mScriptMagics.shebang\u001b[0;34m(self, line, cell)\u001b[0m\n\u001b[1;32m    300\u001b[0m \u001b[39mif\u001b[39;00m args\u001b[39m.\u001b[39mraise_error \u001b[39mand\u001b[39;00m p\u001b[39m.\u001b[39mreturncode \u001b[39m!=\u001b[39m \u001b[39m0\u001b[39m:\n\u001b[1;32m    301\u001b[0m     \u001b[39m# If we get here and p.returncode is still None, we must have\u001b[39;00m\n\u001b[1;32m    302\u001b[0m     \u001b[39m# killed it but not yet seen its return code. We don't wait for it,\u001b[39;00m\n\u001b[1;32m    303\u001b[0m     \u001b[39m# in case it's stuck in uninterruptible sleep. -9 = SIGKILL\u001b[39;00m\n\u001b[1;32m    304\u001b[0m     rc \u001b[39m=\u001b[39m p\u001b[39m.\u001b[39mreturncode \u001b[39mor\u001b[39;00m \u001b[39m-\u001b[39m\u001b[39m9\u001b[39m\n\u001b[0;32m--> 305\u001b[0m     \u001b[39mraise\u001b[39;00m CalledProcessError(rc, cell)\n",
      "\u001b[0;31mCalledProcessError\u001b[0m: Command 'b'rm -rf DAJINResults/single-tyr50\\nrm -rf DAJINResults/.tempdir/single-tyr50\\n\\ntime DAJIN2 \\\\\\n    --name single-tyr50 \\\\\\n    --sample \"misc/data/tyr_albino_50%.fq.gz\" \\\\\\n    --control \"misc/data/tyr_control.fq.gz\" \\\\\\n    --allele \"misc/data/tyr_control.fasta\" \\\\\\n    --genome mm10 \\\\\\n    --threads 10\\n'' returned non-zero exit status 1."
     ]
    }
   ],
   "source": [
    "%%bash\n",
    "rm -rf DAJINResults/single-tyr50\n",
    "rm -rf DAJINResults/.tempdir/single-tyr50\n",
    "\n",
    "time DAJIN2 \\\n",
    "    --name single-tyr50 \\\n",
    "    --sample \"misc/data/tyr_albino_50%.fq.gz\" \\\n",
    "    --control \"misc/data/tyr_control.fq.gz\" \\\n",
    "    --allele \"misc/data/tyr_control.fasta\" \\\n",
    "    --genome mm10 \\\n",
    "    --threads 10"
   ]
  },
  {
   "attachments": {},
   "cell_type": "markdown",
   "metadata": {},
   "source": [
    "- なぜかupdate_labelsでエラーが出るようになってしまったので原因を調べます\n",
    "- `core_execute`の変更点が多いので、いったん別のノートにします"
   ]
  },
  {
   "cell_type": "code",
   "execution_count": null,
   "metadata": {},
   "outputs": [],
   "source": []
  },
  {
   "cell_type": "markdown",
   "metadata": {},
   "source": [
    "# 👉👉👉 いまここ 👈👈👈"
   ]
  },
  {
   "attachments": {},
   "cell_type": "markdown",
   "metadata": {},
   "source": [
    "# 👌👌👌 まとめ 👌👌👌\n"
   ]
  },
  {
   "attachments": {},
   "cell_type": "markdown",
   "metadata": {},
   "source": [
    "- `multiprocessing`のブランチを切りました\n",
    "- JSONLのI/Oに問題がありそうだったので、直接オブジェクトを返すようにしました。\n",
    "- `multiprocessing`ではメモリーエラーが出ていることがわかりました\n",
    "    - `midsv.read_*`においてgeneratorを返すようにしました (midsv version 0.10.0)\n",
    "    - `resource`モジュールを用いて、使用するメモリを使用可能メモリの9/10に抑えるようにしました"
   ]
  },
  {
   "attachments": {},
   "cell_type": "markdown",
   "metadata": {},
   "source": [
    "# 次に取り組むこと"
   ]
  },
  {
   "attachments": {},
   "cell_type": "markdown",
   "metadata": {},
   "source": [
    "- なぜか`update_labels`でエラーが出るようになってしまったので原因を調べます\n",
    "- できるかぎりGeneratorで返すようにします\n",
    "\n",
    "\n",
    "### Lists\n",
    "\n",
    "+ GUIの見栄え\n",
    "+ igv.jsの起動\n",
    "+ VCFによる長鎖挿入・欠失情報の付与\n",
    "+ Figの作成\n",
    "+ ⬜ Insertionのなかにある変異を同定する手法を考案する\n",
    "+ ⬜ Ayabe-taks1のright_loxpがいまいちな理由を考察する\n",
    "+ ✅ 断端リードの扱いをどうするべきか\n",
    "+ ✅ `SV`の判定をconsensus callのあとにする\n",
    "+ ✅ Tyrの動作確認\n",
    "+ ✅ ayabe-task1のleft/right-loxpの検出\n",
    "+ ✅ mutation_lociをpreprocessで使用したものに変更する\n",
    "> + ⬜ `preprocess.correct_sequence_error.replace_atmark`のコードがわかりにくい\n",
    "    + テストを用意してリファクタリングする"
   ]
  },
  {
   "cell_type": "markdown",
   "metadata": {},
   "source": []
  }
 ],
 "metadata": {
  "kernelspec": {
   "display_name": "DAJIN2",
   "language": "python",
   "name": "python3"
  },
  "language_info": {
   "codemirror_mode": {
    "name": "ipython",
    "version": 3
   },
   "file_extension": ".py",
   "mimetype": "text/x-python",
   "name": "python",
   "nbconvert_exporter": "python",
   "pygments_lexer": "ipython3",
   "version": "3.10.6"
  },
  "orig_nbformat": 4,
  "vscode": {
   "interpreter": {
    "hash": "58e3ac748e2e63e6aff7f855a7cc6c53d89e428d446591c0d70cbd0714d60e27"
   }
  }
 },
 "nbformat": 4,
 "nbformat_minor": 2
}
