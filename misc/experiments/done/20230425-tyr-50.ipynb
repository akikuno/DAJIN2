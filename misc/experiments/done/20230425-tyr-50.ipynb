{
 "cells": [
  {
   "attachments": {},
   "cell_type": "markdown",
   "metadata": {},
   "source": [
    "# 今回の取り組み"
   ]
  },
  {
   "attachments": {},
   "cell_type": "markdown",
   "metadata": {},
   "source": [
    "- Tyr50%,10%, 01%のアルビノアレルが無くなったので原因を調べます"
   ]
  },
  {
   "cell_type": "markdown",
   "metadata": {},
   "source": [
    "## いつものセットアップ"
   ]
  },
  {
   "cell_type": "code",
   "execution_count": 1,
   "metadata": {},
   "outputs": [
    {
     "name": "stdout",
     "output_type": "stream",
     "text": [
      "/mnt/d/Research/DAJIN2\n"
     ]
    }
   ],
   "source": [
    "# ルートディレクトリをPathに含めるおまじない\n",
    "import sys, os\n",
    "from pathlib import Path\n",
    "if Path(os.getcwd()).stem != \"DAJIN2\":\n",
    "    parent_path = str(Path(os.path.dirname(os.path.abspath(\"__file__\"))).parent.parent)\n",
    "    sys.path.append(parent_path)\n",
    "    os.chdir(parent_path)\n",
    "\n",
    "print(os.getcwd())\n",
    "sys.path.append(os.getcwd() + \"/\" + \"src\")"
   ]
  },
  {
   "cell_type": "code",
   "execution_count": 2,
   "metadata": {},
   "outputs": [],
   "source": [
    "%%bash\n",
    "# pipの更新\n",
    "pip install -q -U pip\n",
    "pip install -q -U -r requirements.txt"
   ]
  },
  {
   "attachments": {},
   "cell_type": "markdown",
   "metadata": {},
   "source": [
    "# 実験"
   ]
  },
  {
   "cell_type": "code",
   "execution_count": 3,
   "metadata": {},
   "outputs": [
    {
     "name": "stdout",
     "output_type": "stream",
     "text": [
      "processing batch_tyr_50_10_01...\n"
     ]
    }
   ],
   "source": [
    "from __future__ import annotations\n",
    "\n",
    "import sys, os\n",
    "from pathlib import Path\n",
    "\n",
    "import hashlib\n",
    "from collections import defaultdict\n",
    "from pathlib import Path\n",
    "from importlib import reload\n",
    "\n",
    "from src.DAJIN2.core import preprocess, classification, clustering, consensus, report\n",
    "\n",
    "reload(preprocess)\n",
    "reload(classification)\n",
    "reload(clustering)\n",
    "reload(consensus)\n",
    "reload(report)\n",
    "\n",
    "#### # * Subset of Point mutation\n",
    "#### # 50 or 10 or 01%\n",
    "percent = \"50\"\n",
    "SAMPLE, CONTROL, ALLELE, NAME, GENOME, DEBUG, THREADS = (\n",
    "    f\"misc/data/tyr_albino_{percent}%.fq.gz\",\n",
    "    \"misc/data/tyr_control.fq.gz\",\n",
    "    \"misc/data/tyr_control.fasta\",\n",
    "    \"batch_tyr_50_10_01\",\n",
    "    \"mm10\",\n",
    "    True,\n",
    "    30,\n",
    ")\n",
    "\n",
    "\n",
    "######################################################################\n",
    "# Preprocessing\n",
    "######################################################################\n",
    "\n",
    "print(f\"processing {NAME}...\")\n",
    "\n",
    "SAMPLE = preprocess.format_inputs.convert_to_posix_path(SAMPLE)\n",
    "CONTROL = preprocess.format_inputs.convert_to_posix_path(CONTROL)\n",
    "ALLELE = preprocess.format_inputs.convert_to_posix_path(ALLELE)\n",
    "\n",
    "# ====================================================================\n",
    "# Varidate inputs\n",
    "# ====================================================================\n",
    "\n",
    "preprocess.validate_inputs.check_files(SAMPLE, CONTROL, ALLELE)\n",
    "TEMPDIR = Path(\"DAJINResults\", \".tempdir\", NAME)\n",
    "IS_CACHE_CONTROL = preprocess.validate_inputs.exists_cached_control(CONTROL, TEMPDIR)\n",
    "IS_CACHE_GENOME = preprocess.validate_inputs.exists_cached_genome(GENOME, TEMPDIR, IS_CACHE_CONTROL)\n",
    "UCSC_URL, GOLDENPATH_URL = None, None\n",
    "if GENOME and not IS_CACHE_GENOME:\n",
    "    UCSC_URL, GOLDENPATH_URL = preprocess.validate_inputs.check_and_fetch_genome(GENOME)\n",
    "\n",
    "# ====================================================================\n",
    "# Format inputs\n",
    "# ====================================================================\n",
    "SAMPLE_NAME = preprocess.format_inputs.extract_basename(SAMPLE)\n",
    "CONTROL_NAME = preprocess.format_inputs.extract_basename(CONTROL)\n",
    "FASTA_ALLELES = preprocess.format_inputs.dictionize_allele(ALLELE)\n",
    "THREADS = preprocess.format_inputs.update_threads(THREADS)\n",
    "\n",
    "preprocess.format_inputs.make_directories(TEMPDIR, SAMPLE_NAME, CONTROL_NAME)\n",
    "\n",
    "if GENOME:\n",
    "    GENOME_COODINATES = preprocess.format_inputs.fetch_coodinate(GENOME, UCSC_URL, FASTA_ALLELES[\"control\"])\n",
    "    CHROME_SIZE = preprocess.format_inputs.fetch_chrom_size(GENOME_COODINATES[\"chr\"], GENOME, GOLDENPATH_URL)\n",
    "    preprocess.format_inputs.cache_coodinates_and_chromsize(TEMPDIR, GENOME, GENOME_COODINATES, CHROME_SIZE)\n"
   ]
  },
  {
   "cell_type": "code",
   "execution_count": 4,
   "metadata": {},
   "outputs": [],
   "source": [
    "MUTATION_LOCI_ALLELES = preprocess.extract_mutation_loci(TEMPDIR, FASTA_ALLELES, CONTROL_NAME, SAMPLE_NAME)\n",
    "KNOCKIN_LOCI_ALLELES = preprocess.extract_knockin_loci(TEMPDIR)\n",
    "classif_sample = classification.classify_alleles(TEMPDIR, SAMPLE_NAME)"
   ]
  },
  {
   "cell_type": "code",
   "execution_count": 5,
   "metadata": {},
   "outputs": [
    {
     "name": "stdout",
     "output_type": "stream",
     "text": [
      "dict_keys([])\n"
     ]
    }
   ],
   "source": [
    "print(KNOCKIN_LOCI_ALLELES.keys())"
   ]
  },
  {
   "attachments": {},
   "cell_type": "markdown",
   "metadata": {},
   "source": [
    "- knockin_alleleはありません。これは想定通りです。"
   ]
  },
  {
   "cell_type": "code",
   "execution_count": 10,
   "metadata": {},
   "outputs": [],
   "source": [
    "clust_sample = clustering.add_labels(classif_sample, TEMPDIR, CONTROL_NAME, MUTATION_LOCI_ALLELES, KNOCKIN_LOCI_ALLELES, THREADS)"
   ]
  },
  {
   "cell_type": "code",
   "execution_count": 11,
   "metadata": {},
   "outputs": [
    {
     "name": "stdout",
     "output_type": "stream",
     "text": [
      "defaultdict(<class 'int'>, {1: 5000})\n"
     ]
    }
   ],
   "source": [
    "count = defaultdict(int)\n",
    "for samp in clust_sample:\n",
    "    count[samp[\"LABEL\"]] += 1\n",
    "print(count)"
   ]
  },
  {
   "attachments": {},
   "cell_type": "markdown",
   "metadata": {},
   "source": [
    "- やはりクラスタリングされていません😭"
   ]
  },
  {
   "cell_type": "code",
   "execution_count": 36,
   "metadata": {},
   "outputs": [],
   "source": [
    "from __future__ import annotations\n",
    "\n",
    "from collections import defaultdict\n",
    "from itertools import groupby\n",
    "from pathlib import Path\n",
    "\n",
    "import midsv\n",
    "\n",
    "from DAJIN2.core.clustering.make_score import make_score\n",
    "from DAJIN2.core.clustering.return_labels import return_labels\n",
    "\n",
    "\n",
    "def _compress_insertion(cssplits: list[list[str]]) -> list[dict[str, int]]:\n",
    "    \"\"\"Insertion will be subdivided by sequence error in the its sequence, so it is compressed as a '+I' to eliminate mutations.\n",
    "    #TODO ただ、これでは、insertion配列の中に真のmutationがある場合に、そのmutationを抽出できないので、**insertion配列の中にmutationがある場合は、insertion配列をそのまま残す**必要がある。\n",
    "    \"\"\"\n",
    "    cssplits_abstracted = []\n",
    "    for cssplit in cssplits:\n",
    "        for i, cs in enumerate(cssplit):\n",
    "            if cs.startswith(\"+\"):\n",
    "                cssplit[i] = \"+I\" + cs.split(\"|\")[-1]\n",
    "        cssplits_abstracted.append(cssplit)\n",
    "    return cssplits_abstracted\n",
    "\n",
    "\n",
    "def _transpose_mutation_loci(mutation_loci, cssplits_sample):\n",
    "    mutation_loci_transposed = [set() for _ in range(len(cssplits_sample[0]))]\n",
    "    for mut, values in mutation_loci.items():\n",
    "        for i, loci in enumerate(mutation_loci_transposed):\n",
    "            if i in values:\n",
    "                loci.add(mut)\n",
    "    return mutation_loci_transposed\n",
    "\n",
    "\n",
    "def _extract_cssplits_in_mutation_by_3mer(cssplits_sample: list[list], mutation_loci_transposed: list[set[str]]) -> list[list]:\n",
    "    cssplits_mutation = []\n",
    "    for cssplits in cssplits_sample:\n",
    "        cs_mutation = []\n",
    "        for i in range(1, len(cssplits) - 1):\n",
    "            if mutation_loci_transposed[i] == set():\n",
    "                cs_mutation.append(\"N,N,N\")\n",
    "                continue\n",
    "            mutation = \"\"\n",
    "            if cssplits[i].startswith(\"+\"):\n",
    "                mutation = \"ins\"\n",
    "            elif cssplits[i].startswith(\"-\"):\n",
    "                mutation = \"del\"\n",
    "            elif cssplits[i].startswith(\"*\"):\n",
    "                mutation = \"sub\"\n",
    "            if mutation in mutation_loci_transposed[i]:\n",
    "                kmer = \",\".join([cssplits[i - 1], cssplits[i], cssplits[i + 1]])\n",
    "                cs_mutation.append(kmer)\n",
    "            else:\n",
    "                cs_mutation.append(\"N,N,N\")\n",
    "        cssplits_mutation.append(cs_mutation)\n",
    "    return cssplits_mutation\n",
    "\n",
    "\n",
    "def _annotate_score(cssplits: list[list[str]], mutation_score: list[dict[str:float]]) -> list[list[float]]:\n",
    "    scores = []\n",
    "    for cssplit in cssplits:\n",
    "        score = [0 for _ in range(len(cssplit))]\n",
    "        for i, (cs, mutscore) in enumerate(zip(cssplit, mutation_score)):\n",
    "            if mutscore == {}:\n",
    "                continue\n",
    "            if cs in mutscore:\n",
    "                score[i] = mutscore[cs]\n",
    "        scores.append(score)\n",
    "    return scores\n",
    "\n",
    "# def _annotate_score(cssplits: list[list[str]], mutation_score: list[dict[str:float]]) -> list[list[float]]:\n",
    "#     scores = []\n",
    "#     for cssplit in cssplits:\n",
    "#         score = []\n",
    "#         for cs, mutscore in zip(cssplit, mutation_score):\n",
    "#             if mutscore == {}:\n",
    "#                 score.append(0)\n",
    "#                 continue\n",
    "#             mutation = list(mutscore.keys())[0]\n",
    "#             value = list(mutscore.values())[0]\n",
    "#             if cs == mutation:\n",
    "#                 score.append(value)\n",
    "#             else:\n",
    "#                 score.append(0)\n",
    "#         scores.append(score)\n",
    "#     return scores\n",
    "\n",
    "\n",
    "def _reorder_labels(labels: list[int], start: int = 0) -> list[int]:\n",
    "    labels_ordered = labels.copy()\n",
    "    num = start\n",
    "    d = defaultdict(int)\n",
    "    for i, l in enumerate(labels_ordered):\n",
    "        if not d[l]:\n",
    "            num += 1\n",
    "            d[l] = num\n",
    "        labels_ordered[i] = d[l]\n",
    "    return labels_ordered\n",
    "\n",
    "\n",
    "def add_labels(classif_sample, TEMPDIR, CONTROL_NAME, MUTATION_LOCI_ALLELES, KNOCKIN_LOCI_ALLELES, THREADS: int = 1) -> list[dict[str]]:\n",
    "    labels_all = []\n",
    "    max_label = 0\n",
    "    classif_sample.sort(key=lambda x: x[\"ALLELE\"])\n",
    "    for allele, group in groupby(classif_sample, key=lambda x: x[\"ALLELE\"]):\n",
    "        mutation_loci: dict[str, set[int]] = MUTATION_LOCI_ALLELES[allele]\n",
    "        if mutation_loci == {}:\n",
    "            labels_all.extend([1] * len(classif_sample))\n",
    "            continue\n",
    "        knockin_loci = set()\n",
    "        if allele in KNOCKIN_LOCI_ALLELES:\n",
    "            knockin_loci = KNOCKIN_LOCI_ALLELES[allele]\n",
    "        cssplits_sample = [cs[\"CSSPLIT\"].split(\",\") for cs in group]\n",
    "        midsv_control = midsv.read_jsonl((Path(TEMPDIR, \"midsv\", f\"{CONTROL_NAME}_{allele}.jsonl\")))\n",
    "        cssplits_control = [cs[\"CSSPLIT\"].split(\",\") for cs in midsv_control]\n",
    "        cssplits_sample = _compress_insertion(cssplits_sample)\n",
    "        cssplits_control = _compress_insertion(cssplits_control)\n",
    "        mutation_loci_transposed = _transpose_mutation_loci(mutation_loci, cssplits_sample)\n",
    "        cssplits_mutation_loci_sample = _extract_cssplits_in_mutation_by_3mer(cssplits_sample, mutation_loci_transposed)\n",
    "        cssplits_mutation_loci_control = _extract_cssplits_in_mutation_by_3mer(cssplits_control, mutation_loci_transposed)\n",
    "        mutation_score = make_score(cssplits_mutation_loci_sample, cssplits_mutation_loci_control, knockin_loci)\n",
    "        scores_sample = _annotate_score(cssplits_mutation_loci_sample, mutation_score)\n",
    "        scores_control = _annotate_score(cssplits_mutation_loci_control, mutation_score)\n",
    "        labels = return_labels(scores_sample, scores_control)\n",
    "        labels_reorder = _reorder_labels(labels, start=max_label)\n",
    "        max_label = max(labels_reorder)\n",
    "        labels_all.extend(labels_reorder)\n",
    "    clust_sample = classif_sample.copy()\n",
    "    for clust, label in zip(clust_sample, labels_all):\n",
    "        clust[\"LABEL\"] = label\n",
    "    return clust_sample\n",
    "\n",
    "\n",
    "def add_readnum(clust_sample: list[dict]) -> list[dict]:\n",
    "    clust_result = clust_sample.copy()\n",
    "    readnum = defaultdict(int)\n",
    "    for cs in clust_result:\n",
    "        readnum[cs[\"LABEL\"]] += 1\n",
    "    for cs in clust_result:\n",
    "        cs[\"READNUM\"] = readnum[cs[\"LABEL\"]]\n",
    "    return clust_result\n",
    "\n",
    "\n",
    "def add_percent(clust_sample: list[dict]) -> list[dict]:\n",
    "    clust_result = clust_sample.copy()\n",
    "    n_sample = len(clust_result)\n",
    "    percent = defaultdict(int)\n",
    "    for cs in clust_result:\n",
    "        percent[cs[\"LABEL\"]] += 1 / n_sample\n",
    "    percent = {key: round(val * 100, 3) for key, val in percent.items()}\n",
    "    for cs in clust_result:\n",
    "        cs[\"PERCENT\"] = percent[cs[\"LABEL\"]]\n",
    "    return clust_result\n",
    "\n",
    "\n",
    "def update_labels(clust_sample: list[dict]) -> list[dict]:\n",
    "    \"\"\"\n",
    "    Allocate new labels according to the ranking by PERCENT\n",
    "    \"\"\"\n",
    "    clust_result = clust_sample.copy()\n",
    "    clust_result.sort(key=lambda x: (-x[\"PERCENT\"], x[\"LABEL\"]))\n",
    "    new_label = 1\n",
    "    prev_label = clust_result[0][\"LABEL\"]\n",
    "    for cs in clust_result:\n",
    "        if prev_label != cs[\"LABEL\"]:\n",
    "            new_label += 1\n",
    "        prev_label = cs[\"LABEL\"]\n",
    "        cs[\"LABEL\"] = new_label\n",
    "    return clust_result\n"
   ]
  },
  {
   "cell_type": "code",
   "execution_count": 14,
   "metadata": {},
   "outputs": [
    {
     "ename": "SyntaxError",
     "evalue": "'continue' not properly in loop (1154354874.py, line 9)",
     "output_type": "error",
     "traceback": [
      "\u001b[0;36m  Input \u001b[0;32mIn [14]\u001b[0;36m\u001b[0m\n\u001b[0;31m    continue\u001b[0m\n\u001b[0m    ^\u001b[0m\n\u001b[0;31mSyntaxError\u001b[0m\u001b[0;31m:\u001b[0m 'continue' not properly in loop\n"
     ]
    }
   ],
   "source": [
    "allele = \"control\"\n",
    "import midsv\n",
    "cssplits_sample = [cs[\"CSSPLIT\"].split(\",\") for cs in classif_sample if cs[\"ALLELE\"] == allele]\n",
    "midsv_control = midsv.read_jsonl((Path(TEMPDIR, \"midsv\", f\"{CONTROL_NAME}_{allele}.jsonl\")))\n",
    "cssplits_control = [cs[\"CSSPLIT\"].split(\",\") for cs in midsv_control]\n",
    "mutation_loci: dict[str, set[int]] = MUTATION_LOCI_ALLELES[allele]\n",
    "if mutation_loci == {}:\n",
    "    labels_all.extend([1] * len(classif_sample))\n",
    "    continue\n",
    "knockin_loci = set()\n",
    "if allele in KNOCKIN_LOCI_ALLELES:\n",
    "    knockin_loci = KNOCKIN_LOCI_ALLELES[allele]\n"
   ]
  },
  {
   "cell_type": "code",
   "execution_count": 15,
   "metadata": {},
   "outputs": [
    {
     "data": {
      "text/plain": [
       "{'ins': set(), 'del': {1077, 1105}, 'sub': set()}"
      ]
     },
     "execution_count": 15,
     "metadata": {},
     "output_type": "execute_result"
    }
   ],
   "source": [
    "MUTATION_LOCI_ALLELES[allele]"
   ]
  },
  {
   "attachments": {},
   "cell_type": "markdown",
   "metadata": {},
   "source": [
    "- 🤯 MUTATION_LOCI_ALLELESに点変異の情報がありません！\n",
    "- まさかの`preprocess.extract_mutation_loci`の問題だったとは…"
   ]
  },
  {
   "cell_type": "code",
   "execution_count": 13,
   "metadata": {},
   "outputs": [],
   "source": [
    "# いったん補正前にリセットします\n",
    "import shutil\n",
    "shutil.copytree(Path(TEMPDIR, \"midsv_control\"), Path(TEMPDIR, \"midsv\"), dirs_exist_ok=True)\n",
    "for allele in FASTA_ALLELES:\n",
    "    preprocess.call_midsv(TEMPDIR, SAMPLE_NAME, allele)\n",
    "preprocess.replace_NtoD(TEMPDIR, FASTA_ALLELES, SAMPLE_NAME)"
   ]
  },
  {
   "cell_type": "code",
   "execution_count": 14,
   "metadata": {},
   "outputs": [],
   "source": [
    "import midsv\n",
    "allele = \"control\"\n",
    "midsv_sample = midsv.read_jsonl((Path(TEMPDIR, \"midsv\", f\"{SAMPLE_NAME}_{allele}.jsonl\")))\n",
    "midsv_control = midsv.read_jsonl((Path(TEMPDIR, \"midsv\", f\"{CONTROL_NAME}_{allele}.jsonl\")))"
   ]
  },
  {
   "cell_type": "code",
   "execution_count": 15,
   "metadata": {},
   "outputs": [
    {
     "name": "stdout",
     "output_type": "stream",
     "text": [
      "defaultdict(<class 'int'>, {'=G': 2501, '*GT': 2475, '+T|=G': 1, '-G': 9, 'N': 8, '*GA': 4, '+A|=G': 1, '+A|+A|*GA': 1})\n"
     ]
    }
   ],
   "source": [
    "idx_mutation = 828\n",
    "count_mutation = defaultdict(int)\n",
    "for samp in midsv_sample:\n",
    "    count_mutation[samp[\"CSSPLIT\"].split(\",\")[idx_mutation]] += 1\n",
    "\n",
    "print(count_mutation)"
   ]
  },
  {
   "cell_type": "code",
   "execution_count": 16,
   "metadata": {},
   "outputs": [
    {
     "name": "stdout",
     "output_type": "stream",
     "text": [
      "defaultdict(<class 'int'>, {'=G': 9949, '+T|=G': 1, '-G': 16, '*GA': 7, '+A|=G': 3, 'N': 12, '*GT': 8, '+A|+A|*GA': 1, '+C|+A|*GA': 1, '+A|*GT': 2})\n"
     ]
    }
   ],
   "source": [
    "count_mutation = defaultdict(int)\n",
    "for cont in midsv_control:\n",
    "    count_mutation[cont[\"CSSPLIT\"].split(\",\")[idx_mutation]] += 1\n",
    "\n",
    "print(count_mutation)"
   ]
  },
  {
   "cell_type": "code",
   "execution_count": 17,
   "metadata": {},
   "outputs": [],
   "source": [
    "MUTATION_LOCI_ALLELES = preprocess.extract_mutation_loci(TEMPDIR, FASTA_ALLELES, CONTROL_NAME, SAMPLE_NAME)\n",
    "# 35秒くらい"
   ]
  },
  {
   "cell_type": "code",
   "execution_count": 18,
   "metadata": {},
   "outputs": [
    {
     "name": "stdout",
     "output_type": "stream",
     "text": [
      "True\n"
     ]
    }
   ],
   "source": [
    "print(828 in MUTATION_LOCI_ALLELES[\"control\"][\"sub\"])"
   ]
  },
  {
   "attachments": {},
   "cell_type": "markdown",
   "metadata": {},
   "source": [
    "- やり直したところ、点変異部位はたしかにありました…\n",
    "- なんか変な感じがします\n",
    "    - 補正されてしまっているような気がします？"
   ]
  },
  {
   "cell_type": "code",
   "execution_count": 19,
   "metadata": {},
   "outputs": [],
   "source": [
    "preprocess.correct_sequence_error(TEMPDIR, FASTA_ALLELES, CONTROL_NAME, SAMPLE_NAME, MUTATION_LOCI_ALLELES)\n",
    "# 25秒くらい"
   ]
  },
  {
   "cell_type": "code",
   "execution_count": 20,
   "metadata": {},
   "outputs": [],
   "source": [
    "KNOCKIN_LOCI_ALLELES = preprocess.extract_knockin_loci(TEMPDIR)"
   ]
  },
  {
   "cell_type": "code",
   "execution_count": 21,
   "metadata": {},
   "outputs": [],
   "source": [
    "classif_sample = classification.classify_alleles(TEMPDIR, SAMPLE_NAME)"
   ]
  },
  {
   "cell_type": "code",
   "execution_count": 22,
   "metadata": {},
   "outputs": [
    {
     "name": "stdout",
     "output_type": "stream",
     "text": [
      "defaultdict(<class 'int'>, {'=G': 2503, '*GT': 2476, '*GA': 4, 'N': 8, '-G': 9})\n"
     ]
    }
   ],
   "source": [
    "idx_mutation = 828\n",
    "count_mutation = defaultdict(int)\n",
    "for samp in classif_sample:\n",
    "    count_mutation[samp[\"CSSPLIT\"].split(\",\")[idx_mutation]] += 1\n",
    "\n",
    "print(count_mutation)"
   ]
  },
  {
   "attachments": {},
   "cell_type": "markdown",
   "metadata": {},
   "source": [
    "- 間違って補正されている、ということはなさそうです"
   ]
  },
  {
   "cell_type": "code",
   "execution_count": 32,
   "metadata": {},
   "outputs": [],
   "source": [
    "clust_sample = clustering.add_labels(classif_sample, TEMPDIR, CONTROL_NAME, MUTATION_LOCI_ALLELES, KNOCKIN_LOCI_ALLELES, THREADS)"
   ]
  },
  {
   "cell_type": "code",
   "execution_count": 33,
   "metadata": {},
   "outputs": [
    {
     "name": "stdout",
     "output_type": "stream",
     "text": [
      "defaultdict(<class 'int'>, {1: 5000})\n"
     ]
    }
   ],
   "source": [
    "count = defaultdict(int)\n",
    "for samp in clust_sample:\n",
    "    count[samp[\"LABEL\"]] += 1\n",
    "print(count)"
   ]
  },
  {
   "cell_type": "code",
   "execution_count": 23,
   "metadata": {},
   "outputs": [],
   "source": [
    "allele = \"control\"\n",
    "import midsv\n",
    "cssplits_sample = [cs[\"CSSPLIT\"].split(\",\") for cs in classif_sample if cs[\"ALLELE\"] == allele]\n",
    "midsv_control = midsv.read_jsonl((Path(TEMPDIR, \"midsv\", f\"{CONTROL_NAME}_{allele}.jsonl\")))\n",
    "cssplits_control = [cs[\"CSSPLIT\"].split(\",\") for cs in midsv_control]\n",
    "mutation_loci: dict[str, set[int]] = MUTATION_LOCI_ALLELES[allele]\n",
    "knockin_loci = set()\n",
    "if allele in KNOCKIN_LOCI_ALLELES:\n",
    "    knockin_loci = KNOCKIN_LOCI_ALLELES[allele]\n"
   ]
  },
  {
   "cell_type": "code",
   "execution_count": 24,
   "metadata": {},
   "outputs": [
    {
     "name": "stdout",
     "output_type": "stream",
     "text": [
      "True\n",
      "set()\n"
     ]
    }
   ],
   "source": [
    "print(828 in mutation_loci[\"sub\"])\n",
    "print(knockin_loci)"
   ]
  },
  {
   "cell_type": "code",
   "execution_count": 25,
   "metadata": {},
   "outputs": [],
   "source": [
    "cssplits_sample = _compress_insertion(cssplits_sample)\n",
    "cssplits_control = _compress_insertion(cssplits_control)\n",
    "mutation_loci_transposed = _transpose_mutation_loci(mutation_loci, cssplits_sample)\n",
    "cssplits_mutation_loci_sample = _extract_cssplits_in_mutation_by_3mer(cssplits_sample, mutation_loci_transposed)\n",
    "cssplits_mutation_loci_control = _extract_cssplits_in_mutation_by_3mer(cssplits_control, mutation_loci_transposed)\n",
    "mutation_score = make_score(cssplits_mutation_loci_sample, cssplits_mutation_loci_control, knockin_loci)\n",
    "scores_sample = _annotate_score(cssplits_mutation_loci_sample, mutation_score)\n",
    "scores_control = _annotate_score(cssplits_mutation_loci_control, mutation_score)\n",
    "labels = return_labels(scores_sample, scores_control)\n"
   ]
  },
  {
   "cell_type": "code",
   "execution_count": 26,
   "metadata": {},
   "outputs": [
    {
     "name": "stdout",
     "output_type": "stream",
     "text": [
      "Counter({1: 5000})\n"
     ]
    }
   ],
   "source": [
    "from collections import defaultdict\n",
    "from collections import Counter\n",
    "print(Counter(labels))"
   ]
  },
  {
   "cell_type": "code",
   "execution_count": 27,
   "metadata": {},
   "outputs": [
    {
     "name": "stdout",
     "output_type": "stream",
     "text": [
      "{'sub', 'del'}\n",
      "{}\n"
     ]
    }
   ],
   "source": [
    "print(mutation_loci_transposed[idx_mutation])\n",
    "print(mutation_score[idx_mutation])"
   ]
  },
  {
   "cell_type": "code",
   "execution_count": 28,
   "metadata": {},
   "outputs": [
    {
     "name": "stdout",
     "output_type": "stream",
     "text": [
      "defaultdict(<class 'int'>, {'=G': 2503, '*GT': 2476, '*GA': 4, 'N': 8, '-G': 9})\n"
     ]
    }
   ],
   "source": [
    "count = defaultdict(int)\n",
    "for samp in cssplits_sample:\n",
    "    count[samp[idx_mutation]] += 1\n",
    "print(count)"
   ]
  },
  {
   "cell_type": "code",
   "execution_count": 29,
   "metadata": {},
   "outputs": [
    {
     "name": "stdout",
     "output_type": "stream",
     "text": [
      "{'sub', 'del'}\n",
      "=G\n",
      "*GT\n"
     ]
    }
   ],
   "source": [
    "print(mutation_loci_transposed[idx_mutation])\n",
    "cssplits = cssplits_sample[0]\n",
    "print(cssplits[idx_mutation])\n",
    "cssplits = cssplits_sample[1]\n",
    "print(cssplits[idx_mutation])"
   ]
  },
  {
   "cell_type": "code",
   "execution_count": 38,
   "metadata": {},
   "outputs": [
    {
     "name": "stdout",
     "output_type": "stream",
     "text": [
      "2845\n",
      "2845\n",
      "2843\n"
     ]
    }
   ],
   "source": [
    "print(len(cssplits_sample[0]))\n",
    "print(len(mutation_loci_transposed))\n",
    "print(len(cssplits_mutation_loci_sample[0]))"
   ]
  },
  {
   "attachments": {},
   "cell_type": "markdown",
   "metadata": {},
   "source": [
    "- 配列長が違うとデバックがしにくいので、`_extract_cssplits_in_mutation_by_3mer`の配列長を揃えます"
   ]
  },
  {
   "cell_type": "code",
   "execution_count": 50,
   "metadata": {},
   "outputs": [],
   "source": [
    "def _extract_cssplits_in_mutation_by_3mer(cssplits_sample: list[list], mutation_loci_transposed: list[set[str]]) -> list[list]:\n",
    "    cssplits_mutation = []\n",
    "    for cssplits in cssplits_sample:\n",
    "        cs_mutation = [\"N,N,N\"]\n",
    "        for i in range(1, len(cssplits) - 1):\n",
    "            if mutation_loci_transposed[i] == set():\n",
    "                cs_mutation.append(\"N,N,N\")\n",
    "                continue\n",
    "            mutation = \"\"\n",
    "            if cssplits[i].startswith(\"+\"):\n",
    "                mutation = \"ins\"\n",
    "            elif cssplits[i].startswith(\"-\"):\n",
    "                mutation = \"del\"\n",
    "            elif cssplits[i].startswith(\"*\"):\n",
    "                mutation = \"sub\"\n",
    "            if mutation in mutation_loci_transposed[i]:\n",
    "                kmer = \",\".join([cssplits[i - 1], cssplits[i], cssplits[i + 1]])\n",
    "                cs_mutation.append(kmer)\n",
    "            else:\n",
    "                cs_mutation.append(\"N,N,N\")\n",
    "        cs_mutation.append(\"N,N,N\")\n",
    "        cssplits_mutation.append(cs_mutation)\n",
    "    return cssplits_mutation\n"
   ]
  },
  {
   "cell_type": "code",
   "execution_count": 51,
   "metadata": {},
   "outputs": [],
   "source": [
    "cssplits_mutation_loci_sample = _extract_cssplits_in_mutation_by_3mer(cssplits_sample, mutation_loci_transposed)\n",
    "cssplits_mutation_loci_control = _extract_cssplits_in_mutation_by_3mer(cssplits_control, mutation_loci_transposed)"
   ]
  },
  {
   "cell_type": "code",
   "execution_count": 52,
   "metadata": {},
   "outputs": [
    {
     "name": "stdout",
     "output_type": "stream",
     "text": [
      "2845\n",
      "2845\n",
      "2845\n"
     ]
    }
   ],
   "source": [
    "print(len(cssplits_sample[0]))\n",
    "print(len(mutation_loci_transposed))\n",
    "print(len(cssplits_mutation_loci_sample[0]))"
   ]
  },
  {
   "cell_type": "code",
   "execution_count": 68,
   "metadata": {},
   "outputs": [
    {
     "name": "stdout",
     "output_type": "stream",
     "text": [
      "defaultdict(<class 'int'>, {'N,N,N': 2511, '=C,*GT,=T': 2476, '=C,*GA,=T': 4, '=C,-G,=T': 9})\n"
     ]
    }
   ],
   "source": [
    "count = defaultdict(int)\n",
    "for samp in cssplits_mutation_loci_sample:\n",
    "    count[samp[idx_mutation]] += 1\n",
    "print(count)"
   ]
  },
  {
   "attachments": {},
   "cell_type": "markdown",
   "metadata": {},
   "source": [
    "- おお！なぜか`cssplits_mutation_loci_sample`で点変異が`N,N,N`に置換されている！"
   ]
  },
  {
   "cell_type": "code",
   "execution_count": 69,
   "metadata": {},
   "outputs": [
    {
     "name": "stdout",
     "output_type": "stream",
     "text": [
      "{'sub', 'del'}\n"
     ]
    }
   ],
   "source": [
    "print(mutation_loci_transposed[idx_mutation])"
   ]
  },
  {
   "cell_type": "code",
   "execution_count": 70,
   "metadata": {},
   "outputs": [],
   "source": [
    "def _extract_cssplits_in_mutation_by_3mer(cssplits: list[list[str]], mutation_loci_transposed: list[set[str]]) -> list[list[str]]:\n",
    "    cssplits_mutation = []\n",
    "    for cssplit in cssplits:\n",
    "        cs_mutation = [\"N,N,N\"]\n",
    "        for i in range(1, len(cssplit) - 1):\n",
    "            if mutation_loci_transposed[i] == set():\n",
    "                cs_mutation.append(\"N,N,N\")\n",
    "                continue\n",
    "            mutation = \"\"\n",
    "            if cssplit[i].startswith(\"+\"):\n",
    "                mutation = \"ins\"\n",
    "            elif cssplit[i].startswith(\"-\"):\n",
    "                mutation = \"del\"\n",
    "            elif cssplit[i].startswith(\"*\"):\n",
    "                mutation = \"sub\"\n",
    "            if mutation in mutation_loci_transposed[i]:\n",
    "                kmer = \",\".join([cssplit[i - 1], cssplit[i], cssplit[i + 1]])\n",
    "                cs_mutation.append(kmer)\n",
    "            else:\n",
    "                cs_mutation.append(\"N,N,N\")\n",
    "        cs_mutation.append(\"N,N,N\")\n",
    "        cssplits_mutation.append(cs_mutation)\n",
    "    return cssplits_mutation"
   ]
  },
  {
   "cell_type": "code",
   "execution_count": 76,
   "metadata": {},
   "outputs": [
    {
     "name": "stdout",
     "output_type": "stream",
     "text": [
      "{'sub', 'del'}\n",
      "\n",
      "False\n"
     ]
    }
   ],
   "source": [
    "cssplit = cssplits_sample[0]\n",
    "i = idx_mutation\n",
    "print(mutation_loci_transposed[i])\n",
    "mutation = \"\"\n",
    "if cssplit[i].startswith(\"+\"):\n",
    "    mutation = \"ins\"\n",
    "elif cssplit[i].startswith(\"-\"):\n",
    "    mutation = \"del\"\n",
    "elif cssplit[i].startswith(\"*\"):\n",
    "    mutation = \"sub\"\n",
    "print(mutation)\n",
    "print(mutation in mutation_loci_transposed[i])"
   ]
  },
  {
   "cell_type": "code",
   "execution_count": 72,
   "metadata": {},
   "outputs": [
    {
     "name": "stdout",
     "output_type": "stream",
     "text": [
      "defaultdict(<class 'int'>, {'N,N,N': 2511, '=C,*GT,=T': 2476, '=C,*GA,=T': 4, '=C,-G,=T': 9})\n"
     ]
    }
   ],
   "source": [
    "count = defaultdict(int)\n",
    "for samp in cssplits_mutation_loci_sample:\n",
    "    count[samp[idx_mutation]] += 1\n",
    "print(count)"
   ]
  },
  {
   "cell_type": "code",
   "execution_count": 77,
   "metadata": {},
   "outputs": [
    {
     "name": "stdout",
     "output_type": "stream",
     "text": [
      "defaultdict(<class 'int'>, {'N,N,N': 9968, '=C,-G,=T': 17, '=C,*GA,=T': 7, '=C,*GT,=T': 8})\n"
     ]
    }
   ],
   "source": [
    "count = defaultdict(int)\n",
    "for samp in cssplits_mutation_loci_control:\n",
    "    count[samp[idx_mutation]] += 1\n",
    "print(count)"
   ]
  },
  {
   "cell_type": "code",
   "execution_count": 78,
   "metadata": {},
   "outputs": [],
   "source": [
    "from __future__ import annotations\n",
    "\n",
    "from collections import Counter\n",
    "\n",
    "\n",
    "def _call_count(cssplits: list[list[str]]) -> list[dict[str, int]]:\n",
    "    count_kmer = []\n",
    "    for cs in list(zip(*cssplits)):\n",
    "        count_kmer.append(dict(Counter(cs)))\n",
    "    return count_kmer\n",
    "\n",
    "\n",
    "def _call_percent(counts: list[dict[str, int]]) -> list[dict[str, float]]:\n",
    "    cssplit_percent = []\n",
    "    coverage = sum(counts[0].values())\n",
    "    for count in counts:\n",
    "        percent = {k: v / coverage * 100 for k, v in count.items()}\n",
    "        cssplit_percent.append(percent)\n",
    "    return cssplit_percent\n",
    "\n",
    "\n",
    "def _subtract_percentage(percent_control, percent_sample, knockin_loci: set(int)) -> list[dict]:\n",
    "    sample_subtracted = []\n",
    "    for i, (cont, samp) in enumerate(zip(percent_control, percent_sample)):\n",
    "        if i in knockin_loci:\n",
    "            sample_subtracted.append(dict(samp))\n",
    "            continue\n",
    "        samp = Counter(samp)\n",
    "        samp.subtract(Counter(cont))\n",
    "        sample_subtracted.append(dict(samp))\n",
    "    return sample_subtracted\n",
    "\n",
    "\n",
    "def _discard_common_error(percent_subtraction, threshold=0.5) -> list[dict]:\n",
    "    percent_discarded = []\n",
    "    for samp in percent_subtraction:\n",
    "        remained = {k: v for k, v in samp.items() if v > threshold}\n",
    "        percent_discarded.append(remained)\n",
    "    return percent_discarded\n",
    "\n",
    "\n",
    "def _discard_match_and_n(percent_discarded) -> list[dict]:\n",
    "    mutation_score_discarded = [dict() for _ in range(len(percent_discarded))]\n",
    "    for i, mutation_percent in enumerate(percent_discarded):\n",
    "        if mutation_percent == {} or \"\" in mutation_percent:\n",
    "            continue\n",
    "        for mutation, percent in mutation_percent.items():\n",
    "            mutation_center = mutation.split(\",\")[1]\n",
    "            if mutation_center.startswith(\"=\") or mutation_center == (\"N\"):\n",
    "                continue\n",
    "            mutation_score_discarded[i].update({mutation: percent})\n",
    "    return mutation_score_discarded\n",
    "\n",
    "\n",
    "###############################################################################\n",
    "# main\n",
    "###############################################################################\n",
    "\n",
    "\n",
    "def make_score(cssplits_control, cssplits_sample, knockin_loci: set(int)) -> list[dict[str, float]]:\n",
    "    counts_control = _call_count(cssplits_control)\n",
    "    counts_sample = _call_count(cssplits_sample)\n",
    "    percent_control = _call_percent(counts_control)\n",
    "    percent_sample = _call_percent(counts_sample)\n",
    "    percent_subtraction = _subtract_percentage(percent_control, percent_sample, knockin_loci)\n",
    "    percent_discarded = _discard_common_error(percent_subtraction, 0.5)\n",
    "    mutation_score = _discard_match_and_n(percent_discarded)\n",
    "    return mutation_score\n"
   ]
  },
  {
   "cell_type": "code",
   "execution_count": 84,
   "metadata": {},
   "outputs": [],
   "source": [
    "cssplits_control, cssplits_sample = cssplits_mutation_loci_control, cssplits_mutation_loci_sample\n",
    "counts_control = _call_count(cssplits_control)\n",
    "counts_sample = _call_count(cssplits_sample)\n",
    "percent_control = _call_percent(counts_control)\n",
    "percent_sample = _call_percent(counts_sample)\n",
    "percent_subtraction = _subtract_percentage(percent_control, percent_sample, knockin_loci)\n",
    "percent_discarded = _discard_common_error(percent_subtraction, 0.5)\n",
    "mutation_score = _discard_match_and_n(percent_discarded)\n"
   ]
  },
  {
   "cell_type": "code",
   "execution_count": 85,
   "metadata": {},
   "outputs": [
    {
     "name": "stdout",
     "output_type": "stream",
     "text": [
      "{'=C,*GT,=T': 49.44}\n"
     ]
    }
   ],
   "source": [
    "print(percent_discarded[idx_mutation])"
   ]
  },
  {
   "cell_type": "code",
   "execution_count": 86,
   "metadata": {},
   "outputs": [
    {
     "name": "stdout",
     "output_type": "stream",
     "text": [
      "{'=C,*GT,=T': 49.44}\n"
     ]
    }
   ],
   "source": [
    "print(mutation_score[idx_mutation])"
   ]
  },
  {
   "cell_type": "code",
   "execution_count": 83,
   "metadata": {},
   "outputs": [
    {
     "name": "stdout",
     "output_type": "stream",
     "text": [
      "{}\n"
     ]
    }
   ],
   "source": [
    "mutation_score = make_score(cssplits_mutation_loci_sample, cssplits_mutation_loci_control, knockin_loci)\n",
    "print(mutation_score[idx_mutation])"
   ]
  },
  {
   "attachments": {},
   "cell_type": "markdown",
   "metadata": {},
   "source": [
    "- `mutation_score`に点変異の情報が乗っていない！？\n",
    "- mutation_scoreの引数が逆だったのが原因です… しょうもない…"
   ]
  },
  {
   "cell_type": "code",
   "execution_count": 87,
   "metadata": {},
   "outputs": [],
   "source": [
    "def make_score(cssplits_sample, cssplits_control, knockin_loci: set(int)) -> list[dict[str, float]]:\n",
    "    counts_sample = _call_count(cssplits_sample)\n",
    "    counts_control = _call_count(cssplits_control)\n",
    "    percent_sample = _call_percent(counts_sample)\n",
    "    percent_control = _call_percent(counts_control)\n",
    "    percent_subtraction = _subtract_percentage(percent_control, percent_sample, knockin_loci)\n",
    "    percent_discarded = _discard_common_error(percent_subtraction, 0.5)\n",
    "    mutation_score = _discard_match_and_n(percent_discarded)\n",
    "    return mutation_score\n"
   ]
  },
  {
   "cell_type": "code",
   "execution_count": 88,
   "metadata": {},
   "outputs": [
    {
     "name": "stdout",
     "output_type": "stream",
     "text": [
      "{'=C,*GT,=T': 49.44}\n"
     ]
    }
   ],
   "source": [
    "mutation_score = make_score(cssplits_mutation_loci_sample, cssplits_mutation_loci_control, knockin_loci)\n",
    "print(mutation_score[idx_mutation])"
   ]
  },
  {
   "cell_type": "code",
   "execution_count": 89,
   "metadata": {},
   "outputs": [
    {
     "data": {
      "text/plain": [
       "Counter({4: 2524, 1: 2422, 2: 54})"
      ]
     },
     "execution_count": 89,
     "metadata": {},
     "output_type": "execute_result"
    }
   ],
   "source": [
    "scores_sample = _annotate_score(cssplits_mutation_loci_sample, mutation_score)\n",
    "scores_control = _annotate_score(cssplits_mutation_loci_control, mutation_score)\n",
    "labels = return_labels(scores_sample, scores_control)\n",
    "Counter(labels)"
   ]
  },
  {
   "attachments": {},
   "cell_type": "markdown",
   "metadata": {},
   "source": [
    "- とりあえず50％に分けることができるようになりました\n",
    "- 引数のミスは命取りですね…\n",
    "- `mutation_score`の引数の取り違えを直して、再度実行します"
   ]
  },
  {
   "cell_type": "code",
   "execution_count": 90,
   "metadata": {},
   "outputs": [
    {
     "name": "stderr",
     "output_type": "stream",
     "text": [
      "misc/data/tyr_control.fq.gz is now processing...\n",
      "misc/data/tyr_albino_50%.fq.gz is now processing...\n"
     ]
    },
    {
     "name": "stdout",
     "output_type": "stream",
     "text": [
      "Classify...\n",
      "Clustering...\n",
      "Consensus call...\n"
     ]
    },
    {
     "name": "stderr",
     "output_type": "stream",
     "text": [
      "misc/data/tyr_albino_10%.fq.gz is now processing...\n"
     ]
    },
    {
     "name": "stdout",
     "output_type": "stream",
     "text": [
      "Classify...\n",
      "Clustering...\n",
      "Consensus call...\n"
     ]
    },
    {
     "name": "stderr",
     "output_type": "stream",
     "text": [
      "misc/data/tyr_albino_01%.fq.gz is now processing...\n"
     ]
    },
    {
     "name": "stdout",
     "output_type": "stream",
     "text": [
      "Classify...\n",
      "Clustering...\n",
      "Consensus call...\n"
     ]
    },
    {
     "name": "stderr",
     "output_type": "stream",
     "text": [
      "Finished! Open DAJINResults/batch_tyr_50_10_01 to see the report.\n",
      "\n",
      "real\t8m17.320s\n",
      "user\t38m33.722s\n",
      "sys\t9m1.519s\n"
     ]
    }
   ],
   "source": [
    "%%bash\n",
    "rm -rf DAJINResults/batch_tyr_50_10_01\n",
    "rm -rf DAJINResults/.tempdir/batch_tyr_50_10_01\n",
    "time DAJIN2 batch -f misc/data/design_batch_tyr_50_10_01.csv"
   ]
  },
  {
   "attachments": {
    "image.png": {
     "image/png": "[encoded data removed]"
    }
   },
   "cell_type": "markdown",
   "metadata": {},
   "source": [
    "- 1%の点変異も検出できていました\n",
    "\n",
    "![image.png](attachment:image.png)"
   ]
  },
  {
   "cell_type": "code",
   "execution_count": 91,
   "metadata": {},
   "outputs": [
    {
     "name": "stderr",
     "output_type": "stream",
     "text": [
      "tests/data/knockout/test_barcode30.fq.gz is now processing...\n",
      "tests/data/knockout/test_barcode25.fq.gz is now processing...\n"
     ]
    },
    {
     "name": "stdout",
     "output_type": "stream",
     "text": [
      "Classify...\n",
      "Clustering...\n",
      "Consensus call...\n"
     ]
    },
    {
     "name": "stderr",
     "output_type": "stream",
     "text": [
      "Finished! Open DAJINResults/single-stx2deletion to see the report.\n",
      "\n",
      "real\t3m42.498s\n",
      "user\t46m54.780s\n",
      "sys\t3m30.986s\n"
     ]
    }
   ],
   "source": [
    "%%bash\n",
    "rm -rf DAJINResults/single-stx2deletion\n",
    "rm -rf DAJINResults/.tempdir/single-stx2deletion\n",
    "\n",
    "time DAJIN2 \\\n",
    "    --name single-stx2deletion \\\n",
    "    --sample \"tests/data/knockout/test_barcode25.fq.gz\" \\\n",
    "    --control \"tests/data/knockout/test_barcode30.fq.gz\" \\\n",
    "    --allele \"tests/data/knockout/design_stx2.fa\" \\\n",
    "    --genome mm10 \\\n",
    "    --threads 10"
   ]
  },
  {
   "attachments": {
    "image.png": {
     "image/png": "[encoded data removed]"
    }
   },
   "cell_type": "markdown",
   "metadata": {},
   "source": [
    "- きちんと3アレルに分かれています\n",
    "- コンセンサス配列も大丈夫そうでした\n",
    "\n",
    "![image.png](attachment:image.png)"
   ]
  },
  {
   "cell_type": "code",
   "execution_count": 92,
   "metadata": {},
   "outputs": [
    {
     "name": "stderr",
     "output_type": "stream",
     "text": [
      "examples/flox-cables2/AyabeTask1/barcode42.fq.gz is now processing...\n",
      "examples/flox-cables2/AyabeTask1/barcode31.fq.gz is now processing...\n"
     ]
    },
    {
     "name": "stdout",
     "output_type": "stream",
     "text": [
      "Classify...\n",
      "Clustering...\n",
      "Consensus call...\n"
     ]
    },
    {
     "name": "stderr",
     "output_type": "stream",
     "text": [
      "Finished! Open DAJINResults/single-ayabetask1 to see the report.\n",
      "\n",
      "real\t1m35.177s\n",
      "user\t18m4.875s\n",
      "sys\t1m52.317s\n"
     ]
    }
   ],
   "source": [
    "%%bash\n",
    "rm -rf DAJINResults/single-ayabetask1\n",
    "rm -rf DAJINResults/.tempdir/single-ayabetask1\n",
    "\n",
    "time DAJIN2 \\\n",
    "    --name single-ayabetask1 \\\n",
    "    --sample examples/flox-cables2/AyabeTask1/barcode31.fq.gz \\\n",
    "    --control examples/flox-cables2/AyabeTask1/barcode42.fq.gz \\\n",
    "    --allele examples/flox-cables2/AyabeTask1/design_cables2.fa \\\n",
    "    --genome mm10 \\\n",
    "    --threads 10"
   ]
  },
  {
   "attachments": {
    "image.png": {
     "image/png": "[encoded data removed]"
    }
   },
   "cell_type": "markdown",
   "metadata": {},
   "source": [
    "- Right-loxpこそありませんが、おおむね大丈夫です\n",
    "\n",
    "![image.png](attachment:image.png)"
   ]
  },
  {
   "attachments": {},
   "cell_type": "markdown",
   "metadata": {},
   "source": [
    "- すこしデバッグします"
   ]
  },
  {
   "cell_type": "code",
   "execution_count": 100,
   "metadata": {},
   "outputs": [
    {
     "name": "stdout",
     "output_type": "stream",
     "text": [
      "3\n",
      "242\n"
     ]
    }
   ],
   "source": [
    "print(len(mutation_loci))\n",
    "print(sum(len(v) for v in mutation_loci.values()))"
   ]
  },
  {
   "cell_type": "code",
   "execution_count": 105,
   "metadata": {},
   "outputs": [],
   "source": [
    "labels_all = [5,5,5]\n",
    "max_label = 5\n",
    "labels = [1] * len(classif_sample)\n",
    "labels_reorder = _reorder_labels(labels, start=max_label)\n",
    "max_label = max(labels_reorder)\n",
    "labels_all.extend(labels_reorder)"
   ]
  },
  {
   "cell_type": "code",
   "execution_count": 106,
   "metadata": {},
   "outputs": [
    {
     "name": "stdout",
     "output_type": "stream",
     "text": [
      "[6, 6, 6, 6, 6, 6, 6, 6, 6, 6]\n",
      "[5, 5, 5, 6, 6, 6, 6, 6, 6, 6]\n"
     ]
    }
   ],
   "source": [
    "print(labels_reorder[:10])\n",
    "print(labels_all[:10])"
   ]
  },
  {
   "cell_type": "code",
   "execution_count": 108,
   "metadata": {},
   "outputs": [
    {
     "data": {
      "text/plain": [
       "False"
      ]
     },
     "execution_count": 108,
     "metadata": {},
     "output_type": "execute_result"
    }
   ],
   "source": [
    "mutation_loci[\"del\"] == mutation_loci[\"ins\"] == mutation_loci[\"sub\"] == set()"
   ]
  },
  {
   "cell_type": "code",
   "execution_count": 113,
   "metadata": {},
   "outputs": [
    {
     "name": "stdout",
     "output_type": "stream",
     "text": [
      "False\n",
      "<class 'set'>\n",
      "<class 'set'>\n"
     ]
    }
   ],
   "source": [
    "x = {\"ins\": set(), \"del\": set(), \"sub\": set()}\n",
    "print(x[\"del\"] == x[\"ins\"] == x[\"sub\"] == {})\n",
    "y = {i for i in range(10)}\n",
    "print(type(y))\n",
    "print(type(mutation_loci[\"del\"]))"
   ]
  },
  {
   "cell_type": "markdown",
   "metadata": {},
   "source": [
    "# 👉👉👉 いまここ 👈👈👈"
   ]
  },
  {
   "cell_type": "code",
   "execution_count": null,
   "metadata": {},
   "outputs": [],
   "source": []
  },
  {
   "attachments": {},
   "cell_type": "markdown",
   "metadata": {},
   "source": [
    "# 👌👌👌 まとめ 👌👌👌\n"
   ]
  },
  {
   "attachments": {},
   "cell_type": "markdown",
   "metadata": {},
   "source": [
    "- TyrやStx2のクラスタリングがうまくいかない原因を探索しました\n",
    "    - `make_score`の引数の順番を間違えていました(control -> sample)\n",
    "    - 引数の順番を正しく(sample -> control)に直しました\n",
    "- これまでで一番良い結果が得られました\n",
    "    - 唯一、Ayabetask1のright-loxpがなくなってしまいました\n",
    "    - 90%はできたので、いったん無視して次に行っても良いかもしれません"
   ]
  },
  {
   "attachments": {},
   "cell_type": "markdown",
   "metadata": {},
   "source": [
    "# 次に取り組むこと"
   ]
  },
  {
   "attachments": {},
   "cell_type": "markdown",
   "metadata": {},
   "source": [
    "+ GUIの見栄え\n",
    "+ igv.jsの起動\n",
    "+ VCFによる長鎖挿入・欠失情報の付与\n",
    "+ Figの作成\n",
    "\n",
    "### Lists\n",
    "\n",
    "+ ⬜ Insertionのなかにある変異を同定する手法を考案する\n",
    "+ ⬜ Ayabe-taks1のright_loxpがいまいちな理由を考察する\n",
    "+ ✅ 断端リードの扱いをどうするべきか\n",
    "+ ✅ `SV`の判定をconsensus callのあとにする\n",
    "+ ✅ Tyrの動作確認\n",
    "+ ✅ ayabe-task1のleft/right-loxpの検出\n",
    "+ ✅ mutation_lociをpreprocessで使用したものに変更する\n",
    "> + ⬜ `preprocess.correct_sequence_error.replace_atmark`のコードがわかりにくい\n",
    "    + テストを用意してリファクタリングする"
   ]
  },
  {
   "cell_type": "markdown",
   "metadata": {},
   "source": []
  }
 ],
 "metadata": {
  "kernelspec": {
   "display_name": "DAJIN2",
   "language": "python",
   "name": "python3"
  },
  "language_info": {
   "codemirror_mode": {
    "name": "ipython",
    "version": 3
   },
   "file_extension": ".py",
   "mimetype": "text/x-python",
   "name": "python",
   "nbconvert_exporter": "python",
   "pygments_lexer": "ipython3",
   "version": "3.10.6"
  },
  "orig_nbformat": 4,
  "vscode": {
   "interpreter": {
    "hash": "58e3ac748e2e63e6aff7f855a7cc6c53d89e428d446591c0d70cbd0714d60e27"
   }
  }
 },
 "nbformat": 4,
 "nbformat_minor": 2
}
