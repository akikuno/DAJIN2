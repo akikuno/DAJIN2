{
 "cells": [
  {
   "attachments": {},
   "cell_type": "markdown",
   "metadata": {},
   "source": [
    "# 今回の取り組み"
   ]
  },
  {
   "attachments": {},
   "cell_type": "markdown",
   "metadata": {},
   "source": [
    "- `extract_mutation_loci`の内部処理を可能な限りGeneratorに変更します\n",
    "- また、下記のエラーが出るようなので対応します\n",
    "  - `<class 'TypeError'> unhashable type: 'dict'`"
   ]
  },
  {
   "cell_type": "markdown",
   "metadata": {},
   "source": [
    "## いつものセットアップ"
   ]
  },
  {
   "cell_type": "code",
   "execution_count": 4,
   "metadata": {},
   "outputs": [
    {
     "name": "stdout",
     "output_type": "stream",
     "text": [
      "/mnt/d/Research/DAJIN2\n"
     ]
    }
   ],
   "source": [
    "# ルートディレクトリをPathに含めるおまじない\n",
    "import sys, os\n",
    "from pathlib import Path\n",
    "if Path(os.getcwd()).stem != \"DAJIN2\":\n",
    "    parent_path = str(Path(os.path.dirname(os.path.abspath(\"__file__\"))).parent.parent)\n",
    "    sys.path.append(parent_path)\n",
    "    os.chdir(parent_path)\n",
    "\n",
    "print(os.getcwd())\n",
    "sys.path.append(os.getcwd() + \"/\" + \"src\")"
   ]
  },
  {
   "cell_type": "code",
   "execution_count": 2,
   "metadata": {},
   "outputs": [],
   "source": [
    "%%bash\n",
    "pip uninstall -qy DAJIN2\n",
    "# pipの更新\n",
    "# pip install -q -U pip\n",
    "# pip install -q -U -r requirements.txt"
   ]
  },
  {
   "attachments": {},
   "cell_type": "markdown",
   "metadata": {},
   "source": [
    "# 実験"
   ]
  },
  {
   "cell_type": "code",
   "execution_count": 5,
   "metadata": {},
   "outputs": [
    {
     "name": "stdout",
     "output_type": "stream",
     "text": [
      "processing single-tyr50...\n"
     ]
    }
   ],
   "source": [
    "from __future__ import annotations\n",
    "\n",
    "import sys, os\n",
    "from pathlib import Path\n",
    "\n",
    "import hashlib\n",
    "from collections import defaultdict\n",
    "from pathlib import Path\n",
    "from importlib import reload\n",
    "\n",
    "from src.DAJIN2.core import preprocess, classification, clustering, consensus, report\n",
    "\n",
    "reload(preprocess)\n",
    "reload(classification)\n",
    "reload(clustering)\n",
    "reload(consensus)\n",
    "reload(report)\n",
    "\n",
    "#### # * Subset of Point mutation\n",
    "#### # 50 or 10 or 01%\n",
    "percent = \"50\"\n",
    "SAMPLE, CONTROL, ALLELE, NAME, GENOME, DEBUG, THREADS = (\n",
    "    f\"misc/data/tyr_albino_{percent}%.fq.gz\",\n",
    "    \"misc/data/tyr_control.fq.gz\",\n",
    "    \"misc/data/tyr_control.fasta\",\n",
    "    \"single-tyr50\",\n",
    "    \"mm10\",\n",
    "    True,\n",
    "    30,\n",
    ")\n",
    "\n",
    "\n",
    "######################################################################\n",
    "# Preprocessing\n",
    "######################################################################\n",
    "\n",
    "print(f\"processing {NAME}...\")\n",
    "\n",
    "SAMPLE = preprocess.format_inputs.convert_to_posix_path(SAMPLE)\n",
    "CONTROL = preprocess.format_inputs.convert_to_posix_path(CONTROL)\n",
    "ALLELE = preprocess.format_inputs.convert_to_posix_path(ALLELE)\n",
    "\n",
    "# ====================================================================\n",
    "# Varidate inputs\n",
    "# ====================================================================\n",
    "\n",
    "preprocess.validate_inputs.check_files(SAMPLE, CONTROL, ALLELE)\n",
    "TEMPDIR = Path(\"DAJINResults\", \".tempdir\", NAME)\n",
    "IS_CACHE_CONTROL = preprocess.validate_inputs.exists_cached_control(CONTROL, TEMPDIR)\n",
    "IS_CACHE_GENOME = preprocess.validate_inputs.exists_cached_genome(GENOME, TEMPDIR, IS_CACHE_CONTROL)\n",
    "UCSC_URL, GOLDENPATH_URL = None, None\n",
    "if GENOME and not IS_CACHE_GENOME:\n",
    "    UCSC_URL, GOLDENPATH_URL = preprocess.validate_inputs.check_and_fetch_genome(GENOME)\n",
    "\n",
    "# ====================================================================\n",
    "# Format inputs\n",
    "# ====================================================================\n",
    "SAMPLE_NAME = preprocess.format_inputs.extract_basename(SAMPLE)\n",
    "CONTROL_NAME = preprocess.format_inputs.extract_basename(CONTROL)\n",
    "FASTA_ALLELES = preprocess.format_inputs.dictionize_allele(ALLELE)\n",
    "THREADS = preprocess.format_inputs.update_threads(THREADS)\n",
    "\n",
    "preprocess.format_inputs.make_directories(TEMPDIR, SAMPLE_NAME, CONTROL_NAME)\n",
    "\n",
    "if GENOME:\n",
    "    GENOME_COODINATES = preprocess.format_inputs.fetch_coodinate(GENOME, UCSC_URL, FASTA_ALLELES[\"control\"])\n",
    "    CHROME_SIZE = preprocess.format_inputs.fetch_chrom_size(GENOME_COODINATES[\"chr\"], GENOME, GOLDENPATH_URL)\n",
    "    preprocess.format_inputs.cache_coodinates_and_chromsize(TEMPDIR, GENOME, GENOME_COODINATES, CHROME_SIZE)\n"
   ]
  },
  {
   "cell_type": "code",
   "execution_count": 12,
   "metadata": {},
   "outputs": [],
   "source": [
    "from __future__ import annotations\n",
    "\n",
    "import re\n",
    "from collections import defaultdict\n",
    "\n",
    "import numpy as np\n",
    "from scipy import stats\n",
    "from scipy.spatial import distance\n",
    "from sklearn.neighbors import LocalOutlierFactor\n",
    "\n",
    "\n",
    "def _count_indels(midsv_sample, len_sequence: int) -> dict[str, list[int]]:\n",
    "    count = {\"+\": [0] * len_sequence,\n",
    "            \"-\": [0] * len_sequence,\n",
    "            \"*\": [0] * len_sequence}\n",
    "    for samp in midsv_sample:\n",
    "        for i, cs in enumerate(samp[\"CSSPLIT\"].split(\",\")):\n",
    "            if cs.startswith(\"=\") or cs == \"N\" or re.search(r\"a|c|g|t|n\", cs):\n",
    "                continue\n",
    "            if cs.startswith(\"+\"):\n",
    "                # count[\"+\"][i] += len(cs.split(\"|\"))\n",
    "                count[\"+\"][i] += 1\n",
    "            elif cs.startswith(\"-\"):\n",
    "                count[\"-\"][i] += 1\n",
    "            elif cs.startswith(\"*\"):\n",
    "                count[\"*\"][i] += 1\n",
    "    return count\n",
    "\n",
    "\n",
    "def _split_kmer(indels: dict[str, list[int]], kmer: int = 10) -> dict[str, list[list[int]]]:\n",
    "    results = defaultdict(list)\n",
    "    center = kmer // 2\n",
    "    for mut, value in indels.items():\n",
    "        for i in range(len(value)):\n",
    "            if center <= i <= len(value) - center:\n",
    "                start = i - center\n",
    "                if kmer % 2 == 0:\n",
    "                    end = i + center\n",
    "                else:\n",
    "                    end = i + center + 1\n",
    "                results[mut].append(value[start : end])\n",
    "            else:\n",
    "                results[mut].append([0]*kmer)\n",
    "    return results\n",
    "\n",
    "\n",
    "def _extract_anomaly_loci(indels_kmer_sample: dict, indels_kmer_control: dict, coverage_sample: int, coverage_control: int) -> dict[str, set[int]]:\n",
    "    anomaly_loci = dict()\n",
    "    clf = LocalOutlierFactor(novelty=True, n_neighbors=5)\n",
    "    for key in indels_kmer_sample.keys():\n",
    "        loci = set()\n",
    "        values_control = np.array(indels_kmer_control[key]) / coverage_control\n",
    "        values_sample = np.array(indels_kmer_sample[key]) / coverage_sample\n",
    "        index = -1\n",
    "        for i, (value_control, value_sample) in enumerate(zip(values_control, values_sample)):\n",
    "            if i == index:\n",
    "                continue\n",
    "            clf.fit(value_control.reshape(-1, 1))\n",
    "            pred = clf.predict(value_sample.reshape(-1, 1))\n",
    "            if pred[5] == -1:\n",
    "                loci.add(i)\n",
    "            # If the next base is not -1, do not validate the next base because the next base is not an outlier.\n",
    "            if pred[6] == 1:\n",
    "                index = i + 1\n",
    "        anomaly_loci.update({key: loci})\n",
    "    return anomaly_loci\n",
    "\n",
    "\n",
    "def _extract_dissimilar_loci(indels_kmer_sample: dict[str, list[list[int]]], indels_kmer_control: dict[str, list[list[int]]]) -> dict[str, set]:\n",
    "    results = dict()\n",
    "    for mut in indels_kmer_sample:\n",
    "        cossim = [distance.cosine(x, y) for x, y in zip(indels_kmer_sample[mut], indels_kmer_control[mut])]\n",
    "        pvalues = [stats.ttest_ind(x, y, equal_var=False)[1] for x, y in zip(indels_kmer_sample[mut], indels_kmer_control[mut])]\n",
    "        # if pvalue == nan, samples and controls are exactly same.\n",
    "        cossim_pval_false = [cossim if pvalue > 0.05 or np.isnan(pvalue) else 1 for cossim, pvalue in zip(cossim, pvalues)]\n",
    "        dissimilar_loci = {i for i, x in enumerate(cossim_pval_false) if x > 0.05}\n",
    "        results.update({mut: dissimilar_loci})\n",
    "    return results\n",
    "\n",
    "\n",
    "def _transpose_mutation_loci(mutation_loci, len_sequence):\n",
    "    mutation_loci_transposed = [set() for _ in range(len_sequence)]\n",
    "    for mut, idx_mutation in mutation_loci.items():\n",
    "        for i, loci in enumerate(mutation_loci_transposed):\n",
    "            if i in idx_mutation:\n",
    "                loci.add(mut)\n",
    "    return mutation_loci_transposed\n",
    "\n",
    "###########################################################\n",
    "# main\n",
    "###########################################################\n",
    "\n",
    "\n",
    "def extract_mutation_loci(midsv_sample_alleles, midsv_control_alleles) -> dict[str, list[set[str]]]:\n",
    "    MUTATION_LOCI_ALLELES = dict()\n",
    "    for allele in midsv_sample_alleles:\n",
    "        midsv_sample = midsv_sample_alleles[allele]\n",
    "        midsv_control = midsv_control_alleles[allele]\n",
    "        len_sequence = len(midsv_sample_alleles[allele][0][\"CSSPLIT\"].split(\",\"))\n",
    "        indels_sample = _count_indels(midsv_sample, len_sequence)\n",
    "        indels_control = _count_indels(midsv_control, len_sequence)\n",
    "        indels_kmer_sample = _split_kmer(indels_sample, kmer = 10)\n",
    "        indels_kmer_control = _split_kmer(indels_control, kmer = 10)\n",
    "        anomaly_loci = _extract_anomaly_loci(indels_kmer_sample, indels_kmer_control, len(midsv_sample), len(midsv_control))\n",
    "        dissimilar_loci = _extract_dissimilar_loci(indels_kmer_sample, indels_kmer_control)\n",
    "        mutation_loci = dict()\n",
    "        for mut in anomaly_loci:\n",
    "            mutation_loci.update({mut: anomaly_loci[mut] & dissimilar_loci[mut]})\n",
    "        mutation_loci_transposed = _transpose_mutation_loci(mutation_loci, len_sequence)\n",
    "        MUTATION_LOCI_ALLELES.update({allele: mutation_loci_transposed})\n",
    "    return MUTATION_LOCI_ALLELES\n"
   ]
  },
  {
   "cell_type": "code",
   "execution_count": 13,
   "metadata": {},
   "outputs": [],
   "source": [
    "import pickle\n",
    "with open(Path(TEMPDIR, \"midsv\", f\"{CONTROL_NAME}.plk\"), 'rb') as p:\n",
    "        midsv_control_alleles = pickle.load(p)"
   ]
  },
  {
   "cell_type": "code",
   "execution_count": 14,
   "metadata": {},
   "outputs": [],
   "source": [
    "midsv_sample_alleles = preprocess.call_midsv(TEMPDIR, FASTA_ALLELES, SAMPLE_NAME)\n",
    "allele = \"control\"\n",
    "sequence = FASTA_ALLELES[allele]"
   ]
  },
  {
   "cell_type": "code",
   "execution_count": 15,
   "metadata": {},
   "outputs": [],
   "source": [
    "MUTATION_LOCI_ALLELES = dict()\n",
    "midsv_sample = midsv_sample_alleles[allele]\n",
    "midsv_control = midsv_control_alleles[allele]\n",
    "len_sequence = len(midsv_sample_alleles[allele][0][\"CSSPLIT\"].split(\",\"))\n",
    "indels_sample = _count_indels(midsv_sample, len_sequence)\n",
    "indels_control = _count_indels(midsv_control, len_sequence)\n",
    "indels_kmer_sample = _split_kmer(indels_sample, kmer = 10)\n",
    "indels_kmer_control = _split_kmer(indels_control, kmer = 10)\n",
    "anomaly_loci = _extract_anomaly_loci(indels_kmer_sample, indels_kmer_control, len(midsv_sample), len(midsv_control))\n",
    "dissimilar_loci = _extract_dissimilar_loci(indels_kmer_sample, indels_kmer_control)\n",
    "mutation_loci = dict()\n",
    "for mut in anomaly_loci:\n",
    "    mutation_loci.update({mut: anomaly_loci[mut] & dissimilar_loci[mut]})\n",
    "mutation_loci_transposed = _transpose_mutation_loci(mutation_loci, len_sequence)\n",
    "MUTATION_LOCI_ALLELES.update({allele: mutation_loci_transposed})\n"
   ]
  },
  {
   "cell_type": "code",
   "execution_count": 18,
   "metadata": {},
   "outputs": [
    {
     "name": "stdout",
     "output_type": "stream",
     "text": [
      "{'QNAME': '00077750-d7ab-4c73-ac65-8707d39936c2', 'CSSPLIT': '=T,=G,=C,=A,=T,=T,=G,=A,=A,=G,=C,=A,=G,=T,=T,=C,=A,=C,=C,+G|=A,=A,=A,=A,=T,=A,=A,=C,=A,=A,=A,=G,=T,=A,=A,=C,+A|=A,=A,=A,=G,=T,=A,=A,=G,=A,=T,=A,=T,=C,=T,=T,=T,=G,=G,=A,=A,=T,=A,=A,=T,=C,=A,=A,=T,=T,=C,=A,=A,=G,=A,=T,=A,=A,=T,=C,=A,=A,=G,=G,=A,=A,=A,=A,=A,=T,=G,=A,=G,=A,-G,=G,=C,=A,=A,=C,=T,=A,=T,=T,=T,=T,=A,=G,=A,=C,=T,=G,=A,=T,=T,=A,=C,=T,=T,=T,=T,=A,=T,=A,=A,=A,=A,=T,=A,=A,=A,=T,=A,=A,=G,=C,=T,=C,=A,=G,=C,=T,=T,=A,=G,=C,=C,*AG,*GA,=A,=T,=A,=T,=A,=A,=G,=C,=A,=A,=T,=A,=T,=T,=C,=T,=G,=A,=G,=T,=T,=C,=T,=G,=A,=A,=G,=A,=A,=A,=A,=A,=T,=T,=T,=T,=T,=G,=A,=C,=A,=A,=A,=A,=T,=G,=A,=G,=T,=T,=C,=T,=A,=T,=A,=A,=A,=T,=G,=T,=T,=A,=T,=T,=G,=T,=C,=T,=A,=C,=T,=T,=A,=T,=G,=A,=T,=C,=T,=C,=T,=A,=A,=A,=T,=A,=C,=A,=A,=C,=A,=G,=G,=C,=T,=T,=G,=T,=A,=T,=T,=C,=A,=G,=A,=A,=T,=C,=T,=A,=G,=A,=T,=G,=T,=T,=T,=C,=A,=T,=G,=A,=C,=C,=T,=T,=T,=A,=T,=T,=C,=A,=T,=A,=A,=G,=A,=G,=A,=T,=G,+A|+A|=A,=T,=G,=T,=A,=T,=T,=C,=T,=T,=G,=A,=T,=A,=C,=T,=A,=C,=T,=T,=C,=T,=C,=A,+T|+T|=T,=T,=T,*GA,=C,=A,=A,=A,=T,=T,=C,=C,=A,=A,=T,=T,=A,=T,=T,=A,=T,=T,=A,=A,=T,=T,=T,=C,=A,=T,=A,=T,+C|=C,=A,=A,=T,=T,=A,=G,=A,=A,=T,=A,=A,=T,=A,=T,=A,=T,=C,=T,=T,=C,=C,=T,=T,=C,=A,=A,=T,=T,=T,*AG,*GA,=T,=T,=A,=C,=C,=T,=C,=A,=C,=T,=A,=T,=G,=G,=G,=C,=T,=A,=T,=G,=T,=A,=C,=A,=A,=A,=C,=T,-C,=C,=A,=A,=G,-A,=A,=A,=A,=A,=G,=T,=T,=A,=G,=T,=C,=A,=T,=G,=T,=G,=C,=T,=T,=T,=G,=C,=A,=G,=A,=A,=G,=A,=T,=A,=A,=A,=A,=G,=C,=T,=T,=A,=G,=T,=G,=T,=A,=A,=A,=A,=C,=A,=G,=G,=C,=T,=G,=A,=G,=A,=G,=T,=A,=T,=T,=T,=G,=A,=T,=G,=T,=A,=A,=G,=A,=A,-G,=G,=G,=G,=A,=G,=T,=G,=G,=T,=T,=A,=T,=A,=T,=A,=G,=G,=T,=C,=T,=T,=A,=G,=C,=C,=A,=A,=A,=A,=C,=A,=T,=G,=T,=G,=A,=T,=A,=G,=T,=C,=A,=C,=T,=C,=C,=A,+G|=G,=G,=G,=G,=T,=T,=G,=C,=T,=G,=G,=A,=A,=A,=A,=G,=A,=A,=G,=T,=C,=T,=G,=T,=G,=A,=C,=A,=C,=T,=C,=A,=T,=T,=A,=A,=C,=C,=T,=A,=T,=T,=G,=G,=T,=G,=C,=A,=G,=A,=T,=T,=T,=T,=G,=T,=A,=T,=G,=A,=T,=C,=T,=A,=A,=A,=G,=G,=A,=G,=A,=A,=A,=A,=T,=G,=T,=T,=C,=T,=T,=G,=G,=C,=T,=G,=T,=T,=T,=T,=G,=T,=A,=T,=T,=G,=C,=C,=T,=T,=C,=T,=G,=T,=G,=G,=A,=G,=T,=T,=T,=C,=C,=A,=G,=A,=T,=C,=T,=C,=T,=G,=A,=T,=G,=G,=C,=C,=A,=T,=T,=T,=T,=C,=C,=T,=C,=G,=A,=G,=C,=C,=T,=G,=T,=G,=C,=C,=T,=C,=C,=T,=C,=T,=A,=A,=G,=A,=A,=C,=T,=T,=G,=T,=T,=G,=G,=C,=A,=A,=A,=A,=G,=A,=A,=T,=G,=C,=T,=G,=C,=C,=C,=A,=C,=C,=A,=T,=G,=G,=A,=T,=G,=G,=G,=T,=G,=A,=T,=G,=G,=G,=A,=G,=T,=C,=C,=C,=T,=G,+C|+A|=C,=G,=G,=C,=C,=A,=G,=C,=T,=T,=T,=C,=A,=G,=G,=C,=A,=G,=A,=G,=G,=T,=T,=C,=C,=T,=G,=C,=C,=A,=G,=G,=A,=T,=A,=T,=C,=C,=T,=T,=C,=T,=G,=T,=C,=C,=A,=G,=T,=G,=C,=A,=C,=C,=A,=T,=C,=T,=G,=G,=A,=C,=C,=T,=C,=A,=G,=T,=T,=C,=C,=C,=C,=T,=T,=C,=A,=A,=A,=G,=G,=G,=G,=T,=G,=G,=A,=T,=G,=A,=C,=C,=G,=T,=G,=A,=G,=T,=C,=C,=T,=G,=G,=C,=C,=C,=T,=C,=T,=G,=T,=G,=T,=T,=T,=T,=A,=T,=A,=A,=T,=A,=G,=G,=A,=C,=C,=T,=G,=C,=C,=A,=G,=T,=G,=C,=T,=C,=A,=G,=G,=C,=A,=A,=C,=T,=T,=C,=A,=T,=G,=G,=G,=T,=T,=T,=C,=A,=A,=C,=T,=G,=C,=G,=G,=A,=A,=A,=C,=T,=G,=T,=A,=A,=G,=T,=T,=T,=G,=G,=A,=T,=T,=T,=G,=G,=G,=G,=G,=C,=C,=C,=A,=A,=A,=T,=T,=G,=T,=A,=C,=A,=G,=A,=G,=A,=A,=G,=C,=G,=A,=G,=T,=C,=T,=T,=G,=A,=T,=T,=A,=G,=A,=A,*GA,=A,=A,=A,=C,=A,=T,=T,=T,=T,=T,=G,=A,=T,=T,=T,=G,=A,=G,=T,=G,=T,=C,=T,=C,=C,=G,=A,=A,=A,=A,=G,=A,=A,=T,=A,=A,=G,=T,=T,=C,+T|=T,=T,=T,=T,=C,*TC,*TC,=A,=C,=C,=T,=C,=A,=C,=T,=T,=T,=A,=G,=C,=A,=A,=A,=A,=C,=A,=T,=A,=C,=T,=A,=T,=C,=A,=G,=C,=T,=C,=A,=G,=T,=C,=T,=A,=T,=G,=T,=C,=A,=T,=C,=C,=C,+T|+A|=C,=A,=C,=A,=G,=G,=C,=A,=C,=C,=T,=A,=T,=G,=G,=C,=C,=A,=A,=A,=T,=G,=A,=A,=C,=A,=A,=T,=G,=G,=G,=T,=C,=A,=A,=C,=A,=C,=C,=C,=A,=T,=G,=T,=T,=T,=A,=A,=T,=G,=A,=T,=A,=T,=C,=A,=A,=C,=A,=T,=C,=T,=A,=C,=G,=A,=C,=C,=T,=C,=T,=T,=T,=G,=T,=A,=T,=G,=G,=A,=T,=G,=C,=A,=T,=T,=A,=C,=T,=A,=T,=G,=T,=G,=T,=C,=A,=A,=G,=G,=G,=A,=C,=A,=C,-A,=C,+T|+T|=T,=G,=C,=T,=T,=G,=G,=G,=G,=G,=C,=T,=C,=T,=G,=A,=A,=A,=T,=A,=T,=G,=G,=A,=G,=G,=G,=A,=C,=A,=T,=T,=G,=A,=T,=T,=T,=T,=G,=C,=C,=C,=A,=T,=G,=A,=A,=G,=C,=A,=C,=C,=A,=G,=G,=G,=T,=T,=T,=C,=T,=G,=C,=C,=T,=T,*GA,=G,=C,=A,=C,=A,=G,=A,=C,=T,=T,=T,=T,=C,=T,=T,=G,=T,=T,=A,=T,=T,=G,=T,=G,=G,=G,=A,=A,=C,=A,=A,=G,=A,=A,=A,=T,=T,=C,-G,=A,=G,*AG,*AC,*CT,=T,=A,=A,=C,=T,=G,=G,=G,=G,=A,=T,=G,=A,=G,=A,=A,=C,=T,-T,-C,*AG,=C,=T,=G,=T,=T,=C,=C,=A,=T,=A,=C,=T,=G,=G,=G,=A,=T,=T,=G,=G,=A,=G,=A,=G,=A,=T,=G,=C,=A,=G,=A,=A,=A,=A,=C,=T,=G,=T,=G,=A,=C,=A,=T,=T,=T,=G,=C,=A,=C,=A,=G,=A,=T,=G,=A,=G,=T,=A,=C,=T,=T,=G,=G,=G,=A,=G,=G,=T,=C,=G,=T,=C,=A,=C,=C,=C,=T,=G,=A,=A,=A,=A,=T,=C,=C,=T,=A,=A,=C,-T,-T,=A,=C,=T,=C,=A,=G,=C,=C,=C,=A,=G,=C,=A,=T,=C,=C,=T,=T,=C,=T,=T,=C,=T,=C,=C,=T,=C,=C,=T,=G,=G,=C,=A,-G,*GT,=T,=A,=A,=G,=A,=T,=G,=C,=A,=C,=T,=A,=T,=A,=T,-A,-G,=A,=G,=A,=G,=A,=G,=T,=T,=G,=C,=A,=A,=A,=G,=A,=C,=T,=G,=G,=T,=A,=C,=T,=T,=C,=A,=G,=C,=A,=G,=C,=C,=A,=C,=A,=T,=T,=T,=T,=C,=A,=T,=G,=C,=T,=C,=T,=G,=T,=G,=A,=G,=C,=A,=T,=C,=T,=C,=T,=G,=A,=T,=A,=A,=T,=A,=T,=C,=T,=C,=A,=G,*GA,*GA,=C,*AT,=G,+A|=A,=A,=A,=A,=T,=G,=T,=G,=C,=C,=T,=T,=A,=C,=T,=A,=A,=C,=A,=G,=A,=T,=G,=T,=T,=A,=A,=T,=G,=C,=T,=T,=C,=T,=T,=G,=A,=T,=T,=T,=C,=T,=T,=T,=T,=T,=C,=T,=C,=T,=T,=T,=T,=G,=A,=G,=A,=A,=C,=T,=C,=T,=T,=C,+A|=A,=A,=A,=G,=T,=T,=G,=T,=T,=A,=T,=T,=A,=A,=A,=C,=A,=A,=A,=T,=A,=T,=C,=T,=A,=T,=G,=T,=G,=C,=T,=T,=A,=T,=T,=T,=G,=T,=C,=T,=T,=A,=A,=T,=A,=T,=C,=T,=A,=A,=C,=A,=G,=C,=T,=T,=A,=G,=T,=T,=A,=G,=A,=T,=T,=T,=C,=T,=A,=A,=G,=C,=T,=G,=C,=T,=A,=T,=A,=A,=A,=C,-A,=A,=G,*GA,=A,=C,=T,=G,+A|+G|+A|=A,=T,=T,=G,=G,=T,=T,=C,=A,=C,=C,=A,=C,=T,=G,=T,=A,=T,=T,=G,=T,=T,=A,=G,=C,=A,=C,=C,=T,=C,=C,=T,=A,=T,=G,=G,=T,=A,=T,=C,=T,=G,=G,=A,=A,=T,=A,=A,=A,=C,=A,=G,=T,=A,=A,=C,=T,=C,=A,=G,=T,=T,=A,=T,=T,=T,=A,=A,=G,=A,=A,=T,=G,=G,=A,=T,=G,=A,=G,=A,=A,=A,-C,=C,=A,=G,=A,=T,=T,=A,=T,=C,=T,=T,=A,=G,=T,=T,=C,=A,=T,=G,=T,=T,=T,=C,=T,=G,=A,=G,=T,=A,=A,=T,=A,=T,=T,=A,=A,=A,=A,=T,=T,=A,=A,=T,=A,=T,=T,=A,=A,=C,=A,=G,=T,=A,=A,=A,=A,=T,=C,=C,=A,=T,=A,=A,=G,=T,=A,=T,=G,=C,=T,=A,=C,=T,=T,=T,=A,+A|+G|=A,=A,=A,=T,=A,=T,=A,=A,=A,=T,=C,=T,=C,=T,=G,=G,=C,=C,=A,=A,=A,=A,=C,=C,=A,=A,=G,=A,=C,=T,=T,=A,=T,=T,=A,=T,=T,=C,=A,=G,=G,=A,=T,=C,=T,=T,=C,-A,=A,=G,=A,=G,=A,=A,=A,=G,=T,=G,=C,=T,=G,=A,=G,=A,=T,=A,=A,=T,=T,=C,=A,=C,=T,=A,=A,=G,=T,=A,=T,=C,=A,=G,=A,=G,=A,=T,=G,=A,=C,=C,=T,=T,=T,=A,=T,=T,=A,=C,=A,=T,=G,=A,=T,=T,=G,=C,=C,=T,=G,=A,=T,=A,=G,=A,=A,=A,=A,=A,=A,=T,=G,=A,=T,=T,=A,=C,=A,=C,=A,=C,=A,=C,=A,=C,=A,=A,=A,=A,=A,=A,=A,=T,=C,=T,=T,=C,=A,=G,=T,=T,=G,=C,=T,=T,=A,=A,=A,=T,=T,=T,=T,=A,=A,=A,=C,=G,=T,=T,=G,=C,=T,=G,=A,=C,=T,=C,=T,=C,=A,=A,=A,=C,=A,=G,=T,=T,=A,=A,=G,=T,=A,=A,=T,=A,=A,=A,=A,=G,=A,=G,=T,=T,=A,=A,=A,=G,=C,=C,=T,=G,=C,=T,=G,=T,=G,=T,=A,=T,=T,=T,=A,=G,=A,=A,=T,=A,=T,=G,=T,=G,=A,=A,=T,=A,=C,=C,=T,=A,=T,=T,=G,+A|=A,=A,=A,=G,=A,=A,=T,=T,=T,=A,=T,=T,=G,=T,=A,=C,=A,=A,=T,=T,=A,=A,=T,=A,=T,=A,=A,=A,=C,=A,=G,=A,=C,=T,=T,=C,=T,=A,=T,=T,=T,=T,=A,=C,=A,=G,=T,=C,=A,=T,=A,=A,=G,=A,=T,=A,=C,=T,=A,=C,=T,=T,=A,=A,=T,=T,=T,=G,=T,=T,=A,=A,=A,=A,=A,=T,=T,=A,=T,=T,=T,=T,=T,=T,=G,=A,=T,=A,=G,=C,=A,=T,=T,=G,=T,=T,=G,=G,=T,=A,=A,=A,=T,=A,=G,=C,=A,=A,=A,=G,=G,=T,=G,=A,=T,=A,=T,=T,=T,=G,=C,=T,=A,=A,=T,=G,=A,=T,=T,=A,=C,=A,=A,-G,=G,=G,=C,=T,=G,=T,=C,=T,=G,=G,=C,=T,=A,=A,=C,+T|=T,=T,=A,=C,=G,=T,=T,=A,=T,=G,=T,=T,=C,=A,=G,=G,=G,=A,=G,=A,=A,=G,*AG,=C,+A|=A,=G,=T,=C,=C,=T,=T,=T,=T,=T,-A,=A,=G,=G,=A,=A,=T,*GA,=G,=G,=C,=A,=C,=T,=T,=T,=C,=T,=A,=A,=C,=T,=T,=T,=T,=T,=T,=T,=C,=T,=C,=T,=A,=G,=G,=A,=T,=G,=G,=A,=G,=A,=A,=A,=A,=A,=T,=T,=A,=G,=C,=C,=T,=T,=C,=T,=T,=C,=C,=T,=A,=C,=T,=T,=T,=A,=A,=A,=A,=A,=T,=G,=T,=T,=A,=G,=A,=C,=A,=T,=A,=G,=A,=A,=T,=T,=A,=A,=G,=G,=G,=A,=T,=T,=G,=T,=T,=A,=T,=T,=T,=T,=G,=A,=G,=A,=T,=T,=A,=A,=A,=T,=T,=T,=T,=C,=T,=T,=T,=T,=C,=T,=C,=C,=T,=A,=T,=T,=A,-T,=T,=T,=T,=T,=C,=C,=T,=C,=A,=T,=T,=C,=T,=G,=G,=A,=A,=T,=G,=G,=A,=A,=G,=C,=A,=A,=A,=A,=G,=A,=T,=G,=A,=A,=G,=A,=A,=A,=G,=A,=A,=A,=T,=A,=T,=A,=T,=G,=T,=T,-A,=A,=A,*TG,=T,=G,=T,=T,=T,=T,=C,=C,=T,=T,=T,=A,=A,=A,=T,=G,=A,=A,=C,=A,=C,=A,=A,=A,=T,=G,=T,=G,=A,=A,=A,=T,=A,=T,=G,=T,=T,=T,=T,=T,=C,=T,=G,=C,=C,=T,=A,=T,=C,=T,=T,=G,=T,=A,=A,=A,=A,=T,=T,=T,=T,=C,=T,=A,=T,=T,=G,=C,=A,=A,=C,=T,=A,=T,=T,=C,=T,=G,=A,=T,=T,=A,=C,=C,=A,=G,=T,=T,=C,=A,=A,=A,=T,-G,=G,=G,=G,=A,=A,=A,=A,=A,=A,=G,=A,=A,=C,=A,=T,=A,=G,=G,=C,=T,=A,=C,=C,=C,=C,=A,=C,=A,=C,=T,=T,=G,=A,=A,=A,=T,=T,=T,=T,=G,=A,=A,=A,=T,=A,=T,=G,=A,=A,=T,=G,=T,=C,=C,=T,=C,=T,=G,=T,=C,=T,=C,=T,=G,=C,=T,=G,=G,=T,=C,=T,=A,=A,=C,=A,=C,=T,=T,=C,=C,=A,=A,=A,=A,=T,=G,=G,=A,=A,=A,=C,=C,=T,=T,=T,=A,=A,=A,=G,=G,=G,=C,=C,=A,=C,=T,=G,=T,=A,=A,=A,=T,=T,=A,=C,=A,=G,=C,=T,=G,=C,=T,=A,=A,=T,=T,=C,=C,=T,=G,=G,=T,=G,=C,=C,=A,=A,=T,=G,=G,=T,=G,=A,=T,=A,=A,=G,=T,=G,=T,=T,=T,=A,=C,=T,=A,=A,=A,=C,=C,=T,=A,=G,=T,=G,=A,=G,=T,=A,=C,=T,=T,=T,=A,=T,=A,=G,=C,=A,=T,=G,=G,=G,=G,=C,=T,=C,=T,=G,=C,=T,=G,=C,-G,-A,=A,=G,=T,=A,=A,=C,=A,=T,=T,=G,=C,+T|=T,=G,=T,=A,=T,=A,=T,=T,=T,=T,=C,=A,=G,=T,=C,=A,=T,=T,=C,=T,=A,=C,=C,=T,=T,=A,=A,=T,=T,=C,=A,=T,=G,=A,=A,=C,=T,=G,=C,=A,=A,=A,=A,=C,=T,=C,=T,=C,=A,=T,=C,=T,=A,=G,=C,=T,=T,=T,=T,=T,=A,=C,=T,=T,=C,=T,=C,=T,=A,=G,=C,=T,=A,=T,=T,=G,=C,=T,=T,=T,+A|=A,=A,=G,=T,=T,=C,=T,=A,=T,=C,=A,=G,=G,=C,=T,=C,=A,=G,=G,=T,=G,=T,=G,=G,=A,=A,=T,=T,=C,=T,=C'}\n",
      "{'*', '-'}\n"
     ]
    }
   ],
   "source": [
    "print(midsv_sample[0])\n",
    "print(mutation_loci_transposed[828])"
   ]
  },
  {
   "cell_type": "code",
   "execution_count": null,
   "metadata": {},
   "outputs": [],
   "source": []
  },
  {
   "cell_type": "code",
   "execution_count": null,
   "metadata": {},
   "outputs": [],
   "source": []
  },
  {
   "cell_type": "markdown",
   "metadata": {},
   "source": [
    "# 👉👉👉 いまここ 👈👈👈"
   ]
  },
  {
   "cell_type": "code",
   "execution_count": null,
   "metadata": {},
   "outputs": [],
   "source": []
  },
  {
   "attachments": {},
   "cell_type": "markdown",
   "metadata": {},
   "source": [
    "# 👌👌👌 まとめ 👌👌👌\n"
   ]
  },
  {
   "attachments": {},
   "cell_type": "markdown",
   "metadata": {},
   "source": [
    "- `_transpose_mutation_loci`のバグを修正しました\n",
    "    - `loci.add({})`が`TypeError: unhashable type: 'dict'`を引き起こしていました\n",
    "    - こちらの一行は必要がなかったので削除しました\n",
    "- Generatorの変更は特に行っていませんが、いまのところメモリ的には問題なさそうな気がします…"
   ]
  },
  {
   "attachments": {},
   "cell_type": "markdown",
   "metadata": {},
   "source": [
    "# 次に取り組むこと"
   ]
  },
  {
   "attachments": {},
   "cell_type": "markdown",
   "metadata": {},
   "source": [
    "- できるかぎりGeneratorで返すようにします\n",
    "    - ✅ `calc_midsv`\n",
    "    - ✅ `extract_mutation_loci`\n",
    "    - ⬜ `correct_sequence_error`\n",
    "    - ⬜ `classify`\n",
    "    - ⬜ `clustaring`\n",
    "    - ⬜ `consensus`\n",
    "    - ⬜ `report`\n",
    "\n",
    "### Lists\n",
    "\n",
    "+ GUIの見栄え\n",
    "+ igv.jsの起動\n",
    "+ VCFによる長鎖挿入・欠失情報の付与\n",
    "+ Figの作成\n",
    "+ ⬜ Insertionのなかにある変異を同定する手法を考案する\n",
    "+ ⬜ Ayabe-taks1のright_loxpがいまいちな理由を考察する\n",
    "+ ✅ 断端リードの扱いをどうするべきか\n",
    "+ ✅ `SV`の判定をconsensus callのあとにする\n",
    "+ ✅ Tyrの動作確認\n",
    "+ ✅ ayabe-task1のleft/right-loxpの検出\n",
    "+ ✅ mutation_lociをpreprocessで使用したものに変更する\n",
    "> + ⬜ `preprocess.correct_sequence_error.replace_atmark`のコードがわかりにくい\n",
    "    + テストを用意してリファクタリングする"
   ]
  },
  {
   "cell_type": "markdown",
   "metadata": {},
   "source": []
  }
 ],
 "metadata": {
  "kernelspec": {
   "display_name": "DAJIN2",
   "language": "python",
   "name": "python3"
  },
  "language_info": {
   "codemirror_mode": {
    "name": "ipython",
    "version": 3
   },
   "file_extension": ".py",
   "mimetype": "text/x-python",
   "name": "python",
   "nbconvert_exporter": "python",
   "pygments_lexer": "ipython3",
   "version": "3.10.6"
  },
  "orig_nbformat": 4,
  "vscode": {
   "interpreter": {
    "hash": "58e3ac748e2e63e6aff7f855a7cc6c53d89e428d446591c0d70cbd0714d60e27"
   }
  }
 },
 "nbformat": 4,
 "nbformat_minor": 2
}
